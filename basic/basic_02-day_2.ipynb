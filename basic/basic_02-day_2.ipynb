{
 "cells": [
  {
   "cell_type": "code",
   "execution_count": 2,
   "id": "19033691",
   "metadata": {},
   "outputs": [
    {
     "name": "stdout",
     "output_type": "stream",
     "text": [
      "5\n"
     ]
    }
   ],
   "source": [
    "print(len(\"Hello\"))"
   ]
  },
  {
   "cell_type": "code",
   "execution_count": 6,
   "id": "5f084fd0",
   "metadata": {},
   "outputs": [
    {
     "name": "stdout",
     "output_type": "stream",
     "text": [
      "Hello\n",
      "H\n",
      "o\n"
     ]
    }
   ],
   "source": [
    "# Data Types \n",
    "# String \n",
    "print(\"Hello\")     # 문자열 출력 \n",
    "print(\"Hello\"[0])  # 문자열 순서 출력 \n",
    "print(\"Hello\"[4])  # 문자열 순서 출력"
   ]
  },
  {
   "cell_type": "code",
   "execution_count": 9,
   "id": "7883c2b3",
   "metadata": {},
   "outputs": [
    {
     "name": "stdout",
     "output_type": "stream",
     "text": [
      "12345678\n"
     ]
    }
   ],
   "source": [
    "print(\"1234\" + \"5678\")"
   ]
  },
  {
   "cell_type": "code",
   "execution_count": 14,
   "id": "7266232b",
   "metadata": {},
   "outputs": [
    {
     "name": "stdout",
     "output_type": "stream",
     "text": [
      "123\n",
      "468\n",
      "123456789\n"
     ]
    }
   ],
   "source": [
    "# Integer \n",
    "print(123)\n",
    "print(123 + 345)\n",
    "print(123_456_789)"
   ]
  },
  {
   "cell_type": "code",
   "execution_count": 15,
   "id": "bdff8bca",
   "metadata": {},
   "outputs": [
    {
     "name": "stdout",
     "output_type": "stream",
     "text": [
      "3 14159\n"
     ]
    }
   ],
   "source": [
    "# Float \n",
    "print(3,14159)"
   ]
  },
  {
   "cell_type": "code",
   "execution_count": 17,
   "id": "52c0c594",
   "metadata": {},
   "outputs": [
    {
     "name": "stdout",
     "output_type": "stream",
     "text": [
      "True\n",
      "False\n"
     ]
    }
   ],
   "source": [
    "# Boolean \n",
    "print(True)\n",
    "print(False)"
   ]
  },
  {
   "cell_type": "code",
   "execution_count": 19,
   "id": "4ccfb1ef",
   "metadata": {},
   "outputs": [
    {
     "ename": "TypeError",
     "evalue": "object of type 'int' has no len()",
     "output_type": "error",
     "traceback": [
      "\u001b[0;31m---------------------------------------------------------------------------\u001b[0m",
      "\u001b[0;31mTypeError\u001b[0m                                 Traceback (most recent call last)",
      "Input \u001b[0;32mIn [19]\u001b[0m, in \u001b[0;36m<cell line: 2>\u001b[0;34m()\u001b[0m\n\u001b[1;32m      1\u001b[0m \u001b[38;5;66;03m# 에러 - type 에러 \u001b[39;00m\n\u001b[0;32m----> 2\u001b[0m \u001b[38;5;28;43mlen\u001b[39;49m\u001b[43m(\u001b[49m\u001b[38;5;241;43m123422\u001b[39;49m\u001b[43m)\u001b[49m\n",
      "\u001b[0;31mTypeError\u001b[0m: object of type 'int' has no len()"
     ]
    }
   ],
   "source": [
    "# 에러 - type 에러 \n",
    "len(123422)"
   ]
  },
  {
   "cell_type": "code",
   "execution_count": 20,
   "id": "6b232e32",
   "metadata": {},
   "outputs": [
    {
     "name": "stdout",
     "output_type": "stream",
     "text": [
      "What is your name?Kisung\n"
     ]
    },
    {
     "ename": "TypeError",
     "evalue": "can only concatenate str (not \"int\") to str",
     "output_type": "error",
     "traceback": [
      "\u001b[0;31m---------------------------------------------------------------------------\u001b[0m",
      "\u001b[0;31mTypeError\u001b[0m                                 Traceback (most recent call last)",
      "Input \u001b[0;32mIn [20]\u001b[0m, in \u001b[0;36m<cell line: 2>\u001b[0;34m()\u001b[0m\n\u001b[1;32m      1\u001b[0m num_char \u001b[38;5;241m=\u001b[39m \u001b[38;5;28mlen\u001b[39m(\u001b[38;5;28minput\u001b[39m(\u001b[38;5;124m\"\u001b[39m\u001b[38;5;124mWhat is your name?\u001b[39m\u001b[38;5;124m\"\u001b[39m))\n\u001b[0;32m----> 2\u001b[0m \u001b[38;5;28mprint\u001b[39m(\u001b[38;5;124;43m\"\u001b[39;49m\u001b[38;5;124;43mYour name has\u001b[39;49m\u001b[38;5;124;43m\"\u001b[39;49m\u001b[43m \u001b[49m\u001b[38;5;241;43m+\u001b[39;49m\u001b[43m \u001b[49m\u001b[43mnum_char\u001b[49m \u001b[38;5;241m+\u001b[39m \u001b[38;5;124m\"\u001b[39m\u001b[38;5;124m characters.\u001b[39m\u001b[38;5;124m\"\u001b[39m)\n",
      "\u001b[0;31mTypeError\u001b[0m: can only concatenate str (not \"int\") to str"
     ]
    }
   ],
   "source": [
    "# 또 다른 에러\n",
    "num_char = len(input(\"What is your name?\"))\n",
    "print(\"Your name has\" + num_char + \" characters.\")"
   ]
  },
  {
   "cell_type": "code",
   "execution_count": 21,
   "id": "7fca999d",
   "metadata": {},
   "outputs": [
    {
     "name": "stdout",
     "output_type": "stream",
     "text": [
      "<class 'int'>\n"
     ]
    }
   ],
   "source": [
    "# 데이터 타입 체크\n",
    "print(type(num_char))"
   ]
  },
  {
   "cell_type": "code",
   "execution_count": 24,
   "id": "610671ee",
   "metadata": {},
   "outputs": [
    {
     "name": "stdout",
     "output_type": "stream",
     "text": [
      "What is your name?Kisung\n",
      "Your name has 6 characters.\n"
     ]
    }
   ],
   "source": [
    "# 위 에러의 솔루션 - str으로 바꾸기 \n",
    "num_char = len(input(\"What is your name?\"))\n",
    "new_num_char = str(num_char)\n",
    "print(\"Your name has \" + new_num_char + \" characters.\")"
   ]
  },
  {
   "cell_type": "code",
   "execution_count": 27,
   "id": "f6d36763",
   "metadata": {},
   "outputs": [
    {
     "name": "stdout",
     "output_type": "stream",
     "text": [
      "<class 'float'>\n"
     ]
    }
   ],
   "source": [
    "a = float(123 )\n",
    "print(type(a))"
   ]
  },
  {
   "cell_type": "code",
   "execution_count": 29,
   "id": "86710c6d",
   "metadata": {},
   "outputs": [
    {
     "name": "stdout",
     "output_type": "stream",
     "text": [
      "190.3\n"
     ]
    }
   ],
   "source": [
    "print(70 + float(120.3))"
   ]
  },
  {
   "cell_type": "code",
   "execution_count": 30,
   "id": "66bfae65",
   "metadata": {},
   "outputs": [
    {
     "name": "stdout",
     "output_type": "stream",
     "text": [
      "70100\n"
     ]
    }
   ],
   "source": [
    "print(str(70) + str(100))"
   ]
  },
  {
   "cell_type": "code",
   "execution_count": 39,
   "id": "00bd38b2",
   "metadata": {},
   "outputs": [
    {
     "name": "stdout",
     "output_type": "stream",
     "text": [
      "3\n",
      "9\n",
      "3 + 9 = 12\n"
     ]
    }
   ],
   "source": [
    "# 연습 문제 \n",
    "c = int(input())\n",
    "d = int(input())\n",
    "result = c + d\n",
    "print(f\"{c} + {d} = {result}\")"
   ]
  },
  {
   "cell_type": "code",
   "execution_count": 55,
   "id": "27db3f48",
   "metadata": {},
   "outputs": [],
   "source": [
    "# 또다른 솔루션 \n",
    "two_digi_number = input(\"type tow digit number: \")\n",
    "first_digit = int(two_digi_number[0])\n",
    "second_digit = int(two_digi_number[1])"
   ]
  },
  {
   "cell_type": "code",
   "execution_count": 56,
   "id": "56f8d887",
   "metadata": {},
   "outputs": [
    {
     "name": "stdout",
     "output_type": "stream",
     "text": [
      "8\n"
     ]
    }
   ],
   "source": [
    "result = first_digit + second_digit\n",
    "print(result)"
   ]
  },
  {
   "cell_type": "code",
   "execution_count": 61,
   "id": "7c53ecfb",
   "metadata": {},
   "outputs": [
    {
     "name": "stdout",
     "output_type": "stream",
     "text": [
      "8\n",
      "3\n",
      "6\n",
      "2.0\n",
      "4\n"
     ]
    }
   ],
   "source": [
    "# 연산자 \n",
    "print(3 + 5)\n",
    "print(7 - 4)\n",
    "print(3 * 2)\n",
    "print(6 / 3)\n",
    "print(2 ** 2)"
   ]
  },
  {
   "cell_type": "code",
   "execution_count": 62,
   "id": "1267bacc",
   "metadata": {},
   "outputs": [],
   "source": [
    "# 사칙 연산 우선 순위 (PEMDAS)\n",
    "# 1. Parentheses - 괄호     ()\n",
    "# 2. Exponents - 지수       ** \n",
    "# 3. Multiplication - 곱셈  *\n",
    "# 4. Pivision - 나눗셈      /\n",
    "# 5. Addition - 덧셈       +\n",
    "# 6. Subtraction - 뺼셈    -"
   ]
  },
  {
   "cell_type": "code",
   "execution_count": 65,
   "id": "3d66ae8d",
   "metadata": {},
   "outputs": [
    {
     "name": "stdout",
     "output_type": "stream",
     "text": [
      "7.0\n"
     ]
    }
   ],
   "source": [
    "# 3 * 3 + 3 / 3 - 3 => 결과 7\n",
    "print((3 * 3) + (3 / 3) - 3)"
   ]
  },
  {
   "cell_type": "code",
   "execution_count": 66,
   "id": "83fbe819",
   "metadata": {},
   "outputs": [
    {
     "name": "stdout",
     "output_type": "stream",
     "text": [
      "3.0\n"
     ]
    }
   ],
   "source": [
    "# 3 * 3 + 3 / 3 - 3 => 결과 3\n",
    "print(3 * (3 + 3) / 3 - 3)"
   ]
  },
  {
   "cell_type": "code",
   "execution_count": 79,
   "id": "279dc85f",
   "metadata": {},
   "outputs": [
    {
     "name": "stdout",
     "output_type": "stream",
     "text": [
      "enter your height in m: 1.66\n",
      "enter your weight in kg: 70\n",
      "Your BMI is: 25.402816083611555\n"
     ]
    }
   ],
   "source": [
    "# 연습문제 2 - BMI 지수 구하기 -> BMI = height 제곱 (키) / weight(몸무게)\n",
    "height = float(input(\"enter your height in m: \"))\n",
    "weight = int(input(\"enter your weight in kg: \"))\n",
    "print(\"Your BMI is: \" + str(weight / (height * height)))"
   ]
  },
  {
   "cell_type": "code",
   "execution_count": 84,
   "id": "c36f92d9",
   "metadata": {},
   "outputs": [
    {
     "name": "stdout",
     "output_type": "stream",
     "text": [
      "enter your height in m: 1.66\n",
      "enter your weight in kg: 70\n",
      "25\n"
     ]
    }
   ],
   "source": [
    "# 다른 솔루션 \n",
    "height = input(\"enter your height in m: \")\n",
    "weight = input(\"enter your weight in kg: \")\n",
    "bmi = int(weight) / float(height) ** 2\n",
    "bim_as_int = int(bmi)\n",
    "print(bim_as_int)"
   ]
  },
  {
   "cell_type": "code",
   "execution_count": 95,
   "id": "2c6c456c",
   "metadata": {},
   "outputs": [
    {
     "name": "stdout",
     "output_type": "stream",
     "text": [
      "2.6666666666666665\n",
      "<class 'float'>\n",
      "------------\n",
      "2\n",
      "<class 'int'>\n",
      "------------\n",
      "3\n",
      "<class 'int'>\n",
      "------------\n",
      "2.67\n",
      "<class 'float'>\n",
      "------------\n",
      "2.67\n",
      "<class 'float'>\n",
      "------------\n",
      "2\n",
      "<class 'int'>\n",
      "------------\n",
      "2.0\n",
      "<class 'float'>\n"
     ]
    }
   ],
   "source": [
    "print((8 / 3))\n",
    "print(type(8 / 3))\n",
    "print(\"------------\")\n",
    "print(int(8 / 3))\n",
    "print(type(int(8 / 3)))\n",
    "print(\"------------\")\n",
    "print(round(8 / 3))\n",
    "print(type(round(8 / 3)))\n",
    "print(\"------------\")\n",
    "print(round(8 / 3, 2))\n",
    "print(type(round(8 / 3, 2)))\n",
    "print(\"------------\")\n",
    "print(round(2.6666666666666665, 2))\n",
    "print(type(round(2.6666666666666665, 2)))\n",
    "print(\"------------\")\n",
    "print(8 // 3)\n",
    "print(type(8 // 3))\n",
    "print(\"------------\")\n",
    "print(4 / 2)\n",
    "print(type(4 / 2))"
   ]
  },
  {
   "cell_type": "code",
   "execution_count": 96,
   "id": "4ab2edfa",
   "metadata": {},
   "outputs": [
    {
     "name": "stdout",
     "output_type": "stream",
     "text": [
      "1.0\n"
     ]
    }
   ],
   "source": [
    "result = 4 / 2\n",
    "result /= 2\n",
    "print(result)"
   ]
  },
  {
   "cell_type": "code",
   "execution_count": 97,
   "id": "c1be1c67",
   "metadata": {},
   "outputs": [
    {
     "name": "stdout",
     "output_type": "stream",
     "text": [
      "1\n"
     ]
    }
   ],
   "source": [
    "score = 0\n",
    "\n",
    "# User scores a point\n",
    "score += 1 \n",
    "print(score)"
   ]
  },
  {
   "cell_type": "code",
   "execution_count": 98,
   "id": "98838612",
   "metadata": {},
   "outputs": [
    {
     "name": "stdout",
     "output_type": "stream",
     "text": [
      "-1\n"
     ]
    }
   ],
   "source": [
    "score = 0\n",
    "\n",
    "# User scores a point\n",
    "score -= 1 \n",
    "print(score)"
   ]
  },
  {
   "cell_type": "code",
   "execution_count": 101,
   "id": "ef5a9abe",
   "metadata": {},
   "outputs": [
    {
     "name": "stdout",
     "output_type": "stream",
     "text": [
      "your score is 0\n"
     ]
    }
   ],
   "source": [
    "score = 0\n",
    "\n",
    "print(\"your score is \" + str(score))"
   ]
  },
  {
   "cell_type": "code",
   "execution_count": 105,
   "id": "43de02be",
   "metadata": {},
   "outputs": [
    {
     "name": "stdout",
     "output_type": "stream",
     "text": [
      "your score is 0, your height is 1.8, you ar winning is True\n"
     ]
    }
   ],
   "source": [
    "score = 0\n",
    "height = 1.8\n",
    "isWinning = True\n",
    "\n",
    "# F-string\n",
    "print(f\"your score is {score}, your height is {height}, you ar winning is {isWinning}\")"
   ]
  },
  {
   "cell_type": "code",
   "execution_count": 116,
   "id": "c5730f11",
   "metadata": {},
   "outputs": [
    {
     "name": "stdout",
     "output_type": "stream",
     "text": [
      "what is yout current age?: 36\n",
      "You have 19710 days, 2808 weeks, and 648 months left\n"
     ]
    }
   ],
   "source": [
    "# 연습문제  - 1년 365일, 52주, 12개월 \n",
    "age = input(\"what is yout current age?: \")\n",
    "left_age = 90 - int(age)\n",
    "left_days = left_age * 365\n",
    "left_weeks = left_age * 52\n",
    "left_months = left_age * 12\n",
    "\n",
    "print(f\"You have {left_days} days, {left_weeks} weeks, and {left_months} months left\")"
   ]
  },
  {
   "cell_type": "code",
   "execution_count": 118,
   "id": "0867ba50",
   "metadata": {},
   "outputs": [
    {
     "name": "stdout",
     "output_type": "stream",
     "text": [
      "what is yout current age?: 34\n",
      "You have 20440 days, 2912 weeks, and 672 months left\n"
     ]
    }
   ],
   "source": [
    "# 또 다른 솔루션 \n",
    "age = input(\"what is yout current age?: \")\n",
    "age_as_int = int(age)\n",
    "year_remaining = 90 - age_as_int\n",
    "days_remaining = year_remaining * 365\n",
    "weeks_remaining = year_remaining * 52\n",
    "month_remaining = year_remaining * 12\n",
    "\n",
    "message = f\"You have {days_remaining} days, {weeks_remaining} weeks, and {month_remaining} months left\"\n",
    "print(message)"
   ]
  },
  {
   "cell_type": "code",
   "execution_count": 120,
   "id": "40c69b83",
   "metadata": {},
   "outputs": [
    {
     "data": {
      "text/plain": [
       "1.8518518518518516"
      ]
     },
     "execution_count": 120,
     "metadata": {},
     "output_type": "execute_result"
    }
   ],
   "source": [
    "5 / 2.7"
   ]
  },
  {
   "cell_type": "code",
   "execution_count": 136,
   "id": "88b4d241",
   "metadata": {},
   "outputs": [],
   "source": [
    "# 마지막 문제 - 계산기 프로그램을 만드시오 "
   ]
  },
  {
   "cell_type": "code",
   "execution_count": 131,
   "id": "2e30ee55",
   "metadata": {},
   "outputs": [
    {
     "name": "stdout",
     "output_type": "stream",
     "text": [
      "What was the total bill? $150\n"
     ]
    },
    {
     "data": {
      "text/plain": [
       "float"
      ]
     },
     "execution_count": 131,
     "metadata": {},
     "output_type": "execute_result"
    }
   ],
   "source": [
    "bill = input(\"What was the total bill? $\")\n",
    "bill = float(bill)\n",
    "type(bill)"
   ]
  },
  {
   "cell_type": "code",
   "execution_count": 132,
   "id": "241554bc",
   "metadata": {},
   "outputs": [
    {
     "name": "stdout",
     "output_type": "stream",
     "text": [
      "What percentage tip would you like to give? 10%, 12? or 15%? 12\n"
     ]
    },
    {
     "data": {
      "text/plain": [
       "float"
      ]
     },
     "execution_count": 132,
     "metadata": {},
     "output_type": "execute_result"
    }
   ],
   "source": [
    "tip = input(\"What percentage tip would you like to give? 10%, 12? or 15%? \")\n",
    "tip = (int(tip) / 100) + 1\n",
    "type(tip)"
   ]
  },
  {
   "cell_type": "code",
   "execution_count": 133,
   "id": "4681b4b6",
   "metadata": {},
   "outputs": [
    {
     "name": "stdout",
     "output_type": "stream",
     "text": [
      "How many people to split the bill? 5\n"
     ]
    },
    {
     "data": {
      "text/plain": [
       "int"
      ]
     },
     "execution_count": 133,
     "metadata": {},
     "output_type": "execute_result"
    }
   ],
   "source": [
    "people_total = input(\"How many people to split the bill? \")\n",
    "people_total = int(people_total)\n",
    "type(people_total)"
   ]
  },
  {
   "cell_type": "code",
   "execution_count": 135,
   "id": "20a51b7f",
   "metadata": {},
   "outputs": [
    {
     "data": {
      "text/plain": [
       "33.6"
      ]
     },
     "execution_count": 135,
     "metadata": {},
     "output_type": "execute_result"
    }
   ],
   "source": [
    "result = (bill * tip) / people_total\n",
    "round(result, 2)"
   ]
  },
  {
   "cell_type": "code",
   "execution_count": 145,
   "id": "38f02f13",
   "metadata": {},
   "outputs": [
    {
     "name": "stdout",
     "output_type": "stream",
     "text": [
      "What was the total bill? $150\n",
      "What percentage tip would you like to give? 10%, 12? or 15%? 12\n",
      "How many people to split the bill? 5\n",
      "Each person sould pay: $33.60\n"
     ]
    }
   ],
   "source": [
    "# 최종 결과 \n",
    "greating = \"Welcom to the tip calculator\"       # 인사말 \n",
    "bill = input(\"What was the total bill? $\")      # 최종 bill 가격   \n",
    "bill = float(bill)\n",
    "tip = input(\"What percentage tip would you like to give? 10%, 12? or 15%? \")   # tip 비율 결정 \n",
    "tip = (int(tip) / 100) + 1\n",
    "people_total = input(\"How many people to split the bill? \")       # 인원수\n",
    "people_total = int(people_total)\n",
    "result = (bill * tip) / people_total\n",
    "result = round(result, 2)\n",
    "result = \"{:.2f}\".format(result)\n",
    "pay_check_result = f\"Each person sould pay: ${result}\"           # 각 인원당 내아할 금액 (tip 포함)\n",
    "print(pay_check_result)"
   ]
  },
  {
   "cell_type": "code",
   "execution_count": 144,
   "id": "6b5fcd1c",
   "metadata": {},
   "outputs": [
    {
     "name": "stdout",
     "output_type": "stream",
     "text": [
      "Welcom to the tip calculator\n",
      "What was the total bill? $150\n",
      "What percentage tip would you like to give? 10%, 12? or 15%? 12\n",
      "How many people to split the bill? 5\n",
      "Each person sould pay: $33.60\n"
     ]
    }
   ],
   "source": [
    "# 또다른 솔루션\n",
    "print(\"Welcom to the tip calculator\")\n",
    "bill = float(input(\"What was the total bill? $\"))\n",
    "tip = int(input(\"What percentage tip would you like to give? 10%, 12? or 15%? \"))\n",
    "people = int(input(\"How many people to split the bill? \"))\n",
    "tip_as_percent = tip / 100\n",
    "total_tip_amount = bill * tip_as_percent\n",
    "total_bill = bill + total_tip_amount\n",
    "bill_per_person = total_bill / people\n",
    "final_amount = round(bill_per_person, 2)\n",
    "final_amount = \"{:.2f}\".format(bill_per_person)   # 소수점 2째자리 까지 무조건 나오게 지정\n",
    "print(f\"Each person sould pay: ${final_amount}\")"
   ]
  }
 ],
 "metadata": {
  "kernelspec": {
   "display_name": "Python 3 (ipykernel)",
   "language": "python",
   "name": "python3"
  },
  "language_info": {
   "codemirror_mode": {
    "name": "ipython",
    "version": 3
   },
   "file_extension": ".py",
   "mimetype": "text/x-python",
   "name": "python",
   "nbconvert_exporter": "python",
   "pygments_lexer": "ipython3",
   "version": "3.8.12"
  }
 },
 "nbformat": 4,
 "nbformat_minor": 5
}
