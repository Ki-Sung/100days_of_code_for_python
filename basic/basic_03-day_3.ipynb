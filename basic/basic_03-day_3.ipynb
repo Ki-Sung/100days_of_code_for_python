{
 "cells": [
  {
   "cell_type": "code",
   "execution_count": null,
   "id": "0daaa334",
   "metadata": {},
   "outputs": [],
   "source": [
    "# 조건문 구조 \n",
    "if condition:\n",
    "    do this \n",
    "else:\n",
    "    do this"
   ]
  },
  {
   "cell_type": "code",
   "execution_count": 1,
   "id": "4dd2c8b7",
   "metadata": {},
   "outputs": [],
   "source": [
    "water_level = 50"
   ]
  },
  {
   "cell_type": "code",
   "execution_count": 2,
   "id": "469fcdaf",
   "metadata": {},
   "outputs": [
    {
     "name": "stdout",
     "output_type": "stream",
     "text": [
      "Continue\n"
     ]
    }
   ],
   "source": [
    "if water_level > 80:\n",
    "    print(\"Drain Water\")\n",
    "else:\n",
    "    print(\"Continue\")"
   ]
  },
  {
   "cell_type": "code",
   "execution_count": 4,
   "id": "6a61c0c3",
   "metadata": {},
   "outputs": [
    {
     "name": "stdout",
     "output_type": "stream",
     "text": [
      "120\n",
      "Can't Ride, Please go back\n"
     ]
    }
   ],
   "source": [
    "height = int(input())\n",
    "if height > 120:\n",
    "    print(\"Can ride, Let's go\")\n",
    "else:\n",
    "    print(\"Can't Ride, Please go back\")"
   ]
  },
  {
   "cell_type": "code",
   "execution_count": 5,
   "id": "352f591a",
   "metadata": {},
   "outputs": [
    {
     "name": "stdout",
     "output_type": "stream",
     "text": [
      "Welcome to the rollercoaster!!\n",
      "What is yout height in cm? 120\n",
      "You can ride the rollercoaster!\n"
     ]
    }
   ],
   "source": [
    "print(\"Welcome to the rollercoaster!!\")\n",
    "height = int(input(\"What is yout height in cm? \"))\n",
    "\n",
    "if height >= 120:\n",
    "    print(\"You can ride the rollercoaster!\")\n",
    "else:\n",
    "    print(\"Sorry, you have to grow taller before you can ride.\")"
   ]
  },
  {
   "cell_type": "code",
   "execution_count": 6,
   "id": "715cbd56",
   "metadata": {},
   "outputs": [
    {
     "name": "stdout",
     "output_type": "stream",
     "text": [
      "Which number do you want to check? 94\n",
      "This is an even number\n"
     ]
    }
   ],
   "source": [
    "# execercise 1\n",
    "number = int(input(\"Which number do you want to check? \"))\n",
    "\n",
    "if number % 2 == 0:\n",
    "    print(\"This is an even number\")\n",
    "else:\n",
    "    print(\"This is an odd number\")"
   ]
  },
  {
   "cell_type": "code",
   "execution_count": 7,
   "id": "de73b4ee",
   "metadata": {},
   "outputs": [
    {
     "name": "stdout",
     "output_type": "stream",
     "text": [
      "Welcome to the rollercoaster!!\n",
      "What is yout height in cm? 130\n",
      "You can ride the rollercoaster!\n",
      "what is your age? 12\n",
      "Plese pay $7\n"
     ]
    }
   ],
   "source": [
    "print(\"Welcome to the rollercoaster!!\")\n",
    "height = int(input(\"What is yout height in cm? \"))\n",
    "\n",
    "if height >= 120:\n",
    "    print(\"You can ride the rollercoaster!\")\n",
    "    \n",
    "    age = int(input(\"what is your age? \"))\n",
    "    \n",
    "    if age < 12:\n",
    "        print(\"Plese pay $5\")\n",
    "    elif age <= 18:\n",
    "        print(\"Plese pay $7\")\n",
    "    else:\n",
    "        print(\"Plese pay $12\")\n",
    "    \n",
    "else:\n",
    "    print(\"Sorry, you have to grow taller before you can ride.\")"
   ]
  },
  {
   "cell_type": "code",
   "execution_count": 8,
   "id": "11fc922b",
   "metadata": {},
   "outputs": [
    {
     "name": "stdout",
     "output_type": "stream",
     "text": [
      "enter your height in m: 1.66\n",
      "enter your weight in kg: 70\n",
      "your bmi is 25\n",
      "you are overweight\n"
     ]
    }
   ],
   "source": [
    "# execercise 2 - upgrade coucurate bmi\n",
    "height = float(input(\"enter your height in m: \"))\n",
    "weight = float(input(\"enter your weight in kg: \"))\n",
    "\n",
    "bmi = int(weight) / float(height) ** 2\n",
    "bmi_result = str(int(bmi))\n",
    "print(\"your bmi is \" + bmi_result)\n",
    "bmi_result = int(bmi)\n",
    "\n",
    "if bmi_result < 18.5:\n",
    "    print(\"you are underweight\")\n",
    "elif bmi_result < 25:\n",
    "    print(\"you are normalweight\")\n",
    "elif bmi_result < 30:\n",
    "    print(\"you are overweight\")\n",
    "elif bmi_result < 35:\n",
    "    print(\"you are obese\")\n",
    "else:\n",
    "    print(\"your are clinically obese\")"
   ]
  },
  {
   "cell_type": "code",
   "execution_count": 35,
   "id": "db7815cd",
   "metadata": {},
   "outputs": [
    {
     "name": "stdout",
     "output_type": "stream",
     "text": [
      "enter your height in m: 1.66\n",
      "enter your weight in kg: 70\n",
      "Your bim is 25, you are overweight\n"
     ]
    }
   ],
   "source": [
    "# execercise 2 - other way \n",
    "height = float(input(\"enter your height in m: \"))\n",
    "weight = float(input(\"enter your weight in kg: \"))\n",
    "\n",
    "bmi = round(weight / height ** 2)\n",
    "\n",
    "if bmi_result < 18.5:\n",
    "    print(f\"Your bim is {bmi}, you are underweight\")\n",
    "elif bmi_result < 25:\n",
    "    print(f\"Your bim is {bmi}, you are normalweight\")\n",
    "elif bmi_result < 30:\n",
    "    print(f\"Your bim is {bmi}, you are overweight\")\n",
    "elif bmi_result < 35:\n",
    "    print(f\"Your bim is {bmi}, you are obese\")\n",
    "else:\n",
    "    print(f\"Your bim is {bmi}, your are clinically obese\")\n"
   ]
  },
  {
   "cell_type": "markdown",
   "id": "f8a65f2d",
   "metadata": {},
   "source": [
    "- 운년 계산법 url : https://m.blog.naver.com/psalm0129/220888094653"
   ]
  },
  {
   "cell_type": "code",
   "execution_count": 9,
   "id": "e35133c3",
   "metadata": {},
   "outputs": [
    {
     "name": "stdout",
     "output_type": "stream",
     "text": [
      "Which year do you want to check? 2023\n",
      "It's not leap year\n"
     ]
    }
   ],
   "source": [
    "# execercise 3\n",
    "year = year = int(input(\"Which year do you want to check? \"))\n",
    "\n",
    "if year % 4 == 0 and year % 100 != 0:\n",
    "    print(\"It's leap year\")\n",
    "elif year % 4 == 0 and year % 100 == 0 and year % 400 == 0:\n",
    "    print(\"It's leap year\")\n",
    "else:\n",
    "    print(\"It's not leap year\")"
   ]
  },
  {
   "cell_type": "code",
   "execution_count": 10,
   "id": "41073ff5",
   "metadata": {},
   "outputs": [
    {
     "name": "stdout",
     "output_type": "stream",
     "text": [
      "Which year do you want to check? 2023\n",
      "Not a leap year\n"
     ]
    }
   ],
   "source": [
    "# execercise 3 - other way \n",
    "year = year = int(input(\"Which year do you want to check? \"))\n",
    "\n",
    "if year % 4 == 0:\n",
    "    if year % 100 == 0:\n",
    "        if year % 400 == 0:\n",
    "            print(\"Leap year\")\n",
    "        else:\n",
    "            print(\"Not leap year\")\n",
    "    else:\n",
    "        print(\"Leap year\")\n",
    "else:\n",
    "    print(\"Not a leap year\")"
   ]
  },
  {
   "cell_type": "code",
   "execution_count": null,
   "id": "5ce7d1f6",
   "metadata": {},
   "outputs": [],
   "source": [
    "# multiple if \n",
    "if condition1:\n",
    "    do A \n",
    "if condition1:\n",
    "    do B\n",
    "if condition1:\n",
    "    do C "
   ]
  },
  {
   "cell_type": "code",
   "execution_count": 14,
   "id": "f7fa4472",
   "metadata": {},
   "outputs": [
    {
     "name": "stdout",
     "output_type": "stream",
     "text": [
      "Welcome to the rollercoaster!!\n",
      "What is yout height in cm? 166\n",
      "You can ride the rollercoaster!\n",
      "what is your age? 35\n",
      "Adult tickets are $12\n",
      "Do you want a photo taken? Yes or No Yes\n",
      "Your are final is $15\n"
     ]
    }
   ],
   "source": [
    "print(\"Welcome to the rollercoaster!!\")\n",
    "height = int(input(\"What is yout height in cm? \"))\n",
    "bill = 0\n",
    "\n",
    "if height >= 120:\n",
    "    print(\"You can ride the rollercoaster!\")\n",
    "    \n",
    "    age = int(input(\"what is your age? \"))\n",
    "    \n",
    "    if age < 12:\n",
    "        bill = 5\n",
    "        print(\"Child tickets are $5\")\n",
    "    elif age <= 18:\n",
    "        bill = 7\n",
    "        print(\"Your tickets are $7\")\n",
    "    else:\n",
    "        bill = 12\n",
    "        print(\"Adult tickets are $12\")\n",
    "    \n",
    "    wants_photo = input(\"Do you want a photo taken? Yes or No \")\n",
    "    \n",
    "    if wants_photo == \"Yes\":\n",
    "        # ADD $3 their bill \n",
    "        bill += 3\n",
    "    \n",
    "    print(f\"Your are final is ${bill}\")\n",
    "    \n",
    "else:\n",
    "    print(\"Sorry, you have to grow taller before you can ride.\")"
   ]
  },
  {
   "cell_type": "code",
   "execution_count": 19,
   "id": "df2b3d3b",
   "metadata": {},
   "outputs": [
    {
     "name": "stdout",
     "output_type": "stream",
     "text": [
      "Welcome to Python Pizza Deliveries!\n",
      "What size pizza do you want? S, M, or L? S\n",
      "You order Small Pizza\n",
      "Do you want pepperoni? Yes or No? No\n",
      "Do you want extra cheese? Yes or No? No\n",
      "Your final bill is $15.\n"
     ]
    }
   ],
   "source": [
    "# execercise 4\n",
    "print(\"Welcome to Python Pizza Deliveries!\")\n",
    "size = input(\"What size pizza do you want? S, M, or L? \")\n",
    "bill = 0\n",
    "if size == \"S\":\n",
    "    bill = 15\n",
    "    print(\"You order Small Pizza\")\n",
    "elif size == \"M\":\n",
    "    bill = 20\n",
    "    print(\"You order Medium Pizza\")\n",
    "else:\n",
    "    bill = 25\n",
    "    print(\"You order Large Pizza\")\n",
    "    \n",
    "add_pepperoni = input(\"Do you want pepperoni? Yes or No? \")\n",
    "if add_pepperoni == \"Yes\":\n",
    "    bill += 2\n",
    "extra_cheese = input(\"Do you want extra cheese? Yes or No? \")\n",
    "if extra_cheese == \"Yes\":\n",
    "    bill += 1\n",
    "\n",
    "print(f'Your final bill is ${bill}.')"
   ]
  },
  {
   "cell_type": "code",
   "execution_count": 22,
   "id": "dd9f8abd",
   "metadata": {},
   "outputs": [
    {
     "name": "stdout",
     "output_type": "stream",
     "text": [
      "Welcome to Python Pizza Deliveries!\n",
      "What size pizza do you want? S, M, or L? M\n",
      "Do you want pepperoni? Y or N? Y\n",
      "Do you want extra cheese? Y or N? Y\n",
      "Your final bill is $24\n"
     ]
    }
   ],
   "source": [
    "# execercise 4 - Other way \n",
    "print(\"Welcome to Python Pizza Deliveries!\")\n",
    "size = input(\"What size pizza do you want? S, M, or L? \")\n",
    "add_pepperoni = input(\"Do you want pepperoni? Y or N? \")\n",
    "extra_cheese = input(\"Do you want extra cheese? Y or N? \")\n",
    "\n",
    "bill = 0\n",
    "\n",
    "if size == \"S\":\n",
    "    bill += 15\n",
    "elif size == \"M\":\n",
    "    bill += 20\n",
    "else:\n",
    "    bill += 25\n",
    "    \n",
    "if add_pepperoni == \"Y\":\n",
    "    if size == \"S\":\n",
    "        bill += 2\n",
    "    else:\n",
    "        bill += 3\n",
    "        \n",
    "if extra_cheese == \"Y\":\n",
    "    bill += 1\n",
    "    \n",
    "print(f\"Your final bill is ${bill}\")"
   ]
  }
 ],
 "metadata": {
  "kernelspec": {
   "display_name": "Python 3 (ipykernel)",
   "language": "python",
   "name": "python3"
  },
  "language_info": {
   "codemirror_mode": {
    "name": "ipython",
    "version": 3
   },
   "file_extension": ".py",
   "mimetype": "text/x-python",
   "name": "python",
   "nbconvert_exporter": "python",
   "pygments_lexer": "ipython3",
   "version": "3.8.12"
  }
 },
 "nbformat": 4,
 "nbformat_minor": 5
}
