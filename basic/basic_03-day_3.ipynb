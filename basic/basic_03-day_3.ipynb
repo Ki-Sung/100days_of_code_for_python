{
 "cells": [
  {
   "cell_type": "code",
   "execution_count": null,
   "id": "0daaa334",
   "metadata": {},
   "outputs": [],
   "source": [
    "# 조건문 구조 \n",
    "if condition:\n",
    "    do this \n",
    "else:\n",
    "    do this"
   ]
  },
  {
   "cell_type": "code",
   "execution_count": 1,
   "id": "4dd2c8b7",
   "metadata": {},
   "outputs": [],
   "source": [
    "water_level = 50"
   ]
  },
  {
   "cell_type": "code",
   "execution_count": 2,
   "id": "469fcdaf",
   "metadata": {},
   "outputs": [
    {
     "name": "stdout",
     "output_type": "stream",
     "text": [
      "Continue\n"
     ]
    }
   ],
   "source": [
    "if water_level > 80:\n",
    "    print(\"Drain Water\")\n",
    "else:\n",
    "    print(\"Continue\")"
   ]
  },
  {
   "cell_type": "code",
   "execution_count": 3,
   "id": "6a61c0c3",
   "metadata": {},
   "outputs": [
    {
     "name": "stdout",
     "output_type": "stream",
     "text": [
      "120\n",
      "Can't Ride, Please go back\n"
     ]
    }
   ],
   "source": [
    "height = int(input())\n",
    "if height > 120:\n",
    "    print(\"Can ride, Let's go\")\n",
    "else:\n",
    "    print(\"Can't Ride, Please go back\")"
   ]
  },
  {
   "cell_type": "code",
   "execution_count": 4,
   "id": "352f591a",
   "metadata": {},
   "outputs": [
    {
     "name": "stdout",
     "output_type": "stream",
     "text": [
      "Welcome to the rollercoaster!!\n",
      "What is yout height in cm? 120\n",
      "You can ride the rollercoaster!\n"
     ]
    }
   ],
   "source": [
    "print(\"Welcome to the rollercoaster!!\")\n",
    "height = int(input(\"What is yout height in cm? \"))\n",
    "\n",
    "if height >= 120:\n",
    "    print(\"You can ride the rollercoaster!\")\n",
    "else:\n",
    "    print(\"Sorry, you have to grow taller before you can ride.\")"
   ]
  },
  {
   "cell_type": "code",
   "execution_count": 5,
   "id": "715cbd56",
   "metadata": {},
   "outputs": [
    {
     "name": "stdout",
     "output_type": "stream",
     "text": [
      "Which number do you want to check? 94\n",
      "This is an even number\n"
     ]
    }
   ],
   "source": [
    "# execercise 1\n",
    "number = int(input(\"Which number do you want to check? \"))\n",
    "\n",
    "if number % 2 == 0:\n",
    "    print(\"This is an even number\")\n",
    "else:\n",
    "    print(\"This is an odd number\")"
   ]
  },
  {
   "cell_type": "code",
   "execution_count": 6,
   "id": "de73b4ee",
   "metadata": {},
   "outputs": [
    {
     "name": "stdout",
     "output_type": "stream",
     "text": [
      "Welcome to the rollercoaster!!\n",
      "What is yout height in cm? 130\n",
      "You can ride the rollercoaster!\n",
      "what is your age? 13\n",
      "Plese pay $7\n"
     ]
    }
   ],
   "source": [
    "print(\"Welcome to the rollercoaster!!\")\n",
    "height = int(input(\"What is yout height in cm? \"))\n",
    "\n",
    "if height >= 120:\n",
    "    print(\"You can ride the rollercoaster!\")\n",
    "    \n",
    "    age = int(input(\"what is your age? \"))\n",
    "    \n",
    "    if age < 12:\n",
    "        print(\"Plese pay $5\")\n",
    "    elif age <= 18:\n",
    "        print(\"Plese pay $7\")\n",
    "    else:\n",
    "        print(\"Plese pay $12\")\n",
    "    \n",
    "else:\n",
    "    print(\"Sorry, you have to grow taller before you can ride.\")"
   ]
  },
  {
   "cell_type": "code",
   "execution_count": 7,
   "id": "11fc922b",
   "metadata": {},
   "outputs": [
    {
     "name": "stdout",
     "output_type": "stream",
     "text": [
      "enter your height in m: 1.66\n",
      "enter your weight in kg: 70\n",
      "your bmi is 25\n",
      "you are overweight\n"
     ]
    }
   ],
   "source": [
    "# execercise 2 - upgrade coucurate bmi\n",
    "height = float(input(\"enter your height in m: \"))\n",
    "weight = float(input(\"enter your weight in kg: \"))\n",
    "\n",
    "bmi = int(weight) / float(height) ** 2\n",
    "bmi_result = str(int(bmi))\n",
    "print(\"your bmi is \" + bmi_result)\n",
    "bmi_result = int(bmi)\n",
    "\n",
    "if bmi_result < 18.5:\n",
    "    print(\"you are underweight\")\n",
    "elif bmi_result < 25:\n",
    "    print(\"you are normalweight\")\n",
    "elif bmi_result < 30:\n",
    "    print(\"you are overweight\")\n",
    "elif bmi_result < 35:\n",
    "    print(\"you are obese\")\n",
    "else:\n",
    "    print(\"your are clinically obese\")"
   ]
  },
  {
   "cell_type": "code",
   "execution_count": 8,
   "id": "db7815cd",
   "metadata": {},
   "outputs": [
    {
     "name": "stdout",
     "output_type": "stream",
     "text": [
      "enter your height in m: 1.66\n",
      "enter your weight in kg: 70\n",
      "Your bim is 25, you are overweight\n"
     ]
    }
   ],
   "source": [
    "# execercise 2 - other way \n",
    "height = float(input(\"enter your height in m: \"))\n",
    "weight = float(input(\"enter your weight in kg: \"))\n",
    "\n",
    "bmi = round(weight / height ** 2)\n",
    "\n",
    "if bmi_result < 18.5:\n",
    "    print(f\"Your bim is {bmi}, you are underweight\")\n",
    "elif bmi_result < 25:\n",
    "    print(f\"Your bim is {bmi}, you are normalweight\")\n",
    "elif bmi_result < 30:\n",
    "    print(f\"Your bim is {bmi}, you are overweight\")\n",
    "elif bmi_result < 35:\n",
    "    print(f\"Your bim is {bmi}, you are obese\")\n",
    "else:\n",
    "    print(f\"Your bim is {bmi}, your are clinically obese\")\n"
   ]
  },
  {
   "cell_type": "markdown",
   "id": "f8a65f2d",
   "metadata": {},
   "source": [
    "- 운년 계산법 url : https://m.blog.naver.com/psalm0129/220888094653"
   ]
  },
  {
   "cell_type": "code",
   "execution_count": 9,
   "id": "e35133c3",
   "metadata": {},
   "outputs": [
    {
     "name": "stdout",
     "output_type": "stream",
     "text": [
      "Which year do you want to check? 2023\n",
      "It's not leap year\n"
     ]
    }
   ],
   "source": [
    "# execercise 3\n",
    "year = year = int(input(\"Which year do you want to check? \"))\n",
    "\n",
    "if year % 4 == 0 and year % 100 != 0:\n",
    "    print(\"It's leap year\")\n",
    "elif year % 4 == 0 and year % 100 == 0 and year % 400 == 0:\n",
    "    print(\"It's leap year\")\n",
    "else:\n",
    "    print(\"It's not leap year\")"
   ]
  },
  {
   "cell_type": "code",
   "execution_count": 10,
   "id": "41073ff5",
   "metadata": {},
   "outputs": [
    {
     "name": "stdout",
     "output_type": "stream",
     "text": [
      "Which year do you want to check? 2023\n",
      "Not a leap year\n"
     ]
    }
   ],
   "source": [
    "# execercise 3 - other way \n",
    "year = year = int(input(\"Which year do you want to check? \"))\n",
    "\n",
    "if year % 4 == 0:\n",
    "    if year % 100 == 0:\n",
    "        if year % 400 == 0:\n",
    "            print(\"Leap year\")\n",
    "        else:\n",
    "            print(\"Not leap year\")\n",
    "    else:\n",
    "        print(\"Leap year\")\n",
    "else:\n",
    "    print(\"Not a leap year\")"
   ]
  },
  {
   "cell_type": "code",
   "execution_count": null,
   "id": "5ce7d1f6",
   "metadata": {},
   "outputs": [],
   "source": [
    "# multiple if \n",
    "if condition1:\n",
    "    do A \n",
    "if condition1:\n",
    "    do B\n",
    "if condition1:\n",
    "    do C "
   ]
  },
  {
   "cell_type": "code",
   "execution_count": 12,
   "id": "f7fa4472",
   "metadata": {},
   "outputs": [
    {
     "name": "stdout",
     "output_type": "stream",
     "text": [
      "Welcome to the rollercoaster!!\n",
      "What is yout height in cm? 166\n",
      "You can ride the rollercoaster!\n",
      "what is your age? 35\n",
      "Adult tickets are $12\n",
      "Do you want a photo taken? Yes or No Yes\n",
      "Your are final is $15\n"
     ]
    }
   ],
   "source": [
    "print(\"Welcome to the rollercoaster!!\")\n",
    "height = int(input(\"What is yout height in cm? \"))\n",
    "bill = 0\n",
    "\n",
    "if height >= 120:\n",
    "    print(\"You can ride the rollercoaster!\")\n",
    "    \n",
    "    age = int(input(\"what is your age? \"))\n",
    "    \n",
    "    if age < 12:\n",
    "        bill = 5\n",
    "        print(\"Child tickets are $5\")\n",
    "    elif age <= 18:\n",
    "        bill = 7\n",
    "        print(\"Your tickets are $7\")\n",
    "    else:\n",
    "        bill = 12\n",
    "        print(\"Adult tickets are $12\")\n",
    "    \n",
    "    wants_photo = input(\"Do you want a photo taken? Yes or No \")\n",
    "    \n",
    "    if wants_photo == \"Yes\":\n",
    "        # ADD $3 their bill \n",
    "        bill += 3\n",
    "    \n",
    "    print(f\"Your are final is ${bill}\")\n",
    "    \n",
    "else:\n",
    "    print(\"Sorry, you have to grow taller before you can ride.\")"
   ]
  },
  {
   "cell_type": "code",
   "execution_count": 13,
   "id": "df2b3d3b",
   "metadata": {},
   "outputs": [
    {
     "name": "stdout",
     "output_type": "stream",
     "text": [
      "Welcome to Python Pizza Deliveries!\n",
      "What size pizza do you want? S, M, or L? S\n",
      "You order Small Pizza\n",
      "Do you want pepperoni? Yes or No? Yes\n",
      "Do you want extra cheese? Yes or No? No\n",
      "Your final bill is $17.\n"
     ]
    }
   ],
   "source": [
    "# execercise 4\n",
    "print(\"Welcome to Python Pizza Deliveries!\")\n",
    "size = input(\"What size pizza do you want? S, M, or L? \")\n",
    "bill = 0\n",
    "if size == \"S\":\n",
    "    bill = 15\n",
    "    print(\"You order Small Pizza\")\n",
    "elif size == \"M\":\n",
    "    bill = 20\n",
    "    print(\"You order Medium Pizza\")\n",
    "else:\n",
    "    bill = 25\n",
    "    print(\"You order Large Pizza\")\n",
    "    \n",
    "add_pepperoni = input(\"Do you want pepperoni? Yes or No? \")\n",
    "if add_pepperoni == \"Yes\":\n",
    "    bill += 2\n",
    "extra_cheese = input(\"Do you want extra cheese? Yes or No? \")\n",
    "if extra_cheese == \"Yes\":\n",
    "    bill += 1\n",
    "\n",
    "print(f'Your final bill is ${bill}.')"
   ]
  },
  {
   "cell_type": "code",
   "execution_count": 14,
   "id": "dd9f8abd",
   "metadata": {},
   "outputs": [
    {
     "name": "stdout",
     "output_type": "stream",
     "text": [
      "Welcome to Python Pizza Deliveries!\n",
      "What size pizza do you want? S, M, or L? S\n",
      "Do you want pepperoni? Y or N? Y\n",
      "Do you want extra cheese? Y or N? N\n",
      "Your final bill is $17\n"
     ]
    }
   ],
   "source": [
    "# execercise 4 - Other way \n",
    "print(\"Welcome to Python Pizza Deliveries!\")\n",
    "size = input(\"What size pizza do you want? S, M, or L? \")\n",
    "add_pepperoni = input(\"Do you want pepperoni? Y or N? \")\n",
    "extra_cheese = input(\"Do you want extra cheese? Y or N? \")\n",
    "\n",
    "bill = 0\n",
    "\n",
    "if size == \"S\":\n",
    "    bill += 15\n",
    "elif size == \"M\":\n",
    "    bill += 20\n",
    "else:\n",
    "    bill += 25\n",
    "    \n",
    "if add_pepperoni == \"Y\":\n",
    "    if size == \"S\":\n",
    "        bill += 2\n",
    "    else:\n",
    "        bill += 3\n",
    "        \n",
    "if extra_cheese == \"Y\":\n",
    "    bill += 1\n",
    "    \n",
    "print(f\"Your final bill is ${bill}\")"
   ]
  },
  {
   "cell_type": "code",
   "execution_count": null,
   "id": "153c1e14",
   "metadata": {},
   "outputs": [],
   "source": [
    "# 논리연산자 \n",
    "A and B \n",
    "C or D \n",
    "not E "
   ]
  },
  {
   "cell_type": "code",
   "execution_count": 15,
   "id": "4a259545",
   "metadata": {},
   "outputs": [
    {
     "data": {
      "text/plain": [
       "False"
      ]
     },
     "execution_count": 15,
     "metadata": {},
     "output_type": "execute_result"
    }
   ],
   "source": [
    "a = 12\n",
    "a > 15"
   ]
  },
  {
   "cell_type": "code",
   "execution_count": 16,
   "id": "486b4f5c",
   "metadata": {},
   "outputs": [
    {
     "data": {
      "text/plain": [
       "True"
      ]
     },
     "execution_count": 16,
     "metadata": {},
     "output_type": "execute_result"
    }
   ],
   "source": [
    "a > 10"
   ]
  },
  {
   "cell_type": "code",
   "execution_count": 17,
   "id": "d08f6b69",
   "metadata": {},
   "outputs": [
    {
     "data": {
      "text/plain": [
       "True"
      ]
     },
     "execution_count": 17,
     "metadata": {},
     "output_type": "execute_result"
    }
   ],
   "source": [
    "# 논리연산자로 변환 \n",
    "a > 10 and a < 13"
   ]
  },
  {
   "cell_type": "code",
   "execution_count": 18,
   "id": "be8189ef",
   "metadata": {},
   "outputs": [
    {
     "data": {
      "text/plain": [
       "False"
      ]
     },
     "execution_count": 18,
     "metadata": {},
     "output_type": "execute_result"
    }
   ],
   "source": [
    "a > 15and a < 14"
   ]
  },
  {
   "cell_type": "code",
   "execution_count": 19,
   "id": "5328e890",
   "metadata": {},
   "outputs": [
    {
     "data": {
      "text/plain": [
       "True"
      ]
     },
     "execution_count": 19,
     "metadata": {},
     "output_type": "execute_result"
    }
   ],
   "source": [
    "not a > 15"
   ]
  },
  {
   "cell_type": "code",
   "execution_count": 23,
   "id": "f85d0e58",
   "metadata": {},
   "outputs": [
    {
     "name": "stdout",
     "output_type": "stream",
     "text": [
      "Welcome to the rollercoaster!!\n",
      "What is yout height in cm? 170\n",
      "You can ride the rollercoaster!\n",
      "what is your age? 55\n",
      "Everythins is going to be ok. Have a ride on us!\n",
      "Do you want a photo taken? Yes or No No\n",
      "Your are final is $0\n"
     ]
    }
   ],
   "source": [
    "# 논리 연산자 추가\n",
    "print(\"Welcome to the rollercoaster!!\")\n",
    "height = int(input(\"What is yout height in cm? \"))\n",
    "bill = 0\n",
    "\n",
    "if height >= 120:\n",
    "    print(\"You can ride the rollercoaster!\")\n",
    "    \n",
    "    age = int(input(\"what is your age? \"))\n",
    "    \n",
    "    if age < 12:\n",
    "        bill = 5\n",
    "        print(\"Child tickets are $5\")\n",
    "    elif age <= 18:\n",
    "        bill = 7\n",
    "        print(\"Your tickets are $7\")\n",
    "    elif age >= 45 and age <= 55:\n",
    "        bill = 0\n",
    "        print(\"Everythins is going to be ok. Have a ride on us!\")\n",
    "    else:\n",
    "        bill = 12\n",
    "        print(\"Adult tickets are $12\")\n",
    "        \n",
    "    wants_photo = input(\"Do you want a photo taken? Yes or No \")\n",
    "    \n",
    "    if wants_photo == \"Yes\":\n",
    "        # ADD $3 their bill \n",
    "        bill += 3\n",
    "    \n",
    "    print(f\"Your are final is ${bill}\")\n",
    "    \n",
    "else:\n",
    "    print(\"Sorry, you have to grow taller before you can ride.\")"
   ]
  },
  {
   "cell_type": "code",
   "execution_count": 73,
   "id": "c5a4005c",
   "metadata": {},
   "outputs": [
    {
     "name": "stdout",
     "output_type": "stream",
     "text": [
      "Welcome to the Love Calculator!\n",
      "What is your name? \n",
      "Kanye West\n",
      "What is their name? \n",
      "Kim Kardashian\n",
      "True total 4\n",
      "Love total 2\n",
      "Your score is 42, you are alright together.\n"
     ]
    }
   ],
   "source": [
    "# code challenge - make love calculator\n",
    "print(\"Welcome to the Love Calculator!\")\n",
    "name1 = input(\"What is your name? \\n\")\n",
    "name1 = name1.lower()\n",
    "name2 = input(\"What is their name? \\n\")\n",
    "name2 = name2.lower()\n",
    "\n",
    "# count \"true\"\n",
    "name1 = name1.lower()\n",
    "t = name1.count('t') + name2.count('t')\n",
    "r = name1.count('r') + name2.count('r')\n",
    "u = name1.count('u') + name2.count('u')\n",
    "e = name1.count('e') + name2.count('e')\n",
    "true_total = str(t + r + u + e)\n",
    "print(f\"True total {true_total}\")\n",
    "\n",
    "# count \"love\"\n",
    "l = name1.count('l') + name2.count('l')\n",
    "o = name1.count('o') + name2.count('o')\n",
    "v = name1.count('v') + name2.count('v')\n",
    "e = name1.count('e') + name2.count('e')\n",
    "love_total = str(l + o + v + e)\n",
    "print(f\"Love total {love_total}\")\n",
    "\n",
    "# total calculate\n",
    "calculate_total = int(true_total + love_total)\n",
    "\n",
    "# check your love calculate\n",
    "if calculate_total < 10 or calculate_total > 90:\n",
    "    print(f'Your score is {calculate_total}', \"you go together like code and menots\")\n",
    "elif calculate_total >= 40 and calculate_total <= 50:\n",
    "    print(f'Your score is {calculate_total}, you are alright together.')\n",
    "else:\n",
    "    print(f'Your score is {calculate_total}')"
   ]
  },
  {
   "cell_type": "code",
   "execution_count": 76,
   "id": "2c01ae3a",
   "metadata": {},
   "outputs": [
    {
     "name": "stdout",
     "output_type": "stream",
     "text": [
      "Welcome to the Love Calculator!\n",
      "What is your name? \n",
      "Kanye West\n",
      "What is their name? \n",
      "Kim Kardashian\n",
      "42\n",
      "Your score is 42, you are alright together.\n"
     ]
    }
   ],
   "source": [
    "# code challenge - make love calculator - other way\n",
    "print(\"Welcome to the Love Calculator!\")\n",
    "name1 = input(\"What is your name? \\n\")\n",
    "name2 = input(\"What is their name? \\n\")\n",
    "\n",
    "combined_string = name1 + name2\n",
    "lower_case_string = combined_string.lower()\n",
    "\n",
    "t = lower_case_string.count(\"t\")\n",
    "r = lower_case_string.count(\"r\")\n",
    "u = lower_case_string.count(\"u\")\n",
    "e = lower_case_string.count(\"e\")\n",
    "\n",
    "true = t + r + u + e\n",
    "\n",
    "l = lower_case_string.count(\"l\")\n",
    "o = lower_case_string.count(\"o\")\n",
    "v = lower_case_string.count(\"v\")\n",
    "e = lower_case_string.count(\"e\")\n",
    "\n",
    "love = l + o + v + e\n",
    "\n",
    "love_score = int(str(true) + str(love))\n",
    "\n",
    "print(love_score)\n",
    "\n",
    "if (love_score < 10) or (love_score > 90):\n",
    "    print(f'Your score is {love_score}', \"you go together like code and menots\")\n",
    "elif (love_score >= 40) and (love_score <= 50):\n",
    "    print(f'Your score is {love_score}, you are alright together.')\n",
    "else:\n",
    "    print(f'Your score is {love_score}')"
   ]
  },
  {
   "cell_type": "code",
   "execution_count": null,
   "id": "29cb44fa",
   "metadata": {},
   "outputs": [],
   "source": []
  },
  {
   "cell_type": "code",
   "execution_count": null,
   "id": "87e86bbf",
   "metadata": {},
   "outputs": [],
   "source": []
  },
  {
   "cell_type": "code",
   "execution_count": null,
   "id": "8fb4f9df",
   "metadata": {},
   "outputs": [],
   "source": []
  }
 ],
 "metadata": {
  "kernelspec": {
   "display_name": "Python 3 (ipykernel)",
   "language": "python",
   "name": "python3"
  },
  "language_info": {
   "codemirror_mode": {
    "name": "ipython",
    "version": 3
   },
   "file_extension": ".py",
   "mimetype": "text/x-python",
   "name": "python",
   "nbconvert_exporter": "python",
   "pygments_lexer": "ipython3",
   "version": "3.8.12"
  }
 },
 "nbformat": 4,
 "nbformat_minor": 5
}
