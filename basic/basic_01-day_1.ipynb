{
 "cells": [
  {
   "cell_type": "markdown",
   "id": "153a2902",
   "metadata": {},
   "source": [
    "### print() function\n",
    "- 키워드인 'print' 이후에 괄호, 그리고 괄호 안에 원하는 문구를 작성하면 그 문구를 출력해준다."
   ]
  },
  {
   "cell_type": "code",
   "execution_count": 4,
   "id": "2ca2456f",
   "metadata": {},
   "outputs": [
    {
     "name": "stdout",
     "output_type": "stream",
     "text": [
      "Hello world!\n"
     ]
    }
   ],
   "source": [
    "# 프린트 함수로 결과 값 출력 \n",
    "print('Hello world!')"
   ]
  },
  {
   "cell_type": "markdown",
   "id": "7abed8bb",
   "metadata": {},
   "source": [
    "- 위와 같이 안에 큰 따옴표를 사용하는 이유는 해당 글자 안의 내용은 프로그래밍 코드가 아니라는 것을 표시가 위함이다.\n",
    "- 이런 형태의 텍스트를 프로그래밍 용어로 string(문자열) 이라고 한다."
   ]
  },
  {
   "cell_type": "markdown",
   "id": "ef5e815e",
   "metadata": {},
   "source": [
    "### 문제 1 아래의 코드를 작성한 후 프로그램을 실행하고 다음을 인쇄해야 합니다.\n",
    "- Day 1 - Python Print Function\n",
    "- The function is declared like this:\n",
    "- print('what to print')"
   ]
  },
  {
   "cell_type": "code",
   "execution_count": 5,
   "id": "1f50e9fa",
   "metadata": {},
   "outputs": [
    {
     "name": "stdout",
     "output_type": "stream",
     "text": [
      "Day 1 - Python Print Function\n",
      "The function is declared like this:\n",
      "print('what to print')\n"
     ]
    }
   ],
   "source": [
    "# 정답 \n",
    "print(\"Day 1 - Python Print Function\")\n",
    "print(\"The function is declared like this:\")\n",
    "print(\"print('what to print')\")"
   ]
  },
  {
   "cell_type": "code",
   "execution_count": 1,
   "id": "c0a445f6",
   "metadata": {},
   "outputs": [
    {
     "name": "stdout",
     "output_type": "stream",
     "text": [
      "Jack\n"
     ]
    }
   ],
   "source": [
    "name = \"Jack\"\n",
    "print(name)"
   ]
  },
  {
   "cell_type": "code",
   "execution_count": 2,
   "id": "a35ae178",
   "metadata": {},
   "outputs": [
    {
     "name": "stdout",
     "output_type": "stream",
     "text": [
      "Angela\n"
     ]
    }
   ],
   "source": [
    "name = \"Angela\"\n",
    "print(name)"
   ]
  },
  {
   "cell_type": "code",
   "execution_count": 4,
   "id": "093906e5",
   "metadata": {},
   "outputs": [
    {
     "name": "stdout",
     "output_type": "stream",
     "text": [
      "What is your name?kisung\n",
      "6\n"
     ]
    }
   ],
   "source": [
    "user_name = input(\"What is your name?\")\n",
    "length = len(user_name)\n",
    "print(length)"
   ]
  },
  {
   "cell_type": "code",
   "execution_count": 5,
   "id": "af7668f4",
   "metadata": {},
   "outputs": [
    {
     "name": "stdout",
     "output_type": "stream",
     "text": [
      "Welcome to the Brand Name Generator.\n"
     ]
    }
   ],
   "source": [
    "print(\"Welcome to the Brand Name Generator.\")"
   ]
  },
  {
   "cell_type": "code",
   "execution_count": 6,
   "id": "740b6435",
   "metadata": {},
   "outputs": [
    {
     "name": "stdout",
     "output_type": "stream",
     "text": [
      "What`s name of the city you grew up in? Seoul\n",
      "Seoul\n"
     ]
    }
   ],
   "source": [
    "print(input(\"What`s name of the city you grew up in? \"))"
   ]
  },
  {
   "cell_type": "code",
   "execution_count": 7,
   "id": "6985ed53",
   "metadata": {},
   "outputs": [
    {
     "name": "stdout",
     "output_type": "stream",
     "text": [
      "What`s your pet's name? JoKo\n",
      "JoKo\n"
     ]
    }
   ],
   "source": [
    "print(input(\"What`s your pet's name? \"))"
   ]
  },
  {
   "cell_type": "code",
   "execution_count": 14,
   "id": "5f03c033",
   "metadata": {},
   "outputs": [
    {
     "data": {
      "text/plain": [
       "'Welcome to the Brand Name Generator.'"
      ]
     },
     "execution_count": 14,
     "metadata": {},
     "output_type": "execute_result"
    }
   ],
   "source": [
    "greating = \"Welcome to the Brand Name Generator.\"\n",
    "greating"
   ]
  },
  {
   "cell_type": "code",
   "execution_count": 16,
   "id": "05c4d390",
   "metadata": {},
   "outputs": [
    {
     "data": {
      "text/plain": [
       "'What`s name of the city you grew up in?'"
      ]
     },
     "execution_count": 16,
     "metadata": {},
     "output_type": "execute_result"
    }
   ],
   "source": [
    "ask_1 = \"What`s name of the city you grew up in?\"\n",
    "ask_1"
   ]
  },
  {
   "cell_type": "code",
   "execution_count": 17,
   "id": "99ad8bb8",
   "metadata": {},
   "outputs": [
    {
     "name": "stdout",
     "output_type": "stream",
     "text": [
      "Seoul\n"
     ]
    }
   ],
   "source": [
    "answer_1 = input()"
   ]
  },
  {
   "cell_type": "code",
   "execution_count": 19,
   "id": "6d76d647",
   "metadata": {},
   "outputs": [
    {
     "data": {
      "text/plain": [
       "\"What`s your pet's name?\""
      ]
     },
     "execution_count": 19,
     "metadata": {},
     "output_type": "execute_result"
    }
   ],
   "source": [
    "ask_2 = \"What`s your pet's name?\"\n",
    "ask_2"
   ]
  },
  {
   "cell_type": "code",
   "execution_count": 20,
   "id": "d1c714fd",
   "metadata": {},
   "outputs": [
    {
     "name": "stdout",
     "output_type": "stream",
     "text": [
      "Jokko\n"
     ]
    }
   ],
   "source": [
    "answer_2 = input()"
   ]
  },
  {
   "cell_type": "code",
   "execution_count": 23,
   "id": "f2ad242e",
   "metadata": {},
   "outputs": [
    {
     "data": {
      "text/plain": [
       "'Your band name could be Seoul Jokko'"
      ]
     },
     "execution_count": 23,
     "metadata": {},
     "output_type": "execute_result"
    }
   ],
   "source": [
    "result = \"Your band name could be \" + answer_1 +  \" \"  + answer_2\n",
    "result "
   ]
  },
  {
   "cell_type": "code",
   "execution_count": 26,
   "id": "7fcdabb1",
   "metadata": {},
   "outputs": [
    {
     "name": "stdout",
     "output_type": "stream",
     "text": [
      "Welcome to the Brand Name Generator.\n",
      "What`s name of the city you grew up in?\n",
      "Seoul\n",
      "What`s your pet's name?\n",
      "Happy\n"
     ]
    },
    {
     "data": {
      "text/plain": [
       "'Your band name could be Seoul Happy'"
      ]
     },
     "execution_count": 26,
     "metadata": {},
     "output_type": "execute_result"
    }
   ],
   "source": [
    "print(greating)\n",
    "print(ask_1)\n",
    "answer_1 = input()\n",
    "print(ask_2)\n",
    "answer_2 = input()\n",
    "result = \"Your band name could be \" + answer_1 +  \" \"  + answer_2\n",
    "result "
   ]
  },
  {
   "cell_type": "code",
   "execution_count": 28,
   "id": "fe59ea85",
   "metadata": {},
   "outputs": [
    {
     "name": "stdout",
     "output_type": "stream",
     "text": [
      "Welcome to the Brand Name Generator.\n",
      "What`s name of the city you grew up in?\n",
      "Seoul\n",
      "What`s your pet's name\n",
      "?kisung\n",
      "Your band name could be Seoul kisung\n"
     ]
    }
   ],
   "source": [
    "print(\"Welcome to the Brand Name Generator.\")\n",
    "city = input(\"What`s name of the city you grew up in?\\n\")\n",
    "pet = input(\"What`s your pet's name?\\n\")\n",
    "print(\"Your band name could be \" + city +  \" \"  + pet)"
   ]
  },
  {
   "cell_type": "code",
   "execution_count": null,
   "id": "e8d296e1",
   "metadata": {},
   "outputs": [],
   "source": []
  }
 ],
 "metadata": {
  "kernelspec": {
   "display_name": "Python 3 (ipykernel)",
   "language": "python",
   "name": "python3"
  },
  "language_info": {
   "codemirror_mode": {
    "name": "ipython",
    "version": 3
   },
   "file_extension": ".py",
   "mimetype": "text/x-python",
   "name": "python",
   "nbconvert_exporter": "python",
   "pygments_lexer": "ipython3",
   "version": "3.8.12"
  }
 },
 "nbformat": 4,
 "nbformat_minor": 5
}
