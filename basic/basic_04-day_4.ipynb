{
 "cells": [
  {
   "cell_type": "markdown",
   "id": "6b3621bb",
   "metadata": {},
   "source": [
    "### Random (난수)\n",
    "- 컴퓨터가 난수를 생성할 수 있는 것은 유사 난수 생성기를 생성하기 위해 적용할 수 있는 다양한 식이 존재하며, 파이썬에서 사용되는 것은 메르센 트위스터 이다.\n",
    "\n",
    "- 참고\n",
    "\n",
    "    - 위키피디아 메르센 트위스터: [위키피디아 메르센 트위스터](https://ko.wikipedia.org/wiki/%EB%A9%94%EB%A5%B4%EC%84%BC_%ED%8A%B8%EC%9C%84%EC%8A%A4%ED%84%B0)\n",
    "\n",
    "    - 메르센 트위스터 구현관련 자료: [기본 유사 난수 발생과 메르센 트위스터 구현](https://kplus-biz.github.io/%EC%98%88%EC%A0%9C/2017/10/27/%EA%B8%B0%EB%B3%B8-%EC%9C%A0%EC%82%AC-%EB%82%9C%EC%88%98-%EB%B0%9C%EC%83%9D%EA%B3%BC-%EB%A9%94%EB%A5%B4%EC%84%BC-%ED%8A%B8%EC%9C%84%EC%8A%A4%ED%84%B0-%EA%B5%AC%ED%98%84/)\n",
    "\n",
    "    - 랜덤 생성기 강의: [칸 아카데미 랜덤 넘버 생성기](https://www.youtube.com/watch?v=GtOt7EBNEwQ)\n",
    "    \n",
    "    - 파이썬 모듈 검색: [Ask Python](https://www.askpython.com/)"
   ]
  },
  {
   "cell_type": "markdown",
   "id": "412ce0e9",
   "metadata": {},
   "source": [
    "- Module?\n",
    "    - 코드가 길어지는 현상 및 진행상황 이해를 위해 여러 사람이 만들어놓은 코드를 개별 모듈로 나누어 작업하게 됨 \n",
    "    - 각 모듈은 프로그램에서 서로 다른 기능을 담당하게 된다. "
   ]
  },
  {
   "cell_type": "code",
   "execution_count": 1,
   "id": "33d04673",
   "metadata": {},
   "outputs": [],
   "source": [
    "# module import \n",
    "import random"
   ]
  },
  {
   "cell_type": "code",
   "execution_count": 2,
   "id": "6e96b6ae",
   "metadata": {},
   "outputs": [
    {
     "name": "stdout",
     "output_type": "stream",
     "text": [
      "2\n"
     ]
    }
   ],
   "source": [
    "# random for integer - (start number, end number)\n",
    "radom_integer = random.randint(1, 10)\n",
    "print(radom_integer)"
   ]
  },
  {
   "cell_type": "code",
   "execution_count": 3,
   "id": "5bffd24a",
   "metadata": {},
   "outputs": [
    {
     "name": "stdout",
     "output_type": "stream",
     "text": [
      "0.6472551383459495\n"
     ]
    }
   ],
   "source": [
    "# random for floating point number - 0 to 1\n",
    "random_float = random.random()\n",
    "print(random_float)"
   ]
  },
  {
   "cell_type": "code",
   "execution_count": 4,
   "id": "12362828",
   "metadata": {},
   "outputs": [
    {
     "name": "stdout",
     "output_type": "stream",
     "text": [
      "4.880313829109225\n"
     ]
    }
   ],
   "source": [
    "# how to create a rondom decimal number between 0 and 5?\n",
    "random_float = random.random() * 5\n",
    "print(random_float)"
   ]
  },
  {
   "cell_type": "code",
   "execution_count": 5,
   "id": "0949880c",
   "metadata": {},
   "outputs": [
    {
     "name": "stdout",
     "output_type": "stream",
     "text": [
      "Your love score is 63\n"
     ]
    }
   ],
   "source": [
    "# random love_score\n",
    "love_score = random.randint(1, 100)\n",
    "print(f\"Your love score is {love_score}\")"
   ]
  },
  {
   "cell_type": "code",
   "execution_count": 6,
   "id": "9f8efd56",
   "metadata": {},
   "outputs": [
    {
     "name": "stdout",
     "output_type": "stream",
     "text": [
      "Tails\n"
     ]
    }
   ],
   "source": [
    "# excerise 1 - Heads or Tails \n",
    "import random \n",
    "\n",
    "random_number = random.randint(0, 1)\n",
    "\n",
    "if random_number == 1:\n",
    "    print(\"Heads\")\n",
    "else:\n",
    "    print(\"Tails\")"
   ]
  },
  {
   "cell_type": "markdown",
   "id": "4f9130c1",
   "metadata": {},
   "source": [
    "### List\n",
    "- list는 데이터 구조라고 부르며,파이썬에서 데이터를 체계화하고 저장하는 방식을 말한다. \n",
    "    - fruits = [item1, item2]"
   ]
  },
  {
   "cell_type": "code",
   "execution_count": 7,
   "id": "2be912c1",
   "metadata": {},
   "outputs": [],
   "source": [
    "# If we don`t know list\n",
    "state1 = \"Delaware\"\n",
    "state2 = \"Pensylvania\""
   ]
  },
  {
   "cell_type": "code",
   "execution_count": 8,
   "id": "3421d8c4",
   "metadata": {},
   "outputs": [
    {
     "data": {
      "text/plain": [
       "['Delaware', 'Pennsylvania']"
      ]
     },
     "execution_count": 8,
     "metadata": {},
     "output_type": "execute_result"
    }
   ],
   "source": [
    "# If we know list \n",
    "state_of_america = ['Delaware', 'Pennsylvania']\n",
    "state_of_america"
   ]
  },
  {
   "cell_type": "code",
   "execution_count": 9,
   "id": "96c45b11",
   "metadata": {},
   "outputs": [
    {
     "name": "stdout",
     "output_type": "stream",
     "text": [
      "New Jersey\n",
      "Alaska\n"
     ]
    }
   ],
   "source": [
    "# Order of accession to the United States\n",
    "state_of_america = ['Delaware', 'Pennsylvania', 'New Jersey', 'Georgia', 'Connecticut', \n",
    "                    'Massachusetts', 'Maryland', 'South Carolina', 'New Hampshire', 'Virginia', \n",
    "                    'New York', 'North Carolina', 'Rhode Island', 'Vermont', 'Kentucky', 'Tennessee', \n",
    "                    'Ohio', 'Louisiana', 'Indiana', 'Mississippi', 'Illinois', 'Alabama', \n",
    "                    'Maine', 'Missouri', 'Arkansas', 'Michigan', 'Florida', 'Texas', 'Iowa', 'Wisconsin', \n",
    "                    'California', 'Minnesota', 'Oregon', 'Kansas', 'West Virginia', 'Nevada', 'Nebraska', \n",
    "                    'Colorado', 'North Dakota', 'South Dakota', 'Montana', 'Washington', 'Idaho', 'Wyoming', \n",
    "                    'Utah', 'Oklahoma', 'New Mexico', 'Arizona', 'Alaska', 'Hawaii']\n",
    "\n",
    "# Order by ASC \n",
    "print(state_of_america[2])\n",
    "# Order by DESC\n",
    "print(state_of_america[-2])"
   ]
  },
  {
   "cell_type": "code",
   "execution_count": 10,
   "id": "d07268f7",
   "metadata": {},
   "outputs": [
    {
     "name": "stdout",
     "output_type": "stream",
     "text": [
      "['Delaware', 'Pennsylvania', 'New', 'Georgia', 'Connecticut', 'Massachusetts', 'Maryland', 'South Carolina', 'New Hampshire', 'Virginia', 'New York', 'North Carolina', 'Rhode Island', 'Vermont', 'Kentucky', 'Tennessee', 'Ohio', 'Louisiana', 'Indiana', 'Mississippi', 'Illinois', 'Alabama', 'Maine', 'Missouri', 'Arkansas', 'Michigan', 'Florida', 'Texas', 'Iowa', 'Wisconsin', 'California', 'Minnesota', 'Oregon', 'Kansas', 'West Virginia', 'Nevada', 'Nebraska', 'Colorado', 'North Dakota', 'South Dakota', 'Montana', 'Washington', 'Idaho', 'Wyoming', 'Utah', 'Oklahoma', 'New Mexico', 'Arizona', 'Alaska', 'Hawaii']\n"
     ]
    }
   ],
   "source": [
    "# if wanna change list data - New Jersey => New\n",
    "state_of_america[2] = \"New\"\n",
    "print(state_of_america)"
   ]
  },
  {
   "cell_type": "code",
   "execution_count": 11,
   "id": "713cb7a2",
   "metadata": {},
   "outputs": [
    {
     "name": "stdout",
     "output_type": "stream",
     "text": [
      "['Delaware', 'Pennsylvania', 'New', 'Georgia', 'Connecticut', 'Massachusetts', 'Maryland', 'South Carolina', 'New Hampshire', 'Virginia', 'New York', 'North Carolina', 'Rhode Island', 'Vermont', 'Kentucky', 'Tennessee', 'Ohio', 'Louisiana', 'Indiana', 'Mississippi', 'Illinois', 'Alabama', 'Maine', 'Missouri', 'Arkansas', 'Michigan', 'Florida', 'Texas', 'Iowa', 'Wisconsin', 'California', 'Minnesota', 'Oregon', 'Kansas', 'West Virginia', 'Nevada', 'Nebraska', 'Colorado', 'North Dakota', 'South Dakota', 'Montana', 'Washington', 'Idaho', 'Wyoming', 'Utah', 'Oklahoma', 'New Mexico', 'Arizona', 'Alaska', 'Hawaii', 'Gigs Land']\n"
     ]
    }
   ],
   "source": [
    "# if add list data - use append\n",
    "state_of_america.append(\"Gigs Land\")\n",
    "print(state_of_america)"
   ]
  },
  {
   "cell_type": "code",
   "execution_count": 12,
   "id": "a62cc4bc",
   "metadata": {},
   "outputs": [
    {
     "name": "stdout",
     "output_type": "stream",
     "text": [
      "['Delaware', 'Pennsylvania', 'New', 'Georgia', 'Connecticut', 'Massachusetts', 'Maryland', 'South Carolina', 'New Hampshire', 'Virginia', 'New York', 'North Carolina', 'Rhode Island', 'Vermont', 'Kentucky', 'Tennessee', 'Ohio', 'Louisiana', 'Indiana', 'Mississippi', 'Illinois', 'Alabama', 'Maine', 'Missouri', 'Arkansas', 'Michigan', 'Florida', 'Texas', 'Iowa', 'Wisconsin', 'California', 'Minnesota', 'Oregon', 'Kansas', 'West Virginia', 'Nevada', 'Nebraska', 'Colorado', 'North Dakota', 'South Dakota', 'Montana', 'Washington', 'Idaho', 'Wyoming', 'Utah', 'Oklahoma', 'New Mexico', 'Arizona', 'Alaska', 'Hawaii', 'Gigs Land', 'Gigs Land', 'Su Land']\n"
     ]
    }
   ],
   "source": [
    "# if add over two data - use extend\n",
    "state_of_america.extend([\"Gigs Land\", \"Su Land\"])\n",
    "print(state_of_america)"
   ]
  },
  {
   "cell_type": "code",
   "execution_count": 13,
   "id": "7c141831",
   "metadata": {},
   "outputs": [
    {
     "name": "stdout",
     "output_type": "stream",
     "text": [
      "Give me everybody's names, separated by a comma. Angela, Ben, Jenny, Michael, Chloe\n",
      "Michael is going to buy the meal today!\n"
     ]
    }
   ],
   "source": [
    "# excerise 2 - Who's Paying\n",
    "names_string = input(\"Give me everybody's names, separated by a comma. \")\n",
    "names = names_string.split(\", \")\n",
    "who_is_paying = names[random.randint(0, len(names) - 1)]\n",
    "print(f\"{who_is_paying} is going to buy the meal today!\")"
   ]
  },
  {
   "cell_type": "code",
   "execution_count": 14,
   "id": "c76d1a21",
   "metadata": {},
   "outputs": [
    {
     "ename": "IndexError",
     "evalue": "list index out of range",
     "output_type": "error",
     "traceback": [
      "\u001b[0;31m---------------------------------------------------------------------------\u001b[0m",
      "\u001b[0;31mIndexError\u001b[0m                                Traceback (most recent call last)",
      "Input \u001b[0;32mIn [14]\u001b[0m, in \u001b[0;36m<cell line: 11>\u001b[0;34m()\u001b[0m\n\u001b[1;32m      1\u001b[0m \u001b[38;5;66;03m# Order of accession to the United States - index error\u001b[39;00m\n\u001b[1;32m      2\u001b[0m state_of_america \u001b[38;5;241m=\u001b[39m [\u001b[38;5;124m'\u001b[39m\u001b[38;5;124mDelaware\u001b[39m\u001b[38;5;124m'\u001b[39m, \u001b[38;5;124m'\u001b[39m\u001b[38;5;124mPennsylvania\u001b[39m\u001b[38;5;124m'\u001b[39m, \u001b[38;5;124m'\u001b[39m\u001b[38;5;124mNew Jersey\u001b[39m\u001b[38;5;124m'\u001b[39m, \u001b[38;5;124m'\u001b[39m\u001b[38;5;124mGeorgia\u001b[39m\u001b[38;5;124m'\u001b[39m, \u001b[38;5;124m'\u001b[39m\u001b[38;5;124mConnecticut\u001b[39m\u001b[38;5;124m'\u001b[39m, \n\u001b[1;32m      3\u001b[0m                     \u001b[38;5;124m'\u001b[39m\u001b[38;5;124mMassachusetts\u001b[39m\u001b[38;5;124m'\u001b[39m, \u001b[38;5;124m'\u001b[39m\u001b[38;5;124mMaryland\u001b[39m\u001b[38;5;124m'\u001b[39m, \u001b[38;5;124m'\u001b[39m\u001b[38;5;124mSouth Carolina\u001b[39m\u001b[38;5;124m'\u001b[39m, \u001b[38;5;124m'\u001b[39m\u001b[38;5;124mNew Hampshire\u001b[39m\u001b[38;5;124m'\u001b[39m, \u001b[38;5;124m'\u001b[39m\u001b[38;5;124mVirginia\u001b[39m\u001b[38;5;124m'\u001b[39m, \n\u001b[1;32m      4\u001b[0m                     \u001b[38;5;124m'\u001b[39m\u001b[38;5;124mNew York\u001b[39m\u001b[38;5;124m'\u001b[39m, \u001b[38;5;124m'\u001b[39m\u001b[38;5;124mNorth Carolina\u001b[39m\u001b[38;5;124m'\u001b[39m, \u001b[38;5;124m'\u001b[39m\u001b[38;5;124mRhode Island\u001b[39m\u001b[38;5;124m'\u001b[39m, \u001b[38;5;124m'\u001b[39m\u001b[38;5;124mVermont\u001b[39m\u001b[38;5;124m'\u001b[39m, \u001b[38;5;124m'\u001b[39m\u001b[38;5;124mKentucky\u001b[39m\u001b[38;5;124m'\u001b[39m, \u001b[38;5;124m'\u001b[39m\u001b[38;5;124mTennessee\u001b[39m\u001b[38;5;124m'\u001b[39m, \n\u001b[0;32m   (...)\u001b[0m\n\u001b[1;32m      8\u001b[0m                     \u001b[38;5;124m'\u001b[39m\u001b[38;5;124mColorado\u001b[39m\u001b[38;5;124m'\u001b[39m, \u001b[38;5;124m'\u001b[39m\u001b[38;5;124mNorth Dakota\u001b[39m\u001b[38;5;124m'\u001b[39m, \u001b[38;5;124m'\u001b[39m\u001b[38;5;124mSouth Dakota\u001b[39m\u001b[38;5;124m'\u001b[39m, \u001b[38;5;124m'\u001b[39m\u001b[38;5;124mMontana\u001b[39m\u001b[38;5;124m'\u001b[39m, \u001b[38;5;124m'\u001b[39m\u001b[38;5;124mWashington\u001b[39m\u001b[38;5;124m'\u001b[39m, \u001b[38;5;124m'\u001b[39m\u001b[38;5;124mIdaho\u001b[39m\u001b[38;5;124m'\u001b[39m, \u001b[38;5;124m'\u001b[39m\u001b[38;5;124mWyoming\u001b[39m\u001b[38;5;124m'\u001b[39m, \n\u001b[1;32m      9\u001b[0m                     \u001b[38;5;124m'\u001b[39m\u001b[38;5;124mUtah\u001b[39m\u001b[38;5;124m'\u001b[39m, \u001b[38;5;124m'\u001b[39m\u001b[38;5;124mOklahoma\u001b[39m\u001b[38;5;124m'\u001b[39m, \u001b[38;5;124m'\u001b[39m\u001b[38;5;124mNew Mexico\u001b[39m\u001b[38;5;124m'\u001b[39m, \u001b[38;5;124m'\u001b[39m\u001b[38;5;124mArizona\u001b[39m\u001b[38;5;124m'\u001b[39m, \u001b[38;5;124m'\u001b[39m\u001b[38;5;124mAlaska\u001b[39m\u001b[38;5;124m'\u001b[39m, \u001b[38;5;124m'\u001b[39m\u001b[38;5;124mHawaii\u001b[39m\u001b[38;5;124m'\u001b[39m]\n\u001b[0;32m---> 11\u001b[0m \u001b[38;5;28mprint\u001b[39m(\u001b[43mstate_of_america\u001b[49m\u001b[43m[\u001b[49m\u001b[38;5;241;43m50\u001b[39;49m\u001b[43m]\u001b[49m)\n",
      "\u001b[0;31mIndexError\u001b[0m: list index out of range"
     ]
    }
   ],
   "source": [
    "# Order of accession to the United States - index error\n",
    "state_of_america = ['Delaware', 'Pennsylvania', 'New Jersey', 'Georgia', 'Connecticut', \n",
    "                    'Massachusetts', 'Maryland', 'South Carolina', 'New Hampshire', 'Virginia', \n",
    "                    'New York', 'North Carolina', 'Rhode Island', 'Vermont', 'Kentucky', 'Tennessee', \n",
    "                    'Ohio', 'Louisiana', 'Indiana', 'Mississippi', 'Illinois', 'Alabama', \n",
    "                    'Maine', 'Missouri', 'Arkansas', 'Michigan', 'Florida', 'Texas', 'Iowa', 'Wisconsin', \n",
    "                    'California', 'Minnesota', 'Oregon', 'Kansas', 'West Virginia', 'Nevada', 'Nebraska', \n",
    "                    'Colorado', 'North Dakota', 'South Dakota', 'Montana', 'Washington', 'Idaho', 'Wyoming', \n",
    "                    'Utah', 'Oklahoma', 'New Mexico', 'Arizona', 'Alaska', 'Hawaii']\n",
    "\n",
    "print(state_of_america[50])"
   ]
  },
  {
   "cell_type": "code",
   "execution_count": 15,
   "id": "0245db4b",
   "metadata": {},
   "outputs": [],
   "source": [
    "# dirty_dozen - 껍질에 기생충이 많은 과일 순서...(충격)\n",
    "# dirty_dozen = ['Strawberries', 'Spinach', 'Kale', 'Nectarines', 'Apples', 'Grapes', \n",
    "#               'Peaches', 'Cherries', 'Pears', 'Tomatoes', 'Celery', 'Potatoes']\n",
    "\n",
    "fruits = ['Strawberries', 'Nectarines', 'Apples', 'Grapes', 'Peaches', 'Cherries', 'Pears']\n",
    "vegetable = ['Spinach', 'Kale', 'Tomatoes', 'Celery', 'Potatoes']"
   ]
  },
  {
   "cell_type": "code",
   "execution_count": 16,
   "id": "c47c3f96",
   "metadata": {},
   "outputs": [
    {
     "name": "stdout",
     "output_type": "stream",
     "text": [
      "[['Strawberries', 'Nectarines', 'Apples', 'Grapes', 'Peaches', 'Cherries', 'Pears'], ['Spinach', 'Kale', 'Tomatoes', 'Celery', 'Potatoes']]\n"
     ]
    }
   ],
   "source": [
    "# nested list\n",
    "dirty_dozen = [fruits, vegetable]\n",
    "print(dirty_dozen)"
   ]
  },
  {
   "cell_type": "code",
   "execution_count": 17,
   "id": "e942a30d",
   "metadata": {},
   "outputs": [
    {
     "name": "stdout",
     "output_type": "stream",
     "text": [
      "['⬜️', '⬜️', '⬜️']\n",
      "['⬜️', '⬜️', '⬜️']\n",
      "['⬜️', '⬜️', '⬜️']\n",
      "Where do you want to put the treasure? 31\n",
      "['⬜️', '⬜️', 'X']\n",
      "['⬜️', '⬜️', '⬜️']\n",
      "['⬜️', '⬜️', '⬜️']\n"
     ]
    }
   ],
   "source": [
    "# excerise 3 - Treasure Map Exercise\n",
    "# 지도 생성\n",
    "row1 = [\"⬜️\",\"⬜️\",\"⬜️\"]\n",
    "row2 = [\"⬜️\",\"⬜️\",\"⬜️\"]\n",
    "row3 = [\"⬜️\",\"⬜️\",\"⬜️\"]\n",
    "\n",
    "# 지도 그리기\n",
    "map = [row1, row2, row3]\n",
    "\n",
    "print(f\"{row1}\\n{row2}\\n{row3}\")\n",
    "\n",
    "# 위치 입력\n",
    "position = input(\"Where do you want to put the treasure? \")\n",
    "\n",
    "# 열 ,행 입력할 수 있게 변환\n",
    "position = list(position)\n",
    "position = [int(i) for i in position]\n",
    "\n",
    "# 위치 표시 - map[2번째 숫자(row 역할)][1번째 숫자(column 역할)]\n",
    "map[position[1] - 1][position[0] - 1] = 'X'\n",
    "\n",
    "print(f\"{row1}\\n{row2}\\n{row3}\")"
   ]
  },
  {
   "cell_type": "code",
   "execution_count": 18,
   "id": "e32fea51",
   "metadata": {},
   "outputs": [
    {
     "name": "stdout",
     "output_type": "stream",
     "text": [
      "['⬜️', '⬜️', '⬜️']\n",
      "['⬜️', '⬜️', '⬜️']\n",
      "['⬜️', '⬜️', '⬜️']\n",
      "Where do you want to put the treasure? 23\n",
      "['⬜️', '⬜️', '⬜️']\n",
      "['⬜️', '⬜️', '⬜️']\n",
      "['⬜️', 'X', '⬜️']\n"
     ]
    }
   ],
   "source": [
    "# excerise 3 - Treasure Map Exercise - other way \n",
    "row1 = [\"⬜️\",\"⬜️\",\"⬜️\"]\n",
    "row2 = [\"⬜️\",\"⬜️\",\"⬜️\"]\n",
    "row3 = [\"⬜️\",\"⬜️\",\"⬜️\"]\n",
    "\n",
    "# 지도 그리기\n",
    "map = [row1, row2, row3]\n",
    "\n",
    "print(f\"{row1}\\n{row2}\\n{row3}\")\n",
    "\n",
    "# 위치 지정 \n",
    "position = input(\"Where do you want to put the treasure? \")\n",
    "\n",
    "# 수평 column 역할\n",
    "horizonal = int(position[0])  \n",
    "# 수직 - row 역할\n",
    "vertical = int(position[1])  \n",
    "\n",
    "# 해당 위치에 X 표시 \n",
    "select_row = map[vertical - 1]\n",
    "select_row[horizonal - 1] = \"X\"\n",
    "\n",
    "# 최종 결과 \n",
    "print(f\"{row1}\\n{row2}\\n{row3}\")"
   ]
  },
  {
   "cell_type": "code",
   "execution_count": 160,
   "id": "75369530",
   "metadata": {},
   "outputs": [
    {
     "name": "stdout",
     "output_type": "stream",
     "text": [
      "What do you choose? Type 0 for Rock, 1 for Paper or 2 for Scissors.\n",
      "2\n",
      "\n",
      "    _______\n",
      "---'   ____)____\n",
      "          ______)\n",
      "       __________)\n",
      "      (____)\n",
      "---.__(___)\n",
      "\n",
      "Computer chose:\n",
      "\n",
      "    _______\n",
      "---'   ____)____\n",
      "          ______)\n",
      "          _______)\n",
      "         _______)\n",
      "---.__________)\n",
      "\n",
      "You win!\n"
     ]
    }
   ],
   "source": [
    "# final project - rock, scissors, paper\n",
    "import random \n",
    "\n",
    "rock = '''\n",
    "    _______\n",
    "---'   ____)\n",
    "      (_____)\n",
    "      (_____)\n",
    "      (____)\n",
    "---.__(___)\n",
    "'''\n",
    "\n",
    "paper = '''\n",
    "    _______\n",
    "---'   ____)____\n",
    "          ______)\n",
    "          _______)\n",
    "         _______)\n",
    "---.__________)\n",
    "'''\n",
    "\n",
    "scissors = '''\n",
    "    _______\n",
    "---'   ____)____\n",
    "          ______)\n",
    "       __________)\n",
    "      (____)\n",
    "---.__(___)\n",
    "'''\n",
    "\n",
    "game_images = [rock, paper, scissors]\n",
    "\n",
    "user_choice = int(input(\"What do you choose? Type 0 for Rock, 1 for Paper or 2 for Scissors.\\n\"))\n",
    "print(game_images[user_choice])\n",
    "\n",
    "computer_choice = random.randint(0, 2)\n",
    "print(\"Computer chose:\")\n",
    "print(game_images[computer_choice])\n",
    "\n",
    "if user_choice >= 3 or user_choice < 0: \n",
    "    print(\"You typed an invalid number, you lose!\") \n",
    "elif user_choice == 0 and computer_choice == 2:\n",
    "    print(\"You win!\")\n",
    "elif computer_choice == 0 and user_choice == 2:\n",
    "    print(\"You lose\")\n",
    "elif computer_choice > user_choice:\n",
    "    print(\"You lose\")\n",
    "elif user_choice > computer_choice:\n",
    "    print(\"You win!\")\n",
    "elif computer_choice == user_choice:\n",
    "    print(\"It's a draw\")"
   ]
  },
  {
   "cell_type": "code",
   "execution_count": null,
   "id": "43d9c0f7",
   "metadata": {},
   "outputs": [],
   "source": []
  }
 ],
 "metadata": {
  "kernelspec": {
   "display_name": "Python 3 (ipykernel)",
   "language": "python",
   "name": "python3"
  },
  "language_info": {
   "codemirror_mode": {
    "name": "ipython",
    "version": 3
   },
   "file_extension": ".py",
   "mimetype": "text/x-python",
   "name": "python",
   "nbconvert_exporter": "python",
   "pygments_lexer": "ipython3",
   "version": "3.8.12"
  }
 },
 "nbformat": 4,
 "nbformat_minor": 5
}
