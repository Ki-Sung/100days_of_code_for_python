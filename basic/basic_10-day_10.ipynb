{
 "cells": [
  {
   "cell_type": "code",
   "execution_count": null,
   "id": "0ebfb886",
   "metadata": {},
   "outputs": [],
   "source": [
    "# 1 Functions\n",
    "def my_function():\n",
    "    # Do this \n",
    "    # Then Do this\n",
    "    # Fianlly Do this\n",
    "    \n",
    "my_function()"
   ]
  },
  {
   "cell_type": "code",
   "execution_count": null,
   "id": "94226df6",
   "metadata": {},
   "outputs": [],
   "source": [
    "# 2 Functions with Input\n",
    "def my_function(something):     # something is parameter\n",
    "    # Do this with something\n",
    "    # Then Do this\n",
    "    # Fianlly Do this\n",
    "    \n",
    "my_function(123)  # 123 is argument"
   ]
  },
  {
   "cell_type": "code",
   "execution_count": null,
   "id": "baac1134",
   "metadata": {},
   "outputs": [],
   "source": [
    "# 3 Functions with Output \n",
    "def my_funciton():\n",
    "    result = 3 * 2\n",
    "    return              # output -> return\n",
    "\n",
    "output = result"
   ]
  },
  {
   "cell_type": "code",
   "execution_count": null,
   "id": "6a541184",
   "metadata": {},
   "outputs": [],
   "source": [
    "def my_funciton():\n",
    "    return 3 * 2         # output -> return\n",
    "\n",
    "output = my_funciton()"
   ]
  },
  {
   "cell_type": "code",
   "execution_count": 1,
   "id": "a12aae1a",
   "metadata": {},
   "outputs": [],
   "source": [
    "# example 1 - Function with Outputs\n",
    "\n",
    "def format_name(f_name, l_name):\n",
    "    formated_f_name = f_name.title()\n",
    "    formated_l_name = l_name.title()\n",
    "    return f\"{formated_f_name} {formated_l_name}\""
   ]
  },
  {
   "cell_type": "code",
   "execution_count": 2,
   "id": "3b3a383b",
   "metadata": {},
   "outputs": [
    {
     "name": "stdout",
     "output_type": "stream",
     "text": [
      "Kisng Kim\n"
     ]
    }
   ],
   "source": [
    "# function output result\n",
    "print(format_name(\"kisng\", \"kim\"))\n",
    "\n",
    "# formated_string = format_name(\"kisng\", \"kim\")\n",
    "# print(formated_string)"
   ]
  },
  {
   "cell_type": "code",
   "execution_count": 6,
   "id": "5e5e2694",
   "metadata": {},
   "outputs": [],
   "source": [
    "# example 2 - 함수 내부 여러개의 리턴 키워드 \n",
    "def format_name(f_name, l_name):\n",
    "    # if f_name == \"\" or l_name == \"\":      # 빈 리턴 키워드도 가질 수 있음 \n",
    "    formated_f_name = f_name.title()\n",
    "    formated_l_name = l_name.title()\n",
    "    return f\"Result: {formated_f_name} {formated_l_name}\""
   ]
  },
  {
   "cell_type": "code",
   "execution_count": 8,
   "id": "099cfd9d",
   "metadata": {},
   "outputs": [
    {
     "name": "stdout",
     "output_type": "stream",
     "text": [
      "What is your first name? KISUNG\n",
      "What is your last name? KIM\n",
      "Result: Kisung Kim\n"
     ]
    }
   ],
   "source": [
    "print(format_name(input(\"What is your first name? \"), \n",
    "                 input(\"What is your last name? \")))"
   ]
  },
  {
   "cell_type": "code",
   "execution_count": 11,
   "id": "c5ea28e9",
   "metadata": {},
   "outputs": [],
   "source": [
    "# example 3 - 사용자가 이름과 성을 비워둔 경우 나머지 코드를 건너 뛰는 방법\n",
    "def format_name(f_name, l_name):\n",
    "    if f_name == \"\" or l_name == \"\":                # 빈 리턴 키워드도 가질 수 있음\n",
    "        return \"You didn't provide valid inputs\"    # 만약 입력하지 하지 않은 경우 return\n",
    "    formated_f_name = f_name.title()\n",
    "    formated_l_name = l_name.title()\n",
    "    return f\"Result: {formated_f_name} {formated_l_name}\""
   ]
  },
  {
   "cell_type": "code",
   "execution_count": 12,
   "id": "039135c8",
   "metadata": {},
   "outputs": [
    {
     "name": "stdout",
     "output_type": "stream",
     "text": [
      "What is your first name? \n",
      "What is your last name? \n",
      "You didn't provide valid inputs\n"
     ]
    }
   ],
   "source": [
    "print(format_name(input(\"What is your first name? \"), \n",
    "                 input(\"What is your last name? \")))"
   ]
  },
  {
   "cell_type": "code",
   "execution_count": 17,
   "id": "9f6ef843",
   "metadata": {},
   "outputs": [
    {
     "name": "stdout",
     "output_type": "stream",
     "text": [
      "Enter a year: 2023\n",
      "Enter a month: 2\n",
      "28\n"
     ]
    }
   ],
   "source": [
    "# exercise 1 - Day in Month \n",
    "def is_leap(year):\n",
    "    if year % 4 == 0:\n",
    "        if year % 100 == 0:\n",
    "            if year % 400 == 0:\n",
    "                return True\n",
    "            else:\n",
    "                return False\n",
    "        else:\n",
    "            return True\n",
    "    else:\n",
    "        return False\n",
    "        \n",
    "def days_in_month(year, month):\n",
    "    if month > 12 or month < 1:\n",
    "        return \"Invalid month\"\n",
    "    \n",
    "    month_days = [31, 28, 31, 30, 31, 30, 31, 31, 30, 31, 30, 31]\n",
    "    if is_leap(year) and month == 2:\n",
    "        return 29\n",
    "    return month_days[month - 1]\n",
    "    \n",
    "#🚨 Do NOT change any of the code below \n",
    "year = int(input(\"Enter a year: \"))\n",
    "month = int(input(\"Enter a month: \"))\n",
    "days = days_in_month(year, month)\n",
    "print(days)"
   ]
  },
  {
   "cell_type": "code",
   "execution_count": null,
   "id": "8981e3ab",
   "metadata": {},
   "outputs": [],
   "source": []
  },
  {
   "cell_type": "code",
   "execution_count": null,
   "id": "29765b66",
   "metadata": {},
   "outputs": [],
   "source": []
  },
  {
   "cell_type": "code",
   "execution_count": null,
   "id": "36ffe1e5",
   "metadata": {},
   "outputs": [],
   "source": []
  },
  {
   "cell_type": "code",
   "execution_count": null,
   "id": "da8cccf3",
   "metadata": {},
   "outputs": [],
   "source": []
  },
  {
   "cell_type": "code",
   "execution_count": null,
   "id": "ade5ef07",
   "metadata": {},
   "outputs": [],
   "source": []
  }
 ],
 "metadata": {
  "kernelspec": {
   "display_name": "Python 3 (ipykernel)",
   "language": "python",
   "name": "python3"
  },
  "language_info": {
   "codemirror_mode": {
    "name": "ipython",
    "version": 3
   },
   "file_extension": ".py",
   "mimetype": "text/x-python",
   "name": "python",
   "nbconvert_exporter": "python",
   "pygments_lexer": "ipython3",
   "version": "3.8.12"
  }
 },
 "nbformat": 4,
 "nbformat_minor": 5
}
