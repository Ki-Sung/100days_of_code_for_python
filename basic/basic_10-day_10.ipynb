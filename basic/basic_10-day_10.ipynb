{
 "cells": [
  {
   "cell_type": "code",
   "execution_count": null,
   "id": "0ebfb886",
   "metadata": {},
   "outputs": [],
   "source": [
    "# 1 Functions\n",
    "def my_function():\n",
    "    # Do this \n",
    "    # Then Do this\n",
    "    # Fianlly Do this\n",
    "    \n",
    "my_function()"
   ]
  },
  {
   "cell_type": "code",
   "execution_count": null,
   "id": "94226df6",
   "metadata": {},
   "outputs": [],
   "source": [
    "# 2 Functions with Input\n",
    "def my_function(something):     # something is parameter\n",
    "    # Do this with something\n",
    "    # Then Do this\n",
    "    # Fianlly Do this\n",
    "    \n",
    "my_function(123)  # 123 is argument"
   ]
  },
  {
   "cell_type": "code",
   "execution_count": null,
   "id": "baac1134",
   "metadata": {},
   "outputs": [],
   "source": [
    "# 3 Functions with Output \n",
    "def my_funciton():\n",
    "    result = 3 * 2\n",
    "    return              # output -> return\n",
    "\n",
    "output = result"
   ]
  },
  {
   "cell_type": "code",
   "execution_count": null,
   "id": "6a541184",
   "metadata": {},
   "outputs": [],
   "source": [
    "def my_funciton():\n",
    "    return 3 * 2         # output -> return\n",
    "\n",
    "output = my_funciton()"
   ]
  },
  {
   "cell_type": "code",
   "execution_count": 7,
   "id": "a12aae1a",
   "metadata": {},
   "outputs": [],
   "source": [
    "# example 1 - Function with Outputs\n",
    "\n",
    "def format_name(f_name, l_name):\n",
    "    formated_f_name = f_name.title()\n",
    "    formated_l_name = l_name.title()\n",
    "    return f\"{formated_f_name} {formated_l_name}\""
   ]
  },
  {
   "cell_type": "code",
   "execution_count": 9,
   "id": "3b3a383b",
   "metadata": {},
   "outputs": [
    {
     "name": "stdout",
     "output_type": "stream",
     "text": [
      "Kisng Kim\n"
     ]
    }
   ],
   "source": [
    "# function output result\n",
    "print(format_name(\"kisng\", \"kim\"))\n",
    "\n",
    "# formated_string = format_name(\"kisng\", \"kim\")\n",
    "# print(formated_string)"
   ]
  },
  {
   "cell_type": "code",
   "execution_count": null,
   "id": "5e5e2694",
   "metadata": {},
   "outputs": [],
   "source": []
  }
 ],
 "metadata": {
  "kernelspec": {
   "display_name": "Python 3 (ipykernel)",
   "language": "python",
   "name": "python3"
  },
  "language_info": {
   "codemirror_mode": {
    "name": "ipython",
    "version": 3
   },
   "file_extension": ".py",
   "mimetype": "text/x-python",
   "name": "python",
   "nbconvert_exporter": "python",
   "pygments_lexer": "ipython3",
   "version": "3.8.12"
  }
 },
 "nbformat": 4,
 "nbformat_minor": 5
}
