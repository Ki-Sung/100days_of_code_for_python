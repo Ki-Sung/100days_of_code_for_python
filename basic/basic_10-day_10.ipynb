{
 "cells": [
  {
   "cell_type": "code",
   "execution_count": null,
   "id": "0ebfb886",
   "metadata": {},
   "outputs": [],
   "source": [
    "# 1 Functions\n",
    "def my_function():\n",
    "    # Do this \n",
    "    # Then Do this\n",
    "    # Fianlly Do this\n",
    "    \n",
    "my_function()"
   ]
  },
  {
   "cell_type": "code",
   "execution_count": null,
   "id": "94226df6",
   "metadata": {},
   "outputs": [],
   "source": [
    "# 2 Functions with Input\n",
    "def my_function(something):     # something is parameter\n",
    "    # Do this with something\n",
    "    # Then Do this\n",
    "    # Fianlly Do this\n",
    "    \n",
    "my_function(123)  # 123 is argument"
   ]
  },
  {
   "cell_type": "code",
   "execution_count": null,
   "id": "baac1134",
   "metadata": {},
   "outputs": [],
   "source": [
    "# 3 Functions with Output \n",
    "def my_funciton():\n",
    "    result = 3 * 2\n",
    "    return              # output -> return\n",
    "\n",
    "output = result"
   ]
  },
  {
   "cell_type": "code",
   "execution_count": null,
   "id": "6a541184",
   "metadata": {},
   "outputs": [],
   "source": [
    "def my_funciton():\n",
    "    return 3 * 2         # output -> return\n",
    "\n",
    "output = my_funciton()"
   ]
  },
  {
   "cell_type": "code",
   "execution_count": 1,
   "id": "a12aae1a",
   "metadata": {},
   "outputs": [],
   "source": [
    "# example 1 - Function with Outputs\n",
    "def format_name(f_name, l_name):\n",
    "    formated_f_name = f_name.title()\n",
    "    formated_l_name = l_name.title()\n",
    "    return f\"{formated_f_name} {formated_l_name}\""
   ]
  },
  {
   "cell_type": "code",
   "execution_count": 2,
   "id": "3b3a383b",
   "metadata": {},
   "outputs": [
    {
     "name": "stdout",
     "output_type": "stream",
     "text": [
      "Kisng Kim\n"
     ]
    }
   ],
   "source": [
    "# function output result\n",
    "print(format_name(\"kisng\", \"kim\"))\n",
    "\n",
    "# formated_string = format_name(\"kisng\", \"kim\")\n",
    "# print(formated_string)"
   ]
  },
  {
   "cell_type": "code",
   "execution_count": 3,
   "id": "5e5e2694",
   "metadata": {},
   "outputs": [],
   "source": [
    "# example 2 - 함수 내부 여러개의 리턴 키워드 \n",
    "def format_name(f_name, l_name):\n",
    "    # if f_name == \"\" or l_name == \"\":      # 빈 리턴 키워드도 가질 수 있음 \n",
    "    formated_f_name = f_name.title()\n",
    "    formated_l_name = l_name.title()\n",
    "    return f\"Result: {formated_f_name} {formated_l_name}\""
   ]
  },
  {
   "cell_type": "code",
   "execution_count": 4,
   "id": "099cfd9d",
   "metadata": {},
   "outputs": [
    {
     "name": "stdout",
     "output_type": "stream",
     "text": [
      "What is your first name? KISUNG\n",
      "What is your last name? KIM\n",
      "Result: Kisung Kim\n"
     ]
    }
   ],
   "source": [
    "print(format_name(input(\"What is your first name? \"), \n",
    "                 input(\"What is your last name? \")))"
   ]
  },
  {
   "cell_type": "code",
   "execution_count": 5,
   "id": "c5ea28e9",
   "metadata": {},
   "outputs": [],
   "source": [
    "# example 3 - 사용자가 이름과 성을 비워둔 경우 나머지 코드를 건너 뛰는 방법\n",
    "def format_name(f_name, l_name):\n",
    "    if f_name == \"\" or l_name == \"\":                # 빈 리턴 키워드도 가질 수 있음\n",
    "        return \"You didn't provide valid inputs\"    # 만약 입력하지 하지 않은 경우 return\n",
    "    formated_f_name = f_name.title()\n",
    "    formated_l_name = l_name.title()\n",
    "    return f\"Result: {formated_f_name} {formated_l_name}\""
   ]
  },
  {
   "cell_type": "code",
   "execution_count": 8,
   "id": "039135c8",
   "metadata": {},
   "outputs": [
    {
     "name": "stdout",
     "output_type": "stream",
     "text": [
      "What is your first name? \n",
      "What is your last name? \n",
      "You didn't provide valid inputs\n"
     ]
    }
   ],
   "source": [
    "print(format_name(input(\"What is your first name? \"), \n",
    "                 input(\"What is your last name? \")))"
   ]
  },
  {
   "cell_type": "code",
   "execution_count": 9,
   "id": "dba0b2d9",
   "metadata": {},
   "outputs": [
    {
     "name": "stdout",
     "output_type": "stream",
     "text": [
      "Enter a year: 2023\n",
      "Enter a month: 2\n",
      "28\n"
     ]
    }
   ],
   "source": [
    "# exercise 1 - Day in Month \n",
    "def is_leap(year):\n",
    "    if year % 4 == 0:\n",
    "        if year % 100 == 0:\n",
    "            if year % 400 == 0:\n",
    "                return True\n",
    "            else:\n",
    "                return False\n",
    "        else:\n",
    "            return True\n",
    "    else:\n",
    "        return False\n",
    "        \n",
    "def days_in_month(year, month):\n",
    "    if month > 12 or month < 1:\n",
    "        return \"Invalid month\"\n",
    "    \n",
    "    month_days = [31, 28, 31, 30, 31, 30, 31, 31, 30, 31, 30, 31]\n",
    "    if is_leap(year) and month == 2:\n",
    "        return 29\n",
    "    return month_days[month - 1]\n",
    "    \n",
    "#🚨 Do NOT change any of the code below \n",
    "year = int(input(\"Enter a year: \"))\n",
    "month = int(input(\"Enter a month: \"))\n",
    "days = days_in_month(year, month)\n",
    "print(days)"
   ]
  },
  {
   "cell_type": "code",
   "execution_count": 10,
   "id": "4cddacbd",
   "metadata": {},
   "outputs": [],
   "source": [
    "# example 4 - make docstring\n",
    "\n",
    "# Already used functions with outputs.\n",
    "length = len(formatted_name)\n",
    "\n",
    "# Return as an early exit\n",
    "def format_name(f_name, l_name):\n",
    "    # write it down to docstring \n",
    "    \"\"\"\n",
    "    Take a first and last name and format it            \n",
    "    to return the title case version of the name.\n",
    "    \"\"\"\n",
    "\n",
    "    if f_name == \"\" or l_name == \"\":                # 빈 리턴 키워드도 가질 수 있음\n",
    "        return \"You didn't provide valid inputs\"    # 만약 입력하지 하지 않은 경우 return\n",
    "    formated_f_name = f_name.title()\n",
    "    formated_l_name = l_name.title()\n",
    "    return f\"Result: {formated_f_name} {formated_l_name}\""
   ]
  },
  {
   "cell_type": "code",
   "execution_count": null,
   "id": "ae8d80e3",
   "metadata": {},
   "outputs": [],
   "source": [
    "# Final Project - make couculate - Part 1\n",
    "# 1. 숫자를 입력 \n",
    "# 2. 연산을 선택 \n",
    "# 3. 다음 숫자 입력 \n",
    "# 4. 결과 계산 -> 7.0 + 3.0 = 10.0\n",
    "# 5. 이전 단계에서 얻은 결과로 계산을 이어나갈 수 있음 (만약 yes를 누른다면)\n",
    "# 6. 만약 no를 누르면 화면의 내용은 지우고 새로운 계산을 시작"
   ]
  },
  {
   "cell_type": "code",
   "execution_count": 14,
   "id": "56a2834e",
   "metadata": {},
   "outputs": [
    {
     "name": "stdout",
     "output_type": "stream",
     "text": [
      "What is the first number?: 3\n",
      "+\n",
      "-\n",
      "*\n",
      "/\n",
      "Pick an operation from the line above: +\n",
      "What is the second number?: 2\n",
      "3 + 2 = 5\n",
      "Pick an another operation from the line above: *\n",
      "What is the next number?: 3\n",
      "5 * 3 = 15\n"
     ]
    }
   ],
   "source": [
    "# Calculator - part 1, 2\n",
    "\n",
    "# 1. Add Calculator Functions\n",
    "\n",
    "# Add \n",
    "def add(n1, n2):\n",
    "    return n1 + n2\n",
    "\n",
    "# Subtrack\n",
    "def subtract(n1, n2):\n",
    "    return n1 - n2\n",
    "\n",
    "# Multiply \n",
    "def multiply(n1, n2):\n",
    "    return n1 * n2\n",
    "\n",
    "# Divide\n",
    "def divide(n1, n2):\n",
    "    return n1 / n2\n",
    "\n",
    "# 2. Create a dictionary named operations\n",
    "# 함수를 호출하는 수단으로 사용\n",
    "# ex. \n",
    "# function = operations[\"*\"]\n",
    "# function(2, 4) -> output: 8\n",
    "operations = {\n",
    "    '+': add,\n",
    "    '-': subtract,\n",
    "    '*': multiply,\n",
    "    '/': divide,\n",
    "}\n",
    "\n",
    "# 3. input number 1\n",
    "num1 = int(input(\"What is the first number?: \"))\n",
    "\n",
    "# 4. print operations to console\n",
    "for symbol in operations:\n",
    "    print(symbol)\n",
    "\n",
    "# 5. input operation symbol to cosole\n",
    "operation_symbol = input(\"Pick an operation from the line above: \")\n",
    "\n",
    "# 6. input number 2\n",
    "num2 = int(input(\"What is the second number?: \"))\n",
    "\n",
    "# 7. print first result \n",
    "calculation_function = operations[operation_symbol]\n",
    "first_answer = calculation_function(num1, num2)\n",
    "\n",
    "print(f\"{num1} {operation_symbol} {num2} = {first_answer}\")\n",
    "\n",
    "# 8. print second resutl \n",
    "operation_symbol = input(\"Pick an another operation from the line above: \")\n",
    "num3 = int(input(\"What is the next number?: \"))\n",
    "calculation_function = operations[operation_symbol]\n",
    "second_answer = calculation_function(first_answer, num3)\n",
    "\n",
    "print(f\"{first_answer} {operation_symbol} {num3} = {second_answer}\")"
   ]
  },
  {
   "cell_type": "code",
   "execution_count": 16,
   "id": "d414b7f9",
   "metadata": {},
   "outputs": [
    {
     "name": "stdout",
     "output_type": "stream",
     "text": [
      "What is the first number?: 5\n",
      "+\n",
      "-\n",
      "*\n",
      "/\n",
      "Pick an operation from the line above: +\n",
      "What is the second number?: 3\n",
      "5 + 3 = 8\n",
      "Type 'y' to continue calculating with 8, or type 'n' exit.: y\n",
      "Pick an another operation from the line above: /\n",
      "What is the next number?: 2\n",
      "8 / 2 = 4.0\n",
      "Type 'y' to continue calculating with 8, or type 'n' exit.: n\n"
     ]
    }
   ],
   "source": [
    "# Calculator - part 3 -> my solution \n",
    "\n",
    "# Add Calculator Functions\n",
    "\n",
    "# Add \n",
    "def add(n1, n2):\n",
    "    return n1 + n2\n",
    "\n",
    "# Subtrack\n",
    "def subtract(n1, n2):\n",
    "    return n1 - n2\n",
    "\n",
    "# Multiply \n",
    "def multiply(n1, n2):\n",
    "    return n1 * n2\n",
    "\n",
    "# Divide\n",
    "def divide(n1, n2):\n",
    "    return n1 / n2\n",
    "\n",
    "# Create a dictionary named operations\n",
    "operations = {\n",
    "    '+': add,\n",
    "    '-': subtract,\n",
    "    '*': multiply,\n",
    "    '/': divide,\n",
    "}\n",
    "\n",
    "# input number 1\n",
    "num1 = int(input(\"What is the first number?: \"))\n",
    "\n",
    "# print operations to console\n",
    "for symbol in operations:\n",
    "    print(symbol)\n",
    "\n",
    "# input operation symbol to cosole\n",
    "operation_symbol = input(\"Pick an operation from the line above: \")\n",
    "\n",
    "# input number 2\n",
    "num2 = int(input(\"What is the second number?: \"))\n",
    "\n",
    "# print first result \n",
    "calculation_function = operations[operation_symbol]\n",
    "first_answer = calculation_function(num1, num2)\n",
    "\n",
    "print(f\"{num1} {operation_symbol} {num2} = {first_answer}\")\n",
    "\n",
    "select = input(f\"Type 'y' to continue calculating with {first_answer}, or type 'n' exit.: \")\n",
    "\n",
    "# continue or stop\n",
    "while select == 'y':\n",
    "    operation_symbol = input(\"Pick an another operation from the line above: \")\n",
    "    num3 = int(input(\"What is the next number?: \"))\n",
    "    calculation_function = operations[operation_symbol]\n",
    "    second_answer = calculation_function(first_answer, num3)\n",
    "\n",
    "    print(f\"{first_answer} {operation_symbol} {num3} = {second_answer}\")\n",
    "    \n",
    "    select = input(f\"Type 'y' to continue calculating with {first_answer}, or type 'n' exit.: \")"
   ]
  },
  {
   "cell_type": "code",
   "execution_count": 17,
   "id": "d8df7f2a",
   "metadata": {},
   "outputs": [
    {
     "name": "stdout",
     "output_type": "stream",
     "text": [
      "What is the first number?: 5\n",
      "+\n",
      "-\n",
      "*\n",
      "/\n",
      "Pick an operation: +\n",
      "What is the next number?: 3\n",
      "5 + 3 = 8\n",
      "Type 'y' to continue calculating with 8, or type 'n' to exit.: y\n",
      "Pick an operation: *\n",
      "What is the next number?: 8\n",
      "8 * 8 = 64\n",
      "Type 'y' to continue calculating with 64, or type 'n' to exit.: y\n",
      "Pick an operation: /\n",
      "What is the next number?: 2\n",
      "64 / 2 = 32.0\n",
      "Type 'y' to continue calculating with 32.0, or type 'n' to exit.: n\n"
     ]
    }
   ],
   "source": [
    "# Calculator - part 3 -> Teacher solution\n",
    "\n",
    "# Add Calculator Functions\n",
    "\n",
    "# Add \n",
    "def add(n1, n2):\n",
    "    return n1 + n2\n",
    "\n",
    "# Subtrack\n",
    "def subtract(n1, n2):\n",
    "    return n1 - n2\n",
    "\n",
    "# Multiply \n",
    "def multiply(n1, n2):\n",
    "    return n1 * n2\n",
    "\n",
    "# Divide\n",
    "def divide(n1, n2):\n",
    "    return n1 / n2\n",
    "\n",
    "# Create a dictionary named operations\n",
    "operations = {\n",
    "    '+': add,\n",
    "    '-': subtract,\n",
    "    '*': multiply,\n",
    "    '/': divide,\n",
    "}\n",
    "\n",
    "# input number 1\n",
    "num1 = int(input(\"What is the first number?: \"))\n",
    "\n",
    "# print operations to console\n",
    "for symbol in operations:\n",
    "    print(symbol)\n",
    "\n",
    "should_continue = True\n",
    "\n",
    "while should_continue:\n",
    "    # input operation symbol to cosole\n",
    "    operation_symbol = input(\"Pick an operation: \")\n",
    "\n",
    "    # input number 2\n",
    "    num2 = int(input(\"What is the next number?: \"))\n",
    "\n",
    "    # print first result \n",
    "    calculation_function = operations[operation_symbol]\n",
    "    answer = calculation_function(num1, num2)\n",
    "\n",
    "    print(f\"{num1} {operation_symbol} {num2} = {answer}\")\n",
    "    \n",
    "    if input(f\"Type 'y' to continue calculating with {answer}, or type 'n' to exit.: \") == 'y':\n",
    "        num1 = answer\n",
    "    else:\n",
    "        should_continue = False"
   ]
  },
  {
   "cell_type": "code",
   "execution_count": 18,
   "id": "942b395c",
   "metadata": {},
   "outputs": [
    {
     "name": "stdout",
     "output_type": "stream",
     "text": [
      "What is the first number?: 7\n",
      "+\n",
      "-\n",
      "*\n",
      "/\n",
      "Pick an operation: +\n",
      "What is the next number?: 3\n",
      "7 + 3 = 10\n",
      "Type 'y' to continue calculating with 10, or type 'n' to start a new calculation.: n\n",
      "What is the first number?: 3\n",
      "+\n",
      "-\n",
      "*\n",
      "/\n",
      "Pick an operation: +\n",
      "What is the next number?: 2\n",
      "3 + 2 = 5\n",
      "Type 'y' to continue calculating with 5, or type 'n' to start a new calculation.: ㅜ\n",
      "What is the first number?: n\n"
     ]
    },
    {
     "ename": "ValueError",
     "evalue": "invalid literal for int() with base 10: 'n'",
     "output_type": "error",
     "traceback": [
      "\u001b[0;31m---------------------------------------------------------------------------\u001b[0m",
      "\u001b[0;31mValueError\u001b[0m                                Traceback (most recent call last)",
      "Input \u001b[0;32mIn [18]\u001b[0m, in \u001b[0;36m<cell line: 58>\u001b[0;34m()\u001b[0m\n\u001b[1;32m     55\u001b[0m             should_continue \u001b[38;5;241m=\u001b[39m \u001b[38;5;28;01mFalse\u001b[39;00m\n\u001b[1;32m     56\u001b[0m             calculator()\n\u001b[0;32m---> 58\u001b[0m \u001b[43mcalculator\u001b[49m\u001b[43m(\u001b[49m\u001b[43m)\u001b[49m\n",
      "Input \u001b[0;32mIn [18]\u001b[0m, in \u001b[0;36mcalculator\u001b[0;34m()\u001b[0m\n\u001b[1;32m     54\u001b[0m \u001b[38;5;28;01melse\u001b[39;00m:\n\u001b[1;32m     55\u001b[0m     should_continue \u001b[38;5;241m=\u001b[39m \u001b[38;5;28;01mFalse\u001b[39;00m\n\u001b[0;32m---> 56\u001b[0m     \u001b[43mcalculator\u001b[49m\u001b[43m(\u001b[49m\u001b[43m)\u001b[49m\n",
      "Input \u001b[0;32mIn [18]\u001b[0m, in \u001b[0;36mcalculator\u001b[0;34m()\u001b[0m\n\u001b[1;32m     54\u001b[0m \u001b[38;5;28;01melse\u001b[39;00m:\n\u001b[1;32m     55\u001b[0m     should_continue \u001b[38;5;241m=\u001b[39m \u001b[38;5;28;01mFalse\u001b[39;00m\n\u001b[0;32m---> 56\u001b[0m     \u001b[43mcalculator\u001b[49m\u001b[43m(\u001b[49m\u001b[43m)\u001b[49m\n",
      "Input \u001b[0;32mIn [18]\u001b[0m, in \u001b[0;36mcalculator\u001b[0;34m()\u001b[0m\n\u001b[1;32m     29\u001b[0m \u001b[38;5;28;01mdef\u001b[39;00m \u001b[38;5;21mcalculator\u001b[39m():\n\u001b[1;32m     30\u001b[0m     \u001b[38;5;66;03m# input number 1\u001b[39;00m\n\u001b[0;32m---> 31\u001b[0m     num1 \u001b[38;5;241m=\u001b[39m \u001b[38;5;28;43mint\u001b[39;49m\u001b[43m(\u001b[49m\u001b[38;5;28;43minput\u001b[39;49m\u001b[43m(\u001b[49m\u001b[38;5;124;43m\"\u001b[39;49m\u001b[38;5;124;43mWhat is the first number?: \u001b[39;49m\u001b[38;5;124;43m\"\u001b[39;49m\u001b[43m)\u001b[49m\u001b[43m)\u001b[49m\n\u001b[1;32m     33\u001b[0m     \u001b[38;5;66;03m# print operations to console\u001b[39;00m\n\u001b[1;32m     34\u001b[0m     \u001b[38;5;28;01mfor\u001b[39;00m symbol \u001b[38;5;129;01min\u001b[39;00m operations:\n",
      "\u001b[0;31mValueError\u001b[0m: invalid literal for int() with base 10: 'n'"
     ]
    }
   ],
   "source": [
    "# Calculator - part 3 - use recursion\n",
    "\n",
    "# Add Calculator Functions\n",
    "\n",
    "# Add \n",
    "def add(n1, n2):\n",
    "    return n1 + n2\n",
    "\n",
    "# Subtrack\n",
    "def subtract(n1, n2):\n",
    "    return n1 - n2\n",
    "\n",
    "# Multiply \n",
    "def multiply(n1, n2):\n",
    "    return n1 * n2\n",
    "\n",
    "# Divide\n",
    "def divide(n1, n2):\n",
    "    return n1 / n2\n",
    "\n",
    "# Create a dictionary named operations\n",
    "operations = {\n",
    "    '+': add,\n",
    "    '-': subtract,\n",
    "    '*': multiply,\n",
    "    '/': divide,\n",
    "}\n",
    "\n",
    "def calculator():\n",
    "    # input number 1\n",
    "    num1 = int(input(\"What is the first number?: \"))\n",
    "\n",
    "    # print operations to console\n",
    "    for symbol in operations:\n",
    "        print(symbol)\n",
    "\n",
    "    should_continue = True\n",
    "\n",
    "    while should_continue:\n",
    "        # input operation symbol to cosole\n",
    "        operation_symbol = input(\"Pick an operation: \")\n",
    "\n",
    "        # input number 2\n",
    "        num2 = int(input(\"What is the next number?: \"))\n",
    "\n",
    "        # print first result \n",
    "        calculation_function = operations[operation_symbol]\n",
    "        answer = calculation_function(num1, num2)\n",
    "\n",
    "        print(f\"{num1} {operation_symbol} {num2} = {answer}\")\n",
    "        \n",
    "        # ask for continue or stop\n",
    "        if input(f\"Type 'y' to continue calculating with {answer}, or type 'n' to start a new calculation.: \") == 'y':\n",
    "            num1 = answer\n",
    "        else:\n",
    "            should_continue = False\n",
    "            calculator()           # 만약 continue가 False인 경우 내가 만든 함수를 다시 재사용 (a.k.a 재귀)\n",
    "            \n",
    "calculator()"
   ]
  },
  {
   "cell_type": "code",
   "execution_count": null,
   "id": "f523d59e",
   "metadata": {},
   "outputs": [],
   "source": []
  }
 ],
 "metadata": {
  "kernelspec": {
   "display_name": "Python 3 (ipykernel)",
   "language": "python",
   "name": "python3"
  },
  "language_info": {
   "codemirror_mode": {
    "name": "ipython",
    "version": 3
   },
   "file_extension": ".py",
   "mimetype": "text/x-python",
   "name": "python",
   "nbconvert_exporter": "python",
   "pygments_lexer": "ipython3",
   "version": "3.8.12"
  }
 },
 "nbformat": 4,
 "nbformat_minor": 5
}
