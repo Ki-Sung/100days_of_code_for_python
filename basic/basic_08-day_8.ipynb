{
 "cells": [
  {
   "cell_type": "code",
   "execution_count": null,
   "id": "64823ece",
   "metadata": {},
   "outputs": [],
   "source": [
    "# 기존 함수 구조 \n",
    "def my_function():\n",
    "    # Do this \n",
    "    # Then do this \n",
    "    # Finally do this "
   ]
  },
  {
   "cell_type": "code",
   "execution_count": 3,
   "id": "553e34dd",
   "metadata": {},
   "outputs": [],
   "source": [
    "# 함수 선언\n",
    "def greet():\n",
    "    print(\"Hello\")\n",
    "    print(\"How do you do\")\n",
    "    print(\"Isn't the weather nice today?\")"
   ]
  },
  {
   "cell_type": "code",
   "execution_count": 4,
   "id": "56121a8e",
   "metadata": {},
   "outputs": [
    {
     "name": "stdout",
     "output_type": "stream",
     "text": [
      "Hello\n",
      "How do you do\n",
      "Isn't the weather nice today?\n"
     ]
    }
   ],
   "source": [
    "# 선언한 함수 불러오기 \n",
    "greet()"
   ]
  },
  {
   "cell_type": "code",
   "execution_count": null,
   "id": "1692eb2e",
   "metadata": {},
   "outputs": [],
   "source": [
    "# 위 코드를 변경하려면 일일이 바꿔줘야하는데, 괄홍란에 어떤 변수의 이름을 \n",
    "# 함수의 초기 입력 값으로 넣을 수 있다, \n",
    "def my_function(something):\n",
    "    # Do this with something\n",
    "    # Then do this \n",
    "    # Finally do this "
   ]
  },
  {
   "cell_type": "code",
   "execution_count": 5,
   "id": "6d6d16e0",
   "metadata": {},
   "outputs": [],
   "source": [
    "# 위의 greet 함수에 입력값을 넣을 수 있게 설정하기 \n",
    "def greet_with_name(name):\n",
    "    print(f\"Hello {name}\")\n",
    "    print(f\"How do you do{name}?\")"
   ]
  },
  {
   "cell_type": "code",
   "execution_count": 6,
   "id": "43fc1f65",
   "metadata": {},
   "outputs": [
    {
     "name": "stdout",
     "output_type": "stream",
     "text": [
      "Hello Angeli\n",
      "How do you doAngeli?\n"
     ]
    }
   ],
   "source": [
    "greet_with_name(\"Angeli\")"
   ]
  },
  {
   "cell_type": "code",
   "execution_count": null,
   "id": "d0cdb492",
   "metadata": {},
   "outputs": [],
   "source": []
  },
  {
   "cell_type": "code",
   "execution_count": null,
   "id": "e060e255",
   "metadata": {},
   "outputs": [],
   "source": []
  }
 ],
 "metadata": {
  "kernelspec": {
   "display_name": "Python 3 (ipykernel)",
   "language": "python",
   "name": "python3"
  },
  "language_info": {
   "codemirror_mode": {
    "name": "ipython",
    "version": 3
   },
   "file_extension": ".py",
   "mimetype": "text/x-python",
   "name": "python",
   "nbconvert_exporter": "python",
   "pygments_lexer": "ipython3",
   "version": "3.8.12"
  }
 },
 "nbformat": 4,
 "nbformat_minor": 5
}
