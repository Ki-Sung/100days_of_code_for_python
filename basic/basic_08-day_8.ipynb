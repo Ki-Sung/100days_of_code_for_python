{
 "cells": [
  {
   "cell_type": "code",
   "execution_count": null,
   "id": "bb03a187",
   "metadata": {},
   "outputs": [],
   "source": [
    "# 기존 함수 구조 \n",
    "def my_function():\n",
    "    # Do this \n",
    "    # Then do this \n",
    "    # Finally do this "
   ]
  },
  {
   "cell_type": "code",
   "execution_count": 10,
   "id": "6468a45b",
   "metadata": {},
   "outputs": [],
   "source": [
    "# 함수 선언\n",
    "def greet():\n",
    "    print(\"Hello\")\n",
    "    print(\"How do you do\")\n",
    "    print(\"Isn't the weather nice today?\")"
   ]
  },
  {
   "cell_type": "code",
   "execution_count": 11,
   "id": "3d666e5f",
   "metadata": {},
   "outputs": [
    {
     "name": "stdout",
     "output_type": "stream",
     "text": [
      "Hello\n",
      "How do you do\n",
      "Isn't the weather nice today?\n"
     ]
    }
   ],
   "source": [
    "# 선언한 함수 불러오기 \n",
    "greet()"
   ]
  },
  {
   "cell_type": "code",
   "execution_count": null,
   "id": "6f123a56",
   "metadata": {},
   "outputs": [],
   "source": [
    "# 위 코드를 변경하려면 일일이 바꿔줘야하는데, 괄홍란에 어떤 변수의 이름을 \n",
    "# 함수의 초기 입력 값으로 넣을 수 있다, \n",
    "def my_function(something):\n",
    "    # Do this with something\n",
    "    # Then do this \n",
    "    # Finally do this "
   ]
  },
  {
   "cell_type": "markdown",
   "id": "531a5273",
   "metadata": {},
   "source": [
    "- 함수 입력 값에 대해서는 두 가지를 기억하자! \n",
    "- 예시) my_function(123)\n",
    "    - 함수를 호출할 때 데이터를 전달하기 위해 something 이라는 변수를 새로 만들었고, 이 something은 넣어준 데이터 123과 같다. \n",
    "    - 프로그래임 용어에서는 something 파라미터이고, 데이터 즉 123은 아규먼트라 불린다. \n",
    "    - **아규먼트는 함수로 전달되고 호출되는 데이터를 의미하고, 파라미터는 그 데이터의 이름으로 함수 안에서 그 변수가 사용될 때 쓰인다.**"
   ]
  },
  {
   "cell_type": "code",
   "execution_count": 12,
   "id": "2837c845",
   "metadata": {},
   "outputs": [],
   "source": [
    "# 위의 greet 함수에 입력값을 넣을 수 있게 설정하기 \n",
    "def greet_with_name(name):\n",
    "    print(f\"Hello {name}\")\n",
    "    print(f\"How do you do {name}?\")"
   ]
  },
  {
   "cell_type": "code",
   "execution_count": 13,
   "id": "75be9a7f",
   "metadata": {},
   "outputs": [
    {
     "name": "stdout",
     "output_type": "stream",
     "text": [
      "Hello Kisung\n",
      "How do you do Kisung?\n"
     ]
    }
   ],
   "source": [
    "# 선언한 함수 적용\n",
    "greet_with_name(\"Kisung\")"
   ]
  },
  {
   "cell_type": "code",
   "execution_count": 30,
   "id": "8d69d97c",
   "metadata": {},
   "outputs": [],
   "source": [
    "# 입력이 한 개 이상인 함수 -> 파라미터가 1개 이상인 경우\n",
    "def greet_with(name, location):\n",
    "    print(f\"Hello {name}\")\n",
    "    print(f\"What is it like in {location}?\")"
   ]
  },
  {
   "cell_type": "code",
   "execution_count": 20,
   "id": "90e4be78",
   "metadata": {},
   "outputs": [
    {
     "name": "stdout",
     "output_type": "stream",
     "text": [
      "Hello kisung\n",
      "What is it like in Seoul?\n"
     ]
    }
   ],
   "source": [
    "greet_with(\"kisung\", \"Seoul\")"
   ]
  },
  {
   "cell_type": "code",
   "execution_count": 21,
   "id": "ea906233",
   "metadata": {},
   "outputs": [
    {
     "name": "stdout",
     "output_type": "stream",
     "text": [
      "Hello Seoul\n",
      "What is it like in kisung?\n"
     ]
    }
   ],
   "source": [
    "# 아규먼트를 바꾸니 결과가 바뀐다. -> 파이썬 코딩에서는 함수 호출 시 어떤 파라미터에 어떤 데이터가 할당 될지 \n",
    "# 특정하지 않고 위치만으로 결정하기 때문에 위치 인자라 한다.\n",
    "greet_with(\"Seoul\", \"kisung\")"
   ]
  },
  {
   "cell_type": "code",
   "execution_count": null,
   "id": "cdea6841",
   "metadata": {},
   "outputs": [],
   "source": [
    "# 만약 위처럼 함수를 호출할 때, 문제가 생기지 않도록 키워드 아규먼트라는 것을 사용할 수 있다. \n",
    "# 함수 선언시 괄호 안에 아규먼트를 넣는 대신, 각각의 파라미터의 이름과 등호를 이용해 할당 할 수 있다.\n",
    "# 예시 \n",
    "# my_function(a=1, b=2, c=3)"
   ]
  },
  {
   "cell_type": "code",
   "execution_count": 31,
   "id": "213ad48e",
   "metadata": {},
   "outputs": [
    {
     "name": "stdout",
     "output_type": "stream",
     "text": [
      "Hello kisung\n",
      "What is it like in Seoul?\n"
     ]
    }
   ],
   "source": [
    "greet_with(location=\"Seoul\", name=\"kisung\")"
   ]
  },
  {
   "cell_type": "code",
   "execution_count": 38,
   "id": "c541c6c0",
   "metadata": {},
   "outputs": [
    {
     "name": "stdout",
     "output_type": "stream",
     "text": [
      "Height of wall: 3\n",
      "Width of wall: 9\n",
      "You'll need 5 cans of paint.\n"
     ]
    }
   ],
   "source": [
    "# exercise 1 - Area Calc\n",
    "#Write your code below this line 👇\n",
    "\n",
    "def paint_calc(height, width, cover):\n",
    "    result = round((height * width)/cover)\n",
    "    print(f\"You'll need {result} cans of paint.\")\n",
    "\n",
    "#Write your code above this line 👆\n",
    "# Define a function called paint_calc() so that the code below works.   \n",
    "\n",
    "# 🚨 Don't change the code below 👇\n",
    "test_h = int(input(\"Height of wall: \"))\n",
    "test_w = int(input(\"Width of wall: \"))\n",
    "coverage = 5\n",
    "paint_calc(height=test_h, width=test_w, cover=coverage)"
   ]
  },
  {
   "cell_type": "code",
   "execution_count": 37,
   "id": "1ed6a0b4",
   "metadata": {},
   "outputs": [
    {
     "name": "stdout",
     "output_type": "stream",
     "text": [
      "Height of wall: 3\n",
      "Width of wall: 9\n",
      "You'll need 6 cans of paint.\n"
     ]
    }
   ],
   "source": [
    "# exercise 1 - Area Calc - teacher solution\n",
    "import math\n",
    "\n",
    "def paint_calc(height, width, cover):\n",
    "    area = height * width\n",
    "    num_of_cans = math.ceil(area / cover)\n",
    "    print(f\"You'll need {num_of_cans} cans of paint.\")\n",
    "    \n",
    "test_h = int(input(\"Height of wall: \"))\n",
    "test_w = int(input(\"Width of wall: \"))\n",
    "coverage = 5\n",
    "paint_calc(height=test_h, width=test_w, cover=coverage)"
   ]
  },
  {
   "cell_type": "code",
   "execution_count": 3,
   "id": "1bd3c9cc",
   "metadata": {},
   "outputs": [
    {
     "name": "stdout",
     "output_type": "stream",
     "text": [
      "Check this number: 73\n",
      "It's a prime number\n"
     ]
    }
   ],
   "source": [
    "# exercise 2 - Prime Numbers\n",
    "\n",
    "#Write your code below this line 👇\n",
    "def prime_checker(number):\n",
    "    is_prime = True                # is_prime이라는 변수를 만들때, Ture 값을 할당\n",
    "    for i in range(2, number):     # 1은 나눠줄 필요가 없으므로 2부터 시작 -> 자기 숫자도 포함 X => 2부터 자기 숫자 직전까지 나눴을 때 나머지가 0이 나오면 소수가 아님!\n",
    "        if number % i == 0:        # 만약 입력한 숫자의 나머지가 0인경우, 소수가 아님!\n",
    "            is_prime = False       # 만약 해당 조건문이 작동되었다면, prime이 아니다.\n",
    "    if is_prime:\n",
    "        print(\"It's a prime number\")\n",
    "    else:\n",
    "        print(\"It's not a prime number\")\n",
    "\n",
    "\n",
    "#Write your code above this line 👆\n",
    "    \n",
    "#Do NOT change any of the code below👇\n",
    "n = int(input(\"Check this number: \"))\n",
    "prime_checker(number=n)"
   ]
  },
  {
   "cell_type": "code",
   "execution_count": 5,
   "id": "047be3a8",
   "metadata": {},
   "outputs": [
    {
     "name": "stdout",
     "output_type": "stream",
     "text": [
      "Type 'encode' to encrypt, type 'decode' to decrypt:\n",
      "encode\n",
      "Type your message:\n",
      "hello\n",
      "Type the shift number:\n",
      "5\n",
      "The encoded text is mjqqt\n"
     ]
    }
   ],
   "source": [
    "# final project - chapter 1 - encoding\n",
    "alphabet = ['a', 'b', 'c', 'd', 'e', 'f', 'g', 'h', 'i', 'j', 'k', 'l', \n",
    "            'm', 'n', 'o', 'p', 'q', 'r', 's', 't', 'u', 'v', 'w', 'x', \n",
    "            'y', 'z', 'a', 'b', 'c', 'd', 'e', 'f', 'g', 'h', 'i', 'j', 'k', 'l', \n",
    "            'm', 'n', 'o', 'p', 'q', 'r', 's', 't', 'u', 'v', 'w', 'x', \n",
    "            'y', 'z']                  # 마지막 글자를 위해 알파벳 데이터를 하나 더 생성 \n",
    "\n",
    "direction = input(\"Type 'encode' to encrypt, type 'decode' to decrypt:\\n\")\n",
    "text = input(\"Type your message:\\n\").lower()\n",
    "shift = int(input(\"Type the shift number:\\n\"))\n",
    "\n",
    "#TODO-1: Create a function called 'encrypt' that takes the 'text' and 'shift' as inputs.\n",
    "def encrypt(plain_text, shift_amount):\n",
    "    cipher_text = \"\"         # 빈 텍스트 선언\n",
    "    #TODO-2: Inside the 'encrypt' function, shift each letter of the 'text' forwards in the alphabet by the shift amount and print the encrypted text.  \n",
    "    #e.g. \n",
    "    #plain_text = \"hello\"\n",
    "    #shift = 5\n",
    "    #cipher_text = \"mjqqt\"\n",
    "    #print output: \"The encoded text is mjqqt\"\n",
    "    for letter in plain_text:\n",
    "        position = alphabet.index(letter)       # 입력한 숫자 알파벳 위치 \n",
    "        new_position = position + shift_amount  # 알파벳 위치와 shift 값 (원래 위치 수 + 옮겨야할 위치 수)\n",
    "        new_letter = alphabet[new_position]     # 값을 구한 뒤 나오는 새로운 알파벳 위치 (예 hello의 h가 7, 옮겨야할 shift 값 5)\n",
    "        cipher_text += new_letter               # \n",
    "    print(f\"The encoded text is {cipher_text}\")\n",
    "    \n",
    "encrypt(plain_text=text, shift_amount=shift)\n",
    "\n",
    "    ##HINT: How do you get the index of an item in a list:\n",
    "    #https://stackoverflow.com/questions/176918/finding-the-index-of-an-item-in-a-list\n",
    "\n",
    "    ##🐛Bug alert: What happens if you try to encode the word 'civilization'?🐛\n"
   ]
  },
  {
   "cell_type": "code",
   "execution_count": 15,
   "id": "49d2bbc2",
   "metadata": {},
   "outputs": [
    {
     "name": "stdout",
     "output_type": "stream",
     "text": [
      "Type 'encode' to encrypt, type 'decode' to decrypt:\n",
      "decode\n",
      "Type your message:\n",
      "mjqqt\n",
      "Type the shift number:\n",
      "5\n",
      "The decoded text is hello\n"
     ]
    }
   ],
   "source": [
    "# final project - chapter 2 - decoding\n",
    "alphabet = ['a', 'b', 'c', 'd', 'e', 'f', 'g', 'h', 'i', 'j', 'k', 'l', \n",
    "            'm', 'n', 'o', 'p', 'q', 'r', 's', 't', 'u', 'v', 'w', 'x', \n",
    "            'y', 'z', 'a', 'b', 'c', 'd', 'e', 'f', 'g', 'h', 'i', 'j', 'k', 'l', \n",
    "            'm', 'n', 'o', 'p', 'q', 'r', 's', 't', 'u', 'v', 'w', 'x', \n",
    "            'y', 'z']  \n",
    "\n",
    "direction = input(\"Type 'encode' to encrypt, type 'decode' to decrypt:\\n\")\n",
    "text = input(\"Type your message:\\n\").lower()\n",
    "shift = int(input(\"Type the shift number:\\n\"))\n",
    "\n",
    "def encrypt(plain_text, shift_amount):\n",
    "    cipher_text = \"\"\n",
    "    for letter in plain_text:\n",
    "        position = alphabet.index(letter)\n",
    "        new_position = position + shift_amount\n",
    "        cipher_text += alphabet[new_position]\n",
    "    print(f\"The encoded text is {cipher_text}\")\n",
    "    \n",
    "#TODO-1: Create a different function called 'decrypt' that takes the 'text' and 'shift' as inputs.\n",
    "def decrypt(cipher_text, shift_amount):\n",
    "    plain_text = \"\"\n",
    "    #TODO-2: Inside the 'decrypt' function, shift each letter of the 'text' *backwards* in the alphabet by the shift amount and print the decrypted text.  \n",
    "    #e.g. \n",
    "    #cipher_text = \"mjqqt\"\n",
    "    #shift = 5\n",
    "    #plain_text = \"hello\"\n",
    "    #print output: \"The decoded text is hello\"\n",
    "    for letter in cipher_text:\n",
    "        position = alphabet.index(letter)\n",
    "        new_position = position - shift_amount\n",
    "        plain_text += alphabet[new_position]\n",
    "    print(f\"The decoded text is {plain_text}\")\n",
    "\n",
    "#TODO-3: Check if the user wanted to encrypt or decrypt the message by checking the 'direction' variable. Then call the correct function based on that 'drection' variable. You should be able to test the code to encrypt *AND* decrypt a message.\n",
    "if direction == \"encode\":\n",
    "    encrypt(plain_text=text, shift_amount=shift)\n",
    "elif direction == \"decode\":\n",
    "    decrypt(cipher_text=text, shift_amount=shift)\n",
    "else:\n",
    "    print(\"Make sure, typing encode or decode, You try again\")"
   ]
  },
  {
   "cell_type": "code",
   "execution_count": 25,
   "id": "22495e7b",
   "metadata": {},
   "outputs": [
    {
     "name": "stdout",
     "output_type": "stream",
     "text": [
      "Type 'encode' to encrypt, type 'decode' to decrypt:\n",
      "decode\n",
      "Type your message:\n",
      "mjqqt\n",
      "Type the shift number:\n",
      "5\n",
      "The decoded text is hello\n"
     ]
    }
   ],
   "source": [
    "# final project - chapter 3 - comebine to one function\n",
    "alphabet = ['a', 'b', 'c', 'd', 'e', 'f', 'g', 'h', 'i', 'j', 'k', 'l', \n",
    "            'm', 'n', 'o', 'p', 'q', 'r', 's', 't', 'u', 'v', 'w', 'x', \n",
    "            'y', 'z', 'a', 'b', 'c', 'd', 'e', 'f', 'g', 'h', 'i', 'j', 'k', 'l', \n",
    "            'm', 'n', 'o', 'p', 'q', 'r', 's', 't', 'u', 'v', 'w', 'x', \n",
    "            'y', 'z']  \n",
    "\n",
    "direction = input(\"Type 'encode' to encrypt, type 'decode' to decrypt:\\n\")\n",
    "text = input(\"Type your message:\\n\").lower()\n",
    "shift = int(input(\"Type the shift number:\\n\"))\n",
    "\n",
    "#TODO-1: Combine the encrypt() and decrypt() functions into a single function called caesar().\n",
    "def casar(start_text, shift_amount, cipher_direction):\n",
    "    end_text = \"\"\n",
    "    if cipher_direction == \"decode\":\n",
    "        shift_amount *= -1\n",
    "    for letter in start_text:\n",
    "        position = alphabet.index(letter)\n",
    "        new_position = position + shift_amount\n",
    "        end_text += alphabet[new_position]\n",
    "    print(f\"The {cipher_direction}d text is {end_text}\")\n",
    "\n",
    "#TODO-2: Call the caesar() function, passing over the 'text', 'shift' and 'direction' values.\n",
    "casar(start_text=text, shift_amount=shift, cipher_direction=direction)"
   ]
  },
  {
   "cell_type": "code",
   "execution_count": null,
   "id": "22996945",
   "metadata": {},
   "outputs": [],
   "source": []
  },
  {
   "cell_type": "code",
   "execution_count": null,
   "id": "e05b2be7",
   "metadata": {},
   "outputs": [],
   "source": []
  },
  {
   "cell_type": "code",
   "execution_count": null,
   "id": "d3e177f7",
   "metadata": {},
   "outputs": [],
   "source": []
  },
  {
   "cell_type": "code",
   "execution_count": null,
   "id": "e80cc98e",
   "metadata": {},
   "outputs": [],
   "source": []
  }
 ],
 "metadata": {
  "kernelspec": {
   "display_name": "Python 3 (ipykernel)",
   "language": "python",
   "name": "python3"
  },
  "language_info": {
   "codemirror_mode": {
    "name": "ipython",
    "version": 3
   },
   "file_extension": ".py",
   "mimetype": "text/x-python",
   "name": "python",
   "nbconvert_exporter": "python",
   "pygments_lexer": "ipython3",
   "version": "3.8.12"
  }
 },
 "nbformat": 4,
 "nbformat_minor": 5
}
