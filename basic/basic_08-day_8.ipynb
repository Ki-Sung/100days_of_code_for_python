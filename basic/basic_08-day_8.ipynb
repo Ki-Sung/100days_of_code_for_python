{
 "cells": [
  {
   "cell_type": "code",
   "execution_count": null,
   "id": "639bf8a8",
   "metadata": {},
   "outputs": [],
   "source": [
    "# 기존 함수 구조 \n",
    "def my_function():\n",
    "    # Do this \n",
    "    # Then do this \n",
    "    # Finally do this "
   ]
  },
  {
   "cell_type": "code",
   "execution_count": 10,
   "id": "277ae47c",
   "metadata": {},
   "outputs": [],
   "source": [
    "# 함수 선언\n",
    "def greet():\n",
    "    print(\"Hello\")\n",
    "    print(\"How do you do\")\n",
    "    print(\"Isn't the weather nice today?\")"
   ]
  },
  {
   "cell_type": "code",
   "execution_count": 11,
   "id": "f55e575e",
   "metadata": {},
   "outputs": [
    {
     "name": "stdout",
     "output_type": "stream",
     "text": [
      "Hello\n",
      "How do you do\n",
      "Isn't the weather nice today?\n"
     ]
    }
   ],
   "source": [
    "# 선언한 함수 불러오기 \n",
    "greet()"
   ]
  },
  {
   "cell_type": "code",
   "execution_count": null,
   "id": "715dea55",
   "metadata": {},
   "outputs": [],
   "source": [
    "# 위 코드를 변경하려면 일일이 바꿔줘야하는데, 괄홍란에 어떤 변수의 이름을 \n",
    "# 함수의 초기 입력 값으로 넣을 수 있다, \n",
    "def my_function(something):\n",
    "    # Do this with something\n",
    "    # Then do this \n",
    "    # Finally do this "
   ]
  },
  {
   "cell_type": "markdown",
   "id": "aeffb62e",
   "metadata": {},
   "source": [
    "- 함수 입력 값에 대해서는 두 가지를 기억하자! \n",
    "- 예시) my_function(123)\n",
    "    - 함수를 호출할 때 데이터를 전달하기 위해 something 이라는 변수를 새로 만들었고, 이 something은 넣어준 데이터 123과 같다. \n",
    "    - 프로그래임 용어에서는 something 파라미터이고, 데이터 즉 123은 아규먼트라 불린다. \n",
    "    - **아규먼트는 함수로 전달되고 호출되는 데이터를 의미하고, 파라미터는 그 데이터의 이름으로 함수 안에서 그 변수가 사용될 때 쓰인다.**"
   ]
  },
  {
   "cell_type": "code",
   "execution_count": 12,
   "id": "6c79ea3e",
   "metadata": {},
   "outputs": [],
   "source": [
    "# 위의 greet 함수에 입력값을 넣을 수 있게 설정하기 \n",
    "def greet_with_name(name):\n",
    "    print(f\"Hello {name}\")\n",
    "    print(f\"How do you do {name}?\")"
   ]
  },
  {
   "cell_type": "code",
   "execution_count": 13,
   "id": "04235d0b",
   "metadata": {},
   "outputs": [
    {
     "name": "stdout",
     "output_type": "stream",
     "text": [
      "Hello Kisung\n",
      "How do you do Kisung?\n"
     ]
    }
   ],
   "source": [
    "# 선언한 함수 적용\n",
    "greet_with_name(\"Kisung\")"
   ]
  },
  {
   "cell_type": "code",
   "execution_count": 30,
   "id": "612a3043",
   "metadata": {},
   "outputs": [],
   "source": [
    "# 입력이 한 개 이상인 함수 -> 파라미터가 1개 이상인 경우\n",
    "def greet_with(name, location):\n",
    "    print(f\"Hello {name}\")\n",
    "    print(f\"What is it like in {location}?\")"
   ]
  },
  {
   "cell_type": "code",
   "execution_count": 20,
   "id": "4a429a46",
   "metadata": {},
   "outputs": [
    {
     "name": "stdout",
     "output_type": "stream",
     "text": [
      "Hello kisung\n",
      "What is it like in Seoul?\n"
     ]
    }
   ],
   "source": [
    "greet_with(\"kisung\", \"Seoul\")"
   ]
  },
  {
   "cell_type": "code",
   "execution_count": 21,
   "id": "80e32170",
   "metadata": {},
   "outputs": [
    {
     "name": "stdout",
     "output_type": "stream",
     "text": [
      "Hello Seoul\n",
      "What is it like in kisung?\n"
     ]
    }
   ],
   "source": [
    "# 아규먼트를 바꾸니 결과가 바뀐다. -> 파이썬 코딩에서는 함수 호출 시 어떤 파라미터에 어떤 데이터가 할당 될지 \n",
    "# 특정하지 않고 위치만으로 결정하기 때문에 위치 인자라 한다.\n",
    "greet_with(\"Seoul\", \"kisung\")"
   ]
  },
  {
   "cell_type": "code",
   "execution_count": null,
   "id": "8733a64b",
   "metadata": {},
   "outputs": [],
   "source": [
    "# 만약 위처럼 함수를 호출할 때, 문제가 생기지 않도록 키워드 아규먼트라는 것을 사용할 수 있다. \n",
    "# 함수 선언시 괄호 안에 아규먼트를 넣는 대신, 각각의 파라미터의 이름과 등호를 이용해 할당 할 수 있다.\n",
    "# 예시 \n",
    "# my_function(a=1, b=2, c=3)"
   ]
  },
  {
   "cell_type": "code",
   "execution_count": 31,
   "id": "fbfecfaf",
   "metadata": {},
   "outputs": [
    {
     "name": "stdout",
     "output_type": "stream",
     "text": [
      "Hello kisung\n",
      "What is it like in Seoul?\n"
     ]
    }
   ],
   "source": [
    "greet_with(location=\"Seoul\", name=\"kisung\")"
   ]
  },
  {
   "cell_type": "code",
   "execution_count": 28,
   "id": "6838698f",
   "metadata": {},
   "outputs": [],
   "source": []
  },
  {
   "cell_type": "code",
   "execution_count": null,
   "id": "71818274",
   "metadata": {},
   "outputs": [],
   "source": []
  }
 ],
 "metadata": {
  "kernelspec": {
   "display_name": "Python 3 (ipykernel)",
   "language": "python",
   "name": "python3"
  },
  "language_info": {
   "codemirror_mode": {
    "name": "ipython",
    "version": 3
   },
   "file_extension": ".py",
   "mimetype": "text/x-python",
   "name": "python",
   "nbconvert_exporter": "python",
   "pygments_lexer": "ipython3",
   "version": "3.8.12"
  }
 },
 "nbformat": 4,
 "nbformat_minor": 5
}
