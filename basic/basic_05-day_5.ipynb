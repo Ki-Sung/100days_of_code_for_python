{
 "cells": [
  {
   "cell_type": "code",
   "execution_count": null,
   "id": "7ccef06f",
   "metadata": {},
   "outputs": [],
   "source": [
    "# for loop \n",
    "for item in list_of_items:\n",
    "    # Do something to each item"
   ]
  },
  {
   "cell_type": "code",
   "execution_count": 1,
   "id": "2747f2dc",
   "metadata": {},
   "outputs": [],
   "source": [
    "fruits = [\"Apple\", \"Peach\", \"Pear\"]"
   ]
  },
  {
   "cell_type": "code",
   "execution_count": 2,
   "id": "09875aac",
   "metadata": {},
   "outputs": [
    {
     "name": "stdout",
     "output_type": "stream",
     "text": [
      "Apple\n",
      "Apple Pie\n",
      "Peach\n",
      "Peach Pie\n",
      "Pear\n",
      "Pear Pie\n",
      "['Apple', 'Peach', 'Pear']\n"
     ]
    }
   ],
   "source": [
    "for fruit in fruits:\n",
    "    print(fruit)\n",
    "    print(fruit + \" Pie\")\n",
    "print(fruits)"
   ]
  },
  {
   "cell_type": "code",
   "execution_count": 14,
   "id": "28a54d49",
   "metadata": {},
   "outputs": [
    {
     "name": "stdout",
     "output_type": "stream",
     "text": [
      "Input a list of student heights 180 124 165 173 189 169 146\n",
      "[180, 124, 165, 173, 189, 169, 146]\n",
      "1146\n",
      "163.71428571428572\n"
     ]
    }
   ],
   "source": [
    "# Exercise 1 - Average Height Exercise\n",
    "student_heights = input(\"Input a list of student heights \").split()\n",
    "\n",
    "for n in range(0, len(student_heights)):\n",
    "    student_heights[n] = int(student_heights[n])\n",
    "print(student_heights)\n",
    "\n",
    "plus = 0\n",
    "for i in student_heights:\n",
    "    plus =  plus + i\n",
    "\n",
    "print(plus)\n",
    "\n",
    "# Average Height\n",
    "result = plus / len(student_heights)\n",
    "print(result)"
   ]
  },
  {
   "cell_type": "code",
   "execution_count": 15,
   "id": "8e1deb48",
   "metadata": {},
   "outputs": [
    {
     "name": "stdout",
     "output_type": "stream",
     "text": [
      "Input a list of student heights 180 124 165 173 189 169 146\n",
      "[180, 124, 165, 173, 189, 169, 146]\n",
      "163.71428571428572\n"
     ]
    }
   ],
   "source": [
    "# Exercise 1 - Average Height Exercise\n",
    "student_heights = input(\"Input a list of student heights \").split()\n",
    "\n",
    "for n in range(0, len(student_heights)):\n",
    "    student_heights[n] = int(student_heights[n])\n",
    "\n",
    "print(student_heights)\n",
    "\n",
    "# Average Height\n",
    "result = sum(student_heights) / len(student_heights)\n",
    "print(result)"
   ]
  },
  {
   "cell_type": "code",
   "execution_count": 20,
   "id": "500a8b95",
   "metadata": {},
   "outputs": [
    {
     "name": "stdout",
     "output_type": "stream",
     "text": [
      "Input a list of student heights 180 124 165 173 189 169 146\n",
      "Avarage height is: 164\n"
     ]
    }
   ],
   "source": [
    "# Exercise 1 - Average Height Exercise\n",
    "student_heights = input(\"Input a list of student heights \").split()\n",
    "\n",
    "# change to integer\n",
    "for n in range(0, len(student_heights)):\n",
    "    student_heights[n] = int(student_heights[n])\n",
    "\n",
    "# use for loop total height\n",
    "total_height = 0\n",
    "for height in student_heights:\n",
    "    total_height += height\n",
    "# print(total_height)\n",
    "\n",
    "# calculate Average Height\n",
    "number_of_students = 0\n",
    "for student in student_heights:\n",
    "    number_of_students += 1\n",
    "# print(number_of_students)\n",
    "\n",
    "average_height = round(total_height / number_of_students)\n",
    "print(\"Avarage height is:\", average_height)"
   ]
  },
  {
   "cell_type": "code",
   "execution_count": 28,
   "id": "5aba677f",
   "metadata": {},
   "outputs": [
    {
     "name": "stdout",
     "output_type": "stream",
     "text": [
      "Input a list of student scores 78 65 89 86 55 91 64 89\n",
      "[78, 65, 89, 86, 55, 91, 64, 89]\n",
      "The highest score in the class is:  91\n"
     ]
    }
   ],
   "source": [
    "# Exercise 2 - Hightest Score\n",
    "student_scores = input(\"Input a list of student scores \").split()\n",
    "\n",
    "for n in range(0, len(student_scores)):\n",
    "    student_scores[n] = int(student_scores[n])\n",
    "print(student_scores)\n",
    "\n",
    "best_score = 0\n",
    "for score in student_scores:\n",
    "    if score > best_score:\n",
    "        best_score = score\n",
    "\n",
    "print(\"The highest score in the class is: \", best_score)"
   ]
  },
  {
   "cell_type": "code",
   "execution_count": null,
   "id": "409e0309",
   "metadata": {},
   "outputs": [],
   "source": []
  },
  {
   "cell_type": "code",
   "execution_count": null,
   "id": "eac29196",
   "metadata": {},
   "outputs": [],
   "source": []
  }
 ],
 "metadata": {
  "kernelspec": {
   "display_name": "Python 3 (ipykernel)",
   "language": "python",
   "name": "python3"
  },
  "language_info": {
   "codemirror_mode": {
    "name": "ipython",
    "version": 3
   },
   "file_extension": ".py",
   "mimetype": "text/x-python",
   "name": "python",
   "nbconvert_exporter": "python",
   "pygments_lexer": "ipython3",
   "version": "3.8.12"
  }
 },
 "nbformat": 4,
 "nbformat_minor": 5
}
