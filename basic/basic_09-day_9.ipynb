{
 "cells": [
  {
   "cell_type": "code",
   "execution_count": null,
   "id": "18d59735",
   "metadata": {},
   "outputs": [],
   "source": [
    "# dictionaries - Structure\n",
    "{Key: Value}"
   ]
  },
  {
   "cell_type": "code",
   "execution_count": 1,
   "id": "5b6641b3",
   "metadata": {},
   "outputs": [
    {
     "data": {
      "text/plain": [
       "{'Bug': 'An Error in a program that prevents the program from running as expected.'}"
      ]
     },
     "execution_count": 1,
     "metadata": {},
     "output_type": "execute_result"
    }
   ],
   "source": [
    "# example 1\n",
    "{\"Bug\":\"An Error in a program that prevents the program from running as expected.\"}"
   ]
  },
  {
   "cell_type": "code",
   "execution_count": 10,
   "id": "20f17467",
   "metadata": {},
   "outputs": [],
   "source": [
    "# example 2\n",
    "programming_dictionary = {\n",
    "    \"Bug\":\"An Error in a program that prevents the program from running as expected.\",\n",
    "    \"Function\":\"A piece of code that you can easily call over and over again.\",\n",
    "    \"Loop\":\"The action of doing something over and over again.\",\n",
    "}"
   ]
  },
  {
   "cell_type": "code",
   "execution_count": 3,
   "id": "ed2fec08",
   "metadata": {},
   "outputs": [
    {
     "data": {
      "text/plain": [
       "{'Bug': 'An Error in a program that prevents the program from running as expected.',\n",
       " 'Function': 'A piece of code that you can easily call over and over again.',\n",
       " 'Loop': 'The action of doing something over and over again.'}"
      ]
     },
     "execution_count": 3,
     "metadata": {},
     "output_type": "execute_result"
    }
   ],
   "source": [
    "programming_dictionary"
   ]
  },
  {
   "cell_type": "code",
   "execution_count": 4,
   "id": "78e3e288",
   "metadata": {},
   "outputs": [
    {
     "name": "stdout",
     "output_type": "stream",
     "text": [
      "An Error in a program that prevents the program from running as expected.\n"
     ]
    }
   ],
   "source": [
    "# 만약 해당 value 값을 불러오고 싶으면, []안에 key값 넣기!\n",
    "print(programming_dictionary[\"Bug\"])"
   ]
  },
  {
   "cell_type": "code",
   "execution_count": 5,
   "id": "aecf2a59",
   "metadata": {},
   "outputs": [
    {
     "name": "stdout",
     "output_type": "stream",
     "text": [
      "{'Bug': 'An Error in a program that prevents the program from running as expected.', 'Function': 'A piece of code that you can easily call over and over again.', 'Loop': 'The action of doing something over and over again.'}\n"
     ]
    }
   ],
   "source": [
    "# Adding new items to dictionary - value 값 추가\n",
    "programming_dictionary = {\n",
    "    \"Bug\":\"An Error in a program that prevents the program from running as expected.\",\n",
    "    \"Function\":\"A piece of code that you can easily call over and over again.\",\n",
    "}\n",
    "\n",
    "programming_dictionary[\"Loop\"] = \"The action of doing something over and over again.\"\n",
    "print(programming_dictionary)"
   ]
  },
  {
   "cell_type": "code",
   "execution_count": 6,
   "id": "4f50f547",
   "metadata": {},
   "outputs": [
    {
     "data": {
      "text/plain": [
       "{'kisung': 'very sincere person '}"
      ]
     },
     "execution_count": 6,
     "metadata": {},
     "output_type": "execute_result"
    }
   ],
   "source": [
    "# 빈 dictionary에 데이터 집어 넣기 \n",
    "empy_dictionary = {}\n",
    "empy_dictionary[\"kisung\"] = \"very sincere person \"\n",
    "empy_dictionary"
   ]
  },
  {
   "cell_type": "code",
   "execution_count": 7,
   "id": "232c8db1",
   "metadata": {},
   "outputs": [
    {
     "name": "stdout",
     "output_type": "stream",
     "text": [
      "{}\n"
     ]
    }
   ],
   "source": [
    "# wipe an existing dictionary - dictionary에 데이터 지우기 (초기화)\n",
    "programming_dictionary = {}\n",
    "print(programming_dictionary)"
   ]
  },
  {
   "cell_type": "code",
   "execution_count": 8,
   "id": "a905abe1",
   "metadata": {},
   "outputs": [
    {
     "name": "stdout",
     "output_type": "stream",
     "text": [
      "{'Bug': 'A Month of Computer.'}\n"
     ]
    }
   ],
   "source": [
    "# Edit an item in a dictionary\n",
    "programming_dictionary[\"Bug\"] = \"A Month of Computer.\"\n",
    "print(programming_dictionary)"
   ]
  },
  {
   "cell_type": "code",
   "execution_count": 12,
   "id": "37d44f01",
   "metadata": {},
   "outputs": [
    {
     "name": "stdout",
     "output_type": "stream",
     "text": [
      "Bug\n",
      "An Error in a program that prevents the program from running as expected.\n",
      "Function\n",
      "A piece of code that you can easily call over and over again.\n",
      "Loop\n",
      "The action of doing something over and over again.\n"
     ]
    }
   ],
   "source": [
    "# Loop Throught a dictionary - 반복문을 통해 키값 밸류 값 출력\n",
    "for key in programming_dictionary:\n",
    "    print(key)\n",
    "    print(programming_dictionary[key])"
   ]
  },
  {
   "cell_type": "code",
   "execution_count": 22,
   "id": "ec7c5104",
   "metadata": {},
   "outputs": [
    {
     "name": "stdout",
     "output_type": "stream",
     "text": [
      "{'Harry': 'Exceeds Expectations', 'Ron': 'Acceptable', 'Hermione': 'Outstanding', 'Draco': 'Acceptable', 'Neville': 'Fail'}\n"
     ]
    }
   ],
   "source": [
    "# exercise 1 - Grading Program\n",
    "student_scores = {\n",
    "  \"Harry\": 81,\n",
    "  \"Ron\": 78,\n",
    "  \"Hermione\": 99, \n",
    "  \"Draco\": 74,\n",
    "  \"Neville\": 62,\n",
    "}\n",
    "# 🚨 Don't change the code above 👆\n",
    "\n",
    "#TODO-1: Create an empty dictionary called student_grades.\n",
    "student_grades = {}\n",
    "\n",
    "#TODO-2: Write your code below to add the grades to student_grades.👇\n",
    "for student in student_scores:\n",
    "    score = student_scores[student]\n",
    "    if score > 90:\n",
    "        student_grades[student] = \"Outstanding\"\n",
    "    elif score > 80:\n",
    "        student_grades[student] = \"Exceeds Expectations\"\n",
    "    elif score > 70:\n",
    "        student_grades[student] = \"Acceptable\"\n",
    "    else:\n",
    "        student_grades[student] = \"Fail\"\n",
    "\n",
    "# 🚨 Don't change the code below 👇\n",
    "print(student_grades)"
   ]
  },
  {
   "cell_type": "code",
   "execution_count": null,
   "id": "2424274a",
   "metadata": {},
   "outputs": [],
   "source": [
    "# Nesting - 중첩\n",
    "# dictionary value를 list 혹은 dirctionary로 넣을 수 있는 것을 말함 \n",
    "{\n",
    "    key: [List],\n",
    "    key2: {Dict},\n",
    "}"
   ]
  },
  {
   "cell_type": "code",
   "execution_count": 23,
   "id": "bca62e82",
   "metadata": {},
   "outputs": [],
   "source": [
    "# example 1\n",
    "capitals = {\n",
    "    \"France\": \"Paris\",\n",
    "    \"Germany\": \"Berlin\",\n",
    "}"
   ]
  },
  {
   "cell_type": "code",
   "execution_count": 24,
   "id": "7e5bbf02",
   "metadata": {},
   "outputs": [
    {
     "name": "stdout",
     "output_type": "stream",
     "text": [
      "{'France': ['Paris', 'Lille', 'Dijon'], 'Germany': ['Berlin', 'Hamburg', 'Stuttgart']}\n"
     ]
    }
   ],
   "source": [
    "# example 1- Nesting a List in a Dictionary \n",
    "travel_log = {\n",
    "    \"France\": [\"Paris\", \"Lille\", \"Dijon\"],\n",
    "    \"Germany\": [\"Berlin\", \"Hamburg\", \"Stuttgart\"],\n",
    "} \n",
    "print(travel_log)"
   ]
  },
  {
   "cell_type": "code",
   "execution_count": 25,
   "id": "8e074edf",
   "metadata": {},
   "outputs": [
    {
     "name": "stdout",
     "output_type": "stream",
     "text": [
      "{'France': {'cities_visited': ['Paris', 'Lille', 'Dijon'], 'total_visits': 12}, 'Germany': {'cities': ['Berlin', 'Hamburg', 'Stuttgart'], 'total_visits': 9}}\n"
     ]
    }
   ],
   "source": [
    "# example 2 - Nesting a Dictionary in a Dictionary \n",
    "travel_log = {\n",
    "    \"France\": {\"cities_visited\":[\"Paris\", \"Lille\", \"Dijon\"], \n",
    "               \"total_visits\": 12},\n",
    "    \"Germany\": {\"cities\":[\"Berlin\", \"Hamburg\", \"Stuttgart\"],\n",
    "               \"total_visits\": 9},\n",
    "} \n",
    "print(travel_log)"
   ]
  },
  {
   "cell_type": "code",
   "execution_count": null,
   "id": "4afb0707",
   "metadata": {},
   "outputs": [],
   "source": [
    "# multiple dictionary \n",
    "[{\n",
    "    key: [List],\n",
    "    key2: {Dict},\n",
    "},\n",
    "{\n",
    "    key: value,\n",
    "    key2: value,\n",
    "}]"
   ]
  },
  {
   "cell_type": "code",
   "execution_count": 26,
   "id": "7ef78596",
   "metadata": {},
   "outputs": [
    {
     "name": "stdout",
     "output_type": "stream",
     "text": [
      "[{'country': 'France', 'cities_visited': ['Paris', 'Lille', 'Dijon'], 'total_visits': 12}, {'country': 'Germany', 'cities_visited': ['Berlin', 'Hamburg', 'Stuttgart'], 'total_visits': 9}]\n"
     ]
    }
   ],
   "source": [
    "# example 3 - Nesting a Dictionary in a List\n",
    "travel_log = [\n",
    "    {\n",
    "        \"country\": \"France\",\n",
    "        \"cities_visited\":[\"Paris\", \"Lille\", \"Dijon\"], \n",
    "        \"total_visits\": 12\n",
    "    },\n",
    "    {\n",
    "        \"country\": \"Germany\",\n",
    "        \"cities_visited\":[\"Berlin\", \"Hamburg\", \"Stuttgart\"], \n",
    "        \"total_visits\": 9\n",
    "    },\n",
    "]\n",
    "print(travel_log)"
   ]
  },
  {
   "cell_type": "code",
   "execution_count": null,
   "id": "7f23df20",
   "metadata": {},
   "outputs": [],
   "source": [
    "# exercise 2 - Dictiionary in List\n",
    "travel_log = [\n",
    "{\n",
    "  \"country\": \"France\",\n",
    "  \"visits\": 12,\n",
    "  \"cities\": [\"Paris\", \"Lille\", \"Dijon\"]\n",
    "},\n",
    "{\n",
    "  \"country\": \"Germany\",\n",
    "  \"visits\": 5,\n",
    "  \"cities\": [\"Berlin\", \"Hamburg\", \"Stuttgart\"]\n",
    "},\n",
    "]\n",
    "#🚨 Do NOT change the code above\n",
    "\n",
    "#TODO: Write the function that will allow new countries\n",
    "#to be added to the travel_log. 👇\n",
    "\n",
    "\n",
    "\n",
    "\n",
    "#🚨 Do not change the code below\n",
    "add_new_country(\"Russia\", 2, [\"Moscow\", \"Saint Petersburg\"])\n",
    "print(travel_log)"
   ]
  },
  {
   "cell_type": "code",
   "execution_count": 30,
   "id": "b10fc394",
   "metadata": {},
   "outputs": [
    {
     "data": {
      "text/plain": [
       "{'country': 'Germany',\n",
       " 'cities_visited': ['Berlin', 'Hamburg', 'Stuttgart'],\n",
       " 'total_visits': 9}"
      ]
     },
     "execution_count": 30,
     "metadata": {},
     "output_type": "execute_result"
    }
   ],
   "source": [
    "travel_log.append(\n",
    "    {\"country\": \"Russia\",\n",
    "      \"visits\": 2,\n",
    "      \"cities\": [\"Moscow\", \"Saint Petersburg\"]\n",
    "    }\n",
    ")"
   ]
  },
  {
   "cell_type": "code",
   "execution_count": 31,
   "id": "86d1402a",
   "metadata": {},
   "outputs": [
    {
     "name": "stdout",
     "output_type": "stream",
     "text": [
      "[{'country': 'France', 'visits': 12, 'cities': ['Paris', 'Lille', 'Dijon']}, {'country': 'Germany', 'visits': 5, 'cities': ['Berlin', 'Hamburg', 'Stuttgart']}, {'country': 'Russia', 'visits': 2, 'cities': ['Moscow', 'Saint Petersburg']}]\n"
     ]
    }
   ],
   "source": [
    "# exercise 2 - Dictiionary in List - my solution\n",
    "travel_log = [\n",
    "{\n",
    "  \"country\": \"France\",\n",
    "  \"visits\": 12,\n",
    "  \"cities\": [\"Paris\", \"Lille\", \"Dijon\"]\n",
    "},\n",
    "{\n",
    "  \"country\": \"Germany\",\n",
    "  \"visits\": 5,\n",
    "  \"cities\": [\"Berlin\", \"Hamburg\", \"Stuttgart\"]\n",
    "},\n",
    "]\n",
    "#🚨 Do NOT change the code above\n",
    "\n",
    "#TODO: Write the function that will allow new countries\n",
    "#to be added to the travel_log. 👇\n",
    "\n",
    "travel_log.append(\n",
    "    {\"country\": \"Russia\",\n",
    "      \"visits\": 2,\n",
    "      \"cities\": [\"Moscow\", \"Saint Petersburg\"]\n",
    "    }\n",
    ")\n",
    "print(travel_log)"
   ]
  },
  {
   "cell_type": "code",
   "execution_count": 34,
   "id": "dd9af5e0",
   "metadata": {},
   "outputs": [
    {
     "name": "stdout",
     "output_type": "stream",
     "text": [
      "[{'country': 'France', 'visits': 12, 'cities': ['Paris', 'Lille', 'Dijon']}, {'country': 'Germany', 'visits': 5, 'cities': ['Berlin', 'Hamburg', 'Stuttgart']}, {'country': 'Russia', 'visits': 2, 'cities': ['Moscow', 'Saint Petersburg']}]\n"
     ]
    }
   ],
   "source": [
    "# exercise 2 - Dictiionary in List - teacher solution\n",
    "travel_log = [\n",
    "{\n",
    "  \"country\": \"France\",\n",
    "  \"visits\": 12,\n",
    "  \"cities\": [\"Paris\", \"Lille\", \"Dijon\"]\n",
    "},\n",
    "{\n",
    "  \"country\": \"Germany\",\n",
    "  \"visits\": 5,\n",
    "  \"cities\": [\"Berlin\", \"Hamburg\", \"Stuttgart\"]\n",
    "},\n",
    "]\n",
    "#🚨 Do NOT change the code above\n",
    "\n",
    "#TODO: Write the function that will allow new countries\n",
    "#to be added to the travel_log. 👇\n",
    "def add_new_country(coun_visited, times_visited, cities_visited):\n",
    "    new_country = {}\n",
    "    new_country[\"country\"] = coun_visited\n",
    "    new_country[\"visits\"] = times_visited\n",
    "    new_country[\"cities\"] = cities_visited\n",
    "    travel_log.append(new_country)\n",
    "    \n",
    "\n",
    "#🚨 Do not change the code below\n",
    "add_new_country(\"Russia\", 2, [\"Moscow\", \"Saint Petersburg\"])\n",
    "print(travel_log)"
   ]
  },
  {
   "cell_type": "code",
   "execution_count": null,
   "id": "42ce1219",
   "metadata": {},
   "outputs": [],
   "source": []
  },
  {
   "cell_type": "code",
   "execution_count": null,
   "id": "191db51d",
   "metadata": {},
   "outputs": [],
   "source": []
  }
 ],
 "metadata": {
  "kernelspec": {
   "display_name": "Python 3 (ipykernel)",
   "language": "python",
   "name": "python3"
  },
  "language_info": {
   "codemirror_mode": {
    "name": "ipython",
    "version": 3
   },
   "file_extension": ".py",
   "mimetype": "text/x-python",
   "name": "python",
   "nbconvert_exporter": "python",
   "pygments_lexer": "ipython3",
   "version": "3.8.12"
  }
 },
 "nbformat": 4,
 "nbformat_minor": 5
}
