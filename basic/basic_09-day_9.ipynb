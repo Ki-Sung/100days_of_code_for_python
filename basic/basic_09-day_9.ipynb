{
 "cells": [
  {
   "cell_type": "code",
   "execution_count": null,
   "id": "18d59735",
   "metadata": {},
   "outputs": [],
   "source": [
    "# dictionaries - Structure\n",
    "{Key: Value}"
   ]
  },
  {
   "cell_type": "code",
   "execution_count": 1,
   "id": "5b6641b3",
   "metadata": {},
   "outputs": [
    {
     "data": {
      "text/plain": [
       "{'Bug': 'An Error in a program that prevents the program from running as expected.'}"
      ]
     },
     "execution_count": 1,
     "metadata": {},
     "output_type": "execute_result"
    }
   ],
   "source": [
    "# example 1\n",
    "{\"Bug\":\"An Error in a program that prevents the program from running as expected.\"}"
   ]
  },
  {
   "cell_type": "code",
   "execution_count": 10,
   "id": "20f17467",
   "metadata": {},
   "outputs": [],
   "source": [
    "# example 2\n",
    "programming_dictionary = {\n",
    "    \"Bug\":\"An Error in a program that prevents the program from running as expected.\",\n",
    "    \"Function\":\"A piece of code that you can easily call over and over again.\",\n",
    "    \"Loop\":\"The action of doing something over and over again.\",\n",
    "}"
   ]
  },
  {
   "cell_type": "code",
   "execution_count": 3,
   "id": "ed2fec08",
   "metadata": {},
   "outputs": [
    {
     "data": {
      "text/plain": [
       "{'Bug': 'An Error in a program that prevents the program from running as expected.',\n",
       " 'Function': 'A piece of code that you can easily call over and over again.',\n",
       " 'Loop': 'The action of doing something over and over again.'}"
      ]
     },
     "execution_count": 3,
     "metadata": {},
     "output_type": "execute_result"
    }
   ],
   "source": [
    "programming_dictionary"
   ]
  },
  {
   "cell_type": "code",
   "execution_count": 4,
   "id": "78e3e288",
   "metadata": {},
   "outputs": [
    {
     "name": "stdout",
     "output_type": "stream",
     "text": [
      "An Error in a program that prevents the program from running as expected.\n"
     ]
    }
   ],
   "source": [
    "# 만약 해당 value 값을 불러오고 싶으면, []안에 key값 넣기!\n",
    "print(programming_dictionary[\"Bug\"])"
   ]
  },
  {
   "cell_type": "code",
   "execution_count": 5,
   "id": "aecf2a59",
   "metadata": {},
   "outputs": [
    {
     "name": "stdout",
     "output_type": "stream",
     "text": [
      "{'Bug': 'An Error in a program that prevents the program from running as expected.', 'Function': 'A piece of code that you can easily call over and over again.', 'Loop': 'The action of doing something over and over again.'}\n"
     ]
    }
   ],
   "source": [
    "# Adding new items to dictionary - value 값 추가\n",
    "programming_dictionary = {\n",
    "    \"Bug\":\"An Error in a program that prevents the program from running as expected.\",\n",
    "    \"Function\":\"A piece of code that you can easily call over and over again.\",\n",
    "}\n",
    "\n",
    "programming_dictionary[\"Loop\"] = \"The action of doing something over and over again.\"\n",
    "print(programming_dictionary)"
   ]
  },
  {
   "cell_type": "code",
   "execution_count": 6,
   "id": "4f50f547",
   "metadata": {},
   "outputs": [
    {
     "data": {
      "text/plain": [
       "{'kisung': 'very sincere person '}"
      ]
     },
     "execution_count": 6,
     "metadata": {},
     "output_type": "execute_result"
    }
   ],
   "source": [
    "# 빈 dictionary에 데이터 집어 넣기 \n",
    "empy_dictionary = {}\n",
    "empy_dictionary[\"kisung\"] = \"very sincere person \"\n",
    "empy_dictionary"
   ]
  },
  {
   "cell_type": "code",
   "execution_count": 9,
   "id": "e02932b2",
   "metadata": {},
   "outputs": [
    {
     "name": "stdout",
     "output_type": "stream",
     "text": [
      "{}\n"
     ]
    }
   ],
   "source": [
    "# wipe an existing dictionary - dictionary에 데이터 지우기 (초기화)\n",
    "programming_dictionary = {}\n",
    "print(programming_dictionary)"
   ]
  },
  {
   "cell_type": "code",
   "execution_count": 8,
   "id": "e6e47ecb",
   "metadata": {},
   "outputs": [
    {
     "name": "stdout",
     "output_type": "stream",
     "text": [
      "{'Bug': 'A Month of Computer.'}\n"
     ]
    }
   ],
   "source": [
    "# Edit an item in a dictionary\n",
    "programming_dictionary[\"Bug\"] = \"A Month of Computer.\"\n",
    "print(programming_dictionary)"
   ]
  },
  {
   "cell_type": "code",
   "execution_count": 11,
   "id": "1366b792",
   "metadata": {},
   "outputs": [
    {
     "name": "stdout",
     "output_type": "stream",
     "text": [
      "Bug\n",
      "An Error in a program that prevents the program from running as expected.\n",
      "Function\n",
      "A piece of code that you can easily call over and over again.\n",
      "Loop\n",
      "The action of doing something over and over again.\n"
     ]
    }
   ],
   "source": [
    "# Loop Throught a dictionary - 반복문을 통해 키값 밸류 값 출력\n",
    "for key in programming_dictionary:\n",
    "    print(key)\n",
    "    print(programming_dictionary[key])"
   ]
  },
  {
   "cell_type": "code",
   "execution_count": 13,
   "id": "92575ae6",
   "metadata": {},
   "outputs": [
    {
     "name": "stdout",
     "output_type": "stream",
     "text": [
      "{'Harry': 'Exceeds Expectations', 'Ron': 'Acceptable', 'Hermione': 'Outstanding', 'Draco': 'Acceptable', 'Neville': 'Fail'}\n"
     ]
    }
   ],
   "source": [
    "# exercise 1 - Grading Program\n",
    "student_scores = {\n",
    "  \"Harry\": 81,\n",
    "  \"Ron\": 78,\n",
    "  \"Hermione\": 99, \n",
    "  \"Draco\": 74,\n",
    "  \"Neville\": 62,\n",
    "}\n",
    "# 🚨 Don't change the code above 👆\n",
    "\n",
    "#TODO-1: Create an empty dictionary called student_grades.\n",
    "student_grades = {}\n",
    "\n",
    "#TODO-2: Write your code below to add the grades to student_grades.👇\n",
    "for student in student_scores:\n",
    "    score = student_scores[student]\n",
    "    if score > 90:\n",
    "        student_grades[student] = \"Outstanding\"\n",
    "    elif score > 80:\n",
    "        student_grades[student] = \"Exceeds Expectations\"\n",
    "    elif score > 70:\n",
    "        student_grades[student] = \"Acceptable\"\n",
    "    else:\n",
    "        student_grades[student] = \"Fail\"\n",
    "\n",
    "# 🚨 Don't change the code below 👇\n",
    "print(student_grades)"
   ]
  },
  {
   "cell_type": "code",
   "execution_count": null,
   "id": "8ca1fb88",
   "metadata": {},
   "outputs": [],
   "source": [
    "# Nesting - 중첩\n",
    "# dictionary value를 list 혹은 dirctionary로 넣을 수 있는 것을 말함 \n",
    "{\n",
    "    key: [List],\n",
    "    key2: {Dict},\n",
    "}"
   ]
  },
  {
   "cell_type": "code",
   "execution_count": 16,
   "id": "c2b85634",
   "metadata": {},
   "outputs": [],
   "source": [
    "# example 1\n",
    "capitals = {\n",
    "    \"France\": \"Paris\",\n",
    "    \"Germany\": \"Berlin\",\n",
    "}"
   ]
  },
  {
   "cell_type": "code",
   "execution_count": 17,
   "id": "0396b796",
   "metadata": {},
   "outputs": [
    {
     "name": "stdout",
     "output_type": "stream",
     "text": [
      "{'France': ['Paris', 'Lille', 'Dijon'], 'Germany': ['Berlin', 'Hamburg', 'Stuttgart']}\n"
     ]
    }
   ],
   "source": [
    "# example 1- Nesting a List in a Dictionary \n",
    "travel_log = {\n",
    "    \"France\": [\"Paris\", \"Lille\", \"Dijon\"],\n",
    "    \"Germany\": [\"Berlin\", \"Hamburg\", \"Stuttgart\"],\n",
    "} \n",
    "print(travel_log)"
   ]
  },
  {
   "cell_type": "code",
   "execution_count": 18,
   "id": "b8c5cb5f",
   "metadata": {},
   "outputs": [
    {
     "name": "stdout",
     "output_type": "stream",
     "text": [
      "{'France': {'cities_visited': ['Paris', 'Lille', 'Dijon'], 'total_visits': 12}, 'Germany': {'cities': ['Berlin', 'Hamburg', 'Stuttgart'], 'total_visits': 9}}\n"
     ]
    }
   ],
   "source": [
    "# example 2 - Nesting a Dictionary in a Dictionary \n",
    "travel_log = {\n",
    "    \"France\": {\"cities_visited\":[\"Paris\", \"Lille\", \"Dijon\"], \n",
    "               \"total_visits\": 12},\n",
    "    \"Germany\": {\"cities\":[\"Berlin\", \"Hamburg\", \"Stuttgart\"],\n",
    "               \"total_visits\": 9},\n",
    "} \n",
    "print(travel_log)"
   ]
  },
  {
   "cell_type": "code",
   "execution_count": null,
   "id": "a83d991f",
   "metadata": {},
   "outputs": [],
   "source": [
    "# multiple dictionary \n",
    "[{\n",
    "    key: [List],\n",
    "    key2: {Dict},\n",
    "},\n",
    "{\n",
    "    key: value,\n",
    "    key2: value,\n",
    "}]"
   ]
  },
  {
   "cell_type": "code",
   "execution_count": 19,
   "id": "f199656e",
   "metadata": {},
   "outputs": [
    {
     "name": "stdout",
     "output_type": "stream",
     "text": [
      "[{'country': 'France', 'cities_visited': ['Paris', 'Lille', 'Dijon'], 'total_visits': 12}, {'country': 'Germany', 'cities_visited': ['Berlin', 'Hamburg', 'Stuttgart'], 'total_visits': 9}]\n"
     ]
    }
   ],
   "source": [
    "# example 3 - Nesting a Dictionary in a List\n",
    "travel_log = [\n",
    "    {\n",
    "        \"country\": \"France\",\n",
    "        \"cities_visited\":[\"Paris\", \"Lille\", \"Dijon\"], \n",
    "        \"total_visits\": 12\n",
    "    },\n",
    "    {\n",
    "        \"country\": \"Germany\",\n",
    "        \"cities_visited\":[\"Berlin\", \"Hamburg\", \"Stuttgart\"], \n",
    "        \"total_visits\": 9\n",
    "    },\n",
    "]\n",
    "print(travel_log)"
   ]
  },
  {
   "cell_type": "code",
   "execution_count": 20,
   "id": "e65ed24c",
   "metadata": {},
   "outputs": [
    {
     "name": "stdout",
     "output_type": "stream",
     "text": [
      "[{'country': 'France', 'visits': 12, 'cities': ['Paris', 'Lille', 'Dijon']}, {'country': 'Germany', 'visits': 5, 'cities': ['Berlin', 'Hamburg', 'Stuttgart']}, {'country': 'Russia', 'visits': 2, 'cities': ['Moscow', 'Saint Petersburg']}]\n"
     ]
    }
   ],
   "source": [
    "# exercise 2 - Dictiionary in List - my solution\n",
    "travel_log = [\n",
    "{\n",
    "  \"country\": \"France\",\n",
    "  \"visits\": 12,\n",
    "  \"cities\": [\"Paris\", \"Lille\", \"Dijon\"]\n",
    "},\n",
    "{\n",
    "  \"country\": \"Germany\",\n",
    "  \"visits\": 5,\n",
    "  \"cities\": [\"Berlin\", \"Hamburg\", \"Stuttgart\"]\n",
    "},\n",
    "]\n",
    "#🚨 Do NOT change the code above\n",
    "\n",
    "#TODO: Write the function that will allow new countries\n",
    "#to be added to the travel_log. 👇\n",
    "\n",
    "travel_log.append(\n",
    "    {\"country\": \"Russia\",\n",
    "      \"visits\": 2,\n",
    "      \"cities\": [\"Moscow\", \"Saint Petersburg\"]\n",
    "    }\n",
    ")\n",
    "print(travel_log)"
   ]
  },
  {
   "cell_type": "code",
   "execution_count": 21,
   "id": "15339817",
   "metadata": {},
   "outputs": [
    {
     "name": "stdout",
     "output_type": "stream",
     "text": [
      "[{'country': 'France', 'visits': 12, 'cities': ['Paris', 'Lille', 'Dijon']}, {'country': 'Germany', 'visits': 5, 'cities': ['Berlin', 'Hamburg', 'Stuttgart']}, {'country': 'Russia', 'visits': 2, 'cities': ['Moscow', 'Saint Petersburg']}]\n"
     ]
    }
   ],
   "source": [
    "# exercise 2 - Dictiionary in List - teacher solution\n",
    "travel_log = [\n",
    "{\n",
    "  \"country\": \"France\",\n",
    "  \"visits\": 12,\n",
    "  \"cities\": [\"Paris\", \"Lille\", \"Dijon\"]\n",
    "},\n",
    "{\n",
    "  \"country\": \"Germany\",\n",
    "  \"visits\": 5,\n",
    "  \"cities\": [\"Berlin\", \"Hamburg\", \"Stuttgart\"]\n",
    "},\n",
    "]\n",
    "#🚨 Do NOT change the code above\n",
    "\n",
    "#TODO: Write the function that will allow new countries\n",
    "#to be added to the travel_log. 👇\n",
    "def add_new_country(coun_visited, times_visited, cities_visited):\n",
    "    new_country = {}\n",
    "    new_country[\"country\"] = coun_visited\n",
    "    new_country[\"visits\"] = times_visited\n",
    "    new_country[\"cities\"] = cities_visited\n",
    "    travel_log.append(new_country)\n",
    "    \n",
    "\n",
    "#🚨 Do not change the code below\n",
    "add_new_country(\"Russia\", 2, [\"Moscow\", \"Saint Petersburg\"])\n",
    "print(travel_log)"
   ]
  },
  {
   "attachments": {
    "Screenshot%202023-03-31%20at%209.36.01%20PM.png": {
     "image/png": "[encoded data removed]"
    }
   },
   "cell_type": "markdown",
   "id": "942fa918",
   "metadata": {},
   "source": [
    "#### final project - blind-auction-start\n",
    "\n",
    "![Screenshot%202023-03-31%20at%209.36.01%20PM.png](attachment:Screenshot%202023-03-31%20at%209.36.01%20PM.png)"
   ]
  },
  {
   "cell_type": "code",
   "execution_count": 44,
   "id": "f9810a08",
   "metadata": {},
   "outputs": [
    {
     "name": "stdout",
     "output_type": "stream",
     "text": [
      "\n",
      "                         ___________\n",
      "                         \\         /\n",
      "                          )_______(\n",
      "                          |\"\"\"\"\"\"\"|_.-._,.---------.,_.-._\n",
      "                          |       | | |               | | ''-.\n",
      "                          |       |_| |_             _| |_..-'\n",
      "                          |_______| '-' `'---------'` '-'\n",
      "                          )\"\"\"\"\"\"\"(\n",
      "                         /_________\\\n",
      "                       .-------------.\n",
      "                      /_______________\\\n",
      "\n",
      "Welcome to the secret auction program.\n",
      "What is your name?: kisung\n",
      "What is your bid?: $130\n",
      "Are there any other bidders? Type 'yes' or 'no'?yes\n",
      "What is your name?: welchs\n",
      "What is your bid?: $200\n",
      "What is your name?: kisung\n",
      "What is your bid?: $150\n",
      "Are there any other bidders? Type 'yes' or 'no'?no\n",
      "The winner is kisung with a bid of $150\n"
     ]
    }
   ],
   "source": [
    "# final project - mysolution\n",
    "\n",
    "import os \n",
    "os.system('clear')\n",
    "from auction import auction_art\n",
    "print(auction_art.logo)\n",
    "print(\"Welcome to the secret auction program.\")\n",
    "\n",
    "while True:\n",
    "    bidding = {}\n",
    "    key = input(\"What is your name?: \")\n",
    "    value = int(input(\"What is your bid?: $\"))\n",
    "    ask = input(\"Are there any other bidders? Type 'yes' or 'no'?\")\n",
    "    if ask == \"yes\":\n",
    "        key = input(\"What is your name?: \")\n",
    "        value = int(input(\"What is your bid?: $\"))\n",
    "        os.system('clear')\n",
    "    else:\n",
    "        print(f\"The winner is {key} with a bid of ${str(value)}\")\n",
    "        break"
   ]
  },
  {
   "cell_type": "code",
   "execution_count": null,
   "id": "e499a803",
   "metadata": {},
   "outputs": [],
   "source": []
  },
  {
   "cell_type": "code",
   "execution_count": null,
   "id": "99566380",
   "metadata": {},
   "outputs": [],
   "source": []
  },
  {
   "cell_type": "code",
   "execution_count": null,
   "id": "8a0e1c03",
   "metadata": {},
   "outputs": [],
   "source": []
  },
  {
   "cell_type": "code",
   "execution_count": null,
   "id": "8d9bf466",
   "metadata": {},
   "outputs": [],
   "source": []
  }
 ],
 "metadata": {
  "kernelspec": {
   "display_name": "Python 3 (ipykernel)",
   "language": "python",
   "name": "python3"
  },
  "language_info": {
   "codemirror_mode": {
    "name": "ipython",
    "version": 3
   },
   "file_extension": ".py",
   "mimetype": "text/x-python",
   "name": "python",
   "nbconvert_exporter": "python",
   "pygments_lexer": "ipython3",
   "version": "3.8.12"
  }
 },
 "nbformat": 4,
 "nbformat_minor": 5
}
