{
 "cells": [
  {
   "cell_type": "code",
   "execution_count": null,
   "id": "18d59735",
   "metadata": {},
   "outputs": [],
   "source": [
    "# dictionaries - Structure\n",
    "{Key: Value}"
   ]
  },
  {
   "cell_type": "code",
   "execution_count": 1,
   "id": "5b6641b3",
   "metadata": {},
   "outputs": [
    {
     "data": {
      "text/plain": [
       "{'Bug': 'An Error in a program that prevents the program from running as expected.'}"
      ]
     },
     "execution_count": 1,
     "metadata": {},
     "output_type": "execute_result"
    }
   ],
   "source": [
    "# example\n",
    "{\"Bug\":\"An Error in a program that prevents the program from running as expected.\"}"
   ]
  },
  {
   "cell_type": "code",
   "execution_count": 8,
   "id": "20f17467",
   "metadata": {},
   "outputs": [],
   "source": [
    "programming_dictionary = {\n",
    "    \"Bug\":\"An Error in a program that prevents the program from running as expected.\",\n",
    "    \"Function\":\"A piece of code that you can easily call over and over again.\",\n",
    "    \"Loop\":\"The action of doing something over and over again.\",\n",
    "}"
   ]
  },
  {
   "cell_type": "code",
   "execution_count": 9,
   "id": "ed2fec08",
   "metadata": {},
   "outputs": [
    {
     "data": {
      "text/plain": [
       "{'Bug': 'An Error in a program that prevents the program from running as expected.',\n",
       " 'Function': 'A piece of code that you can easily call over and over again.',\n",
       " 'Loop': 'The action of doing something over and over again.'}"
      ]
     },
     "execution_count": 9,
     "metadata": {},
     "output_type": "execute_result"
    }
   ],
   "source": [
    "programming_dictionary"
   ]
  },
  {
   "cell_type": "code",
   "execution_count": 13,
   "id": "78e3e288",
   "metadata": {},
   "outputs": [
    {
     "name": "stdout",
     "output_type": "stream",
     "text": [
      "An Error in a program that prevents the program from running as expected.\n"
     ]
    }
   ],
   "source": [
    "print(programming_dictionary[\"Bug\"])"
   ]
  },
  {
   "cell_type": "code",
   "execution_count": 20,
   "id": "4c4c1ac2",
   "metadata": {},
   "outputs": [
    {
     "name": "stdout",
     "output_type": "stream",
     "text": [
      "A piece of code that you can easily call over and over again.\n"
     ]
    }
   ],
   "source": [
    "programming_dictionary = {\n",
    "    \"Bug\":\"An Error in a program that prevents the program from running as expected.\",\n",
    "    \"Function\":\"A piece of code that you can easily call over and over again.\",\n",
    "    \"Loop\":\"The action of doing something over and over again.\",\n",
    "}\n",
    "\n",
    "print(programming_dictionary[\"Function\"])"
   ]
  },
  {
   "cell_type": "code",
   "execution_count": 21,
   "id": "aecf2a59",
   "metadata": {},
   "outputs": [
    {
     "name": "stdout",
     "output_type": "stream",
     "text": [
      "{'Bug': 'An Error in a program that prevents the program from running as expected.', 'Function': 'A piece of code that you can easily call over and over again.', 'Loop': 'The action of doing something over and over again.'}\n"
     ]
    }
   ],
   "source": [
    "# Adding new items to dictionary \n",
    "programming_dictionary[\"Loop\"] = \"The action of doing something over and over again.\"\n",
    "print(programming_dictionary)"
   ]
  },
  {
   "cell_type": "code",
   "execution_count": null,
   "id": "4f50f547",
   "metadata": {},
   "outputs": [],
   "source": [
    "empy_dictionary = {\n",
    "    \n",
    "}"
   ]
  }
 ],
 "metadata": {
  "kernelspec": {
   "display_name": "Python 3 (ipykernel)",
   "language": "python",
   "name": "python3"
  },
  "language_info": {
   "codemirror_mode": {
    "name": "ipython",
    "version": 3
   },
   "file_extension": ".py",
   "mimetype": "text/x-python",
   "name": "python",
   "nbconvert_exporter": "python",
   "pygments_lexer": "ipython3",
   "version": "3.8.12"
  }
 },
 "nbformat": 4,
 "nbformat_minor": 5
}
