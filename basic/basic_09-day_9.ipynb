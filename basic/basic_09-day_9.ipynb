{
 "cells": [
  {
   "cell_type": "code",
   "execution_count": null,
   "id": "18d59735",
   "metadata": {},
   "outputs": [],
   "source": [
    "# dictionaries - Structure\n",
    "{Key: Value}"
   ]
  },
  {
   "cell_type": "code",
   "execution_count": 1,
   "id": "5b6641b3",
   "metadata": {},
   "outputs": [
    {
     "data": {
      "text/plain": [
       "{'Bug': 'An Error in a program that prevents the program from running as expected.'}"
      ]
     },
     "execution_count": 1,
     "metadata": {},
     "output_type": "execute_result"
    }
   ],
   "source": [
    "# example 1\n",
    "{\"Bug\":\"An Error in a program that prevents the program from running as expected.\"}"
   ]
  },
  {
   "cell_type": "code",
   "execution_count": 10,
   "id": "20f17467",
   "metadata": {},
   "outputs": [],
   "source": [
    "# example 2\n",
    "programming_dictionary = {\n",
    "    \"Bug\":\"An Error in a program that prevents the program from running as expected.\",\n",
    "    \"Function\":\"A piece of code that you can easily call over and over again.\",\n",
    "    \"Loop\":\"The action of doing something over and over again.\",\n",
    "}"
   ]
  },
  {
   "cell_type": "code",
   "execution_count": 3,
   "id": "ed2fec08",
   "metadata": {},
   "outputs": [
    {
     "data": {
      "text/plain": [
       "{'Bug': 'An Error in a program that prevents the program from running as expected.',\n",
       " 'Function': 'A piece of code that you can easily call over and over again.',\n",
       " 'Loop': 'The action of doing something over and over again.'}"
      ]
     },
     "execution_count": 3,
     "metadata": {},
     "output_type": "execute_result"
    }
   ],
   "source": [
    "programming_dictionary"
   ]
  },
  {
   "cell_type": "code",
   "execution_count": 4,
   "id": "78e3e288",
   "metadata": {},
   "outputs": [
    {
     "name": "stdout",
     "output_type": "stream",
     "text": [
      "An Error in a program that prevents the program from running as expected.\n"
     ]
    }
   ],
   "source": [
    "# 만약 해당 value 값을 불러오고 싶으면, []안에 key값 넣기!\n",
    "print(programming_dictionary[\"Bug\"])"
   ]
  },
  {
   "cell_type": "code",
   "execution_count": 5,
   "id": "aecf2a59",
   "metadata": {},
   "outputs": [
    {
     "name": "stdout",
     "output_type": "stream",
     "text": [
      "{'Bug': 'An Error in a program that prevents the program from running as expected.', 'Function': 'A piece of code that you can easily call over and over again.', 'Loop': 'The action of doing something over and over again.'}\n"
     ]
    }
   ],
   "source": [
    "# Adding new items to dictionary - value 값 추가\n",
    "programming_dictionary = {\n",
    "    \"Bug\":\"An Error in a program that prevents the program from running as expected.\",\n",
    "    \"Function\":\"A piece of code that you can easily call over and over again.\",\n",
    "}\n",
    "\n",
    "programming_dictionary[\"Loop\"] = \"The action of doing something over and over again.\"\n",
    "print(programming_dictionary)"
   ]
  },
  {
   "cell_type": "code",
   "execution_count": 6,
   "id": "4f50f547",
   "metadata": {},
   "outputs": [
    {
     "data": {
      "text/plain": [
       "{'kisung': 'very sincere person '}"
      ]
     },
     "execution_count": 6,
     "metadata": {},
     "output_type": "execute_result"
    }
   ],
   "source": [
    "# 빈 dictionary에 데이터 집어 넣기 \n",
    "empy_dictionary = {}\n",
    "empy_dictionary[\"kisung\"] = \"very sincere person \"\n",
    "empy_dictionary"
   ]
  },
  {
   "cell_type": "code",
   "execution_count": 7,
   "id": "5305312e",
   "metadata": {},
   "outputs": [
    {
     "name": "stdout",
     "output_type": "stream",
     "text": [
      "{}\n"
     ]
    }
   ],
   "source": [
    "# wipe an existing dictionary - dictionary에 데이터 지우기 (초기화)\n",
    "programming_dictionary = {}\n",
    "print(programming_dictionary)"
   ]
  },
  {
   "cell_type": "code",
   "execution_count": 8,
   "id": "74c11917",
   "metadata": {},
   "outputs": [
    {
     "name": "stdout",
     "output_type": "stream",
     "text": [
      "{'Bug': 'A Month of Computer.'}\n"
     ]
    }
   ],
   "source": [
    "# Edit an item in a dictionary\n",
    "programming_dictionary[\"Bug\"] = \"A Month of Computer.\"\n",
    "print(programming_dictionary)"
   ]
  },
  {
   "cell_type": "code",
   "execution_count": 12,
   "id": "1274c3c7",
   "metadata": {},
   "outputs": [
    {
     "name": "stdout",
     "output_type": "stream",
     "text": [
      "Bug\n",
      "An Error in a program that prevents the program from running as expected.\n",
      "Function\n",
      "A piece of code that you can easily call over and over again.\n",
      "Loop\n",
      "The action of doing something over and over again.\n"
     ]
    }
   ],
   "source": [
    "# Loop Throught a dictionary - 반복문을 통해 키값 밸류 값 출력\n",
    "for key in programming_dictionary:\n",
    "    print(key)\n",
    "    print(programming_dictionary[key])"
   ]
  },
  {
   "cell_type": "code",
   "execution_count": 22,
   "id": "48c7aafc",
   "metadata": {},
   "outputs": [
    {
     "name": "stdout",
     "output_type": "stream",
     "text": [
      "{'Harry': 'Exceeds Expectations', 'Ron': 'Acceptable', 'Hermione': 'Outstanding', 'Draco': 'Acceptable', 'Neville': 'Fail'}\n"
     ]
    }
   ],
   "source": [
    "# exercise 1 - Grading Program\n",
    "student_scores = {\n",
    "  \"Harry\": 81,\n",
    "  \"Ron\": 78,\n",
    "  \"Hermione\": 99, \n",
    "  \"Draco\": 74,\n",
    "  \"Neville\": 62,\n",
    "}\n",
    "# 🚨 Don't change the code above 👆\n",
    "\n",
    "#TODO-1: Create an empty dictionary called student_grades.\n",
    "student_grades = {}\n",
    "\n",
    "#TODO-2: Write your code below to add the grades to student_grades.👇\n",
    "for student in student_scores:\n",
    "    score = student_scores[student]\n",
    "    if score > 90:\n",
    "        student_grades[student] = \"Outstanding\"\n",
    "    elif score > 80:\n",
    "        student_grades[student] = \"Exceeds Expectations\"\n",
    "    elif score > 70:\n",
    "        student_grades[student] = \"Acceptable\"\n",
    "    else:\n",
    "        student_grades[student] = \"Fail\"\n",
    "\n",
    "# 🚨 Don't change the code below 👇\n",
    "print(student_grades)"
   ]
  },
  {
   "cell_type": "code",
   "execution_count": null,
   "id": "102d2a6e",
   "metadata": {},
   "outputs": [],
   "source": []
  },
  {
   "cell_type": "code",
   "execution_count": null,
   "id": "28965745",
   "metadata": {},
   "outputs": [],
   "source": []
  }
 ],
 "metadata": {
  "kernelspec": {
   "display_name": "Python 3 (ipykernel)",
   "language": "python",
   "name": "python3"
  },
  "language_info": {
   "codemirror_mode": {
    "name": "ipython",
    "version": 3
   },
   "file_extension": ".py",
   "mimetype": "text/x-python",
   "name": "python",
   "nbconvert_exporter": "python",
   "pygments_lexer": "ipython3",
   "version": "3.8.12"
  }
 },
 "nbformat": 4,
 "nbformat_minor": 5
}
