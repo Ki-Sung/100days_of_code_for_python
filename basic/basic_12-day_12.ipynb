{
 "cells": [
  {
   "cell_type": "markdown",
   "id": "03a99077",
   "metadata": {},
   "source": [
    "### Scope - 유효 범위\n",
    "- 해당 개념은 울타리로 둘러싼 집에 있다고 가정했을 때, 사과나무가 울타리 안에 있느냐, 바깥에 있느냐에 따라 유효 범위가 결졍된다. \n",
    "- 사과나무가 울타리 안에 있다면, 범위는 우리 가족이, 만약 울타리 바깥에 사과나무가 있다면, 범위는 모든 사람으로 결정된다."
   ]
  },
  {
   "cell_type": "code",
   "execution_count": 1,
   "id": "c0468e61",
   "metadata": {},
   "outputs": [],
   "source": [
    "# Scope example 1\n",
    "enemies = 1\n",
    "\n",
    "def increase_enemies():\n",
    "    enemies = 2\n",
    "    print(f\"enemies inside function: {enemies}\")"
   ]
  },
  {
   "cell_type": "code",
   "execution_count": 2,
   "id": "676684c3",
   "metadata": {},
   "outputs": [
    {
     "name": "stdout",
     "output_type": "stream",
     "text": [
      "enemies inside function: 2\n",
      "enemies inside function: 1\n"
     ]
    }
   ],
   "source": [
    "increase_enemies()\n",
    "print(f\"enemies inside function: {enemies}\")"
   ]
  },
  {
   "cell_type": "code",
   "execution_count": 8,
   "id": "9a10c4fe",
   "metadata": {},
   "outputs": [],
   "source": [
    "# Local Scope - 지역 범위 - 함수 내에 존재 \n",
    "def drink_potion():\n",
    "    potion_strength = 2\n",
    "    print(potion_strength)"
   ]
  },
  {
   "cell_type": "code",
   "execution_count": 9,
   "id": "f641a5e8",
   "metadata": {},
   "outputs": [
    {
     "name": "stdout",
     "output_type": "stream",
     "text": [
      "2\n",
      "2\n",
      "None\n"
     ]
    }
   ],
   "source": [
    "drink_potion()\n",
    "print(drink_potion())"
   ]
  },
  {
   "cell_type": "markdown",
   "id": "f0343420",
   "metadata": {},
   "source": [
    "- 여기서는 2 None라고 나오지만, .py로 실행하게 되면, Name Error라고 출력한다. (분명 함수 내부에 정의가 되었는데 말이지..)\n",
    "- 그렇다면 외부에서 접근할 수 없는 이유는 무엇일까? 이유를 찾으려면 지역 범위의 개념을 다시 짚어봐야 한다.\n",
    "- 다른 함수 함수 내부에 새 변수나 새 함수를 만드는 경우에만 접근이 가능하다. 즉 함수 내부에 있을 때만 사용할수 있다. 이것이 지역 범위를 가지고 있기 때문이다. (여기서는 drink_potion()이라는 내부에만 유효함)"
   ]
  },
  {
   "cell_type": "code",
   "execution_count": 10,
   "id": "6e57746d",
   "metadata": {},
   "outputs": [],
   "source": [
    "# Global Scope - 전역 범위 - 파일 내부 어디서든 사용 가능 왜냐면 파일 제일 상단에 정의되었기 때문\n",
    "player_health = 10\n",
    "\n",
    "def drink_potion():\n",
    "    potion_strength = 2\n",
    "    print(player_health)"
   ]
  },
  {
   "cell_type": "code",
   "execution_count": 14,
   "id": "7c3ccac7",
   "metadata": {},
   "outputs": [
    {
     "name": "stdout",
     "output_type": "stream",
     "text": [
      "10\n",
      "10\n",
      "None\n"
     ]
    }
   ],
   "source": [
    "drink_potion()\n",
    "print(drink_potion())"
   ]
  },
  {
   "cell_type": "code",
   "execution_count": null,
   "id": "c32db53b",
   "metadata": {},
   "outputs": [],
   "source": [
    "player_health = 10             # 전역 범위 - 다른 모든 함수의 외부 \n",
    "\n",
    "def game():\n",
    "    def drink_potion():        # 지역 범위 - 이 함수에 대한 지역 범위\n",
    "        potion_strength = 2    # 함수 내부 - 2단계 깊이로 중첩되어 있음\n",
    "        print(player_health)\n",
    "    drink_potion()\n",
    "    \n",
    "print(drink_health)"
   ]
  },
  {
   "cell_type": "code",
   "execution_count": null,
   "id": "4a6b7872",
   "metadata": {},
   "outputs": [],
   "source": []
  },
  {
   "cell_type": "code",
   "execution_count": null,
   "id": "c209be9c",
   "metadata": {},
   "outputs": [],
   "source": []
  },
  {
   "cell_type": "code",
   "execution_count": null,
   "id": "9deed9dc",
   "metadata": {},
   "outputs": [],
   "source": []
  },
  {
   "cell_type": "code",
   "execution_count": null,
   "id": "dfc4427d",
   "metadata": {},
   "outputs": [],
   "source": []
  },
  {
   "cell_type": "code",
   "execution_count": null,
   "id": "f20237ee",
   "metadata": {},
   "outputs": [],
   "source": []
  }
 ],
 "metadata": {
  "kernelspec": {
   "display_name": "Python 3 (ipykernel)",
   "language": "python",
   "name": "python3"
  },
  "language_info": {
   "codemirror_mode": {
    "name": "ipython",
    "version": 3
   },
   "file_extension": ".py",
   "mimetype": "text/x-python",
   "name": "python",
   "nbconvert_exporter": "python",
   "pygments_lexer": "ipython3",
   "version": "3.8.12"
  }
 },
 "nbformat": 4,
 "nbformat_minor": 5
}
