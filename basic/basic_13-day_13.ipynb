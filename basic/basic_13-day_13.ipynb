{
 "cells": [
  {
   "cell_type": "markdown",
   "id": "4b2cff57",
   "metadata": {},
   "source": [
    "### 버그를 빨리 식별하고 제거하는 법"
   ]
  },
  {
   "cell_type": "markdown",
   "id": "3e5b2d5a",
   "metadata": {},
   "source": [
    "1. 머리속으로 문제를 그려보자!"
   ]
  },
  {
   "cell_type": "code",
   "execution_count": 10,
   "id": "836f46cf",
   "metadata": {},
   "outputs": [],
   "source": [
    "# Describe Problem\n",
    "def my_function():\n",
    "    for i in range(1, 20):       # 20을 출력하려면 range 범위를 늘려야함\n",
    "        if i == 20:              # i가 20에 도달했는데도 \n",
    "            print(\"You got it\")  # print되지 않음\n",
    "\n",
    "my_function()"
   ]
  },
  {
   "cell_type": "code",
   "execution_count": 12,
   "id": "50c3dc91",
   "metadata": {},
   "outputs": [
    {
     "name": "stdout",
     "output_type": "stream",
     "text": [
      "You got it\n"
     ]
    }
   ],
   "source": [
    "# fixed Problem\n",
    "def my_function():\n",
    "    for i in range(1, 21):       \n",
    "        if i == 20:              \n",
    "            print(\"You got it\")  \n",
    "\n",
    "my_function()"
   ]
  },
  {
   "cell_type": "markdown",
   "id": "c5a35fd6",
   "metadata": {},
   "source": [
    "2. 발견한 버그를 다시 구현해보기"
   ]
  },
  {
   "cell_type": "code",
   "execution_count": 40,
   "id": "1ae47682",
   "metadata": {},
   "outputs": [
    {
     "ename": "IndexError",
     "evalue": "list index out of range",
     "output_type": "error",
     "traceback": [
      "\u001b[0;31m---------------------------------------------------------------------------\u001b[0m",
      "\u001b[0;31mIndexError\u001b[0m                                Traceback (most recent call last)",
      "Input \u001b[0;32mIn [40]\u001b[0m, in \u001b[0;36m<cell line: 6>\u001b[0;34m()\u001b[0m\n\u001b[1;32m      4\u001b[0m dice_imgs \u001b[38;5;241m=\u001b[39m [\u001b[38;5;124m\"\u001b[39m\u001b[38;5;124m❶\u001b[39m\u001b[38;5;124m\"\u001b[39m, \u001b[38;5;124m\"\u001b[39m\u001b[38;5;124m❷\u001b[39m\u001b[38;5;124m\"\u001b[39m, \u001b[38;5;124m\"\u001b[39m\u001b[38;5;124m❸\u001b[39m\u001b[38;5;124m\"\u001b[39m, \u001b[38;5;124m\"\u001b[39m\u001b[38;5;124m❹\u001b[39m\u001b[38;5;124m\"\u001b[39m, \u001b[38;5;124m\"\u001b[39m\u001b[38;5;124m❺\u001b[39m\u001b[38;5;124m\"\u001b[39m, \u001b[38;5;124m\"\u001b[39m\u001b[38;5;124m❻\u001b[39m\u001b[38;5;124m\"\u001b[39m]\n\u001b[1;32m      5\u001b[0m dice_num \u001b[38;5;241m=\u001b[39m randint(\u001b[38;5;241m1\u001b[39m, \u001b[38;5;241m6\u001b[39m)\n\u001b[0;32m----> 6\u001b[0m \u001b[38;5;28mprint\u001b[39m(\u001b[43mdice_imgs\u001b[49m\u001b[43m[\u001b[49m\u001b[43mdice_num\u001b[49m\u001b[43m]\u001b[49m)\n",
      "\u001b[0;31mIndexError\u001b[0m: list index out of range"
     ]
    }
   ],
   "source": [
    "# Reproduce the Bug\n",
    "from random import randint\n",
    "\n",
    "dice_imgs = [\"❶\", \"❷\", \"❸\", \"❹\", \"❺\", \"❻\"]\n",
    "dice_num = randint(1, 6)             # random 범위가 맞지 않음 - range 함수와 범위가 다르다\n",
    "print(dice_imgs[dice_num])"
   ]
  },
  {
   "cell_type": "code",
   "execution_count": 80,
   "id": "e7361594",
   "metadata": {},
   "outputs": [
    {
     "name": "stdout",
     "output_type": "stream",
     "text": [
      "❷\n"
     ]
    }
   ],
   "source": [
    "# fixed Problem\n",
    "from random import randint\n",
    "\n",
    "dice_imgs = [\"❶\", \"❷\", \"❸\", \"❹\", \"❺\", \"❻\"]\n",
    "dice_num = randint(0, 5)\n",
    "print(dice_imgs[dice_num])"
   ]
  },
  {
   "cell_type": "markdown",
   "id": "6da6d7dc",
   "metadata": {},
   "source": [
    "3. 컴퓨터의 입장에서 생각해보기"
   ]
  },
  {
   "cell_type": "code",
   "execution_count": 112,
   "id": "02092c9b",
   "metadata": {},
   "outputs": [
    {
     "name": "stdout",
     "output_type": "stream",
     "text": [
      "What's your year of birth?1994\n"
     ]
    }
   ],
   "source": [
    "# Play Computer\n",
    "year = int(input(\"What's your year of birth?\"))\n",
    "if year > 1980 and year < 1994:       # 1980년 부터 1994사이를 밀레니얼이라 한다면 \n",
    "    print(\"You are a millenial.\")     # 비교 연산자를 바꿔야 함 (사실상 모든 조건이 False 임)\n",
    "elif year > 1994:\n",
    "    print(\"You are a Gen Z.\")"
   ]
  },
  {
   "cell_type": "code",
   "execution_count": 118,
   "id": "ad72b633",
   "metadata": {},
   "outputs": [
    {
     "name": "stdout",
     "output_type": "stream",
     "text": [
      "What's your year of birth?1994\n",
      "You are a Gen Z.\n"
     ]
    }
   ],
   "source": [
    "# fixed Problem\n",
    "year = int(input(\"What's your year of birth?\")) \n",
    "\n",
    "if year > 1980 and year < 1994:      \n",
    "    print(\"You are a millenial.\")\n",
    "elif year >= 1994:\n",
    "    print(\"You are a Gen Z.\")"
   ]
  },
  {
   "cell_type": "markdown",
   "id": "0fef57fd",
   "metadata": {},
   "source": [
    "4. 오류 수정 - 빨간 줄을 주목해라!"
   ]
  },
  {
   "cell_type": "code",
   "execution_count": 119,
   "id": "43dcd876",
   "metadata": {},
   "outputs": [
    {
     "ename": "IndentationError",
     "evalue": "expected an indented block (2939501527.py, line 4)",
     "output_type": "error",
     "traceback": [
      "\u001b[0;36m  Input \u001b[0;32mIn [119]\u001b[0;36m\u001b[0m\n\u001b[0;31m    print(\"You can drive at age {age}.\")\u001b[0m\n\u001b[0m    ^\u001b[0m\n\u001b[0;31mIndentationError\u001b[0m\u001b[0;31m:\u001b[0m expected an indented block\n"
     ]
    }
   ],
   "source": [
    "# Fix the Errors\n",
    "age = input(\"How old are you?\")\n",
    "if age > 18:                      \n",
    "print(\"You can drive at age {age}.\")    # 에러 입력창을 잘보자! - 들여쓰기 문제 "
   ]
  },
  {
   "cell_type": "code",
   "execution_count": 120,
   "id": "569310d9",
   "metadata": {},
   "outputs": [
    {
     "name": "stdout",
     "output_type": "stream",
     "text": [
      "How old are you?15\n"
     ]
    },
    {
     "ename": "TypeError",
     "evalue": "'>' not supported between instances of 'str' and 'int'",
     "output_type": "error",
     "traceback": [
      "\u001b[0;31m---------------------------------------------------------------------------\u001b[0m",
      "\u001b[0;31mTypeError\u001b[0m                                 Traceback (most recent call last)",
      "Input \u001b[0;32mIn [120]\u001b[0m, in \u001b[0;36m<cell line: 3>\u001b[0;34m()\u001b[0m\n\u001b[1;32m      1\u001b[0m \u001b[38;5;66;03m# fixed Problem 1\u001b[39;00m\n\u001b[1;32m      2\u001b[0m age \u001b[38;5;241m=\u001b[39m \u001b[38;5;28minput\u001b[39m(\u001b[38;5;124m\"\u001b[39m\u001b[38;5;124mHow old are you?\u001b[39m\u001b[38;5;124m\"\u001b[39m)\n\u001b[0;32m----> 3\u001b[0m \u001b[38;5;28;01mif\u001b[39;00m \u001b[43mage\u001b[49m\u001b[43m \u001b[49m\u001b[38;5;241;43m>\u001b[39;49m\u001b[43m \u001b[49m\u001b[38;5;241;43m18\u001b[39;49m:                      \n\u001b[1;32m      4\u001b[0m     \u001b[38;5;28mprint\u001b[39m(\u001b[38;5;124m\"\u001b[39m\u001b[38;5;124mYou can drive at age \u001b[39m\u001b[38;5;132;01m{age}\u001b[39;00m\u001b[38;5;124m.\u001b[39m\u001b[38;5;124m\"\u001b[39m)\n",
      "\u001b[0;31mTypeError\u001b[0m: '>' not supported between instances of 'str' and 'int'"
     ]
    }
   ],
   "source": [
    "# fixed Problem 1\n",
    "age = input(\"How old are you?\")            # 들여쓰기는 해결 했지만,에러를 보니 type 에러 \n",
    "if age > 18:                               # str을 int 바꿔줘야함!\n",
    "    print(\"You can drive at age {age}.\")   # 에러는 아니지만 출력을 제대로 하게 해주자!  "
   ]
  },
  {
   "cell_type": "code",
   "execution_count": 125,
   "id": "ffcafe6e",
   "metadata": {},
   "outputs": [
    {
     "name": "stdout",
     "output_type": "stream",
     "text": [
      "How old are you?20\n",
      "You can drive at age 20.\n"
     ]
    }
   ],
   "source": [
    "# fixed Problem 2\n",
    "age = int(input(\"How old are you?\"))        \n",
    "if age > 18:                         \n",
    "    print(f\"You can drive at age {age}.\")\n",
    "else:\n",
    "    print(\"You can't driver, Because You are young\")"
   ]
  },
  {
   "cell_type": "code",
   "execution_count": null,
   "id": "34eb2408",
   "metadata": {},
   "outputs": [],
   "source": []
  }
 ],
 "metadata": {
  "kernelspec": {
   "display_name": "Python 3 (ipykernel)",
   "language": "python",
   "name": "python3"
  },
  "language_info": {
   "codemirror_mode": {
    "name": "ipython",
    "version": 3
   },
   "file_extension": ".py",
   "mimetype": "text/x-python",
   "name": "python",
   "nbconvert_exporter": "python",
   "pygments_lexer": "ipython3",
   "version": "3.8.12"
  }
 },
 "nbformat": 4,
 "nbformat_minor": 5
}
