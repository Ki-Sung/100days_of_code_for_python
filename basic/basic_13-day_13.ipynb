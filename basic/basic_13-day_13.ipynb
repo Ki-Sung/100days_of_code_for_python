{
 "cells": [
  {
   "cell_type": "markdown",
   "id": "81b57f7c",
   "metadata": {},
   "source": [
    "### 버그를 빨리 식별하고 제거하는 법"
   ]
  },
  {
   "cell_type": "markdown",
   "id": "22d3bfe4",
   "metadata": {},
   "source": [
    "1. 머리속으로 문제를 그려보자!"
   ]
  },
  {
   "cell_type": "code",
   "execution_count": 10,
   "id": "dc6026ea",
   "metadata": {},
   "outputs": [],
   "source": [
    "# Describe Problem\n",
    "def my_function():\n",
    "    for i in range(1, 20):       # 20을 출력하려면 range 범위를 늘려야함\n",
    "        if i == 20:              # i가 20에 도달했는데도 \n",
    "            print(\"You got it\")  # print되지 않음\n",
    "\n",
    "my_function()"
   ]
  },
  {
   "cell_type": "code",
   "execution_count": 12,
   "id": "2b387534",
   "metadata": {},
   "outputs": [
    {
     "name": "stdout",
     "output_type": "stream",
     "text": [
      "You got it\n"
     ]
    }
   ],
   "source": [
    "# fixed Problem\n",
    "def my_function():\n",
    "    for i in range(1, 21):       \n",
    "        if i == 20:              \n",
    "            print(\"You got it\")  \n",
    "\n",
    "my_function()"
   ]
  },
  {
   "cell_type": "markdown",
   "id": "7528b74b",
   "metadata": {},
   "source": [
    "2. 발견한 버그를 다시 구현해보기"
   ]
  },
  {
   "cell_type": "code",
   "execution_count": 40,
   "id": "a6bb5129",
   "metadata": {},
   "outputs": [
    {
     "ename": "IndexError",
     "evalue": "list index out of range",
     "output_type": "error",
     "traceback": [
      "\u001b[0;31m---------------------------------------------------------------------------\u001b[0m",
      "\u001b[0;31mIndexError\u001b[0m                                Traceback (most recent call last)",
      "Input \u001b[0;32mIn [40]\u001b[0m, in \u001b[0;36m<cell line: 6>\u001b[0;34m()\u001b[0m\n\u001b[1;32m      4\u001b[0m dice_imgs \u001b[38;5;241m=\u001b[39m [\u001b[38;5;124m\"\u001b[39m\u001b[38;5;124m❶\u001b[39m\u001b[38;5;124m\"\u001b[39m, \u001b[38;5;124m\"\u001b[39m\u001b[38;5;124m❷\u001b[39m\u001b[38;5;124m\"\u001b[39m, \u001b[38;5;124m\"\u001b[39m\u001b[38;5;124m❸\u001b[39m\u001b[38;5;124m\"\u001b[39m, \u001b[38;5;124m\"\u001b[39m\u001b[38;5;124m❹\u001b[39m\u001b[38;5;124m\"\u001b[39m, \u001b[38;5;124m\"\u001b[39m\u001b[38;5;124m❺\u001b[39m\u001b[38;5;124m\"\u001b[39m, \u001b[38;5;124m\"\u001b[39m\u001b[38;5;124m❻\u001b[39m\u001b[38;5;124m\"\u001b[39m]\n\u001b[1;32m      5\u001b[0m dice_num \u001b[38;5;241m=\u001b[39m randint(\u001b[38;5;241m1\u001b[39m, \u001b[38;5;241m6\u001b[39m)\n\u001b[0;32m----> 6\u001b[0m \u001b[38;5;28mprint\u001b[39m(\u001b[43mdice_imgs\u001b[49m\u001b[43m[\u001b[49m\u001b[43mdice_num\u001b[49m\u001b[43m]\u001b[49m)\n",
      "\u001b[0;31mIndexError\u001b[0m: list index out of range"
     ]
    }
   ],
   "source": [
    "# Reproduce the Bug\n",
    "from random import randint\n",
    "\n",
    "dice_imgs = [\"❶\", \"❷\", \"❸\", \"❹\", \"❺\", \"❻\"]\n",
    "dice_num = randint(1, 6)             # random 범위가 맞지 않음 - range 함수와 범위가 다르다\n",
    "print(dice_imgs[dice_num])"
   ]
  },
  {
   "cell_type": "code",
   "execution_count": 80,
   "id": "1a67bd03",
   "metadata": {},
   "outputs": [
    {
     "name": "stdout",
     "output_type": "stream",
     "text": [
      "❷\n"
     ]
    }
   ],
   "source": [
    "# fixed Problem\n",
    "from random import randint\n",
    "\n",
    "dice_imgs = [\"❶\", \"❷\", \"❸\", \"❹\", \"❺\", \"❻\"]\n",
    "dice_num = randint(0, 5)\n",
    "print(dice_imgs[dice_num])"
   ]
  },
  {
   "cell_type": "code",
   "execution_count": null,
   "id": "1a8f7b28",
   "metadata": {},
   "outputs": [],
   "source": []
  },
  {
   "cell_type": "code",
   "execution_count": null,
   "id": "e3f7a647",
   "metadata": {},
   "outputs": [],
   "source": []
  }
 ],
 "metadata": {
  "kernelspec": {
   "display_name": "Python 3 (ipykernel)",
   "language": "python",
   "name": "python3"
  },
  "language_info": {
   "codemirror_mode": {
    "name": "ipython",
    "version": 3
   },
   "file_extension": ".py",
   "mimetype": "text/x-python",
   "name": "python",
   "nbconvert_exporter": "python",
   "pygments_lexer": "ipython3",
   "version": "3.8.12"
  }
 },
 "nbformat": 4,
 "nbformat_minor": 5
}
