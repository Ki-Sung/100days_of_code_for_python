{
 "cells": [
  {
   "cell_type": "markdown",
   "id": "3139d8df",
   "metadata": {},
   "source": [
    "## Hangman \n",
    "- [How to play Hangman](https://engoo.co.kr/blog/3%eb%b6%84-%ec%98%81%ec%96%b4%ed%9a%8c%ed%99%94/%ec%98%81%ec%96%b4%eb%8b%a8%ec%96%b4%ea%b2%8c%ec%9e%84-hangman%ed%96%89%eb%a7%a8-%ed%95%98%eb%8a%94-%eb%b0%a9%eb%b2%95/)\n",
    "\n",
    "    1. 문제 출제자가 영단어 1개를 생각한다. \n",
    "    2. 자신이 생각해낸 단어의 글자수 만큼 밑줄을 그어준다. \n",
    "    3. 참여자들은 차례대로 단어에 사용됬을 것 같은 알파벳을 하나씩 말한다.\n",
    "    4. 만약 말한 알파벳이 포함되어 있다고 한다면, 해당하는 밑줄에 알파벳을 채워넣고, 그렇지 않다면, 사람이 매달린 단두대 부터 1획씩 그림을 그린다.\n",
    "    5. 만약 단두대에 걸린 사람의 그림이 먼저 완성되면, 출제자 승!, 만약 단어가 먼저 완성이 되면, 참여자들 승!"
   ]
  },
  {
   "cell_type": "code",
   "execution_count": null,
   "id": "744f9168",
   "metadata": {},
   "outputs": [],
   "source": []
  },
  {
   "cell_type": "code",
   "execution_count": null,
   "id": "8075a547",
   "metadata": {},
   "outputs": [],
   "source": []
  },
  {
   "cell_type": "code",
   "execution_count": null,
   "id": "74fec414",
   "metadata": {},
   "outputs": [],
   "source": []
  },
  {
   "cell_type": "code",
   "execution_count": null,
   "id": "2592bfca",
   "metadata": {},
   "outputs": [],
   "source": []
  },
  {
   "cell_type": "code",
   "execution_count": null,
   "id": "6cce04ed",
   "metadata": {},
   "outputs": [],
   "source": []
  },
  {
   "cell_type": "code",
   "execution_count": null,
   "id": "f33f52e0",
   "metadata": {},
   "outputs": [],
   "source": []
  }
 ],
 "metadata": {
  "kernelspec": {
   "display_name": "Python 3 (ipykernel)",
   "language": "python",
   "name": "python3"
  },
  "language_info": {
   "codemirror_mode": {
    "name": "ipython",
    "version": 3
   },
   "file_extension": ".py",
   "mimetype": "text/x-python",
   "name": "python",
   "nbconvert_exporter": "python",
   "pygments_lexer": "ipython3",
   "version": "3.8.12"
  }
 },
 "nbformat": 4,
 "nbformat_minor": 5
}
