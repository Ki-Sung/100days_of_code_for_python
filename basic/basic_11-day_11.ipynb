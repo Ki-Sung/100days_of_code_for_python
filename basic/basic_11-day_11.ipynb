{
 "cells": [
  {
   "cell_type": "code",
   "execution_count": null,
   "id": "70b21f40",
   "metadata": {},
   "outputs": [],
   "source": [
    "# 블랙잭 프로젝트 \n",
    "# 기본적으로 먼저 카드를 21에 가까이 만들면 이기는 게임이다.\n",
    "# 순서는 아래와 같다.\n",
    "# 1. 나의 카드를 제시해준다. [int, int]\n",
    "# 2. 컴퓨터의 첫 번째 카드를 표시해준다.\n",
    "# 3. 다른 카드를 받을 것인지에 대한 유무를 물어본다. \n",
    "# 4. 만약 yes를 입력하면, 받고, no를 입력하면 더이상 받지 않는디ㅏ. \n",
    "# 5. 컴퓨터 카드와 비교해서 승패를 가린다. (이기면 you win 출력, 졌으면 you lose 출력)\n",
    "# 6. 다시 게임하길 원하는지 유무를 묻는다. "
   ]
  },
  {
   "cell_type": "code",
   "execution_count": null,
   "id": "90672511",
   "metadata": {},
   "outputs": [],
   "source": []
  }
 ],
 "metadata": {
  "kernelspec": {
   "display_name": "Python 3 (ipykernel)",
   "language": "python",
   "name": "python3"
  },
  "language_info": {
   "codemirror_mode": {
    "name": "ipython",
    "version": 3
   },
   "file_extension": ".py",
   "mimetype": "text/x-python",
   "name": "python",
   "nbconvert_exporter": "python",
   "pygments_lexer": "ipython3",
   "version": "3.8.12"
  }
 },
 "nbformat": 4,
 "nbformat_minor": 5
}
