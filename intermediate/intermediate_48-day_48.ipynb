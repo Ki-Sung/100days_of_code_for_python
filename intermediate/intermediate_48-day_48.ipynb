{
 "cells": [
  {
   "cell_type": "markdown",
   "id": "4b2af07d",
   "metadata": {},
   "source": [
    "## 셀레니움 웹드라이버 \n",
    "- 자동적으로 웹을 컨트롤 할 수 있는 스크래핑 Tool 중 하나이다. \n",
    "- 주로 동적인 웹사이트를 스크래핑 할 때 많이 사용한다. "
   ]
  },
  {
   "cell_type": "markdown",
   "id": "2cdf0e28",
   "metadata": {},
   "source": [
    "### 1. 셀레니움 설치 및 설정 방법 \n",
    "1. 크롬 다운로드\n",
    "2. 크롬드라이버 다운로드 -> https://chromedriver.chromium.org/downloads\n",
    "    - 크롬 버전에 맞게 크롬드라이버를 받아야함!\n",
    "    - 계속 다운로드 해야하는 번거로움이 있으므로 여기서는 Undetected Chromedriver를 사용 예정 \n",
    "        - pip install undetected-chromedriver\n",
    "3. 크롬드라이버 다운로드 후 원하는 디렉토리에 저장 \n",
    "4. 크롬드라이버 실행시 저장한 디렉토리 path를 파이썬 파일 실행 후 설정해준다.\n",
    "5. 셀레니움 실행 \n",
    "    - pip install selenium"
   ]
  },
  {
   "cell_type": "code",
   "execution_count": null,
   "id": "de24d0d6",
   "metadata": {},
   "outputs": [],
   "source": [
    "#  Undetected Chromedriver 사용! - 해당 드라이버를 사용하며 path는 필요 없음\n",
    "from fake_useragent import UserAgent\n",
    "\n",
    "import undetected_chromedriver as uc \n",
    "from selenium.webdriver.common.by import By\n",
    "\n",
    "driver = uc.Chrome()                        # 크롬드라이버 선언\n",
    "driver.get(\"https://www.amazon.com\")        # 지정된 url로 크롬드라이버로 접속\n",
    "\n",
    "driver.close()                              # 크롬드라이버 닫기 - 현재 띄워진 단일 탭을 닫는 역할 \n",
    "driver.quit()                               # 크롬드라이버 종료 - 전체 브라우저 종료"
   ]
  },
  {
   "cell_type": "markdown",
   "id": "c8e5dc88",
   "metadata": {},
   "source": [
    "### 2. 셀리니움으로 웹사이트 요소를 찾고 선택하는 방법\n",
    "- 셀레니움은 여러 요소들을 찾을 수 있다. \n",
    "    - name - tag 명 \n",
    "    - class_name - tag 클래스 명\n",
    "    - css_selector - CSS 요소 \n",
    "    - xpath - HTML 경로 \n",
    "    - ..."
   ]
  },
  {
   "cell_type": "code",
   "execution_count": 3,
   "id": "e8f9668a",
   "metadata": {},
   "outputs": [
    {
     "name": "stdout",
     "output_type": "stream",
     "text": [
      "Mozilla/5.0 (X11; U; Linux x86_64; en-US) AppleWebKit/532.2 (KHTML, like Gecko) Chrome/4.0.221.3 Safari/532.2\n"
     ]
    }
   ],
   "source": [
    "from fake_useragent import UserAgent\n",
    "\n",
    "import undetected_chromedriver as uc \n",
    "from selenium.webdriver.common.by import By\n",
    "\n",
    "# fake user 사용 \n",
    "us = UserAgent(verify_ssl=False)\n",
    "userAgent = us.random\n",
    "print(userAgent)\n",
    "\n",
    "# 크롬드라이버 옵션 선언\n",
    "options = uc.ChromeOptions()\n",
    "\n",
    "# 크롬드라이버 headless 옵션 \n",
    "# options.headless=True\n",
    "# options.add_argument('--headless')   \n",
    "options.add_argument(\"--no-sandbox\")  \n",
    "\n",
    "options.add_argument(f'user-agent={userAgent}')  # fake user 설정 \n",
    "options.add_argument(\"--load-images=yes\")        # 이미지 로드 설정 \n",
    "options.add_argument(\"--disable-extensions\")     # 비활성화 - 어떤 것을 비활성화 하는지 잘 모르겠음 \n",
    "options.add_argument(\"--disable-gpu\")            # gpu 가속 사용 제외\n",
    "options.add_argument(\"--lang=ja-JP\")             # 가짜 플러그인 탑재 - 일본어 설정 \n",
    "driver = uc.Chrome(options=options)              # 설정된 크롬드라이버 선언\n",
    "\n",
    "# url 설정 \n",
    "url = \"https://www.amazon.com/-/ko/dp/B08JXG2518/ref=d_pb_allspark_dp_sims_pao_desktop_session_based_sccl_3_4/137-4205210-2076769?pd_rd_w=YOpxg&content-id=amzn1.sym.6b5008ac-c24a-4aea-a3ea-015a531184f5&pf_rd_p=6b5008ac-c24a-4aea-a3ea-015a531184f5&pf_rd_r=P8KNZZ318D1F1YV7G1C5&pd_rd_wg=D2u0A&pd_rd_r=709f08ca-e3ba-456d-bbc4-8a15fac78a5a&pd_rd_i=B08JXG2518&psc=1\"\n",
    "\n",
    "driver.get(url)        # 지정된 url로 크롬드라이버로 접속\n",
    "\n",
    "# 데이터 추출 \n",
    "price = driver.find_element(By.XPATH, '//*[@id=\"corePrice_desktop\"]/div/table/tbody/tr/td[2]/span[1]/span[2]').text  # 가격 추출 \n",
    "price\n",
    "\n",
    "driver.close()                              # 크롬드라이버 닫기 - 현재 띄워진 단일 탭을 닫는 역할 \n",
    "driver.quit()                               # 크롬드라이버 종료 - 전체 브라우저 종료"
   ]
  },
  {
   "cell_type": "markdown",
   "id": "09c2627c",
   "metadata": {},
   "source": [
    "### 3. 셀레니움을 사용해서 웹사이트로 데이터 스크래핑 하기 \n",
    "- 대상: python.org \n",
    "- 스크래핑할 데이터: Upcoming Events\n",
    "    - 날짜 / 이벤트 명 \n",
    "- 결과물 형태: 딕셔너리 "
   ]
  },
  {
   "cell_type": "code",
   "execution_count": 55,
   "id": "3f4d9aa1",
   "metadata": {},
   "outputs": [
    {
     "name": "stdout",
     "output_type": "stream",
     "text": [
      "Opera/9.21 (Windows 98; U; en)\n",
      "{1: {'time': '2023-09-21', 'name': 'Big PyData BBQ #5: Large Language Models'}}\n",
      "{2: {'time': '2023-09-22', 'name': 'PyCon UK 2023'}}\n",
      "{3: {'time': '2023-09-26', 'name': 'Time series forecasting for business'}}\n",
      "{4: {'time': '2023-09-27', 'name': 'Python Meeting Düsseldorf'}}\n",
      "{5: {'time': '2023-09-29', 'name': 'PyCon India 2023'}}\n"
     ]
    }
   ],
   "source": [
    "# solution 1\n",
    "from fake_useragent import UserAgent\n",
    "\n",
    "import undetected_chromedriver as uc \n",
    "from selenium.webdriver.common.by import By\n",
    "\n",
    "# fake user 사용 \n",
    "us = UserAgent(verify_ssl=False)\n",
    "userAgent = us.random\n",
    "print(userAgent)\n",
    "\n",
    "# 크롬드라이버 옵션 선언\n",
    "options = uc.ChromeOptions()\n",
    "\n",
    "# 크롬드라이버 headless 옵션 \n",
    "# options.headless=True\n",
    "# options.add_argument('--headless')   \n",
    "options.add_argument(\"--no-sandbox\")  \n",
    "\n",
    "options.add_argument(f'user-agent={userAgent}')  # fake user 설정 \n",
    "options.add_argument(\"--load-images=yes\")        # 이미지 로드 설정 \n",
    "options.add_argument(\"--disable-extensions\")     # 비활성화 - 어떤 것을 비활성화 하는지 잘 모르겠음 \n",
    "options.add_argument(\"--disable-gpu\")            # gpu 가속 사용 제외\n",
    "options.add_argument(\"--lang=ja-JP\")             # 가짜 플러그인 탑재 - 일본어 설정 \n",
    "driver = uc.Chrome(options=options)              # 설정된 크롬드라이버 선언\n",
    "\n",
    "# url 설정 \n",
    "url = \"https://www.python.org/\"\n",
    "\n",
    "driver.get(url)        # 지정된 url로 크롬드라이버로 접속\n",
    "\n",
    "# 데이터 추출\n",
    "for i in range(1, 6):\n",
    "    date_element = driver.find_element(By.XPATH, f'//*[@id=\"content\"]/div/section/div[2]/div[2]/div/ul/li[{i}]/time').text\n",
    "    event_name_element = driver.find_element(By.XPATH, f'//*[@id=\"content\"]/div/section/div[2]/div[2]/div/ul/li[{i}]/a').text\n",
    "    \n",
    "    # 딕셔너리로 저장\n",
    "    data_dict = {\n",
    "        i: {\n",
    "        \"time\": date_element,\n",
    "        \"name\": event_name_element\n",
    "        },\n",
    "    }\n",
    "    \n",
    "    # 결과물 출력\n",
    "    print(data_dict)\n",
    "    \n",
    "driver.close()                              # 크롬드라이버 닫기 - 현재 띄워진 단일 탭을 닫는 역할 \n",
    "driver.quit()                               # 크롬드라이버 종료 - 전체 브라우저 종료"
   ]
  },
  {
   "cell_type": "code",
   "execution_count": 56,
   "id": "bb43bbc9",
   "metadata": {},
   "outputs": [
    {
     "name": "stdout",
     "output_type": "stream",
     "text": [
      "Mozilla/5.0 (Windows NT 6.1; WOW64; Trident/7.0; AS; rv:11.0) like Gecko\n",
      "{0: {'time': '2023-09-21', 'name': 'Big PyData BBQ #5: Large Language Models'}, 1: {'time': '2023-09-22', 'name': 'PyCon UK 2023'}, 2: {'time': '2023-09-26', 'name': 'Time series forecasting for business'}, 3: {'time': '2023-09-27', 'name': 'Python Meeting Düsseldorf'}, 4: {'time': '2023-09-29', 'name': 'PyCon India 2023'}}\n"
     ]
    }
   ],
   "source": [
    "# solution 2\n",
    "from fake_useragent import UserAgent\n",
    "\n",
    "import undetected_chromedriver as uc \n",
    "from selenium.webdriver.common.by import By\n",
    "\n",
    "# fake user 사용 \n",
    "us = UserAgent(verify_ssl=False)\n",
    "userAgent = us.random\n",
    "print(userAgent)\n",
    "\n",
    "# 크롬드라이버 옵션 선언\n",
    "options = uc.ChromeOptions()\n",
    "\n",
    "# 크롬드라이버 headless 옵션 \n",
    "# options.headless=True\n",
    "# options.add_argument('--headless')   \n",
    "options.add_argument(\"--no-sandbox\")  \n",
    "\n",
    "options.add_argument(f'user-agent={userAgent}')  # fake user 설정 \n",
    "options.add_argument(\"--load-images=yes\")        # 이미지 로드 설정 \n",
    "options.add_argument(\"--disable-extensions\")     # 비활성화 - 어떤 것을 비활성화 하는지 잘 모르겠음 \n",
    "options.add_argument(\"--disable-gpu\")            # gpu 가속 사용 제외\n",
    "options.add_argument(\"--lang=ja-JP\")             # 가짜 플러그인 탑재 - 일본어 설정 \n",
    "driver = uc.Chrome(options=options)              # 설정된 크롬드라이버 선언\n",
    "\n",
    "# url 설정 \n",
    "url = \"https://www.python.org/\"\n",
    "\n",
    "driver.get(url)        # 지정된 url로 크롬드라이버로 접속\n",
    "\n",
    "# 데이터 추출\n",
    "event_time = driver.find_elements(By.CSS_SELECTOR, \".event-widget time\")\n",
    "event_name = driver.find_elements(By.CSS_SELECTOR, \".event-widget li a\")\n",
    "\n",
    "# 딕셔너리 형태로 저장 \n",
    "events = {}\n",
    "\n",
    "for n in range(len(event_time)):\n",
    "    events[n] = {\n",
    "        \"time\": event_time[n].text,\n",
    "        \"name\": event_name[n].text\n",
    "    }\n",
    "\n",
    "# 결과물 출력\n",
    "print(events)\n",
    "\n",
    "driver.close()                              # 크롬드라이버 닫기 - 현재 띄워진 단일 탭을 닫는 역할 \n",
    "driver.quit()                               # 크롬드라이버 종료 - 전체 브라우저 종료"
   ]
  },
  {
   "cell_type": "markdown",
   "id": "5eb05a92",
   "metadata": {},
   "source": [
    "### 4. 공백 프로젝트에서 셀레니움 사용하기 & 다른 데이터 스크래핑하기 \n",
    "- 위키피디아 사이트 스크래핑 \n",
    "    - interaction.py 파일을 생성\n",
    "    - 위키피디아 문서 개수 추출 \n",
    "    - interaction 파일에 코드 작성 "
   ]
  },
  {
   "cell_type": "code",
   "execution_count": 12,
   "id": "e61e0986",
   "metadata": {},
   "outputs": [
    {
     "name": "stdout",
     "output_type": "stream",
     "text": [
      "Mozilla/4.0 (compatible; MSIE 5.0; Windows XP) Opera 6.04  [de]\n",
      "6,717,866\n"
     ]
    }
   ],
   "source": [
    "# interaction.py\n",
    "from fake_useragent import UserAgent\n",
    "\n",
    "import undetected_chromedriver as uc \n",
    "from selenium.webdriver.common.by import By\n",
    "\n",
    "# fake user 사용 \n",
    "us = UserAgent(verify_ssl=False)\n",
    "userAgent = us.random\n",
    "print(userAgent)\n",
    "\n",
    "# 크롬드라이버 옵션 선언\n",
    "options = uc.ChromeOptions()\n",
    "\n",
    "# 크롬드라이버 headless 옵션 \n",
    "# options.headless=True\n",
    "# options.add_argument('--headless')   \n",
    "options.add_argument(\"--no-sandbox\")  \n",
    "\n",
    "options.add_argument(f'user-agent={userAgent}')  # fake user 설정 \n",
    "options.add_argument(\"--load-images=yes\")        # 이미지 로드 설정 \n",
    "options.add_argument(\"--disable-extensions\")     # 비활성화 - 어떤 것을 비활성화 하는지 잘 모르겠음 \n",
    "options.add_argument(\"--disable-gpu\")            # gpu 가속 사용 제외\n",
    "options.add_argument(\"--lang=ja-JP\")             # 가짜 플러그인 탑재 - 일본어 설정 \n",
    "driver = uc.Chrome(options=options)              # 설정된 크롬드라이버 선언\n",
    "\n",
    "# url 설정 \n",
    "url = \"https://en.wikipedia.org/wiki/Main_Page\"\n",
    "\n",
    "driver.get(url)\n",
    "\n",
    "# 문서 개수 추출\n",
    "document_count = driver.find_element(By.CSS_SELECTOR, '#articlecount a')\n",
    "print(document_count.text)\n",
    "\n",
    "driver.close()                              # 크롬드라이버 닫기 - 현재 띄워진 단일 탭을 닫는 역할 \n",
    "driver.quit()                               # 크롬드라이버 종료 - 전체 브라우저 종료"
   ]
  },
  {
   "cell_type": "markdown",
   "id": "51ae604b",
   "metadata": {},
   "source": [
    "### 5. 셀리니움으로 양식 작성 및 버튼 클릭을 자동화하는 방법 "
   ]
  },
  {
   "cell_type": "code",
   "execution_count": 13,
   "id": "1d8925a4",
   "metadata": {},
   "outputs": [
    {
     "name": "stdout",
     "output_type": "stream",
     "text": [
      "Mozilla/5.0 (Windows NT 10.0; Win64; x64) AppleWebKit/537.36 (KHTML like Gecko) Chrome/51.0.2704.79 Safari/537.36 Edge/14.14931\n"
     ]
    }
   ],
   "source": [
    "# 자동 클릭 1\n",
    "from fake_useragent import UserAgent\n",
    "\n",
    "import undetected_chromedriver as uc \n",
    "from selenium.webdriver.common.by import By\n",
    "\n",
    "# fake user 사용 \n",
    "us = UserAgent(verify_ssl=False)\n",
    "userAgent = us.random\n",
    "print(userAgent)\n",
    "\n",
    "# 크롬드라이버 옵션 선언\n",
    "options = uc.ChromeOptions()\n",
    "\n",
    "# 크롬드라이버 headless 옵션 \n",
    "# options.headless=True\n",
    "# options.add_argument('--headless')   \n",
    "options.add_argument(\"--no-sandbox\")  \n",
    "\n",
    "options.add_argument(f'user-agent={userAgent}')  # fake user 설정 \n",
    "options.add_argument(\"--load-images=yes\")        # 이미지 로드 설정 \n",
    "options.add_argument(\"--disable-extensions\")     # 비활성화 - 어떤 것을 비활성화 하는지 잘 모르겠음 \n",
    "options.add_argument(\"--disable-gpu\")            # gpu 가속 사용 제외\n",
    "options.add_argument(\"--lang=ja-JP\")             # 가짜 플러그인 탑재 - 일본어 설정 \n",
    "driver = uc.Chrome(options=options)              # 설정된 크롬드라이버 선언\n",
    "\n",
    "# url 설정 \n",
    "url = \"https://en.wikipedia.org/wiki/Main_Page\"\n",
    "\n",
    "driver.get(url)\n",
    "\n",
    "# 문서 개수의 앵커 태그의 하이퍼링크를 자동 클릭을 통해 제어하기\n",
    "document_count = driver.find_element(By.CSS_SELECTOR, '#articlecount a')\n",
    "document_count.click()\n",
    "\n",
    "driver.close()                              # 크롬드라이버 닫기 - 현재 띄워진 단일 탭을 닫는 역할 \n",
    "driver.quit()                               # 크롬드라이버 종료 - 전체 브라우저 종료"
   ]
  },
  {
   "cell_type": "code",
   "execution_count": 15,
   "id": "a84b54dd",
   "metadata": {},
   "outputs": [
    {
     "name": "stdout",
     "output_type": "stream",
     "text": [
      "Mozilla/5.0 (X11; Linux i686; rv:21.0) Gecko/20100101 Firefox/21.0\n"
     ]
    }
   ],
   "source": [
    "# 자동 클릭 2\n",
    "from fake_useragent import UserAgent\n",
    "\n",
    "import undetected_chromedriver as uc \n",
    "from selenium.webdriver.common.by import By\n",
    "\n",
    "# fake user 사용 \n",
    "us = UserAgent(verify_ssl=False)\n",
    "userAgent = us.random\n",
    "print(userAgent)\n",
    "\n",
    "# 크롬드라이버 옵션 선언\n",
    "options = uc.ChromeOptions()\n",
    "\n",
    "# 크롬드라이버 headless 옵션 \n",
    "# options.headless=True\n",
    "# options.add_argument('--headless')   \n",
    "options.add_argument(\"--no-sandbox\")  \n",
    "\n",
    "options.add_argument(f'user-agent={userAgent}')  # fake user 설정 \n",
    "options.add_argument(\"--load-images=yes\")        # 이미지 로드 설정 \n",
    "options.add_argument(\"--disable-extensions\")     # 비활성화 - 어떤 것을 비활성화 하는지 잘 모르겠음 \n",
    "options.add_argument(\"--disable-gpu\")            # gpu 가속 사용 제외\n",
    "options.add_argument(\"--lang=ja-JP\")             # 가짜 플러그인 탑재 - 일본어 설정 \n",
    "driver = uc.Chrome(options=options)              # 설정된 크롬드라이버 선언\n",
    "\n",
    "# url 설정 \n",
    "url = \"https://en.wikipedia.org/wiki/Main_Page\"\n",
    "\n",
    "driver.get(url)\n",
    "\n",
    "# view history 페이지 자동으로 클릭 \n",
    "view_history = driver.find_element(By.LINK_TEXT, \"View history\")\n",
    "view_history.click()\n",
    "\n",
    "driver.close()                              # 크롬드라이버 닫기 - 현재 띄워진 단일 탭을 닫는 역할 \n",
    "driver.quit()                               # 크롬드라이버 종료 - 전체 브라우저 종료"
   ]
  },
  {
   "cell_type": "code",
   "execution_count": 17,
   "id": "917fdfaf",
   "metadata": {},
   "outputs": [
    {
     "name": "stdout",
     "output_type": "stream",
     "text": [
      "Mozilla/5.0 (X11; U; Linux i686; en-US) AppleWebKit/533.4 (KHTML, like Gecko) Chrome/5.0.366.2 Safari/533.4\n"
     ]
    }
   ],
   "source": [
    "# 자동 타이핑\n",
    "from fake_useragent import UserAgent\n",
    "\n",
    "import undetected_chromedriver as uc \n",
    "from selenium.webdriver.common.by import By\n",
    "\n",
    "# fake user 사용 \n",
    "us = UserAgent(verify_ssl=False)\n",
    "userAgent = us.random\n",
    "print(userAgent)\n",
    "\n",
    "# 크롬드라이버 옵션 선언\n",
    "options = uc.ChromeOptions()\n",
    "\n",
    "# 크롬드라이버 headless 옵션 \n",
    "# options.headless=True\n",
    "# options.add_argument('--headless')   \n",
    "options.add_argument(\"--no-sandbox\")  \n",
    "\n",
    "options.add_argument(f'user-agent={userAgent}')  # fake user 설정 \n",
    "options.add_argument(\"--load-images=yes\")        # 이미지 로드 설정 \n",
    "options.add_argument(\"--disable-extensions\")     # 비활성화 - 어떤 것을 비활성화 하는지 잘 모르겠음 \n",
    "options.add_argument(\"--disable-gpu\")            # gpu 가속 사용 제외\n",
    "options.add_argument(\"--lang=ja-JP\")             # 가짜 플러그인 탑재 - 일본어 설정 \n",
    "driver = uc.Chrome(options=options)              # 설정된 크롬드라이버 선언\n",
    "\n",
    "# url 설정 \n",
    "url = \"https://en.wikipedia.org/wiki/Main_Page\"\n",
    "\n",
    "driver.get(url)\n",
    "\n",
    "search = driver.find_element(By.NAME, \"search\")\n",
    "search.send_keys(\"Python\")\n",
    "\n",
    "driver.close()                              # 크롬드라이버 닫기 - 현재 띄워진 단일 탭을 닫는 역할 \n",
    "driver.quit()                               # 크롬드라이버 종료 - 전체 브라우저 종료"
   ]
  },
  {
   "cell_type": "code",
   "execution_count": 20,
   "id": "73716542",
   "metadata": {},
   "outputs": [
    {
     "name": "stdout",
     "output_type": "stream",
     "text": [
      "Mozilla/5.0 (Windows NT 6.3; Win64; x64) AppleWebKit/537.36 (KHTML, like Gecko) Chrome/37.0.2049.0 Safari/537.36\n"
     ]
    }
   ],
   "source": [
    "# 자동 엔터키 제어\n",
    "from fake_useragent import UserAgent\n",
    "\n",
    "import undetected_chromedriver as uc \n",
    "from selenium.webdriver.common.by import By\n",
    "from selenium.webdriver.common.keys import Keys\n",
    "\n",
    "# fake user 사용 \n",
    "us = UserAgent(verify_ssl=False)\n",
    "userAgent = us.random\n",
    "print(userAgent)\n",
    "\n",
    "# 크롬드라이버 옵션 선언\n",
    "options = uc.ChromeOptions()\n",
    "\n",
    "# 크롬드라이버 headless 옵션 \n",
    "# options.headless=True\n",
    "# options.add_argument('--headless')   \n",
    "options.add_argument(\"--no-sandbox\")  \n",
    "\n",
    "options.add_argument(f'user-agent={userAgent}')  # fake user 설정 \n",
    "options.add_argument(\"--load-images=yes\")        # 이미지 로드 설정 \n",
    "options.add_argument(\"--disable-extensions\")     # 비활성화 - 어떤 것을 비활성화 하는지 잘 모르겠음 \n",
    "options.add_argument(\"--disable-gpu\")            # gpu 가속 사용 제외\n",
    "options.add_argument(\"--lang=ja-JP\")             # 가짜 플러그인 탑재 - 일본어 설정 \n",
    "driver = uc.Chrome(options=options)              # 설정된 크롬드라이버 선언\n",
    "\n",
    "# url 설정 \n",
    "url = \"https://en.wikipedia.org/wiki/Main_Page\"\n",
    "\n",
    "driver.get(url)\n",
    "\n",
    "search = driver.find_element(By.NAME, \"search\")\n",
    "search.send_keys(\"Python\")\n",
    "search.send_keys(Keys.ENTER)\n",
    "\n",
    "driver.close()                              # 크롬드라이버 닫기 - 현재 띄워진 단일 탭을 닫는 역할 \n",
    "driver.quit()                               # 크롬드라이버 종료 - 전체 브라우저 종료"
   ]
  },
  {
   "cell_type": "markdown",
   "id": "b23a45cb",
   "metadata": {},
   "source": [
    "#### 과제: 아래의 사이트 url에 들어가서 셀레니움을 통해 자동으로 성, 이름, 이메일 주소를 입력 후 자동으로 Sigh Up버튼을 클릭하여라!"
   ]
  },
  {
   "cell_type": "code",
   "execution_count": 24,
   "id": "6c07c20a",
   "metadata": {},
   "outputs": [
    {
     "name": "stdout",
     "output_type": "stream",
     "text": [
      "Mozilla/5.0 (Macintosh; U; Intel Mac OS X 10_6_4; en-US) AppleWebKit/534.1 (KHTML, like Gecko) Chrome/6.0.414.0 Safari/534.1\n"
     ]
    }
   ],
   "source": [
    "from fake_useragent import UserAgent\n",
    "\n",
    "import undetected_chromedriver as uc \n",
    "from selenium.webdriver.common.by import By\n",
    "from selenium.webdriver.common.keys import Keys\n",
    "\n",
    "# fake user 사용 \n",
    "us = UserAgent(verify_ssl=False)\n",
    "userAgent = us.random\n",
    "print(userAgent)\n",
    "\n",
    "# 크롬드라이버 옵션 선언\n",
    "options = uc.ChromeOptions()\n",
    "\n",
    "# 크롬드라이버 headless 옵션 \n",
    "# options.headless=True\n",
    "# options.add_argument('--headless')   \n",
    "options.add_argument(\"--no-sandbox\")  \n",
    "\n",
    "options.add_argument(f'user-agent={userAgent}')  # fake user 설정 \n",
    "options.add_argument(\"--load-images=yes\")        # 이미지 로드 설정 \n",
    "options.add_argument(\"--disable-extensions\")     # 비활성화 - 어떤 것을 비활성화 하는지 잘 모르겠음 \n",
    "options.add_argument(\"--disable-gpu\")            # gpu 가속 사용 제외\n",
    "options.add_argument(\"--lang=ja-JP\")             # 가짜 플러그인 탑재 - 일본어 설정 \n",
    "driver = uc.Chrome(options=options)              # 설정된 크롬드라이버 선언\n",
    "\n",
    "# url 설정 \n",
    "url = \"http://secure-retreat-92358.herokuapp.com/\"\n",
    "\n",
    "driver.get(url)\n",
    "\n",
    "# 이름 입력 \n",
    "first_name = driver.find_element(By.NAME, \"fName\")\n",
    "first_name.send_keys(\"Gilbert\")\n",
    "\n",
    "# 성 입력 \n",
    "last_name = driver.find_element(By.NAME, \"lName\")\n",
    "last_name.send_keys(\"Kim\")\n",
    "\n",
    "# 이메일 입력 \n",
    "email = driver.find_element(By.NAME, \"email\")\n",
    "email.send_keys(\"kcs4912@gmail.com\")\n",
    "\n",
    "# 버튼 클릭 \n",
    "button_click = driver.find_element(By.CSS_SELECTOR, \"body > form > button\")\n",
    "button_click.click()\n",
    "\n",
    "driver.close()                              # 크롬드라이버 닫기 - 현재 띄워진 단일 탭을 닫는 역할 \n",
    "driver.quit()                               # 크롬드라이버 종료 - 전체 브라우저 종료"
   ]
  },
  {
   "cell_type": "markdown",
   "id": "47a25ee3",
   "metadata": {},
   "source": [
    "### 6. 쿠키 클리커 프로젝트 \n",
    "1. 게임 사이트로 가서 게임 방법을 익히기\n",
    "     - http://orteil.dashnet.org/experiments/cookie/ (classic version)\n",
    "2. 셀레니움과 파이썬으로 봇을 만들어 최대한 빨리 쿠키를 클릭 \n",
    "3. 우측 창에서 구매 가능한 업그레이드 아이템이 있는지 5초마다 확인하여, 가장 비싼 아이템을 구매. 각 업그레이드 비용 대비 가진 돈(쿠키)을 확인해야 한다.\n",
    "    - 예: 쿠키가 103개 있을 때, 할머니 아이템과 커서 아이템 둘 다 구매할 수 있지만, 할머니 아이템이 더 비싸므로 이 아이템을 구매한다. \n",
    "4. 게임 경과 5분 후, 봇을 멈추고 ‘1초당 쿠키 개수’를 출력 \n",
    "5. 성공적으로 봇을 만들었다면, 게임을 더 잘 할 수 있는 방법으로 자유롭게 알고리즘을 수정. \n",
    "    - 예: 업그레이드를 확인하는 시간을 5초 대신 1초로 변경해 볼 수 있다. 혹은 구매 가능한 업그레이드 아이템을 전부 구매한다. 변경한 알고리즘으로 더 많은 ‘1초당 쿠키 개수’를 얻었다면, Q&A 게시판에서 알고리즘을 모두에게 공유해 보자."
   ]
  },
  {
   "cell_type": "code",
   "execution_count": 10,
   "id": "c9f9a360",
   "metadata": {},
   "outputs": [
    {
     "name": "stdout",
     "output_type": "stream",
     "text": [
      "Mozilla/5.0 (iPod; U; CPU iPhone OS 4_2_1 like Mac OS X; he-il) AppleWebKit/533.17.9 (KHTML, like Gecko) Version/5.0.2 Mobile/8C148 Safari/6533.18.5\n"
     ]
    }
   ],
   "source": [
    "import time\n",
    "from fake_useragent import UserAgent\n",
    "\n",
    "import undetected_chromedriver as uc \n",
    "from selenium.webdriver.common.by import By\n",
    "from selenium.webdriver.common.keys import Keys\n",
    "\n",
    "# fake user 사용 \n",
    "us = UserAgent(verify_ssl=False)\n",
    "userAgent = us.random\n",
    "print(userAgent)\n",
    "\n",
    "# 크롬드라이버 옵션 선언\n",
    "options = uc.ChromeOptions()\n",
    "\n",
    "# 크롬드라이버 headless 옵션 \n",
    "# options.headless=True\n",
    "# options.add_argument('--headless')   \n",
    "options.add_argument(\"--no-sandbox\")  \n",
    "\n",
    "options.add_argument(f'user-agent={userAgent}')  # fake user 설정 \n",
    "options.add_argument(\"--load-images=yes\")        # 이미지 로드 설정 \n",
    "options.add_argument(\"--disable-extensions\")     # 비활성화 - 어떤 것을 비활성화 하는지 잘 모르겠음 \n",
    "options.add_argument(\"--disable-gpu\")            # gpu 가속 사용 제외\n",
    "options.add_argument(\"--lang=ja-JP\")             # 가짜 플러그인 탑재 - 일본어 설정 \n",
    "driver = uc.Chrome(options=options)              # 설정된 크롬드라이버 선언\n",
    "\n",
    "# url 설정 \n",
    "url = \"https://orteil.dashnet.org/experiments/cookie/\"\n",
    "driver.get(url)"
   ]
  },
  {
   "cell_type": "code",
   "execution_count": 26,
   "id": "2e8fe481",
   "metadata": {},
   "outputs": [],
   "source": [
    "# 쿠키 엘리먼츠 찾기\n",
    "cookie = driver.find_element(By.CSS_SELECTOR, \"#cookie\")"
   ]
  },
  {
   "cell_type": "code",
   "execution_count": 18,
   "id": "2b57a094",
   "metadata": {},
   "outputs": [],
   "source": [
    "# 업그레이드할 아이템 id 값 찾기\n",
    "items = driver.find_elements(By.CSS_SELECTOR, \"#store div\")\n",
    "item_ids = [item.get_attribute(\"id\") for item in items]"
   ]
  },
  {
   "cell_type": "code",
   "execution_count": 19,
   "id": "09a3af6b",
   "metadata": {},
   "outputs": [
    {
     "data": {
      "text/plain": [
       "['buyCursor',\n",
       " 'buyGrandma',\n",
       " 'buyFactory',\n",
       " 'buyMine',\n",
       " 'buyShipment',\n",
       " 'buyAlchemy lab',\n",
       " 'buyPortal',\n",
       " 'buyTime machine',\n",
       " 'buyElder Pledge']"
      ]
     },
     "execution_count": 19,
     "metadata": {},
     "output_type": "execute_result"
    }
   ],
   "source": [
    "# item 값 확인\n",
    "item_ids"
   ]
  },
  {
   "cell_type": "code",
   "execution_count": 24,
   "id": "b40383cf",
   "metadata": {},
   "outputs": [],
   "source": [
    "# 시간 설정\n",
    "timeout = time.time() + 5      # 타임아웃 5초 설정\n",
    "five_min = time.time() + 60*5  # 총 게임 오토봇 사용시간 설정 (5분)) "
   ]
  },
  {
   "cell_type": "code",
   "execution_count": 27,
   "id": "e6abecc3",
   "metadata": {},
   "outputs": [],
   "source": [
    "# 쿠키 클릭\n",
    "cookie.click()"
   ]
  },
  {
   "cell_type": "code",
   "execution_count": 39,
   "id": "5f64cfdc",
   "metadata": {},
   "outputs": [],
   "source": [
    "# 업그레이드를 위해 모든 아이템 가격 추출을 위한 가격 요소들 추출\n",
    "all_prices = driver.find_elements(By.CSS_SELECTOR, \"#store b\")"
   ]
  },
  {
   "cell_type": "code",
   "execution_count": 51,
   "id": "f537f678",
   "metadata": {},
   "outputs": [],
   "source": [
    "# 모든 아이템 가격 정보 추출 \n",
    "item_prices = []\n",
    "\n",
    "for price in all_prices:\n",
    "    element_text = price.text            # 가격 요소의 Text 추출 \n",
    "    if element_text != \"\":               # 추출된 Text 중 \"\"빈 문자열이 끝에 있어 조건문 제시 \n",
    "        cost = int(element_text.split(\"-\")[1].strip().replace(\",\", \"\"))  # 문자열 구분자로 숫자만 추출 후 정수형으로 데이터 타입 변경\n",
    "        item_prices.append(cost)         # 빈 리스트에 저장 "
   ]
  },
  {
   "cell_type": "code",
   "execution_count": 52,
   "id": "53cbefa6",
   "metadata": {},
   "outputs": [
    {
     "data": {
      "text/plain": [
       "[15, 100, 500, 2000, 7000, 50000, 1000000, 123456789]"
      ]
     },
     "execution_count": 52,
     "metadata": {},
     "output_type": "execute_result"
    }
   ],
   "source": [
    "# 아이템 가격 정보 출력\n",
    "item_prices"
   ]
  },
  {
   "cell_type": "code",
   "execution_count": 56,
   "id": "fffc4c0e",
   "metadata": {},
   "outputs": [],
   "source": [
    "# 아이템명:가격 형식으로 딕셔너리 생성\n",
    "cookie_upgrades = {}\n",
    "for n in range(len(item_prices)):\n",
    "    cookie_upgrades[item_prices[n]] = item_ids[n]"
   ]
  },
  {
   "cell_type": "code",
   "execution_count": 57,
   "id": "a4917b9b",
   "metadata": {},
   "outputs": [
    {
     "data": {
      "text/plain": [
       "{15: 'buyCursor',\n",
       " 100: 'buyGrandma',\n",
       " 500: 'buyFactory',\n",
       " 2000: 'buyMine',\n",
       " 7000: 'buyShipment',\n",
       " 50000: 'buyAlchemy lab',\n",
       " 1000000: 'buyPortal',\n",
       " 123456789: 'buyTime machine'}"
      ]
     },
     "execution_count": 57,
     "metadata": {},
     "output_type": "execute_result"
    }
   ],
   "source": [
    "# 데이터 확인 \n",
    "cookie_upgrades"
   ]
  },
  {
   "cell_type": "code",
   "execution_count": 61,
   "id": "87c0402e",
   "metadata": {},
   "outputs": [
    {
     "name": "stdout",
     "output_type": "stream",
     "text": [
      "1\n"
     ]
    }
   ],
   "source": [
    "# 현재 쿠키 개수 추출 \n",
    "money_element = driver.find_element(By.ID, \"money\").text  # 현재 쿠키 개수 추출\n",
    "if \",\" in money_element:                                  # 만약 숫자 사이에 구분자 \",\"가 있다면 \n",
    "    money_element = money_element.replace(\",\", \"\")        # \",\" 제거 \n",
    "cookie_count = int(money_element)                         # 문자열을 정수형으로 변경\n",
    "# 확인 \n",
    "print(cookie_count)"
   ]
  },
  {
   "cell_type": "code",
   "execution_count": 68,
   "id": "58e4242a",
   "metadata": {},
   "outputs": [],
   "source": [
    "# 현재 쿠키 개수로 구매할 수 있는 아이템\n",
    "affordable_upgrades = {}\n",
    "for cost, item_id in cookie_upgrades.items():    # cost와 item_id를 반복문을 통해서 저장 \n",
    "    if cookie_count > cost:                      # 만약 현재 쿠키가 아이템 cost 보다 클 경우 (즉 충분한 쿠기가 있을 경우)\n",
    "        affordable_upgrades[cost] = item_id      # affordable_upgrades에 딕녀서리 형식으로 저장"
   ]
  },
  {
   "cell_type": "code",
   "execution_count": 69,
   "id": "11393d5c",
   "metadata": {},
   "outputs": [
    {
     "data": {
      "text/plain": [
       "{}"
      ]
     },
     "execution_count": 69,
     "metadata": {},
     "output_type": "execute_result"
    }
   ],
   "source": [
    "# 확인\n",
    "affordable_upgrades"
   ]
  },
  {
   "cell_type": "code",
   "execution_count": null,
   "id": "48541868",
   "metadata": {},
   "outputs": [],
   "source": [
    "# 가장 비싼 업그레이드 하기\n",
    "highest_price_affordable_upgrade = max(affordable_upgrades)             # 지금 살수 있는 아이템중 가장 비싼 가격 추출\n",
    "print(highest_price_affordable_upgrade)                                 # 가격 추출\n",
    "to_purchase_id = affordable_upgrades[highest_price_affordable_upgrade]  # 해당 가격의 아이템 추출"
   ]
  },
  {
   "cell_type": "code",
   "execution_count": null,
   "id": "79b75bd8",
   "metadata": {},
   "outputs": [],
   "source": [
    "# 추출한 아이템 클릭 \n",
    "driver.find_element(By.ID, to_purchase_id).click()"
   ]
  },
  {
   "cell_type": "code",
   "execution_count": null,
   "id": "a70f2060",
   "metadata": {},
   "outputs": [],
   "source": [
    "# 다음 확인까지 5초 추가\n",
    "timeout = time.time() + 5"
   ]
  },
  {
   "cell_type": "code",
   "execution_count": 73,
   "id": "1ecdc488",
   "metadata": {},
   "outputs": [
    {
     "data": {
      "text/plain": [
       "'cookies/second : 0'"
      ]
     },
     "execution_count": 73,
     "metadata": {},
     "output_type": "execute_result"
    }
   ],
   "source": [
    "# 5분이 지난 후 봇 종료, 종료와 동시에 얻은 쿠키의 개수 추출 \n",
    "if time.time() > five_min:\n",
    "    cookie_per_s = driver.find_element_by_id(\"cps\").text\n",
    "    print(cookie_per_s)\n",
    "    break"
   ]
  },
  {
   "cell_type": "code",
   "execution_count": null,
   "id": "b914b836",
   "metadata": {},
   "outputs": [],
   "source": [
    "# 전체 코드 \n",
    "import time\n",
    "from fake_useragent import UserAgent\n",
    "\n",
    "import undetected_chromedriver as uc \n",
    "from selenium.webdriver.common.by import By\n",
    "from selenium.webdriver.common.keys import Keys\n",
    "\n",
    "# fake user 사용 \n",
    "us = UserAgent(verify_ssl=False)\n",
    "userAgent = us.random\n",
    "print(userAgent)\n",
    "\n",
    "# 크롬드라이버 옵션 선언\n",
    "options = uc.ChromeOptions()\n",
    "\n",
    "# 크롬드라이버 headless 옵션 \n",
    "# options.headless=True\n",
    "# options.add_argument('--headless')   \n",
    "options.add_argument(\"--no-sandbox\")  \n",
    "\n",
    "options.add_argument(f'user-agent={userAgent}')  # fake user 설정 \n",
    "options.add_argument(\"--load-images=yes\")        # 이미지 로드 설정 \n",
    "options.add_argument(\"--disable-extensions\")     # 비활성화 - 어떤 것을 비활성화 하는지 잘 모르겠음 \n",
    "options.add_argument(\"--disable-gpu\")            # gpu 가속 사용 제외\n",
    "options.add_argument(\"--lang=ja-JP\")             # 가짜 플러그인 탑재 - 일본어 설정 \n",
    "driver = uc.Chrome(options=options)              # 설정된 크롬드라이버 선언\n",
    "\n",
    "# url 설정 \n",
    "url = \"https://orteil.dashnet.org/experiments/cookie/\"\n",
    "driver.get(url)\n",
    "\n",
    "# 쿠키 엘리먼츠 찾기\n",
    "cookie = driver.find_element(By.CSS_SELECTOR, \"#cookie\")\n",
    "\n",
    "# 업그레이드할 아이템 id 값 저장\n",
    "items = driver.find_elements(By.CSS_SELECTOR, \"#store div\")\n",
    "item_ids = [item.get_attribute(\"id\") for item in items]\n",
    "\n",
    "# 시간 설정\n",
    "timeout = time.time() + 5      # 타임아웃 5초 설정\n",
    "five_min = time.time() + 60*5  # 총 게임 오토봇 사용시간 설정 (5분)\n",
    "\n",
    "while True:\n",
    "    # 쿠키 클릭\n",
    "    cookie.click()\n",
    "    \n",
    "    # 매 5초 간\n",
    "    if time.time() > timeout:\n",
    "        # 업그레이드를 위해 모든 아이템 가격 추출을 위한 가격 요소들 추출\n",
    "        all_prices = driver.find_elements(By.CSS_SELECTOR, \"#store b\")\n",
    "\n",
    "        # 모든 아이템 가격 정보 추출 \n",
    "        item_prices = []\n",
    "\n",
    "        for price in all_prices:\n",
    "            element_text = price.text            # 가격 요소의 Text 추출 \n",
    "            if element_text != \"\":               # 추출된 Text 중 \"\"빈 문자열이 끝에 있어 조건문 제시 \n",
    "                cost = int(element_text.split(\"-\")[1].strip().replace(\",\", \"\"))  # 문자열 구분자로 숫자만 추출 후 정수형으로 데이터 타입 변경\n",
    "                item_prices.append(cost)         # 빈 리스트에 저장   \n",
    "        \n",
    "        # 아이템명:가격 형식으로 딕셔너리 생성\n",
    "        cookie_upgrades = {}\n",
    "        for n in range(len(item_prices)):\n",
    "            cookie_upgrades[item_prices[n]] = item_ids[n]\n",
    "            \n",
    "        \n",
    "        # 현재 쿠키 개수 추출 \n",
    "        money_element = driver.find_element(By.ID, \"money\").text  # 현재 쿠키 개수 추출\n",
    "        if \",\" in money_element:                                  # 만약 숫자 사이에 구분자 \",\"가 있다면 \n",
    "            money_element = money_element.replace(\",\", \"\")        # \",\" 제거 \n",
    "        cookie_count = int(money_element)                         # 문자열을 정수형으로 변경\n",
    "        \n",
    "        # 현재 쿠키 개수로 구매할 수 있는 아이템\n",
    "        affordable_upgrades = {}\n",
    "        for cost, item_id in cookie_upgrades.items():    # cost와 item_id를 반복문을 통해서 저장 \n",
    "            if cookie_count > cost:                      # 만약 현재 쿠키가 아이템 cost 보다 클 경우 (즉 충분한 쿠기가 있을 경우)\n",
    "                affordable_upgrades[cost] = item_id      # affordable_upgrades에 딕녀서리 형식으로 저장\n",
    "                \n",
    "        # 가장 비싼 업그레이드 하기\n",
    "        highest_price_affordable_upgrade = max(affordable_upgrades)             # 지금 살수 있는 아이템중 가장 비싼 가격 추출\n",
    "        print(highest_price_affordable_upgrade)                                 # 가격 추출\n",
    "        to_purchase_id = affordable_upgrades[highest_price_affordable_upgrade]  # 해당 가격의 아이템 추출\n",
    "        \n",
    "        # 추출한 아이템 클릭 \n",
    "        driver.find_element(By.ID, to_purchase_id).click()\n",
    "        \n",
    "        # 다음 확인까지 5초 추가\n",
    "        timeout = time.time() + 5\n",
    "        \n",
    "    # 5분이 지난 후 봇 종료, 종료와 동시에 얻은 쿠키의 개수 추출 \n",
    "    if time.time() > five_min:\n",
    "        cookie_per_s = driver.find_element(By.ID, \"cps\").text\n",
    "        print(cookie_per_s)\n",
    "        break\n",
    "        \n",
    "driver.close()                              # 크롬드라이버 닫기 - 현재 띄워진 단일 탭을 닫는 역할 \n",
    "driver.quit()                               # 크롬드라이버 종료 - 전체 브라우저 종료"
   ]
  }
 ],
 "metadata": {
  "kernelspec": {
   "display_name": "Python 3 (ipykernel)",
   "language": "python",
   "name": "python3"
  },
  "language_info": {
   "codemirror_mode": {
    "name": "ipython",
    "version": 3
   },
   "file_extension": ".py",
   "mimetype": "text/x-python",
   "name": "python",
   "nbconvert_exporter": "python",
   "pygments_lexer": "ipython3",
   "version": "3.8.12"
  }
 },
 "nbformat": 4,
 "nbformat_minor": 5
}
