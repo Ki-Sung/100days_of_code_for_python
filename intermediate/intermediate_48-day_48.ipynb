{
 "cells": [
  {
   "cell_type": "markdown",
   "id": "e4315d65",
   "metadata": {},
   "source": [
    "## 셀레니움 웹드라이버 \n",
    "- 자동적으로 웹을 컨트롤 할 수 있는 스크래핑 Tool 중 하나이다. \n",
    "- 주로 동적인 웹사이트를 스크래핑 할 때 많이 사용한다. "
   ]
  },
  {
   "cell_type": "markdown",
   "id": "fb365de4",
   "metadata": {},
   "source": [
    "### 1. 셀레니움 설치 및 설정 방법 \n",
    "1. 크롬 다운로드\n",
    "2. 크롬드라이버 다운로드 -> https://chromedriver.chromium.org/downloads\n",
    "    - 크롬 버전에 맞게 크롬드라이버를 받아야함!\n",
    "    - 계속 다운로드 해야하는 번거로움이 있으므로 여기서는 Undetected Chromedriver를 사용 예정 \n",
    "        - pip install undetected-chromedriver\n",
    "3. 크롬드라이버 다운로드 후 원하는 디렉토리에 저장 \n",
    "4. 크롬드라이버 실행시 저장한 디렉토리 path를 파이썬 파일 실행 후 설정해준다.\n",
    "5. 셀레니움 실행 \n",
    "    - pip install selenium"
   ]
  },
  {
   "cell_type": "code",
   "execution_count": null,
   "id": "24f4215b",
   "metadata": {},
   "outputs": [],
   "source": [
    "#  Undetected Chromedriver 사용! - 해당 드라이버를 사용하며 path는 필요 없음\n",
    "from fake_useragent import UserAgent\n",
    "\n",
    "import undetected_chromedriver as uc \n",
    "from selenium.webdriver.common.by import By\n",
    "\n",
    "driver = uc.Chrome()                        # 크롬드라이버 선언\n",
    "driver.get(\"https://www.amazon.com\")        # 지정된 url로 크롬드라이버로 접속"
   ]
  },
  {
   "cell_type": "code",
   "execution_count": null,
   "id": "85abb18e",
   "metadata": {},
   "outputs": [],
   "source": []
  }
 ],
 "metadata": {
  "kernelspec": {
   "display_name": "Python 3 (ipykernel)",
   "language": "python",
   "name": "python3"
  },
  "language_info": {
   "codemirror_mode": {
    "name": "ipython",
    "version": 3
   },
   "file_extension": ".py",
   "mimetype": "text/x-python",
   "name": "python",
   "nbconvert_exporter": "python",
   "pygments_lexer": "ipython3",
   "version": "3.8.12"
  }
 },
 "nbformat": 4,
 "nbformat_minor": 5
}
