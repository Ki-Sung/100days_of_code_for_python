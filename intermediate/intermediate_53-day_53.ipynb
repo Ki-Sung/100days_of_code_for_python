{
 "cells": [
  {
   "cell_type": "markdown",
   "id": "654f1016",
   "metadata": {},
   "source": [
    "## 캡스톤 프로젝트 - 데이터 입력 작업 자동화 \n",
    "- 여러 다른 데이터 입력 작업 형식을 옮기는 작업 \n",
    "- 여기서 우리가 다룰 작업은 데이터 입력 작업 - 질로우 웹사이트에 부동산 가격 조사 \n",
    "    - URL: https://www.zillow.com\n",
    "- 개요 \n",
    "    - 이번 캡스톤 프로젝트에서는 웹사이트와 웹스크래필에 대해 배운 내용을 모두 적용하여 bs4, Selenium으로 프로젝트 요구사항을 충족시켜 프로젝트를 완성하는 것이 목표이다.\n",
    "- 과정 \n",
    "    1. 구글 설문지에 새 입력양식 만들기 - https://docs.google.com/forms/에서 새 입력양식을 만들기\n",
    "    2. 양식에 '단답형' 질문 3개 추가하기 \n",
    "        - What's the address of the property?\n",
    "        - What's the price per month?\n",
    "        - What's the link to the property?\n",
    "    3. '보내기'를 클릭하고, 양식의 링크 주소를 복사 하기. 프로그램을 만들 때 해당 주소 필요 \n",
    "    4. 질로우(Zillow) 사이트의 이 페이지에서 웹사이트 구조를 확인하기. 여기 있는 데이터를 스크래핑하기\n",
    "        - 프로그램 요구사항\n",
    "            - BeautifulSoup과 requests를 사용하여 질로우 웹페이지에 있는 목록을 모두 스크래핑\n",
    "            - 스크래핑한 항목들의 링크를 리스트로 만들기 \n",
    "            - 스크래핑한 항목들의 가격을 리스트로 만들기\n",
    "            - 스크래핑한 항목들의 주소를 리스트로 만들기 \n",
    "            - 셀레니움으로 (위 1, 2, 3단계에서)생성한 입력양식을 채우기. 항목은 각각의 양식으로 저장하며, 양식에는 가격, 주소, 링크가 추가되어야 한다.\n",
    "            - 데이터를 모두 입력하고 나면, 구글 설문지의 응답 탭에서 '구글 시트' 아이콘을 눌러 시트를 만들기. 부동산 정보가 담긴 스프레스 시트가 만들어진다."
   ]
  },
  {
   "cell_type": "markdown",
   "id": "3f3727a9",
   "metadata": {},
   "source": [
    "### Part 1 - Zillow 스크래핑 하기"
   ]
  },
  {
   "cell_type": "code",
   "execution_count": 4,
   "id": "21cf6fec",
   "metadata": {},
   "outputs": [],
   "source": [
    "# 필요 모듈 볼러오기 \n",
    "import requests\n",
    "from urllib.request import urlopen\n",
    "from bs4 import BeautifulSoup\n",
    "\n",
    "# 상수설정 \n",
    "# zillow URL \n",
    "ZILLOW = \"https://www.zillow.com/san-francisco-ca/rentals/?searchQueryState=%7B%22pagination%22%3A%7B%7D%2C%22usersSearchTerm%22%3A%22San%20Francisco%2C%20CA%22%2C%22mapBounds%22%3A%7B%22west%22%3A-122.5516041887207%2C%22east%22%3A-122.3150548112793%2C%22south%22%3A37.65674456506729%2C%22north%22%3A37.89364955836753%7D%2C%22regionSelection%22%3A%5B%7B%22regionId%22%3A20330%2C%22regionType%22%3A6%7D%5D%2C%22isMapVisible%22%3Atrue%2C%22filterState%22%3A%7B%22fsba%22%3A%7B%22value%22%3Afalse%7D%2C%22fsbo%22%3A%7B%22value%22%3Afalse%7D%2C%22nc%22%3A%7B%22value%22%3Afalse%7D%2C%22fore%22%3A%7B%22value%22%3Afalse%7D%2C%22cmsn%22%3A%7B%22value%22%3Afalse%7D%2C%22auc%22%3A%7B%22value%22%3Afalse%7D%2C%22fr%22%3A%7B%22value%22%3Atrue%7D%2C%22ah%22%3A%7B%22value%22%3Atrue%7D%7D%2C%22isListVisible%22%3Atrue%2C%22mapZoom%22%3A12%7D\""
   ]
  },
  {
   "cell_type": "code",
   "execution_count": null,
   "id": "c37256b8",
   "metadata": {},
   "outputs": [],
   "source": [
    "# request로 요청 \n",
    "headers = {\"Accept-Language\": \"ko-KR,ko;q=0.9,en-US;q=0.8,en;q=0.7\",\n",
    "          \"User-Agent\": \"Mozilla/5.0 (Macintosh; Intel Mac OS X 10_15_7) AppleWebKit/537.36 (KHTML, like Gecko) Chrome/116.0.0.0 Safari/537.36\"}\n",
    "response = requests.get(ZILLOW, headers=headers)\n",
    "zillow_info = response.content\n",
    "soup = BeautifulSoup(zillow_info, \"html.parser\")"
   ]
  },
  {
   "cell_type": "code",
   "execution_count": 97,
   "id": "bfaeb28f",
   "metadata": {},
   "outputs": [
    {
     "data": {
      "text/plain": [
       "['950 Tennessee St UNIT 124, San Francisco, CA 94107',\n",
       " '8 10th St, San Francisco, CA',\n",
       " 'Metro @ Showplace Square, 670 King St, San Francisco, CA 94107',\n",
       " '747 Geary Street, 747 Geary St, San Francisco, CA 94109',\n",
       " '2 Townsend St, San Francisco, CA',\n",
       " '3711 19th Ave, San Francisco, CA',\n",
       " '845 Sutter, 845 Sutter St APT 509, San Francisco, CA 94109',\n",
       " '388 Beale St, San Francisco, CA',\n",
       " '100 Van Ness Ave, San Francisco, CA']"
      ]
     },
     "execution_count": 97,
     "metadata": {},
     "output_type": "execute_result"
    }
   ],
   "source": [
    "# 주소\n",
    "all_address = [rent_address[i].getText().split(\" | \")[-1] for i in range(len(rent_address))]\n",
    "all_address"
   ]
  },
  {
   "cell_type": "code",
   "execution_count": 98,
   "id": "43268bc5",
   "metadata": {},
   "outputs": [
    {
     "data": {
      "text/plain": [
       "['$4,100',\n",
       " '$2,958',\n",
       " '$3,500',\n",
       " '$2,895',\n",
       " '$3,450',\n",
       " '$2,810',\n",
       " '$2,450',\n",
       " '$3,895',\n",
       " '$3,027']"
      ]
     },
     "execution_count": 98,
     "metadata": {},
     "output_type": "execute_result"
    }
   ],
   "source": [
    "# 렌트 가격\n",
    "all_price = []\n",
    "rent_price = soup.select(\"div.StyledPropertyCardDataWrapper-c11n-8-84-3__sc-1omp4c3-0.bKpguY.property-card-data > div.StyledPropertyCardDataArea-c11n-8-84-3__sc-yipmu-0.fDSTNn > div\")\n",
    "for i in range(len(rent_price)):\n",
    "    price = rent_price[i].getText()\n",
    "    if \"+\" in price:\n",
    "        all_price.append(price.split('+')[0])\n",
    "    else:\n",
    "        all_price.append(price.split('/')[0])\n",
    "all_price"
   ]
  },
  {
   "cell_type": "code",
   "execution_count": 100,
   "id": "b2153fec",
   "metadata": {},
   "outputs": [
    {
     "data": {
      "text/plain": [
       "['https://www.zillow.com/homedetails/950-Tennessee-St-UNIT-124-San-Francisco-CA-94107/335654026_zpid/',\n",
       " 'https://www.zillow.com/b/nema-san-francisco-ca-9NJxW7/',\n",
       " 'https://www.zillow.com/apartments/san-francisco-ca/metro-%40-showplace-square/5Yyppp/',\n",
       " 'https://www.zillow.com/b/747-geary-street-san-francisco-ca-9NKJ3J/',\n",
       " 'https://www.zillow.com/apartments/san-francisco-ca/south-beach-marina-apartments/5XjQyv/',\n",
       " 'https://www.zillow.com/apartments/san-francisco-ca/parkmerced/5XjKHx/',\n",
       " 'https://www.zillow.com/apartments/san-francisco-ca/845-sutter/5XkKMm/',\n",
       " 'https://www.zillow.com/b/388-beale-san-francisco-ca-5XjQ4f/',\n",
       " 'https://www.zillow.com/apartments/san-francisco-ca/100-van-ness/5hJ5Sv/']"
      ]
     },
     "execution_count": 100,
     "metadata": {},
     "output_type": "execute_result"
    }
   ],
   "source": [
    "# url 링크 \n",
    "all_url = []\n",
    "rent_url = soup.select(\"div.StyledPropertyCardDataWrapper-c11n-8-84-3__sc-1omp4c3-0.bKpguY.property-card-data > a\")\n",
    "for i in range(len(rent_url)):\n",
    "    href = rent_url[i][\"href\"]\n",
    "    if \"https\" not in href:\n",
    "        all_url.append(f\"https://www.zillow.com{href}\")\n",
    "    else:\n",
    "        all_url.append(href)\n",
    "\n",
    "all_url"
   ]
  },
  {
   "cell_type": "code",
   "execution_count": null,
   "id": "ec6021b3",
   "metadata": {},
   "outputs": [],
   "source": [
    "# part 1 zillow scrapying\n",
    "# 필요 모듈 볼러오기 \n",
    "import requests\n",
    "from urllib.request import urlopen\n",
    "from bs4 import BeautifulSoup\n",
    "\n",
    "\n",
    "# 상수설정 \n",
    "# zillow URL \n",
    "ZILLOW = \"https://www.zillow.com/san-francisco-ca/rentals/?searchQueryState=%7B%22pagination%22%3A%7B%7D%2C%22usersSearchTerm%22%3A%22San%20Francisco%2C%20CA%22%2C%22mapBounds%22%3A%7B%22west%22%3A-122.5516041887207%2C%22east%22%3A-122.3150548112793%2C%22south%22%3A37.65674456506729%2C%22north%22%3A37.89364955836753%7D%2C%22regionSelection%22%3A%5B%7B%22regionId%22%3A20330%2C%22regionType%22%3A6%7D%5D%2C%22isMapVisible%22%3Atrue%2C%22filterState%22%3A%7B%22fsba%22%3A%7B%22value%22%3Afalse%7D%2C%22fsbo%22%3A%7B%22value%22%3Afalse%7D%2C%22nc%22%3A%7B%22value%22%3Afalse%7D%2C%22fore%22%3A%7B%22value%22%3Afalse%7D%2C%22cmsn%22%3A%7B%22value%22%3Afalse%7D%2C%22auc%22%3A%7B%22value%22%3Afalse%7D%2C%22fr%22%3A%7B%22value%22%3Atrue%7D%2C%22ah%22%3A%7B%22value%22%3Atrue%7D%7D%2C%22isListVisible%22%3Atrue%2C%22mapZoom%22%3A12%7D\"\n",
    "# 구글 설문지 URL\n",
    "RESEARCH_URL = \"https://docs.google.com/forms/d/e/1FAIpQLSdRAn7IbenPcd_LHRopwM0dY0J_y_3000Lcp9EiB9cZZ8XpCw/viewform?usp=sf_link\"\n",
    "\n",
    "# beautifulsoup 작업 \n",
    "\n",
    "# 해더 설정 \n",
    "headers = {\"Accept-Language\": \"ko-KR,ko;q=0.9,en-US;q=0.8,en;q=0.7\",\n",
    "          \"User-Agent\": \"Mozilla/5.0 (Macintosh; Intel Mac OS X 10_15_7) AppleWebKit/537.36 (KHTML, like Gecko) Chrome/116.0.0.0 Safari/537.36\"}\n",
    "# 요청 받기\n",
    "response = requests.get(ZILLOW, headers=headers)\n",
    "# zillow 사이트 정보 받기 \n",
    "zillow_info = response.content\n",
    "# html.parser로 파싱하기 \n",
    "soup = BeautifulSoup(zillow_info, \"html.parser\")\n",
    "\n",
    "# 주소\n",
    "all_address = [rent_address[i].getText().split(\" | \")[-1] for i in range(len(rent_address))]\n",
    "\n",
    "# 렌트 가격\n",
    "all_price = []\n",
    "rent_price = soup.select(\"div.StyledPropertyCardDataWrapper-c11n-8-84-3__sc-1omp4c3-0.bKpguY.property-card-data > div.StyledPropertyCardDataArea-c11n-8-84-3__sc-yipmu-0.fDSTNn > div\")\n",
    "for i in range(len(rent_price)):\n",
    "    price = rent_price[i].getText()\n",
    "    if \"+\" in price:\n",
    "        all_price.append(price.split('+')[0])\n",
    "    else:\n",
    "        all_price.append(price.split('/')[0])\n",
    "        \n",
    "# url 링크 \n",
    "all_url = []\n",
    "rent_url = soup.select(\"div.StyledPropertyCardDataWrapper-c11n-8-84-3__sc-1omp4c3-0.bKpguY.property-card-data > a\")\n",
    "for i in range(len(rent_url)):\n",
    "    href = rent_url[i][\"href\"]\n",
    "    if \"https\" not in href:\n",
    "        all_url.append(f\"https://www.zillow.com{href}\")\n",
    "    else:\n",
    "        all_url.append(href)"
   ]
  },
  {
   "cell_type": "markdown",
   "id": "4532e0b8",
   "metadata": {},
   "source": [
    "### Part 2 - 스크래핑한 정보 설문지에 넣기"
   ]
  },
  {
   "cell_type": "code",
   "execution_count": 101,
   "id": "7e08beac",
   "metadata": {},
   "outputs": [],
   "source": [
    "# 필요 모듈 불러오기\n",
    "from fake_useragent import UserAgent\n",
    "import undetected_chromedriver as uc \n",
    "from selenium.webdriver.common.by import By\n",
    "from selenium.webdriver.common.keys import Keys\n",
    "from selenium.common.exceptions import ElementClickInterceptedException\n",
    "\n",
    "# 상수 설정\n",
    "# 구글 설문지 URL\n",
    "RESEARCH_URL = \"https://docs.google.com/forms/d/e/1FAIpQLSdRAn7IbenPcd_LHRopwM0dY0J_y_3000Lcp9EiB9cZZ8XpCw/viewform?usp=sf_link\""
   ]
  },
  {
   "cell_type": "code",
   "execution_count": 102,
   "id": "b082f6a1",
   "metadata": {},
   "outputs": [
    {
     "name": "stdout",
     "output_type": "stream",
     "text": [
      "Mozilla/4.0 (compatible; MSIE 5.15; Mac_PowerPC)\n"
     ]
    }
   ],
   "source": [
    "# fake user 사용 \n",
    "us = UserAgent(verify_ssl=False)\n",
    "userAgent = us.random\n",
    "print(userAgent)\n",
    "\n",
    "# 크롬드라이버 옵션 선언\n",
    "options = uc.ChromeOptions()\n",
    "\n",
    "# 크롬드라이버 headless 옵션 \n",
    "# options.headless=True\n",
    "# options.add_argument('--headless')   \n",
    "options.add_argument(\"--no-sandbox\")  \n",
    "\n",
    "options.add_argument(f'user-agent={userAgent}')  # fake user 설정 \n",
    "options.add_argument(\"--load-images=yes\")        # 이미지 로드 설정 \n",
    "options.add_argument(\"--disable-notifications\")  # 비활성화 - 경고 팝업 \n",
    "options.add_argument(\"--disable-extensions\")     # 비활성화 - 어떤 것을 비활성화 하는지 잘 모르겠음 \n",
    "options.add_experimental_option(\"prefs\", {\n",
    "        \"profile.default_content_setting_values.geolocation\": 1  # 내위치 확인 허용 제어, 값이 1이면 허용, 2이면 차단\n",
    "    })\n",
    "options.add_argument(\"--disable-gpu\")            # gpu 가속 사용 제외\n",
    "options.add_argument(\"--lang=ja-JP\")             # 가짜 플러그인 탑재 - 일본어 설정 \n",
    "driver = uc.Chrome(options=options)              # 설정된 크롬드라이버 선언\n",
    "\n",
    "driver.get(RESEARCH_URL)"
   ]
  },
  {
   "cell_type": "code",
   "execution_count": 103,
   "id": "5b033cc8",
   "metadata": {},
   "outputs": [],
   "source": [
    "# 첫 번째 답변 - 주소 입력 \n",
    "first_answer = driver.find_element(By.XPATH,'//*[@id=\"mG61Hd\"]/div[2]/div/div[2]/div[1]/div/div/div[2]/div/div[1]/div/div[1]/input')\n",
    "first_answer.send_keys(all_address[0])"
   ]
  },
  {
   "cell_type": "code",
   "execution_count": 104,
   "id": "53089aba",
   "metadata": {},
   "outputs": [],
   "source": [
    "# 두 번째 답변 - 가격 입력\n",
    "second_answer = driver.find_element(By.XPATH,'//*[@id=\"mG61Hd\"]/div[2]/div/div[2]/div[2]/div/div/div[2]/div/div[1]/div/div[1]/input')\n",
    "second_answer.send_keys(all_price[0])"
   ]
  },
  {
   "cell_type": "code",
   "execution_count": 105,
   "id": "f24a9901",
   "metadata": {},
   "outputs": [],
   "source": [
    "# 세 번째 답변 - url 링크 입력 \n",
    "third_answer = driver.find_element(By.XPATH,'//*[@id=\"mG61Hd\"]/div[2]/div/div[2]/div[3]/div/div/div[2]/div/div[1]/div/div[1]/input')\n",
    "third_answer.send_keys(all_url[0])"
   ]
  },
  {
   "cell_type": "code",
   "execution_count": 106,
   "id": "ddaa8771",
   "metadata": {},
   "outputs": [],
   "source": [
    "# 제출 버튼 클릭 \n",
    "send_button = driver.find_element(By.XPATH, '//*[@id=\"mG61Hd\"]/div[2]/div/div[3]/div[1]/div[1]/div')\n",
    "send_button.click()"
   ]
  },
  {
   "cell_type": "code",
   "execution_count": 107,
   "id": "7056435a",
   "metadata": {},
   "outputs": [],
   "source": [
    "for i in range(len(all_address)):\n",
    "    driver.get(RESEARCH_URL)\n",
    "    \n",
    "    # 첫 번째 답변 - 주소 입력 \n",
    "    first_answer = driver.find_element(By.XPATH,'//*[@id=\"mG61Hd\"]/div[2]/div/div[2]/div[1]/div/div/div[2]/div/div[1]/div/div[1]/input')\n",
    "    first_answer.send_keys(all_address[i])\n",
    "\n",
    "    # 두 번째 답변 - 가격 입력\n",
    "    second_answer = driver.find_element(By.XPATH,'//*[@id=\"mG61Hd\"]/div[2]/div/div[2]/div[2]/div/div/div[2]/div/div[1]/div/div[1]/input')\n",
    "    second_answer.send_keys(all_price[i])\n",
    "    \n",
    "    # 세 번째 답변 - url 링크 입력 \n",
    "    third_answer = driver.find_element(By.XPATH,'//*[@id=\"mG61Hd\"]/div[2]/div/div[2]/div[3]/div/div/div[2]/div/div[1]/div/div[1]/input')\n",
    "    third_answer.send_keys(all_url[i])\n",
    "    \n",
    "    # 제출 버튼 클릭 \n",
    "    send_button = driver.find_element(By.XPATH, '//*[@id=\"mG61Hd\"]/div[2]/div/div[3]/div[1]/div[1]/div')\n",
    "    send_button.click()\n",
    "    \n",
    "driver.quit()"
   ]
  },
  {
   "cell_type": "code",
   "execution_count": 108,
   "id": "91dc7b43",
   "metadata": {},
   "outputs": [],
   "source": [
    "# part 2 전체코드\n",
    "# 필요 모듈 불러오기\n",
    "from fake_useragent import UserAgent\n",
    "import undetected_chromedriver as uc \n",
    "from selenium.webdriver.common.by import By\n",
    "from selenium.webdriver.common.keys import Keys\n",
    "from selenium.common.exceptions import ElementClickInterceptedException\n",
    "\n",
    "# 상수 설정\n",
    "# 구글 설문지 URL\n",
    "RESEARCH_URL = \"https://docs.google.com/forms/d/e/1FAIpQLSdRAn7IbenPcd_LHRopwM0dY0J_y_3000Lcp9EiB9cZZ8XpCw/viewform?usp=sf_link\"\n",
    "\n",
    "# fake user 사용 \n",
    "us = UserAgent(verify_ssl=False)\n",
    "userAgent = us.random\n",
    "print(userAgent)\n",
    "\n",
    "# 크롬드라이버 옵션 선언\n",
    "options = uc.ChromeOptions()\n",
    "\n",
    "# 크롬드라이버 headless 옵션 \n",
    "# options.headless=True\n",
    "# options.add_argument('--headless')   \n",
    "options.add_argument(\"--no-sandbox\")  \n",
    "\n",
    "options.add_argument(f'user-agent={userAgent}')  # fake user 설정 \n",
    "options.add_argument(\"--load-images=yes\")        # 이미지 로드 설정 \n",
    "options.add_argument(\"--disable-notifications\")  # 비활성화 - 경고 팝업 \n",
    "options.add_argument(\"--disable-extensions\")     # 비활성화 - 어떤 것을 비활성화 하는지 잘 모르겠음 \n",
    "options.add_experimental_option(\"prefs\", {\n",
    "        \"profile.default_content_setting_values.geolocation\": 1  # 내위치 확인 허용 제어, 값이 1이면 허용, 2이면 차단\n",
    "    })\n",
    "options.add_argument(\"--disable-gpu\")            # gpu 가속 사용 제외\n",
    "options.add_argument(\"--lang=ja-JP\")             # 가짜 플러그인 탑재 - 일본어 설정 \n",
    "driver = uc.Chrome(options=options)              # 설정된 크롬드라이버 선언\n",
    "\n",
    "# 설문지에 답변 넣기 \n",
    "for i in range(len(all_address)):\n",
    "    driver.get(RESEARCH_URL)\n",
    "    \n",
    "    # 첫 번째 답변 - 주소 입력 \n",
    "    first_answer = driver.find_element(By.XPATH,'//*[@id=\"mG61Hd\"]/div[2]/div/div[2]/div[1]/div/div/div[2]/div/div[1]/div/div[1]/input')\n",
    "    first_answer.send_keys(all_address[i])\n",
    "\n",
    "    # 두 번째 답변 - 가격 입력\n",
    "    second_answer = driver.find_element(By.XPATH,'//*[@id=\"mG61Hd\"]/div[2]/div/div[2]/div[2]/div/div/div[2]/div/div[1]/div/div[1]/input')\n",
    "    second_answer.send_keys(all_price[i])\n",
    "    \n",
    "    # 세 번째 답변 - url 링크 입력 \n",
    "    third_answer = driver.find_element(By.XPATH,'//*[@id=\"mG61Hd\"]/div[2]/div/div[2]/div[3]/div/div/div[2]/div/div[1]/div/div[1]/input')\n",
    "    third_answer.send_keys(all_url[i])\n",
    "    \n",
    "    # 제출 버튼 클릭 \n",
    "    send_button = driver.find_element(By.XPATH, '//*[@id=\"mG61Hd\"]/div[2]/div/div[3]/div[1]/div[1]/div')\n",
    "    send_button.click()\n",
    "\n",
    "# 드라이버 종료 \n",
    "driver.quit()"
   ]
  },
  {
   "cell_type": "markdown",
   "id": "ef567185",
   "metadata": {},
   "source": [
    "### 전체코드"
   ]
  },
  {
   "cell_type": "code",
   "execution_count": null,
   "id": "6d3edb14",
   "metadata": {},
   "outputs": [],
   "source": [
    "# 필요 모듈 불러오기\n",
    "import requests\n",
    "from urllib.request import urlopen\n",
    "from bs4 import BeautifulSoup\n",
    "\n",
    "from fake_useragent import UserAgent\n",
    "import undetected_chromedriver as uc \n",
    "from selenium.webdriver.common.by import By\n",
    "from selenium.webdriver.common.keys import Keys\n",
    "from selenium.common.exceptions import ElementClickInterceptedException\n",
    "\n",
    "## 상수설정 \n",
    "# zillow URL \n",
    "ZILLOW = \"https://www.zillow.com/san-francisco-ca/rentals/?searchQueryState=%7B%22pagination%22%3A%7B%7D%2C%22usersSearchTerm%22%3A%22San%20Francisco%2C%20CA%22%2C%22mapBounds%22%3A%7B%22west%22%3A-122.5516041887207%2C%22east%22%3A-122.3150548112793%2C%22south%22%3A37.65674456506729%2C%22north%22%3A37.89364955836753%7D%2C%22regionSelection%22%3A%5B%7B%22regionId%22%3A20330%2C%22regionType%22%3A6%7D%5D%2C%22isMapVisible%22%3Atrue%2C%22filterState%22%3A%7B%22fsba%22%3A%7B%22value%22%3Afalse%7D%2C%22fsbo%22%3A%7B%22value%22%3Afalse%7D%2C%22nc%22%3A%7B%22value%22%3Afalse%7D%2C%22fore%22%3A%7B%22value%22%3Afalse%7D%2C%22cmsn%22%3A%7B%22value%22%3Afalse%7D%2C%22auc%22%3A%7B%22value%22%3Afalse%7D%2C%22fr%22%3A%7B%22value%22%3Atrue%7D%2C%22ah%22%3A%7B%22value%22%3Atrue%7D%7D%2C%22isListVisible%22%3Atrue%2C%22mapZoom%22%3A12%7D\"\n",
    "# 구글 설문지 URL\n",
    "RESEARCH_URL = \"https://docs.google.com/forms/d/e/1FAIpQLSdRAn7IbenPcd_LHRopwM0dY0J_y_3000Lcp9EiB9cZZ8XpCw/viewform?usp=sf_link\"\n",
    "\n",
    "## part 1 - zillow scrapying\n",
    "# 해더 설정 \n",
    "headers = {\"Accept-Language\": \"ko-KR,ko;q=0.9,en-US;q=0.8,en;q=0.7\",\n",
    "          \"User-Agent\": \"Mozilla/5.0 (Macintosh; Intel Mac OS X 10_15_7) AppleWebKit/537.36 (KHTML, like Gecko) Chrome/116.0.0.0 Safari/537.36\"}\n",
    "# 요청 받기\n",
    "response = requests.get(ZILLOW, headers=headers)\n",
    "# zillow 사이트 정보 받기 \n",
    "zillow_info = response.content\n",
    "# html.parser로 파싱하기 \n",
    "soup = BeautifulSoup(zillow_info, \"html.parser\")\n",
    "\n",
    "# 주소\n",
    "all_address = [rent_address[i].getText().split(\" | \")[-1] for i in range(len(rent_address))]\n",
    "\n",
    "# 렌트 가격\n",
    "all_price = []\n",
    "rent_price = soup.select(\"div.StyledPropertyCardDataWrapper-c11n-8-84-3__sc-1omp4c3-0.bKpguY.property-card-data > div.StyledPropertyCardDataArea-c11n-8-84-3__sc-yipmu-0.fDSTNn > div\")\n",
    "for i in range(len(rent_price)):\n",
    "    price = rent_price[i].getText()\n",
    "    if \"+\" in price:\n",
    "        all_price.append(price.split('+')[0])\n",
    "    else:\n",
    "        all_price.append(price.split('/')[0])\n",
    "        \n",
    "# url 링크 \n",
    "all_url = []\n",
    "rent_url = soup.select(\"div.StyledPropertyCardDataWrapper-c11n-8-84-3__sc-1omp4c3-0.bKpguY.property-card-data > a\")\n",
    "for i in range(len(rent_url)):\n",
    "    href = rent_url[i][\"href\"]\n",
    "    if \"https\" not in href:\n",
    "        all_url.append(f\"https://www.zillow.com{href}\")\n",
    "    else:\n",
    "        all_url.append(href)\n",
    "\n",
    "## part 2 설문지에 답변 넣기 \n",
    "# fake user 사용 \n",
    "us = UserAgent(verify_ssl=False)\n",
    "userAgent = us.random\n",
    "print(userAgent)\n",
    "\n",
    "# 크롬드라이버 옵션 선언\n",
    "options = uc.ChromeOptions()\n",
    "\n",
    "# 크롬드라이버 headless 옵션 \n",
    "# options.headless=True\n",
    "# options.add_argument('--headless')   \n",
    "options.add_argument(\"--no-sandbox\")  \n",
    "\n",
    "options.add_argument(f'user-agent={userAgent}')  # fake user 설정 \n",
    "options.add_argument(\"--load-images=yes\")        # 이미지 로드 설정 \n",
    "options.add_argument(\"--disable-notifications\")  # 비활성화 - 경고 팝업 \n",
    "options.add_argument(\"--disable-extensions\")     # 비활성화 - 어떤 것을 비활성화 하는지 잘 모르겠음 \n",
    "options.add_experimental_option(\"prefs\", {\n",
    "        \"profile.default_content_setting_values.geolocation\": 1  # 내위치 확인 허용 제어, 값이 1이면 허용, 2이면 차단\n",
    "    })\n",
    "options.add_argument(\"--disable-gpu\")            # gpu 가속 사용 제외\n",
    "options.add_argument(\"--lang=ja-JP\")             # 가짜 플러그인 탑재 - 일본어 설정 \n",
    "driver = uc.Chrome(options=options)              # 설정된 크롬드라이버 선언\n",
    "\n",
    "# 설문지에 답변 넣기 \n",
    "for i in range(len(all_address)):\n",
    "    driver.get(RESEARCH_URL)\n",
    "    \n",
    "    # 첫 번째 답변 - 주소 입력 \n",
    "    first_answer = driver.find_element(By.XPATH,'//*[@id=\"mG61Hd\"]/div[2]/div/div[2]/div[1]/div/div/div[2]/div/div[1]/div/div[1]/input')\n",
    "    first_answer.send_keys(all_address[i])\n",
    "\n",
    "    # 두 번째 답변 - 가격 입력\n",
    "    second_answer = driver.find_element(By.XPATH,'//*[@id=\"mG61Hd\"]/div[2]/div/div[2]/div[2]/div/div/div[2]/div/div[1]/div/div[1]/input')\n",
    "    second_answer.send_keys(all_price[i])\n",
    "    \n",
    "    # 세 번째 답변 - url 링크 입력 \n",
    "    third_answer = driver.find_element(By.XPATH,'//*[@id=\"mG61Hd\"]/div[2]/div/div[2]/div[3]/div/div/div[2]/div/div[1]/div/div[1]/input')\n",
    "    third_answer.send_keys(all_url[i])\n",
    "    \n",
    "    # 제출 버튼 클릭 \n",
    "    send_button = driver.find_element(By.XPATH, '//*[@id=\"mG61Hd\"]/div[2]/div/div[3]/div[1]/div[1]/div')\n",
    "    send_button.click()\n",
    "\n",
    "# 드라이버 종료 \n",
    "driver.quit()"
   ]
  }
 ],
 "metadata": {
  "kernelspec": {
   "display_name": "Python 3 (ipykernel)",
   "language": "python",
   "name": "python3"
  },
  "language_info": {
   "codemirror_mode": {
    "name": "ipython",
    "version": 3
   },
   "file_extension": ".py",
   "mimetype": "text/x-python",
   "name": "python",
   "nbconvert_exporter": "python",
   "pygments_lexer": "ipython3",
   "version": "3.8.12"
  }
 },
 "nbformat": 4,
 "nbformat_minor": 5
}
