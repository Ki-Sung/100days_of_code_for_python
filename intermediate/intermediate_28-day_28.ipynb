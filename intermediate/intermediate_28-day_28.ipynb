{
 "cells": [
  {
   "cell_type": "markdown",
   "id": "b53add6b",
   "metadata": {},
   "source": [
    "## Pomodoro Timer 만들기 \n",
    "- Tkinter로 Pomodoro Timer를 만들어보자 \n",
    "- 타이머의 구성은 아래와 같다. \n",
    "    - 25분 work \n",
    "    - 5분 휴식 \n",
    "    - 25분 work \n",
    "    - 5분 휴식 \n",
    "    - 25분 work \n",
    "    - 5분 휴식 \n",
    "    - 25분 work \n",
    "    - 20분 휴식 "
   ]
  },
  {
   "cell_type": "markdown",
   "id": "ddf4afe8",
   "metadata": {},
   "source": [
    "### 1. 캔버스 위젯을 다루고 Tkinter에 이미지를 추가하는 방법 "
   ]
  },
  {
   "cell_type": "markdown",
   "id": "a6697a38",
   "metadata": {},
   "source": [
    "- Canvas Widget 사용 \n",
    "    - 이미지를 프로그램에 배치하고 그 위에다가 작업하는 기능을 말함 "
   ]
  },
  {
   "cell_type": "code",
   "execution_count": null,
   "id": "c1178ce1",
   "metadata": {},
   "outputs": [],
   "source": [
    "# pomodoro timer를 만들어보자!\n",
    "\n",
    "# 모듈 불러오기 \n",
    "from tkinter import *\n",
    "\n",
    "# ---------------------------- CONSTANTS ------------------------------- #\n",
    "# color\n",
    "PINK = \"#e2979c\"\n",
    "RED = \"#e7305b\"\n",
    "GREEN = \"#9bdeac\"\n",
    "YELLOW = \"#f7f5dd\"\n",
    "# word font\n",
    "FONT_NAME = \"Courier\"\n",
    "# timer \n",
    "WORK_MIN = 25\n",
    "SHORT_BREAK_MIN = 5\n",
    "LONG_BREAK_MIN = 20\n",
    "\n",
    "# ---------------------------- TIMER RESET ------------------------------- # \n",
    "\n",
    "# ---------------------------- TIMER MECHANISM ------------------------------- # \n",
    "\n",
    "# ---------------------------- COUNTDOWN MECHANISM ------------------------------- # \n",
    "\n",
    "# ---------------------------- UI SETUP ------------------------------- #\n",
    "# 기본 설정 \n",
    "window = Tk()                                   # tkinter 객체 선언 \n",
    "window.title('Pomodoro')                        # tkinter title 지정 \n",
    "window.config(padx=100, pady=50, bg=YELLOW)     # pad(간격) 및 배경색 설정\n",
    "\n",
    "# canvas 사용 \n",
    "canvas = Canvas(width=200, height=224, bg=YELLOW, highlightthickness=0)                  # Canvas 객체 선언 - 선언시 윈도우 사이즈, 배경색, 이미지 경계선 설정 추가 \n",
    "tomato_img = PhotoImage(file='./img/tomato.png')                                         # 이미지 불러오기 \n",
    "canvas.create_image(100, 112, image=tomato_img)                                          # 이미지 생성 - 생성시 크기 설정 \n",
    "canvas.create_text(\n",
    "                   100, 130,                       # text 크기 설정 \n",
    "                   text=\"00:00\",                   # text 설정 \n",
    "                   fill='white',                   # text 색상 설정 \n",
    "                   font=(FONT_NAME, 35, \"bold\")    # text 폰트 설정 \n",
    "                  )                                # 이미지 위에 들어갈 타이머(text) 설정 \n",
    "canvas.pack()                                      # 설정한 cancas 명시 \n",
    "\n",
    "\n",
    "# 닫기 버튼 누르기 전까지 계속 구동\n",
    "window.mainloop()"
   ]
  },
  {
   "cell_type": "markdown",
   "id": "2979db3a",
   "metadata": {},
   "source": [
    "### 2. 애플리케이션 사용자 인터페이스(UI) 완성하기\n",
    "- Hint 1: foreground(전경) 색상을 위한 fg 사용 \n",
    "- Hint 2: checkmark를 복사 붙여넣기 하기\n",
    "- Hint 3: 명시할 때 grid()를 사용하기 "
   ]
  },
  {
   "cell_type": "code",
   "execution_count": null,
   "id": "05ef4d3b",
   "metadata": {},
   "outputs": [],
   "source": [
    "# 모듈 불러오기 \n",
    "from tkinter import *\n",
    "\n",
    "# ---------------------------- CONSTANTS ------------------------------- #\n",
    "# color\n",
    "PINK = \"#e2979c\"\n",
    "RED = \"#e7305b\"\n",
    "GREEN = \"#9bdeac\"\n",
    "YELLOW = \"#f7f5dd\"\n",
    "# word font\n",
    "FONT_NAME = \"Courier\"\n",
    "# timer \n",
    "WORK_MIN = 25\n",
    "SHORT_BREAK_MIN = 5\n",
    "LONG_BREAK_MIN = 20\n",
    "\n",
    "# ---------------------------- TIMER RESET ------------------------------- # \n",
    "\n",
    "# ---------------------------- TIMER MECHANISM ------------------------------- # \n",
    "\n",
    "# ---------------------------- COUNTDOWN MECHANISM ------------------------------- # \n",
    "\n",
    "# ---------------------------- UI SETUP ------------------------------- #\n",
    "# 기본 설정 \n",
    "window = Tk()                                   # tkinter 객체 선언 \n",
    "window.title('Pomodoro')                        # tkinter title 지정 \n",
    "window.config(padx=100, pady=50, bg=YELLOW)     # pad(간격) 및 배경색 설정\n",
    "\n",
    "# label 1 - Title \n",
    "title_label = Label(text=\"Timer\", fg=GREEN, bg=YELLOW, font=(FONT_NAME, 50, 'bold'))   # 타이틀 설정 - text, 글자색상, 폰트\n",
    "title_label.grid(column=1, row=0)                                                      # 타이틀 label 명시 \n",
    "\n",
    "# canvas - img, background color, etc\n",
    "canvas = Canvas(width=200, height=224, bg=YELLOW, highlightthickness=0)                  # Canvas 객체 선언 - 선언시 윈도우 사이즈, 배경색, 이미지 경계선 설정 추가 \n",
    "tomato_img = PhotoImage(file='./img/tomato.png')                                         # 이미지 불러오기 \n",
    "canvas.create_image(100, 112, image=tomato_img)                                          # 이미지 생성 - 생성시 크기 설정 \n",
    "canvas.create_text(100, 130, text=\"00:00\", fill='white', font=(FONT_NAME, 35, \"bold\"))   # 이미지 위에 들어갈 타이머(text) 설정 \n",
    "canvas.grid(column=1, row=1)                                   # 설정한 cancas 명시 \n",
    "\n",
    "# button 1 - start \n",
    "start_button = Button(text=\"Start\", bg=YELLOW, highlightthickness=0)                     # start 버튼 설정 - 버튼 이름, 색상, 두깨 설정 \n",
    "start_button.grid(column=0, row=2)                                                       # start 버튼 명시\n",
    "\n",
    "# button 2 - Reset \n",
    "reset_button = Button(text=\"Reset\", bg=YELLOW, highlightthickness=0)                     # reset 버튼 설정 - 버튼 이름, 색상, 두깨 설정 \n",
    "reset_button.grid(column=2, row=2)                                                       # reset 버튼 명시\n",
    "\n",
    "# label 2 - checkmark \n",
    "timer_label = Label(text=\"✔\", fg=GREEN, bg=YELLOW, font=(FONT_NAME, 30, 'bold'))         # 체크마크 설정 - 체크마크, 색상, 폰트 설정 \n",
    "timer_label.grid(column=1, row=3)                                                        # 체크마크 label 명시 \n",
    "\n",
    "\n",
    "# 닫기 버튼 누르기 전까지 계속 구동\n",
    "window.mainloop()"
   ]
  },
  {
   "cell_type": "code",
   "execution_count": null,
   "id": "4437dbbe",
   "metadata": {},
   "outputs": [],
   "source": []
  }
 ],
 "metadata": {
  "kernelspec": {
   "display_name": "Python 3 (ipykernel)",
   "language": "python",
   "name": "python3"
  },
  "language_info": {
   "codemirror_mode": {
    "name": "ipython",
    "version": 3
   },
   "file_extension": ".py",
   "mimetype": "text/x-python",
   "name": "python",
   "nbconvert_exporter": "python",
   "pygments_lexer": "ipython3",
   "version": "3.8.12"
  }
 },
 "nbformat": 4,
 "nbformat_minor": 5
}
