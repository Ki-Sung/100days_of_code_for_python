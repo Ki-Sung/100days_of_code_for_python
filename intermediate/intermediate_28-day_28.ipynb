{
 "cells": [
  {
   "cell_type": "markdown",
   "id": "12f25f1e",
   "metadata": {},
   "source": [
    "## Pomodoro Timer 만들기 \n",
    "- Tkinter로 Pomodoro Timer를 만들어보자 \n",
    "- 타이머의 구성은 아래와 같다. \n",
    "    - 25분 work \n",
    "    - 5분 휴식 \n",
    "    - 25분 work \n",
    "    - 5분 휴식 \n",
    "    - 25분 work \n",
    "    - 5분 휴식 \n",
    "    - 25분 work \n",
    "    - 20분 휴식 "
   ]
  },
  {
   "cell_type": "markdown",
   "id": "00871c91",
   "metadata": {},
   "source": [
    "### 1. 캔버스 위젯을 다루고 Tkinter에 이미지를 추가하는 방법 "
   ]
  },
  {
   "cell_type": "markdown",
   "id": "8bc26e25",
   "metadata": {},
   "source": [
    "- Canvas Widget 사용 \n",
    "    - 이미지를 프로그램에 배치하고 그 위에다가 작업하는 기능을 말함 "
   ]
  },
  {
   "cell_type": "code",
   "execution_count": null,
   "id": "70f4c839",
   "metadata": {},
   "outputs": [],
   "source": [
    "# pomodoro timer를 만들어보자!\n",
    "\n",
    "# 모듈 불러오기 \n",
    "from tkinter import *\n",
    "\n",
    "# ---------------------------- CONSTANTS ------------------------------- #\n",
    "# color\n",
    "PINK = \"#e2979c\"\n",
    "RED = \"#e7305b\"\n",
    "GREEN = \"#9bdeac\"\n",
    "YELLOW = \"#f7f5dd\"\n",
    "# word font\n",
    "FONT_NAME = \"Courier\"\n",
    "# timer \n",
    "WORK_MIN = 25\n",
    "SHORT_BREAK_MIN = 5\n",
    "LONG_BREAK_MIN = 20\n",
    "\n",
    "# ---------------------------- TIMER RESET ------------------------------- # \n",
    "\n",
    "# ---------------------------- TIMER MECHANISM ------------------------------- # \n",
    "\n",
    "# ---------------------------- COUNTDOWN MECHANISM ------------------------------- # \n",
    "\n",
    "# ---------------------------- UI SETUP ------------------------------- #\n",
    "# 기본 설정 \n",
    "window = Tk()                                   # tkinter 객체 선언 \n",
    "window.title('Pomodoro')                        # tkinter title 지정 \n",
    "window.config(padx=100, pady=50, bg=YELLOW)     # pad(간격) 및 배경색 설정\n",
    "\n",
    "# canvas 사용 \n",
    "canvas = Canvas(width=200, height=224, bg=YELLOW, highlightthickness=0)                  # Canvas 객체 선언 - 선언시 윈도우 사이즈, 배경색, 이미지 경계선 설정 추가 \n",
    "tomato_img = PhotoImage(file='./img/tomato.png')                                         # 이미지 불러오기 \n",
    "canvas.create_image(100, 112, image=tomato_img)                                          # 이미지 생성 - 생성시 크기 설정 \n",
    "canvas.create_text(100, 130,                       # text 크기 설정 \n",
    "                   text=\"00:00\",                   # text 설정 \n",
    "                   fill='white',                   # text 색상 설정 \n",
    "                   font=(FONT_NAME, 35, \"bold\")    # text 폰트 설정 \n",
    "                  )                                # 이미지 위에 들어갈 타이머(text) 설정 \n",
    "canvas.pack()                                      # 설정한 cancas 명시 \n",
    "\n",
    "\n",
    "# 닫기 버튼 누르기 전까지 계속 구동\n",
    "window.mainloop()"
   ]
  },
  {
   "cell_type": "code",
   "execution_count": null,
   "id": "09ab038c",
   "metadata": {},
   "outputs": [],
   "source": []
  },
  {
   "cell_type": "code",
   "execution_count": null,
   "id": "564ef0a6",
   "metadata": {},
   "outputs": [],
   "source": []
  },
  {
   "cell_type": "code",
   "execution_count": null,
   "id": "eaa7f24b",
   "metadata": {},
   "outputs": [],
   "source": []
  }
 ],
 "metadata": {
  "kernelspec": {
   "display_name": "Python 3 (ipykernel)",
   "language": "python",
   "name": "python3"
  },
  "language_info": {
   "codemirror_mode": {
    "name": "ipython",
    "version": 3
   },
   "file_extension": ".py",
   "mimetype": "text/x-python",
   "name": "python",
   "nbconvert_exporter": "python",
   "pygments_lexer": "ipython3",
   "version": "3.8.12"
  }
 },
 "nbformat": 4,
 "nbformat_minor": 5
}
