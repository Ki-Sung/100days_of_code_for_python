{
 "cells": [
  {
   "cell_type": "markdown",
   "id": "8faca8da",
   "metadata": {},
   "source": [
    "## Email SMTP and The datetime Module\n",
    "- 친구와 가족들에게 생일 축하 자동 시스템 만들기 \n",
    "    - 모든 친구나 가족들의 생일로 된 스프레드시트를 생성 \n",
    "    - 이메일 뭉치를 만들어서 무작위로 이메일을 선택해서 친구들에게 각각 전송 \n",
    "- Email SMTP 사용 \n",
    "- datetime 모듈 사용"
   ]
  },
  {
   "cell_type": "markdown",
   "id": "27dde412",
   "metadata": {},
   "source": [
    "### 1. SMTP를 이용하여 파이썬으로 이메일을 보내는 방법 \n",
    "- SMTP 프로토콜 클라이언트 문서: [smtplib](https://docs.python.org/ko/3/library/smtplib.html)\n",
    "- SMTP(Simple Mail Transfer Protocol)는 말 그대로 이메일을 주고 받을 수 있는 프로토콜을 말한다. 이 과정에서 IMAP이라는 프로토콜도 사용하게 되는데, IMAP은 메일 수신을 위한 프로토콜이다. \n",
    "- Client A가 SMTP를 통해 A의 이메일 Server로 메일을 보내면 B의 이메일 Server와 SMTP를 통해 이메일을 주고 받고 B의 Server가 IMAP을 통해 Client B에 이메일을 보내주는 과정을 거쳐 이메일을 주고 받을 수 있다."
   ]
  },
  {
   "cell_type": "code",
   "execution_count": 2,
   "id": "8c173fbe",
   "metadata": {},
   "outputs": [],
   "source": [
    "# 모듈 선언 \n",
    "import smtplib"
   ]
  },
  {
   "cell_type": "markdown",
   "id": "fb48b41b",
   "metadata": {},
   "source": [
    "- SMTP host Information \n",
    "    - Gmail: smtp.gmail.com\n",
    "    - Hotmail: smtp.live.com\n",
    "    - Yahoo: smtp.mail.yahoo.com"
   ]
  },
  {
   "cell_type": "code",
   "execution_count": 7,
   "id": "79167e4b",
   "metadata": {},
   "outputs": [],
   "source": [
    "# Gmail로 사용\n",
    "my_email = \"my_email_address\"                     # 본인 이메일 \n",
    "password = \"google_app_account_password\"          # 앱 계정 16글자 비밀번호\n",
    "\n",
    "connection = smtplib.SMTP(\"smtp.gmail.com\", 587)   # SMTP 서버 URL과 포트로 SMTP 객체 생성\n",
    "connection.starttls()                              # TLS는 Transport Layer Security의 약자로 이메일 서버와의 연결을 안전하게 만드는 방법 \n",
    "connection.login(user=my_email, password=password) # SMTP 로그인 \n",
    "connection.sendmail(                                                                        # 이메일 전송\n",
    "                    from_addr=my_email,                                                     # 보내는 사람 이메일 주소 입력\n",
    "                    to_addrs=\"send_email_address\",                                          # 받는 사람 이메일 주소 입력 \n",
    "                    msg=\"Subject:Hello SMTP Test\\n\\nThis is the body of my email.\"          # 본문 내용 입력 - Subjec:\"제목\"\\n\\n\"본문\"\n",
    "                   )                       \n",
    "connection.close()                                 # SMTP 서버 닫기 "
   ]
  },
  {
   "cell_type": "code",
   "execution_count": null,
   "id": "53c4c28f",
   "metadata": {},
   "outputs": [],
   "source": [
    "# 만약 connection.close() 코드를 사용하지 않고 SMTP 서버를 닫는 방법 \n",
    "my_email = \"my_email_address\"                     # 본인 이메일 \n",
    "password = \"google_app_account_password\"                      # 앱 계정 16글자 비밀번호\n",
    "\n",
    "with smtplib.SMTP(\"smtp.gmail.com\", 587) as connection:   # SMTP 서버 URL과 포트로 SMTP 객체 생성\n",
    "    connection.starttls()                                 # TLS는 Transport Layer Security의 약자로 이메일 서버와의 연결을 안전하게 만드는 방법 \n",
    "    connection.login(user=my_email, password=password)    # SMTP 로그인 \n",
    "    connection.sendmail(                                                                        # 이메일 전송\n",
    "                        from_addr=my_email,                                                     # 보내는 사람 이메일 주소 입력\n",
    "                        to_addrs=\"send_email_address\",                                          # 받는 사람 이메일 주소 입력 \n",
    "                        msg=\"Subject:Hello SMTP Test\\n\\nThis is the body of my email.\"          # 본문 내용 입력 - Subjec:\"제목\"\\n\\n\"본문\"\n",
    "                       )   "
   ]
  },
  {
   "cell_type": "markdown",
   "id": "7abe7315",
   "metadata": {},
   "source": [
    "### 2. datetime 모듈 사용법"
   ]
  },
  {
   "cell_type": "code",
   "execution_count": 12,
   "id": "ae730ac3",
   "metadata": {},
   "outputs": [
    {
     "name": "stdout",
     "output_type": "stream",
     "text": [
      "<class 'datetime.datetime'>\n",
      "2023-07-19 11:43:26.356336\n"
     ]
    }
   ],
   "source": [
    "# 모듈 불러오기 \n",
    "import datetime as dt\n",
    "\n",
    "now = dt.datetime.now()      # 현재의 날짜와 시각 불러오기 \n",
    "print(type(now))             # 데이터 타입 출력 \n",
    "print(now)                   # 현재의 날짜와 시각 출력 "
   ]
  },
  {
   "cell_type": "code",
   "execution_count": 13,
   "id": "887ce69f",
   "metadata": {},
   "outputs": [
    {
     "name": "stdout",
     "output_type": "stream",
     "text": [
      "<class 'int'>\n",
      "2023\n"
     ]
    }
   ],
   "source": [
    "# 년도만 추출하기 \n",
    "\n",
    "# 모듈 불러오기 \n",
    "import datetime as dt\n",
    "\n",
    "now = dt.datetime.now()      # 현재의 날짜와 시각 불러오기 \n",
    "year = now.year              # 년도만 불러오기\n",
    "print(type(year))            # 년도 데이터 타입 확인 \n",
    "print(year)                  # 년도만 출력 "
   ]
  },
  {
   "cell_type": "code",
   "execution_count": 14,
   "id": "6d5d1710",
   "metadata": {},
   "outputs": [
    {
     "name": "stdout",
     "output_type": "stream",
     "text": [
      "<class 'int'>\n",
      "7\n"
     ]
    }
   ],
   "source": [
    "# 월만 추출하기 \n",
    "\n",
    "# 모듈 불러오기 \n",
    "import datetime as dt\n",
    "\n",
    "now = dt.datetime.now()       # 현재의 날짜와 시각 불러오기 \n",
    "month = now.month             # 월만 불러오기\n",
    "print(type(month))            # 월의 데이터 타입 확인 \n",
    "print(month)                  # 월만 출력 "
   ]
  },
  {
   "cell_type": "code",
   "execution_count": 15,
   "id": "8276af58",
   "metadata": {},
   "outputs": [
    {
     "name": "stdout",
     "output_type": "stream",
     "text": [
      "<class 'int'>\n",
      "19\n"
     ]
    }
   ],
   "source": [
    "# 일만 추출하기 \n",
    "\n",
    "# 모듈 불러오기 \n",
    "import datetime as dt\n",
    "\n",
    "now = dt.datetime.now()      # 현재의 날짜와 시각 불러오기 \n",
    "day = now.day                # 일만 불러오기\n",
    "print(type(day))             # 일의 데이터 타입 확인 \n",
    "print(day)                   # 일만 출력 "
   ]
  },
  {
   "cell_type": "code",
   "execution_count": 16,
   "id": "5d630e33",
   "metadata": {},
   "outputs": [
    {
     "name": "stdout",
     "output_type": "stream",
     "text": [
      "2\n"
     ]
    }
   ],
   "source": [
    "# 요일 추출 \n",
    "\n",
    "# 모듈 불러오기 \n",
    "import datetime as dt\n",
    "\n",
    "now = dt.datetime.now()         # 현재의 날짜와 시각 불러오기 \n",
    "day_of_week = now.weekday()     # 요일 불러오기 \n",
    "print(day_of_week)              # 요일 출력 - 추출 결과는 숫자로 나옴 -> 2: 수요일"
   ]
  },
  {
   "cell_type": "code",
   "execution_count": 18,
   "id": "e731e8d6",
   "metadata": {},
   "outputs": [
    {
     "name": "stdout",
     "output_type": "stream",
     "text": [
      "1988-01-18 05:00:00\n"
     ]
    }
   ],
   "source": [
    "# 특정한 날짜 설정 \n",
    "\n",
    "# 모듈 불러오기 \n",
    "import datetime as dt\n",
    "\n",
    "date_of_birth = dt.datetime(year=1988, month=1, day=18, hour=5)  # 나의 생일 지정 (년도, 월, 일, 시간)\n",
    "print(date_of_birth)            # 출력 "
   ]
  },
  {
   "cell_type": "markdown",
   "id": "2a7a8a30",
   "metadata": {},
   "source": [
    "### 3. 이메일로 매주 월요일 동기부여 명언 전송하기"
   ]
  },
  {
   "cell_type": "code",
   "execution_count": null,
   "id": "543b8557",
   "metadata": {},
   "outputs": [],
   "source": [
    "# 매주 월요일 아침 자동으로 명언 이메일로 보내기\n",
    "# 강의 내용과 다르게 html, dotenv 적용, 한글 명언으로 구성\n",
    "\n",
    "# 모듈 불러오기 \n",
    "import os \n",
    "import random\n",
    "from dotenv import load_dotenv\n",
    "import datetime as dt \n",
    "\n",
    "import smtplib\n",
    "from email.mime.text import MIMEText     # email 모듈 중 메시지 제목과 본문을 설정하기 위한 라이브러리\n",
    "from email.mime.multipart import MIMEMultipart  # email 모듈 메일의 데이터 영역의 메시지를 만드는 라이브러리\n",
    "\n",
    "# dotenv 로드 \n",
    "load_dotenv(verbose=True)\n",
    "\n",
    "# 상수 설정 - 각종 정보 \n",
    "MY_EMAIL = os.getenv(\"MY_EMAIL\")\n",
    "GOOGLE_APP_PASSWORD = os.getenv(\"GOOGLE_APP_PASSWORD\")\n",
    "SEND_ADRESS_1 = os.getenv(\"SEND_ADRESS_1\")\n",
    "SEND_ADRESS_2 = os.getenv(\"SEND_ADRESS_2\")\n",
    "\n",
    "# 요일 설정 - 금일 기준 \n",
    "now = dt.datetime.now()      # 현재의 날짜와 시각 불러오기 \n",
    "weekday = now.weekday()      # 요일 불러오기  \n",
    "\n",
    "# 자동 메일링 실행 코드 \n",
    "if weekday == 0:                            # 만약 월요일일 경우\n",
    "    # 명언 데이터 불러오기 \n",
    "    with open(\"data/quotes.txt\") as data:   # 명언집 데이터 파일을 열고 \n",
    "        all_quotes = data.readlines()       # 데이터 파일을 한 줄씩 설정 \n",
    "        quotes = random.choice(all_quotes)   # 랜덤하게 명언 저장 \n",
    "    \n",
    "    # 메일 보내기 \n",
    "    # 메일 본문 작성 - html 형식 \n",
    "    msg_text =  \"월요일 아침이 밝았습니다.<br>\" \\\n",
    "                \" <br>\" \\\n",
    "                \"매주 월요일 명언으로 하루를 시작해보는 것은 어떨까요?<br>\" \\\n",
    "                \"<br>\" \\\n",
    "                \"금주의 Motivation<br>\" \\\n",
    "                f\"{quotes}<br>\" \\\n",
    "                \"<br>\" \\\n",
    "                \"금주도 활기찬 한 주 되세요!<br>\" \\\n",
    "    \n",
    "    # SMTP 서버 접속  \n",
    "    connection = smtplib.SMTP(\"smtp.gmail.com\", 587)                # SMTP 서버 연결 시작 \n",
    "    connection.starttls()                                           # TLS 암호화 \n",
    "    connection.login(user=MY_EMAIL, password=GOOGLE_APP_PASSWORD)   # SMTP 로그인 \n",
    "    \n",
    "    # 수신인 이메일 주소 저장 - 여러 이메일 주소 \n",
    "    recipients = [MY_EMAIL, SEND_ADRESS_1, SEND_ADRESS_2]\n",
    "    \n",
    "    str_from = MY_EMAIL                                              # 보내는 사람의 메일 주소 \n",
    "    str_to = \", \".join(recipients)                                   # 받는 사람의 메일 주소 - 여러 메일 주소 설정 \n",
    "    msg_root = MIMEMultipart(\"related\")                              # 여러 MIME을 넣기위한 MIMEMultipart 객체 생성\n",
    "    \n",
    "    msg_root[\"Subject\"] = \"즐거운 월요일 아침이 밝았습니다.\"                   # 메일 제목 설정 \n",
    "    msg_root[\"From\"] = str_from                                        # 보내는 사람 \n",
    "    msg_root[\"To\"] = str_to                                            # 받는 사람\n",
    "    msg_alternative = MIMEMultipart('alternative')                     # 메일에 파일을 보내기 위한 MIMEMultipart 객체 생성\n",
    "    msg_root.attach(msg_alternative)                                   # 선언된 MIMEMultipart 접근 \n",
    "    msg = MIMEText(msg_text, 'html', _charset=\"utf8\")                  # 메일 본문 내용 작성 \n",
    "    msg_alternative.attach(msg)                                        # 작성된 메일 본문 접근 \n",
    "    \n",
    "    # 지정한 받는 사람 메일주소 별로 내용 전달 \n",
    "    for recipient in recipients:\n",
    "        connection.sendmail(\n",
    "                            from_addr=str_from,                  # 보내는 사람\n",
    "                            to_addrs=recipient,                  # 받는 사람 \n",
    "                            msg=msg_root.as_string()             # 메세지 내용\n",
    "                            )\n",
    "    # SMTP 서버 종료 \n",
    "    connection.quit()\n",
    "\n",
    "print(\"전송 완료!\")"
   ]
  },
  {
   "cell_type": "markdown",
   "id": "186de94c",
   "metadata": {},
   "source": [
    "### 4. 생일 자동 축하하기 프로젝트 "
   ]
  },
  {
   "cell_type": "code",
   "execution_count": null,
   "id": "f99257e3",
   "metadata": {},
   "outputs": [],
   "source": [
    "# 생일 메시지 자동 메일링 프로젝트 \n",
    "\n",
    "# 모듈 불러오기 \n",
    "import os \n",
    "import random\n",
    "import pandas as pd \n",
    "from dotenv import load_dotenv\n",
    "from datetime import datetime\n",
    "\n",
    "import smtplib\n",
    "from email.mime.text import MIMEText     # email 모듈 중 메시지 제목과 본문을 설정하기 위한 라이브러리\n",
    "from email.mime.multipart import MIMEMultipart  # email 모듈 메일의 데이터 영역의 메시지를 만드는 라이브러리\n",
    "\n",
    "# dotenv 로드 \n",
    "load_dotenv(verbose=True) \n",
    "\n",
    "MY_EMAIL = os.getenv(\"MY_EMAIL\")\n",
    "GOOGLE_APP_PASSWORD = os.getenv(\"GOOGLE_APP_PASSWORD\")\n",
    "\n",
    "# datetime으로 현재 데이터 불러오기 - 월, 일 \n",
    "today = (datetime.now().month, datetime.now().day)\n",
    "\n",
    "# 데이터 프레임으로 csv 파일 불러오기 \n",
    "data = pd.read_csv(\"./data/birthdays.csv\")\n",
    "\n",
    "# 데이터 프레임 내 데이터를 딕셔너리로 변환 - 컴프리핸션 사용 \n",
    "birthday_dict = {(data_row[\"month\"], data_row[\"day\"]):data_row for (index, data_row) in data.iterrows()}\n",
    "\n",
    "# 실제 구동 코드 \n",
    "if today in birthday_dict:                                                  # 만약 딕셔너리에 금일자 데이터에 대한 데이터가 있다면 \n",
    "    birthday_person = birthday_dict[today]                                  # 생일자 저장 \n",
    "    file_path = f\"./letter_templates/letter_{random.randint(1,3)}.txt\"      # 이메일 본문 탬플릿 걍로 (템플릿 3개 중 랜덤으로 설정)\n",
    "    with open(file_path) as letter_file:                                    # 설정된 경로를 with 문으로 \n",
    "        contents = letter_file.read()                                       # 설정된 경로로 탬플릿 열기 \n",
    "        contents = contents.replace(\"[NAME]\", birthday_person[\"name\"])      # 맨위 생알자 이름을 바꿔주기 \n",
    "    \n",
    "    # 메일 보내기     \n",
    "    with smtplib.SMTP(\"smtp.gmail.com\", 587) as connection:                 # SMTP 서버 접속 \n",
    "        connection.starttls()                                               # TLS 암호화 \n",
    "        connection.login(MY_EMAIL, GOOGLE_APP_PASSWORD)                     # SMTP 로그인 \n",
    "        connection.sendmail(                                                # 메일 보내기 \n",
    "                            from_addr=MY_EMAIL,                             # 보내는 사람 \n",
    "                            to_addrs=birthday_person[\"email\"],              # 받는 사람\n",
    "                            msg= f\"Subject: Happy Birthday!\\n\\n{contents}\"  # 메일 메시지 내용 설정\n",
    "                            )"
   ]
  },
  {
   "cell_type": "markdown",
   "id": "6588c3d3",
   "metadata": {},
   "source": [
    "### 5. 클라우드에 파이썬 코드 실행하기 "
   ]
  },
  {
   "cell_type": "markdown",
   "id": "5cf1e9d8",
   "metadata": {},
   "source": [
    "- [python anywhere](https://www.pythonanywhere.com/)을 사용하게 되면 무료로 클라우드 서비스를 이용할 수 있다. "
   ]
  },
  {
   "cell_type": "code",
   "execution_count": null,
   "id": "8260c9e6",
   "metadata": {},
   "outputs": [],
   "source": []
  }
 ],
 "metadata": {
  "kernelspec": {
   "display_name": "Python 3 (ipykernel)",
   "language": "python",
   "name": "python3"
  },
  "language_info": {
   "codemirror_mode": {
    "name": "ipython",
    "version": 3
   },
   "file_extension": ".py",
   "mimetype": "text/x-python",
   "name": "python",
   "nbconvert_exporter": "python",
   "pygments_lexer": "ipython3",
   "version": "3.8.12"
  }
 },
 "nbformat": 4,
 "nbformat_minor": 5
}
