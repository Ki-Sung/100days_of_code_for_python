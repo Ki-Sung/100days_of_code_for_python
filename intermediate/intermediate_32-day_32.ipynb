{
 "cells": [
  {
   "cell_type": "markdown",
   "id": "1d93d23f",
   "metadata": {},
   "source": [
    "## Email SMTP and The datetime Module\n",
    "- 친구와 가족들에게 생일 축하 자동 시스템 만들기 \n",
    "    - 모든 친구나 가족들의 생일로 된 스프레드시트를 생성 \n",
    "    - 이메일 뭉치를 만들어서 무작위로 이메일을 선택해서 친구들에게 각각 전송 \n",
    "- Email SMTP 사용 \n",
    "- datetime 모듈 사용"
   ]
  },
  {
   "cell_type": "markdown",
   "id": "8ba41227",
   "metadata": {},
   "source": [
    "### 1. SMTP를 이용하여 파이썬으로 이메일을 보내는 방법 \n",
    "- SMTP 프로토콜 클라이언트 문서: [smtplib](https://docs.python.org/ko/3/library/smtplib.html)\n",
    "- SMTP(Simple Mail Transfer Protocol)는 말 그대로 이메일을 주고 받을 수 있는 프로토콜을 말한다. 이 과정에서 IMAP이라는 프로토콜도 사용하게 되는데, IMAP은 메일 수신을 위한 프로토콜이다. \n",
    "- Client A가 SMTP를 통해 A의 이메일 Server로 메일을 보내면 B의 이메일 Server와 SMTP를 통해 이메일을 주고 받고 B의 Server가 IMAP을 통해 Client B에 이메일을 보내주는 과정을 거쳐 이메일을 주고 받을 수 있다."
   ]
  },
  {
   "cell_type": "code",
   "execution_count": 2,
   "id": "faa93f15",
   "metadata": {},
   "outputs": [],
   "source": [
    "# 모듈 선언 \n",
    "import smtplib"
   ]
  },
  {
   "cell_type": "markdown",
   "id": "a746796c",
   "metadata": {},
   "source": [
    "- SMTP host Information \n",
    "    - Gmail: smtp.gmail.com\n",
    "    - Hotmail: smtp.live.com\n",
    "    - Yahoo: smtp.mail.yahoo.com"
   ]
  },
  {
   "cell_type": "code",
   "execution_count": 7,
   "id": "1d3e7527",
   "metadata": {},
   "outputs": [],
   "source": [
    "# Gmail로 사용\n",
    "my_email = \"my_email_address\"                     # 본인 이메일 \n",
    "password = \"google_app_account_password\"          # 앱 계정 16글자 비밀번호\n",
    "\n",
    "connection = smtplib.SMTP(\"smtp.gmail.com\", 587)   # SMTP 서버 URL과 포트로 SMTP 객체 생성\n",
    "connection.starttls()                              # TLS는 Transport Layer Security의 약자로 이메일 서버와의 연결을 안전하게 만드는 방법 \n",
    "connection.login(user=my_email, password=password) # SMTP 로그인 \n",
    "connection.sendmail(                                                                        # 이메일 전송\n",
    "                    from_addr=my_email,                                                     # 보내는 사람 이메일 주소 입력\n",
    "                    to_addrs=\"send_email_address\",                                          # 받는 사람 이메일 주소 입력 \n",
    "                    msg=\"Subject:Hello SMTP Test\\n\\nThis is the body of my email.\"          # 본문 내용 입력 - Subjec:\"제목\"\\n\\n\"본문\"\n",
    "                   )                       \n",
    "connection.close()                                 # SMTP 서버 닫기 "
   ]
  },
  {
   "cell_type": "code",
   "execution_count": null,
   "id": "0224349d",
   "metadata": {},
   "outputs": [],
   "source": [
    "# 만약 connection.close() 코드를 사용하지 않고 SMTP 서버를 닫는 방법 \n",
    "my_email = \"my_email_address\"                     # 본인 이메일 \n",
    "password = \"google_app_account_password\"                      # 앱 계정 16글자 비밀번호\n",
    "\n",
    "with smtplib.SMTP(\"smtp.gmail.com\", 587) as connection:   # SMTP 서버 URL과 포트로 SMTP 객체 생성\n",
    "    connection.starttls()                                 # TLS는 Transport Layer Security의 약자로 이메일 서버와의 연결을 안전하게 만드는 방법 \n",
    "    connection.login(user=my_email, password=password)    # SMTP 로그인 \n",
    "    connection.sendmail(                                                                        # 이메일 전송\n",
    "                        from_addr=my_email,                                                     # 보내는 사람 이메일 주소 입력\n",
    "                        to_addrs=\"send_email_address\",                                          # 받는 사람 이메일 주소 입력 \n",
    "                        msg=\"Subject:Hello SMTP Test\\n\\nThis is the body of my email.\"          # 본문 내용 입력 - Subjec:\"제목\"\\n\\n\"본문\"\n",
    "                       )   "
   ]
  },
  {
   "cell_type": "code",
   "execution_count": null,
   "id": "29915924",
   "metadata": {},
   "outputs": [],
   "source": []
  }
 ],
 "metadata": {
  "kernelspec": {
   "display_name": "Python 3 (ipykernel)",
   "language": "python",
   "name": "python3"
  },
  "language_info": {
   "codemirror_mode": {
    "name": "ipython",
    "version": 3
   },
   "file_extension": ".py",
   "mimetype": "text/x-python",
   "name": "python",
   "nbconvert_exporter": "python",
   "pygments_lexer": "ipython3",
   "version": "3.8.12"
  }
 },
 "nbformat": 4,
 "nbformat_minor": 5
}
