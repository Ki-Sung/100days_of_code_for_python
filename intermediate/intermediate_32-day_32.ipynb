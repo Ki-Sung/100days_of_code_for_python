{
 "cells": [
  {
   "cell_type": "markdown",
   "id": "8faca8da",
   "metadata": {},
   "source": [
    "## Email SMTP and The datetime Module\n",
    "- 친구와 가족들에게 생일 축하 자동 시스템 만들기 \n",
    "    - 모든 친구나 가족들의 생일로 된 스프레드시트를 생성 \n",
    "    - 이메일 뭉치를 만들어서 무작위로 이메일을 선택해서 친구들에게 각각 전송 \n",
    "- Email SMTP 사용 \n",
    "- datetime 모듈 사용"
   ]
  },
  {
   "cell_type": "markdown",
   "id": "27dde412",
   "metadata": {},
   "source": [
    "### 1. SMTP를 이용하여 파이썬으로 이메일을 보내는 방법 \n",
    "- SMTP 프로토콜 클라이언트 문서: [smtplib](https://docs.python.org/ko/3/library/smtplib.html)\n",
    "- SMTP(Simple Mail Transfer Protocol)는 말 그대로 이메일을 주고 받을 수 있는 프로토콜을 말한다. 이 과정에서 IMAP이라는 프로토콜도 사용하게 되는데, IMAP은 메일 수신을 위한 프로토콜이다. \n",
    "- Client A가 SMTP를 통해 A의 이메일 Server로 메일을 보내면 B의 이메일 Server와 SMTP를 통해 이메일을 주고 받고 B의 Server가 IMAP을 통해 Client B에 이메일을 보내주는 과정을 거쳐 이메일을 주고 받을 수 있다."
   ]
  },
  {
   "cell_type": "code",
   "execution_count": 2,
   "id": "8c173fbe",
   "metadata": {},
   "outputs": [],
   "source": [
    "# 모듈 선언 \n",
    "import smtplib"
   ]
  },
  {
   "cell_type": "markdown",
   "id": "fb48b41b",
   "metadata": {},
   "source": [
    "- SMTP host Information \n",
    "    - Gmail: smtp.gmail.com\n",
    "    - Hotmail: smtp.live.com\n",
    "    - Yahoo: smtp.mail.yahoo.com"
   ]
  },
  {
   "cell_type": "code",
   "execution_count": 7,
   "id": "79167e4b",
   "metadata": {},
   "outputs": [],
   "source": [
    "# Gmail로 사용\n",
    "my_email = \"my_email_address\"                     # 본인 이메일 \n",
    "password = \"google_app_account_password\"          # 앱 계정 16글자 비밀번호\n",
    "\n",
    "connection = smtplib.SMTP(\"smtp.gmail.com\", 587)   # SMTP 서버 URL과 포트로 SMTP 객체 생성\n",
    "connection.starttls()                              # TLS는 Transport Layer Security의 약자로 이메일 서버와의 연결을 안전하게 만드는 방법 \n",
    "connection.login(user=my_email, password=password) # SMTP 로그인 \n",
    "connection.sendmail(                                                                        # 이메일 전송\n",
    "                    from_addr=my_email,                                                     # 보내는 사람 이메일 주소 입력\n",
    "                    to_addrs=\"send_email_address\",                                          # 받는 사람 이메일 주소 입력 \n",
    "                    msg=\"Subject:Hello SMTP Test\\n\\nThis is the body of my email.\"          # 본문 내용 입력 - Subjec:\"제목\"\\n\\n\"본문\"\n",
    "                   )                       \n",
    "connection.close()                                 # SMTP 서버 닫기 "
   ]
  },
  {
   "cell_type": "code",
   "execution_count": null,
   "id": "53c4c28f",
   "metadata": {},
   "outputs": [],
   "source": [
    "# 만약 connection.close() 코드를 사용하지 않고 SMTP 서버를 닫는 방법 \n",
    "my_email = \"my_email_address\"                     # 본인 이메일 \n",
    "password = \"google_app_account_password\"                      # 앱 계정 16글자 비밀번호\n",
    "\n",
    "with smtplib.SMTP(\"smtp.gmail.com\", 587) as connection:   # SMTP 서버 URL과 포트로 SMTP 객체 생성\n",
    "    connection.starttls()                                 # TLS는 Transport Layer Security의 약자로 이메일 서버와의 연결을 안전하게 만드는 방법 \n",
    "    connection.login(user=my_email, password=password)    # SMTP 로그인 \n",
    "    connection.sendmail(                                                                        # 이메일 전송\n",
    "                        from_addr=my_email,                                                     # 보내는 사람 이메일 주소 입력\n",
    "                        to_addrs=\"send_email_address\",                                          # 받는 사람 이메일 주소 입력 \n",
    "                        msg=\"Subject:Hello SMTP Test\\n\\nThis is the body of my email.\"          # 본문 내용 입력 - Subjec:\"제목\"\\n\\n\"본문\"\n",
    "                       )   "
   ]
  },
  {
   "cell_type": "markdown",
   "id": "7abe7315",
   "metadata": {},
   "source": [
    "### 2. datetime 모듈 사용법"
   ]
  },
  {
   "cell_type": "code",
   "execution_count": 12,
   "id": "ae730ac3",
   "metadata": {},
   "outputs": [
    {
     "name": "stdout",
     "output_type": "stream",
     "text": [
      "<class 'datetime.datetime'>\n",
      "2023-07-19 11:43:26.356336\n"
     ]
    }
   ],
   "source": [
    "# 모듈 불러오기 \n",
    "import datetime as dt\n",
    "\n",
    "now = dt.datetime.now()      # 현재의 날짜와 시각 불러오기 \n",
    "print(type(now))             # 데이터 타입 출력 \n",
    "print(now)                   # 현재의 날짜와 시각 출력 "
   ]
  },
  {
   "cell_type": "code",
   "execution_count": 13,
   "id": "887ce69f",
   "metadata": {},
   "outputs": [
    {
     "name": "stdout",
     "output_type": "stream",
     "text": [
      "<class 'int'>\n",
      "2023\n"
     ]
    }
   ],
   "source": [
    "# 년도만 추출하기 \n",
    "\n",
    "# 모듈 불러오기 \n",
    "import datetime as dt\n",
    "\n",
    "now = dt.datetime.now()      # 현재의 날짜와 시각 불러오기 \n",
    "year = now.year              # 년도만 불러오기\n",
    "print(type(year))            # 년도 데이터 타입 확인 \n",
    "print(year)                  # 년도만 출력 "
   ]
  },
  {
   "cell_type": "code",
   "execution_count": 14,
   "id": "6d5d1710",
   "metadata": {},
   "outputs": [
    {
     "name": "stdout",
     "output_type": "stream",
     "text": [
      "<class 'int'>\n",
      "7\n"
     ]
    }
   ],
   "source": [
    "# 월만 추출하기 \n",
    "\n",
    "# 모듈 불러오기 \n",
    "import datetime as dt\n",
    "\n",
    "now = dt.datetime.now()       # 현재의 날짜와 시각 불러오기 \n",
    "month = now.month             # 월만 불러오기\n",
    "print(type(month))            # 월의 데이터 타입 확인 \n",
    "print(month)                  # 월만 출력 "
   ]
  },
  {
   "cell_type": "code",
   "execution_count": 15,
   "id": "8276af58",
   "metadata": {},
   "outputs": [
    {
     "name": "stdout",
     "output_type": "stream",
     "text": [
      "<class 'int'>\n",
      "19\n"
     ]
    }
   ],
   "source": [
    "# 일만 추출하기 \n",
    "\n",
    "# 모듈 불러오기 \n",
    "import datetime as dt\n",
    "\n",
    "now = dt.datetime.now()      # 현재의 날짜와 시각 불러오기 \n",
    "day = now.day                # 일만 불러오기\n",
    "print(type(day))             # 일의 데이터 타입 확인 \n",
    "print(day)                   # 일만 출력 "
   ]
  },
  {
   "cell_type": "code",
   "execution_count": 16,
   "id": "5d630e33",
   "metadata": {},
   "outputs": [
    {
     "name": "stdout",
     "output_type": "stream",
     "text": [
      "2\n"
     ]
    }
   ],
   "source": [
    "# 요일 추출 \n",
    "\n",
    "# 모듈 불러오기 \n",
    "import datetime as dt\n",
    "\n",
    "now = dt.datetime.now()         # 현재의 날짜와 시각 불러오기 \n",
    "day_of_week = now.weekday()     # 요일 불러오기 \n",
    "print(day_of_week)              # 요일 출력 - 추출 결과는 숫자로 나옴 -> 2: 수요일"
   ]
  },
  {
   "cell_type": "code",
   "execution_count": 18,
   "id": "e731e8d6",
   "metadata": {},
   "outputs": [
    {
     "name": "stdout",
     "output_type": "stream",
     "text": [
      "1988-01-18 05:00:00\n"
     ]
    }
   ],
   "source": [
    "# 특정한 날짜 설정 \n",
    "\n",
    "# 모듈 불러오기 \n",
    "import datetime as dt\n",
    "\n",
    "date_of_birth = dt.datetime(year=1988, month=1, day=18, hour=5)  # 나의 생일 지정 (년도, 월, 일, 시간)\n",
    "print(date_of_birth)            # 출력 "
   ]
  },
  {
   "cell_type": "code",
   "execution_count": null,
   "id": "6215ba47",
   "metadata": {},
   "outputs": [],
   "source": []
  }
 ],
 "metadata": {
  "kernelspec": {
   "display_name": "Python 3 (ipykernel)",
   "language": "python",
   "name": "python3"
  },
  "language_info": {
   "codemirror_mode": {
    "name": "ipython",
    "version": 3
   },
   "file_extension": ".py",
   "mimetype": "text/x-python",
   "name": "python",
   "nbconvert_exporter": "python",
   "pygments_lexer": "ipython3",
   "version": "3.8.12"
  }
 },
 "nbformat": 4,
 "nbformat_minor": 5
}
