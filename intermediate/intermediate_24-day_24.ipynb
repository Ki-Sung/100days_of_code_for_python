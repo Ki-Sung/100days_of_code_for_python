{
 "cells": [
  {
   "cell_type": "markdown",
   "metadata": {},
   "source": [
    "## 로컬 파일 시스템에서 작업 방법 및 Snake Game 발전시키기 \n",
    "- 최고 점수를 추적하게 만들어보기 \n",
    "- 파일 시스템을 다루는 기술 배워보기 \n"
   ]
  },
  {
   "cell_type": "markdown",
   "metadata": {},
   "source": [
    "### 1. Snake Game 발전시키기 \n",
    "- 게임을 할 때마다 우리가 획득하는 높은 점수를 추적할 수 있게 하기 "
   ]
  },
  {
   "cell_type": "code",
   "execution_count": null,
   "metadata": {},
   "outputs": [],
   "source": [
    "# snake_game_options/scoreboard.py \n",
    "# 게임 종료 메소드 삭제, 점수 초기화 설정을 위한 메소드 추가 \n",
    "\n",
    "from turtle import Turtle\n",
    "\n",
    "# 상수선언 \n",
    "ALIGNMENT = 'center'\n",
    "FONT = ('Courier', 24, 'normal')\n",
    "\n",
    "\n",
    "# 스코어 제어 클래스 \n",
    "class Scoreboard(Turtle):\n",
    "    # 초기화 메소드 \n",
    "    def __init__(self):\n",
    "        super().__init__()\n",
    "        self.score = 0          # 초기 점수 \n",
    "        self.high_score = 0     # 최고 점수판을 위한 초기 점수 지정\n",
    "        self.color(\"white\")     # 점수판 색상 설정 \n",
    "        self.penup()            # 선 나오지 않게 설정 \n",
    "        self.goto(0, 270)       # 지정한 위치에 점수판 위치 설정   \n",
    "        self.hideturtle()       # 점수판에 나오는 turtle 숨기기 설정 \n",
    "        self.update_scoreborad()  # update_scoreboard 메소드 불러오기 \n",
    "    \n",
    "    # 점수판 설정 메소드\n",
    "    def update_scoreborad(self):\n",
    "        self.clear()                           # 점수가 겹쳐 보이기 때문에, 증가할 때마다 새로운 점수 갱신 \n",
    "        self.write(\n",
    "                arg=f'Score: {self.score} Hight Score: {self.high_score}',    # Turtle 화면에 문자 출력 \n",
    "                move=False,                                                   # 움직임 설정 \n",
    "                align=ALIGNMENT,                                              # 가운데 정렬 \n",
    "                font=FONT)                                                    # 폰트 설정\n",
    "        \n",
    "    # 게임 종료 후 점수판에 최고 점수를 기록하기 위한 설정 메소드 \n",
    "    def reset(self):\n",
    "        # 1. 최고 점수 업데이트\n",
    "        if self.score > self.high_score:   # 만약에 현재 점수가 현 최고 점수보다 높다면,\n",
    "            self.high_score = self.score   # high_score에 현재 높은 점수 저장 \n",
    "        \n",
    "        # 2. 점수 재설정 \n",
    "        self.score = 0                     # 그 다음 시작할 점수 재설정 \n",
    "        self.update_scoreborad()           # 점수 업데이트\n",
    "    \n",
    "    # # 게임 종료 표시 메소드 \n",
    "    # def game_over(self):\n",
    "    #     self.goto(0, 0)                        # 종료 표시 위치 설정 \n",
    "    #     self.write(\n",
    "    #             arg='Game Over',               # Turtle 화면에 문자 출력 \n",
    "    #             move=False,                    # 움직임 설정 \n",
    "    #             align=ALIGNMENT,               # 가운데 정렬 \n",
    "    #             font=FONT)                     # 폰트 설정\n",
    "    \n",
    "    \n",
    "    # 점수판 점수 증가 메소드     \n",
    "    def increase_score(self):\n",
    "        self.score += 1           # 점수 1씩 증가 (만약 먹이가 닿으면)\n",
    "        self.update_scoreborad()  # update_scoreboard 메소드 불러오기 "
   ]
  },
  {
   "cell_type": "code",
   "execution_count": null,
   "metadata": {},
   "outputs": [],
   "source": [
    "# snake_game_options/snake.py \n",
    "# 게임판이 끝나고 다시 Snake를 초기화 시키는 기능 추가\n",
    "\n",
    "from turtle import Turtle \n",
    "\n",
    "# 상수 선언 \n",
    "STARTING_POSITIONS = [(0, 0), (-20, 0), (-40 , 0)]     #  시작할 때 Snake 위치\n",
    "MOVE_DISTANCE = 20                                     # 이동할 거리 설정\n",
    "UP = 90           # 위 방향 \n",
    "DOWN = 270        # 아래 방향 \n",
    "LEFT = 180        # 왼쪽 방향 \n",
    "RIGHT = 0         # 오른쪽 방향 \n",
    "\n",
    "# Snake 클래스 생성 \n",
    "class Snake:\n",
    "    # 새로운 snake 객체를 초기화할 때 무엇을 할지 결정함\n",
    "    def __init__(self):\n",
    "        self.segments = []             # 새로운 속성인 segments를 설정 \n",
    "        self.create_snake()            # create_snake라는 메소드 지정\n",
    "        self.head = self.segments[0]   # snake 머리 속성 지정  \n",
    "    \n",
    "    # 위에 init 함수에 지정한 create_snake() 메소드 생성 \n",
    "    def create_snake(self):\n",
    "        for position in STARTING_POSITIONS:\n",
    "            self.add_segment(position)     # 아래에 있는 add_segment 메소드 불러와서 전달\n",
    "    \n",
    "    # 뱀의 길이가 늘어나기 위한 tutle 설정이 들어간 add_segment() 메소드 - 세그먼트가 추가될 위치가 반드시 필요\n",
    "    def add_segment(self, position):             \n",
    "        new_segment = Turtle(shape=\"square\")      # turtle 모양 설정 \n",
    "        new_segment.color(\"white\")                # tuttle 색상 설정 \n",
    "        new_segment.penup()                       # 선을 없애기 위해 penup 설정 \n",
    "        new_segment.goto(position)                # position(위치)로 가기 \n",
    "        self.segments.append(new_segment)         \n",
    "        \n",
    "    # 충돌하여 앞선 game이 종료되었을 때, snake를 다시 초기화 시키는 설정 메소드\n",
    "    def reset(self):\n",
    "        # reset 되었을 때, 전에 있던 뱀 사라지게 하기 \n",
    "        for seg in self.segments:\n",
    "            seg.goto(1000, 1000)            # 600 X 600 이므로 1000 X 10000 하게하여 뱀을 밖으로 내보내버리기 \n",
    "        self.segments.clear()               # 추가 되었던 모든 segments(늘어난 뱀 꼬리) 모두 삭제 \n",
    "        self.create_snake()                 # 다시 시작할 떄 새로운 snake 생성 \n",
    "        self.head = self.segments[0]   # snake 머리 속성 지정  \n",
    "        \n",
    "    # 먹이를 먹을 때 뱀의 길이가 늘어나는 extend 메소드 생성\n",
    "    def extend(self):\n",
    "        # 새로운 snake(segment) 추가\n",
    "        self.add_segment(self.segments[-1].position())    # segment 위치를 마지막에 추가 \n",
    "        \n",
    "    # snake의 움직임 설정인 move 메소드 생성     \n",
    "    def move(self):\n",
    "        # 뱀의 방향 전환을 위한 컨트롤 \n",
    "        # 마지막(세 번째) 세그먼트(뱀)를 두 번째 세그먼트 자리로 옮기고, \n",
    "        # 두 번째의 것을 첫 번째 자리로 옮긴 다음 \n",
    "        # 첫 번째 세그먼트를 앞으로 20 픽셀을 옮김 \n",
    "        for seg_num in range(len(self.segments) -1, 0, -1):    # 범위 2 부터 0까지 역순으로 -1씩 차감 \n",
    "            new_x = self.segments[seg_num - 1].xcor()          # 역순으로 seg_num의 x축 값 추출 \n",
    "            new_y = self.segments[seg_num - 1].ycor()          # 역순으로 seg_num의 y축 값 추출 \n",
    "            self.segments[seg_num].goto(new_x, new_y)          # 추출한 x, y 좌표 기준으로 위치 설정\n",
    "        self.head.forward(MOVE_DISTANCE)                       # 제일 앞에 있는 세그먼트 기준으로 20씩 앞으로 움직이기\n",
    "        \n",
    "    # snake 움직임 컨트롤 중 방향키 위를 누르면 snake가 위로 가는 설정\n",
    "    def up(self):\n",
    "        if self.head.heading() != DOWN:                 # 만약 현재 머리의 방향이 아래쪽이 아닌 경우 => 현재 방향이 아래쪽이면 위로 갈수 없음\n",
    "            self.head.setheading(UP)                    # 뱀 머리 기준 90도로 설정\n",
    "    \n",
    "    # snake 움직임 컨트롤 중 방향키 아래를 누르면 snake가 아래로 가는 설정\n",
    "    def down(self):\n",
    "        if self.head.heading() != UP:                   # 만약 현재 머리의 방향이 위쪽이 아닌 경우 => 현재 방향이 위쪽이면 아래로 갈수 없음\n",
    "            self.head.setheading(DOWN)                  # 뱀 머리 기준 270도로 설정\n",
    "    \n",
    "    # snake 움직임 컨트롤 중 방향키 왼쪽을 누르면 snake가 왼쪽으로 가는 설정\n",
    "    def left(self):\n",
    "        if self.head.heading() != RIGHT:                # 만약 현재 머리의 방향이 오른쪽이 아닌 경우 => 현재 방향이 오른쪽이면 왼쪽으로 갈수 없음\n",
    "            self.head.setheading(LEFT)                  # 뱀 머리 기준 180도로 설정\n",
    "    \n",
    "    # snake 움직임 컨트롤 중 방향키 오른쪽을 누르면 snake가 오른쪽으로 가는 설정\n",
    "    def right(self):\n",
    "        if self.head.heading() != LEFT:                 # 만약 현재 머리의 방향이 왼쪽이 아닌 경우 => 현재 방향이 왼쪽이면 오른쪽으로 갈수 없음\n",
    "            self.head.setheading(RIGHT)                 # 뱀 머리 기준 0도로 설정"
   ]
  },
  {
   "cell_type": "code",
   "execution_count": null,
   "metadata": {},
   "outputs": [],
   "source": [
    "# 06_snake_game.py \n",
    "# 점수판, Snake Reset 기능 메소드들 추가\n",
    "\n",
    "# 모듈 불러오기 \n",
    "import time\n",
    "from snake_game_options.snake import Snake  # 만든 Snake 클래스 불러오기\n",
    "from snake_game_options.food import Food    # 만든 Food 클래스 불러오기 \n",
    "from snake_game_options.scoreboard import Scoreboard    # 만든 Scoreboard 클래스 불러오기 \n",
    "from turtle import Screen \n",
    "\n",
    "# Screen 설정 \n",
    "screen = Screen()  # 객체 선언 \n",
    "screen.setup(width=600,height=600)  # screen 크기 설정 (600 X 600)\n",
    "screen.bgcolor(\"black\")   # screen 백그라운컬러 설정 (블랙)\n",
    "screen.title(\"Play Snake Game\")  # 타이틀 설정 \n",
    "screen.tracer(0)       # turtle의 애니메이션을 켜거나 끄기 위한 옵션 (여기서는 끄기) - 뱀 전체가 하나처럼 보이게하기 위함.\n",
    "\n",
    "\n",
    "# 1. Snake 몸통 만들기 \n",
    "\n",
    "# snake 객체 선언 \n",
    "snake = Snake()\n",
    "food = Food()\n",
    "scoreboard = Scoreboard()\n",
    "\n",
    "# 3. snake 움직임 컨트롤을 위한 설정 \n",
    "screen.listen()\n",
    "screen.onkey(snake.up, \"Up\")          # 움직이는 방향을 위한 메소드, 키 설정 - 여기서 키는 키보드 버튼\n",
    "screen.onkey(snake.down, \"Down\")      # 움직이는 방향을 위한 메소드, 키 설정 - 여기서 키는 키보드 버튼\n",
    "screen.onkey(snake.left, \"Left\")      # 움직이는 방향을 위한 메소드, 키 설정 - 여기서 키는 키보드 버튼\n",
    "screen.onkey(snake.right, \"Right\")    # 움직이는 방향을 위한 메소드, 키 설정 - 여기서 키는 키보드 버튼\n",
    "\n",
    "# 2. Snake 움직임 설정 \n",
    "# 동작을 계속하게 하기 위해 while 문 작성 \n",
    "game_is_on = True\n",
    "while game_is_on:\n",
    "    screen.update()    # 세그먼트(뱀)가 모두 만들어지면 화면 갱신\n",
    "    time.sleep(0.1)      # 0.1초 지연\n",
    "    # Snake 움직임을 위해 move 메소드 사용 \n",
    "    snake.move()\n",
    "    \n",
    "    # snake food 및 점수판 설정 (이벤트 생성 1) \n",
    "    if snake.head.distance(food) < 15:     # snake의 머리가 15 픽셀 이내 혹은 그보다 더 가까운 거리에 있다면\n",
    "        food.refresh()                     # food의 refresh 메소드 불러오기 \n",
    "        snake.extend()                     # snake의 꼬리가 늘어나는 메소드 불러오기\n",
    "        scoreboard.increase_score()        # scoreboard의 increase_score 메소드 불러오기\n",
    "\n",
    "    # 벽 충돌 설정 (이벤트 생성 2)\n",
    "    # 만약 x 축이 280보다 크거나, -280보다 작거나, y 축이 280보다 크거나, -280보다 작거나 할 경우 (뱀이 20 X 20이므로 screen 크기에서 20을 뺀 수치로 지정)\n",
    "    if snake.head.xcor() > 280 or snake.head.xcor() < -280 or snake.head.ycor() > 280 or snake.head.ycor() < -280:\n",
    "        scoreboard.reset()                              # 점수 reset\n",
    "        snake.reset()\n",
    "\n",
    "    # 꼬리와 충돌 감지 - 머리가 꼬리의 아무 세그먼트와 충돌하면, 게임이 끝난 것이므로 게임 종료 절차가 진행됨\n",
    "    for segment in snake.segments[1:]:                  # 뱀을 이루는 세그먼트 리스트를 반목문으로 돌려 확인\n",
    "        if snake.head.distance(segment) < 10:           # 만약 뱀의 머리로 부터의 거리가 10보다 작다면\n",
    "            scoreboard.reset()                          # 점수 reset\n",
    "            snake.reset()\n",
    "    \n",
    "# 창 닫힘 설정 \n",
    "screen.exitonclick()   # 커서를 누르면 종료 설정"
   ]
  },
  {
   "cell_type": "markdown",
   "metadata": {},
   "source": [
    "- 여기서 문제가 발생, 우리는 최고 점수가 계속 저장되어 있기를 바란다. 하지만 게임을 종료 시키고 다시 코드를 실행하면, 모든 데이터들은 reset이 되어서 최고 점수까지 다 날려버린다. \n",
    "- 이럴때 어떻게 해야할까? "
   ]
  },
  {
   "cell_type": "markdown",
   "metadata": {},
   "source": [
    "### 2. File 시스템 "
   ]
  },
  {
   "cell_type": "markdown",
   "metadata": {},
   "source": [
    "- 실습을 위해 data 폴더를 만들고 \"my_fie.txt\"를 만들었다. "
   ]
  },
  {
   "cell_type": "markdown",
   "metadata": {},
   "source": [
    "#### Open, Read 메소드 사용\n",
    "- Python에서는 파일을 열수 있는 \"open()\"라는 내장 메소드를 제공한다.\n",
    "- 그리고 해당 파일을 읽을 때는 \"read()\"라는 내잔 메소드를 제공한다."
   ]
  },
  {
   "cell_type": "code",
   "execution_count": 1,
   "metadata": {},
   "outputs": [],
   "source": [
    "# open 메소드를 이용하여 파일 열기 \n",
    "file = open(\"data/my_file.txt\")"
   ]
  },
  {
   "cell_type": "code",
   "execution_count": 2,
   "metadata": {},
   "outputs": [
    {
     "name": "stdout",
     "output_type": "stream",
     "text": [
      "Hello, My name is Gilbert!\n",
      "I am Python Developer. \n",
      "My favorite food is Ramen!!\n"
     ]
    }
   ],
   "source": [
    "# read 메소드를 이용하여 파일 읽기\n",
    "content = file.read()\n",
    "print(content)"
   ]
  },
  {
   "cell_type": "code",
   "execution_count": 3,
   "metadata": {},
   "outputs": [],
   "source": [
    "# 만약 파일 열기가 끝났으면 파일을 닫아줘야한다.\n",
    "file.close()"
   ]
  },
  {
   "cell_type": "markdown",
   "metadata": {},
   "source": [
    "- 그럼 왜 닫아줘야할까? 기본적으로 파이썬이 파일을 열면 우리의 컴퓨터의 자원을 차지하게 된다. 파일은 닫음으로 인해서 컴퓨터 자원 즐 메모리를 확보할 수 있기 때문이다. (되도록이면 꼭 닫아주자)"
   ]
  },
  {
   "cell_type": "markdown",
   "metadata": {},
   "source": [
    "#### with 구문 사용 \n",
    "- 앞서서 우리가 open과 read 메소드를 이용하여 파일을 열고 닫고 할수 있다고 했다. 하지만 코드를 길게 작성후 수동으로 close()를 이용하여 파일을 닫는 일은 귀찮으며, 혹시 깜빡하고 닫지 않을 상황이 벌어진다. \n",
    "- 이때 사용 것이 바로 \"with\" 구문이다. \n",
    "- \"with\"구문과 함께 사용한 파일은 직접 파일을 관리해주기 때문에 close를 따로 사용하지 않아도 된다."
   ]
  },
  {
   "cell_type": "code",
   "execution_count": 4,
   "metadata": {},
   "outputs": [
    {
     "name": "stdout",
     "output_type": "stream",
     "text": [
      "Hello, My name is Gilbert!\n",
      "I am Python Developer. \n",
      "My favorite food is Ramen!!\n"
     ]
    }
   ],
   "source": [
    "# with 구문 예시 \n",
    "with open(\"data/my_file.txt\") as file:\n",
    "    content = file.read()\n",
    "    print(content)"
   ]
  },
  {
   "cell_type": "markdown",
   "metadata": {},
   "source": [
    "- 만약 해당 파일을 쓰고 싶다면 어떻게 할까? 바로 \"write()\"메소드를 사용하면 된다. "
   ]
  },
  {
   "cell_type": "code",
   "execution_count": 5,
   "metadata": {},
   "outputs": [],
   "source": [
    "# 파일 쓰기 - 편집이 가능하게 mode를 w(write)모드로 변경해줘야 한다.\n",
    "with open(\"data/my_file.txt\", mode=\"w\") as file:\n",
    "    file.write(\"Add new text\")"
   ]
  },
  {
   "cell_type": "code",
   "execution_count": 6,
   "metadata": {},
   "outputs": [
    {
     "name": "stdout",
     "output_type": "stream",
     "text": [
      "Add new text\n"
     ]
    }
   ],
   "source": [
    "# 위에서 썼던 파일 확인!\n",
    "with open(\"data/my_file.txt\") as file:\n",
    "    content = file.read()\n",
    "    print(content)"
   ]
  },
  {
   "cell_type": "markdown",
   "metadata": {},
   "source": [
    "- 만약 파일을 쓸 때, 새로 다 바꾸는 것이 아닌 기존에 있던 내용은 그대로 놔두고 추가만 하고 싶을 때는 mode를 a(append)모드로 변경해주면 된다. "
   ]
  },
  {
   "cell_type": "code",
   "execution_count": 7,
   "metadata": {},
   "outputs": [
    {
     "name": "stdout",
     "output_type": "stream",
     "text": [
      "Hello, My name is Gilbert!\n",
      "I am Python Developer. \n",
      "My favorite food is Ramen!!\n"
     ]
    }
   ],
   "source": [
    "with open(\"data/my_file.txt\") as file:\n",
    "    content = file.read()\n",
    "    print(content)"
   ]
  },
  {
   "cell_type": "code",
   "execution_count": 8,
   "metadata": {},
   "outputs": [],
   "source": [
    "# 기존에 있던 파일에 추가 하기 \n",
    "with open(\"data/my_file.txt\", mode=\"a\") as file:\n",
    "    file.write(\"\\nAdd new text\")"
   ]
  },
  {
   "cell_type": "code",
   "execution_count": 9,
   "metadata": {},
   "outputs": [
    {
     "name": "stdout",
     "output_type": "stream",
     "text": [
      "Hello, My name is Gilbert!\n",
      "I am Python Developer. \n",
      "My favorite food is Ramen!!\n",
      "Add new text\n"
     ]
    }
   ],
   "source": [
    "# 파일 추가 확인 \n",
    "with open(\"data/my_file.txt\") as file:\n",
    "    content = file.read()\n",
    "    print(content)"
   ]
  },
  {
   "cell_type": "markdown",
   "metadata": {},
   "source": [
    "- 만약 파일이 존재하지 않아 새파일을 생성해야한다면, 새로운 파일명 및 확장자를 설정한 후 w(write)모드로 설정후 실행해준다."
   ]
  },
  {
   "cell_type": "code",
   "execution_count": 12,
   "metadata": {},
   "outputs": [],
   "source": [
    "# 새로운 파일 생성 -생성완료!\n",
    "with open(\"data/new_file.txt\", mode=\"w\") as file:\n",
    "    file.write(\"New text, New file!\")"
   ]
  },
  {
   "cell_type": "code",
   "execution_count": null,
   "metadata": {},
   "outputs": [],
   "source": []
  }
 ],
 "metadata": {
  "kernelspec": {
   "display_name": "Python 3 (ipykernel)",
   "language": "python",
   "name": "python3"
  },
  "language_info": {
   "codemirror_mode": {
    "name": "ipython",
    "version": 3
   },
   "file_extension": ".py",
   "mimetype": "text/x-python",
   "name": "python",
   "nbconvert_exporter": "python",
   "pygments_lexer": "ipython3",
   "version": "3.8.12"
  }
 },
 "nbformat": 4,
 "nbformat_minor": 2
}
