{
 "cells": [
  {
   "cell_type": "markdown",
   "id": "07ad188a",
   "metadata": {},
   "source": [
    "## Tkinter, 그래픽 사용자 인터페이스와 함수 인자들\n",
    "- 이전에 Turtle 모듈을 사용할 때 그래픽 사용자 인터페이스에 대해 조금 알아보았다. \n",
    "- 이번에는 Tkinter를 이용하여 좀 더 자세하기 알아보고자 한다."
   ]
  },
  {
   "cell_type": "markdown",
   "id": "439849b8",
   "metadata": {},
   "source": [
    "### 1. GUI 역사와 Tkinter 소개 "
   ]
  },
  {
   "cell_type": "markdown",
   "id": "27f98e8d",
   "metadata": {},
   "source": [
    "#### GUI (Graphical User Interface)의 역사 \n",
    "- 1990년대의 GUI는 대단했다. 왜냐하면 전에는 컴퓨터와 대화하기 위해 \"MS-DOS\"와 같이 명령어 창을 쓰는 운영체제를 사용해야 했는데, GUI가 나오고나서 그래픽적이고, 마우스를 사용해서 컴퓨터로 화면에 표현하고 싶은 것을 가리키고 클릭할 수 있게 되었다. \n",
    "- 이런 GUI 운영체제 프로그램을 포함하는 가장 초기 컴퓨터는 Mac의 \"Lisa\" 였다. \n",
    "- 그리고 MS사에서 \"Windows 95\"가 나오면서 GUI는 대중화 되었다."
   ]
  },
  {
   "cell_type": "markdown",
   "id": "0d1e3736",
   "metadata": {},
   "source": [
    "#### Tkinker 소개 \n",
    "- Python 설치시 기본적으로 내장되어 있는 파이썬 표준 라이브러리 중 하나로 쉽고 간단하게 GUI 프로그램을 만들 수 있는 Tool이다.\n",
    "- Tkinker는 타 GUI 프레임워크나 툴킷에 비해 위젯들이 부족하고 UI도 그렇게 이쁘지 않지만, 쉽고 간단하게 빠르게 만들 수 있으며, 기본적으로 가볍다라는 장점이 있다."
   ]
  },
  {
   "cell_type": "markdown",
   "id": "f7bac804",
   "metadata": {},
   "source": [
    "### 2. Tkinter로 Window와 Label 만들기 \n",
    "- [Tkinter Documentation](https://docs.python.org/ko/3/library/tkinter.html)"
   ]
  },
  {
   "cell_type": "code",
   "execution_count": null,
   "id": "0496d86c",
   "metadata": {},
   "outputs": [],
   "source": [
    "# 모듈 볼러오기 - tkinter\n",
    "import tkinter\n",
    "\n",
    "# 윈도우 만들기 \n",
    "window = tkinter.Tk()   # 객체 선언 \n",
    "\n",
    "window.title(\"My First GUI Program\")   # window 타이틀 지정\n",
    "window.minsize(width=500, height=300)  # 실행시 기본사이즈 설정\n",
    "\n",
    "# Label - text, font(폰트명, 크기, 굴기설정 등)설정 가능\n",
    "my_label = tkinter.Label(text=\"I am Label!!\", font=(\"Arial\", 24, \"bold\"))\n",
    "\n",
    "# 컴포넌트(my_label)가 스크린에 보여지기 위해 명시하기 (꼭 해야 window에 출력됨)\n",
    "my_label.pack()                     # 지정하지 않으면 맨위 중앙에 명시 \n",
    "# my_label.pack(side=\"left\")         # 지정한 label 왼쪽으로 명시 \n",
    "# my_label.pack(side=\"bottom\")       # 지정한 label 맨 아래로 명시 \n",
    "# my_label.pack(expand=True)         # window 기준 정중에 명시 \n",
    "\n",
    "\n",
    "window.mainloop()       # tkinter 스크린이 유지되도록 설정 "
   ]
  }
 ],
 "metadata": {
  "kernelspec": {
   "display_name": "Python 3 (ipykernel)",
   "language": "python",
   "name": "python3"
  },
  "language_info": {
   "codemirror_mode": {
    "name": "ipython",
    "version": 3
   },
   "file_extension": ".py",
   "mimetype": "text/x-python",
   "name": "python",
   "nbconvert_exporter": "python",
   "pygments_lexer": "ipython3",
   "version": "3.8.12"
  }
 },
 "nbformat": 4,
 "nbformat_minor": 5
}
