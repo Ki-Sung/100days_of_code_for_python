{
 "cells": [
  {
   "cell_type": "markdown",
   "id": "07ad188a",
   "metadata": {},
   "source": [
    "## Tkinter, 그래픽 사용자 인터페이스와 함수 인자들\n",
    "- 이전에 Turtle 모듈을 사용할 때 그래픽 사용자 인터페이스에 대해 조금 알아보았다. \n",
    "- 이번에는 Tkinter를 이용하여 좀 더 자세하기 알아보고자 한다."
   ]
  },
  {
   "cell_type": "markdown",
   "id": "439849b8",
   "metadata": {},
   "source": [
    "### 1. GUI 역사와 Tkinter 소개 "
   ]
  },
  {
   "cell_type": "markdown",
   "id": "27f98e8d",
   "metadata": {},
   "source": [
    "#### GUI (Graphical User Interface)의 역사 \n",
    "- 1990년대의 GUI는 대단했다. 왜냐하면 전에는 컴퓨터와 대화하기 위해 \"MS-DOS\"와 같이 명령어 창을 쓰는 운영체제를 사용해야 했는데, GUI가 나오고나서 그래픽적이고, 마우스를 사용해서 컴퓨터로 화면에 표현하고 싶은 것을 가리키고 클릭할 수 있게 되었다. \n",
    "- 이런 GUI 운영체제 프로그램을 포함하는 가장 초기 컴퓨터는 Mac의 \"Lisa\" 였다. \n",
    "- 그리고 MS사에서 \"Windows 95\"가 나오면서 GUI는 대중화 되었다."
   ]
  },
  {
   "cell_type": "markdown",
   "id": "0d1e3736",
   "metadata": {},
   "source": [
    "#### Tkinker 소개 \n",
    "- Python 설치시 기본적으로 내장되어 있는 파이썬 표준 라이브러리 중 하나로 쉽고 간단하게 GUI 프로그램을 만들 수 있는 Tool이다.\n",
    "- Tkinker는 타 GUI 프레임워크나 툴킷에 비해 위젯들이 부족하고 UI도 그렇게 이쁘지 않지만, 쉽고 간단하게 빠르게 만들 수 있으며, 기본적으로 가볍다라는 장점이 있다."
   ]
  },
  {
   "cell_type": "code",
   "execution_count": null,
   "id": "1b6302b5",
   "metadata": {},
   "outputs": [],
   "source": []
  }
 ],
 "metadata": {
  "kernelspec": {
   "display_name": "Python 3 (ipykernel)",
   "language": "python",
   "name": "python3"
  },
  "language_info": {
   "codemirror_mode": {
    "name": "ipython",
    "version": 3
   },
   "file_extension": ".py",
   "mimetype": "text/x-python",
   "name": "python",
   "nbconvert_exporter": "python",
   "pygments_lexer": "ipython3",
   "version": "3.8.12"
  }
 },
 "nbformat": 4,
 "nbformat_minor": 5
}
