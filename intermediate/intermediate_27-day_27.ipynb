{
 "cells": [
  {
   "cell_type": "markdown",
   "id": "07ad188a",
   "metadata": {},
   "source": [
    "## Tkinter, 그래픽 사용자 인터페이스와 함수 인자들\n",
    "- 이전에 Turtle 모듈을 사용할 때 그래픽 사용자 인터페이스에 대해 조금 알아보았다. \n",
    "- 이번에는 Tkinter를 이용하여 좀 더 자세하기 알아보고자 한다."
   ]
  },
  {
   "cell_type": "markdown",
   "id": "439849b8",
   "metadata": {},
   "source": [
    "### 1. GUI 역사와 Tkinter 소개 "
   ]
  },
  {
   "cell_type": "markdown",
   "id": "27f98e8d",
   "metadata": {},
   "source": [
    "#### GUI (Graphical User Interface)의 역사 \n",
    "- 1990년대의 GUI는 대단했다. 왜냐하면 전에는 컴퓨터와 대화하기 위해 \"MS-DOS\"와 같이 명령어 창을 쓰는 운영체제를 사용해야 했는데, GUI가 나오고나서 그래픽적이고, 마우스를 사용해서 컴퓨터로 화면에 표현하고 싶은 것을 가리키고 클릭할 수 있게 되었다. \n",
    "- 이런 GUI 운영체제 프로그램을 포함하는 가장 초기 컴퓨터는 Mac의 \"Lisa\" 였다. \n",
    "- 그리고 MS사에서 \"Windows 95\"가 나오면서 GUI는 대중화 되었다."
   ]
  },
  {
   "cell_type": "markdown",
   "id": "0d1e3736",
   "metadata": {},
   "source": [
    "#### Tkinker 소개 \n",
    "- Python 설치시 기본적으로 내장되어 있는 파이썬 표준 라이브러리 중 하나로 쉽고 간단하게 GUI 프로그램을 만들 수 있는 Tool이다.\n",
    "- Tkinker는 타 GUI 프레임워크나 툴킷에 비해 위젯들이 부족하고 UI도 그렇게 이쁘지 않지만, 쉽고 간단하게 빠르게 만들 수 있으며, 기본적으로 가볍다라는 장점이 있다."
   ]
  },
  {
   "cell_type": "markdown",
   "id": "2c9b2ab5",
   "metadata": {},
   "source": [
    "### 2. Tkinter로 Window와 Label 만들기 \n",
    "- [Tkinter Documentation](https://docs.python.org/ko/3/library/tkinter.html)"
   ]
  },
  {
   "cell_type": "code",
   "execution_count": null,
   "id": "0df8549e",
   "metadata": {},
   "outputs": [],
   "source": [
    "# 모듈 볼러오기 - tkinter\n",
    "import tkinter\n",
    "\n",
    "# 윈도우 만들기 \n",
    "window = tkinter.Tk()   # 객체 선언 \n",
    "\n",
    "window.title(\"My First GUI Program\")   # window 타이틀 지정\n",
    "window.minsize(width=500, height=300)  # 실행시 기본사이즈 설정\n",
    "\n",
    "# Label - text, font(폰트명, 크기, 굴기설정 등)설정 가능\n",
    "my_label = tkinter.Label(text=\"I am Label!!\", font=(\"Arial\", 24, \"bold\"))\n",
    "\n",
    "# 컴포넌트(my_label)가 스크린에 보여지기 위해 명시하기 (꼭 해야 window에 출력됨)\n",
    "my_label.pack()                     # 지정하지 않으면 맨위 중앙에 명시 \n",
    "# my_label.pack(side=\"left\")         # 지정한 label 왼쪽으로 명시 \n",
    "# my_label.pack(side=\"bottom\")       # 지정한 label 맨 아래로 명시 \n",
    "# my_label.pack(expand=True)         # window 기준 정중에 명시 \n",
    "\n",
    "\n",
    "window.mainloop()       # tkinter 스크린이 유지되도록 설정 "
   ]
  },
  {
   "cell_type": "markdown",
   "id": "f8298dfe",
   "metadata": {},
   "source": [
    "### 3. 선택적 인수에 기본값 설정하기"
   ]
  },
  {
   "cell_type": "markdown",
   "id": "6a68f1e4",
   "metadata": {},
   "source": [
    "- Tkinter pack안의 매개변수들을 살펴보면 프로퍼티(객체 참조) 목록에 나열되지 않았는데, 단순히 타자로 입력(e.g side=\"left\")하는 것으로 그것들을 사용할 수 있다. 왜일까?\n",
    "- 이것을 알려면 고급 인수에 대해 좀 더 study가 필요하다. \n",
    "    - \"고급인수\"란 더 다양한 범위의 입력을 구체적으로 명시하기 위해 고급 파이썬 인수를 사용하는 방법을 말한다.\n",
    "- 우리는 이미 키워드 인수들이 작동하는 방법을 배웠다. "
   ]
  },
  {
   "cell_type": "code",
   "execution_count": null,
   "id": "721054e2",
   "metadata": {},
   "outputs": [],
   "source": [
    "# keyword argument \n",
    "def my_function(a, b, c):\n",
    "    # Do this with a \n",
    "    # Then do this with b\n",
    "    # Finally do this with c \n",
    "\n",
    "# use function \n",
    "my_function(c=1, a=1, b=2)"
   ]
  },
  {
   "cell_type": "markdown",
   "id": "0141c5c3",
   "metadata": {},
   "source": [
    "- 만약 위의 함수를 사용할 때 10번 중 9번을 \"a=1, b=2, c=3\"이라고 한다면 어떨까? \n",
    "- 함수를 호출할 때, 항상 이런 값들을 써야한다면, 아주 번거로운 작업이 아닐 수 없다. "
   ]
  },
  {
   "cell_type": "markdown",
   "id": "535fd34a",
   "metadata": {},
   "source": [
    "- 그래서 파이썬에서는 기본 값을 갖는 인수를 만들어서 이 문제를 해결하는 방법이 존재한다."
   ]
  },
  {
   "cell_type": "code",
   "execution_count": null,
   "id": "573b708a",
   "metadata": {},
   "outputs": [],
   "source": [
    "# Arguments with Default Value \n",
    "def my_function(a=1, b=2, c=3):\n",
    "    # Do this with a \n",
    "    # Then do this with b\n",
    "    # Finally do this with c \n",
    "    \n",
    "# use function \n",
    "my_function()"
   ]
  },
  {
   "cell_type": "markdown",
   "id": "1cc83612",
   "metadata": {},
   "source": [
    "- 위의 예시와 같이 함수를 만들 때 인수들의 특정 값을 시작 값으로 설정하는 것이다."
   ]
  },
  {
   "cell_type": "code",
   "execution_count": null,
   "id": "e1289ba8",
   "metadata": {},
   "outputs": [],
   "source": [
    "# Arguments with Default Value \n",
    "def my_function(a=1, b=2, c=3):\n",
    "    # Do this with a \n",
    "    # Then do this with b\n",
    "    # Finally do this with c \n",
    "    \n",
    "# use function & change argument value\n",
    "my_function(b=5)"
   ]
  },
  {
   "cell_type": "markdown",
   "id": "956506b6",
   "metadata": {},
   "source": [
    "- 만약 입력값 중 하나를 수정하고 싶다면, 예를들어 b에 디폴트 값인 2대신 임의로 설정 값을 넣는다고 하면, 위와같이 b의 값을 5로 수정이 가능하다. (이때 a와 c의 디폴트 값은 그대로 유지 된다.)"
   ]
  },
  {
   "cell_type": "code",
   "execution_count": null,
   "id": "7c5cc4ff",
   "metadata": {},
   "outputs": [],
   "source": [
    "# turtle example \n",
    "import turtle \n",
    "\n",
    "turtle = turtle.Turtle()\n",
    "turtle.write()"
   ]
  },
  {
   "cell_type": "markdown",
   "id": "24ad2651",
   "metadata": {},
   "source": [
    "- turtle의 write 메소드는 5개의 입력을 갖는데, 각각 \"터틀 클래스와 관련된 self, 쓰여질 값인 arg, move, align, font\"가 있다. \n",
    "- 만약 turtle을 통해 \"some text\"를 쓰고 싶다면 'turtle.write(\"some text\")'라고 입력할 수 있다. \n",
    "- 하지만 다른 입력들은 어떻게 될까? 다른 입력값들은 각각의 디폴트 값들이 존재한다. 즉, 요구되는 인수들에게만 값을 제공하면 된다는 의미이다. (만약 아무것도 입력하지 않으면, 에러가 뜬다.)"
   ]
  },
  {
   "cell_type": "markdown",
   "id": "b40a5cf0",
   "metadata": {},
   "source": [
    "### 4. \"*args\" : 여러 인수를 갖는 함수 만들기 "
   ]
  },
  {
   "cell_type": "markdown",
   "id": "d7fb6af2",
   "metadata": {},
   "source": [
    "- 이번에는 여러 개의 인수를 취할 수 있는 함수를 만들어 보겠다. "
   ]
  },
  {
   "cell_type": "code",
   "execution_count": 1,
   "id": "0d65dc7f",
   "metadata": {},
   "outputs": [
    {
     "data": {
      "text/plain": [
       "8"
      ]
     },
     "execution_count": 1,
     "metadata": {},
     "output_type": "execute_result"
    }
   ],
   "source": [
    "# limited Arguments\n",
    "def add(n1, n2):\n",
    "    return n1 + n2\n",
    "\n",
    "add(n1=5, n2=3)"
   ]
  },
  {
   "cell_type": "markdown",
   "id": "265437cc",
   "metadata": {},
   "source": [
    "- 여기 add라고 불리는 함수가 있다. 이 함수는 n1과 n2를 더한 어떤 값을 반환해주는 함수이다. 겉으로 보기에 기본적으로 문제는 없지만, 두 개보다 더 많은 값을 더하고 싶을 때는 어뗗게 해야할까? 예를들면, n1, n2,n3, n4를 더해야 한다고 한다면?"
   ]
  },
  {
   "cell_type": "code",
   "execution_count": 2,
   "id": "2135ca60",
   "metadata": {},
   "outputs": [
    {
     "name": "stdout",
     "output_type": "stream",
     "text": [
      "3\n",
      "5\n",
      "5\n",
      "8\n"
     ]
    }
   ],
   "source": [
    "# Unlimited Arguments\n",
    "def add(*args):\n",
    "    for n in args:\n",
    "        print(n)\n",
    "        \n",
    "add(3, 5, 5, 8)"
   ]
  },
  {
   "cell_type": "markdown",
   "id": "44ab52db",
   "metadata": {},
   "source": [
    "- 위 첫 번째 함수를 좀 더 유연하게 만들고 몇 개의 인수라도 입력할 수 있도록 하는 방법은 함수 괄안에 아스테리스크(\"*\")를 써서 코드를 바꾸고, 그런 다음 매개변수의 이름도 바꾸는 것이다.\n",
    "- arg라는 이름은 관습적으로 대부분의 파이썬 개발자들이 사용한다.(간단히 말해 인수다.) \n",
    "- 여기서 아스테리스크(\"*\")가 중요한데, 이것의 의미는 파이썬에게 이 함수 add가 몇 개의 인수라도 모두 허용한다는 것을 의미한다. \n",
    "- 그리고 인수들을 반복 실행할 수 있는데, 그 인수는 튜플 타입이고, 그 인수들로 원하는 것은 무엇이든 할 수있다. "
   ]
  },
  {
   "cell_type": "code",
   "execution_count": 5,
   "id": "574b1fa7",
   "metadata": {},
   "outputs": [
    {
     "data": {
      "text/plain": [
       "22"
      ]
     },
     "execution_count": 5,
     "metadata": {},
     "output_type": "execute_result"
    }
   ],
   "source": [
    "# solution 1\n",
    "def add(num, *args):\n",
    "    total = num\n",
    "    for n in args:\n",
    "        total = total + n\n",
    "    return total\n",
    "        \n",
    "add(5, 4, 6, 7)"
   ]
  },
  {
   "cell_type": "code",
   "execution_count": 7,
   "id": "4712a910",
   "metadata": {},
   "outputs": [
    {
     "data": {
      "text/plain": [
       "22"
      ]
     },
     "execution_count": 7,
     "metadata": {},
     "output_type": "execute_result"
    }
   ],
   "source": [
    "# solution 2\n",
    "# 2. 함수 선언 \n",
    "def add(*args):           # 입력한 인수로 함수 선언 (튜플 형식)\n",
    "    # args[0]             # 인덱스로 접근 가능 \n",
    "    sum_total = 0         # 더하기 위한 최초 수 선언 \n",
    "    for n in args:        # 받은 인수 반복하기 \n",
    "        sum_total += n    # sum_total과 n 값 더하기 \n",
    "    \n",
    "    return sum_total      # 최종적으로 더한 값인 sum_total로 반환\n",
    "\n",
    "# 1. 함수안에 들어갈 인수 설정 \n",
    "total = add(5, 4, 6, 7) \n",
    "total"
   ]
  },
  {
   "cell_type": "markdown",
   "id": "6ea5b8d1",
   "metadata": {},
   "source": [
    "- \"*args\"가 기본적으로 튜플이기 때문에, 인덱스로 접근할 수도 있다. \n",
    "- 그래서 아스테리스크를 사용한 가변 인수가 가변 위치 인수라고도 불리운다."
   ]
  },
  {
   "cell_type": "markdown",
   "id": "6e33efdd",
   "metadata": {},
   "source": [
    "- 위와 같은 방법으로 함수를 정의해서 무제한 또는 구체화되지 않은 입력수를 구체적으로 명시하는 방법이다. 다른말로 함수에 전달되는 인수의 수는 변할 수 있는데, 아스테리스크(\"*\") 연산자가 튜블에 있는 모든 인수를 수집한다 라고 말할 수 있다."
   ]
  },
  {
   "cell_type": "markdown",
   "id": "81a7202c",
   "metadata": {},
   "source": [
    "### 5. \" **kwargs\": 임의의 숫자 키워드 인수 다루기 "
   ]
  },
  {
   "cell_type": "code",
   "execution_count": 8,
   "id": "53a90dce",
   "metadata": {},
   "outputs": [
    {
     "name": "stdout",
     "output_type": "stream",
     "text": [
      "{'add': 3, 'multiply': 5}\n"
     ]
    }
   ],
   "source": [
    "def calculate(**kwargs):\n",
    "    print(kwargs)\n",
    "    \n",
    "calculate(add=3, multiply=5)"
   ]
  },
  {
   "cell_type": "markdown",
   "id": "9e1f74a7",
   "metadata": {},
   "source": [
    "- \"calculate\"라는 함수를 생성해줄 때 인수를 \"**kwargs\" 지정해주는데, 여기서 \"**kwargs\"는 keyword argument라고 부른다. \n",
    "- 그리고 이 인수는 calculate 함수를 호출할 수 있도록 하고, 키워드 인수를 전달한다. 에를 들면 \"add=3, multiply=5\"라고 해주면, 해당 인수들은 \"**kwargs\"로 바뀌는데, 기본적으로 딕셔너리이다. \n",
    "- 해당 딕셔너리는 각각의 워드 인수key와 value을 나타낸다. add는 key, 3은 value를, multiply는 key, 5는 value를 나타낸다. \n"
   ]
  },
  {
   "cell_type": "code",
   "execution_count": 10,
   "id": "7f759e29",
   "metadata": {},
   "outputs": [
    {
     "name": "stdout",
     "output_type": "stream",
     "text": [
      "{'add': 3, 'multiply': 5}\n",
      "3\n"
     ]
    }
   ],
   "source": [
    "# key, value 출력 - kwargs 확인 \n",
    "def calculate(**kwargs):\n",
    "    print(kwargs)\n",
    "#     for key, value in kwargs.items():\n",
    "#         print(key)\n",
    "#         print(value)\n",
    "    print(kwargs['add'])\n",
    "    \n",
    "calculate(add=3, multiply=5)"
   ]
  },
  {
   "cell_type": "code",
   "execution_count": 12,
   "id": "7d6f5c5b",
   "metadata": {},
   "outputs": [
    {
     "name": "stdout",
     "output_type": "stream",
     "text": [
      "2 {'add': 3, 'multiply': 5}\n"
     ]
    }
   ],
   "source": [
    "# kwargs앞에 인수 넣기 \n",
    "def calculate(n, **kwargs):\n",
    "    print(n, kwargs)\n",
    "    \n",
    "calculate(2, add=3, multiply=5)"
   ]
  },
  {
   "cell_type": "markdown",
   "id": "95284381",
   "metadata": {},
   "source": [
    "- 위와 같이 인수로 n을 호출해서 맨 처음으로 n을 전달하고, 나머지 들은 딕셔너리로 전달한다."
   ]
  },
  {
   "cell_type": "code",
   "execution_count": 13,
   "id": "2ac88adf",
   "metadata": {},
   "outputs": [
    {
     "name": "stdout",
     "output_type": "stream",
     "text": [
      "{'add': 3, 'multiply': 5}\n",
      "25\n"
     ]
    }
   ],
   "source": [
    "# 인수와 kwargs를 조합해서 계산기 함수 만들기\n",
    "def calculate(n, **kwargs):\n",
    "    print(kwargs)\n",
    "    n += kwargs[\"add\"]\n",
    "    n *= kwargs[\"multiply\"]\n",
    "    print(n)\n",
    "    \n",
    "calculate(2, add=3, multiply=5)"
   ]
  },
  {
   "cell_type": "markdown",
   "id": "e8800ae1",
   "metadata": {},
   "source": [
    "- 다른인수와 kwargs를 조합해서 계산 함수를 만들었는데, 동작 방식은 이러하다. \n",
    "    1. n 인수에 2, kwargs에 각각 add:3, multiply:5의 딕셔너리가 들어간.\n",
    "    2. 첫 번째, n 인수와 add value를 더하고 n을 저장한다.\n",
    "    3. 두 번째, 더한 n 인수와 multiply value를 곱하고 n을 저장한다. \n",
    "    4. 최종 값을 저장한다. -> 25 (1. 2 + 3 = 5, 2. 5 * 5 = 25) "
   ]
  },
  {
   "cell_type": "code",
   "execution_count": 21,
   "id": "4ebf6ad4",
   "metadata": {},
   "outputs": [],
   "source": [
    "# 클래스로 만들어보기 - 자동차 정보에 관한 클래스\n",
    "class Car:\n",
    "    def __init__(self, **kw):\n",
    "        self.make = kw.get('make')\n",
    "        self.model = kw.get('model')\n",
    "        self.color = kw.get('color')\n",
    "        self.seats = kw.get('seats')"
   ]
  },
  {
   "cell_type": "markdown",
   "id": "c322f1a7",
   "metadata": {},
   "source": [
    "- 위와 같이 실제로 kw가 들어가는 클래스를 만들수 있다. \n",
    "- Car라는 클래스를 선언하고, 초기화 메소드에 인수로 \"self\"와 \"**kw\" 또는 \"**kwargs\"를 넣어준다. \n",
    "- 그리고 kw는 이 클래스에서 새로운 객체가 초기화될 때, 우리가 전달하는 모든 선택적 인수가 될 것이다. "
   ]
  },
  {
   "cell_type": "code",
   "execution_count": 23,
   "id": "1180dd74",
   "metadata": {},
   "outputs": [
    {
     "name": "stdout",
     "output_type": "stream",
     "text": [
      "None\n"
     ]
    }
   ],
   "source": [
    "my_car = Car(make = \"Nissan\")\n",
    "print(my_car.model)"
   ]
  },
  {
   "cell_type": "code",
   "execution_count": 26,
   "id": "6a44b281",
   "metadata": {},
   "outputs": [
    {
     "name": "stdout",
     "output_type": "stream",
     "text": [
      "GT-R\n"
     ]
    }
   ],
   "source": [
    "my_car = Car(make = \"Nissan\", model=\"GT-R\")\n",
    "print(my_car.model)"
   ]
  },
  {
   "cell_type": "code",
   "execution_count": 25,
   "id": "edb78b9e",
   "metadata": {},
   "outputs": [
    {
     "name": "stdout",
     "output_type": "stream",
     "text": [
      "yellow\n"
     ]
    }
   ],
   "source": [
    "my_car = Car(color=\"yellow\")\n",
    "print(my_car.color)"
   ]
  },
  {
   "cell_type": "markdown",
   "id": "8fdc0d02",
   "metadata": {},
   "source": [
    "- 여기서 눈여겨 봐야할 점은, make 이나 model이 초기화될 때 보여졌던 프로퍼티들을 보지 못했을 것이다. (프로퍼티들을 살펴보면 **kw라고만 나올 것이다.)\n",
    "- 그리고 만약 인수들 중 하나를 구체적으로 명시하지 않으면, None 값으로 반환한다. (이건 키워드 인수에 get 함수를 사용해서 가능)"
   ]
  },
  {
   "cell_type": "markdown",
   "id": "7319017b",
   "metadata": {},
   "source": [
    "- 이런 방식으로 동작하는 이유는 해당 모듈이 다른 언어에서 변환된 것이 대부분이고, 실행할 때 가장 효과적인 방법이기 때문이다. 더 많은 파이썬 모듈은 위와 같인 방식을 사용하는 경우가 대부분이다. "
   ]
  },
  {
   "cell_type": "code",
   "execution_count": null,
   "id": "e374e907",
   "metadata": {},
   "outputs": [],
   "source": []
  }
 ],
 "metadata": {
  "kernelspec": {
   "display_name": "Python 3 (ipykernel)",
   "language": "python",
   "name": "python3"
  },
  "language_info": {
   "codemirror_mode": {
    "name": "ipython",
    "version": 3
   },
   "file_extension": ".py",
   "mimetype": "text/x-python",
   "name": "python",
   "nbconvert_exporter": "python",
   "pygments_lexer": "ipython3",
   "version": "3.8.12"
  }
 },
 "nbformat": 4,
 "nbformat_minor": 5
}
