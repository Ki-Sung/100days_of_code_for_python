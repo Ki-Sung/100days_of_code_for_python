{
 "cells": [
  {
   "cell_type": "markdown",
   "id": "72b4d275",
   "metadata": {},
   "source": [
    "- 절차 지형 프로그래밍(procedural programming)에서 우리는 특정한 일을 하는 절차나 함수들을 만든다! (한 절차가 다른 절차로 이어지고 등등)\n",
    "- 아주 복잡한 프로젝트를 코딩할 때도 간단한 관계를 유지하려면, 객체지향 패러다임이 필요하다!\n",
    "- 객체지향 프로그래밍(Object Oriented Programming)은 컴퓨터 프로그램을 명령어의 목록으로 보는 시각에서 벗어나 여러 개의 독립된 단위, 즉 \"객체\"들의 모임으로 파악하고자 하는 것이다."
   ]
  },
  {
   "cell_type": "markdown",
   "id": "63f8bfbc",
   "metadata": {},
   "source": [
    "- 그럼 OOP는 어떻게 사용할까? 식당 관리의 예를 들었을 때, 세 가지 유형의 직원(요리사, 웨이터, 청소부)를 고용하고 매니저가 이 세 유형의 직원들을 관리한다. 여기서 객체 지향 프로그래밍이라고 불리는 이유가 나오는데, 그것은 실생활의 객체의 모델을 만들려고 하기 때문이다. 가상의 식당을 예로들어보자! \n",
    "    - 웨이터 모델 \n",
    "        - has: is_holding_plate = True / tables_responsible = [4, 5, 6]\n",
    "        - dose: def take_order(table, order): / def take_payment(amount):\n",
    "        - 위의 has는 attributes(속성)을 does는 method(매개변수)의 기능을 한다고 볼 수 있다. \n",
    "    - 그래서 여기서 가장 중요한 요소는 attribute(속성)과 method(매개변수)이다. \n",
    "- 객체가 가진 것은 attribute이고, 변수와 함께 모델이 만들어지고 객체가 할 수 있는 것은 method라 부르며 함수에 의해 모델이 만들어진다. \n",
    "- 따라서 근본적으로 객체가 같은 것 내에서 어떤 데이터와 어떤 기능을 완전히 결합하는 방식이다.\n",
    "- 그리고 같은 유형에서도 다양한 객체를 만들 수 있다. e.g) 웨이터 헨리, 웨이터 소피아 등등\n",
    "- 여기서 웨이터는 class(OPP에서 청사진 또는 유형)이고, 웨이터 헨리, 소피아를 object(청사진으로 부터 만들어진 개별 객체들)라고 한다. "
   ]
  },
  {
   "cell_type": "code",
   "execution_count": 2,
   "id": "482f82a8",
   "metadata": {},
   "outputs": [
    {
     "data": {
      "text/plain": [
       "<turtle.Turtle at 0x1081a4f70>"
      ]
     },
     "execution_count": 2,
     "metadata": {},
     "output_type": "execute_result"
    }
   ],
   "source": [
    "import turtle\n",
    "\n",
    "# timy -> 객체 / Turtle -> 클래스 / () -> 클래스 객체 활성화 역할\n",
    "\n",
    "timy = turtle.Turtle()"
   ]
  },
  {
   "cell_type": "code",
   "execution_count": 1,
   "id": "2c28e9cc",
   "metadata": {},
   "outputs": [],
   "source": [
    "from turtle import Turtle, Screen"
   ]
  },
  {
   "cell_type": "code",
   "execution_count": 3,
   "id": "8b9a1a2a",
   "metadata": {},
   "outputs": [
    {
     "name": "stdout",
     "output_type": "stream",
     "text": [
      "<turtle.Turtle object at 0x107401d60>\n",
      "300\n"
     ]
    }
   ],
   "source": [
    "# 위의 코드를 간소화 \n",
    "from turtle import Turtle, Screen\n",
    "\n",
    "timy = Turtle()\n",
    "print(timy)\n",
    "timy.shape(\"turtle\")  # turtle 모양 설정 \n",
    "timy.color(\"coral\")   # turtle 색상 설정 \n",
    "timy.forward(100)\n",
    "\n",
    "my_screen = Screen()  # 나타내기\n",
    "\n",
    "# my_screen - 객체 / canvheight - 속성\n",
    "print(my_screen.canvheight)    # 현재 캔버스 크기 \n",
    "\n",
    "# exitonclick() - 메소드\n",
    "my_screen.exitonclick()"
   ]
  },
  {
   "cell_type": "code",
   "execution_count": null,
   "id": "e1891bff",
   "metadata": {},
   "outputs": [],
   "source": []
  },
  {
   "cell_type": "code",
   "execution_count": null,
   "id": "a1169d13",
   "metadata": {},
   "outputs": [],
   "source": []
  }
 ],
 "metadata": {
  "kernelspec": {
   "display_name": "Python 3 (ipykernel)",
   "language": "python",
   "name": "python3"
  },
  "language_info": {
   "codemirror_mode": {
    "name": "ipython",
    "version": 3
   },
   "file_extension": ".py",
   "mimetype": "text/x-python",
   "name": "python",
   "nbconvert_exporter": "python",
   "pygments_lexer": "ipython3",
   "version": "3.8.12"
  }
 },
 "nbformat": 4,
 "nbformat_minor": 5
}
