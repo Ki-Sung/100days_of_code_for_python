{
 "cells": [
  {
   "cell_type": "markdown",
   "id": "84bbdd19",
   "metadata": {},
   "source": [
    "- 절차 지형 프로그래밍(procedural programming)에서 우리는 특정한 일을 하는 절차나 함수들을 만든다!\n",
    "- 아주 복잡한 프로젝트를 코딩할 때도 간단한 관계를 유지하려면, 객체지향 패러다임이 필요하다!\n",
    "- 객체지향 프로그래밍(Object Oriented Programming)은 컴퓨터 프로그램을 명령어의 목록으로 보는 시각에서 벗어나 여러 개의 독립된 단위, 즉 \"객체\"들의 모임으로 파악하고자 하는 것이다."
   ]
  },
  {
   "cell_type": "markdown",
   "id": "f60c6312",
   "metadata": {},
   "source": [
    "- 그럼 OOP는 어떻게 사용할까? \n",
    "    - 가장 중요한 요소는 attribute(속성)과 method(매개변수)이다. "
   ]
  },
  {
   "cell_type": "code",
   "execution_count": null,
   "id": "20fd9f84",
   "metadata": {},
   "outputs": [],
   "source": []
  },
  {
   "cell_type": "code",
   "execution_count": null,
   "id": "8db9d1c4",
   "metadata": {},
   "outputs": [],
   "source": []
  },
  {
   "cell_type": "code",
   "execution_count": null,
   "id": "733544b9",
   "metadata": {},
   "outputs": [],
   "source": []
  }
 ],
 "metadata": {
  "kernelspec": {
   "display_name": "Python 3 (ipykernel)",
   "language": "python",
   "name": "python3"
  },
  "language_info": {
   "codemirror_mode": {
    "name": "ipython",
    "version": 3
   },
   "file_extension": ".py",
   "mimetype": "text/x-python",
   "name": "python",
   "nbconvert_exporter": "python",
   "pygments_lexer": "ipython3",
   "version": "3.8.12"
  }
 },
 "nbformat": 4,
 "nbformat_minor": 5
}
