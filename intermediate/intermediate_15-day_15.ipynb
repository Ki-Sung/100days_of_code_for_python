{
 "cells": [
  {
   "cell_type": "markdown",
   "id": "fe2a99f4",
   "metadata": {},
   "source": [
    "### Coffe Machine Program Requirements \n",
    "\n",
    "1. Prompt user by asking “What would you like? (espresso/latte/cappuccino):”\n",
    "    1. Check the user’s input to decide what to do next.\n",
    "    2. The prompt should show every time action has completed, e.g. once the drink is dispensed. The prompt should show again to serve the next customer.\n",
    "    \n",
    "2. Turn off the Coffee Machine by entering “off” to the prompt.\n",
    "    1. For maintainers of the coffee machine, they can use “off” as the secret word to turn off the machine. Your code should end execution when this happens.\n",
    "\n",
    "3. Print report.\n",
    "    1. When the user enters “report” to the prompt, a report should be generated that shows the current resource values. e.g.\n",
    "        - Water: 100ml\n",
    "        - Milk: 50ml\n",
    "        - Coffee: 76g\n",
    "        - Money: `$2.5`\n",
    "        \n",
    "4. Check resources sufficient?\n",
    "    1. When the user chooses a drink, the program should check if there are enough resources to make that drink.\n",
    "    2. E.g. if Latte requires 200ml water but there is only 100ml left in the machine. It shouldnot continue to make the drink but print: “Sorry there is not enough water.”\n",
    "    3. The same should happen if another resource is depleted, e.g. milk or coffee.\n",
    "\n",
    "5. Process coins.\n",
    "    1. If there are sufficient resources to make the drink selected, then the program should prompt the user to insert coins.\n",
    "    2. Remember that quarters = `$0.25`, dimes = `$0.10`, nickles = `$0.05`, pennies = `$0.01`\n",
    "    3. Calculate the monetary value of the coins inserted. E.g. 1 quarter, 2 dimes, 1 nickel, 2 pennies = 0.25 + 0.1 x 2 + 0.05 + 0.01 x 2 = `$0.52`\n",
    "\n",
    "6. Check transaction successful?\n",
    "    1. Check that the user has inserted enough money to purchase the drink they selected. E.g Latte cost `$2.50`, but they only inserted `$0.52` then after counting the coins the program should say “Sorry that's not enough money. Money refunded.”.\n",
    "    2. But if the user has inserted enough money, then the cost of the drink gets added to the machine as the profit and this will be reflected the next time “report” is triggered. E.g.\n",
    "        - Water: 100ml\n",
    "        - Milk: 50ml\n",
    "        - Coffee: 76g\n",
    "        - Money: `$2.5`\n",
    "    3. If the user has inserted too much money, the machine should offer change. E.g. “Here is `$2.45` dollars in change.” The change should be rounded to 2 decimal places.\n",
    "\n",
    "7. Make Coffee.\n",
    "    1. If the transaction is successful and there are enough resources to make the drink the user selected, then the ingredients to make the drink should be deducted from the coffee machine resources.\n",
    "        - E.g. report before purchasing latte:\n",
    "            - Water: 300ml\n",
    "            - Milk: 200ml\n",
    "            - Coffee: 100g\n",
    "            - Money: `$0`\n",
    "        - Report after purchasing latte:\n",
    "            - Water: 100ml\n",
    "            - Milk: 50ml\n",
    "            -Coffee: 76g\n",
    "            - Money: `$2.5`\n",
    "    2. Once all resources have been deducted, tell the user “Here is your latte. Enjoy!”. Iflatte was their choice of drink."
   ]
  },
  {
   "cell_type": "code",
   "execution_count": null,
   "id": "97ce7237",
   "metadata": {},
   "outputs": [],
   "source": [
    "## coffe machine project \n",
    "## 1. Make 3 hot flavours\n",
    "# 1-1. Espresso - 500ml water, 18g coffe, $1.50\n",
    "# 1-2. Latte - 200ml water, 24g coffee, 150ml milk, $2.50\n",
    "# 1-3. Capucino - 250ml water, 24g coffee, 100ml milk, $3.00\n",
    "# 1-4. start water 300ml, milk 200ml, coffee 100g \n",
    "\n",
    "## 2. Coine Operated \n",
    "# 2-1. Penny - 1cent - $0.01\n",
    "# 2-2. Nickel - 5cent - $0.05\n",
    "# 2-3. Dime - 10cent - $0.10\n",
    "# 2-4. Quater - 25cent - $0.25\n",
    "\n",
    "## 3. Program Requirements \n",
    "# 1. Print report \n",
    "# 2. Check resources sufficient\n",
    "# 3. Process coins\n",
    "# 4. Check transaction successful\n",
    "# 5. Make coffee "
   ]
  },
  {
   "cell_type": "code",
   "execution_count": 3,
   "id": "96057274",
   "metadata": {},
   "outputs": [],
   "source": [
    "MENU = {\n",
    "    \"espresso\": {\n",
    "        \"ingredients\": {\n",
    "            \"water\": 50,\n",
    "            \"coffee\": 18,\n",
    "        },\n",
    "        \"cost\": 1.5,\n",
    "    },\n",
    "    \"latte\": {\n",
    "        \"ingredients\": {\n",
    "            \"water\": 200,\n",
    "            \"milk\": 150,\n",
    "            \"coffee\": 24,\n",
    "        },\n",
    "        \"cost\": 2.5,\n",
    "    },\n",
    "    \"cappuccino\": {\n",
    "        \"ingredients\": {\n",
    "            \"water\": 250,\n",
    "            \"milk\": 100,\n",
    "            \"coffee\": 24,\n",
    "        },\n",
    "        \"cost\": 3.0,\n",
    "    }\n",
    "}\n",
    "\n",
    "resources = {\n",
    "    \"water\": 300,\n",
    "    \"milk\": 200,\n",
    "    \"coffee\": 100,\n",
    "}"
   ]
  },
  {
   "cell_type": "code",
   "execution_count": 4,
   "id": "c63be889",
   "metadata": {},
   "outputs": [
    {
     "name": "stdout",
     "output_type": "stream",
     "text": [
      "What would you like? (espresso/latte/cappuccino): report\n"
     ]
    }
   ],
   "source": [
    "# 1. Prompt user by asking “What would you like? (espresso/latte/cappuccino):”\n",
    "ask_prompt = input(\"What would you like? (espresso/latte/cappuccino): \")"
   ]
  },
  {
   "cell_type": "code",
   "execution_count": 6,
   "id": "e82023e8",
   "metadata": {},
   "outputs": [
    {
     "name": "stdout",
     "output_type": "stream",
     "text": [
      "Watter: 300ml\n",
      "Milk: 200ml\n",
      "Coffee: 100g\n",
      "Money: $0\n"
     ]
    }
   ],
   "source": [
    "# if input \"report\"\n",
    "water = 300\n",
    "milk = 200\n",
    "coffee = 100\n",
    "money = 0\n",
    "\n",
    "print(f\"Watter: {water}ml\\nMilk: {milk}ml\\nCoffee: {coffee}g\\nMoney: ${money}\")"
   ]
  },
  {
   "cell_type": "code",
   "execution_count": 11,
   "id": "f19ffcd2",
   "metadata": {},
   "outputs": [
    {
     "name": "stdout",
     "output_type": "stream",
     "text": [
      "What would you like? (espresso/latte/cappuccino): ESPRESSO\n"
     ]
    }
   ],
   "source": [
    "# 2. Prompt user by asking “What would you like? (espresso/latte/cappuccino):”\n",
    "ask_prompt = input(\"What would you like? (espresso/latte/cappuccino): \").lower()"
   ]
  },
  {
   "cell_type": "code",
   "execution_count": 8,
   "id": "a652faf7",
   "metadata": {},
   "outputs": [
    {
     "name": "stdout",
     "output_type": "stream",
     "text": [
      "Please insert coins\n",
      "How maney quarters?: 4\n",
      "How maney dimes?: 5\n",
      "How maney nickles?: 0\n",
      "How maney pennies?: 0\n",
      "Here is $0.0 in change.\n",
      "Here is your espresso ☕️.Enjoy!\n"
     ]
    }
   ],
   "source": [
    "# if input espresso - cost -> $1.5\n",
    "# use resource - watter: 50 (300 - 50) / coffe: 18 (100 - 18)\n",
    "# ask money - how maney quarters?: \n",
    "# input after Here your espresso. Enjoy!\n",
    "print(\"Please insert coins\")\n",
    "quarters = int(input(\"How maney quarters?: \"))\n",
    "dimes = int(input(\"How maney dimes?: \"))\n",
    "nickles = int(input(\"How maney nickles?: \"))\n",
    "pennies = int(input(\"How maney pennies?: \"))\n",
    "print(\"Here is $0.0 in change.\")\n",
    "print(\"Here is your espresso ☕️.Enjoy!\")"
   ]
  },
  {
   "cell_type": "code",
   "execution_count": 9,
   "id": "54e7e658",
   "metadata": {},
   "outputs": [
    {
     "name": "stdout",
     "output_type": "stream",
     "text": [
      "Watter: 250ml\n",
      "Milk: 200ml\n",
      "Coffee: 82g\n",
      "Money: $1.5\n"
     ]
    }
   ],
   "source": [
    "# if input \"report\"\n",
    "water = 300 - 50\n",
    "milk = 200 - 0\n",
    "coffee = 100 - 18\n",
    "money = 0 + 1.5\n",
    "\n",
    "print(f\"Watter: {water}ml\\nMilk: {milk}ml\\nCoffee: {coffee}g\\nMoney: ${money}\")"
   ]
  },
  {
   "cell_type": "code",
   "execution_count": 10,
   "id": "8a0643e1",
   "metadata": {},
   "outputs": [
    {
     "name": "stdout",
     "output_type": "stream",
     "text": [
      "What would you like? (espresso/latte/cappuccino): off\n"
     ]
    }
   ],
   "source": [
    "ask_prompt = input(\"What would you like? (espresso/latte/cappuccino): \").lower()"
   ]
  },
  {
   "cell_type": "code",
   "execution_count": 13,
   "id": "ccd5261d",
   "metadata": {},
   "outputs": [
    {
     "data": {
      "text/plain": [
       "300"
      ]
     },
     "execution_count": 13,
     "metadata": {},
     "output_type": "execute_result"
    }
   ],
   "source": [
    "resources[\"water\"]"
   ]
  },
  {
   "cell_type": "code",
   "execution_count": 27,
   "id": "7356f17b",
   "metadata": {},
   "outputs": [
    {
     "data": {
      "text/plain": [
       "1.5"
      ]
     },
     "execution_count": 27,
     "metadata": {},
     "output_type": "execute_result"
    }
   ],
   "source": [
    "MENU['espresso']['cost']"
   ]
  },
  {
   "cell_type": "code",
   "execution_count": 36,
   "id": "c1d32dc8",
   "metadata": {},
   "outputs": [
    {
     "data": {
      "text/plain": [
       "{'espresso': {'ingredients': {'water': 50, 'coffee': 18}, 'cost': 1.5},\n",
       " 'latte': {'ingredients': {'water': 200, 'milk': 150, 'coffee': 24},\n",
       "  'cost': 2.5},\n",
       " 'cappuccino': {'ingredients': {'water': 250, 'milk': 100, 'coffee': 24},\n",
       "  'cost': 3.0}}"
      ]
     },
     "execution_count": 36,
     "metadata": {},
     "output_type": "execute_result"
    }
   ],
   "source": [
    "MENU"
   ]
  },
  {
   "cell_type": "code",
   "execution_count": 37,
   "id": "42bf2988",
   "metadata": {},
   "outputs": [
    {
     "data": {
      "text/plain": [
       "50"
      ]
     },
     "execution_count": 37,
     "metadata": {},
     "output_type": "execute_result"
    }
   ],
   "source": [
    "MENU['espresso']['ingredients']['water']"
   ]
  },
  {
   "cell_type": "code",
   "execution_count": 22,
   "id": "c0d86c19",
   "metadata": {},
   "outputs": [
    {
     "name": "stdout",
     "output_type": "stream",
     "text": [
      "300 200 100\n"
     ]
    }
   ],
   "source": [
    "# resouce \n",
    "water = resources['water']\n",
    "milk = resources['milk']\n",
    "coffee = resources['coffee']\n",
    "\n",
    "print(water, milk, coffee)"
   ]
  },
  {
   "cell_type": "code",
   "execution_count": 42,
   "id": "49856dec",
   "metadata": {},
   "outputs": [
    {
     "name": "stdout",
     "output_type": "stream",
     "text": [
      "What would you like? (espresso/latte/cappuccino): off\n",
      "Bye Bye\n"
     ]
    }
   ],
   "source": [
    "# print report \n",
    "ask_prompt = input(\"What would you like? (espresso/latte/cappuccino): \").lower()\n",
    "\n",
    "# resouce \n",
    "water = resources['water']\n",
    "milk = resources['milk']\n",
    "coffee = resources['coffee']\n",
    "money = 0\n",
    "\n",
    "# check resource \n",
    "if ask_prompt == \"report\":\n",
    "    print(f\"Watter: {water}ml\\nMilk: {milk}ml\\nCoffee: {coffee}g\\nMoney: ${money}\")\n",
    "\n",
    "elif ask_prompt == 'espresso':\n",
    "    # check resource \n",
    "    water -= MENU['espresso']['ingredients']['water']\n",
    "    coffee -= MENU['espresso']['ingredients']['coffee']\n",
    "    money += MENU['espresso']['cost']\n",
    "    \n",
    "    # process coins\n",
    "    print(\"Please insert coins\")\n",
    "    quarters = int(input(\"How maney quarters?: \"))\n",
    "    dimes = int(input(\"How many dimes?: \"))\n",
    "    nickles = int(input(\"How many nickles?: \"))\n",
    "    pennies = int(input(\"How many pennies?: \"))\n",
    "    total_coin = 0.25 * quarters + 0.10 * dimes + 0.05 * nickles + 0.01 * pennies\n",
    "    change = total_coin - MENU['espresso']['cost']\n",
    "    \n",
    "    # print(round(total_coin, 2)) \n",
    "    print(f\"Here is ${change:.2f} in change\")\n",
    "    print(f\"Here is your {ask_prompt} ☕️. Enjoy!\")\n",
    "    print(f\"Watter: {water}ml\\nMilk: {milk}ml\\nCoffee: {coffee}g\\nMoney: ${money}\")\n",
    "else:\n",
    "    print(\"Bye Bye\")"
   ]
  },
  {
   "cell_type": "code",
   "execution_count": 53,
   "id": "df6a4a0f",
   "metadata": {},
   "outputs": [
    {
     "name": "stdout",
     "output_type": "stream",
     "text": [
      "What would you like? (espresso/latte/cappuccino): report\n",
      "Watter: 300ml\n",
      "Milk: 200ml\n",
      "Coffee: 100g\n",
      "Money: $0\n",
      "What would you like? (espresso/latte/cappuccino): espresso\n",
      "Please insert coins\n",
      "How maney quarters?: 6\n",
      "How many dimes?: 4\n",
      "How many nickles?: 2\n",
      "How many pennies?: 1\n",
      "Here is $0.51 in change\n",
      "Here is your espresso ☕️. Enjoy!\n",
      "Watter: 250ml\n",
      "Milk: 200ml\n",
      "Coffee: 82g\n",
      "Money: $1.5\n",
      "What would you like? (espresso/latte/cappuccino): report\n",
      "Watter: 250ml\n",
      "Milk: 200ml\n",
      "Coffee: 82g\n",
      "Money: $1.5\n",
      "What would you like? (espresso/latte/cappuccino): espresso\n",
      "Please insert coins\n",
      "How maney quarters?: 3\n",
      "How many dimes?: 2\n",
      "How many nickles?: 1\n",
      "How many pennies?: 3\n",
      "Sorry, that's not enough money. Money refunded.\n",
      "What would you like? (espresso/latte/cappuccino): report\n",
      "Watter: 250ml\n",
      "Milk: 200ml\n",
      "Coffee: 82g\n",
      "Money: $1.5\n",
      "What would you like? (espresso/latte/cappuccino): off\n"
     ]
    }
   ],
   "source": [
    "# resouce\n",
    "water = resources['water']\n",
    "milk = resources['milk']\n",
    "coffee = resources['coffee']\n",
    "money = 0\n",
    "use_coffe_machine = True\n",
    "\n",
    "while use_coffe_machine:\n",
    "    ask_prompt = input(\"What would you like? (espresso/latte/cappuccino): \").lower()\n",
    "    \n",
    "    # check resource \n",
    "    if ask_prompt == \"report\":\n",
    "        print(f\"Watter: {water}ml\\nMilk: {milk}ml\\nCoffee: {coffee}g\\nMoney: ${money}\")\n",
    "\n",
    "    elif ask_prompt == 'espresso':\n",
    "        # process coins\n",
    "        print(\"Please insert coins\")\n",
    "        quarters = int(input(\"How maney quarters?: \"))\n",
    "        dimes = int(input(\"How many dimes?: \"))\n",
    "        nickles = int(input(\"How many nickles?: \"))\n",
    "        pennies = int(input(\"How many pennies?: \"))\n",
    "        total_coin = 0.25 * quarters + 0.10 * dimes + 0.05 * nickles + 0.01 * pennies\n",
    "        \n",
    "        if total_coin > MENU['espresso']['cost']:\n",
    "            # make coffee \n",
    "            # check resource \n",
    "            water -= MENU['espresso']['ingredients']['water']\n",
    "            coffee -= MENU['espresso']['ingredients']['coffee']\n",
    "            money += MENU['espresso']['cost']\n",
    "            \n",
    "            change = total_coin - MENU['espresso']['cost']\n",
    "            \n",
    "            # print(round(total_coin, 2)) \n",
    "            print(f\"Here is ${change:.2f} in change\")\n",
    "            print(f\"Here is your {ask_prompt} ☕️. Enjoy!\")\n",
    "            print(f\"Watter: {water}ml\\nMilk: {milk}ml\\nCoffee: {coffee}g\\nMoney: ${money}\") \n",
    "        else:\n",
    "            print(\"Sorry, that's not enough money. Money refunded.\")  \n",
    "        \n",
    "    elif ask_prompt == 'latte':\n",
    "        # process coins\n",
    "        print(\"Please insert coins\")\n",
    "        quarters = int(input(\"How maney quarters?: \"))\n",
    "        dimes = int(input(\"How many dimes?: \"))\n",
    "        nickles = int(input(\"How many nickles?: \"))\n",
    "        pennies = int(input(\"How many pennies?: \"))\n",
    "        total_coin = 0.25 * quarters + 0.10 * dimes + 0.05 * nickles + 0.01 * pennies\n",
    "        \n",
    "        if total_coin > MENU['latte']['cost']:\n",
    "            # make coffee\n",
    "            water -= MENU['latte']['ingredients']['water']\n",
    "            milk -= MENU['latte']['ingredients']['milk']\n",
    "            coffee -= MENU['latte']['ingredients']['coffee']\n",
    "            money += MENU['latte']['cost']\n",
    "            change = total_coin - MENU['latte']['cost']\n",
    "\n",
    "            # print(round(total_coin, 2)) \n",
    "            print(f\"Here is ${change:.2f} in change\")\n",
    "            print(f\"Here is your {ask_prompt} ☕️. Enjoy!\")\n",
    "            print(f\"Watter: {water}ml\\nMilk: {milk}ml\\nCoffee: {coffee}g\\nMoney: ${money}\") \n",
    "        else:\n",
    "            print(\"Sorry, that's not enough money. Money refunded.\")\n",
    "            \n",
    "    else:\n",
    "        use_coffe_machine = False"
   ]
  },
  {
   "cell_type": "code",
   "execution_count": 59,
   "id": "ca9f7983",
   "metadata": {},
   "outputs": [
    {
     "data": {
      "text/plain": [
       "True"
      ]
     },
     "execution_count": 59,
     "metadata": {},
     "output_type": "execute_result"
    }
   ],
   "source": [
    "water > MENU['espresso']['ingredients']['water']"
   ]
  },
  {
   "cell_type": "code",
   "execution_count": null,
   "id": "dde4b765",
   "metadata": {},
   "outputs": [],
   "source": []
  }
 ],
 "metadata": {
  "kernelspec": {
   "display_name": "Python 3 (ipykernel)",
   "language": "python",
   "name": "python3"
  },
  "language_info": {
   "codemirror_mode": {
    "name": "ipython",
    "version": 3
   },
   "file_extension": ".py",
   "mimetype": "text/x-python",
   "name": "python",
   "nbconvert_exporter": "python",
   "pygments_lexer": "ipython3",
   "version": "3.8.12"
  }
 },
 "nbformat": 4,
 "nbformat_minor": 5
}
