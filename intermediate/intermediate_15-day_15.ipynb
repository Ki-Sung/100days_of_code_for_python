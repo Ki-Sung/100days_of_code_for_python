{
 "cells": [
  {
   "cell_type": "markdown",
   "id": "fe2a99f4",
   "metadata": {},
   "source": [
    "### Coffe Machine Program Requirements \n",
    "\n",
    "1. Prompt user by asking “What would you like? (espresso/latte/cappuccino):”\n",
    "    1. Check the user’s input to decide what to do next.\n",
    "    2. The prompt should show every time action has completed, e.g. once the drink is dispensed. The prompt should show again to serve the next customer.\n",
    "    \n",
    "2. Turn off the Coffee Machine by entering “off” to the prompt.\n",
    "    1. For maintainers of the coffee machine, they can use “off” as the secret word to turn off the machine. Your code should end execution when this happens.\n",
    "\n",
    "3. Print report.\n",
    "    1. When the user enters “report” to the prompt, a report should be generated that shows the current resource values. e.g.\n",
    "        - Water: 100ml\n",
    "        - Milk: 50ml\n",
    "        - Coffee: 76g\n",
    "        - Money: `$2.5`\n",
    "        \n",
    "4. Check resources sufficient?\n",
    "    1. When the user chooses a drink, the program should check if there are enough resources to make that drink.\n",
    "    2. E.g. if Latte requires 200ml water but there is only 100ml left in the machine. It shouldnot continue to make the drink but print: “Sorry there is not enough water.”\n",
    "    3. The same should happen if another resource is depleted, e.g. milk or coffee.\n",
    "\n",
    "5. Process coins.\n",
    "    1. If there are sufficient resources to make the drink selected, then the program should prompt the user to insert coins.\n",
    "    2. Remember that quarters = `$0.25`, dimes = `$0.10`, nickles = `$0.05`, pennies = `$0.01`\n",
    "    3. Calculate the monetary value of the coins inserted. E.g. 1 quarter, 2 dimes, 1 nickel, 2 pennies = 0.25 + 0.1 x 2 + 0.05 + 0.01 x 2 = `$0.52`\n",
    "\n",
    "6. Check transaction successful?\n",
    "    1. Check that the user has inserted enough money to purchase the drink they selected. E.g Latte cost `$2.50`, but they only inserted `$0.52` then after counting the coins the program should say “Sorry that's not enough money. Money refunded.”.\n",
    "    2. But if the user has inserted enough money, then the cost of the drink gets added to the machine as the profit and this will be reflected the next time “report” is triggered. E.g.\n",
    "        - Water: 100ml\n",
    "        - Milk: 50ml\n",
    "        - Coffee: 76g\n",
    "        - Money: `$2.5`\n",
    "    3. If the user has inserted too much money, the machine should offer change. E.g. “Here is `$2.45` dollars in change.” The change should be rounded to 2 decimal places.\n",
    "\n",
    "7. Make Coffee.\n",
    "    1. If the transaction is successful and there are enough resources to make the drink the user selected, then the ingredients to make the drink should be deducted from the coffee machine resources.\n",
    "        - E.g. report before purchasing latte:\n",
    "            - Water: 300ml\n",
    "            - Milk: 200ml\n",
    "            - Coffee: 100g\n",
    "            - Money: `$0`\n",
    "        - Report after purchasing latte:\n",
    "            - Water: 100ml\n",
    "            - Milk: 50ml\n",
    "            -Coffee: 76g\n",
    "            - Money: `$2.5`\n",
    "    2. Once all resources have been deducted, tell the user “Here is your latte. Enjoy!”. Iflatte was their choice of drink."
   ]
  },
  {
   "cell_type": "code",
   "execution_count": null,
   "id": "97ce7237",
   "metadata": {},
   "outputs": [],
   "source": [
    "## coffe machine project \n",
    "## 1. Make 3 hot flavours\n",
    "# 1-1. Espresso - 500ml water, 18g coffe, $1.50\n",
    "# 1-2. Latte - 200ml water, 24g coffee, 150ml milk, $2.50\n",
    "# 1-3. Capucino - 250ml water, 24g coffee, 100ml milk, $3.00\n",
    "# 1-4. start water 300ml, milk 200ml, coffee 100g \n",
    "\n",
    "## 2. Coine Operated \n",
    "# 2-1. Penny - 1cent - $0.01\n",
    "# 2-2. Nickel - 5cent - $0.05\n",
    "# 2-3. Dime - 10cent - $0.10\n",
    "# 2-4. Quater - 25cent - $0.25\n",
    "\n",
    "## 3. Program Requirements \n",
    "# 1. Print report \n",
    "# 2. Check resources sufficient\n",
    "# 3. Process coins\n",
    "# 4. Check transaction successful\n",
    "# 5. Make coffee "
   ]
  },
  {
   "cell_type": "code",
   "execution_count": null,
   "id": "c63be889",
   "metadata": {},
   "outputs": [],
   "source": [
    "# 1. Prompt user by asking “What would you like? (espresso/latte/cappuccino):”\n",
    "ask_prompt = input(\"What would you like? (espresso/latte/cappuccino): \")"
   ]
  },
  {
   "cell_type": "code",
   "execution_count": null,
   "id": "e82023e8",
   "metadata": {},
   "outputs": [],
   "source": []
  },
  {
   "cell_type": "code",
   "execution_count": null,
   "id": "f19ffcd2",
   "metadata": {},
   "outputs": [],
   "source": []
  },
  {
   "cell_type": "code",
   "execution_count": null,
   "id": "a652faf7",
   "metadata": {},
   "outputs": [],
   "source": []
  }
 ],
 "metadata": {
  "kernelspec": {
   "display_name": "Python 3 (ipykernel)",
   "language": "python",
   "name": "python3"
  },
  "language_info": {
   "codemirror_mode": {
    "name": "ipython",
    "version": 3
   },
   "file_extension": ".py",
   "mimetype": "text/x-python",
   "name": "python",
   "nbconvert_exporter": "python",
   "pygments_lexer": "ipython3",
   "version": "3.8.12"
  }
 },
 "nbformat": 4,
 "nbformat_minor": 5
}
