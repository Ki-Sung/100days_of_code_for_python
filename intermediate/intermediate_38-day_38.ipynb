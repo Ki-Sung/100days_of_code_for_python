{
 "cells": [
  {
   "cell_type": "markdown",
   "id": "210419f5",
   "metadata": {},
   "source": [
    "## 파이썬과 구글 스프레드시트를 이용하여 운동 추적 앱 만들기 \n",
    "- chat GPT를 이용해서 어떤 운동을 했는지 기록하는 어플 만들기  \n",
    "    - 예: ran 5k for 28 minutes.\n",
    "- 위의 영어문장을 쓰면, 운동 종류, 운동 시간, 등의 정보를 구글 스프레드시트에 저장할 수 있게 하기\n",
    "- 힌트: datetime strftime(), requests API를 사용하기 "
   ]
  },
  {
   "cell_type": "markdown",
   "id": "28014795",
   "metadata": {},
   "source": [
    "### 1. 1단계 - API 인증과 구글 스프레드시트 준비하기 \n",
    "1. ‘나의 운동(My Workouts)’ 스프레드시트의 사본 만들기(본인 구글 계정으로 로그인해야 함.)\n",
    "2. [뉴트리셔닉스(Nutritionix](https://www.nutritionix.com/) API 웹사이트로 가서 ‘API key 얻기’를 선택하여 무료 가입 하기. \n",
    "    - 만약 뉴트리셔닉스의 인증 메일이 오지 않는다면 스팸함을 확인해 보기(Gmail이라면 ‘프로모션’탭도 확인).\n",
    "3. 로그인 후 API Key와 App Id 접근이 가능, 해당 API Key와 App ID 확인 후 저장히기 \n",
    "    - [뉴트리셔닉스 API](https://developer.nutritionix.com/)"
   ]
  },
  {
   "cell_type": "markdown",
   "id": "777c23d1",
   "metadata": {},
   "source": [
    "### 2. 2단계 - 자연어 쿼리로 운동 통계 얻기 \n",
    "- 뉴트리셔닉스 ‘운동용 자연어’ API 문서를 보고, 텍스트로 간단하게 운동을 입력했을 때, 운동 통계를 출력하는 방법을 파악.\n",
    "    - API Document - https://docs.google.com/document/d/1_q-K-ObMTZvO0qUEAxROrN3bwMujwAN25sLHwJzliK0/edit#heading=h.zhjgcprrgvim"
   ]
  },
  {
   "cell_type": "code",
   "execution_count": 5,
   "id": "772c776d",
   "metadata": {},
   "outputs": [
    {
     "name": "stdout",
     "output_type": "stream",
     "text": [
      "Tell me which exercise you did: ran 5km\n",
      "{'exercises': [{'tag_id': 317, 'user_input': 'ran', 'duration_min': 31.08, 'met': 9.8, 'nf_calories': 383.78, 'photo': {'highres': 'https://d2xdmhkmkbyw75.cloudfront.net/exercise/317_highres.jpg', 'thumb': 'https://d2xdmhkmkbyw75.cloudfront.net/exercise/317_thumb.jpg', 'is_user_uploaded': False}, 'compendium_code': 12050, 'name': 'running', 'description': None, 'benefits': None}]}\n"
     ]
    }
   ],
   "source": [
    "import requests      \n",
    "\n",
    "# 파라미터에 들어갈 상수 값들 \n",
    "GENDER = Your Gender        # 성별 \n",
    "WEIGHT_KG = Your Weight     # 몸무게 \n",
    "HEIGHT_CM = Your Height     # 키 \n",
    "AGE = Your Age              # 나이 \n",
    "\n",
    "APP_ID = \"Your App ID\"        # 뉴트리셔닉스 App ID \n",
    "API_KEY = \"Your API Key\"      # 뉴트리셔닉스 API Key \n",
    "\n",
    "END_POINT = \"https://trackapi.nutritionix.com/v2/natural/exercise\"  # 엔드 포인트 \n",
    "  \n",
    "exercise_text = input(\"Tell me which exercise you did: \")     # 오늘 운동 뭐했는지 입력 후 저장 - 파라미터 쿼리 값 \n",
    "\n",
    "# 인증을 위해 해더 값 입력 \n",
    "headers = {\n",
    "    \"x-app-id\": APP_ID,      # 뉴트리셔닉스 App ID\n",
    "    \"x-app-key\": API_KEY,    # 뉴트리셔닉스 API Key \n",
    "}\n",
    "\n",
    "# 파라미터 값 입력 \n",
    "parameters = {\n",
    "    \"query\": exercise_text,       # 쿼리 \n",
    "    \"gender\": GENDER,             # 성별  \n",
    "    \"weight_kg\": WEIGHT_KG,       # 몸무게 \n",
    "    \"height_cm\": HEIGHT_CM,       # 키 \n",
    "    \"age\": AGE                    # 나이\n",
    "}\n",
    "\n",
    "# 데이터 불러오기 \n",
    "response = requests.post(url=END_POINT, json=parameters, headers=headers)   # Post 방식으로 데이터 불러오기 \n",
    "result = response.json()              # Post 방식으로 불러온 데이터 JSON 형태로 반환                       \n",
    "print(result)                         # 결과 출력"
   ]
  },
  {
   "cell_type": "markdown",
   "id": "5fd9367f",
   "metadata": {},
   "source": [
    "### 3. 3단계 - Sheety로 구글시트 준비하기 \n",
    "1. [sheety](https://sheety.co/)에 로그인 하기 \n",
    "    - 중요: 1단계에서 구글 시트를 만들었던 계정과 동일한 계정이여야 함) \n",
    "2. 프로젝트 페이지에서 ‘새 프로젝트’를 클릭하여, Sheety내에 새 프로젝트 ‘운동 추적(My Workout)’을 생성한 후, ‘나의 운동’ 구글 시트의 URL을 붙여 넣기.\n",
    "3. 프로젝트 생성후 API End point를 클릭하고 GET, POST 두 개에 체크하기 "
   ]
  },
  {
   "cell_type": "markdown",
   "id": "606b516a",
   "metadata": {},
   "source": [
    "### 4. 4단계 - 구글시트에 데이터 저장하기 \n",
    "1. [sheety API 문서](https://sheety.co/docs/requests)를 활용하여, Sheety API를 사용한 코드를 작성하여 뉴트리셔닉스 API로 얻은 운동 데이터를 구글 시트의 신규 행으로 추가하기. "
   ]
  },
  {
   "cell_type": "code",
   "execution_count": 22,
   "id": "ea08d55a",
   "metadata": {},
   "outputs": [
    {
     "name": "stdout",
     "output_type": "stream",
     "text": [
      "{\n",
      "  \"workout\": {\n",
      "    \"date\": \"2023/08/20\",\n",
      "    \"time\": \"21:46:37\",\n",
      "    \"exercise\": \"Running\",\n",
      "    \"duration\": 31.08,\n",
      "    \"calories\": 383.78,\n",
      "    \"id\": 2\n",
      "  }\n",
      "}\n"
     ]
    }
   ],
   "source": [
    "from datetime import datetime\n",
    "\n",
    "# sheety endpoint \n",
    "SHEETY_ENDPOINT = \"https://api.sheety.co/52479a109dad9a29f7d2ae8bbb70d1a7/myWorkouts/workouts\"\n",
    "\n",
    "# 시간 설정 \n",
    "now = datetime.now()                   # datetime 객체 선언 - 현재 시간으로 \n",
    "today_date = now.strftime(\"%Y/%m/%d\")  # 날짜 설정 \n",
    "today_time = now.strftime(\"%X\")        # 시간 설정 \n",
    "\n",
    "# 추출한 데이터 구글시트에 저장 \n",
    "for exercise in result[\"exercises\"]:  \n",
    "    sheet_input = {\n",
    "        \"workout\": {                   # 위에 입력한 workout 데이터 \n",
    "            \"date\": today_date,        # 금일 날짜 \n",
    "            \"time\": today_time,        # 업로드 시간\n",
    "            \"exercise\": exercise[\"name\"].title(),   # 운동명 \n",
    "            \"duration\": exercise[\"duration_min\"],   # 지속 시간 \n",
    "            \"calories\": exercise[\"nf_calories\"]     # 운동 칼로리\n",
    "        }\n",
    "    }\n",
    "    \n",
    "    # 데이터 입력을 위해 POST 방식으로 입력 \n",
    "    sheet_response = requests.post(url=SHEETY_ENDPOINT, json=sheet_input)\n",
    "    \n",
    "    # 결과 추출\n",
    "    print(sheet_response.text)"
   ]
  },
  {
   "cell_type": "markdown",
   "id": "c4feb5ce",
   "metadata": {},
   "source": [
    "### 5. 5단계 - Sheety API 인증하기 \n",
    "1. Sheety 엔드포인트를 보호하기 위해 ‘Basic 인증’이나 ‘Bearer 토큰’을 추가하기. \n",
    "    - Bearer 인증이란? : Bearer 인증(혹은 토큰 인증)은 보안 토큰을 포함하는 HTTP 인증 방식이다. ‘Bearer 인증’이라는 이름에서부터 ‘이 토큰을 나르는 사람에게 접근 권한을 부여한다’는 의미이다. 보안 토큰, 혹은 ‘bearer 토큰’은 암호화된 문자열이며, 다음과 같은 것들이 Bearer 토큰의 예시이다. \n",
    "        - \"AAAAAAAAAAAAAAAAAAAAAMLheAAAAAAA0%2BuSeid%2BULvsea4JtiGRiSDSJSI%3DEUifiRBkKG5E2XzMDjRfl76ZC9Ub0wnz4XsNiRVBChTYbJcE3F\"\n",
    "    - 보안 토큰을 가진 사람은 누구나 스프레드시트에 접근할 수 있도록 허락된다는 개념이다. 브라우저나 모바일 앱과 같은 클라이언트가 Sheety 서버로 요청을 보낼 때, 인증 헤더에 이 보안 토큰을 넣어 보낸다.\n",
    "2. 인증에 관한 Sheety 문서를 보고, 파이썬 코드를 수정하여 요청을 인증하기 "
   ]
  },
  {
   "cell_type": "code",
   "execution_count": null,
   "id": "a298cc24",
   "metadata": {},
   "outputs": [],
   "source": [
    "sheet_response = requests.post(sheet_endpoint, json=sheet_inputs)\n",
    "  \n",
    "#Basic Authentication\n",
    "sheet_response = requests.post(\n",
    "  sheet_endpoint, \n",
    "  json=sheet_inputs, \n",
    "  auth=(\n",
    "      YOUR USERNAME, \n",
    "      YOUR PASSWORD,\n",
    "  )\n",
    ")\n",
    "\n",
    "#Bearer Token Authentication\n",
    "bearer_headers = {\n",
    "\"Authorization\": \"Bearer YOUR_TOKEN\"\n",
    "}\n",
    "sheet_response = requests.post(\n",
    "    sheet_endpoint, \n",
    "    json=sheet_inputs, \n",
    "    headers=bearer_headers\n",
    ")"
   ]
  },
  {
   "cell_type": "markdown",
   "id": "0d5b909d",
   "metadata": {},
   "source": [
    "### 총 정리 코드 "
   ]
  },
  {
   "cell_type": "code",
   "execution_count": null,
   "id": "3dc692db",
   "metadata": {},
   "outputs": [],
   "source": [
    "import requests      \n",
    "from datetime import datetime\n",
    "\n",
    "# 파라미터에 들어갈 상수 값들 \n",
    "GENDER = Your Gender        # 성별 \n",
    "WEIGHT_KG = Your Weight     # 몸무게 \n",
    "HEIGHT_CM = Your Height     # 키 \n",
    "AGE = Your Age              # 나이 \n",
    "\n",
    "# USER 및 API 정보 \n",
    "APP_ID = \"Your App ID\"        # 뉴트리셔닉스 App ID \n",
    "API_KEY = \"Your API Key\"      # 뉴트리셔닉스 API Key \n",
    "\n",
    "END_POINT = \"https://trackapi.nutritionix.com/v2/natural/exercise\"  # nutritionix endpoint\n",
    "SHEETY_ENDPOINT = \"https://api.sheety.co/52479a109dad9a29f7d2ae8bbb70d1a7/myWorkouts/workouts\"  # sheety endpoint \n",
    "\n",
    "# 시간 설정 \n",
    "now = datetime.now()                   # datetime 객체 선언 - 현재 시간으로 \n",
    "today_date = now.strftime(\"%Y/%m/%d\")  # 날짜 설정 \n",
    "today_time = now.strftime(\"%X\")        # 시간 설정 \n",
    "\n",
    "exercise_text = input(\"Tell me which exercise you did: \")     # 오늘 운동 뭐했는지 입력 후 저장 - 파라미터 쿼리 값 \n",
    "\n",
    "# 인증을 위해 해더 값 입력 \n",
    "headers = {\n",
    "    \"x-app-id\": APP_ID,      # 뉴트리셔닉스 App ID\n",
    "    \"x-app-key\": API_KEY,    # 뉴트리셔닉스 API Key \n",
    "}\n",
    "\n",
    "# 파라미터 값 입력 \n",
    "parameters = {\n",
    "    \"query\": exercise_text,       # 쿼리 \n",
    "    \"gender\": GENDER,             # 성별  \n",
    "    \"weight_kg\": WEIGHT_KG,       # 몸무게 \n",
    "    \"height_cm\": HEIGHT_CM,       # 키 \n",
    "    \"age\": AGE                    # 나이\n",
    "}\n",
    "\n",
    "# 데이터 불러오기 \n",
    "response = requests.post(url=END_POINT, json=parameters, headers=headers)   # Post 방식으로 데이터 불러오기 \n",
    "result = response.json()              # Post 방식으로 불러온 데이터 JSON 형태로 반환                       \n",
    "\n",
    "# 추출한 데이터 구글시트에 저장 \n",
    "for exercise in result[\"exercises\"]:  \n",
    "    sheet_input = {\n",
    "        \"workout\": {                   # 위에 입력한 workout 데이터 \n",
    "            \"date\": today_date,        # 금일 날짜 \n",
    "            \"time\": today_time,        # 업로드 시간\n",
    "            \"exercise\": exercise[\"name\"].title(),   # 운동명 \n",
    "            \"duration\": exercise[\"duration_min\"],   # 지속 시간 \n",
    "            \"calories\": exercise[\"nf_calories\"]     # 운동 칼로리\n",
    "        }\n",
    "    }\n",
    "    \n",
    "    # 데이터 입력을 위해 POST 방식으로 입력 \n",
    "    sheet_response = requests.post(url=SHEETY_ENDPOINT, json=sheet_input)\n",
    "    \n",
    "    # 결과 추출\n",
    "    print(sheet_response.text)"
   ]
  }
 ],
 "metadata": {
  "kernelspec": {
   "display_name": "Python 3 (ipykernel)",
   "language": "python",
   "name": "python3"
  },
  "language_info": {
   "codemirror_mode": {
    "name": "ipython",
    "version": 3
   },
   "file_extension": ".py",
   "mimetype": "text/x-python",
   "name": "python",
   "nbconvert_exporter": "python",
   "pygments_lexer": "ipython3",
   "version": "3.8.12"
  }
 },
 "nbformat": 4,
 "nbformat_minor": 5
}
