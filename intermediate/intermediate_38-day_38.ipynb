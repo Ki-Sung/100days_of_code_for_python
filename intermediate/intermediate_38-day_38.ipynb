{
 "cells": [
  {
   "cell_type": "markdown",
   "id": "210419f5",
   "metadata": {},
   "source": [
    "## 파이썬과 구글 스프레드시트를 이용하여 운동 추적 앱 만들기 \n",
    "- chat GPT를 이용해서 어떤 운동을 했는지 기록하는 어플 만들기  \n",
    "    - 예: ran 5k for 28 minutes.\n",
    "- 위의 영어문장을 쓰면, 운동 종류, 운동 시간, 등의 정보를 구글 스프레드시트에 저장할 수 있게 하기\n",
    "- 힌트: datetime strftime(), requests API를 사용하기 "
   ]
  },
  {
   "cell_type": "code",
   "execution_count": null,
   "id": "f4f6721e",
   "metadata": {},
   "outputs": [],
   "source": []
  }
 ],
 "metadata": {
  "kernelspec": {
   "display_name": "Python 3 (ipykernel)",
   "language": "python",
   "name": "python3"
  },
  "language_info": {
   "codemirror_mode": {
    "name": "ipython",
    "version": 3
   },
   "file_extension": ".py",
   "mimetype": "text/x-python",
   "name": "python",
   "nbconvert_exporter": "python",
   "pygments_lexer": "ipython3",
   "version": "3.8.12"
  }
 },
 "nbformat": 4,
 "nbformat_minor": 5
}
