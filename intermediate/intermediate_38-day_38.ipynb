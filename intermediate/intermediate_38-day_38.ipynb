{
 "cells": [
  {
   "cell_type": "markdown",
   "id": "210419f5",
   "metadata": {},
   "source": [
    "## 파이썬과 구글 스프레드시트를 이용하여 운동 추적 앱 만들기 \n",
    "- chat GPT를 이용해서 어떤 운동을 했는지 기록하는 어플 만들기  \n",
    "    - 예: ran 5k for 28 minutes.\n",
    "- 위의 영어문장을 쓰면, 운동 종류, 운동 시간, 등의 정보를 구글 스프레드시트에 저장할 수 있게 하기\n",
    "- 힌트: datetime strftime(), requests API를 사용하기 "
   ]
  },
  {
   "cell_type": "markdown",
   "id": "c3c353b8",
   "metadata": {},
   "source": [
    "### 1. 1단계 - API 인증과 구글 스프레드시트 준비하기 \n",
    "1. ‘나의 운동(My Workouts)’ 스프레드시트의 사본 만들기(본인 구글 계정으로 로그인해야 함.)\n",
    "2. [뉴트리셔닉스(Nutritionix](https://www.nutritionix.com/) API 웹사이트로 가서 ‘API key 얻기’를 선택하여 무료 가입 하기. \n",
    "    - 만약 뉴트리셔닉스의 인증 메일이 오지 않는다면 스팸함을 확인해 보기(Gmail이라면 ‘프로모션’탭도 확인).\n",
    "3. 로그인 후 API Key와 App Id 접근이 가능, 해당 API Key와 App ID 확인 후 저장히기 \n",
    "    - [뉴트리셔닉스 API](https://developer.nutritionix.com/)"
   ]
  },
  {
   "cell_type": "markdown",
   "id": "1010682d",
   "metadata": {},
   "source": [
    "### 2. 2단계 - 자연어 쿼리로 운동 통계 얻기 \n",
    "- 뉴트리셔닉스 ‘운동용 자연어’ API 문서를 보고, 텍스트로 간단하게 운동을 입력했을 때, 운동 통계를 출력하는 방법을 파악.\n",
    "    - API Document - https://docs.google.com/document/d/1_q-K-ObMTZvO0qUEAxROrN3bwMujwAN25sLHwJzliK0/edit#heading=h.zhjgcprrgvim"
   ]
  },
  {
   "cell_type": "code",
   "execution_count": 5,
   "id": "4a1a2bf4",
   "metadata": {},
   "outputs": [
    {
     "name": "stdout",
     "output_type": "stream",
     "text": [
      "Tell me which exercise you did: ran 5km\n",
      "{'exercises': [{'tag_id': 317, 'user_input': 'ran', 'duration_min': 31.08, 'met': 9.8, 'nf_calories': 383.78, 'photo': {'highres': 'https://d2xdmhkmkbyw75.cloudfront.net/exercise/317_highres.jpg', 'thumb': 'https://d2xdmhkmkbyw75.cloudfront.net/exercise/317_thumb.jpg', 'is_user_uploaded': False}, 'compendium_code': 12050, 'name': 'running', 'description': None, 'benefits': None}]}\n"
     ]
    }
   ],
   "source": [
    "import requests      \n",
    "\n",
    "# 파라미터에 들어갈 상수 값들 \n",
    "GENDER = Your Gender        # 성별 \n",
    "WEIGHT_KG = Your Weight     # 몸무게 \n",
    "HEIGHT_CM = Your Height     # 키 \n",
    "AGE = Your Age              # 나이 \n",
    "\n",
    "APP_ID = \"Your App ID\"        # 뉴트리셔닉스 App ID \n",
    "API_KEY = \"Your API Key\"      # 뉴트리셔닉스 API Key \n",
    "\n",
    "END_POINT = \"https://trackapi.nutritionix.com/v2/natural/exercise\"  # 엔드 포인트 \n",
    "  \n",
    "exercise_text = input(\"Tell me which exercise you did: \")     # 오늘 운동 뭐했는지 입력 후 저장 - 파라미터 쿼리 값 \n",
    "\n",
    "# 인증을 위해 해더 값 입력 \n",
    "headers = {\n",
    "    \"x-app-id\": APP_ID,      # 뉴트리셔닉스 App ID\n",
    "    \"x-app-key\": API_KEY,    # 뉴트리셔닉스 API Key \n",
    "}\n",
    "\n",
    "# 파라미터 값 입력 \n",
    "parameters = {\n",
    "    \"query\": exercise_text,       # 쿼리 \n",
    "    \"gender\": GENDER,             # 성별  \n",
    "    \"weight_kg\": WEIGHT_KG,       # 몸무게 \n",
    "    \"height_cm\": HEIGHT_CM,       # 키 \n",
    "    \"age\": AGE                    # 나이\n",
    "}\n",
    "\n",
    "# 데이터 불러오기 \n",
    "response = requests.post(url=END_POINT, json=parameters, headers=headers)   # Post 방식으로 데이터 불러오기 \n",
    "result = response.json()              # Post 방식으로 불러온 데이터 JSON 형태로 반환                       \n",
    "print(result)                         # 결과 출력"
   ]
  },
  {
   "cell_type": "code",
   "execution_count": null,
   "id": "63dbcd81",
   "metadata": {},
   "outputs": [],
   "source": []
  }
 ],
 "metadata": {
  "kernelspec": {
   "display_name": "Python 3 (ipykernel)",
   "language": "python",
   "name": "python3"
  },
  "language_info": {
   "codemirror_mode": {
    "name": "ipython",
    "version": 3
   },
   "file_extension": ".py",
   "mimetype": "text/x-python",
   "name": "python",
   "nbconvert_exporter": "python",
   "pygments_lexer": "ipython3",
   "version": "3.8.12"
  }
 },
 "nbformat": 4,
 "nbformat_minor": 5
}
