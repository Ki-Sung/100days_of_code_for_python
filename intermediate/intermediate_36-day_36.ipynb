{
 "cells": [
  {
   "cell_type": "markdown",
   "id": "0975a645",
   "metadata": {},
   "source": [
    "## 주식 뉴스 모니터링 프로젝트 만들기 \n",
    "- 자신만의 불름버그 단말을 파이썬을 통해서 만들어 본다. \n",
    "- 사용할 사이트: [Trading View.com](https://www.tradingview.com/markets/)\n",
    "- 프로젝트 구조는 아래와 같다.\n",
    "    1. 우리가 관심을 갖는 주식의 주식 시세 가져오기 (API 이용)\n",
    "        - 어제 시장 폐장가와 오늘 시장 시직가를 비교, 얼마나 상승 혹은 하락 했는데, 상승률과 하락률은 어떻는지 비율 계산\n",
    "    2. 시세 및 계산이 완료되면 관련된 뉴스 가져오기 (API 이용)\n",
    "    3. 해당 소식 SMS 혹은 메일 보내기 "
   ]
  },
  {
   "cell_type": "code",
   "execution_count": null,
   "id": "ec6a3f4a",
   "metadata": {},
   "outputs": [],
   "source": []
  }
 ],
 "metadata": {
  "kernelspec": {
   "display_name": "Python 3 (ipykernel)",
   "language": "python",
   "name": "python3"
  },
  "language_info": {
   "codemirror_mode": {
    "name": "ipython",
    "version": 3
   },
   "file_extension": ".py",
   "mimetype": "text/x-python",
   "name": "python",
   "nbconvert_exporter": "python",
   "pygments_lexer": "ipython3",
   "version": "3.8.12"
  }
 },
 "nbformat": 4,
 "nbformat_minor": 5
}
