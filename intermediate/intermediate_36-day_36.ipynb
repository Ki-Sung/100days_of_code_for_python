{
 "cells": [
  {
   "cell_type": "markdown",
   "id": "0975a645",
   "metadata": {},
   "source": [
    "## 주식 뉴스 모니터링 프로젝트 만들기 \n",
    "- 자신만의 불름버그 단말을 파이썬을 통해서 만들어 본다. \n",
    "- 사용할 사이트: [Trading View.com](https://www.tradingview.com/markets/)\n",
    "- 프로젝트 구조는 아래와 같다.\n",
    "    1. 우리가 관심을 갖는 주식의 주식 시세 가져오기 (API 이용)\n",
    "        - 어제 시장 폐장가와 오늘 시장 시직가를 비교, 얼마나 상승 혹은 하락 했는데, 상승률과 하락률은 어떻는지 비율 계산\n",
    "    2. 시세 및 계산이 완료되면 관련된 뉴스 가져오기 (API 이용)\n",
    "    3. 해당 소식 SMS 혹은 메일 보내기 "
   ]
  },
  {
   "cell_type": "markdown",
   "id": "19732ec5",
   "metadata": {},
   "source": [
    "### 1. 주가 변동 확인하기 "
   ]
  },
  {
   "cell_type": "code",
   "execution_count": 44,
   "id": "f711fb8b",
   "metadata": {},
   "outputs": [
    {
     "name": "stdout",
     "output_type": "stream",
     "text": [
      "Get News\n"
     ]
    }
   ],
   "source": [
    "# 주가 변동 확인 - solution 1\n",
    "import requests \n",
    "\n",
    "# Endpoint\n",
    "STOCK_ENDPOINT = \"https://www.alphavantage.co/query\"\n",
    "API_KEY = \"X3R8SRDDSI3LJM68\"\n",
    "\n",
    "# Parameters \n",
    "params = {\n",
    "    \"function\": \"TIME_SERIES_DAILY\",\n",
    "    \"symbol\": \"TSLA\",\n",
    "    \"apikey\": API_KEY\n",
    "}\n",
    "\n",
    "# 데이터 호출 및 응답 \n",
    "response = requests.get(STOCK_ENDPOINT, params=params)   # 앤드포인트로 요청 받기\n",
    "response.raise_for_status()                              #응답 코드 - 200이 아니면 예외를 발생 시킴  \n",
    "\n",
    "data = response.json()                                   # 200을 받으면 데이터 JSON 형식으로 받기\n",
    "\n",
    "# 전일 주식 가격 \n",
    "yesterday_price = data[\"Time Series (Daily)\"][\"2023-08-11\"]\n",
    "\n",
    "# 그저께 주식 가격 \n",
    "befor_yesterday_price = data[\"Time Series (Daily)\"][\"2023-08-10\"]\n",
    "\n",
    "# 어제 종가 \n",
    "y_colse_price = yesterday_price[\"4. close\"]\n",
    "# 그제 종가 \n",
    "b_close_price = befor_yesterday_price[\"4. close\"]\n",
    "\n",
    "# 그제 종가와의 차이 퍼센트\n",
    "diff_percente = (float(y_colse_price) / float(b_close_price)) * 100 - 100\n",
    "\n",
    "# 만약 종가 차이가 5%를 초과하면, get new 출력 \n",
    "if diff_percente > 5:\n",
    "    print(\"Get News\")"
   ]
  },
  {
   "cell_type": "code",
   "execution_count": 49,
   "id": "fe70fa45",
   "metadata": {},
   "outputs": [
    {
     "name": "stdout",
     "output_type": "stream",
     "text": [
      "242.6500\n",
      "245.3400\n"
     ]
    }
   ],
   "source": [
    "# solution 2\n",
    "\n",
    "import requests \n",
    "\n",
    "# Stock info - Tesla\n",
    "STOCK_NAME = \"TSLA\"\n",
    "COMPANY_NAME = \"Tesla Inc\"\n",
    "\n",
    "# Endpoint\n",
    "STOCK_ENDPOINT = \"https://www.alphavantage.co/query\"\n",
    "STOCK_API_KEY = \"X3R8SRDDSI3LJM68\"\n",
    "\n",
    "# Parameters \n",
    "stock_params = {\n",
    "    \"function\": \"TIME_SERIES_DAILY\",\n",
    "    \"symbol\": STOCK_NAME,\n",
    "    \"apikey\": STOCK_API_KEY\n",
    "}\n",
    "\n",
    "# 데이터 호출 및 응답 \n",
    "response = requests.get(STOCK_ENDPOINT, params=stock_params)   # 앤드포인트로 요청 받기\n",
    "response.raise_for_status()                                    #응답 코드 - 200이 아니면 예외를 발생 시킴  \n",
    "\n",
    "data = response.json()[\"Time Series (Daily)\"]                  # 200을 받으면 데이터 JSON 형식으로 받기\n",
    "\n",
    "# 필요한 데이터 불러오기 \n",
    "data_list = [value for (key, value) in data.items()]           # data_list 불러오기 \n",
    "\n",
    "# 어제자 종가 데이터 불러오기 \n",
    "yesterday_data = data_list[0]                                  # 어제자 데이터 불러오기 \n",
    "yesterday_close_price = yesterday_data[\"4. close\"]             # 어제자 종가 데이터 불러오기 \n",
    "print(yesterday_close_price)\n",
    "\n",
    "# 그제 종가 데이터 불러오기\n",
    "day_before_yesterday_data = data_list[1]                                   # 그제자 데이터 불러오기 \n",
    "day_before_yesterday_colse_price = day_before_yesterday_data[\"4. close\"]   # 그제자 종가 데이터 불러오기 \n",
    "print(day_before_yesterday_colse_price)\n",
    "\n",
    "# 어제 폐장가와 엊그제 폐장가 비율 구하기 \n",
    "difference = abs(float(yesterday_close_price) - float(day_before_yesterday_colse_price))  # 어제 폐장가, 엊그제 폐장가 차이 구하기 (절대값으로)\n",
    "diff_percent = (difference / float(yesterday_close_price)) * 100                          # 퍼센트 비율 구하기 \n",
    "\n",
    "# 만약 페장가 비율이 4 퍼센트를 초과할 경우 get new 출력 \n",
    "if diff_percent > 4:\n",
    "    print(\"Get_news\")"
   ]
  },
  {
   "cell_type": "code",
   "execution_count": null,
   "id": "a6b58dd5",
   "metadata": {},
   "outputs": [],
   "source": []
  }
 ],
 "metadata": {
  "kernelspec": {
   "display_name": "Python 3 (ipykernel)",
   "language": "python",
   "name": "python3"
  },
  "language_info": {
   "codemirror_mode": {
    "name": "ipython",
    "version": 3
   },
   "file_extension": ".py",
   "mimetype": "text/x-python",
   "name": "python",
   "nbconvert_exporter": "python",
   "pygments_lexer": "ipython3",
   "version": "3.8.12"
  }
 },
 "nbformat": 4,
 "nbformat_minor": 5
}
