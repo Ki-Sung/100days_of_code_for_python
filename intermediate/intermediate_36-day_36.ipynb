{
 "cells": [
  {
   "cell_type": "markdown",
   "id": "0975a645",
   "metadata": {},
   "source": [
    "## 주식 뉴스 모니터링 프로젝트 만들기 \n",
    "- 자신만의 불름버그 단말을 파이썬을 통해서 만들어 본다. \n",
    "- 사용할 사이트: [Trading View.com](https://www.tradingview.com/markets/)\n",
    "- 프로젝트 구조는 아래와 같다.\n",
    "    1. 우리가 관심을 갖는 주식의 주식 시세 가져오기 (API 이용)\n",
    "        - 어제 시장 폐장가와 오늘 시장 시직가를 비교, 얼마나 상승 혹은 하락 했는데, 상승률과 하락률은 어떻는지 비율 계산\n",
    "    2. 시세 및 계산이 완료되면 관련된 뉴스 가져오기 (API 이용)\n",
    "    3. 해당 소식 SMS 혹은 메일 보내기 "
   ]
  },
  {
   "cell_type": "markdown",
   "id": "8642d82a",
   "metadata": {},
   "source": [
    "### 1. 주가 변동 확인하기 "
   ]
  },
  {
   "cell_type": "code",
   "execution_count": 44,
   "id": "e1528f05",
   "metadata": {},
   "outputs": [
    {
     "name": "stdout",
     "output_type": "stream",
     "text": [
      "Get News\n"
     ]
    }
   ],
   "source": [
    "# 주가 변동 확인 - solution 1\n",
    "import requests \n",
    "\n",
    "# Endpoint\n",
    "STOCK_ENDPOINT = \"https://www.alphavantage.co/query\"\n",
    "API_KEY = \"Your API\"\n",
    "\n",
    "# Parameters \n",
    "params = {\n",
    "    \"function\": \"TIME_SERIES_DAILY\",\n",
    "    \"symbol\": \"TSLA\",\n",
    "    \"apikey\": API_KEY\n",
    "}\n",
    "\n",
    "# 데이터 호출 및 응답 \n",
    "response = requests.get(STOCK_ENDPOINT, params=params)   # 앤드포인트로 요청 받기\n",
    "response.raise_for_status()                              #응답 코드 - 200이 아니면 예외를 발생 시킴  \n",
    "\n",
    "data = response.json()                                   # 200을 받으면 데이터 JSON 형식으로 받기\n",
    "\n",
    "# 전일 주식 가격 \n",
    "yesterday_price = data[\"Time Series (Daily)\"][\"2023-08-11\"]\n",
    "\n",
    "# 그저께 주식 가격 \n",
    "befor_yesterday_price = data[\"Time Series (Daily)\"][\"2023-08-10\"]\n",
    "\n",
    "# 어제 종가 \n",
    "y_colse_price = yesterday_price[\"4. close\"]\n",
    "# 그제 종가 \n",
    "b_close_price = befor_yesterday_price[\"4. close\"]\n",
    "\n",
    "# 그제 종가와의 차이 퍼센트\n",
    "diff_percente = (float(y_colse_price) / float(b_close_price)) * 100 - 100\n",
    "\n",
    "# 만약 종가 차이가 5%를 초과하면, get new 출력 \n",
    "if diff_percente > 5:\n",
    "    print(\"Get News\")"
   ]
  },
  {
   "cell_type": "code",
   "execution_count": 49,
   "id": "66cada69",
   "metadata": {},
   "outputs": [
    {
     "name": "stdout",
     "output_type": "stream",
     "text": [
      "242.6500\n",
      "245.3400\n"
     ]
    }
   ],
   "source": [
    "# solution 2\n",
    "\n",
    "import requests \n",
    "\n",
    "# Stock info - Tesla\n",
    "STOCK_NAME = \"TSLA\"\n",
    "COMPANY_NAME = \"Tesla Inc\"\n",
    "\n",
    "# Endpoint\n",
    "STOCK_ENDPOINT = \"https://www.alphavantage.co/query\"\n",
    "\n",
    "# API key\n",
    "STOCK_API_KEY = \"Your API\"\n",
    "\n",
    "# Parameters \n",
    "stock_params = {\n",
    "    \"function\": \"TIME_SERIES_DAILY\",\n",
    "    \"symbol\": STOCK_NAME,\n",
    "    \"apikey\": STOCK_API_KEY\n",
    "}\n",
    "\n",
    "# 데이터 호출 및 응답 \n",
    "response = requests.get(STOCK_ENDPOINT, params=stock_params)   # 앤드포인트로 요청 받기\n",
    "response.raise_for_status()                                    #응답 코드 - 200이 아니면 예외를 발생 시킴  \n",
    "\n",
    "data = response.json()[\"Time Series (Daily)\"]                  # 200을 받으면 데이터 JSON 형식으로 받기\n",
    "\n",
    "# 필요한 데이터 불러오기 \n",
    "data_list = [value for (key, value) in data.items()]           # data_list 불러오기 \n",
    "\n",
    "# 어제자 종가 데이터 불러오기 \n",
    "yesterday_data = data_list[0]                                  # 어제자 데이터 불러오기 \n",
    "yesterday_close_price = yesterday_data[\"4. close\"]             # 어제자 종가 데이터 불러오기 \n",
    "print(yesterday_close_price)\n",
    "\n",
    "# 그제 종가 데이터 불러오기\n",
    "day_before_yesterday_data = data_list[1]                                   # 그제자 데이터 불러오기 \n",
    "day_before_yesterday_colse_price = day_before_yesterday_data[\"4. close\"]   # 그제자 종가 데이터 불러오기 \n",
    "print(day_before_yesterday_colse_price)\n",
    "\n",
    "# 어제 폐장가와 엊그제 폐장가 비율 구하기 \n",
    "difference = abs(float(yesterday_close_price) - float(day_before_yesterday_colse_price))  # 어제 폐장가, 엊그제 폐장가 차이 구하기 (절대값으로)\n",
    "diff_percent = (difference / float(yesterday_close_price)) * 100                          # 퍼센트 비율 구하기 \n",
    "\n",
    "# 만약 페장가 비율이 4 퍼센트를 초과할 경우 get new 출력 \n",
    "if diff_percent > 4:\n",
    "    print(\"Get_news\")"
   ]
  },
  {
   "cell_type": "markdown",
   "id": "032a3857",
   "metadata": {},
   "source": [
    "### 2. 뉴스 기사 가져오기 "
   ]
  },
  {
   "cell_type": "code",
   "execution_count": 70,
   "id": "d8898fff",
   "metadata": {},
   "outputs": [
    {
     "name": "stdout",
     "output_type": "stream",
     "text": [
      "242.6500\n",
      "245.3400\n",
      "[{'source': {'id': None, 'name': 'Yahoo Entertainment'}, 'author': 'Simply Wall St', 'title': \"Are Robust Financials Driving The Recent Rally In Tesla, Inc.'s (NASDAQ:TSLA) Stock?\", 'description': 'Tesla (NASDAQ:TSLA) has had a great run on the share market with its stock up by a significant 63% over the last three...', 'url': 'https://finance.yahoo.com/news/robust-financials-driving-recent-rally-110057707.html', 'urlToImage': 'https://media.zenfs.com/en/simply_wall_st__316/8a9a68e8370d8514f2f282dc3b4a5a72', 'publishedAt': '2023-08-02T11:00:57Z', 'content': \"Tesla (NASDAQ:TSLA) has had a great run on the share market with its stock up by a significant 63% over the last three months. Given the company's impressive performance, we decided to study its fina… [+3875 chars]\"}, {'source': {'id': None, 'name': 'Marketscreener.com'}, 'author': None, 'title': 'Tesla, Inc. : Earnings report highlights', 'description': \"(marketscreener.com) Unsurprisingly, the interpretation of Tesla's results divided the market.https://www.marketscreener.com/quote/stock/TESLA-INC-6344549/news/Tesla-Inc-Earnings-report-highlights-44380693/?utm_medium=RSS&utm_content=20230720\", 'url': 'https://www.marketscreener.com/quote/stock/TESLA-INC-6344549/news/Tesla-Inc-Earnings-report-highlights-44380693/', 'urlToImage': 'https://img.zonebourse.com/reuters/2020-07/2020-07-14T224515Z_1_LYNXNPEG6D1RE_RTROPTP_3_TESLA-AUTOPILOT-GERMANY.JPG', 'publishedAt': '2023-07-20T14:15:06Z', 'content': \"Unsurprisingly, the interpretation of Tesla's results divided the market.\\r\\n Skeptics pointed to the compression of gross margins, down from 25% to 18.2% year-on-year at the same time, and the apparen… [+1850 chars]\"}, {'source': {'id': None, 'name': 'Marketscreener.com'}, 'author': None, 'title': 'Tesla, Inc. : Tesla: Musk has no intention of ending his price war', 'description': '(marketscreener.com) On Wednesday, Tesla reported a fall in gross margin in the second quarter, the lowest in four years for the automaker, reflecting the price war launched by Elon Musk. The stock, which hesitated post-close after the publication of its earn…', 'url': 'https://www.marketscreener.com/quote/stock/TESLA-INC-6344549/news/Tesla-Inc-Tesla-Musk-has-no-intention-of-ending-his-price-war-44380855/', 'urlToImage': 'https://img.zonebourse.com/reuters/2023-05/2023-05-25T183937Z_1_LYNXMPEJ4O0TP_RTROPTP_3_TESLA-AUTOPILOT-INVESTIGATION.JPG', 'publishedAt': '2023-07-20T14:32:38Z', 'content': 'On Wednesday, Tesla reported a fall in gross margin in the second quarter, the lowest in four years for the automaker, reflecting the price war launched by Elon Musk. The stock, which hesitated post-… [+2398 chars]'}]\n"
     ]
    }
   ],
   "source": [
    "import requests \n",
    "\n",
    "# Stock info - Tesla\n",
    "STOCK_NAME = \"TSLA\"\n",
    "COMPANY_NAME = \"Tesla Inc\"\n",
    "\n",
    "# Endpoint\n",
    "STOCK_ENDPOINT = \"https://www.alphavantage.co/query\"\n",
    "NEWS_ENDPOINT = \"https://newsapi.org/v2/everything\"\n",
    "\n",
    "# API Keys\n",
    "STOCK_API_KEY = \"Your API\"\n",
    "NEWS_API_KEY = \"your API\"\n",
    "\n",
    "# 데이터 호출 및 응답 - 주가 데이터 \n",
    "response = requests.get(STOCK_ENDPOINT, params=stock_params)   # 앤드포인트로 요청 받기\n",
    "response.raise_for_status()                                    # 응답 코드 - 200이 아니면 예외를 발생 시킴  \n",
    "\n",
    "data = response.json()[\"Time Series (Daily)\"]                  # 200을 받으면 데이터 JSON 형식으로 받기\n",
    "\n",
    "# 필요한 데이터 불러오기 \n",
    "data_list = [value for (key, value) in data.items()]           # data_list 불러오기 \n",
    "\n",
    "# 어제자 종가 데이터 불러오기 \n",
    "yesterday_data = data_list[0]                                  # 어제자 데이터 불러오기 \n",
    "yesterday_close_price = yesterday_data[\"4. close\"]             # 어제자 종가 데이터 불러오기 \n",
    "print(yesterday_close_price)\n",
    "\n",
    "# 그제 종가 데이터 불러오기\n",
    "day_before_yesterday_data = data_list[1]                                   # 그제자 데이터 불러오기 \n",
    "day_before_yesterday_colse_price = day_before_yesterday_data[\"4. close\"]   # 그제자 종가 데이터 불러오기 \n",
    "print(day_before_yesterday_colse_price)\n",
    "\n",
    "# 어제 폐장가와 엊그제 폐장가 비율 구하기 \n",
    "difference = abs(float(yesterday_close_price) - float(day_before_yesterday_colse_price))  # 어제 폐장가, 엊그제 폐장가 차이 구하기 (절대값으로)\n",
    "diff_percent = (difference / float(yesterday_close_price)) * 100                          # 퍼센트 비율 구하기 \n",
    "\n",
    "# 만약 페장가 비율이 4 퍼센트를 초과할 경우 get new 출력 \n",
    "if diff_percent > 1:\n",
    "    # news_api_parameters\n",
    "    new_parameters = {\n",
    "        \"apiKey\": NEWS_API_KEY,\n",
    "        \"qInTitle\": COMPANY_NAME,\n",
    "    }\n",
    "    \n",
    "    news_response = requests.get(NEWS_ENDPOINT, params=new_parameters)    # 앤드포인트로 요청 받기\n",
    "    news_response.raise_for_status()                                      # 응답 코드 - 200이 아니면 예외를 발생 시킴 \n",
    "    article = news_response.json()[\"articles\"]                            # 기사 데이터 응답 받기 \n",
    "    \n",
    "    three_articles = article[:3]                                          # 최신 기사 3개 불러오기 \n",
    "    print(three_articles)"
   ]
  },
  {
   "cell_type": "code",
   "execution_count": null,
   "id": "6346765b",
   "metadata": {},
   "outputs": [],
   "source": []
  }
 ],
 "metadata": {
  "kernelspec": {
   "display_name": "Python 3 (ipykernel)",
   "language": "python",
   "name": "python3"
  },
  "language_info": {
   "codemirror_mode": {
    "name": "ipython",
    "version": 3
   },
   "file_extension": ".py",
   "mimetype": "text/x-python",
   "name": "python",
   "nbconvert_exporter": "python",
   "pygments_lexer": "ipython3",
   "version": "3.8.12"
  }
 },
 "nbformat": 4,
 "nbformat_minor": 5
}
