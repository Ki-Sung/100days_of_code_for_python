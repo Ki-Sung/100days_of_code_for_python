{
 "cells": [
  {
   "cell_type": "markdown",
   "id": "ce8dbe2d",
   "metadata": {},
   "source": [
    "## BeautifulSoup을 이용해서 페이지 스크래핑 하기"
   ]
  },
  {
   "cell_type": "markdown",
   "id": "8795d6fc",
   "metadata": {},
   "source": [
    "### 1. HTML 파싱 및 Soup 만들기 \n",
    "- 파싱하는 것은 웹사이트에 포함된 정보를 추출하기 위한 첫 번째 단계이다. \n",
    "- BeautifulSoup은 HTML과 XML 파일에서 데이터르 가져오기 위한 파이썬 라이브러리 이다. \n",
    "- BeautifulSoup의 장점은 사용하기 쉽고, 빠르게 웹사이트 내에 데이터를 스크래핑 할 수 있는 점이다. "
   ]
  },
  {
   "cell_type": "code",
   "execution_count": 5,
   "id": "d190458d",
   "metadata": {},
   "outputs": [
    {
     "data": {
      "text/plain": [
       "<!DOCTYPE html>\n",
       "\n",
       "<html>\n",
       "<head>\n",
       "<meta charset=\"utf-8\"/>\n",
       "<title>Angela's Personal Site</title>\n",
       "</head>\n",
       "<body>\n",
       "<h1 id=\"name\">Angela Yu</h1>\n",
       "<p><em>Founder of <strong><a href=\"https://www.appbrewery.co/\">The App Brewery</a></strong>.</em></p>\n",
       "<p>I am an iOS and Web Developer. I ❤️ coffee and motorcycles.</p>\n",
       "<hr/>\n",
       "<h3 class=\"heading\">Books and Teaching</h3>\n",
       "<ul>\n",
       "<li>The Complete iOS App Development Bootcamp</li>\n",
       "<li>The Complete Web Development Bootcamp</li>\n",
       "<li>100 Days of Code - The Complete Python Bootcamp</li>\n",
       "</ul>\n",
       "<hr/>\n",
       "<h3 class=\"heading\">Other Pages</h3>\n",
       "<a href=\"https://angelabauer.github.io/cv/hobbies.html\">My Hobbies</a>\n",
       "<a href=\"https://angelabauer.github.io/cv/contact-me.html\">Contact Me</a>\n",
       "</body>\n",
       "</html>"
      ]
     },
     "execution_count": 5,
     "metadata": {},
     "output_type": "execute_result"
    }
   ],
   "source": [
    "from bs4 import BeautifulSoup\n",
    "import lxml\n",
    "\n",
    "# html 파일 불러오기 \n",
    "with open('./data/website.html') as file:\n",
    "    contents = file.read()\n",
    "\n",
    "# 파싱하기 \n",
    "soup = BeautifulSoup(contents, \"html.parser\")\n",
    "# soup = BeautifulSoup(contents, \"lxml\")\n",
    "soup"
   ]
  },
  {
   "cell_type": "code",
   "execution_count": 16,
   "id": "c2dbd8db",
   "metadata": {},
   "outputs": [
    {
     "data": {
      "text/plain": [
       "\"Angela's Personal Site\""
      ]
     },
     "execution_count": 16,
     "metadata": {},
     "output_type": "execute_result"
    }
   ],
   "source": [
    "# title tag에 있는 내용 불러오기\n",
    "soup.title.string"
   ]
  },
  {
   "cell_type": "code",
   "execution_count": 9,
   "id": "dcc9bca4",
   "metadata": {},
   "outputs": [
    {
     "data": {
      "text/plain": [
       "'<!DOCTYPE html>\\n<html>\\n <head>\\n  <meta charset=\"utf-8\"/>\\n  <title>\\n   Angela\\'s Personal Site\\n  </title>\\n </head>\\n <body>\\n  <h1 id=\"name\">\\n   Angela Yu\\n  </h1>\\n  <p>\\n   <em>\\n    Founder of\\n    <strong>\\n     <a href=\"https://www.appbrewery.co/\">\\n      The App Brewery\\n     </a>\\n    </strong>\\n    .\\n   </em>\\n  </p>\\n  <p>\\n   I am an iOS and Web Developer. I ❤️ coffee and motorcycles.\\n  </p>\\n  <hr/>\\n  <h3 class=\"heading\">\\n   Books and Teaching\\n  </h3>\\n  <ul>\\n   <li>\\n    The Complete iOS App Development Bootcamp\\n   </li>\\n   <li>\\n    The Complete Web Development Bootcamp\\n   </li>\\n   <li>\\n    100 Days of Code - The Complete Python Bootcamp\\n   </li>\\n  </ul>\\n  <hr/>\\n  <h3 class=\"heading\">\\n   Other Pages\\n  </h3>\\n  <a href=\"https://angelabauer.github.io/cv/hobbies.html\">\\n   My Hobbies\\n  </a>\\n  <a href=\"https://angelabauer.github.io/cv/contact-me.html\">\\n   Contact Me\\n  </a>\\n </body>\\n</html>'"
      ]
     },
     "execution_count": 9,
     "metadata": {},
     "output_type": "execute_result"
    }
   ],
   "source": [
    "# html 코드 들여쓰기 \n",
    "soup.prettify()"
   ]
  },
  {
   "cell_type": "code",
   "execution_count": 10,
   "id": "9f463205",
   "metadata": {},
   "outputs": [
    {
     "data": {
      "text/plain": [
       "<a href=\"https://www.appbrewery.co/\">The App Brewery</a>"
      ]
     },
     "execution_count": 10,
     "metadata": {},
     "output_type": "execute_result"
    }
   ],
   "source": [
    "# 앵커 tag 불러오기\n",
    "soup.a"
   ]
  },
  {
   "cell_type": "code",
   "execution_count": 17,
   "id": "a0501884",
   "metadata": {},
   "outputs": [
    {
     "data": {
      "text/plain": [
       "<p><em>Founder of <strong><a href=\"https://www.appbrewery.co/\">The App Brewery</a></strong>.</em></p>"
      ]
     },
     "execution_count": 17,
     "metadata": {},
     "output_type": "execute_result"
    }
   ],
   "source": [
    "# p tag 불러오기  \n",
    "soup.p"
   ]
  },
  {
   "cell_type": "markdown",
   "id": "bb4ff549",
   "metadata": {},
   "source": [
    "### 2. BeautifulSoup로 특정 요소 찾고 선택하기 "
   ]
  },
  {
   "cell_type": "code",
   "execution_count": 21,
   "id": "39434adf",
   "metadata": {},
   "outputs": [
    {
     "data": {
      "text/plain": [
       "[<a href=\"https://www.appbrewery.co/\">The App Brewery</a>,\n",
       " <a href=\"https://angelabauer.github.io/cv/hobbies.html\">My Hobbies</a>,\n",
       " <a href=\"https://angelabauer.github.io/cv/contact-me.html\">Contact Me</a>]"
      ]
     },
     "execution_count": 21,
     "metadata": {},
     "output_type": "execute_result"
    }
   ],
   "source": [
    "# 모든 앵커 tag 찾기\n",
    "all_anchor_tags = soup.find_all(name=\"a\")\n",
    "all_anchor_tags"
   ]
  },
  {
   "cell_type": "code",
   "execution_count": 22,
   "id": "0ee9e5eb",
   "metadata": {},
   "outputs": [
    {
     "data": {
      "text/plain": [
       "[<p><em>Founder of <strong><a href=\"https://www.appbrewery.co/\">The App Brewery</a></strong>.</em></p>,\n",
       " <p>I am an iOS and Web Developer. I ❤️ coffee and motorcycles.</p>]"
      ]
     },
     "execution_count": 22,
     "metadata": {},
     "output_type": "execute_result"
    }
   ],
   "source": [
    "# 모든 p tag 찾기\n",
    "all_p_tags = soup.find_all(name=\"p\")\n",
    "all_p_tags"
   ]
  },
  {
   "cell_type": "code",
   "execution_count": 23,
   "id": "e33e47fd",
   "metadata": {},
   "outputs": [
    {
     "name": "stdout",
     "output_type": "stream",
     "text": [
      "The App Brewery\n",
      "My Hobbies\n",
      "Contact Me\n"
     ]
    }
   ],
   "source": [
    "# 앵커 테그에 있는 text 추출하기 \n",
    "for tag in all_anchor_tags:\n",
    "    print(tag.getText())"
   ]
  },
  {
   "cell_type": "code",
   "execution_count": 24,
   "id": "29b5c152",
   "metadata": {},
   "outputs": [
    {
     "name": "stdout",
     "output_type": "stream",
     "text": [
      "https://www.appbrewery.co/\n",
      "https://angelabauer.github.io/cv/hobbies.html\n",
      "https://angelabauer.github.io/cv/contact-me.html\n"
     ]
    }
   ],
   "source": [
    "# 앵커 테그에 있는 url 추출하기 \n",
    "for tag in all_anchor_tags:\n",
    "    print(tag.get(\"href\"))"
   ]
  },
  {
   "cell_type": "code",
   "execution_count": 25,
   "id": "5742dc7e",
   "metadata": {},
   "outputs": [
    {
     "data": {
      "text/plain": [
       "<h1 id=\"name\">Angela Yu</h1>"
      ]
     },
     "execution_count": 25,
     "metadata": {},
     "output_type": "execute_result"
    }
   ],
   "source": [
    "# h1에 있는 id기준으로 데이터 불러오기 \n",
    "heading = soup.find(name=\"h1\", id=\"name\")\n",
    "heading"
   ]
  },
  {
   "cell_type": "code",
   "execution_count": 28,
   "id": "8c5b0068",
   "metadata": {},
   "outputs": [
    {
     "data": {
      "text/plain": [
       "'Books and Teaching'"
      ]
     },
     "execution_count": 28,
     "metadata": {},
     "output_type": "execute_result"
    }
   ],
   "source": [
    "# 클래스 속성으로 데이터 추출하기 \n",
    "heading = soup.find(name=\"h3\", class_=\"heading\")\n",
    "heading.getText()"
   ]
  },
  {
   "cell_type": "code",
   "execution_count": 29,
   "id": "a4ddfcb9",
   "metadata": {},
   "outputs": [
    {
     "data": {
      "text/plain": [
       "<a href=\"https://www.appbrewery.co/\">The App Brewery</a>"
      ]
     },
     "execution_count": 29,
     "metadata": {},
     "output_type": "execute_result"
    }
   ],
   "source": [
    "# 중간에 끼여있는 tag를 추출하려면? -> select 메소드 \n",
    "company_url = soup.select_one(selector=\"p a\")\n",
    "company_url"
   ]
  },
  {
   "cell_type": "code",
   "execution_count": 30,
   "id": "5e0e9338",
   "metadata": {},
   "outputs": [
    {
     "data": {
      "text/plain": [
       "<h1 id=\"name\">Angela Yu</h1>"
      ]
     },
     "execution_count": 30,
     "metadata": {},
     "output_type": "execute_result"
    }
   ],
   "source": [
    "# h1의 id 값을 추출하려면? \n",
    "company_url = soup.select_one(selector=\"#name\")\n",
    "company_url"
   ]
  },
  {
   "cell_type": "code",
   "execution_count": 32,
   "id": "60ddd64d",
   "metadata": {},
   "outputs": [
    {
     "data": {
      "text/plain": [
       "[<h3 class=\"heading\">Books and Teaching</h3>,\n",
       " <h3 class=\"heading\">Other Pages</h3>]"
      ]
     },
     "execution_count": 32,
     "metadata": {},
     "output_type": "execute_result"
    }
   ],
   "source": [
    "# select를 이용해서 class 데이터 불러오기 \n",
    "headings = soup.select(\".heading\")\n",
    "headings"
   ]
  },
  {
   "cell_type": "markdown",
   "id": "f17e6433",
   "metadata": {},
   "source": [
    "### 3. 라이브 웹사이트 스크래핑 하기 \n",
    "- 실제 웹사이트 스크래핑 하기 \n",
    "    - https://news.ycombinator.com/ -> Hacker News site "
   ]
  },
  {
   "cell_type": "code",
   "execution_count": 1,
   "id": "3babd4a9",
   "metadata": {},
   "outputs": [
    {
     "name": "stdout",
     "output_type": "stream",
     "text": [
      "<html lang=\"en\" op=\"news\"><head><meta name=\"referrer\" content=\"origin\"><meta name=\"viewport\" content=\"width=device-width, initial-scale=1.0\"><link rel=\"stylesheet\" type=\"text/css\" href=\"news.css?R8kUq8d9jHbN7kt0kRJT\">\n",
      "        <link rel=\"shortcut icon\" href=\"favicon.ico\">\n",
      "          <link rel=\"alternate\" type=\"application/rss+xml\" title=\"RSS\" href=\"rss\">\n",
      "        <title>Hacker News</title></head><body><center><table id=\"hnmain\" border=\"0\" cellpadding=\"0\" cellspacing=\"0\" width=\"85%\" bgcolor=\"#f6f6ef\">\n",
      "        <tr><td bgcolor=\"#ff6600\"><table border=\"0\" cellpadding=\"0\" cellspacing=\"0\" width=\"100%\" style=\"padding:2px\"><tr><td style=\"width:18px;padding-right:4px\"><a href=\"https://news.ycombinator.com\"><img src=\"y18.svg\" width=\"18\" height=\"18\" style=\"border:1px white solid; display:block\"></a></td>\n",
      "                  <td style=\"line-height:12pt; height:10px;\"><span class=\"pagetop\"><b class=\"hnname\"><a href=\"news\">Hacker News</a></b>\n",
      "                            <a href=\"newest\">new</a> | <a href=\"front\">past</a> | <a href=\"newcomments\">comments</a> | <a href=\"ask\">ask</a> | <a href=\"show\">show</a> | <a href=\"jobs\">jobs</a> | <a href=\"submit\">submit</a>            </span></td><td style=\"text-align:right;padding-right:4px;\"><span class=\"pagetop\">\n",
      "                              <a href=\"login?goto=news\">login</a>\n",
      "                          </span></td>\n",
      "              </tr></table></td></tr>\n",
      "<tr id=\"pagespace\" title=\"\" style=\"height:10px\"></tr><tr><td><table border=\"0\" cellpadding=\"0\" cellspacing=\"0\">\n",
      "            <tr class='athing' id='37494275'>\n",
      "      <td align=\"right\" valign=\"top\" class=\"title\"><span class=\"rank\">1.</span></td>      <td valign=\"top\" class=\"votelinks\"><center><a id='up_37494275'href='vote?id=37494275&amp;how=up&amp;goto=news'><div class='votearrow' title='upvote'></div></a></center></td><td class=\"title\"><span class=\"titleline\"><a href=\"https://love2d.org/\" rel=\"noreferrer\">LÖVE: a framework to make 2D games in Lua</a><span class=\"sitebit comhead\"> (<a href=\"from?site=love2d.org\"><span class=\"sitestr\">love2d.org</span></a>)</span></span></td></tr><tr><td colspan=\"2\"></td><td class=\"subtext\"><span class=\"subline\">\n",
      "          <span class=\"score\" id=\"score_37494275\">116 points</span> by <a href=\"user?id=rapnie\" class=\"hnuser\">rapnie</a> <span class=\"age\" title=\"2023-09-13T09:21:16\"><a href=\"item?id=37494275\">1 hour ago</a></span> <span id=\"unv_37494275\"></span> | <a href=\"hide?id=37494275&amp;goto=news\">hide</a> | <a href=\"item?id=37494275\">27&nbsp;comments</a>        </span>\n",
      "              </td></tr>\n",
      "      <tr class=\"spacer\" style=\"height:5px\"></tr>\n",
      "                <tr class='athing' id='37494620'>\n",
      "      <td align=\"right\" valign=\"top\" class=\"title\"><span class=\"rank\">2.</span></td>      <td valign=\"top\" class=\"votelinks\"><center><a id='up_37494620'href='vote?id=37494620&amp;how=up&amp;goto=news'><div class='votearrow' title='upvote'></div></a></center></td><td class=\"title\"><span class=\"titleline\"><a href=\"https://stability.ai/research/stable-audio-efficient-timing-latent-diffusion\" rel=\"noreferrer\">Stable Audio: Fast Timing-Conditioned Latent Audio Diffusion</a><span class=\"sitebit comhead\"> (<a href=\"from?site=stability.ai\"><span class=\"sitestr\">stability.ai</span></a>)</span></span></td></tr><tr><td colspan=\"2\"></td><td class=\"subtext\"><span class=\"subline\">\n",
      "          <span class=\"score\" id=\"score_37494620\">23 points</span> by <a href=\"user?id=JonathanFly\" class=\"hnuser\">JonathanFly</a> <span class=\"age\" title=\"2023-09-13T10:00:00\"><a href=\"item?id=37494620\">1 hour ago</a></span> <span id=\"unv_37494620\"></span> | <a href=\"hide?id=37494620&amp;goto=news\">hide</a> | <a href=\"item?id=37494620\">4&nbsp;comments</a>        </span>\n",
      "              </td></tr>\n",
      "      <tr class=\"spacer\" style=\"height:5px\"></tr>\n",
      "                <tr class='athing' id='37491862'>\n",
      "      <td align=\"right\" valign=\"top\" class=\"title\"><span class=\"rank\">3.</span></td>      <td valign=\"top\" class=\"votelinks\"><center><a id='up_37491862'href='vote?id=37491862&amp;how=up&amp;goto=news'><div class='votearrow' title='upvote'></div></a></center></td><td class=\"title\"><span class=\"titleline\"><a href=\"https://devblogs.microsoft.com/oldnewthing/20230911-00/?p=108749\" rel=\"noreferrer\">Any sufficiently advanced uninstaller is indistinguishable from malware</a><span class=\"sitebit comhead\"> (<a href=\"from?site=microsoft.com\"><span class=\"sitestr\">microsoft.com</span></a>)</span></span></td></tr><tr><td colspan=\"2\"></td><td class=\"subtext\"><span class=\"subline\">\n",
      "          <span class=\"score\" id=\"score_37491862\">374 points</span> by <a href=\"user?id=mycall\" class=\"hnuser\">mycall</a> <span class=\"age\" title=\"2023-09-13T03:31:07\"><a href=\"item?id=37491862\">7 hours ago</a></span> <span id=\"unv_37491862\"></span> | <a href=\"hide?id=37491862&amp;goto=news\">hide</a> | <a href=\"item?id=37491862\">238&nbsp;comments</a>        </span>\n",
      "              </td></tr>\n",
      "      <tr class=\"spacer\" style=\"height:5px\"></tr>\n",
      "                <tr class='athing' id='37494015'>\n",
      "      <td align=\"right\" valign=\"top\" class=\"title\"><span class=\"rank\">4.</span></td>      <td valign=\"top\" class=\"votelinks\"><center><a id='up_37494015'href='vote?id=37494015&amp;how=up&amp;goto=news'><div class='votearrow' title='upvote'></div></a></center></td><td class=\"title\"><span class=\"titleline\"><a href=\"https://github.com/hfg-gmuend/openmoji\">Openmoji</a><span class=\"sitebit comhead\"> (<a href=\"from?site=github.com/hfg-gmuend\"><span class=\"sitestr\">github.com/hfg-gmuend</span></a>)</span></span></td></tr><tr><td colspan=\"2\"></td><td class=\"subtext\"><span class=\"subline\">\n",
      "          <span class=\"score\" id=\"score_37494015\">61 points</span> by <a href=\"user?id=AnhTho_FR\" class=\"hnuser\">AnhTho_FR</a> <span class=\"age\" title=\"2023-09-13T08:50:29\"><a href=\"item?id=37494015\">2 hours ago</a></span> <span id=\"unv_37494015\"></span> | <a href=\"hide?id=37494015&amp;goto=news\">hide</a> | <a href=\"item?id=37494015\">13&nbsp;comments</a>        </span>\n",
      "              </td></tr>\n",
      "      <tr class=\"spacer\" style=\"height:5px\"></tr>\n",
      "                <tr class='athing' id='37492986'>\n",
      "      <td align=\"right\" valign=\"top\" class=\"title\"><span class=\"rank\">5.</span></td>      <td valign=\"top\" class=\"votelinks\"><center><a id='up_37492986'href='vote?id=37492986&amp;how=up&amp;goto=news'><div class='votearrow' title='upvote'></div></a></center></td><td class=\"title\"><span class=\"titleline\"><a href=\"https://github.com/turboderp/exllamav2\">70B Llama 2 at 35tokens&#x2F;second on 4090</a><span class=\"sitebit comhead\"> (<a href=\"from?site=github.com/turboderp\"><span class=\"sitestr\">github.com/turboderp</span></a>)</span></span></td></tr><tr><td colspan=\"2\"></td><td class=\"subtext\"><span class=\"subline\">\n",
      "          <span class=\"score\" id=\"score_37492986\">110 points</span> by <a href=\"user?id=Palmik\" class=\"hnuser\">Palmik</a> <span class=\"age\" title=\"2023-09-13T06:37:46\"><a href=\"item?id=37492986\">4 hours ago</a></span> <span id=\"unv_37492986\"></span> | <a href=\"hide?id=37492986&amp;goto=news\">hide</a> | <a href=\"item?id=37492986\">53&nbsp;comments</a>        </span>\n",
      "              </td></tr>\n",
      "      <tr class=\"spacer\" style=\"height:5px\"></tr>\n",
      "                <tr class='athing' id='37490241'>\n",
      "      <td align=\"right\" valign=\"top\" class=\"title\"><span class=\"rank\">6.</span></td>      <td valign=\"top\" class=\"votelinks\"><center><a id='up_37490241'href='vote?id=37490241&amp;how=up&amp;goto=news'><div class='votearrow' title='upvote'></div></a></center></td><td class=\"title\"><span class=\"titleline\"><a href=\"https://www.bitsaboutmoney.com/archive/the-waste-stream-of-consumer-finance/\" rel=\"noreferrer\">Credit card debt collection</a><span class=\"sitebit comhead\"> (<a href=\"from?site=bitsaboutmoney.com\"><span class=\"sitestr\">bitsaboutmoney.com</span></a>)</span></span></td></tr><tr><td colspan=\"2\"></td><td class=\"subtext\"><span class=\"subline\">\n",
      "          <span class=\"score\" id=\"score_37490241\">493 points</span> by <a href=\"user?id=got-any-grapes\" class=\"hnuser\">got-any-grapes</a> <span class=\"age\" title=\"2023-09-12T23:45:06\"><a href=\"item?id=37490241\">11 hours ago</a></span> <span id=\"unv_37490241\"></span> | <a href=\"hide?id=37490241&amp;goto=news\">hide</a> | <a href=\"item?id=37490241\">244&nbsp;comments</a>        </span>\n",
      "              </td></tr>\n",
      "      <tr class=\"spacer\" style=\"height:5px\"></tr>\n",
      "                <tr class='athing' id='37492752'>\n",
      "      <td align=\"right\" valign=\"top\" class=\"title\"><span class=\"rank\">7.</span></td>      <td valign=\"top\" class=\"votelinks\"><center><a id='up_37492752'href='vote?id=37492752&amp;how=up&amp;goto=news'><div class='votearrow' title='upvote'></div></a></center></td><td class=\"title\"><span class=\"titleline\"><a href=\"https://www.anfr.fr/liste-actualites/actualite/temporary-withdrawal-from-the-market-of-the-iphone-12-for-non-compliance-with-eu-regulation\" rel=\"noreferrer\">iPhone 12 withdrawn from French market for non-compliance with EU regulation</a><span class=\"sitebit comhead\"> (<a href=\"from?site=anfr.fr\"><span class=\"sitestr\">anfr.fr</span></a>)</span></span></td></tr><tr><td colspan=\"2\"></td><td class=\"subtext\"><span class=\"subline\">\n",
      "          <span class=\"score\" id=\"score_37492752\">124 points</span> by <a href=\"user?id=patadune\" class=\"hnuser\">patadune</a> <span class=\"age\" title=\"2023-09-13T06:01:00\"><a href=\"item?id=37492752\">5 hours ago</a></span> <span id=\"unv_37492752\"></span> | <a href=\"hide?id=37492752&amp;goto=news\">hide</a> | <a href=\"item?id=37492752\">56&nbsp;comments</a>        </span>\n",
      "              </td></tr>\n",
      "      <tr class=\"spacer\" style=\"height:5px\"></tr>\n",
      "                <tr class='athing' id='37493797'>\n",
      "      <td align=\"right\" valign=\"top\" class=\"title\"><span class=\"rank\">8.</span></td>      <td valign=\"top\" class=\"votelinks\"><center><a id='up_37493797'href='vote?id=37493797&amp;how=up&amp;goto=news'><div class='votearrow' title='upvote'></div></a></center></td><td class=\"title\"><span class=\"titleline\"><a href=\"https://www.cs.cmu.edu/~zhuxj/astro/html/spectrometer.html\" rel=\"noreferrer\">A CD Spectrometer</a><span class=\"sitebit comhead\"> (<a href=\"from?site=cmu.edu\"><span class=\"sitestr\">cmu.edu</span></a>)</span></span></td></tr><tr><td colspan=\"2\"></td><td class=\"subtext\"><span class=\"subline\">\n",
      "          <span class=\"score\" id=\"score_37493797\">39 points</span> by <a href=\"user?id=wcrossbow\" class=\"hnuser\">wcrossbow</a> <span class=\"age\" title=\"2023-09-13T08:26:16\"><a href=\"item?id=37493797\">2 hours ago</a></span> <span id=\"unv_37493797\"></span> | <a href=\"hide?id=37493797&amp;goto=news\">hide</a> | <a href=\"item?id=37493797\">3&nbsp;comments</a>        </span>\n",
      "              </td></tr>\n",
      "      <tr class=\"spacer\" style=\"height:5px\"></tr>\n",
      "                <tr class='athing' id='37493964'>\n",
      "      <td align=\"right\" valign=\"top\" class=\"title\"><span class=\"rank\">9.</span></td>      <td valign=\"top\" class=\"votelinks\"><center><a id='up_37493964'href='vote?id=37493964&amp;how=up&amp;goto=news'><div class='votearrow' title='upvote'></div></a></center></td><td class=\"title\"><span class=\"titleline\"><a href=\"https://hitchdev.com/strictyaml/why-not/toml/\" rel=\"noreferrer\">What Is Wrong with TOML?</a><span class=\"sitebit comhead\"> (<a href=\"from?site=hitchdev.com\"><span class=\"sitestr\">hitchdev.com</span></a>)</span></span></td></tr><tr><td colspan=\"2\"></td><td class=\"subtext\"><span class=\"subline\">\n",
      "          <span class=\"score\" id=\"score_37493964\">27 points</span> by <a href=\"user?id=BerislavLopac\" class=\"hnuser\">BerislavLopac</a> <span class=\"age\" title=\"2023-09-13T08:44:58\"><a href=\"item?id=37493964\">2 hours ago</a></span> <span id=\"unv_37493964\"></span> | <a href=\"hide?id=37493964&amp;goto=news\">hide</a> | <a href=\"item?id=37493964\">26&nbsp;comments</a>        </span>\n",
      "              </td></tr>\n",
      "      <tr class=\"spacer\" style=\"height:5px\"></tr>\n",
      "                <tr class='athing' id='37490623'>\n",
      "      <td align=\"right\" valign=\"top\" class=\"title\"><span class=\"rank\">10.</span></td>      <td valign=\"top\" class=\"votelinks\"><center><a id='up_37490623'href='vote?id=37490623&amp;how=up&amp;goto=news'><div class='votearrow' title='upvote'></div></a></center></td><td class=\"title\"><span class=\"titleline\"><a href=\"https://makelinux.github.io/kernel/map/\" rel=\"noreferrer\">Interactive Map of Linux Kernel</a><span class=\"sitebit comhead\"> (<a href=\"from?site=makelinux.github.io\"><span class=\"sitestr\">makelinux.github.io</span></a>)</span></span></td></tr><tr><td colspan=\"2\"></td><td class=\"subtext\"><span class=\"subline\">\n",
      "          <span class=\"score\" id=\"score_37490623\">248 points</span> by <a href=\"user?id=mr_o47\" class=\"hnuser\">mr_o47</a> <span class=\"age\" title=\"2023-09-13T00:31:56\"><a href=\"item?id=37490623\">10 hours ago</a></span> <span id=\"unv_37490623\"></span> | <a href=\"hide?id=37490623&amp;goto=news\">hide</a> | <a href=\"item?id=37490623\">17&nbsp;comments</a>        </span>\n",
      "              </td></tr>\n",
      "      <tr class=\"spacer\" style=\"height:5px\"></tr>\n",
      "                <tr class='athing' id='37493845'>\n",
      "      <td align=\"right\" valign=\"top\" class=\"title\"><span class=\"rank\">11.</span></td>      <td valign=\"top\" class=\"votelinks\"><center><a id='up_37493845'href='vote?id=37493845&amp;how=up&amp;goto=news'><div class='votearrow' title='upvote'></div></a></center></td><td class=\"title\"><span class=\"titleline\"><a href=\"https://www.youtube.com/watch?v=AQeGBHxIyHw\">Amazon&#x27;s Union-Busting Training Video</a><span class=\"sitebit comhead\"> (<a href=\"from?site=youtube.com\"><span class=\"sitestr\">youtube.com</span></a>)</span></span></td></tr><tr><td colspan=\"2\"></td><td class=\"subtext\"><span class=\"subline\">\n",
      "          <span class=\"score\" id=\"score_37493845\">128 points</span> by <a href=\"user?id=throwaway429310\" class=\"hnuser\">throwaway429310</a> <span class=\"age\" title=\"2023-09-13T08:30:43\"><a href=\"item?id=37493845\">2 hours ago</a></span> <span id=\"unv_37493845\"></span> | <a href=\"hide?id=37493845&amp;goto=news\">hide</a> | <a href=\"item?id=37493845\">61&nbsp;comments</a>        </span>\n",
      "              </td></tr>\n",
      "      <tr class=\"spacer\" style=\"height:5px\"></tr>\n",
      "                <tr class='athing' id='37492371'>\n",
      "      <td align=\"right\" valign=\"top\" class=\"title\"><span class=\"rank\">12.</span></td>      <td valign=\"top\" class=\"votelinks\"><center><a id='up_37492371'href='vote?id=37492371&amp;how=up&amp;goto=news'><div class='votearrow' title='upvote'></div></a></center></td><td class=\"title\"><span class=\"titleline\"><a href=\"https://www.da.vidbuchanan.co.uk/blog/unix-clock.html\" rel=\"noreferrer\">S32 Unix Clock</a><span class=\"sitebit comhead\"> (<a href=\"from?site=da.vidbuchanan.co.uk\"><span class=\"sitestr\">da.vidbuchanan.co.uk</span></a>)</span></span></td></tr><tr><td colspan=\"2\"></td><td class=\"subtext\"><span class=\"subline\">\n",
      "          <span class=\"score\" id=\"score_37492371\">67 points</span> by <a href=\"user?id=g0xA52A2A\" class=\"hnuser\">g0xA52A2A</a> <span class=\"age\" title=\"2023-09-13T04:57:41\"><a href=\"item?id=37492371\">6 hours ago</a></span> <span id=\"unv_37492371\"></span> | <a href=\"hide?id=37492371&amp;goto=news\">hide</a> | <a href=\"item?id=37492371\">4&nbsp;comments</a>        </span>\n",
      "              </td></tr>\n",
      "      <tr class=\"spacer\" style=\"height:5px\"></tr>\n",
      "                <tr class='athing' id='37490300'>\n",
      "      <td align=\"right\" valign=\"top\" class=\"title\"><span class=\"rank\">13.</span></td>      <td valign=\"top\" class=\"votelinks\"><center><a id='up_37490300'href='vote?id=37490300&amp;how=up&amp;goto=news'><div class='votearrow' title='upvote'></div></a></center></td><td class=\"title\"><span class=\"titleline\"><a href=\"https://www.lennysnewsletter.com/p/finding-product-market-fit\" rel=\"noreferrer\">How long it took different companies to find product-market fit</a><span class=\"sitebit comhead\"> (<a href=\"from?site=lennysnewsletter.com\"><span class=\"sitestr\">lennysnewsletter.com</span></a>)</span></span></td></tr><tr><td colspan=\"2\"></td><td class=\"subtext\"><span class=\"subline\">\n",
      "          <span class=\"score\" id=\"score_37490300\">170 points</span> by <a href=\"user?id=richardzhang\" class=\"hnuser\">richardzhang</a> <span class=\"age\" title=\"2023-09-12T23:51:05\"><a href=\"item?id=37490300\">11 hours ago</a></span> <span id=\"unv_37490300\"></span> | <a href=\"hide?id=37490300&amp;goto=news\">hide</a> | <a href=\"item?id=37490300\">44&nbsp;comments</a>        </span>\n",
      "              </td></tr>\n",
      "      <tr class=\"spacer\" style=\"height:5px\"></tr>\n",
      "                <tr class='athing' id='37472347'>\n",
      "      <td align=\"right\" valign=\"top\" class=\"title\"><span class=\"rank\">14.</span></td>      <td valign=\"top\" class=\"votelinks\"><center><a id='up_37472347'href='vote?id=37472347&amp;how=up&amp;goto=news'><div class='votearrow' title='upvote'></div></a></center></td><td class=\"title\"><span class=\"titleline\"><a href=\"https://en.wikipedia.org/wiki/Rubber_hose_animation\" rel=\"noreferrer\">Rubber hose animation</a><span class=\"sitebit comhead\"> (<a href=\"from?site=wikipedia.org\"><span class=\"sitestr\">wikipedia.org</span></a>)</span></span></td></tr><tr><td colspan=\"2\"></td><td class=\"subtext\"><span class=\"subline\">\n",
      "          <span class=\"score\" id=\"score_37472347\">24 points</span> by <a href=\"user?id=mmastrac\" class=\"hnuser\">mmastrac</a> <span class=\"age\" title=\"2023-09-11T19:20:00\"><a href=\"item?id=37472347\">4 hours ago</a></span> <span id=\"unv_37472347\"></span> | <a href=\"hide?id=37472347&amp;goto=news\">hide</a> | <a href=\"item?id=37472347\">5&nbsp;comments</a>        </span>\n",
      "              </td></tr>\n",
      "      <tr class=\"spacer\" style=\"height:5px\"></tr>\n",
      "                <tr class='athing' id='37466217'>\n",
      "      <td align=\"right\" valign=\"top\" class=\"title\"><span class=\"rank\">15.</span></td>      <td valign=\"top\" class=\"votelinks\"><center><a id='up_37466217'href='vote?id=37466217&amp;how=up&amp;goto=news'><div class='votearrow' title='upvote'></div></a></center></td><td class=\"title\"><span class=\"titleline\"><a href=\"https://arxiv.org/abs/2309.00174\" rel=\"noreferrer\">Typing on Any Surface: A Deep Learning Method for Keystroke Detection in AR</a><span class=\"sitebit comhead\"> (<a href=\"from?site=arxiv.org\"><span class=\"sitestr\">arxiv.org</span></a>)</span></span></td></tr><tr><td colspan=\"2\"></td><td class=\"subtext\"><span class=\"subline\">\n",
      "          <span class=\"score\" id=\"score_37466217\">13 points</span> by <a href=\"user?id=PaulHoule\" class=\"hnuser\">PaulHoule</a> <span class=\"age\" title=\"2023-09-11T12:27:19\"><a href=\"item?id=37466217\">3 hours ago</a></span> <span id=\"unv_37466217\"></span> | <a href=\"hide?id=37466217&amp;goto=news\">hide</a> | <a href=\"item?id=37466217\">6&nbsp;comments</a>        </span>\n",
      "              </td></tr>\n",
      "      <tr class=\"spacer\" style=\"height:5px\"></tr>\n",
      "                <tr class='athing' id='37463059'>\n",
      "      <td align=\"right\" valign=\"top\" class=\"title\"><span class=\"rank\">16.</span></td>      <td valign=\"top\" class=\"votelinks\"><center><a id='up_37463059'href='vote?id=37463059&amp;how=up&amp;goto=news'><div class='votearrow' title='upvote'></div></a></center></td><td class=\"title\"><span class=\"titleline\"><a href=\"https://reason.com/2023/09/10/the-pirate-preservationists/\" rel=\"noreferrer\">The Pirate Preservationists</a><span class=\"sitebit comhead\"> (<a href=\"from?site=reason.com\"><span class=\"sitestr\">reason.com</span></a>)</span></span></td></tr><tr><td colspan=\"2\"></td><td class=\"subtext\"><span class=\"subline\">\n",
      "          <span class=\"score\" id=\"score_37463059\">93 points</span> by <a href=\"user?id=fortran77\" class=\"hnuser\">fortran77</a> <span class=\"age\" title=\"2023-09-11T04:59:54\"><a href=\"item?id=37463059\">10 hours ago</a></span> <span id=\"unv_37463059\"></span> | <a href=\"hide?id=37463059&amp;goto=news\">hide</a> | <a href=\"item?id=37463059\">6&nbsp;comments</a>        </span>\n",
      "              </td></tr>\n",
      "      <tr class=\"spacer\" style=\"height:5px\"></tr>\n",
      "                <tr class='athing' id='37490924'>\n",
      "      <td align=\"right\" valign=\"top\" class=\"title\"><span class=\"rank\">17.</span></td>      <td valign=\"top\" class=\"votelinks\"><center><a id='up_37490924'href='vote?id=37490924&amp;how=up&amp;goto=news'><div class='votearrow' title='upvote'></div></a></center></td><td class=\"title\"><span class=\"titleline\"><a href=\"https://www.ignorance.ai/p/5-lessons-from-139-yc-ai-startups\" rel=\"noreferrer\">Lessons from YC AI Startups</a><span class=\"sitebit comhead\"> (<a href=\"from?site=ignorance.ai\"><span class=\"sitestr\">ignorance.ai</span></a>)</span></span></td></tr><tr><td colspan=\"2\"></td><td class=\"subtext\"><span class=\"subline\">\n",
      "          <span class=\"score\" id=\"score_37490924\">88 points</span> by <a href=\"user?id=charlierguo\" class=\"hnuser\">charlierguo</a> <span class=\"age\" title=\"2023-09-13T01:12:46\"><a href=\"item?id=37490924\">9 hours ago</a></span> <span id=\"unv_37490924\"></span> | <a href=\"hide?id=37490924&amp;goto=news\">hide</a> | <a href=\"item?id=37490924\">47&nbsp;comments</a>        </span>\n",
      "              </td></tr>\n",
      "      <tr class=\"spacer\" style=\"height:5px\"></tr>\n",
      "                <tr class='athing' id='37493928'>\n",
      "      <td align=\"right\" valign=\"top\" class=\"title\"><span class=\"rank\">18.</span></td>      <td valign=\"top\" class=\"votelinks\"><center><a id='up_37493928'href='vote?id=37493928&amp;how=up&amp;goto=news'><div class='votearrow' title='upvote'></div></a></center></td><td class=\"title\"><span class=\"titleline\"><a href=\"https://twitter.com/glenngabe/status/1699389973361738146\" rel=\"noreferrer\">Google has been rolling out Chrome&#x27;s “Enhanced Ad Privacy” via a popup</a><span class=\"sitebit comhead\"> (<a href=\"from?site=twitter.com/glenngabe\"><span class=\"sitestr\">twitter.com/glenngabe</span></a>)</span></span></td></tr><tr><td colspan=\"2\"></td><td class=\"subtext\"><span class=\"subline\">\n",
      "          <span class=\"score\" id=\"score_37493928\">39 points</span> by <a href=\"user?id=nixass\" class=\"hnuser\">nixass</a> <span class=\"age\" title=\"2023-09-13T08:41:21\"><a href=\"item?id=37493928\">2 hours ago</a></span> <span id=\"unv_37493928\"></span> | <a href=\"hide?id=37493928&amp;goto=news\">hide</a> | <a href=\"item?id=37493928\">12&nbsp;comments</a>        </span>\n",
      "              </td></tr>\n",
      "      <tr class=\"spacer\" style=\"height:5px\"></tr>\n",
      "                <tr class='athing' id='37493566'>\n",
      "      <td align=\"right\" valign=\"top\" class=\"title\"><span class=\"rank\">19.</span></td>      <td valign=\"top\" class=\"votelinks\"><center><a id='up_37493566'href='vote?id=37493566&amp;how=up&amp;goto=news'><div class='votearrow' title='upvote'></div></a></center></td><td class=\"title\"><span class=\"titleline\"><a href=\"https://www.france24.com/en/europe/20230912-france-orders-apple-to-halt-iphone-12-sales-due-to-high-radiation-levels\" rel=\"noreferrer\">French regulators order Apple to halt sales of the iPhone 12</a><span class=\"sitebit comhead\"> (<a href=\"from?site=france24.com\"><span class=\"sitestr\">france24.com</span></a>)</span></span></td></tr><tr><td colspan=\"2\"></td><td class=\"subtext\"><span class=\"subline\">\n",
      "          <span class=\"score\" id=\"score_37493566\">58 points</span> by <a href=\"user?id=nico401\" class=\"hnuser\">nico401</a> <span class=\"age\" title=\"2023-09-13T07:56:32\"><a href=\"item?id=37493566\">3 hours ago</a></span> <span id=\"unv_37493566\"></span> | <a href=\"hide?id=37493566&amp;goto=news\">hide</a> | <a href=\"item?id=37493566\">34&nbsp;comments</a>        </span>\n",
      "              </td></tr>\n",
      "      <tr class=\"spacer\" style=\"height:5px\"></tr>\n",
      "                <tr class='athing' id='37485290'>\n",
      "      <td align=\"right\" valign=\"top\" class=\"title\"><span class=\"rank\">20.</span></td>      <td valign=\"top\" class=\"votelinks\"><center><a id='up_37485290'href='vote?id=37485290&amp;how=up&amp;goto=news'><div class='votearrow' title='upvote'></div></a></center></td><td class=\"title\"><span class=\"titleline\"><a href=\"https://www.apple.com/newsroom/2023/09/apple-debuts-iphone-15-and-iphone-15-plus/\" rel=\"noreferrer\">iPhone 15 and iPhone 15 Plus</a><span class=\"sitebit comhead\"> (<a href=\"from?site=apple.com\"><span class=\"sitestr\">apple.com</span></a>)</span></span></td></tr><tr><td colspan=\"2\"></td><td class=\"subtext\"><span class=\"subline\">\n",
      "          <span class=\"score\" id=\"score_37485290\">693 points</span> by <a href=\"user?id=mikece\" class=\"hnuser\">mikece</a> <span class=\"age\" title=\"2023-09-12T18:23:09\"><a href=\"item?id=37485290\">16 hours ago</a></span> <span id=\"unv_37485290\"></span> | <a href=\"hide?id=37485290&amp;goto=news\">hide</a> | <a href=\"item?id=37485290\">1762&nbsp;comments</a>        </span>\n",
      "              </td></tr>\n",
      "      <tr class=\"spacer\" style=\"height:5px\"></tr>\n",
      "                <tr class='athing' id='37490277'>\n",
      "      <td align=\"right\" valign=\"top\" class=\"title\"><span class=\"rank\">21.</span></td>      <td valign=\"top\" class=\"votelinks\"><center><a id='up_37490277'href='vote?id=37490277&amp;how=up&amp;goto=news'><div class='votearrow' title='upvote'></div></a></center></td><td class=\"title\"><span class=\"titleline\"><a href=\"https://www.smithsonianmag.com/history/pablo-fanques-fair-71575787/\" rel=\"nofollow noreferrer\">Pablo Fanque&#x27;s Fair (2011)</a><span class=\"sitebit comhead\"> (<a href=\"from?site=smithsonianmag.com\"><span class=\"sitestr\">smithsonianmag.com</span></a>)</span></span></td></tr><tr><td colspan=\"2\"></td><td class=\"subtext\"><span class=\"subline\">\n",
      "          <span class=\"score\" id=\"score_37490277\">5 points</span> by <a href=\"user?id=nought\" class=\"hnuser\">nought</a> <span class=\"age\" title=\"2023-09-12T23:48:11\"><a href=\"item?id=37490277\">2 hours ago</a></span> <span id=\"unv_37490277\"></span> | <a href=\"hide?id=37490277&amp;goto=news\">hide</a> | <a href=\"item?id=37490277\">discuss</a>        </span>\n",
      "              </td></tr>\n",
      "      <tr class=\"spacer\" style=\"height:5px\"></tr>\n",
      "                <tr class='athing' id='37488034'>\n",
      "      <td align=\"right\" valign=\"top\" class=\"title\"><span class=\"rank\">22.</span></td>      <td valign=\"top\" class=\"votelinks\"><center><a id='up_37488034'href='vote?id=37488034&amp;how=up&amp;goto=news'><div class='votearrow' title='upvote'></div></a></center></td><td class=\"title\"><span class=\"titleline\"><a href=\"https://bricolage.io/some-notes-on-local-first-development/\" rel=\"noreferrer\">Some notes on local-first development</a><span class=\"sitebit comhead\"> (<a href=\"from?site=bricolage.io\"><span class=\"sitestr\">bricolage.io</span></a>)</span></span></td></tr><tr><td colspan=\"2\"></td><td class=\"subtext\"><span class=\"subline\">\n",
      "          <span class=\"score\" id=\"score_37488034\">145 points</span> by <a href=\"user?id=calcsam\" class=\"hnuser\">calcsam</a> <span class=\"age\" title=\"2023-09-12T20:46:55\"><a href=\"item?id=37488034\">14 hours ago</a></span> <span id=\"unv_37488034\"></span> | <a href=\"hide?id=37488034&amp;goto=news\">hide</a> | <a href=\"item?id=37488034\">58&nbsp;comments</a>        </span>\n",
      "              </td></tr>\n",
      "      <tr class=\"spacer\" style=\"height:5px\"></tr>\n",
      "                <tr class='athing' id='37484135'>\n",
      "      <td align=\"right\" valign=\"top\" class=\"title\"><span class=\"rank\">23.</span></td>      <td valign=\"top\" class=\"votelinks\"><center><a id='up_37484135'href='vote?id=37484135&amp;how=up&amp;goto=news'><div class='votearrow' title='upvote'></div></a></center></td><td class=\"title\"><span class=\"titleline\"><a href=\"item?id=37484135\">Fine-tune your own Llama 2 to replace GPT-3.5&#x2F;4</a></span></td></tr><tr><td colspan=\"2\"></td><td class=\"subtext\"><span class=\"subline\">\n",
      "          <span class=\"score\" id=\"score_37484135\">785 points</span> by <a href=\"user?id=kcorbitt\" class=\"hnuser\">kcorbitt</a> <span class=\"age\" title=\"2023-09-12T16:53:51\"><a href=\"item?id=37484135\">18 hours ago</a></span> <span id=\"unv_37484135\"></span> | <a href=\"hide?id=37484135&amp;goto=news\">hide</a> | <a href=\"item?id=37484135\">155&nbsp;comments</a>        </span>\n",
      "              </td></tr>\n",
      "      <tr class=\"spacer\" style=\"height:5px\"></tr>\n",
      "                <tr class='athing' id='37490244'>\n",
      "      <td align=\"right\" valign=\"top\" class=\"title\"><span class=\"rank\">24.</span></td>      <td valign=\"top\" class=\"votelinks\"><center><a id='up_37490244'href='vote?id=37490244&amp;how=up&amp;goto=news'><div class='votearrow' title='upvote'></div></a></center></td><td class=\"title\"><span class=\"titleline\"><a href=\"https://racquetmag.com/2023/09/06/game-set-sell/\" rel=\"noreferrer\">Game, Set, Sell</a><span class=\"sitebit comhead\"> (<a href=\"from?site=racquetmag.com\"><span class=\"sitestr\">racquetmag.com</span></a>)</span></span></td></tr><tr><td colspan=\"2\"></td><td class=\"subtext\"><span class=\"subline\">\n",
      "          <span class=\"score\" id=\"score_37490244\">20 points</span> by <a href=\"user?id=signor_bosco\" class=\"hnuser\">signor_bosco</a> <span class=\"age\" title=\"2023-09-12T23:45:28\"><a href=\"item?id=37490244\">6 hours ago</a></span> <span id=\"unv_37490244\"></span> | <a href=\"hide?id=37490244&amp;goto=news\">hide</a> | <a href=\"item?id=37490244\">1&nbsp;comment</a>        </span>\n",
      "              </td></tr>\n",
      "      <tr class=\"spacer\" style=\"height:5px\"></tr>\n",
      "                <tr class='athing' id='37483734'>\n",
      "      <td align=\"right\" valign=\"top\" class=\"title\"><span class=\"rank\">25.</span></td>      <td valign=\"top\" class=\"votelinks\"><center><a id='up_37483734'href='vote?id=37483734&amp;how=up&amp;goto=news'><div class='votearrow' title='upvote'></div></a></center></td><td class=\"title\"><span class=\"titleline\"><a href=\"https://throbol.com/\" rel=\"noreferrer\">Throbol – The Robot Oriented Language</a><span class=\"sitebit comhead\"> (<a href=\"from?site=throbol.com\"><span class=\"sitestr\">throbol.com</span></a>)</span></span></td></tr><tr><td colspan=\"2\"></td><td class=\"subtext\"><span class=\"subline\">\n",
      "          <span class=\"score\" id=\"score_37483734\">25 points</span> by <a href=\"user?id=TheBlapse\" class=\"hnuser\">TheBlapse</a> <span class=\"age\" title=\"2023-09-12T16:28:59\"><a href=\"item?id=37483734\">7 hours ago</a></span> <span id=\"unv_37483734\"></span> | <a href=\"hide?id=37483734&amp;goto=news\">hide</a> | <a href=\"item?id=37483734\">2&nbsp;comments</a>        </span>\n",
      "              </td></tr>\n",
      "      <tr class=\"spacer\" style=\"height:5px\"></tr>\n",
      "                <tr class='athing' id='37492852'>\n",
      "      <td align=\"right\" valign=\"top\" class=\"title\"><span class=\"rank\">26.</span></td>      <td valign=\"top\" class=\"votelinks\"><center><a id='up_37492852'href='vote?id=37492852&amp;how=up&amp;goto=news'><div class='votearrow' title='upvote'></div></a></center></td><td class=\"title\"><span class=\"titleline\"><a href=\"http://jpkoning.blogspot.com/2023/09/there-are-now-two-types-of-paypal.html\" rel=\"noreferrer\">There are now two types of PayPal dollars, and one is better than the other</a><span class=\"sitebit comhead\"> (<a href=\"from?site=jpkoning.blogspot.com\"><span class=\"sitestr\">jpkoning.blogspot.com</span></a>)</span></span></td></tr><tr><td colspan=\"2\"></td><td class=\"subtext\"><span class=\"subline\">\n",
      "          <span class=\"score\" id=\"score_37492852\">98 points</span> by <a href=\"user?id=imartin2k\" class=\"hnuser\">imartin2k</a> <span class=\"age\" title=\"2023-09-13T06:17:35\"><a href=\"item?id=37492852\">4 hours ago</a></span> <span id=\"unv_37492852\"></span> | <a href=\"hide?id=37492852&amp;goto=news\">hide</a> | <a href=\"item?id=37492852\">83&nbsp;comments</a>        </span>\n",
      "              </td></tr>\n",
      "      <tr class=\"spacer\" style=\"height:5px\"></tr>\n",
      "                <tr class='athing' id='37465586'>\n",
      "      <td align=\"right\" valign=\"top\" class=\"title\"><span class=\"rank\">27.</span></td>      <td valign=\"top\" class=\"votelinks\"><center><a id='up_37465586'href='vote?id=37465586&amp;how=up&amp;goto=news'><div class='votearrow' title='upvote'></div></a></center></td><td class=\"title\"><span class=\"titleline\"><a href=\"https://astrochart.github.io/\" rel=\"noreferrer\">CHART: Completely Hackable Amateur Radio Telescope</a><span class=\"sitebit comhead\"> (<a href=\"from?site=astrochart.github.io\"><span class=\"sitestr\">astrochart.github.io</span></a>)</span></span></td></tr><tr><td colspan=\"2\"></td><td class=\"subtext\"><span class=\"subline\">\n",
      "          <span class=\"score\" id=\"score_37465586\">190 points</span> by <a href=\"user?id=cenazoic\" class=\"hnuser\">cenazoic</a> <span class=\"age\" title=\"2023-09-11T11:18:42\"><a href=\"item?id=37465586\">1 day ago</a></span> <span id=\"unv_37465586\"></span> | <a href=\"hide?id=37465586&amp;goto=news\">hide</a> | <a href=\"item?id=37465586\">51&nbsp;comments</a>        </span>\n",
      "              </td></tr>\n",
      "      <tr class=\"spacer\" style=\"height:5px\"></tr>\n",
      "                <tr class='athing' id='37493748'>\n",
      "      <td align=\"right\" valign=\"top\" class=\"title\"><span class=\"rank\">28.</span></td>      <td valign=\"top\" class=\"votelinks\"><center><a id='up_37493748'href='vote?id=37493748&amp;how=up&amp;goto=news'><div class='votearrow' title='upvote'></div></a></center></td><td class=\"title\"><span class=\"titleline\"><a href=\"https://arstechnica.com/security/2023/09/password-stealing-linux-malware-served-for-3-years-and-no-one-noticed/\" rel=\"noreferrer\">Password-stealing Linux malware served for 3 years and no one noticed</a><span class=\"sitebit comhead\"> (<a href=\"from?site=arstechnica.com\"><span class=\"sitestr\">arstechnica.com</span></a>)</span></span></td></tr><tr><td colspan=\"2\"></td><td class=\"subtext\"><span class=\"subline\">\n",
      "          <span class=\"score\" id=\"score_37493748\">21 points</span> by <a href=\"user?id=ale42\" class=\"hnuser\">ale42</a> <span class=\"age\" title=\"2023-09-13T08:21:10\"><a href=\"item?id=37493748\">2 hours ago</a></span> <span id=\"unv_37493748\"></span> | <a href=\"hide?id=37493748&amp;goto=news\">hide</a> | <a href=\"item?id=37493748\">3&nbsp;comments</a>        </span>\n",
      "              </td></tr>\n",
      "      <tr class=\"spacer\" style=\"height:5px\"></tr>\n",
      "                <tr class='athing' id='37480561'>\n",
      "      <td align=\"right\" valign=\"top\" class=\"title\"><span class=\"rank\">29.</span></td>      <td valign=\"top\" class=\"votelinks\"><center><a id='up_37480561'href='vote?id=37480561&amp;how=up&amp;goto=news'><div class='votearrow' title='upvote'></div></a></center></td><td class=\"title\"><span class=\"titleline\"><a href=\"https://thepalindrome.org/p/how-large-that-number-in-the-law\" rel=\"noreferrer\">How large is that number in the Law of Large Numbers?</a><span class=\"sitebit comhead\"> (<a href=\"from?site=thepalindrome.org\"><span class=\"sitestr\">thepalindrome.org</span></a>)</span></span></td></tr><tr><td colspan=\"2\"></td><td class=\"subtext\"><span class=\"subline\">\n",
      "          <span class=\"score\" id=\"score_37480561\">164 points</span> by <a href=\"user?id=sebg\" class=\"hnuser\">sebg</a> <span class=\"age\" title=\"2023-09-12T13:06:33\"><a href=\"item?id=37480561\">22 hours ago</a></span> <span id=\"unv_37480561\"></span> | <a href=\"hide?id=37480561&amp;goto=news\">hide</a> | <a href=\"item?id=37480561\">62&nbsp;comments</a>        </span>\n",
      "              </td></tr>\n",
      "      <tr class=\"spacer\" style=\"height:5px\"></tr>\n",
      "                <tr class='athing' id='37490234'>\n",
      "      <td align=\"right\" valign=\"top\" class=\"title\"><span class=\"rank\">30.</span></td>      <td valign=\"top\" class=\"votelinks\"><center><a id='up_37490234'href='vote?id=37490234&amp;how=up&amp;goto=news'><div class='votearrow' title='upvote'></div></a></center></td><td class=\"title\"><span class=\"titleline\"><a href=\"https://betonit.substack.com/p/why-not-punish-families\" rel=\"noreferrer\">Why not punish families? A challenge for consequentialists</a><span class=\"sitebit comhead\"> (<a href=\"from?site=betonit.substack.com\"><span class=\"sitestr\">betonit.substack.com</span></a>)</span></span></td></tr><tr><td colspan=\"2\"></td><td class=\"subtext\"><span class=\"subline\">\n",
      "          <span class=\"score\" id=\"score_37490234\">50 points</span> by <a href=\"user?id=purgator\" class=\"hnuser\">purgator</a> <span class=\"age\" title=\"2023-09-12T23:43:55\"><a href=\"item?id=37490234\">11 hours ago</a></span> <span id=\"unv_37490234\"></span> | <a href=\"hide?id=37490234&amp;goto=news\">hide</a> | <a href=\"item?id=37490234\">151&nbsp;comments</a>        </span>\n",
      "              </td></tr>\n",
      "      <tr class=\"spacer\" style=\"height:5px\"></tr>\n",
      "            <tr class=\"morespace\" style=\"height:10px\"></tr><tr><td colspan=\"2\"></td>\n",
      "      <td class='title'><a href='?p=2' class='morelink' rel='next'>More</a></td>    </tr>\n",
      "  </table>\n",
      "</td></tr>\n",
      "<tr><td><img src=\"s.gif\" height=\"10\" width=\"0\"><table width=\"100%\" cellspacing=\"0\" cellpadding=\"1\"><tr><td bgcolor=\"#ff6600\"></td></tr></table><br>\n",
      "<center><a href=\"https://www.ycombinator.com/apply/\">Applications are open for YC Winter 2024</a></center><br>\n",
      "<center><span class=\"yclinks\"><a href=\"newsguidelines.html\">Guidelines</a> | <a href=\"newsfaq.html\">FAQ</a> | <a href=\"lists\">Lists</a> | <a href=\"https://github.com/HackerNews/API\">API</a> | <a href=\"security.html\">Security</a> | <a href=\"https://www.ycombinator.com/legal/\">Legal</a> | <a href=\"https://www.ycombinator.com/apply/\">Apply to YC</a> | <a href=\"mailto:hn@ycombinator.com\">Contact</a></span><br><br>\n",
      "<form method=\"get\" action=\"//hn.algolia.com/\">Search: <input type=\"text\" name=\"q\" size=\"17\" autocorrect=\"off\" spellcheck=\"false\" autocapitalize=\"off\" autocomplete=\"false\"></form></center></td></tr>      </table></center></body>\n",
      "      <script type='text/javascript' src='hn.js?R8kUq8d9jHbN7kt0kRJT'></script>\n",
      "  </html>\n",
      "\n"
     ]
    }
   ],
   "source": [
    "from bs4 import BeautifulSoup \n",
    "import requests\n",
    "\n",
    "url = \"https://news.ycombinator.com/\"\n",
    "response = requests.get(url)\n",
    "print(response.text)"
   ]
  },
  {
   "cell_type": "code",
   "execution_count": 19,
   "id": "278869b8",
   "metadata": {},
   "outputs": [
    {
     "data": {
      "text/plain": [
       "'LÖVE: a framework to make 2D games in Lua (love2d.org)'"
      ]
     },
     "execution_count": 19,
     "metadata": {},
     "output_type": "execute_result"
    }
   ],
   "source": [
    "# 제목 스크래핑 하기 \n",
    "yc_web_page = response.text\n",
    "\n",
    "soup = BeautifulSoup(yc_web_page, \"html.parser\")\n",
    "article_tag = soup.select_one(\".titleline\")\n",
    "article_text = article_tag.getText()\n",
    "article_text"
   ]
  },
  {
   "cell_type": "code",
   "execution_count": 32,
   "id": "ed111011",
   "metadata": {},
   "outputs": [
    {
     "name": "stdout",
     "output_type": "stream",
     "text": [
      "LÖVE: a framework to make 2D games in Lua https://love2d.org/ 116 points\n"
     ]
    }
   ],
   "source": [
    "# link와 추천수 스크래핑 하기 \n",
    "yc_web_page = response.text\n",
    "\n",
    "soup = BeautifulSoup(yc_web_page, \"html.parser\")\n",
    "article_tag = soup.select_one(\"td > span.titleline > a\")\n",
    "article_text = article_tag.getText()\n",
    "article_link = article_tag.get(\"href\")\n",
    "article_upvote = soup.select_one(\".score\").getText()\n",
    "\n",
    "print(article_text, article_link, article_upvote)"
   ]
  },
  {
   "cell_type": "code",
   "execution_count": 41,
   "id": "24ea697d",
   "metadata": {},
   "outputs": [],
   "source": [
    "# 모든 link와 추천수 스크래핑 하기 \n",
    "yc_web_page = response.text\n",
    "\n",
    "soup = BeautifulSoup(yc_web_page, \"html.parser\")\n",
    "articles = soup.select(\"td > span.titleline > a\")\n",
    "\n",
    "article_texts = []\n",
    "article_links = []\n",
    "\n",
    "for article_tag in articles:\n",
    "    text = article_tag.getText()\n",
    "    article_texts.append(text)\n",
    "    \n",
    "    link = article_tag.get(\"href\")\n",
    "    article_links.append(link)\n",
    "    \n",
    "    \n",
    "article_upvote = [int(score.getText().split()[0]) for score in soup.select(\".score\")]"
   ]
  },
  {
   "cell_type": "code",
   "execution_count": 42,
   "id": "b3dde782",
   "metadata": {},
   "outputs": [
    {
     "name": "stdout",
     "output_type": "stream",
     "text": [
      "['LÖVE: a framework to make 2D games in Lua', 'Stable Audio: Fast Timing-Conditioned Latent Audio Diffusion', 'Any sufficiently advanced uninstaller is indistinguishable from malware', 'Openmoji', '70B Llama 2 at 35tokens/second on 4090', 'Credit card debt collection', 'iPhone 12 withdrawn from French market for non-compliance with EU regulation', 'A CD Spectrometer', 'What Is Wrong with TOML?', 'Interactive Map of Linux Kernel', \"Amazon's Union-Busting Training Video\", 'S32 Unix Clock', 'How long it took different companies to find product-market fit', 'Rubber hose animation', 'Typing on Any Surface: A Deep Learning Method for Keystroke Detection in AR', 'The Pirate Preservationists', 'Lessons from YC AI Startups', \"Google has been rolling out Chrome's “Enhanced Ad Privacy” via a popup\", 'French regulators order Apple to halt sales of the iPhone 12', 'iPhone 15 and iPhone 15 Plus', \"Pablo Fanque's Fair (2011)\", 'Some notes on local-first development', 'Fine-tune your own Llama 2 to replace GPT-3.5/4', 'Game, Set, Sell', 'Throbol – The Robot Oriented Language', 'There are now two types of PayPal dollars, and one is better than the other', 'CHART: Completely Hackable Amateur Radio Telescope', 'Password-stealing Linux malware served for 3 years and no one noticed', 'How large is that number in the Law of Large Numbers?', 'Why not punish families? A challenge for consequentialists']\n",
      "['https://love2d.org/', 'https://stability.ai/research/stable-audio-efficient-timing-latent-diffusion', 'https://devblogs.microsoft.com/oldnewthing/20230911-00/?p=108749', 'https://github.com/hfg-gmuend/openmoji', 'https://github.com/turboderp/exllamav2', 'https://www.bitsaboutmoney.com/archive/the-waste-stream-of-consumer-finance/', 'https://www.anfr.fr/liste-actualites/actualite/temporary-withdrawal-from-the-market-of-the-iphone-12-for-non-compliance-with-eu-regulation', 'https://www.cs.cmu.edu/~zhuxj/astro/html/spectrometer.html', 'https://hitchdev.com/strictyaml/why-not/toml/', 'https://makelinux.github.io/kernel/map/', 'https://www.youtube.com/watch?v=AQeGBHxIyHw', 'https://www.da.vidbuchanan.co.uk/blog/unix-clock.html', 'https://www.lennysnewsletter.com/p/finding-product-market-fit', 'https://en.wikipedia.org/wiki/Rubber_hose_animation', 'https://arxiv.org/abs/2309.00174', 'https://reason.com/2023/09/10/the-pirate-preservationists/', 'https://www.ignorance.ai/p/5-lessons-from-139-yc-ai-startups', 'https://twitter.com/glenngabe/status/1699389973361738146', 'https://www.france24.com/en/europe/20230912-france-orders-apple-to-halt-iphone-12-sales-due-to-high-radiation-levels', 'https://www.apple.com/newsroom/2023/09/apple-debuts-iphone-15-and-iphone-15-plus/', 'https://www.smithsonianmag.com/history/pablo-fanques-fair-71575787/', 'https://bricolage.io/some-notes-on-local-first-development/', 'item?id=37484135', 'https://racquetmag.com/2023/09/06/game-set-sell/', 'https://throbol.com/', 'http://jpkoning.blogspot.com/2023/09/there-are-now-two-types-of-paypal.html', 'https://astrochart.github.io/', 'https://arstechnica.com/security/2023/09/password-stealing-linux-malware-served-for-3-years-and-no-one-noticed/', 'https://thepalindrome.org/p/how-large-that-number-in-the-law', 'https://betonit.substack.com/p/why-not-punish-families']\n",
      "[116, 23, 374, 61, 110, 493, 124, 39, 27, 248, 128, 67, 170, 24, 13, 93, 88, 39, 58, 693, 5, 145, 785, 20, 25, 98, 190, 21, 164, 50]\n"
     ]
    }
   ],
   "source": [
    "# 결과 확인하기 \n",
    "print(article_texts)\n",
    "print(article_links)\n",
    "print(article_upvote)"
   ]
  },
  {
   "cell_type": "code",
   "execution_count": 53,
   "id": "b67301cd",
   "metadata": {},
   "outputs": [
    {
     "name": "stdout",
     "output_type": "stream",
     "text": [
      "Fine-tune your own Llama 2 to replace GPT-3.5/4\n",
      "item?id=37484135\n"
     ]
    }
   ],
   "source": [
    "# 가장 뷰가 많은 기사 찾기 \n",
    "largest_number = max(article_upvote)\n",
    "largest_index = article_upvote.index(max(article_upvote))\n",
    "\n",
    "print(article_texts[largest_index])\n",
    "print(article_links[largest_index])"
   ]
  },
  {
   "cell_type": "code",
   "execution_count": null,
   "id": "d1984542",
   "metadata": {},
   "outputs": [],
   "source": []
  }
 ],
 "metadata": {
  "kernelspec": {
   "display_name": "Python 3 (ipykernel)",
   "language": "python",
   "name": "python3"
  },
  "language_info": {
   "codemirror_mode": {
    "name": "ipython",
    "version": 3
   },
   "file_extension": ".py",
   "mimetype": "text/x-python",
   "name": "python",
   "nbconvert_exporter": "python",
   "pygments_lexer": "ipython3",
   "version": "3.8.12"
  }
 },
 "nbformat": 4,
 "nbformat_minor": 5
}
