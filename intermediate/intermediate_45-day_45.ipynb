{
 "cells": [
  {
   "cell_type": "markdown",
   "id": "ce8dbe2d",
   "metadata": {},
   "source": [
    "## BeautifulSoup을 이용해서 페이지 스크래핑 하기"
   ]
  },
  {
   "cell_type": "markdown",
   "id": "8795d6fc",
   "metadata": {},
   "source": [
    "### 1. HTML 파싱 및 Soup 만들기 \n",
    "- 파싱하는 것은 웹사이트에 포함된 정보를 추출하기 위한 첫 번째 단계이다. \n",
    "- BeautifulSoup은 HTML과 XML 파일에서 데이터르 가져오기 위한 파이썬 라이브러리 이다. \n",
    "- BeautifulSoup의 장점은 사용하기 쉽고, 빠르게 웹사이트 내에 데이터를 스크래핑 할 수 있는 점이다. "
   ]
  },
  {
   "cell_type": "code",
   "execution_count": 5,
   "id": "d190458d",
   "metadata": {},
   "outputs": [
    {
     "data": {
      "text/plain": [
       "<!DOCTYPE html>\n",
       "\n",
       "<html>\n",
       "<head>\n",
       "<meta charset=\"utf-8\"/>\n",
       "<title>Angela's Personal Site</title>\n",
       "</head>\n",
       "<body>\n",
       "<h1 id=\"name\">Angela Yu</h1>\n",
       "<p><em>Founder of <strong><a href=\"https://www.appbrewery.co/\">The App Brewery</a></strong>.</em></p>\n",
       "<p>I am an iOS and Web Developer. I ❤️ coffee and motorcycles.</p>\n",
       "<hr/>\n",
       "<h3 class=\"heading\">Books and Teaching</h3>\n",
       "<ul>\n",
       "<li>The Complete iOS App Development Bootcamp</li>\n",
       "<li>The Complete Web Development Bootcamp</li>\n",
       "<li>100 Days of Code - The Complete Python Bootcamp</li>\n",
       "</ul>\n",
       "<hr/>\n",
       "<h3 class=\"heading\">Other Pages</h3>\n",
       "<a href=\"https://angelabauer.github.io/cv/hobbies.html\">My Hobbies</a>\n",
       "<a href=\"https://angelabauer.github.io/cv/contact-me.html\">Contact Me</a>\n",
       "</body>\n",
       "</html>"
      ]
     },
     "execution_count": 5,
     "metadata": {},
     "output_type": "execute_result"
    }
   ],
   "source": [
    "from bs4 import BeautifulSoup\n",
    "import lxml\n",
    "\n",
    "# html 파일 불러오기 \n",
    "with open('./data/website.html') as file:\n",
    "    contents = file.read()\n",
    "\n",
    "# 파싱하기 \n",
    "soup = BeautifulSoup(contents, \"html.parser\")\n",
    "# soup = BeautifulSoup(contents, \"lxml\")\n",
    "soup"
   ]
  },
  {
   "cell_type": "code",
   "execution_count": 16,
   "id": "c2dbd8db",
   "metadata": {},
   "outputs": [
    {
     "data": {
      "text/plain": [
       "\"Angela's Personal Site\""
      ]
     },
     "execution_count": 16,
     "metadata": {},
     "output_type": "execute_result"
    }
   ],
   "source": [
    "# title tag에 있는 내용 불러오기\n",
    "soup.title.string"
   ]
  },
  {
   "cell_type": "code",
   "execution_count": 9,
   "id": "dcc9bca4",
   "metadata": {},
   "outputs": [
    {
     "data": {
      "text/plain": [
       "'<!DOCTYPE html>\\n<html>\\n <head>\\n  <meta charset=\"utf-8\"/>\\n  <title>\\n   Angela\\'s Personal Site\\n  </title>\\n </head>\\n <body>\\n  <h1 id=\"name\">\\n   Angela Yu\\n  </h1>\\n  <p>\\n   <em>\\n    Founder of\\n    <strong>\\n     <a href=\"https://www.appbrewery.co/\">\\n      The App Brewery\\n     </a>\\n    </strong>\\n    .\\n   </em>\\n  </p>\\n  <p>\\n   I am an iOS and Web Developer. I ❤️ coffee and motorcycles.\\n  </p>\\n  <hr/>\\n  <h3 class=\"heading\">\\n   Books and Teaching\\n  </h3>\\n  <ul>\\n   <li>\\n    The Complete iOS App Development Bootcamp\\n   </li>\\n   <li>\\n    The Complete Web Development Bootcamp\\n   </li>\\n   <li>\\n    100 Days of Code - The Complete Python Bootcamp\\n   </li>\\n  </ul>\\n  <hr/>\\n  <h3 class=\"heading\">\\n   Other Pages\\n  </h3>\\n  <a href=\"https://angelabauer.github.io/cv/hobbies.html\">\\n   My Hobbies\\n  </a>\\n  <a href=\"https://angelabauer.github.io/cv/contact-me.html\">\\n   Contact Me\\n  </a>\\n </body>\\n</html>'"
      ]
     },
     "execution_count": 9,
     "metadata": {},
     "output_type": "execute_result"
    }
   ],
   "source": [
    "# html 코드 들여쓰기 \n",
    "soup.prettify()"
   ]
  },
  {
   "cell_type": "code",
   "execution_count": 10,
   "id": "9f463205",
   "metadata": {},
   "outputs": [
    {
     "data": {
      "text/plain": [
       "<a href=\"https://www.appbrewery.co/\">The App Brewery</a>"
      ]
     },
     "execution_count": 10,
     "metadata": {},
     "output_type": "execute_result"
    }
   ],
   "source": [
    "# 앵커 tag 불러오기\n",
    "soup.a"
   ]
  },
  {
   "cell_type": "code",
   "execution_count": 17,
   "id": "a0501884",
   "metadata": {},
   "outputs": [
    {
     "data": {
      "text/plain": [
       "<p><em>Founder of <strong><a href=\"https://www.appbrewery.co/\">The App Brewery</a></strong>.</em></p>"
      ]
     },
     "execution_count": 17,
     "metadata": {},
     "output_type": "execute_result"
    }
   ],
   "source": [
    "# p tag 불러오기  \n",
    "soup.p"
   ]
  },
  {
   "cell_type": "markdown",
   "id": "bb4ff549",
   "metadata": {},
   "source": [
    "### 2. BeautifulSoup로 특정 요소 찾고 선택하기 "
   ]
  },
  {
   "cell_type": "code",
   "execution_count": 21,
   "id": "39434adf",
   "metadata": {},
   "outputs": [
    {
     "data": {
      "text/plain": [
       "[<a href=\"https://www.appbrewery.co/\">The App Brewery</a>,\n",
       " <a href=\"https://angelabauer.github.io/cv/hobbies.html\">My Hobbies</a>,\n",
       " <a href=\"https://angelabauer.github.io/cv/contact-me.html\">Contact Me</a>]"
      ]
     },
     "execution_count": 21,
     "metadata": {},
     "output_type": "execute_result"
    }
   ],
   "source": [
    "# 모든 앵커 tag 찾기\n",
    "all_anchor_tags = soup.find_all(name=\"a\")\n",
    "all_anchor_tags"
   ]
  },
  {
   "cell_type": "code",
   "execution_count": 22,
   "id": "0ee9e5eb",
   "metadata": {},
   "outputs": [
    {
     "data": {
      "text/plain": [
       "[<p><em>Founder of <strong><a href=\"https://www.appbrewery.co/\">The App Brewery</a></strong>.</em></p>,\n",
       " <p>I am an iOS and Web Developer. I ❤️ coffee and motorcycles.</p>]"
      ]
     },
     "execution_count": 22,
     "metadata": {},
     "output_type": "execute_result"
    }
   ],
   "source": [
    "# 모든 p tag 찾기\n",
    "all_p_tags = soup.find_all(name=\"p\")\n",
    "all_p_tags"
   ]
  },
  {
   "cell_type": "code",
   "execution_count": 23,
   "id": "e33e47fd",
   "metadata": {},
   "outputs": [
    {
     "name": "stdout",
     "output_type": "stream",
     "text": [
      "The App Brewery\n",
      "My Hobbies\n",
      "Contact Me\n"
     ]
    }
   ],
   "source": [
    "# 앵커 테그에 있는 text 추출하기 \n",
    "for tag in all_anchor_tags:\n",
    "    print(tag.getText())"
   ]
  },
  {
   "cell_type": "code",
   "execution_count": 24,
   "id": "29b5c152",
   "metadata": {},
   "outputs": [
    {
     "name": "stdout",
     "output_type": "stream",
     "text": [
      "https://www.appbrewery.co/\n",
      "https://angelabauer.github.io/cv/hobbies.html\n",
      "https://angelabauer.github.io/cv/contact-me.html\n"
     ]
    }
   ],
   "source": [
    "# 앵커 테그에 있는 url 추출하기 \n",
    "for tag in all_anchor_tags:\n",
    "    print(tag.get(\"href\"))"
   ]
  },
  {
   "cell_type": "code",
   "execution_count": 25,
   "id": "5742dc7e",
   "metadata": {},
   "outputs": [
    {
     "data": {
      "text/plain": [
       "<h1 id=\"name\">Angela Yu</h1>"
      ]
     },
     "execution_count": 25,
     "metadata": {},
     "output_type": "execute_result"
    }
   ],
   "source": [
    "# h1에 있는 id기준으로 데이터 불러오기 \n",
    "heading = soup.find(name=\"h1\", id=\"name\")\n",
    "heading"
   ]
  },
  {
   "cell_type": "code",
   "execution_count": 28,
   "id": "8c5b0068",
   "metadata": {},
   "outputs": [
    {
     "data": {
      "text/plain": [
       "'Books and Teaching'"
      ]
     },
     "execution_count": 28,
     "metadata": {},
     "output_type": "execute_result"
    }
   ],
   "source": [
    "# 클래스 속성으로 데이터 추출하기 \n",
    "heading = soup.find(name=\"h3\", class_=\"heading\")\n",
    "heading.getText()"
   ]
  },
  {
   "cell_type": "code",
   "execution_count": 29,
   "id": "a4ddfcb9",
   "metadata": {},
   "outputs": [
    {
     "data": {
      "text/plain": [
       "<a href=\"https://www.appbrewery.co/\">The App Brewery</a>"
      ]
     },
     "execution_count": 29,
     "metadata": {},
     "output_type": "execute_result"
    }
   ],
   "source": [
    "# 중간에 끼여있는 tag를 추출하려면? -> select 메소드 \n",
    "company_url = soup.select_one(selector=\"p a\")\n",
    "company_url"
   ]
  },
  {
   "cell_type": "code",
   "execution_count": 30,
   "id": "5e0e9338",
   "metadata": {},
   "outputs": [
    {
     "data": {
      "text/plain": [
       "<h1 id=\"name\">Angela Yu</h1>"
      ]
     },
     "execution_count": 30,
     "metadata": {},
     "output_type": "execute_result"
    }
   ],
   "source": [
    "# h1의 id 값을 추출하려면? \n",
    "company_url = soup.select_one(selector=\"#name\")\n",
    "company_url"
   ]
  },
  {
   "cell_type": "code",
   "execution_count": 32,
   "id": "60ddd64d",
   "metadata": {},
   "outputs": [
    {
     "data": {
      "text/plain": [
       "[<h3 class=\"heading\">Books and Teaching</h3>,\n",
       " <h3 class=\"heading\">Other Pages</h3>]"
      ]
     },
     "execution_count": 32,
     "metadata": {},
     "output_type": "execute_result"
    }
   ],
   "source": [
    "# select를 이용해서 class 데이터 불러오기 \n",
    "headings = soup.select(\".heading\")\n",
    "headings"
   ]
  },
  {
   "cell_type": "code",
   "execution_count": null,
   "id": "66d18e0a",
   "metadata": {},
   "outputs": [],
   "source": []
  }
 ],
 "metadata": {
  "kernelspec": {
   "display_name": "Python 3 (ipykernel)",
   "language": "python",
   "name": "python3"
  },
  "language_info": {
   "codemirror_mode": {
    "name": "ipython",
    "version": 3
   },
   "file_extension": ".py",
   "mimetype": "text/x-python",
   "name": "python",
   "nbconvert_exporter": "python",
   "pygments_lexer": "ipython3",
   "version": "3.8.12"
  }
 },
 "nbformat": 4,
 "nbformat_minor": 5
}
