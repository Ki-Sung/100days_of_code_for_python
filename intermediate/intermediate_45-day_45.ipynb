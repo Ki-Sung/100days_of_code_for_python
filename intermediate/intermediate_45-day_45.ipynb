{
 "cells": [
  {
   "cell_type": "markdown",
   "id": "4739a729",
   "metadata": {},
   "source": [
    "## BeautifulSoup을 이용해서 페이지 스크래핑 하기"
   ]
  },
  {
   "cell_type": "markdown",
   "id": "69e8537f",
   "metadata": {},
   "source": [
    "### 1. HTML 파싱 및 Soup 만들기 \n",
    "- 파싱하는 것은 웹사이트에 포함된 정보를 추출하기 위한 첫 번째 단계이다. \n",
    "- BeautifulSoup은 HTML과 XML 파일에서 데이터르 가져오기 위한 파이썬 라이브러리 이다. \n",
    "- BeautifulSoup의 장점은 사용하기 쉽고, 빠르게 웹사이트 내에 데이터를 스크래핑 할 수 있는 점이다. "
   ]
  },
  {
   "cell_type": "code",
   "execution_count": 5,
   "id": "7a4e3dd0",
   "metadata": {},
   "outputs": [
    {
     "data": {
      "text/plain": [
       "<!DOCTYPE html>\n",
       "\n",
       "<html>\n",
       "<head>\n",
       "<meta charset=\"utf-8\"/>\n",
       "<title>Angela's Personal Site</title>\n",
       "</head>\n",
       "<body>\n",
       "<h1 id=\"name\">Angela Yu</h1>\n",
       "<p><em>Founder of <strong><a href=\"https://www.appbrewery.co/\">The App Brewery</a></strong>.</em></p>\n",
       "<p>I am an iOS and Web Developer. I ❤️ coffee and motorcycles.</p>\n",
       "<hr/>\n",
       "<h3 class=\"heading\">Books and Teaching</h3>\n",
       "<ul>\n",
       "<li>The Complete iOS App Development Bootcamp</li>\n",
       "<li>The Complete Web Development Bootcamp</li>\n",
       "<li>100 Days of Code - The Complete Python Bootcamp</li>\n",
       "</ul>\n",
       "<hr/>\n",
       "<h3 class=\"heading\">Other Pages</h3>\n",
       "<a href=\"https://angelabauer.github.io/cv/hobbies.html\">My Hobbies</a>\n",
       "<a href=\"https://angelabauer.github.io/cv/contact-me.html\">Contact Me</a>\n",
       "</body>\n",
       "</html>"
      ]
     },
     "execution_count": 5,
     "metadata": {},
     "output_type": "execute_result"
    }
   ],
   "source": [
    "from bs4 import BeautifulSoup\n",
    "import lxml\n",
    "\n",
    "# html 파일 불러오기 \n",
    "with open('./data/website.html') as file:\n",
    "    contents = file.read()\n",
    "\n",
    "# 파싱하기 \n",
    "soup = BeautifulSoup(contents, \"html.parser\")\n",
    "# soup = BeautifulSoup(contents, \"lxml\")\n",
    "soup"
   ]
  },
  {
   "cell_type": "code",
   "execution_count": 16,
   "id": "b53c465c",
   "metadata": {},
   "outputs": [
    {
     "data": {
      "text/plain": [
       "\"Angela's Personal Site\""
      ]
     },
     "execution_count": 16,
     "metadata": {},
     "output_type": "execute_result"
    }
   ],
   "source": [
    "# title tag에 있는 내용 불러오기\n",
    "soup.title.string"
   ]
  },
  {
   "cell_type": "code",
   "execution_count": 9,
   "id": "4e830abd",
   "metadata": {},
   "outputs": [
    {
     "data": {
      "text/plain": [
       "'<!DOCTYPE html>\\n<html>\\n <head>\\n  <meta charset=\"utf-8\"/>\\n  <title>\\n   Angela\\'s Personal Site\\n  </title>\\n </head>\\n <body>\\n  <h1 id=\"name\">\\n   Angela Yu\\n  </h1>\\n  <p>\\n   <em>\\n    Founder of\\n    <strong>\\n     <a href=\"https://www.appbrewery.co/\">\\n      The App Brewery\\n     </a>\\n    </strong>\\n    .\\n   </em>\\n  </p>\\n  <p>\\n   I am an iOS and Web Developer. I ❤️ coffee and motorcycles.\\n  </p>\\n  <hr/>\\n  <h3 class=\"heading\">\\n   Books and Teaching\\n  </h3>\\n  <ul>\\n   <li>\\n    The Complete iOS App Development Bootcamp\\n   </li>\\n   <li>\\n    The Complete Web Development Bootcamp\\n   </li>\\n   <li>\\n    100 Days of Code - The Complete Python Bootcamp\\n   </li>\\n  </ul>\\n  <hr/>\\n  <h3 class=\"heading\">\\n   Other Pages\\n  </h3>\\n  <a href=\"https://angelabauer.github.io/cv/hobbies.html\">\\n   My Hobbies\\n  </a>\\n  <a href=\"https://angelabauer.github.io/cv/contact-me.html\">\\n   Contact Me\\n  </a>\\n </body>\\n</html>'"
      ]
     },
     "execution_count": 9,
     "metadata": {},
     "output_type": "execute_result"
    }
   ],
   "source": [
    "# html 코드 들여쓰기 \n",
    "soup.prettify()"
   ]
  },
  {
   "cell_type": "code",
   "execution_count": 10,
   "id": "3409eadd",
   "metadata": {},
   "outputs": [
    {
     "data": {
      "text/plain": [
       "<a href=\"https://www.appbrewery.co/\">The App Brewery</a>"
      ]
     },
     "execution_count": 10,
     "metadata": {},
     "output_type": "execute_result"
    }
   ],
   "source": [
    "# 앵커 tag 불러오기\n",
    "soup.a"
   ]
  },
  {
   "cell_type": "code",
   "execution_count": 17,
   "id": "9ae81b6e",
   "metadata": {},
   "outputs": [
    {
     "data": {
      "text/plain": [
       "<p><em>Founder of <strong><a href=\"https://www.appbrewery.co/\">The App Brewery</a></strong>.</em></p>"
      ]
     },
     "execution_count": 17,
     "metadata": {},
     "output_type": "execute_result"
    }
   ],
   "source": [
    "# p tag 불러오기  \n",
    "soup.p"
   ]
  },
  {
   "cell_type": "code",
   "execution_count": null,
   "id": "a8eaa734",
   "metadata": {},
   "outputs": [],
   "source": []
  }
 ],
 "metadata": {
  "kernelspec": {
   "display_name": "Python 3 (ipykernel)",
   "language": "python",
   "name": "python3"
  },
  "language_info": {
   "codemirror_mode": {
    "name": "ipython",
    "version": 3
   },
   "file_extension": ".py",
   "mimetype": "text/x-python",
   "name": "python",
   "nbconvert_exporter": "python",
   "pygments_lexer": "ipython3",
   "version": "3.8.12"
  }
 },
 "nbformat": 4,
 "nbformat_minor": 5
}
