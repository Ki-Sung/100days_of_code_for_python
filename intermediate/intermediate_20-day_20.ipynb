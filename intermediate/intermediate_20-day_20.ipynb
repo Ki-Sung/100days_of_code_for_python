{
 "cells": [
  {
   "cell_type": "markdown",
   "id": "59baf6f3",
   "metadata": {},
   "source": [
    "## Snake Game 만들기 Part 1 "
   ]
  },
  {
   "cell_type": "markdown",
   "id": "affd2e35",
   "metadata": {},
   "source": [
    "### 작업 세분화 \n",
    "- 작업을 7 가지로 세분화 \n",
    "\n",
    "#### Part 1 \n",
    "1. Snake의 몸통 만들기 \n",
    "    - 화면에 사각형 세 개를 나란히 붙이기 \n",
    "2. Snake 동작 만들기 \n",
    "    - 뱀의 방향 바꿔주기 \n",
    "3. Snake 조작 만들기 \n",
    "    - 화살표를 이용하여 상,하,좌,우 키로 조작하게 하기   \n",
    "\n",
    "#### Part 2 \n",
    "4. 충돌 감지, 먹이 관련 이벤트 만들기 \n",
    "    - 뱀이 먹이와 부딪힌 것을 감지하는 이벤트 생성 \n",
    "    - 뱀이 먹이를 먹으면 새로운 먹이가 랜덤하게 다른 위치에 생성\n",
    "5. 점수판 만들기 \n",
    "    - 점수판을 맨 상단에 만들기 \n",
    "    - 만약 뱀이 먹이를 먹으면 점수가 1점씩 상승\n",
    "6. 충돌 감지, 벽 충돌에 관련된 이벤트 만들기 \n",
    "    - 벽에 충돌했을 때, Game over라는 메시지 출력 \n",
    "    - 이때 뱀은 움직이며 안됨 \n",
    "7. 충돌 감지, Snake의 꼬리 관련 이벤트 만들기 \n",
    "    - 만약 뱀이 뱀의 몸통과 꼬리를 부딪히면 Game Over되는 이벤트 만들기 "
   ]
  },
  {
   "cell_type": "code",
   "execution_count": null,
   "id": "cfc98869",
   "metadata": {},
   "outputs": [],
   "source": [
    "# 기본 설정 \n",
    "# 모듈 불러오기 \n",
    "from turtle import Screen, Turtle \n",
    "\n",
    "# Screen 설정 \n",
    "screen = Screen()  # 객체 선언 \n",
    "screen.setup(width=600,height=600)  # screen 크기 설정 (600 X 600)\n",
    "screen.bgcolor(\"black\")   # screen 백그라운컬러 설정 (블랙)\n",
    "screen.title(\"Play Snake Game\")  # 타이틀 설정 \n",
    "\n",
    "# 창 닫힘 설정 \n",
    "screen.exitonclick()   # 커서를 누르면 종료 설정"
   ]
  },
  {
   "cell_type": "markdown",
   "id": "c96d4d3a",
   "metadata": {},
   "source": [
    "### 1. Snake 몸통 만들기"
   ]
  },
  {
   "cell_type": "code",
   "execution_count": null,
   "id": "709ba76d",
   "metadata": {},
   "outputs": [],
   "source": [
    "# 모듈 불러오기 \n",
    "from turtle import Screen, Turtle \n",
    "\n",
    "# Screen 설정 \n",
    "screen = Screen()  # 객체 선언 \n",
    "screen.setup(width=600,height=600)  # screen 크기 설정 (600 X 600)\n",
    "screen.bgcolor(\"black\")   # screen 백그라운컬러 설정 (블랙)\n",
    "screen.title(\"Play Snake Game\")  # 타이틀 설정 \n",
    "\n",
    "segment_1 = Turtle(shape=\"square\")\n",
    "segment_1.color(\"white\")\n",
    "segment_1.goto(0, 0)\n",
    "\n",
    "segment_2 = Turtle(shape=\"square\")\n",
    "segment_2.color(\"white\")\n",
    "segment_2.goto(-20, 0)\n",
    "\n",
    "segment_3 = Turtle(shape=\"square\")\n",
    "segment_3.color(\"white\")\n",
    "segment_3.goto(-40, 0)\n",
    "\n",
    "# 창 닫힘 설정 \n",
    "screen.exitonclick()   # 커서를 누르면 종료 설정"
   ]
  },
  {
   "cell_type": "code",
   "execution_count": null,
   "id": "64ca2ef2",
   "metadata": {},
   "outputs": [],
   "source": [
    "# 위 코드를 반복문으로 \n",
    "# 모듈 불러오기 \n",
    "from turtle import Screen, Turtle \n",
    "\n",
    "# Screen 설정 \n",
    "screen = Screen()  # 객체 선언 \n",
    "screen.setup(width=600,height=600)  # screen 크기 설정 (600 X 600)\n",
    "screen.bgcolor(\"black\")   # screen 백그라운컬러 설정 (블랙)\n",
    "screen.title(\"Play Snake Game\")  # 타이틀 설정 \n",
    "\n",
    "# 1. Snake 몸통 만들기 \n",
    "starting_position = [(0, 0), (-20, 0), (-40 , 0)]\n",
    "\n",
    "for position in starting_position:\n",
    "    new_segment = Turtle(shape=\"square\")\n",
    "    new_segment.color(\"white\")\n",
    "    new_segment.goto(position)\n",
    "\n",
    "# 창 닫힘 설정 \n",
    "screen.exitonclick()   # 커서를 누르면 종료 설정"
   ]
  },
  {
   "cell_type": "code",
   "execution_count": null,
   "id": "3bbca2ee",
   "metadata": {},
   "outputs": [],
   "source": []
  },
  {
   "cell_type": "code",
   "execution_count": null,
   "id": "05e245f4",
   "metadata": {},
   "outputs": [],
   "source": []
  },
  {
   "cell_type": "code",
   "execution_count": null,
   "id": "04873a93",
   "metadata": {},
   "outputs": [],
   "source": []
  }
 ],
 "metadata": {
  "kernelspec": {
   "display_name": "Python 3 (ipykernel)",
   "language": "python",
   "name": "python3"
  },
  "language_info": {
   "codemirror_mode": {
    "name": "ipython",
    "version": 3
   },
   "file_extension": ".py",
   "mimetype": "text/x-python",
   "name": "python",
   "nbconvert_exporter": "python",
   "pygments_lexer": "ipython3",
   "version": "3.8.12"
  }
 },
 "nbformat": 4,
 "nbformat_minor": 5
}
