{
 "cells": [
  {
   "cell_type": "markdown",
   "id": "92d72288",
   "metadata": {},
   "source": [
    "### 스크린 이벤트\n",
    "- 키 누르기 이벤트, 클릭 이벤트 등을 제어하는 turtel의 메소드 \n",
    "- 여기서 가장 핵심은 listen() 메소드 이다. 이 메소드는 turtle 화면이 키를 누르는 드으이 사용자가 일이키는 이벤트를 일이키는데 사용함."
   ]
  },
  {
   "cell_type": "code",
   "execution_count": null,
   "id": "ca0ae0ff",
   "metadata": {},
   "outputs": [],
   "source": [
    "# 기본 사용 \n",
    "from turtle import Turtle, Screen\n",
    "\n",
    "# 객체 생성 \n",
    "turtle = Turtle()\n",
    "screen = Screen()"
   ]
  },
  {
   "cell_type": "markdown",
   "id": "59a77fa9",
   "metadata": {},
   "source": [
    "- onkey() 메소드 \n",
    "    - turtle에 key 이벤트를 생성하는 기능을 함. \n",
    "- 메소드 안에 들어갈 인자들\n",
    "    - fun – 인자가 없는 함수나 None\n",
    "    - key – 문자열: 키 (예를 들어 “a”) 또는 키-기호 (예를 들어 “space”)"
   ]
  },
  {
   "cell_type": "code",
   "execution_count": null,
   "id": "61e71199",
   "metadata": {},
   "outputs": [],
   "source": [
    "# 사용 방법 \n",
    "def move_forwards():\n",
    "    turtle.forward(10)\n",
    "    \n",
    "# listen 선언\n",
    "screen.listen()\n",
    "# 키보드 이벤트 바인딩 \n",
    "screen.onkey(key=\"space\", fun=move_forwards)    # 괄호를 쓰면 그대로 함수가 실행되기 때문에, 함수를 다른 함수에 전달할 때 괄호 생략함.\n",
    "                                                # (우리는 해당 키를 누를 때 함수가 실행되길 바라기때문이다.)\n",
    "screen.extionclick()                            # 스크린을 클릭시 종료 "
   ]
  },
  {
   "cell_type": "markdown",
   "id": "79afcc46",
   "metadata": {},
   "source": [
    "#### function as input (함수에 또 다른 함수 집어 넣기)"
   ]
  },
  {
   "cell_type": "code",
   "execution_count": null,
   "id": "57d7ab70",
   "metadata": {},
   "outputs": [],
   "source": [
    "# 아래의 함수들을 보자!\n",
    "\n",
    "# 1. 입력 받는 함수 \n",
    "def function_a(something):\n",
    "    # Do this with something\n",
    "    # Then do this\n",
    "    # Finally do this\n",
    "    \n",
    "# 2. 전달할 함수 \n",
    "def function_b():\n",
    "    # Do this "
   ]
  },
  {
   "cell_type": "code",
   "execution_count": null,
   "id": "41578ea7",
   "metadata": {},
   "outputs": [],
   "source": [
    "# 함수에 또 다른 함수 집어 넣기\n",
    "function_a(function_b)"
   ]
  },
  {
   "cell_type": "markdown",
   "id": "e6258ca1",
   "metadata": {},
   "source": [
    "- 함수에 또 다른 함수를 집어 넣을 때는 괄호를 붙이지 않고, 함수 명만 전달한다. (즉, 다른 함수와 함께 동작하는 함수를 말함)\n",
    "- 여기서 이런 함수를 바로 \"고차함수(Higher Order Fucntions)\"라고 한다."
   ]
  },
  {
   "cell_type": "code",
   "execution_count": 4,
   "id": "3795d610",
   "metadata": {},
   "outputs": [
    {
     "name": "stdout",
     "output_type": "stream",
     "text": [
      "10 24\n"
     ]
    }
   ],
   "source": [
    "# 고차함수 예시 \n",
    "\n",
    "# 더하기 함수 \n",
    "def add(n1, n2):\n",
    "    return n1 + n2 \n",
    "\n",
    "# 빼기 함수 \n",
    "def subtract(n1, n2):\n",
    "    return n1 - n2 \n",
    "\n",
    "# 곱하기 함수 \n",
    "def mutiply(n1, n2):\n",
    "    return n1 * n2 \n",
    "\n",
    "# 나누기 함수 \n",
    "def divide(n1, n2):\n",
    "    return n1 / n2 \n",
    "\n",
    "# 위 함수를 받아줄 또다른 함수 선언 - 고차함수 선언\n",
    "def calculator(n1, n2, func):\n",
    "    return func(n1, n2)\n",
    "\n",
    "# 함수 사용 \n",
    "result1 = calculator(4, 6, add)\n",
    "\n",
    "result2 = calculator(4, 6, mutiply)\n",
    "\n",
    "print(result1, result2)"
   ]
  },
  {
   "cell_type": "code",
   "execution_count": null,
   "id": "8a09992c",
   "metadata": {},
   "outputs": [],
   "source": [
    "# exercise 1 - Make an Etch-a-Sketch (에치어스케치)\n",
    "# \"W\"를 누르면 앞으로 이동(forwards), \"S\"를 누르면 뒤로 이동(backwards)\n",
    "# \"A\"를 누르면 시계반대방향으로 회전(counter-clockwise), D\"를 누르면 시계방향인 오른쪽으로 회전(clockwise)\n",
    "# \"C\"를 누르면 그림 모두 삭제 (Clear Drawing) 및 turtle(커서)가 중앙으로 다시 와야함."
   ]
  },
  {
   "cell_type": "code",
   "execution_count": null,
   "id": "bf663958",
   "metadata": {},
   "outputs": [],
   "source": [
    "# exercise 1 - Make an Etch-a-Sketch (에치어스케치) - solution 1\n",
    "\n",
    "from turtle import Turtle, Screen\n",
    "\n",
    "# 객체 선언 \n",
    "turtle = Turtle()\n",
    "screen = Screen()\n",
    "\n",
    "# listen 선언\n",
    "screen.listen()\n",
    "\n",
    "# 함수 지정\n",
    "\n",
    "# 앞으로 가기\n",
    "def move_forwards():\n",
    "    turtle.forward(10)\n",
    "    \n",
    "# 뒤로 가기 \n",
    "def move_backwards():\n",
    "    turtle.backward(10)\n",
    "\n",
    "# 시계 반대방향으로 회전\n",
    "def counter_clockwise():\n",
    "    turtle.left(90)      \n",
    "\n",
    "# 시계 방향으로 회전  \n",
    "def clockwise():\n",
    "    turtle.right(90)   \n",
    "\n",
    "# 그림 모두 삭제     \n",
    "def clear_drawing():\n",
    "    turtle.home()\n",
    "    turtle.clear()\n",
    "\n",
    "# 키보드 이벤트 바인딩 \n",
    "screen.onkey(key=\"w\", fun=move_forwards)\n",
    "screen.onkey(key=\"s\", fun=move_backwards)\n",
    "screen.onkey(key=\"a\", fun=counter_clockwise)\n",
    "screen.onkey(key=\"d\", fun=clockwise)\n",
    "screen.onkey(key=\"c\", fun=clear_drawing)\n",
    "\n",
    "screen.exitonclick()                                 # 스크린 클릭시 종료 "
   ]
  },
  {
   "cell_type": "code",
   "execution_count": null,
   "id": "cf93ab23",
   "metadata": {},
   "outputs": [],
   "source": [
    "# exercise 1 - Make an Etch-a-Sketch (에치어스케치) - solution 2\n",
    "\n",
    "# 모듈 불러오기 \n",
    "from turtle import Turtle, Screen\n",
    "\n",
    "# 객체 선언 \n",
    "turtle = Turtle()\n",
    "screen = Screen()\n",
    "\n",
    "# listen 선언\n",
    "screen.listen()\n",
    "\n",
    "# 앞으로 가기 - 10씩 이동 \n",
    "def move_forwards():\n",
    "    turtle.forward(10)\n",
    "    \n",
    "# 뒤로 가기 - 10씩 이동\n",
    "def move_backwards():\n",
    "    turtle.backward(10)\n",
    "\n",
    "# 왼쪽 회전 - 10씩 기울기\n",
    "def turn_left():\n",
    "    new_heading = turtle.heading() + 10    # or turtle.left(10)    \n",
    "    turtle.setheading(new_heading)\n",
    "\n",
    "# 오른쪽 회전 - 10씩 기울기 \n",
    "def turn_right():\n",
    "    new_heading = turtle.heading() - 10    # or turtle.right(10) \n",
    "    turtle.setheading(new_heading)\n",
    "    \n",
    "# 화면 clear \n",
    "def clear():\n",
    "    turtle.clear()      # 화면에 모든 그림 없애기 \n",
    "    turtle.penup()      # 펜 올리기 (선을 안 긋기 위함)\n",
    "    turtle.home()       # 화살표(turtle)중앙에 배치 \n",
    "    turtle.pendown()    # 펜 내리기 (선을 그리기 위한)\n",
    "    \n",
    "# 키보드 이벤트 바인딩 \n",
    "screen.onkey(move_forwards, \"w\")\n",
    "screen.onkey(move_backwards, \"s\")\n",
    "screen.onkey(turn_left, \"a\")\n",
    "screen.onkey(turn_right, \"d\")\n",
    "screen.onkey(clear, \"c\")\n",
    "\n",
    "# 화면 클릭시 종료\n",
    "screen.exitonclick()"
   ]
  },
  {
   "cell_type": "markdown",
   "id": "1352db48",
   "metadata": {},
   "source": [
    "#### 인스턴스 \n",
    "- 인스턴스(instance)는 class의 속성, 메소드를 그대로 복제하여 자신만의 또 다른 객체를 만드는 것을 말한다.\n",
    "- 예를들어 우리가 turtle의 객체를 선언할 때 \"turtle = Turtle()\"이라고 하는데, 또 다른 객체로 \"timmy = Turtle()\"이라고 선언해준다. 이때 turtle과 timmy는 모두 같은 객체지만, 완전히 독립적인 기능을 구현한다. 프로그래밍에서 이 두 객체를 \"별개의 인스턴스\"라고 한다. "
   ]
  },
  {
   "cell_type": "code",
   "execution_count": null,
   "id": "fafd6a95",
   "metadata": {},
   "outputs": [],
   "source": [
    "# 별개의 인스턴스 예시 \n",
    "\n",
    "# 별개의 객체 선언 \n",
    "turtle = Turtle()\n",
    "timmy = Turtle()\n",
    "\n",
    "# 각각의 객체를 이용하여 다른 결과 도출 \n",
    "turtle.color = green     # 초록색 거북이 \n",
    "timmy.color = purple     # 보라색 거북이"
   ]
  },
  {
   "cell_type": "markdown",
   "id": "7f2bfecd",
   "metadata": {},
   "source": [
    "- 위처럼 각 객체가 어느 한 순간에 각기 다른 속성을 지닐수 있으며, 각기 다른 메소드를 수행할 수 있다는 사실의 객체의 상태라고 해서 프로그래밍에서는 \"State\"라고 한다.\n",
    "- turtle의 색상 속성의 상태(State)는 초록색이고 timmy의 색상 속성의 상태(State)는 보라색이다."
   ]
  },
  {
   "cell_type": "markdown",
   "id": "b59fb955",
   "metadata": {},
   "source": [
    "### Turtle Race game\n",
    "- 목표\n",
    "    - 어느 터틀이 우승에 내기를 걸 것인지 묻는 작은 팝업창 생성 \n",
    "    - 해당 팝업창에 색상 입력 (터틀들의 색상은 6개의 무지개색으로 되어있음)\n",
    "    - 입력 완료 후 모든 터틀들이 출발 위치인 왼쪽 가장자리에 나란히 정렬 \n",
    "    - 오른쪽 가장자리를 향해 출발(이때 각각 임의의 거리만큼 앞으로 나아감)\n",
    "    - 오른쪽 가장자리에 먼저 도착한 터틀 우승\n",
    "    - 터미널에 우리가 내기가 이겼는지 졌는지, 어떤 색상의 터틀이 우승했는지 출력"
   ]
  },
  {
   "cell_type": "markdown",
   "id": "f1e1715d",
   "metadata": {},
   "source": [
    "#### 1. build a turtle race\n",
    "- 예를 들어 width=500, height=400의 창의 x, y 좌표를 계산할 때는 이렇게 생각하자 \n",
    "- 가장 중앙(0, 0)을 기준으로 오른쪽은 + 250까지 왼쪽은 - 250까지, 위쪽은 +200까지, 아래는 -200까지라고 생각하자"
   ]
  },
  {
   "cell_type": "code",
   "execution_count": null,
   "id": "79a32996",
   "metadata": {},
   "outputs": [],
   "source": [
    "# 모듈 불러오기 \n",
    "from turtle import Turtle, Screen\n",
    "\n",
    "# 객체 선언 - Screen\n",
    "screen = Screen()\n",
    "\n",
    "# 표시되는 창의 폭과 넓이를 설정 \n",
    "screen.setup(width=500, height=400)\n",
    "\n",
    "# 팝업창 띄우기 \n",
    "# 파리미터 - title(팝업 제목), prompt(팝업창에 기재된 질문)\n",
    "user_bet = screen.textinput(title=\"Make your bet\", prompt=\"Which turtle will win the race? Enter a color: \")\n",
    "print(user_bet)\n",
    "\n",
    "\n",
    "# 객체 선언 - Turtle\n",
    "turtle = Turtle(shape=\"turtle\")\n",
    "\n",
    "# 선을 없애기 위해 펜 올리기\n",
    "turtle.penup()\n",
    "\n",
    "# x, y 좌표대로 turtle(커서) 이동 \n",
    "turtle.goto(x=-230, y=-100)\n",
    "\n",
    "# 화면 클릭시 종료\n",
    "screen.exitonclick()"
   ]
  },
  {
   "cell_type": "code",
   "execution_count": null,
   "id": "4456c2b1",
   "metadata": {},
   "outputs": [],
   "source": [
    "# 1. turtle race 출발점에 새우기 \n",
    "# 모듈 불러오기 \n",
    "from turtle import Turtle, Screen\n",
    "\n",
    "# 객체 선언 - Screen\n",
    "screen = Screen()\n",
    "\n",
    "# 표시되는 창의 폭과 넓이를 설정 \n",
    "screen.setup(width=500, height=400)\n",
    "\n",
    "# 팝업창 띄우기 \n",
    "# 파리미터 - title(팝업 제목), prompt(팝업창에 기재된 질문)\n",
    "user_bet = screen.textinput(title=\"Make your bet\", prompt=\"Which turtle will win the race? Enter a color: \")\n",
    "\n",
    "# 컬러 리스트 생성  \n",
    "colors = [\"red\", \"orange\", \"yellow\", \"green\", \"blue\", \"purple\"]\n",
    "# y 좌표 생성\n",
    "y_position = [-70, -40, -10, 20, 50, 80]\n",
    "\n",
    "for turtle_index in range(0, 6):\n",
    "# 객체 선언 - Turtle - 커서 모양 거북이로 설정 \n",
    "    turtle = Turtle(shape=\"turtle\")\n",
    "    # 선을 없애기 위해 펜 올리기\n",
    "    turtle.penup()\n",
    "    turtle.color(colors[turtle_index])   \n",
    "    # x, y 좌표대로 turtle(커서) 이동    \n",
    "    turtle.goto(x=-230, y=y_position[turtle_index])\n",
    "\n",
    "\n",
    "# 화면 클릭시 종료\n",
    "screen.exitonclick()"
   ]
  },
  {
   "cell_type": "code",
   "execution_count": null,
   "id": "16420765",
   "metadata": {},
   "outputs": [],
   "source": [
    "# 2. turtle 달리기\n",
    "# 모듈 불러오기 \n",
    "import random\n",
    "from turtle import Turtle, Screen\n",
    "\n",
    "# 객체 선언 - Screen\n",
    "screen = Screen()\n",
    "\n",
    "# 표시되는 창의 폭과 넓이를 설정 \n",
    "screen.setup(width=500, height=400)\n",
    "\n",
    "# 팝업창 띄우기 \n",
    "# 파리미터 - title(팝업 제목), prompt(팝업창에 기재된 질문)\n",
    "user_bet = screen.textinput(title=\"Make your bet\", prompt=\"Which turtle will win the race? Enter a color: \")\n",
    "\n",
    "# 컬러 리스트 생성  \n",
    "colors = [\"red\", \"orange\", \"yellow\", \"green\", \"blue\", \"purple\"]\n",
    "\n",
    "# y 좌표 리스트 생성 - 각 turtle의 출발점 지정을 위한\n",
    "y_position = [-70, -40, -10, 20, 50, 80]\n",
    "\n",
    "# 빈 리스트 선언 \n",
    "all_turtles = []\n",
    "\n",
    "# 지정한 y 좌표 기준으로 6개의 turtle 출발선에 서게하기 \n",
    "for turtle_index in range(0, 6):\n",
    "    new_turtle = Turtle(shape=\"turtle\")            # 객체 선언 - Turtle - 커서 모양 거북이로 설정 \n",
    "    new_turtle.penup()                             # 선을 없애기 위해 펜 올리기\n",
    "    new_turtle.color(colors[turtle_index])         # y 좌표리스트 순서 기준으로 turtle 컬러 생성 \n",
    "    new_turtle.goto(x=-230, y=y_position[turtle_index])    #  x, y 좌표대로 turtle(커서) 이동  \n",
    "    all_turtles.append(new_turtle)                 # 각각의 turtle 객체들을 빈 리스트에 담기 \n",
    "\n",
    "# turtle 레이스를 위한 준비 \n",
    "is_race_on = False\n",
    "\n",
    "# 만약 입력창에 생상을 입력했을 경우 \"is_race_on\"이 True로 전환 - True로 전환되면 반복문 사용할 수 있음\n",
    "if user_bet:\n",
    "    is_race_on = True \n",
    "\n",
    "# 반복문 동작 \n",
    "while is_race_on:\n",
    "    # turtle 리스트의 원소들(all_turtle)을 순회하면서 반복 \n",
    "    for turtle in all_turtles:\n",
    "        if turtle.xcor() > 230:                  # 만약 turtled의 좌표가 230 보다 크다면 \n",
    "            is_race_on = False                   # 레이스 종료 (while문 빠져나오기)\n",
    "            winning_color = turtle.pencolor()    # 종료되면서 가장 먼저 도착한 turtle의 색상 저장 \n",
    "            if winning_color == user_bet:        # 만약 \"winning_color\"와 사용자가 입력한 \"user_bet\"과 결과가 일치한다면\n",
    "                print(f\"you've won! The {winning_color} turtle is the winner\")      # 이겼다고 출력 \n",
    "            else:                                                                   # 그 외 결과는 \n",
    "                print(f\"you've lost! The {winning_color} turtle is the winner\")     # 졌다고 출력 \n",
    "            \n",
    "        random_distance = random.randint(0, 10)      # random 모듈을 사용해서 0에서 10까지의 범위에서 임의 정수를 지정\n",
    "        turtle.forward(random_distance)              # 지정단 랜덤 정수들을 바탕으로 나온 숫자 만큼 앞으로 가기 \n",
    "\n",
    "# 화면 클릭시 종료\n",
    "screen.exitonclick()"
   ]
  }
 ],
 "metadata": {
  "kernelspec": {
   "display_name": "Python 3 (ipykernel)",
   "language": "python",
   "name": "python3"
  },
  "language_info": {
   "codemirror_mode": {
    "name": "ipython",
    "version": 3
   },
   "file_extension": ".py",
   "mimetype": "text/x-python",
   "name": "python",
   "nbconvert_exporter": "python",
   "pygments_lexer": "ipython3",
   "version": "3.8.12"
  }
 },
 "nbformat": 4,
 "nbformat_minor": 5
}
