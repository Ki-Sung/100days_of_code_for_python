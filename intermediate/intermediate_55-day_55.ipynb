{
 "cells": [
  {
   "cell_type": "markdown",
   "id": "9c012e62",
   "metadata": {},
   "source": [
    "## 플라스크에 HTML과 URL 파싱법 및 숫자 업다운 게임 만들기\n",
    "- html 랜더링 방법 배우기 \n",
    "- 고급 데코레이터 사용해 보기 "
   ]
  },
  {
   "cell_type": "markdown",
   "id": "b15383bd",
   "metadata": {},
   "source": [
    "### 플라스크 URL 경로 및 플라스크 디버거 실행하기 \n",
    "- 예시 URL: https://www.gilbert.com/gilbert\n",
    "    - 도메인 뒤에 /gilbert 혹은 /mail/message/picture 등을 입력하는 것이, 이 URL을 기반으로 다른 작업을 수행하거나 특정한 무언가가 랜더링 할 수 있기 때문에 이러한 정보들을 잘 알고 있어야 한다."
   ]
  },
  {
   "cell_type": "markdown",
   "id": "b7cbd693",
   "metadata": {},
   "source": [
    "- 만약 플라스크에서 경로에 변수를 넣고 싶다면 아래와 같이 해준다.\n",
    "```\n",
    "@app.route(\"/greet/<name>\")\n",
    "def greet(name):\n",
    "    return f\"Hello {name}\" \n",
    "```\n",
    "\n",
    "- URL에 변수 섹션을 추가할 수 있다고 되어 있는데, 결국 위 구문을 입력함으로써 URL에 변수를 만드는 것이라고 볼 수 있다. \n",
    "- ```<variable_name>```을 입력하고 나면 모든 함수가 해당 변수 이름을 받게 된다. 데코레이터가 끝나면 함수 내에서 사용할 수 있다. "
   ]
  },
  {
   "cell_type": "code",
   "execution_count": null,
   "id": "a0779f0d",
   "metadata": {},
   "outputs": [],
   "source": [
    "# username 페이지 - URL에 변수 섹션 추가\n",
    "@app.route(\"/username/<name>\")\n",
    "def greet(name):\n",
    "    return f\"Hello {name}\""
   ]
  },
  {
   "cell_type": "markdown",
   "id": "9892db5c",
   "metadata": {},
   "source": [
    "- 만약 변경사항을 수정하고 나면 플라스크를 꼭 재실행 해줘야 한다. \n",
    "- 이런 번거로움을 해결해주는 것이 디버그 모드 이다.\n",
    "- 디버그 모드를 활성화 하면 이러한 이점들이 있다. \n",
    "    - 어떤 이슈인지 추려 나갈 수 있다. \n",
    "    - 자동 리로더를 활성화 하면 변경사항이 자동으로 적용된다.\n",
    "    - 플라스크 응용 프로그램에서도 디버그 모드를 활성화 할 수 있다. "
   ]
  },
  {
   "cell_type": "code",
   "execution_count": null,
   "id": "e6cf1354",
   "metadata": {},
   "outputs": [],
   "source": [
    "# 플라스크로 서버 구축\n",
    "from flask import Flask\n",
    "app = Flask(__name__)\n",
    "\n",
    "# main 페이지 \n",
    "@app.route('/')\n",
    "def hello_world():\n",
    "    return 'Hello, World!'\n",
    "\n",
    "# bye 페이지 \n",
    "@app.route(\"/bye\")\n",
    "def say_bye():\n",
    "    return 'Bye'\n",
    "\n",
    "# username 페이지 - URL에 변수 섹션 추가\n",
    "@app.route(\"/username/<name>\")\n",
    "def greet(name):\n",
    "    return f\"Hello {name}\"\n",
    "\n",
    "if __name__ == '__main__':\n",
    "    app.run(debug=True)     # 디버그 모드 activate"
   ]
  },
  {
   "cell_type": "markdown",
   "id": "2d06379b",
   "metadata": {},
   "source": [
    "- 디버그 모드에는 아주 굉장한 장점이 있는데, 만약 코드를 잘못 입력하여 디버그 tool에서 어떠한 에러가 출력되는지 볼 수 있다 또한 터미널 로그에 에러의 pin 번호를 가져와서 디버거에 엑세스 할 수 있다."
   ]
  },
  {
   "cell_type": "markdown",
   "id": "8e1f6f13",
   "metadata": {},
   "source": [
    "- 플라스크에 컨버터는 URL을 지정한 데이터 유형으로 변환하는 역할을 한다. \n",
    "```\n",
    "@app.route(\"/post/<int:post_id>\")\n",
    "def show_post(post_id):\n",
    "    return \"post %d\" % post_id\n",
    "```"
   ]
  },
  {
   "cell_type": "code",
   "execution_count": null,
   "id": "2a9cae8f",
   "metadata": {},
   "outputs": [],
   "source": [
    "# username 페이지 - URL에 컨버터 기능 추가 \n",
    "@app.route(\"/username/<path:name>\")\n",
    "def greet1(name):\n",
    "    return f\"Hello, My name is {name}\""
   ]
  },
  {
   "cell_type": "markdown",
   "id": "d03e5f7e",
   "metadata": {},
   "source": [
    "- URL Path: http://127.0.0.1:5000/username/name/1\n",
    "    - output: Hello, My name is name/1"
   ]
  },
  {
   "cell_type": "code",
   "execution_count": null,
   "id": "350e7265",
   "metadata": {},
   "outputs": [],
   "source": [
    "# username 페이지 - URL에 컨버터 기능 추가 2 \n",
    "@app.route(\"/username/<name>/<int:number>\")\n",
    "def greet1(name, number):\n",
    "    return f\"Hello, My name is {name}, you are {number} years old\""
   ]
  },
  {
   "cell_type": "markdown",
   "id": "c9ffc7da",
   "metadata": {},
   "source": [
    "- URL Path: http://127.0.0.1:5000/username/name/12\n",
    "    - output: Hello, My name is kisung, you are 12 years old"
   ]
  },
  {
   "cell_type": "code",
   "execution_count": null,
   "id": "09fbbdbf",
   "metadata": {},
   "outputs": [],
   "source": []
  }
 ],
 "metadata": {
  "kernelspec": {
   "display_name": "Python 3 (ipykernel)",
   "language": "python",
   "name": "python3"
  },
  "language_info": {
   "codemirror_mode": {
    "name": "ipython",
    "version": 3
   },
   "file_extension": ".py",
   "mimetype": "text/x-python",
   "name": "python",
   "nbconvert_exporter": "python",
   "pygments_lexer": "ipython3",
   "version": "3.8.12"
  }
 },
 "nbformat": 4,
 "nbformat_minor": 5
}
