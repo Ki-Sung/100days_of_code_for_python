{
 "cells": [
  {
   "cell_type": "markdown",
   "id": "9c012e62",
   "metadata": {},
   "source": [
    "## 플라스크에 HTML과 URL 파싱법 및 숫자 업다운 게임 만들기\n",
    "- html 랜더링 방법 배우기 \n",
    "- 고급 데코레이터 사용해 보기 "
   ]
  },
  {
   "cell_type": "markdown",
   "id": "b15383bd",
   "metadata": {},
   "source": [
    "### 플라스크 URL 경로 및 플라스크 디버거 실행하기 \n",
    "- 예시 URL: https://www.gilbert.com/gilbert\n",
    "    - 도메인 뒤에 /gilbert 혹은 /mail/message/picture 등을 입력하는 것이, 이 URL을 기반으로 다른 작업을 수행하거나 특정한 무언가가 랜더링 할 수 있기 때문에 이러한 정보들을 잘 알고 있어야 한다."
   ]
  },
  {
   "cell_type": "markdown",
   "id": "6492fe4a",
   "metadata": {},
   "source": [
    "- 만약 플라스크에서 경로에 변수를 넣고 싶다면 아래와 같이 해준다.\n",
    "```\n",
    "@app.route(\"/greet/<name>\")\n",
    "def greet(name):\n",
    "    return f\"Hello {name}\" \n",
    "```\n",
    "\n",
    "- URL에 변수 섹션을 추가할 수 있다고 되어 있는데, 결국 위 구문을 입력함으로써 URL에 변수를 만드는 것이라고 볼 수 있다. \n",
    "- ```<variable_name>```을 입력하고 나면 모든 함수가 해당 변수 이름을 받게 된다. 데코레이터가 끝나면 함수 내에서 사용할 수 있다. "
   ]
  },
  {
   "cell_type": "code",
   "execution_count": null,
   "id": "90f92a54",
   "metadata": {},
   "outputs": [],
   "source": [
    "# username 페이지 - URL에 변수 섹션 추가\n",
    "@app.route(\"/username/<name>\")\n",
    "def greet(name):\n",
    "    return f\"Hello {name}\""
   ]
  },
  {
   "cell_type": "markdown",
   "id": "aafd8ace",
   "metadata": {},
   "source": [
    "- 만약 변경사항을 수정하고 나면 플라스크를 꼭 재실행 해줘야 한다. \n",
    "- 이런 번거로움을 해결해주는 것이 디버그 모드 이다.\n",
    "- 디버그 모드를 활성화 하면 이러한 이점들이 있다. \n",
    "    - 어떤 이슈인지 추려 나갈 수 있다. \n",
    "    - 자동 리로더를 활성화 하면 변경사항이 자동으로 적용된다.\n",
    "    - 플라스크 응용 프로그램에서도 디버그 모드를 활성화 할 수 있다. "
   ]
  },
  {
   "cell_type": "code",
   "execution_count": null,
   "id": "4063ac41",
   "metadata": {},
   "outputs": [],
   "source": [
    "# 플라스크로 서버 구축\n",
    "from flask import Flask\n",
    "app = Flask(__name__)\n",
    "\n",
    "# main 페이지 \n",
    "@app.route('/')\n",
    "def hello_world():\n",
    "    return 'Hello, World!'\n",
    "\n",
    "# bye 페이지 \n",
    "@app.route(\"/bye\")\n",
    "def say_bye():\n",
    "    return 'Bye'\n",
    "\n",
    "# username 페이지 - URL에 변수 섹션 추가\n",
    "@app.route(\"/username/<name>\")\n",
    "def greet(name):\n",
    "    return f\"Hello {name}\"\n",
    "\n",
    "if __name__ == '__main__':\n",
    "    app.run(debug=True)     # 디버그 모드 activate"
   ]
  },
  {
   "cell_type": "markdown",
   "id": "e7ea9da7",
   "metadata": {},
   "source": [
    "- 디버그 모드에는 아주 굉장한 장점이 있는데, 만약 코드를 잘못 입력하여 디버그 tool에서 어떠한 에러가 출력되는지 볼 수 있다 또한 터미널 로그에 에러의 pin 번호를 가져와서 디버거에 엑세스 할 수 있다."
   ]
  },
  {
   "cell_type": "markdown",
   "id": "97e5e059",
   "metadata": {},
   "source": [
    "- 플라스크에 컨버터는 URL을 지정한 데이터 유형으로 변환하는 역할을 한다. \n",
    "```\n",
    "@app.route(\"/post/<int:post_id>\")\n",
    "def show_post(post_id):\n",
    "    return \"post %d\" % post_id\n",
    "```"
   ]
  },
  {
   "cell_type": "code",
   "execution_count": null,
   "id": "42e9eea9",
   "metadata": {},
   "outputs": [],
   "source": [
    "# username 페이지 - URL에 컨버터 기능 추가 \n",
    "@app.route(\"/username/<path:name>\")\n",
    "def greet1(name):\n",
    "    return f\"Hello, My name is {name}\""
   ]
  },
  {
   "cell_type": "markdown",
   "id": "e3627def",
   "metadata": {},
   "source": [
    "- URL Path: http://127.0.0.1:5000/username/name/1\n",
    "    - output: Hello, My name is name/1"
   ]
  },
  {
   "cell_type": "code",
   "execution_count": null,
   "id": "ca4f0205",
   "metadata": {},
   "outputs": [],
   "source": [
    "# username 페이지 - URL에 컨버터 기능 추가 2 \n",
    "@app.route(\"/username/<name>/<int:number>\")\n",
    "def greet1(name, number):\n",
    "    return f\"Hello, My name is {name}, you are {number} years old\""
   ]
  },
  {
   "cell_type": "markdown",
   "id": "e43386ea",
   "metadata": {},
   "source": [
    "- URL Path: http://127.0.0.1:5000/username/name/12\n",
    "    - output: Hello, My name is kisung, you are 12 years old"
   ]
  },
  {
   "cell_type": "markdown",
   "id": "18b76488",
   "metadata": {},
   "source": [
    "### 플라스크로 HTML 요소 랜더링 하기\n",
    "- 가장 간단한 방법은 html 코드를 반환하는 것이다."
   ]
  },
  {
   "cell_type": "code",
   "execution_count": null,
   "id": "5d5d940c",
   "metadata": {},
   "outputs": [],
   "source": [
    "# 플라스크로 서버 구축\n",
    "from flask import Flask\n",
    "app = Flask(__name__)\n",
    "\n",
    "# main 페이지 \n",
    "@app.route('/')\n",
    "def hello_world():\n",
    "    return '<h1>Hello, World!</h1>'"
   ]
  },
  {
   "cell_type": "markdown",
   "id": "f088a992",
   "metadata": {},
   "source": [
    "- html 코드를 반환할 수 있으니 태그안에 속성을 넣는 것도 가능하다"
   ]
  },
  {
   "cell_type": "code",
   "execution_count": null,
   "id": "87d323a8",
   "metadata": {},
   "outputs": [],
   "source": [
    "# 플라스크로 서버 구축\n",
    "from flask import Flask\n",
    "app = Flask(__name__)\n",
    "\n",
    "# main 페이지 - html 랜더링\n",
    "@app.route('/')\n",
    "def hello_world():\n",
    "    return '<h1 style=\"text-align: center\">Hello, World!</h1>'"
   ]
  },
  {
   "cell_type": "markdown",
   "id": "ae9aaa13",
   "metadata": {},
   "source": [
    "- html 단일 코드가 아니라 두 개 이상 작성도 가능하다 "
   ]
  },
  {
   "cell_type": "code",
   "execution_count": null,
   "id": "524b14b8",
   "metadata": {},
   "outputs": [],
   "source": [
    "# 플라스크로 서버 구축\n",
    "from flask import Flask\n",
    "app = Flask(__name__)\n",
    "\n",
    "# main 페이지 - html 랜더링\n",
    "@app.route('/')\n",
    "def hello_world():\n",
    "    return '<h1 style=\"text-align: center\">Hello, World!</h1>'\\\n",
    "            '<p>This is a paragraph</p>'"
   ]
  },
  {
   "cell_type": "code",
   "execution_count": null,
   "id": "791b062e",
   "metadata": {},
   "outputs": [],
   "source": [
    "# html tag에 다른 속성 추가 \n",
    "from flask import Flask\n",
    "app = Flask(__name__)\n",
    "\n",
    "# main 페이지 - html 랜더링\n",
    "@app.route('/')\n",
    "def hello_world():\n",
    "    return '<h1 style=\"text-align: center\">Hello, World!</h1>'\\\n",
    "           '<p>This is a paragraph</p>'\\\n",
    "            '<img src=\"https://media.giphy.com/media/gyRWkLSQVqlPi/giphy.gif\" width=400>'"
   ]
  },
  {
   "cell_type": "markdown",
   "id": "6dccbcef",
   "metadata": {},
   "source": [
    "### 데코레이터를 활용해 html 태그 스타일 하기 \n",
    "- 라우트 bye 부분을 html로 나타내보자"
   ]
  },
  {
   "cell_type": "code",
   "execution_count": null,
   "id": "b5e229d7",
   "metadata": {},
   "outputs": [],
   "source": [
    "# 데코레이터 함수 만들기 - 기성 작성 \n",
    "def make_bold(function):\n",
    "    def bold_funtion():\n",
    "        function()\n",
    "        return f\"<b>{function()}</b>\"\n",
    "    return bold_funtion\n",
    "\n",
    "def make_emphasis(function):\n",
    "    def emphasis_funtion():\n",
    "        function()\n",
    "        return f\"<em>{function()}</em>\"\n",
    "    return emphasis_funtion\n",
    "\n",
    "def make_unerlined(function):\n",
    "    def underline_funtion():\n",
    "        function()\n",
    "        return f\"<u>{function()}</u>\"\n",
    "    return underline_funtion"
   ]
  },
  {
   "cell_type": "code",
   "execution_count": null,
   "id": "7ca34555",
   "metadata": {},
   "outputs": [],
   "source": [
    "# 데코레이터 함수 만들기 - teacher solution\n",
    "\n",
    "# 굴기 조절 html 데코레이터 함수 \n",
    "def make_bold(function):\n",
    "    # 중첩 함수\n",
    "    def wrapper():\n",
    "        return \"<b>\" + function() + \"</b>\"\n",
    "    return wrapper\n",
    "\n",
    "# 기울기 조절 html 데코레이터 함수\n",
    "def make_emphasis(function):\n",
    "    # 중첩 함수\n",
    "    def wrapper():\n",
    "        return \"<em>\" + function() + \"</em>\"\n",
    "    return wrapper\n",
    "\n",
    "# 밑줄 조절 html 데코레이터 함수\n",
    "def make_unerlined(function):\n",
    "    # 중첩 함수\n",
    "    def wrapper():\n",
    "        return \"<u>\" + function() + \"</u>\"\n",
    "    return wrapper"
   ]
  },
  {
   "cell_type": "markdown",
   "id": "dbff17f7",
   "metadata": {},
   "source": [
    "### `*args`, `**kwargs`를 활용한 고급 데코레이터 "
   ]
  },
  {
   "cell_type": "markdown",
   "id": "f7515c50",
   "metadata": {},
   "source": [
    "#### 일반 클래스 사용"
   ]
  },
  {
   "cell_type": "code",
   "execution_count": 5,
   "id": "f9638312",
   "metadata": {},
   "outputs": [],
   "source": [
    "# 클래스 에제 \n",
    "class User:\n",
    "    def __init__(self, name):\n",
    "        self.name = name\n",
    "        self.is_logged_in = False\n",
    "        \n",
    "    def create_blog_post(user):\n",
    "        print(f\"This is {user.name}'s new blog post.\")"
   ]
  },
  {
   "cell_type": "markdown",
   "id": "629ee968",
   "metadata": {},
   "source": [
    "- 위 클래스를 보면 두 가지 속성, 즉 name 속성과 logged_in 속성 두가지가 있다.\n",
    "- 해당 코드는 어떠한 유저가 로그인 상태인지, 로그아웃 상태인지를 추적하는 속성을 가지고 있다.\n",
    "- 그래서 로그인한 사용자 만이 특정 메소드를 달성할 수 있다."
   ]
  },
  {
   "cell_type": "code",
   "execution_count": 11,
   "id": "e5d317fa",
   "metadata": {},
   "outputs": [
    {
     "name": "stdout",
     "output_type": "stream",
     "text": [
      "This is angela's new blog post.\n"
     ]
    }
   ],
   "source": [
    "new_user = User(\"angela\")\n",
    "new_user.create_blog_post()"
   ]
  },
  {
   "cell_type": "markdown",
   "id": "2271648a",
   "metadata": {},
   "source": [
    "- name을 \"angela\"라고 하여, 이제 블로그 포스트와 사용자를 전달 할 수 있다."
   ]
  },
  {
   "cell_type": "markdown",
   "id": "02831993",
   "metadata": {},
   "source": [
    "#### 데코레이터 사용"
   ]
  },
  {
   "cell_type": "markdown",
   "id": "1b1655a9",
   "metadata": {},
   "source": [
    "- 다음으로 만약 인증이 필요한 웹사이트의 함수를 데코레이트 하기 위해 데코레이터 함수가 생성되려면 is_logged_in 속성이 True로 설정되어 있어야 한다."
   ]
  },
  {
   "cell_type": "code",
   "execution_count": null,
   "id": "ddccef7d",
   "metadata": {},
   "outputs": [],
   "source": [
    "# 클래스 에제 - 데코레이터 추가 \n",
    "class User:\n",
    "    def __init__(self, name):\n",
    "        self.name = name\n",
    "        self.is_logged_in = False\n",
    "    \n",
    "    def is_authenticated_decorator(function):\n",
    "        def wrapper():\n",
    "            if user.is_logged_in == True:\n",
    "                function\n",
    "        return wrapper\n",
    "        \n",
    "    def create_blog_post(user):\n",
    "        print(f\"This is {user.name}'s new blog post.\")"
   ]
  },
  {
   "cell_type": "markdown",
   "id": "dd5045f7",
   "metadata": {},
   "source": [
    "- 위의 데코레이터 함수의 한가지 문제는 사용자가 정의되지 않았다는 것이다. 데코레이터 함수의 인자를 보면 fucntion만 전달이 가능하게 되어있다. 만약 해당 함수와 연결된 다른 인자를 전달해야한다면 어떻게 해야할까?\n",
    "- 블로그 게시물을 생성하는 메소드에 사용자 객체 형태로 입력을 받아들이도록 하기 위해 데코레이터를 추가해준다. "
   ]
  },
  {
   "cell_type": "code",
   "execution_count": null,
   "id": "ae429f9e",
   "metadata": {},
   "outputs": [],
   "source": [
    "# 클래스 에제 - 데코레이터 추가 \n",
    "class User:\n",
    "    def __init__(self, name):\n",
    "        self.name = name\n",
    "        self.is_logged_in = False\n",
    "    \n",
    "    def is_authenticated_decorator(function):\n",
    "        def wrapper():\n",
    "            if user.is_logged_in == True:\n",
    "                function\n",
    "        return wrapper\n",
    "    \n",
    "    @ is_authenticated_decorator\n",
    "    def create_blog_post(user):\n",
    "        print(f\"This is {user.name}'s new blog post.\")"
   ]
  },
  {
   "cell_type": "markdown",
   "id": "8a7df13a",
   "metadata": {},
   "source": [
    "- 여기서 데코레이터 함수에 중첩함수인 wrapper()안에 argument와 keywordargument를 넣어준다."
   ]
  },
  {
   "cell_type": "code",
   "execution_count": 12,
   "id": "0ba6407a",
   "metadata": {},
   "outputs": [],
   "source": [
    "# 클래스 에제 - 데코레이터 추가 \n",
    "class User:\n",
    "    def __init__(self, name):\n",
    "        self.name = name\n",
    "        self.is_logged_in = False\n",
    "    \n",
    "    def is_authenticated_decorator(function):\n",
    "        def wrapper(*args, **kwargs):\n",
    "            if user.is_logged_in == True:\n",
    "                function\n",
    "        return wrapper\n",
    "    \n",
    "    @ is_authenticated_decorator\n",
    "    def create_blog_post(user):\n",
    "        print(f\"This is {user.name}'s new blog post.\")"
   ]
  },
  {
   "cell_type": "code",
   "execution_count": 15,
   "id": "65c99dcb",
   "metadata": {},
   "outputs": [],
   "source": [
    "# 전체 코드\n",
    "class User:\n",
    "    def __init__(self, name):\n",
    "        self.name = name\n",
    "        self.is_logged_in = False\n",
    "    \n",
    "    # 데코레이터 기능 메소드 - 인증 기능\n",
    "    def is_authenticated_decorator(function):\n",
    "        def wrapper(*args, **kwargs):\n",
    "            if args[0].is_logged_in == True:\n",
    "                function(args[0])\n",
    "        return wrapper\n",
    "    \n",
    "    # 데코레이터 적용 후 post한 유저 호출 메소드\n",
    "    @ is_authenticated_decorator\n",
    "    def create_blog_post(user):\n",
    "        print(f\"This is {user.name}'s new blog post.\")"
   ]
  },
  {
   "cell_type": "code",
   "execution_count": 17,
   "id": "8490302f",
   "metadata": {},
   "outputs": [
    {
     "name": "stdout",
     "output_type": "stream",
     "text": [
      "This is angela's new blog post.\n"
     ]
    }
   ],
   "source": [
    "new_user = User(\"angela\")\n",
    "new_user.is_logged_in = True\n",
    "new_user.create_blog_post(new_user)"
   ]
  },
  {
   "cell_type": "markdown",
   "id": "27a9c710",
   "metadata": {},
   "source": [
    "### 고급 데코레이터 연습 문제 \n",
    "- 호출된 함수의 이름, 제공된 인수, 마지막으로 반환된 출력을 기록할 \"logging_decorator()\"를 만든다.\n",
    "    - 힌트 1: function.`__name__`을 사용하여 함수 이름을 얻을 수 있다.\n",
    "    - 힌트 2: `*args`를 사용해야 한다."
   ]
  },
  {
   "cell_type": "code",
   "execution_count": 29,
   "id": "ff8622c3",
   "metadata": {},
   "outputs": [],
   "source": [
    "# 기성 풀이\n",
    "# Create the logging_decorator() function 👇\n",
    "def login_decorator(function):\n",
    "    def wrapper(*args, **kwargs):\n",
    "        print(f\"You called {function.__name__}{args}\")\n",
    "        result = function(args[0], args[1]. args[2])\n",
    "        print(f\"Return value: {result}\")\n",
    "    return wrapper\n",
    "\n",
    "# Use the decorator 👇\n",
    "@ logging_decorator\n",
    "def correct(username, city, work):\n",
    "    return username, city, work"
   ]
  },
  {
   "cell_type": "code",
   "execution_count": 31,
   "id": "7ba503af",
   "metadata": {},
   "outputs": [
    {
     "name": "stdout",
     "output_type": "stream",
     "text": [
      "You called correct('Best', 'Seoul', 'Computer')\n",
      "It returned: ('Best', 'Seoul', 'Computer')\n"
     ]
    }
   ],
   "source": [
    "correct(\"Best\", \"Seoul\", \"Computer\")"
   ]
  },
  {
   "cell_type": "code",
   "execution_count": 25,
   "id": "4e478246",
   "metadata": {},
   "outputs": [],
   "source": [
    "# teacher solution\n",
    "# Create the logging_decorator() function 👇\n",
    "def logging_decorator(function):\n",
    "    def wrapper(*args, **kwargs):\n",
    "        print(f\"You called {function.__name__}{args}\")\n",
    "        result = function(args[0], args[1], args[2])\n",
    "        print(f\"It returned: {result}\")\n",
    "    return wrapper"
   ]
  },
  {
   "cell_type": "code",
   "execution_count": 26,
   "id": "c9641ad8",
   "metadata": {},
   "outputs": [],
   "source": [
    "# Use the decorator 👇\n",
    "@logging_decorator\n",
    "def a_fucntion(a, b, c):\n",
    "    return a * b * c"
   ]
  },
  {
   "cell_type": "code",
   "execution_count": 27,
   "id": "a5c6e08c",
   "metadata": {},
   "outputs": [
    {
     "name": "stdout",
     "output_type": "stream",
     "text": [
      "You called a_fucntion(3, 4, 5)\n",
      "It returned: 60\n"
     ]
    }
   ],
   "source": [
    "a_fucntion(3, 4, 5)"
   ]
  },
  {
   "cell_type": "markdown",
   "id": "e7c333ea",
   "metadata": {},
   "source": [
    "### Higher - Lower URL \n",
    "14일차 때 만들었던 Higher-Lower 게임을 웹사이트로 만들어 보기\n",
    "1. 파이참에서 새 프로젝트 higher-lower를 만들고, server.py 파일을 추가하기 \n",
    "2. 플라스크 애플리케이션을 새로 만들고, 홈 경로에서 ‘0과 9 사이의 숫자를 맞춰라’라는 `<h1>`과 giphy.com에서 고른 gif 이미지를 출력하라\n",
    "    - https://media.giphy.com/media/3o7aCSPqXE5C6T8tBC/giphy.gif\n",
    "\n",
    "3. 0과 9 사이, 혹은 원하는 범위 내에서 임의의 숫자를 생성\n",
    "4. ‘URL/3’ 또는 ‘URL/9’와 같이 사용자가 입력한 숫자에 대응하는 경로를 만들고, 해당 경로의 숫자를 무작위로 생성된 숫자와 비교하여 작은 지, 큰지, 정답인지 사용자에게 알려주기. \n",
    "    - 예) 무작위 숫자가 5일 때 \n",
    "        - 3은 너무 작어 \n",
    "        - 7 은 너무 커\n",
    "        - 5가 정답이네! 축하해\n",
    "    - 아래 URL은 giphy.com에서 찾은 gif 이다.\n",
    "        - 클 때: https://media.giphy.com/media/3o6ZtaO9BZHcOjmErm/giphy.gif\n",
    "        - 작을 때: https://media.giphy.com/media/jD4DwBtqPXRXa/giphy.gif\n",
    "        - 정답일 때: https://media.giphy.com/media/4T7e4DmcrP9du/giphy.gif"
   ]
  },
  {
   "cell_type": "code",
   "execution_count": null,
   "id": "fc929a67",
   "metadata": {},
   "outputs": [],
   "source": [
    "# 기성 작성 코드 \n",
    "# 플라스크로 서버 구축\n",
    "import random\n",
    "from flask import Flask\n",
    "\n",
    "# 플라스크 객체 생성 (__name__은 현재 실행 중인 모듈 이름을 전달)\n",
    "app = Flask(__name__)\n",
    "\n",
    "# 타겟 넘버 랜덤으로 생성\n",
    "target_number = random.randint(0, 20)\n",
    "\n",
    "# main 페이지 - html 랜더링\n",
    "@app.route('/')              # 기본 주소 체계 \n",
    "def start_low_high():        # 위의 주소로 호출 시 웹에 보여지는 html\n",
    "    html = '<h1>Guess a number between 0 and 20</h1>'\\\n",
    "            '<img src=\"https://media.giphy.com/media/3o7aCSPqXE5C6T8tBC/giphy.gif\">'\n",
    "    return html\n",
    "\n",
    "# URL에 컨버터 기능 추가 \n",
    "@app.route(\"/<int:number>\")            # 기본 주소 체계(컨버터 기능 사용)\n",
    "def answer_number(number):             # 위의 주소로 호출 시 웹에 보여지는 html\n",
    "    if number < target_number:         # 만약 입력한 숫자가 타겟 숫자보다 적으면 아래 html 반환\n",
    "        html = '<h1 style=\"color:red\">Too low, Try again!</h1>'\\\n",
    "                '<img src=\"https://media.giphy.com/media/jD4DwBtqPXRXa/giphy.gif\">'\n",
    "        return html \n",
    "    \n",
    "    elif number > target_number:        # 만약 입력한 숫자가 타겟 숫자보다 크면 아래 html 반환\n",
    "        html = '<h1 style=\"color:purple\">Too Hight, Try again!</h1>'\\\n",
    "                '<img src=\"https://media.giphy.com/media/3o6ZtaO9BZHcOjmErm/giphy.gif\">'\n",
    "        return html \n",
    "    \n",
    "    elif number == target_number:      # 만약 입력한 숫자와 타겟 숫자가 같으면\n",
    "        html = '<h1 style=\"color:green\">Congratulations! You founde me!</h1>'\\\n",
    "                '<img src=\"https://media.giphy.com/media/4T7e4DmcrP9du/giphy.gif\">'\n",
    "        return html\n",
    "\n",
    "# 만약 실행하고자 하는 모듈 이름과 같다면 플라스크 실행\n",
    "if __name__ == '__main__':\n",
    "    app.run(debug=True)       # 실행시 디버그 모드 활성화"
   ]
  }
 ],
 "metadata": {
  "kernelspec": {
   "display_name": "Python 3 (ipykernel)",
   "language": "python",
   "name": "python3"
  },
  "language_info": {
   "codemirror_mode": {
    "name": "ipython",
    "version": 3
   },
   "file_extension": ".py",
   "mimetype": "text/x-python",
   "name": "python",
   "nbconvert_exporter": "python",
   "pygments_lexer": "ipython3",
   "version": "3.8.12"
  }
 },
 "nbformat": 4,
 "nbformat_minor": 5
}
