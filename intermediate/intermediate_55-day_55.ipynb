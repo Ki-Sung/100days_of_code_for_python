{
 "cells": [
  {
   "cell_type": "markdown",
   "id": "9c012e62",
   "metadata": {},
   "source": [
    "## 플라스크에 HTML과 URL 파싱법 및 숫자 업다운 게임 만들기\n",
    "- html 랜더링 방법 배우기 \n",
    "- 고급 데코레이터 사용해 보기 "
   ]
  },
  {
   "cell_type": "markdown",
   "id": "b15383bd",
   "metadata": {},
   "source": [
    "### 플라스크 URL 경로 및 플라스크 디버거 실행하기 \n",
    "- 예시 URL: https://www.gilbert.com/gilbert\n",
    "    - 도메인 뒤에 /gilbert 혹은 /mail/message/picture 등을 입력하는 것이, 이 URL을 기반으로 다른 작업을 수행하거나 특정한 무언가가 랜더링 할 수 있기 때문에 이러한 정보들을 잘 알고 있어야 한다."
   ]
  },
  {
   "cell_type": "markdown",
   "id": "d8933d1f",
   "metadata": {},
   "source": [
    "- 만약 플라스크에서 경로에 변수를 넣고 싶다면 아래와 같이 해준다.\n",
    "```\n",
    "@app.route(\"/greet/<name>\")\n",
    "def greet(name):\n",
    "    return f\"Hello {name}\" \n",
    "```\n",
    "\n",
    "- URL에 변수 섹션을 추가할 수 있다고 되어 있는데, 결국 위 구문을 입력함으로써 URL에 변수를 만드는 것이라고 볼 수 있다. \n",
    "- ```<variable_name>```을 입력하고 나면 모든 함수가 해당 변수 이름을 받게 된다. 데코레이터가 끝나면 함수 내에서 사용할 수 있다. "
   ]
  },
  {
   "cell_type": "code",
   "execution_count": null,
   "id": "a0fc3642",
   "metadata": {},
   "outputs": [],
   "source": [
    "# username 페이지 - URL에 변수 섹션 추가\n",
    "@app.route(\"/username/<name>\")\n",
    "def greet(name):\n",
    "    return f\"Hello {name}\""
   ]
  },
  {
   "cell_type": "markdown",
   "id": "c579ce19",
   "metadata": {},
   "source": [
    "- 만약 변경사항을 수정하고 나면 플라스크를 꼭 재실행 해줘야 한다. \n",
    "- 이런 번거로움을 해결해주는 것이 디버그 모드 이다.\n",
    "- 디버그 모드를 활성화 하면 이러한 이점들이 있다. \n",
    "    - 어떤 이슈인지 추려 나갈 수 있다. \n",
    "    - 자동 리로더를 활성화 하면 변경사항이 자동으로 적용된다.\n",
    "    - 플라스크 응용 프로그램에서도 디버그 모드를 활성화 할 수 있다. "
   ]
  },
  {
   "cell_type": "code",
   "execution_count": null,
   "id": "9c56ad4a",
   "metadata": {},
   "outputs": [],
   "source": [
    "# 플라스크로 서버 구축\n",
    "from flask import Flask\n",
    "app = Flask(__name__)\n",
    "\n",
    "# main 페이지 \n",
    "@app.route('/')\n",
    "def hello_world():\n",
    "    return 'Hello, World!'\n",
    "\n",
    "# bye 페이지 \n",
    "@app.route(\"/bye\")\n",
    "def say_bye():\n",
    "    return 'Bye'\n",
    "\n",
    "# username 페이지 - URL에 변수 섹션 추가\n",
    "@app.route(\"/username/<name>\")\n",
    "def greet(name):\n",
    "    return f\"Hello {name}\"\n",
    "\n",
    "if __name__ == '__main__':\n",
    "    app.run(debug=True)     # 디버그 모드 activate"
   ]
  },
  {
   "cell_type": "markdown",
   "id": "1af9a6f1",
   "metadata": {},
   "source": [
    "- 디버그 모드에는 아주 굉장한 장점이 있는데, 만약 코드를 잘못 입력하여 디버그 tool에서 어떠한 에러가 출력되는지 볼 수 있다 또한 터미널 로그에 에러의 pin 번호를 가져와서 디버거에 엑세스 할 수 있다."
   ]
  },
  {
   "cell_type": "markdown",
   "id": "4636bd0b",
   "metadata": {},
   "source": [
    "- 플라스크에 컨버터는 URL을 지정한 데이터 유형으로 변환하는 역할을 한다. \n",
    "```\n",
    "@app.route(\"/post/<int:post_id>\")\n",
    "def show_post(post_id):\n",
    "    return \"post %d\" % post_id\n",
    "```"
   ]
  },
  {
   "cell_type": "code",
   "execution_count": null,
   "id": "513a860d",
   "metadata": {},
   "outputs": [],
   "source": [
    "# username 페이지 - URL에 컨버터 기능 추가 \n",
    "@app.route(\"/username/<path:name>\")\n",
    "def greet1(name):\n",
    "    return f\"Hello, My name is {name}\""
   ]
  },
  {
   "cell_type": "markdown",
   "id": "a095af23",
   "metadata": {},
   "source": [
    "- URL Path: http://127.0.0.1:5000/username/name/1\n",
    "    - output: Hello, My name is name/1"
   ]
  },
  {
   "cell_type": "code",
   "execution_count": null,
   "id": "482690c6",
   "metadata": {},
   "outputs": [],
   "source": [
    "# username 페이지 - URL에 컨버터 기능 추가 2 \n",
    "@app.route(\"/username/<name>/<int:number>\")\n",
    "def greet1(name, number):\n",
    "    return f\"Hello, My name is {name}, you are {number} years old\""
   ]
  },
  {
   "cell_type": "markdown",
   "id": "2d2e33e5",
   "metadata": {},
   "source": [
    "- URL Path: http://127.0.0.1:5000/username/name/12\n",
    "    - output: Hello, My name is kisung, you are 12 years old"
   ]
  },
  {
   "cell_type": "markdown",
   "id": "ec731ec2",
   "metadata": {},
   "source": [
    "### 플라스크로 HTML 요소 랜더링 하기\n",
    "- 가장 간단한 방법은 html 코드를 반환하는 것이다."
   ]
  },
  {
   "cell_type": "code",
   "execution_count": null,
   "id": "5acd60f5",
   "metadata": {},
   "outputs": [],
   "source": [
    "# 플라스크로 서버 구축\n",
    "from flask import Flask\n",
    "app = Flask(__name__)\n",
    "\n",
    "# main 페이지 \n",
    "@app.route('/')\n",
    "def hello_world():\n",
    "    return '<h1>Hello, World!</h1>'"
   ]
  },
  {
   "cell_type": "markdown",
   "id": "bf85b2fd",
   "metadata": {},
   "source": [
    "- html 코드를 반환할 수 있으니 태그안에 속성을 넣는 것도 가능하다"
   ]
  },
  {
   "cell_type": "code",
   "execution_count": null,
   "id": "d8577406",
   "metadata": {},
   "outputs": [],
   "source": [
    "# 플라스크로 서버 구축\n",
    "from flask import Flask\n",
    "app = Flask(__name__)\n",
    "\n",
    "# main 페이지 - html 랜더링\n",
    "@app.route('/')\n",
    "def hello_world():\n",
    "    return '<h1 style=\"text-align: center\">Hello, World!</h1>'"
   ]
  },
  {
   "cell_type": "markdown",
   "id": "c3eab952",
   "metadata": {},
   "source": [
    "- html 단일 코드가 아니라 두 개 이상 작성도 가능하다 "
   ]
  },
  {
   "cell_type": "code",
   "execution_count": null,
   "id": "1abf5978",
   "metadata": {},
   "outputs": [],
   "source": [
    "# 플라스크로 서버 구축\n",
    "from flask import Flask\n",
    "app = Flask(__name__)\n",
    "\n",
    "# main 페이지 - html 랜더링\n",
    "@app.route('/')\n",
    "def hello_world():\n",
    "    return '<h1 style=\"text-align: center\">Hello, World!</h1>'\\\n",
    "            '<p>This is a paragraph</p>'"
   ]
  },
  {
   "cell_type": "code",
   "execution_count": null,
   "id": "fd73f19e",
   "metadata": {},
   "outputs": [],
   "source": [
    "# html tag에 다른 속성 추가 \n",
    "from flask import Flask\n",
    "app = Flask(__name__)\n",
    "\n",
    "# main 페이지 - html 랜더링\n",
    "@app.route('/')\n",
    "def hello_world():\n",
    "    return '<h1 style=\"text-align: center\">Hello, World!</h1>'\\\n",
    "           '<p>This is a paragraph</p>'\\\n",
    "            '<img src=\"https://media.giphy.com/media/gyRWkLSQVqlPi/giphy.gif\" width=400>'"
   ]
  },
  {
   "cell_type": "markdown",
   "id": "12c63eb7",
   "metadata": {},
   "source": [
    "### 데코레이터를 활용해 html 태그 스타일 하기 \n",
    "- 라우트 bye 부분을 html로 나타내보자"
   ]
  },
  {
   "cell_type": "code",
   "execution_count": null,
   "id": "c8f5ab9c",
   "metadata": {},
   "outputs": [],
   "source": [
    "# 데코레이터 함수 만들기 - 기성 작성 \n",
    "def make_bold(function):\n",
    "    def bold_funtion():\n",
    "        function()\n",
    "        return f\"<b>{function()}</b>\"\n",
    "    return bold_funtion\n",
    "\n",
    "def make_emphasis(function):\n",
    "    def emphasis_funtion():\n",
    "        function()\n",
    "        return f\"<em>{function()}</em>\"\n",
    "    return emphasis_funtion\n",
    "\n",
    "def make_unerlined(function):\n",
    "    def underline_funtion():\n",
    "        function()\n",
    "        return f\"<u>{function()}</u>\"\n",
    "    return underline_funtion"
   ]
  },
  {
   "cell_type": "code",
   "execution_count": null,
   "id": "640f810e",
   "metadata": {},
   "outputs": [],
   "source": [
    "# 데코레이터 함수 만들기 - teacher solution\n",
    "\n",
    "# 굴기 조절 html 데코레이터 함수 \n",
    "def make_bold(function):\n",
    "    # 중첩 함수\n",
    "    def wrapper():\n",
    "        return \"<b>\" + function() + \"</b>\"\n",
    "    return wrapper\n",
    "\n",
    "# 기울기 조절 html 데코레이터 함수\n",
    "def make_emphasis(function):\n",
    "    # 중첩 함수\n",
    "    def wrapper():\n",
    "        return \"<em>\" + function() + \"</em>\"\n",
    "    return wrapper\n",
    "\n",
    "# 밑줄 조절 html 데코레이터 함수\n",
    "def make_unerlined(function):\n",
    "    # 중첩 함수\n",
    "    def wrapper():\n",
    "        return \"<u>\" + function() + \"</u>\"\n",
    "    return wrapper"
   ]
  },
  {
   "cell_type": "markdown",
   "id": "eff7b851",
   "metadata": {},
   "source": [
    "### `*args`, `**kwargs`를 활용한 고급 데코레이터 "
   ]
  },
  {
   "cell_type": "markdown",
   "id": "da84a246",
   "metadata": {},
   "source": [
    "#### 일반 클래스 사용"
   ]
  },
  {
   "cell_type": "code",
   "execution_count": 5,
   "id": "2a7f17a7",
   "metadata": {},
   "outputs": [],
   "source": [
    "# 클래스 에제 \n",
    "class User:\n",
    "    def __init__(self, name):\n",
    "        self.name = name\n",
    "        self.is_logged_in = False\n",
    "        \n",
    "    def create_blog_post(user):\n",
    "        print(f\"This is {user.name}'s new blog post.\")"
   ]
  },
  {
   "cell_type": "markdown",
   "id": "2d2701b6",
   "metadata": {},
   "source": [
    "- 위 클래스를 보면 두 가지 속성, 즉 name 속성과 logged_in 속성 두가지가 있다.\n",
    "- 해당 코드는 어떠한 유저가 로그인 상태인지, 로그아웃 상태인지를 추적하는 속성을 가지고 있다.\n",
    "- 그래서 로그인한 사용자 만이 특정 메소드를 달성할 수 있다."
   ]
  },
  {
   "cell_type": "code",
   "execution_count": 11,
   "id": "ba86f6c6",
   "metadata": {},
   "outputs": [
    {
     "name": "stdout",
     "output_type": "stream",
     "text": [
      "This is angela's new blog post.\n"
     ]
    }
   ],
   "source": [
    "new_user = User(\"angela\")\n",
    "new_user.create_blog_post()"
   ]
  },
  {
   "cell_type": "markdown",
   "id": "32f0286f",
   "metadata": {},
   "source": [
    "- name을 \"angela\"라고 하여, 이제 블로그 포스트와 사용자를 전달 할 수 있다."
   ]
  },
  {
   "cell_type": "markdown",
   "id": "0f1aca3c",
   "metadata": {},
   "source": [
    "#### 데코레이터 사용"
   ]
  },
  {
   "cell_type": "markdown",
   "id": "93367e7d",
   "metadata": {},
   "source": [
    "- 다음으로 만약 인증이 필요한 웹사이트의 함수를 데코레이트 하기 위해 데코레이터 함수가 생성되려면 is_logged_in 속성이 True로 설정되어 있어야 한다."
   ]
  },
  {
   "cell_type": "code",
   "execution_count": null,
   "id": "bf6e7d41",
   "metadata": {},
   "outputs": [],
   "source": [
    "# 클래스 에제 - 데코레이터 추가 \n",
    "class User:\n",
    "    def __init__(self, name):\n",
    "        self.name = name\n",
    "        self.is_logged_in = False\n",
    "    \n",
    "    def is_authenticated_decorator(function):\n",
    "        def wrapper():\n",
    "            if user.is_logged_in == True:\n",
    "                function\n",
    "        return wrapper\n",
    "        \n",
    "    def create_blog_post(user):\n",
    "        print(f\"This is {user.name}'s new blog post.\")"
   ]
  },
  {
   "cell_type": "markdown",
   "id": "93bb13ef",
   "metadata": {},
   "source": [
    "- 위의 데코레이터 함수의 한가지 문제는 사용자가 정의되지 않았다는 것이다. 데코레이터 함수의 인자를 보면 fucntion만 전달이 가능하게 되어있다. 만약 해당 함수와 연결된 다른 인자를 전달해야한다면 어떻게 해야할까?\n",
    "- 블로그 게시물을 생성하는 메소드에 사용자 객체 형태로 입력을 받아들이도록 하기 위해 데코레이터를 추가해준다. "
   ]
  },
  {
   "cell_type": "code",
   "execution_count": null,
   "id": "eeb57e62",
   "metadata": {},
   "outputs": [],
   "source": [
    "# 클래스 에제 - 데코레이터 추가 \n",
    "class User:\n",
    "    def __init__(self, name):\n",
    "        self.name = name\n",
    "        self.is_logged_in = False\n",
    "    \n",
    "    def is_authenticated_decorator(function):\n",
    "        def wrapper():\n",
    "            if user.is_logged_in == True:\n",
    "                function\n",
    "        return wrapper\n",
    "    \n",
    "    @ is_authenticated_decorator\n",
    "    def create_blog_post(user):\n",
    "        print(f\"This is {user.name}'s new blog post.\")"
   ]
  },
  {
   "cell_type": "markdown",
   "id": "bf778039",
   "metadata": {},
   "source": [
    "- 여기서 데코레이터 함수에 중첩함수인 wrapper()안에 argument와 keywordargument를 넣어준다."
   ]
  },
  {
   "cell_type": "code",
   "execution_count": 12,
   "id": "71608b2d",
   "metadata": {},
   "outputs": [],
   "source": [
    "# 클래스 에제 - 데코레이터 추가 \n",
    "class User:\n",
    "    def __init__(self, name):\n",
    "        self.name = name\n",
    "        self.is_logged_in = False\n",
    "    \n",
    "    def is_authenticated_decorator(function):\n",
    "        def wrapper(*args, **kwargs):\n",
    "            if user.is_logged_in == True:\n",
    "                function\n",
    "        return wrapper\n",
    "    \n",
    "    @ is_authenticated_decorator\n",
    "    def create_blog_post(user):\n",
    "        print(f\"This is {user.name}'s new blog post.\")"
   ]
  },
  {
   "cell_type": "code",
   "execution_count": 15,
   "id": "488ad331",
   "metadata": {},
   "outputs": [],
   "source": [
    "# 전체 코드\n",
    "class User:\n",
    "    def __init__(self, name):\n",
    "        self.name = name\n",
    "        self.is_logged_in = False\n",
    "    \n",
    "    # 데코레이터 기능 메소드 - 인증 기능\n",
    "    def is_authenticated_decorator(function):\n",
    "        def wrapper(*args, **kwargs):\n",
    "            if args[0].is_logged_in == True:\n",
    "                function(args[0])\n",
    "        return wrapper\n",
    "    \n",
    "    # 데코레이터 적용 후 post한 유저 호출 메소드\n",
    "    @ is_authenticated_decorator\n",
    "    def create_blog_post(user):\n",
    "        print(f\"This is {user.name}'s new blog post.\")"
   ]
  },
  {
   "cell_type": "code",
   "execution_count": 17,
   "id": "78521c57",
   "metadata": {},
   "outputs": [
    {
     "name": "stdout",
     "output_type": "stream",
     "text": [
      "This is angela's new blog post.\n"
     ]
    }
   ],
   "source": [
    "new_user = User(\"angela\")\n",
    "new_user.is_logged_in = True\n",
    "new_user.create_blog_post(new_user)"
   ]
  },
  {
   "cell_type": "markdown",
   "id": "7b1036c3",
   "metadata": {},
   "source": [
    "### 고급 데코레이터 연습 문제 \n",
    "- 호출된 함수의 이름, 제공된 인수, 마지막으로 반환된 출력을 기록할 \"logging_decorator()\"를 만든다.\n",
    "    - 힌트 1: function.`__name__`을 사용하여 함수 이름을 얻을 수 있다.\n",
    "    - 힌트 2: `*args`를 사용해야 한다."
   ]
  },
  {
   "cell_type": "code",
   "execution_count": 29,
   "id": "557aba51",
   "metadata": {},
   "outputs": [],
   "source": [
    "# 기성 풀이\n",
    "# Create the logging_decorator() function 👇\n",
    "def login_decorator(function):\n",
    "    def wrapper(*args, **kwargs):\n",
    "        print(f\"You called {function.__name__}{args}\")\n",
    "        result = function(args[0], args[1]. args[2])\n",
    "        print(f\"Return value: {result}\")\n",
    "    return wrapper\n",
    "\n",
    "# Use the decorator 👇\n",
    "@ logging_decorator\n",
    "def correct(username, city, work):\n",
    "    return username, city, work"
   ]
  },
  {
   "cell_type": "code",
   "execution_count": 31,
   "id": "77049cf1",
   "metadata": {},
   "outputs": [
    {
     "name": "stdout",
     "output_type": "stream",
     "text": [
      "You called correct('Best', 'Seoul', 'Computer')\n",
      "It returned: ('Best', 'Seoul', 'Computer')\n"
     ]
    }
   ],
   "source": [
    "correct(\"Best\", \"Seoul\", \"Computer\")"
   ]
  },
  {
   "cell_type": "code",
   "execution_count": 25,
   "id": "3b8bc616",
   "metadata": {},
   "outputs": [],
   "source": [
    "# teacher solution\n",
    "# Create the logging_decorator() function 👇\n",
    "def logging_decorator(function):\n",
    "    def wrapper(*args, **kwargs):\n",
    "        print(f\"You called {function.__name__}{args}\")\n",
    "        result = function(args[0], args[1], args[2])\n",
    "        print(f\"It returned: {result}\")\n",
    "    return wrapper"
   ]
  },
  {
   "cell_type": "code",
   "execution_count": 26,
   "id": "0c303200",
   "metadata": {},
   "outputs": [],
   "source": [
    "# Use the decorator 👇\n",
    "@logging_decorator\n",
    "def a_fucntion(a, b, c):\n",
    "    return a * b * c"
   ]
  },
  {
   "cell_type": "code",
   "execution_count": 27,
   "id": "e3eecd04",
   "metadata": {},
   "outputs": [
    {
     "name": "stdout",
     "output_type": "stream",
     "text": [
      "You called a_fucntion(3, 4, 5)\n",
      "It returned: 60\n"
     ]
    }
   ],
   "source": [
    "a_fucntion(3, 4, 5)"
   ]
  },
  {
   "cell_type": "code",
   "execution_count": null,
   "id": "81b7e7d9",
   "metadata": {},
   "outputs": [],
   "source": []
  }
 ],
 "metadata": {
  "kernelspec": {
   "display_name": "Python 3 (ipykernel)",
   "language": "python",
   "name": "python3"
  },
  "language_info": {
   "codemirror_mode": {
    "name": "ipython",
    "version": 3
   },
   "file_extension": ".py",
   "mimetype": "text/x-python",
   "name": "python",
   "nbconvert_exporter": "python",
   "pygments_lexer": "ipython3",
   "version": "3.8.12"
  }
 },
 "nbformat": 4,
 "nbformat_minor": 5
}
