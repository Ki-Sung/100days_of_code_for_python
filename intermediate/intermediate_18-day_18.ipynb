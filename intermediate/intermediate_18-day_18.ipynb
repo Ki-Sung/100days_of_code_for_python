{
 "cells": [
  {
   "cell_type": "markdown",
   "id": "c7a003b2",
   "metadata": {},
   "source": [
    "- 참고: 쥬피터 노트북에서는 Turtle이 동작하지 않음. 여기는 기록용으로만 작성!"
   ]
  },
  {
   "cell_type": "markdown",
   "id": "3e7d7dd3",
   "metadata": {},
   "source": [
    "## Python Turtle\n",
    "- 화면에 그래픽을 그릴 수 있게 해주는 수단 \n",
    "- turtle은 Tk모둘에 의존하여 그래픽을 생성한다. 여기서 Tk는 모듈은 tkinter 인터페이스의 줄임말로, 해당 모듈은 파이썬을 이용하여GUI(Graphical User Interface)를 생성하기 위한 수단중 하나이다.\n",
    "- [공식 Document](https://docs.python.org/ko/3/library/turtle.html#turtle.shapesize)"
   ]
  },
  {
   "cell_type": "markdown",
   "id": "67b5eafc",
   "metadata": {},
   "source": [
    "#### 1. Turtle 사용법"
   ]
  },
  {
   "cell_type": "code",
   "execution_count": 1,
   "id": "cb035b6e",
   "metadata": {},
   "outputs": [],
   "source": [
    "# 01 사용법\n",
    "from turtle import Turtle    # turtle 모듈에 Turtle 클래스 불러오기 \n",
    "from turtle import Screen    # turtle 모듈에 Screen 클래스 불러오기\n",
    "\n",
    "# 객체 생성 Turtle()  - 생성된 객체는 하나의 화면으로 켜짐 \n",
    "timmy_the_turtle = Turtle()\n",
    "timmy_the_turtle.shape(\"turtle\")   # turtle 모양 바꾸기 - 거북이 모양\n",
    "timmy_the_turtle.color(\"red\")      # turtle 색성 바꾸기 - 빨강\n",
    "timmy_the_turtle.forward(100)      # turtle 앞으로 이동 - 이동속도 100\n",
    "timmy_the_turtle.right(90)         # 오늘쪽으로 바라보기 - 오른쪽 방향으로 90도로 회전\n",
    "\n",
    "\n",
    "# 객채 생성 Screen() - 창을 클릭하면 종료됨.\n",
    "screen = Screen()      # 객체생성\n",
    "screen.exitonclick()   # 창을 클릭하면 종료될 메소드 선언"
   ]
  },
  {
   "cell_type": "markdown",
   "id": "e4890216",
   "metadata": {},
   "source": [
    "- color를 변경하고 싶으면 해당사이트 참조 \n",
    "    - [triket colors](https://trinket.io/docs/colors)"
   ]
  },
  {
   "cell_type": "code",
   "execution_count": null,
   "id": "b41dafb5",
   "metadata": {},
   "outputs": [],
   "source": [
    "# exercise 1. 정사각형 그리기 \n",
    "from turtle import Turtle, Screen\n",
    "\n",
    "# 객체 선언 및 각종 설정\n",
    "turtle = Turtle()       # 객체 선언 \n",
    "turtle.shape(\"turtle\")  # turtle 모양 변경\n",
    "turtle.color(\"red\")     # turtle 색상 변경 \n",
    "\n",
    "# 정사각형을 그리기 위해 똑같은 동작 4번 반복 \n",
    "for _ in range(4):\n",
    "    turtle.forward(100)\n",
    "    turtle.right(90)"
   ]
  },
  {
   "cell_type": "markdown",
   "id": "592377bd",
   "metadata": {},
   "source": [
    "#### 2.Module  import, Install package\n",
    "- **import + \"module name\"** -> 객체를 하나만 생성할 때 주로 사용 \n",
    "- **from + \"module name\" + import + \"Thing in Module(class)\"** -> 객체를 여러개 사용할 때 주로 사용 \n",
    "- **from + \"module name\" + import + \"*\"** -> 모든 모듈을 불러오겠다는 의미 => 되도록이면 이렇게 사용하지 말자, 어디서 온 모듈인지 어떤 모듈이 어떤 기능을 하는지 파악하기 어려움 \n",
    "- **import + \"module name\" as \"alias name\"** -> 별칭을 사용함으로써 코드의 길이를 줄일 수 있음.\n",
    "- **\"pip install + 'module name'\"** - 파이썬 라이브러리에서 설치하고자 하는 파이썬 모듈을 설치."
   ]
  },
  {
   "cell_type": "code",
   "execution_count": null,
   "id": "a1788859",
   "metadata": {},
   "outputs": [],
   "source": []
  },
  {
   "cell_type": "code",
   "execution_count": null,
   "id": "9a70f987",
   "metadata": {},
   "outputs": [],
   "source": []
  },
  {
   "cell_type": "code",
   "execution_count": null,
   "id": "c49fc036",
   "metadata": {},
   "outputs": [],
   "source": []
  },
  {
   "cell_type": "code",
   "execution_count": null,
   "id": "d10ea867",
   "metadata": {},
   "outputs": [],
   "source": []
  }
 ],
 "metadata": {
  "kernelspec": {
   "display_name": "Python 3 (ipykernel)",
   "language": "python",
   "name": "python3"
  },
  "language_info": {
   "codemirror_mode": {
    "name": "ipython",
    "version": 3
   },
   "file_extension": ".py",
   "mimetype": "text/x-python",
   "name": "python",
   "nbconvert_exporter": "python",
   "pygments_lexer": "ipython3",
   "version": "3.8.12"
  }
 },
 "nbformat": 4,
 "nbformat_minor": 5
}
