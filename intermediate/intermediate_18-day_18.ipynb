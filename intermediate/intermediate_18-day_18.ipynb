{
 "cells": [
  {
   "cell_type": "markdown",
   "id": "d913d158",
   "metadata": {},
   "source": [
    "- 참고: 쥬피터 노트북에서는 Turtle이 동작하지 않음. 여기는 기록용으로만 작성!"
   ]
  },
  {
   "cell_type": "markdown",
   "id": "3e7d7dd3",
   "metadata": {},
   "source": [
    "## Python Turtle\n",
    "- 화면에 그래픽을 그릴 수 있게 해주는 수단 \n",
    "- turtle은 Tk모둘에 의존하여 그래픽을 생성한다. 여기서 Tk는 모듈은 tkinter 인터페이스의 줄임말로, 해당 모듈은 파이썬을 이용하여GUI(Graphical User Interface)를 생성하기 위한 수단중 하나이다.\n",
    "- [공식 Document](https://docs.python.org/ko/3/library/turtle.html#turtle.shapesize)"
   ]
  },
  {
   "cell_type": "markdown",
   "id": "6fd734ec",
   "metadata": {},
   "source": [
    "#### 1. Turtle 사용법"
   ]
  },
  {
   "cell_type": "code",
   "execution_count": 1,
   "id": "cb035b6e",
   "metadata": {},
   "outputs": [],
   "source": [
    "# 01 사용법\n",
    "from turtle import Turtle    # turtle 모듈에 Turtle 클래스 불러오기 \n",
    "from turtle import Screen    # turtle 모듈에 Screen 클래스 불러오기\n",
    "\n",
    "# 객체 생성 Turtle()  - 생성된 객체는 하나의 화면으로 켜짐 \n",
    "timmy_the_turtle = Turtle()\n",
    "timmy_the_turtle.shape(\"turtle\")   # turtle 모양 바꾸기 - 거북이 모양\n",
    "timmy_the_turtle.color(\"red\")      # turtle 색성 바꾸기 - 빨강\n",
    "timmy_the_turtle.forward(100)      # turtle 앞으로 이동 - 이동속도 100\n",
    "timmy_the_turtle.right(90)         # 오늘쪽으로 바라보기 - 오른쪽 방향으로 90도로 회전\n",
    "\n",
    "\n",
    "# 객채 생성 Screen() - 창을 클릭하면 종료됨.\n",
    "screen = Screen()      # 객체생성\n",
    "screen.exitonclick()   # 창을 클릭하면 종료될 메소드 선언"
   ]
  },
  {
   "cell_type": "markdown",
   "id": "01863972",
   "metadata": {},
   "source": [
    "- color를 변경하고 싶으면 해당사이트 참조 \n",
    "    - [triket colors](https://trinket.io/docs/colors)"
   ]
  },
  {
   "cell_type": "code",
   "execution_count": null,
   "id": "b41dafb5",
   "metadata": {},
   "outputs": [],
   "source": [
    "# exercise 1. 정사각형 그리기 \n",
    "from turtle import Turtle, Screen\n",
    "\n",
    "# 객체 선언 및 각종 설정\n",
    "turtle = Turtle()       # 객체 선언 \n",
    "turtle.shape(\"turtle\")  # turtle 모양 변경\n",
    "turtle.color(\"red\")     # turtle 색상 변경 \n",
    "\n",
    "# 정사각형을 그리기 위해 똑같은 동작 4번 반복 \n",
    "for _ in range(4):\n",
    "    turtle.forward(100)\n",
    "    turtle.right(90)"
   ]
  },
  {
   "cell_type": "markdown",
   "id": "2064f221",
   "metadata": {},
   "source": [
    "#### 2.Module  import, Install package\n",
    "- **import + \"module name\"** -> 객체를 하나만 생성할 때 주로 사용 \n",
    "- **from + \"module name\" + import + \"Thing in Module(class)\"** -> 객체를 여러개 사용할 때 주로 사용 \n",
    "- **from + \"module name\" + import + \"*\"** -> 모든 모듈을 불러오겠다는 의미 => 되도록이면 이렇게 사용하지 말자, 어디서 온 모듈인지 어떤 모듈이 어떤 기능을 하는지 파악하기 어려움 \n",
    "- **import + \"module name\" as \"alias name\"** -> 별칭을 사용함으로써 코드의 길이를 줄일 수 있음.\n",
    "- **\"pip install + 'module name'\"** - 파이썬 라이브러리에서 설치하고자 하는 파이썬 모듈을 설치."
   ]
  },
  {
   "cell_type": "code",
   "execution_count": null,
   "id": "3ec5d461",
   "metadata": {},
   "outputs": [],
   "source": [
    "# exercise 2. 점선 그리기 - solution 1 \n",
    "from turtle import Turtle, Screen\n",
    "# 객체 선언 및 각종 설정\n",
    "turtle = Turtle()       # 객체 선언 \n",
    "\n",
    "# 점섬을 그리기 위해 15번 동작 반복 \n",
    "for _ in range(15):\n",
    "    turtle.forward(10)    # 앞으로 10만큼 전진\n",
    "    turtle.up()           # 위로 올리고(빈칸 생성)\n",
    "    turtle.forward(5)     # 앞으로 5번 (빈칸 기준 앞으로 5번 전진)\n",
    "    turtle.down()         # 아래로 내리고 (다시 선 그릴 준비)"
   ]
  },
  {
   "cell_type": "code",
   "execution_count": null,
   "id": "de515809",
   "metadata": {},
   "outputs": [],
   "source": [
    "# exercise 2. 점선 그리기 - solution 2\n",
    "from turtle import Turtle\n",
    "# # 객체 선언 및 각종 설정\n",
    "turtle = Turtle()       # 객체 선언 \n",
    "\n",
    "for _ in range(15):\n",
    "    turtle.forward(10)   # 앞으로 10만큼 전진\n",
    "    turtle.penup()       # 펜을 위로 올리고(빈칸 생성)\n",
    "    turtle.forward(5)    # 앞으로 5번 (빈칸 기준 앞으로 5번 전진)\n",
    "    turtle.pendown()     # 펜을 아래로 내리고 (다시 선 그릴 준비)"
   ]
  },
  {
   "cell_type": "code",
   "execution_count": null,
   "id": "d75b7518",
   "metadata": {},
   "outputs": [],
   "source": [
    "# exercise 3. 한번에 삼각형, 사각형, 오각형, 육각형, 칠각형, 팔각형, 구각형, 십각형 만들기 \n",
    "from turtle import Turtle\n",
    "\n",
    "# 객체 선언 및 각종 설정\n",
    "turtle = Turtle()  # 객체 선언 \n",
    "\n",
    "# 삼각형 - 360 / 3\n",
    "for _ in range(3):\n",
    "    turtle.right(120)\n",
    "    turtle.forward(100)\n",
    "\n",
    "# 사각형 - 360 / 4\n",
    "for _ in range(4):\n",
    "    turtle.right(90)\n",
    "    turtle.forward(100)\n",
    "\n",
    "# 오각형 - 360 / 5\n",
    "for _ in range(5):\n",
    "    turtle.right(72)\n",
    "    turtle.forward(100)\n",
    "    \n",
    "# 육각형 - 360 / 6\n",
    "for _ in range(6):\n",
    "    turtle.right(60)\n",
    "    turtle.forward(100)\n",
    "    \n",
    "# 칠각형 - 360 / 7\n",
    "for _ in range(7):\n",
    "    turtle.right(51)\n",
    "    turtle.forward(100)\n",
    "    \n",
    "# 팔각형 - 360 / 8\n",
    "for _ in range(8):\n",
    "    turtle.right(45)\n",
    "    turtle.forward(100)\n",
    "\n",
    "# 구각형 - 360 / 9\n",
    "for _ in range(9):\n",
    "    turtle.right(40)\n",
    "    turtle.forward(100)\n",
    "    \n",
    "# 십각형 - 360 / 10\n",
    "for _ in range(9):\n",
    "    turtle.right(36)\n",
    "    turtle.forward(100)"
   ]
  },
  {
   "cell_type": "code",
   "execution_count": null,
   "id": "d10ea867",
   "metadata": {},
   "outputs": [],
   "source": [
    "import random\n",
    "from turtle import Turtle\n",
    "\n",
    "# 위의 식을 함수로 나타내기\n",
    "turtle = Turtle() # 객체 선언 \n",
    "\n",
    "# 색상 list 담기 \n",
    "colors = [\"CornflowerBlue\", \"DarkOrchid\", \"IndianRed\", \"DeepSkyBlue\", \"LightSeaGreen\", \"wheat\", \"SlateGray\", \"SeaGreen\"]\n",
    "\n",
    "# 도형을 그리기 위한 기능 함수 \n",
    "def drew_shape(num_sides):\n",
    "    angle = 360 / num_sides     # 각 도형의 각도를 나누는 방정식 \n",
    "    for _ in range(num_sides):\n",
    "        turtle.forward(100)     # 앞으로 100 \n",
    "        turtle.right(angle)     # 나눈 각도 대로 오른쪽으로 전환 \n",
    "\n",
    "# 도형 그리기 \n",
    "for shape_side_n in range(3, 11):   # 삼각형에서 십각형 까지 그리기 위해 범위를 3에서 10까지 설정\n",
    "    turtle.color(random.choice(colors))    # 지정한 colors 리스트를 랜덤하게 뽑기 \n",
    "    drew_shape(shape_side_n)        # 도형 그리기 "
   ]
  },
  {
   "cell_type": "code",
   "execution_count": null,
   "id": "c94ac0e4",
   "metadata": {},
   "outputs": [],
   "source": []
  },
  {
   "cell_type": "code",
   "execution_count": null,
   "id": "b88aa81d",
   "metadata": {},
   "outputs": [],
   "source": []
  },
  {
   "cell_type": "code",
   "execution_count": null,
   "id": "4c5d3c75",
   "metadata": {},
   "outputs": [],
   "source": []
  }
 ],
 "metadata": {
  "kernelspec": {
   "display_name": "Python 3 (ipykernel)",
   "language": "python",
   "name": "python3"
  },
  "language_info": {
   "codemirror_mode": {
    "name": "ipython",
    "version": 3
   },
   "file_extension": ".py",
   "mimetype": "text/x-python",
   "name": "python",
   "nbconvert_exporter": "python",
   "pygments_lexer": "ipython3",
   "version": "3.8.12"
  }
 },
 "nbformat": 4,
 "nbformat_minor": 5
}
