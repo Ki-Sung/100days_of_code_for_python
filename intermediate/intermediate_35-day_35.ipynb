{
 "cells": [
  {
   "cell_type": "markdown",
   "id": "51066479",
   "metadata": {},
   "source": [
    "## API 고급 사용법 \n",
    "- API 제공자에게 인증하는 방법 study \n",
    "- 그리고 위 인증방법으로 SMS를 보내보기 \n",
    "- 환경변수가 무엇인지 알아보고, 안전하게 API 키를 저장하기 위해 어떻게 해야하는지 알아보기"
   ]
  },
  {
   "cell_type": "markdown",
   "id": "64cb19c4",
   "metadata": {},
   "source": [
    "### 1. API 인증이란? 우리가 스스로 인증을 해야하는 이유는?\n",
    "- 우리는 다양한 방법, 다양한 파라미터로 API를 사용하는 방법을 배웠다. 이제 한 걸음 더 나아가 인증을 요구하는 API 사용 방법에 대해 알아보고자 한다.\n",
    "- 모든 서비스 제공자들은 자신들의 서비스를 남용하는 사람들을 방지하기 위해 API Key라는 것을 사용한다. \n",
    "- 이 API Key는 개인 계정 번호와 비밀번호와 비슷하다.\n",
    "- API 제공자는 API Key를 이용하여 우리가 얼마나 API를 많이 사용하는지 추적하고, 엑세스를 승인하고, 한도를 초과하면 엑세스를 거부할 수 있다. "
   ]
  },
  {
   "cell_type": "code",
   "execution_count": null,
   "id": "f39ac962",
   "metadata": {},
   "outputs": [],
   "source": []
  }
 ],
 "metadata": {
  "kernelspec": {
   "display_name": "Python 3 (ipykernel)",
   "language": "python",
   "name": "python3"
  },
  "language_info": {
   "codemirror_mode": {
    "name": "ipython",
    "version": 3
   },
   "file_extension": ".py",
   "mimetype": "text/x-python",
   "name": "python",
   "nbconvert_exporter": "python",
   "pygments_lexer": "ipython3",
   "version": "3.8.12"
  }
 },
 "nbformat": 4,
 "nbformat_minor": 5
}
