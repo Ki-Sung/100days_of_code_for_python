{
 "cells": [
  {
   "cell_type": "markdown",
   "id": "27850c7f",
   "metadata": {},
   "source": [
    "## API 고급 사용법 \n",
    "- API 제공자에게 인증하는 방법 study \n",
    "- 그리고 위 인증방법으로 SMS를 보내보기 \n",
    "- 환경변수가 무엇인지 알아보고, 안전하게 API 키를 저장하기 위해 어떻게 해야하는지 알아보기"
   ]
  },
  {
   "cell_type": "markdown",
   "id": "84dad7ae",
   "metadata": {},
   "source": [
    "### 1. API 인증이란? 우리가 스스로 인증을 해야하는 이유는?\n",
    "- 우리는 다양한 방법, 다양한 파라미터로 API를 사용하는 방법을 배웠다. 이제 한 걸음 더 나아가 인증을 요구하는 API 사용 방법에 대해 알아보고자 한다.\n",
    "- 모든 서비스 제공자들은 자신들의 서비스를 남용하는 사람들을 방지하기 위해 API Key라는 것을 사용한다. \n",
    "- 이 API Key는 개인 계정 번호와 비밀번호와 비슷하다.\n",
    "- API 제공자는 API Key를 이용하여 우리가 얼마나 API를 많이 사용하는지 추적하고, 엑세스를 승인하고, 한도를 초과하면 엑세스를 거부할 수 있다. "
   ]
  },
  {
   "cell_type": "markdown",
   "id": "fc42f088",
   "metadata": {},
   "source": [
    "### 2. API 키로 인증하고 Open Weather Map에서 날씨 가져오기 \n",
    "- 우리가 새로운 API를 이용할 때 가장 중요한 것은 API 문서를 읽는 것이다. \n",
    "- 이번에  Open Weather Map에서 API를 이용해서 데이터들을 받아와보자.\n",
    "    -  [Open Weather Map](https://openweathermap.org/)\n",
    "    - [Open Weather Map API DOCS](https://openweathermap.org/api)"
   ]
  },
  {
   "cell_type": "markdown",
   "id": "8f0ca22a",
   "metadata": {},
   "source": [
    "#### Current Weather Data를 이용해서 현재 날씨 불러오기 \n",
    "- API Call(End Point): https://api.openweathermap.org/data/2.5/weather?q={city name}&appid={API key}\n",
    "- API Call(End Point for OpenCall API): https://api.openweathermap.org/data/3.0/onecall?lat={lat}&lon={lon}&exclude={part}&appid={API key}"
   ]
  },
  {
   "cell_type": "code",
   "execution_count": null,
   "id": "d7c3b78c",
   "metadata": {},
   "outputs": [],
   "source": [
    "# Current Weather Data API를 이용해서 날씨 데이터 불러오기 - open call API 이용 \n",
    "import requests\n",
    "\n",
    "# My API Key \n",
    "api_key = \"280b5e9be1ef9b2ec5795b6e467a8c0f\"\n",
    "# Endpoint URL \n",
    "OWM_Endpoint = f\"https://api.openweathermap.org/data/2.5/onecall\"\n",
    "\n",
    "# parameters \n",
    "weather_params = {\n",
    "    \"lat\":  37.541,    # 서울 위도값 \n",
    "    \"long\": 126.986,  # 서울 경도값 \n",
    "    \"appid\": api_key, # API Key\n",
    "    \n",
    "}\n",
    "\n",
    "response = requests.get(OWM_Endpoint, params=weather_params)      # 앤드포인트로 요청 받기\n",
    "response.raise_for_status()                                       # 응답 코드 - 200이 아니면 예외를 발생 시킴  \n",
    "\n",
    "data = response.json()                                            # 200을 받으면 JSON 형식으로 데이터 받기 \n",
    "print(data)"
   ]
  },
  {
   "cell_type": "code",
   "execution_count": null,
   "id": "0a3e485f",
   "metadata": {},
   "outputs": [],
   "source": []
  }
 ],
 "metadata": {
  "kernelspec": {
   "display_name": "Python 3 (ipykernel)",
   "language": "python",
   "name": "python3"
  },
  "language_info": {
   "codemirror_mode": {
    "name": "ipython",
    "version": 3
   },
   "file_extension": ".py",
   "mimetype": "text/x-python",
   "name": "python",
   "nbconvert_exporter": "python",
   "pygments_lexer": "ipython3",
   "version": "3.8.12"
  }
 },
 "nbformat": 4,
 "nbformat_minor": 5
}
