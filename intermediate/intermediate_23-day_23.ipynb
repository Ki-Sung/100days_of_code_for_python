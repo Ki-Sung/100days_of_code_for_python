{
 "cells": [
  {
   "cell_type": "markdown",
   "id": "f2cf8b03",
   "metadata": {},
   "source": [
    "## Turtle Crossing Game 만들기 - 캡스톤 프로젝트 "
   ]
  },
  {
   "cell_type": "markdown",
   "id": "f842c21e",
   "metadata": {},
   "source": [
    "### 기본 게임 정보 \n",
    "- 엄청나게 많은 차들이 다차선 고속도로를 지나가고 있다.\n",
    "- 거북이는 결승선까지 도달해야한다! "
   ]
  },
  {
   "cell_type": "markdown",
   "id": "fd26e7fa",
   "metadata": {},
   "source": [
    "### 게임 방법\n",
    "- 플레어이가 거북이를 조종한다. (거북이는 앞으로만 갈 수 있다.)\n",
    "- 무작위로 만들어지는 많은 차들은 화면에서 수평으로만 움직인다. \n",
    "- 만약 화면 반대편 즉 결승선에 도달하면 거북이는 다시 시작점으로 간다.\n",
    "- 결승선에 도달해서 다시 시작할 수록 차들의 속도가 점점 올라간다. (이것을 난이도로 표현)\n",
    "- 만약 거북이가 차에 부딪히면 게임은 종료된다."
   ]
  },
  {
   "cell_type": "markdown",
   "id": "b71c3bba",
   "metadata": {},
   "source": [
    "### 기본설정 \n",
    "- Turtle Screen은 600 X 600으로 설정 \n",
    "- Tracer(0)로 자동화면 갱신 끄기 \n",
    "- update()를 사용하여 0.1초 마다 화면을 갱신"
   ]
  },
  {
   "cell_type": "markdown",
   "id": "c1ee0694",
   "metadata": {},
   "source": [
    "### 시작코드 사용방법 "
   ]
  },
  {
   "cell_type": "code",
   "execution_count": null,
   "id": "8a0fe689",
   "metadata": {},
   "outputs": [],
   "source": [
    "# 08_turtle_cross_game.py - main 파일 \n",
    "\n",
    "import time\n",
    "from turtle import Screen\n",
    "from turtle_cross_game_options.player import Player\n",
    "from turtle_cross_game_options.car_manager import CarManager\n",
    "from turtle_cross_game_options.scoreboard import Scoreboard\n",
    "\n",
    "screen = Screen()\n",
    "screen.setup(width=600, height=600)\n",
    "screen.tracer(0)\n",
    "\n",
    "game_is_on = True\n",
    "while game_is_on:\n",
    "    time.sleep(0.1)\n",
    "    screen.update()"
   ]
  },
  {
   "cell_type": "code",
   "execution_count": null,
   "id": "b01457a6",
   "metadata": {},
   "outputs": [],
   "source": [
    "# turtle_cross_game_options/player.py \n",
    "\n",
    "# 거북이가 길을 건너기 위한 각종 설정들\n",
    "\n",
    "STARTING_POSITION = (0, -280)    # Turtle 위치값 상수\n",
    "MOVE_DISTANCE = 10               # Turtle이 얼마나 많이 움직여야하는지에 대한 설정값 상수\n",
    "FINISH_LINE_Y = 280              # 결승선 위치값 상수\n",
    "\n",
    "\n",
    "class Player:\n",
    "    pass"
   ]
  },
  {
   "cell_type": "code",
   "execution_count": null,
   "id": "40d1443f",
   "metadata": {},
   "outputs": [],
   "source": [
    "# turtle_cross_game_options/car_manager.py \n",
    "\n",
    "# 무작위로 차들을 생성하고 스크린에 움직이게 할 각종 설정들\n",
    "\n",
    "COLORS = [\"red\", \"orange\", \"yellow\", \"green\", \"blue\", \"purple\"]  # 차들의 색상값 상수\n",
    "STARTING_MOVE_DISTANCE = 5          # 차들사이의 거리값 상수 - 새로고침 할 떄마다 정의\n",
    "MOVE_INCREMENT = 10                 # 레벨이 올라갈시 얼마나 많은 거리를 움직여야하는지에 대한 거리값 상수\n",
    "\n",
    "\n",
    "class CarManager:\n",
    "    pass"
   ]
  },
  {
   "cell_type": "code",
   "execution_count": null,
   "id": "e920ecef",
   "metadata": {},
   "outputs": [],
   "source": [
    "# turtle_cross_game_options/scoreboard.py \n",
    "\n",
    "# 플레이하고 있는 레벨과 게임 종료까지 장면들을 기록하기 위한 각종 설정들\n",
    "\n",
    "FONT = (\"Courier\", 24, \"normal\")    # 폰트 설정에 대한 상수\n",
    "\n",
    "class Scoreboard:\n",
    "    pass"
   ]
  }
 ],
 "metadata": {
  "kernelspec": {
   "display_name": "Python 3 (ipykernel)",
   "language": "python",
   "name": "python3"
  },
  "language_info": {
   "codemirror_mode": {
    "name": "ipython",
    "version": 3
   },
   "file_extension": ".py",
   "mimetype": "text/x-python",
   "name": "python",
   "nbconvert_exporter": "python",
   "pygments_lexer": "ipython3",
   "version": "3.8.12"
  }
 },
 "nbformat": 4,
 "nbformat_minor": 5
}
