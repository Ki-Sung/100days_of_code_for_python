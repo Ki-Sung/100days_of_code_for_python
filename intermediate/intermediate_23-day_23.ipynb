{
 "cells": [
  {
   "cell_type": "markdown",
   "id": "f2cf8b03",
   "metadata": {},
   "source": [
    "## Turtle Crossing Game 만들기 - 캡스톤 프로젝트 "
   ]
  },
  {
   "cell_type": "markdown",
   "id": "f842c21e",
   "metadata": {},
   "source": [
    "### 기본 게임 정보 \n",
    "- 엄청나게 많은 차들이 다차선 고속도로를 지나가고 있다.\n",
    "- 거북이는 결승선까지 도달해야한다! "
   ]
  },
  {
   "cell_type": "markdown",
   "id": "fd26e7fa",
   "metadata": {},
   "source": [
    "### 게임 방법\n",
    "- 플레어이가 거북이를 조종한다. (거북이는 앞으로만 갈 수 있다.)\n",
    "- 무작위로 만들어지는 많은 차들은 화면에서 수평으로만 움직인다. \n",
    "- 만약 화면 반대편 즉 결승선에 도달하면 거북이는 다시 시작점으로 간다.\n",
    "- 결승선에 도달해서 다시 시작할 수록 차들의 속도가 점점 올라간다. (이것을 난이도로 표현)\n",
    "- 만약 거북이가 차에 부딪히면 게임은 종료된다."
   ]
  },
  {
   "cell_type": "markdown",
   "id": "b71c3bba",
   "metadata": {},
   "source": [
    "### 기본설정 \n",
    "- Turtle Screen은 600 X 600으로 설정 \n",
    "- Tracer(0)로 자동화면 갱신 끄기 \n",
    "- update()를 사용하여 0.1초 마다 화면을 갱신"
   ]
  },
  {
   "cell_type": "markdown",
   "id": "c1ee0694",
   "metadata": {},
   "source": [
    "### 시작코드 사용방법 "
   ]
  },
  {
   "cell_type": "code",
   "execution_count": null,
   "id": "8a0fe689",
   "metadata": {},
   "outputs": [],
   "source": [
    "# 08_turtle_cross_game.py - main 파일 \n",
    "\n",
    "import time\n",
    "from turtle import Screen\n",
    "from turtle_cross_game_options.player import Player\n",
    "from turtle_cross_game_options.car_manager import CarManager\n",
    "from turtle_cross_game_options.scoreboard import Scoreboard\n",
    "\n",
    "screen = Screen()\n",
    "screen.setup(width=600, height=600)\n",
    "screen.tracer(0)\n",
    "\n",
    "game_is_on = True\n",
    "while game_is_on:\n",
    "    time.sleep(0.1)\n",
    "    screen.update()"
   ]
  },
  {
   "cell_type": "code",
   "execution_count": null,
   "id": "b01457a6",
   "metadata": {},
   "outputs": [],
   "source": [
    "# turtle_cross_game_options/player.py \n",
    "\n",
    "# 거북이가 길을 건너기 위한 각종 설정들\n",
    "\n",
    "STARTING_POSITION = (0, -280)    # Turtle 위치값 상수\n",
    "MOVE_DISTANCE = 10               # Turtle이 얼마나 많이 움직여야하는지에 대한 설정값 상수\n",
    "FINISH_LINE_Y = 280              # 결승선 위치값 상수\n",
    "\n",
    "\n",
    "class Player:\n",
    "    pass"
   ]
  },
  {
   "cell_type": "code",
   "execution_count": null,
   "id": "40d1443f",
   "metadata": {},
   "outputs": [],
   "source": [
    "# turtle_cross_game_options/car_manager.py \n",
    "\n",
    "# 무작위로 차들을 생성하고 스크린에 움직이게 할 각종 설정들\n",
    "\n",
    "COLORS = [\"red\", \"orange\", \"yellow\", \"green\", \"blue\", \"purple\"]  # 차들의 색상값 상수\n",
    "STARTING_MOVE_DISTANCE = 5          # 차들사이의 거리값 상수 - 새로고침 할 떄마다 정의\n",
    "MOVE_INCREMENT = 10                 # 레벨이 올라갈시 얼마나 많은 거리를 움직여야하는지에 대한 거리값 상수\n",
    "\n",
    "\n",
    "class CarManager:\n",
    "    pass"
   ]
  },
  {
   "cell_type": "code",
   "execution_count": null,
   "id": "e920ecef",
   "metadata": {},
   "outputs": [],
   "source": [
    "# turtle_cross_game_options/scoreboard.py \n",
    "\n",
    "# 플레이하고 있는 레벨과 게임 종료까지 장면들을 기록하기 위한 각종 설정들\n",
    "\n",
    "FONT = (\"Courier\", 24, \"normal\")    # 폰트 설정에 대한 상수\n",
    "\n",
    "class Scoreboard:\n",
    "    pass"
   ]
  },
  {
   "cell_type": "markdown",
   "id": "ca3e4514",
   "metadata": {},
   "source": [
    "## 문제 나누기 \n",
    "1. Turtle 생성 및 키 설정 \n",
    "2. 자동차(장애물) 랜덤 생성 설정 \n",
    "3. 자동차(장애물)와 충돌 감지 설정 \n",
    "4. Turtle이 도착지점에 도달했을 때 이벤트 설정 \n",
    "5. 점수판 설정 "
   ]
  },
  {
   "cell_type": "markdown",
   "id": "92dde025",
   "metadata": {},
   "source": [
    "### 1. Turtel 키 설정 "
   ]
  },
  {
   "cell_type": "code",
   "execution_count": null,
   "id": "9385ef10",
   "metadata": {},
   "outputs": [],
   "source": [
    "# tutle_cross_game/player.py\n",
    "# Turtle 설정 및 키 기능 메소드 설정\n",
    "\n",
    "# 모둘 선언 \n",
    "from turtle import Turtle\n",
    "\n",
    "# 상수 설정 \n",
    "STARTING_POSITION = (0, -280)   # turtle 시작점 설정 \n",
    "MOVE_DISTANCE = 10              # turtle의 움직이는 거리수 \n",
    "FINISH_LINE_Y = 280             # 도작점 좌표수 \n",
    "\n",
    "# 클래스 선언\n",
    "class Player(Turtle):\n",
    "    # 초기 설정\n",
    "    def __init__(self):\n",
    "        super().__init__()\n",
    "        self.shape('turtle')            # Turtle 모양 설정 \n",
    "        self.color('green')             # Turtle 색성 설정 \n",
    "        self.penup()                    # Turtle 생성되는 선 생략 \n",
    "        self.goto(STARTING_POSITION)    # Turtle 시작점 설정 \n",
    "        self.setheading(90)             # Turtle 방향 설정 \n",
    "    \n",
    "    # 화살표 위 방향키를 눌렀을 때, 키 이벤트를 설정 하는 메소드\n",
    "    def go_up(self):\n",
    "        self.forward(MOVE_DISTANCE)     # 위로 가는 움직이는 거리수 설정"
   ]
  },
  {
   "cell_type": "code",
   "execution_count": null,
   "id": "cd5836b0",
   "metadata": {},
   "outputs": [],
   "source": [
    "# 08_turtle_cross_game.py\n",
    "# Player 클래스 객체 선언 및 키 설정 추가 \n",
    "\n",
    "import time                                                     # tutle 화면 갱신을 위해 time 모듈 뷸러오기 \n",
    "from turtle import Screen                                       # turtle 화면 설정을 위해 turtle 모듈의 Screen 클래스 불러오기 \n",
    "from turtle_cross_game_options.player import Player             # palyer 설정을 위해 생성한 Player 클래스 불러오기 \n",
    "from turtle_cross_game_options.car_manager import CarManager    # 자동차 컨트롤을 위해 생성한 CarManager 클래스 불러오기 \n",
    "from turtle_cross_game_options.scoreboard import Scoreboard     # 점수 및 레벨 설정을 위해 생성한 Scoreboard 클래스 불러오기\n",
    "\n",
    "# 객체 선언 \n",
    "screen = Screen()                      # Screen 객체 선언 \n",
    "\n",
    "# 화면 사이즈 설정 \n",
    "screen.setup(width=600, height=600)    # 600 x 600 사이즈로 화면 설정 \n",
    "screen.title('Turtle Cross Game')\n",
    "screen.tracer(0)                       # 화면 자동 갱신 기능 Off 설정 \n",
    "\n",
    "# Player 클래스 객체 선언\n",
    "player = Player()                     \n",
    "\n",
    "# 화면에 이벤트들 생성하기 위한 설정 \n",
    "screen.listen()\n",
    "# 화면 내 키 이벤트 설정\n",
    "screen.onkey(player.go_up, 'Up')      # 위 화살표 키를 누르면 앞으로 전진하는 기능을 하는 메소드 설정 \n",
    "\n",
    "# 게임 실행중 \n",
    "game_is_on = True   \n",
    "while game_is_on:     \n",
    "    time.sleep(0.1)                    # 화면 갱신 시간 설정 0.1초 \n",
    "    screen.update()                    # update를 이용하여 갱신 \n",
    "\n",
    "# 창 닫힘 설정 \n",
    "screen.exitonclick()"
   ]
  },
  {
   "cell_type": "markdown",
   "id": "2168b3a6",
   "metadata": {},
   "source": [
    "### 2 .자동차(장애물) 랜덤 생성 설정 "
   ]
  },
  {
   "cell_type": "code",
   "execution_count": null,
   "id": "9585c96c",
   "metadata": {},
   "outputs": [],
   "source": [
    "# tutle_cross_game/car_manager.py\n",
    "# 자동차(장애물) 제어를 위한 각종 설정 클래스 \n",
    "\n",
    "# 모둘 선언 \n",
    "import random\n",
    "from turtle import Turtle\n",
    "\n",
    "# 상수 설정 \n",
    "COLORS = [\"red\", \"orange\", \"yellow\", \"green\", \"blue\", \"purple\"]    # 자동차 색상 설정 \n",
    "STARTING_MOVE_DISTANCE = 5       # 자동차 움직임의 수 \n",
    "MOVE_INCREMENT = 10              # 자동참 움직임 증가 수\n",
    "\n",
    "\n",
    "class CarManager:\n",
    "    # 초기 설정 \n",
    "    def __init__(self):\n",
    "        self.all_cars = []      # 자동차(장애물) 정보를 담을 빈 리스트 생성 \n",
    "    \n",
    "    # 자동차(장애물)생성을 위한 메소드 \n",
    "    def create_car(self):\n",
    "        random_chance = random.randint(1, 6)                    # 1과 6사이 랜덤하게 숫자 생성 (6번에 1번확률을 갖게하는) -> 새로고침이 0.1초마다 될 때, 차 생성시 속도를 낮추기 위해 설정 \n",
    "        if random_chance == 1:                                  # 만약 random_chance가 1과 같을 경우, 자동차(장애물) 생성\n",
    "            new_car = Turtle('square')                          # 자동차(장애물)모양 설정 \n",
    "            new_car.shapesize(stretch_wid=1, stretch_len=2)     # 자동차(장애물) 사이즈 (40X20)\n",
    "            new_car.penup()                                     # 자동차(장애물) 선그리기 없애기 설정 \n",
    "            new_car.color(random.choice(COLORS))                # 자동차(장애물) 색상 설정 (지정된 상수로 랜덤하게 생성)\n",
    "            random_y = random.randint(-250, 250)                # 자동차(장애물)이 생성되는 범위 설정 \n",
    "            new_car.goto(300, random_y)                         # 자동차(장애물) 생성 \n",
    "            self.all_cars.append(new_car)                       # 생성된 자동차(장애물)정보 초기 설정 메소드 빈 리스트에 저장\n",
    "        \n",
    "    # 자동차(장애물)을 움직이게 하기 위한 메소드\n",
    "    def move_cars(self):\n",
    "        for car in self.all_cars:                               # 저장된 자동차(장애물) 정보들을 반복문으로 사용 \n",
    "            car.backward(STARTING_MOVE_DISTANCE)                # 해당 자동차(장애물)를 거리수 5만큼 움직이게 설정"
   ]
  },
  {
   "cell_type": "code",
   "execution_count": null,
   "id": "ed19d24e",
   "metadata": {},
   "outputs": [],
   "source": [
    "# 08_turtle_cross_game.py\n",
    "# CarManager 클래스 객체 선언 및 자동차(장애물) 설정 메소드 추가\n",
    "\n",
    "import time                                                     # tutle 화면 갱신을 위해 time 모듈 뷸러오기 \n",
    "from turtle import Screen                                       # turtle 화면 설정을 위해 turtle 모듈의 Screen 클래스 불러오기 \n",
    "from turtle_cross_game_options.player import Player             # palyer 설정을 위해 생성한 Player 클래스 불러오기 \n",
    "from turtle_cross_game_options.car_manager import CarManager    # 자동차 컨트롤을 위해 생성한 CarManager 클래스 불러오기 \n",
    "from turtle_cross_game_options.scoreboard import Scoreboard     # 점수 및 레벨 설정을 위해 생성한 Scoreboard 클래스 불러오기\n",
    "\n",
    "# 객체 선언 \n",
    "screen = Screen()                      # Screen 객체 선언 \n",
    "\n",
    "# 화면 사이즈 설정 \n",
    "screen.setup(width=600, height=600)    # 600 x 600 사이즈로 화면 설정 \n",
    "screen.title('Turtle Cross Game')\n",
    "screen.tracer(0)                       # 화면 자동 갱신 기능 Off 설정 \n",
    "\n",
    "# Player 클래스 객체 선언\n",
    "player = Player()   \n",
    "\n",
    "# CarManager 클래스 객체 선언 \n",
    "car_manager = CarManager()                  \n",
    "\n",
    "# 화면에 이벤트들 생성하기 위한 설정 \n",
    "screen.listen()\n",
    "# 화면 내 키 이벤트 설정\n",
    "screen.onkey(player.go_up, 'Up')      # 위 화살표 키를 누르면 앞으로 전진하는 기능을 하는 메소드 설정 \n",
    "\n",
    "# 게임 실행중 \n",
    "game_is_on = True   \n",
    "while game_is_on:     \n",
    "    time.sleep(0.1)                    # 화면 갱신 시간 설정 0.1초 \n",
    "    screen.update()                    # update를 이용하여 갱신 \n",
    "    \n",
    "    car_manager.create_car()           # 자동차 생성 메소드 불러오기 - 6번에 1번 꼴로 새 자동차가 만들어지도록 설정\n",
    "    car_manager.move_cars()            # 자동차 움직임 설정 메소들 불러오기\n",
    "\n",
    "# 창 닫힘 설정 \n",
    "screen.exitonclick()"
   ]
  },
  {
   "cell_type": "markdown",
   "id": "4d64f81d",
   "metadata": {},
   "source": [
    "### 3. 자동차(장애물)와 충돌 감지 설정"
   ]
  },
  {
   "cell_type": "code",
   "execution_count": null,
   "id": "f1a7adcd",
   "metadata": {},
   "outputs": [],
   "source": [
    "# 08_turtle_cross_game.py\n",
    "# 자동차(장애물) 충돌 감지 설정 추가\n",
    "\n",
    "import time                                                     # tutle 화면 갱신을 위해 time 모듈 뷸러오기 \n",
    "from turtle import Screen                                       # turtle 화면 설정을 위해 turtle 모듈의 Screen 클래스 불러오기 \n",
    "from turtle_cross_game_options.player import Player             # palyer 설정을 위해 생성한 Player 클래스 불러오기 \n",
    "from turtle_cross_game_options.car_manager import CarManager    # 자동차 컨트롤을 위해 생성한 CarManager 클래스 불러오기 \n",
    "from turtle_cross_game_options.scoreboard import Scoreboard     # 점수 및 레벨 설정을 위해 생성한 Scoreboard 클래스 불러오기\n",
    "\n",
    "# 객체 선언 \n",
    "screen = Screen()                      # Screen 객체 선언 \n",
    "\n",
    "# 화면 사이즈 설정 \n",
    "screen.setup(width=600, height=600)    # 600 x 600 사이즈로 화면 설정 \n",
    "screen.title('Turtle Cross Game')\n",
    "screen.tracer(0)                       # 화면 자동 갱신 기능 Off 설정 \n",
    "\n",
    "# Player 클래스 객체 선언\n",
    "player = Player()   \n",
    "\n",
    "# CarManager 클래스 객체 선언 \n",
    "car_manager = CarManager()                  \n",
    "\n",
    "# 화면에 이벤트들 생성하기 위한 설정 \n",
    "screen.listen()\n",
    "# 화면 내 키 이벤트 설정\n",
    "screen.onkey(player.go_up, 'Up')      # 위 화살표 키를 누르면 앞으로 전진하는 기능을 하는 메소드 설정 \n",
    "\n",
    "# 게임 실행중 \n",
    "game_is_on = True   \n",
    "while game_is_on:     \n",
    "    time.sleep(0.1)                    # 화면 갱신 시간 설정 0.1초 \n",
    "    screen.update()                    # update를 이용하여 갱신 \n",
    "    \n",
    "    car_manager.create_car()           # 자동차 생성 메소드 불러오기 - 6번에 1번 꼴로 새 자동차가 만들어지도록 설정\n",
    "    car_manager.move_cars()            # 자동차 움직임 설정 메소들 불러오기\n",
    "    \n",
    "    # 자동차(장애물) 충돌 감지 영역 \n",
    "    for car in car_manager.all_cars:           # 모은 자동차 정보로 반복문 생성 \n",
    "        if car.distance(player) < 20:          # 만약 자동차와 Turtle의 거리가 20 미만이면 (자동차(장애물)와 Turtle 객체까지의 거리가 20 이하인지 탐지)\n",
    "            game_is_on = False                 # 게임 종료 \n",
    "            \n",
    "# 창 닫힘 설정 \n",
    "screen.exitonclick()"
   ]
  },
  {
   "cell_type": "code",
   "execution_count": null,
   "id": "15fd3135",
   "metadata": {},
   "outputs": [],
   "source": []
  },
  {
   "cell_type": "code",
   "execution_count": null,
   "id": "9f57c29e",
   "metadata": {},
   "outputs": [],
   "source": []
  }
 ],
 "metadata": {
  "kernelspec": {
   "display_name": "Python 3 (ipykernel)",
   "language": "python",
   "name": "python3"
  },
  "language_info": {
   "codemirror_mode": {
    "name": "ipython",
    "version": 3
   },
   "file_extension": ".py",
   "mimetype": "text/x-python",
   "name": "python",
   "nbconvert_exporter": "python",
   "pygments_lexer": "ipython3",
   "version": "3.8.12"
  }
 },
 "nbformat": 4,
 "nbformat_minor": 5
}
