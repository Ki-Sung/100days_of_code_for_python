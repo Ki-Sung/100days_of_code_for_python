{
 "cells": [
  {
   "cell_type": "markdown",
   "id": "f22cc0d7",
   "metadata": {},
   "source": [
    "## Turtle Crossing Game 만들기 - 캡스톤 프로젝트 "
   ]
  },
  {
   "cell_type": "markdown",
   "id": "d226248a",
   "metadata": {},
   "source": [
    "### 기본 게임 정보 \n",
    "- 엄청나게 많은 차들이 다차선 고속도로를 지나가고 있다.\n",
    "- 거북이는 결승선까지 도달해야한다! "
   ]
  },
  {
   "cell_type": "markdown",
   "id": "c29e2466",
   "metadata": {},
   "source": [
    "### 게임 방법\n",
    "- 플레어이가 거북이를 조종한다. (거북이는 앞으로만 갈 수 있다.)\n",
    "- 무작위로 만들어지는 많은 차들은 화면에서 수평으로만 움직인다. \n",
    "- 만약 화면 반대편 즉 결승선에 도달하면 거북이는 다시 시작점으로 간다.\n",
    "- 결승선에 도달해서 다시 시작할 수록 차들의 속도가 점점 올라간다. (이것을 난이도로 표현)\n",
    "- 만약 거북이가 차에 부딪히면 게임은 종료된다."
   ]
  },
  {
   "cell_type": "markdown",
   "id": "26ef6230",
   "metadata": {},
   "source": [
    "### 기본설정 \n",
    "- Turtle Screen은 600 X 600으로 설정 \n",
    "- Tracer(0)로 자동화면 갱신 끄기 \n",
    "- update()를 사용하여 0.1초 마다 화면을 갱신"
   ]
  },
  {
   "cell_type": "code",
   "execution_count": null,
   "id": "b2a54c9d",
   "metadata": {},
   "outputs": [],
   "source": []
  }
 ],
 "metadata": {
  "kernelspec": {
   "display_name": "Python 3 (ipykernel)",
   "language": "python",
   "name": "python3"
  },
  "language_info": {
   "codemirror_mode": {
    "name": "ipython",
    "version": 3
   },
   "file_extension": ".py",
   "mimetype": "text/x-python",
   "name": "python",
   "nbconvert_exporter": "python",
   "pygments_lexer": "ipython3",
   "version": "3.8.12"
  }
 },
 "nbformat": 4,
 "nbformat_minor": 5
}
