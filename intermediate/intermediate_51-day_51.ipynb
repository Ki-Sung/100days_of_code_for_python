{
 "cells": [
  {
   "cell_type": "markdown",
   "id": "6961058d",
   "metadata": {},
   "source": [
    "## 컴플레인 X(구 트위터) 봇 만들기 \n",
    "- 컴캐스트를 통해 인터넷 속도를 테스트해서 자동으로 컴캐스트에게 X(구 트위터)로 불만을 제기하는 봇을 만들기 \n",
    "    - 예) 다운로드 150과 업로드 10으로 계약한 금액을 지불하고 있지만 실제로 속도가 다르다! \n",
    "- 트위터로 컴플레인을 하는 이유는 공개성의 이유 때문 "
   ]
  },
  {
   "cell_type": "markdown",
   "id": "8457d70e",
   "metadata": {},
   "source": [
    "### 1 단계 - X(구 트위터) 계정 만들기 \n",
    "- 인터넷 공급사에 트윗을 보내려면 트위터 계정이 있어야 한다. 기존에 사용하는 개인 계정 대신 계정을 새로 하나 만들어도 된다. \n",
    "1. 아래 링크로 가서 트위터 계정을 만들어 보자\n",
    "    - https://twitter.com/\n",
    "2. 추가로 인터넷 공급사(ISP)와 약정한 인터넷 속도를 알아야 한다. 인터넷 가입 신청서를 보고 확인하거나 예시 속도를 그대로 사용해도 된다. \n",
    "    - 예) 다운로드 속도 150Mbps, 업로드 속도 10Mbps \n",
    "3. 새 파이썬 프로젝트를 생성후, 파일에 다운로드/업로드 속도 값을 상수로 추가하기"
   ]
  },
  {
   "cell_type": "code",
   "execution_count": null,
   "id": "885fe299",
   "metadata": {},
   "outputs": [],
   "source": [
    "# 상수값 설정 \n",
    "PROMISED_DOWN = 150\n",
    "PROMISED_UP = 100\n",
    "X_EAIL = \"your email\"\n",
    "X_PASSWORD = \"your password\""
   ]
  },
  {
   "cell_type": "code",
   "execution_count": null,
   "id": "3b3334d2",
   "metadata": {},
   "outputs": [],
   "source": []
  }
 ],
 "metadata": {
  "kernelspec": {
   "display_name": "Python 3 (ipykernel)",
   "language": "python",
   "name": "python3"
  },
  "language_info": {
   "codemirror_mode": {
    "name": "ipython",
    "version": 3
   },
   "file_extension": ".py",
   "mimetype": "text/x-python",
   "name": "python",
   "nbconvert_exporter": "python",
   "pygments_lexer": "ipython3",
   "version": "3.8.12"
  }
 },
 "nbformat": 4,
 "nbformat_minor": 5
}
