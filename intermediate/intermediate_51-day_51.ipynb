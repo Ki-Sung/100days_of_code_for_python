{
 "cells": [
  {
   "cell_type": "markdown",
   "id": "b7e456b8",
   "metadata": {},
   "source": [
    "## 컴플레인 X(구 트위터) 봇 만들기 \n",
    "- 컴캐스트를 통해 인터넷 속도를 테스트해서 자동으로 컴캐스트에게 X(구 트위터)로 불만을 제기하는 봇을 만들기 \n",
    "    - 예) 다운로드 150과 업로드 10으로 계약한 금액을 지불하고 있지만 실제로 속도가 다르다! \n",
    "- 트위터로 컴플레인을 하는 이유는 공개성의 이유 때문 "
   ]
  },
  {
   "cell_type": "markdown",
   "id": "4fcd77cd",
   "metadata": {},
   "source": [
    "### 1 단계 - X(구 트위터) 계정 만들기 \n",
    "- 인터넷 공급사에 트윗을 보내려면 트위터 계정이 있어야 한다. 기존에 사용하는 개인 계정 대신 계정을 새로 하나 만들어도 된다. \n",
    "1. 아래 링크로 가서 트위터 계정을 만들어 보자\n",
    "    - https://twitter.com/\n",
    "2. 추가로 인터넷 공급사(ISP)와 약정한 인터넷 속도를 알아야 한다. 인터넷 가입 신청서를 보고 확인하거나 예시 속도를 그대로 사용해도 된다. \n",
    "    - 예) 다운로드 속도 150Mbps, 업로드 속도 10Mbps \n",
    "3. 새 파이썬 프로젝트를 생성후, 파일에 다운로드/업로드 속도 값을 상수로 추가하기"
   ]
  },
  {
   "cell_type": "code",
   "execution_count": null,
   "id": "1cdb0204",
   "metadata": {},
   "outputs": [],
   "source": [
    "# 상수값 설정 \n",
    "PROMISED_DOWN = 150\n",
    "PROMISED_UP = 100\n",
    "X_EAIL = \"your email\"\n",
    "X_PASSWORD = \"your password\""
   ]
  },
  {
   "cell_type": "markdown",
   "id": "a28e3f22",
   "metadata": {},
   "source": [
    "### 2 단계 - 클래스 생성하기 \n",
    "- 여러 단계를 거쳐 셀레니움 봇을 만들기 때문에 클래스를 사용하여 코드를 정리해보자\n",
    "    1. InternetSpeedTwitterBot 클래스를 생성하자.\n",
    "    2. init() 메소드 안에 셀레니움 driver와 2개의 프로퍼티 down, up을 만든다.\n",
    "    3. 아래 메소드 2개를 만들자 \n",
    "        - get_internet_speed()\n",
    "        - tweet_at_provider()\n",
    "    4. 클래스 외부에서 객체를 초기화하고두 메소드를 순서대로 호출하자. 인터넷 속도를 먼저 구하고, 인터넷 공급자에게 트윗을 보낸다."
   ]
  },
  {
   "cell_type": "code",
   "execution_count": 2,
   "id": "c0ce0108",
   "metadata": {},
   "outputs": [],
   "source": [
    "# 필요 모듈 볼러오기 \n",
    "import time\n",
    "from fake_useragent import UserAgent\n",
    "\n",
    "import undetected_chromedriver as uc \n",
    "from selenium.webdriver.common.by import By\n",
    "from selenium.webdriver.common.keys import Keys\n",
    "\n",
    "# 상수 설정 \n",
    "PROMISED_DOWN = 150\n",
    "PROMISED_UP = 100\n",
    "X_EAIL = \"your email\"\n",
    "X_PASSWORD = \"your password\"\n",
    "\n",
    "# 클래스 선언\n",
    "class InternetSpeedTwitterBot:\n",
    "    def __init__(self):\n",
    "        # fake user 사용 \n",
    "        us = UserAgent(verify_ssl=False)\n",
    "        userAgent = us.random\n",
    "        print(userAgent)\n",
    "\n",
    "        # 크롬드라이버 옵션 선언\n",
    "        options = uc.ChromeOptions()\n",
    "\n",
    "        # 크롬드라이버 headless 옵션 \n",
    "        # options.headless=True\n",
    "        # options.add_argument('--headless')   \n",
    "        options.add_argument(\"--no-sandbox\")  \n",
    "\n",
    "        options.add_argument(f'user-agent={userAgent}')  # fake user 설정 \n",
    "        options.add_argument(\"--load-images=yes\")        # 이미지 로드 설정 \n",
    "        options.add_argument(\"--disable-notifications\")  # 비활성화 - 경고 팝업 \n",
    "        options.add_argument(\"--disable-extensions\")     # 비활성화 - 어떤 것을 비활성화 하는지 잘 모르겠음 \n",
    "        options.add_experimental_option(\"prefs\", {\n",
    "                \"profile.default_content_setting_values.geolocation\": 1  # 내위치 확인 허용 제어, 값이 1이면 허용, 2이면 차단\n",
    "            })\n",
    "        options.add_argument(\"--disable-gpu\")            # gpu 가속 사용 제외\n",
    "        options.add_argument(\"--lang=ja-JP\")             # 가짜 플러그인 탑재 - 일본어 설정 \n",
    "        driver = uc.Chrome(options=options)              # 설정된 크롬드라이버 선언\n",
    "        \n",
    "        self.up = 0\n",
    "        self.down = 0\n",
    "    \n",
    "    def get_internet_speed(self):\n",
    "        pass\n",
    "    \n",
    "    def tweet_at_provider(self):\n",
    "        pass"
   ]
  },
  {
   "cell_type": "code",
   "execution_count": null,
   "id": "19e395f8",
   "metadata": {},
   "outputs": [],
   "source": [
    "# 클래스 사용 \n",
    "bot = InternetSpeedTwitterBot()\n",
    "bot.get_internet_speed()\n",
    "bot.tweet_at_provider()"
   ]
  }
 ],
 "metadata": {
  "kernelspec": {
   "display_name": "Python 3 (ipykernel)",
   "language": "python",
   "name": "python3"
  },
  "language_info": {
   "codemirror_mode": {
    "name": "ipython",
    "version": 3
   },
   "file_extension": ".py",
   "mimetype": "text/x-python",
   "name": "python",
   "nbconvert_exporter": "python",
   "pygments_lexer": "ipython3",
   "version": "3.8.12"
  }
 },
 "nbformat": 4,
 "nbformat_minor": 5
}
