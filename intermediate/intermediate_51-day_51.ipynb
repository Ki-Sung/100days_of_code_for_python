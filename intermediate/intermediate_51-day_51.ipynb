{
 "cells": [
  {
   "cell_type": "markdown",
   "id": "55f4f68c",
   "metadata": {},
   "source": [
    "## 컴플레인 X(구 트위터) 봇 만들기 \n",
    "- 컴캐스트를 통해 인터넷 속도를 테스트해서 자동으로 컴캐스트에게 X(구 트위터)로 불만을 제기하는 봇을 만들기 \n",
    "    - 예) 다운로드 150과 업로드 10으로 계약한 금액을 지불하고 있지만 실제로 속도가 다르다! \n",
    "- 트위터로 컴플레인을 하는 이유는 공개성의 이유 때문 "
   ]
  },
  {
   "cell_type": "markdown",
   "id": "a50e6701",
   "metadata": {},
   "source": [
    "### 1 단계 - X(구 트위터) 계정 만들기 \n",
    "- 인터넷 공급사에 트윗을 보내려면 트위터 계정이 있어야 한다. 기존에 사용하는 개인 계정 대신 계정을 새로 하나 만들어도 된다. \n",
    "1. 아래 링크로 가서 트위터 계정을 만들어 보자\n",
    "    - https://twitter.com/\n",
    "2. 추가로 인터넷 공급사(ISP)와 약정한 인터넷 속도를 알아야 한다. 인터넷 가입 신청서를 보고 확인하거나 예시 속도를 그대로 사용해도 된다. \n",
    "    - 예) 다운로드 속도 150Mbps, 업로드 속도 10Mbps \n",
    "3. 새 파이썬 프로젝트를 생성후, 파일에 다운로드/업로드 속도 값을 상수로 추가하기"
   ]
  },
  {
   "cell_type": "code",
   "execution_count": null,
   "id": "d8729242",
   "metadata": {},
   "outputs": [],
   "source": [
    "# 상수값 설정 \n",
    "PROMISED_DOWN = 150\n",
    "PROMISED_UP = 100\n",
    "X_EAIL = \"your email\"\n",
    "X_PASSWORD = \"your password\""
   ]
  },
  {
   "cell_type": "markdown",
   "id": "d3449fc2",
   "metadata": {},
   "source": [
    "### 2 단계 - 클래스 생성하기 \n",
    "- 여러 단계를 거쳐 셀레니움 봇을 만들기 때문에 클래스를 사용하여 코드를 정리해보자\n",
    "    1. InternetSpeedTwitterBot 클래스를 생성하자.\n",
    "    2. init() 메소드 안에 셀레니움 driver와 2개의 프로퍼티 down, up을 만든다.\n",
    "    3. 아래 메소드 2개를 만들자 \n",
    "        - get_internet_speed()\n",
    "        - tweet_at_provider()\n",
    "    4. 클래스 외부에서 객체를 초기화하고두 메소드를 순서대로 호출하자. 인터넷 속도를 먼저 구하고, 인터넷 공급자에게 트윗을 보낸다."
   ]
  },
  {
   "cell_type": "code",
   "execution_count": 2,
   "id": "c51a10ca",
   "metadata": {},
   "outputs": [],
   "source": [
    "# 필요 모듈 볼러오기 \n",
    "import time\n",
    "from fake_useragent import UserAgent\n",
    "\n",
    "import undetected_chromedriver as uc \n",
    "from selenium.webdriver.common.by import By\n",
    "from selenium.webdriver.common.keys import Keys\n",
    "\n",
    "# 상수 설정 \n",
    "PROMISED_DOWN = 150\n",
    "PROMISED_UP = 100\n",
    "X_EAIL = \"your email\"\n",
    "X_PASSWORD = \"your password\"\n",
    "\n",
    "# 클래스 선언\n",
    "class InternetSpeedTwitterBot:\n",
    "    def __init__(self):\n",
    "        # fake user 사용 \n",
    "        us = UserAgent(verify_ssl=False)\n",
    "        userAgent = us.random\n",
    "        print(userAgent)\n",
    "\n",
    "        # 크롬드라이버 옵션 선언\n",
    "        options = uc.ChromeOptions()\n",
    "\n",
    "        # 크롬드라이버 headless 옵션 \n",
    "        # options.headless=True\n",
    "        # options.add_argument('--headless')   \n",
    "        options.add_argument(\"--no-sandbox\")  \n",
    "\n",
    "        options.add_argument(f'user-agent={userAgent}')  # fake user 설정 \n",
    "        options.add_argument(\"--load-images=yes\")        # 이미지 로드 설정 \n",
    "        options.add_argument(\"--disable-notifications\")  # 비활성화 - 경고 팝업 \n",
    "        options.add_argument(\"--disable-extensions\")     # 비활성화 - 어떤 것을 비활성화 하는지 잘 모르겠음 \n",
    "        options.add_experimental_option(\"prefs\", {\n",
    "                \"profile.default_content_setting_values.geolocation\": 1  # 내위치 확인 허용 제어, 값이 1이면 허용, 2이면 차단\n",
    "            })\n",
    "        options.add_argument(\"--disable-gpu\")            # gpu 가속 사용 제외\n",
    "        options.add_argument(\"--lang=ja-JP\")             # 가짜 플러그인 탑재 - 일본어 설정 \n",
    "        driver = uc.Chrome(options=options)              # 설정된 크롬드라이버 선언\n",
    "        \n",
    "        self.up = 0\n",
    "        self.down = 0\n",
    "    \n",
    "    def get_internet_speed(self):\n",
    "        pass\n",
    "    \n",
    "    def tweet_at_provider(self):\n",
    "        pass"
   ]
  },
  {
   "cell_type": "code",
   "execution_count": null,
   "id": "a94e469d",
   "metadata": {},
   "outputs": [],
   "source": [
    "# 클래스 사용 \n",
    "bot = InternetSpeedTwitterBot()\n",
    "bot.get_internet_speed()\n",
    "bot.tweet_at_provider()"
   ]
  },
  {
   "cell_type": "markdown",
   "id": "1b71495c",
   "metadata": {},
   "source": [
    "### 3단계 - 인터넷 속도 구하기 \n",
    "1. 속도 테스트 웹사이트에서 현재 다운로드 속도와 업로드 속도를 직접 구하라.\n",
    "    - https://www.speedtest.net\n",
    "2. 셀레니움과 파이썬으로 콘솔에 출력된 결과와 동일한 결과를 얻어라 \n",
    "    - 힌트 1: 먼저 셀레니움으로 속도 테스트 웹사이트의 주소를 가져온 다음, 동일한 결과를 얻기 위해 봇이 거쳐야 하는 과정을 확인\n",
    "    - 힌트 2: 인터넷 속도에 따라 결과가 나올 때까지 60~180초의 대기 시간을 추가해야 할 수도 있다.\n",
    "    - 힌트 3: 요소를 지정하는 방법을 모르겠다면, XPath를 사용 "
   ]
  },
  {
   "cell_type": "code",
   "execution_count": 7,
   "id": "9f281b4b",
   "metadata": {},
   "outputs": [],
   "source": [
    "# 필요 모듈 볼러오기 \n",
    "import time\n",
    "from fake_useragent import UserAgent\n",
    "\n",
    "import undetected_chromedriver as uc \n",
    "from selenium.webdriver.common.by import By\n",
    "from selenium.webdriver.common.keys import Keys\n",
    "\n",
    "# 상수 설정 \n",
    "PROMISED_DOWN = 150\n",
    "PROMISED_UP = 100\n",
    "X_EAIL = \"your email\"\n",
    "X_PASSWORD = \"your password\"\n",
    "\n",
    "# 클래스 선언\n",
    "class InternetSpeedTwitterBot:\n",
    "    def __init__(self):\n",
    "        # fake user 사용 \n",
    "        us = UserAgent(verify_ssl=False)\n",
    "        userAgent = us.random\n",
    "        print(userAgent)\n",
    "\n",
    "        # 크롬드라이버 옵션 선언\n",
    "        options = uc.ChromeOptions()\n",
    "\n",
    "        # 크롬드라이버 headless 옵션 \n",
    "        # options.headless=True\n",
    "        # options.add_argument('--headless')   \n",
    "        options.add_argument(\"--no-sandbox\")  \n",
    "\n",
    "        options.add_argument(f'user-agent={userAgent}')  # fake user 설정 \n",
    "        options.add_argument(\"--load-images=yes\")        # 이미지 로드 설정 \n",
    "        options.add_argument(\"--disable-notifications\")  # 비활성화 - 경고 팝업 \n",
    "        options.add_argument(\"--disable-extensions\")     # 비활성화 - 어떤 것을 비활성화 하는지 잘 모르겠음 \n",
    "        options.add_experimental_option(\"prefs\", {\n",
    "                \"profile.default_content_setting_values.geolocation\": 1  # 내위치 확인 허용 제어, 값이 1이면 허용, 2이면 차단\n",
    "            })\n",
    "        options.add_argument(\"--disable-gpu\")            # gpu 가속 사용 제외\n",
    "        options.add_argument(\"--lang=ja-JP\")             # 가짜 플러그인 탑재 - 일본어 설정 \n",
    "        self.driver = uc.Chrome(options=options)              # 설정된 크롬드라이버 선언\n",
    "        \n",
    "        self.up = 0\n",
    "        self.down = 0\n",
    "    \n",
    "    # 인터넷 속도를 재는 메소드 \n",
    "    def get_internet_speed(self):\n",
    "        self.driver.get(\"https://www.speedtest.net\")    # 사이트 접속 \n",
    "        \n",
    "        time.sleep(3)                                   # 3초간 대기 \n",
    "        go_button = self.driver.find_element(By.CSS_SELECTOR, '.start-button a')  # go 요소 \n",
    "        go_button.click()                               # go 버튼 클릭 \n",
    "        \n",
    "        time.sleep(60)                                  # 1분간 대기 \n",
    "        self.up = self.driver.find_element(By.XPATH, '//*[@id=\"container\"]/div/div[3]/div/div/div/div[2]/div[3]/div[3]/div/div[3]/div/div/div[2]/div[1]/div[1]/div/div[2]/span')    # 업로드 속도 \n",
    "        print(self.up.text)\n",
    "        self.down = self.driver.find_element(By.XPATH, '//*[@id=\"container\"]/div/div[3]/div/div/div/div[2]/div[3]/div[3]/div/div[3]/div/div/div[2]/div[1]/div[2]/div/div[2]/span')  # 다운로드 속도\n",
    "        print(self.down.text)\n",
    "        \n",
    "        # 드라이브 종료\n",
    "        self.driver.quit()\n",
    "    \n",
    "    def tweet_at_provider(self):\n",
    "        pass"
   ]
  },
  {
   "cell_type": "code",
   "execution_count": 8,
   "id": "f9f1b7cb",
   "metadata": {},
   "outputs": [
    {
     "name": "stdout",
     "output_type": "stream",
     "text": [
      "Mozilla/5.0 (compatible; MSIE 7.0; Windows NT 6.0; WOW64; SLCC1; .NET CLR 2.0.50727; Media Center PC 5.0; c .NET CLR 3.0.04506; .NET CLR 3.5.30707; InfoPath.1; el-GR)\n",
      "59.14\n",
      "76.69\n"
     ]
    }
   ],
   "source": [
    "# 클래스 선언 및 사용 \n",
    "bot = InternetSpeedTwitterBot()\n",
    "bot.get_internet_speed()"
   ]
  },
  {
   "cell_type": "markdown",
   "id": "308d728e",
   "metadata": {},
   "source": [
    "### 4단계 - 트위터 봇을 만들어 인터넷 공급사에게 트윗하기 \n",
    "1. 트위터에서 로그인과 트윗을 직접 해보면서, 어떤 선택자/ID/클래스/XPath를 사용할지 생각해보자\n",
    "2. 파이썬과 셀레니움으로 트위터에 로그인하고, 실제 업로드/다운로드 속도와 약정 인터넷 속도를 트윗으로 작성한 후 전송하기 \n",
    "    - 주의: 망냑 인터넷 공급사에게 멘션(@)을 보내기 싫다면, 간단하게 트윗 작성 \n",
    "    - 주의: 트위터에 로그인을 반복적으로 하면, 로봇으로 의심받기 때문에 캡차가 뜨거나 이메일로 확인 코드가 올 수도 있다. 이 과정을 거친 다음 테스트를 계속하기"
   ]
  },
  {
   "cell_type": "code",
   "execution_count": 9,
   "id": "287b2e9b",
   "metadata": {},
   "outputs": [
    {
     "name": "stdout",
     "output_type": "stream",
     "text": [
      "Mozilla/4.0 (compatible; MSIE 6.0; Windows NT 5.1) Opera 7.54  [en]\n"
     ]
    }
   ],
   "source": [
    "# 필요 모듈 볼러오기 \n",
    "import time\n",
    "from fake_useragent import UserAgent\n",
    "\n",
    "import undetected_chromedriver as uc \n",
    "from selenium.webdriver.common.by import By\n",
    "from selenium.webdriver.common.keys import Keys\n",
    "\n",
    "# 상수 설정 \n",
    "PROMISED_DOWN = 150\n",
    "PROMISED_UP = 100\n",
    "X_EAIL = \"Your Email\"\n",
    "X_PASSWORD = \"Your Password\"\n",
    "\n",
    "us = UserAgent(verify_ssl=False)\n",
    "userAgent = us.random\n",
    "print(userAgent)\n",
    "\n",
    "# 크롬드라이버 옵션 선언\n",
    "options = uc.ChromeOptions()\n",
    "\n",
    "# 크롬드라이버 headless 옵션 \n",
    "# options.headless=True\n",
    "# options.add_argument('--headless')   \n",
    "options.add_argument(\"--no-sandbox\")  \n",
    "\n",
    "options.add_argument(f'user-agent={userAgent}')  # fake user 설정 \n",
    "options.add_argument(\"--load-images=yes\")        # 이미지 로드 설정 \n",
    "options.add_argument(\"--disable-notifications\")  # 비활성화 - 경고 팝업 \n",
    "options.add_argument(\"--disable-extensions\")     # 비활성화 - 어떤 것을 비활성화 하는지 잘 모르겠음 \n",
    "options.add_experimental_option(\"prefs\", {\n",
    "        \"profile.default_content_setting_values.geolocation\": 1  # 내위치 확인 허용 제어, 값이 1이면 허용, 2이면 차단\n",
    "    })\n",
    "options.add_argument(\"--disable-gpu\")            # gpu 가속 사용 제외\n",
    "options.add_argument(\"--lang=ja-JP\")             # 가짜 플러그인 탑재 - 일본어 설정 \n",
    "driver = uc.Chrome(options=options)              # 설정된 크롬드라이버 선언\n",
    "\n",
    "driver.get(\"https://twitter.com\")              # 트위터 접속 "
   ]
  },
  {
   "cell_type": "code",
   "execution_count": 10,
   "id": "c2da40c2",
   "metadata": {},
   "outputs": [],
   "source": [
    "# 로그인 버튼 클릭 \n",
    "login_button = driver.find_element(By.XPATH, '//*[@id=\"react-root\"]/div/div/div[2]/main/div/div/div[1]/div/div/div[3]/div[5]/a')\n",
    "login_button.click()"
   ]
  },
  {
   "cell_type": "code",
   "execution_count": 13,
   "id": "61bb9f95",
   "metadata": {},
   "outputs": [],
   "source": [
    "# 아이디 입력 \n",
    "input_email = driver.find_element(By.XPATH, '//*[@id=\"react-root\"]/div/div/div/main/div/div/div/div[2]/div[2]/div/div[5]/label/div/div[2]/div/input')\n",
    "input_email.send_keys(X_EAIL)"
   ]
  },
  {
   "cell_type": "code",
   "execution_count": 14,
   "id": "f3b79e3a",
   "metadata": {},
   "outputs": [],
   "source": [
    "# next 버튼 클릭 \n",
    "next_button = driver.find_element(By.XPATH, '//*[@id=\"react-root\"]/div/div/div/main/div/div/div/div[2]/div[2]/div/div[6]/div')\n",
    "next_button.click()"
   ]
  },
  {
   "cell_type": "code",
   "execution_count": 15,
   "id": "1099088a",
   "metadata": {},
   "outputs": [],
   "source": [
    "# 비밀번호 입력 \n",
    "input_pw = driver.find_element(By.XPATH, '//*[@id=\"react-root\"]/div/div/div/main/div/div/div/div[2]/div[2]/div[1]/div/div/div/div[3]/div/label/div/div[2]/div[1]/input')\n",
    "input_pw.send_keys(X_PASSWORD)"
   ]
  },
  {
   "cell_type": "code",
   "execution_count": 16,
   "id": "bd5e5f56",
   "metadata": {},
   "outputs": [],
   "source": [
    "# 입력 후 엔터 누르기 \n",
    "input_pw.send_keys(Keys.ENTER)"
   ]
  },
  {
   "cell_type": "code",
   "execution_count": 20,
   "id": "7db9109b",
   "metadata": {},
   "outputs": [],
   "source": [
    "# 트위터에 내용 입력 \n",
    "x_compose = driver.find_element(By.XPATH, '//*[@id=\"react-root\"]/div/div/div[2]/main/div/div/div/div/div/div[3]/div/div[2]/div[1]/div/div/div/div[2]/div[1]/div/div/div/div/div/div[2]/div/div/div/div/label/div[1]/div/div/div/div/div/div[2]/div/div/div/div')\n",
    "tweet = f\"Hey Internet Provider, why is my internet speed down/up when I pay for {PROMISED_DOWN}down/{PROMISED_UP}up?\"\n",
    "x_compose.send_keys(tweet)"
   ]
  },
  {
   "cell_type": "code",
   "execution_count": 21,
   "id": "5962b52d",
   "metadata": {},
   "outputs": [],
   "source": [
    "# 게시하기 버튼 클릭 \n",
    "tweet_button = driver.find_element(By.XPATH, '//*[@id=\"react-root\"]/div/div/div[2]/main/div/div/div/div/div/div[3]/div/div[2]/div[1]/div/div/div/div[2]/div[2]/div[2]/div/div/div[2]/div')\n",
    "tweet_button.click()"
   ]
  },
  {
   "cell_type": "code",
   "execution_count": 22,
   "id": "353e3fc4",
   "metadata": {},
   "outputs": [],
   "source": [
    "driver.quit()"
   ]
  },
  {
   "cell_type": "code",
   "execution_count": null,
   "id": "5c48d066",
   "metadata": {},
   "outputs": [],
   "source": [
    "# 전체 코드\n",
    "# 필요 모듈 볼러오기 \n",
    "import time\n",
    "from fake_useragent import UserAgent\n",
    "\n",
    "import undetected_chromedriver as uc \n",
    "from selenium.webdriver.common.by import By\n",
    "from selenium.webdriver.common.keys import Keys\n",
    "\n",
    "# 상수 설정 \n",
    "PROMISED_DOWN = 150\n",
    "PROMISED_UP = 100\n",
    "X_EAIL = \"Your Email\"\n",
    "X_PASSWORD = \"Your Password\"\n",
    "\n",
    "# 클래스 선언\n",
    "class InternetSpeedTwitterBot:\n",
    "    def __init__(self):\n",
    "        # fake user 사용 \n",
    "        us = UserAgent(verify_ssl=False)\n",
    "        userAgent = us.random\n",
    "        print(userAgent)\n",
    "\n",
    "        # 크롬드라이버 옵션 선언\n",
    "        options = uc.ChromeOptions()\n",
    "\n",
    "        # 크롬드라이버 headless 옵션 \n",
    "        options.headless=True\n",
    "        options.add_argument('--headless')   \n",
    "        options.add_argument(\"--no-sandbox\")  \n",
    "\n",
    "        options.add_argument(f'user-agent={userAgent}')  # fake user 설정 \n",
    "        options.add_argument(\"--load-images=yes\")        # 이미지 로드 설정 \n",
    "        options.add_argument(\"--disable-notifications\")  # 비활성화 - 경고 팝업 \n",
    "        options.add_argument(\"--disable-extensions\")     # 비활성화 - 어떤 것을 비활성화 하는지 잘 모르겠음 \n",
    "        options.add_experimental_option(\"prefs\", {\n",
    "                \"profile.default_content_setting_values.geolocation\": 1  # 내위치 확인 허용 제어, 값이 1이면 허용, 2이면 차단\n",
    "            })\n",
    "        options.add_argument(\"--disable-gpu\")            # gpu 가속 사용 제외\n",
    "        options.add_argument(\"--lang=ja-JP\")             # 가짜 플러그인 탑재 - 일본어 설정 \n",
    "        self.driver = uc.Chrome(options=options)              # 설정된 크롬드라이버 선언\n",
    "        \n",
    "        self.up = 0\n",
    "        self.down = 0\n",
    "    \n",
    "    # 인터넷 속도를 재는 메서드 \n",
    "    def get_internet_speed(self):\n",
    "        self.driver.get(\"https://www.speedtest.net\")    # 사이트 접속 \n",
    "        \n",
    "        time.sleep(3)                                   # 3초간 대기 \n",
    "        go_button = self.driver.find_element(By.CSS_SELECTOR, '.start-button a')  # go 요소 \n",
    "        go_button.click()                               # go 버튼 클릭 \n",
    "        \n",
    "        time.sleep(60)                                  # 1분간 대기 \n",
    "        self.up = self.driver.find_element(By.XPATH, '//*[@id=\"container\"]/div/div[3]/div/div/div/div[2]/div[3]/div[3]/div/div[3]/div/div/div[2]/div[1]/div[1]/div/div[2]/span').text    # 업로드 속도 \n",
    "        self.down = self.driver.find_element(By.XPATH, '//*[@id=\"container\"]/div/div[3]/div/div/div/div[2]/div[3]/div[3]/div/div[3]/div/div/div[2]/div[1]/div[2]/div/div[2]/span').text  # 다운로드 속도\n",
    "\n",
    "        # 드라이브 종료\n",
    "        self.driver.quit()\n",
    "    \n",
    "    # 트위터 제어 메서드\n",
    "    def tweet_at_provider(self):\n",
    "        self.driver.get(\"https://twitter.com\")        # 트위터 접속 \n",
    "        \n",
    "        time.sleep(2)                                 # 2초간 대기 \n",
    "        \n",
    "        # 로그인 버튼 클릭 \n",
    "        login_button = self.driver.find_element(By.XPATH, '//*[@id=\"react-root\"]/div/div/div[2]/main/div/div/div[1]/div/div/div[3]/div[5]/a')\n",
    "        login_button.click()\n",
    "        \n",
    "        # 아이디 입력 \n",
    "        input_email = self.driver.find_element(By.XPATH, '//*[@id=\"react-root\"]/div/div/div/main/div/div/div/div[2]/div[2]/div/div[5]/label/div/div[2]/div/input')\n",
    "        input_email.send_keys(X_EAIL)\n",
    "        \n",
    "        # next 버튼 클릭 \n",
    "        next_button = self.driver.find_element(By.XPATH, '//*[@id=\"react-root\"]/div/div/div/main/div/div/div/div[2]/div[2]/div/div[6]/div')\n",
    "        next_button.click()\n",
    "        \n",
    "        # 비밀번호 입력 \n",
    "        input_pw = self.driver.find_element(By.XPATH, '//*[@id=\"react-root\"]/div/div/div/main/div/div/div/div[2]/div[2]/div[1]/div/div/div/div[3]/div/label/div/div[2]/div[1]/input')\n",
    "        input_pw.send_keys(X_PASSWORD)\n",
    "        # 입력 후 엔터 누르기 \n",
    "        input_pw.send_keys(Keys.ENTER)\n",
    "        \n",
    "        time.sleep(5)                                # 5초간 대기\n",
    "        \n",
    "        # 트위터에 내용 입력 \n",
    "        x_compose = self.driver.find_element(By.XPATH, '//*[@id=\"react-root\"]/div/div/div[2]/main/div/div/div/div/div/div[3]/div/div[2]/div[1]/div/div/div/div[2]/div[1]/div/div/div/div/div/div[2]/div/div/div/div/label/div[1]/div/div/div/div/div/div[2]/div/div/div/div')\n",
    "        tweet = f\"Hey Internet Provider, why is my internet speed {self.down}down/{self.up}up when I pay for {PROMISED_DOWN}down/{PROMISED_UP}up?\"\n",
    "        x_compose.send_keys(tweet)\n",
    "        \n",
    "        time.sleep(3)                                # 3초간 대기\n",
    "        \n",
    "        # 게시하기 버튼 클릭 \n",
    "        tweet_button = self.driver.find_element(By.XPATH, '//*[@id=\"react-root\"]/div/div/div[2]/main/div/div/div/div/div/div[3]/div/div[2]/div[1]/div/div/div/div[2]/div[2]/div[2]/div/div/div[2]/div')\n",
    "        tweet_button.click()\n",
    "        \n",
    "        time.sleep(2)                                # 2초간 대기\n",
    "        \n",
    "        # 게시 완료 후 드라이버 종료 \n",
    "        self.driver.quit()"
   ]
  }
 ],
 "metadata": {
  "kernelspec": {
   "display_name": "Python 3 (ipykernel)",
   "language": "python",
   "name": "python3"
  },
  "language_info": {
   "codemirror_mode": {
    "name": "ipython",
    "version": 3
   },
   "file_extension": ".py",
   "mimetype": "text/x-python",
   "name": "python",
   "nbconvert_exporter": "python",
   "pygments_lexer": "ipython3",
   "version": "3.8.12"
  }
 },
 "nbformat": 4,
 "nbformat_minor": 5
}
