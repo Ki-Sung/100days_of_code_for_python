{
 "cells": [
  {
   "cell_type": "markdown",
   "id": "fefda98f",
   "metadata": {},
   "source": [
    "## 파이썬으로 하는 백앤드 웹 개발 - 명령어 창, 파이썬 데코레이터와 웹 개발을 위한 플라스크 \n",
    "- 사용자를 위한 부분 - Frone-end\n",
    "- 비지니스 로직, 각종 연산 부분 - Back-end\n",
    "- Full Stack - Front-end + Back-end \n",
    "- Back-end에 필요한 언어 - python, Java, Java Script\n",
    "- Back-end에 필요한 패키지 \n",
    "    - python - Flask, Django\n",
    "    - Java Script - Node JS\n",
    "- 이번 시간에는 Flask를 다룰 예정"
   ]
  },
  {
   "cell_type": "markdown",
   "id": "7d3a8729",
   "metadata": {},
   "source": [
    "### 백앤드는 무엇인가? \n",
    "- 백앤드에는 알아야할 요소 세 가지가 있음\n",
    "    - 클라이언트 - 브라우저를 이용하는 사용자 \n",
    "    - 서버 - 고성능 컴퓨터, 인터넷이 연결된채 24간 구동\n",
    "    - 데이터베이스 - 모든 정보를 담은 스프레스시트\n",
    "- 백앤드까지 전체 프로세스 \n",
    "    - 먼저 클라이언트 측에서 주소창에 URL을 입력한다 \n",
    "    - 클라이언트 측에서 입력한 URL을 바탕으로 서버로 요청이 들어온다\n",
    "    - 요청에 응답을 받으면 서버내에 있는 HTML, CSS, JS의 파일을 클라이언트로 내보낸다.\n",
    "    - 전송 받은 파일은 브라우저가 실제 웹 페이지로 렌더링 한다.\n",
    "    - 사용자가 요청할 수 있는 데이터가 많거나 데이터 종류가 다양한 사이트에는 보통 데이터베이스가 있다. 예를 들면 로그인 정보, 티켓 정보 등 "
   ]
  },
  {
   "cell_type": "markdown",
   "id": "7174537d",
   "metadata": {},
   "source": [
    "### 플라스크로 웹 서버 만들기 \n",
    "- 플라스크는 아주 유명한 웹 개발 프레임워크이다.\n",
    "    - 여기서 프레임워크는 라이브러리와 비슷하지만 가장 큰 차이점을 가지고 있다. 라이브러리는 우리가 특정 작업시에 호출해야하는 반면, 프레임 워크는 해당 프레임워크의 규칙에 맞게 어키텍쳐를 사용해야 하고, 특정 기능을 실행할 때 프레임워크가 우리의 코드를 호출한다는 점이 다르다. \n",
    "- [플라스크 Document](https://flask.palletsprojects.com/en/1.1.x/quickstart/)"
   ]
  },
  {
   "cell_type": "code",
   "execution_count": null,
   "id": "4c9a6bb1",
   "metadata": {},
   "outputs": [],
   "source": [
    "# 플라스크 설치\n",
    "#!pip install Flask"
   ]
  },
  {
   "cell_type": "code",
   "execution_count": null,
   "id": "37537e4b",
   "metadata": {},
   "outputs": [],
   "source": [
    "# 플라스크로 서버 구축 \n",
    "\n",
    "# 파일명: hello.py\n",
    "from flask import Flask\n",
    "app = Flask(__name__)\n",
    "\n",
    "@app.route('/')\n",
    "def hello_world():\n",
    "    return 'Hello, World!'"
   ]
  },
  {
   "cell_type": "markdown",
   "id": "36cc5427",
   "metadata": {},
   "source": [
    "- 실행시 터미널에 아래와 같이 코드를 작성해준다.\n",
    "```\n",
    "$ export FLASK_APP=hello.py\n",
    "$ flask run\n",
    "```\n",
    "- 그럼 실행과 함께 구동되고 있는 URL을 제공한다. 해당 URL로 접속하면 \"hello word\"를 볼 수 있다.\n",
    "    - Running on http://127.0.0.1:5000/\n",
    "- 윈도우의 경우 아래와 같이 입력해준다. \n",
    "```\n",
    "C:\\path\\to\\app>set FLASK_APP=hello.py \n",
    "```\n",
    "- 만약 서버를 멈추고 싶다면 \"ctrl + c\""
   ]
  },
  {
   "cell_type": "code",
   "execution_count": null,
   "id": "3204b361",
   "metadata": {},
   "outputs": [],
   "source": []
  }
 ],
 "metadata": {
  "kernelspec": {
   "display_name": "Python 3 (ipykernel)",
   "language": "python",
   "name": "python3"
  },
  "language_info": {
   "codemirror_mode": {
    "name": "ipython",
    "version": 3
   },
   "file_extension": ".py",
   "mimetype": "text/x-python",
   "name": "python",
   "nbconvert_exporter": "python",
   "pygments_lexer": "ipython3",
   "version": "3.8.12"
  }
 },
 "nbformat": 4,
 "nbformat_minor": 5
}
