{
 "cells": [
  {
   "cell_type": "markdown",
   "id": "a38de90a",
   "metadata": {},
   "source": [
    "## 파이썬으로 하는 백앤드 웹 개발 - 명령어 창, 파이썬 데코레이터와 웹 개발을 위한 플라스크 \n",
    "- 사용자를 위한 부분 - Frone-end\n",
    "- 비지니스 로직, 각종 연산 부분 - Back-end\n",
    "- Full Stack - Front-end + Back-end \n",
    "- Back-end에 필요한 언어 - python, Java, Java Script\n",
    "- Back-end에 필요한 패키지 \n",
    "    - python - Flask, Django\n",
    "    - Java Script - Node JS\n",
    "- 이번 시간에는 Flask를 다룰 예정"
   ]
  },
  {
   "cell_type": "markdown",
   "id": "81b47406",
   "metadata": {},
   "source": [
    "### 백앤드는 무엇인가? \n",
    "- 백앤드에는 알아야할 요소 세 가지가 있음\n",
    "    - 클라이언트 - 브라우저를 이용하는 사용자 \n",
    "    - 서버 - 고성능 컴퓨터, 인터넷이 연결된채 24간 구동\n",
    "    - 데이터베이스 - 모든 정보를 담은 스프레스시트\n",
    "- 백앤드까지 전체 프로세스 \n",
    "    - 먼저 클라이언트 측에서 주소창에 URL을 입력한다 \n",
    "    - 클라이언트 측에서 입력한 URL을 바탕으로 서버로 요청이 들어온다\n",
    "    - 요청에 응답을 받으면 서버내에 있는 HTML, CSS, JS의 파일을 클라이언트로 내보낸다.\n",
    "    - 전송 받은 파일은 브라우저가 실제 웹 페이지로 렌더링 한다.\n",
    "    - 사용자가 요청할 수 있는 데이터가 많거나 데이터 종류가 다양한 사이트에는 보통 데이터베이스가 있다. 예를 들면 로그인 정보, 티켓 정보 등 "
   ]
  },
  {
   "cell_type": "markdown",
   "id": "b61d8ea6",
   "metadata": {},
   "source": [
    "### 플라스크로 웹 서버 만들기 \n",
    "- 플라스크는 아주 유명한 웹 개발 프레임워크이다.\n",
    "    - 여기서 프레임워크는 라이브러리와 비슷하지만 가장 큰 차이점을 가지고 있다. 라이브러리는 우리가 특정 작업시에 호출해야하는 반면, 프레임 워크는 해당 프레임워크의 규칙에 맞게 어키텍쳐를 사용해야 하고, 특정 기능을 실행할 때 프레임워크가 우리의 코드를 호출한다는 점이 다르다. \n",
    "- [플라스크 Document](https://flask.palletsprojects.com/en/1.1.x/quickstart/)"
   ]
  },
  {
   "cell_type": "code",
   "execution_count": null,
   "id": "737b69ca",
   "metadata": {},
   "outputs": [],
   "source": [
    "# 플라스크 설치\n",
    "#!pip install Flask"
   ]
  },
  {
   "cell_type": "code",
   "execution_count": null,
   "id": "227afe6f",
   "metadata": {},
   "outputs": [],
   "source": [
    "# 플라스크로 서버 구축 \n",
    "\n",
    "# 파일명: hello.py\n",
    "from flask import Flask\n",
    "app = Flask(__name__)\n",
    "\n",
    "@app.route('/')\n",
    "def hello_world():\n",
    "    return 'Hello, World!'"
   ]
  },
  {
   "cell_type": "markdown",
   "id": "3e4e8218",
   "metadata": {},
   "source": [
    "- 실행시 터미널에 아래와 같이 코드를 작성해준다.\n",
    "```\n",
    "$ export FLASK_APP=hello.py\n",
    "$ flask run\n",
    "```\n",
    "- 그럼 실행과 함께 구동되고 있는 URL을 제공한다. 해당 URL로 접속하면 \"hello word\"를 볼 수 있다.\n",
    "    - Running on http://127.0.0.1:5000/\n",
    "- 윈도우의 경우 아래와 같이 입력해준다. \n",
    "```\n",
    "C:\\path\\to\\app>set FLASK_APP=hello.py \n",
    "```\n",
    "- 만약 서버를 멈추고 싶다면 \"ctrl + c\""
   ]
  },
  {
   "cell_type": "markdown",
   "id": "db4838af",
   "metadata": {},
   "source": [
    "### 윈도우와 맥에서 명령어 사용하기\n",
    "- 명령어 창에 입력하는 명렁어는 한 줄씩 입력해 컴퓨터를 제어할 수 있는 역할을 함\n",
    "- 명령어 창은 셸이라고도 부른다. \n",
    "    - 하드웨어와 상호작용하는 프로그램 커널(kernel)을 사용자 인터페이스인 shell을 이용하여 소통한다. \n",
    "    - shell에는 두 가지 종류가 있는데 GUI와 CLII가 있다.\n",
    "- 명령어를 이용하는 이유는 명령어를 이용하여 강력한 제어권을 사용할 수 있기 때문이다.\n",
    "- Mac OS의 경우 명령어 창은 Terminal 혹은 iTerm이 있고, Window의 경우 Command Prompt를 이용함\n",
    "- 명령어에 주요적으로 사용하는 명렁어 \n",
    "    ```\n",
    "    pwd(print working directory) - 현재 위치 조회 \n",
    "    ls(list) - 현재 작업중인 디렉토리에 있는 파일과 폴더를 전부 조회 \n",
    "    cd(change directory) - 원하는 작업 폴더로 이동 (cd folder name)\n",
    "    mkdir(make directory) - 디렉토리 생성 (mkdir folder name)\n",
    "    cd .. - 이전 디렉토리로 이동\n",
    "    touch - 파일생성 (touch filename.Extension)\n",
    "    rm - 파일삭제 (rm filename.Extension)\n",
    "    rm -rf - 디렉토리 삭제 (rm -rf folder name)\n",
    "    ```"
   ]
  },
  {
   "cell_type": "markdown",
   "id": "0b31408d",
   "metadata": {},
   "source": [
    "### 파이썬에 내장된 특수 속성 - `__name__과 __main__`\n",
    "- `__name__`은 파이썬에 내장된 특수 속성 중 하나이다. 언제라도 `__name__`에 접근하면 현재 사용중인 클래스나 함수 메소드, 디스크립트의 이름을 알 수 있다. \n",
    "- `__main__`은 코드가 특정 모듈에 실행 중이다 라는 뜻이다. 다만 스크립트나 대화형 모드로 실행 중이지 외부에서 임포트한 모듈에서 실행 중인 것은 아니다. \n",
    "- 주로 ```if __name__ == '__main__':``` 해당 구문을 사용하는데, 만약 참일 경우 현재 파일 내에서 코드가 실행중이다 라는 뜻이다. 들여쓰기 부분에 ```app.run()``` 사용하는데 이는 flask run과 같은 기능을 한다. \n",
    "- ```app.run()```을 사용한다면 기존 실행 했던대로 ```python3 hello.py```라고 명령어로 입력하면 구동이 된다."
   ]
  },
  {
   "cell_type": "code",
   "execution_count": null,
   "id": "dd9b7110",
   "metadata": {},
   "outputs": [],
   "source": [
    "# 플라스크로 서버 구축\n",
    "from flask import Flask\n",
    "app = Flask(__name__)\n",
    "\n",
    "@app.route('/')\n",
    "def hello_world():\n",
    "    return 'Hello, World!'\n",
    "\n",
    "if __name__ == '__main__':\n",
    "    app.run()"
   ]
  },
  {
   "cell_type": "markdown",
   "id": "642a0298",
   "metadata": {},
   "source": [
    "### 파이썬의 일급 객체, 함수: 인자로 전달하기 및 중첩 시키기 \n",
    "- ```@app.route('/')``` 기능은 사용자가 \"/\" 홈 경로로 접속하면 홈페이지를 보겠다라는 의미\n",
    "- 정확히 ```@app.route('/')``` 구문의 의미는 무엇일까? 바로 데코레이터 이다. \n",
    "- 파이썬의 데코레이터는 우리가 지정한 클래스나 모듈의 각종 함수가 들어있는데, 각 함수에 기능을 따로 추가하고 싶을 때 사용한다.\n",
    "- 즉 데코레이터란 이미 있는 함수에 다른 기능을 더하는 함수라고 보면 된다. "
   ]
  },
  {
   "cell_type": "code",
   "execution_count": 1,
   "id": "9d354add",
   "metadata": {},
   "outputs": [],
   "source": [
    "# 계산 함수들 선언\n",
    "def add(n1, n2):\n",
    "    return n1 + n2 \n",
    "\n",
    "def subtract(n1, n2):\n",
    "    return n1 - n2 \n",
    "\n",
    "def multiply(n1, n2):\n",
    "    return n1 * n2 \n",
    "\n",
    "def divide(n1, n2):\n",
    "    return n1 / n2 "
   ]
  },
  {
   "cell_type": "markdown",
   "id": "15a46c06",
   "metadata": {},
   "source": [
    "- 파이썬 함수는 '일급 객체'로 알려져 있다. 즉 함수를 인자로 전달할 수 있다는 뜻이다."
   ]
  },
  {
   "cell_type": "code",
   "execution_count": 3,
   "id": "458ae16c",
   "metadata": {},
   "outputs": [],
   "source": [
    "# 함수 선언 \n",
    "def calculate(calc_funciton, n1, n2):\n",
    "    return calc_funciton(n1, n2)"
   ]
  },
  {
   "cell_type": "markdown",
   "id": "3018e550",
   "metadata": {},
   "source": [
    "- 위 calculate함수는 매개변수로 calc_funciton과 n1, n2를 받는다. 함수 내부에는 전달받는 calc_funciton()를 호출하고 안에 같이 넘겨받은 n1, n2의 값을 넣는다. \n",
    "- 이제 calculate()를 호출할 때는 함수명 하나를 골라 두 수와 함께 넘기면 된다.\n",
    "- 두 수는 함수의 입력이 되어 연산을 거치는데, 그 연산 결과를 반환하게끔 한다."
   ]
  },
  {
   "cell_type": "code",
   "execution_count": 5,
   "id": "929a2b2d",
   "metadata": {},
   "outputs": [
    {
     "data": {
      "text/plain": [
       "6"
      ]
     },
     "execution_count": 5,
     "metadata": {},
     "output_type": "execute_result"
    }
   ],
   "source": [
    "# 선언한 함수 사용 \n",
    "result = calculate(multiply, 2, 3)\n",
    "result"
   ]
  },
  {
   "cell_type": "markdown",
   "id": "8ced049f",
   "metadata": {},
   "source": [
    "- 파이썬 함수는 '일급 객체'로 알려져 있기 때문에 함수를 숫자나 문자열, 부동 소수점과 같은 일반 인자처럼 다른 함수에 전할 수 있다. "
   ]
  },
  {
   "cell_type": "markdown",
   "id": "474f8717",
   "metadata": {},
   "source": [
    "- 이번에 살펴볼 함수는 '중첩 함수'이다. 함수가 다른 함수 안에 들어갈 수 있다는 의미이다. "
   ]
  },
  {
   "cell_type": "code",
   "execution_count": null,
   "id": "77afbf68",
   "metadata": {},
   "outputs": [],
   "source": [
    "def outer_function():\n",
    "    print(\"I'm outer\")\n",
    "    \n",
    "    def nested_function():\n",
    "        print(\"I'm inner\")"
   ]
  },
  {
   "cell_type": "markdown",
   "id": "9a59177f",
   "metadata": {},
   "source": [
    "- 중첩 함수의 경우 안쪽 함수는 바깥 함수 안에 선언한 탓에 바깥 함수 영역에서만 접근할 수 있다. (만약 함수 선언 후 nested_function()입력하면 에러가 나온다. \n",
    "- 그래서 내부 함수를 추출할 경우 내부 영역에서 함수를 호출하면 가능하다."
   ]
  },
  {
   "cell_type": "code",
   "execution_count": 6,
   "id": "821726c8",
   "metadata": {},
   "outputs": [],
   "source": [
    "def outer_function():\n",
    "    print(\"I'm outer\")\n",
    "    \n",
    "    def nested_function():\n",
    "        print(\"I'm inner\")\n",
    "        \n",
    "    nested_function()"
   ]
  },
  {
   "cell_type": "code",
   "execution_count": 7,
   "id": "a0afcf99",
   "metadata": {},
   "outputs": [
    {
     "name": "stdout",
     "output_type": "stream",
     "text": [
      "I'm outer\n",
      "I'm inner\n"
     ]
    }
   ],
   "source": [
    "outer_function()"
   ]
  },
  {
   "cell_type": "markdown",
   "id": "11d8719b",
   "metadata": {},
   "source": [
    "- 또한 함수는 다른 함수를 반환할 수도 있다. (함수의 결과로 함수가 반환된다는 것이다.)"
   ]
  },
  {
   "cell_type": "code",
   "execution_count": 8,
   "id": "e4ba9b48",
   "metadata": {},
   "outputs": [],
   "source": [
    "def outer_function():\n",
    "    print(\"I'm outer\")\n",
    "    \n",
    "    def nested_function():\n",
    "        print(\"I'm inner\")\n",
    "        \n",
    "    return nested_function"
   ]
  },
  {
   "cell_type": "markdown",
   "id": "4aff7c3a",
   "metadata": {},
   "source": [
    "- nested_function을 호출하게 되면 출력으로 반환된다. (함수를 지금 활성화 하지 않겠다라는 의미)\n",
    "- 만약 nested_function을 활성화 하려면 함수 선언 후 선언된 함수 뒤에 괄호를 붙여준다."
   ]
  },
  {
   "cell_type": "code",
   "execution_count": 10,
   "id": "a7f3a4a0",
   "metadata": {},
   "outputs": [
    {
     "name": "stdout",
     "output_type": "stream",
     "text": [
      "I'm outer\n",
      "I'm inner\n"
     ]
    }
   ],
   "source": [
    "inner_function = outer_function()\n",
    "inner_function()"
   ]
  },
  {
   "cell_type": "markdown",
   "id": "8b5769cd",
   "metadata": {},
   "source": [
    "### 파이썬 데코레이터와 ```@```구문\n",
    "- 데코레이터란 단순히 다른 함수를 감싸 추가 기능을 부여하는 함수이다."
   ]
  },
  {
   "cell_type": "code",
   "execution_count": 12,
   "id": "2ba17659",
   "metadata": {},
   "outputs": [],
   "source": [
    "import time\n",
    "\n",
    "# 데코레이터를 위한 함수 선언\n",
    "def decorator_function(function):\n",
    "    # 데코레이터에 전달될 funciton을 실제로 작동 시키는 역할을 함\n",
    "    def wrapper_function():\n",
    "        function()\n",
    "    return wrapper_function"
   ]
  },
  {
   "cell_type": "code",
   "execution_count": 13,
   "id": "cadd27f5",
   "metadata": {},
   "outputs": [],
   "source": [
    "def say_hello():\n",
    "    time.sleep(2)\n",
    "    print(\"Hello\")"
   ]
  },
  {
   "cell_type": "code",
   "execution_count": 15,
   "id": "37ba06c7",
   "metadata": {},
   "outputs": [],
   "source": [
    "def say_bye():\n",
    "    time.sleep(2)\n",
    "    print(\"Bye\")"
   ]
  },
  {
   "cell_type": "code",
   "execution_count": 16,
   "id": "dcf67a63",
   "metadata": {},
   "outputs": [],
   "source": [
    "def say_greeting():\n",
    "    print(\"How are you?\")"
   ]
  },
  {
   "cell_type": "code",
   "execution_count": 23,
   "id": "26f9f464",
   "metadata": {},
   "outputs": [],
   "source": [
    "# 데코레이터 적용 \n",
    "def delay_decorator(function):\n",
    "    # 데코레이터에 전달될 funciton을 실제로 작동 시키는 역할을 함\n",
    "    def wrapper_function():\n",
    "        time.sleep(2)\n",
    "        # 함수 실행 전에 추가할 수 있고\n",
    "        function()\n",
    "        # 함수를 하나더 생성할 수 있다.\n",
    "        # fucntion()\n",
    "        # 함수 실행 후에 추가할 수 있음\n",
    "    return wrapper_function"
   ]
  },
  {
   "cell_type": "code",
   "execution_count": 24,
   "id": "b5cb3945",
   "metadata": {},
   "outputs": [],
   "source": [
    "@delay_decorator\n",
    "def say_hello():\n",
    "    print(\"Hello\")"
   ]
  },
  {
   "cell_type": "code",
   "execution_count": 25,
   "id": "2f0046ae",
   "metadata": {},
   "outputs": [],
   "source": [
    "@delay_decorator\n",
    "def say_bye():\n",
    "    print(\"Bye\")"
   ]
  },
  {
   "cell_type": "code",
   "execution_count": 26,
   "id": "1db75da2",
   "metadata": {},
   "outputs": [],
   "source": [
    "def say_greeting():\n",
    "    print(\"How are you?\")"
   ]
  },
  {
   "cell_type": "code",
   "execution_count": 27,
   "id": "3dc7c84a",
   "metadata": {},
   "outputs": [
    {
     "name": "stdout",
     "output_type": "stream",
     "text": [
      "Hello\n"
     ]
    }
   ],
   "source": [
    "say_hello()"
   ]
  },
  {
   "cell_type": "markdown",
   "id": "be543fb2",
   "metadata": {},
   "source": [
    "- 정의해보자면 데코레이터는 다른 함수를 감싸는 함수로 함수에 기능을 더하거나 함수를 변형시키는 기능을 해준다.\n",
    "- 그리고 '@'기호를 사용하는 구문을 \"구문적 치장\"이라고 한다. 이 말은 길고 복잡한 코드 대신 쓸 수 있는 쉽고 간편한 구문을 말한다."
   ]
  }
 ],
 "metadata": {
  "kernelspec": {
   "display_name": "Python 3 (ipykernel)",
   "language": "python",
   "name": "python3"
  },
  "language_info": {
   "codemirror_mode": {
    "name": "ipython",
    "version": 3
   },
   "file_extension": ".py",
   "mimetype": "text/x-python",
   "name": "python",
   "nbconvert_exporter": "python",
   "pygments_lexer": "ipython3",
   "version": "3.8.12"
  }
 },
 "nbformat": 4,
 "nbformat_minor": 5
}
