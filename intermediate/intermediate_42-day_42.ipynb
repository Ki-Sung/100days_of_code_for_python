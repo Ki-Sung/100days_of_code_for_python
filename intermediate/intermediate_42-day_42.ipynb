{
 "cells": [
  {
   "cell_type": "markdown",
   "id": "9c0458b8",
   "metadata": {},
   "source": [
    "## CSS 소개 "
   ]
  },
  {
   "cell_type": "markdown",
   "id": "45d9b91c",
   "metadata": {},
   "source": [
    "### 1. CSS 란? \n",
    "- CSS는 Cascading Syle Sheet의 약자로, HTML 등의 마크업 언어로 작성된 문서가 실제로 웹사이트에 표현되는 방법을 정해주는 스타일 시트 언어를 말한다. \n",
    "- CSS의 C가 Cascading의 약자인데, 이는 상위 요소의 스타일 속성을 자손 요소들에게 상속시켜주는 모습이 DOM 트리구조에서 마치 폭포수처럼 내려가는 모습을 닮았기 때문이다. 다만 예외로 마진, 패딩, 보더 등의 박스모델 관련 속성은 상속되지 않는다. 물론 inherit 값을 줘서 강제로 상속시킬 순 있다."
   ]
  },
  {
   "cell_type": "markdown",
   "id": "eef0a795",
   "metadata": {},
   "source": [
    "### 2. 인라인 CSS \n",
    "- 기본 CSS 적용법 - tag 안에 style 옵션을 대입 \n",
    "    - `<body style=\"background-color: blue;\">`\n",
    "- color hex code 사이트 - https://colorhunt.co/palette/016a70ffffddd2de32a2c579"
   ]
  },
  {
   "cell_type": "markdown",
   "id": "47c26028",
   "metadata": {},
   "source": [
    "### 3. 내부 CSS \n",
    "- 전체 웹 페이지에서 CSS 코드를 구현하는 방법은 head 태그 안에 style 태그를 지정하고 안에 원하는 태그에 원하는 스타일 코드를 넣으면 된다. \n",
    "    - CSS 기본값 참조 - https://www.w3schools.com/cssref/css_default_values.php\n",
    "    "
   ]
  },
  {
   "cell_type": "markdown",
   "id": "2cf16e72",
   "metadata": {},
   "source": [
    "```\n",
    "<head>\n",
    "...\n",
    "<style>\n",
    "\n",
    "        body {\n",
    "            background-color: #EAFDFC;\n",
    "        }\n",
    "\n",
    "        hr {\n",
    "            border-style: none;\n",
    "            border-top-style: dotted;\n",
    "            border-color: gray;\n",
    "            border-width: 5px;\n",
    "            width: 5%;\n",
    "        }\n",
    "    \n",
    "    </style>\n",
    "</head>\n",
    "```"
   ]
  },
  {
   "cell_type": "markdown",
   "id": "9173a8d0",
   "metadata": {},
   "source": [
    "### 4. 외부 CSS \n",
    "- syle 태그를 빼고 css 폴더에 css 파일을 따로 만들어서 lin 태그에 css 파일을 연결하면 스타일이 적용 가능, 이를 외부 CSS라 한다. "
   ]
  },
  {
   "cell_type": "markdown",
   "id": "9e612c8e",
   "metadata": {},
   "source": [
    "css/styles.css\n",
    "```\n",
    "body {\n",
    "    background-color: #EAFDFC;\n",
    "}\n",
    "\n",
    "hr {\n",
    "    border-style: none;\n",
    "    border-top-style: dotted;\n",
    "    border-color: gray;\n",
    "    border-width: 5px;\n",
    "    width: 5%;\n",
    "}\n",
    "\n",
    "```"
   ]
  },
  {
   "cell_type": "markdown",
   "id": "56d1e072",
   "metadata": {},
   "source": [
    "index.html\n",
    "```\n",
    "<head>\n",
    "        <!-- 문자 인코딩 - UTF-8 설정 -->\n",
    "        <meta charset=\"UTF-8\">\n",
    "        <title>Gilber's Personal Site</title>\n",
    "        <link rel=\"stylesheet\" href=\"./css/styles.css\">\n",
    "</head>\n",
    "\n",
    "```"
   ]
  },
  {
   "cell_type": "code",
   "execution_count": null,
   "id": "7365c0b6",
   "metadata": {},
   "outputs": [],
   "source": []
  }
 ],
 "metadata": {
  "kernelspec": {
   "display_name": "Python 3 (ipykernel)",
   "language": "python",
   "name": "python3"
  },
  "language_info": {
   "codemirror_mode": {
    "name": "ipython",
    "version": 3
   },
   "file_extension": ".py",
   "mimetype": "text/x-python",
   "name": "python",
   "nbconvert_exporter": "python",
   "pygments_lexer": "ipython3",
   "version": "3.8.12"
  }
 },
 "nbformat": 4,
 "nbformat_minor": 5
}
