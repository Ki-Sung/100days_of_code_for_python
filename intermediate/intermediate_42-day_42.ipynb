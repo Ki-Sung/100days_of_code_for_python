{
 "cells": [
  {
   "cell_type": "markdown",
   "id": "8ba75b10",
   "metadata": {},
   "source": [
    "## CSS 소개 "
   ]
  },
  {
   "cell_type": "markdown",
   "id": "008d4211",
   "metadata": {},
   "source": [
    "### 1. CSS 란? \n",
    "- CSS는 Cascading Syle Sheet의 약자로, HTML 등의 마크업 언어로 작성된 문서가 실제로 웹사이트에 표현되는 방법을 정해주는 스타일 시트 언어를 말한다. \n",
    "- CSS의 C가 Cascading의 약자인데, 이는 상위 요소의 스타일 속성을 자손 요소들에게 상속시켜주는 모습이 DOM 트리구조에서 마치 폭포수처럼 내려가는 모습을 닮았기 때문이다. 다만 예외로 마진, 패딩, 보더 등의 박스모델 관련 속성은 상속되지 않는다. 물론 inherit 값을 줘서 강제로 상속시킬 순 있다."
   ]
  },
  {
   "cell_type": "markdown",
   "id": "d8f2008c",
   "metadata": {},
   "source": [
    "### 2. 인라인 CSS \n",
    "- 기본 CSS 적용법 - tag 안에 style 옵션을 대입 \n",
    "    - `<body style=\"background-color: blue;\">`\n",
    "- color hex code 사이트 - https://colorhunt.co/palette/016a70ffffddd2de32a2c579"
   ]
  },
  {
   "cell_type": "markdown",
   "id": "42d5a5c2",
   "metadata": {},
   "source": [
    "### 3. 내부 CSS \n",
    "- 전체 웹 페이지에서 CSS 코드를 구현하는 방법은 head 태그 안에 style 태그를 지정하고 안에 원하는 태그에 원하는 스타일 코드를 넣으면 된다. \n",
    "    - CSS 기본값 참조 - https://www.w3schools.com/cssref/css_default_values.php\n",
    "    "
   ]
  },
  {
   "cell_type": "markdown",
   "id": "71c2adbb",
   "metadata": {},
   "source": [
    "```\n",
    "<head>\n",
    "...\n",
    "<style>\n",
    "\n",
    "        body {\n",
    "            background-color: #EAFDFC;\n",
    "        }\n",
    "\n",
    "        hr {\n",
    "            border-style: none;\n",
    "            border-top-style: dotted;\n",
    "            border-color: gray;\n",
    "            border-width: 5px;\n",
    "            width: 5%;\n",
    "        }\n",
    "    \n",
    "    </style>\n",
    "</head>\n",
    "```"
   ]
  },
  {
   "cell_type": "markdown",
   "id": "d3b5e3f5",
   "metadata": {},
   "source": [
    "### 4. 외부 CSS \n",
    "- syle 태그를 빼고 css 폴더에 css 파일을 따로 만들어서 lin 태그에 css 파일을 연결하면 스타일이 적용 가능, 이를 외부 CSS라 한다. "
   ]
  },
  {
   "cell_type": "markdown",
   "id": "6f144f70",
   "metadata": {},
   "source": [
    "css/styles.css\n",
    "```\n",
    "body {\n",
    "    background-color: #EAFDFC;\n",
    "}\n",
    "\n",
    "hr {\n",
    "    border-style: none;\n",
    "    border-top-style: dotted;\n",
    "    border-color: gray;\n",
    "    border-width: 5px;\n",
    "    width: 5%;\n",
    "}\n",
    "\n",
    "```"
   ]
  },
  {
   "cell_type": "markdown",
   "id": "4931d673",
   "metadata": {},
   "source": [
    "index.html\n",
    "```\n",
    "<head>\n",
    "        <!-- 문자 인코딩 - UTF-8 설정 -->\n",
    "        <meta charset=\"UTF-8\">\n",
    "        <title>Gilber's Personal Site</title>\n",
    "        <link rel=\"stylesheet\" href=\"./css/styles.css\">\n",
    "</head>\n",
    "\n",
    "```"
   ]
  },
  {
   "cell_type": "markdown",
   "id": "329bd312",
   "metadata": {},
   "source": [
    "### 5. CSS 디버깅하는 방법 \n",
    "1. 크롬 개발자 모드에서 콘솔 이용 - 콘솔로 이동하며 에러가 보이는 것을 보고 디버깅!\n",
    "2. 크롬 개발자 모드에서 요소 검사기 이용 - 스타일스에 보면 현재 적용된 스타일을 보고 이상이 있으면 디버깅!"
   ]
  },
  {
   "cell_type": "markdown",
   "id": "f464739a",
   "metadata": {},
   "source": [
    "### 6. CSS 구문 구조 \n",
    "- CSS의 기본 구문 구조 \n",
    "    - `selector {property: value;}`\n",
    "    - selector(선택자) - 웹페이지에서 수정하고 싶은 대상을 선택함(who)\n",
    "    - property(속성) - 어떤 것을 바꾸고 싶은지 지정(what)\n",
    "    - value(값) - 어떤 것을 바꿀지에 대한 값을 지정(how)\n",
    "    - 항상 끝에는 세미콜론(;)을 붙여줘야 함\n",
    "    - 예: h1{color:red;}\n",
    "- CSS 속성을 나열할 때는 선택자 기준 알파벳 순서대로 나열해주면 디버깅에도 좋다."
   ]
  },
  {
   "cell_type": "markdown",
   "id": "875422ac",
   "metadata": {},
   "source": [
    "### 7. CSS 선택자\n",
    "- 같은 태그에 다른 속성이 있으면, 클래스 선택자를 사용하면 된다.\n",
    "    - html에 클래스 지정 후 css 파일에서 선택자를 지정한 html 클래스 이름으로 하면 된다.\n",
    "    - css에서 클래스 선택자를 지정하려면 클래스 명 앞에 .(콤마)를 지정한다. \n",
    "    - 예: .classname {property: value;}\n",
    "- 이모지 사이트: https://emojipedia.org/broccoli"
   ]
  },
  {
   "cell_type": "markdown",
   "id": "033efce3",
   "metadata": {},
   "source": [
    "### 8. 클래스 vs 아이디\n",
    "- 아이디는 html 태그안에 지정한 id 이름을 말한다. 동일하게 id 이름별로 css 스타일을 지정할 수 있다. \n",
    "    - 아이디 css 지정 -> #idname {property: value;}\n",
    "- id와 클래스 선택자가 더 구체적이기 때문에 태그 설렉터 보다 더 우선하게 된다.\n",
    "- id와 클래스의 차이\n",
    "    - id는 특정 페이지에 단 하나만 요소를 지정하는데 사용 가능\n",
    "    - 클래스는 동일한 스타일을 적용하려는 모든 태그에 중복해서 사용 가능\n",
    "    - 클래스는 두 가지의 속성을 대입할 수 있다. (id는 불가능)\n",
    "- 의사 클래스 \n",
    "    - html 요소의 다른 상태를 명시하기 위해 사용 \n",
    "    - 예를 들면 어떠한 행동을 할시 어떤 행동으로 명시해주는 역할을 함 \n",
    "    - 예) img:hover{background-color:gold;} -> 이미지를 마우스를 갖다대면 골드색상으로 변경된다.라는 의미 "
   ]
  }
 ],
 "metadata": {
  "kernelspec": {
   "display_name": "Python 3 (ipykernel)",
   "language": "python",
   "name": "python3"
  },
  "language_info": {
   "codemirror_mode": {
    "name": "ipython",
    "version": 3
   },
   "file_extension": ".py",
   "mimetype": "text/x-python",
   "name": "python",
   "nbconvert_exporter": "python",
   "pygments_lexer": "ipython3",
   "version": "3.8.12"
  }
 },
 "nbformat": 4,
 "nbformat_minor": 5
}
