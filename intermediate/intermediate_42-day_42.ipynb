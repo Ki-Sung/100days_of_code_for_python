{
 "cells": [
  {
   "cell_type": "markdown",
   "id": "cf443416",
   "metadata": {},
   "source": [
    "## CSS 소개 "
   ]
  },
  {
   "cell_type": "markdown",
   "id": "dbee239c",
   "metadata": {},
   "source": [
    "### 1. CSS 란? \n",
    "- CSS는 Cascading Syle Sheet의 약자로, HTML 등의 마크업 언어로 작성된 문서가 실제로 웹사이트에 표현되는 방법을 정해주는 스타일 시트 언어를 말한다. \n",
    "- CSS의 C가 Cascading의 약자인데, 이는 상위 요소의 스타일 속성을 자손 요소들에게 상속시켜주는 모습이 DOM 트리구조에서 마치 폭포수처럼 내려가는 모습을 닮았기 때문이다. 다만 예외로 마진, 패딩, 보더 등의 박스모델 관련 속성은 상속되지 않는다. 물론 inherit 값을 줘서 강제로 상속시킬 순 있다."
   ]
  },
  {
   "cell_type": "markdown",
   "id": "8a959668",
   "metadata": {},
   "source": [
    "### 2. 인라인 CSS \n",
    "- 기본 CSS 적용법 - tag 안에 style 옵션을 대입 \n",
    "    - `<body style=\"background-color: blue;\">`\n",
    "- color hex code 사이트 - https://colorhunt.co/palette/016a70ffffddd2de32a2c579"
   ]
  },
  {
   "cell_type": "markdown",
   "id": "d1d800c8",
   "metadata": {},
   "source": [
    "### 3. 내부 CSS \n",
    "- 전체 웹 페이지에서 CSS 코드를 구현하는 방법은 head 태그 안에 style 태그를 지정하고 안에 원하는 태그에 원하는 스타일 코드를 넣으면 된다. \n",
    "    - CSS 기본값 참조 - https://www.w3schools.com/cssref/css_default_values.php\n",
    "    "
   ]
  },
  {
   "cell_type": "markdown",
   "id": "f2d5c409",
   "metadata": {},
   "source": [
    "```\n",
    "<head>\n",
    "...\n",
    "<style>\n",
    "\n",
    "        body {\n",
    "            background-color: #EAFDFC;\n",
    "        }\n",
    "\n",
    "        hr {\n",
    "            border-style: none;\n",
    "            border-top-style: dotted;\n",
    "            border-color: gray;\n",
    "            border-width: 5px;\n",
    "            width: 5%;\n",
    "        }\n",
    "    \n",
    "    </style>\n",
    "</head>\n",
    "```"
   ]
  },
  {
   "cell_type": "code",
   "execution_count": null,
   "id": "cc141cfc",
   "metadata": {},
   "outputs": [],
   "source": []
  }
 ],
 "metadata": {
  "kernelspec": {
   "display_name": "Python 3 (ipykernel)",
   "language": "python",
   "name": "python3"
  },
  "language_info": {
   "codemirror_mode": {
    "name": "ipython",
    "version": 3
   },
   "file_extension": ".py",
   "mimetype": "text/x-python",
   "name": "python",
   "nbconvert_exporter": "python",
   "pygments_lexer": "ipython3",
   "version": "3.8.12"
  }
 },
 "nbformat": 4,
 "nbformat_minor": 5
}
