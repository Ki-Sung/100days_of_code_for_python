{
 "cells": [
  {
   "cell_type": "markdown",
   "id": "72b4d275",
   "metadata": {},
   "source": [
    "- 절차 지형 프로그래밍(procedural programming)에서 우리는 특정한 일을 하는 절차나 함수들을 만든다! (한 절차가 다른 절차로 이어지고 등등)\n",
    "- 아주 복잡한 프로젝트를 코딩할 때도 간단한 관계를 유지하려면, 객체지향 패러다임이 필요하다!\n",
    "- 객체지향 프로그래밍(Object Oriented Programming)은 컴퓨터 프로그램을 명령어의 목록으로 보는 시각에서 벗어나 여러 개의 독립된 단위, 즉 \"객체\"들의 모임으로 파악하고자 하는 것이다."
   ]
  },
  {
   "cell_type": "markdown",
   "id": "63f8bfbc",
   "metadata": {},
   "source": [
    "- 그럼 OOP는 어떻게 사용할까? 식당 관리의 예를 들었을 때, 세 가지 유형의 직원(요리사, 웨이터, 청소부)를 고용하고 매니저가 이 세 유형의 직원들을 관리한다. 여기서 객체 지향 프로그래밍이라고 불리는 이유가 나오는데, 그것은 실생활의 객체의 모델을 만들려고 하기 때문이다. 가상의 식당을 예로들어보자! \n",
    "    - 웨이터 모델 \n",
    "        - has: is_holding_plate = True / tables_responsible = [4, 5, 6]\n",
    "        - dose: def take_order(table, order): / def take_payment(amount):\n",
    "        - 위의 has는 attributes(속성)을 does는 method(매개변수)의 기능을 한다고 볼 수 있다. \n",
    "    - 그래서 여기서 가장 중요한 요소는 attribute(속성)과 method(매개변수)이다. \n",
    "- 객체가 가진 것은 attribute이고, 변수와 함께 모델이 만들어지고 객체가 할 수 있는 것은 method라 부르며 함수에 의해 모델이 만들어진다. \n",
    "- 따라서 근본적으로 객체가 같은 것 내에서 어떤 데이터와 어떤 기능을 완전히 결합하는 방식이다.\n",
    "- 그리고 같은 유형에서도 다양한 객체를 만들 수 있다. e.g) 웨이터 헨리, 웨이터 소피아 등등\n",
    "- 여기서 웨이터는 class(OPP에서 청사진 또는 유형)이고, 웨이터 헨리, 소피아를 object(청사진으로 부터 만들어진 개별 객체들)라고 한다. "
   ]
  },
  {
   "cell_type": "code",
   "execution_count": 2,
   "id": "482f82a8",
   "metadata": {},
   "outputs": [
    {
     "data": {
      "text/plain": [
       "<turtle.Turtle at 0x1081a4f70>"
      ]
     },
     "execution_count": 2,
     "metadata": {},
     "output_type": "execute_result"
    }
   ],
   "source": [
    "import turtle   # 로봇 거북이를 통해 명령어를 그래픽으로 나타내는 turtle 그래픽 module\n",
    "\n",
    "# timy -> 객체 / Turtle -> 클래스 / () -> 클래스 객체 활성화 역할\n",
    "\n",
    "timy = turtle.Turtle()"
   ]
  },
  {
   "cell_type": "code",
   "execution_count": 1,
   "id": "28ae15ee",
   "metadata": {},
   "outputs": [],
   "source": [
    "from turtle import Turtle, Screen"
   ]
  },
  {
   "cell_type": "code",
   "execution_count": 3,
   "id": "8b9a1a2a",
   "metadata": {},
   "outputs": [
    {
     "name": "stdout",
     "output_type": "stream",
     "text": [
      "<turtle.Turtle object at 0x107401d60>\n",
      "300\n"
     ]
    }
   ],
   "source": [
    "# 위의 코드를 간소화 \n",
    "from turtle import Turtle, Screen\n",
    "\n",
    "timy = Turtle()\n",
    "print(timy)\n",
    "timy.shape(\"turtle\")  # turtle 모양 설정 \n",
    "timy.color(\"coral\")   # turtle 색상 설정 \n",
    "timy.forward(100)     # turtle 앞으로 가기 설정\n",
    "\n",
    "my_screen = Screen()  # 나타내기\n",
    "\n",
    "# my_screen - 객체 / canvheight - 속성\n",
    "print(my_screen.canvheight)    # 현재 캔버스 크기 \n",
    "\n",
    "# exitonclick() - 메소드\n",
    "my_screen.exitonclick()"
   ]
  },
  {
   "cell_type": "code",
   "execution_count": 3,
   "id": "2f2642dd",
   "metadata": {},
   "outputs": [
    {
     "name": "stdout",
     "output_type": "stream",
     "text": [
      "| Pokemon Name | Type |\n",
      "_______________________\n"
     ]
    }
   ],
   "source": [
    "# 패키지의 활용 \n",
    "print(\"| Pokemon Name | Type |\")\n",
    "print(\"_______________________\")"
   ]
  },
  {
   "cell_type": "code",
   "execution_count": null,
   "id": "80b42f1e",
   "metadata": {},
   "outputs": [],
   "source": [
    "# 파이썬 패키지 모음 인덱스 - https://pypi.org/"
   ]
  },
  {
   "cell_type": "code",
   "execution_count": null,
   "id": "5016d511",
   "metadata": {},
   "outputs": [],
   "source": [
    "# 패키지 설치 -> pip install 패키지명\n",
    "# talbe을 아스키 코드 형식으로 그려주는 패키지 - pip install prettytable"
   ]
  },
  {
   "cell_type": "code",
   "execution_count": 4,
   "id": "95fad939",
   "metadata": {},
   "outputs": [],
   "source": [
    "# 패키지 불러오기 \n",
    "import prettytable"
   ]
  },
  {
   "cell_type": "code",
   "execution_count": 15,
   "id": "a67c99c2",
   "metadata": {},
   "outputs": [
    {
     "name": "stdout",
     "output_type": "stream",
     "text": [
      "++\n",
      "||\n",
      "++\n",
      "++\n"
     ]
    }
   ],
   "source": [
    "# prettytable 패키지에 PrettyTable 클래스 불어오기 \n",
    "from prettytable import PrettyTable\n",
    "\n",
    "# table이라는 객체 이름으로  PrettyTable 클래스로 부터 객체를 만들기\n",
    "table = PrettyTable()\n",
    "print(table)"
   ]
  },
  {
   "cell_type": "code",
   "execution_count": 16,
   "id": "366bf5e4",
   "metadata": {},
   "outputs": [
    {
     "name": "stdout",
     "output_type": "stream",
     "text": [
      "+--------------+----------+\n",
      "| Pokemon Name |   Type   |\n",
      "+--------------+----------+\n",
      "|   Pikachu    | Electric |\n",
      "|   Squirtle   |  Water   |\n",
      "|  Charmander  |   Fire   |\n",
      "+--------------+----------+\n"
     ]
    }
   ],
   "source": [
    "# table 객체에 add_column()이라는 메서드를 사용해서 테이블 만들기 \n",
    "\n",
    "table.add_column(\"Pokemon Name\", [\"Pikachu\", \"Squirtle\", \"Charmander\"])  # object.mathed() \n",
    "table.add_column(\"Type\", [\"Electric\", \"Water\", \"Fire\"])  # object.mathed()\n",
    "print(table)"
   ]
  },
  {
   "cell_type": "code",
   "execution_count": 24,
   "id": "9927697b",
   "metadata": {},
   "outputs": [
    {
     "name": "stdout",
     "output_type": "stream",
     "text": [
      "+--------------+----------+\n",
      "| Pokemon Name | Type     |\n",
      "+--------------+----------+\n",
      "| Pikachu      | Electric |\n",
      "| Squirtle     | Water    |\n",
      "| Charmander   | Fire     |\n",
      "+--------------+----------+\n"
     ]
    }
   ],
   "source": [
    "# 테이블 왼쪽 정렬 옵션 - 객체.속성 = 속성 옵션\n",
    "table.align = \"l\"\n",
    "print(table)"
   ]
  },
  {
   "cell_type": "code",
   "execution_count": 40,
   "id": "66f01381",
   "metadata": {},
   "outputs": [],
   "source": [
    "# 커피 자판기 OOP 버전 \n",
    "from coffee_machine.menu import Menu, MenuItem\n",
    "from coffee_machine.coffee_maker import CoffeeMaker\n",
    "from coffee_machine.money_machine import MoneyMachine"
   ]
  },
  {
   "cell_type": "code",
   "execution_count": 77,
   "id": "214dd2f5",
   "metadata": {},
   "outputs": [],
   "source": [
    "# 각 객체 생성\n",
    "money_machine = MoneyMachine()   # MoneyMachine 객체 생성\n",
    "coffee_maker = CoffeeMaker()     # CoffeeMaker 객체 생성 \n",
    "menu = Menu()                    # Menu 객체 생성"
   ]
  },
  {
   "cell_type": "code",
   "execution_count": 78,
   "id": "d8fc851d",
   "metadata": {},
   "outputs": [
    {
     "name": "stdout",
     "output_type": "stream",
     "text": [
      "Water: 300ml\n",
      "Milk: 200ml\n",
      "Coffee: 100g\n",
      "Money: $0\n"
     ]
    }
   ],
   "source": [
    "# 생성된 객체 안에 메소드 활용\n",
    "coffee_maker.report()\n",
    "money_machine.report()"
   ]
  },
  {
   "cell_type": "code",
   "execution_count": 80,
   "id": "b3f1c80d",
   "metadata": {},
   "outputs": [
    {
     "name": "stdout",
     "output_type": "stream",
     "text": [
      "What would you like? (latte/espresso/cappuccino/): report\n",
      "Water: 300ml\n",
      "Milk: 200ml\n",
      "Coffee: 100g\n",
      "Money: $0\n",
      "What would you like? (latte/espresso/cappuccino/): latte\n",
      "<coffee_machine.menu.MenuItem object at 0x114ac82b0>\n",
      "What would you like? (latte/espresso/cappuccino/): off\n"
     ]
    }
   ],
   "source": [
    "is_on = True\n",
    "\n",
    "while is_on:\n",
    "    options = menu.get_items()\n",
    "    choice = input(f\"What would you like? ({options}): \").lower()\n",
    "    if choice == \"off\":\n",
    "        is_on = False\n",
    "    elif choice == \"report\":\n",
    "        # 생성된 객체 안에 메소드 활용\n",
    "        coffee_maker.report()\n",
    "        money_machine.report()\n",
    "    else:\n",
    "        drink = menu.find_drink(choice)\n",
    "        print(drink)"
   ]
  },
  {
   "cell_type": "code",
   "execution_count": 82,
   "id": "136d2175",
   "metadata": {},
   "outputs": [
    {
     "name": "stdout",
     "output_type": "stream",
     "text": [
      "What would you like? (latte/espresso/cappuccino/): report\n",
      "Water: 300ml\n",
      "Milk: 200ml\n",
      "Coffee: 100g\n",
      "Money: $2.5\n",
      "What would you like? (latte/espresso/cappuccino/): latte\n",
      "Please insert coins.\n",
      "How many quarters?: 8\n",
      "How many dimes?: 8\n",
      "How many nickles?: 8\n",
      "How many pennies?: 8\n",
      "Here is $0.78 in change.\n",
      "Here is your latte ☕️. Enjoy!\n",
      "What would you like? (latte/espresso/cappuccino/): report\n",
      "Water: 100ml\n",
      "Milk: 50ml\n",
      "Coffee: 76g\n",
      "Money: $5.0\n",
      "What would you like? (latte/espresso/cappuccino/): cappuccino\n",
      "Sorry there is not enough water.\n",
      "What would you like? (latte/espresso/cappuccino/): off\n"
     ]
    }
   ],
   "source": [
    "is_on = True\n",
    "\n",
    "while is_on:\n",
    "    options = menu.get_items()\n",
    "    choice = input(f\"What would you like? ({options}): \").lower()\n",
    "    if choice == \"off\":\n",
    "        is_on = False\n",
    "    elif choice == \"report\":\n",
    "        # 생성된 객체 안에 메소드 활용\n",
    "        coffee_maker.report()\n",
    "        money_machine.report()\n",
    "    else:\n",
    "        drink = menu.find_drink(choice)\n",
    "        if coffee_maker.is_resource_sufficient(drink) and money_machine.make_payment(drink.cost):\n",
    "            coffee_maker.make_coffee(drink)"
   ]
  },
  {
   "cell_type": "code",
   "execution_count": null,
   "id": "6477f3ea",
   "metadata": {},
   "outputs": [],
   "source": [
    "# final - OOP 버전 \n",
    "from coffee_machine.menu import Menu, MenuItem\n",
    "from coffee_machine.coffee_maker import CoffeeMaker\n",
    "from coffee_machine.money_machine import MoneyMachine\n",
    "\n",
    "# 각 객체 생성\n",
    "money_machine = MoneyMachine()   # MoneyMachine 객체 생성\n",
    "coffee_maker = CoffeeMaker()     # CoffeeMaker 객체 생성 \n",
    "menu = Menu()                    # Menu 객체 생성\n",
    "\n",
    "is_on = True\n",
    "\n",
    "while is_on:\n",
    "    options = menu.get_items()\n",
    "    choice = input(f\"What would you like? ({options}): \").lower()\n",
    "    if choice == \"off\":\n",
    "        is_on = False\n",
    "    elif choice == \"report\":\n",
    "        # 생성된 객체 안에 메소드 활용\n",
    "        coffee_maker.report()\n",
    "        money_machine.report()\n",
    "    else:\n",
    "        drink = menu.find_drink(choice)\n",
    "        if coffee_maker.is_resource_sufficient(drink) and money_machine.make_payment(drink.cost):\n",
    "            coffee_maker.make_coffee(drink)"
   ]
  },
  {
   "cell_type": "code",
   "execution_count": null,
   "id": "2376aa1f",
   "metadata": {},
   "outputs": [],
   "source": [
    "# final - OOP 쉬운 버전 \n",
    "from coffee_machine.menu import Menu, MenuItem\n",
    "from coffee_machine.coffee_maker import CoffeeMaker\n",
    "from coffee_machine.money_machine import MoneyMachine\n",
    "\n",
    "# 각 객체 생성\n",
    "money_machine = MoneyMachine()   # MoneyMachine 객체 생성\n",
    "coffee_maker = CoffeeMaker()     # CoffeeMaker 객체 생성 \n",
    "menu = Menu()                    # Menu 객체 생성\n",
    "\n",
    "is_on = True\n",
    "\n",
    "while is_on:\n",
    "    options = menu.get_items()\n",
    "    choice = input(f\"What would you like? ({options}): \").lower()\n",
    "    if choice == \"off\":\n",
    "        is_on = False\n",
    "    elif choice == \"report\":\n",
    "        # 생성된 객체 안에 메소드 활용\n",
    "        coffee_maker.report()\n",
    "        money_machine.report()\n",
    "    else:\n",
    "        drink = menu.find_drink(choice)\n",
    "        is_enought_ingredients = coffee_maker.is_resource_sufficient(drink)\n",
    "        is_payment_successful = money_machine.make_payment(drink.cost)\n",
    "        if is_enought_ingredients and is_payment_successful:\n",
    "            coffee_maker.make_coffee(drink)"
   ]
  }
 ],
 "metadata": {
  "kernelspec": {
   "display_name": "Python 3 (ipykernel)",
   "language": "python",
   "name": "python3"
  },
  "language_info": {
   "codemirror_mode": {
    "name": "ipython",
    "version": 3
   },
   "file_extension": ".py",
   "mimetype": "text/x-python",
   "name": "python",
   "nbconvert_exporter": "python",
   "pygments_lexer": "ipython3",
   "version": "3.8.12"
  }
 },
 "nbformat": 4,
 "nbformat_minor": 5
}
