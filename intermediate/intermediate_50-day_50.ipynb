{
 "cells": [
  {
   "cell_type": "markdown",
   "id": "cbd809ad",
   "metadata": {},
   "source": [
    "## 자동 틴더봇 만들기 \n",
    "- 틴더 스와핑 자동봇 만들기 \n",
    "    1. 틴더 가입하기 \n",
    "    2. 로그인 화면으로 이동하기\n",
    "    3. 페이스북 로그인하기 \n",
    "    4. 선택 팝업창 없애기 \n",
    "    5. 좋아요 누르기 \n",
    "- 주의 \n",
    "    - 스와핑은 하루에 100번까지만 가능! \n",
    "    - 해당 프로젝트를 진행시 꼭! 셀레니움 연습용이라고 말할 것!(오해를 사지말자)\n",
    "- 만약 신상정보를 사용하기 싫다면 AI가 만든 이미지를 사용해서 프로필 등록하기 \n",
    "    - https://www.thispersondoesnotexist.com/"
   ]
  },
  {
   "cell_type": "markdown",
   "id": "e76bb83b",
   "metadata": {},
   "source": [
    "### 1단계 - 틴더 계정만들기 \n",
    "1. 틴더 계정이 없다면 만들기.. 페이스북이나 구글 계정으로 로그인할 수 있는지 확인해보기. 만약 신상 정보를 사용하기 싫다면, 틴더를 사용하는 친구에게 부탁하거나 페이스북 계정을 새로 만든 후 https://www.thispersondoesnotexist.com/에서 AI가 만든 이미지를 사용하기 \n",
    "2.프로필을 스와이핑하는 과정을 직접 진행하고, 어떤 요소를 코드로 작업해야 하는지 확인하기"
   ]
  },
  {
   "cell_type": "markdown",
   "id": "69564bbf",
   "metadata": {},
   "source": [
    "### 2단계 - 로그인 화면으로 이동\n",
    "- 로그인할 때마다 휴대폰 번호로 이중 인증을 피하려면, 페이스북 또는 구글 계정으로 로그인을 해야한다. 구글 계정은 페이스북 게정보다 로그인 절차가 더 많으므로 해당 과제에서는 페이스북 계정을 사용 \n",
    "1. 셀레니움과 파이썬을 이용하여, 틴더 웹사이트(https://tinder.com/)로 가서 \"로그인\"을 클릭한 다음, \"Facebook 계정으로 로그인\"을 클릭. 만약 제대로 했다면, 페이스북 계정으로 로그인하기 위한 팝업이 뜬다. "
   ]
  },
  {
   "cell_type": "code",
   "execution_count": 1,
   "id": "3aa38804",
   "metadata": {},
   "outputs": [],
   "source": [
    "# 필요 모듈 볼러오기 \n",
    "import time\n",
    "from fake_useragent import UserAgent\n",
    "\n",
    "import undetected_chromedriver as uc \n",
    "from selenium.webdriver.common.by import By\n",
    "from selenium.webdriver.common.keys import Keys"
   ]
  },
  {
   "cell_type": "code",
   "execution_count": 2,
   "id": "0f8acdd5",
   "metadata": {},
   "outputs": [
    {
     "name": "stdout",
     "output_type": "stream",
     "text": [
      "Mozilla/5.0 (Macintosh; U; Intel Mac OS X 10_6_3; el-gr) AppleWebKit/533.16 (KHTML, like Gecko) Version/5.0 Safari/533.16\n"
     ]
    }
   ],
   "source": [
    "# fake user 사용 \n",
    "us = UserAgent(verify_ssl=False)\n",
    "userAgent = us.random\n",
    "print(userAgent)"
   ]
  },
  {
   "cell_type": "code",
   "execution_count": 3,
   "id": "16c67df8",
   "metadata": {},
   "outputs": [],
   "source": [
    "# 크롬드라이버 옵션 선언\n",
    "options = uc.ChromeOptions()\n",
    "\n",
    "# 크롬드라이버 headless 옵션 \n",
    "# options.headless=True\n",
    "# options.add_argument('--headless')   \n",
    "options.add_argument(\"--no-sandbox\")  \n",
    "\n",
    "options.add_argument(f'user-agent={userAgent}')  # fake user 설정 \n",
    "options.add_argument(\"--load-images=yes\")        # 이미지 로드 설정 \n",
    "options.add_argument(\"--disable-extensions\")     # 비활성화 - 어떤 것을 비활성화 하는지 잘 모르겠음 \n",
    "options.add_argument(\"--disable-gpu\")            # gpu 가속 사용 제외\n",
    "options.add_argument(\"--lang=ja-JP\")             # 가짜 플러그인 탑재 - 일본어 설정 \n",
    "driver = uc.Chrome(options=options)              # 설정된 크롬드라이버 선언\n",
    "\n",
    "# url 설정 \n",
    "url = \"https://tinder.com\"\n",
    "driver.get(url)"
   ]
  },
  {
   "cell_type": "code",
   "execution_count": 4,
   "id": "b2118f66",
   "metadata": {},
   "outputs": [],
   "source": [
    "# 로그인 버튼 클릭 \n",
    "driver.find_element(By.XPATH, \n",
    "                    '//*[@id=\"s1477815459\"]/div/div[1]/div/main/div[1]/div/div/div/div/header/div/div[2]/div[2]/a/div[2]/div[2]').click()"
   ]
  },
  {
   "cell_type": "code",
   "execution_count": 5,
   "id": "045b1245",
   "metadata": {},
   "outputs": [],
   "source": [
    "# 페이스북 로그인 클릭 \n",
    "driver.find_element(By.XPATH, \n",
    "                    '//*[@id=\"s-250565617\"]/main/div[1]/div/div[1]/div/div/div[2]/div[2]/span/div[2]/button/div[2]/div[2]').click()"
   ]
  },
  {
   "cell_type": "code",
   "execution_count": 6,
   "id": "5d8afd7b",
   "metadata": {},
   "outputs": [
    {
     "name": "stdout",
     "output_type": "stream",
     "text": [
      "['41F7F0A4C045FA3DED9BD228E2372669', '7D5E440B7B3B6432F1F2253E5FBC24E5']\n"
     ]
    }
   ],
   "source": [
    "# 팝업창 생성 후 윈도우 값 출력 확인 \n",
    "print(driver.window_handles)"
   ]
  },
  {
   "cell_type": "code",
   "execution_count": 12,
   "id": "3f1579f0",
   "metadata": {},
   "outputs": [],
   "source": [
    "# 팝업창으로 전환 \n",
    "driver.switch_to.window(driver.window_handles[1])"
   ]
  },
  {
   "cell_type": "code",
   "execution_count": 13,
   "id": "ee77503c",
   "metadata": {},
   "outputs": [],
   "source": [
    "# 아이디 입력 \n",
    "facebook_email = driver.find_element(By.XPATH, '//*[@id=\"email\"]')\n",
    "facebook_email.send_keys(\"your email adress\")"
   ]
  },
  {
   "cell_type": "code",
   "execution_count": 14,
   "id": "a341e2df",
   "metadata": {},
   "outputs": [],
   "source": [
    "# 비번 입력 \n",
    "facebook_pw = driver.find_element(By.XPATH, '//*[@id=\"pass\"]')\n",
    "facebook_pw.send_keys(\"your password\")"
   ]
  },
  {
   "cell_type": "code",
   "execution_count": 15,
   "id": "8c004f87",
   "metadata": {},
   "outputs": [],
   "source": [
    "# 로그인 버튼 클릭 \n",
    "driver.find_element(By.XPATH, '//*[@id=\"content\"]/div[2]/a').click()"
   ]
  },
  {
   "cell_type": "code",
   "execution_count": 16,
   "id": "1f953f90",
   "metadata": {},
   "outputs": [],
   "source": [
    "# 로그인 팝업창 닫기\n",
    "driver.close()"
   ]
  },
  {
   "cell_type": "code",
   "execution_count": 17,
   "id": "2c764d35",
   "metadata": {},
   "outputs": [],
   "source": [
    "# 팝업창으로 전환 \n",
    "driver.switch_to.window(driver.window_handles[0])"
   ]
  }
 ],
 "metadata": {
  "kernelspec": {
   "display_name": "Python 3 (ipykernel)",
   "language": "python",
   "name": "python3"
  },
  "language_info": {
   "codemirror_mode": {
    "name": "ipython",
    "version": 3
   },
   "file_extension": ".py",
   "mimetype": "text/x-python",
   "name": "python",
   "nbconvert_exporter": "python",
   "pygments_lexer": "ipython3",
   "version": "3.8.12"
  }
 },
 "nbformat": 4,
 "nbformat_minor": 5
}
