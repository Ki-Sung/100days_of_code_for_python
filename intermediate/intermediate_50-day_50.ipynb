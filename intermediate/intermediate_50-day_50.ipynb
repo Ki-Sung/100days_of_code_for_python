{
 "cells": [
  {
   "cell_type": "markdown",
   "id": "cbd809ad",
   "metadata": {},
   "source": [
    "## 자동 틴더봇 만들기 \n",
    "- 틴더 스와핑 자동봇 만들기 \n",
    "    1. 틴더 가입하기 \n",
    "    2. 로그인 화면으로 이동하기\n",
    "    3. 페이스북 로그인하기 \n",
    "    4. 선택 팝업창 없애기 \n",
    "    5. 좋아요 누르기 \n",
    "- 주의 \n",
    "    - 스와핑은 하루에 100번까지만 가능! \n",
    "    - 해당 프로젝트를 진행시 꼭! 셀레니움 연습용이라고 말할 것!(오해를 사지말자)\n",
    "- 만약 신상정보를 사용하기 싫다면 AI가 만든 이미지를 사용해서 프로필 등록하기 \n",
    "    - https://www.thispersondoesnotexist.com/"
   ]
  },
  {
   "cell_type": "markdown",
   "id": "e76bb83b",
   "metadata": {},
   "source": [
    "### 1단계 - 틴더 계정만들기 \n",
    "1. 틴더 계정이 없다면 만들기.. 페이스북이나 구글 계정으로 로그인할 수 있는지 확인해보기. 만약 신상 정보를 사용하기 싫다면, 틴더를 사용하는 친구에게 부탁하거나 페이스북 계정을 새로 만든 후 https://www.thispersondoesnotexist.com/에서 AI가 만든 이미지를 사용하기 \n",
    "2.프로필을 스와이핑하는 과정을 직접 진행하고, 어떤 요소를 코드로 작업해야 하는지 확인하기"
   ]
  },
  {
   "cell_type": "markdown",
   "id": "69564bbf",
   "metadata": {},
   "source": [
    "### 2단계 - 로그인 화면으로 이동\n",
    "- 로그인할 때마다 휴대폰 번호로 이중 인증을 피하려면, 페이스북 또는 구글 계정으로 로그인을 해야한다. 구글 계정은 페이스북 게정보다 로그인 절차가 더 많으므로 해당 과제에서는 페이스북 계정을 사용 \n",
    "1. 셀레니움과 파이썬을 이용하여, 틴더 웹사이트(https://tinder.com/)로 가서 \"로그인\"을 클릭한 다음, \"Facebook 계정으로 로그인\"을 클릭. 만약 제대로 했다면, 페이스북 계정으로 로그인하기 위한 팝업이 뜬다. "
   ]
  },
  {
   "cell_type": "code",
   "execution_count": 1,
   "id": "3aa38804",
   "metadata": {},
   "outputs": [],
   "source": [
    "# 필요 모듈 볼러오기 \n",
    "import time\n",
    "from fake_useragent import UserAgent\n",
    "\n",
    "import undetected_chromedriver as uc \n",
    "from selenium.webdriver.common.by import By\n",
    "from selenium.webdriver.common.keys import Keys"
   ]
  },
  {
   "cell_type": "code",
   "execution_count": 2,
   "id": "0f8acdd5",
   "metadata": {},
   "outputs": [
    {
     "name": "stdout",
     "output_type": "stream",
     "text": [
      "Mozilla/4.0 (compatible; MSIE 5.5; Windows NT 6.0; SLCC1; .NET CLR 2.0.50727; .NET CLR 3.5.30729; .NET CLR 3.0.30618)\n"
     ]
    }
   ],
   "source": [
    "# fake user 사용 \n",
    "us = UserAgent(verify_ssl=False)\n",
    "userAgent = us.random\n",
    "print(userAgent)"
   ]
  },
  {
   "cell_type": "code",
   "execution_count": 3,
   "id": "16c67df8",
   "metadata": {},
   "outputs": [],
   "source": [
    "# 크롬드라이버 옵션 선언\n",
    "options = uc.ChromeOptions()\n",
    "\n",
    "# 크롬드라이버 headless 옵션 \n",
    "# options.headless=True\n",
    "# options.add_argument('--headless')   \n",
    "options.add_argument(\"--no-sandbox\")  \n",
    "\n",
    "options.add_argument(f'user-agent={userAgent}')  # fake user 설정 \n",
    "options.add_argument(\"--load-images=yes\")        # 이미지 로드 설정 \n",
    "options.add_argument(\"--disable-extensions\")     # 비활성화 - 어떤 것을 비활성화 하는지 잘 모르겠음 \n",
    "options.add_argument(\"--disable-gpu\")            # gpu 가속 사용 제외\n",
    "options.add_argument(\"--lang=ja-JP\")             # 가짜 플러그인 탑재 - 일본어 설정 \n",
    "driver = uc.Chrome(options=options)              # 설정된 크롬드라이버 선언\n",
    "\n",
    "# url 설정 \n",
    "url = \"https://tinder.com/ko\"\n",
    "driver.get(url)"
   ]
  },
  {
   "cell_type": "code",
   "execution_count": 4,
   "id": "b2118f66",
   "metadata": {},
   "outputs": [],
   "source": [
    "# 로그인 버튼 클릭 \n",
    "driver.find_element(By.XPATH, \n",
    "                    '//*[@id=\"s1477815459\"]/div/div[1]/div/main/div[1]/div/div/div/div/header/div/div[2]/div[2]/a/div[2]/div[2]').click()"
   ]
  },
  {
   "cell_type": "code",
   "execution_count": 5,
   "id": "045b1245",
   "metadata": {},
   "outputs": [],
   "source": [
    "# 페이스북 로그인 클릭 \n",
    "driver.find_element(By.XPATH, \n",
    "                    '//*[@id=\"s-250565617\"]/main/div[1]/div/div[1]/div/div/div[2]/div[2]/span/div[2]/button/div[2]/div[2]').click()"
   ]
  },
  {
   "cell_type": "code",
   "execution_count": null,
   "id": "96711041",
   "metadata": {},
   "outputs": [],
   "source": [
    "# 2단계 전체 코드\n",
    "# 필요 모듈 볼러오기 \n",
    "import time\n",
    "from fake_useragent import UserAgent\n",
    "\n",
    "import undetected_chromedriver as uc \n",
    "from selenium.webdriver.common.by import By\n",
    "from selenium.webdriver.common.keys import Keys\n",
    "\n",
    "# fake user 사용 \n",
    "us = UserAgent(verify_ssl=False)\n",
    "userAgent = us.random\n",
    "print(userAgent)\n",
    "\n",
    "# 크롬드라이버 옵션 선언\n",
    "options = uc.ChromeOptions()\n",
    "\n",
    "# 크롬드라이버 headless 옵션 \n",
    "# options.headless=True\n",
    "# options.add_argument('--headless')   \n",
    "options.add_argument(\"--no-sandbox\")  \n",
    "\n",
    "options.add_argument(f'user-agent={userAgent}')  # fake user 설정 \n",
    "options.add_argument(\"--load-images=yes\")        # 이미지 로드 설정 \n",
    "options.add_argument(\"--disable-extensions\")     # 비활성화 - 어떤 것을 비활성화 하는지 잘 모르겠음 \n",
    "options.add_argument(\"--disable-gpu\")            # gpu 가속 사용 제외\n",
    "options.add_argument(\"--lang=ja-JP\")             # 가짜 플러그인 탑재 - 일본어 설정 \n",
    "driver = uc.Chrome(options=options)              # 설정된 크롬드라이버 선언\n",
    "\n",
    "# url 설정 \n",
    "url = \"https://tinder.com\"\n",
    "driver.get(url)\n",
    "\n",
    "# 로그인 버튼 클릭 \n",
    "driver.find_element(By.XPATH, \n",
    "                    '//*[@id=\"s1477815459\"]/div/div[1]/div/main/div[1]/div/div/div/div/header/div/div[2]/div[2]/a/div[2]/div[2]').click()\n",
    "\n",
    "# 페이스북 로그인 클릭 \n",
    "driver.find_element(By.XPATH, \n",
    "                    '//*[@id=\"s-250565617\"]/main/div[1]/div/div[1]/div/div/div[2]/div[2]/span/div[2]/button/div[2]/div[2]').click()"
   ]
  },
  {
   "cell_type": "markdown",
   "id": "c3fdb736",
   "metadata": {},
   "source": [
    "### 3단계 - 페이스북 로그인 하기 \n",
    "1. 페이스북 로그인 페이지는 새 창으로 열린다. 셀레니움 코드가 새 창에서 동작하려면, 상위 창으로 포커스를 전환해야 한다. 셀레니움에서는 각 창을 식별할 수 있으며, 다음과 같은 코드로 모든 창을 가져올 수 있다. \n",
    "    - \"driver.window_handles\" 이 코드는 모든 창을 리스트형으로 반환하며, 첫 번째 창의 인덱스는 0이다. -> driver.window_handles[0]\n",
    "    - \"driver.window_handles[1]\" -> 첫 번째 창 \"driver.window_handles[0]\"에서 파업으로 뜬 새 창의 인덱스는 순차적으로 증가한다.\n",
    "    - 포커스를 페이스북 로그인 창으로 \"driver.switch_to.window(driver.window_handles[1])\"와 같이 전환할 수 있다. \n",
    "    - driver.title을 출력해서 현재 포커스가 있는 창이 페이스북 로그인 창인지 확인하기 \n",
    "2. 셀레니움에 대해 배운 내용을 토대로 페이스북 로그인 창에서 ID와 비밀번호를 입력한 뒤, 로그인하기 \n",
    "    - 주의: 코드 테스트를 위해 실제로 로그인하지 않고 시도만 계속하면, 페이스북이 로봇으로 감지하여 여러분의 계정을 잠글 수 있으니 주의. 테스트용 페이스북 계정을 만드는 것도 좋은 방법이다. 정상적으로 동작 시, 팝업창이 없어지고 틴더 페이지로 돌아와야 한다.\n",
    "3. 이 때 포커스를 base_window로 다시 전환해야 하고, 창의 제목을 출력해서 현재 셀레니움이 제어하는 창을 확인한다."
   ]
  },
  {
   "cell_type": "code",
   "execution_count": 6,
   "id": "9988d1db",
   "metadata": {},
   "outputs": [
    {
     "name": "stdout",
     "output_type": "stream",
     "text": [
      "['3D2D7DCFAE94A2774E67A4874C75D36E', '59D5CBAD578C5A09D1DCD2071B089A0C']\n"
     ]
    }
   ],
   "source": [
    "# 팝업창 생성 후 윈도우 값 출력 확인 \n",
    "print(driver.window_handles)"
   ]
  },
  {
   "cell_type": "code",
   "execution_count": 7,
   "id": "7e1a9015",
   "metadata": {},
   "outputs": [],
   "source": [
    "# 팝업창으로 전환 \n",
    "driver.switch_to.window(driver.window_handles[1])"
   ]
  },
  {
   "cell_type": "code",
   "execution_count": null,
   "id": "1f766841",
   "metadata": {},
   "outputs": [],
   "source": [
    "# 아이디 입력 \n",
    "facebook_email = driver.find_element(By.XPATH, '//*[@id=\"email\"]')\n",
    "facebook_email.send_keys(\"your email adress\")"
   ]
  },
  {
   "cell_type": "code",
   "execution_count": null,
   "id": "faa1673b",
   "metadata": {},
   "outputs": [],
   "source": [
    "# 비번 입력 \n",
    "facebook_pw = driver.find_element(By.XPATH, '//*[@id=\"pass\"]')\n",
    "facebook_pw.send_keys(\"your password\")"
   ]
  },
  {
   "cell_type": "code",
   "execution_count": 11,
   "id": "985601eb",
   "metadata": {},
   "outputs": [],
   "source": [
    "# 로그인 버튼 클릭 \n",
    "driver.find_element(By.XPATH, '//*[@id=\"u_0_0_OI\"]').click()"
   ]
  },
  {
   "cell_type": "code",
   "execution_count": 13,
   "id": "830bab5d",
   "metadata": {},
   "outputs": [],
   "source": [
    "# 로그인 팝업창 닫기\n",
    "driver.close()"
   ]
  },
  {
   "cell_type": "code",
   "execution_count": 14,
   "id": "d70ad519",
   "metadata": {},
   "outputs": [],
   "source": [
    "# 팝업창으로 전환 \n",
    "driver.switch_to.window(driver.window_handles[0])"
   ]
  },
  {
   "cell_type": "code",
   "execution_count": 15,
   "id": "655ccdaf",
   "metadata": {},
   "outputs": [],
   "source": [
    "# 만약 팝업이 나오면 허용 누르기 \n",
    "driver.find_element(By.XPATH, '//*[@id=\"s-250565617\"]/main/div[1]/div/div/div[3]/button[1]/div[2]/div[2]').click()"
   ]
  },
  {
   "cell_type": "code",
   "execution_count": null,
   "id": "1f01806d",
   "metadata": {},
   "outputs": [],
   "source": [
    "# 3단계 전체 코드 \n",
    "# 필요 모듈 볼러오기 \n",
    "import time\n",
    "from fake_useragent import UserAgent\n",
    "\n",
    "import undetected_chromedriver as uc \n",
    "from selenium.webdriver.common.by import By\n",
    "from selenium.webdriver.common.keys import Keys\n",
    "\n",
    "# 페이스북 계정 정보 \n",
    "FB_EMAIL = \"Your Email\"\n",
    "FB_PASSWORD = \"Your password\"\n",
    "\n",
    "# fake user 사용 \n",
    "us = UserAgent(verify_ssl=False)\n",
    "userAgent = us.random\n",
    "print(userAgent)\n",
    "\n",
    "# 크롬드라이버 옵션 선언\n",
    "options = uc.ChromeOptions()\n",
    "\n",
    "# 크롬드라이버 headless 옵션 \n",
    "# options.headless=True\n",
    "# options.add_argument('--headless')   \n",
    "options.add_argument(\"--no-sandbox\")  \n",
    "\n",
    "options.add_argument(f'user-agent={userAgent}')  # fake user 설정 \n",
    "options.add_argument(\"--load-images=yes\")        # 이미지 로드 설정 \n",
    "options.add_argument(\"--disable-extensions\")     # 비활성화 - 어떤 것을 비활성화 하는지 잘 모르겠음 \n",
    "options.add_argument(\"--disable-gpu\")            # gpu 가속 사용 제외\n",
    "options.add_argument(\"--lang=ja-JP\")             # 가짜 플러그인 탑재 - 일본어 설정 \n",
    "driver = uc.Chrome(options=options)              # 설정된 크롬드라이버 선언\n",
    "\n",
    "# url 설정 \n",
    "url = \"https://tinder.com/ko\"\n",
    "driver.get(url)\n",
    "\n",
    "time.sleep(2)\n",
    "\n",
    "# 로그인 버튼 클릭 \n",
    "login_button = driver.find_element(By.XPATH, \n",
    "                    '//*[@id=\"s1477815459\"]/div/div[1]/div/main/div[1]/div/div/div/div/header/div/div[2]/div[2]/a/div[2]/div[2]')\n",
    "login_button.click()\n",
    "\n",
    "# 페이스북 로그인 클릭 \n",
    "fb_login = driver.find_element(By.XPATH, \n",
    "                    '//*[@id=\"s-250565617\"]/main/div[1]/div/div[1]/div/div/div[2]/div[2]/span/div[2]/button/div[2]/div[2]')\n",
    "fb_login.click()\n",
    "\n",
    "time.sleep(2)\n",
    "\n",
    "# 팝업창으로 전환 \n",
    "base_window = driver.window_handles[0]\n",
    "fb_login_window = driver.window_handles[1]\n",
    "driver.switch_to.window(fb_login_window)\n",
    "\n",
    "# 아이디 입력 \n",
    "facebook_email = driver.find_element(By.XPATH, '//*[@id=\"email\"]')\n",
    "facebook_email.send_keys(FB_EMAIL)\n",
    "\n",
    "# 비번 입력 \n",
    "facebook_pw = driver.find_element(By.XPATH, '//*[@id=\"pass\"]')\n",
    "facebook_pw.send_keys(FB_PASSWORD)\n",
    "\n",
    "# 로그인 버튼 클릭 \n",
    "facebook_pw.send_keys(Keys.ENTER)\n",
    "\n",
    "# 로그인 팝업창 닫기\n",
    "driver.close()\n",
    "\n",
    "# 팝업창으로 전환 \n",
    "driver.switch_to.window(base_window)"
   ]
  }
 ],
 "metadata": {
  "kernelspec": {
   "display_name": "Python 3 (ipykernel)",
   "language": "python",
   "name": "python3"
  },
  "language_info": {
   "codemirror_mode": {
    "name": "ipython",
    "version": 3
   },
   "file_extension": ".py",
   "mimetype": "text/x-python",
   "name": "python",
   "nbconvert_exporter": "python",
   "pygments_lexer": "ipython3",
   "version": "3.8.12"
  }
 },
 "nbformat": 4,
 "nbformat_minor": 5
}
