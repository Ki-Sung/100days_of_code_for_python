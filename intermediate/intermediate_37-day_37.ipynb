{
 "cells": [
  {
   "cell_type": "markdown",
   "id": "a7c48425",
   "metadata": {},
   "source": [
    "## 헤더를 이용한 고급 인증 방식과 POST/PUT/DELETE Requests에 대해 배우기 \n",
    "- 헤더를 이용한 고급 인증 방식 배우기 \n",
    "- API 방식인 POST / PUT / DELETE 방식 배우기 \n",
    "- 위 내용을 배우고 나면 습관 추적기 구축 해보기 (디지털 버전으로)\n",
    "    - github 잔디 심기와 비슷 \n",
    "    - Pixela API 사용 "
   ]
  },
  {
   "cell_type": "markdown",
   "id": "4cf6a3fc",
   "metadata": {},
   "source": [
    "### 1. HTTP POST Requests \n",
    "- GET Request: 우리가 외부 시스템에 특정 데이터를 요청, 응답으로 데이터를 주고 받을 때 사용 -> 오로지 데이터를 읽을 때만 사용, 수정할 때는 사용하지 않음(그래서 주로 데이터를 읽거나 ㅇ검색 할 때 사용)\n",
    "- POST Request: 우리가 외부 시으템에 어떤 데이터를 요청, 응답으로 데이터를 주고 받을 시, 그것이 성공 했는지 하지 않았는지 보장하지 않음 -> 주로 새로운 리소스를 생성할 떄 사용 \n",
    "- PUT Request: 외부 서버에서 단순히 데이터를 업데이트할 때 사용함.\n",
    "- DELTED Request: 외부 서버에서 단순히 데이터를 삭제할 때 사용함."
   ]
  },
  {
   "cell_type": "markdown",
   "id": "f52adede",
   "metadata": {},
   "source": [
    "#### Pixela API 사용 \n",
    "- [Pixela page](https://pixe.la/index.html)\n",
    "- Pixela API를 이용하여, 습관 추적기 만들기 \n",
    "- [Pixela API Document](https://docs.pixe.la/)"
   ]
  },
  {
   "cell_type": "markdown",
   "id": "e959a3f4",
   "metadata": {},
   "source": [
    "#### step 1. 사용자 계정 생성 \n",
    "- document - https://docs.pixe.la/entry/post-user"
   ]
  },
  {
   "cell_type": "code",
   "execution_count": 4,
   "id": "033865bc",
   "metadata": {},
   "outputs": [
    {
     "name": "stdout",
     "output_type": "stream",
     "text": [
      "{\"message\":\"Success. Let's visit https://pixe.la/@kisung , it is your profile page!\",\"isSuccess\":true}\n"
     ]
    }
   ],
   "source": [
    "import requests\n",
    "\n",
    "pixela_endpoint = \"https://pixe.la/v1/users\"\n",
    "\n",
    "user_params = {\n",
    "    \"token\": \"your key\",                               # 토큰 생성 - 8자에서 128자 사이, 내가 결정할 수 있음 \n",
    "    \"username\": \"your name\",                           # 유저 이름 \n",
    "    \"agreeTermsOfService\": \"yes\",                      # 서비스 이용 동의 여부 \n",
    "    \"notMinor\": \"yes\",                                 # 미성년자 여부, 아니라면 yes\n",
    "}\n",
    "\n",
    "response = requests.post(url=pixela_endpoint, json=user_params)   # post 방식으로 엔드포인트 url과 전송할 JOSN 데이터 지정\n",
    "print(response.text)"
   ]
  },
  {
   "cell_type": "markdown",
   "id": "3114898d",
   "metadata": {},
   "source": [
    "### 2. HTTP Header를 이용한 고급 인증"
   ]
  },
  {
   "cell_type": "markdown",
   "id": "ed69f834",
   "metadata": {},
   "source": [
    "#### step 2. 사용자 그래프 pixela 생성 \n",
    "- document - https://docs.pixe.la/entry/post-graph"
   ]
  },
  {
   "cell_type": "code",
   "execution_count": 5,
   "id": "e622947c",
   "metadata": {},
   "outputs": [
    {
     "name": "stdout",
     "output_type": "stream",
     "text": [
      "{\"message\":\"User `kisung` does not exist or the token is wrong.\",\"isSuccess\":false}\n"
     ]
    }
   ],
   "source": [
    "import requests\n",
    "\n",
    "USER_NAME = \"your name\"                         # pixela 유저 이름\n",
    "TOKEN = \"your key\"                              # pixela 토큰 \n",
    "\n",
    "graph_endpoint = f\"https://pixe.la/v1/users/{USER_NAME}/graphs\"   # pixela 엔드포인트 URL\n",
    "\n",
    "# 그래프 생성을 위해 요청할 key 값들 \n",
    "graph_config = {\n",
    "    \"id\":\"graph1\",                 # 그래프 식별을 위한 ID \n",
    "    \"name\": \"Runnig Graph\",        # 픽셀화 그래프 이름 \n",
    "    \"unit\": \"Km\",                  # 기록되는 단위 (커밋, 킬로그램, 칼로리 등)\n",
    "    \"type\": \"float\",               # 그래프 처리 수량 (int와 float만 가능)\n",
    "    \"color\": \"sora\"                # 컬러 설정 (일본 사람이 만들어 일본어로 색상 이름이 되어있으니 오탈자 주의)\n",
    "}\n",
    "\n",
    "# 지정한 엔드포트, key 값으로 POST 방식으로 그래프 요청 받기 \n",
    "response = requests.post(url=graph_endpoint, json=graph_config)  \n",
    "print(response.text)               # 요청 후 결과 메시지 출력 "
   ]
  },
  {
   "cell_type": "markdown",
   "id": "b44f5e39",
   "metadata": {},
   "source": [
    "- 이미 사용자 계정을 생성했음에도 불구하고 계정이 없거나 토큰이 잘못되었다라는 메시지를 뱉어낸다. 하지만 사용자 계정 생성시 우리는 패스워드, 토큰을 제공하지 않았다. \n",
    "- 이는 API Body key에서만 API 요청을 한 것이고, 여기서 부터는 Header를 이용해야 한다. 여기 pixela API에서는 X-USER-TOKEN을 제공해야한다. "
   ]
  },
  {
   "cell_type": "markdown",
   "id": "ab276a90",
   "metadata": {},
   "source": [
    "- 그럼 Header란 무엇일까? Header는 클라이언트와 서버가 요청 또는 응답으로 부가적인 정보를 전송할 수 있도록 해주는 역할을 한다. 즉 요청, 응답을 위한 부가정보라고 보면 된다."
   ]
  },
  {
   "cell_type": "code",
   "execution_count": 6,
   "id": "55359b62",
   "metadata": {},
   "outputs": [
    {
     "name": "stdout",
     "output_type": "stream",
     "text": [
      "{\"message\":\"Success.\",\"isSuccess\":true}\n"
     ]
    }
   ],
   "source": [
    "# Header에서 인증 추가\n",
    "import requests\n",
    "\n",
    "USER_NAME = \"your name\"                         # pixela 유저 이름\n",
    "TOKEN = \"your key\"                              # pixela 토큰 \n",
    "\n",
    "graph_endpoint = f\"https://pixe.la/v1/users/{USER_NAME}/graphs\"   # pixela 엔드포인트 URL\n",
    "\n",
    "# 그래프 생성을 위해 요청할 key 값들 설정 \n",
    "graph_config = {\n",
    "    \"id\":\"graph1\",                 # 그래프 식별을 위한 ID \n",
    "    \"name\": \"Runnig Graph\",        # 픽셀화 그래프 이름 \n",
    "    \"unit\": \"Km\",                  # 기록되는 단위 (커밋, 킬로그램, 칼로리 등)\n",
    "    \"type\": \"float\",               # 그래프 처리 수량 (int와 float만 가능)\n",
    "    \"color\": \"sora\"                # 컬러 설정 (일본 사람이 만들어 일본어로 색상 이름이 되어있으니 오탈자 주의)\n",
    "}\n",
    "\n",
    "# 헤더 값 설정\n",
    "headers = {\n",
    "    \"X-USER-TOKEN\": TOKEN          # X-USER-TOKEN 설정 \n",
    "}\n",
    "\n",
    "# 지정한 키값들로 데이터(그래프)요청 받기 - POST 방식으로 \n",
    "response = requests.post( \n",
    "                          url=graph_endpoint,  # 엔드포인트 URL \n",
    "                          json=graph_config,   # 그래프 생성을 위한 설정 값들 \n",
    "                          headers=headers      # header 값 설정 \n",
    "                        )\n",
    "\n",
    "print(response.text)        # 요청 후 결과 메시지 출력"
   ]
  },
  {
   "cell_type": "markdown",
   "id": "bbae3692",
   "metadata": {},
   "source": [
    "#### step 3 그래프 요청 받기 \n",
    "- 브라우저에  \"https://pixe.la/v1/users/[username]/graphs/[your_id].html\"입력한다.\n",
    "- 나의 그래프:  https://pixe.la/v1/users/kisung/graphs/graph1.html"
   ]
  },
  {
   "cell_type": "markdown",
   "id": "5f119360",
   "metadata": {},
   "source": [
    "### 3. Post Request로 습관 추적기에 픽셀 추가하기 \n",
    "- Post a pixel Document 참조: https://docs.pixe.la/entry/post-pixel"
   ]
  },
  {
   "cell_type": "code",
   "execution_count": 7,
   "id": "96b6bf6b",
   "metadata": {},
   "outputs": [
    {
     "name": "stdout",
     "output_type": "stream",
     "text": [
      "{\"message\":\"Success.\",\"isSuccess\":true}\n"
     ]
    }
   ],
   "source": [
    "import requests\n",
    "\n",
    "GRAPH_ID = \"graph1\"                             # 그래프 ID\n",
    "USER_NAME = \"your name\"                         # pixela 유저 이름\n",
    "TOKEN = \"your key\"                              # pixela 토큰 \n",
    "\n",
    "pixel_endpoint = f\"https://pixe.la/v1/users/{USER_NAME}/graphs/{GRAPH_ID}\"\n",
    "\n",
    "# 그래프 생성을 위해 요청할 key 값들 설정 \n",
    "pixel_config = {\n",
    "    \"date\":\"20230815\",       # 날짜(string) - yyyymmdd 형식 \n",
    "    \"quantity\": \"8.15\",      # 픽셀 개수(string) - int, float 형식 \n",
    "}\n",
    "\n",
    "# 헤더 값 설정\n",
    "headers = {\n",
    "    \"X-USER-TOKEN\": TOKEN          # X-USER-TOKEN 설정 \n",
    "}\n",
    "\n",
    "# 지정한 키값들로 데이터(그래프)요청 받기 - POST 방식으로 \n",
    "response = requests.post( \n",
    "                          url=pixel_endpoint,  # 엔드포인트 URL \n",
    "                          json=pixel_config,   # 그래프 생성을 위한 설정 값들 \n",
    "                          headers=headers      # header 값 설정 \n",
    "                        )\n",
    "\n",
    "print(response.text)        # 요청 후 결과 메시지 출력"
   ]
  },
  {
   "cell_type": "code",
   "execution_count": null,
   "id": "0dac5ed2",
   "metadata": {},
   "outputs": [],
   "source": []
  }
 ],
 "metadata": {
  "kernelspec": {
   "display_name": "Python 3 (ipykernel)",
   "language": "python",
   "name": "python3"
  },
  "language_info": {
   "codemirror_mode": {
    "name": "ipython",
    "version": 3
   },
   "file_extension": ".py",
   "mimetype": "text/x-python",
   "name": "python",
   "nbconvert_exporter": "python",
   "pygments_lexer": "ipython3",
   "version": "3.8.12"
  }
 },
 "nbformat": 4,
 "nbformat_minor": 5
}
