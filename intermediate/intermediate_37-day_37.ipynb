{
 "cells": [
  {
   "cell_type": "markdown",
   "id": "5f7d441a",
   "metadata": {},
   "source": [
    "## 헤더를 이용한 고급 인증 방식과 POST/PUT/DELETE Requests에 대해 배우기 \n",
    "- 헤더를 이용한 고급 인증 방식 배우기 \n",
    "- API 방식인 POST / PUT / DELETE 방식 배우기 \n",
    "- 위 내용을 배우고 나면 습관 추적기 구축 해보기 (디지털 버전으로)\n",
    "    - github 잔디 심기와 비슷 \n",
    "    - Pixela API 사용 "
   ]
  },
  {
   "cell_type": "markdown",
   "id": "6fce8235",
   "metadata": {},
   "source": [
    "### 1. HTTP POST Requests \n",
    "- GET Request: 우리가 외부 시스템에 특정 데이터를 요청, 응답으로 데이터를 주고 받을 때 사용 -> 오로지 데이터를 읽을 때만 사용, 수정할 때는 사용하지 않음(그래서 주로 데이터를 읽거나 ㅇ검색 할 때 사용)\n",
    "- POST Request: 우리가 외부 시으템에 어떤 데이터를 요청, 응답으로 데이터를 주고 받을 시, 그것이 성공 했는지 하지 않았는지 보장하지 않음 -> 주로 새로운 리소스를 생성할 떄 사용 \n",
    "- PUT Request: 외부 서버에서 단순히 데이터를 업데이트할 때 사용함.\n",
    "- DELTED Request: 외부 서버에서 단순히 데이터를 삭제할 때 사용함."
   ]
  },
  {
   "cell_type": "markdown",
   "id": "bfd2f643",
   "metadata": {},
   "source": [
    "#### Pixela API 사용 \n",
    "- [Pixela page](https://pixe.la/index.html)\n",
    "- Pixela API를 이용하여, 습관 추적기 만들기 \n",
    "- [Pixela API Document](https://docs.pixe.la/)"
   ]
  },
  {
   "cell_type": "markdown",
   "id": "bd9c0c53",
   "metadata": {},
   "source": [
    "#### step 1. 사용자 계정 생성 "
   ]
  },
  {
   "cell_type": "code",
   "execution_count": 4,
   "id": "35ab19b7",
   "metadata": {},
   "outputs": [
    {
     "name": "stdout",
     "output_type": "stream",
     "text": [
      "{\"message\":\"Success. Let's visit https://pixe.la/@kisung , it is your profile page!\",\"isSuccess\":true}\n"
     ]
    }
   ],
   "source": [
    "import requests\n",
    "\n",
    "pixela_endpoint = \"https://pixe.la/v1/users\"\n",
    "\n",
    "user_params = {\n",
    "    \"token\": \"your key\",                               # 토큰 생성 - 8자에서 128자 사이, 내가 결정할 수 있음 \n",
    "    \"username\": \"your name\",                           # 유저 이름 \n",
    "    \"agreeTermsOfService\": \"yes\",                      # 서비스 이용 동의 여부 \n",
    "    \"notMinor\": \"yes\",                                 # 미성년자 여부, 아니라면 yes\n",
    "}\n",
    "\n",
    "response = requests.post(url=pixela_endpoint, json=user_params)   # post 방식으로 엔드포인트 url과 전송할 JOSN 데이터 지정\n",
    "print(response.text)"
   ]
  },
  {
   "cell_type": "code",
   "execution_count": null,
   "id": "3620055b",
   "metadata": {},
   "outputs": [],
   "source": []
  }
 ],
 "metadata": {
  "kernelspec": {
   "display_name": "Python 3 (ipykernel)",
   "language": "python",
   "name": "python3"
  },
  "language_info": {
   "codemirror_mode": {
    "name": "ipython",
    "version": 3
   },
   "file_extension": ".py",
   "mimetype": "text/x-python",
   "name": "python",
   "nbconvert_exporter": "python",
   "pygments_lexer": "ipython3",
   "version": "3.8.12"
  }
 },
 "nbformat": 4,
 "nbformat_minor": 5
}
