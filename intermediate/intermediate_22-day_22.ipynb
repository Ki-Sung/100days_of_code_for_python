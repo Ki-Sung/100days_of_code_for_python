{
 "cells": [
  {
   "cell_type": "markdown",
   "id": "8c323156",
   "metadata": {},
   "source": [
    "## Pong Game 만들기 \n",
    "- 구조 구성하기 \n",
    "1. 화면 구성하기 \n",
    "2. 패들 만들어서 움직이게 하기 \n",
    "3. 2인용 다른 패들 만들기 \n",
    "4. 공을 만들어서 움직이게 하기 \n",
    "5. 공이 벽과 충돌 및 감지 설정하기 \n",
    "6. 패들과의 충돌 감지 설정 \n",
    "7. 공을 놓쳤을 때의 감지 설정\n",
    "8. 점수판 기록 설정 "
   ]
  },
  {
   "cell_type": "markdown",
   "id": "201dca12",
   "metadata": {},
   "source": [
    "### 1. 화면 구성 하기 \n",
    "- 화면 높이 600픽셀, 너비 800픽셀 \n",
    "- 배경은 블랙!"
   ]
  },
  {
   "cell_type": "code",
   "execution_count": null,
   "id": "9e7e8a48",
   "metadata": {},
   "outputs": [],
   "source": [
    "# 07_pong_game.py \n",
    "\n",
    "# 모듈 불러오기 \n",
    "from turtle import Turtle, Screen\n",
    "\n",
    "# Screen 설정\n",
    "screen = Screen()     # 객체선언 \n",
    "screen.setup(width=800, height=600)    # Screen 크기 설정 (800X600)\n",
    "screen.bgcolor('black')                # Screen 백그라운드 설정 (블랙)\n",
    "screen.title('Pong')                   # 게임 타이틀 설정\n",
    "\n",
    "\n",
    "# 창 닫힘 설정\n",
    "screen.exitonclick()                    # 커서를 누르면 종료"
   ]
  },
  {
   "cell_type": "code",
   "execution_count": null,
   "id": "25617b89",
   "metadata": {},
   "outputs": [],
   "source": []
  }
 ],
 "metadata": {
  "kernelspec": {
   "display_name": "Python 3 (ipykernel)",
   "language": "python",
   "name": "python3"
  },
  "language_info": {
   "codemirror_mode": {
    "name": "ipython",
    "version": 3
   },
   "file_extension": ".py",
   "mimetype": "text/x-python",
   "name": "python",
   "nbconvert_exporter": "python",
   "pygments_lexer": "ipython3",
   "version": "3.8.12"
  }
 },
 "nbformat": 4,
 "nbformat_minor": 5
}
