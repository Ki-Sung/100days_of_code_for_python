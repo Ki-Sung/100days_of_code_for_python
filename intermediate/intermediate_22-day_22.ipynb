{
 "cells": [
  {
   "cell_type": "markdown",
   "id": "525b7c9c",
   "metadata": {},
   "source": [
    "## Pong Game 만들기 \n",
    "- 구조 구성하기 \n",
    "1. 화면 구성하기 \n",
    "2. 패들 만들어서 움직이게 하기 \n",
    "3. 2인용 다른 패들 만들기 \n",
    "4. 공을 만들어서 움직이게 하기 \n",
    "5. 공이 벽과 충돌 및 감지 설정하기 \n",
    "6. 패들과의 충돌 감지 설정 \n",
    "7. 공을 놓쳤을 때의 감지 설정\n",
    "8. 점수판 기록 설정 "
   ]
  },
  {
   "cell_type": "markdown",
   "id": "f3bc2460",
   "metadata": {},
   "source": [
    "### 1. 화면 구성 하기 \n",
    "- 화면 높이 600픽셀, 너비 800픽셀 \n",
    "- 배경은 블랙!"
   ]
  },
  {
   "cell_type": "code",
   "execution_count": null,
   "id": "1df937e3",
   "metadata": {},
   "outputs": [],
   "source": [
    "# 07_pong_game.py \n",
    "\n",
    "# 모듈 불러오기 \n",
    "from turtle import Turtle, Screen\n",
    "\n",
    "# Screen 설정\n",
    "screen = Screen()     # 객체선언 \n",
    "screen.setup(width=800, height=600)    # Screen 크기 설정 (800X600)\n",
    "screen.bgcolor('black')                # Screen 백그라운드 설정 (블랙)\n",
    "screen.title('Pong')                   # 게임 타이틀 설정\n",
    "\n",
    "\n",
    "# 창 닫힘 설정\n",
    "screen.exitonclick()                    # 커서를 누르면 종료"
   ]
  },
  {
   "cell_type": "markdown",
   "id": "faa747ad",
   "metadata": {},
   "source": [
    "### 2. 패들만들어서 움직이게 하기 \n",
    "- 오른쪽 패들 설정\n",
    "    - width = 20\n",
    "    - height = 100\n",
    "    - x_pos = 350\n",
    "    - y_pos = 0"
   ]
  },
  {
   "cell_type": "code",
   "execution_count": null,
   "id": "6f92e36e",
   "metadata": {},
   "outputs": [],
   "source": [
    "# 07_pong_game.py \n",
    "# 1. paddle 만들기 및 paddle 동작하게 만들기 \n",
    "\n",
    "# 모듈 불러오기 \n",
    "from turtle import Turtle, Screen\n",
    "# from pong_game_options.pong import Pong\n",
    "\n",
    "# Screen 설정\n",
    "screen = Screen()     # 객체선언 \n",
    "screen.setup(width=800, height=600)    # Screen 크기 설정 (800X600)\n",
    "screen.bgcolor('black')                # Screen 백그라운드 설정 (블랙)\n",
    "screen.title('Pong')                   # 게임 타이틀 설정 \n",
    "\n",
    "# 오른쪽 paddle 설정 \n",
    "paddle = Turtle()                               # Turtle 객체 선언 \n",
    "paddle.shape('square')                          # turtle 모양 설정 \n",
    "paddle.color('white')                           # paddle 색상 설정 \n",
    "paddle.shapesize(stretch_wid=5, stretch_len=1)  # paddle 사이즈 설정 \n",
    "paddle.penup()                                  # 선 삭제 \n",
    "paddle.goto(350, 0)                             # paddel 위치 설정\n",
    "\n",
    "# 키 동작을 위한 함수 \n",
    "def go_up():\n",
    "    new_y = paddle.ycor() + 20          # x의 위치는 고정이니 y값만 설정\n",
    "    paddle.goto(paddle.xcor(), new_y)   # x, y 값 기준으로 위치 설정\n",
    "    \n",
    "def go_down():\n",
    "    new_y = paddle.ycor() - 20          # x의 위치는 고정이니 y값만 설정\n",
    "    paddle.goto(paddle.xcor(), new_y)   # x, y 값 기준으로 위치 설정\n",
    "\n",
    "#키 설정 \n",
    "screen.listen()                    # 키 이벤트를 위한 설정으로 객체 선언 \n",
    "screen.onkey(go_up, \"Up\")          # 방향키 위를 눌렀을 때 위로 20씩증가  \n",
    "screen.onkey(go_down, \"Down\")      # 방향키 아래를 눌렀을 때 아래로 20씩 증가 \n",
    "\n",
    "# 창 닫힘 설정\n",
    "screen.exitonclick()                    # 커서를 누르면 종료"
   ]
  },
  {
   "cell_type": "code",
   "execution_count": null,
   "id": "99bc332f",
   "metadata": {},
   "outputs": [],
   "source": [
    "# 07_pong_game.py \n",
    "# 2. paddle 오른쪽 위치 설정\n",
    "\n",
    "# 모듈 불러오기 \n",
    "from turtle import Turtle, Screen\n",
    "# from pong_game_options.pong import Pong\n",
    "\n",
    "# Screen 설정\n",
    "screen = Screen()     # 객체선언 \n",
    "screen.setup(width=800, height=600)    # Screen 크기 설정 (800X600)\n",
    "screen.bgcolor('black')                # Screen 백그라운드 설정 (블랙)\n",
    "screen.title('Pong')                   # 게임 타이틀 설정 \n",
    "screen.tracer(0)                       # 애니메이션 제어 설정 -> 0: 애니메이션 끄기\n",
    "\n",
    "# 오른쪽 paddle 설정 \n",
    "paddle = Turtle()                               # Turtle 객체 선언 \n",
    "paddle.shape('square')                          # turtle 모양 설정 \n",
    "paddle.color('white')                           # paddle 색상 설정 \n",
    "paddle.shapesize(stretch_wid=5, stretch_len=1)  # paddle 사이즈 설정 \n",
    "paddle.penup()                                  # 선 삭제 \n",
    "paddle.goto(350, 0)                             # paddel 위치 설정\n",
    "\n",
    "# 키 동작을 위한 함수 \n",
    "def go_up():\n",
    "    new_y = paddle.ycor() + 20          # x의 위치는 고정이니 y값만 설정\n",
    "    paddle.goto(paddle.xcor(), new_y)   # x, y 값 기준으로 위치 설정\n",
    "    \n",
    "def go_down():\n",
    "    new_y = paddle.ycor() - 20          # x의 위치는 고정이니 y값만 설정\n",
    "    paddle.goto(paddle.xcor(), new_y)   # x, y 값 기준으로 위치 설정\n",
    "\n",
    "#키 설정 \n",
    "screen.listen()                    # 키 이벤트를 위한 설정으로 객체 선언 \n",
    "screen.onkey(go_up, \"Up\")          # 방향키 위를 눌렀을 때 위로 20씩증가  \n",
    "screen.onkey(go_down, \"Down\")      # 방향키 아래를 눌렀을 때 아래로 20씩 증가 \n",
    "\n",
    "# game 실행을 위한 반복문 제어\n",
    "game_is_on = True                  # 게임 실행중을 위한 설정 \n",
    "while game_is_on:                  # 게임 실행중일 때\n",
    "    screen.update()                # screen 업데이트\n",
    "\n",
    "# 창 닫힘 설정\n",
    "screen.exitonclick()                    # 커서를 누르면 종료"
   ]
  },
  {
   "cell_type": "code",
   "execution_count": null,
   "id": "688dc148",
   "metadata": {},
   "outputs": [],
   "source": []
  }
 ],
 "metadata": {
  "kernelspec": {
   "display_name": "Python 3 (ipykernel)",
   "language": "python",
   "name": "python3"
  },
  "language_info": {
   "codemirror_mode": {
    "name": "ipython",
    "version": 3
   },
   "file_extension": ".py",
   "mimetype": "text/x-python",
   "name": "python",
   "nbconvert_exporter": "python",
   "pygments_lexer": "ipython3",
   "version": "3.8.12"
  }
 },
 "nbformat": 4,
 "nbformat_minor": 5
}
