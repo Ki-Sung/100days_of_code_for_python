{
 "cells": [
  {
   "cell_type": "markdown",
   "id": "b0c0f090",
   "metadata": {},
   "source": [
    "## 오류, 예외, JSON 데이터: 패스워드 개선하기 \n",
    "- 파이썬에서 사용할수 있는 오류, 예외처리 그리고 JSON 데이터의 저정과 로딩 방법들을 배운다. \n",
    "- 오류, 예외처리, JSON 데이터에 대해 배운 뒤 29일차에 했던 Password manager를 개선하는데 활용한다."
   ]
  },
  {
   "cell_type": "code",
   "execution_count": null,
   "id": "19581643",
   "metadata": {},
   "outputs": [],
   "source": []
  }
 ],
 "metadata": {
  "kernelspec": {
   "display_name": "Python 3 (ipykernel)",
   "language": "python",
   "name": "python3"
  },
  "language_info": {
   "codemirror_mode": {
    "name": "ipython",
    "version": 3
   },
   "file_extension": ".py",
   "mimetype": "text/x-python",
   "name": "python",
   "nbconvert_exporter": "python",
   "pygments_lexer": "ipython3",
   "version": "3.8.12"
  }
 },
 "nbformat": 4,
 "nbformat_minor": 5
}
