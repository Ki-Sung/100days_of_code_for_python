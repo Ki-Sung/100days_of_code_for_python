{
 "cells": [
  {
   "cell_type": "markdown",
   "id": "b0c0f090",
   "metadata": {},
   "source": [
    "## 오류, 예외, JSON 데이터: 패스워드 개선하기 \n",
    "- 파이썬에서 사용할수 있는 오류, 예외처리 그리고 JSON 데이터의 저정과 로딩 방법들을 배운다. \n",
    "- 오류, 예외처리, JSON 데이터에 대해 배운 뒤 29일차에 했던 Password manager를 개선하는데 활용한다."
   ]
  },
  {
   "cell_type": "markdown",
   "id": "c28ae0fe",
   "metadata": {},
   "source": [
    "### 1. 예외 포착하기 - try, catch, except, finally 패턴"
   ]
  },
  {
   "cell_type": "code",
   "execution_count": 1,
   "id": "19581643",
   "metadata": {},
   "outputs": [
    {
     "ename": "FileNotFoundError",
     "evalue": "[Errno 2] No such file or directory: 'a_file.txt'",
     "output_type": "error",
     "traceback": [
      "\u001b[0;31m---------------------------------------------------------------------------\u001b[0m",
      "\u001b[0;31mFileNotFoundError\u001b[0m                         Traceback (most recent call last)",
      "Input \u001b[0;32mIn [1]\u001b[0m, in \u001b[0;36m<cell line: 1>\u001b[0;34m()\u001b[0m\n\u001b[0;32m----> 1\u001b[0m \u001b[38;5;28;01mwith\u001b[39;00m \u001b[38;5;28;43mopen\u001b[39;49m\u001b[43m(\u001b[49m\u001b[38;5;124;43m\"\u001b[39;49m\u001b[38;5;124;43ma_file.txt\u001b[39;49m\u001b[38;5;124;43m\"\u001b[39;49m\u001b[43m)\u001b[49m \u001b[38;5;28;01mas\u001b[39;00m file:\n\u001b[1;32m      2\u001b[0m     file\u001b[38;5;241m.\u001b[39mread\n",
      "\u001b[0;31mFileNotFoundError\u001b[0m: [Errno 2] No such file or directory: 'a_file.txt'"
     ]
    }
   ],
   "source": [
    "# 들어가기전 예제(에러 종류) - FileNotFound\n",
    "with open(\"a_file.txt\") as file:\n",
    "    file.read"
   ]
  },
  {
   "cell_type": "code",
   "execution_count": 2,
   "id": "6c073b2c",
   "metadata": {},
   "outputs": [
    {
     "ename": "KeyError",
     "evalue": "'non_existent_key'",
     "output_type": "error",
     "traceback": [
      "\u001b[0;31m---------------------------------------------------------------------------\u001b[0m",
      "\u001b[0;31mKeyError\u001b[0m                                  Traceback (most recent call last)",
      "Input \u001b[0;32mIn [2]\u001b[0m, in \u001b[0;36m<cell line: 3>\u001b[0;34m()\u001b[0m\n\u001b[1;32m      1\u001b[0m \u001b[38;5;66;03m#  들어가기전 예제 - Key error \u001b[39;00m\n\u001b[1;32m      2\u001b[0m a_dictionary \u001b[38;5;241m=\u001b[39m {\u001b[38;5;124m\"\u001b[39m\u001b[38;5;124mkey\u001b[39m\u001b[38;5;124m\"\u001b[39m: \u001b[38;5;124m\"\u001b[39m\u001b[38;5;124mvalue\u001b[39m\u001b[38;5;124m\"\u001b[39m}\n\u001b[0;32m----> 3\u001b[0m value \u001b[38;5;241m=\u001b[39m \u001b[43ma_dictionary\u001b[49m\u001b[43m[\u001b[49m\u001b[38;5;124;43m\"\u001b[39;49m\u001b[38;5;124;43mnon_existent_key\u001b[39;49m\u001b[38;5;124;43m\"\u001b[39;49m\u001b[43m]\u001b[49m\n",
      "\u001b[0;31mKeyError\u001b[0m: 'non_existent_key'"
     ]
    }
   ],
   "source": [
    "# 들어가기전 예제(에러 종류) - KeyError \n",
    "a_dictionary = {\"key\": \"value\"}\n",
    "value = a_dictionary[\"non_existent_key\"]"
   ]
  },
  {
   "cell_type": "code",
   "execution_count": 3,
   "id": "bccbe17b",
   "metadata": {},
   "outputs": [
    {
     "ename": "IndexError",
     "evalue": "list index out of range",
     "output_type": "error",
     "traceback": [
      "\u001b[0;31m---------------------------------------------------------------------------\u001b[0m",
      "\u001b[0;31mIndexError\u001b[0m                                Traceback (most recent call last)",
      "Input \u001b[0;32mIn [3]\u001b[0m, in \u001b[0;36m<cell line: 3>\u001b[0;34m()\u001b[0m\n\u001b[1;32m      1\u001b[0m \u001b[38;5;66;03m#  들어가기전 예제 - IndexError\u001b[39;00m\n\u001b[1;32m      2\u001b[0m fruit_list \u001b[38;5;241m=\u001b[39m [\u001b[38;5;124m\"\u001b[39m\u001b[38;5;124mApple\u001b[39m\u001b[38;5;124m\"\u001b[39m, \u001b[38;5;124m\"\u001b[39m\u001b[38;5;124mBanna\u001b[39m\u001b[38;5;124m\"\u001b[39m, \u001b[38;5;124m\"\u001b[39m\u001b[38;5;124mPear\u001b[39m\u001b[38;5;124m\"\u001b[39m]\n\u001b[0;32m----> 3\u001b[0m fruit \u001b[38;5;241m=\u001b[39m \u001b[43mfruit_list\u001b[49m\u001b[43m[\u001b[49m\u001b[38;5;241;43m3\u001b[39;49m\u001b[43m]\u001b[49m\n",
      "\u001b[0;31mIndexError\u001b[0m: list index out of range"
     ]
    }
   ],
   "source": [
    "# 들어가기전 예제 - IndexError\n",
    "fruit_list = [\"Apple\", \"Banna\", \"Pear\"]\n",
    "fruit = fruit_list[3]"
   ]
  },
  {
   "cell_type": "code",
   "execution_count": 4,
   "id": "1b37c8db",
   "metadata": {},
   "outputs": [
    {
     "ename": "TypeError",
     "evalue": "can only concatenate str (not \"int\") to str",
     "output_type": "error",
     "traceback": [
      "\u001b[0;31m---------------------------------------------------------------------------\u001b[0m",
      "\u001b[0;31mTypeError\u001b[0m                                 Traceback (most recent call last)",
      "Input \u001b[0;32mIn [4]\u001b[0m, in \u001b[0;36m<cell line: 3>\u001b[0;34m()\u001b[0m\n\u001b[1;32m      1\u001b[0m \u001b[38;5;66;03m# 들어가기전 예제 - TypeError\u001b[39;00m\n\u001b[1;32m      2\u001b[0m text \u001b[38;5;241m=\u001b[39m \u001b[38;5;124m\"\u001b[39m\u001b[38;5;124mabc\u001b[39m\u001b[38;5;124m\"\u001b[39m\n\u001b[0;32m----> 3\u001b[0m \u001b[38;5;28mprint\u001b[39m(\u001b[43mtext\u001b[49m\u001b[43m \u001b[49m\u001b[38;5;241;43m+\u001b[39;49m\u001b[43m \u001b[49m\u001b[38;5;241;43m5\u001b[39;49m)\n",
      "\u001b[0;31mTypeError\u001b[0m: can only concatenate str (not \"int\") to str"
     ]
    }
   ],
   "source": [
    "# 들어가기전 예제 - TypeError\n",
    "text = \"abc\"\n",
    "print(text + 5)"
   ]
  },
  {
   "cell_type": "markdown",
   "id": "4d223cd8",
   "metadata": {},
   "source": [
    "- 프로그래밍에서 위와 같이 에러들을 예외처리 할 수 있다. \n",
    "- 그 예외처리에 사용하는 키워드들은 \"try\", \"except\", \"else\", \"finally\"이다. \n",
    "    - try: 예외를 유발할 수 있는 뭔가를 실행하는 코드 블록을 가르킨다. \n",
    "    - except: 블록을 정의하는 단계이며, 이 코드 블록은 만약에 예외가 있었다면, 컴퓨터가 실행하게 하려는 블록이다. \n",
    "    - else: 예외가 없었을 때 실행할 코드를 정의할 수 있게 해준다. \n",
    "    - finally: 기본적으로 어떤 일이 일어나더라도 실행해야 할 코드 블록을 가르킨다."
   ]
  },
  {
   "cell_type": "code",
   "execution_count": 5,
   "id": "194d1324",
   "metadata": {},
   "outputs": [
    {
     "name": "stdout",
     "output_type": "stream",
     "text": [
      "There was an error\n"
     ]
    }
   ],
   "source": [
    "# 예외 처리하기 FileNotFound \n",
    "# try안에 파일이 존재하지 않기 때문에, 예외처리 후 except 구문으로 실행\n",
    "try:\n",
    "    file = open(\"a_file.txt\")\n",
    "except:\n",
    "    print(\"There was an error\")"
   ]
  },
  {
   "cell_type": "code",
   "execution_count": 8,
   "id": "c893240b",
   "metadata": {},
   "outputs": [],
   "source": [
    "# 예외 처리하기 FileNotFound \n",
    "# try안에 파일이 존재하지 않기 때문에, 예외처리 후 except 구문으로 실행\n",
    "try:\n",
    "    file = open(\"data/a_file.txt\")        # data/a_file.txt 파일 불러오기 예외처리\n",
    "except:                                   # 위에 예외처리 되면, 실행 \n",
    "    file = open(\"data/a_file.txt\", \"w\")   # data 폴더에 a_file.txt 생성 \n",
    "    file.write(\"Something\")               # a_file.txt에 입력하기 "
   ]
  },
  {
   "cell_type": "code",
   "execution_count": 10,
   "id": "e28c9caa",
   "metadata": {},
   "outputs": [
    {
     "ename": "KeyError",
     "evalue": "'sdfjkdf'",
     "output_type": "error",
     "traceback": [
      "\u001b[0;31m---------------------------------------------------------------------------\u001b[0m",
      "\u001b[0;31mKeyError\u001b[0m                                  Traceback (most recent call last)",
      "Input \u001b[0;32mIn [10]\u001b[0m, in \u001b[0;36m<cell line: 3>\u001b[0;34m()\u001b[0m\n\u001b[1;32m      4\u001b[0m     file \u001b[38;5;241m=\u001b[39m \u001b[38;5;28mopen\u001b[39m(\u001b[38;5;124m\"\u001b[39m\u001b[38;5;124mdata/a_file.txt\u001b[39m\u001b[38;5;124m\"\u001b[39m)        \u001b[38;5;66;03m# data/a_file.txt 파일 불러오기 예외처리\u001b[39;00m\n\u001b[1;32m      5\u001b[0m     a_dictionary \u001b[38;5;241m=\u001b[39m {\u001b[38;5;124m\"\u001b[39m\u001b[38;5;124mkey\u001b[39m\u001b[38;5;124m\"\u001b[39m:\u001b[38;5;124m\"\u001b[39m\u001b[38;5;124mvalue\u001b[39m\u001b[38;5;124m\"\u001b[39m}\n\u001b[0;32m----> 6\u001b[0m     \u001b[38;5;28mprint\u001b[39m(\u001b[43ma_dictionary\u001b[49m\u001b[43m[\u001b[49m\u001b[38;5;124;43m\"\u001b[39;49m\u001b[38;5;124;43msdfjkdf\u001b[39;49m\u001b[38;5;124;43m\"\u001b[39;49m\u001b[43m]\u001b[49m)\n\u001b[1;32m      7\u001b[0m \u001b[38;5;28;01mexcept\u001b[39;00m \u001b[38;5;167;01mFileNotFoundError\u001b[39;00m:                 \u001b[38;5;66;03m# 위에 예외처리 되면, 실행 \u001b[39;00m\n\u001b[1;32m      8\u001b[0m     file \u001b[38;5;241m=\u001b[39m \u001b[38;5;28mopen\u001b[39m(\u001b[38;5;124m\"\u001b[39m\u001b[38;5;124mdata/a_file.txt\u001b[39m\u001b[38;5;124m\"\u001b[39m, \u001b[38;5;124m\"\u001b[39m\u001b[38;5;124mw\u001b[39m\u001b[38;5;124m\"\u001b[39m)   \u001b[38;5;66;03m# data 폴더에 a_file.txt 생성 \u001b[39;00m\n",
      "\u001b[0;31mKeyError\u001b[0m: 'sdfjkdf'"
     ]
    }
   ],
   "source": [
    "# 예외 처리하기 KeyError \n",
    "# try안에 키 값 존재하지 않기 때문에, 예외처리 후 except 구문으로 실행\n",
    "try:\n",
    "    file = open(\"data/a_file.txt\")        # data/a_file.txt 파일 불러오기 예외처리\n",
    "    a_dictionary = {\"key\":\"value\"}        # 딕셔너리 선언 \n",
    "    print(a_dictionary[\"sdfjkdf\"])        # 키값 출력하기 \n",
    "except FileNotFoundError:                 # 위에 예외처리 되면, 실행 (파일 에러) \n",
    "    file = open(\"data/a_file.txt\", \"w\")   # data 폴더에 a_file.txt 생성 \n",
    "    file.write(\"Something\")               # a_file.txt에 입력하기 "
   ]
  },
  {
   "cell_type": "code",
   "execution_count": 13,
   "id": "af5ec8d8",
   "metadata": {},
   "outputs": [
    {
     "name": "stdout",
     "output_type": "stream",
     "text": [
      "That key 'sdfjkdf' does ont exist.\n"
     ]
    }
   ],
   "source": [
    "# try안에 키 값이 존재하지 않기 때문에, 예외처리 후 except 구문으로 실행\n",
    "try:\n",
    "    file = open(\"data/a_file.txt\")        # data/a_file.txt 파일 불러오기 예외처리\n",
    "    a_dictionary = {\"key\":\"value\"}        # 딕셔너리 선언 \n",
    "    print(a_dictionary[\"sdfjkdf\"])        # 키값 출력하기 \n",
    "except FileNotFoundError:                 # 위에 예외처리 되면, 실행 (파일에러)\n",
    "    file = open(\"data/a_file.txt\", \"w\")   # data 폴더에 a_file.txt 생성 \n",
    "    file.write(\"Something\")               # a_file.txt에 입력하기 \n",
    "except KeyError as error_message:          # 위에 예외처리 되면, 실행 (키 에러 )\n",
    "    print(f\"That key {error_message} does ont exist.\")     # 출력 "
   ]
  },
  {
   "cell_type": "code",
   "execution_count": 15,
   "id": "1014e7ce",
   "metadata": {},
   "outputs": [
    {
     "name": "stdout",
     "output_type": "stream",
     "text": [
      "value\n",
      "Something\n"
     ]
    }
   ],
   "source": [
    "# else 활용 - 위 코드 블록을 모두 오류없이(try 구문에 코드 블록이 실행되었을 때) 실행되었을 때, 살행됨. \n",
    "# try안에 키 값이 존재하지 않기 때문에, 예외처리 후 except 구문으로 실행\n",
    "try:\n",
    "    file = open(\"data/a_file.txt\")        # data/a_file.txt 파일 불러오기 예외처리\n",
    "    a_dictionary = {\"key\":\"value\"}        # 딕셔너리 선언 \n",
    "    print(a_dictionary[\"key\"])        # 키값 출력하기 \n",
    "except FileNotFoundError:                 # 위에 예외처리 되면, 실행 (파일에러)\n",
    "    file = open(\"data/a_file.txt\", \"w\")   # data 폴더에 a_file.txt 생성 \n",
    "    file.write(\"Something\")               # a_file.txt에 입력하기 \n",
    "except KeyError as error_message:          # 위에 예외처리 되면, 실행 (키 에러 )\n",
    "    print(f\"That key {error_message} does ont exist.\")     # 출력\n",
    "else:\n",
    "    content = file.read()\n",
    "    print(content)"
   ]
  },
  {
   "cell_type": "code",
   "execution_count": 16,
   "id": "a9a3a692",
   "metadata": {},
   "outputs": [
    {
     "name": "stdout",
     "output_type": "stream",
     "text": [
      "value\n",
      "Something\n",
      "File was closed.\n"
     ]
    }
   ],
   "source": [
    "# finally 활용 - 기본적으로 어떤 일이 일어나도 실행될 코드 \n",
    "# try안에 키 값이 존재하지 않기 때문에, 예외처리 후 except 구문으로 실행\n",
    "try:\n",
    "    file = open(\"data/a_file.txt\")        # data/a_file.txt 파일 불러오기 예외처리\n",
    "    a_dictionary = {\"key\":\"value\"}        # 딕셔너리 선언 \n",
    "    print(a_dictionary[\"key\"])        # 키값 출력하기 \n",
    "except FileNotFoundError:                 # 위에 예외처리 되면, 실행 (파일에러)\n",
    "    file = open(\"data/a_file.txt\", \"w\")   # data 폴더에 a_file.txt 생성 \n",
    "    file.write(\"Something\")               # a_file.txt에 입력하기 \n",
    "except KeyError as error_message:          # 위에 예외처리 되면, 실행 (키 에러 )\n",
    "    print(f\"That key {error_message} does ont exist.\")     # 출력\n",
    "else:                                    # 위 구문의 블록이 실행 되었다면(try, except구문에), \n",
    "    content = file.read()                # 파일 읽고 \n",
    "    print(content)                       # 결과 출력 \n",
    "finally:                                 # 위 구문이 성공하든 실패하든 \n",
    "    file.close()                         # 파일 닫고,\n",
    "    print(\"File was closed.\")            # 결과물 출력"
   ]
  },
  {
   "cell_type": "code",
   "execution_count": null,
   "id": "c77a04fe",
   "metadata": {},
   "outputs": [],
   "source": []
  }
 ],
 "metadata": {
  "kernelspec": {
   "display_name": "Python 3 (ipykernel)",
   "language": "python",
   "name": "python3"
  },
  "language_info": {
   "codemirror_mode": {
    "name": "ipython",
    "version": 3
   },
   "file_extension": ".py",
   "mimetype": "text/x-python",
   "name": "python",
   "nbconvert_exporter": "python",
   "pygments_lexer": "ipython3",
   "version": "3.8.12"
  }
 },
 "nbformat": 4,
 "nbformat_minor": 5
}
