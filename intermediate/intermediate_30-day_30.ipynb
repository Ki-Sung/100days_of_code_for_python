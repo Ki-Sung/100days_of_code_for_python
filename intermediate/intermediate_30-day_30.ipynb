{
 "cells": [
  {
   "cell_type": "markdown",
   "id": "b0c0f090",
   "metadata": {},
   "source": [
    "## 오류, 예외, JSON 데이터: 패스워드 개선하기 \n",
    "- 파이썬에서 사용할수 있는 오류, 예외처리 그리고 JSON 데이터의 저정과 로딩 방법들을 배운다. \n",
    "- 오류, 예외처리, JSON 데이터에 대해 배운 뒤 29일차에 했던 Password manager를 개선하는데 활용한다."
   ]
  },
  {
   "cell_type": "markdown",
   "id": "ff1bb8c8",
   "metadata": {},
   "source": [
    "### 1. 예외 포착하기 - try, catch, except, finally 패턴"
   ]
  },
  {
   "cell_type": "code",
   "execution_count": 1,
   "id": "19581643",
   "metadata": {},
   "outputs": [
    {
     "ename": "FileNotFoundError",
     "evalue": "[Errno 2] No such file or directory: 'a_file.txt'",
     "output_type": "error",
     "traceback": [
      "\u001b[0;31m---------------------------------------------------------------------------\u001b[0m",
      "\u001b[0;31mFileNotFoundError\u001b[0m                         Traceback (most recent call last)",
      "Input \u001b[0;32mIn [1]\u001b[0m, in \u001b[0;36m<cell line: 1>\u001b[0;34m()\u001b[0m\n\u001b[0;32m----> 1\u001b[0m \u001b[38;5;28;01mwith\u001b[39;00m \u001b[38;5;28;43mopen\u001b[39;49m\u001b[43m(\u001b[49m\u001b[38;5;124;43m\"\u001b[39;49m\u001b[38;5;124;43ma_file.txt\u001b[39;49m\u001b[38;5;124;43m\"\u001b[39;49m\u001b[43m)\u001b[49m \u001b[38;5;28;01mas\u001b[39;00m file:\n\u001b[1;32m      2\u001b[0m     file\u001b[38;5;241m.\u001b[39mread\n",
      "\u001b[0;31mFileNotFoundError\u001b[0m: [Errno 2] No such file or directory: 'a_file.txt'"
     ]
    }
   ],
   "source": [
    "# 들어가기전 예제(에러 종류) - FileNotFound\n",
    "with open(\"a_file.txt\") as file:\n",
    "    file.read"
   ]
  },
  {
   "cell_type": "code",
   "execution_count": 2,
   "id": "54411c29",
   "metadata": {},
   "outputs": [
    {
     "ename": "KeyError",
     "evalue": "'non_existent_key'",
     "output_type": "error",
     "traceback": [
      "\u001b[0;31m---------------------------------------------------------------------------\u001b[0m",
      "\u001b[0;31mKeyError\u001b[0m                                  Traceback (most recent call last)",
      "Input \u001b[0;32mIn [2]\u001b[0m, in \u001b[0;36m<cell line: 3>\u001b[0;34m()\u001b[0m\n\u001b[1;32m      1\u001b[0m \u001b[38;5;66;03m#  들어가기전 예제 - Key error \u001b[39;00m\n\u001b[1;32m      2\u001b[0m a_dictionary \u001b[38;5;241m=\u001b[39m {\u001b[38;5;124m\"\u001b[39m\u001b[38;5;124mkey\u001b[39m\u001b[38;5;124m\"\u001b[39m: \u001b[38;5;124m\"\u001b[39m\u001b[38;5;124mvalue\u001b[39m\u001b[38;5;124m\"\u001b[39m}\n\u001b[0;32m----> 3\u001b[0m value \u001b[38;5;241m=\u001b[39m \u001b[43ma_dictionary\u001b[49m\u001b[43m[\u001b[49m\u001b[38;5;124;43m\"\u001b[39;49m\u001b[38;5;124;43mnon_existent_key\u001b[39;49m\u001b[38;5;124;43m\"\u001b[39;49m\u001b[43m]\u001b[49m\n",
      "\u001b[0;31mKeyError\u001b[0m: 'non_existent_key'"
     ]
    }
   ],
   "source": [
    "# 들어가기전 예제(에러 종류) - KeyError \n",
    "a_dictionary = {\"key\": \"value\"}\n",
    "value = a_dictionary[\"non_existent_key\"]"
   ]
  },
  {
   "cell_type": "code",
   "execution_count": 3,
   "id": "8eaa1c33",
   "metadata": {},
   "outputs": [
    {
     "ename": "IndexError",
     "evalue": "list index out of range",
     "output_type": "error",
     "traceback": [
      "\u001b[0;31m---------------------------------------------------------------------------\u001b[0m",
      "\u001b[0;31mIndexError\u001b[0m                                Traceback (most recent call last)",
      "Input \u001b[0;32mIn [3]\u001b[0m, in \u001b[0;36m<cell line: 3>\u001b[0;34m()\u001b[0m\n\u001b[1;32m      1\u001b[0m \u001b[38;5;66;03m#  들어가기전 예제 - IndexError\u001b[39;00m\n\u001b[1;32m      2\u001b[0m fruit_list \u001b[38;5;241m=\u001b[39m [\u001b[38;5;124m\"\u001b[39m\u001b[38;5;124mApple\u001b[39m\u001b[38;5;124m\"\u001b[39m, \u001b[38;5;124m\"\u001b[39m\u001b[38;5;124mBanna\u001b[39m\u001b[38;5;124m\"\u001b[39m, \u001b[38;5;124m\"\u001b[39m\u001b[38;5;124mPear\u001b[39m\u001b[38;5;124m\"\u001b[39m]\n\u001b[0;32m----> 3\u001b[0m fruit \u001b[38;5;241m=\u001b[39m \u001b[43mfruit_list\u001b[49m\u001b[43m[\u001b[49m\u001b[38;5;241;43m3\u001b[39;49m\u001b[43m]\u001b[49m\n",
      "\u001b[0;31mIndexError\u001b[0m: list index out of range"
     ]
    }
   ],
   "source": [
    "# 들어가기전 예제 - IndexError\n",
    "fruit_list = [\"Apple\", \"Banna\", \"Pear\"]\n",
    "fruit = fruit_list[3]"
   ]
  },
  {
   "cell_type": "code",
   "execution_count": 4,
   "id": "bf2e7eb3",
   "metadata": {},
   "outputs": [
    {
     "ename": "TypeError",
     "evalue": "can only concatenate str (not \"int\") to str",
     "output_type": "error",
     "traceback": [
      "\u001b[0;31m---------------------------------------------------------------------------\u001b[0m",
      "\u001b[0;31mTypeError\u001b[0m                                 Traceback (most recent call last)",
      "Input \u001b[0;32mIn [4]\u001b[0m, in \u001b[0;36m<cell line: 3>\u001b[0;34m()\u001b[0m\n\u001b[1;32m      1\u001b[0m \u001b[38;5;66;03m# 들어가기전 예제 - TypeError\u001b[39;00m\n\u001b[1;32m      2\u001b[0m text \u001b[38;5;241m=\u001b[39m \u001b[38;5;124m\"\u001b[39m\u001b[38;5;124mabc\u001b[39m\u001b[38;5;124m\"\u001b[39m\n\u001b[0;32m----> 3\u001b[0m \u001b[38;5;28mprint\u001b[39m(\u001b[43mtext\u001b[49m\u001b[43m \u001b[49m\u001b[38;5;241;43m+\u001b[39;49m\u001b[43m \u001b[49m\u001b[38;5;241;43m5\u001b[39;49m)\n",
      "\u001b[0;31mTypeError\u001b[0m: can only concatenate str (not \"int\") to str"
     ]
    }
   ],
   "source": [
    "# 들어가기전 예제 - TypeError\n",
    "text = \"abc\"\n",
    "print(text + 5)"
   ]
  },
  {
   "cell_type": "markdown",
   "id": "49bf66ca",
   "metadata": {},
   "source": [
    "- 프로그래밍에서 위와 같이 에러들을 예외처리 할 수 있다. \n",
    "- 그 예외처리에 사용하는 키워드들은 \"try\", \"except\", \"else\", \"finally\"이다. \n",
    "    - try: 예외를 유발할 수 있는 뭔가를 실행하는 코드 블록을 가르킨다. \n",
    "    - except: 블록을 정의하는 단계이며, 이 코드 블록은 만약에 예외가 있었다면, 컴퓨터가 실행하게 하려는 블록이다. \n",
    "    - else: 예외가 없었을 때 실행할 코드를 정의할 수 있게 해준다. \n",
    "    - finally: 기본적으로 어떤 일이 일어나더라도 실행해야 할 코드 블록을 가르킨다."
   ]
  },
  {
   "cell_type": "code",
   "execution_count": 5,
   "id": "27ccab8d",
   "metadata": {},
   "outputs": [
    {
     "name": "stdout",
     "output_type": "stream",
     "text": [
      "There was an error\n"
     ]
    }
   ],
   "source": [
    "# 예외 처리하기 FileNotFound \n",
    "# try안에 파일이 존재하지 않기 때문에, 예외처리 후 except 구문으로 실행\n",
    "try:\n",
    "    file = open(\"a_file.txt\")\n",
    "except:\n",
    "    print(\"There was an error\")"
   ]
  },
  {
   "cell_type": "code",
   "execution_count": 8,
   "id": "7c1409bc",
   "metadata": {},
   "outputs": [],
   "source": [
    "# 예외 처리하기 FileNotFound \n",
    "# try안에 파일이 존재하지 않기 때문에, 예외처리 후 except 구문으로 실행\n",
    "try:\n",
    "    file = open(\"data/a_file.txt\")        # data/a_file.txt 파일 불러오기 예외처리\n",
    "except:                                   # 위에 예외처리 되면, 실행 \n",
    "    file = open(\"data/a_file.txt\", \"w\")   # data 폴더에 a_file.txt 생성 \n",
    "    file.write(\"Something\")               # a_file.txt에 입력하기 "
   ]
  },
  {
   "cell_type": "code",
   "execution_count": 10,
   "id": "06ef6bac",
   "metadata": {},
   "outputs": [
    {
     "ename": "KeyError",
     "evalue": "'sdfjkdf'",
     "output_type": "error",
     "traceback": [
      "\u001b[0;31m---------------------------------------------------------------------------\u001b[0m",
      "\u001b[0;31mKeyError\u001b[0m                                  Traceback (most recent call last)",
      "Input \u001b[0;32mIn [10]\u001b[0m, in \u001b[0;36m<cell line: 3>\u001b[0;34m()\u001b[0m\n\u001b[1;32m      4\u001b[0m     file \u001b[38;5;241m=\u001b[39m \u001b[38;5;28mopen\u001b[39m(\u001b[38;5;124m\"\u001b[39m\u001b[38;5;124mdata/a_file.txt\u001b[39m\u001b[38;5;124m\"\u001b[39m)        \u001b[38;5;66;03m# data/a_file.txt 파일 불러오기 예외처리\u001b[39;00m\n\u001b[1;32m      5\u001b[0m     a_dictionary \u001b[38;5;241m=\u001b[39m {\u001b[38;5;124m\"\u001b[39m\u001b[38;5;124mkey\u001b[39m\u001b[38;5;124m\"\u001b[39m:\u001b[38;5;124m\"\u001b[39m\u001b[38;5;124mvalue\u001b[39m\u001b[38;5;124m\"\u001b[39m}\n\u001b[0;32m----> 6\u001b[0m     \u001b[38;5;28mprint\u001b[39m(\u001b[43ma_dictionary\u001b[49m\u001b[43m[\u001b[49m\u001b[38;5;124;43m\"\u001b[39;49m\u001b[38;5;124;43msdfjkdf\u001b[39;49m\u001b[38;5;124;43m\"\u001b[39;49m\u001b[43m]\u001b[49m)\n\u001b[1;32m      7\u001b[0m \u001b[38;5;28;01mexcept\u001b[39;00m \u001b[38;5;167;01mFileNotFoundError\u001b[39;00m:                 \u001b[38;5;66;03m# 위에 예외처리 되면, 실행 \u001b[39;00m\n\u001b[1;32m      8\u001b[0m     file \u001b[38;5;241m=\u001b[39m \u001b[38;5;28mopen\u001b[39m(\u001b[38;5;124m\"\u001b[39m\u001b[38;5;124mdata/a_file.txt\u001b[39m\u001b[38;5;124m\"\u001b[39m, \u001b[38;5;124m\"\u001b[39m\u001b[38;5;124mw\u001b[39m\u001b[38;5;124m\"\u001b[39m)   \u001b[38;5;66;03m# data 폴더에 a_file.txt 생성 \u001b[39;00m\n",
      "\u001b[0;31mKeyError\u001b[0m: 'sdfjkdf'"
     ]
    }
   ],
   "source": [
    "# 예외 처리하기 KeyError \n",
    "# try안에 키 값 존재하지 않기 때문에, 예외처리 후 except 구문으로 실행\n",
    "try:\n",
    "    file = open(\"data/a_file.txt\")        # data/a_file.txt 파일 불러오기 예외처리\n",
    "    a_dictionary = {\"key\":\"value\"}        # 딕셔너리 선언 \n",
    "    print(a_dictionary[\"sdfjkdf\"])        # 키값 출력하기 \n",
    "except FileNotFoundError:                 # 위에 예외처리 되면, 실행 (파일 에러) \n",
    "    file = open(\"data/a_file.txt\", \"w\")   # data 폴더에 a_file.txt 생성 \n",
    "    file.write(\"Something\")               # a_file.txt에 입력하기 "
   ]
  },
  {
   "cell_type": "code",
   "execution_count": 13,
   "id": "fbec38d0",
   "metadata": {},
   "outputs": [
    {
     "name": "stdout",
     "output_type": "stream",
     "text": [
      "That key 'sdfjkdf' does ont exist.\n"
     ]
    }
   ],
   "source": [
    "# try안에 키 값이 존재하지 않기 때문에, 예외처리 후 except 구문으로 실행\n",
    "try:\n",
    "    file = open(\"data/a_file.txt\")        # data/a_file.txt 파일 불러오기 예외처리\n",
    "    a_dictionary = {\"key\":\"value\"}        # 딕셔너리 선언 \n",
    "    print(a_dictionary[\"sdfjkdf\"])        # 키값 출력하기 \n",
    "except FileNotFoundError:                 # 위에 예외처리 되면, 실행 (파일에러)\n",
    "    file = open(\"data/a_file.txt\", \"w\")   # data 폴더에 a_file.txt 생성 \n",
    "    file.write(\"Something\")               # a_file.txt에 입력하기 \n",
    "except KeyError as error_message:          # 위에 예외처리 되면, 실행 (키 에러 )\n",
    "    print(f\"That key {error_message} does ont exist.\")     # 출력 "
   ]
  },
  {
   "cell_type": "code",
   "execution_count": 15,
   "id": "0557c3fa",
   "metadata": {},
   "outputs": [
    {
     "name": "stdout",
     "output_type": "stream",
     "text": [
      "value\n",
      "Something\n"
     ]
    }
   ],
   "source": [
    "# else 활용 - 위 코드 블록을 모두 오류없이(try 구문에 코드 블록이 실행되었을 때) 실행되었을 때, 살행됨. \n",
    "# try안에 키 값이 존재하지 않기 때문에, 예외처리 후 except 구문으로 실행\n",
    "try:\n",
    "    file = open(\"data/a_file.txt\")        # data/a_file.txt 파일 불러오기 예외처리\n",
    "    a_dictionary = {\"key\":\"value\"}        # 딕셔너리 선언 \n",
    "    print(a_dictionary[\"key\"])        # 키값 출력하기 \n",
    "except FileNotFoundError:                 # 위에 예외처리 되면, 실행 (파일에러)\n",
    "    file = open(\"data/a_file.txt\", \"w\")   # data 폴더에 a_file.txt 생성 \n",
    "    file.write(\"Something\")               # a_file.txt에 입력하기 \n",
    "except KeyError as error_message:          # 위에 예외처리 되면, 실행 (키 에러 )\n",
    "    print(f\"That key {error_message} does ont exist.\")     # 출력\n",
    "else:\n",
    "    content = file.read()\n",
    "    print(content)"
   ]
  },
  {
   "cell_type": "code",
   "execution_count": 16,
   "id": "d5b99f41",
   "metadata": {},
   "outputs": [
    {
     "name": "stdout",
     "output_type": "stream",
     "text": [
      "value\n",
      "Something\n",
      "File was closed.\n"
     ]
    }
   ],
   "source": [
    "# finally 활용 - 기본적으로 어떤 일이 일어나도 실행될 코드 \n",
    "# try안에 키 값이 존재하지 않기 때문에, 예외처리 후 except 구문으로 실행\n",
    "try:\n",
    "    file = open(\"data/a_file.txt\")        # data/a_file.txt 파일 불러오기 예외처리\n",
    "    a_dictionary = {\"key\":\"value\"}        # 딕셔너리 선언 \n",
    "    print(a_dictionary[\"key\"])        # 키값 출력하기 \n",
    "except FileNotFoundError:                 # 위에 예외처리 되면, 실행 (파일에러)\n",
    "    file = open(\"data/a_file.txt\", \"w\")   # data 폴더에 a_file.txt 생성 \n",
    "    file.write(\"Something\")               # a_file.txt에 입력하기 \n",
    "except KeyError as error_message:          # 위에 예외처리 되면, 실행 (키 에러 )\n",
    "    print(f\"That key {error_message} does ont exist.\")     # 출력\n",
    "else:                                    # 위 구문의 블록이 실행 되었다면(try, except구문에), \n",
    "    content = file.read()                # 파일 읽고 \n",
    "    print(content)                       # 결과 출력 \n",
    "finally:                                 # 위 구문이 성공하든 실패하든 \n",
    "    file.close()                         # 파일 닫고,\n",
    "    print(\"File was closed.\")            # 결과물 출력"
   ]
  },
  {
   "cell_type": "markdown",
   "id": "aea19637",
   "metadata": {},
   "source": [
    "### 2. 나만의 예외 생성하기 "
   ]
  },
  {
   "cell_type": "code",
   "execution_count": 18,
   "id": "e1f93ea9",
   "metadata": {},
   "outputs": [
    {
     "name": "stdout",
     "output_type": "stream",
     "text": [
      "value\n",
      "Something\n"
     ]
    },
    {
     "ename": "KeyError",
     "evalue": "",
     "output_type": "error",
     "traceback": [
      "\u001b[0;31m---------------------------------------------------------------------------\u001b[0m",
      "\u001b[0;31mKeyError\u001b[0m                                  Traceback (most recent call last)",
      "Input \u001b[0;32mIn [18]\u001b[0m, in \u001b[0;36m<cell line: 3>\u001b[0;34m()\u001b[0m\n\u001b[1;32m     14\u001b[0m     \u001b[38;5;28mprint\u001b[39m(content)                       \u001b[38;5;66;03m# 결과 출력 \u001b[39;00m\n\u001b[1;32m     15\u001b[0m \u001b[38;5;28;01mfinally\u001b[39;00m:                                 \u001b[38;5;66;03m# 위 구문이 성공하든 실패하든 \u001b[39;00m\n\u001b[0;32m---> 16\u001b[0m     \u001b[38;5;28;01mraise\u001b[39;00m \u001b[38;5;167;01mKeyError\u001b[39;00m\n",
      "\u001b[0;31mKeyError\u001b[0m: "
     ]
    }
   ],
   "source": [
    "# raise 키워드 - 자신만의 예외를 생성할 수 있다.\n",
    "\n",
    "try:\n",
    "    file = open(\"data/a_file.txt\")        # data/a_file.txt 파일 불러오기 예외처리\n",
    "    a_dictionary = {\"key\":\"value\"}        # 딕셔너리 선언 \n",
    "    print(a_dictionary[\"key\"])        # 키값 출력하기 \n",
    "except FileNotFoundError:                 # 위에 예외처리 되면, 실행 (파일에러)\n",
    "    file = open(\"data/a_file.txt\", \"w\")   # data 폴더에 a_file.txt 생성 \n",
    "    file.write(\"Something\")               # a_file.txt에 입력하기 \n",
    "except KeyError as error_message:          # 위에 예외처리 되면, 실행 (키 에러 )\n",
    "    print(f\"That key {error_message} does ont exist.\")     # 출력\n",
    "else:                                    # 위 구문의 블록이 실행 되었다면(try, except구문에), \n",
    "    content = file.read()                # 파일 읽고 \n",
    "    print(content)                       # 결과 출력 \n",
    "finally:                                 # 위 구문이 성공하든 실패하든 \n",
    "    raise KeyError                       # 위에 구문이 성공하든 실패하든 KeyError 발생 "
   ]
  },
  {
   "cell_type": "code",
   "execution_count": 19,
   "id": "8c275e1b",
   "metadata": {},
   "outputs": [
    {
     "name": "stdout",
     "output_type": "stream",
     "text": [
      "value\n",
      "Something\n"
     ]
    },
    {
     "ename": "TypeError",
     "evalue": "This is an error that I made up.",
     "output_type": "error",
     "traceback": [
      "\u001b[0;31m---------------------------------------------------------------------------\u001b[0m",
      "\u001b[0;31mTypeError\u001b[0m                                 Traceback (most recent call last)",
      "Input \u001b[0;32mIn [19]\u001b[0m, in \u001b[0;36m<cell line: 4>\u001b[0;34m()\u001b[0m\n\u001b[1;32m     15\u001b[0m     \u001b[38;5;28mprint\u001b[39m(content)                       \u001b[38;5;66;03m# 결과 출력 \u001b[39;00m\n\u001b[1;32m     16\u001b[0m \u001b[38;5;28;01mfinally\u001b[39;00m:                                 \u001b[38;5;66;03m# 위 구문이 성공하든 실패하든 \u001b[39;00m\n\u001b[0;32m---> 17\u001b[0m     \u001b[38;5;28;01mraise\u001b[39;00m \u001b[38;5;167;01mTypeError\u001b[39;00m(\u001b[38;5;124m\"\u001b[39m\u001b[38;5;124mThis is an error that I made up.\u001b[39m\u001b[38;5;124m\"\u001b[39m)\n",
      "\u001b[0;31mTypeError\u001b[0m: This is an error that I made up."
     ]
    }
   ],
   "source": [
    "# raise 키워드 - 자신만의 예외를 생성할 수 있다.\n",
    "# 다른 에러도 사용할 수 있다. \n",
    "\n",
    "try:\n",
    "    file = open(\"data/a_file.txt\")        # data/a_file.txt 파일 불러오기 예외처리\n",
    "    a_dictionary = {\"key\":\"value\"}        # 딕셔너리 선언 \n",
    "    print(a_dictionary[\"key\"])        # 키값 출력하기 \n",
    "except FileNotFoundError:                 # 위에 예외처리 되면, 실행 (파일에러)\n",
    "    file = open(\"data/a_file.txt\", \"w\")   # data 폴더에 a_file.txt 생성 \n",
    "    file.write(\"Something\")               # a_file.txt에 입력하기 \n",
    "except KeyError as error_message:          # 위에 예외처리 되면, 실행 (키 에러 )\n",
    "    print(f\"That key {error_message} does ont exist.\")     # 출력\n",
    "else:                                    # 위 구문의 블록이 실행 되었다면(try, except구문에), \n",
    "    content = file.read()                # 파일 읽고 \n",
    "    print(content)                       # 결과 출력 \n",
    "finally:                                 # 위 구문이 성공하든 실패하든 \n",
    "    raise TypeError(\"This is an error that I made up.\")     # 위에 구문이 성공하든 실패하든 TypeError 발생  - 메시지 사용 가능"
   ]
  },
  {
   "cell_type": "code",
   "execution_count": 21,
   "id": "04118321",
   "metadata": {},
   "outputs": [
    {
     "name": "stdout",
     "output_type": "stream",
     "text": [
      "Height: 4\n",
      "Weight: 60\n"
     ]
    },
    {
     "ename": "ValueError",
     "evalue": "Human Heigh should not be over 3 meters.",
     "output_type": "error",
     "traceback": [
      "\u001b[0;31m---------------------------------------------------------------------------\u001b[0m",
      "\u001b[0;31mValueError\u001b[0m                                Traceback (most recent call last)",
      "Input \u001b[0;32mIn [21]\u001b[0m, in \u001b[0;36m<cell line: 5>\u001b[0;34m()\u001b[0m\n\u001b[1;32m      3\u001b[0m weigth \u001b[38;5;241m=\u001b[39m \u001b[38;5;28mint\u001b[39m(\u001b[38;5;28minput\u001b[39m(\u001b[38;5;124m\"\u001b[39m\u001b[38;5;124mWeight: \u001b[39m\u001b[38;5;124m\"\u001b[39m))\n\u001b[1;32m      5\u001b[0m \u001b[38;5;28;01mif\u001b[39;00m height \u001b[38;5;241m>\u001b[39m \u001b[38;5;241m3\u001b[39m:\n\u001b[0;32m----> 6\u001b[0m     \u001b[38;5;28;01mraise\u001b[39;00m \u001b[38;5;167;01mValueError\u001b[39;00m(\u001b[38;5;124m\"\u001b[39m\u001b[38;5;124mHuman Heigh should not be over 3 meters.\u001b[39m\u001b[38;5;124m\"\u001b[39m)\n\u001b[1;32m      8\u001b[0m bmi \u001b[38;5;241m=\u001b[39m weigth \u001b[38;5;241m/\u001b[39m height \u001b[38;5;241m*\u001b[39m\u001b[38;5;241m*\u001b[39m \u001b[38;5;241m2\u001b[39m\n\u001b[1;32m      9\u001b[0m \u001b[38;5;28mprint\u001b[39m(bmi)\n",
      "\u001b[0;31mValueError\u001b[0m: Human Heigh should not be over 3 meters."
     ]
    }
   ],
   "source": [
    "# 예시 1 - BMI 계산 나만의 예외 생성하기 \n",
    "height = float(input(\"Height: \"))    # 키 입력 \n",
    "weigth = int(input(\"Weight: \"))      # 몸무게 입력 \n",
    "\n",
    "# 나만의 예외 조항 걸기 - 만약 키가 3미터 보다 크면 에러 생성 \n",
    "if height > 3:\n",
    "    raise ValueError(\"Human Heigh should not be over 3 meters.\")\n",
    "\n",
    "# bmi 계산 결과 생성 \n",
    "bmi = weigth / height ** 2\n",
    "print(bmi)"
   ]
  },
  {
   "cell_type": "markdown",
   "id": "c7c5d821",
   "metadata": {},
   "source": [
    "### 3. [대화형 코딩 예제] IndexError 처리"
   ]
  },
  {
   "cell_type": "code",
   "execution_count": 26,
   "id": "2ec304d8",
   "metadata": {},
   "outputs": [
    {
     "name": "stdout",
     "output_type": "stream",
     "text": [
      "Fruit Pie\n"
     ]
    }
   ],
   "source": [
    "# 예제 1 - 인덱스 에러 처리  solution 1\n",
    "fruits = [\"Apple\", \"Pear\", \"Orange\"]      # 과일 리스트\n",
    "\n",
    "#TODO: Catch the exception and make sure the code runs without crashing.\n",
    "# pie를 드는 함수 선언 \n",
    "def make_pie(index):\n",
    "    try:                         # 만약 정상 동작할 시 \n",
    "        fruit = fruits[index]    # index 번호를 사용하면\n",
    "        print(fruit + \" pie\")    # index 범위 내 과일과 파이 출력\n",
    "    except:                      # 위의 코드 블록이 에러가 날 경우\n",
    "        print(\"Fruit Pie\")       # \"Fruite Pie\" 출력\n",
    "\n",
    "make_pie(4)"
   ]
  },
  {
   "cell_type": "code",
   "execution_count": 27,
   "id": "30199623",
   "metadata": {},
   "outputs": [
    {
     "name": "stdout",
     "output_type": "stream",
     "text": [
      "Fruite Pie\n"
     ]
    }
   ],
   "source": [
    "# 예제 1 - 인덱스 에러 처리  solution 2  \n",
    "fruits = [\"Apple\", \"Pear\", \"Orange\"]      # 과일 리스트\n",
    "\n",
    "#TODO: Catch the exception and make sure the code runs without crashing.\n",
    "# pie를 드는 함수 선언 \n",
    "def make_pie(index):\n",
    "    try:                         # 만약 정상 동작할 시 \n",
    "        fruit = fruits[index]    # index 번호를 사용하면\n",
    "    except IndexError:           # 위의 코드 블록이 에러가 날 경우\n",
    "        print(\"Fruite Pie\")      # \"Fruite Pie\" 출력\n",
    "    else:                        # 만약 try문 이상이 없을 시   \n",
    "        print(fruit + \" pie\")    # 과일과 파이 출력\n",
    "\n",
    "make_pie(4)"
   ]
  },
  {
   "cell_type": "markdown",
   "id": "4f1d84d3",
   "metadata": {},
   "source": [
    "### 4. [대화형 코딩 예제] KeyError 처리"
   ]
  },
  {
   "cell_type": "code",
   "execution_count": 2,
   "id": "b3916a4c",
   "metadata": {},
   "outputs": [
    {
     "name": "stdout",
     "output_type": "stream",
     "text": [
      "86\n"
     ]
    }
   ],
   "source": [
    "# 예제 2 - Key 에러 처리 solution 1\n",
    "\n",
    "# 페이스북 포스트 개수 - 딕셔너리 타입\n",
    "facebook_posts = [\n",
    "    {'Likes': 21, 'Comments': 2}, \n",
    "    {'Likes': 13, 'Comments': 2, 'Shares': 1}, \n",
    "    {'Likes': 33, 'Comments': 8, 'Shares': 3}, \n",
    "    {'Comments': 4, 'Shares': 2}, \n",
    "    {'Comments': 1, 'Shares': 1}, \n",
    "    {'Likes': 19, 'Comments': 3}\n",
    "]\n",
    "\n",
    "# 총 좋아요 개수를 새기 위한 초기 값 \n",
    "total_likes = 0\n",
    "\n",
    "# 좋아요 개수 체크 \n",
    "for post in facebook_posts:\n",
    "    try:                                          # 만약 key가 Likes가 있을 시\n",
    "        total_likes = total_likes + post['Likes'] # 좋아요 개수 세기 \n",
    "    except:                                       # 위 코드가 에러나 예외처리 될 시 \n",
    "        total_likes = total_likes + 0             # 0으로 세기\n",
    "\n",
    "# 결과 출력\n",
    "print(total_likes)"
   ]
  },
  {
   "cell_type": "code",
   "execution_count": 3,
   "id": "202cdb6c",
   "metadata": {},
   "outputs": [
    {
     "name": "stdout",
     "output_type": "stream",
     "text": [
      "86\n"
     ]
    }
   ],
   "source": [
    "# 예제 2 - Key 에러 처리 solution 2\n",
    "\n",
    "# 페이스북 포스트 개수 - 딕셔너리 타입\n",
    "facebook_posts = [\n",
    "    {'Likes': 21, 'Comments': 2}, \n",
    "    {'Likes': 13, 'Comments': 2, 'Shares': 1}, \n",
    "    {'Likes': 33, 'Comments': 8, 'Shares': 3}, \n",
    "    {'Comments': 4, 'Shares': 2}, \n",
    "    {'Comments': 1, 'Shares': 1}, \n",
    "    {'Likes': 19, 'Comments': 3}\n",
    "]\n",
    "\n",
    "# 총 좋아요 개수를 새기 위한 초기 값 \n",
    "total_likes = 0\n",
    "\n",
    "# 좋아요 개수 체크 \n",
    "for post in facebook_posts:\n",
    "    try:                                          # 만약 key가 Likes가 있을 시\n",
    "        total_likes = total_likes + post['Likes'] # 좋아요 개수 세기 \n",
    "    except KeyError:                              # 위 코드가 에러나 예외처리 될 시 \n",
    "        pass                                      # pass 하기 \n",
    "\n",
    "# 결과 출력\n",
    "print(total_likes)"
   ]
  },
  {
   "cell_type": "markdown",
   "id": "09afb4fb",
   "metadata": {},
   "source": [
    "### 5. 코드 예제: NATO 음성 알파벳 프로젝트의 예외처리 하기 \n",
    "- 만약 알파벳 말고 다른 문자들을 입력했다고 가정해보자. 그럼 에러가 출력되고, 해당 프로그램이 종료될 것이다.\n",
    "- 알파벳 외에 다른 문자를 넣었을 경우, 예외 처리를 해보자! "
   ]
  },
  {
   "cell_type": "code",
   "execution_count": null,
   "id": "00fdbf8d",
   "metadata": {},
   "outputs": [],
   "source": [
    "# solution 1 \n",
    "\n",
    "# 모듈 불러오기 \n",
    "import pandas as pd \n",
    "\n",
    "# 데이터 불러오기 \n",
    "data = pd.read_csv('data/nato_phonetic_alphabet.csv')\n",
    "\n",
    "# 데이터프레임을 딕셔너리 형식으로 변환 \n",
    "phonetic_dict = {row.letter:row.code for (index, row) in data.iterrows()}\n",
    "\n",
    "# 사용자가 입력한 단어로부터 음성 규약 단어들 리스트 만들기 \n",
    "loop = True                                     # while문 초기값 설정 \n",
    "while loop:\n",
    "    word = input(\"Enter a word: \").upper()      # 입력창 만들기\n",
    "    try:                                        # 만약 알파벳을 입력했다면, \n",
    "        output_list = [phonetic_dict[letter] for letter in word]  # 음성 규약 단어 리스트 저장\n",
    "        print(output_list)                                        # 결과물 출력\n",
    "        loop = False                            # 프로그램 종료 \n",
    "    except:                                     # 만약 위 코드블록이 에러가 났을 경우\n",
    "        print(\"Sorry, only letters in the alphabet please!\")   # 경고창 출려과 함께 프롬프트 출력"
   ]
  },
  {
   "cell_type": "code",
   "execution_count": null,
   "id": "652f7ddf",
   "metadata": {},
   "outputs": [],
   "source": [
    "# solution 2 \n",
    "\n",
    "# 모듈 불러오기 \n",
    "import pandas as pd \n",
    "\n",
    "# 데이터 불러오기 \n",
    "data = pd.read_csv('data/nato_phonetic_alphabet.csv')\n",
    "\n",
    "# 데이터프레임을 딕셔너리 형식으로 변환 \n",
    "phonetic_dict = {row.letter:row.code for (index, row) in data.iterrows()}\n",
    "\n",
    "# 사용자가 입력한 단어로부터 음성 규약 단어들을 리스트로 저장할 함수 만들기 \n",
    "def generate_phonetic():\n",
    "        word = input(\"Enter a word: \").upper()      # 입력창 만들기\n",
    "        try:                                        # 만약 알파벳을 입력했다면, \n",
    "            output_list = [phonetic_dict[letter] for letter in word]  # 음성 규약 단어 리스트 저장\n",
    "        except KeyError:                                              # 만약 위 코드블록이 에러가 났을 경우\n",
    "            print(\"Sorry, only letters in the alphabet please!\")      # 경고창 출려과 함께 프롬프트 출력\n",
    "            generate_phonetic()                                       # 프롬프트 다시 생성 - 우리가 만든 함수를 이용하여\n",
    "        else:                                                         # 모든 코드 블록이 동작하면 \n",
    "            print(output_list)                                        # 결과물 출력 \n",
    "            \n",
    "generate_phonetic()                                  # 설정한 함수 불러오기 "
   ]
  },
  {
   "cell_type": "markdown",
   "id": "7333dc66",
   "metadata": {},
   "source": [
    "### 6. 패스워드 매니저 JSON 데이터 읽고 쓰고 업데이트 하기 \n",
    "- 검색 기능 추가 \n",
    "    - website 입력 필드에서 웹사이트를 입력하고 검색 버튼을 누르면, 팝업에서 저장된 이메일과 패스워드 표시되게 만들기 "
   ]
  },
  {
   "cell_type": "code",
   "execution_count": null,
   "id": "6edbd998",
   "metadata": {},
   "outputs": [],
   "source": [
    "# json 데이터 형식으로 쓰고, 저장하고, 업데이트 하는 구조로 만들기 \n",
    "\n",
    "# 모듈 불러오기 \n",
    "from random import choice, randint, shuffle\n",
    "from tkinter import *            # 모든 클래스와 상수만을 임포트 함\n",
    "from tkinter import messagebox   # messagebox는 또다른 코드 모듈이기 때문에 따로 임포트 해야함. \n",
    "import pyperclip                 # 클리보드 생성기 \n",
    "import json\n",
    "\n",
    "# ---------------------------- PASSWORD GENERATOR ------------------------------- #\n",
    "# 비밀번호 생성 기능 만들기\n",
    "def generate_password():\n",
    "    # 비밀번호 조합을 위한 알파벳, 숫자, 기호들 \n",
    "    letters = ['a', 'b', 'c', 'd', 'e', 'f', 'g', 'h', 'i', 'j', 'k', 'l', 'm', \n",
    "               'n', 'o', 'p', 'q', 'r', 's', 't', 'u', 'v', 'w', 'x', 'y', 'z', \n",
    "               'A', 'B', 'C', 'D', 'E', 'F', 'G', 'H', 'I', 'J', 'K', 'L', 'M', \n",
    "               'N', 'O', 'P', 'Q', 'R', 'S', 'T', 'U', 'V', 'W', 'X', 'Y', 'Z']\n",
    "    numbers = ['0', '1', '2', '3', '4', '5', '6', '7', '8', '9']\n",
    "    symbols = ['!', '#', '$', '%', '&', '(', ')', '*', '+']\n",
    "\n",
    "    # password random 조합\n",
    "    password_letters = [choice(letters) for _ in range(randint(8, 10))]     # 알파벳 (대,소문자 상관 X) 8 ~ 10 글자 랜덤으로 추출 \n",
    "    password_symbols = [choice(symbols) for _ in range(randint(2, 4))]      # 기호 2 ~ 4 글자 랜덤으로 추출 \n",
    "    password_numbers = [choice(numbers) for _ in range(randint(2, 4))]      # 숫자 2 ~ 4 글자 랜덤으로 추출  \n",
    "\n",
    "    password_list = password_letters + password_symbols + password_numbers    # 알파벳, 기호, 숫자 조합하기 \n",
    "    shuffle(password_list)                                                    # 조합한 passwordlist 섞기 \n",
    "\n",
    "    password = \"\".join(password_list)                                       # list 형식을 join 함수를 사용하여 구분자(\"\") 기준으로 문자열 형식으로 합치기 \n",
    "    password_input.insert(0, password)                                      # password Etry에 출력하기 \n",
    "    pyperclip.copy(password)                                                # 생성된 password를 복사 하기 위해 클립보드 생성 \n",
    "    # password = \"\"\n",
    "    # for char in password_list:\n",
    "    #     password += char\n",
    "# ---------------------------- SAVE PASSWORD ------------------------------- #\n",
    "# 입력한 정보 저장 기능 함수 \n",
    "def save():\n",
    "    # get 메소드 사용 - 입력한 내용을 전달하는 역할\n",
    "    website = website_input.get()        # website 명 \n",
    "    email = userid_input.get()           # user_id\n",
    "    password = password_input.get()      # password 명 \n",
    "    new_data = {\n",
    "        website: {\n",
    "            \"email\": email,\n",
    "            \"password\": password\n",
    "        }\n",
    "    }\n",
    "    \n",
    "    # 유효성 검사 \n",
    "    if len(website) == 0 or len(password) == 0:       # 만약 website, password가 입력되지 않았다면,\n",
    "        messagebox.showinfo(title=\"Oops\", message=\"Please make sure you haven't left any fields empty.\")   # 메시지 출력\n",
    "    \n",
    "    # 그외 \n",
    "    else:\n",
    "        with open(\"data/data.json\", \"r\") as data_file:               # \"Read\"모드로 json 파일에 읽기\n",
    "            # Reading old data\n",
    "            data = json.load(data_file)                              # json 데이터 읽기 -> 위에 with문에 \"read\" 모드인 \"r\"지정 \n",
    "            # Update old data\n",
    "            data.update(new_data)                                    # 새로운 데이터로 업데이트 \n",
    "            \n",
    "        with open(\"data/data.json\", \"w\") as data_file:               # \"Write\"모드로 json 파일에 읽기\n",
    "            # Saving update data\n",
    "            json.dump(data, data_file, indent=4)                     # json 데이터 쓰기 -> json.dump - new_data 형식으로, 지정한 json 데이터 파일 쓰기, 4칸씩 들여쓰기 옵션으로\n",
    "            \n",
    "            website_input.delete(0, END)                             # 파일 저장 후 이전에 입력한 website 명을 삭제 \n",
    "            password_input.delete(0, END)                            # 파일 저장 후 이전에 입력한 password 삭제 \n",
    "\n",
    "# ---------------------------- UI SETUP ------------------------------- #\n",
    "# 기본 설정 \n",
    "window = Tk()                                     # tkinter 객체 선언 \n",
    "window.title(\"Password Manager\")                  # tkinter title 지정\n",
    "window.config(padx=50, pady=50)                   # pad(간격) 및 배경색 설정\n",
    "\n",
    "# canvas 사용 \n",
    "canvas = Canvas(width=200, height=200)            # canvas 객체 선언 - 선언시 크기 설정 \n",
    "lock_img = PhotoImage(file=\"./img/logo.png\")      # 이미지 불러오기 \n",
    "canvas.create_image(100, 100, image=lock_img)     # 이미지 생성 \n",
    "canvas.grid(row=0, column=1)                      # canvas 명시 \n",
    "\n",
    "# Labels\n",
    "website_label = Label(text=\"Website:\")            # label 1 설정 \n",
    "website_label.grid(row=1, column=0)               # label 1 명시 \n",
    "\n",
    "userid_label = Label(text=\"Email/Username:\")      # label 2 설정 \n",
    "userid_label.grid(row=2, column=0)                # label 2 명시 \n",
    "\n",
    "password_label = Label(text=\"Password:\")          # label 3 설정 \n",
    "password_label.grid(row=3, column=0)              # label 3 명시 \n",
    "\n",
    "# Entries\n",
    "website_input = Entry(width=36)                       # input 1 설정 \n",
    "website_input.grid(row=1, column=1, columnspan=2)     # input 1 명시\n",
    "website_input.focus()                                 # 시작시 webside input box에 커서 자동 생성\n",
    "\n",
    "userid_input = Entry(width=36)                           # input 2 설정 \n",
    "userid_input.grid(row=2, column=1, columnspan=2)         # input 2 설정 \n",
    "userid_input.insert(0, \"kisung.kim@a1mediagroup.co.kr\")  # 시작시 user_id를 미리 채워넣기\n",
    "\n",
    "\n",
    "password_input = Entry(width=21)                      # input 3 설정 \n",
    "password_input.grid(row=3, column=1)                  # input 3 설정 \n",
    "\n",
    "# buttons\n",
    "generate_button = Button(width=11, text=\"Generate Password\", command=generate_password)   # button 1 설정 \n",
    "generate_button.grid(row=3, column=2)                          # button 2 명시  \n",
    "\n",
    "add_button = Button(width=34, text=\"Add\", command=save)        # button 2 설정 - Add 버튼 클릭시 save 함수 동작\n",
    "add_button.grid(row=4, column=1, columnspan=2)                 # button 2 명시 \n",
    "\n",
    "# 닫기 버튼을 누르기 전까지 계속 구동\n",
    "window.mainloop()"
   ]
  },
  {
   "cell_type": "markdown",
   "id": "d775e6da",
   "metadata": {},
   "source": [
    "### 7. 패스워드 매니저 예외 처리 하기 "
   ]
  },
  {
   "cell_type": "code",
   "execution_count": null,
   "id": "dfd44294",
   "metadata": {},
   "outputs": [],
   "source": [
    "# 예외 처리 추가\n",
    "\n",
    "# 모듈 불러오기 \n",
    "from random import choice, randint, shuffle\n",
    "from tkinter import *            # 모든 클래스와 상수만을 임포트 함\n",
    "from tkinter import messagebox   # messagebox는 또다른 코드 모듈이기 때문에 따로 임포트 해야함. \n",
    "import pyperclip                 # 클리보드 생성기 \n",
    "import json                      # json 모듈 불러오기 \n",
    "\n",
    "# ---------------------------- PASSWORD GENERATOR ------------------------------- #\n",
    "# 비밀번호 생성 기능 만들기\n",
    "def generate_password():\n",
    "    # 비밀번호 조합을 위한 알파벳, 숫자, 기호들 \n",
    "    letters = ['a', 'b', 'c', 'd', 'e', 'f', 'g', 'h', 'i', 'j', 'k', 'l', 'm', \n",
    "               'n', 'o', 'p', 'q', 'r', 's', 't', 'u', 'v', 'w', 'x', 'y', 'z', \n",
    "               'A', 'B', 'C', 'D', 'E', 'F', 'G', 'H', 'I', 'J', 'K', 'L', 'M', \n",
    "               'N', 'O', 'P', 'Q', 'R', 'S', 'T', 'U', 'V', 'W', 'X', 'Y', 'Z']\n",
    "    numbers = ['0', '1', '2', '3', '4', '5', '6', '7', '8', '9']\n",
    "    symbols = ['!', '#', '$', '%', '&', '(', ')', '*', '+']\n",
    "\n",
    "    # password random 조합\n",
    "    password_letters = [choice(letters) for _ in range(randint(8, 10))]     # 알파벳 (대,소문자 상관 X) 8 ~ 10 글자 랜덤으로 추출 \n",
    "    password_symbols = [choice(symbols) for _ in range(randint(2, 4))]      # 기호 2 ~ 4 글자 랜덤으로 추출 \n",
    "    password_numbers = [choice(numbers) for _ in range(randint(2, 4))]      # 숫자 2 ~ 4 글자 랜덤으로 추출  \n",
    "\n",
    "    password_list = password_letters + password_symbols + password_numbers    # 알파벳, 기호, 숫자 조합하기 \n",
    "    shuffle(password_list)                                                    # 조합한 passwordlist 섞기 \n",
    "\n",
    "    password = \"\".join(password_list)                                       # list 형식을 join 함수를 사용하여 구분자(\"\") 기준으로 문자열 형식으로 합치기 \n",
    "    password_input.insert(0, password)                                      # password Etry에 출력하기 \n",
    "    pyperclip.copy(password)                                                # 생성된 password를 복사 하기 위해 클립보드 생성 \n",
    "    # password = \"\"\n",
    "    # for char in password_list:\n",
    "    #     password += char\n",
    "# ---------------------------- SAVE PASSWORD ------------------------------- #\n",
    "# 입력한 정보 저장 기능 함수 \n",
    "def save():\n",
    "    # get 메소드 사용 - 입력한 내용을 전달하는 역할\n",
    "    website = website_input.get()        # website 명 \n",
    "    email = userid_input.get()           # user_id\n",
    "    password = password_input.get()      # password 명 \n",
    "    new_data = {\n",
    "        website: {\n",
    "            \"email\": email,\n",
    "            \"password\": password\n",
    "        }\n",
    "    }\n",
    "    \n",
    "    # 유효성 검사 \n",
    "    if len(website) == 0 or len(password) == 0:       # 만약 website, password가 입력되지 않았다면,\n",
    "        messagebox.showinfo(title=\"Oops\", message=\"Please make sure you haven't left any fields empty.\")   # 메시지 출력\n",
    "    \n",
    "    # 그외 \n",
    "    else:\n",
    "        try:                                                             # 만약 json 파일이 있다면 \n",
    "            with open(\"data/data.json\", \"r\") as data_file:               # \"Read\"모드로 json 파일에 읽기\n",
    "                # Reading old data\n",
    "                data = json.load(data_file)                              # json 데이터 읽기 -> 위에 with문에 \"read\" 모드인 \"r\"지정 \n",
    "        except FileNotFoundError:                                        # 만약 json 파일이 없다면, - 예외 처리 부분 \n",
    "            with open(\"data/daya.json\", \"w\") as data_file:               # json 데이터 생성 \n",
    "                json.dump(new_data, data_file, indent=4)\n",
    "        else:                                                            # 위 코드블록이 모두 실행되면 \n",
    "            # Update old data\n",
    "            data.update(new_data)                                        # 새로운 데이터로 업데이트 \n",
    "            \n",
    "            with open(\"data/data.json\", \"w\") as data_file:               # \"Write\"모드로 json 파일에 읽기\n",
    "                # Saving update data\n",
    "                json.dump(data, data_file, indent=4)                     # json 데이터 쓰기 -> json.dump - new_data 형식으로, 지정한 json 데이터 파일 쓰기, 4칸씩 들여쓰기 옵션으로\n",
    "        finally:    \n",
    "            website_input.delete(0, END)                             # 파일 저장 후 이전에 입력한 website 명을 삭제 \n",
    "            password_input.delete(0, END)                            # 파일 저장 후 이전에 입력한 password 삭제 \n",
    "\n",
    "# ---------------------------- UI SETUP ------------------------------- #\n",
    "# 기본 설정 \n",
    "window = Tk()                                     # tkinter 객체 선언 \n",
    "window.title(\"Password Manager\")                  # tkinter title 지정\n",
    "window.config(padx=50, pady=50)                   # pad(간격) 및 배경색 설정\n",
    "\n",
    "# canvas 사용 \n",
    "canvas = Canvas(width=200, height=200)            # canvas 객체 선언 - 선언시 크기 설정 \n",
    "lock_img = PhotoImage(file=\"./img/logo.png\")      # 이미지 불러오기 \n",
    "canvas.create_image(100, 100, image=lock_img)     # 이미지 생성 \n",
    "canvas.grid(row=0, column=1)                      # canvas 명시 \n",
    "\n",
    "# Labels\n",
    "website_label = Label(text=\"Website:\")            # label 1 설정 \n",
    "website_label.grid(row=1, column=0)               # label 1 명시 \n",
    "\n",
    "userid_label = Label(text=\"Email/Username:\")      # label 2 설정 \n",
    "userid_label.grid(row=2, column=0)                # label 2 명시 \n",
    "\n",
    "password_label = Label(text=\"Password:\")          # label 3 설정 \n",
    "password_label.grid(row=3, column=0)              # label 3 명시 \n",
    "\n",
    "# Entries\n",
    "website_input = Entry(width=36)                       # input 1 설정 \n",
    "website_input.grid(row=1, column=1, columnspan=2)     # input 1 명시\n",
    "website_input.focus()                                 # 시작시 webside input box에 커서 자동 생성\n",
    "\n",
    "userid_input = Entry(width=36)                           # input 2 설정 \n",
    "userid_input.grid(row=2, column=1, columnspan=2)         # input 2 설정 \n",
    "userid_input.insert(0, \"kisung.kim@a1mediagroup.co.kr\")  # 시작시 user_id를 미리 채워넣기\n",
    "\n",
    "\n",
    "password_input = Entry(width=21)                      # input 3 설정 \n",
    "password_input.grid(row=3, column=1)                  # input 3 설정 \n",
    "\n",
    "# buttons\n",
    "generate_button = Button(width=11, text=\"Generate Password\", command=generate_password)   # button 1 설정 \n",
    "generate_button.grid(row=3, column=2)                          # button 2 명시  \n",
    "\n",
    "add_button = Button(width=34, text=\"Add\", command=save)        # button 2 설정 - Add 버튼 클릭시 save 함수 동작\n",
    "add_button.grid(row=4, column=1, columnspan=2)                 # button 2 명시 \n",
    "\n",
    "# 닫기 버튼을 누르기 전까지 계속 구동\n",
    "window.mainloop()"
   ]
  }
 ],
 "metadata": {
  "kernelspec": {
   "display_name": "Python 3 (ipykernel)",
   "language": "python",
   "name": "python3"
  },
  "language_info": {
   "codemirror_mode": {
    "name": "ipython",
    "version": 3
   },
   "file_extension": ".py",
   "mimetype": "text/x-python",
   "name": "python",
   "nbconvert_exporter": "python",
   "pygments_lexer": "ipython3",
   "version": "3.8.12"
  }
 },
 "nbformat": 4,
 "nbformat_minor": 5
}
