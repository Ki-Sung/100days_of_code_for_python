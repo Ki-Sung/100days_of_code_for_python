{
 "cells": [
  {
   "cell_type": "markdown",
   "id": "b0c0f090",
   "metadata": {},
   "source": [
    "## 오류, 예외, JSON 데이터: 패스워드 개선하기 \n",
    "- 파이썬에서 사용할수 있는 오류, 예외처리 그리고 JSON 데이터의 저정과 로딩 방법들을 배운다. \n",
    "- 오류, 예외처리, JSON 데이터에 대해 배운 뒤 29일차에 했던 Password manager를 개선하는데 활용한다."
   ]
  },
  {
   "cell_type": "markdown",
   "id": "ff1bb8c8",
   "metadata": {},
   "source": [
    "### 1. 예외 포착하기 - try, catch, except, finally 패턴"
   ]
  },
  {
   "cell_type": "code",
   "execution_count": 1,
   "id": "19581643",
   "metadata": {},
   "outputs": [
    {
     "ename": "FileNotFoundError",
     "evalue": "[Errno 2] No such file or directory: 'a_file.txt'",
     "output_type": "error",
     "traceback": [
      "\u001b[0;31m---------------------------------------------------------------------------\u001b[0m",
      "\u001b[0;31mFileNotFoundError\u001b[0m                         Traceback (most recent call last)",
      "Input \u001b[0;32mIn [1]\u001b[0m, in \u001b[0;36m<cell line: 1>\u001b[0;34m()\u001b[0m\n\u001b[0;32m----> 1\u001b[0m \u001b[38;5;28;01mwith\u001b[39;00m \u001b[38;5;28;43mopen\u001b[39;49m\u001b[43m(\u001b[49m\u001b[38;5;124;43m\"\u001b[39;49m\u001b[38;5;124;43ma_file.txt\u001b[39;49m\u001b[38;5;124;43m\"\u001b[39;49m\u001b[43m)\u001b[49m \u001b[38;5;28;01mas\u001b[39;00m file:\n\u001b[1;32m      2\u001b[0m     file\u001b[38;5;241m.\u001b[39mread\n",
      "\u001b[0;31mFileNotFoundError\u001b[0m: [Errno 2] No such file or directory: 'a_file.txt'"
     ]
    }
   ],
   "source": [
    "# 들어가기전 예제(에러 종류) - FileNotFound\n",
    "with open(\"a_file.txt\") as file:\n",
    "    file.read"
   ]
  },
  {
   "cell_type": "code",
   "execution_count": 2,
   "id": "54411c29",
   "metadata": {},
   "outputs": [
    {
     "ename": "KeyError",
     "evalue": "'non_existent_key'",
     "output_type": "error",
     "traceback": [
      "\u001b[0;31m---------------------------------------------------------------------------\u001b[0m",
      "\u001b[0;31mKeyError\u001b[0m                                  Traceback (most recent call last)",
      "Input \u001b[0;32mIn [2]\u001b[0m, in \u001b[0;36m<cell line: 3>\u001b[0;34m()\u001b[0m\n\u001b[1;32m      1\u001b[0m \u001b[38;5;66;03m#  들어가기전 예제 - Key error \u001b[39;00m\n\u001b[1;32m      2\u001b[0m a_dictionary \u001b[38;5;241m=\u001b[39m {\u001b[38;5;124m\"\u001b[39m\u001b[38;5;124mkey\u001b[39m\u001b[38;5;124m\"\u001b[39m: \u001b[38;5;124m\"\u001b[39m\u001b[38;5;124mvalue\u001b[39m\u001b[38;5;124m\"\u001b[39m}\n\u001b[0;32m----> 3\u001b[0m value \u001b[38;5;241m=\u001b[39m \u001b[43ma_dictionary\u001b[49m\u001b[43m[\u001b[49m\u001b[38;5;124;43m\"\u001b[39;49m\u001b[38;5;124;43mnon_existent_key\u001b[39;49m\u001b[38;5;124;43m\"\u001b[39;49m\u001b[43m]\u001b[49m\n",
      "\u001b[0;31mKeyError\u001b[0m: 'non_existent_key'"
     ]
    }
   ],
   "source": [
    "# 들어가기전 예제(에러 종류) - KeyError \n",
    "a_dictionary = {\"key\": \"value\"}\n",
    "value = a_dictionary[\"non_existent_key\"]"
   ]
  },
  {
   "cell_type": "code",
   "execution_count": 3,
   "id": "8eaa1c33",
   "metadata": {},
   "outputs": [
    {
     "ename": "IndexError",
     "evalue": "list index out of range",
     "output_type": "error",
     "traceback": [
      "\u001b[0;31m---------------------------------------------------------------------------\u001b[0m",
      "\u001b[0;31mIndexError\u001b[0m                                Traceback (most recent call last)",
      "Input \u001b[0;32mIn [3]\u001b[0m, in \u001b[0;36m<cell line: 3>\u001b[0;34m()\u001b[0m\n\u001b[1;32m      1\u001b[0m \u001b[38;5;66;03m#  들어가기전 예제 - IndexError\u001b[39;00m\n\u001b[1;32m      2\u001b[0m fruit_list \u001b[38;5;241m=\u001b[39m [\u001b[38;5;124m\"\u001b[39m\u001b[38;5;124mApple\u001b[39m\u001b[38;5;124m\"\u001b[39m, \u001b[38;5;124m\"\u001b[39m\u001b[38;5;124mBanna\u001b[39m\u001b[38;5;124m\"\u001b[39m, \u001b[38;5;124m\"\u001b[39m\u001b[38;5;124mPear\u001b[39m\u001b[38;5;124m\"\u001b[39m]\n\u001b[0;32m----> 3\u001b[0m fruit \u001b[38;5;241m=\u001b[39m \u001b[43mfruit_list\u001b[49m\u001b[43m[\u001b[49m\u001b[38;5;241;43m3\u001b[39;49m\u001b[43m]\u001b[49m\n",
      "\u001b[0;31mIndexError\u001b[0m: list index out of range"
     ]
    }
   ],
   "source": [
    "# 들어가기전 예제 - IndexError\n",
    "fruit_list = [\"Apple\", \"Banna\", \"Pear\"]\n",
    "fruit = fruit_list[3]"
   ]
  },
  {
   "cell_type": "code",
   "execution_count": 4,
   "id": "bf2e7eb3",
   "metadata": {},
   "outputs": [
    {
     "ename": "TypeError",
     "evalue": "can only concatenate str (not \"int\") to str",
     "output_type": "error",
     "traceback": [
      "\u001b[0;31m---------------------------------------------------------------------------\u001b[0m",
      "\u001b[0;31mTypeError\u001b[0m                                 Traceback (most recent call last)",
      "Input \u001b[0;32mIn [4]\u001b[0m, in \u001b[0;36m<cell line: 3>\u001b[0;34m()\u001b[0m\n\u001b[1;32m      1\u001b[0m \u001b[38;5;66;03m# 들어가기전 예제 - TypeError\u001b[39;00m\n\u001b[1;32m      2\u001b[0m text \u001b[38;5;241m=\u001b[39m \u001b[38;5;124m\"\u001b[39m\u001b[38;5;124mabc\u001b[39m\u001b[38;5;124m\"\u001b[39m\n\u001b[0;32m----> 3\u001b[0m \u001b[38;5;28mprint\u001b[39m(\u001b[43mtext\u001b[49m\u001b[43m \u001b[49m\u001b[38;5;241;43m+\u001b[39;49m\u001b[43m \u001b[49m\u001b[38;5;241;43m5\u001b[39;49m)\n",
      "\u001b[0;31mTypeError\u001b[0m: can only concatenate str (not \"int\") to str"
     ]
    }
   ],
   "source": [
    "# 들어가기전 예제 - TypeError\n",
    "text = \"abc\"\n",
    "print(text + 5)"
   ]
  },
  {
   "cell_type": "markdown",
   "id": "49bf66ca",
   "metadata": {},
   "source": [
    "- 프로그래밍에서 위와 같이 에러들을 예외처리 할 수 있다. \n",
    "- 그 예외처리에 사용하는 키워드들은 \"try\", \"except\", \"else\", \"finally\"이다. \n",
    "    - try: 예외를 유발할 수 있는 뭔가를 실행하는 코드 블록을 가르킨다. \n",
    "    - except: 블록을 정의하는 단계이며, 이 코드 블록은 만약에 예외가 있었다면, 컴퓨터가 실행하게 하려는 블록이다. \n",
    "    - else: 예외가 없었을 때 실행할 코드를 정의할 수 있게 해준다. \n",
    "    - finally: 기본적으로 어떤 일이 일어나더라도 실행해야 할 코드 블록을 가르킨다."
   ]
  },
  {
   "cell_type": "code",
   "execution_count": 5,
   "id": "27ccab8d",
   "metadata": {},
   "outputs": [
    {
     "name": "stdout",
     "output_type": "stream",
     "text": [
      "There was an error\n"
     ]
    }
   ],
   "source": [
    "# 예외 처리하기 FileNotFound \n",
    "# try안에 파일이 존재하지 않기 때문에, 예외처리 후 except 구문으로 실행\n",
    "try:\n",
    "    file = open(\"a_file.txt\")\n",
    "except:\n",
    "    print(\"There was an error\")"
   ]
  },
  {
   "cell_type": "code",
   "execution_count": 8,
   "id": "7c1409bc",
   "metadata": {},
   "outputs": [],
   "source": [
    "# 예외 처리하기 FileNotFound \n",
    "# try안에 파일이 존재하지 않기 때문에, 예외처리 후 except 구문으로 실행\n",
    "try:\n",
    "    file = open(\"data/a_file.txt\")        # data/a_file.txt 파일 불러오기 예외처리\n",
    "except:                                   # 위에 예외처리 되면, 실행 \n",
    "    file = open(\"data/a_file.txt\", \"w\")   # data 폴더에 a_file.txt 생성 \n",
    "    file.write(\"Something\")               # a_file.txt에 입력하기 "
   ]
  },
  {
   "cell_type": "code",
   "execution_count": 10,
   "id": "06ef6bac",
   "metadata": {},
   "outputs": [
    {
     "ename": "KeyError",
     "evalue": "'sdfjkdf'",
     "output_type": "error",
     "traceback": [
      "\u001b[0;31m---------------------------------------------------------------------------\u001b[0m",
      "\u001b[0;31mKeyError\u001b[0m                                  Traceback (most recent call last)",
      "Input \u001b[0;32mIn [10]\u001b[0m, in \u001b[0;36m<cell line: 3>\u001b[0;34m()\u001b[0m\n\u001b[1;32m      4\u001b[0m     file \u001b[38;5;241m=\u001b[39m \u001b[38;5;28mopen\u001b[39m(\u001b[38;5;124m\"\u001b[39m\u001b[38;5;124mdata/a_file.txt\u001b[39m\u001b[38;5;124m\"\u001b[39m)        \u001b[38;5;66;03m# data/a_file.txt 파일 불러오기 예외처리\u001b[39;00m\n\u001b[1;32m      5\u001b[0m     a_dictionary \u001b[38;5;241m=\u001b[39m {\u001b[38;5;124m\"\u001b[39m\u001b[38;5;124mkey\u001b[39m\u001b[38;5;124m\"\u001b[39m:\u001b[38;5;124m\"\u001b[39m\u001b[38;5;124mvalue\u001b[39m\u001b[38;5;124m\"\u001b[39m}\n\u001b[0;32m----> 6\u001b[0m     \u001b[38;5;28mprint\u001b[39m(\u001b[43ma_dictionary\u001b[49m\u001b[43m[\u001b[49m\u001b[38;5;124;43m\"\u001b[39;49m\u001b[38;5;124;43msdfjkdf\u001b[39;49m\u001b[38;5;124;43m\"\u001b[39;49m\u001b[43m]\u001b[49m)\n\u001b[1;32m      7\u001b[0m \u001b[38;5;28;01mexcept\u001b[39;00m \u001b[38;5;167;01mFileNotFoundError\u001b[39;00m:                 \u001b[38;5;66;03m# 위에 예외처리 되면, 실행 \u001b[39;00m\n\u001b[1;32m      8\u001b[0m     file \u001b[38;5;241m=\u001b[39m \u001b[38;5;28mopen\u001b[39m(\u001b[38;5;124m\"\u001b[39m\u001b[38;5;124mdata/a_file.txt\u001b[39m\u001b[38;5;124m\"\u001b[39m, \u001b[38;5;124m\"\u001b[39m\u001b[38;5;124mw\u001b[39m\u001b[38;5;124m\"\u001b[39m)   \u001b[38;5;66;03m# data 폴더에 a_file.txt 생성 \u001b[39;00m\n",
      "\u001b[0;31mKeyError\u001b[0m: 'sdfjkdf'"
     ]
    }
   ],
   "source": [
    "# 예외 처리하기 KeyError \n",
    "# try안에 키 값 존재하지 않기 때문에, 예외처리 후 except 구문으로 실행\n",
    "try:\n",
    "    file = open(\"data/a_file.txt\")        # data/a_file.txt 파일 불러오기 예외처리\n",
    "    a_dictionary = {\"key\":\"value\"}        # 딕셔너리 선언 \n",
    "    print(a_dictionary[\"sdfjkdf\"])        # 키값 출력하기 \n",
    "except FileNotFoundError:                 # 위에 예외처리 되면, 실행 (파일 에러) \n",
    "    file = open(\"data/a_file.txt\", \"w\")   # data 폴더에 a_file.txt 생성 \n",
    "    file.write(\"Something\")               # a_file.txt에 입력하기 "
   ]
  },
  {
   "cell_type": "code",
   "execution_count": 13,
   "id": "fbec38d0",
   "metadata": {},
   "outputs": [
    {
     "name": "stdout",
     "output_type": "stream",
     "text": [
      "That key 'sdfjkdf' does ont exist.\n"
     ]
    }
   ],
   "source": [
    "# try안에 키 값이 존재하지 않기 때문에, 예외처리 후 except 구문으로 실행\n",
    "try:\n",
    "    file = open(\"data/a_file.txt\")        # data/a_file.txt 파일 불러오기 예외처리\n",
    "    a_dictionary = {\"key\":\"value\"}        # 딕셔너리 선언 \n",
    "    print(a_dictionary[\"sdfjkdf\"])        # 키값 출력하기 \n",
    "except FileNotFoundError:                 # 위에 예외처리 되면, 실행 (파일에러)\n",
    "    file = open(\"data/a_file.txt\", \"w\")   # data 폴더에 a_file.txt 생성 \n",
    "    file.write(\"Something\")               # a_file.txt에 입력하기 \n",
    "except KeyError as error_message:          # 위에 예외처리 되면, 실행 (키 에러 )\n",
    "    print(f\"That key {error_message} does ont exist.\")     # 출력 "
   ]
  },
  {
   "cell_type": "code",
   "execution_count": 15,
   "id": "0557c3fa",
   "metadata": {},
   "outputs": [
    {
     "name": "stdout",
     "output_type": "stream",
     "text": [
      "value\n",
      "Something\n"
     ]
    }
   ],
   "source": [
    "# else 활용 - 위 코드 블록을 모두 오류없이(try 구문에 코드 블록이 실행되었을 때) 실행되었을 때, 살행됨. \n",
    "# try안에 키 값이 존재하지 않기 때문에, 예외처리 후 except 구문으로 실행\n",
    "try:\n",
    "    file = open(\"data/a_file.txt\")        # data/a_file.txt 파일 불러오기 예외처리\n",
    "    a_dictionary = {\"key\":\"value\"}        # 딕셔너리 선언 \n",
    "    print(a_dictionary[\"key\"])        # 키값 출력하기 \n",
    "except FileNotFoundError:                 # 위에 예외처리 되면, 실행 (파일에러)\n",
    "    file = open(\"data/a_file.txt\", \"w\")   # data 폴더에 a_file.txt 생성 \n",
    "    file.write(\"Something\")               # a_file.txt에 입력하기 \n",
    "except KeyError as error_message:          # 위에 예외처리 되면, 실행 (키 에러 )\n",
    "    print(f\"That key {error_message} does ont exist.\")     # 출력\n",
    "else:\n",
    "    content = file.read()\n",
    "    print(content)"
   ]
  },
  {
   "cell_type": "code",
   "execution_count": 16,
   "id": "d5b99f41",
   "metadata": {},
   "outputs": [
    {
     "name": "stdout",
     "output_type": "stream",
     "text": [
      "value\n",
      "Something\n",
      "File was closed.\n"
     ]
    }
   ],
   "source": [
    "# finally 활용 - 기본적으로 어떤 일이 일어나도 실행될 코드 \n",
    "# try안에 키 값이 존재하지 않기 때문에, 예외처리 후 except 구문으로 실행\n",
    "try:\n",
    "    file = open(\"data/a_file.txt\")        # data/a_file.txt 파일 불러오기 예외처리\n",
    "    a_dictionary = {\"key\":\"value\"}        # 딕셔너리 선언 \n",
    "    print(a_dictionary[\"key\"])        # 키값 출력하기 \n",
    "except FileNotFoundError:                 # 위에 예외처리 되면, 실행 (파일에러)\n",
    "    file = open(\"data/a_file.txt\", \"w\")   # data 폴더에 a_file.txt 생성 \n",
    "    file.write(\"Something\")               # a_file.txt에 입력하기 \n",
    "except KeyError as error_message:          # 위에 예외처리 되면, 실행 (키 에러 )\n",
    "    print(f\"That key {error_message} does ont exist.\")     # 출력\n",
    "else:                                    # 위 구문의 블록이 실행 되었다면(try, except구문에), \n",
    "    content = file.read()                # 파일 읽고 \n",
    "    print(content)                       # 결과 출력 \n",
    "finally:                                 # 위 구문이 성공하든 실패하든 \n",
    "    file.close()                         # 파일 닫고,\n",
    "    print(\"File was closed.\")            # 결과물 출력"
   ]
  },
  {
   "cell_type": "markdown",
   "id": "aea19637",
   "metadata": {},
   "source": [
    "### 2. 나만의 예외 생성하기 "
   ]
  },
  {
   "cell_type": "code",
   "execution_count": 18,
   "id": "e1f93ea9",
   "metadata": {},
   "outputs": [
    {
     "name": "stdout",
     "output_type": "stream",
     "text": [
      "value\n",
      "Something\n"
     ]
    },
    {
     "ename": "KeyError",
     "evalue": "",
     "output_type": "error",
     "traceback": [
      "\u001b[0;31m---------------------------------------------------------------------------\u001b[0m",
      "\u001b[0;31mKeyError\u001b[0m                                  Traceback (most recent call last)",
      "Input \u001b[0;32mIn [18]\u001b[0m, in \u001b[0;36m<cell line: 3>\u001b[0;34m()\u001b[0m\n\u001b[1;32m     14\u001b[0m     \u001b[38;5;28mprint\u001b[39m(content)                       \u001b[38;5;66;03m# 결과 출력 \u001b[39;00m\n\u001b[1;32m     15\u001b[0m \u001b[38;5;28;01mfinally\u001b[39;00m:                                 \u001b[38;5;66;03m# 위 구문이 성공하든 실패하든 \u001b[39;00m\n\u001b[0;32m---> 16\u001b[0m     \u001b[38;5;28;01mraise\u001b[39;00m \u001b[38;5;167;01mKeyError\u001b[39;00m\n",
      "\u001b[0;31mKeyError\u001b[0m: "
     ]
    }
   ],
   "source": [
    "# raise 키워드 - 자신만의 예외를 생성할 수 있다.\n",
    "\n",
    "try:\n",
    "    file = open(\"data/a_file.txt\")        # data/a_file.txt 파일 불러오기 예외처리\n",
    "    a_dictionary = {\"key\":\"value\"}        # 딕셔너리 선언 \n",
    "    print(a_dictionary[\"key\"])        # 키값 출력하기 \n",
    "except FileNotFoundError:                 # 위에 예외처리 되면, 실행 (파일에러)\n",
    "    file = open(\"data/a_file.txt\", \"w\")   # data 폴더에 a_file.txt 생성 \n",
    "    file.write(\"Something\")               # a_file.txt에 입력하기 \n",
    "except KeyError as error_message:          # 위에 예외처리 되면, 실행 (키 에러 )\n",
    "    print(f\"That key {error_message} does ont exist.\")     # 출력\n",
    "else:                                    # 위 구문의 블록이 실행 되었다면(try, except구문에), \n",
    "    content = file.read()                # 파일 읽고 \n",
    "    print(content)                       # 결과 출력 \n",
    "finally:                                 # 위 구문이 성공하든 실패하든 \n",
    "    raise KeyError                       # 위에 구문이 성공하든 실패하든 KeyError 발생 "
   ]
  },
  {
   "cell_type": "code",
   "execution_count": 19,
   "id": "8c275e1b",
   "metadata": {},
   "outputs": [
    {
     "name": "stdout",
     "output_type": "stream",
     "text": [
      "value\n",
      "Something\n"
     ]
    },
    {
     "ename": "TypeError",
     "evalue": "This is an error that I made up.",
     "output_type": "error",
     "traceback": [
      "\u001b[0;31m---------------------------------------------------------------------------\u001b[0m",
      "\u001b[0;31mTypeError\u001b[0m                                 Traceback (most recent call last)",
      "Input \u001b[0;32mIn [19]\u001b[0m, in \u001b[0;36m<cell line: 4>\u001b[0;34m()\u001b[0m\n\u001b[1;32m     15\u001b[0m     \u001b[38;5;28mprint\u001b[39m(content)                       \u001b[38;5;66;03m# 결과 출력 \u001b[39;00m\n\u001b[1;32m     16\u001b[0m \u001b[38;5;28;01mfinally\u001b[39;00m:                                 \u001b[38;5;66;03m# 위 구문이 성공하든 실패하든 \u001b[39;00m\n\u001b[0;32m---> 17\u001b[0m     \u001b[38;5;28;01mraise\u001b[39;00m \u001b[38;5;167;01mTypeError\u001b[39;00m(\u001b[38;5;124m\"\u001b[39m\u001b[38;5;124mThis is an error that I made up.\u001b[39m\u001b[38;5;124m\"\u001b[39m)\n",
      "\u001b[0;31mTypeError\u001b[0m: This is an error that I made up."
     ]
    }
   ],
   "source": [
    "# raise 키워드 - 자신만의 예외를 생성할 수 있다.\n",
    "# 다른 에러도 사용할 수 있다. \n",
    "\n",
    "try:\n",
    "    file = open(\"data/a_file.txt\")        # data/a_file.txt 파일 불러오기 예외처리\n",
    "    a_dictionary = {\"key\":\"value\"}        # 딕셔너리 선언 \n",
    "    print(a_dictionary[\"key\"])        # 키값 출력하기 \n",
    "except FileNotFoundError:                 # 위에 예외처리 되면, 실행 (파일에러)\n",
    "    file = open(\"data/a_file.txt\", \"w\")   # data 폴더에 a_file.txt 생성 \n",
    "    file.write(\"Something\")               # a_file.txt에 입력하기 \n",
    "except KeyError as error_message:          # 위에 예외처리 되면, 실행 (키 에러 )\n",
    "    print(f\"That key {error_message} does ont exist.\")     # 출력\n",
    "else:                                    # 위 구문의 블록이 실행 되었다면(try, except구문에), \n",
    "    content = file.read()                # 파일 읽고 \n",
    "    print(content)                       # 결과 출력 \n",
    "finally:                                 # 위 구문이 성공하든 실패하든 \n",
    "    raise TypeError(\"This is an error that I made up.\")     # 위에 구문이 성공하든 실패하든 TypeError 발생  - 메시지 사용 가능"
   ]
  },
  {
   "cell_type": "code",
   "execution_count": 21,
   "id": "04118321",
   "metadata": {},
   "outputs": [
    {
     "name": "stdout",
     "output_type": "stream",
     "text": [
      "Height: 4\n",
      "Weight: 60\n"
     ]
    },
    {
     "ename": "ValueError",
     "evalue": "Human Heigh should not be over 3 meters.",
     "output_type": "error",
     "traceback": [
      "\u001b[0;31m---------------------------------------------------------------------------\u001b[0m",
      "\u001b[0;31mValueError\u001b[0m                                Traceback (most recent call last)",
      "Input \u001b[0;32mIn [21]\u001b[0m, in \u001b[0;36m<cell line: 5>\u001b[0;34m()\u001b[0m\n\u001b[1;32m      3\u001b[0m weigth \u001b[38;5;241m=\u001b[39m \u001b[38;5;28mint\u001b[39m(\u001b[38;5;28minput\u001b[39m(\u001b[38;5;124m\"\u001b[39m\u001b[38;5;124mWeight: \u001b[39m\u001b[38;5;124m\"\u001b[39m))\n\u001b[1;32m      5\u001b[0m \u001b[38;5;28;01mif\u001b[39;00m height \u001b[38;5;241m>\u001b[39m \u001b[38;5;241m3\u001b[39m:\n\u001b[0;32m----> 6\u001b[0m     \u001b[38;5;28;01mraise\u001b[39;00m \u001b[38;5;167;01mValueError\u001b[39;00m(\u001b[38;5;124m\"\u001b[39m\u001b[38;5;124mHuman Heigh should not be over 3 meters.\u001b[39m\u001b[38;5;124m\"\u001b[39m)\n\u001b[1;32m      8\u001b[0m bmi \u001b[38;5;241m=\u001b[39m weigth \u001b[38;5;241m/\u001b[39m height \u001b[38;5;241m*\u001b[39m\u001b[38;5;241m*\u001b[39m \u001b[38;5;241m2\u001b[39m\n\u001b[1;32m      9\u001b[0m \u001b[38;5;28mprint\u001b[39m(bmi)\n",
      "\u001b[0;31mValueError\u001b[0m: Human Heigh should not be over 3 meters."
     ]
    }
   ],
   "source": [
    "# 예시 1 - BMI 계산 나만의 예외 생성하기 \n",
    "height = float(input(\"Height: \"))    # 키 입력 \n",
    "weigth = int(input(\"Weight: \"))      # 몸무게 입력 \n",
    "\n",
    "# 나만의 예외 조항 걸기 - 만약 키가 3미터 보다 크면 에러 생성 \n",
    "if height > 3:\n",
    "    raise ValueError(\"Human Heigh should not be over 3 meters.\")\n",
    "\n",
    "# bmi 계산 결과 생성 \n",
    "bmi = weigth / height ** 2\n",
    "print(bmi)"
   ]
  },
  {
   "cell_type": "markdown",
   "id": "c7c5d821",
   "metadata": {},
   "source": [
    "### 3. [대화형 코딩 예제] IndexError 처리"
   ]
  },
  {
   "cell_type": "code",
   "execution_count": 26,
   "id": "2ec304d8",
   "metadata": {},
   "outputs": [
    {
     "name": "stdout",
     "output_type": "stream",
     "text": [
      "Fruit Pie\n"
     ]
    }
   ],
   "source": [
    "# 예제 1 - 인덱스 에러 처리  solution 1\n",
    "fruits = [\"Apple\", \"Pear\", \"Orange\"]      # 과일 리스트\n",
    "\n",
    "#TODO: Catch the exception and make sure the code runs without crashing.\n",
    "# pie를 드는 함수 선언 \n",
    "def make_pie(index):\n",
    "    try:                         # 만약 정상 동작할 시 \n",
    "        fruit = fruits[index]    # index 번호를 사용하면\n",
    "        print(fruit + \" pie\")    # index 범위 내 과일과 파이 출력\n",
    "    except:                      # 위의 코드 블록이 에러가 날 경우\n",
    "        print(\"Fruit Pie\")       # \"Fruite Pie\" 출력\n",
    "\n",
    "make_pie(4)"
   ]
  },
  {
   "cell_type": "code",
   "execution_count": 27,
   "id": "30199623",
   "metadata": {},
   "outputs": [
    {
     "name": "stdout",
     "output_type": "stream",
     "text": [
      "Fruite Pie\n"
     ]
    }
   ],
   "source": [
    "# 예제 1 - 인덱스 에러 처리  solution 2  \n",
    "fruits = [\"Apple\", \"Pear\", \"Orange\"]      # 과일 리스트\n",
    "\n",
    "#TODO: Catch the exception and make sure the code runs without crashing.\n",
    "# pie를 드는 함수 선언 \n",
    "def make_pie(index):\n",
    "    try:                         # 만약 정상 동작할 시 \n",
    "        fruit = fruits[index]    # index 번호를 사용하면\n",
    "    except IndexError:           # 위의 코드 블록이 에러가 날 경우\n",
    "        print(\"Fruite Pie\")      # \"Fruite Pie\" 출력\n",
    "    else:                        # 만약 try문 이상이 없을 시   \n",
    "        print(fruit + \" pie\")    # 과일과 파이 출력\n",
    "\n",
    "make_pie(4)"
   ]
  },
  {
   "cell_type": "markdown",
   "id": "7eddaa26",
   "metadata": {},
   "source": [
    "### 4. [대화형 코딩 예제] KeyError 처리"
   ]
  },
  {
   "cell_type": "code",
   "execution_count": 2,
   "id": "d7eb4e84",
   "metadata": {},
   "outputs": [
    {
     "name": "stdout",
     "output_type": "stream",
     "text": [
      "86\n"
     ]
    }
   ],
   "source": [
    "# 예제 2 - Key 에러 처리 solution 1\n",
    "\n",
    "# 페이스북 포스트 개수 - 딕셔너리 타입\n",
    "facebook_posts = [\n",
    "    {'Likes': 21, 'Comments': 2}, \n",
    "    {'Likes': 13, 'Comments': 2, 'Shares': 1}, \n",
    "    {'Likes': 33, 'Comments': 8, 'Shares': 3}, \n",
    "    {'Comments': 4, 'Shares': 2}, \n",
    "    {'Comments': 1, 'Shares': 1}, \n",
    "    {'Likes': 19, 'Comments': 3}\n",
    "]\n",
    "\n",
    "# 총 좋아요 개수를 새기 위한 초기 값 \n",
    "total_likes = 0\n",
    "\n",
    "# 좋아요 개수 체크 \n",
    "for post in facebook_posts:\n",
    "    try:                                          # 만약 key가 Likes가 있을 시\n",
    "        total_likes = total_likes + post['Likes'] # 좋아요 개수 세기 \n",
    "    except:                                       # 위 코드가 에러나 예외처리 될 시 \n",
    "        total_likes = total_likes + 0             # 0으로 세기\n",
    "\n",
    "# 결과 출력\n",
    "print(total_likes)"
   ]
  },
  {
   "cell_type": "code",
   "execution_count": 3,
   "id": "bef0b029",
   "metadata": {},
   "outputs": [
    {
     "name": "stdout",
     "output_type": "stream",
     "text": [
      "86\n"
     ]
    }
   ],
   "source": [
    "# 예제 2 - Key 에러 처리 solution 2\n",
    "\n",
    "# 페이스북 포스트 개수 - 딕셔너리 타입\n",
    "facebook_posts = [\n",
    "    {'Likes': 21, 'Comments': 2}, \n",
    "    {'Likes': 13, 'Comments': 2, 'Shares': 1}, \n",
    "    {'Likes': 33, 'Comments': 8, 'Shares': 3}, \n",
    "    {'Comments': 4, 'Shares': 2}, \n",
    "    {'Comments': 1, 'Shares': 1}, \n",
    "    {'Likes': 19, 'Comments': 3}\n",
    "]\n",
    "\n",
    "# 총 좋아요 개수를 새기 위한 초기 값 \n",
    "total_likes = 0\n",
    "\n",
    "# 좋아요 개수 체크 \n",
    "for post in facebook_posts:\n",
    "    try:                                          # 만약 key가 Likes가 있을 시\n",
    "        total_likes = total_likes + post['Likes'] # 좋아요 개수 세기 \n",
    "    except KeyError:                              # 위 코드가 에러나 예외처리 될 시 \n",
    "        pass                                      # pass 하기 \n",
    "\n",
    "# 결과 출력\n",
    "print(total_likes)"
   ]
  },
  {
   "cell_type": "code",
   "execution_count": null,
   "id": "b9c49c0b",
   "metadata": {},
   "outputs": [],
   "source": []
  }
 ],
 "metadata": {
  "kernelspec": {
   "display_name": "Python 3 (ipykernel)",
   "language": "python",
   "name": "python3"
  },
  "language_info": {
   "codemirror_mode": {
    "name": "ipython",
    "version": 3
   },
   "file_extension": ".py",
   "mimetype": "text/x-python",
   "name": "python",
   "nbconvert_exporter": "python",
   "pygments_lexer": "ipython3",
   "version": "3.8.12"
  }
 },
 "nbformat": 4,
 "nbformat_minor": 5
}
