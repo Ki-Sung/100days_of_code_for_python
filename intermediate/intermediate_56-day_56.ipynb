{
 "cells": [
  {
   "cell_type": "markdown",
   "id": "48293c7f",
   "metadata": {},
   "source": [
    "## 플라스크를 이용한 웹 개발 - 정적 파일, HTML/CSS 파일 렌더링과 개인 사이트 만들기\n",
    "- 정적 파일에 대해 알아보고, HTML, CSS 파일 렌더링 하는 방법을 알아본다.\n",
    "- 그리고 플라스크를 이용해서 개인 명함 사이트를 만든다."
   ]
  },
  {
   "cell_type": "code",
   "execution_count": null,
   "id": "7fe60108",
   "metadata": {},
   "outputs": [],
   "source": []
  }
 ],
 "metadata": {
  "kernelspec": {
   "display_name": "Python 3 (ipykernel)",
   "language": "python",
   "name": "python3"
  },
  "language_info": {
   "codemirror_mode": {
    "name": "ipython",
    "version": 3
   },
   "file_extension": ".py",
   "mimetype": "text/x-python",
   "name": "python",
   "nbconvert_exporter": "python",
   "pygments_lexer": "ipython3",
   "version": "3.8.12"
  }
 },
 "nbformat": 4,
 "nbformat_minor": 5
}
