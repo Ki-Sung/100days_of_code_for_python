{
 "cells": [
  {
   "cell_type": "markdown",
   "id": "48293c7f",
   "metadata": {},
   "source": [
    "## 플라스크를 이용한 웹 개발 - 정적 파일, HTML/CSS 파일 렌더링과 개인 사이트 만들기\n",
    "- 정적 파일에 대해 알아보고, HTML, CSS 파일 렌더링 하는 방법을 알아본다.\n",
    "- 그리고 플라스크를 이용해서 개인 명함 사이트를 만든다."
   ]
  },
  {
   "cell_type": "markdown",
   "id": "41bada8b",
   "metadata": {},
   "source": [
    "### 플라스크로 HTML 파일 랜더링 하기 \n",
    "- render_template()을 통해 html을 참조하여 랜더링 한다.\n",
    "- 템플은 templates 폴더 안에 있어야 한다.\n",
    "- 그리고 플라스크 클래스에 render_template을 임포트 해준다."
   ]
  },
  {
   "cell_type": "markdown",
   "id": "3ddc0171",
   "metadata": {},
   "source": [
    "- index.html\n",
    "```\n",
    "<!DOCTYPE html>\n",
    "<html lang=\"en\">\n",
    "<head>\n",
    "    <meta charset=\"UTF-8\">\n",
    "    <title>Gilbert</title>\n",
    "</head>\n",
    "<body>\n",
    "    <h1>I'm Gilbert</h1>\n",
    "</body>\n",
    "</html>\n",
    "```"
   ]
  },
  {
   "cell_type": "code",
   "execution_count": null,
   "id": "1a51e5ec",
   "metadata": {},
   "outputs": [],
   "source": [
    "# 플라스크 및 render_template() 불러오기 \n",
    "# server.py\n",
    "from flask import Flask, render_template\n",
    "\n",
    "app = Flask(__name__)\n",
    "\n",
    "# main 페이지 - html 랜더링\n",
    "@app.route('/')\n",
    "def hello_world():\n",
    "    return render_template(\"index.html\")\n",
    "            \n",
    "if __name__ == '__main__':\n",
    "    app.run(debug=True)"
   ]
  },
  {
   "cell_type": "markdown",
   "id": "25f028c4",
   "metadata": {},
   "source": [
    "### 플라스크를 이용하여 정적 파일 서브하기 \n",
    "- 만약 정저 파일(css 파일)을 랜더링 하려면 static이라는 폴더를 생성하여 해당 폴더안에 넣어야 한다."
   ]
  },
  {
   "cell_type": "markdown",
   "id": "7a36ba3f",
   "metadata": {},
   "source": [
    "- gilbert.html\n",
    "```\n",
    "<!-- 문서 유형 선언 어떤 HTML 버전을 사용하고 있는지 등을 명시 -->\n",
    "<!DOCTYPE html>\n",
    "<html>\n",
    "    <!--head - 웹페이지의 정보를 담고 있음 -->\n",
    "    <head>\n",
    "        <!-- 문자 인코딩 - UTF-8 설정 -->\n",
    "        <meta charset=\"UTF-8\">\n",
    "        <title>Gilber's Personal Site</title>\n",
    "        <link rel=\"stylesheet\" href=\"./css/styles.css\">\n",
    "    </head>\n",
    "    <!--body - 실제로 화면에 나타내는 내용을 담는 태그 -->\n",
    "    <body>\n",
    "        <!-- 기본 정보 및 인사말 -->\n",
    "        <table cellspacing=\"20\">\n",
    "            <tr>\n",
    "                <td>\n",
    "                    <img src=\"static/gilbert-modified.png\" style=\"width:250px; height:250px;\"alt=\"Gilbert profile picture\"/>\n",
    "                </td>\n",
    "                <td>\n",
    "                    <h1>Gilbert Kim</h1>\n",
    "                    <p><em>Data Engineer of <strong><a href=\"https://www.perfact.co.kr/\">Aone Performance Factory</a></strong></em></p>\n",
    "                    <p><em>Department of <strong>Data Intelligence</strong></em></p>\n",
    "                    <br>\n",
    "                    <p>Hi, This is Gilbert Kim. Korea name is Kisung.Kim</p>\n",
    "                </td>\n",
    "            </tr>\n",
    "        </table>\n",
    "        <hr>\n",
    "        <!-- 공부 및 학력 정보 -->\n",
    "        <h3>Studying and Education</h3>\n",
    "        <ul>\n",
    "            <li>Present - Studying for Node JS</li>\n",
    "            <li>Present - Studying for Python</li>\n",
    "        </ul>\n",
    "        <hr>\n",
    "        <!-- 경력사항 -->\n",
    "        <h3>Working Experience</h3>\n",
    "        <table  cellspacing=\"10\">\n",
    "            <thead>\n",
    "                <tr>\n",
    "                    <th>Date</th>\n",
    "                    <th>Work</th>\n",
    "                </tr>\n",
    "            </thead>\n",
    "            <tbody>\n",
    "                <tr>\n",
    "                    <td>2021.12-Present</td>\n",
    "                    <td>Data Engineer at Aone Performace Factory</td>\n",
    "                </tr>\n",
    "                <tr>\n",
    "                    <td>2015.12-2021.02</td>\n",
    "                    <td>Sales Associate at Gucci Korea</td>\n",
    "                </tr>\n",
    "        </tbody> \n",
    "        </table>\n",
    "        <hr>\n",
    "        <!-- 기술 스텍 -->\n",
    "        <h3>Skills</h3>\n",
    "        <table cellspacing=\"20\">\n",
    "            <td>\n",
    "                <table>\n",
    "                    <tr>\n",
    "                        <td>Python</td>\n",
    "                        <td>⭐️⭐️⭐️⭐️</td>\n",
    "                    </tr>\n",
    "                    <tr>\n",
    "                        <td>Data Analytics</td> \n",
    "                        <td>⭐️⭐️⭐️⭐️</td>\n",
    "                    </tr>\n",
    "                </table>\n",
    "            </td>\n",
    "            <td>\n",
    "                <table>\n",
    "                    <tr>\n",
    "                        <td>Node JS</td>\n",
    "                        <td>⭐️⭐️⭐️</td>\n",
    "                    </tr>\n",
    "                    <tr>\n",
    "                        <td>Web Development</td> \n",
    "                        <td>⭐️⭐️⭐️</td>\n",
    "                    </tr>\n",
    "                </table>\n",
    "            </td>\n",
    "        </table>\n",
    "        <hr>\n",
    "        <a href=\"hobbies.html\">My Hobbies</a>\n",
    "        <br>\n",
    "        <a href=\"contact.html\">Contact Me</a>\n",
    "    </body>\n",
    "</html>\n",
    "```"
   ]
  },
  {
   "cell_type": "markdown",
   "id": "d526cecd",
   "metadata": {},
   "source": [
    "- 이미지, css 파일 모두 static 폴더 생성 후 해당 폴더 안에 넣어줘야 렌더링이 된다."
   ]
  },
  {
   "cell_type": "markdown",
   "id": "d6c15eff",
   "metadata": {},
   "source": [
    "- 플라스크를 이용하여 html, css 랜더링 후 변경사항이 있어 변경 할때, 재 시작을 해도 변경사항 전의 상태가 계속 유지된다. 왜그럴까? 인터넷 사용을 아끼기 위해 크롬이 스타일 시트, 이미지와 같은 정적 파일과 JS를 캐시하기 때문이다.\n",
    "- 이렇게 되는 이유는 만약 같은 날, 해당 웹사이트를 방문할 때 정적 파일들이 바뀔 확률이 낮기 때문이다. \n",
    "- 그래서 일단 브라우저가 해당 파일을 다운로드 한 이상 그 정적 파일을 계속 가지고 있다.\n",
    "- 이것은 같은 웹 사이트를 방문할 때 마다 이러한 대용량 파일을 계속해서 다운로드 할 필요가 없다는 의미이기도 하다.\n",
    "- 실제 라이브로 운용된 웹 사이트를 방문할 때 유용한 방법이지만, 테스트시 매우 혼란스러울 수 있다.(특히 변경사항을 적용할 때는 더더욱)\n",
    "- 이대 shift 키를 누른 상태에서 새로 고침을 클릭하면 hard refresh 상태가 되어 캐시된 파일을 모두 삭제하고 새로운 캐시 파일을 가져온다."
   ]
  },
  {
   "cell_type": "code",
   "execution_count": null,
   "id": "65799e1a",
   "metadata": {},
   "outputs": [],
   "source": []
  }
 ],
 "metadata": {
  "kernelspec": {
   "display_name": "Python 3 (ipykernel)",
   "language": "python",
   "name": "python3"
  },
  "language_info": {
   "codemirror_mode": {
    "name": "ipython",
    "version": 3
   },
   "file_extension": ".py",
   "mimetype": "text/x-python",
   "name": "python",
   "nbconvert_exporter": "python",
   "pygments_lexer": "ipython3",
   "version": "3.8.12"
  }
 },
 "nbformat": 4,
 "nbformat_minor": 5
}
