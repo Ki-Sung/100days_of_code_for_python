{
 "cells": [
  {
   "cell_type": "markdown",
   "id": "604d82ff",
   "metadata": {},
   "source": [
    "## List and Dictionary Comprehensions\n",
    "- 리스트와 딕셔너리를 사용해서 작업량이 많은 코드를 줄이는 연습을 해본다. \n",
    "- Study를 완료하면, 나토 음성기호를 사용하는 프로젝트를 만들기 "
   ]
  },
  {
   "cell_type": "markdown",
   "id": "836401a2",
   "metadata": {},
   "source": [
    "### 1. List Comprehension\n",
    "- 파이썬의 매우 독특한 기능이다. (실제 다른 언어들은 해당 기능이 없다.)\n",
    "- 컴프리헨션의 개념은 무엇일까? "
   ]
  },
  {
   "cell_type": "markdown",
   "id": "791b7815",
   "metadata": {},
   "source": [
    "#### 1-1. 일반적인 List Comprehension"
   ]
  },
  {
   "cell_type": "code",
   "execution_count": 2,
   "id": "44691cf4",
   "metadata": {},
   "outputs": [
    {
     "name": "stdout",
     "output_type": "stream",
     "text": [
      "[2, 3, 4]\n"
     ]
    }
   ],
   "source": [
    "# 일반적으로 리스트를 이용해서 for문을 사용할 경우 \n",
    "numbers = [1, 2, 3]\n",
    "new_list = []\n",
    "for n in numbers:\n",
    "    add_1 = n + 1\n",
    "    new_list.append(add_1)\n",
    "print(new_list)"
   ]
  },
  {
   "cell_type": "markdown",
   "id": "7e59acf9",
   "metadata": {},
   "source": [
    "- 일반적으로 list를 이용해서 반복문을 사용할 경우 위의 예제와 같이 사용한다. "
   ]
  },
  {
   "cell_type": "code",
   "execution_count": null,
   "id": "6efb21ad",
   "metadata": {},
   "outputs": [],
   "source": [
    "# 컴프리헨션 기본 구조 \n",
    "new_list = [new_item for item in list]"
   ]
  },
  {
   "cell_type": "markdown",
   "id": "c6e6cd36",
   "metadata": {},
   "source": [
    "- 먼저 컴프리헨션의 구성 요소를 살펴보자. 리스트 컴프리헨션의 키워드를 입력할 곳에 키워드 메소드를 사용하고자 하면, 위와 같은 실제 구성요소로 그 단어들을 치환하면 된다. \n",
    "- 그럼 위의 예제를 컴프리헨션 기능으로 치환하게 된다면 아래와 같다."
   ]
  },
  {
   "cell_type": "code",
   "execution_count": 3,
   "id": "1c666969",
   "metadata": {},
   "outputs": [
    {
     "name": "stdout",
     "output_type": "stream",
     "text": [
      "[2, 3, 4]\n"
     ]
    }
   ],
   "source": [
    "# 컴프리헨션으로 치환 \n",
    "numbers = [1, 2, 3]\n",
    "new_list = [n + 1 for n in numbers]\n",
    "print(new_list)"
   ]
  },
  {
   "cell_type": "code",
   "execution_count": 4,
   "id": "bafb39e9",
   "metadata": {},
   "outputs": [
    {
     "name": "stdout",
     "output_type": "stream",
     "text": [
      "['A', 'n', 'g', 'e', 'l', 'a']\n"
     ]
    }
   ],
   "source": [
    "# 컴프리헨션 연습 문제 1\n",
    "name = \"Angela\"\n",
    "new_list = [letter for letter in name]\n",
    "print(new_list)"
   ]
  },
  {
   "cell_type": "code",
   "execution_count": 5,
   "id": "8e9ed3e3",
   "metadata": {},
   "outputs": [
    {
     "data": {
      "text/plain": [
       "[2, 4, 6, 8]"
      ]
     },
     "execution_count": 5,
     "metadata": {},
     "output_type": "execute_result"
    }
   ],
   "source": [
    "# 컴프리헨션 연습 문제 2\n",
    "double_number = [i * 2 for i in range(1, 5)]\n",
    "double_number"
   ]
  },
  {
   "cell_type": "markdown",
   "id": "a49f8b88",
   "metadata": {},
   "source": [
    "#### 1-2. List Comprehension에 조건 대입 "
   ]
  },
  {
   "cell_type": "markdown",
   "id": "b1d0ef51",
   "metadata": {},
   "source": [
    "- 컴프리헨션 예제에서 맨 뒤에 if문과 그에 해당하는 키워드가 들어간다."
   ]
  },
  {
   "cell_type": "code",
   "execution_count": null,
   "id": "ce2daad1",
   "metadata": {},
   "outputs": [],
   "source": [
    "# 조건이 대입된 컴프리헨션 기본 구조\n",
    "new_list = [new_item for item in list if test]"
   ]
  },
  {
   "cell_type": "code",
   "execution_count": 8,
   "id": "c7c8de1a",
   "metadata": {},
   "outputs": [
    {
     "data": {
      "text/plain": [
       "['Alex', 'Beth', 'Dave']"
      ]
     },
     "execution_count": 8,
     "metadata": {},
     "output_type": "execute_result"
    }
   ],
   "source": [
    "# 조건이 대입된 컴프리헨션 예제 1\n",
    "names = [\"Alex\", \"Beth\", \"Caroline\", \"Dave\", \"Eleanor\", \"Freddie\"]\n",
    "short_names = [n for n in names if len(n) < 5]\n",
    "short_names"
   ]
  },
  {
   "cell_type": "code",
   "execution_count": 9,
   "id": "1ec5c465",
   "metadata": {},
   "outputs": [
    {
     "data": {
      "text/plain": [
       "['CAROLINE', 'ELEANOR', 'FREDDIE']"
      ]
     },
     "execution_count": 9,
     "metadata": {},
     "output_type": "execute_result"
    }
   ],
   "source": [
    "# 조건이 대입된 컴프리헨션 예제 2\n",
    "names = [\"Alex\", \"Beth\", \"Caroline\", \"Dave\", \"Eleanor\", \"Freddie\"]\n",
    "long_names = [n.upper() for n in names if len(n) >= 5]\n",
    "long_names"
   ]
  },
  {
   "cell_type": "code",
   "execution_count": null,
   "id": "666b5750",
   "metadata": {},
   "outputs": [],
   "source": []
  }
 ],
 "metadata": {
  "kernelspec": {
   "display_name": "Python 3 (ipykernel)",
   "language": "python",
   "name": "python3"
  },
  "language_info": {
   "codemirror_mode": {
    "name": "ipython",
    "version": 3
   },
   "file_extension": ".py",
   "mimetype": "text/x-python",
   "name": "python",
   "nbconvert_exporter": "python",
   "pygments_lexer": "ipython3",
   "version": "3.8.12"
  }
 },
 "nbformat": 4,
 "nbformat_minor": 5
}
