{
 "cells": [
  {
   "cell_type": "markdown",
   "id": "b425974d",
   "metadata": {},
   "source": [
    "## List and Dictionary Comprehensions\n",
    "- 리스트와 딕셔너리를 사용해서 작업량이 많은 코드를 줄이는 연습을 해본다. \n",
    "- Study를 완료하면, 나토 음성기호를 사용하는 프로젝트를 만들기 "
   ]
  },
  {
   "cell_type": "markdown",
   "id": "0e92184f",
   "metadata": {},
   "source": [
    "### 1. List Comprehension\n",
    "- 파이썬의 매우 독특한 기능이다. (실제 다른 언어들은 해당 기능이 없다.)\n",
    "- 컴프리헨션의 개념은 무엇일까? "
   ]
  },
  {
   "cell_type": "markdown",
   "id": "4bc9e40f",
   "metadata": {},
   "source": [
    "#### 1-1. 일반적인 List Comprehension"
   ]
  },
  {
   "cell_type": "code",
   "execution_count": 2,
   "id": "aa36e5b4",
   "metadata": {},
   "outputs": [
    {
     "name": "stdout",
     "output_type": "stream",
     "text": [
      "[2, 3, 4]\n"
     ]
    }
   ],
   "source": [
    "# 일반적으로 리스트를 이용해서 for문을 사용할 경우 \n",
    "numbers = [1, 2, 3]\n",
    "new_list = []\n",
    "for n in numbers:\n",
    "    add_1 = n + 1\n",
    "    new_list.append(add_1)\n",
    "print(new_list)"
   ]
  },
  {
   "cell_type": "markdown",
   "id": "2a8be0b1",
   "metadata": {},
   "source": [
    "- 일반적으로 list를 이용해서 반복문을 사용할 경우 위의 예제와 같이 사용한다. "
   ]
  },
  {
   "cell_type": "code",
   "execution_count": null,
   "id": "479053fb",
   "metadata": {},
   "outputs": [],
   "source": [
    "# 컴프리헨션 기본 구조 \n",
    "new_list = [new_item for item in list]"
   ]
  },
  {
   "cell_type": "markdown",
   "id": "8a763e8f",
   "metadata": {},
   "source": [
    "- 먼저 컴프리헨션의 구성 요소를 살펴보자. 리스트 컴프리헨션의 키워드를 입력할 곳에 키워드 메소드를 사용하고자 하면, 위와 같은 실제 구성요소로 그 단어들을 치환하면 된다. \n",
    "- 그럼 위의 예제를 컴프리헨션 기능으로 치환하게 된다면 아래와 같다."
   ]
  },
  {
   "cell_type": "code",
   "execution_count": 3,
   "id": "60c59493",
   "metadata": {},
   "outputs": [
    {
     "name": "stdout",
     "output_type": "stream",
     "text": [
      "[2, 3, 4]\n"
     ]
    }
   ],
   "source": [
    "# 컴프리헨션으로 치환 \n",
    "numbers = [1, 2, 3]\n",
    "new_list = [n + 1 for n in numbers]\n",
    "print(new_list)"
   ]
  },
  {
   "cell_type": "code",
   "execution_count": 4,
   "id": "7ff1580e",
   "metadata": {},
   "outputs": [
    {
     "name": "stdout",
     "output_type": "stream",
     "text": [
      "['A', 'n', 'g', 'e', 'l', 'a']\n"
     ]
    }
   ],
   "source": [
    "# 컴프리헨션 연습 문제 1\n",
    "name = \"Angela\"\n",
    "new_list = [letter for letter in name]\n",
    "print(new_list)"
   ]
  },
  {
   "cell_type": "code",
   "execution_count": 5,
   "id": "5bb25f35",
   "metadata": {},
   "outputs": [
    {
     "data": {
      "text/plain": [
       "[2, 4, 6, 8]"
      ]
     },
     "execution_count": 5,
     "metadata": {},
     "output_type": "execute_result"
    }
   ],
   "source": [
    "# 컴프리헨션 연습 문제 2\n",
    "double_number = [i * 2 for i in range(1, 5)]\n",
    "double_number"
   ]
  },
  {
   "cell_type": "markdown",
   "id": "3d00e204",
   "metadata": {},
   "source": [
    "#### 1-2. List Comprehension에 조건 대입 "
   ]
  },
  {
   "cell_type": "markdown",
   "id": "88c3492b",
   "metadata": {},
   "source": [
    "- 컴프리헨션 예제에서 맨 뒤에 if문과 그에 해당하는 키워드가 들어간다."
   ]
  },
  {
   "cell_type": "code",
   "execution_count": null,
   "id": "572a3c2e",
   "metadata": {},
   "outputs": [],
   "source": [
    "# 조건이 대입된 컴프리헨션 기본 구조\n",
    "new_list = [new_item for item in list if test]"
   ]
  },
  {
   "cell_type": "code",
   "execution_count": 8,
   "id": "e91b4a2e",
   "metadata": {},
   "outputs": [
    {
     "data": {
      "text/plain": [
       "['Alex', 'Beth', 'Dave']"
      ]
     },
     "execution_count": 8,
     "metadata": {},
     "output_type": "execute_result"
    }
   ],
   "source": [
    "# 조건이 대입된 컴프리헨션 예제 1\n",
    "names = [\"Alex\", \"Beth\", \"Caroline\", \"Dave\", \"Eleanor\", \"Freddie\"]\n",
    "short_names = [n for n in names if len(n) < 5]\n",
    "short_names"
   ]
  },
  {
   "cell_type": "code",
   "execution_count": 9,
   "id": "317145f8",
   "metadata": {},
   "outputs": [
    {
     "data": {
      "text/plain": [
       "['CAROLINE', 'ELEANOR', 'FREDDIE']"
      ]
     },
     "execution_count": 9,
     "metadata": {},
     "output_type": "execute_result"
    }
   ],
   "source": [
    "# 조건이 대입된 컴프리헨션 예제 2\n",
    "names = [\"Alex\", \"Beth\", \"Caroline\", \"Dave\", \"Eleanor\", \"Freddie\"]\n",
    "long_names = [n.upper() for n in names if len(n) >= 5]\n",
    "long_names"
   ]
  },
  {
   "cell_type": "markdown",
   "id": "ba17b8d8",
   "metadata": {},
   "source": [
    "#### 1-3. exercise 1 제곱수 구하기"
   ]
  },
  {
   "cell_type": "code",
   "execution_count": 10,
   "id": "80365213",
   "metadata": {},
   "outputs": [
    {
     "name": "stdout",
     "output_type": "stream",
     "text": [
      "[1, 1, 4, 9, 25, 64, 169, 441, 1156, 3025]\n"
     ]
    }
   ],
   "source": [
    "# solution\n",
    "numbers = [1, 1, 2, 3, 5, 8, 13, 21, 34, 55]\n",
    "squared_numbers = [n**2 for n in numbers]\n",
    "print(squared_numbers)"
   ]
  },
  {
   "cell_type": "markdown",
   "id": "f7f626cb",
   "metadata": {},
   "source": [
    "#### 1-4. exercise 2 짝수 필터링"
   ]
  },
  {
   "cell_type": "code",
   "execution_count": 11,
   "id": "c29d9fa9",
   "metadata": {},
   "outputs": [
    {
     "name": "stdout",
     "output_type": "stream",
     "text": [
      "[2, 8, 34]\n"
     ]
    }
   ],
   "source": [
    "# solution \n",
    "numbers = numbers = [1, 1, 2, 3, 5, 8, 13, 21, 34, 55]\n",
    "result = [n for n in numbers if n % 2 == 0]\n",
    "print(result)"
   ]
  },
  {
   "cell_type": "markdown",
   "id": "077342b0",
   "metadata": {},
   "source": [
    "#### 1-5. exercise 3 겹치는 데이터 \n",
    "- 두 txt 파일을 확인 한다. 해당 파일의 내용물을 보면 각각 새 줄에 있는 여러 숫자가 있다. \n",
    "- 두 파일을 조회 후 공통된 숫자만 추려서 result에 저장시키기! "
   ]
  },
  {
   "cell_type": "code",
   "execution_count": 44,
   "id": "baeec051",
   "metadata": {},
   "outputs": [
    {
     "name": "stdout",
     "output_type": "stream",
     "text": [
      "['3\\n', '6\\n', '5\\n', '8\\n', '33\\n', '12\\n', '7\\n', '4\\n', '72\\n', '2\\n', '42\\n', '13']\n"
     ]
    }
   ],
   "source": [
    "# file1.txt 열기 \n",
    "with open('data/file1.txt') as file1:\n",
    "    file1_data = file1.readlines()\n",
    "    print(file1_data)"
   ]
  },
  {
   "cell_type": "code",
   "execution_count": 45,
   "id": "d3f89b98",
   "metadata": {},
   "outputs": [
    {
     "name": "stdout",
     "output_type": "stream",
     "text": [
      "['3\\n', '6\\n', '13\\n', '5\\n', '7\\n', '89\\n', '12\\n', '3\\n', '33\\n', '34\\n', '1\\n', '344\\n', '42']\n"
     ]
    }
   ],
   "source": [
    "# file2.txt 열기 \n",
    "with open('data/file2.txt') as file2:\n",
    "    file2_data = file2.readlines()\n",
    "    print(file2_data)"
   ]
  },
  {
   "cell_type": "code",
   "execution_count": 43,
   "id": "fc60afc7",
   "metadata": {},
   "outputs": [
    {
     "name": "stdout",
     "output_type": "stream",
     "text": [
      "[3, 6, 5, 33, 12, 7]\n"
     ]
    }
   ],
   "source": [
    "# 겹치는 데이터 출력 \n",
    "result = [int(num) for num in file1_data if num in file2_data]\n",
    "print(result)"
   ]
  },
  {
   "cell_type": "markdown",
   "id": "18636819",
   "metadata": {},
   "source": [
    "#### 1-6. exercise 4 미국주 게임 리스트 컴프리헨션 적용시키기"
   ]
  },
  {
   "cell_type": "code",
   "execution_count": null,
   "id": "d70d822d",
   "metadata": {},
   "outputs": [],
   "source": [
    "# 모듈 불러오기 \n",
    "import turtle                           # turtle 불러오기 \n",
    "import pandas as pd                     # pandas 불러오기 \n",
    "\n",
    "# turtle screen 설정 \n",
    "screen = turtle.Screen()                # turtle screen 객체 선언 \n",
    "screen.title(\"U.S. States Game\")        # turtle title 설정 \n",
    "\n",
    "# U.S 지도 삽입 \n",
    "image = \"us_state_game_options/blank_states_img.gif\"  # 지도 이미지 파일 경로 \n",
    "screen.addshape(image)                  # 파일 경로에 있는 이미지 불러와서 이미지 추가 \n",
    "turtle.shape(image)                     # turtle 모양 설정 \n",
    "\n",
    "# 데이터 불러오기\n",
    "data_path = \"./us_state_game_options/50_states.csv\"  # 데이터 Path 지정 \n",
    "data = pd.read_csv(data_path)           # 불러온 데이터 데이터프레임으로 저장 \n",
    "all_states = data['state'].to_list()    # 데이터프레임 'state' 컬럼에 있는 row 데이터 list로 저장\n",
    "guessed_states = []                     # 정답을 맞춘 데이터 리스트에 넣기 위해 빈 리스트 선언 \n",
    "\n",
    "# turtle screen 내 pormpt 입력창 생성 \n",
    "while len(guessed_states) < 50:             # 50개주 모두 맞추기 전까지 반복문 계속 돌아가기 \n",
    "    answer_state = screen.textinput(title=f\"{len(guessed_states)}/50 Sates Correct\", \n",
    "                                    prompt=\"What's another state's name?\").title()   # 입려창 설정\n",
    "\n",
    "    # hidden key 설정 - list comprehension으로 변환 \n",
    "    if answer_state == 'Exit': \n",
    "        missig_states = [state for state in all_states if state not in guessed_states]\n",
    "        new_data = pd.DataFrame(missig_states)\n",
    "        new_data.to_csv('us_state_game_options/states_to_learn.csv')\n",
    "        break\n",
    "    \n",
    "    # if answer_state == 'Exit':                    # 만약 \"Exit\"를 입력하면 \n",
    "    #     missig_states = []                        # \"Exit\"를 누르고, 맞추지 못한 states 이름을  저장하기 위해 빈 리스트 선언  \n",
    "    #     for state in all_states:                  # 반복문 사용 - all_states에 있는 데이터 state로 하나씩 저장\n",
    "    #         if state not in guessed_states:       # 만약 state가 guessed_states에 있지 않으면,\n",
    "    #             missig_states.append(state)       # missing_states 빈 리스트에 저장 \n",
    "    #     new_data = pd.DataFrame(missig_states)    # 저장된 missing_states를 데이터프레임으로 저장\n",
    "    #     new_data.to_csv('us_state_game_options/states_to_learn.csv')   # 저장된 데이터 csv로 저장 \n",
    "    #     break                                     # 게임종료 \n",
    "    \n",
    "    # answer_state는 입력 값이 50_states.csv에 있는 주인지 확인하기 \n",
    "    if answer_state in all_states:                # 만약 answer_state 데이터가 all_states 안에 있다면,\n",
    "        guessed_states.append(answer_state)       # guessed_states 빈 리스트로 저장 \n",
    "        t = turtle.Turtle()                       # turtle 객체 선언 \n",
    "        t.hideturtle()                            # turtle 숨기기 \n",
    "        t.penup()                                 # turtle 선 숨기기 \n",
    "        state_data = data[data['state'] == answer_state]    # answer_state 데이터에 부합되는 state_data 불러오기 \n",
    "        t.goto(int(state_data['x']), int(state_data['y']))  # state_data의 x, y 값 위치로 가기 \n",
    "        t.write(answer_state)                               # x, y 값에 state 이름 지정하기 "
   ]
  },
  {
   "cell_type": "markdown",
   "id": "fccdc850",
   "metadata": {},
   "source": [
    "### 2. Dictionary Comprehension\n",
    "- 딕셔너리도 컴프리헨션 기능이 가능하다."
   ]
  },
  {
   "cell_type": "markdown",
   "id": "8b3aae96",
   "metadata": {},
   "source": [
    "#### 2-1. Dictionary Comprehension 소개 "
   ]
  },
  {
   "cell_type": "code",
   "execution_count": null,
   "id": "84fbf5d5",
   "metadata": {},
   "outputs": [],
   "source": [
    "# 딕셔너리 컴프리헨션 기본 구성 \n",
    "new_dict = {new_key:new_value for item in list}"
   ]
  },
  {
   "cell_type": "code",
   "execution_count": null,
   "id": "24df9da4",
   "metadata": {},
   "outputs": [],
   "source": [
    "# 딕셔너리 컴프리헨션 심화 구성 1\n",
    "new_dict = {new_key:new_value for (key, value) in dict.items()}"
   ]
  },
  {
   "cell_type": "markdown",
   "id": "506ce2b2",
   "metadata": {},
   "source": [
    "- 심화구성은 이미 존재하는 딕셔너리에 있는 값을 가지고 새로운 딕셔너리를 만드는 과정이다. \n",
    "- 해당 딕셔너리에 있는 모든 요소들을 구해서 key와 value로 나누고, 딕셔너리의 모든 요소들에 있는 각각의 key와 value를 반복한다. \n",
    "- new_key와 new_value를 만드는데 key와 value 변수를 사용할 수 있다."
   ]
  },
  {
   "cell_type": "code",
   "execution_count": null,
   "id": "3d8439e7",
   "metadata": {},
   "outputs": [],
   "source": [
    "# 딕셔너리 컴프리헨션 심화 구성 2 - 조건문 대입 \n",
    "new_dict = {new_key:new_value for (key, value) in dict.items() if test}"
   ]
  },
  {
   "cell_type": "code",
   "execution_count": 1,
   "id": "262c42be",
   "metadata": {},
   "outputs": [
    {
     "data": {
      "text/plain": [
       "{'Alex': 95,\n",
       " 'Beth': 54,\n",
       " 'Caroline': 67,\n",
       " 'Dave': 8,\n",
       " 'Eleanor': 73,\n",
       " 'Freddie': 28}"
      ]
     },
     "execution_count": 1,
     "metadata": {},
     "output_type": "execute_result"
    }
   ],
   "source": [
    "# 딕셔너리 컴프리헨션 예제 1 - 각 학생들의 성적표 딕셔너리 \n",
    "import random\n",
    "names = [\"Alex\", \"Beth\", \"Caroline\", \"Dave\", \"Eleanor\", \"Freddie\"]\n",
    "students_scores = {student:random.randint(1,100) for student in names}\n",
    "students_scores"
   ]
  },
  {
   "cell_type": "code",
   "execution_count": 3,
   "id": "5084fa04",
   "metadata": {},
   "outputs": [
    {
     "data": {
      "text/plain": [
       "{'Alex': 95, 'Caroline': 67, 'Eleanor': 73}"
      ]
     },
     "execution_count": 3,
     "metadata": {},
     "output_type": "execute_result"
    }
   ],
   "source": [
    "# 딕셔너리 컴프리헨션 예제 2 - 60점 이상 맞은 학생들 통과 성적표 작성 \n",
    "passed_students = {key:value for (key, value) in dict.items(students_scores) if value >= 60}\n",
    "passed_students"
   ]
  },
  {
   "cell_type": "code",
   "execution_count": null,
   "id": "4877a1fd",
   "metadata": {},
   "outputs": [],
   "source": [
    "# 딕셔너리 컴프리헨션 예제 2 - 60점 이상 맞은 학생들 통과 성적표 작성(2번째 방법)\n",
    "passed_students = {student:score for (student, score) in students_scores.items() if score >= 60}\n",
    "passed_students"
   ]
  },
  {
   "cell_type": "code",
   "execution_count": null,
   "id": "e53f59a1",
   "metadata": {},
   "outputs": [],
   "source": []
  }
 ],
 "metadata": {
  "kernelspec": {
   "display_name": "Python 3 (ipykernel)",
   "language": "python",
   "name": "python3"
  },
  "language_info": {
   "codemirror_mode": {
    "name": "ipython",
    "version": 3
   },
   "file_extension": ".py",
   "mimetype": "text/x-python",
   "name": "python",
   "nbconvert_exporter": "python",
   "pygments_lexer": "ipython3",
   "version": "3.8.12"
  }
 },
 "nbformat": 4,
 "nbformat_minor": 5
}
