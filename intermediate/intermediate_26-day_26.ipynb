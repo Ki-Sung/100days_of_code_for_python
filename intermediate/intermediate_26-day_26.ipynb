{
 "cells": [
  {
   "cell_type": "markdown",
   "id": "1feec64f",
   "metadata": {},
   "source": [
    "## List and Dictionary Comprehensions\n",
    "- 리스트와 딕셔너리를 사용해서 작업량이 많은 코드를 줄이는 연습을 해본다. \n",
    "- Study를 완료하면, 나토 음성기호를 사용하는 프로젝트를 만들기 "
   ]
  },
  {
   "cell_type": "markdown",
   "id": "22e8c2c1",
   "metadata": {},
   "source": [
    "### 1. List Comprehension\n",
    "- 파이썬의 매우 독특한 기능이다. (실제 다른 언어들은 해당 기능이 없다.)\n",
    "- 컴프리헨션의 개념은 무엇일까? "
   ]
  },
  {
   "cell_type": "markdown",
   "id": "ab18cb99",
   "metadata": {},
   "source": [
    "#### 1-1. 일반적인 List Comprehension"
   ]
  },
  {
   "cell_type": "code",
   "execution_count": 2,
   "id": "49f41124",
   "metadata": {},
   "outputs": [
    {
     "name": "stdout",
     "output_type": "stream",
     "text": [
      "[2, 3, 4]\n"
     ]
    }
   ],
   "source": [
    "# 일반적으로 리스트를 이용해서 for문을 사용할 경우 \n",
    "numbers = [1, 2, 3]\n",
    "new_list = []\n",
    "for n in numbers:\n",
    "    add_1 = n + 1\n",
    "    new_list.append(add_1)\n",
    "print(new_list)"
   ]
  },
  {
   "cell_type": "markdown",
   "id": "17b8fa31",
   "metadata": {},
   "source": [
    "- 일반적으로 list를 이용해서 반복문을 사용할 경우 위의 예제와 같이 사용한다. "
   ]
  },
  {
   "cell_type": "code",
   "execution_count": null,
   "id": "74707d3c",
   "metadata": {},
   "outputs": [],
   "source": [
    "# 컴프리헨션 기본 구조 \n",
    "new_list = [new_item for item in list]"
   ]
  },
  {
   "cell_type": "markdown",
   "id": "17adf101",
   "metadata": {},
   "source": [
    "- 먼저 컴프리헨션의 구성 요소를 살펴보자. 리스트 컴프리헨션의 키워드를 입력할 곳에 키워드 메소드를 사용하고자 하면, 위와 같은 실제 구성요소로 그 단어들을 치환하면 된다. \n",
    "- 그럼 위의 예제를 컴프리헨션 기능으로 치환하게 된다면 아래와 같다."
   ]
  },
  {
   "cell_type": "code",
   "execution_count": 3,
   "id": "eaef0268",
   "metadata": {},
   "outputs": [
    {
     "name": "stdout",
     "output_type": "stream",
     "text": [
      "[2, 3, 4]\n"
     ]
    }
   ],
   "source": [
    "# 컴프리헨션으로 치환 \n",
    "numbers = [1, 2, 3]\n",
    "new_list = [n + 1 for n in numbers]\n",
    "print(new_list)"
   ]
  },
  {
   "cell_type": "code",
   "execution_count": 4,
   "id": "ca4c1ca2",
   "metadata": {},
   "outputs": [
    {
     "name": "stdout",
     "output_type": "stream",
     "text": [
      "['A', 'n', 'g', 'e', 'l', 'a']\n"
     ]
    }
   ],
   "source": [
    "# 컴프리헨션 연습 문제 1\n",
    "name = \"Angela\"\n",
    "new_list = [letter for letter in name]\n",
    "print(new_list)"
   ]
  },
  {
   "cell_type": "code",
   "execution_count": 5,
   "id": "07357336",
   "metadata": {},
   "outputs": [
    {
     "data": {
      "text/plain": [
       "[2, 4, 6, 8]"
      ]
     },
     "execution_count": 5,
     "metadata": {},
     "output_type": "execute_result"
    }
   ],
   "source": [
    "# 컴프리헨션 연습 문제 2\n",
    "double_number = [i * 2 for i in range(1, 5)]\n",
    "double_number"
   ]
  },
  {
   "cell_type": "markdown",
   "id": "db0ffc6c",
   "metadata": {},
   "source": [
    "#### 1-2. List Comprehension에 조건 대입 "
   ]
  },
  {
   "cell_type": "markdown",
   "id": "99aacc67",
   "metadata": {},
   "source": [
    "- 컴프리헨션 예제에서 맨 뒤에 if문과 그에 해당하는 키워드가 들어간다."
   ]
  },
  {
   "cell_type": "code",
   "execution_count": null,
   "id": "899332d2",
   "metadata": {},
   "outputs": [],
   "source": [
    "# 조건이 대입된 컴프리헨션 기본 구조\n",
    "new_list = [new_item for item in list if test]"
   ]
  },
  {
   "cell_type": "code",
   "execution_count": 8,
   "id": "a72fca01",
   "metadata": {},
   "outputs": [
    {
     "data": {
      "text/plain": [
       "['Alex', 'Beth', 'Dave']"
      ]
     },
     "execution_count": 8,
     "metadata": {},
     "output_type": "execute_result"
    }
   ],
   "source": [
    "# 조건이 대입된 컴프리헨션 예제 1\n",
    "names = [\"Alex\", \"Beth\", \"Caroline\", \"Dave\", \"Eleanor\", \"Freddie\"]\n",
    "short_names = [n for n in names if len(n) < 5]\n",
    "short_names"
   ]
  },
  {
   "cell_type": "code",
   "execution_count": 9,
   "id": "ab4446ed",
   "metadata": {},
   "outputs": [
    {
     "data": {
      "text/plain": [
       "['CAROLINE', 'ELEANOR', 'FREDDIE']"
      ]
     },
     "execution_count": 9,
     "metadata": {},
     "output_type": "execute_result"
    }
   ],
   "source": [
    "# 조건이 대입된 컴프리헨션 예제 2\n",
    "names = [\"Alex\", \"Beth\", \"Caroline\", \"Dave\", \"Eleanor\", \"Freddie\"]\n",
    "long_names = [n.upper() for n in names if len(n) >= 5]\n",
    "long_names"
   ]
  },
  {
   "cell_type": "markdown",
   "id": "89ee2e51",
   "metadata": {},
   "source": [
    "#### 1-3. exercise 1 제곱수 구하기"
   ]
  },
  {
   "cell_type": "code",
   "execution_count": 10,
   "id": "e7a0022f",
   "metadata": {},
   "outputs": [
    {
     "name": "stdout",
     "output_type": "stream",
     "text": [
      "[1, 1, 4, 9, 25, 64, 169, 441, 1156, 3025]\n"
     ]
    }
   ],
   "source": [
    "# solution\n",
    "numbers = [1, 1, 2, 3, 5, 8, 13, 21, 34, 55]\n",
    "squared_numbers = [n**2 for n in numbers]\n",
    "print(squared_numbers)"
   ]
  },
  {
   "cell_type": "markdown",
   "id": "c4a9d141",
   "metadata": {},
   "source": [
    "#### 1-4. exercise 2 짝수 필터링"
   ]
  },
  {
   "cell_type": "code",
   "execution_count": 11,
   "id": "014c405e",
   "metadata": {},
   "outputs": [
    {
     "name": "stdout",
     "output_type": "stream",
     "text": [
      "[2, 8, 34]\n"
     ]
    }
   ],
   "source": [
    "# solution \n",
    "numbers = numbers = [1, 1, 2, 3, 5, 8, 13, 21, 34, 55]\n",
    "result = [n for n in numbers if n % 2 == 0]\n",
    "print(result)"
   ]
  },
  {
   "cell_type": "markdown",
   "id": "0ada3d87",
   "metadata": {},
   "source": [
    "#### 1-5. exercise 3 겹치는 데이터 \n",
    "- 두 txt 파일을 확인 한다. 해당 파일의 내용물을 보면 각각 새 줄에 있는 여러 숫자가 있다. \n",
    "- 두 파일을 조회 후 공통된 숫자만 추려서 result에 저장시키기! "
   ]
  },
  {
   "cell_type": "code",
   "execution_count": 38,
   "id": "9546ba68",
   "metadata": {},
   "outputs": [],
   "source": [
    "# file1.txt 열기 \n",
    "with open('data/file1.txt') as file1:\n",
    "    file1_data = file1.readlines()"
   ]
  },
  {
   "cell_type": "code",
   "execution_count": 39,
   "id": "17c4bf72",
   "metadata": {},
   "outputs": [],
   "source": [
    "# file2.txt 열기 \n",
    "with open('data/file2.txt') as file2:\n",
    "    file2_data = file2.readlines()"
   ]
  },
  {
   "cell_type": "code",
   "execution_count": 43,
   "id": "afea55e0",
   "metadata": {},
   "outputs": [
    {
     "name": "stdout",
     "output_type": "stream",
     "text": [
      "[3, 6, 5, 33, 12, 7]\n"
     ]
    }
   ],
   "source": [
    "# 겹치는 데이터 출력 \n",
    "result = [int(num) for num in file1_data if num in file2_data]\n",
    "print(result)"
   ]
  },
  {
   "cell_type": "code",
   "execution_count": 42,
   "id": "dd3fd9a9",
   "metadata": {},
   "outputs": [
    {
     "data": {
      "text/plain": [
       "'3\\n'"
      ]
     },
     "execution_count": 42,
     "metadata": {},
     "output_type": "execute_result"
    }
   ],
   "source": []
  },
  {
   "cell_type": "code",
   "execution_count": null,
   "id": "0c3924df",
   "metadata": {},
   "outputs": [],
   "source": []
  }
 ],
 "metadata": {
  "kernelspec": {
   "display_name": "Python 3 (ipykernel)",
   "language": "python",
   "name": "python3"
  },
  "language_info": {
   "codemirror_mode": {
    "name": "ipython",
    "version": 3
   },
   "file_extension": ".py",
   "mimetype": "text/x-python",
   "name": "python",
   "nbconvert_exporter": "python",
   "pygments_lexer": "ipython3",
   "version": "3.8.12"
  }
 },
 "nbformat": 4,
 "nbformat_minor": 5
}
