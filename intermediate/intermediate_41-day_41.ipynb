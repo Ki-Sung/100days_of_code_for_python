{
 "cells": [
  {
   "cell_type": "markdown",
   "id": "83ca1a7c",
   "metadata": {},
   "source": [
    "## 웹사이트 구축 하기 \n",
    "- 웹 구조에 데해 배우기 \n",
    "- HTML과 CSS에 대해 배우기 \n",
    "- 배운 것을 바탕으로 이력서 웹사이트 만들기 "
   ]
  },
  {
   "cell_type": "markdown",
   "id": "327d37ea",
   "metadata": {},
   "source": [
    "### 1. 인터넷은 실제로 어떻게 작동할까? "
   ]
  },
  {
   "cell_type": "markdown",
   "id": "02e93cd7",
   "metadata": {},
   "source": [
    "- **인터넷**이란? 간단히 이야기해서 긴 전선으로 서로 다른 컴퓨터를 연결해준 것이 전부이다. 이 거대한 전선을 통해서 데이터를 주고 받을 수 있다.\n",
    "- 어떤 컴퓨터는 굉장히 특별한 일을 하기 위해 인터넷에 연결되어 있다. 요청하는 데이터와 파일을 모두 가져다 줄 준비가 되어 있어야 하는데, 이런 역할을 하는 것을 **서버** 라고 한다. \n",
    "- 그리고 사용자가 인터넷에 접속해서 켜게 되는 컴퓨터를 **클라이언트**라고 부른다."
   ]
  },
  {
   "cell_type": "markdown",
   "id": "0c5fa7b5",
   "metadata": {},
   "source": [
    "- 그럼 우리가 집에서 google.com사이트로 접속하는 이면에는 어떤 일이 일어날까? \n",
    "    1. 먼저 브라우저에서 메시지를 인터넷 서비스 제공업체(Internet Service Provider)에게 보낸다. (우리나라로 치면 KT, SKT, LGT)\n",
    "    2. 그리고 ISP에서 DNS(Domain Name Server) 서버라고 부른 곳에 메시지를 전달한다. (DNS는 전화번호부 같이 데이터 베이스 내에 있는 IP 주소와 매칭하는 역할을 함)\n",
    "    3. DNS를 통해 요청한 사이트와 IP 주소를 매칭한다.\n",
    "    4. DNS 서버에서 IP 주소를 찾으면 브라우저로 다시 알려준다.\n",
    "    5. 접속하고자 하는 웹사이트의 IP 주소를 얻었으면, 브라우저에서 인터넷 서비스 제공업체에 백본을 통해서 또 다른 메시지를 보내는데, 서버로 보낸다. 그리고 다시 백본을 통해 받게되면 브라우저에 구글 홈페이지를 볼 수 있게 된다. "
   ]
  },
  {
   "cell_type": "markdown",
   "id": "5dac52ac",
   "metadata": {},
   "source": [
    "### 2. 웹사이트는 실제로 어떻게 작동할까? "
   ]
  },
  {
   "cell_type": "markdown",
   "id": "cc7f0b02",
   "metadata": {},
   "source": [
    "- 웹페이지에 접속하기 위해서는 브라우저가 필요한데, 이 브라우저로 소프트웨어의 한 부분으로서 웹사이트의 IP 주소를 찾아서 데이터를 받아 우리가 보고 있는 웹 사이트로 보여지게 된다. \n",
    "- 서버에서 받은 데이터는 보통 세 가지 유헝의 파일로 구성되는데, 바로 **HTML**, **CSS**, **JacaScript**이다. 각각 **HTML**은 **웹사이트의 구조**를 **CSS**는 **웹사이트의 스타일링**을 **JacaScript**는 **웹사이트의 동작**을 책임진다. "
   ]
  },
  {
   "cell_type": "markdown",
   "id": "fc554813",
   "metadata": {},
   "source": [
    "- 만약 구글 사이트를 접속하게 된다면,브라우저가 HTML을 로딩하고, CSS 파일로 HTML의 뼈대인 모든 요소들의 모습이 바뀌게 도와주고, 마지막으로 JS로 실제 어떠한 동작을 하게한다."
   ]
  },
  {
   "cell_type": "markdown",
   "id": "d899f7af",
   "metadata": {},
   "source": [
    "### 3. HTML 입문 \n",
    "- HTML은 Hyper Text Markup Language의 줄임말로 웹 페이지 표시를 위해 개발된 지배적인 마크업 언어다. \n",
    "- HTML 태그를 사용하여 웹사이트의 레이아웃 구조를 지정할 수 있다. \n",
    "- 해당 예제에 사용한 사이트들 \n",
    "    - codepen.io - https://codepen.io\n",
    "    - 셜록홈즈 ebook - https://gutenberg.org/ebooks/1661\n",
    "- web 관련 Document 출처 \n",
    "    - https://developer.mozilla.org/ko/\n",
    "    - https://www.w3schools.com/html/\n",
    "    - https://devdocs.io/"
   ]
  },
  {
   "cell_type": "markdown",
   "id": "622cf8ae",
   "metadata": {},
   "source": [
    "- HTML 예제\n",
    "\n",
    "```\n",
    "<h1>The Adventures of Sherlock Holmes</h1>\n",
    "<br>\n",
    "<h3>by</h3>\n",
    "<br>\n",
    "<h2>Arthur Conan Doyle</h2>\n",
    "```"
   ]
  },
  {
   "cell_type": "markdown",
   "id": "92c8f158",
   "metadata": {},
   "source": [
    "### 4. HTML 태그 파해치기\n",
    "- `<h1>Hello World!</h1>` - 앞쪽 태그를 **Start Tag** 끝 태그를 **End Tag**, 태그와 태그 사이에 있는 것을 **Content**라 명칭함\n",
    "- `<br>` - 하나만 있는 테그를 **Self-closing Tag**라고 명칭한다.\n",
    "- `<hr size=\"3\">` - 여기서 **hr**을 **HTML element(요소)**를 **size=\"3\"**은 **HTML Attribute(속성)**이라고 한다. (경계는 싱글 스페이스바로 구분)\n",
    "- html의 주석 - **`<!-- -->`**"
   ]
  },
  {
   "cell_type": "markdown",
   "id": "82c9702f",
   "metadata": {},
   "source": [
    "- HTML 예제 \n",
    "\n",
    "```\n",
    "<center>\n",
    "<hr size=\"3\" noshade>\n",
    "<h1>The Adventures of Sherlock Holmes</h1>\n",
    "<br>\n",
    "<h3>by</h3>\n",
    "<br>\n",
    "<h2>Arthur Conan Doyle</h2>\n",
    "<hr size=\"3\" noshade>\n",
    "</center>\n",
    "```"
   ]
  },
  {
   "cell_type": "code",
   "execution_count": null,
   "id": "d8f08fc4",
   "metadata": {},
   "outputs": [],
   "source": []
  }
 ],
 "metadata": {
  "kernelspec": {
   "display_name": "Python 3 (ipykernel)",
   "language": "python",
   "name": "python3"
  },
  "language_info": {
   "codemirror_mode": {
    "name": "ipython",
    "version": 3
   },
   "file_extension": ".py",
   "mimetype": "text/x-python",
   "name": "python",
   "nbconvert_exporter": "python",
   "pygments_lexer": "ipython3",
   "version": "3.8.12"
  }
 },
 "nbformat": 4,
 "nbformat_minor": 5
}
