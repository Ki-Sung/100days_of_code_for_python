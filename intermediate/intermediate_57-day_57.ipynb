{
 "cells": [
  {
   "cell_type": "markdown",
   "id": "03a78cce",
   "metadata": {},
   "source": [
    "## 고급 플라스크 응용 프로그램 구축 - Jinja를 이용한 URL 구축과 템플레이팅\n",
    "- Jinja는 파이썬용으로 구축된 템플레이팅 언어로 블로그의 일반적인 레이아웃, 스타일링, 구조를 만들고 특정 페이지를 로딩할 떄마다 제목, 소제목, 본문과 같은 콘텐츠를 동적 콘텐트로 교체하는 기능을 한다. "
   ]
  },
  {
   "cell_type": "code",
   "execution_count": null,
   "id": "8bc7ee35",
   "metadata": {},
   "outputs": [],
   "source": []
  }
 ],
 "metadata": {
  "kernelspec": {
   "display_name": "Python 3 (ipykernel)",
   "language": "python",
   "name": "python3"
  },
  "language_info": {
   "codemirror_mode": {
    "name": "ipython",
    "version": 3
   },
   "file_extension": ".py",
   "mimetype": "text/x-python",
   "name": "python",
   "nbconvert_exporter": "python",
   "pygments_lexer": "ipython3",
   "version": "3.8.12"
  }
 },
 "nbformat": 4,
 "nbformat_minor": 5
}
