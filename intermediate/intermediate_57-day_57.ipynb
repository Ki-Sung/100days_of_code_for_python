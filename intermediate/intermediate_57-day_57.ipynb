{
 "cells": [
  {
   "cell_type": "markdown",
   "id": "ff417449",
   "metadata": {},
   "source": [
    "## 고급 플라스크 응용 프로그램 구축 - Jinja를 이용한 URL 구축과 템플레이팅\n",
    "- Jinja는 파이썬용으로 구축된 템플레이팅 언어로 블로그의 일반적인 레이아웃, 스타일링, 구조를 만들고 특정 페이지를 로딩할 떄마다 제목, 소제목, 본문과 같은 콘텐츠를 동적 콘텐트로 교체하는 기능을 한다. "
   ]
  },
  {
   "cell_type": "code",
   "execution_count": null,
   "id": "95279d9e",
   "metadata": {},
   "outputs": [],
   "source": [
    "# 플라스크 \n",
    "from flask import Flask, render_template\n",
    "\n",
    "app = Flask(__name__)\n",
    "\n",
    "@app.route('/')\n",
    "def home():\n",
    "    return render_template(\"index.html\")\n",
    "\n",
    "if __name__ == '__main__':\n",
    "    app.run(debug=True)"
   ]
  },
  {
   "cell_type": "markdown",
   "id": "63537d56",
   "metadata": {},
   "source": [
    "- templates/index.html\n",
    "```\n",
    "<!DOCTYPE html>\n",
    "<html lang=\"en\">\n",
    "<head>\n",
    "    <meta charset=\"UTF-8\">\n",
    "    <title>My Wesite</title>\n",
    "</head>\n",
    "<body>\n",
    "    <h1>Hello World!</h1>\n",
    "</body>\n",
    "</html>\n",
    "```"
   ]
  },
  {
   "cell_type": "markdown",
   "id": "0f60c8fa",
   "metadata": {},
   "source": [
    "- 우리가 작업한 html일 왜 템플릿인지 그리고 왜 HTML을 템플릿으로 랜더링하는 것 인지 궁금할 것이다. \n",
    "- 왜냐하면 우리가 템플레이팅 언어로 작업하는 방법을 알고 있는 한 HTML 파일도 템플릿과 똑같은 역할을 하기 때문이다."
   ]
  },
  {
   "cell_type": "markdown",
   "id": "edad0c97",
   "metadata": {},
   "source": [
    "- 이번 시간에 사용할 템플레이팅 언어는 Jinja이다. \n",
    "- Jinja는 파이썬에만 해당한다. (즉 파이썬에서만 사용할 수 있다.)\n",
    "- 이는 HTML 파일 내부에서 실제로 파이썬 코드로 평가하는 부분을 지정하기 위해 \"{}\" 혹은 \"%\" 혹은 \"{{}}\"와 같은 구문을 사용하게 된다.\n",
    "- 해당 구문에는 파이썬 코드가 동작하게 된다. 예를 들어 h1 태그에 5 * 6을 그냥 작성하게 되면 일반 텍스트로 변환된다\n",
    "```\n",
    "<!DOCTYPE html>\n",
    "<html lang=\"en\">\n",
    "<head>\n",
    "  <meta charset=\"UTF-8\">\n",
    "  <title>My Wesite</title>\n",
    "</head>\n",
    "<body>\n",
    "  <h1>5 * 6!</h1>\n",
    "</body>\n",
    "</html>\n",
    "```\n",
    "- 하지만 안에 Jinja 구문을 사용하게 되면 파이썬 코드가 작동하여 30 이라는 값을 반환한다.\n",
    "```\n",
    "<!DOCTYPE html>\n",
    "<html lang=\"en\">\n",
    "<head>\n",
    "  <meta charset=\"UTF-8\">\n",
    "  <title>My Wesite</title>\n",
    "</head>\n",
    "<body>\n",
    "  <h1>{{5 * 6}}</h1>\n",
    "</body>\n",
    "</html>\n",
    "```"
   ]
  },
  {
   "cell_type": "markdown",
   "id": "fcf43c0c",
   "metadata": {},
   "source": [
    "- 그러면 난수를 넣고 싶다면 어떻게 할까?\n",
    "```\n",
    "<!DOCTYPE html>\n",
    "<html lang=\"en\">\n",
    "<head>\n",
    "    <meta charset=\"UTF-8\">\n",
    "    <title>My Wesite</title>\n",
    "</head>\n",
    "<body>\n",
    "    <h1>Hello World!</h1>\n",
    "    <h2>{{5 * 6}}</h2>\n",
    "    <h3>Random Number: {{ }}</h3>\n",
    "</body>\n",
    "</html>\n",
    "```"
   ]
  },
  {
   "cell_type": "code",
   "execution_count": null,
   "id": "bdec73b7",
   "metadata": {},
   "outputs": [],
   "source": [
    "# server.py\n",
    "from flask import Flask, render_template\n",
    "import random\n",
    "\n",
    "app = Flask(__name__)\n",
    "\n",
    "@app.route('/')\n",
    "def home():\n",
    "    random_number = random.randint(1, 10)\n",
    "    return render_template(\"index.html\", num=random_number)\n",
    "\n",
    "if __name__ == '__main__':\n",
    "    app.run(debug=True)"
   ]
  },
  {
   "cell_type": "markdown",
   "id": "9dffeeb0",
   "metadata": {},
   "source": [
    "- server.py로 돌아와 랜덤 모듈을 임포트 하고 home 기능 안에 \"random.randint(1, 10)\" 기능을 넣어준다.\n",
    "- 여기서 가장 중요한 것은 \"random_number\"를 \"index.html\"로 보내고 랜더링 할 때 이 탬플릿에 통합되어야 한다는 것이다. \n",
    "- 따라서 템플릿 파일의 이름인 첫 번째 매개변수 이후에 우리가 필요한 만큼의 키워드 인자를 추가할 수 있다.\n",
    "- 이러한 각 키워드 인자에는 변수 이름과 변숫값이 있어야 한다. 왜냐하면 템플릿화 된 HTM 파일 내에서 이름으로 해당 변수를 참조할 수 있기 떄문이다."
   ]
  },
  {
   "cell_type": "markdown",
   "id": "192e490f",
   "metadata": {},
   "source": [
    "- index.html\n",
    "```\n",
    "<!DOCTYPE html>\n",
    "<html lang=\"en\">\n",
    "<head>\n",
    "  <meta charset=\"UTF-8\">\n",
    "  <title>My Wesite</title>\n",
    "</head>\n",
    "<body>\n",
    "  <h1>Hello World!</h1>\n",
    "  <h2>{{5 * 6}}</h2>\n",
    "  <h3>Random Number: {{ num }}</h3>\n",
    "</body>\n",
    "</html>\n",
    "```"
   ]
  },
  {
   "cell_type": "markdown",
   "id": "3d505599",
   "metadata": {},
   "source": [
    "- footer에 템플레이팅 언어를 사용해서 저작권 표시 년도가 올해임을 표시하여라 "
   ]
  },
  {
   "cell_type": "code",
   "execution_count": null,
   "id": "b5bb9db5",
   "metadata": {},
   "outputs": [],
   "source": [
    "# server.py \n",
    "from flask import Flask, render_template\n",
    "from datetime import datetime\n",
    "import random\n",
    "\n",
    "app = Flask(__name__)\n",
    "\n",
    "@app.route('/')\n",
    "def home():\n",
    "    random_number = random.randint(1, 10)\n",
    "    this_year = datetime.now().year\n",
    "    return render_template(\"index.html\", num=random_number, year=this_year)\n",
    "\n",
    "if __name__ == '__main__':\n",
    "    app.run(debug=True)"
   ]
  },
  {
   "cell_type": "markdown",
   "id": "e0686406",
   "metadata": {},
   "source": [
    "- index.html\n",
    "```\n",
    "<!DOCTYPE html>\n",
    "<html lang=\"en\">\n",
    "<head>\n",
    "    <meta charset=\"UTF-8\">\n",
    "    <title>My Wesite</title>\n",
    "</head>\n",
    "<body>\n",
    "    <h1>Hello World!</h1>\n",
    "    <h2>{{5 * 6}}</h2>\n",
    "    <h3>Random Number: {{ num }}</h3>\n",
    "</body>\n",
    "<footer id=\"footer\">\n",
    "    <p>Copyright {{ year }}, Built by Gilbert</p>\n",
    "</footer>\n",
    "</html>\n",
    "```"
   ]
  },
  {
   "cell_type": "code",
   "execution_count": null,
   "id": "887be2cc",
   "metadata": {},
   "outputs": [],
   "source": []
  }
 ],
 "metadata": {
  "kernelspec": {
   "display_name": "Python 3 (ipykernel)",
   "language": "python",
   "name": "python3"
  },
  "language_info": {
   "codemirror_mode": {
    "name": "ipython",
    "version": 3
   },
   "file_extension": ".py",
   "mimetype": "text/x-python",
   "name": "python",
   "nbconvert_exporter": "python",
   "pygments_lexer": "ipython3",
   "version": "3.8.12"
  }
 },
 "nbformat": 4,
 "nbformat_minor": 5
}
