{
 "cells": [
  {
   "cell_type": "markdown",
   "id": "39342dc2",
   "metadata": {},
   "source": [
    "## 음악 타임 머신 프로젝트 \n",
    "- 빌보드 에서 HOT 100에서 원하는 과거의 100곡을 스크래핑을 통해 얻기 \n",
    "- 모든 노래 제목을 추출한 뒤 Spotify API를 통해 해당 일자의 플레이리스트를 생성 \n",
    "- 그리고 Soptify에서 직접 노래를 확인하고 새로운 플레이리스트에 노래 추가! "
   ]
  },
  {
   "cell_type": "markdown",
   "id": "f29aac5c",
   "metadata": {},
   "source": [
    "### 1. Billboard Hot 100 스크래핑 하기 \n",
    "- 새 프로젝트 생성 \n",
    "- 음악 여행을 몇 년도로 갈지 묻는 input() 프롬프트 만들기 -> 입력은 YYYY-MM-DD 형식으로 받기 \n",
    "    - 예) Which year do you want to travel to? Type the date in this format YYYY-MM-DD:\n",
    "- BeautifulSoup에 대해 배운 것을 토대로 해당 날짜의 탑 100 노래 제목을 파이썬 리스트로 스크래핑하기 "
   ]
  },
  {
   "cell_type": "code",
   "execution_count": 4,
   "id": "58f30197",
   "metadata": {},
   "outputs": [],
   "source": [
    "import requests\n",
    "from bs4 import BeautifulSoup"
   ]
  },
  {
   "cell_type": "code",
   "execution_count": 3,
   "id": "951f6fc4",
   "metadata": {},
   "outputs": [
    {
     "name": "stdout",
     "output_type": "stream",
     "text": [
      "Which year do you want to travel to? Type the date in this format YYYY-MM-DD:2012-11-03\n"
     ]
    },
    {
     "data": {
      "text/plain": [
       "'2012-11-03'"
      ]
     },
     "execution_count": 3,
     "metadata": {},
     "output_type": "execute_result"
    }
   ],
   "source": [
    "# input 프롬프트 만들기 \n",
    "question = input(\"Which year do you want to travel to? Type the date in this format YYYY-MM-DD:\")\n",
    "question"
   ]
  },
  {
   "cell_type": "code",
   "execution_count": 37,
   "id": "00d81ce5",
   "metadata": {},
   "outputs": [
    {
     "data": {
      "text/plain": [
       "['One More Night',\n",
       " 'Gangnam Style',\n",
       " 'Some Nights',\n",
       " 'We Are Never Ever Getting Back Together',\n",
       " 'Die Young',\n",
       " 'As Long As You Love Me',\n",
       " 'Too Close',\n",
       " 'Diamonds',\n",
       " 'Let Me Love You (Until You Learn To Love Yourself)',\n",
       " 'Blow Me (One Last Kiss)',\n",
       " \"Don't Wake Me Up\",\n",
       " 'Good Time',\n",
       " 'State Of Grace',\n",
       " 'Lights',\n",
       " 'Locked Out Of Heaven',\n",
       " 'Everybody Talks',\n",
       " 'Home',\n",
       " 'Clique',\n",
       " 'Whistle',\n",
       " '50 Ways To Say Goodbye',\n",
       " 'Blown Away',\n",
       " 'Adorn',\n",
       " 'I Knew You Were Trouble.',\n",
       " 'I Cry',\n",
       " 'Call Me Maybe',\n",
       " 'Somebody That I Used To Know',\n",
       " 'Ho Hey',\n",
       " 'Wide Awake',\n",
       " 'Cruise',\n",
       " 'Titanium',\n",
       " \"Live While We're Young\",\n",
       " 'Payphone',\n",
       " 'Mercy',\n",
       " 'I Will Wait',\n",
       " \"It's Time\",\n",
       " 'Finally Found You',\n",
       " 'Pop That',\n",
       " 'Wanted',\n",
       " 'Give Your Heart A Break',\n",
       " 'Hard To Love',\n",
       " 'The A Team',\n",
       " 'Kiss Tomorrow Goodbye',\n",
       " 'No Lie',\n",
       " \"I Won't Give Up\",\n",
       " 'Skyfall',\n",
       " 'Bandz A Make Her Dance',\n",
       " 'Girl On Fire',\n",
       " '2 Reasons',\n",
       " 'Birthday Song',\n",
       " 'Ball',\n",
       " 'Pound The Alarm',\n",
       " 'Thinkin Bout You',\n",
       " 'Turn On The Lights',\n",
       " 'Catch My Breath',\n",
       " 'Swimming Pools (Drank)',\n",
       " 'Feel Again',\n",
       " 'The One That Got Away',\n",
       " 'I Can Only Imagine',\n",
       " 'Your Body',\n",
       " 'Fastest Girl In Town',\n",
       " \"Lovin' You Is Fun\",\n",
       " 'Come Wake Me Up',\n",
       " 'Take A Little Ride',\n",
       " 'Anything Could Happen',\n",
       " 'Put It Down',\n",
       " 'Madness',\n",
       " 'Beer Money',\n",
       " 'Want U Back',\n",
       " 'Numb',\n",
       " 'Hall Of Fame',\n",
       " 'Beauty And A Beat',\n",
       " 'No Worries',\n",
       " \"Creepin'\",\n",
       " 'Pontoon',\n",
       " \"Don't You Worry Child\",\n",
       " 'Til My Last Day',\n",
       " 'Red',\n",
       " 'Begin Again',\n",
       " 'Dance For You',\n",
       " 'Truck Yeah',\n",
       " 'Dive In',\n",
       " 'Thrift Shop',\n",
       " 'Babel',\n",
       " 'Southern Comfort Zone',\n",
       " 'Take A Walk',\n",
       " 'How Country Feels',\n",
       " 'Diced Pineapples',\n",
       " 'Did It For The Girl',\n",
       " 'Every Storm (Runs Out Of Rain)',\n",
       " 'El Cerrito Place',\n",
       " 'Goodbye In Her Eyes',\n",
       " 'Night Train',\n",
       " 'Radioactive',\n",
       " \"She's So Mean\",\n",
       " 'My Moment',\n",
       " 'Sweet Nothing',\n",
       " 'Hello',\n",
       " 'Ready Or Not',\n",
       " 'Amen',\n",
       " 'Whispers In The Dark']"
      ]
     },
     "execution_count": 37,
     "metadata": {},
     "output_type": "execute_result"
    }
   ],
   "source": [
    "# 내가 원하는 날짜를 기준으로 빌보드 Hot 100에 있는 제목 스크래핑 하기 \n",
    "url = f\"https://www.billboard.com/charts/hot-100/{question}/\"\n",
    "response = requests.get(url)\n",
    "bilboard_page = response.text\n",
    "\n",
    "soup = BeautifulSoup(bilboard_page, \"html.parser\")\n",
    "music_title_spans = soup.select(\"li > ul > li > h3\")\n",
    "music_title = [title.getText().replace(\"\\n\", \"\").replace(\"\\t\", \"\") for title in music_title_spans]\n",
    "music_title"
   ]
  },
  {
   "cell_type": "markdown",
   "id": "6c5f821c",
   "metadata": {},
   "source": [
    "### 2. Spotify를 통한 인증 \n",
    "- 스포티파이 무료 계정 만들고, 개발자 대시보드로 가서 새로운 앱 만들기 \n",
    "- 스포티파이로 인증하기는 꽤나 복잡하다. 그래서 프로젝트를 좀 더 쉽게 만들기 위해 만든 파이썬 스포티파이 모듈인 스포티파이를 사용 \n",
    "    - pip install spotipy\n",
    "- 스포티파이 앱을 만들었다면, Client ID와 Client Secret을 파이썬 프로젝트로 복사, 그리고 Client ID와 Client Secret을 사용해서 파이썬 프로젝트를 스포티파이로 인증하는 방법 찾기 \n",
    "- 리다이렉트 URI로 http://example.com를 사용하기. 현재 사용자 ID(여러분의 스포티파이 사용자명)를 가져오려고 한다. 문서에 있는 대로 스포티파이 대시보드에서도 리다이렉트 URI를 반드시 설정하기\n",
    "    - 힌트 1: 스포티파이 앱에 본인 Client ID와 Secret이 있어야 하며, 위 이미지에 있는 Client ID와 Secret으로는 동작하지 않음\n",
    "    - 힌트 2: 필요한 메소드는 이 링크를 참고: https://spotipy.readthedocs.io/en/2.13.0/#spotipy.oauth2.SpotifyOAuth\n",
    "    - 힌트 3: Client ID와 Secret은 export나 set을 사용하지 말고 바로 SpotifyOAuth() 생성자로 전달.\n",
    "    - 힌트 4: 스포티파이에서 비공개 플레이리스트를 만들려면, ’playlist-modify-private’ 범위가 필요.\n",
    "    - 힌트 5: 제대로 했다면, 동의 페이지가 나옴. (반드시 ‘동의’를 누르기)\n",
    "- 그 다음 example.com 페이지가 나오며, 주소창에 있는 전체 URL을 복사. 프롬프트가 나오면 해당 URL 복사해서 넣기\n",
    "- 인증된 사용자의 user id(여러분의 스포티파이 사용자 이름)를 가져오기\n",
    "    - 힌트 1: 이 메소드가 필요: https://spotipy.readthedocs.io/en/2.13.0/#spotipy.client.Spotify.current_user\n",
    "\n",
    "    - 힌트 2: 위 메소드는 딕셔너리를 반환하므로 ‘id’ key에 해당하는 값을 찾기"
   ]
  },
  {
   "cell_type": "code",
   "execution_count": 4,
   "id": "cc82513d",
   "metadata": {},
   "outputs": [],
   "source": [
    "import spotipy\n",
    "from spotipy.oauth2 import SpotifyOAuth"
   ]
  },
  {
   "cell_type": "code",
   "execution_count": 5,
   "id": "6eb3cfad",
   "metadata": {},
   "outputs": [
    {
     "data": {
      "text/plain": [
       "{'href': 'https://api.spotify.com/v1/users/31d4lredsunq5fh7w7djkp76e76i/playlists?offset=0&limit=50',\n",
       " 'items': [],\n",
       " 'limit': 50,\n",
       " 'next': None,\n",
       " 'offset': 0,\n",
       " 'previous': None,\n",
       " 'total': 0}"
      ]
     },
     "execution_count": 5,
     "metadata": {},
     "output_type": "execute_result"
    }
   ],
   "source": [
    "sp = spotipy.Spotify(auth_manager=SpotifyOAuth(client_id=\"Your ID\",                # 스포티파이 클라이언트 아이디\n",
    "                                               client_secret=\"Your Secret key\",    # 스포티파이 클라이언트 시크릿키\n",
    "                                               redirect_uri=\"http://example.com\",                   # 리다이렉션 URL \n",
    "                                               scope=\"user-library-read playlist-modify-public\"))   # 비공개 플레이 리스트 만들기 \n",
    "user_key = sp.current_user()[\"id\"]                   # 인증으로 받은 유저 아이디 \n",
    "play_result = sp.user_playlists(user=user_key)       # 플레이 리스트 현황 확인 \n",
    "play_result"
   ]
  },
  {
   "cell_type": "code",
   "execution_count": null,
   "id": "3b5e289d",
   "metadata": {},
   "outputs": [],
   "source": []
  }
 ],
 "metadata": {
  "kernelspec": {
   "display_name": "Python 3 (ipykernel)",
   "language": "python",
   "name": "python3"
  },
  "language_info": {
   "codemirror_mode": {
    "name": "ipython",
    "version": 3
   },
   "file_extension": ".py",
   "mimetype": "text/x-python",
   "name": "python",
   "nbconvert_exporter": "python",
   "pygments_lexer": "ipython3",
   "version": "3.8.12"
  }
 },
 "nbformat": 4,
 "nbformat_minor": 5
}
