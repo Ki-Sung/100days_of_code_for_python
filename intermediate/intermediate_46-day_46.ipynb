{
 "cells": [
  {
   "cell_type": "markdown",
   "id": "64718736",
   "metadata": {},
   "source": [
    "## 음악 타임 머신 프로젝트 \n",
    "- 빌보드 에서 HOT 100에서 원하는 과거의 100곡을 스크래핑을 통해 얻기 \n",
    "- 모든 노래 제목을 추출한 뒤 Spotify API를 통해 해당 일자의 플레이리스트를 생성 \n",
    "- 그리고 Soptify에서 직접 노래를 확인하고 새로운 플레이리스트에 노래 추가! "
   ]
  },
  {
   "cell_type": "markdown",
   "id": "5f707ab3",
   "metadata": {},
   "source": [
    "### 1. Billboard Hot 100 스크래핑 하기 \n",
    "- 새 프로젝트 생성 \n",
    "- 음악 여행을 몇 년도로 갈지 묻는 input() 프롬프트 만들기 -> 입력은 YYYY-MM-DD 형식으로 받기 \n",
    "    - 예) Which year do you want to travel to? Type the date in this format YYYY-MM-DD:\n",
    "- BeautifulSoup에 대해 배운 것을 토대로 해당 날짜의 탑 100 노래 제목을 파이썬 리스트로 스크래핑하기 "
   ]
  },
  {
   "cell_type": "code",
   "execution_count": 4,
   "id": "e56c2f54",
   "metadata": {},
   "outputs": [],
   "source": [
    "import requests\n",
    "from bs4 import BeautifulSoup"
   ]
  },
  {
   "cell_type": "code",
   "execution_count": 3,
   "id": "ee1489e9",
   "metadata": {},
   "outputs": [
    {
     "name": "stdout",
     "output_type": "stream",
     "text": [
      "Which year do you want to travel to? Type the date in this format YYYY-MM-DD:2012-11-03\n"
     ]
    },
    {
     "data": {
      "text/plain": [
       "'2012-11-03'"
      ]
     },
     "execution_count": 3,
     "metadata": {},
     "output_type": "execute_result"
    }
   ],
   "source": [
    "# input 프롬프트 만들기 \n",
    "question = input(\"Which year do you want to travel to? Type the date in this format YYYY-MM-DD:\")\n",
    "question"
   ]
  },
  {
   "cell_type": "code",
   "execution_count": 37,
   "id": "74cbad28",
   "metadata": {},
   "outputs": [
    {
     "data": {
      "text/plain": [
       "['One More Night',\n",
       " 'Gangnam Style',\n",
       " 'Some Nights',\n",
       " 'We Are Never Ever Getting Back Together',\n",
       " 'Die Young',\n",
       " 'As Long As You Love Me',\n",
       " 'Too Close',\n",
       " 'Diamonds',\n",
       " 'Let Me Love You (Until You Learn To Love Yourself)',\n",
       " 'Blow Me (One Last Kiss)',\n",
       " \"Don't Wake Me Up\",\n",
       " 'Good Time',\n",
       " 'State Of Grace',\n",
       " 'Lights',\n",
       " 'Locked Out Of Heaven',\n",
       " 'Everybody Talks',\n",
       " 'Home',\n",
       " 'Clique',\n",
       " 'Whistle',\n",
       " '50 Ways To Say Goodbye',\n",
       " 'Blown Away',\n",
       " 'Adorn',\n",
       " 'I Knew You Were Trouble.',\n",
       " 'I Cry',\n",
       " 'Call Me Maybe',\n",
       " 'Somebody That I Used To Know',\n",
       " 'Ho Hey',\n",
       " 'Wide Awake',\n",
       " 'Cruise',\n",
       " 'Titanium',\n",
       " \"Live While We're Young\",\n",
       " 'Payphone',\n",
       " 'Mercy',\n",
       " 'I Will Wait',\n",
       " \"It's Time\",\n",
       " 'Finally Found You',\n",
       " 'Pop That',\n",
       " 'Wanted',\n",
       " 'Give Your Heart A Break',\n",
       " 'Hard To Love',\n",
       " 'The A Team',\n",
       " 'Kiss Tomorrow Goodbye',\n",
       " 'No Lie',\n",
       " \"I Won't Give Up\",\n",
       " 'Skyfall',\n",
       " 'Bandz A Make Her Dance',\n",
       " 'Girl On Fire',\n",
       " '2 Reasons',\n",
       " 'Birthday Song',\n",
       " 'Ball',\n",
       " 'Pound The Alarm',\n",
       " 'Thinkin Bout You',\n",
       " 'Turn On The Lights',\n",
       " 'Catch My Breath',\n",
       " 'Swimming Pools (Drank)',\n",
       " 'Feel Again',\n",
       " 'The One That Got Away',\n",
       " 'I Can Only Imagine',\n",
       " 'Your Body',\n",
       " 'Fastest Girl In Town',\n",
       " \"Lovin' You Is Fun\",\n",
       " 'Come Wake Me Up',\n",
       " 'Take A Little Ride',\n",
       " 'Anything Could Happen',\n",
       " 'Put It Down',\n",
       " 'Madness',\n",
       " 'Beer Money',\n",
       " 'Want U Back',\n",
       " 'Numb',\n",
       " 'Hall Of Fame',\n",
       " 'Beauty And A Beat',\n",
       " 'No Worries',\n",
       " \"Creepin'\",\n",
       " 'Pontoon',\n",
       " \"Don't You Worry Child\",\n",
       " 'Til My Last Day',\n",
       " 'Red',\n",
       " 'Begin Again',\n",
       " 'Dance For You',\n",
       " 'Truck Yeah',\n",
       " 'Dive In',\n",
       " 'Thrift Shop',\n",
       " 'Babel',\n",
       " 'Southern Comfort Zone',\n",
       " 'Take A Walk',\n",
       " 'How Country Feels',\n",
       " 'Diced Pineapples',\n",
       " 'Did It For The Girl',\n",
       " 'Every Storm (Runs Out Of Rain)',\n",
       " 'El Cerrito Place',\n",
       " 'Goodbye In Her Eyes',\n",
       " 'Night Train',\n",
       " 'Radioactive',\n",
       " \"She's So Mean\",\n",
       " 'My Moment',\n",
       " 'Sweet Nothing',\n",
       " 'Hello',\n",
       " 'Ready Or Not',\n",
       " 'Amen',\n",
       " 'Whispers In The Dark']"
      ]
     },
     "execution_count": 37,
     "metadata": {},
     "output_type": "execute_result"
    }
   ],
   "source": [
    "# 내가 원하는 날짜를 기준으로 빌보드 Hot 100에 있는 제목 스크래핑 하기 \n",
    "url = f\"https://www.billboard.com/charts/hot-100/{question}/\"\n",
    "response = requests.get(url)\n",
    "bilboard_page = response.text\n",
    "\n",
    "soup = BeautifulSoup(bilboard_page, \"html.parser\")\n",
    "music_title_spans = soup.select(\"li > ul > li > h3\")\n",
    "music_title = [title.getText().replace(\"\\n\", \"\").replace(\"\\t\", \"\") for title in music_title_spans]\n",
    "music_title"
   ]
  },
  {
   "cell_type": "code",
   "execution_count": null,
   "id": "29d64179",
   "metadata": {},
   "outputs": [],
   "source": []
  }
 ],
 "metadata": {
  "kernelspec": {
   "display_name": "Python 3 (ipykernel)",
   "language": "python",
   "name": "python3"
  },
  "language_info": {
   "codemirror_mode": {
    "name": "ipython",
    "version": 3
   },
   "file_extension": ".py",
   "mimetype": "text/x-python",
   "name": "python",
   "nbconvert_exporter": "python",
   "pygments_lexer": "ipython3",
   "version": "3.8.12"
  }
 },
 "nbformat": 4,
 "nbformat_minor": 5
}
