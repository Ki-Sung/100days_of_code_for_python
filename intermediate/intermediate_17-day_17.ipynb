{
 "cells": [
  {
   "cell_type": "markdown",
   "id": "1e8c7c01",
   "metadata": {},
   "source": [
    "### Class를 만드는 법 \n",
    "- class는 궁극적으로 객체를 만들기 위한 청사진이다.\n",
    "- class를 만드는 방법은 아래와 같다."
   ]
  },
  {
   "cell_type": "code",
   "execution_count": 2,
   "id": "c9bd1eeb",
   "metadata": {},
   "outputs": [],
   "source": [
    "# class를 만드는 방법 \n",
    "class User:\n",
    "    pass"
   ]
  },
  {
   "cell_type": "code",
   "execution_count": 3,
   "id": "723ceccf",
   "metadata": {},
   "outputs": [],
   "source": [
    "# class를 만들고 객체 생성 \n",
    "user_1 = User()"
   ]
  },
  {
   "cell_type": "markdown",
   "id": "bb10c2c7",
   "metadata": {},
   "source": [
    "- 클래스 명은 모든 단어의 첫 글자가 대문자여야 한다. (파스칼 케이스)"
   ]
  },
  {
   "cell_type": "markdown",
   "id": "ec52323a",
   "metadata": {},
   "source": [
    "- Class의 속성은 어떻게 만들까? \n",
    "- 가장 쉬운 방법은 객체로 들어가서 속성을 추가하는 것이다.\n",
    "- 아래처럼"
   ]
  },
  {
   "cell_type": "code",
   "execution_count": 4,
   "id": "ada963a5",
   "metadata": {},
   "outputs": [
    {
     "name": "stdout",
     "output_type": "stream",
     "text": [
      "kisung\n"
     ]
    }
   ],
   "source": [
    "# 객체로 들어가 속성 추가\n",
    "user_1 = User()\n",
    "user_1.id = \"001\"\n",
    "user_1.username = \"kisung\"\n",
    "\n",
    "# 추가한 속성 출력하기 - 추가한 속성이 이미 객체에 존재 함. (속성은 객체와 관련된 변수임을 기억하자!)\n",
    "print(user_1.username)"
   ]
  },
  {
   "cell_type": "markdown",
   "id": "612a6c14",
   "metadata": {},
   "source": [
    "- 위와 같은 방식을 하면, 따로 객체의 속성을 따로 지정해줘야할 뿐만아니라 생산성 적으로 비효울 적임 \n",
    "- 그래서 생성자라는 것을 추가해준다. \n",
    "- 생성자(Constructor)란? 청사진의 일부로, 객체가 생성될 때 무슨 일이 일어나야 하는지 명시할 수 있게해주는 역할을 한다.\n",
    "- 이것은 프로그래밍에서 객체 초기화로도 알려져있다. (init함수 사용)"
   ]
  },
  {
   "cell_type": "code",
   "execution_count": null,
   "id": "77321fdc",
   "metadata": {},
   "outputs": [],
   "source": [
    "# 예제 - 속성 생성\n",
    "class Car:\n",
    "    def __init__(self):\n",
    "        # initialise attributes"
   ]
  },
  {
   "cell_type": "markdown",
   "id": "e048e22c",
   "metadata": {},
   "source": [
    "- 여기서 init 함수가 특별한 함수인 이유는 키워드가 def 뿐만 아니라 함수의 이름 때문이다. \n",
    "- 이름 양옆으로 밑줄이 두 개이다. \n",
    "- 이것은 파이썬 인터프리터(해석기)가 이것이 특별한 기능을 가진 메소드라는 것을 안다는 의미이다. 여기서 특별한 기능이란 속성을 초기화 하는데 사용하는 것을 말한다. "
   ]
  },
  {
   "cell_type": "code",
   "execution_count": 5,
   "id": "1575b4e2",
   "metadata": {},
   "outputs": [],
   "source": [
    "# 위의 예제 다시 사용 - 인스타 User 정보를 위한 Class로 가정\n",
    "class User:\n",
    "    def __init__(self):\n",
    "        print(\"new user being created...\")"
   ]
  },
  {
   "cell_type": "markdown",
   "id": "db711d98",
   "metadata": {},
   "source": [
    "- 여기서 기억해야할 중요한 사실은 이 클래스에서 새로운 객체를 만들 때마다 init 함수가 호출된다는 것이다. "
   ]
  },
  {
   "cell_type": "code",
   "execution_count": 6,
   "id": "ae3c57eb",
   "metadata": {},
   "outputs": [
    {
     "name": "stdout",
     "output_type": "stream",
     "text": [
      "new user being created...\n"
     ]
    }
   ],
   "source": [
    "# 생성자가 실행될 때마다 위 클래스에서 지정환 프린트 문이 출력된다.\n",
    "user_1 = User()"
   ]
  },
  {
   "cell_type": "code",
   "execution_count": 7,
   "id": "5e61467c",
   "metadata": {},
   "outputs": [
    {
     "name": "stdout",
     "output_type": "stream",
     "text": [
      "new user being created...\n"
     ]
    }
   ],
   "source": [
    "user_2 = User()"
   ]
  },
  {
   "cell_type": "markdown",
   "id": "3c4e4343",
   "metadata": {},
   "source": [
    "- 속성은 객체가 가지는 것들이다. 기본적으로 최종 객체와 관련된 변수들이다. \n",
    "- 그렇다면 생성자에서 해당 속성들을 어떻게 정할까? "
   ]
  },
  {
   "cell_type": "code",
   "execution_count": 8,
   "id": "6d640766",
   "metadata": {},
   "outputs": [],
   "source": [
    "class Car:\n",
    "    def __init__(self, seats):\n",
    "        # initialise attributes\n",
    "        self.seats = seats"
   ]
  },
  {
   "cell_type": "markdown",
   "id": "c9d9423c",
   "metadata": {},
   "source": [
    "- init 함수가 있고 init 함수 안에 self라고 불리는 것들이 있는데, 만들어지고 있는 또는 초기화되고 있는 실제 객체이다. \n",
    "- 그리고 원하는 만큼 많은 매개변수를 추가할 수 있다. \n",
    "- 이 매개변수들은 클래스로 부터 객체가 생성될 때, 전달된다."
   ]
  },
  {
   "cell_type": "code",
   "execution_count": 15,
   "id": "e31c294a",
   "metadata": {},
   "outputs": [
    {
     "data": {
      "text/plain": [
       "5"
      ]
     },
     "execution_count": 15,
     "metadata": {},
     "output_type": "execute_result"
    }
   ],
   "source": [
    "# 실제로 생성자를 호출할 때 코드 \n",
    "my_car = Car(5)  # my_car.seats = 5 라고 입력하는 것과 같음\n",
    "my_car.seats"
   ]
  },
  {
   "cell_type": "code",
   "execution_count": 11,
   "id": "405dd568",
   "metadata": {},
   "outputs": [],
   "source": [
    "# 인스타 User 정보를 위한 Class 2 - 속성 생성 id\n",
    "class User:\n",
    "    def __init__(self, user_id):\n",
    "        self.id = user_id"
   ]
  },
  {
   "cell_type": "code",
   "execution_count": 14,
   "id": "30fcb2bf",
   "metadata": {},
   "outputs": [
    {
     "data": {
      "text/plain": [
       "'001'"
      ]
     },
     "execution_count": 14,
     "metadata": {},
     "output_type": "execute_result"
    }
   ],
   "source": [
    "user_1 = User(\"001\")\n",
    "user_1.id"
   ]
  },
  {
   "cell_type": "code",
   "execution_count": 16,
   "id": "8698e6ee",
   "metadata": {},
   "outputs": [],
   "source": [
    "# 인스타 User 정보를 위한 Class 3 - 다른 속성 생성 username\n",
    "class User:\n",
    "    def __init__(self, user_id, username):\n",
    "        self.id = user_id\n",
    "        self.username = username"
   ]
  },
  {
   "cell_type": "code",
   "execution_count": 17,
   "id": "a7db84f7",
   "metadata": {},
   "outputs": [
    {
     "name": "stdout",
     "output_type": "stream",
     "text": [
      "001\n",
      "kisung\n"
     ]
    }
   ],
   "source": [
    "user_1 = User(\"001\", \"kisung\")\n",
    "print(user_1.id)\n",
    "print(user_1.username)"
   ]
  },
  {
   "cell_type": "code",
   "execution_count": 18,
   "id": "20585574",
   "metadata": {},
   "outputs": [
    {
     "name": "stdout",
     "output_type": "stream",
     "text": [
      "002\n",
      "sumin\n"
     ]
    }
   ],
   "source": [
    "user_2 = User(\"002\", \"sumin\")\n",
    "print(user_2.id)\n",
    "print(user_2.username)"
   ]
  },
  {
   "cell_type": "code",
   "execution_count": 21,
   "id": "113ea25d",
   "metadata": {},
   "outputs": [],
   "source": [
    "# 인스타 User 정보를 위한 Class 4 - 다른 속성 생성 followers\n",
    "class User:\n",
    "    def __init__(self, user_id, username, followers):\n",
    "        self.id = user_id\n",
    "        self.username = username\n",
    "        self.followers = 0\n",
    "    \n",
    "user_1 = User(\"001\", \"kisung\", 0)\n",
    "user_2 = User(\"002\", \"sumin\", 0)"
   ]
  },
  {
   "cell_type": "markdown",
   "id": "ae581ff3",
   "metadata": {},
   "source": [
    "- 만약 새로운 객체를 생성할 때 마다 위에 보이는 followers 값을 제공해야 한다는 것은 타당하지 않다. \n",
    "- 이 클래스에서 새로운 객체를 만들 때마다 항상 0을 써야한다는 것은 낭비처럼 느껴진다. \n"
   ]
  },
  {
   "cell_type": "code",
   "execution_count": 22,
   "id": "836eba04",
   "metadata": {},
   "outputs": [],
   "source": [
    "# 인스타 User 정보를 위한 Class 4 - followers 속성 생략 생략\n",
    "class User:\n",
    "    def __init__(self, user_id, username):\n",
    "        self.id = user_id\n",
    "        self.username = username\n",
    "        self.followers = 0\n",
    "    \n",
    "user_1 = User(\"001\", \"kisung\")\n",
    "user_2 = User(\"002\", \"sumin\")"
   ]
  },
  {
   "cell_type": "code",
   "execution_count": 23,
   "id": "3b989f49",
   "metadata": {},
   "outputs": [
    {
     "name": "stdout",
     "output_type": "stream",
     "text": [
      "0\n"
     ]
    }
   ],
   "source": [
    "print(user_1.followers)"
   ]
  },
  {
   "cell_type": "markdown",
   "id": "bab37dd0",
   "metadata": {},
   "source": [
    "- 파이썬에는 0을 지정한 것 처럼 기본값을 제공할 수도 있다. \n",
    "- 클래스가 초기화될 때 전달되는 매개변수 중 하나로 값을 설정하는 대신 0이라고 그냥 기본값으로 설정한다. "
   ]
  },
  {
   "cell_type": "markdown",
   "id": "4b95fc2a",
   "metadata": {},
   "source": [
    "### Class Method 추가하기 \n",
    "- 메소드는 클래스 선언 내부에 있는 함수(객체에 속하는 함수)를 말한다. "
   ]
  },
  {
   "cell_type": "code",
   "execution_count": null,
   "id": "510f296f",
   "metadata": {},
   "outputs": [],
   "source": [
    "# 메소드 사용 예제 \n",
    "class Car:\n",
    "    def enter_race_mode():\n",
    "        self.seats  = 2\n",
    "\n",
    "# 메소드를 호출할 때는 객체를 쓰고 점을 찍은 다음 enter_race_mode() 메소드를 호출한다.\n",
    "my_car = Car(0)\n",
    "my_car.enter_race_mode(2)"
   ]
  },
  {
   "cell_type": "code",
   "execution_count": 18,
   "id": "17e72e05",
   "metadata": {},
   "outputs": [
    {
     "name": "stdout",
     "output_type": "stream",
     "text": [
      "0\n",
      "1\n",
      "1\n",
      "0\n"
     ]
    }
   ],
   "source": [
    "# 인스타 User 정보를 위한 Class 5 - Method 추가하기 \n",
    "class User:\n",
    "    def __init__(self, user_id, username):   # 초기화 후 객체에 user_id, username 지정할 수 있게 만들기\n",
    "        self.id = user_id           # 속성 1 - user_id\n",
    "        self.username = username    # 속성 2 - username\n",
    "        self.followers = 0          # 속성 3 - followers - 팔로워 초기값\n",
    "        self.following = 0          # 속성 4 - following - 팔로잉 초기값\n",
    "    \n",
    "    # 메소드 정의 - follow\n",
    "    def follow(self, user):         # user 라는 파라미터를 받고  \n",
    "        user.followers += 1         # 팔로우하는 사용자의 팔로워 수, 1씩 증가 \n",
    "        self.following += 1         # 팔로워 수 1씩 증가하면 우리 자신의 following 수도 1씩 증가 \n",
    "\n",
    "user_1 = User(\"001\", \"kisung\")      # 객체 선언 - 속성은 id와 username \n",
    "user_2 = User(\"002\", \"sumin\")       # 객체 선언 - 속성은 id와 username \n",
    "\n",
    "user_1.follow(user_2)               # user_1 객체의 follow 메서드 -> user_2를 팔로우 한다는 의미\n",
    "\n",
    "print(user_1.followers)             # user_1 객체의 followers 인스턴스 출력 -> user_1 followers 수 출력\n",
    "print(user_1.following)             # user_1 객체의 following 인스턴스 출략 -> user_1 following 수 출력\n",
    "print(user_2.followers)             # user_2 객체의 followers 인스턴스 출력 -> user_2 followers 수 출력\n",
    "print(user_2.following)             # user_2 객체의 following 인스턴스 출략 -> user_2 following 수 출력"
   ]
  },
  {
   "cell_type": "markdown",
   "id": "3dac66cc",
   "metadata": {},
   "source": [
    "### Day 17 Final Project - Quiz Game"
   ]
  },
  {
   "cell_type": "markdown",
   "id": "2ec970c6",
   "metadata": {},
   "source": [
    "#### 1. 퀴즈 문제에 대한 모델 만들기 - Class 만들기 \n",
    "- attribute(속성)\n",
    "    - text = \"2 + 3 = 5\"\n",
    "    - answer = \"True\""
   ]
  },
  {
   "cell_type": "code",
   "execution_count": 33,
   "id": "83eca413",
   "metadata": {},
   "outputs": [],
   "source": [
    "# 1. 퀴즈 모델 Class 만들기 - 추후 question_model.py에 들어갈 것 \n",
    "class Question:\n",
    "    def __init__(self, q_text, q_answer):\n",
    "        self.text = q_text\n",
    "        self.answer = q_answer"
   ]
  },
  {
   "cell_type": "code",
   "execution_count": 35,
   "id": "ec92fd77",
   "metadata": {},
   "outputs": [
    {
     "name": "stdout",
     "output_type": "stream",
     "text": [
      "kisung\n"
     ]
    }
   ],
   "source": [
    "new_q = Question(\"kisung\", \"True\")\n",
    "print(new_q.text)"
   ]
  },
  {
   "cell_type": "markdown",
   "id": "6f910c6a",
   "metadata": {},
   "source": [
    "#### 2. Question 객체들이 모인 question_bank 만들기 \n",
    "- question_bank = [Question(q1, a1), Question(q2, a2), ...]\n",
    "    - question_data를 반복하는 for 루프를 작성한다.\n",
    "    - question_data의 각 항목에서 질문 객체를 만든다.\n",
    "    - 각 질문 개체를 quesiton_bank에 추가한다."
   ]
  },
  {
   "cell_type": "code",
   "execution_count": 72,
   "id": "21614161",
   "metadata": {},
   "outputs": [
    {
     "data": {
      "text/plain": [
       "[{'text': \"A slug's blood is green.\", 'answer': 'True'},\n",
       " {'text': 'The loudest animal is the African Elephant.', 'answer': 'False'},\n",
       " {'text': 'Approximately one quarter of human bones are in the feet.',\n",
       "  'answer': 'True'},\n",
       " {'text': 'The total surface area of a human lungs is the size of a football pitch.',\n",
       "  'answer': 'True'},\n",
       " {'text': 'In West Virginia, USA, if you accidentally hit an animal with your car, you are free to take it home to eat.',\n",
       "  'answer': 'True'},\n",
       " {'text': 'In London, UK, if you happen to die in the House of Parliament, you are entitled to a state funeral.',\n",
       "  'answer': 'False'},\n",
       " {'text': 'It is illegal to pee in the Ocean in Portugal.', 'answer': 'True'},\n",
       " {'text': 'You can lead a cow down stairs but not up stairs.',\n",
       "  'answer': 'False'},\n",
       " {'text': \"Google was originally called 'Backrub'.\", 'answer': 'True'},\n",
       " {'text': \"Buzz Aldrin's mother's maiden name was 'Moon'.\", 'answer': 'True'},\n",
       " {'text': 'No piece of square dry paper can be folded in half more than 7 times.',\n",
       "  'answer': 'False'},\n",
       " {'text': 'A few ounces of chocolate can to kill a small dog.',\n",
       "  'answer': 'True'}]"
      ]
     },
     "execution_count": 72,
     "metadata": {},
     "output_type": "execute_result"
    }
   ],
   "source": [
    "from quize_game_start import data  # data 불러오기, 추후 main.py에서 작업  \n",
    "\n",
    "# 데이터 출력 \n",
    "question_data = data.question_data\n",
    "question_data"
   ]
  },
  {
   "cell_type": "code",
   "execution_count": 74,
   "id": "31a68e5e",
   "metadata": {},
   "outputs": [
    {
     "name": "stdout",
     "output_type": "stream",
     "text": [
      "[<__main__.Question object at 0x109ea8f70>, <__main__.Question object at 0x109eb2520>, <__main__.Question object at 0x10a246fd0>, <__main__.Question object at 0x10a246730>, <__main__.Question object at 0x109ebd520>, <__main__.Question object at 0x109ebd430>, <__main__.Question object at 0x10a534dc0>, <__main__.Question object at 0x10a534fd0>, <__main__.Question object at 0x10a534eb0>, <__main__.Question object at 0x10a534f10>, <__main__.Question object at 0x10a5349a0>, <__main__.Question object at 0x109ebaee0>]\n"
     ]
    }
   ],
   "source": [
    "question_bank = []  # question_bank 라는 비어 있는 리스트 선언 \n",
    "for question in question_data:\n",
    "    question_text = question[\"text\"]      # 딕셔니리 타입의 질문 부분 저장 \n",
    "    question_answer = question[\"answer\"]  # 딕셔니리 타입의 답변 부분 저장 \n",
    "    new_question = Question(question_text, question_answer)  # Question 클래스 객체 생성 및 파라미터 설정 \n",
    "    question_bank.append(new_question)    # question_bank 리스트에 저장 \n",
    "\n",
    "print(question_bank)                       # 결과 출력  "
   ]
  },
  {
   "cell_type": "code",
   "execution_count": 76,
   "id": "fce6fd7e",
   "metadata": {},
   "outputs": [
    {
     "name": "stdout",
     "output_type": "stream",
     "text": [
      "A slug's blood is green.\n",
      "True\n"
     ]
    }
   ],
   "source": [
    "# 퀴즈 문제와 답 출력 \n",
    "print(question_bank[0].text)\n",
    "print(question_bank[0].answer)"
   ]
  },
  {
   "cell_type": "markdown",
   "id": "a376c64d",
   "metadata": {},
   "source": [
    "#### 3. 모든 질문과 퀴즈 기능을 위한 quiz brain 만들기 - 또다른 class 만들기 \n",
    "- 질문을 하고 \n",
    "- 질문에 대답을 했는지 체크\n",
    "- 퀴즈 종료 체크 \n",
    "- 속성 \n",
    "    - question_number = 0\n",
    "    - question_list\n",
    "- 메소드 \n",
    "    - next_question()"
   ]
  },
  {
   "cell_type": "code",
   "execution_count": 82,
   "id": "e34fe715",
   "metadata": {},
   "outputs": [],
   "source": [
    "# 추후 quiz_brain.py에 작업 \n",
    "class QuizBrain:\n",
    "    def __init__(self, q_list):\n",
    "        self.question_number = 0\n",
    "        self.question_list = q_list\n",
    "        \n",
    "    # 메소드 만들기 \n",
    "    def next_question(self):\n",
    "        current_question = self.question_list[self.question_number]                  # 현재 질문 -> question_list[number]\n",
    "        self.question_number += 1\n",
    "        input(f\"Q.{self.question_number}: {current_question.text} (True/False): \")   # 질문 선언 "
   ]
  },
  {
   "cell_type": "code",
   "execution_count": 83,
   "id": "6814de2d",
   "metadata": {},
   "outputs": [
    {
     "name": "stdout",
     "output_type": "stream",
     "text": [
      "Q.1: A slug's blood is green. (True/False): True\n"
     ]
    }
   ],
   "source": [
    "# main.py에 작업 \n",
    "quiz = QuizBrain(question_bank)\n",
    "quiz.next_question()"
   ]
  },
  {
   "cell_type": "markdown",
   "id": "d1783e5d",
   "metadata": {},
   "source": [
    "#### 4. 퀴즈의 다음 질문을 이어나가도록 만들기 \n",
    "- still_has_question()이라는 메소드 만들기 "
   ]
  },
  {
   "cell_type": "code",
   "execution_count": null,
   "id": "21ac117f",
   "metadata": {},
   "outputs": [],
   "source": [
    "# 추후 quiz_brain.py에 작업 \n",
    "class QuizBrain:\n",
    "    def __init__(self, q_list):\n",
    "        self.question_number = 0\n",
    "        self.question_list = q_list\n",
    "    \n",
    "    # 메소드 만들기 - still_has_question\n",
    "    \n",
    "    # 메소드 만들기 - next_question\n",
    "    def next_question(self):\n",
    "        current_question = self.question_list[self.question_number]                  # 현재 질문 -> question_list[number]\n",
    "        self.question_number += 1\n",
    "        input(f\"Q.{self.question_number}: {current_question.text} (True/False): \")   # 질문 선언 "
   ]
  }
 ],
 "metadata": {
  "kernelspec": {
   "display_name": "Python 3 (ipykernel)",
   "language": "python",
   "name": "python3"
  },
  "language_info": {
   "codemirror_mode": {
    "name": "ipython",
    "version": 3
   },
   "file_extension": ".py",
   "mimetype": "text/x-python",
   "name": "python",
   "nbconvert_exporter": "python",
   "pygments_lexer": "ipython3",
   "version": "3.8.12"
  }
 },
 "nbformat": 4,
 "nbformat_minor": 5
}
