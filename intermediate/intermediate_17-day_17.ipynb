{
 "cells": [
  {
   "cell_type": "markdown",
   "id": "5043d3e5",
   "metadata": {},
   "source": [
    "### Class를 만드는 법 \n",
    "- class는 궁극적으로 객체를 만들기 위한 청사진이다.\n",
    "- class를 만드는 방법은 아래와 같다."
   ]
  },
  {
   "cell_type": "code",
   "execution_count": 2,
   "id": "ccfcb0d2",
   "metadata": {},
   "outputs": [],
   "source": [
    "# class를 만드는 방법 \n",
    "class User:\n",
    "    pass"
   ]
  },
  {
   "cell_type": "code",
   "execution_count": 3,
   "id": "487bb595",
   "metadata": {},
   "outputs": [],
   "source": [
    "# class를 만들고 객체 생성 \n",
    "user_1 = User()"
   ]
  },
  {
   "cell_type": "markdown",
   "id": "568ff864",
   "metadata": {},
   "source": [
    "- 클래스 명은 모든 단어의 첫 글자가 대문자여야 한다. (파스칼 케이스)"
   ]
  },
  {
   "cell_type": "markdown",
   "id": "4d2f5c77",
   "metadata": {},
   "source": [
    "- Class의 속성은 어떻게 만들까? \n",
    "- 가장 쉬운 방법은 객체로 들어가서 속성을 추가하는 것이다.\n",
    "- 아래처럼"
   ]
  },
  {
   "cell_type": "code",
   "execution_count": 4,
   "id": "9dd64a8a",
   "metadata": {},
   "outputs": [
    {
     "name": "stdout",
     "output_type": "stream",
     "text": [
      "kisung\n"
     ]
    }
   ],
   "source": [
    "# 객체로 들어가 속성 추가\n",
    "user_1 = User()\n",
    "user_1.id = \"001\"\n",
    "user_1.username = \"kisung\"\n",
    "\n",
    "# 추가한 속성 출력하기 - 추가한 속성이 이미 객체에 존재 함. (속성은 객체와 관련된 변수임을 기억하자!)\n",
    "print(user_1.username)"
   ]
  },
  {
   "cell_type": "markdown",
   "id": "83cf7d8c",
   "metadata": {},
   "source": [
    "- 위와 같은 방식을 하면, 따로 객체의 속성을 따로 지정해줘야할 뿐만아니라 생산성 적으로 비효울 적임 \n",
    "- 그래서 생성자라는 것을 추가해준다. \n",
    "- 생성자(Constructor)란? 청사진의 일부로, 객체가 생성될 때 무슨 일이 일어나야 하는지 명시할 수 있게해주는 역할을 한다.\n",
    "- 이것은 프로그래밍에서 객체 초기화로도 알려져있다. (init함수 사용)"
   ]
  },
  {
   "cell_type": "code",
   "execution_count": null,
   "id": "a59c9b88",
   "metadata": {},
   "outputs": [],
   "source": [
    "# 예제 - 속성 생성\n",
    "class Car:\n",
    "    def __init__(self):\n",
    "        # initialise attributes"
   ]
  },
  {
   "cell_type": "markdown",
   "id": "b04edc48",
   "metadata": {},
   "source": [
    "- 여기서 init 함수가 특별한 함수인 이유는 키워드가 def 뿐만 아니라 함수의 이름 때문이다. \n",
    "- 이름 양옆으로 밑줄이 두 개이다. \n",
    "- 이것은 파이썬 인터프리터(해석기)가 이것이 특별한 기능을 가진 메소드라는 것을 안다는 의미이다. 여기서 특별한 기능이란 속성을 초기화 하는데 사용하는 것을 말한다. "
   ]
  },
  {
   "cell_type": "code",
   "execution_count": 5,
   "id": "b3bb1b80",
   "metadata": {},
   "outputs": [],
   "source": [
    "# 위의 예제 다시 사용 - 인스타 User 정보를 위한 Class로 가정\n",
    "class User:\n",
    "    def __init__(self):\n",
    "        print(\"new user being created...\")"
   ]
  },
  {
   "cell_type": "markdown",
   "id": "e050d031",
   "metadata": {},
   "source": [
    "- 여기서 기억해야할 중요한 사실은 이 클래스에서 새로운 객체를 만들 때마다 init 함수가 호출된다는 것이다. "
   ]
  },
  {
   "cell_type": "code",
   "execution_count": 6,
   "id": "02d0c406",
   "metadata": {},
   "outputs": [
    {
     "name": "stdout",
     "output_type": "stream",
     "text": [
      "new user being created...\n"
     ]
    }
   ],
   "source": [
    "# 생성자가 실행될 때마다 위 클래스에서 지정환 프린트 문이 출력된다.\n",
    "user_1 = User()"
   ]
  },
  {
   "cell_type": "code",
   "execution_count": 7,
   "id": "48be2fd7",
   "metadata": {},
   "outputs": [
    {
     "name": "stdout",
     "output_type": "stream",
     "text": [
      "new user being created...\n"
     ]
    }
   ],
   "source": [
    "user_2 = User()"
   ]
  },
  {
   "cell_type": "markdown",
   "id": "38d22be5",
   "metadata": {},
   "source": [
    "- 속성은 객체가 가지는 것들이다. 기본적으로 최종 객체와 관련된 변수들이다. \n",
    "- 그렇다면 생성자에서 해당 속성들을 어떻게 정할까? "
   ]
  },
  {
   "cell_type": "code",
   "execution_count": 8,
   "id": "43b851ea",
   "metadata": {},
   "outputs": [],
   "source": [
    "class Car:\n",
    "    def __init__(self, seats):\n",
    "        # initialise attributes\n",
    "        self.seats = seats"
   ]
  },
  {
   "cell_type": "markdown",
   "id": "6e3a4dda",
   "metadata": {},
   "source": [
    "- init 함수가 있고 init 함수 안에 self라고 불리는 것들이 있는데, 만들어지고 있는 또는 초기화되고 있는 실제 객체이다. \n",
    "- 그리고 원하는 만큼 많은 매개변수를 추가할 수 있다. \n",
    "- 이 매개변수들은 클래스로 부터 객체가 생성될 때, 전달된다."
   ]
  },
  {
   "cell_type": "code",
   "execution_count": 15,
   "id": "3143cc5c",
   "metadata": {},
   "outputs": [
    {
     "data": {
      "text/plain": [
       "5"
      ]
     },
     "execution_count": 15,
     "metadata": {},
     "output_type": "execute_result"
    }
   ],
   "source": [
    "# 실제로 생성자를 호출할 때 코드 \n",
    "my_car = Car(5)  # my_car.seats = 5 라고 입력하는 것과 같음\n",
    "my_car.seats"
   ]
  },
  {
   "cell_type": "code",
   "execution_count": 11,
   "id": "8927e4d8",
   "metadata": {},
   "outputs": [],
   "source": [
    "# 인스타 User 정보를 위한 Class 2 - 속성 생성 id\n",
    "class User:\n",
    "    def __init__(self, user_id):\n",
    "        self.id = user_id"
   ]
  },
  {
   "cell_type": "code",
   "execution_count": 14,
   "id": "bcc0d49c",
   "metadata": {},
   "outputs": [
    {
     "data": {
      "text/plain": [
       "'001'"
      ]
     },
     "execution_count": 14,
     "metadata": {},
     "output_type": "execute_result"
    }
   ],
   "source": [
    "user_1 = User(\"001\")\n",
    "user_1.id"
   ]
  },
  {
   "cell_type": "code",
   "execution_count": 16,
   "id": "24f398eb",
   "metadata": {},
   "outputs": [],
   "source": [
    "# 인스타 User 정보를 위한 Class 3 - 다른 속성 생성 username\n",
    "class User:\n",
    "    def __init__(self, user_id, username):\n",
    "        self.id = user_id\n",
    "        self.username = username"
   ]
  },
  {
   "cell_type": "code",
   "execution_count": 17,
   "id": "9b3950ff",
   "metadata": {},
   "outputs": [
    {
     "name": "stdout",
     "output_type": "stream",
     "text": [
      "001\n",
      "kisung\n"
     ]
    }
   ],
   "source": [
    "user_1 = User(\"001\", \"kisung\")\n",
    "print(user_1.id)\n",
    "print(user_1.username)"
   ]
  },
  {
   "cell_type": "code",
   "execution_count": 18,
   "id": "45e6a463",
   "metadata": {},
   "outputs": [
    {
     "name": "stdout",
     "output_type": "stream",
     "text": [
      "002\n",
      "sumin\n"
     ]
    }
   ],
   "source": [
    "user_2 = User(\"002\", \"sumin\")\n",
    "print(user_2.id)\n",
    "print(user_2.username)"
   ]
  },
  {
   "cell_type": "code",
   "execution_count": 21,
   "id": "dbf7fa82",
   "metadata": {},
   "outputs": [],
   "source": [
    "# 인스타 User 정보를 위한 Class 4 - 다른 속성 생성 followers\n",
    "class User:\n",
    "    def __init__(self, user_id, username, followers):\n",
    "        self.id = user_id\n",
    "        self.username = username\n",
    "        self.followers = 0\n",
    "    \n",
    "user_1 = User(\"001\", \"kisung\", 0)\n",
    "user_2 = User(\"002\", \"sumin\", 0)"
   ]
  },
  {
   "cell_type": "markdown",
   "id": "aaa8be68",
   "metadata": {},
   "source": [
    "- 만약 새로운 객체를 생성할 때 마다 위에 보이는 followers 값을 제공해야 한다는 것은 타당하지 않다. \n",
    "- 이 클래스에서 새로운 객체를 만들 때마다 항상 0을 써야한다는 것은 낭비처럼 느껴진다. \n"
   ]
  },
  {
   "cell_type": "code",
   "execution_count": 22,
   "id": "c217956c",
   "metadata": {},
   "outputs": [],
   "source": [
    "# 인스타 User 정보를 위한 Class 4 - followers 속성 생략 생략\n",
    "class User:\n",
    "    def __init__(self, user_id, username):\n",
    "        self.id = user_id\n",
    "        self.username = username\n",
    "        self.followers = 0\n",
    "    \n",
    "user_1 = User(\"001\", \"kisung\")\n",
    "user_2 = User(\"002\", \"sumin\")"
   ]
  },
  {
   "cell_type": "code",
   "execution_count": 23,
   "id": "2541f87e",
   "metadata": {},
   "outputs": [
    {
     "name": "stdout",
     "output_type": "stream",
     "text": [
      "0\n"
     ]
    }
   ],
   "source": [
    "print(user_1.followers)"
   ]
  },
  {
   "cell_type": "markdown",
   "id": "6746e558",
   "metadata": {},
   "source": [
    "- 파이썬에는 0을 지정한 것 처럼 기본값을 제공할 수도 있다. \n",
    "- 클래스가 초기화될 때 전달되는 매개변수 중 하나로 값을 설정하는 대신 0이라고 그냥 기본값으로 설정한다. "
   ]
  },
  {
   "cell_type": "markdown",
   "id": "0e88fce4",
   "metadata": {},
   "source": [
    "### Class Method 추가하기 \n",
    "- 메소드는 클래스 선언 내부에 있는 함수(객체에 속하는 함수)를 말한다. "
   ]
  },
  {
   "cell_type": "code",
   "execution_count": null,
   "id": "e3c4a3b7",
   "metadata": {},
   "outputs": [],
   "source": [
    "# 메소드 사용 예제 \n",
    "class Car:\n",
    "    def enter_race_mode():\n",
    "        self.seats  = 2\n",
    "\n",
    "# 메소드를 호출할 때는 객체를 쓰고 점을 찍은 다음 enter_race_mode() 메소드를 호출한다.\n",
    "my_car = Car(0)\n",
    "my_car.enter_race_mode(2)"
   ]
  },
  {
   "cell_type": "code",
   "execution_count": 18,
   "id": "60240191",
   "metadata": {},
   "outputs": [
    {
     "name": "stdout",
     "output_type": "stream",
     "text": [
      "0\n",
      "1\n",
      "1\n",
      "0\n"
     ]
    }
   ],
   "source": [
    "# 인스타 User 정보를 위한 Class 5 - Method 추가하기 \n",
    "class User:\n",
    "    def __init__(self, user_id, username):   # 초기화 후 객체에 user_id, username 지정할 수 있게 만들기\n",
    "        self.id = user_id           # 속성 1 - user_id\n",
    "        self.username = username    # 속성 2 - username\n",
    "        self.followers = 0          # 속성 3 - followers - 팔로워 초기값\n",
    "        self.following = 0          # 속성 4 - following - 팔로잉 초기값\n",
    "    \n",
    "    # 메소드 정의 - follow\n",
    "    def follow(self, user):         # user 라는 파라미터를 받고  \n",
    "        user.followers += 1         # 팔로우하는 사용자의 팔로워 수, 1씩 증가 \n",
    "        self.following += 1         # 팔로워 수 1씩 증가하면 우리 자신의 following 수도 1씩 증가 \n",
    "\n",
    "user_1 = User(\"001\", \"kisung\")      # 객체 선언 - 속성은 id와 username \n",
    "user_2 = User(\"002\", \"sumin\")       # 객체 선언 - 속성은 id와 username \n",
    "\n",
    "user_1.follow(user_2)               # user_1 객체의 follow 메서드 -> user_2를 팔로우 한다는 의미\n",
    "\n",
    "print(user_1.followers)             # user_1 객체의 followers 인스턴스 출력 -> user_1 followers 수 출력\n",
    "print(user_1.following)             # user_1 객체의 following 인스턴스 출략 -> user_1 following 수 출력\n",
    "print(user_2.followers)             # user_2 객체의 followers 인스턴스 출력 -> user_2 followers 수 출력\n",
    "print(user_2.following)             # user_2 객체의 following 인스턴스 출략 -> user_2 following 수 출력"
   ]
  },
  {
   "cell_type": "markdown",
   "id": "132138dd",
   "metadata": {},
   "source": [
    "### Day 17 Final Project - Quiz Game"
   ]
  },
  {
   "cell_type": "markdown",
   "id": "83281195",
   "metadata": {},
   "source": [
    "#### 1. 퀴즈 문제에 대한 모델 만들기 - Class 만들기 \n",
    "- attribute(속성)\n",
    "    - text = \"2 + 3 = 5\"\n",
    "    - answer = \"True\""
   ]
  },
  {
   "cell_type": "code",
   "execution_count": 33,
   "id": "65adb52d",
   "metadata": {},
   "outputs": [],
   "source": [
    "# 1. 퀴즈 모델 Class 만들기 - 추후 question_model.py에 들어갈 것 \n",
    "class Question:\n",
    "    def __init__(self, q_text, q_answer):\n",
    "        self.text = q_text\n",
    "        self.answer = q_answer"
   ]
  },
  {
   "cell_type": "code",
   "execution_count": 35,
   "id": "20130c82",
   "metadata": {},
   "outputs": [
    {
     "name": "stdout",
     "output_type": "stream",
     "text": [
      "kisung\n"
     ]
    }
   ],
   "source": [
    "new_q = Question(\"kisung\", \"True\")\n",
    "print(new_q.text)"
   ]
  },
  {
   "cell_type": "markdown",
   "id": "7e77530f",
   "metadata": {},
   "source": [
    "#### 2. Question 객체들이 모인 question_bank 만들기 \n",
    "- question_bank = [Question(q1, a1), Question(q2, a2), ...]\n",
    "    - question_data를 반복하는 for 루프를 작성한다.\n",
    "    - question_data의 각 항목에서 질문 객체를 만든다.\n",
    "    - 각 질문 개체를 quesiton_bank에 추가한다."
   ]
  },
  {
   "cell_type": "code",
   "execution_count": 72,
   "id": "a9de3af1",
   "metadata": {},
   "outputs": [
    {
     "data": {
      "text/plain": [
       "[{'text': \"A slug's blood is green.\", 'answer': 'True'},\n",
       " {'text': 'The loudest animal is the African Elephant.', 'answer': 'False'},\n",
       " {'text': 'Approximately one quarter of human bones are in the feet.',\n",
       "  'answer': 'True'},\n",
       " {'text': 'The total surface area of a human lungs is the size of a football pitch.',\n",
       "  'answer': 'True'},\n",
       " {'text': 'In West Virginia, USA, if you accidentally hit an animal with your car, you are free to take it home to eat.',\n",
       "  'answer': 'True'},\n",
       " {'text': 'In London, UK, if you happen to die in the House of Parliament, you are entitled to a state funeral.',\n",
       "  'answer': 'False'},\n",
       " {'text': 'It is illegal to pee in the Ocean in Portugal.', 'answer': 'True'},\n",
       " {'text': 'You can lead a cow down stairs but not up stairs.',\n",
       "  'answer': 'False'},\n",
       " {'text': \"Google was originally called 'Backrub'.\", 'answer': 'True'},\n",
       " {'text': \"Buzz Aldrin's mother's maiden name was 'Moon'.\", 'answer': 'True'},\n",
       " {'text': 'No piece of square dry paper can be folded in half more than 7 times.',\n",
       "  'answer': 'False'},\n",
       " {'text': 'A few ounces of chocolate can to kill a small dog.',\n",
       "  'answer': 'True'}]"
      ]
     },
     "execution_count": 72,
     "metadata": {},
     "output_type": "execute_result"
    }
   ],
   "source": [
    "from quize_game_start import data  # data 불러오기, 추후 main.py에서 작업  \n",
    "\n",
    "# 데이터 출력 \n",
    "question_data = data.question_data\n",
    "question_data"
   ]
  },
  {
   "cell_type": "code",
   "execution_count": 74,
   "id": "ee0ab08f",
   "metadata": {},
   "outputs": [
    {
     "name": "stdout",
     "output_type": "stream",
     "text": [
      "[<__main__.Question object at 0x109ea8f70>, <__main__.Question object at 0x109eb2520>, <__main__.Question object at 0x10a246fd0>, <__main__.Question object at 0x10a246730>, <__main__.Question object at 0x109ebd520>, <__main__.Question object at 0x109ebd430>, <__main__.Question object at 0x10a534dc0>, <__main__.Question object at 0x10a534fd0>, <__main__.Question object at 0x10a534eb0>, <__main__.Question object at 0x10a534f10>, <__main__.Question object at 0x10a5349a0>, <__main__.Question object at 0x109ebaee0>]\n"
     ]
    }
   ],
   "source": [
    "question_bank = []  # question_bank 라는 비어 있는 리스트 선언 \n",
    "for question in question_data:\n",
    "    question_text = question[\"text\"]      # 딕셔니리 타입의 질문 부분 저장 \n",
    "    question_answer = question[\"answer\"]  # 딕셔니리 타입의 답변 부분 저장 \n",
    "    new_question = Question(question_text, question_answer)  # Question 클래스 객체 생성 및 파라미터 설정 \n",
    "    question_bank.append(new_question)    # question_bank 리스트에 저장 \n",
    "\n",
    "print(question_bank)                       # 결과 출력  "
   ]
  },
  {
   "cell_type": "code",
   "execution_count": 76,
   "id": "5721a6b2",
   "metadata": {},
   "outputs": [
    {
     "name": "stdout",
     "output_type": "stream",
     "text": [
      "A slug's blood is green.\n",
      "True\n"
     ]
    }
   ],
   "source": [
    "# 퀴즈 문제와 답 출력 \n",
    "print(question_bank[0].text)\n",
    "print(question_bank[0].answer)"
   ]
  },
  {
   "cell_type": "markdown",
   "id": "f73126a6",
   "metadata": {},
   "source": [
    "#### 3. 모든 질문과 퀴즈 기능을 위한 quiz brain 만들기 - 또다른 class 만들기 \n",
    "- 질문을 하고 \n",
    "- 질문에 대답을 했는지 체크\n",
    "- 퀴즈 종료 체크 \n",
    "- 속성 \n",
    "    - question_number = 0\n",
    "    - question_list\n",
    "- 메소드 \n",
    "    - next_question()"
   ]
  },
  {
   "cell_type": "code",
   "execution_count": 82,
   "id": "9aabb316",
   "metadata": {},
   "outputs": [],
   "source": [
    "# 추후 quiz_brain.py에 작업 \n",
    "class QuizBrain:\n",
    "    def __init__(self, q_list):\n",
    "        self.question_number = 0\n",
    "        self.question_list = q_list\n",
    "        \n",
    "    # 메소드 만들기 \n",
    "    def next_question(self):\n",
    "        current_question = self.question_list[self.question_number]                  # 현재 질문 -> question_list[number]\n",
    "        self.question_number += 1\n",
    "        input(f\"Q.{self.question_number}: {current_question.text} (True/False): \")   # 질문 선언 "
   ]
  },
  {
   "cell_type": "code",
   "execution_count": 83,
   "id": "2d9a79e2",
   "metadata": {},
   "outputs": [
    {
     "name": "stdout",
     "output_type": "stream",
     "text": [
      "Q.1: A slug's blood is green. (True/False): True\n"
     ]
    }
   ],
   "source": [
    "# main.py에 작업 \n",
    "question_bank = []  # question_bank 라는 비어 있는 리스트 선언 \n",
    "for question in question_data:\n",
    "    question_text = question[\"text\"]      # 딕셔니리 타입의 질문 부분 저장 \n",
    "    question_answer = question[\"answer\"]  # 딕셔니리 타입의 답변 부분 저장 \n",
    "    new_question = Question(question_text, question_answer)  # Question 클래스 객체 생성 및 파라미터 설정 \n",
    "    question_bank.append(new_question)    # question_bank 리스트에 저장 \n",
    "\n",
    "quiz = QuizBrain(question_bank)"
   ]
  },
  {
   "cell_type": "markdown",
   "id": "62e8c869",
   "metadata": {},
   "source": [
    "#### 4. 퀴즈의 다음 질문을 이어나가도록 만들기 \n",
    "- still_has_question()이라는 메소드 만들기 "
   ]
  },
  {
   "cell_type": "code",
   "execution_count": 85,
   "id": "c944fdf8",
   "metadata": {},
   "outputs": [],
   "source": [
    "# 추후 quiz_brain.py에 작업 \n",
    "class QuizBrain:\n",
    "    def __init__(self, q_list):\n",
    "        self.question_number = 0\n",
    "        self.question_list = q_list\n",
    "    \n",
    "    # 메소드 만들기 - still_has_question\n",
    "    def still_has_question(self):\n",
    "        return self.question_number < len(self.question_list)\n",
    "        # 위의 return은 아래의 구조를 따름 \n",
    "#        if self.question_number < len(self.question_list):\n",
    "#            return True\n",
    "#        else:\n",
    "#            return False\n",
    "    \n",
    "    # 메소드 만들기 - next_question\n",
    "    def next_question(self):\n",
    "        current_question = self.question_list[self.question_number]                  # 현재 질문 -> question_list[number]\n",
    "        self.question_number += 1                                                    # 질문 늘리기 \n",
    "        input(f\"Q.{self.question_number}: {current_question.text} (True/False): \")   # 질문 선언 "
   ]
  },
  {
   "cell_type": "code",
   "execution_count": 87,
   "id": "1da0a321",
   "metadata": {},
   "outputs": [
    {
     "name": "stdout",
     "output_type": "stream",
     "text": [
      "Q.1: A slug's blood is green. (True/False): t\n",
      "Q.2: The loudest animal is the African Elephant. (True/False): g\n",
      "Q.3: Approximately one quarter of human bones are in the feet. (True/False): t\n",
      "Q.4: The total surface area of a human lungs is the size of a football pitch. (True/False): t\n",
      "Q.5: In West Virginia, USA, if you accidentally hit an animal with your car, you are free to take it home to eat. (True/False): t\n",
      "Q.6: In London, UK, if you happen to die in the House of Parliament, you are entitled to a state funeral. (True/False): t\n",
      "Q.7: It is illegal to pee in the Ocean in Portugal. (True/False): t\n",
      "Q.8: You can lead a cow down stairs but not up stairs. (True/False): t\n",
      "Q.9: Google was originally called 'Backrub'. (True/False): t\n",
      "Q.10: Buzz Aldrin's mother's maiden name was 'Moon'. (True/False): t\n",
      "Q.11: No piece of square dry paper can be folded in half more than 7 times. (True/False): t\n",
      "Q.12: A few ounces of chocolate can to kill a small dog. (True/False): t\n"
     ]
    }
   ],
   "source": [
    "# main.py에 작업 \n",
    "question_bank = []  # question_bank 라는 비어 있는 리스트 선언 \n",
    "for question in question_data:\n",
    "    question_text = question[\"text\"]      # 딕셔니리 타입의 질문 부분 저장 \n",
    "    question_answer = question[\"answer\"]  # 딕셔니리 타입의 답변 부분 저장 \n",
    "    new_question = Question(question_text, question_answer)  # Question 클래스 객체 생성 및 파라미터 설정 \n",
    "    question_bank.append(new_question)    # question_bank 리스트에 저장 \n",
    "\n",
    "quiz = QuizBrain(question_bank)\n",
    "\n",
    "while quiz.still_has_question():\n",
    "    quiz.next_question()"
   ]
  },
  {
   "cell_type": "markdown",
   "id": "0165db61",
   "metadata": {},
   "source": [
    "#### 5. 정답 체크 메소드 만들기 \n",
    "- 메소드명\n",
    "    - check_answer()\n",
    "- 속성 추가 \n",
    "    - score = 0"
   ]
  },
  {
   "cell_type": "code",
   "execution_count": 91,
   "id": "42b48f8c",
   "metadata": {},
   "outputs": [],
   "source": [
    "# 추후 quiz_brain.py에 작업 \n",
    "class QuizBrain:\n",
    "    def __init__(self, q_list):\n",
    "        self.question_number = 0\n",
    "        self.score = 0\n",
    "        self.question_list = q_list\n",
    "    \n",
    "    # 메소드 만들기 - still_has_question\n",
    "    def still_has_question(self):\n",
    "        return self.question_number < len(self.question_list)\n",
    "        # 위의 return은 아래의 구조를 따름 \n",
    "#        if self.question_number < len(self.question_list):\n",
    "#            return True\n",
    "#        else:\n",
    "#            return False\n",
    "    \n",
    "    # 메소드 만들기 - next_question\n",
    "    def next_question(self):\n",
    "        current_question = self.question_list[self.question_number]                  # 현재 질문 -> question_list[number]\n",
    "        self.question_number += 1                                                    # 질문 늘리기 \n",
    "        user_answer = input(f\"Q.{self.question_number}: {current_question.text} (True/False): \")   # 질문 선언 \n",
    "        self.check_answer(user_answer, current_question.answer)\n",
    "        \n",
    "    # 메소드 만들기 - check_answer\n",
    "    def check_answer(self, user_answer, correct_answer):\n",
    "        if user_answer.lower() == correct_answer.lower():\n",
    "            self.score += 1\n",
    "            print(\"You got it right\")\n",
    "            \n",
    "        else:\n",
    "            print(\"Thar's wrong!\")\n",
    "            \n",
    "        print(f\"The correct answer was: {correct_answer}\")\n",
    "        print(f\"Your current score is: {self.score}/{self.question_number}\")\n",
    "        print(\"\\n\")"
   ]
  },
  {
   "cell_type": "code",
   "execution_count": 93,
   "id": "f7e37e61",
   "metadata": {},
   "outputs": [
    {
     "name": "stdout",
     "output_type": "stream",
     "text": [
      "Q.1: A slug's blood is green. (True/False): True\n",
      "You got it right\n",
      "The correct answer was: True\n",
      "Your current score is: 1/1\n",
      "\n",
      "\n",
      "Q.2: The loudest animal is the African Elephant. (True/False): False\n",
      "You got it right\n",
      "The correct answer was: False\n",
      "Your current score is: 2/2\n",
      "\n",
      "\n",
      "Q.3: Approximately one quarter of human bones are in the feet. (True/False): True\n",
      "You got it right\n",
      "The correct answer was: True\n",
      "Your current score is: 3/3\n",
      "\n",
      "\n",
      "Q.4: The total surface area of a human lungs is the size of a football pitch. (True/False): False\n",
      "Thar's wrong!\n",
      "The correct answer was: True\n",
      "Your current score is: 3/4\n",
      "\n",
      "\n",
      "Q.5: In West Virginia, USA, if you accidentally hit an animal with your car, you are free to take it home to eat. (True/False): False\n",
      "Thar's wrong!\n",
      "The correct answer was: True\n",
      "Your current score is: 3/5\n",
      "\n",
      "\n",
      "Q.6: In London, UK, if you happen to die in the House of Parliament, you are entitled to a state funeral. (True/False): False\n",
      "You got it right\n",
      "The correct answer was: False\n",
      "Your current score is: 4/6\n",
      "\n",
      "\n",
      "Q.7: It is illegal to pee in the Ocean in Portugal. (True/False): False\n",
      "Thar's wrong!\n",
      "The correct answer was: True\n",
      "Your current score is: 4/7\n",
      "\n",
      "\n",
      "Q.8: You can lead a cow down stairs but not up stairs. (True/False): False\n",
      "You got it right\n",
      "The correct answer was: False\n",
      "Your current score is: 5/8\n",
      "\n",
      "\n",
      "Q.9: Google was originally called 'Backrub'. (True/False): ture\n",
      "Thar's wrong!\n",
      "The correct answer was: True\n",
      "Your current score is: 5/9\n",
      "\n",
      "\n",
      "Q.10: Buzz Aldrin's mother's maiden name was 'Moon'. (True/False): False\n",
      "Thar's wrong!\n",
      "The correct answer was: True\n",
      "Your current score is: 5/10\n",
      "\n",
      "\n",
      "Q.11: No piece of square dry paper can be folded in half more than 7 times. (True/False): False\n",
      "You got it right\n",
      "The correct answer was: False\n",
      "Your current score is: 6/11\n",
      "\n",
      "\n",
      "Q.12: A few ounces of chocolate can to kill a small dog. (True/False): True\n",
      "You got it right\n",
      "The correct answer was: True\n",
      "Your current score is: 7/12\n",
      "\n",
      "\n",
      "You've completed the quiz\n",
      "Your final score was: 7/12\n"
     ]
    }
   ],
   "source": [
    "# main.py에 작업 \n",
    "question_bank = []  # question_bank 라는 비어 있는 리스트 선언 \n",
    "for question in question_data:\n",
    "    question_text = question[\"text\"]      # 딕셔니리 타입의 질문 부분 저장 \n",
    "    question_answer = question[\"answer\"]  # 딕셔니리 타입의 답변 부분 저장 \n",
    "    new_question = Question(question_text, question_answer)  # Question 클래스 객체 생성 및 파라미터 설정 \n",
    "    question_bank.append(new_question)    # question_bank 리스트에 저장 \n",
    "\n",
    "quiz = QuizBrain(question_bank)\n",
    "\n",
    "while quiz.still_has_question():\n",
    "    quiz.next_question()\n",
    "\n",
    "print(\"You've completed the quiz\")\n",
    "print(f\"Your final score was: {quiz.score}/{quiz.question_number}\")"
   ]
  },
  {
   "cell_type": "markdown",
   "id": "07ac9739",
   "metadata": {},
   "source": [
    "#### 6. 새로운 질문을 위해 Open Trivia DB 활용하기 \n",
    "- url: https://opentdb.com/"
   ]
  },
  {
   "attachments": {},
   "cell_type": "markdown",
   "id": "a1adce1e",
   "metadata": {},
   "source": [
    "1. 사이트 접속 후 API 탭으로 이동 \n",
    "2. 문제 개수, 카테고리, 난이도, 정답 타입 등을 지정한 후 API URL 생성 버튼을 누른다. \n",
    "3. 생성된 url을 복사 브라우저에 확인 후 확인된 JSON 형식의 데이터를 복사 한다. 그리고 data.py 파일에 넣는다.\n",
    "4. 정리된 JSON 형식중 response key와 result key를 지우고 데이터를 list 형식으로 만든다."
   ]
  },
  {
   "cell_type": "code",
   "execution_count": 2,
   "id": "ade999cf",
   "metadata": {},
   "outputs": [],
   "source": [
    "# 1. 퀴즈 모델 Class 만들기 - 추후 question_model.py에 들어갈 것 \n",
    "class Question:\n",
    "    def __init__(self, q_text, q_answer):\n",
    "        self.text = q_text\n",
    "        self.answer = q_answer"
   ]
  },
  {
   "cell_type": "code",
   "execution_count": 3,
   "id": "ac2cff88",
   "metadata": {},
   "outputs": [],
   "source": [
    "# 2. 추후 quiz_brain.py에 작업 \n",
    "class QuizBrain:\n",
    "    def __init__(self, q_list):\n",
    "        self.question_number = 0\n",
    "        self.score = 0\n",
    "        self.question_list = q_list\n",
    "    \n",
    "    # 메소드 만들기 - still_has_question\n",
    "    def still_has_question(self):\n",
    "        return self.question_number < len(self.question_list)\n",
    "        # 위의 return은 아래의 구조를 따름 \n",
    "#        if self.question_number < len(self.question_list):\n",
    "#            return True\n",
    "#        else:\n",
    "#            return False\n",
    "    \n",
    "    # 메소드 만들기 - next_question\n",
    "    def next_question(self):\n",
    "        current_question = self.question_list[self.question_number]                  # 현재 질문 -> question_list[number]\n",
    "        self.question_number += 1                                                    # 질문 늘리기 \n",
    "        user_answer = input(f\"Q.{self.question_number}: {current_question.text} (True/False): \")   # 질문 선언 \n",
    "        self.check_answer(user_answer, current_question.answer)\n",
    "        \n",
    "    # 메소드 만들기 - check_answer\n",
    "    def check_answer(self, user_answer, correct_answer):\n",
    "        if user_answer.lower() == correct_answer.lower():\n",
    "            self.score += 1\n",
    "            print(\"You got it right\")\n",
    "            \n",
    "        else:\n",
    "            print(\"Thar's wrong!\")\n",
    "            \n",
    "        print(f\"The correct answer was: {correct_answer}\")\n",
    "        print(f\"Your current score is: {self.score}/{self.question_number}\")\n",
    "        print(\"\\n\")"
   ]
  },
  {
   "cell_type": "code",
   "execution_count": 5,
   "id": "9e4f5964",
   "metadata": {},
   "outputs": [
    {
     "name": "stdout",
     "output_type": "stream",
     "text": [
      "Q.1: Linus Torvalds created Linux and Git. (True/False): True\n",
      "You got it right\n",
      "The correct answer was: True\n",
      "Your current score is: 1/1\n",
      "\n",
      "\n",
      "Q.2: The programming language &quot;Python&quot; is based off a modified version of &quot;JavaScript&quot;. (True/False): False\n",
      "You got it right\n",
      "The correct answer was: False\n",
      "Your current score is: 2/2\n",
      "\n",
      "\n",
      "Q.3: The logo for Snapchat is a Bell. (True/False): False\n",
      "You got it right\n",
      "The correct answer was: False\n",
      "Your current score is: 3/3\n",
      "\n",
      "\n",
      "Q.4: Pointers were not used in the original C programming language; they were added later on in C++. (True/False): True\n",
      "Thar's wrong!\n",
      "The correct answer was: False\n",
      "Your current score is: 3/4\n",
      "\n",
      "\n",
      "Q.5: RAM stands for Random Access Memory. (True/False): True\n",
      "You got it right\n",
      "The correct answer was: True\n",
      "Your current score is: 4/5\n",
      "\n",
      "\n",
      "Q.6: Ada Lovelace is often considered the first computer programmer. (True/False): False\n",
      "Thar's wrong!\n",
      "The correct answer was: True\n",
      "Your current score is: 4/6\n",
      "\n",
      "\n",
      "Q.7: &quot;HTML&quot; stands for Hypertext Markup Language. (True/False): True\n",
      "You got it right\n",
      "The correct answer was: True\n",
      "Your current score is: 5/7\n",
      "\n",
      "\n",
      "Q.8: Time on Computers is measured via the EPOX System. (True/False): False\n",
      "You got it right\n",
      "The correct answer was: False\n",
      "Your current score is: 6/8\n",
      "\n",
      "\n",
      "Q.9: Linux was first created as an alternative to Windows XP. (True/False): False\n",
      "You got it right\n",
      "The correct answer was: False\n",
      "Your current score is: 7/9\n",
      "\n",
      "\n",
      "Q.10: The Python programming language gets its name from the British comedy group &quot;Monty Python.&quot; (True/False): False\n",
      "Thar's wrong!\n",
      "The correct answer was: True\n",
      "Your current score is: 7/10\n",
      "\n",
      "\n",
      "You've completed the quiz\n",
      "Your final score was: 7/10\n"
     ]
    }
   ],
   "source": [
    "# 3. main.py에 작업  \n",
    "\n",
    "from quize_game_start import data  # data 불러오기, 추후 main.py에서 작업  \n",
    "\n",
    "# 데이터 출력 \n",
    "question_data = data.question_data\n",
    "\n",
    "# main.py에 작업 \n",
    "question_bank = []  # question_bank 라는 비어 있는 리스트 선언 \n",
    "for question in question_data:\n",
    "    question_text = question[\"question\"]      # 딕셔니리 타입의 질문 부분 저장 \n",
    "    question_answer = question[\"correct_answer\"]  # 딕셔니리 타입의 답변 부분 저장 \n",
    "    new_question = Question(question_text, question_answer)  # Question 클래스 객체 생성 및 파라미터 설정 \n",
    "    question_bank.append(new_question)    # question_bank 리스트에 저장 \n",
    "\n",
    "quiz = QuizBrain(question_bank)\n",
    "\n",
    "while quiz.still_has_question():\n",
    "    quiz.next_question()\n",
    "\n",
    "print(\"You've completed the quiz\")\n",
    "print(f\"Your final score was: {quiz.score}/{quiz.question_number}\")"
   ]
  },
  {
   "cell_type": "code",
   "execution_count": null,
   "id": "01a3f8fc",
   "metadata": {},
   "outputs": [],
   "source": []
  }
 ],
 "metadata": {
  "kernelspec": {
   "display_name": "Python 3 (ipykernel)",
   "language": "python",
   "name": "python3"
  },
  "language_info": {
   "codemirror_mode": {
    "name": "ipython",
    "version": 3
   },
   "file_extension": ".py",
   "mimetype": "text/x-python",
   "name": "python",
   "nbconvert_exporter": "python",
   "pygments_lexer": "ipython3",
   "version": "3.8.12"
  }
 },
 "nbformat": 4,
 "nbformat_minor": 5
}
