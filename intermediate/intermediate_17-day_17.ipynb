{
 "cells": [
  {
   "cell_type": "markdown",
   "id": "c301e097",
   "metadata": {},
   "source": [
    "### Class를 만드는 법 \n",
    "- class는 궁극적으로 객체를 만들기 위한 청사진이다.\n",
    "- class를 만드는 방법은 아래와 같다."
   ]
  },
  {
   "cell_type": "code",
   "execution_count": 2,
   "id": "759e9c0a",
   "metadata": {},
   "outputs": [],
   "source": [
    "# class를 만드는 방법 \n",
    "class User:\n",
    "    pass"
   ]
  },
  {
   "cell_type": "code",
   "execution_count": 3,
   "id": "ba7129c7",
   "metadata": {},
   "outputs": [],
   "source": [
    "# class를 만들고 객체 생성 \n",
    "user_1 = User()"
   ]
  },
  {
   "cell_type": "markdown",
   "id": "34c2f28b",
   "metadata": {},
   "source": [
    "- 클래스 명은 모든 단어의 첫 글자가 대문자여야 한다. (파스칼 케이스)"
   ]
  },
  {
   "cell_type": "markdown",
   "id": "dd1152d2",
   "metadata": {},
   "source": [
    "- Class의 속성은 어떻게 만들까? \n",
    "- 가장 쉬운 방법은 객체로 들어가서 속성을 추가하는 것이다.\n",
    "- 아래처럼"
   ]
  },
  {
   "cell_type": "code",
   "execution_count": 4,
   "id": "7a53875b",
   "metadata": {},
   "outputs": [
    {
     "name": "stdout",
     "output_type": "stream",
     "text": [
      "kisung\n"
     ]
    }
   ],
   "source": [
    "# 객체로 들어가 속성 추가\n",
    "user_1 = User()\n",
    "user_1.id = \"001\"\n",
    "user_1.username = \"kisung\"\n",
    "\n",
    "# 추가한 속성 출력하기 - 추가한 속성이 이미 객체에 존재 함. (속성은 객체와 관련된 변수임을 기억하자!)\n",
    "print(user_1.username)"
   ]
  },
  {
   "cell_type": "markdown",
   "id": "430b7724",
   "metadata": {},
   "source": [
    "- 위와 같은 방식을 하면, 따로 객체의 속성을 따로 지정해줘야할 뿐만아니라 생산성 적으로 비효울 적임 \n",
    "- 그래서 생성자라는 것을 추가해준다. \n",
    "- 생성자(Constructor)란? 청사진의 일부로, 객체가 생성될 때 무슨 일이 일어나야 하는지 명시할 수 있게해주는 역할을 한다.\n",
    "- 이것은 프로그래밍에서 객체 초기화로도 알려져있다. (init함수 사용)"
   ]
  },
  {
   "cell_type": "code",
   "execution_count": null,
   "id": "9453084a",
   "metadata": {},
   "outputs": [],
   "source": [
    "# 예제 \n",
    "class Car:\n",
    "    def __init__(self):\n",
    "        # initialise attributes"
   ]
  },
  {
   "cell_type": "markdown",
   "id": "50da1ab4",
   "metadata": {},
   "source": [
    "- 여기서 init 함수가 특별한 함수인 이유는 키워드가 def 뿐만 아니라 함수의 이름 때문이다. \n",
    "- 이름 양옆으로 밑줄이 두 개이다. \n",
    "- 이것은 파이썬 인터프리터(해석기)가 이것이 특별한 기능을 가진 메소드라는 것을 안다는 의미이다. 여기서 특별한 기능이란 속성을 초기화 하는데 사용하는 것을 말한다. "
   ]
  },
  {
   "cell_type": "code",
   "execution_count": 5,
   "id": "496db1ad",
   "metadata": {},
   "outputs": [],
   "source": [
    "# 위의 예제 다시 사용 \n",
    "class User:\n",
    "    def __init__(self):\n",
    "        print(\"new user being created...\")"
   ]
  },
  {
   "cell_type": "markdown",
   "id": "b2954a07",
   "metadata": {},
   "source": [
    "- 여기서 기억해야할 중요한 사실은 이 클래스에서 새로운 객체를 만들 때마다 init 함수가 호출된다는 것이다. "
   ]
  },
  {
   "cell_type": "code",
   "execution_count": 6,
   "id": "8fa9209c",
   "metadata": {},
   "outputs": [
    {
     "name": "stdout",
     "output_type": "stream",
     "text": [
      "new user being created...\n"
     ]
    }
   ],
   "source": [
    "# 생성자가 실행될 때마다 위 클래스에서 지정환 프린트 문이 출력된다.\n",
    "user_1 = User()"
   ]
  },
  {
   "cell_type": "markdown",
   "id": "6366394d",
   "metadata": {},
   "source": [
    "- 속성은 객체가 가지는 것들이다. 기본적으로 최종 객체와 관련된 변수들이다. \n",
    "- 그렇다면 생성자에서 해당 속성들을 어떻게 정할까? "
   ]
  },
  {
   "cell_type": "code",
   "execution_count": null,
   "id": "0346922b",
   "metadata": {},
   "outputs": [],
   "source": [
    "class Car:\n",
    "    def __init__(self, seats):\n",
    "        # initialise attributes\n",
    "        self.seats = seats"
   ]
  },
  {
   "cell_type": "markdown",
   "id": "9efaa135",
   "metadata": {},
   "source": [
    "- init 함수가 있고 init 함수 안에 self라고 불리는 것들이 있는데, 만들어지고 있는 또는 초기화되고 있는 실제 객체이다. \n",
    "- 그리고 원하는 만큼 많은 매개변수를 추가할 수 있다. \n",
    "- 이 매개변수들은 클래스로 부터 객체가 생성될 때, 전달된다."
   ]
  },
  {
   "cell_type": "code",
   "execution_count": null,
   "id": "de70f6b6",
   "metadata": {},
   "outputs": [],
   "source": [
    "# 실제로 생성자를 호출할 때 코드 \n",
    "my_car = Car(5)  # my_car.seats = 5 라고 입력하는 것과 같음"
   ]
  },
  {
   "cell_type": "code",
   "execution_count": 7,
   "id": "feb9116f",
   "metadata": {},
   "outputs": [],
   "source": [
    "# 위의 예제 다시 사용 \n",
    "class User:\n",
    "    def __init__(self, user_id):\n",
    "        self.id = user_id"
   ]
  },
  {
   "cell_type": "code",
   "execution_count": 8,
   "id": "6c2b82a8",
   "metadata": {},
   "outputs": [],
   "source": [
    "user_1 = User(\"001\")"
   ]
  },
  {
   "cell_type": "code",
   "execution_count": 11,
   "id": "5db3b542",
   "metadata": {},
   "outputs": [],
   "source": [
    "# 위의 예제 다시 사용 - 또다른 속성 추가 \n",
    "class User:\n",
    "    def __init__(self, user_id, username):\n",
    "        self.id = user_id\n",
    "        self.username = username"
   ]
  },
  {
   "cell_type": "code",
   "execution_count": 14,
   "id": "0d23744d",
   "metadata": {},
   "outputs": [
    {
     "name": "stdout",
     "output_type": "stream",
     "text": [
      "001\n",
      "kisung\n"
     ]
    }
   ],
   "source": [
    "user_1 = User(\"001\", \"kisung\")\n",
    "print(user_1.id)\n",
    "print(user_1.username)"
   ]
  },
  {
   "cell_type": "code",
   "execution_count": 15,
   "id": "aff13a14",
   "metadata": {},
   "outputs": [
    {
     "name": "stdout",
     "output_type": "stream",
     "text": [
      "002\n",
      "sumin\n"
     ]
    }
   ],
   "source": [
    "user_2 = User(\"002\", \"sumin\")\n",
    "print(user_2.id)\n",
    "print(user_2.username)"
   ]
  },
  {
   "cell_type": "code",
   "execution_count": null,
   "id": "d7f1272b",
   "metadata": {},
   "outputs": [],
   "source": [
    "class User:\n",
    "    def __init__(self, user_id, username, followers):\n",
    "        self.id = user_id\n",
    "        self.username = username\n",
    "        self.followers = 0\n",
    "    \n",
    "user_1 = User(\"001\", \"kisung\", 0)\n",
    "user_2 = User(\"002\", \"sumin\", 0)"
   ]
  },
  {
   "cell_type": "markdown",
   "id": "b9c7dd1e",
   "metadata": {},
   "source": [
    "- 만약 새로운 객체를 생성할 때 마다 위에 보이는 followers 값을 제공해야 한다는 것은 타당하지 않다. \n",
    "- 이 클래스에서 새로운 객체를 만들 때마다 항상 0을 써야한다는 것은 낭비처럼 느껴진다. \n"
   ]
  },
  {
   "cell_type": "code",
   "execution_count": 16,
   "id": "87fb0e19",
   "metadata": {},
   "outputs": [],
   "source": [
    "class User:\n",
    "    def __init__(self, user_id, username):\n",
    "        self.id = user_id\n",
    "        self.username = username\n",
    "        self.followers = 0\n",
    "    \n",
    "user_1 = User(\"001\", \"kisung\")\n",
    "user_2 = User(\"002\", \"sumin\")"
   ]
  },
  {
   "cell_type": "code",
   "execution_count": 17,
   "id": "ef80d903",
   "metadata": {},
   "outputs": [
    {
     "name": "stdout",
     "output_type": "stream",
     "text": [
      "0\n"
     ]
    }
   ],
   "source": [
    "print(user_1.followers)"
   ]
  },
  {
   "cell_type": "markdown",
   "id": "0fbd256a",
   "metadata": {},
   "source": [
    "- 파이썬에는 0을 지정한 것 처럼 기본값을 제공할 수도 있다. \n",
    "- 클래스가 초기화될 때 전달되는 매개변수 중 하나로 값을 설정하는 대신 0이라고 그냥 기본값으로 설정한다. "
   ]
  },
  {
   "cell_type": "code",
   "execution_count": null,
   "id": "3f8052dd",
   "metadata": {},
   "outputs": [],
   "source": []
  }
 ],
 "metadata": {
  "kernelspec": {
   "display_name": "Python 3 (ipykernel)",
   "language": "python",
   "name": "python3"
  },
  "language_info": {
   "codemirror_mode": {
    "name": "ipython",
    "version": 3
   },
   "file_extension": ".py",
   "mimetype": "text/x-python",
   "name": "python",
   "nbconvert_exporter": "python",
   "pygments_lexer": "ipython3",
   "version": "3.8.12"
  }
 },
 "nbformat": 4,
 "nbformat_minor": 5
}
