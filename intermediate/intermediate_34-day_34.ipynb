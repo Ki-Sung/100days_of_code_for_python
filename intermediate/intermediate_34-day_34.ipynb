{
 "cells": [
  {
   "cell_type": "markdown",
   "id": "396b63c5",
   "metadata": {},
   "source": [
    "## The Trivia API and The Quizzler App\n",
    "- [Trivia](https://opentdb.com/) API를 이용해서 지난시간 복습하기\n",
    "- 해당 API를 통해서 Quizzler 앱 구축하기 "
   ]
  },
  {
   "cell_type": "markdown",
   "id": "cfa410e4",
   "metadata": {},
   "source": [
    "### 1. Trivia Question API\n",
    "- Quizzler app을 만들기 위해 이전에 작업 했던 quiz quiz를 참조 \n",
    "- 이번에는 Trivia API를 참조해서 데이터 불러오기 "
   ]
  },
  {
   "cell_type": "code",
   "execution_count": null,
   "id": "4d6145c4",
   "metadata": {},
   "outputs": [],
   "source": [
    "# quize_module/data.py\n",
    "# Trivia Database API를 이용해서 데이터 불러오기 \n",
    "\n",
    "# 모듈 불러오기 \n",
    "import requests\n",
    "\n",
    "# 파라미터 설정 \n",
    "prameters = {\n",
    "    \"amount\": 20,\n",
    "    \"type\": \"boolean\"\n",
    "}\n",
    "\n",
    "response = requests.get(\"https://opentdb.com/api.php\", params=prameters)   # 앤드포인트로 요청 받기 \n",
    "response.raise_for_status()                                                # 응답코드 - 200이 아니면 예외를 발생 시킴 \n",
    "\n",
    "question_data = response.json()[\"results\"]                                  # Trivia API에서 가져온 데이터 저장"
   ]
  },
  {
   "cell_type": "markdown",
   "id": "41dd7f8c",
   "metadata": {},
   "source": [
    "### 2. HTML 개체 언이스케이핑 \n",
    "- Trivai API를 통해 데이터는 제대로 받았지만, 텍스트 안에 아래와 같은 형식의 문자가 같이 따라온다. \n",
    "    - \"In **&** **quot;**Mario Kart 64**&** **quot;**, Waluigi is ...\"\n",
    "- 우리가 보고있는 것은 문자열이 아닌 HTML 개체이기 때문에 위와 같은 이상한 형식의 문자가 같이 따라온다. \n",
    "- [HTML Entities Docs](https://www.w3schools.com/html/html_entities.asp)를 보면 \"몇 가지 유용한 HTML 문자 개체\"란을 보면 위에 나타낸  **&** **quot;**가 '\"'를 의미하는 것을 알수 있다.\n",
    "- 그럼 이 HTML 개체를 어떻게 문자 결과로 나타낼까? 바로 html 모듈을 임포트하고, 해당 모듈에 있는 메소드인 \"unescape\"를 사용해서 우리가 받은 텍스트를 언이스케이핑 해야한다."
   ]
  },
  {
   "cell_type": "code",
   "execution_count": null,
   "id": "85e267a1",
   "metadata": {},
   "outputs": [],
   "source": [
    "# html 개체 언이스케이핑 방법 \n",
    "import html \n",
    "\n",
    "html.unescape(\"unescape html entities text\")"
   ]
  },
  {
   "cell_type": "code",
   "execution_count": null,
   "id": "b87e9a8f",
   "metadata": {},
   "outputs": [],
   "source": [
    "# quize question text html 개체 언이스케이핑 하기 \n",
    "# quiz_module/quiz_brain.py \n",
    "\n",
    "# QuizeBrain -> 퀴즈의 모든 질문과 퀴즈의 기능을 위한 Class \n",
    "# 기능 1: 사용자에게 다음 질문을 제시 \n",
    "# 기능 2: 퀴즈의 정답을 맞췄는지 여부 확인 \n",
    "# 기능 3: 퀴즈의 마지막 문제까지 도달했는지 여부 확인 \n",
    "\n",
    "# 필요 속성: quetion_number - 퀴즈 문제 순서 / question_list - 질문 리스트  / score - 문제 점수\n",
    "# 필요한 메소드 1: next_question() - 현재 퀴즈 질문 호출 및 입력할 정답 호출 기능\n",
    "# 필요한 메소드 2: still_has_questions() - 뒤에 퀴즈가 남았는지 여부를 확인하는 기능\n",
    "# 필요한 메소드 3: check_score() - 퀴즈 점수 체크를 위한 기능 \n",
    "import html                                             # html 모듈 불러오기 \n",
    "\n",
    "class QuizBrain:                                        # QuizBrain 이라는 클래스 생성 \n",
    "    # 초기화 메소드 \n",
    "    def __init__(self, q_list):                         # question_number, score(기본값이 0이기 때문에 여기서 생략), question_list, 두 속성을 초기화 하는 init 메소드 (입력 값 입력)\n",
    "        self.question_number = 0                        # 속성 설정 1. 문제 번호를 위한 \"question_number\"\n",
    "        self.score = 0                                  # 속성 설정 2. 점수를 메기기 위한 \"score\" \n",
    "        self.question_list = q_list                     # 속성 설정 3. quiz 데이터를 뽑기 위한 \"question_list\"\n",
    "        self.current_question = None                    # 속성 설정 4. currenct_question = None 설정\n",
    "\n",
    "    # still_has_questions() - 뒤에 퀴즈가 남았는지 여부를 확인하는 기능\n",
    "    def still_has_questions(self):                               \n",
    "        return self.question_number < len(self.question_list)    # 아래의 구조를 하나로 작성 \n",
    "        # if self.question_number < len(self.question_list):                     # 리스트에 있는 질문의 개수만큼 반복 실행되길 원함 - question_number가 question_list의 길이 보다 적다면,\n",
    "        #     return True                                                        # True를 반환 \n",
    "        # else:                                                                  # question_number가 question_list의 길이 보다 크다면,\n",
    "        #     return False                                                       # False를 반환 \n",
    "    \n",
    "    # next_question 메소드 - question_list에서 현재 질문 번호의 항목을 가져오고, input 함수를 이용해서 입력한 정답을 호출하는 기능\n",
    "    def next_question(self):\n",
    "        self.current_question = self.question_list[self.question_number]            # 현재 퀴즈 질문 - question_list[question_number]\n",
    "        self.question_number += 1                                                   # 문제 번호 더하기 - 해당 설정을 하지 않으면, Q.0으로 넘버링이 됨 \n",
    "        q_text = html.unescape(self.current_question.text)                          # question text 선언 후 html 언이스케이프\n",
    "        user_answer = input(f\"Q.{self.question_number}: {q_text} (True/False): \")   # 입력할 정답 호출 \n",
    "        self.check_answer(user_answer)                                              # 입력할 정답의 값들을 check_answer로 전달 \n",
    "\n",
    "    # check_answer 메소드 - 유저가 입력한 값과 정답을 비교하여 점수를 체크하는 기능 \n",
    "    def check_answer(self, user_answer):\n",
    "        correct_answer = self.current_question.answer          \n",
    "        if user_answer.lower() == correct_answer.lower():          # 만약 유저가 입력한 정답과, 문제 정답이 같으면\n",
    "            self.score += 1                                        # 점수 1씩 증가 \n",
    "            print(\"You got it right!\")                             # 결과 출력 \n",
    "        else:                                                      # 만약 다르다면\n",
    "            print(\"That's wrong.\")                                 # 결과 출력 \n",
    "\n",
    "        print(f\"The correct answer was: {correct_answer}\")                     # 문제의 정답 출력 \n",
    "        print(f\"Your current score is: {self.score}/{self.question_number}\")   # 점수 출력 \n",
    "        print(\"\\n\")                                                            # 다음 문제를 위해 줄 바꾸기 "
   ]
  }
 ],
 "metadata": {
  "kernelspec": {
   "display_name": "Python 3 (ipykernel)",
   "language": "python",
   "name": "python3"
  },
  "language_info": {
   "codemirror_mode": {
    "name": "ipython",
    "version": 3
   },
   "file_extension": ".py",
   "mimetype": "text/x-python",
   "name": "python",
   "nbconvert_exporter": "python",
   "pygments_lexer": "ipython3",
   "version": "3.8.12"
  }
 },
 "nbformat": 4,
 "nbformat_minor": 5
}
