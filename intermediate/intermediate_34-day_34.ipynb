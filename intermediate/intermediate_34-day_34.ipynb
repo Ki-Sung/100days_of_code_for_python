{
 "cells": [
  {
   "cell_type": "markdown",
   "id": "396b63c5",
   "metadata": {},
   "source": [
    "## The Trivia API and The Quizzler App\n",
    "- [Trivia](https://opentdb.com/) API를 이용해서 지난시간 복습하기\n",
    "- 해당 API를 통해서 Quizzler 앱 구축하기 "
   ]
  },
  {
   "cell_type": "markdown",
   "id": "cfa410e4",
   "metadata": {},
   "source": [
    "### 1. Trivia Question API\n",
    "- Quizzler app을 만들기 위해 이전에 작업 했던 quiz quiz를 참조 \n",
    "- 이번에는 Trivia API를 참조해서 데이터 불러오기 "
   ]
  },
  {
   "cell_type": "code",
   "execution_count": null,
   "id": "4d6145c4",
   "metadata": {},
   "outputs": [],
   "source": [
    "# quize_module/data.py\n",
    "# Trivia Database API를 이용해서 데이터 불러오기 \n",
    "\n",
    "# 모듈 불러오기 \n",
    "import requests\n",
    "\n",
    "# 파라미터 설정 \n",
    "prameters = {\n",
    "    \"amount\": 20,\n",
    "    \"type\": \"boolean\"\n",
    "}\n",
    "\n",
    "response = requests.get(\"https://opentdb.com/api.php\", params=prameters)   # 앤드포인트로 요청 받기 \n",
    "response.raise_for_status()                                                # 응답코드 - 200이 아니면 예외를 발생 시킴 \n",
    "\n",
    "question_data = response.json()[\"results\"]                                  # Trivia API에서 가져온 데이터 저장"
   ]
  },
  {
   "cell_type": "markdown",
   "id": "41dd7f8c",
   "metadata": {},
   "source": [
    "### 2. HTML 개체 언이스케이핑 \n",
    "- Trivai API를 통해 데이터는 제대로 받았지만, 텍스트 안에 아래와 같은 형식의 문자가 같이 따라온다. \n",
    "    - \"In **&** **quot;**Mario Kart 64**&** **quot;**, Waluigi is ...\"\n",
    "- 우리가 보고있는 것은 문자열이 아닌 HTML 개체이기 때문에 위와 같은 이상한 형식의 문자가 같이 따라온다. \n",
    "- [HTML Entities Docs](https://www.w3schools.com/html/html_entities.asp)를 보면 \"몇 가지 유용한 HTML 문자 개체\"란을 보면 위에 나타낸  **&** **quot;**가 '\"'를 의미하는 것을 알수 있다.\n",
    "- 그럼 이 HTML 개체를 어떻게 문자 결과로 나타낼까? 바로 html 모듈을 임포트하고, 해당 모듈에 있는 메소드인 \"unescape\"를 사용해서 우리가 받은 텍스트를 언이스케이핑 해야한다."
   ]
  },
  {
   "cell_type": "code",
   "execution_count": null,
   "id": "85e267a1",
   "metadata": {},
   "outputs": [],
   "source": [
    "# html 개체 언이스케이핑 방법 \n",
    "import html \n",
    "\n",
    "html.unescape(\"unescape html entities text\")"
   ]
  },
  {
   "cell_type": "code",
   "execution_count": null,
   "id": "b87e9a8f",
   "metadata": {},
   "outputs": [],
   "source": [
    "# quize question text html 개체 언이스케이핑 하기 \n",
    "# quiz_module/quiz_brain.py \n",
    "\n",
    "# QuizeBrain -> 퀴즈의 모든 질문과 퀴즈의 기능을 위한 Class \n",
    "# 기능 1: 사용자에게 다음 질문을 제시 \n",
    "# 기능 2: 퀴즈의 정답을 맞췄는지 여부 확인 \n",
    "# 기능 3: 퀴즈의 마지막 문제까지 도달했는지 여부 확인 \n",
    "\n",
    "# 필요 속성: quetion_number - 퀴즈 문제 순서 / question_list - 질문 리스트  / score - 문제 점수\n",
    "# 필요한 메소드 1: next_question() - 현재 퀴즈 질문 호출 및 입력할 정답 호출 기능\n",
    "# 필요한 메소드 2: still_has_questions() - 뒤에 퀴즈가 남았는지 여부를 확인하는 기능\n",
    "# 필요한 메소드 3: check_score() - 퀴즈 점수 체크를 위한 기능 \n",
    "import html                                             # html 모듈 불러오기 \n",
    "\n",
    "class QuizBrain:                                        # QuizBrain 이라는 클래스 생성 \n",
    "    # 초기화 메소드 \n",
    "    def __init__(self, q_list):                         # question_number, score(기본값이 0이기 때문에 여기서 생략), question_list, 두 속성을 초기화 하는 init 메소드 (입력 값 입력)\n",
    "        self.question_number = 0                        # 속성 설정 1. 문제 번호를 위한 \"question_number\"\n",
    "        self.score = 0                                  # 속성 설정 2. 점수를 메기기 위한 \"score\" \n",
    "        self.question_list = q_list                     # 속성 설정 3. quiz 데이터를 뽑기 위한 \"question_list\"\n",
    "        self.current_question = None                    # 속성 설정 4. currenct_question = None 설정\n",
    "\n",
    "    # still_has_questions() - 뒤에 퀴즈가 남았는지 여부를 확인하는 기능\n",
    "    def still_has_questions(self):                               \n",
    "        return self.question_number < len(self.question_list)    # 아래의 구조를 하나로 작성 \n",
    "        # if self.question_number < len(self.question_list):                     # 리스트에 있는 질문의 개수만큼 반복 실행되길 원함 - question_number가 question_list의 길이 보다 적다면,\n",
    "        #     return True                                                        # True를 반환 \n",
    "        # else:                                                                  # question_number가 question_list의 길이 보다 크다면,\n",
    "        #     return False                                                       # False를 반환 \n",
    "    \n",
    "    # next_question 메소드 - question_list에서 현재 질문 번호의 항목을 가져오고, input 함수를 이용해서 입력한 정답을 호출하는 기능\n",
    "    def next_question(self):\n",
    "        self.current_question = self.question_list[self.question_number]            # 현재 퀴즈 질문 - question_list[question_number]\n",
    "        self.question_number += 1                                                   # 문제 번호 더하기 - 해당 설정을 하지 않으면, Q.0으로 넘버링이 됨 \n",
    "        q_text = html.unescape(self.current_question.text)                          # question text 선언 후 html 언이스케이프\n",
    "        user_answer = input(f\"Q.{self.question_number}: {q_text} (True/False): \")   # 입력할 정답 호출 \n",
    "        self.check_answer(user_answer)                                              # 입력할 정답의 값들을 check_answer로 전달 \n",
    "\n",
    "    # check_answer 메소드 - 유저가 입력한 값과 정답을 비교하여 점수를 체크하는 기능 \n",
    "    def check_answer(self, user_answer):\n",
    "        correct_answer = self.current_question.answer          \n",
    "        if user_answer.lower() == correct_answer.lower():          # 만약 유저가 입력한 정답과, 문제 정답이 같으면\n",
    "            self.score += 1                                        # 점수 1씩 증가 \n",
    "            print(\"You got it right!\")                             # 결과 출력 \n",
    "        else:                                                      # 만약 다르다면\n",
    "            print(\"That's wrong.\")                                 # 결과 출력 \n",
    "\n",
    "        print(f\"The correct answer was: {correct_answer}\")                     # 문제의 정답 출력 \n",
    "        print(f\"Your current score is: {self.score}/{self.question_number}\")   # 점수 출력 \n",
    "        print(\"\\n\")                                                            # 다음 문제를 위해 줄 바꾸기 "
   ]
  },
  {
   "cell_type": "markdown",
   "id": "ac38a4ca",
   "metadata": {},
   "source": [
    "### 3. 클래스 기반 Tkinter UI"
   ]
  },
  {
   "cell_type": "code",
   "execution_count": null,
   "id": "47c0790e",
   "metadata": {},
   "outputs": [],
   "source": [
    "# quiz_module/ui.py\n",
    "\n",
    "# UI 설정을 위한 클래스 \n",
    "\n",
    "# 모듈 불러오기 \n",
    "from tkinter import *\n",
    "\n",
    "# 상수설정 - 테마 색상 \n",
    "THEME_COLOR = \"#375362\"\n",
    "\n",
    "# quiz UI를 위한 QuizInterface 클래스 선언 \n",
    "class QuizInterface:\n",
    "    \n",
    "    # 초기값 설정\n",
    "    def __init__(self):\n",
    "        self.window = Tk()                                                        # tkinter 객체 선언 \n",
    "        self.window.title(\"Quizzler\")                                             # tkinter title 지정\n",
    "        self.window.config(padx=20, pady=20, bg=THEME_COLOR)                      # pad(간격) 및 배경색 설정\n",
    "        \n",
    "        # Labels \n",
    "        self.score_label = Label(text=\"Score: 0\", fg=\"white\", bg=THEME_COLOR)     # Label 1 - 점수판 설정 \n",
    "        self.score_label.grid(row=0, column=1)                                    # grid로 명시 \n",
    "        \n",
    "        # Canvas\n",
    "        self.canvas = Canvas(width=300, height=250, bg=\"white\")                   # canvas 객체 선언 - 선언시 크기 및 배경 색상 설정 \n",
    "        self.question_text = self.canvas.create_text(                             # text판 선언 \n",
    "                                                    150,                          # x값 \n",
    "                                                    125,                          # y값 \n",
    "                                                    text=\"Some Question Text\",    # Text \n",
    "                                                    fill=THEME_COLOR,             # 배경색상 \n",
    "                                                    font=(\"Arial\", 20, \"italic\")  # 폰트 설정 \n",
    "                                                    )\n",
    "        self.canvas.grid(row=1, column=0, columnspan=2, pady=50)                  # grid로 명시 \n",
    "        \n",
    "        # buttons\n",
    "        ture_image = PhotoImage(file=\"./img/true.png\")                            # true 버튼에 사용할 이미지 불러오기 \n",
    "        self.true_button = Button(image=ture_image, highlightthickness=0)         # 버튼 설정 - 이미지 설정 및 테두리 제거 \n",
    "        self.true_button.grid(row=2, column=0)                                    # grid로 명시 \n",
    "        \n",
    "        false_image = PhotoImage(file=\"./img/false.png\")                          # false 버튼에 사용할 이미지 불러오기 \n",
    "        self.false_button = Button(image=false_image, highlightthickness=0)       # 버튼 설정 - 이미지 설정 및 테두리 제거 \n",
    "        self.false_button.grid(row=2, column=1)                                   # gird로 명시 \n",
    "        \n",
    "        # 닫기 버튼을 누르기 전까지 계속 구동\n",
    "        self.window.mainloop()"
   ]
  },
  {
   "cell_type": "code",
   "execution_count": null,
   "id": "2a3a2c6a",
   "metadata": {},
   "outputs": [],
   "source": [
    "# 18_quizzler_app.py(main.py)\n",
    "\n",
    "from quiz_module.question_model import Question\n",
    "from quiz_module.data import question_data\n",
    "from quiz_module.quiz_brain import QuizBrain\n",
    "from quiz_module.ui import QuizInterface\n",
    "\n",
    "question_bank = []\n",
    "for question in question_data:\n",
    "    question_text = question[\"question\"]\n",
    "    question_answer = question[\"correct_answer\"]\n",
    "    new_question = Question(question_text, question_answer)\n",
    "    question_bank.append(new_question)\n",
    "\n",
    "\n",
    "quiz = QuizBrain(question_bank)\n",
    "quiz_ui = QuizInterface()       # UI의 QuizInterface 클래스 불러오기\n",
    "\n",
    "# while quiz.still_has_questions():\n",
    "#     quiz.next_question()\n",
    "\n",
    "print(\"You've completed the quiz\")\n",
    "print(f\"Your final score was: {quiz.score}/{quiz.question_number}\")"
   ]
  },
  {
   "cell_type": "markdown",
   "id": "d3873844",
   "metadata": {},
   "source": [
    "### 4. 파이썬 타이핑 - 타입 힌트와 화살표"
   ]
  },
  {
   "cell_type": "markdown",
   "id": "0e0428a1",
   "metadata": {},
   "source": [
    "- 예를 들어 우리가 age라는 이름 변수를 생성하려 한다면, \"age=12\"라고 한다.\n",
    "- 하지만 데이터형을 선언하고 그대로 둘 수 있다. (아래의 예제처럼)"
   ]
  },
  {
   "cell_type": "code",
   "execution_count": 4,
   "id": "b5e1e6cf",
   "metadata": {},
   "outputs": [
    {
     "name": "stdout",
     "output_type": "stream",
     "text": [
      "12\n"
     ]
    }
   ],
   "source": [
    "age: int\n",
    "age = 12"
   ]
  },
  {
   "cell_type": "markdown",
   "id": "a060ff29",
   "metadata": {},
   "source": [
    "- 나중에 어떤 시점이 되어서 사용자로부터 age를 받거나 우리가 그것을 얻으면, 그 시점에서 age 변수를 설정할 수 있다는 의미이다. 그리고 이 age는 위에 있는 데이터형과 일치해야한다.\n",
    "- 추후 다른 데이터 타입으로 변수를 선언하게 되면, age가 정수타입이어야 한다 라고 알려준다."
   ]
  },
  {
   "cell_type": "code",
   "execution_count": null,
   "id": "d397363c",
   "metadata": {},
   "outputs": [],
   "source": [
    "# 데이터 타입 설정 예시 1\n",
    "age: int\n",
    "name: str \n",
    "height: float \n",
    "is_human: bool "
   ]
  },
  {
   "cell_type": "code",
   "execution_count": 5,
   "id": "31444c3d",
   "metadata": {},
   "outputs": [],
   "source": [
    "# 데이터 타입 설정 예시 2 - 함수 선언시 \n",
    "def police_check(age):\n",
    "    if age > 18:\n",
    "        car_drive = True\n",
    "    else:\n",
    "        car_drive = False \n",
    "    return car_drive"
   ]
  },
  {
   "cell_type": "code",
   "execution_count": 6,
   "id": "d167d201",
   "metadata": {},
   "outputs": [
    {
     "data": {
      "text/plain": [
       "True"
      ]
     },
     "execution_count": 6,
     "metadata": {},
     "output_type": "execute_result"
    }
   ],
   "source": [
    "# 함수 출력 결과 \n",
    "police_check(19)"
   ]
  },
  {
   "cell_type": "code",
   "execution_count": 7,
   "id": "d480ee08",
   "metadata": {},
   "outputs": [],
   "source": [
    "# 데이터 타입 설정 예시 2 - 함수 선언시 매개변수 데이터 타입 설정 \n",
    "def police_check(age:int):\n",
    "    if age > 18:\n",
    "        car_drive = True\n",
    "    else:\n",
    "        car_drive = False \n",
    "    return car_drive"
   ]
  },
  {
   "cell_type": "code",
   "execution_count": 10,
   "id": "873c15f4",
   "metadata": {},
   "outputs": [
    {
     "data": {
      "text/plain": [
       "True"
      ]
     },
     "execution_count": 10,
     "metadata": {},
     "output_type": "execute_result"
    }
   ],
   "source": [
    "# 함수 출력 결과 \n",
    "police_check(19)"
   ]
  },
  {
   "cell_type": "code",
   "execution_count": 9,
   "id": "311f8a54",
   "metadata": {},
   "outputs": [
    {
     "ename": "TypeError",
     "evalue": "'>' not supported between instances of 'str' and 'int'",
     "output_type": "error",
     "traceback": [
      "\u001b[0;31m---------------------------------------------------------------------------\u001b[0m",
      "\u001b[0;31mTypeError\u001b[0m                                 Traceback (most recent call last)",
      "Input \u001b[0;32mIn [9]\u001b[0m, in \u001b[0;36m<cell line: 1>\u001b[0;34m()\u001b[0m\n\u001b[0;32m----> 1\u001b[0m \u001b[43mpolice_check\u001b[49m\u001b[43m(\u001b[49m\u001b[38;5;124;43m\"\u001b[39;49m\u001b[38;5;124;43m19\u001b[39;49m\u001b[38;5;124;43m\"\u001b[39;49m\u001b[43m)\u001b[49m\n",
      "Input \u001b[0;32mIn [7]\u001b[0m, in \u001b[0;36mpolice_check\u001b[0;34m(age)\u001b[0m\n\u001b[1;32m      2\u001b[0m \u001b[38;5;28;01mdef\u001b[39;00m \u001b[38;5;21mpolice_check\u001b[39m(age:\u001b[38;5;28mint\u001b[39m):\n\u001b[0;32m----> 3\u001b[0m     \u001b[38;5;28;01mif\u001b[39;00m \u001b[43mage\u001b[49m\u001b[43m \u001b[49m\u001b[38;5;241;43m>\u001b[39;49m\u001b[43m \u001b[49m\u001b[38;5;241;43m18\u001b[39;49m:\n\u001b[1;32m      4\u001b[0m         car_drive \u001b[38;5;241m=\u001b[39m \u001b[38;5;28;01mTrue\u001b[39;00m\n\u001b[1;32m      5\u001b[0m     \u001b[38;5;28;01melse\u001b[39;00m:\n",
      "\u001b[0;31mTypeError\u001b[0m: '>' not supported between instances of 'str' and 'int'"
     ]
    }
   ],
   "source": [
    "# 매개 변수를 잘못 지정했을 때\n",
    "police_check(\"19\")"
   ]
  },
  {
   "cell_type": "markdown",
   "id": "89272c6b",
   "metadata": {},
   "source": [
    "- 이렇게 하는 이유는 우리가 코드 실행시 문제 및 버그를 사전에 차단할 수 있기 때문이다."
   ]
  },
  {
   "cell_type": "markdown",
   "id": "a804e0c3",
   "metadata": {},
   "source": [
    "- 추가적으로 함수 출력시 데이터형을 지정할 수 있다. 방법은 하이픈과 부등호로 화살표를 만들고, 출력하고자 하는 데이터 형을 지정하면 된다. 만약 return에 다른 데이터 타입을 반환하는 경우 힌트를 준다.\n",
    "- 이것을 타입 힌트라고 부른다. "
   ]
  },
  {
   "cell_type": "code",
   "execution_count": 11,
   "id": "0fe99aae",
   "metadata": {},
   "outputs": [],
   "source": [
    "# 데이터 타입 설정 예시 3 - 함수 출력시 데이터형 지정 -> bool으로 \n",
    "def police_check(age:int) -> bool:\n",
    "    if age > 18:\n",
    "        car_drive = True\n",
    "    else:\n",
    "        car_drive = False \n",
    "    return car_drive"
   ]
  },
  {
   "cell_type": "code",
   "execution_count": 12,
   "id": "ced1df7b",
   "metadata": {},
   "outputs": [
    {
     "data": {
      "text/plain": [
       "True"
      ]
     },
     "execution_count": 12,
     "metadata": {},
     "output_type": "execute_result"
    }
   ],
   "source": [
    "# 매개 변수를 잘못 지정했을 때\n",
    "police_check(19)"
   ]
  },
  {
   "cell_type": "code",
   "execution_count": 17,
   "id": "09d3a5be",
   "metadata": {},
   "outputs": [],
   "source": [
    "# 데이터 타입 설정 예시 4 - 타입 힌트 예제 \n",
    "def greeting(name: str) -> str:\n",
    "    return \"Hello \" + name"
   ]
  },
  {
   "cell_type": "code",
   "execution_count": 18,
   "id": "5a6be1a9",
   "metadata": {},
   "outputs": [
    {
     "data": {
      "text/plain": [
       "'Hello Gilbert'"
      ]
     },
     "execution_count": 18,
     "metadata": {},
     "output_type": "execute_result"
    }
   ],
   "source": [
    "greeting(\"Gilbert\")"
   ]
  },
  {
   "cell_type": "code",
   "execution_count": null,
   "id": "8ffce094",
   "metadata": {},
   "outputs": [],
   "source": []
  }
 ],
 "metadata": {
  "kernelspec": {
   "display_name": "Python 3 (ipykernel)",
   "language": "python",
   "name": "python3"
  },
  "language_info": {
   "codemirror_mode": {
    "name": "ipython",
    "version": 3
   },
   "file_extension": ".py",
   "mimetype": "text/x-python",
   "name": "python",
   "nbconvert_exporter": "python",
   "pygments_lexer": "ipython3",
   "version": "3.8.12"
  }
 },
 "nbformat": 4,
 "nbformat_minor": 5
}
