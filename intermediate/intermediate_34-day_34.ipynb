{
 "cells": [
  {
   "cell_type": "markdown",
   "id": "f3d0d84e",
   "metadata": {},
   "source": [
    "## The Trivia API and The Quizzler App\n",
    "- [Trivia](https://opentdb.com/) API를 이용해서 지난시간 복습하기\n",
    "- 해당 API를 통해서 Quizzler 앱 구축하기 "
   ]
  },
  {
   "cell_type": "markdown",
   "id": "fab049a2",
   "metadata": {},
   "source": [
    "### 1. Trivia Question API\n",
    "- Quizzler app을 만들기 위해 이전에 작업 했던 quiz quiz를 참조 \n",
    "- 이번에는 Trivia API를 참조해서 데이터 불러오기 "
   ]
  },
  {
   "cell_type": "code",
   "execution_count": null,
   "id": "62aa7edc",
   "metadata": {},
   "outputs": [],
   "source": [
    "# quize_module/data.py\n",
    "# Trivia Database API를 이용해서 데이터 불러오기 \n",
    "\n",
    "# 모듈 불러오기 \n",
    "import requests\n",
    "\n",
    "# 파라미터 설정 \n",
    "prameters = {\n",
    "    \"amount\": 20,\n",
    "    \"type\": \"boolean\"\n",
    "}\n",
    "\n",
    "response = requests.get(\"https://opentdb.com/api.php\", params=prameters)   # 앤드포인트로 요청 받기 \n",
    "response.raise_for_status()                                                # 응답코드 - 200이 아니면 예외를 발생 시킴 \n",
    "\n",
    "question_data = response.json()[\"results\"]                                  # Trivia API에서 가져온 데이터 저장\n"
   ]
  }
 ],
 "metadata": {
  "kernelspec": {
   "display_name": "Python 3 (ipykernel)",
   "language": "python",
   "name": "python3"
  },
  "language_info": {
   "codemirror_mode": {
    "name": "ipython",
    "version": 3
   },
   "file_extension": ".py",
   "mimetype": "text/x-python",
   "name": "python",
   "nbconvert_exporter": "python",
   "pygments_lexer": "ipython3",
   "version": "3.8.12"
  }
 },
 "nbformat": 4,
 "nbformat_minor": 5
}
