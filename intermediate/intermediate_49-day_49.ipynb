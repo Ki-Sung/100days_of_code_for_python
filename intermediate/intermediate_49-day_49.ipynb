{
 "cells": [
  {
   "cell_type": "markdown",
   "id": "0241a29f",
   "metadata": {},
   "source": [
    "## 채용 공고 자동 지원하기 \n",
    "- 링크드인에 있는 채용 공고란에 있는 채용 공고란에 가서 자동으로 지원해보기"
   ]
  },
  {
   "cell_type": "markdown",
   "id": "3e0ca8f5",
   "metadata": {},
   "source": [
    "### 1단계  - 링크드인 계정 만들기 \n",
    "- 프로젝트 목표\n",
    "    - 오늘 프로젝트의 목표는 셀레니움을 사용하여 자동으로 입사 지원하는 방법을 배우는 것이다. 하루 동안 배우고 나면, 링크드인의 ‘간편 지원’ 기능을 사용하여 조건에 부합하는 (단 한 개가 아닌) 모든 공고에 지원서를 내는 프로그램을 완성할 수 있다. \n",
    "    - 혹시 링크드인에서 입사 지원서를 내고 싶지 않다면, 조건에 부합하는 공고를 모두 ‘저장’하고 공고를 게시한 회사를 팔로우하는 것으로 대체할 수 있다. \n",
    "\n",
    "- 링크드인 가입과 프로필 설정\n",
    "    - 링크드인을 사용하여 자동으로 입사 지원을 할 것이므로, 시작 전에 해당 웹사이트에서 계정과 프로필을 설정해야 한다.\n",
    "\n",
    "1. 링크드인 에 가입하고, 나중에 쓸 일을 대비해 이메일과 비밀번호를 어딘가에 저장해 두기\n",
    "    - 주의: 셀레니움을 사용할 때는 2단계 인증/전화번호 인증을 사용하지 마시오. 본 프로젝트에 주 계정을 사용하고 싶지 않으면, 부 계정을 새로 만들어도 됨\n",
    "2. 지원서를 확인하는 회사들은 본인 링크드인 프로필을 보고 지원자의 실력과 필수 경력을 확인한다. 진지하게 지원해 보고자 한다면, 링크드인 프로필을 꼭 업데이트 하기 \n",
    "3. 나 -> 개인 정보 설정 -> 구직 설정 -> 지원서 설정 으로 가서 이력서 업로드 하기 "
   ]
  },
  {
   "cell_type": "markdown",
   "id": "99397468",
   "metadata": {},
   "source": [
    "### 2단계 - 자동로그인\n",
    "1. ‘채용공고’ 탭으로 가서, 관심 있는 공고가 있는지 검색한다. \n",
    "    - 예) ‘파이썬 개발자’. 필터로 ‘간편 지원’을 추가하고, 원하는 지역을 지정.\n",
    "2. 주소창에 있는 URL을 복사, URL에는 모든 조건이 포한되어야 한다.\n",
    "    - URL: https://www.linkedin.com/jobs/search/?currentJobId=3724306205&f_LF=f_AL&geoId=103588929&keywords=python%20developer&location=%EB%8C%80%ED%95%9C%EB%AF%BC%EA%B5%AD%20%EC%84%9C%EC%9A%B8&origin=JOB_SEARCH_PAGE_LOCATION_AUTOCOMPLETE&refresh=true\n",
    "3. URL과 셀레니움에 대해 배운 것을 활용하여, 웹 드라이버를 사용해서 페이지를 열어보자. \n",
    "4. 셀레니움으로 링크드인에 자동 로그인하는 방법을 찾아보자."
   ]
  },
  {
   "cell_type": "code",
   "execution_count": 1,
   "id": "fbddfd43",
   "metadata": {},
   "outputs": [
    {
     "name": "stdout",
     "output_type": "stream",
     "text": [
      "Opera/9.23 (Windows NT 5.1; U; da)\n"
     ]
    }
   ],
   "source": [
    "import time\n",
    "from fake_useragent import UserAgent\n",
    "\n",
    "import undetected_chromedriver as uc \n",
    "from selenium.webdriver.common.by import By\n",
    "from selenium.webdriver.common.keys import Keys\n",
    "\n",
    "# fake user 사용 \n",
    "us = UserAgent(verify_ssl=False)\n",
    "userAgent = us.random\n",
    "print(userAgent)\n",
    "\n",
    "# 크롬드라이버 옵션 선언\n",
    "options = uc.ChromeOptions()\n",
    "\n",
    "# 크롬드라이버 headless 옵션 \n",
    "# options.headless=True\n",
    "# options.add_argument('--headless')   \n",
    "options.add_argument(\"--no-sandbox\")  \n",
    "\n",
    "options.add_argument(f'user-agent={userAgent}')  # fake user 설정 \n",
    "options.add_argument(\"--load-images=yes\")        # 이미지 로드 설정 \n",
    "options.add_argument(\"--disable-extensions\")     # 비활성화 - 어떤 것을 비활성화 하는지 잘 모르겠음 \n",
    "options.add_argument(\"--disable-gpu\")            # gpu 가속 사용 제외\n",
    "options.add_argument(\"--lang=ja-JP\")             # 가짜 플러그인 탑재 - 일본어 설정 \n",
    "driver = uc.Chrome(options=options)              # 설정된 크롬드라이버 선언\n",
    "\n",
    "# url 설정 \n",
    "url = \"https://www.linkedin.com/jobs/search/?currentJobId=3724306205&f_LF=f_AL&geoId=103588929&keywords=python%20developer&location=%EB%8C%80%ED%95%9C%EB%AF%BC%EA%B5%AD%20%EC%84%9C%EC%9A%B8&origin=JOB_SEARCH_PAGE_LOCATION_AUTOCOMPLETE&refresh=true\"\n",
    "driver.get(url)"
   ]
  },
  {
   "cell_type": "code",
   "execution_count": 2,
   "id": "fa99d8a7",
   "metadata": {},
   "outputs": [],
   "source": [
    "# 로그인 클릭\n",
    "driver.find_element(By.XPATH, \"/html/body/div[1]/header/nav/div/a[2]\").click()"
   ]
  },
  {
   "cell_type": "code",
   "execution_count": 3,
   "id": "8d1c1abd",
   "metadata": {},
   "outputs": [],
   "source": [
    "# 아이디 입력 \n",
    "email_id = driver.find_element(By.ID, \"username\")\n",
    "email_id.send_keys(\"your email\")"
   ]
  },
  {
   "cell_type": "code",
   "execution_count": 6,
   "id": "7cf03fe3",
   "metadata": {},
   "outputs": [],
   "source": [
    "# 비밀번호 \n",
    "password =  driver.find_element(By.ID, \"password\")\n",
    "password.send_keys(\"your password\")"
   ]
  },
  {
   "cell_type": "code",
   "execution_count": 7,
   "id": "b885ec87",
   "metadata": {},
   "outputs": [],
   "source": [
    "# 로그인 버튼 \n",
    "driver.find_element(By.XPATH, '//*[@id=\"organic-div\"]/form/div[3]/button').click()"
   ]
  },
  {
   "cell_type": "code",
   "execution_count": null,
   "id": "aebae68b",
   "metadata": {},
   "outputs": [],
   "source": [
    "# 전체 코드 \n",
    "import time\n",
    "from fake_useragent import UserAgent\n",
    "\n",
    "import undetected_chromedriver as uc \n",
    "from selenium.webdriver.common.by import By\n",
    "from selenium.webdriver.common.keys import Keys\n",
    "\n",
    "# fake user 사용 \n",
    "us = UserAgent(verify_ssl=False)\n",
    "userAgent = us.random\n",
    "print(userAgent)\n",
    "\n",
    "# 크롬드라이버 옵션 선언\n",
    "options = uc.ChromeOptions()\n",
    "\n",
    "# 크롬드라이버 headless 옵션 \n",
    "# options.headless=True\n",
    "# options.add_argument('--headless')   \n",
    "options.add_argument(\"--no-sandbox\")  \n",
    "\n",
    "options.add_argument(f'user-agent={userAgent}')  # fake user 설정 \n",
    "options.add_argument(\"--load-images=yes\")        # 이미지 로드 설정 \n",
    "options.add_argument(\"--disable-extensions\")     # 비활성화 - 어떤 것을 비활성화 하는지 잘 모르겠음 \n",
    "options.add_argument(\"--disable-gpu\")            # gpu 가속 사용 제외\n",
    "options.add_argument(\"--lang=ja-JP\")             # 가짜 플러그인 탑재 - 일본어 설정 \n",
    "driver = uc.Chrome(options=options)              # 설정된 크롬드라이버 선언\n",
    "\n",
    "# url 설정 \n",
    "url = \"https://www.linkedin.com/jobs/search/?currentJobId=3724306205&f_LF=f_AL&geoId=103588929&keywords=python%20developer&location=%EB%8C%80%ED%95%9C%EB%AF%BC%EA%B5%AD%20%EC%84%9C%EC%9A%B8&origin=JOB_SEARCH_PAGE_LOCATION_AUTOCOMPLETE&refresh=true\"\n",
    "driver.get(url)\n",
    "\n",
    "# 로그인 클릭\n",
    "driver.find_element(By.XPATH, \"/html/body/div[1]/header/nav/div/a[2]\").click()\n",
    "\n",
    "# 5초간 페이지 로딩 대기\n",
    "time.sleep(5)\n",
    "\n",
    "# 아이디 입력 \n",
    "email_id = driver.find_element(By.ID, \"username\")\n",
    "email_id.send_keys(\"your email\")\n",
    "\n",
    "# 비밀번호 \n",
    "password =  driver.find_element(By.ID, \"password\")\n",
    "password.send_keys(\"your password\")\n",
    "\n",
    "# 로그인 버튼 \n",
    "driver.find_element(By.XPATH, '//*[@id=\"organic-div\"]/form/div[3]/button').click()"
   ]
  },
  {
   "cell_type": "markdown",
   "id": "67abd31d",
   "metadata": {},
   "source": [
    "### 3단계 - 채용공고에 지원하기\n",
    "1. 셀레니움을 사용해서, 전화번호만 입력하면 되는 첫 번째 채용공고에 자동으로 지원해보기\n",
    "    - 주의: 링크드인에 로그인할 때, 가끔씩 캡차가 뜨는데, 이는 직접 완료해야 함\n",
    "    - \"이 공고는 지원자를 더 이상 받지 않습니다\"라고 나오거나 여러 단계의 지원 과정을 거쳐야한다면, 다른 검색어로 검색해보기 "
   ]
  },
  {
   "cell_type": "code",
   "execution_count": 8,
   "id": "0fbb3e22",
   "metadata": {},
   "outputs": [],
   "source": [
    "# 첫 번째 공고 간편지원 버튼 누르기\n",
    "driver.find_element(By.XPATH, '//*[@id=\"ember363\"]').click()"
   ]
  },
  {
   "cell_type": "code",
   "execution_count": 9,
   "id": "70451d65",
   "metadata": {},
   "outputs": [],
   "source": [
    "# 전화 번호 입력 \n",
    "phone = driver.find_element(By.XPATH, \n",
    "                    '//*[@id=\"single-line-text-form-component-formElement-urn-li-jobs-applyformcommon-easyApplyFormElement-3724306205-99868013-phoneNumber-nationalNumber\"]')\n",
    "phone.send_keys(\"Your phone number\")"
   ]
  },
  {
   "cell_type": "code",
   "execution_count": null,
   "id": "8487b5f1",
   "metadata": {},
   "outputs": [],
   "source": [
    "# 지원하기 버튼 클릭 \n",
    "driver.find_element(By.XPATH, '//*[@id=\"ember763\"]').click()"
   ]
  },
  {
   "cell_type": "code",
   "execution_count": 10,
   "id": "fafb054c",
   "metadata": {},
   "outputs": [],
   "source": [
    "# 다음 버튼 \n",
    "driver.find_element(By.XPATH, '//*[@id=\"ember472\"]').click()"
   ]
  },
  {
   "cell_type": "code",
   "execution_count": 11,
   "id": "16a3b888",
   "metadata": {},
   "outputs": [],
   "source": [
    "# 다음 버튼 클릭 \n",
    "driver.find_element(By.XPATH, '//*[@id=\"ember472\"]').click()"
   ]
  },
  {
   "cell_type": "markdown",
   "id": "e7812d4e",
   "metadata": {},
   "source": [
    "#### 만약 지금 지원하고 싶지 않다면,  해당 채용 공고 저장하기 "
   ]
  },
  {
   "cell_type": "code",
   "execution_count": 13,
   "id": "8296f056",
   "metadata": {},
   "outputs": [],
   "source": [
    "# 채용 공고 저장하기\n",
    "driver.find_element(By.XPATH, \n",
    "                   '//*[@id=\"main\"]/div/div[2]/div/div[2]/div[1]/div/div[1]/div/div[1]/div[1]/div[4]/div/button').click()"
   ]
  },
  {
   "cell_type": "code",
   "execution_count": null,
   "id": "38f2028f",
   "metadata": {},
   "outputs": [],
   "source": [
    "# 전체 코드 \n",
    "import time\n",
    "from fake_useragent import UserAgent\n",
    "\n",
    "import undetected_chromedriver as uc \n",
    "from selenium.webdriver.common.by import By\n",
    "from selenium.webdriver.common.keys import Keys\n",
    "\n",
    "# 유저 정보 \n",
    "ACCOUNT_ID = \"Your account\"\n",
    "ACCOUNT_PW = \"Your password\"\n",
    "PHONE_NUMBER = \"Your phone number\"\n",
    "\n",
    "# fake user 사용 \n",
    "us = UserAgent(verify_ssl=False)\n",
    "userAgent = us.random\n",
    "print(userAgent)\n",
    "\n",
    "# 크롬드라이버 옵션 선언\n",
    "options = uc.ChromeOptions()\n",
    "\n",
    "# 크롬드라이버 headless 옵션 \n",
    "# options.headless=True\n",
    "# options.add_argument('--headless')   \n",
    "options.add_argument(\"--no-sandbox\")  \n",
    "\n",
    "options.add_argument(f'user-agent={userAgent}')  # fake user 설정 \n",
    "options.add_argument(\"--load-images=yes\")        # 이미지 로드 설정 \n",
    "options.add_argument(\"--disable-extensions\")     # 비활성화 - 어떤 것을 비활성화 하는지 잘 모르겠음 \n",
    "options.add_argument(\"--disable-gpu\")            # gpu 가속 사용 제외\n",
    "options.add_argument(\"--lang=ja-JP\")             # 가짜 플러그인 탑재 - 일본어 설정 \n",
    "driver = uc.Chrome(options=options)              # 설정된 크롬드라이버 선언\n",
    "\n",
    "# url 설정 \n",
    "url = \"https://www.linkedin.com/jobs/search/?currentJobId=3724306205&f_LF=f_AL&geoId=103588929&keywords=python%20developer&location=%EB%8C%80%ED%95%9C%EB%AF%BC%EA%B5%AD%20%EC%84%9C%EC%9A%B8&origin=JOB_SEARCH_PAGE_LOCATION_AUTOCOMPLETE&refresh=true\"\n",
    "driver.get(url)\n",
    "\n",
    "# 로그인 클릭\n",
    "driver.find_element(By.XPATH, \"/html/body/div[1]/header/nav/div/a[2]\").click()\n",
    "\n",
    "# 5초간 페이지 로딩 대기\n",
    "time.sleep(5)\n",
    "\n",
    "# 아이디 입력 \n",
    "email_id = driver.find_element(By.ID, \"username\")\n",
    "email_id.send_keys(ACCOUNT_ID)\n",
    "\n",
    "# 비밀번호 \n",
    "password =  driver.find_element(By.ID, \"password\")\n",
    "password.send_keys(ACCOUNT_PW)\n",
    "\n",
    "# 로그인 버튼 \n",
    "driver.find_element(By.XPATH, '//*[@id=\"organic-div\"]/form/div[3]/button').click()\n",
    "\n",
    "# 첫 번째 공고 간편지원 버튼 누르기\n",
    "driver.find_element(By.XPATH, '//*[@id=\"ember363\"]').click()\n",
    "\n",
    "# 5초간 페이지 로딩 대기\n",
    "time.sleep(5)\n",
    "\n",
    "# 전화 번호 입력 \n",
    "phone = driver.find_element(By.XPATH, \n",
    "                    '//*[@id=\"single-line-text-form-component-formElement-urn-li-jobs-applyformcommon-easyApplyFormElement-3724306205-99868013-phoneNumber-nationalNumber\"]')\n",
    "if phone.text == \"\":\n",
    "    phone.send_keys(PHONE_NUMBER)\n",
    "    \n",
    "# 지원하기 버튼 클릭 \n",
    "driver.find_element(By.XPATH, '//*[@id=\"ember763\"]').click()"
   ]
  }
 ],
 "metadata": {
  "kernelspec": {
   "display_name": "Python 3 (ipykernel)",
   "language": "python",
   "name": "python3"
  },
  "language_info": {
   "codemirror_mode": {
    "name": "ipython",
    "version": 3
   },
   "file_extension": ".py",
   "mimetype": "text/x-python",
   "name": "python",
   "nbconvert_exporter": "python",
   "pygments_lexer": "ipython3",
   "version": "3.8.12"
  }
 },
 "nbformat": 4,
 "nbformat_minor": 5
}
