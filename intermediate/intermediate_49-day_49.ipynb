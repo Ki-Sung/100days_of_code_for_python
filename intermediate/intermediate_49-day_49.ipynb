{
 "cells": [
  {
   "cell_type": "markdown",
   "id": "0241a29f",
   "metadata": {},
   "source": [
    "## 채용 공고 자동 지원하기 \n",
    "- 링크드인에 있는 채용 공고란에 있는 채용 공고란에 가서 자동으로 지원해보기"
   ]
  },
  {
   "cell_type": "markdown",
   "id": "3e0ca8f5",
   "metadata": {},
   "source": [
    "### 1단계  - 링크드인 계정 만들기 \n",
    "- 프로젝트 목표\n",
    "    - 오늘 프로젝트의 목표는 셀레니움을 사용하여 자동으로 입사 지원하는 방법을 배우는 것이다. 하루 동안 배우고 나면, 링크드인의 ‘간편 지원’ 기능을 사용하여 조건에 부합하는 (단 한 개가 아닌) 모든 공고에 지원서를 내는 프로그램을 완성할 수 있다. \n",
    "    - 혹시 링크드인에서 입사 지원서를 내고 싶지 않다면, 조건에 부합하는 공고를 모두 ‘저장’하고 공고를 게시한 회사를 팔로우하는 것으로 대체할 수 있다. \n",
    "\n",
    "- 링크드인 가입과 프로필 설정\n",
    "    - 링크드인을 사용하여 자동으로 입사 지원을 할 것이므로, 시작 전에 해당 웹사이트에서 계정과 프로필을 설정해야 한다.\n",
    "\n",
    "1. 링크드인 에 가입하고, 나중에 쓸 일을 대비해 이메일과 비밀번호를 어딘가에 저장해 두기\n",
    "    - 주의: 셀레니움을 사용할 때는 2단계 인증/전화번호 인증을 사용하지 마시오. 본 프로젝트에 주 계정을 사용하고 싶지 않으면, 부 계정을 새로 만들어도 됨\n",
    "2. 지원서를 확인하는 회사들은 본인 링크드인 프로필을 보고 지원자의 실력과 필수 경력을 확인한다. 진지하게 지원해 보고자 한다면, 링크드인 프로필을 꼭 업데이트 하기 \n",
    "3. 나 -> 개인 정보 설정 -> 구직 설정 -> 지원서 설정 으로 가서 이력서 업로드 하기 "
   ]
  },
  {
   "cell_type": "code",
   "execution_count": null,
   "id": "04102949",
   "metadata": {},
   "outputs": [],
   "source": []
  }
 ],
 "metadata": {
  "kernelspec": {
   "display_name": "Python 3 (ipykernel)",
   "language": "python",
   "name": "python3"
  },
  "language_info": {
   "codemirror_mode": {
    "name": "ipython",
    "version": 3
   },
   "file_extension": ".py",
   "mimetype": "text/x-python",
   "name": "python",
   "nbconvert_exporter": "python",
   "pygments_lexer": "ipython3",
   "version": "3.8.12"
  }
 },
 "nbformat": 4,
 "nbformat_minor": 5
}
