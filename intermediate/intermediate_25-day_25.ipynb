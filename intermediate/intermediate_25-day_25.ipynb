{
 "cells": [
  {
   "cell_type": "markdown",
   "id": "0a2fdb35",
   "metadata": {},
   "source": [
    "## Spocle Game 만들기\n",
    "- Pandas 사용에 대해 Study \n",
    "- 마지막에 Spocle Game 만들어 보기 -> 미국 50개 주 맞추기!"
   ]
  },
  {
   "cell_type": "markdown",
   "id": "f80d9fc2",
   "metadata": {},
   "source": [
    "### 1. 파이썬에서 CSV 데이터 읽기 \n",
    "- weather_data.csv 파일을 받고, 읽기\n",
    "- 판다스를 이용해보자!"
   ]
  },
  {
   "cell_type": "markdown",
   "id": "98963c76",
   "metadata": {},
   "source": [
    "#### CSV는 Comma Separated Values의 줄임말로 콤마로 분류하는 데이터를 말함"
   ]
  },
  {
   "cell_type": "code",
   "execution_count": 2,
   "id": "a3c0c8e4",
   "metadata": {},
   "outputs": [
    {
     "name": "stdout",
     "output_type": "stream",
     "text": [
      "['day,temp,condition\\n', 'Monday,12,Sunny\\n', 'Tuesday,14,Rain\\n', 'Wednesday,15,Rain\\n', 'Thursday,14,Cloudy\\n', 'Friday,21,Sunny\\n', 'Saturday,22,Sunny\\n', 'Sunday,24,Sunny']\n"
     ]
    }
   ],
   "source": [
    "# 다운로드 받은 weather_data.csv를 받아서 파일을 열어보자! \n",
    "\n",
    "with open('./data/weather_data.csv') as weather_file:\n",
    "    weather = weather_file.readlines()\n",
    "    print(weather)"
   ]
  },
  {
   "cell_type": "code",
   "execution_count": 4,
   "id": "e4b70eaa",
   "metadata": {},
   "outputs": [
    {
     "name": "stdout",
     "output_type": "stream",
     "text": [
      "['day', 'temp', 'condition']\n",
      "['Monday', '12', 'Sunny']\n",
      "['Tuesday', '14', 'Rain']\n",
      "['Wednesday', '15', 'Rain']\n",
      "['Thursday', '14', 'Cloudy']\n",
      "['Friday', '21', 'Sunny']\n",
      "['Saturday', '22', 'Sunny']\n",
      "['Sunday', '24', 'Sunny']\n"
     ]
    }
   ],
   "source": [
    "# 또는 모듈을 사용해서도 가능 \n",
    "import csv \n",
    "\n",
    "with open('./data/weather_data.csv') as weather_file:\n",
    "    weather = csv.reader(weather_file)\n",
    "    for row in weather:\n",
    "        print(row)"
   ]
  },
  {
   "cell_type": "code",
   "execution_count": 13,
   "id": "8bb0c726",
   "metadata": {},
   "outputs": [
    {
     "name": "stdout",
     "output_type": "stream",
     "text": [
      "[12, 14, 15, 14, 21, 22, 24]\n"
     ]
    }
   ],
   "source": [
    "# 그럼 행에서 temp 데이터만 뽑아보자 - temp라는 컬럼 제외 \n",
    "import csv \n",
    "\n",
    "with open('./data/weather_data.csv') as weather_file:\n",
    "    weather = csv.reader(weather_file)\n",
    "    temperaters = []\n",
    "    for row in weather:\n",
    "        if row[1] != \"temp\":           # 첫 번째 인덱스가 컬럼의 레이블인 \"temp\"와 같지 않다면\n",
    "            temperaters.append(int(row[1]))     # 요소들을 빈 리스트에 저장\n",
    "    print(temperaters)"
   ]
  },
  {
   "cell_type": "markdown",
   "id": "587091cc",
   "metadata": {},
   "source": [
    "#### Pandas 사용하기 \n",
    "- 참고: [pandas document](https://pandas.pydata.org/docs/)"
   ]
  },
  {
   "cell_type": "code",
   "execution_count": 44,
   "id": "205f32c6",
   "metadata": {},
   "outputs": [
    {
     "data": {
      "text/html": [
       "<div>\n",
       "<style scoped>\n",
       "    .dataframe tbody tr th:only-of-type {\n",
       "        vertical-align: middle;\n",
       "    }\n",
       "\n",
       "    .dataframe tbody tr th {\n",
       "        vertical-align: top;\n",
       "    }\n",
       "\n",
       "    .dataframe thead th {\n",
       "        text-align: right;\n",
       "    }\n",
       "</style>\n",
       "<table border=\"1\" class=\"dataframe\">\n",
       "  <thead>\n",
       "    <tr style=\"text-align: right;\">\n",
       "      <th></th>\n",
       "      <th>day</th>\n",
       "      <th>temp</th>\n",
       "      <th>condition</th>\n",
       "    </tr>\n",
       "  </thead>\n",
       "  <tbody>\n",
       "    <tr>\n",
       "      <th>0</th>\n",
       "      <td>Monday</td>\n",
       "      <td>12</td>\n",
       "      <td>Sunny</td>\n",
       "    </tr>\n",
       "    <tr>\n",
       "      <th>1</th>\n",
       "      <td>Tuesday</td>\n",
       "      <td>14</td>\n",
       "      <td>Rain</td>\n",
       "    </tr>\n",
       "    <tr>\n",
       "      <th>2</th>\n",
       "      <td>Wednesday</td>\n",
       "      <td>15</td>\n",
       "      <td>Rain</td>\n",
       "    </tr>\n",
       "    <tr>\n",
       "      <th>3</th>\n",
       "      <td>Thursday</td>\n",
       "      <td>14</td>\n",
       "      <td>Cloudy</td>\n",
       "    </tr>\n",
       "    <tr>\n",
       "      <th>4</th>\n",
       "      <td>Friday</td>\n",
       "      <td>21</td>\n",
       "      <td>Sunny</td>\n",
       "    </tr>\n",
       "    <tr>\n",
       "      <th>5</th>\n",
       "      <td>Saturday</td>\n",
       "      <td>22</td>\n",
       "      <td>Sunny</td>\n",
       "    </tr>\n",
       "    <tr>\n",
       "      <th>6</th>\n",
       "      <td>Sunday</td>\n",
       "      <td>24</td>\n",
       "      <td>Sunny</td>\n",
       "    </tr>\n",
       "  </tbody>\n",
       "</table>\n",
       "</div>"
      ],
      "text/plain": [
       "         day  temp condition\n",
       "0     Monday    12     Sunny\n",
       "1    Tuesday    14      Rain\n",
       "2  Wednesday    15      Rain\n",
       "3   Thursday    14    Cloudy\n",
       "4     Friday    21     Sunny\n",
       "5   Saturday    22     Sunny\n",
       "6     Sunday    24     Sunny"
      ]
     },
     "execution_count": 44,
     "metadata": {},
     "output_type": "execute_result"
    }
   ],
   "source": [
    "import pandas as pd  # 모듈 선언\n",
    "\n",
    "# 판다스 모듈 선언 후 사용하기 \n",
    "data = pd.read_csv('./data/weather_data.csv')   # 판다스로 데이터 불러오기 \n",
    "data"
   ]
  },
  {
   "cell_type": "code",
   "execution_count": 2,
   "id": "130be3fd",
   "metadata": {},
   "outputs": [
    {
     "data": {
      "text/plain": [
       "0    12\n",
       "1    14\n",
       "2    15\n",
       "3    14\n",
       "4    21\n",
       "5    22\n",
       "6    24\n",
       "Name: temp, dtype: int64"
      ]
     },
     "execution_count": 2,
     "metadata": {},
     "output_type": "execute_result"
    }
   ],
   "source": [
    "# 만약 temp 데이터만 뽑고자 한다면?\n",
    "data[\"temp\"]"
   ]
  },
  {
   "cell_type": "markdown",
   "id": "e95fb951",
   "metadata": {},
   "source": [
    "### 2. Dataframe과 시리즈: 행과 열 "
   ]
  },
  {
   "cell_type": "markdown",
   "id": "58cf53b9",
   "metadata": {},
   "source": [
    "- type 메소드를 사용해서 데이터 타입을 확인해보니, pandas DataFrame 오브젝트를 갖게 되는 것을 확인할 수 있다.\n",
    "- 판다스의 두 가지 주요 데이터 구조인 Series와 DataFrame을 언급함."
   ]
  },
  {
   "cell_type": "code",
   "execution_count": 4,
   "id": "cf5c73d1",
   "metadata": {},
   "outputs": [
    {
     "name": "stdout",
     "output_type": "stream",
     "text": [
      "<class 'pandas.core.frame.DataFrame'>\n"
     ]
    }
   ],
   "source": [
    "# 작업하고 있는 객체 유형 확인\n",
    "print(type(data))"
   ]
  },
  {
   "cell_type": "code",
   "execution_count": 5,
   "id": "42882e31",
   "metadata": {},
   "outputs": [
    {
     "data": {
      "text/html": [
       "<div>\n",
       "<style scoped>\n",
       "    .dataframe tbody tr th:only-of-type {\n",
       "        vertical-align: middle;\n",
       "    }\n",
       "\n",
       "    .dataframe tbody tr th {\n",
       "        vertical-align: top;\n",
       "    }\n",
       "\n",
       "    .dataframe thead th {\n",
       "        text-align: right;\n",
       "    }\n",
       "</style>\n",
       "<table border=\"1\" class=\"dataframe\">\n",
       "  <thead>\n",
       "    <tr style=\"text-align: right;\">\n",
       "      <th></th>\n",
       "      <th>day</th>\n",
       "      <th>temp</th>\n",
       "      <th>condition</th>\n",
       "    </tr>\n",
       "  </thead>\n",
       "  <tbody>\n",
       "    <tr>\n",
       "      <th>0</th>\n",
       "      <td>Monday</td>\n",
       "      <td>12</td>\n",
       "      <td>Sunny</td>\n",
       "    </tr>\n",
       "    <tr>\n",
       "      <th>1</th>\n",
       "      <td>Tuesday</td>\n",
       "      <td>14</td>\n",
       "      <td>Rain</td>\n",
       "    </tr>\n",
       "    <tr>\n",
       "      <th>2</th>\n",
       "      <td>Wednesday</td>\n",
       "      <td>15</td>\n",
       "      <td>Rain</td>\n",
       "    </tr>\n",
       "    <tr>\n",
       "      <th>3</th>\n",
       "      <td>Thursday</td>\n",
       "      <td>14</td>\n",
       "      <td>Cloudy</td>\n",
       "    </tr>\n",
       "    <tr>\n",
       "      <th>4</th>\n",
       "      <td>Friday</td>\n",
       "      <td>21</td>\n",
       "      <td>Sunny</td>\n",
       "    </tr>\n",
       "    <tr>\n",
       "      <th>5</th>\n",
       "      <td>Saturday</td>\n",
       "      <td>22</td>\n",
       "      <td>Sunny</td>\n",
       "    </tr>\n",
       "    <tr>\n",
       "      <th>6</th>\n",
       "      <td>Sunday</td>\n",
       "      <td>24</td>\n",
       "      <td>Sunny</td>\n",
       "    </tr>\n",
       "  </tbody>\n",
       "</table>\n",
       "</div>"
      ],
      "text/plain": [
       "         day  temp condition\n",
       "0     Monday    12     Sunny\n",
       "1    Tuesday    14      Rain\n",
       "2  Wednesday    15      Rain\n",
       "3   Thursday    14    Cloudy\n",
       "4     Friday    21     Sunny\n",
       "5   Saturday    22     Sunny\n",
       "6     Sunday    24     Sunny"
      ]
     },
     "execution_count": 5,
     "metadata": {},
     "output_type": "execute_result"
    }
   ],
   "source": [
    "# 데이터 프레임 확인 \n",
    "data"
   ]
  },
  {
   "cell_type": "markdown",
   "id": "2fbf9a4d",
   "metadata": {},
   "source": [
    "- DataFrame은 엑셀과 같이 표 형식으로 되어 있는 데이터 타입이다."
   ]
  },
  {
   "cell_type": "code",
   "execution_count": 6,
   "id": "683fad32",
   "metadata": {},
   "outputs": [
    {
     "data": {
      "text/plain": [
       "pandas.core.series.Series"
      ]
     },
     "execution_count": 6,
     "metadata": {},
     "output_type": "execute_result"
    }
   ],
   "source": [
    "# 작업하고 있는 객체 유형 확인\n",
    "type(data[\"temp\"])"
   ]
  },
  {
   "cell_type": "code",
   "execution_count": 7,
   "id": "278ad139",
   "metadata": {},
   "outputs": [
    {
     "data": {
      "text/plain": [
       "0    12\n",
       "1    14\n",
       "2    15\n",
       "3    14\n",
       "4    21\n",
       "5    22\n",
       "6    24\n",
       "Name: temp, dtype: int64"
      ]
     },
     "execution_count": 7,
     "metadata": {},
     "output_type": "execute_result"
    }
   ],
   "source": [
    "data[\"temp\"]"
   ]
  },
  {
   "cell_type": "markdown",
   "id": "8dd310ca",
   "metadata": {},
   "source": [
    "- Series는 판다스에서 아주 중요한 개념인데, 기본적으로 리스트와 같은 것이다. \n",
    "- 표에서 한 열과 같은 것인데, 위에서 조회한 'temp'열의 row는 시리즈라고 할 수 있다."
   ]
  },
  {
   "cell_type": "markdown",
   "id": "3afc6078",
   "metadata": {},
   "source": [
    "#### 판다스의 각종 메소드 사용 예시"
   ]
  },
  {
   "cell_type": "code",
   "execution_count": 8,
   "id": "15109ee9",
   "metadata": {},
   "outputs": [
    {
     "name": "stdout",
     "output_type": "stream",
     "text": [
      "{'day': {0: 'Monday', 1: 'Tuesday', 2: 'Wednesday', 3: 'Thursday', 4: 'Friday', 5: 'Saturday', 6: 'Sunday'}, 'temp': {0: 12, 1: 14, 2: 15, 3: 14, 4: 21, 5: 22, 6: 24}, 'condition': {0: 'Sunny', 1: 'Rain', 2: 'Rain', 3: 'Cloudy', 4: 'Sunny', 5: 'Sunny', 6: 'Sunny'}}\n"
     ]
    }
   ],
   "source": [
    "# 딕셔너리 형식으로 변경 \n",
    "data_dict = data.to_dict()\n",
    "print(data_dict)"
   ]
  },
  {
   "cell_type": "code",
   "execution_count": 9,
   "id": "8da5d2f4",
   "metadata": {},
   "outputs": [
    {
     "name": "stdout",
     "output_type": "stream",
     "text": [
      "[12, 14, 15, 14, 21, 22, 24]\n"
     ]
    }
   ],
   "source": [
    "# temp의 시리즈를 list 형식으로 변환 \n",
    "temp_list = data['temp'].to_list()\n",
    "print(temp_list)"
   ]
  },
  {
   "cell_type": "code",
   "execution_count": 14,
   "id": "a584ff20",
   "metadata": {},
   "outputs": [
    {
     "name": "stdout",
     "output_type": "stream",
     "text": [
      "17.428571428571427\n"
     ]
    }
   ],
   "source": [
    "# 과제 1 - 온도 열의 평균값 구하기 \n",
    "temp_avg = sum(temp_list) / len(temp_list)\n",
    "print(temp_avg)"
   ]
  },
  {
   "cell_type": "code",
   "execution_count": 15,
   "id": "67bdc41d",
   "metadata": {},
   "outputs": [
    {
     "name": "stdout",
     "output_type": "stream",
     "text": [
      "17.428571428571427\n"
     ]
    }
   ],
   "source": [
    "# 과제 1의 또다른 방법, mean()메소드 사용 \n",
    "print(data['temp'].mean())"
   ]
  },
  {
   "cell_type": "code",
   "execution_count": 17,
   "id": "aa8e1ef9",
   "metadata": {},
   "outputs": [
    {
     "name": "stdout",
     "output_type": "stream",
     "text": [
      "24\n"
     ]
    }
   ],
   "source": [
    "# 과제 2 - 온도 열에서의 최고값 찾기 \n",
    "print(data['temp'].max())"
   ]
  },
  {
   "cell_type": "markdown",
   "id": "02d2cad2",
   "metadata": {},
   "source": [
    "#### 컬럼으로 데이터 조회"
   ]
  },
  {
   "cell_type": "code",
   "execution_count": 19,
   "id": "a8528cd7",
   "metadata": {},
   "outputs": [
    {
     "name": "stdout",
     "output_type": "stream",
     "text": [
      "0     Sunny\n",
      "1      Rain\n",
      "2      Rain\n",
      "3    Cloudy\n",
      "4     Sunny\n",
      "5     Sunny\n",
      "6     Sunny\n",
      "Name: condition, dtype: object\n"
     ]
    }
   ],
   "source": [
    "# 컬럼을 통해 데이터 얻기 1\n",
    "print(data['condition'])"
   ]
  },
  {
   "cell_type": "code",
   "execution_count": 20,
   "id": "f6dfaac7",
   "metadata": {},
   "outputs": [
    {
     "data": {
      "text/plain": [
       "0     Sunny\n",
       "1      Rain\n",
       "2      Rain\n",
       "3    Cloudy\n",
       "4     Sunny\n",
       "5     Sunny\n",
       "6     Sunny\n",
       "Name: condition, dtype: object"
      ]
     },
     "execution_count": 20,
     "metadata": {},
     "output_type": "execute_result"
    }
   ],
   "source": [
    "# 컬럼을 통해 데이터 얻기 2\n",
    "data.condition"
   ]
  },
  {
   "cell_type": "markdown",
   "id": "40d7daf0",
   "metadata": {},
   "source": [
    "#### Row를 통해 데이터 얻기"
   ]
  },
  {
   "cell_type": "code",
   "execution_count": 25,
   "id": "97b741d9",
   "metadata": {},
   "outputs": [
    {
     "data": {
      "text/html": [
       "<div>\n",
       "<style scoped>\n",
       "    .dataframe tbody tr th:only-of-type {\n",
       "        vertical-align: middle;\n",
       "    }\n",
       "\n",
       "    .dataframe tbody tr th {\n",
       "        vertical-align: top;\n",
       "    }\n",
       "\n",
       "    .dataframe thead th {\n",
       "        text-align: right;\n",
       "    }\n",
       "</style>\n",
       "<table border=\"1\" class=\"dataframe\">\n",
       "  <thead>\n",
       "    <tr style=\"text-align: right;\">\n",
       "      <th></th>\n",
       "      <th>day</th>\n",
       "      <th>temp</th>\n",
       "      <th>condition</th>\n",
       "    </tr>\n",
       "  </thead>\n",
       "  <tbody>\n",
       "    <tr>\n",
       "      <th>0</th>\n",
       "      <td>Monday</td>\n",
       "      <td>12</td>\n",
       "      <td>Sunny</td>\n",
       "    </tr>\n",
       "  </tbody>\n",
       "</table>\n",
       "</div>"
      ],
      "text/plain": [
       "      day  temp condition\n",
       "0  Monday    12     Sunny"
      ]
     },
     "execution_count": 25,
     "metadata": {},
     "output_type": "execute_result"
    }
   ],
   "source": [
    "# Row에서 데이터 얻는 법  1\n",
    "data[data['day'] == 'Monday']"
   ]
  },
  {
   "cell_type": "code",
   "execution_count": 24,
   "id": "c28dfcaa",
   "metadata": {},
   "outputs": [
    {
     "name": "stdout",
     "output_type": "stream",
     "text": [
      "      day  temp condition\n",
      "0  Monday    12     Sunny\n"
     ]
    }
   ],
   "source": [
    "# Row에서 데이터 얻는 법 2\n",
    "print(data[data.day == 'Monday'])"
   ]
  },
  {
   "cell_type": "code",
   "execution_count": 35,
   "id": "1d62451a",
   "metadata": {},
   "outputs": [
    {
     "data": {
      "text/html": [
       "<div>\n",
       "<style scoped>\n",
       "    .dataframe tbody tr th:only-of-type {\n",
       "        vertical-align: middle;\n",
       "    }\n",
       "\n",
       "    .dataframe tbody tr th {\n",
       "        vertical-align: top;\n",
       "    }\n",
       "\n",
       "    .dataframe thead th {\n",
       "        text-align: right;\n",
       "    }\n",
       "</style>\n",
       "<table border=\"1\" class=\"dataframe\">\n",
       "  <thead>\n",
       "    <tr style=\"text-align: right;\">\n",
       "      <th></th>\n",
       "      <th>day</th>\n",
       "      <th>temp</th>\n",
       "      <th>condition</th>\n",
       "    </tr>\n",
       "  </thead>\n",
       "  <tbody>\n",
       "    <tr>\n",
       "      <th>6</th>\n",
       "      <td>Sunday</td>\n",
       "      <td>24</td>\n",
       "      <td>Sunny</td>\n",
       "    </tr>\n",
       "  </tbody>\n",
       "</table>\n",
       "</div>"
      ],
      "text/plain": [
       "      day  temp condition\n",
       "6  Sunday    24     Sunny"
      ]
     },
     "execution_count": 35,
     "metadata": {},
     "output_type": "execute_result"
    }
   ],
   "source": [
    "# 과제 3 - 온도가 가장 높은 데이터가 있는 행을 추출 1\n",
    "data[data['temp'] == data['temp'].max()]"
   ]
  },
  {
   "cell_type": "code",
   "execution_count": 36,
   "id": "fcc68191",
   "metadata": {},
   "outputs": [
    {
     "data": {
      "text/html": [
       "<div>\n",
       "<style scoped>\n",
       "    .dataframe tbody tr th:only-of-type {\n",
       "        vertical-align: middle;\n",
       "    }\n",
       "\n",
       "    .dataframe tbody tr th {\n",
       "        vertical-align: top;\n",
       "    }\n",
       "\n",
       "    .dataframe thead th {\n",
       "        text-align: right;\n",
       "    }\n",
       "</style>\n",
       "<table border=\"1\" class=\"dataframe\">\n",
       "  <thead>\n",
       "    <tr style=\"text-align: right;\">\n",
       "      <th></th>\n",
       "      <th>day</th>\n",
       "      <th>temp</th>\n",
       "      <th>condition</th>\n",
       "    </tr>\n",
       "  </thead>\n",
       "  <tbody>\n",
       "    <tr>\n",
       "      <th>6</th>\n",
       "      <td>Sunday</td>\n",
       "      <td>24</td>\n",
       "      <td>Sunny</td>\n",
       "    </tr>\n",
       "  </tbody>\n",
       "</table>\n",
       "</div>"
      ],
      "text/plain": [
       "      day  temp condition\n",
       "6  Sunday    24     Sunny"
      ]
     },
     "execution_count": 36,
     "metadata": {},
     "output_type": "execute_result"
    }
   ],
   "source": [
    "# 과제 3 - 온도가 가장 높은 데이터가 있는 행을 추출 2\n",
    "data[(data.temp == data.temp.max())]"
   ]
  },
  {
   "cell_type": "code",
   "execution_count": 39,
   "id": "a518560e",
   "metadata": {},
   "outputs": [
    {
     "name": "stdout",
     "output_type": "stream",
     "text": [
      "0    Sunny\n",
      "Name: condition, dtype: object\n"
     ]
    }
   ],
   "source": [
    "# 특정 행의 온도나 특정 행의 날씨를 상태를 원할 경우 \n",
    "monday = data[data.day == 'Monday']\n",
    "print(monday.condition)"
   ]
  },
  {
   "cell_type": "code",
   "execution_count": 54,
   "id": "3cd7e79d",
   "metadata": {},
   "outputs": [
    {
     "data": {
      "text/plain": [
       "0    53.6\n",
       "Name: temp, dtype: float64"
      ]
     },
     "execution_count": 54,
     "metadata": {},
     "output_type": "execute_result"
    }
   ],
   "source": [
    "# 과제 4 - 섭씨로 표시되어 있는 월요일 온도를 화씨로 바꾸자 \n",
    "# 화씨 계산 법 - (섭씨 X 1.8(9/5)) + 32\n",
    "\n",
    "monday_temp = monday.temp\n",
    "monday_temp_F = monday_temp * 9/5 + 32\n",
    "monday_temp_F"
   ]
  },
  {
   "cell_type": "markdown",
   "id": "0a070f36",
   "metadata": {},
   "source": [
    "####  데이터프레임 만드는 방법"
   ]
  },
  {
   "cell_type": "code",
   "execution_count": 55,
   "id": "93453e2a",
   "metadata": {},
   "outputs": [
    {
     "data": {
      "text/html": [
       "<div>\n",
       "<style scoped>\n",
       "    .dataframe tbody tr th:only-of-type {\n",
       "        vertical-align: middle;\n",
       "    }\n",
       "\n",
       "    .dataframe tbody tr th {\n",
       "        vertical-align: top;\n",
       "    }\n",
       "\n",
       "    .dataframe thead th {\n",
       "        text-align: right;\n",
       "    }\n",
       "</style>\n",
       "<table border=\"1\" class=\"dataframe\">\n",
       "  <thead>\n",
       "    <tr style=\"text-align: right;\">\n",
       "      <th></th>\n",
       "      <th>students</th>\n",
       "      <th>score</th>\n",
       "    </tr>\n",
       "  </thead>\n",
       "  <tbody>\n",
       "    <tr>\n",
       "      <th>0</th>\n",
       "      <td>Amy</td>\n",
       "      <td>76</td>\n",
       "    </tr>\n",
       "    <tr>\n",
       "      <th>1</th>\n",
       "      <td>James</td>\n",
       "      <td>56</td>\n",
       "    </tr>\n",
       "    <tr>\n",
       "      <th>2</th>\n",
       "      <td>Gilbert</td>\n",
       "      <td>65</td>\n",
       "    </tr>\n",
       "  </tbody>\n",
       "</table>\n",
       "</div>"
      ],
      "text/plain": [
       "  students  score\n",
       "0      Amy     76\n",
       "1    James     56\n",
       "2  Gilbert     65"
      ]
     },
     "execution_count": 55,
     "metadata": {},
     "output_type": "execute_result"
    }
   ],
   "source": [
    "# 방법 1 - 딕셔너리 \n",
    "data_dict = {\n",
    "    \"students\": [\"Amy\", \"James\", \"Gilbert\"],\n",
    "    \"score\": [76, 56, 65]\n",
    "}\n",
    "\n",
    "# 데이터프레임 생성 \n",
    "student_data = pd.DataFrame(data_dict)\n",
    "student_data"
   ]
  },
  {
   "cell_type": "code",
   "execution_count": null,
   "id": "d50c4fac",
   "metadata": {},
   "outputs": [],
   "source": [
    "# csv 파일로 저장 \n",
    "student_data.to_csv(\"student_data.csv\")"
   ]
  },
  {
   "cell_type": "markdown",
   "id": "1a603ab8",
   "metadata": {},
   "source": [
    "### 3. 센트럴 파크 다람쥐 데이터 분석 \n",
    "- 자료 출처: [NYC Open Data](https://data.cityofnewyork.us/Environment/2018-Central-Park-Squirrel-Census-Squirrel-Data/vfnx-vebw)\n",
    "- 뉴욕 센트럴 파크에 살고 있는 다람쥐 데이터를 이용해서 데이터 분석 "
   ]
  },
  {
   "cell_type": "markdown",
   "id": "0aa4b82c",
   "metadata": {},
   "source": [
    "#### 과제 \n",
    "1. 얼마나 많은 회색 다람쥐가 있는가?\n",
    "2. 얼마나 많은 시나몬색 다람쥐가 있는가?\n",
    "3. 얼마나 많은 검정색 다람쥐가 있는가?\n",
    "4. 새로운 데이터 프레임을 만들고, 최종 csv 파일을 만들기"
   ]
  },
  {
   "cell_type": "code",
   "execution_count": 67,
   "id": "ced33433",
   "metadata": {},
   "outputs": [],
   "source": [
    "# 데이터 불러오기 \n",
    "import pandas as pd \n",
    "\n",
    "data = pd.read_csv('data/2018_Central_Park_Squirrel_Census_-_Squirrel_Data.csv')\n",
    "data.head(5)\n",
    "\n",
    "# 다람쥐 색상 컬럼에서 색상별로 데이터 확인\n",
    "data['Primary Fur Color'].value_counts()\n",
    "\n",
    "# 확인된 데이터를 데이터 프레임으로 만든 후 csv 파일로 저장\n",
    "color_data = {\n",
    "    \"Primary Fur Color\": [\"Gray\", \"Cinnamon\", \"Black\"],\n",
    "    \"Count\": [2473, 392, 103]\n",
    "}\n",
    "color_data = pd.DataFrame(color_data)\n",
    "color_data.to_csv('data/squirrel_count.csv')"
   ]
  },
  {
   "cell_type": "code",
   "execution_count": null,
   "id": "805631a7",
   "metadata": {},
   "outputs": [],
   "source": []
  },
  {
   "cell_type": "code",
   "execution_count": null,
   "id": "40eeda21",
   "metadata": {},
   "outputs": [],
   "source": []
  }
 ],
 "metadata": {
  "kernelspec": {
   "display_name": "Python 3 (ipykernel)",
   "language": "python",
   "name": "python3"
  },
  "language_info": {
   "codemirror_mode": {
    "name": "ipython",
    "version": 3
   },
   "file_extension": ".py",
   "mimetype": "text/x-python",
   "name": "python",
   "nbconvert_exporter": "python",
   "pygments_lexer": "ipython3",
   "version": "3.8.12"
  }
 },
 "nbformat": 4,
 "nbformat_minor": 5
}
