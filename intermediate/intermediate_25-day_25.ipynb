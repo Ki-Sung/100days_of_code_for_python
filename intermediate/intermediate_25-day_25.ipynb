{
 "cells": [
  {
   "cell_type": "markdown",
   "id": "0a2fdb35",
   "metadata": {},
   "source": [
    "## Spocle Game 만들기\n",
    "- Pandas 사용에 대해 Study \n",
    "- 마지막에 Spocle Game 만들어 보기 -> 미국 50개 주 맞추기!"
   ]
  },
  {
   "cell_type": "markdown",
   "id": "f80d9fc2",
   "metadata": {},
   "source": [
    "### 1. 파이썬에서 CSV 데이터 읽기 \n",
    "- weather_data.csv 파일을 받고, 읽기\n",
    "- 판다스를 이용해보자!"
   ]
  },
  {
   "cell_type": "markdown",
   "id": "98963c76",
   "metadata": {},
   "source": [
    "#### CSV는 Comma Separated Values의 줄임말로 콤마로 분류하는 데이터를 말함"
   ]
  },
  {
   "cell_type": "code",
   "execution_count": 2,
   "id": "a3c0c8e4",
   "metadata": {},
   "outputs": [
    {
     "name": "stdout",
     "output_type": "stream",
     "text": [
      "['day,temp,condition\\n', 'Monday,12,Sunny\\n', 'Tuesday,14,Rain\\n', 'Wednesday,15,Rain\\n', 'Thursday,14,Cloudy\\n', 'Friday,21,Sunny\\n', 'Saturday,22,Sunny\\n', 'Sunday,24,Sunny']\n"
     ]
    }
   ],
   "source": [
    "# 다운로드 받은 weather_data.csv를 받아서 파일을 열어보자! \n",
    "\n",
    "with open('./data/weather_data.csv') as weather_file:\n",
    "    weather = weather_file.readlines()\n",
    "    print(weather)"
   ]
  },
  {
   "cell_type": "code",
   "execution_count": 4,
   "id": "e4b70eaa",
   "metadata": {},
   "outputs": [
    {
     "name": "stdout",
     "output_type": "stream",
     "text": [
      "['day', 'temp', 'condition']\n",
      "['Monday', '12', 'Sunny']\n",
      "['Tuesday', '14', 'Rain']\n",
      "['Wednesday', '15', 'Rain']\n",
      "['Thursday', '14', 'Cloudy']\n",
      "['Friday', '21', 'Sunny']\n",
      "['Saturday', '22', 'Sunny']\n",
      "['Sunday', '24', 'Sunny']\n"
     ]
    }
   ],
   "source": [
    "# 또는 모듈을 사용해서도 가능 \n",
    "import csv \n",
    "\n",
    "with open('./data/weather_data.csv') as weather_file:\n",
    "    weather = csv.reader(weather_file)\n",
    "    for row in weather:\n",
    "        print(row)"
   ]
  },
  {
   "cell_type": "code",
   "execution_count": 13,
   "id": "8bb0c726",
   "metadata": {},
   "outputs": [
    {
     "name": "stdout",
     "output_type": "stream",
     "text": [
      "[12, 14, 15, 14, 21, 22, 24]\n"
     ]
    }
   ],
   "source": [
    "# 그럼 행에서 temp 데이터만 뽑아보자 - temp라는 컬럼 제외 \n",
    "import csv \n",
    "\n",
    "with open('./data/weather_data.csv') as weather_file:\n",
    "    weather = csv.reader(weather_file)\n",
    "    temperaters = []\n",
    "    for row in weather:\n",
    "        if row[1] != \"temp\":           # 첫 번째 인덱스가 컬럼의 레이블인 \"temp\"와 같지 않다면\n",
    "            temperaters.append(int(row[1]))     # 요소들을 빈 리스트에 저장\n",
    "    print(temperaters)"
   ]
  },
  {
   "cell_type": "markdown",
   "id": "587091cc",
   "metadata": {},
   "source": [
    "#### Pandas 사용하기 \n",
    "- 참고: [pandas document](https://pandas.pydata.org/docs/)"
   ]
  },
  {
   "cell_type": "code",
   "execution_count": 14,
   "id": "205f32c6",
   "metadata": {},
   "outputs": [
    {
     "data": {
      "text/html": [
       "<div>\n",
       "<style scoped>\n",
       "    .dataframe tbody tr th:only-of-type {\n",
       "        vertical-align: middle;\n",
       "    }\n",
       "\n",
       "    .dataframe tbody tr th {\n",
       "        vertical-align: top;\n",
       "    }\n",
       "\n",
       "    .dataframe thead th {\n",
       "        text-align: right;\n",
       "    }\n",
       "</style>\n",
       "<table border=\"1\" class=\"dataframe\">\n",
       "  <thead>\n",
       "    <tr style=\"text-align: right;\">\n",
       "      <th></th>\n",
       "      <th>day</th>\n",
       "      <th>temp</th>\n",
       "      <th>condition</th>\n",
       "    </tr>\n",
       "  </thead>\n",
       "  <tbody>\n",
       "    <tr>\n",
       "      <th>0</th>\n",
       "      <td>Monday</td>\n",
       "      <td>12</td>\n",
       "      <td>Sunny</td>\n",
       "    </tr>\n",
       "    <tr>\n",
       "      <th>1</th>\n",
       "      <td>Tuesday</td>\n",
       "      <td>14</td>\n",
       "      <td>Rain</td>\n",
       "    </tr>\n",
       "    <tr>\n",
       "      <th>2</th>\n",
       "      <td>Wednesday</td>\n",
       "      <td>15</td>\n",
       "      <td>Rain</td>\n",
       "    </tr>\n",
       "    <tr>\n",
       "      <th>3</th>\n",
       "      <td>Thursday</td>\n",
       "      <td>14</td>\n",
       "      <td>Cloudy</td>\n",
       "    </tr>\n",
       "    <tr>\n",
       "      <th>4</th>\n",
       "      <td>Friday</td>\n",
       "      <td>21</td>\n",
       "      <td>Sunny</td>\n",
       "    </tr>\n",
       "    <tr>\n",
       "      <th>5</th>\n",
       "      <td>Saturday</td>\n",
       "      <td>22</td>\n",
       "      <td>Sunny</td>\n",
       "    </tr>\n",
       "    <tr>\n",
       "      <th>6</th>\n",
       "      <td>Sunday</td>\n",
       "      <td>24</td>\n",
       "      <td>Sunny</td>\n",
       "    </tr>\n",
       "  </tbody>\n",
       "</table>\n",
       "</div>"
      ],
      "text/plain": [
       "         day  temp condition\n",
       "0     Monday    12     Sunny\n",
       "1    Tuesday    14      Rain\n",
       "2  Wednesday    15      Rain\n",
       "3   Thursday    14    Cloudy\n",
       "4     Friday    21     Sunny\n",
       "5   Saturday    22     Sunny\n",
       "6     Sunday    24     Sunny"
      ]
     },
     "execution_count": 14,
     "metadata": {},
     "output_type": "execute_result"
    }
   ],
   "source": [
    "import pandas as pd  # 모듈 선언\n",
    "\n",
    "# 판다스 모듈 선언 후 사용하기 \n",
    "data = pd.read_csv('./data/weather_data.csv')   # 판다스로 데이터 불러오기 \n",
    "data"
   ]
  },
  {
   "cell_type": "code",
   "execution_count": 15,
   "id": "130be3fd",
   "metadata": {},
   "outputs": [
    {
     "data": {
      "text/plain": [
       "0    12\n",
       "1    14\n",
       "2    15\n",
       "3    14\n",
       "4    21\n",
       "5    22\n",
       "6    24\n",
       "Name: temp, dtype: int64"
      ]
     },
     "execution_count": 15,
     "metadata": {},
     "output_type": "execute_result"
    }
   ],
   "source": [
    "# 만약 temp 데이터만 뽑고자 한다면?\n",
    "data[\"temp\"]"
   ]
  },
  {
   "cell_type": "code",
   "execution_count": null,
   "id": "36f5e1b8",
   "metadata": {},
   "outputs": [],
   "source": []
  }
 ],
 "metadata": {
  "kernelspec": {
   "display_name": "Python 3 (ipykernel)",
   "language": "python",
   "name": "python3"
  },
  "language_info": {
   "codemirror_mode": {
    "name": "ipython",
    "version": 3
   },
   "file_extension": ".py",
   "mimetype": "text/x-python",
   "name": "python",
   "nbconvert_exporter": "python",
   "pygments_lexer": "ipython3",
   "version": "3.8.12"
  }
 },
 "nbformat": 4,
 "nbformat_minor": 5
}
