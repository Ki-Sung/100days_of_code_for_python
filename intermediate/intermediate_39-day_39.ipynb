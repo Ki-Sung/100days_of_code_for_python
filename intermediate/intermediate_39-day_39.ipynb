{
 "cells": [
  {
   "cell_type": "markdown",
   "id": "c08007f9",
   "metadata": {},
   "source": [
    "## 캡스톤 프로젝트 Part 1 - 항공권 특가 검색기 만들기 \n",
    "- 이번 파트에서는 해당 프로그램을 만들어 우리만을 위한 저렴한 항공권 찾아보기 \n",
    "- 과정은 다음과 같음 \n",
    "    1. 구글 스프레드시트에 가고 싶은 장소들과 가격 상한선(저렴한 가격)을 입력 \n",
    "    2. 입력한 데이터를 바탕으로 항공권 검색 API를 이용하여 향후 6개월간 가장 저렴한 항공권을 찾는다 \n",
    "    3. 만약 우리가 미리 정해놓은 가겨보다 낮은 항공권이 나오면, 날짜와 가격을 Twilio SMS 모듈 혹은 SMTP 모듈을 사용하여 SMS 혹은 mail로 전달하기 "
   ]
  },
  {
   "cell_type": "markdown",
   "id": "6d57ad13",
   "metadata": {},
   "source": [
    "### 1. 1단계 - 구현 방향 선택 후 프로젝트 시작 "
   ]
  },
  {
   "cell_type": "markdown",
   "id": "8b089505",
   "metadata": {},
   "source": [
    "#### 각 파일 내용 확인 "
   ]
  },
  {
   "cell_type": "code",
   "execution_count": null,
   "id": "3348103f",
   "metadata": {},
   "outputs": [],
   "source": [
    "# data_manager.py\n",
    "class DataManager:\n",
    "    #This class is responsible for talking to the Google Sheet.\n",
    "    pass"
   ]
  },
  {
   "cell_type": "code",
   "execution_count": null,
   "id": "00b2c33d",
   "metadata": {},
   "outputs": [],
   "source": [
    "# flight_data.py \n",
    "class FlightData:\n",
    "    #This class is responsible for structuring the flight data.\n",
    "    pass"
   ]
  },
  {
   "cell_type": "code",
   "execution_count": null,
   "id": "1fb637b6",
   "metadata": {},
   "outputs": [],
   "source": [
    "# flight_search.py \n",
    "class FlightSearch:\n",
    "    #This class is responsible for talking to the Flight Search API.\n",
    "    pass"
   ]
  },
  {
   "cell_type": "code",
   "execution_count": null,
   "id": "7fe1fdd6",
   "metadata": {},
   "outputs": [],
   "source": [
    "# main.py\n",
    "# 여기는 프로그램 요구 사항을 충족시키기 위해 DataManager, FlightData, FlightSearch, NotificationManager 클래스를 사용해야함"
   ]
  },
  {
   "cell_type": "code",
   "execution_count": null,
   "id": "a393038c",
   "metadata": {},
   "outputs": [],
   "source": [
    "# notification_manager.py\n",
    "class NotificationManager:\n",
    "    #This class is responsible for sending notifications with the deal flight details.\n",
    "    pass"
   ]
  },
  {
   "cell_type": "markdown",
   "id": "a078163b",
   "metadata": {},
   "source": [
    "#### 구글 시트 사본 만들기 \n",
    "- [구글 시트 예제](https://docs.google.com/spreadsheets/d/1YMK-kYDYwuiGZoawQy7zyDjEIU9u8oggCV4H2M9j7os/edit?usp=sharing)로 들어가서 사본 만들기 "
   ]
  },
  {
   "cell_type": "markdown",
   "id": "6b77f156",
   "metadata": {},
   "source": [
    "#### 필요한 API 목록\n",
    "- 구글 시트 데이터 관려 - https://sheety.co/\n",
    "- 키위닷컴 파트너 포탈 항공권 검색 API(무료가입 가능, 신용카드 정보 필요) - https://partners.kiwi.com/\n",
    "- 키위닷컴 테킬라 항공권 검색 API 문서 - https://tequila.kiwi.com/portal/docs/tequila_api\n",
    "- 트윌리오 API -  https://www.twilio.com/docs/sms\n",
    "    - 트윌리오는 크레딧 제한이 있으므로 메일링으로 변경"
   ]
  },
  {
   "cell_type": "markdown",
   "id": "c5da3dc0",
   "metadata": {},
   "source": [
    "#### 프로그램 요구사항 \n",
    "- 항공권 검색 API와 Sheety API를 사용하여, 도시별 (국제항공운송협회(IATA)[https://en.wikipedia.org/wiki/IATA_airport_code#Cities_with_multiple_airports] 코드를 구글 시트 사본에 붙이기. 시트에 있는 대부분의 도시에는 공항이 여러개가 있으므로 도시 코드를 참고 \n",
    "- 항공권 검색 API를 사용하여 구글 시트에 있는 모든 도시에 대해 6개월간 가장 저렴한 항공권을 확인 \n",
    "- 가격이 구글 시트에 있는 최저가보다 저렴하다면, 트윌리오 API를 사용하여 본인 전화번호로 SMS 보내기 (혹은 SMTP를 사용하여 Mail 보내기)\n",
    "- SMS에는 출발 공항 IATA 코드, 도착공항 IATA 코드, 출발 도시, 도착 도시, 항공권 가격, 비행 날짜가 있어야 함."
   ]
  },
  {
   "cell_type": "code",
   "execution_count": null,
   "id": "d9a79896",
   "metadata": {},
   "outputs": [],
   "source": []
  }
 ],
 "metadata": {
  "kernelspec": {
   "display_name": "Python 3 (ipykernel)",
   "language": "python",
   "name": "python3"
  },
  "language_info": {
   "codemirror_mode": {
    "name": "ipython",
    "version": 3
   },
   "file_extension": ".py",
   "mimetype": "text/x-python",
   "name": "python",
   "nbconvert_exporter": "python",
   "pygments_lexer": "ipython3",
   "version": "3.8.12"
  }
 },
 "nbformat": 4,
 "nbformat_minor": 5
}
