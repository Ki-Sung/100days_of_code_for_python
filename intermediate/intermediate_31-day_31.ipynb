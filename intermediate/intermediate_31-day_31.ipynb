{
 "cells": [
  {
   "cell_type": "markdown",
   "id": "9b3d9f92",
   "metadata": {},
   "source": [
    "## 캡스톤 프로젝트 - 플래시 카드 앱 만들기 \n",
    "- 목표: 어떤 언어에서든 가장 빈번하게 사용되는 단어들을 배울수 있는 프로그램 만들기 \n",
    "    - 카드의 앞면과 뒷면을 보여준다. -> 예) 앞면에 their라는 영어단어가 있다면, 체크표시를 하면 demande라는 프랑스어 단어가 있음. \n",
    "    - 3초 후에 카드가 뒤집히고 정답을 알고 있는지 체크할 수 있음. 만약 나온 해당 단어의 뜻이 맞다면, 체크 표시를 틀렸다면 X 표시를 클릭 \n",
    "    - 그리고 단어를 몰라서 X표시를 누르면 카드 팩은 뒤로 가고 어느 시점에서 다시 나오게 함. \n",
    "- 사전작업: 카드 앞면에는 공부하고자하는 단어를, 뒷 면에는 해당 단어가 무슨뜻인지 영어로 답을 표시 (여기서 프로그램을 만드는 사람이 한국인(나)이기에 앞면을 영어, 뒷면을 한국어로 하기로하자)\n",
    "    - 자료들 \n",
    "        - 위키피디아 빈도수 단어 리스트: [Wiktionary_Frequenct List]()\n",
    "        - 빈도수 단어 Repo: [Frequency Words](https://github.com/hermitdave/FrequencyWords/tree/master/content/2018)\n",
    "        - Googlesheet에 GoogleTranlate 사용법: [Google Translate](https://support.google.com/docs/answer/3093331?hl=en-GB)\n",
    "        - Google 언어 코드 - [Google Language Support](https://cloud.google.com/translate/docs/languages?hl=en)\n",
    "        - 영화, 드라마 자막사이트: [Open Subtitle](https://www.opensubtitles.org/en/search/subs)"
   ]
  },
  {
   "cell_type": "code",
   "execution_count": null,
   "id": "661abeea",
   "metadata": {},
   "outputs": [],
   "source": []
  }
 ],
 "metadata": {
  "kernelspec": {
   "display_name": "Python 3 (ipykernel)",
   "language": "python",
   "name": "python3"
  },
  "language_info": {
   "codemirror_mode": {
    "name": "ipython",
    "version": 3
   },
   "file_extension": ".py",
   "mimetype": "text/x-python",
   "name": "python",
   "nbconvert_exporter": "python",
   "pygments_lexer": "ipython3",
   "version": "3.8.12"
  }
 },
 "nbformat": 4,
 "nbformat_minor": 5
}
