{
 "cells": [
  {
   "cell_type": "markdown",
   "id": "f0c51a4b",
   "metadata": {},
   "source": [
    "## 인스타그램 팔로워 봇 만들기 "
   ]
  },
  {
   "cell_type": "markdown",
   "id": "04c512ce",
   "metadata": {},
   "source": [
    "### 1단계 - 인스타그램 계정 만들기 \n",
    "- 이 프로젝트를 완료하려면 인스타 계정이 필요하다. 기존에 사용하던 계정을 사용해도 되고, 새 계정을 만들어도 된다.\n",
    "1. 인스타 계정을 만들기\n",
    "    - https://www.instagram.com/\n",
    "2. 어떤 계정을 프로젝트에 사용할지 고르기 (팔로워 수가 많은 계정이 좋음.)\n",
    "3. 아래와 같은 상수가 필요함.\n",
    "    - CHROME_DRIVER_PATH = \"Own Path\"\n",
    "    - SIMILAR_ACCOUNT = \"chefsteps\"\n",
    "    - USERNAME = \"Own Username\"\n",
    "    - PASSWORD = \"Own Password\""
   ]
  },
  {
   "cell_type": "markdown",
   "id": "8fc2e056",
   "metadata": {},
   "source": [
    "### 2단계 - 클래스 생성하기\n",
    "여러 단계를 거쳐 셀레니움 봇을 만들기 때문에 클래스를 사용하여 코드를 정리하는 것이 좋다.\n",
    "1. InstaFollower 클래스를 생성하기.\n",
    "2. init() 메소드 안에 셀레니움 driver를 만들기.\n",
    "3. 아래 메소드 3개를 만들기. \n",
    "    - login() \n",
    "    - find_followers()\n",
    "    - follow()\n",
    "4. 클래스 외부에서 객체를 초기화하고 세 개의 메소드를 순서대로 호출하기"
   ]
  },
  {
   "cell_type": "code",
   "execution_count": 1,
   "id": "b0d15316",
   "metadata": {},
   "outputs": [],
   "source": [
    "# 필요 모듈 볼러오기 \n",
    "import time\n",
    "from fake_useragent import UserAgent\n",
    "\n",
    "import undetected_chromedriver as uc \n",
    "from selenium.webdriver.common.by import By\n",
    "from selenium.webdriver.common.keys import Keys\n",
    "\n",
    "# 상수 설정 \n",
    "SIMILAR_ACCOUNT = \"chefsteps\"\n",
    "USERNAME = \"Own Username\"\n",
    "PASSWORD = \"Own Password\""
   ]
  },
  {
   "cell_type": "code",
   "execution_count": 2,
   "id": "c6d30361",
   "metadata": {},
   "outputs": [],
   "source": [
    "# 클래스 선언\n",
    "class InstaFollower:\n",
    "    def __init__(self):\n",
    "        # fake user 사용 \n",
    "        us = UserAgent(verify_ssl=False)\n",
    "        userAgent = us.random\n",
    "        print(userAgent)\n",
    "\n",
    "        # 크롬드라이버 옵션 선언\n",
    "        options = uc.ChromeOptions()\n",
    "\n",
    "        # 크롬드라이버 headless 옵션 \n",
    "        # options.headless=True\n",
    "        # options.add_argument('--headless')   \n",
    "        options.add_argument(\"--no-sandbox\")  \n",
    "\n",
    "        options.add_argument(f'user-agent={userAgent}')  # fake user 설정 \n",
    "        options.add_argument(\"--load-images=yes\")        # 이미지 로드 설정 \n",
    "        options.add_argument(\"--disable-notifications\")  # 비활성화 - 경고 팝업 \n",
    "        options.add_argument(\"--disable-extensions\")     # 비활성화 - 어떤 것을 비활성화 하는지 잘 모르겠음 \n",
    "        options.add_experimental_option(\"prefs\", {\n",
    "                \"profile.default_content_setting_values.geolocation\": 1  # 내위치 확인 허용 제어, 값이 1이면 허용, 2이면 차단\n",
    "            })\n",
    "        options.add_argument(\"--disable-gpu\")            # gpu 가속 사용 제외\n",
    "        options.add_argument(\"--lang=ja-JP\")             # 가짜 플러그인 탑재 - 일본어 설정 \n",
    "        driver = uc.Chrome(options=options)              # 설정된 크롬드라이버 선언\n",
    "    \n",
    "    # 로그인 제어 메소드 \n",
    "    def login(self):\n",
    "        pass\n",
    "    \n",
    "    # 팔로워 찾기 제어 메소드 \n",
    "    def find_followers(self):\n",
    "        pass\n",
    "    \n",
    "    # 팔로잉 제어 메소드\n",
    "    def follow(self):\n",
    "        pass"
   ]
  },
  {
   "cell_type": "code",
   "execution_count": null,
   "id": "4efdc71f",
   "metadata": {},
   "outputs": [],
   "source": [
    "# 지정한 클래스 및 메소드 호출하기 \n",
    "insta_bot = InstaFollower()\n",
    "insta_bot.login()\n",
    "insta_bot.find_followers()\n",
    "insta_bot.follow()"
   ]
  }
 ],
 "metadata": {
  "kernelspec": {
   "display_name": "Python 3 (ipykernel)",
   "language": "python",
   "name": "python3"
  },
  "language_info": {
   "codemirror_mode": {
    "name": "ipython",
    "version": 3
   },
   "file_extension": ".py",
   "mimetype": "text/x-python",
   "name": "python",
   "nbconvert_exporter": "python",
   "pygments_lexer": "ipython3",
   "version": "3.8.12"
  }
 },
 "nbformat": 4,
 "nbformat_minor": 5
}
