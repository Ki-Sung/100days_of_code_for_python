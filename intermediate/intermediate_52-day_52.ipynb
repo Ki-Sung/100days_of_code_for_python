{
 "cells": [
  {
   "cell_type": "markdown",
   "id": "88492351",
   "metadata": {},
   "source": [
    "## 인스타그램 팔로워 봇 만들기 "
   ]
  },
  {
   "cell_type": "markdown",
   "id": "0e2a2eda",
   "metadata": {},
   "source": [
    "### 1단계 - 인스타그램 계정 만들기 \n",
    "- 이 프로젝트를 완료하려면 인스타 계정이 필요하다. 기존에 사용하던 계정을 사용해도 되고, 새 계정을 만들어도 된다.\n",
    "1. 인스타 계정을 만들기\n",
    "    - https://www.instagram.com/\n",
    "2. 어떤 계정을 프로젝트에 사용할지 고르기 (팔로워 수가 많은 계정이 좋음.)\n",
    "3. 아래와 같은 상수가 필요함.\n",
    "    - CHROME_DRIVER_PATH = \"Own Path\"\n",
    "    - SIMILAR_ACCOUNT = \"chefsteps\"\n",
    "    - USERNAME = \"Own Username\"\n",
    "    - PASSWORD = \"Own Password\""
   ]
  },
  {
   "cell_type": "code",
   "execution_count": null,
   "id": "2b791020",
   "metadata": {},
   "outputs": [],
   "source": []
  }
 ],
 "metadata": {
  "kernelspec": {
   "display_name": "Python 3 (ipykernel)",
   "language": "python",
   "name": "python3"
  },
  "language_info": {
   "codemirror_mode": {
    "name": "ipython",
    "version": 3
   },
   "file_extension": ".py",
   "mimetype": "text/x-python",
   "name": "python",
   "nbconvert_exporter": "python",
   "pygments_lexer": "ipython3",
   "version": "3.8.12"
  }
 },
 "nbformat": 4,
 "nbformat_minor": 5
}
