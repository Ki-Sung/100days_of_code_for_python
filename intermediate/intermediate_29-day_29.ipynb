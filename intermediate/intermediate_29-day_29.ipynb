{
 "cells": [
  {
   "cell_type": "markdown",
   "id": "6eff2592",
   "metadata": {},
   "source": [
    "## 패스워드 매니저 만들기 \n",
    "- 패스워드 매니저로 패스워드를 저장하고 생성하는 것을 목적으로 함. \n",
    "- 웹사이트 명을 입력하고, 유저네임(ID)를 입력함. \n",
    "- Password 직접 입력하거나, Generate Password 버튼을 클릭해서 Password를 입력하게 한다.\n",
    "- 입력후 Add 버튼을 클릭하게 되면, Text파일에 저장되게 된다. \n",
    "- 해당 애플리케이션은 로컬 환경에서 구축이 되므로 안전하게 사용할 수 있는 장점이 있다. "
   ]
  },
  {
   "cell_type": "markdown",
   "id": "cf8178ac",
   "metadata": {},
   "source": [
    "### 1. 이미지를 다루고 캔버스 설정하기 "
   ]
  },
  {
   "cell_type": "code",
   "execution_count": null,
   "id": "d128864a",
   "metadata": {},
   "outputs": [],
   "source": [
    "# 모듈 불러오기 \n",
    "from tkinter import * \n",
    "\n",
    "# ---------------------------- PASSWORD GENERATOR ------------------------------- #\n",
    "\n",
    "# ---------------------------- SAVE PASSWORD ------------------------------- #\n",
    "\n",
    "# ---------------------------- UI SETUP ------------------------------- #\n",
    "# 기본 설정 \n",
    "window = Tk()                                     # tkinter 객체 선언 \n",
    "window.title(\"Password Manager\")                  # tkinter title 지정\n",
    "window.config(padx=20, pady=20)                   # pad(간격) 및 배경색 설정\n",
    "\n",
    "# canvas 사용 \n",
    "canvas = Canvas(width=200, height=200)            # canvas 객체 선언 - 선언시 크기 설정 \n",
    "lock_img = PhotoImage(file=\"./img/logo.png\")      # 이미지 불러오기 \n",
    "canvas.create_image(100, 100, image=lock_img)     # 이미지 생성 \n",
    "canvas.pack()                                     # canvas 명시 \n",
    "\n",
    "\n",
    "# 닫기 버튼을 누르기 전까지 계속 구동\n",
    "window.mainloop()"
   ]
  },
  {
   "cell_type": "code",
   "execution_count": null,
   "id": "b8fdfac6",
   "metadata": {},
   "outputs": [],
   "source": []
  },
  {
   "cell_type": "code",
   "execution_count": null,
   "id": "27555e03",
   "metadata": {},
   "outputs": [],
   "source": []
  },
  {
   "cell_type": "code",
   "execution_count": null,
   "id": "a364c3df",
   "metadata": {},
   "outputs": [],
   "source": []
  }
 ],
 "metadata": {
  "kernelspec": {
   "display_name": "Python 3 (ipykernel)",
   "language": "python",
   "name": "python3"
  },
  "language_info": {
   "codemirror_mode": {
    "name": "ipython",
    "version": 3
   },
   "file_extension": ".py",
   "mimetype": "text/x-python",
   "name": "python",
   "nbconvert_exporter": "python",
   "pygments_lexer": "ipython3",
   "version": "3.8.12"
  }
 },
 "nbformat": 4,
 "nbformat_minor": 5
}
