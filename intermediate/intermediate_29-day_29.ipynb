{
 "cells": [
  {
   "cell_type": "markdown",
   "id": "d1b82f01",
   "metadata": {},
   "source": [
    "## Password Manager 만들기 \n",
    "- 로컬환경에서 기억하기 어려운 Password 생성기 만들기(로컬환경에서 구동하는 것이라 안전함.)\n",
    "- 가입할 사이트명 기입하기 \n",
    "- Username(ID) 기입하기\n",
    "- Password 입력하기, 만약 지정한 Password가 없을 시 \"Password Generator\" 버튼 누르기 \n",
    "- 모든 설정 완료되었으면 \"Add\" 버튼 누르기 (누름과 동시에 Text 파일로 저장) "
   ]
  },
  {
   "cell_type": "markdown",
   "id": "a4a1cd73",
   "metadata": {},
   "source": [
    "### 1. 이미지를 다루고 캔버스 설정하기 "
   ]
  },
  {
   "cell_type": "code",
   "execution_count": null,
   "id": "9364f249",
   "metadata": {},
   "outputs": [],
   "source": [
    "# 모듈 불러오기 \n",
    "from tkinter import * \n",
    "\n",
    "# ---------------------------- PASSWORD GENERATOR ------------------------------- #\n",
    "\n",
    "# ---------------------------- SAVE PASSWORD ------------------------------- #\n",
    "\n",
    "# ---------------------------- UI SETUP ------------------------------- #\n",
    "# 기본 설정 \n",
    "window = Tk()                                     # tkinter 객체 선언 \n",
    "window.title(\"Password Manager\")                  # tkinter title 지정\n",
    "window.config(padx=20, pady=20)                   # pad(간격) 및 배경색 설정\n",
    "\n",
    "# canvas 사용 \n",
    "canvas = Canvas(width=200, height=200)            # canvas 객체 선언 - 선언시 크기 설정 \n",
    "lock_img = PhotoImage(file=\"./img/logo.png\")      # 이미지 불러오기 \n",
    "canvas.create_image(100, 100, image=lock_img)     # 이미지 생성 \n",
    "canvas.pack()                                     # canvas 명시 \n",
    "\n",
    "\n",
    "# 닫기 버튼을 누르기 전까지 계속 구동\n",
    "window.mainloop()"
   ]
  },
  {
   "cell_type": "code",
   "execution_count": null,
   "id": "bebd2664",
   "metadata": {},
   "outputs": [],
   "source": []
  }
 ],
 "metadata": {
  "kernelspec": {
   "display_name": "Python 3 (ipykernel)",
   "language": "python",
   "name": "python3"
  },
  "language_info": {
   "codemirror_mode": {
    "name": "ipython",
    "version": 3
   },
   "file_extension": ".py",
   "mimetype": "text/x-python",
   "name": "python",
   "nbconvert_exporter": "python",
   "pygments_lexer": "ipython3",
   "version": "3.8.12"
  }
 },
 "nbformat": 4,
 "nbformat_minor": 5
}
