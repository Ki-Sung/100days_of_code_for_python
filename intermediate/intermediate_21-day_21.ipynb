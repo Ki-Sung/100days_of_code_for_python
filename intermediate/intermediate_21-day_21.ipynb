{
 "cells": [
  {
   "cell_type": "markdown",
   "id": "94b8ad8d",
   "metadata": {},
   "source": [
    "### 클래스 상속(Inheritance) \n",
    "- 기존 클래스에서 행동과 외형(여기서는 클래스내에 있는 메소드 나 속성들)을 상속받는 과정\n",
    "    - 예를들어 가족에 외형적인 특징을 물려 받거나, 행동을 물려받는 것과 동일하다."
   ]
  },
  {
   "cell_type": "code",
   "execution_count": null,
   "id": "9506d8bd",
   "metadata": {},
   "outputs": [],
   "source": [
    "# 예시 \n",
    "class Fish:\n",
    "    def __init__(self):"
   ]
  },
  {
   "cell_type": "markdown",
   "id": "b9bf3139",
   "metadata": {},
   "source": [
    "- 예를들어 Fish라는 클래스를 정의한다고 가정하자, 클래스에는 초기 메소드가 있다. \n",
    "- 여기서 Fish 클래스가 다른 클래스를 상속 받으려면 아래 예제와 같이 클래스 이름 옆에 괄호를 치고, 상속받고자 하는 클래스를 적어준다.(여기서는 상속받을 클래스가 Animal 이다.)\n",
    "- 그리고 상속받고자 하는 클래스에 있는 모든 것, 그러니까 속성과 메소드를 가져오기 위해서는 init 메소드 안에 \"super().__init__()\"을 추가해준다. (여기서 super는 상위 클래스를 나타낸다.)\n",
    "    - 상위 클래스(Animal)가 Fish 클래스에서 할 수 있는 것을 전부 초기화 한다."
   ]
  },
  {
   "cell_type": "code",
   "execution_count": null,
   "id": "5b87b8f6",
   "metadata": {},
   "outputs": [],
   "source": [
    "# 상속 \n",
    "class Fish(Animal):\n",
    "    def __init__(self):\n",
    "        super().__init__()"
   ]
  },
  {
   "cell_type": "code",
   "execution_count": 4,
   "id": "c446b1c0",
   "metadata": {},
   "outputs": [],
   "source": [
    "# 응용 1\n",
    "# Aniaml 클래스 선언 - 상위 클래스\n",
    "class Animal:\n",
    "    def __init__(self):\n",
    "        self.num_eyes = 2\n",
    "        \n",
    "    def breathe(self):\n",
    "        print(\"Inhale, exhale.\")"
   ]
  },
  {
   "cell_type": "code",
   "execution_count": 2,
   "id": "cab6102d",
   "metadata": {},
   "outputs": [],
   "source": [
    "# 응용 1\n",
    "# Fish 클래스 선언 - 서브 클래스\n",
    "class Fish:\n",
    "    def swim(self):\n",
    "        print(\"moving in water.\")"
   ]
  },
  {
   "cell_type": "code",
   "execution_count": 3,
   "id": "43435f85",
   "metadata": {},
   "outputs": [
    {
     "name": "stdout",
     "output_type": "stream",
     "text": [
      "moving in water.\n"
     ]
    }
   ],
   "source": [
    "# 객체 선언 및 사용 \n",
    "nemo = Fish()\n",
    "nemo.swim()"
   ]
  },
  {
   "cell_type": "code",
   "execution_count": 5,
   "id": "6af797e9",
   "metadata": {},
   "outputs": [],
   "source": [
    "# 응용 2\n",
    "# Animal 클래스가 할 수 있는 모든 것을 Fish 클래스가 상속 받으려면? \n",
    "# 여기서 Animal 클래스에 있는 눈의 개수 라는 속성과 breath 메소드를 모두 받아야한다.\n",
    "class Fish(Animal):\n",
    "    def __init__(self):\n",
    "        super().__init__()\n",
    "    \n",
    "    def swim(self):\n",
    "        print(\"moving in water.\")"
   ]
  },
  {
   "cell_type": "markdown",
   "id": "b327f14d",
   "metadata": {},
   "source": [
    "- 상위 클래스를 상속받을 때 Fish()의 괄호안에 상속받을 상위 클래스를 넣어주고, init 메소드 안에 super init을 넣어주면 Animal에 있는 눈 두개의 속성과 숨쉬기의 메소드를 상속받는다."
   ]
  },
  {
   "cell_type": "code",
   "execution_count": 7,
   "id": "89ffe465",
   "metadata": {},
   "outputs": [
    {
     "name": "stdout",
     "output_type": "stream",
     "text": [
      "moving in water.\n",
      "Inhale, exhale.\n",
      "2\n"
     ]
    }
   ],
   "source": [
    "# 상속받은 Fish 객체 선언 및 사용 \n",
    "nemo = Fish()\n",
    "nemo.swim()\n",
    "nemo.breathe()\n",
    "print(nemo.num_eyes)"
   ]
  },
  {
   "cell_type": "code",
   "execution_count": 8,
   "id": "8359696d",
   "metadata": {},
   "outputs": [],
   "source": [
    "# 응용 3 \n",
    "# 메소드를 수정하고자 할 때 어떻게 할까? \n",
    "# 예를들어 breath의 기능을 수정하고 싶다고 가정한다.\n",
    "\n",
    "# 상위 클래스 \n",
    "class Animal:\n",
    "    def __init__(self):\n",
    "        self.num_eyes = 2\n",
    "        \n",
    "    def breathe(self):\n",
    "        print(\"Inhale, exhale.\")\n",
    "\n",
    "# 상속 받을 클래스 - 서브 클래스\n",
    "class Fish(Animal):\n",
    "    def __init__(self):\n",
    "        super().__init__()\n",
    "    \n",
    "    # 먼저 breath 메소드 선언\n",
    "    def breathe(self):\n",
    "        super().breathe()               # 상위 클래스에 있는 breath 메소드가 동작하는 것은 모두 동작함\n",
    "        print(\"Doing this underwater\")  # 새로운 기능 추가\n",
    "    \n",
    "    def swim(self):\n",
    "        print(\"moving in water.\")"
   ]
  },
  {
   "cell_type": "code",
   "execution_count": 9,
   "id": "fb183a08",
   "metadata": {},
   "outputs": [
    {
     "name": "stdout",
     "output_type": "stream",
     "text": [
      "moving in water.\n",
      "Inhale, exhale.\n",
      "Doing this underwater\n",
      "2\n"
     ]
    }
   ],
   "source": [
    "# 상속받은 Fish 객체 선언 및 사용 \n",
    "nemo = Fish()\n",
    "nemo.swim()\n",
    "nemo.breathe()        # 여기에 상위 클래스의 메소드와 상속받은 클래스내 새로운 기능 모두 출력함.\n",
    "print(nemo.num_eyes)"
   ]
  },
  {
   "cell_type": "markdown",
   "id": "14ed7b1a",
   "metadata": {},
   "source": [
    "- 중요한 점은 우리가 만들었거나, 다른 사람이 만든 클래스를 가져와서, 필요한 곳에 추가가 가능하다. 이러면 기존 클래스에 있는 것을 재정의하느라 시간낭비할 필요가 없어진다.\n",
    "- 그리고 추가적으로 상속에서 super()를 호출하는 것은 추천하지만, 필수는 아니다. 즉 생략 가능"
   ]
  },
  {
   "cell_type": "markdown",
   "id": "713b8bb9",
   "metadata": {},
   "source": [
    "### 4. Snake 먹이 설정 - 상속을 이용해서 \n",
    "- 뱀이 먹이를 먹을 때마다 임의의 위치에 먹이가 새로 생성 \n",
    "- 먹이는 파란색이다. "
   ]
  },
  {
   "cell_type": "markdown",
   "id": "800593ef",
   "metadata": {},
   "source": [
    "#### 4-1. 상속을 이용해서 랜덤하게 snake 먹이 생성 "
   ]
  },
  {
   "cell_type": "code",
   "execution_count": null,
   "id": "e6d43a83",
   "metadata": {},
   "outputs": [],
   "source": [
    "# snake_game_option/food.py \n",
    "import random\n",
    "from turtle import Turtle\n",
    "\n",
    "# Food 클래스 선언 -Turtle 클래스를 상속 받음 \n",
    "class Food(Turtle):\n",
    "    # 초기화 메소드 \n",
    "    def __init__(self):\n",
    "        super().__init__() \n",
    "        self.shape('circle')           # turtle 모양 설정\n",
    "        self.penup()                   # 선 나오지 않게 설정 \n",
    "        self.shapesize(stretch_len=0.5, stretch_wid=0.5)   # turtle 크기 설정\n",
    "        self.color(\"blue\")             # turtle 색상 설정\n",
    "        self.speed('fastest')          # turtle 속도 설정\n",
    "        random_x = random.randint(-280, 280)  # turtle 위치 X축 - 랜덤으로 \n",
    "        random_y = random.randint(-280, 280)  # turtle 위치 Y축 - 랜덤으로 \n",
    "        self.goto(random_x, random_y)         # 지정한 x, y 축 기준 표시 "
   ]
  },
  {
   "cell_type": "code",
   "execution_count": null,
   "id": "53ca652d",
   "metadata": {},
   "outputs": [],
   "source": [
    "# 06_snake_gmae.py\n",
    "\n",
    "# 모듈 불러오기 \n",
    "import time\n",
    "from snake_game_options.snake import Snake  # 만든 Snake 함수 불러오기\n",
    "from snake_game_options.food import Food    # 만든 Food 클래스 불러오기 \n",
    "from turtle import Screen \n",
    "\n",
    "# Screen 설정 \n",
    "screen = Screen()  # 객체 선언 \n",
    "screen.setup(width=600,height=600)  # screen 크기 설정 (600 X 600)\n",
    "screen.bgcolor(\"black\")   # screen 백그라운컬러 설정 (블랙)\n",
    "screen.title(\"Play Snake Game\")  # 타이틀 설정 \n",
    "screen.tracer(0)       # turtle의 애니메이션을 켜거나 끄기 위한 옵션 (여기서는 끄기) - 뱀 전체가 하나처럼 보이게하기 위함.\n",
    "\n",
    "\n",
    "# 1. Snake 몸통 만들기 \n",
    "\n",
    "# snake 객체 선언 \n",
    "snake = Snake()\n",
    "food = Food()\n",
    "\n",
    "# 3. snake 움직임 컨트롤을 위한 설정 \n",
    "screen.listen()\n",
    "screen.onkey(snake.up, \"Up\")          # 움직이는 방향을 위한 메소드, 키 설정 - 여기서 키는 키보드 버튼\n",
    "screen.onkey(snake.down, \"Down\")      # 움직이는 방향을 위한 메소드, 키 설정 - 여기서 키는 키보드 버튼\n",
    "screen.onkey(snake.left, \"Left\")      # 움직이는 방향을 위한 메소드, 키 설정 - 여기서 키는 키보드 버튼\n",
    "screen.onkey(snake.right, \"Right\")    # 움직이는 방향을 위한 메소드, 키 설정 - 여기서 키는 키보드 버튼\n",
    "\n",
    "# 2. Snake 움직임 설정 \n",
    "# 동작을 계속하게 하기 위해 while 문 작성 \n",
    "game_is_on = True\n",
    "while game_is_on:\n",
    "    screen.update()    # 세그먼트(뱀)가 모두 만들어지면 화면 갱신\n",
    "    time.sleep(0.1)      # 0.1초 지연\n",
    "\n",
    "    # Snake 움직임을 위해 move 메소드 사용 \n",
    "    snake.move()\n",
    "\n",
    "\n",
    "# 창 닫힘 설정 \n",
    "screen.exitonclick()   # 커서를 누르면 종료 설정"
   ]
  },
  {
   "cell_type": "markdown",
   "id": "b09af694",
   "metadata": {},
   "source": [
    "#### 4-2. 먹이가 닿으면 이벤트가 생기기 설정 "
   ]
  },
  {
   "cell_type": "code",
   "execution_count": null,
   "id": "26e17cdd",
   "metadata": {},
   "outputs": [],
   "source": [
    "# snake_game_option/food.py \n",
    "import random\n",
    "from turtle import Turtle\n",
    "\n",
    "# Food 클래스 선언 -Turtle 클래스를 상속 받음 \n",
    "class Food(Turtle):\n",
    "    # 초기화 메소드 \n",
    "    def __init__(self):\n",
    "        super().__init__() \n",
    "        self.shape('circle')           # turtle 모양 설정\n",
    "        self.penup()                   # 선 나오지 않게 설정 \n",
    "        self.shapesize(stretch_len=0.5, stretch_wid=0.5)   # turtle 크기 설정\n",
    "        self.color(\"blue\")             # turtle 색상 설정\n",
    "        self.speed('fastest')          # turtle 속도 설정\n",
    "        self.refresh()                 # refresh 메소드 불러오기 \n",
    "        \n",
    "    def refresh(self):\n",
    "        random_x = random.randint(-280, 280)  # turtle 위치 X축 - 랜덤으로 \n",
    "        random_y = random.randint(-280, 280)  # turtle 위치 Y축 - 랜덤으로 \n",
    "        self.goto(random_x, random_y)         # 지정한 x, y 축 기준 표시 "
   ]
  },
  {
   "cell_type": "code",
   "execution_count": null,
   "id": "85d50074",
   "metadata": {},
   "outputs": [],
   "source": [
    "# 06_snake_gmae.py\n",
    "\n",
    "# 모듈 불러오기 \n",
    "import time\n",
    "from snake_game_options.snake import Snake  # 만든 Snake 클래스 불러오기\n",
    "from snake_game_options.food import Food    # 만든 Food 클래스 불러오기 \n",
    "from turtle import Screen \n",
    "\n",
    "# Screen 설정 \n",
    "screen = Screen()  # 객체 선언 \n",
    "screen.setup(width=600,height=600)  # screen 크기 설정 (600 X 600)\n",
    "screen.bgcolor(\"black\")   # screen 백그라운컬러 설정 (블랙)\n",
    "screen.title(\"Play Snake Game\")  # 타이틀 설정 \n",
    "screen.tracer(0)       # turtle의 애니메이션을 켜거나 끄기 위한 옵션 (여기서는 끄기) - 뱀 전체가 하나처럼 보이게하기 위함.\n",
    "\n",
    "\n",
    "# 1. Snake 몸통 만들기 \n",
    "\n",
    "# snake 객체 선언 \n",
    "snake = Snake()\n",
    "food = Food()\n",
    "\n",
    "# 3. snake 움직임 컨트롤을 위한 설정 \n",
    "screen.listen()\n",
    "screen.onkey(snake.up, \"Up\")          # 움직이는 방향을 위한 메소드, 키 설정 - 여기서 키는 키보드 버튼\n",
    "screen.onkey(snake.down, \"Down\")      # 움직이는 방향을 위한 메소드, 키 설정 - 여기서 키는 키보드 버튼\n",
    "screen.onkey(snake.left, \"Left\")      # 움직이는 방향을 위한 메소드, 키 설정 - 여기서 키는 키보드 버튼\n",
    "screen.onkey(snake.right, \"Right\")    # 움직이는 방향을 위한 메소드, 키 설정 - 여기서 키는 키보드 버튼\n",
    "\n",
    "# 2. Snake 움직임 설정 \n",
    "# 동작을 계속하게 하기 위해 while 문 작성 \n",
    "game_is_on = True\n",
    "while game_is_on:\n",
    "    screen.update()    # 세그먼트(뱀)가 모두 만들어지면 화면 갱신\n",
    "    time.sleep(0.1)      # 0.1초 지연\n",
    "    # Snake 움직임을 위해 move 메소드 사용 \n",
    "    snake.move()\n",
    "    \n",
    "    # snake food와 충돌 감지 (이벤트 생성)\n",
    "    if snake.head.distance(food) < 15:     # snake의 머리가 15 픽셀 이내 혹은 그보다 더 가까운 거리에 있다면\n",
    "        food.refresh()                     # food의 refresh 메소드 불러오기 \n",
    "\n",
    "# 창 닫힘 설정 \n",
    "screen.exitonclick()   # 커서를 누르면 종료 설정"
   ]
  },
  {
   "cell_type": "markdown",
   "id": "a08d208d",
   "metadata": {},
   "source": [
    "#### 4-3. 점수판 만들기 "
   ]
  },
  {
   "cell_type": "code",
   "execution_count": null,
   "id": "15e9415c",
   "metadata": {},
   "outputs": [],
   "source": [
    "# snake_game_option/scoreboard.py \n",
    "from turtle import Turtle\n",
    "\n",
    "# 상수선언 \n",
    "ALIGNMENT = 'center'\n",
    "FONT = ('Courier', 24, 'normal')\n",
    "\n",
    "\n",
    "# 스코어 제어 클래스 \n",
    "class Scoreboard(Turtle):\n",
    "    # 초기화 메소드 \n",
    "    def __init__(self):\n",
    "        super().__init__()\n",
    "        self.score = 0          # 초기 점수 \n",
    "        self.color(\"white\")     # 점수판 색상 설정 \n",
    "        self.penup()            # 선 나오지 않게 설정 \n",
    "        self.goto(0, 270)       # 지정한 위치에 점수판 위치 설정   \n",
    "        self.hideturtle()       # 점수판에 나오는 turtle 숨기기 설정 \n",
    "        self.update_scoreborad()  # update_scoreboard 메소드 불러오기 \n",
    "    \n",
    "    # 점수판 설정 메소드\n",
    "    def update_scoreborad(self):\n",
    "        self.write(\n",
    "                arg=f'Score: {self.score}',    # Turtle 화면에 문자 출력 \n",
    "                move=False,                    # 움직임 설정 \n",
    "                align=ALIGNMENT,               # 가운데 정렬 \n",
    "                font=FONT)                     # 폰트 설정\n",
    "    \n",
    "    # 점수판 점수 증가 메소드     \n",
    "    def increase_score(self):\n",
    "        self.score += 1           # 점수 1씩 증가 (만약 먹이가 닿으면)\n",
    "        self.clear()              # 점수가 겹쳐 보이기 때문에, 증가할 때마다 새로운 점수 갱신 \n",
    "        self.update_scoreborad()  # update_scoreboard 메소드 불러오기 "
   ]
  },
  {
   "cell_type": "code",
   "execution_count": null,
   "id": "5a33d945",
   "metadata": {},
   "outputs": [],
   "source": [
    "# 06_snake_gmae.py\n",
    "\n",
    "# 모듈 불러오기 \n",
    "import time\n",
    "from snake_game_options.snake import Snake  # 만든 Snake 클래스 불러오기\n",
    "from snake_game_options.food import Food    # 만든 Food 클래스 불러오기 \n",
    "from snake_game_options.scoreboard import Scoreboard    # 만든 Scoreboard 클래스 불러오기 \n",
    "from turtle import Screen \n",
    "₩\n",
    "# Screen 설정 \n",
    "screen = Screen()  # 객체 선언 \n",
    "screen.setup(width=600,height=600)  # screen 크기 설정 (600 X 600)\n",
    "screen.bgcolor(\"black\")   # screen 백그라운컬러 설정 (블랙)\n",
    "screen.title(\"Play Snake Game\")  # 타이틀 설정 \n",
    "screen.tracer(0)       # turtle의 애니메이션을 켜거나 끄기 위한 옵션 (여기서는 끄기) - 뱀 전체가 하나처럼 보이게하기 위함.\n",
    "\n",
    "\n",
    "# 1. Snake 몸통 만들기 \n",
    "\n",
    "# snake 객체 선언 \n",
    "snake = Snake()\n",
    "food = Food()\n",
    "scoreboard = Scoreboard()\n",
    "\n",
    "# 3. snake 움직임 컨트롤을 위한 설정 \n",
    "screen.listen()\n",
    "screen.onkey(snake.up, \"Up\")          # 움직이는 방향을 위한 메소드, 키 설정 - 여기서 키는 키보드 버튼\n",
    "screen.onkey(snake.down, \"Down\")      # 움직이는 방향을 위한 메소드, 키 설정 - 여기서 키는 키보드 버튼\n",
    "screen.onkey(snake.left, \"Left\")      # 움직이는 방향을 위한 메소드, 키 설정 - 여기서 키는 키보드 버튼\n",
    "screen.onkey(snake.right, \"Right\")    # 움직이는 방향을 위한 메소드, 키 설정 - 여기서 키는 키보드 버튼\n",
    "\n",
    "# 2. Snake 움직임 설정 \n",
    "# 동작을 계속하게 하기 위해 while 문 작성 \n",
    "game_is_on = True\n",
    "while game_is_on:\n",
    "    screen.update()    # 세그먼트(뱀)가 모두 만들어지면 화면 갱신\n",
    "    time.sleep(0.1)      # 0.1초 지연\n",
    "    # Snake 움직임을 위해 move 메소드 사용 \n",
    "    snake.move()\n",
    "    \n",
    "    # snake food와 충돌 감지 (이벤트 생성)\n",
    "    if snake.head.distance(food) < 15:     # snake의 머리가 15 픽셀 이내 혹은 그보다 더 가까운 거리에 있다면\n",
    "        food.refresh()                     # food의 refresh 메소드 불러오기 \n",
    "        scoreboard.increase_score()        # scoreboard의 increase_score 메소드 불러오기\n",
    "\n",
    "# 창 닫힘 설정 \n",
    "screen.exitonclick()   # 커서를 누르면 종료 설정"
   ]
  }
 ],
 "metadata": {
  "kernelspec": {
   "display_name": "Python 3 (ipykernel)",
   "language": "python",
   "name": "python3"
  },
  "language_info": {
   "codemirror_mode": {
    "name": "ipython",
    "version": 3
   },
   "file_extension": ".py",
   "mimetype": "text/x-python",
   "name": "python",
   "nbconvert_exporter": "python",
   "pygments_lexer": "ipython3",
   "version": "3.8.12"
  }
 },
 "nbformat": 4,
 "nbformat_minor": 5
}
