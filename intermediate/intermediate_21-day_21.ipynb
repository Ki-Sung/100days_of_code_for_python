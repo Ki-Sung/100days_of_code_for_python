{
 "cells": [
  {
   "cell_type": "markdown",
   "id": "9c674f17",
   "metadata": {},
   "source": [
    "### 클래스 상속(Inheritance) \n",
    "- 기존 클래스에서 행동과 외형(여기서는 클래스내에 있는 메소드 나 속성들)을 상속받는 과정\n",
    "    - 예를들어 가족에 외형적인 특징을 물려 받거나, 행동을 물려받는 것과 동일하다."
   ]
  },
  {
   "cell_type": "code",
   "execution_count": null,
   "id": "91664e9d",
   "metadata": {},
   "outputs": [],
   "source": [
    "# 예시 \n",
    "class Fish:\n",
    "    def __init__(self):"
   ]
  },
  {
   "cell_type": "markdown",
   "id": "ea4e1333",
   "metadata": {},
   "source": [
    "- 예를들어 Fish라는 클래스를 정의한다고 가정하자, 클래스에는 초기 메소드가 있다. \n",
    "- 여기서 Fish 클래스가 다른 클래스를 상속 받으려면 아래 예제와 같이 클래스 이름 옆에 괄호를 치고, 상속받고자 하는 클래스를 적어준다.(여기서는 상속받을 클래스가 Animal 이다.)\n",
    "- 그리고 상속받고자 하는 클래스에 있는 모든 것, 그러니까 속성과 메소드를 가져오기 위해서는 init 메소드 안에 \"super().__init__()\"을 추가해준다. (여기서 super는 상위 클래스를 나타낸다.)\n",
    "    - 상위 클래스(Animal)가 Fish 클래스에서 할 수 있는 것을 전부 초기화 한다."
   ]
  },
  {
   "cell_type": "code",
   "execution_count": null,
   "id": "760bf76b",
   "metadata": {},
   "outputs": [],
   "source": [
    "# 상속 \n",
    "class Fish(Animal):\n",
    "    def __init__(self):\n",
    "        super().__init__()"
   ]
  },
  {
   "cell_type": "code",
   "execution_count": 4,
   "id": "e9acae9d",
   "metadata": {},
   "outputs": [],
   "source": [
    "# 응용 1\n",
    "# Aniaml 클래스 선언 - 상위 클래스\n",
    "class Animal:\n",
    "    def __init__(self):\n",
    "        self.num_eyes = 2\n",
    "        \n",
    "    def breathe(self):\n",
    "        print(\"Inhale, exhale.\")"
   ]
  },
  {
   "cell_type": "code",
   "execution_count": 2,
   "id": "69167512",
   "metadata": {},
   "outputs": [],
   "source": [
    "# 응용 1\n",
    "# Fish 클래스 선언 - 서브 클래스\n",
    "class Fish:\n",
    "    def swim(self):\n",
    "        print(\"moving in water.\")"
   ]
  },
  {
   "cell_type": "code",
   "execution_count": 3,
   "id": "03560679",
   "metadata": {},
   "outputs": [
    {
     "name": "stdout",
     "output_type": "stream",
     "text": [
      "moving in water.\n"
     ]
    }
   ],
   "source": [
    "# 객체 선언 및 사용 \n",
    "nemo = Fish()\n",
    "nemo.swim()"
   ]
  },
  {
   "cell_type": "code",
   "execution_count": 5,
   "id": "57dd116d",
   "metadata": {},
   "outputs": [],
   "source": [
    "# 응용 2\n",
    "# Animal 클래스가 할 수 있는 모든 것을 Fish 클래스가 상속 받으려면? \n",
    "# 여기서 Animal 클래스에 있는 눈의 개수 라는 속성과 breath 메소드를 모두 받아야한다.\n",
    "class Fish(Animal):\n",
    "    def __init__(self):\n",
    "        super().__init__()\n",
    "    \n",
    "    def swim(self):\n",
    "        print(\"moving in water.\")"
   ]
  },
  {
   "cell_type": "markdown",
   "id": "13c63709",
   "metadata": {},
   "source": [
    "- 상위 클래스를 상속받을 때 Fish()의 괄호안에 상속받을 상위 클래스를 넣어주고, init 메소드 안에 super init을 넣어주면 Animal에 있는 눈 두개의 속성과 숨쉬기의 메소드를 상속받는다."
   ]
  },
  {
   "cell_type": "code",
   "execution_count": 7,
   "id": "40ccfaa1",
   "metadata": {},
   "outputs": [
    {
     "name": "stdout",
     "output_type": "stream",
     "text": [
      "moving in water.\n",
      "Inhale, exhale.\n",
      "2\n"
     ]
    }
   ],
   "source": [
    "# 상속받은 Fish 객체 선언 및 사용 \n",
    "nemo = Fish()\n",
    "nemo.swim()\n",
    "nemo.breathe()\n",
    "print(nemo.num_eyes)"
   ]
  },
  {
   "cell_type": "code",
   "execution_count": 8,
   "id": "61eabb9a",
   "metadata": {},
   "outputs": [],
   "source": [
    "# 응용 3 \n",
    "# 메소드를 수정하고자 할 때 어떻게 할까? \n",
    "# 예를들어 breath의 기능을 수정하고 싶다고 가정한다.\n",
    "\n",
    "# 상위 클래스 \n",
    "class Animal:\n",
    "    def __init__(self):\n",
    "        self.num_eyes = 2\n",
    "        \n",
    "    def breathe(self):\n",
    "        print(\"Inhale, exhale.\")\n",
    "\n",
    "# 상속 받을 클래스 - 서브 클래스\n",
    "class Fish(Animal):\n",
    "    def __init__(self):\n",
    "        super().__init__()\n",
    "    \n",
    "    # 먼저 breath 메소드 선언\n",
    "    def breathe(self):\n",
    "        super().breathe()               # 상위 클래스에 있는 breath 메소드가 동작하는 것은 모두 동작함\n",
    "        print(\"Doing this underwater\")  # 새로운 기능 추가\n",
    "    \n",
    "    def swim(self):\n",
    "        print(\"moving in water.\")"
   ]
  },
  {
   "cell_type": "code",
   "execution_count": 9,
   "id": "fd45d784",
   "metadata": {},
   "outputs": [
    {
     "name": "stdout",
     "output_type": "stream",
     "text": [
      "moving in water.\n",
      "Inhale, exhale.\n",
      "Doing this underwater\n",
      "2\n"
     ]
    }
   ],
   "source": [
    "# 상속받은 Fish 객체 선언 및 사용 \n",
    "nemo = Fish()\n",
    "nemo.swim()\n",
    "nemo.breathe()        # 여기에 상위 클래스의 메소드와 상속받은 클래스내 새로운 기능 모두 출력함.\n",
    "print(nemo.num_eyes)"
   ]
  },
  {
   "cell_type": "markdown",
   "id": "8e597ee8",
   "metadata": {},
   "source": [
    "- 중요한 점은 우리가 만들었거나, 다른 사람이 만든 클래스를 가져와서, 필요한 곳에 추가가 가능하다. 이러면 기존 클래스에 있는 것을 재정의하느라 시간낭비할 필요가 없어진다.\n",
    "- 그리고 추가적으로 상속에서 super()를 호출하는 것은 추천하지만, 필수는 아니다. 즉 생략 가능"
   ]
  },
  {
   "cell_type": "code",
   "execution_count": null,
   "id": "8452e460",
   "metadata": {},
   "outputs": [],
   "source": []
  }
 ],
 "metadata": {
  "kernelspec": {
   "display_name": "Python 3 (ipykernel)",
   "language": "python",
   "name": "python3"
  },
  "language_info": {
   "codemirror_mode": {
    "name": "ipython",
    "version": 3
   },
   "file_extension": ".py",
   "mimetype": "text/x-python",
   "name": "python",
   "nbconvert_exporter": "python",
   "pygments_lexer": "ipython3",
   "version": "3.8.12"
  }
 },
 "nbformat": 4,
 "nbformat_minor": 5
}
