{
 "cells": [
  {
   "cell_type": "markdown",
   "id": "38c2e2f1",
   "metadata": {},
   "source": [
    "## Application Programming Interface - API \n",
    "- API 기술을 배워서 ISS(국제 우주 정거장) 추적기 만들기 \n",
    "    - 현재 ISS가 하늘 어디에 있는지 추적해 볼 것이다.\n",
    "    - 그리고 ISS가 밤에 우리 머리 위에 있을 때, 우리 자신에게 메일로 전송"
   ]
  },
  {
   "cell_type": "markdown",
   "id": "b5c48d02",
   "metadata": {},
   "source": [
    "### 1. API(Application Programming Interface) 란?"
   ]
  },
  {
   "cell_type": "markdown",
   "id": "0af614ef",
   "metadata": {},
   "source": [
    "- API 설명: [위키피디아](https://en.wikipedia.org/wiki/API)\n",
    "- 여러 사이트에서 가지고 있는 데이터를 이용하고, 프로그램에 활용하려면 어떻게 할까? \n",
    "- 해결책은 바로 API(Application Programming Interface)를 활용하는 것이다. "
   ]
  },
  {
   "cell_type": "markdown",
   "id": "3ea7f668",
   "metadata": {},
   "source": [
    "- API는 일련의 명령, 함수, 프로토콜, 객체로 구성되어 있다.\n",
    "- 프로그래머는 API를 이용해서 소프트웨어를 생성하거나 외부 시스템과 상호작용할 수 있다. \n",
    "- 우리는 다양한 웹사이트와 상호작용을 하고 그런 웹사이트에서 라이브 데이터를 가져올 수 있다. \n",
    "- 본질적으로 API는 인터페이스이고, 우리의 프로그램과 외부 시스템 사이에 있는 일종의 장벽과 같다. "
   ]
  },
  {
   "cell_type": "markdown",
   "id": "7fe47c11",
   "metadata": {},
   "source": [
    "- API를 주로 이용하는 방법은 아래와 같다. \n",
    "    - 우리는 API가 규정한 규칙들을 이용해서 외부 시스템의 데이터를 요청 한다. (Request)\n",
    "    - 만약 외부 시스템이 그들의 API에 설정한 모든 요구조건에 맞춰서 우리의 요청을 구조화 했다면, 그들은 적절하게 우리에게 응답하고, 우리가 원한 데이터를 제공해준다. (Response)\n",
    "    - 만약 API 규칙을 따르지 않는다면, 요청은 무시된다. "
   ]
  },
  {
   "cell_type": "markdown",
   "id": "a923ca90",
   "metadata": {},
   "source": [
    "### 2. API 앤드포인트와 API 호출하기 "
   ]
  },
  {
   "cell_type": "markdown",
   "id": "89527f02",
   "metadata": {},
   "source": [
    "- **앤드포인트**\n",
    "    - 앤드포인트는 API에서 가장 중요한 부분 중 하나이다. \n",
    "    - API 앤드포인트는 어떤 위치라고 생각할 수 있다. 만일 우리가 특정한 외부 서비스에서 데이터를 얻으려면 그 데이터가 저장된 위치를 알고 있어야 한다. 예를들면 우리가 은행에 돈을 찾으려면 은행이 어디에 있는지, 주소가 어디인지 알아야 한다. 이것이 바로 API 앤드포인트 이다. (보통은 그냥 URL이다.) "
   ]
  },
  {
   "cell_type": "markdown",
   "id": "eea5010c",
   "metadata": {},
   "source": [
    "- API Request \n",
    "    - 앤드포인트 이외에도, 우리는 인터넷을 통해 요청해야한다. 이 API 요청은 마치 은행에 가서 돈을 인출하려는 것과 같다. "
   ]
  },
  {
   "cell_type": "markdown",
   "id": "34feae00",
   "metadata": {},
   "source": [
    "- [ISS API](http://open-notify.org/Open-Notify-API/ISS-Location-Now/)\n",
    "    - ISS API Document에서 앤드포인트는 JSON에 있는 URL를 말한다. (JSON 형태로 출력물을 리턴하게 된다.) \n",
    "    - JSON - 원래는 자바스크립트를 위해 만들어졌지만, 나중에는 인터넷을 통해 데이터를 전송하는 거의 표준에 가까운 방식이 되었다. 이유는 아주 깔끔하고, 공백이나 들여쓰기가 많이 없고, 무엇이 값인지, 무엇이 개별 키 값 인지 나타내기 때문이다. 그리고 해당 JSON은 데이터를 빠르게 전송할 수 있다. "
   ]
  },
  {
   "cell_type": "code",
   "execution_count": 1,
   "id": "55cb7a08",
   "metadata": {},
   "outputs": [],
   "source": [
    "# ISS 위치 API 요청하기  - 모듈 불러오기 \n",
    "import requests "
   ]
  },
  {
   "cell_type": "code",
   "execution_count": 3,
   "id": "6c5432c7",
   "metadata": {},
   "outputs": [
    {
     "name": "stdout",
     "output_type": "stream",
     "text": [
      "<Response [200]>\n"
     ]
    }
   ],
   "source": [
    "# ISS 위치 API 요청하기 - 앤드포인트로부터 데이터 얻기 - 만약 API 요청에 성공했다면 Response 200 출력\n",
    "response = requests.get(url=\"http://api.open-notify.org/iss-now.json\")\n",
    "print(response)"
   ]
  },
  {
   "cell_type": "markdown",
   "id": "85eadc18",
   "metadata": {},
   "source": [
    "### 3. 응답 다루기: HTTP 코드, 예외, JSON 데이터\n",
    "- 100대 응답 코드 - 작업 진행중\n",
    "- 200대 응답 코드 - 작업을 성공적으로 받음 \n",
    "- 300대 응답 코드 - 해당 작업을 받을 권한이 없어 그냥 가라는 의미(리다이렉션)\n",
    "- 400대 응답 코드 - 해당 요청이 올바르지 않음\n",
    "- 500대 응답 코드 - 서버가 응답할 수 없음\n",
    "- 참고: [HTTP Status code](https://www.webfx.com/web-development/glossary/http-status-codes/)"
   ]
  },
  {
   "cell_type": "markdown",
   "id": "6767b49f",
   "metadata": {},
   "source": [
    "#### 각종 응답코드들 "
   ]
  },
  {
   "cell_type": "code",
   "execution_count": 4,
   "id": "0549cb64",
   "metadata": {},
   "outputs": [
    {
     "name": "stdout",
     "output_type": "stream",
     "text": [
      "200\n"
     ]
    }
   ],
   "source": [
    "# ISS 위치 API 요청하기 - 응답 코드 출력 - 작업 성공\n",
    "response = requests.get(url=\"http://api.open-notify.org/iss-now.json\")\n",
    "print(response.status_code)"
   ]
  },
  {
   "cell_type": "code",
   "execution_count": 5,
   "id": "33b46cc1",
   "metadata": {},
   "outputs": [
    {
     "name": "stdout",
     "output_type": "stream",
     "text": [
      "404\n"
     ]
    }
   ],
   "source": [
    "# ISS 위치 API 요청하기 - 응답 코드 출력 - 요청이 올바르지 않음\n",
    "response = requests.get(url=\"http://api.open-notify.org/iss-nw.json\")\n",
    "print(response.status_code)"
   ]
  },
  {
   "cell_type": "code",
   "execution_count": 7,
   "id": "9490c1cb",
   "metadata": {},
   "outputs": [
    {
     "ename": "Exception",
     "evalue": "Bad response from ISS API",
     "output_type": "error",
     "traceback": [
      "\u001b[0;31m---------------------------------------------------------------------------\u001b[0m",
      "\u001b[0;31mException\u001b[0m                                 Traceback (most recent call last)",
      "Input \u001b[0;32mIn [7]\u001b[0m, in \u001b[0;36m<cell line: 3>\u001b[0;34m()\u001b[0m\n\u001b[1;32m      2\u001b[0m response \u001b[38;5;241m=\u001b[39m requests\u001b[38;5;241m.\u001b[39mget(url\u001b[38;5;241m=\u001b[39m\u001b[38;5;124m\"\u001b[39m\u001b[38;5;124mhttp://api.open-notify.org/isnow.json\u001b[39m\u001b[38;5;124m\"\u001b[39m)\n\u001b[1;32m      3\u001b[0m \u001b[38;5;28;01mif\u001b[39;00m response\u001b[38;5;241m.\u001b[39mstatus_code \u001b[38;5;241m!=\u001b[39m \u001b[38;5;241m200\u001b[39m:                    \u001b[38;5;66;03m# 만약 응답을 200으로 받지 않는다면\u001b[39;00m\n\u001b[0;32m----> 4\u001b[0m     \u001b[38;5;28;01mraise\u001b[39;00m \u001b[38;5;167;01mException\u001b[39;00m(\u001b[38;5;124m\"\u001b[39m\u001b[38;5;124mBad response from ISS API\u001b[39m\u001b[38;5;124m\"\u001b[39m)\n",
      "\u001b[0;31mException\u001b[0m: Bad response from ISS API"
     ]
    }
   ],
   "source": [
    "# ISS 위치 API 요청하기 - 응답 코드 출력 - 조건문 및 예외 생성 1\n",
    "response = requests.get(url=\"http://api.open-notify.org/isnow.json\")\n",
    "if response.status_code != 200:                    # 만약 응답을 200으로 받지 않는다면\n",
    "    raise Exception(\"Bad response from ISS API\")   # 예외 생성 "
   ]
  },
  {
   "cell_type": "code",
   "execution_count": 8,
   "id": "d91d71b7",
   "metadata": {},
   "outputs": [],
   "source": [
    "# ISS 위치 API 요청하기 - 응답 코드 출력 - 조건문 및 예외 생성 2 - 해당 방법이 가장 좋음 \n",
    "response = requests.get(url=\"http://api.open-notify.org/iss-now.json\")\n",
    "if response.status_code == 404:\n",
    "    raise Exception(\"That resource does not exist.\")\n",
    "elif response.status_code == 401:\n",
    "    raise Exception(\"You are authorised to access this data.\")"
   ]
  },
  {
   "cell_type": "code",
   "execution_count": 10,
   "id": "6618a28a",
   "metadata": {},
   "outputs": [
    {
     "ename": "HTTPError",
     "evalue": "404 Client Error: Not Found for url: http://api.open-notify.org/iss-n.json",
     "output_type": "error",
     "traceback": [
      "\u001b[0;31m---------------------------------------------------------------------------\u001b[0m",
      "\u001b[0;31mHTTPError\u001b[0m                                 Traceback (most recent call last)",
      "Input \u001b[0;32mIn [10]\u001b[0m, in \u001b[0;36m<cell line: 3>\u001b[0;34m()\u001b[0m\n\u001b[1;32m      1\u001b[0m \u001b[38;5;66;03m# ISS 위치 API 요청하기 - 응답 코드 출력 - 조건문 및 예외 생성 3 -> request 모듈에 raise_for_status 함수 사용\u001b[39;00m\n\u001b[1;32m      2\u001b[0m response \u001b[38;5;241m=\u001b[39m requests\u001b[38;5;241m.\u001b[39mget(url\u001b[38;5;241m=\u001b[39m\u001b[38;5;124m\"\u001b[39m\u001b[38;5;124mhttp://api.open-notify.org/iss-n.json\u001b[39m\u001b[38;5;124m\"\u001b[39m)\n\u001b[0;32m----> 3\u001b[0m \u001b[43mresponse\u001b[49m\u001b[38;5;241;43m.\u001b[39;49m\u001b[43mraise_for_status\u001b[49m\u001b[43m(\u001b[49m\u001b[43m)\u001b[49m\n",
      "File \u001b[0;32m~/miniforge3/envs/a1data/lib/python3.8/site-packages/requests/models.py:1021\u001b[0m, in \u001b[0;36mResponse.raise_for_status\u001b[0;34m(self)\u001b[0m\n\u001b[1;32m   1016\u001b[0m     http_error_msg \u001b[38;5;241m=\u001b[39m (\n\u001b[1;32m   1017\u001b[0m         \u001b[38;5;124mf\u001b[39m\u001b[38;5;124m\"\u001b[39m\u001b[38;5;132;01m{\u001b[39;00m\u001b[38;5;28mself\u001b[39m\u001b[38;5;241m.\u001b[39mstatus_code\u001b[38;5;132;01m}\u001b[39;00m\u001b[38;5;124m Server Error: \u001b[39m\u001b[38;5;132;01m{\u001b[39;00mreason\u001b[38;5;132;01m}\u001b[39;00m\u001b[38;5;124m for url: \u001b[39m\u001b[38;5;132;01m{\u001b[39;00m\u001b[38;5;28mself\u001b[39m\u001b[38;5;241m.\u001b[39murl\u001b[38;5;132;01m}\u001b[39;00m\u001b[38;5;124m\"\u001b[39m\n\u001b[1;32m   1018\u001b[0m     )\n\u001b[1;32m   1020\u001b[0m \u001b[38;5;28;01mif\u001b[39;00m http_error_msg:\n\u001b[0;32m-> 1021\u001b[0m     \u001b[38;5;28;01mraise\u001b[39;00m HTTPError(http_error_msg, response\u001b[38;5;241m=\u001b[39m\u001b[38;5;28mself\u001b[39m)\n",
      "\u001b[0;31mHTTPError\u001b[0m: 404 Client Error: Not Found for url: http://api.open-notify.org/iss-n.json"
     ]
    }
   ],
   "source": [
    "# ISS 위치 API 요청하기 - 응답 코드 출력 - 조건문 및 예외 생성 3 -> request 모듈에 raise_for_status 함수 사용\n",
    "response = requests.get(url=\"http://api.open-notify.org/iss-n.json\")\n",
    "response.raise_for_status()"
   ]
  },
  {
   "cell_type": "markdown",
   "id": "06608316",
   "metadata": {},
   "source": [
    "#### 응답 받고 JSON 데이터 받기 "
   ]
  },
  {
   "cell_type": "code",
   "execution_count": 11,
   "id": "aaec256e",
   "metadata": {},
   "outputs": [
    {
     "name": "stdout",
     "output_type": "stream",
     "text": [
      "{'timestamp': 1690200409, 'iss_position': {'latitude': '-27.6857', 'longitude': '-4.6040'}, 'message': 'success'}\n"
     ]
    }
   ],
   "source": [
    "# JSON으로 데이터 받기 - 기본 구조 \n",
    "response = requests.get(url=\"http://api.open-notify.org/iss-now.json\")  # 앤드포인트로 요청 받기 \n",
    "response.raise_for_status()      # 응답 코드 - 200이 아니면 예외를 발생 시킴 \n",
    "\n",
    "data = response.json()           # 200을 받으면 JSON 형식으로 데이터 받기 \n",
    "print(data)"
   ]
  },
  {
   "cell_type": "code",
   "execution_count": 12,
   "id": "313d5168",
   "metadata": {},
   "outputs": [
    {
     "name": "stdout",
     "output_type": "stream",
     "text": [
      "{'latitude': '-25.0994', 'longitude': '-2.0618'}\n"
     ]
    }
   ],
   "source": [
    "# JSON으로 데이터 받기 - 원하는 키 값만 출력 \n",
    "response = requests.get(url=\"http://api.open-notify.org/iss-now.json\")  # 앤드포인트로 요청 받기 \n",
    "response.raise_for_status()        # 응답 코드 - 200이 아니면 예외를 발생 시킴 \n",
    "\n",
    "data = response.json()['iss_position']  # 200을 받으면 JSON 형식으로 데이터 받기 - iss 위치만 출력\n",
    "print(data)"
   ]
  },
  {
   "cell_type": "code",
   "execution_count": 13,
   "id": "a2b2a77e",
   "metadata": {},
   "outputs": [
    {
     "name": "stdout",
     "output_type": "stream",
     "text": [
      "-24.0363\n"
     ]
    }
   ],
   "source": [
    "# JSON으로 데이터 받기 - 원하는 데이터만 출력 \n",
    "response = requests.get(url=\"http://api.open-notify.org/iss-now.json\")  # 앤드포인트로 요청 받기 \n",
    "response.raise_for_status()                # 응답 코드 - 200이 아니면 예외를 발생 시킴 \n",
    "\n",
    "data = response.json()['iss_position']['latitude']  # 200을 받으면 JSON 형식으로 데이터 받기 - iss 위치 중 위도 값만 출력\n",
    "print(data)"
   ]
  },
  {
   "cell_type": "code",
   "execution_count": 14,
   "id": "29eb828e",
   "metadata": {},
   "outputs": [
    {
     "name": "stdout",
     "output_type": "stream",
     "text": [
      "('3.0191', '-19.3957')\n"
     ]
    }
   ],
   "source": [
    "# JSON으로 데이터 받기 - 프로그래밍에 사용하게끔 준비\n",
    "response = requests.get(url=\"http://api.open-notify.org/iss-now.json\")   # 앤드포인트로 요청 받기 \n",
    "response.raise_for_status()             # 응답 코드 - 200이 아니면 예외를 발생 시킴 \n",
    "\n",
    "longitude = response.json()['iss_position']['longitude']  # 경도 값 출력 \n",
    "latitude = response.json()['iss_position']['latitude']    # 위도 값 출력\n",
    "  \n",
    "iss_postion = (longitude, latitude)     # 위치 출력 - Tuple 형식으로 \n",
    "print(iss_postion)"
   ]
  },
  {
   "cell_type": "markdown",
   "id": "9425d85b",
   "metadata": {},
   "source": [
    "- 위도 경도 값으로 현재 위치 확인하고 할 때 사용할 수 있는 사이트: [LatLong.net](https://www.latlong.net/Show-Latitude-Longitude.html)"
   ]
  },
  {
   "cell_type": "code",
   "execution_count": null,
   "id": "a5d9d51c",
   "metadata": {},
   "outputs": [],
   "source": []
  }
 ],
 "metadata": {
  "kernelspec": {
   "display_name": "Python 3 (ipykernel)",
   "language": "python",
   "name": "python3"
  },
  "language_info": {
   "codemirror_mode": {
    "name": "ipython",
    "version": 3
   },
   "file_extension": ".py",
   "mimetype": "text/x-python",
   "name": "python",
   "nbconvert_exporter": "python",
   "pygments_lexer": "ipython3",
   "version": "3.8.12"
  }
 },
 "nbformat": 4,
 "nbformat_minor": 5
}
