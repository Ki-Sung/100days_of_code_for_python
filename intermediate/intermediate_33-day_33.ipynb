{
 "cells": [
  {
   "cell_type": "markdown",
   "id": "786ea990",
   "metadata": {},
   "source": [
    "## Application Programming Interface - API \n",
    "- API 기술을 배워서 ISS(국제 우주 정거장) 추적기 만들기 \n",
    "    - 현재 ISS가 하늘 어디에 있는지 추적해 볼 것이다.\n",
    "    - 그리고 ISS가 밤에 우리 머리 위에 있을 때, 우리 자신에게 메일로 전송"
   ]
  },
  {
   "cell_type": "markdown",
   "id": "36ee7a08",
   "metadata": {},
   "source": [
    "### 1. API(Application Programming Interface) 란?"
   ]
  },
  {
   "cell_type": "markdown",
   "id": "9b5a2046",
   "metadata": {},
   "source": [
    "- API 설명: [위키피디아](https://en.wikipedia.org/wiki/API)\n",
    "- 여러 사이트에서 가지고 있는 데이터를 이용하고, 프로그램에 활용하려면 어떻게 할까? \n",
    "- 해결책은 바로 API(Application Programming Interface)를 활용하는 것이다. "
   ]
  },
  {
   "cell_type": "markdown",
   "id": "b01f1d74",
   "metadata": {},
   "source": [
    "- API는 일련의 명령, 함수, 프로토콜, 객체로 구성되어 있다.\n",
    "- 프로그래머는 API를 이용해서 소프트웨어를 생성하거나 외부 시스템과 상호작용할 수 있다. \n",
    "- 우리는 다양한 웹사이트와 상호작용을 하고 그런 웹사이트에서 라이브 데이터를 가져올 수 있다. \n",
    "- 본질적으로 API는 인터페이스이고, 우리의 프로그램과 외부 시스템 사이에 있는 일종의 장벽과 같다. "
   ]
  },
  {
   "cell_type": "markdown",
   "id": "7e29a5d8",
   "metadata": {},
   "source": [
    "- API를 주로 이용하는 방법은 아래와 같다. \n",
    "    - 우리는 API가 규정한 규칙들을 이용해서 외부 시스템의 데이터를 요청 한다. (Request)\n",
    "    - 만약 외부 시스템이 그들의 API에 설정한 모든 요구조건에 맞춰서 우리의 요청을 구조화 했다면, 그들은 적절하게 우리에게 응답하고, 우리가 원한 데이터를 제공해준다. (Response)\n",
    "    - 만약 API 규칙을 따르지 않는다면, 요청은 무시된다. "
   ]
  },
  {
   "cell_type": "markdown",
   "id": "3376eefb",
   "metadata": {},
   "source": [
    "### 2. API 앤드포인트와 API 호출하기 "
   ]
  },
  {
   "cell_type": "markdown",
   "id": "8800c4af",
   "metadata": {},
   "source": [
    "- **앤드포인트**\n",
    "    - 앤드포인트는 API에서 가장 중요한 부분 중 하나이다. \n",
    "    - API 앤드포인트는 어떤 위치라고 생각할 수 있다. 만일 우리가 특정한 외부 서비스에서 데이터를 얻으려면 그 데이터가 저장된 위치를 알고 있어야 한다. 예를들면 우리가 은행에 돈을 찾으려면 은행이 어디에 있는지, 주소가 어디인지 알아야 한다. 이것이 바로 API 앤드포인트 이다. (보통은 그냥 URL이다.) "
   ]
  },
  {
   "cell_type": "markdown",
   "id": "6abd08b1",
   "metadata": {},
   "source": [
    "- API Request \n",
    "    - 앤드포인트 이외에도, 우리는 인터넷을 통해 요청해야한다. 이 API 요청은 마치 은행에 가서 돈을 인출하려는 것과 같다. "
   ]
  },
  {
   "cell_type": "markdown",
   "id": "79bb916c",
   "metadata": {},
   "source": [
    "- [ISS API](http://open-notify.org/Open-Notify-API/ISS-Location-Now/)\n",
    "    - ISS API Document에서 앤드포인트는 JSON에 있는 URL를 말한다. (JSON 형태로 출력물을 리턴하게 된다.) \n",
    "    - JSON - 원래는 자바스크립트를 위해 만들어졌지만, 나중에는 인터넷을 통해 데이터를 전송하는 거의 표준에 가까운 방식이 되었다. 이유는 아주 깔끔하고, 공백이나 들여쓰기가 많이 없고, 무엇이 값인지, 무엇이 개별 키 값 인지 나타내기 때문이다. 그리고 해당 JSON은 데이터를 빠르게 전송할 수 있다. "
   ]
  },
  {
   "cell_type": "code",
   "execution_count": 1,
   "id": "6882d1b8",
   "metadata": {},
   "outputs": [],
   "source": [
    "# ISS 위치 API 요청하기  - 모듈 불러오기 \n",
    "import requests "
   ]
  },
  {
   "cell_type": "code",
   "execution_count": 3,
   "id": "cb4d1953",
   "metadata": {},
   "outputs": [
    {
     "name": "stdout",
     "output_type": "stream",
     "text": [
      "<Response [200]>\n"
     ]
    }
   ],
   "source": [
    "# ISS 위치 API 요청하기 - 앤드포인트로부터 데이터 얻기 - 만약 API 요청에 성공했다면 Response 200 출력\n",
    "response = requests.get(url=\"http://api.open-notify.org/iss-now.json\")\n",
    "print(response)"
   ]
  }
 ],
 "metadata": {
  "kernelspec": {
   "display_name": "Python 3 (ipykernel)",
   "language": "python",
   "name": "python3"
  },
  "language_info": {
   "codemirror_mode": {
    "name": "ipython",
    "version": 3
   },
   "file_extension": ".py",
   "mimetype": "text/x-python",
   "name": "python",
   "nbconvert_exporter": "python",
   "pygments_lexer": "ipython3",
   "version": "3.8.12"
  }
 },
 "nbformat": 4,
 "nbformat_minor": 5
}
