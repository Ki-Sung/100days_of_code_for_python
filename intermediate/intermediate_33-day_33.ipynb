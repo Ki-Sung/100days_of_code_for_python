{
 "cells": [
  {
   "cell_type": "markdown",
   "id": "f70ff3b2",
   "metadata": {},
   "source": [
    "## Application Programming Interface - API \n",
    "- API 기술을 배워서 ISS(국제 우주 정거장) 추적기 만들기 \n",
    "    - 현재 ISS가 하늘 어디에 있는지 추적해 볼 것이다.\n",
    "    - 그리고 ISS가 밤에 우리 머리 위에 있을 때, 우리 자신에게 메일로 전송"
   ]
  },
  {
   "cell_type": "markdown",
   "id": "3d2462da",
   "metadata": {},
   "source": [
    "### 1. API(Application Programming Interface) 란?"
   ]
  },
  {
   "cell_type": "markdown",
   "id": "7e3f2ab7",
   "metadata": {},
   "source": [
    "- API 설명: [위키피디아](https://en.wikipedia.org/wiki/API)\n",
    "- 여러 사이트에서 가지고 있는 데이터를 이용하고, 프로그램에 활용하려면 어떻게 할까? \n",
    "- 해결책은 바로 API(Application Programming Interface)를 활용하는 것이다. "
   ]
  },
  {
   "cell_type": "markdown",
   "id": "9980e79d",
   "metadata": {},
   "source": [
    "- API는 일련의 명령, 함수, 프로토콜, 객체로 구성되어 있다.\n",
    "- 프로그래머는 API를 이용해서 소프트웨어를 생성하거나 외부 시스템과 상호작용할 수 있다. \n",
    "- 우리는 다양한 웹사이트와 상호작용을 하고 그런 웹사이트에서 라이브 데이터를 가져올 수 있다. \n",
    "- 본질적으로 API는 인터페이스이고, 우리의 프로그램과 외부 시스템 사이에 있는 일종의 장벽과 같다. "
   ]
  },
  {
   "cell_type": "markdown",
   "id": "46cdad34",
   "metadata": {},
   "source": [
    "- API를 주로 이용하는 방법은 아래와 같다. \n",
    "    - 우리는 API가 규정한 규칙들을 이용해서 외부 시스템의 데이터를 요청 한다. (Request)\n",
    "    - 만약 외부 시스템이 그들의 API에 설정한 모든 요구조건에 맞춰서 우리의 요청을 구조화 했다면, 그들은 적절하게 우리에게 응답하고, 우리가 원한 데이터를 제공해준다. (Response)\n",
    "    - 만약 API 규칙을 따르지 않는다면, 요청은 무시된다. "
   ]
  },
  {
   "cell_type": "markdown",
   "id": "a3037819",
   "metadata": {},
   "source": [
    "### 2. API 앤드포인트와 API 호출하기 "
   ]
  },
  {
   "cell_type": "markdown",
   "id": "41408db8",
   "metadata": {},
   "source": [
    "- **앤드포인트**\n",
    "    - 앤드포인트는 API에서 가장 중요한 부분 중 하나이다. \n",
    "    - API 앤드포인트는 어떤 위치라고 생각할 수 있다. 만일 우리가 특정한 외부 서비스에서 데이터를 얻으려면 그 데이터가 저장된 위치를 알고 있어야 한다. 예를들면 우리가 은행에 돈을 찾으려면 은행이 어디에 있는지, 주소가 어디인지 알아야 한다. 이것이 바로 API 앤드포인트 이다. (보통은 그냥 URL이다.) "
   ]
  },
  {
   "cell_type": "markdown",
   "id": "0ef7d89b",
   "metadata": {},
   "source": [
    "- API Request \n",
    "    - 앤드포인트 이외에도, 우리는 인터넷을 통해 요청해야한다. 이 API 요청은 마치 은행에 가서 돈을 인출하려는 것과 같다. "
   ]
  },
  {
   "cell_type": "markdown",
   "id": "0adc0c13",
   "metadata": {},
   "source": [
    "- [ISS API](http://open-notify.org/Open-Notify-API/ISS-Location-Now/)\n",
    "    - ISS API Document에서 앤드포인트는 JSON에 있는 URL를 말한다. (JSON 형태로 출력물을 리턴하게 된다.) \n",
    "    - JSON - 원래는 자바스크립트를 위해 만들어졌지만, 나중에는 인터넷을 통해 데이터를 전송하는 거의 표준에 가까운 방식이 되었다. 이유는 아주 깔끔하고, 공백이나 들여쓰기가 많이 없고, 무엇이 값인지, 무엇이 개별 키 값 인지 나타내기 때문이다. 그리고 해당 JSON은 데이터를 빠르게 전송할 수 있다. "
   ]
  },
  {
   "cell_type": "code",
   "execution_count": 1,
   "id": "aa0035cd",
   "metadata": {},
   "outputs": [],
   "source": [
    "# ISS 위치 API 요청하기  - 모듈 불러오기 \n",
    "import requests "
   ]
  },
  {
   "cell_type": "code",
   "execution_count": 3,
   "id": "4f91809b",
   "metadata": {},
   "outputs": [
    {
     "name": "stdout",
     "output_type": "stream",
     "text": [
      "<Response [200]>\n"
     ]
    }
   ],
   "source": [
    "# ISS 위치 API 요청하기 - 앤드포인트로부터 데이터 얻기 - 만약 API 요청에 성공했다면 Response 200 출력\n",
    "response = requests.get(url=\"http://api.open-notify.org/iss-now.json\")\n",
    "print(response)"
   ]
  },
  {
   "cell_type": "markdown",
   "id": "7c250bdc",
   "metadata": {},
   "source": [
    "### 3. 응답 다루기: HTTP 코드, 예외, JSON 데이터\n",
    "- 100대 응답 코드 - 작업 진행중\n",
    "- 200대 응답 코드 - 작업을 성공적으로 받음 \n",
    "- 300대 응답 코드 - 해당 작업을 받을 권한이 없어 그냥 가라는 의미(리다이렉션)\n",
    "- 400대 응답 코드 - 해당 요청이 올바르지 않음\n",
    "- 500대 응답 코드 - 서버가 응답할 수 없음\n",
    "- 참고: [HTTP Status code](https://www.webfx.com/web-development/glossary/http-status-codes/)"
   ]
  },
  {
   "cell_type": "markdown",
   "id": "75900abd",
   "metadata": {},
   "source": [
    "#### 각종 응답코드들 "
   ]
  },
  {
   "cell_type": "code",
   "execution_count": 4,
   "id": "83b311f8",
   "metadata": {},
   "outputs": [
    {
     "name": "stdout",
     "output_type": "stream",
     "text": [
      "200\n"
     ]
    }
   ],
   "source": [
    "# ISS 위치 API 요청하기 - 응답 코드 출력 - 작업 성공\n",
    "response = requests.get(url=\"http://api.open-notify.org/iss-now.json\")\n",
    "print(response.status_code)"
   ]
  },
  {
   "cell_type": "code",
   "execution_count": 5,
   "id": "a8c1257a",
   "metadata": {},
   "outputs": [
    {
     "name": "stdout",
     "output_type": "stream",
     "text": [
      "404\n"
     ]
    }
   ],
   "source": [
    "# ISS 위치 API 요청하기 - 응답 코드 출력 - 요청이 올바르지 않음\n",
    "response = requests.get(url=\"http://api.open-notify.org/iss-nw.json\")\n",
    "print(response.status_code)"
   ]
  },
  {
   "cell_type": "code",
   "execution_count": 7,
   "id": "a6f2ec30",
   "metadata": {},
   "outputs": [
    {
     "ename": "Exception",
     "evalue": "Bad response from ISS API",
     "output_type": "error",
     "traceback": [
      "\u001b[0;31m---------------------------------------------------------------------------\u001b[0m",
      "\u001b[0;31mException\u001b[0m                                 Traceback (most recent call last)",
      "Input \u001b[0;32mIn [7]\u001b[0m, in \u001b[0;36m<cell line: 3>\u001b[0;34m()\u001b[0m\n\u001b[1;32m      2\u001b[0m response \u001b[38;5;241m=\u001b[39m requests\u001b[38;5;241m.\u001b[39mget(url\u001b[38;5;241m=\u001b[39m\u001b[38;5;124m\"\u001b[39m\u001b[38;5;124mhttp://api.open-notify.org/isnow.json\u001b[39m\u001b[38;5;124m\"\u001b[39m)\n\u001b[1;32m      3\u001b[0m \u001b[38;5;28;01mif\u001b[39;00m response\u001b[38;5;241m.\u001b[39mstatus_code \u001b[38;5;241m!=\u001b[39m \u001b[38;5;241m200\u001b[39m:                    \u001b[38;5;66;03m# 만약 응답을 200으로 받지 않는다면\u001b[39;00m\n\u001b[0;32m----> 4\u001b[0m     \u001b[38;5;28;01mraise\u001b[39;00m \u001b[38;5;167;01mException\u001b[39;00m(\u001b[38;5;124m\"\u001b[39m\u001b[38;5;124mBad response from ISS API\u001b[39m\u001b[38;5;124m\"\u001b[39m)\n",
      "\u001b[0;31mException\u001b[0m: Bad response from ISS API"
     ]
    }
   ],
   "source": [
    "# ISS 위치 API 요청하기 - 응답 코드 출력 - 조건문 및 예외 생성 1\n",
    "response = requests.get(url=\"http://api.open-notify.org/isnow.json\")\n",
    "if response.status_code != 200:                    # 만약 응답을 200으로 받지 않는다면\n",
    "    raise Exception(\"Bad response from ISS API\")   # 예외 생성 "
   ]
  },
  {
   "cell_type": "code",
   "execution_count": 8,
   "id": "a57eb1cc",
   "metadata": {},
   "outputs": [],
   "source": [
    "# ISS 위치 API 요청하기 - 응답 코드 출력 - 조건문 및 예외 생성 2 - 해당 방법이 가장 좋음 \n",
    "response = requests.get(url=\"http://api.open-notify.org/iss-now.json\")\n",
    "if response.status_code == 404:\n",
    "    raise Exception(\"That resource does not exist.\")\n",
    "elif response.status_code == 401:\n",
    "    raise Exception(\"You are authorised to access this data.\")"
   ]
  },
  {
   "cell_type": "code",
   "execution_count": 10,
   "id": "7ecc3cdc",
   "metadata": {},
   "outputs": [
    {
     "ename": "HTTPError",
     "evalue": "404 Client Error: Not Found for url: http://api.open-notify.org/iss-n.json",
     "output_type": "error",
     "traceback": [
      "\u001b[0;31m---------------------------------------------------------------------------\u001b[0m",
      "\u001b[0;31mHTTPError\u001b[0m                                 Traceback (most recent call last)",
      "Input \u001b[0;32mIn [10]\u001b[0m, in \u001b[0;36m<cell line: 3>\u001b[0;34m()\u001b[0m\n\u001b[1;32m      1\u001b[0m \u001b[38;5;66;03m# ISS 위치 API 요청하기 - 응답 코드 출력 - 조건문 및 예외 생성 3 -> request 모듈에 raise_for_status 함수 사용\u001b[39;00m\n\u001b[1;32m      2\u001b[0m response \u001b[38;5;241m=\u001b[39m requests\u001b[38;5;241m.\u001b[39mget(url\u001b[38;5;241m=\u001b[39m\u001b[38;5;124m\"\u001b[39m\u001b[38;5;124mhttp://api.open-notify.org/iss-n.json\u001b[39m\u001b[38;5;124m\"\u001b[39m)\n\u001b[0;32m----> 3\u001b[0m \u001b[43mresponse\u001b[49m\u001b[38;5;241;43m.\u001b[39;49m\u001b[43mraise_for_status\u001b[49m\u001b[43m(\u001b[49m\u001b[43m)\u001b[49m\n",
      "File \u001b[0;32m~/miniforge3/envs/a1data/lib/python3.8/site-packages/requests/models.py:1021\u001b[0m, in \u001b[0;36mResponse.raise_for_status\u001b[0;34m(self)\u001b[0m\n\u001b[1;32m   1016\u001b[0m     http_error_msg \u001b[38;5;241m=\u001b[39m (\n\u001b[1;32m   1017\u001b[0m         \u001b[38;5;124mf\u001b[39m\u001b[38;5;124m\"\u001b[39m\u001b[38;5;132;01m{\u001b[39;00m\u001b[38;5;28mself\u001b[39m\u001b[38;5;241m.\u001b[39mstatus_code\u001b[38;5;132;01m}\u001b[39;00m\u001b[38;5;124m Server Error: \u001b[39m\u001b[38;5;132;01m{\u001b[39;00mreason\u001b[38;5;132;01m}\u001b[39;00m\u001b[38;5;124m for url: \u001b[39m\u001b[38;5;132;01m{\u001b[39;00m\u001b[38;5;28mself\u001b[39m\u001b[38;5;241m.\u001b[39murl\u001b[38;5;132;01m}\u001b[39;00m\u001b[38;5;124m\"\u001b[39m\n\u001b[1;32m   1018\u001b[0m     )\n\u001b[1;32m   1020\u001b[0m \u001b[38;5;28;01mif\u001b[39;00m http_error_msg:\n\u001b[0;32m-> 1021\u001b[0m     \u001b[38;5;28;01mraise\u001b[39;00m HTTPError(http_error_msg, response\u001b[38;5;241m=\u001b[39m\u001b[38;5;28mself\u001b[39m)\n",
      "\u001b[0;31mHTTPError\u001b[0m: 404 Client Error: Not Found for url: http://api.open-notify.org/iss-n.json"
     ]
    }
   ],
   "source": [
    "# ISS 위치 API 요청하기 - 응답 코드 출력 - 조건문 및 예외 생성 3 -> request 모듈에 raise_for_status 함수 사용\n",
    "response = requests.get(url=\"http://api.open-notify.org/iss-n.json\")\n",
    "response.raise_for_status()"
   ]
  },
  {
   "cell_type": "markdown",
   "id": "a4dc5cd7",
   "metadata": {},
   "source": [
    "#### 응답 받고 JSON 데이터 받기 "
   ]
  },
  {
   "cell_type": "code",
   "execution_count": 11,
   "id": "78bf36e2",
   "metadata": {},
   "outputs": [
    {
     "name": "stdout",
     "output_type": "stream",
     "text": [
      "{'timestamp': 1690200409, 'iss_position': {'latitude': '-27.6857', 'longitude': '-4.6040'}, 'message': 'success'}\n"
     ]
    }
   ],
   "source": [
    "# JSON으로 데이터 받기 - 기본 구조 \n",
    "response = requests.get(url=\"http://api.open-notify.org/iss-now.json\")  # 앤드포인트로 요청 받기 \n",
    "response.raise_for_status()      # 응답 코드 - 200이 아니면 예외를 발생 시킴 \n",
    "\n",
    "data = response.json()           # 200을 받으면 JSON 형식으로 데이터 받기 \n",
    "print(data)"
   ]
  },
  {
   "cell_type": "code",
   "execution_count": 12,
   "id": "6c5af424",
   "metadata": {},
   "outputs": [
    {
     "name": "stdout",
     "output_type": "stream",
     "text": [
      "{'latitude': '-25.0994', 'longitude': '-2.0618'}\n"
     ]
    }
   ],
   "source": [
    "# JSON으로 데이터 받기 - 원하는 키 값만 출력 \n",
    "response = requests.get(url=\"http://api.open-notify.org/iss-now.json\")  # 앤드포인트로 요청 받기 \n",
    "response.raise_for_status()        # 응답 코드 - 200이 아니면 예외를 발생 시킴 \n",
    "\n",
    "data = response.json()['iss_position']  # 200을 받으면 JSON 형식으로 데이터 받기 - iss 위치만 출력\n",
    "print(data)"
   ]
  },
  {
   "cell_type": "code",
   "execution_count": 13,
   "id": "911fd9b6",
   "metadata": {},
   "outputs": [
    {
     "name": "stdout",
     "output_type": "stream",
     "text": [
      "-24.0363\n"
     ]
    }
   ],
   "source": [
    "# JSON으로 데이터 받기 - 원하는 데이터만 출력 \n",
    "response = requests.get(url=\"http://api.open-notify.org/iss-now.json\")  # 앤드포인트로 요청 받기 \n",
    "response.raise_for_status()                # 응답 코드 - 200이 아니면 예외를 발생 시킴 \n",
    "\n",
    "data = response.json()['iss_position']['latitude']  # 200을 받으면 JSON 형식으로 데이터 받기 - iss 위치 중 위도 값만 출력\n",
    "print(data)"
   ]
  },
  {
   "cell_type": "code",
   "execution_count": 14,
   "id": "ae4fcfdc",
   "metadata": {},
   "outputs": [
    {
     "name": "stdout",
     "output_type": "stream",
     "text": [
      "('3.0191', '-19.3957')\n"
     ]
    }
   ],
   "source": [
    "# JSON으로 데이터 받기 - 프로그래밍에 사용하게끔 준비\n",
    "response = requests.get(url=\"http://api.open-notify.org/iss-now.json\")   # 앤드포인트로 요청 받기 \n",
    "response.raise_for_status()             # 응답 코드 - 200이 아니면 예외를 발생 시킴 \n",
    "\n",
    "longitude = response.json()['iss_position']['longitude']  # 경도 값 출력 \n",
    "latitude = response.json()['iss_position']['latitude']    # 위도 값 출력\n",
    "  \n",
    "iss_postion = (longitude, latitude)     # 위치 출력 - Tuple 형식으로 \n",
    "print(iss_postion)"
   ]
  },
  {
   "cell_type": "markdown",
   "id": "774dfda1",
   "metadata": {},
   "source": [
    "- 위도 경도 값으로 현재 위치 확인하고 할 때 사용할 수 있는 사이트: [LatLong.net](https://www.latlong.net/Show-Latitude-Longitude.html)"
   ]
  },
  {
   "cell_type": "markdown",
   "id": "62cbe429",
   "metadata": {},
   "source": [
    "### 4. Kanye Rest API로 칸예 명언 앱 구축하기 "
   ]
  },
  {
   "cell_type": "markdown",
   "id": "b0e0edbc",
   "metadata": {},
   "source": [
    "- [Kanye Rest API](https://kanye.rest/)\n",
    "- 앤드 포인트: https://kanye.rest/"
   ]
  },
  {
   "cell_type": "code",
   "execution_count": null,
   "id": "f26a8530",
   "metadata": {},
   "outputs": [],
   "source": [
    "# REST API를 이용하여 킨예 명언 제조기 만들기 \n",
    "\n",
    "# 모듈 불러오기 \n",
    "from tkinter import *   # Tkinter 모듈 \n",
    "import requests         # requests 모듈 \n",
    "\n",
    "# API에서 명언을 얻기 위한 get_quote 함수 선언 \n",
    "def get_quote():\n",
    "    response = requests.get(url=\"https://api.kanye.rest/\")     # 앤드포인트로 요청 받기 \n",
    "    response.raise_for_status()                                # 200이 아니면 예외 발생 시킴 \n",
    "    \n",
    "    data = response.json()                                     # JSON 형식으로 데이터 응답 받기 \n",
    "    quote = data[\"quote\"]                                      # 응답 받은 데이터 중 명언만 추출 \n",
    "    canvas.itemconfig(quote_text, text=quote)                  # canvas 항목 동적으로 구성 - quote_text에서 text를 API로 응답 받은 명언으로 추출 \n",
    "\n",
    "# UI 부분 \n",
    "window = Tk()                                                  # tkinter 객체 선언 \n",
    "window.title(\"Kanye Says...\")                                  # tkinter title 지정\n",
    "window.config(padx=50, pady=50)                                # pad(간격) 설정 \n",
    "\n",
    "# Canvas 사용 \n",
    "canvas = Canvas(width=300, height=414)                         # canvas 객체 선언 - 선언시 크기 설정\n",
    "background_img = PhotoImage(file=\"./img/background.png\")       # 배경 이미지 불러오기 \n",
    "canvas.create_image(150, 207, image=background_img)            # 이미지 명시하기 \n",
    "quote_text = canvas.create_text(150, 207, text=\"Kanye Quote Goes Here!\", width=250, font=(\"Arial\", 30, \"bold\"), fill=\"white\") # 이미지 위에 들어갈 Text 설정 \n",
    "canvas.grid(row=0, column=0)                                   # 설정한 canvas 명시 \n",
    "\n",
    "# 버튼 설정 \n",
    "kanye_img = PhotoImage(file=\"./img/kanye.png\")                 # 버튼에 사용할 이미지 불러오기 \n",
    "kanye_button = Button(image=kanye_img, highlightthickness=0, command=get_quote)   # 이미지에 버튼 설정 (버튼을 누르면, 랜덤하게 명언 생성)\n",
    "kanye_button.grid(row=1, column=0)                             # 버튼 명시\n",
    "\n",
    "\n",
    "# 닫기 버튼 누르기 전까지 계속 구동\n",
    "window.mainloop()"
   ]
  },
  {
   "cell_type": "markdown",
   "id": "4e2949cc",
   "metadata": {},
   "source": [
    "### 5. API Parameters(매개변수) 이해하기  - 일몰 시각과 현재 시각 매칭하기 \n",
    "- 여기서 API의 Parameter(매개변수)란, 같은 함수에 다른 입력물을 주어 다른 결과를 얻는 것 처럼, 우리가 API에 요청할 때, 우리가 입력한 입력물에 따라 다른 데이터를 받도록 하는 방법이다. "
   ]
  },
  {
   "cell_type": "markdown",
   "id": "b78943d1",
   "metadata": {},
   "source": [
    "- [일출 및 일몰 API](https://sunrise-sunset.org/api)를 보면 매개변수가 있다. 보통은 제공되는 파라미터 및 데이터 타입을 제공해준다. \n",
    "- 매개변수 중 필수 파라미터와 옵션 파라미터가 있으니 주의하자!"
   ]
  },
  {
   "cell_type": "code",
   "execution_count": 9,
   "id": "f5cf4196",
   "metadata": {},
   "outputs": [
    {
     "name": "stdout",
     "output_type": "stream",
     "text": [
      "8:28:31 PM\n",
      "2023-07-25 20:12:42.944583\n"
     ]
    }
   ],
   "source": [
    "# 일몰 시각과 일출 시간 API로 불러오기 \n",
    "\n",
    "import requests\n",
    "from datetime import datetime\n",
    "\n",
    "# 상수 - 서울 위도 경도 값 \n",
    "MY_LAT = 37.541\n",
    "MY_LNG = 126.986\n",
    "\n",
    "# 매개변수 설정 - 서울 \n",
    "parameters = {\n",
    "    \"lat\": MY_LAT,\n",
    "    \"lng\": MY_LNG,\n",
    "}\n",
    "\n",
    "response = requests.get(url=\"https://api.sunrise-sunset.org/json\", params=parameters)   # 앤드포인트로 요청 받기 \n",
    "response.raise_for_status()                   # 200이 아니면 예외 발생 시킴 \n",
    "data = response.json()                        # JSON 형식으로 데이터 응답 받기 \n",
    "sunrise = data['results']['sunrise']          # 일출 시간 출력 \n",
    "sunset = data['results']['sunset']            # 일몰 시간 출력 \n",
    "\n",
    "print(sunrise)                                # 데이터 추출 \n",
    "\n",
    "time_now = datetime.now()                     # 현재 날짜 및 시간 불러오기 \n",
    "print(time_now)                               # 출력 "
   ]
  },
  {
   "cell_type": "code",
   "execution_count": 11,
   "id": "7694542f",
   "metadata": {},
   "outputs": [
    {
     "name": "stdout",
     "output_type": "stream",
     "text": [
      "2023-07-25T05:38:33+00:00\n",
      "2023-07-25 20:20:51.914195\n"
     ]
    }
   ],
   "source": [
    "# 그럼 일출과 일몰 API에서 받는 데이터를 어떻게 변경할 수 있을까? - datetime 형식으로 변경\n",
    "\n",
    "import requests\n",
    "from datetime import datetime\n",
    "\n",
    "# 상수 - 서울 위도 경도 값 - 위도 경도 값이 바뀌어 있음, 이렇게 해야 일몰 일출 시간이 제대로 나옴(이상함)\n",
    "MY_LAT = 126.986\n",
    "MY_LNG = 37.541\n",
    "\n",
    "# 매개변수 설정 - 서울 \n",
    "parameters = {\n",
    "    \"lat\": MY_LAT,\n",
    "    \"lng\": MY_LNG,\n",
    "    \"formatted\": 0\n",
    "}\n",
    "\n",
    "response = requests.get(url=\"https://api.sunrise-sunset.org/json\", params=parameters)   # 앤드포인트로 요청 받기 \n",
    "response.raise_for_status()                   # 200이 아니면 예외 발생 시킴 \n",
    "data = response.json()                        # JSON 형식으로 데이터 응답 받기 \n",
    "sunrise = data['results']['sunrise']          # 일출 시간 출력 \n",
    "sunset = data['results']['sunset']            # 일몰 시간 출력 \n",
    "\n",
    "print(sunrise)                                # 데이터 추출 \n",
    "\n",
    "time_now = datetime.now()                     # 현재 날짜 및 시간 불러오기 \n",
    "print(time_now)                               # 출력 "
   ]
  },
  {
   "cell_type": "code",
   "execution_count": 17,
   "id": "c10a7a41",
   "metadata": {},
   "outputs": [
    {
     "name": "stdout",
     "output_type": "stream",
     "text": [
      "2023-07-25T05:38:33+00:00\n",
      "05\n"
     ]
    }
   ],
   "source": [
    "# 시간 문자열 자르기 \n",
    "\n",
    "import requests\n",
    "from datetime import datetime\n",
    "\n",
    "# 상수 - 서울 위도 경도 값 - 위도 경도 값이 바뀌어 있음, 이렇게 해야 일몰 일출 시간이 제대로 나옴(이상함)\n",
    "MY_LAT = 126.986\n",
    "MY_LNG = 37.541\n",
    "\n",
    "# 매개변수 설정 - 서울 \n",
    "parameters = {\n",
    "    \"lat\": MY_LAT,\n",
    "    \"lng\": MY_LNG,\n",
    "    \"formatted\": 0\n",
    "}\n",
    "\n",
    "response = requests.get(url=\"https://api.sunrise-sunset.org/json\", params=parameters)   # 앤드포인트로 요청 받기 \n",
    "response.raise_for_status()                   # 200이 아니면 예외 발생 시킴 \n",
    "data = response.json()                        # JSON 형식으로 데이터 응답 받기 \n",
    "sunrise = data['results']['sunrise']          # 일출 시간 출력 \n",
    "sunset = data['results']['sunset']            # 일몰 시간 출력 \n",
    "\n",
    "print(sunrise)                                # 데이터 추출 \n",
    "print(sunrise.split(\"T\")[1].split(\":\")[0])    # 문자열 분리하기 \n",
    "\n",
    "time_now = datetime.now()                     # 현재 날짜 및 시간 불러오기 \n",
    "# print(time_now)                              # 출력 "
   ]
  },
  {
   "cell_type": "code",
   "execution_count": 19,
   "id": "d3c883fe",
   "metadata": {},
   "outputs": [
    {
     "name": "stdout",
     "output_type": "stream",
     "text": [
      "Seoul sunrise time is 05, sunset time is 13\n"
     ]
    }
   ],
   "source": [
    "# 시간 문자열 자르기 - 자른 문자열로 문자열 정렬 \n",
    "\n",
    "import requests\n",
    "from datetime import datetime\n",
    "\n",
    "# 상수 - 서울 위도 경도 값 - 위도 경도 값이 바뀌어 있음, 이렇게 해야 일몰 일출 시간이 제대로 나옴(이상함)\n",
    "MY_LAT = 126.986\n",
    "MY_LNG = 37.541\n",
    "\n",
    "# 매개변수 설정 - 서울 \n",
    "parameters = {\n",
    "    \"lat\": MY_LAT,\n",
    "    \"lng\": MY_LNG,\n",
    "    \"formatted\": 0\n",
    "}\n",
    "\n",
    "response = requests.get(url=\"https://api.sunrise-sunset.org/json\", params=parameters)   # 앤드포인트로 요청 받기 \n",
    "response.raise_for_status()                   # 200이 아니면 예외 발생 시킴 \n",
    "data = response.json()                        # JSON 형식으로 데이터 응답 받기 \n",
    "sunrise = data[\"results\"][\"sunrise\"].split(\"T\")[1].split(\":\")[0]          # 일출 시간 출력 \n",
    "sunset = data[\"results\"][\"sunset\"].split(\"T\")[1].split(\":\")[0]            # 일몰 시간 출력 \n",
    "\n",
    "print(f\"Seoul sunrise time is {sunrise}, sunset time is {sunset}\")                                # 데이터 추출 "
   ]
  },
  {
   "cell_type": "code",
   "execution_count": null,
   "id": "3095adbd",
   "metadata": {},
   "outputs": [],
   "source": []
  }
 ],
 "metadata": {
  "kernelspec": {
   "display_name": "Python 3 (ipykernel)",
   "language": "python",
   "name": "python3"
  },
  "language_info": {
   "codemirror_mode": {
    "name": "ipython",
    "version": 3
   },
   "file_extension": ".py",
   "mimetype": "text/x-python",
   "name": "python",
   "nbconvert_exporter": "python",
   "pygments_lexer": "ipython3",
   "version": "3.8.12"
  }
 },
 "nbformat": 4,
 "nbformat_minor": 5
}
