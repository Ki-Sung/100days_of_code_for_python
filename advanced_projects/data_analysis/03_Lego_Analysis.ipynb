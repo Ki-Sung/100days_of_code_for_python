{
 "cells": [
  {
   "cell_type": "markdown",
   "id": "f4024aa7",
   "metadata": {},
   "source": [
    "# 레고 분석\n",
    "<img src=\"assets/bricks.jpg\">\n",
    "\n",
    "- 레고 데이터셋은 회사의 역사, 출시 제품, 어떤 레고 세트가 제일 잘 나가는지에 대한 여러 흥미로운 질문에 답하는데 도움이 될 것이다. 아래의 질문들을 바탕으로 분석하고자 한다. \n",
    "    - 지금까지 만들어진 가장 거대한 레고 세트는 무엇이며 몇 개의 부품으로 구성되어 있을까?\n",
    "    - 최초의 레고 세트가 출시된 연도와 처음 출시되었을 때 회사에서 판매한 세트 수는 몇 개일까?\n",
    "    - 레고에서 가장 많은 세트를 보유한 테마는 어떤 것일까? 해리포터, 닌자고, 프렌즈 아니면 다른 것일까?\n",
    "    - 레고 회사는 실제로 언제 출시된 제품을 기반으로 도약했을까? 매년 몇 개의 테마와 세트가 출시될까?\n",
    "    - 레고 세트는 해가 갈수록 크기와 복잡도가 늘어날까? 예전 레고 세트는 요즘 세트와 비교했을 때 부품이 더 적을까?"
   ]
  },
  {
   "cell_type": "markdown",
   "id": "a7783965",
   "metadata": {},
   "source": [
    "## 1. 레고에 대한 이해\n",
    "\n",
    "#### Lego Themes와 Lego Sets에 대한 이해\n",
    "Lego Themes: 한국에서는 \"시리즈\"라고 명칭한다. 레고 매장에 들어가면 테마별로 구성된 제품을 볼 수 있다. 각각 스타워즈, 배트맨, 해리포터 시리즈 그리고 더 많은 것들이 포함되어 있다.\n",
    "\n",
    "<img src=\"assets/lego_themes.png\">\n",
    "\n",
    "레고 세트: 레고 세트는 레고나 제품의 특정한 상자이므로, 일반적으로 하나의 테마에는 다양한 세트가 존재한다. \n",
    "\n",
    "<img src=\"assets/lego_sets.png\">\n",
    "\n",
    "예) \"베트맨\" 시리즈의 \"베트 모빌 베이스 세트\""
   ]
  },
  {
   "cell_type": "markdown",
   "id": "2a09e695",
   "metadata": {},
   "source": [
    "## 2. 데이터 탐색 및 데이터 전처리"
   ]
  },
  {
   "cell_type": "code",
   "execution_count": 1,
   "id": "b1b925af",
   "metadata": {},
   "outputs": [],
   "source": [
    "# 필요한 패키지 임포트 \n",
    "import pandas as pd\n",
    "import matplotlib.pyplot as plt\n",
    "\n",
    "import warnings\n",
    "warnings.filterwarnings('ignore')"
   ]
  },
  {
   "cell_type": "markdown",
   "id": "55e7541a",
   "metadata": {},
   "source": [
    "### 2-1. 컬러 데이터"
   ]
  },
  {
   "cell_type": "code",
   "execution_count": 2,
   "id": "f09f112a",
   "metadata": {},
   "outputs": [
    {
     "data": {
      "text/html": [
       "<div>\n",
       "<style scoped>\n",
       "    .dataframe tbody tr th:only-of-type {\n",
       "        vertical-align: middle;\n",
       "    }\n",
       "\n",
       "    .dataframe tbody tr th {\n",
       "        vertical-align: top;\n",
       "    }\n",
       "\n",
       "    .dataframe thead th {\n",
       "        text-align: right;\n",
       "    }\n",
       "</style>\n",
       "<table border=\"1\" class=\"dataframe\">\n",
       "  <thead>\n",
       "    <tr style=\"text-align: right;\">\n",
       "      <th></th>\n",
       "      <th>id</th>\n",
       "      <th>name</th>\n",
       "      <th>rgb</th>\n",
       "      <th>is_trans</th>\n",
       "    </tr>\n",
       "  </thead>\n",
       "  <tbody>\n",
       "    <tr>\n",
       "      <th>0</th>\n",
       "      <td>-1</td>\n",
       "      <td>Unknown</td>\n",
       "      <td>0033B2</td>\n",
       "      <td>f</td>\n",
       "    </tr>\n",
       "    <tr>\n",
       "      <th>1</th>\n",
       "      <td>0</td>\n",
       "      <td>Black</td>\n",
       "      <td>05131D</td>\n",
       "      <td>f</td>\n",
       "    </tr>\n",
       "    <tr>\n",
       "      <th>2</th>\n",
       "      <td>1</td>\n",
       "      <td>Blue</td>\n",
       "      <td>0055BF</td>\n",
       "      <td>f</td>\n",
       "    </tr>\n",
       "    <tr>\n",
       "      <th>3</th>\n",
       "      <td>2</td>\n",
       "      <td>Green</td>\n",
       "      <td>237841</td>\n",
       "      <td>f</td>\n",
       "    </tr>\n",
       "    <tr>\n",
       "      <th>4</th>\n",
       "      <td>3</td>\n",
       "      <td>Dark Turquoise</td>\n",
       "      <td>008F9B</td>\n",
       "      <td>f</td>\n",
       "    </tr>\n",
       "  </tbody>\n",
       "</table>\n",
       "</div>"
      ],
      "text/plain": [
       "   id            name     rgb is_trans\n",
       "0  -1         Unknown  0033B2        f\n",
       "1   0           Black  05131D        f\n",
       "2   1            Blue  0055BF        f\n",
       "3   2           Green  237841        f\n",
       "4   3  Dark Turquoise  008F9B        f"
      ]
     },
     "execution_count": 2,
     "metadata": {},
     "output_type": "execute_result"
    }
   ],
   "source": [
    "# 레고 블록 색상 데이터 불러오기\n",
    "colors = pd.read_csv(\"data/colors.csv\")\n",
    "colors.head()"
   ]
  },
  {
   "cell_type": "code",
   "execution_count": 3,
   "id": "5776798f",
   "metadata": {},
   "outputs": [
    {
     "data": {
      "text/plain": [
       "135"
      ]
     },
     "execution_count": 3,
     "metadata": {},
     "output_type": "execute_result"
    }
   ],
   "source": [
    "# 색상의 수 체크 \n",
    "colors['name'].nunique()"
   ]
  },
  {
   "cell_type": "markdown",
   "id": "28cc78b2",
   "metadata": {},
   "source": [
    "- 색상의 이름과 해당 RGB 값이 있는 다섯개의 컬럼이 있음을 알 수 있다.\n",
    "    - id: 해당 데이터의 id 값\n",
    "    - name: 레고 블록 컬러명\n",
    "    - rgb: 레고 블록 컬러 RGB 값\n",
    "    - is_trans: 투명도 (f:불투명/t:투명)\n",
    "- 컬러 데이터의 수는 컬럼 4개 행 135개로 구성되어 있다. "
   ]
  },
  {
   "cell_type": "markdown",
   "id": "1a7a32a1",
   "metadata": {},
   "source": [
    "#### 투명한 색상의 개수 구하기 "
   ]
  },
  {
   "cell_type": "code",
   "execution_count": 8,
   "id": "06492286",
   "metadata": {},
   "outputs": [
    {
     "name": "stdout",
     "output_type": "stream",
     "text": [
      "Transparent Count: 28\n",
      "Opaque Count: 107\n",
      "Transparency Ratio: 20.74\n"
     ]
    }
   ],
   "source": [
    "# 투명도 비율 계산\n",
    "transparency_counts = colors['is_trans'].value_counts()    # 투명도 색상 개수 체크 \n",
    "\n",
    "# 투명도 개수 추출 \n",
    "transparent_count = transparency_counts.get('t', 0)        # 투명 개수 추출 \n",
    "opaque_count = transparency_counts.get('f', 0)             # 불투명 개수 추출 \n",
    "\n",
    "# 투명도 비율 계산\n",
    "transparency_ratio = (transparent_count / (transparent_count + opaque_count)) * 100\n",
    "\n",
    "# 결과 출력\n",
    "print(\"Transparent Count:\", transparent_count)\n",
    "print(\"Opaque Count:\", opaque_count)\n",
    "print(\"Transparency Ratio:\", round(transparency_ratio, 2))"
   ]
  },
  {
   "cell_type": "markdown",
   "id": "3ecce2e7",
   "metadata": {},
   "source": [
    "- 확인 결과 불투명한 색상은 107건 투명한 색상은 28건으로 조회 되었다. \n",
    "- 아울러 블럭 색상중 투명 색상의 블록은 전체 색상 대비 21%의 비율을 차지 했다."
   ]
  },
  {
   "cell_type": "markdown",
   "id": "7a9ed1e3",
   "metadata": {},
   "source": [
    "### 2-2. 레고 세트 데이터"
   ]
  },
  {
   "cell_type": "code",
   "execution_count": 9,
   "id": "c5fdf2d1",
   "metadata": {},
   "outputs": [
    {
     "data": {
      "text/html": [
       "<div>\n",
       "<style scoped>\n",
       "    .dataframe tbody tr th:only-of-type {\n",
       "        vertical-align: middle;\n",
       "    }\n",
       "\n",
       "    .dataframe tbody tr th {\n",
       "        vertical-align: top;\n",
       "    }\n",
       "\n",
       "    .dataframe thead th {\n",
       "        text-align: right;\n",
       "    }\n",
       "</style>\n",
       "<table border=\"1\" class=\"dataframe\">\n",
       "  <thead>\n",
       "    <tr style=\"text-align: right;\">\n",
       "      <th></th>\n",
       "      <th>set_num</th>\n",
       "      <th>name</th>\n",
       "      <th>year</th>\n",
       "      <th>theme_id</th>\n",
       "      <th>num_parts</th>\n",
       "    </tr>\n",
       "  </thead>\n",
       "  <tbody>\n",
       "    <tr>\n",
       "      <th>0</th>\n",
       "      <td>001-1</td>\n",
       "      <td>Gears</td>\n",
       "      <td>1965</td>\n",
       "      <td>1</td>\n",
       "      <td>43</td>\n",
       "    </tr>\n",
       "    <tr>\n",
       "      <th>1</th>\n",
       "      <td>0011-2</td>\n",
       "      <td>Town Mini-Figures</td>\n",
       "      <td>1978</td>\n",
       "      <td>84</td>\n",
       "      <td>12</td>\n",
       "    </tr>\n",
       "    <tr>\n",
       "      <th>2</th>\n",
       "      <td>0011-3</td>\n",
       "      <td>Castle 2 for 1 Bonus Offer</td>\n",
       "      <td>1987</td>\n",
       "      <td>199</td>\n",
       "      <td>0</td>\n",
       "    </tr>\n",
       "    <tr>\n",
       "      <th>3</th>\n",
       "      <td>0012-1</td>\n",
       "      <td>Space Mini-Figures</td>\n",
       "      <td>1979</td>\n",
       "      <td>143</td>\n",
       "      <td>12</td>\n",
       "    </tr>\n",
       "    <tr>\n",
       "      <th>4</th>\n",
       "      <td>0013-1</td>\n",
       "      <td>Space Mini-Figures</td>\n",
       "      <td>1979</td>\n",
       "      <td>143</td>\n",
       "      <td>12</td>\n",
       "    </tr>\n",
       "  </tbody>\n",
       "</table>\n",
       "</div>"
      ],
      "text/plain": [
       "  set_num                        name  year  theme_id  num_parts\n",
       "0   001-1                       Gears  1965         1         43\n",
       "1  0011-2           Town Mini-Figures  1978        84         12\n",
       "2  0011-3  Castle 2 for 1 Bonus Offer  1987       199          0\n",
       "3  0012-1          Space Mini-Figures  1979       143         12\n",
       "4  0013-1          Space Mini-Figures  1979       143         12"
      ]
     },
     "execution_count": 9,
     "metadata": {},
     "output_type": "execute_result"
    }
   ],
   "source": [
    "# 레고 세트 목록 데이터 불러오기 \n",
    "sets = pd.read_csv('data/sets.csv')\n",
    "sets.head()"
   ]
  },
  {
   "cell_type": "markdown",
   "id": "0a57c536",
   "metadata": {},
   "source": [
    "#### 레고 세트가 출시된 연도와 판매 개수"
   ]
  },
  {
   "cell_type": "code",
   "execution_count": 12,
   "id": "e748e183",
   "metadata": {},
   "outputs": [
    {
     "data": {
      "text/html": [
       "<div>\n",
       "<style scoped>\n",
       "    .dataframe tbody tr th:only-of-type {\n",
       "        vertical-align: middle;\n",
       "    }\n",
       "\n",
       "    .dataframe tbody tr th {\n",
       "        vertical-align: top;\n",
       "    }\n",
       "\n",
       "    .dataframe thead th {\n",
       "        text-align: right;\n",
       "    }\n",
       "</style>\n",
       "<table border=\"1\" class=\"dataframe\">\n",
       "  <thead>\n",
       "    <tr style=\"text-align: right;\">\n",
       "      <th></th>\n",
       "      <th>set_num</th>\n",
       "      <th>name</th>\n",
       "      <th>year</th>\n",
       "      <th>theme_id</th>\n",
       "      <th>num_parts</th>\n",
       "    </tr>\n",
       "  </thead>\n",
       "  <tbody>\n",
       "    <tr>\n",
       "      <th>9521</th>\n",
       "      <td>700.1-1</td>\n",
       "      <td>Extra-Large Gift Set (ABB)</td>\n",
       "      <td>1949</td>\n",
       "      <td>365</td>\n",
       "      <td>142</td>\n",
       "    </tr>\n",
       "    <tr>\n",
       "      <th>9534</th>\n",
       "      <td>700.2-1</td>\n",
       "      <td>Large Gift Set (ABB)</td>\n",
       "      <td>1949</td>\n",
       "      <td>365</td>\n",
       "      <td>178</td>\n",
       "    </tr>\n",
       "    <tr>\n",
       "      <th>9539</th>\n",
       "      <td>700.3-1</td>\n",
       "      <td>Medium Gift Set (ABB)</td>\n",
       "      <td>1949</td>\n",
       "      <td>365</td>\n",
       "      <td>142</td>\n",
       "    </tr>\n",
       "    <tr>\n",
       "      <th>9544</th>\n",
       "      <td>700.A-1</td>\n",
       "      <td>Small Brick Set (ABB)</td>\n",
       "      <td>1949</td>\n",
       "      <td>371</td>\n",
       "      <td>24</td>\n",
       "    </tr>\n",
       "    <tr>\n",
       "      <th>9545</th>\n",
       "      <td>700.B-1</td>\n",
       "      <td>Small Doors and Windows Set (ABB)</td>\n",
       "      <td>1949</td>\n",
       "      <td>371</td>\n",
       "      <td>12</td>\n",
       "    </tr>\n",
       "    <tr>\n",
       "      <th>9526</th>\n",
       "      <td>700.1.2-1</td>\n",
       "      <td>Single 2 x 2 Brick (ABB)</td>\n",
       "      <td>1950</td>\n",
       "      <td>371</td>\n",
       "      <td>1</td>\n",
       "    </tr>\n",
       "    <tr>\n",
       "      <th>9546</th>\n",
       "      <td>700.B.1-1</td>\n",
       "      <td>Single 1 x 4 x 2 Window without Glass (ABB)</td>\n",
       "      <td>1950</td>\n",
       "      <td>371</td>\n",
       "      <td>1</td>\n",
       "    </tr>\n",
       "    <tr>\n",
       "      <th>9523</th>\n",
       "      <td>700.1.1-1</td>\n",
       "      <td>Single 2 x 4 Brick (ABB)</td>\n",
       "      <td>1950</td>\n",
       "      <td>371</td>\n",
       "      <td>1</td>\n",
       "    </tr>\n",
       "    <tr>\n",
       "      <th>9548</th>\n",
       "      <td>700.B.3-1</td>\n",
       "      <td>Single 1 x 2 x 2 Window without Glass (ABB)</td>\n",
       "      <td>1950</td>\n",
       "      <td>371</td>\n",
       "      <td>1</td>\n",
       "    </tr>\n",
       "    <tr>\n",
       "      <th>9549</th>\n",
       "      <td>700.B.4-1</td>\n",
       "      <td>Single 1 x 2 x 4 Door without Glass (ABB)</td>\n",
       "      <td>1950</td>\n",
       "      <td>371</td>\n",
       "      <td>1</td>\n",
       "    </tr>\n",
       "  </tbody>\n",
       "</table>\n",
       "</div>"
      ],
      "text/plain": [
       "        set_num                                         name  year  theme_id  \\\n",
       "9521    700.1-1                   Extra-Large Gift Set (ABB)  1949       365   \n",
       "9534    700.2-1                         Large Gift Set (ABB)  1949       365   \n",
       "9539    700.3-1                        Medium Gift Set (ABB)  1949       365   \n",
       "9544    700.A-1                        Small Brick Set (ABB)  1949       371   \n",
       "9545    700.B-1            Small Doors and Windows Set (ABB)  1949       371   \n",
       "9526  700.1.2-1                     Single 2 x 2 Brick (ABB)  1950       371   \n",
       "9546  700.B.1-1  Single 1 x 4 x 2 Window without Glass (ABB)  1950       371   \n",
       "9523  700.1.1-1                     Single 2 x 4 Brick (ABB)  1950       371   \n",
       "9548  700.B.3-1  Single 1 x 2 x 2 Window without Glass (ABB)  1950       371   \n",
       "9549  700.B.4-1    Single 1 x 2 x 4 Door without Glass (ABB)  1950       371   \n",
       "\n",
       "      num_parts  \n",
       "9521        142  \n",
       "9534        178  \n",
       "9539        142  \n",
       "9544         24  \n",
       "9545         12  \n",
       "9526          1  \n",
       "9546          1  \n",
       "9523          1  \n",
       "9548          1  \n",
       "9549          1  "
      ]
     },
     "execution_count": 12,
     "metadata": {},
     "output_type": "execute_result"
    }
   ],
   "source": [
    "# 최초의 레고 세트가 출시된 연도와 세트 이름 - 또다른 방법\n",
    "sets.sort_values('year').head(10)"
   ]
  },
  {
   "cell_type": "code",
   "execution_count": 11,
   "id": "17bd15f9",
   "metadata": {},
   "outputs": [
    {
     "data": {
      "text/html": [
       "<div>\n",
       "<style scoped>\n",
       "    .dataframe tbody tr th:only-of-type {\n",
       "        vertical-align: middle;\n",
       "    }\n",
       "\n",
       "    .dataframe tbody tr th {\n",
       "        vertical-align: top;\n",
       "    }\n",
       "\n",
       "    .dataframe thead th {\n",
       "        text-align: right;\n",
       "    }\n",
       "</style>\n",
       "<table border=\"1\" class=\"dataframe\">\n",
       "  <thead>\n",
       "    <tr style=\"text-align: right;\">\n",
       "      <th></th>\n",
       "      <th>set_num</th>\n",
       "      <th>name</th>\n",
       "      <th>year</th>\n",
       "      <th>theme_id</th>\n",
       "      <th>num_parts</th>\n",
       "    </tr>\n",
       "  </thead>\n",
       "  <tbody>\n",
       "    <tr>\n",
       "      <th>9521</th>\n",
       "      <td>700.1-1</td>\n",
       "      <td>Extra-Large Gift Set (ABB)</td>\n",
       "      <td>1949</td>\n",
       "      <td>365</td>\n",
       "      <td>142</td>\n",
       "    </tr>\n",
       "    <tr>\n",
       "      <th>9534</th>\n",
       "      <td>700.2-1</td>\n",
       "      <td>Large Gift Set (ABB)</td>\n",
       "      <td>1949</td>\n",
       "      <td>365</td>\n",
       "      <td>178</td>\n",
       "    </tr>\n",
       "    <tr>\n",
       "      <th>9539</th>\n",
       "      <td>700.3-1</td>\n",
       "      <td>Medium Gift Set (ABB)</td>\n",
       "      <td>1949</td>\n",
       "      <td>365</td>\n",
       "      <td>142</td>\n",
       "    </tr>\n",
       "    <tr>\n",
       "      <th>9544</th>\n",
       "      <td>700.A-1</td>\n",
       "      <td>Small Brick Set (ABB)</td>\n",
       "      <td>1949</td>\n",
       "      <td>371</td>\n",
       "      <td>24</td>\n",
       "    </tr>\n",
       "    <tr>\n",
       "      <th>9545</th>\n",
       "      <td>700.B-1</td>\n",
       "      <td>Small Doors and Windows Set (ABB)</td>\n",
       "      <td>1949</td>\n",
       "      <td>371</td>\n",
       "      <td>12</td>\n",
       "    </tr>\n",
       "  </tbody>\n",
       "</table>\n",
       "</div>"
      ],
      "text/plain": [
       "      set_num                               name  year  theme_id  num_parts\n",
       "9521  700.1-1         Extra-Large Gift Set (ABB)  1949       365        142\n",
       "9534  700.2-1               Large Gift Set (ABB)  1949       365        178\n",
       "9539  700.3-1              Medium Gift Set (ABB)  1949       365        142\n",
       "9544  700.A-1              Small Brick Set (ABB)  1949       371         24\n",
       "9545  700.B-1  Small Doors and Windows Set (ABB)  1949       371         12"
      ]
     },
     "execution_count": 11,
     "metadata": {},
     "output_type": "execute_result"
    }
   ],
   "source": [
    "# 레고는 운영 첫해에 얼마나 많은 제품을 팔았는지 계산\n",
    "sets[sets['year'] == 1949]"
   ]
  },
  {
   "cell_type": "markdown",
   "id": "faa9abfc",
   "metadata": {},
   "source": [
    "- 최초의 레고 세트가 출시된 연도와 이 세트의 이름은 \"1949년도\"에 최초로 출시한 \"Extra-Large Gift Set (ABB)\" 이다.\n",
    "- 그리고 레고 운영 첫해에 5가지 세트만 판매했다."
   ]
  },
  {
   "cell_type": "markdown",
   "id": "0ec84a8d",
   "metadata": {},
   "source": [
    "#### 부품수가 가장 많은 레고 세트는?"
   ]
  },
  {
   "cell_type": "code",
   "execution_count": 13,
   "id": "4799b8b1",
   "metadata": {},
   "outputs": [
    {
     "data": {
      "text/html": [
       "<div>\n",
       "<style scoped>\n",
       "    .dataframe tbody tr th:only-of-type {\n",
       "        vertical-align: middle;\n",
       "    }\n",
       "\n",
       "    .dataframe tbody tr th {\n",
       "        vertical-align: top;\n",
       "    }\n",
       "\n",
       "    .dataframe thead th {\n",
       "        text-align: right;\n",
       "    }\n",
       "</style>\n",
       "<table border=\"1\" class=\"dataframe\">\n",
       "  <thead>\n",
       "    <tr style=\"text-align: right;\">\n",
       "      <th></th>\n",
       "      <th>set_num</th>\n",
       "      <th>name</th>\n",
       "      <th>year</th>\n",
       "      <th>theme_id</th>\n",
       "      <th>num_parts</th>\n",
       "    </tr>\n",
       "  </thead>\n",
       "  <tbody>\n",
       "    <tr>\n",
       "      <th>15004</th>\n",
       "      <td>BIGBOX-1</td>\n",
       "      <td>The Ultimate Battle for Chima</td>\n",
       "      <td>2015</td>\n",
       "      <td>571</td>\n",
       "      <td>9987</td>\n",
       "    </tr>\n",
       "    <tr>\n",
       "      <th>11183</th>\n",
       "      <td>75192-1</td>\n",
       "      <td>UCS Millennium Falcon</td>\n",
       "      <td>2017</td>\n",
       "      <td>171</td>\n",
       "      <td>7541</td>\n",
       "    </tr>\n",
       "    <tr>\n",
       "      <th>10551</th>\n",
       "      <td>71043-1</td>\n",
       "      <td>Hogwarts Castle</td>\n",
       "      <td>2018</td>\n",
       "      <td>246</td>\n",
       "      <td>6020</td>\n",
       "    </tr>\n",
       "    <tr>\n",
       "      <th>295</th>\n",
       "      <td>10256-1</td>\n",
       "      <td>Taj Mahal</td>\n",
       "      <td>2017</td>\n",
       "      <td>673</td>\n",
       "      <td>5923</td>\n",
       "    </tr>\n",
       "    <tr>\n",
       "      <th>221</th>\n",
       "      <td>10189-1</td>\n",
       "      <td>Taj Mahal</td>\n",
       "      <td>2008</td>\n",
       "      <td>673</td>\n",
       "      <td>5922</td>\n",
       "    </tr>\n",
       "  </tbody>\n",
       "</table>\n",
       "</div>"
      ],
      "text/plain": [
       "        set_num                           name  year  theme_id  num_parts\n",
       "15004  BIGBOX-1  The Ultimate Battle for Chima  2015       571       9987\n",
       "11183   75192-1          UCS Millennium Falcon  2017       171       7541\n",
       "10551   71043-1                Hogwarts Castle  2018       246       6020\n",
       "295     10256-1                      Taj Mahal  2017       673       5923\n",
       "221     10189-1                      Taj Mahal  2008       673       5922"
      ]
     },
     "execution_count": 13,
     "metadata": {},
     "output_type": "execute_result"
    }
   ],
   "source": [
    "# 부품 수가 가장 많은 상위 5개 레고 세트는 \n",
    "sets.sort_values('num_parts', ascending=False).head()"
   ]
  },
  {
   "cell_type": "markdown",
   "id": "6f845c42",
   "metadata": {},
   "source": [
    "- 부품 수가 가장 많은 상위 5개의 레고를 추출했다. 결과는 부품수가 많은 순서대로 아래와 같다. \n",
    "    - The Ultimate Battle for Chima, 부품수 9,987개\n",
    "    - UCS Millennium Falcon, 부품수 7,541개\n",
    "    - Hogwarts Castle, 부품수 6,020개\n",
    "    - Taj Mahal(2017), 부품수 5,923개\n",
    "    - Taj Mahal(2008), 부품수 5,922개"
   ]
  },
  {
   "cell_type": "markdown",
   "id": "338505fe",
   "metadata": {},
   "source": [
    "## 3. 시각화 및 분석"
   ]
  },
  {
   "cell_type": "markdown",
   "id": "92387819",
   "metadata": {},
   "source": [
    "### 3-1. 연도 별 출시된 레고 세트수"
   ]
  },
  {
   "cell_type": "code",
   "execution_count": 14,
   "id": "2e88d21f",
   "metadata": {},
   "outputs": [
    {
     "data": {
      "image/png": "[encoded data removed]",
      "text/plain": [
       "<Figure size 1152x720 with 1 Axes>"
      ]
     },
     "metadata": {
      "needs_background": "light"
     },
     "output_type": "display_data"
    }
   ],
   "source": [
    "# 연도 별 출시된 레고 세트 수 시각화 \n",
    "sets_by_year = sets.groupby('year').count()\n",
    "\n",
    "# 년도별 출시 세트수 꺾은선 그래프로 나타내기\n",
    "plt.figure(figsize=(16,10))\n",
    "plt.xticks(fontsize=14)\n",
    "plt.yticks(fontsize=14)\n",
    "plt.plot(sets_by_year.index, sets_by_year.set_num)\n",
    "\n",
    "plt.show()"
   ]
  },
  {
   "cell_type": "code",
   "execution_count": 15,
   "id": "a5f3e5cf",
   "metadata": {},
   "outputs": [
    {
     "data": {
      "image/png": "[encoded data removed]",
      "text/plain": [
       "<Figure size 1152x720 with 1 Axes>"
      ]
     },
     "metadata": {
      "needs_background": "light"
     },
     "output_type": "display_data"
    }
   ],
   "source": [
    "# 연도 별 출시된 레고 세트 수 시각화 - 2020년 후반 데이터 삭제 후 다시 그래프 그리기\n",
    "plt.figure(figsize=(16,10))\n",
    "plt.xticks(fontsize=14)\n",
    "plt.yticks(fontsize=14)\n",
    "plt.plot(sets_by_year.index[:-2], sets_by_year.set_num[:-2])\n",
    "\n",
    "plt.show()"
   ]
  },
  {
   "cell_type": "markdown",
   "id": "089a98d7",
   "metadata": {},
   "source": [
    "- 데이터에는 2021년 데이터도 있다. 해당 데이터는 2020년 후반 데이터 이므로, 미래 지향적 기준으로 일부 세트가 이미 포함된 것으로 보여진다. 해당 데이터는 차트를 그릴 때 고려해야할 점 이다.\n",
    "- 레고가 운영 초반 몇 년 동안은 10가지 미만의 서로 다른 세트를 출시했다는 점을 알 수 있다. 하지만 2019년부터 회사가 놀랄 정도로 성장하여 해당 한해 동안 840 세트나 출시 하였다.\n",
    "- 레고는 처음 45여 년간 제공하는 제품을 꾸준히 증가시켰지만, 실제로 회사에서 생상한 세트 수가 급격히 증가한 것은 1990년대 중반 이었다. 또한 차트에서 2000년대 초반에 잠시 하락했고, 2005년경 강한 회복을 보여주다. 2008년도 글로벌 금융 위기로 다시 하락한다. 그러다 2010년 경에 폭발적인 회복세를 보여주는 양상을 보인다."
   ]
  },
  {
   "cell_type": "markdown",
   "id": "808ad8ff",
   "metadata": {},
   "source": [
    "### 3-2. 연도별 출시된 레고 테마수"
   ]
  },
  {
   "cell_type": "code",
   "execution_count": 16,
   "id": "43b7ae9d",
   "metadata": {},
   "outputs": [
    {
     "data": {
      "image/png": "[encoded data removed]",
      "text/plain": [
       "<Figure size 1152x720 with 1 Axes>"
      ]
     },
     "metadata": {
      "needs_background": "light"
     },
     "output_type": "display_data"
    }
   ],
   "source": [
    "# 연도별 출시된 레고 테마수 시각화 \n",
    "themes_by_year = sets.groupby('year').agg({'theme_id': pd.Series.nunique})   # 연도별 테마 수 추출 \n",
    "themes_by_year.rename(columns={'theme_id':'nr_themes'}, inplace=True)        # themes_by_year 컬럼명 변경 \n",
    "\n",
    "# 연도별로 출시된 테마수 추세 그래프 \n",
    "plt.figure(figsize=(16,10))\n",
    "plt.xticks(fontsize=14)\n",
    "plt.yticks(fontsize=14)\n",
    "plt.plot(themes_by_year.index[:-2], themes_by_year.nr_themes[:-2])\n",
    "\n",
    "plt.show()"
   ]
  },
  {
   "cell_type": "code",
   "execution_count": 33,
   "id": "1c53f3c4",
   "metadata": {},
   "outputs": [
    {
     "data": {
      "image/png": "[encoded data removed]",
      "text/plain": [
       "<Figure size 1152x720 with 2 Axes>"
      ]
     },
     "metadata": {
      "needs_background": "light"
     },
     "output_type": "display_data"
    }
   ],
   "source": [
    "# 축 개체에 또 다른 개체를 생성 후 그래프 그리기 - 스타일 추가 \n",
    "fig, ax1 = plt.subplots(figsize=(16, 10))     # 현재 축을 얻고 \n",
    "ax2 = ax1.twinx()                             # 동일한 x축을 공유하는 다른 축 생성\n",
    "\n",
    "# 차트 설정 및 스타일 추가 \n",
    "# 레고 테마\n",
    "ax1.plot(themes_by_year.index[:-2],           # x축 데이터 설정 \n",
    "         themes_by_year.nr_themes[:-2],       # y축 데이터 설정 \n",
    "         label='Number of Themes',            # ax1 y축 레이블 설정\n",
    "         linewidth=3,                         # 라인 두께 설정 \n",
    "         color='g')                           # 라인 색상 설정\n",
    "# 레고 세트\n",
    "ax2.plot(sets_by_year.index[:-2],             # x축 데이터 설정 \n",
    "         sets_by_year.set_num[:-2],           # y축 데이터 설정 \n",
    "         label='Number of Sets',              # ax2 y축 레이블 설정\n",
    "         linewidth=3,                         # 라인 색상 설정\n",
    "         color='b')                           # 라인 색상 설정 \n",
    "\n",
    "# 레이블 추가 \n",
    "ax1.set_xlabel('year', fontsize=14)                                # x축 레이블 추가 - 레이블 폰트 설정 \n",
    "ax1.set_ylabel('Number of Themes', color='green', fontsize=14)     # y축 첫 번째 레이블 추가 - 색상 설정: green\n",
    "ax2.set_ylabel('Number of Sets', color='blue', fontsize=14)        # y축 두 번째 레이블 추가 - 색상 설정: blue\n",
    "\n",
    "# 눈금 레이블의 글꼴 크기 설정\n",
    "ax1.tick_params(axis='both', labelsize=14)                         # ax1 모든축 폰트 설정          \n",
    "ax2.tick_params(axis='both', labelsize=14)                         # ax2 모든축 폰트 설정 \n",
    "\n",
    "ax1.legend(loc='upper left', fontsize=12, bbox_to_anchor=(0.0, 1.0))   # ax1 범레 설정 - 범례 위치, 폰트 사이즈, 위치 조정\n",
    "ax2.legend(loc='upper left', fontsize=12, bbox_to_anchor=(0.0, 0.95))  # ax2 범레 설정 - 범례 위치, 폰트 사이즈, 위치 조정\n",
    "\n",
    "plt.show()"
   ]
  },
  {
   "cell_type": "markdown",
   "id": "96b79171",
   "metadata": {},
   "source": [
    "- 레고가 운영 초반 몇 년 동안은 10가지 미만의 서로 다른 세트를 출시했다는 점을 알 수 있다. \n",
    "- 생산한 세트 수가 급격히 증가한 것은 1990년대 중반 이었다. \n",
    "- 2000년대 초반에 잠시 하락했고, 2005년경 강한 회복을 보여주다. 그러다가 2019년부터 회사가 놀랄 정도로 성장하여 해당 한해 동안 840 세트나 출시 하였다.\n",
    "- 차트에서 레고가 1990년대 중반까지 꽤 일관되게 점점 더 많은 테마를 추가했음을 알 수 있다. 그리고 2010년대 초반까지 약 10년 동안 테마의 수는 정체되었다."
   ]
  },
  {
   "cell_type": "markdown",
   "id": "4ae4c295",
   "metadata": {},
   "source": [
    "### 3-3. 해가 갈수록 레고 세트의 크기와 복잡도는 어떨까? "
   ]
  },
  {
   "cell_type": "code",
   "execution_count": 34,
   "id": "4e8615ad",
   "metadata": {},
   "outputs": [
    {
     "data": {
      "text/html": [
       "<div>\n",
       "<style scoped>\n",
       "    .dataframe tbody tr th:only-of-type {\n",
       "        vertical-align: middle;\n",
       "    }\n",
       "\n",
       "    .dataframe tbody tr th {\n",
       "        vertical-align: top;\n",
       "    }\n",
       "\n",
       "    .dataframe thead th {\n",
       "        text-align: right;\n",
       "    }\n",
       "</style>\n",
       "<table border=\"1\" class=\"dataframe\">\n",
       "  <thead>\n",
       "    <tr style=\"text-align: right;\">\n",
       "      <th></th>\n",
       "      <th>average_num_parts</th>\n",
       "    </tr>\n",
       "    <tr>\n",
       "      <th>year</th>\n",
       "      <th></th>\n",
       "    </tr>\n",
       "  </thead>\n",
       "  <tbody>\n",
       "    <tr>\n",
       "      <th>1949</th>\n",
       "      <td>99.600000</td>\n",
       "    </tr>\n",
       "    <tr>\n",
       "      <th>1950</th>\n",
       "      <td>1.000000</td>\n",
       "    </tr>\n",
       "    <tr>\n",
       "      <th>1953</th>\n",
       "      <td>13.500000</td>\n",
       "    </tr>\n",
       "    <tr>\n",
       "      <th>1954</th>\n",
       "      <td>12.357143</td>\n",
       "    </tr>\n",
       "    <tr>\n",
       "      <th>1955</th>\n",
       "      <td>36.607143</td>\n",
       "    </tr>\n",
       "    <tr>\n",
       "      <th>...</th>\n",
       "      <td>...</td>\n",
       "    </tr>\n",
       "    <tr>\n",
       "      <th>2017</th>\n",
       "      <td>221.840967</td>\n",
       "    </tr>\n",
       "    <tr>\n",
       "      <th>2018</th>\n",
       "      <td>213.618873</td>\n",
       "    </tr>\n",
       "    <tr>\n",
       "      <th>2019</th>\n",
       "      <td>207.510714</td>\n",
       "    </tr>\n",
       "    <tr>\n",
       "      <th>2020</th>\n",
       "      <td>259.732938</td>\n",
       "    </tr>\n",
       "    <tr>\n",
       "      <th>2021</th>\n",
       "      <td>0.000000</td>\n",
       "    </tr>\n",
       "  </tbody>\n",
       "</table>\n",
       "<p>71 rows × 1 columns</p>\n",
       "</div>"
      ],
      "text/plain": [
       "      average_num_parts\n",
       "year                   \n",
       "1949          99.600000\n",
       "1950           1.000000\n",
       "1953          13.500000\n",
       "1954          12.357143\n",
       "1955          36.607143\n",
       "...                 ...\n",
       "2017         221.840967\n",
       "2018         213.618873\n",
       "2019         207.510714\n",
       "2020         259.732938\n",
       "2021           0.000000\n",
       "\n",
       "[71 rows x 1 columns]"
      ]
     },
     "execution_count": 34,
     "metadata": {},
     "output_type": "execute_result"
    }
   ],
   "source": [
    "# 연도별 세트당 부품수 \n",
    "parts_per_set = sets.groupby('year').agg({'num_parts': pd.Series.mean})           # 레고 세트당 평균 부품 개\n",
    "parts_per_set.rename(columns={'num_parts':'average_num_parts'}, inplace=True)     # 컬럼명 변경\n",
    "parts_per_set"
   ]
  },
  {
   "cell_type": "code",
   "execution_count": 37,
   "id": "e24d7210",
   "metadata": {},
   "outputs": [
    {
     "data": {
      "image/png": "[encoded data removed]",
      "text/plain": [
       "<Figure size 432x288 with 1 Axes>"
      ]
     },
     "metadata": {
      "needs_background": "light"
     },
     "output_type": "display_data"
    }
   ],
   "source": [
    "# 산점도 그래프\n",
    "x = parts_per_set.index[:-2]\n",
    "y = parts_per_set.average_num_parts[:-2]\n",
    "\n",
    "plt.scatter(x, y) \n",
    "\n",
    "plt.show()"
   ]
  },
  {
   "cell_type": "markdown",
   "id": "4afcd2cb",
   "metadata": {},
   "source": [
    "- 차트를 보면 평균 부품수를 기준으로 레고 세트의 크기와 복잡도가 증가하는 흐름을 확실히 파악할 수 있다.\n",
    "- 2010년대에는 평균 세트에 약 200개 이상의 개별 부품이 들어있었는데, 이는 1960년대 레고 세트에 들어 있던 개별 부품수의 약 두 배 정도이다."
   ]
  },
  {
   "cell_type": "markdown",
   "id": "da1b0f36",
   "metadata": {},
   "source": [
    "### 3-4. 레고에서 가장 많은 세트를 보유한 테마는 어떤 것일까? "
   ]
  },
  {
   "cell_type": "code",
   "execution_count": 38,
   "id": "d7467805",
   "metadata": {},
   "outputs": [
    {
     "data": {
      "text/html": [
       "<div>\n",
       "<style scoped>\n",
       "    .dataframe tbody tr th:only-of-type {\n",
       "        vertical-align: middle;\n",
       "    }\n",
       "\n",
       "    .dataframe tbody tr th {\n",
       "        vertical-align: top;\n",
       "    }\n",
       "\n",
       "    .dataframe thead th {\n",
       "        text-align: right;\n",
       "    }\n",
       "</style>\n",
       "<table border=\"1\" class=\"dataframe\">\n",
       "  <thead>\n",
       "    <tr style=\"text-align: right;\">\n",
       "      <th></th>\n",
       "      <th>id</th>\n",
       "      <th>name</th>\n",
       "      <th>parent_id</th>\n",
       "    </tr>\n",
       "  </thead>\n",
       "  <tbody>\n",
       "    <tr>\n",
       "      <th>0</th>\n",
       "      <td>1</td>\n",
       "      <td>Technic</td>\n",
       "      <td>NaN</td>\n",
       "    </tr>\n",
       "    <tr>\n",
       "      <th>1</th>\n",
       "      <td>2</td>\n",
       "      <td>Arctic Technic</td>\n",
       "      <td>1.0</td>\n",
       "    </tr>\n",
       "    <tr>\n",
       "      <th>2</th>\n",
       "      <td>3</td>\n",
       "      <td>Competition</td>\n",
       "      <td>1.0</td>\n",
       "    </tr>\n",
       "    <tr>\n",
       "      <th>3</th>\n",
       "      <td>4</td>\n",
       "      <td>Expert Builder</td>\n",
       "      <td>1.0</td>\n",
       "    </tr>\n",
       "    <tr>\n",
       "      <th>4</th>\n",
       "      <td>5</td>\n",
       "      <td>Model</td>\n",
       "      <td>1.0</td>\n",
       "    </tr>\n",
       "  </tbody>\n",
       "</table>\n",
       "</div>"
      ],
      "text/plain": [
       "   id            name  parent_id\n",
       "0   1         Technic        NaN\n",
       "1   2  Arctic Technic        1.0\n",
       "2   3     Competition        1.0\n",
       "3   4  Expert Builder        1.0\n",
       "4   5           Model        1.0"
      ]
     },
     "execution_count": 38,
     "metadata": {},
     "output_type": "execute_result"
    }
   ],
   "source": [
    "# themes.csv 파일 열기 \n",
    "themes = pd.read_csv('data/themes.csv')\n",
    "themes.head()"
   ]
  },
  {
   "cell_type": "code",
   "execution_count": 40,
   "id": "9e3b23ca",
   "metadata": {},
   "outputs": [
    {
     "data": {
      "text/html": [
       "<div>\n",
       "<style scoped>\n",
       "    .dataframe tbody tr th:only-of-type {\n",
       "        vertical-align: middle;\n",
       "    }\n",
       "\n",
       "    .dataframe tbody tr th {\n",
       "        vertical-align: top;\n",
       "    }\n",
       "\n",
       "    .dataframe thead th {\n",
       "        text-align: right;\n",
       "    }\n",
       "</style>\n",
       "<table border=\"1\" class=\"dataframe\">\n",
       "  <thead>\n",
       "    <tr style=\"text-align: right;\">\n",
       "      <th></th>\n",
       "      <th>id</th>\n",
       "      <th>set_count</th>\n",
       "    </tr>\n",
       "  </thead>\n",
       "  <tbody>\n",
       "    <tr>\n",
       "      <th>0</th>\n",
       "      <td>158</td>\n",
       "      <td>753</td>\n",
       "    </tr>\n",
       "    <tr>\n",
       "      <th>1</th>\n",
       "      <td>501</td>\n",
       "      <td>656</td>\n",
       "    </tr>\n",
       "    <tr>\n",
       "      <th>2</th>\n",
       "      <td>494</td>\n",
       "      <td>398</td>\n",
       "    </tr>\n",
       "    <tr>\n",
       "      <th>3</th>\n",
       "      <td>435</td>\n",
       "      <td>356</td>\n",
       "    </tr>\n",
       "    <tr>\n",
       "      <th>4</th>\n",
       "      <td>503</td>\n",
       "      <td>329</td>\n",
       "    </tr>\n",
       "  </tbody>\n",
       "</table>\n",
       "</div>"
      ],
      "text/plain": [
       "    id  set_count\n",
       "0  158        753\n",
       "1  501        656\n",
       "2  494        398\n",
       "3  435        356\n",
       "4  503        329"
      ]
     },
     "execution_count": 40,
     "metadata": {},
     "output_type": "execute_result"
    }
   ],
   "source": [
    "# 레고 테마당 세트 개수 시리즈를 데이터프레임으로 변환 \n",
    "set_theme_count = sets['theme_id'].value_counts()\n",
    "set_theme_count = pd.DataFrame({'id': set_theme_count.index,\n",
    "                               'set_count': set_theme_count.values})\n",
    "set_theme_count.head()"
   ]
  },
  {
   "cell_type": "code",
   "execution_count": 41,
   "id": "328ea85c",
   "metadata": {},
   "outputs": [
    {
     "data": {
      "text/html": [
       "<div>\n",
       "<style scoped>\n",
       "    .dataframe tbody tr th:only-of-type {\n",
       "        vertical-align: middle;\n",
       "    }\n",
       "\n",
       "    .dataframe tbody tr th {\n",
       "        vertical-align: top;\n",
       "    }\n",
       "\n",
       "    .dataframe thead th {\n",
       "        text-align: right;\n",
       "    }\n",
       "</style>\n",
       "<table border=\"1\" class=\"dataframe\">\n",
       "  <thead>\n",
       "    <tr style=\"text-align: right;\">\n",
       "      <th></th>\n",
       "      <th>id</th>\n",
       "      <th>set_count</th>\n",
       "      <th>name</th>\n",
       "      <th>parent_id</th>\n",
       "    </tr>\n",
       "  </thead>\n",
       "  <tbody>\n",
       "    <tr>\n",
       "      <th>0</th>\n",
       "      <td>158</td>\n",
       "      <td>753</td>\n",
       "      <td>Star Wars</td>\n",
       "      <td>NaN</td>\n",
       "    </tr>\n",
       "    <tr>\n",
       "      <th>1</th>\n",
       "      <td>501</td>\n",
       "      <td>656</td>\n",
       "      <td>Gear</td>\n",
       "      <td>NaN</td>\n",
       "    </tr>\n",
       "    <tr>\n",
       "      <th>2</th>\n",
       "      <td>494</td>\n",
       "      <td>398</td>\n",
       "      <td>Friends</td>\n",
       "      <td>NaN</td>\n",
       "    </tr>\n",
       "    <tr>\n",
       "      <th>3</th>\n",
       "      <td>435</td>\n",
       "      <td>356</td>\n",
       "      <td>Ninjago</td>\n",
       "      <td>NaN</td>\n",
       "    </tr>\n",
       "    <tr>\n",
       "      <th>4</th>\n",
       "      <td>503</td>\n",
       "      <td>329</td>\n",
       "      <td>Key Chain</td>\n",
       "      <td>501.0</td>\n",
       "    </tr>\n",
       "  </tbody>\n",
       "</table>\n",
       "</div>"
      ],
      "text/plain": [
       "    id  set_count       name  parent_id\n",
       "0  158        753  Star Wars        NaN\n",
       "1  501        656       Gear        NaN\n",
       "2  494        398    Friends        NaN\n",
       "3  435        356    Ninjago        NaN\n",
       "4  503        329  Key Chain      501.0"
      ]
     },
     "execution_count": 41,
     "metadata": {},
     "output_type": "execute_result"
    }
   ],
   "source": [
    "# 두 데이터프레임(set_theme_count, themes) merge 하기 \n",
    "merge_df = pd.merge(set_theme_count, themes, on='id')\n",
    "merge_df.head()"
   ]
  },
  {
   "cell_type": "markdown",
   "id": "6ccd815f",
   "metadata": {},
   "source": [
    "- 두 개의 데이터프레임을 하나의 특정 열에 \".merge()\"하기 위해서는 해당 두 데이터프레임 및 병합한 열 이름을 알려줘야 한다. 그래서 \"on='id'\"를 설정한 것이다.\n",
    "- 병합한 데이터프레임을 확인해보니 스타워즈는 진정 가장 많은 레고 세트를 낸 테마라는걸 세삼 느낀다."
   ]
  },
  {
   "cell_type": "code",
   "execution_count": 43,
   "id": "6c682c59",
   "metadata": {},
   "outputs": [
    {
     "data": {
      "image/png": "[encoded data removed]",
      "text/plain": [
       "<Figure size 1008x576 with 1 Axes>"
      ]
     },
     "metadata": {
      "needs_background": "light"
     },
     "output_type": "display_data"
    }
   ],
   "source": [
    "# 병합한 데이터프레임을 바탕으로 상위 10개 테마를 표시하는 막대 차트 그리기 \n",
    "plt.figure(figsize=(14, 8))                       # 차트 사이즈 설정 \n",
    "plt.xticks(fontsize=14, rotation=45)              # x축 폰트 사이즈 및 폰트 회전 각도 조절 \n",
    "plt.yticks(fontsize=14)                           # y축 폰트 사이즈 조절\n",
    "plt.ylabel(\"Number of Sets\", fontsize=14)         # y축 label 설정  \n",
    "plt.xlabel(\"Theme Name\", fontsize=14)             # x축 label 설정 \n",
    "\n",
    "plt.bar(merge_df.name[:10], merge_df.set_count[:10])   # 막대 차트 설정 (x축, y축 데이터 설정)\n",
    "\n",
    "plt.show()"
   ]
  },
  {
   "cell_type": "markdown",
   "id": "b5176d0f",
   "metadata": {},
   "source": [
    "## 분석 결과 \n",
    "\n",
    "### 1. 지금까지 만들어진 가장 거대한 레고 세트는 무엇이며 몇 개의 부품으로 구성되어 있을까?\n",
    "- 데이터셋 기준 만들어진 가장 거대한 레고 세트는 부품수 9,987개로 구성된 \"Chima\"시리즈의 \"The Ultimate Battle for Chima\" 세트 이다.\n",
    "\n",
    "<img src=\"assets/chima.png\">\n",
    "\n",
    "### 2. 최초의 레고 세트가 출시된 연도와 처음 출시되었을 때 회사에서 판매한 세트 수는 몇 개일까?\n",
    "- 최초의 레고 세트가 출시된 연도는 \"1949년\"이고 출시된 세트는 \"Extra-Large Gift Set (ABB)\" 이다.\n",
    "- 처음 출시된 연도 기준으로 회사에서 판매한 레고 세트 수는 5개로 확인되었다.\n",
    "\n",
    "<img src=\"assets/700-1-1.png\">\n",
    "\n",
    "### 3. 레고에서 가장 많은 세트를 보유한 테마는 어떤 것일까? 해리포터, 닌자고, 프렌즈 아니면 다른 것일까?\n",
    "- 레고에서 가장 많은 세트를 보유한 테마는 스타워즈 시리즈 였다.\n",
    "\n",
    "<img src=\"assets/lego_star_wars.png\" width=\"40%\" height=\"30%\">\n",
    "\n",
    "### 4. 레고 회사는 실제로 언제 출시된 제품을 기반으로 도약했을까? 매년 몇 개의 테마와 세트가 출시될까?\n",
    "- 레고가 운영 초반 몇 년 동안은 10가지 미만의 서로 다른 세트를 출시했다는 점을 알 수 있다. \n",
    "- 생산한 세트 수가 급격히 증가한 것은 1990년대 중반 이었다. \n",
    "- 2000년대 초반에 잠시 하락했고, 2005년경 강한 회복을 보여주다. 그러다가 2019년부터 회사가 놀랄 정도로 성장하여 해당 한해 동안 840 세트나 출시 하였다.\n",
    "- 차트에서 레고가 1990년대 중반까지 꽤 일관되게 점점 더 많은 테마를 추가했음을 알 수 있다. 그리고 2010년대 초반까지 약 10년 동안 테마의 수는 정체되었다.\n",
    "\n",
    "### 5. 레고 세트는 해가 갈수록 크기와 복잡도가 늘어날까? 예전 레고 세트는 요즘 세트와 비교했을 때 부품이 더 적을까\n",
    "- 평균 부품수를 기준으로 레고 세트의 크기와 복잡도가 증가하는 흐름을 확실히 파악할 수 있었다.\n",
    "- 2010년대에는 평균 세트에 약 200개 이상의 개별 부품이 들어있었는데, 이는 1960년대 레고 세트에 들어 있던 개별 부품수의 약 두 배 정도이다."
   ]
  },
  {
   "cell_type": "code",
   "execution_count": null,
   "id": "4c8dcb63",
   "metadata": {},
   "outputs": [],
   "source": []
  }
 ],
 "metadata": {
  "kernelspec": {
   "display_name": "Python 3 (ipykernel)",
   "language": "python",
   "name": "python3"
  },
  "language_info": {
   "codemirror_mode": {
    "name": "ipython",
    "version": 3
   },
   "file_extension": ".py",
   "mimetype": "text/x-python",
   "name": "python",
   "nbconvert_exporter": "python",
   "pygments_lexer": "ipython3",
   "version": "3.8.12"
  }
 },
 "nbformat": 4,
 "nbformat_minor": 5
}
