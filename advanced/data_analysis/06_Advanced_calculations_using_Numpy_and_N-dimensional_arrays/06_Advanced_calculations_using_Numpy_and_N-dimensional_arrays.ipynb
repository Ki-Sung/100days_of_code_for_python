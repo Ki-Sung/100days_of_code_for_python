{
 "cells": [
  {
   "cell_type": "markdown",
   "id": "d33ff888",
   "metadata": {},
   "source": [
    "## Numpy와 N차원 배열을 사용하는 고급 계산\n",
    "- Numpy(Numerical Python)을 배우지 않고서는 데이터 사이언스를 완료할 수 없다. Numpy는 과학과 공학의 거의 모든 분야에서 사용되고 있는 파이썬 라이브러리이다.\n",
    "- 이것은 사실상 파이썬에서 사용되고 있는 표준이다. Numpy가 어떻게 사용되고 있는지 사례를 살펴보자.\n",
    "\n",
    "<img src=\"asset/numpy_case_study.png\">\n",
    "\n",
    "\n",
    "- 지금까지 우리는 Pandas를 사용했고, 이것은 Numpy를 기반으로 만들어진 것이다. \n",
    "- Pandas를 시계열에 사용하거나 누락된 데이터를 찾고 결합, 병합 및 그룹화하는 고급 데이터 조작 툴로 생각한다면, Numpy는 복잡한 수학과 계산 등 낮은 수준의 작업에서 빛을 발한다. "
   ]
  },
  {
   "cell_type": "markdown",
   "id": "a147858b",
   "metadata": {},
   "source": [
    "### 이번 시간에 배울 내용 \n",
    "- Numpy의 ndarrays 기능의 활용 \n",
    "- n차원 배열 안의 개별 값과 하위 집합에 접근하는 방법 \n",
    "- ndarray 브로드캐스팅의 작동 방식\n",
    "- Numpy로 수행하는 선형대수학\n",
    "- 차트에 점 생성 \n",
    "- Ndarray로 이미지 조작\n",
    "\n",
    "<img src=\"asset/numpy.png\">"
   ]
  },
  {
   "cell_type": "code",
   "execution_count": null,
   "id": "bc1515b0",
   "metadata": {},
   "outputs": [],
   "source": []
  }
 ],
 "metadata": {
  "kernelspec": {
   "display_name": "Python 3 (ipykernel)",
   "language": "python",
   "name": "python3"
  },
  "language_info": {
   "codemirror_mode": {
    "name": "ipython",
    "version": 3
   },
   "file_extension": ".py",
   "mimetype": "text/x-python",
   "name": "python",
   "nbconvert_exporter": "python",
   "pygments_lexer": "ipython3",
   "version": "3.8.12"
  }
 },
 "nbformat": 4,
 "nbformat_minor": 5
}
