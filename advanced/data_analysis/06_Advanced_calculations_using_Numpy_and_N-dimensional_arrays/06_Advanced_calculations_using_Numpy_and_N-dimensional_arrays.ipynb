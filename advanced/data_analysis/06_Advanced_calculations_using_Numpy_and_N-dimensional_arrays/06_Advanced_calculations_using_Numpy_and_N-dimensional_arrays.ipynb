{
 "cells": [
  {
   "cell_type": "markdown",
   "id": "d33ff888",
   "metadata": {},
   "source": [
    "## Numpy와 N차원 배열을 사용하는 고급 계산\n",
    "- Numpy(Numerical Python)을 배우지 않고서는 데이터 사이언스를 완료할 수 없다. Numpy는 과학과 공학의 거의 모든 분야에서 사용되고 있는 파이썬 라이브러리이다.\n",
    "- 이것은 사실상 파이썬에서 사용되고 있는 표준이다. Numpy가 어떻게 사용되고 있는지 사례를 살펴보자.\n",
    "\n",
    "<img src=\"asset/numpy_case_study.png\">\n",
    "\n",
    "\n",
    "- 지금까지 우리는 Pandas를 사용했고, 이것은 Numpy를 기반으로 만들어진 것이다. \n",
    "- Pandas를 시계열에 사용하거나 누락된 데이터를 찾고 결합, 병합 및 그룹화하는 고급 데이터 조작 툴로 생각한다면, Numpy는 복잡한 수학과 계산 등 낮은 수준의 작업에서 빛을 발한다. "
   ]
  },
  {
   "cell_type": "markdown",
   "id": "a147858b",
   "metadata": {},
   "source": [
    "### 이번 시간에 배울 내용 \n",
    "- Numpy의 ndarrays 기능의 활용 \n",
    "- n차원 배열 안의 개별 값과 하위 집합에 접근하는 방법 \n",
    "- ndarray 브로드캐스팅의 작동 방식\n",
    "- Numpy로 수행하는 선형대수학\n",
    "- 차트에 점 생성 \n",
    "- Ndarray로 이미지 조작\n",
    "\n",
    "<img src=\"asset/numpy.png\">"
   ]
  },
  {
   "cell_type": "markdown",
   "id": "e235da8f",
   "metadata": {},
   "source": [
    "### 1. Numpy의 ndarray - 손쉽게 사용할 수 있는 놀라운 능력!"
   ]
  },
  {
   "cell_type": "code",
   "execution_count": 2,
   "id": "05bf64f4",
   "metadata": {},
   "outputs": [],
   "source": [
    "# 필요 모듚 임포트 \n",
    "import numpy as np \n",
    "\n",
    "import matplotlib.pyplot as plt \n",
    "from scipy import misc          # 라콘의 이미지를 포함하는 위해 scipy 사용 \n",
    "from PIL import Image          # 이미지 파일을 읽기 위한 모듈 "
   ]
  },
  {
   "cell_type": "markdown",
   "id": "0a380c1a",
   "metadata": {},
   "source": [
    "- 관례에 따라 Numpy는 np라는 이름을 사용한다. Numpy의 가장 아름다운 기능은 \"ndarray\"이다. \"Ndarray\"는 \"균일한 n차원 배열 객체\"를 의미한다.\n",
    "- 파이썬 리스트 또는 Pandas 데이터프레임에는 문자열이나 숫자, 객체들이 혼합되어 있을 수 도 있다(서로 다른 유형이 혼합되었다는 말). \"균일하다\"는 뜻은 모든 데이터가 같은 데이터 유형(예: 모든 데이터가 부동 소수점)을 가진다는 것을 의미한다.\n",
    "- n차원은 하나의 열(1차원)에서 매트릭스(2차원), 서로 겹쳐진 행렬(n차원)까지 모든 것을 다룰 수 있다는 것을 의미한다.\n",
    "\n",
    "<img src=\"asset/n_demantion.png\">"
   ]
  },
  {
   "cell_type": "markdown",
   "id": "35c18a07",
   "metadata": {},
   "source": [
    "#### 1-1. 1차원 배열"
   ]
  },
  {
   "cell_type": "markdown",
   "id": "7d829875",
   "metadata": {},
   "source": [
    "- \"vector\"라는 1차원 배열을 만들어보자."
   ]
  },
  {
   "cell_type": "code",
   "execution_count": 5,
   "id": "6c763d92",
   "metadata": {},
   "outputs": [
    {
     "name": "stdout",
     "output_type": "stream",
     "text": [
      "(4,)\n",
      "8.1\n",
      "1\n"
     ]
    }
   ],
   "source": [
    "# 1차원 배열 \n",
    "my_array = np.array([1.1, 9.2, 8.1, 4.7])    # 1차원 배열 설정 \n",
    "print(my_array.shape)                        # 1차원 배열 크기 확인  \n",
    "print(my_array[2])                           # 인덱스에 의한 접근 요소\n",
    "print(my_array.ndim)                         # 차원 확인"
   ]
  },
  {
   "cell_type": "markdown",
   "id": "93bfe26b",
   "metadata": {},
   "source": [
    "- \"my_array\"는 모양을 보면 1차원 배열이라는 것을 알 수 있다. 파이썬 리스트 작업 방식과 유사하게, ndarray의 인덱스를 통해 각 요소에 접근할 수 있다. \n",
    "- \"ndim\" 특성을 이용해 \"my_array\"의 차원을 확인 할 수 있다."
   ]
  },
  {
   "cell_type": "markdown",
   "id": "85767019",
   "metadata": {},
   "source": [
    "#### 1-2. 2차원 "
   ]
  },
  {
   "cell_type": "markdown",
   "id": "c6c74341",
   "metadata": {},
   "source": [
    "- \"matrix\"라는 2차원 배열을 만들어보자"
   ]
  },
  {
   "cell_type": "code",
   "execution_count": 6,
   "id": "26f32393",
   "metadata": {},
   "outputs": [
    {
     "name": "stdout",
     "output_type": "stream",
     "text": [
      "array_2d has 2 dimensions\n",
      "Shape is (2, 4)\n",
      "It has 2 rows and 4 columns\n",
      "[[1 2 3 9]\n",
      " [5 6 7 8]]\n"
     ]
    }
   ],
   "source": [
    "# 2차원 배열 \n",
    "array_2d = np.array([[1, 2, 3, 9], [5, 6, 7, 8]])\n",
    "print(f'array_2d has {array_2d.ndim} dimensions')\n",
    "print(f'Shape is {array_2d.shape}')\n",
    "print(f'It has {array_2d.shape[0]} rows and {array_2d.shape[1]} columns')\n",
    "print(array_2d)"
   ]
  },
  {
   "cell_type": "markdown",
   "id": "edb79236",
   "metadata": {},
   "source": [
    "- 위 1차원 배열 때와 마찬가지로 대괄호 표기를 통해 특정 행이나 특정 값에 접근할 수 있다. \n",
    "- 특정 값에 접근하려면 각 차원에 대한 인덱스가 필요하다. 위의 예제는 2차원이기 때문에, 행과 열에 대한 인덱스를 각각 제공해야 한다."
   ]
  },
  {
   "cell_type": "code",
   "execution_count": 7,
   "id": "9f3c5cdf",
   "metadata": {},
   "outputs": [
    {
     "data": {
      "text/plain": [
       "7"
      ]
     },
     "execution_count": 7,
     "metadata": {},
     "output_type": "execute_result"
    }
   ],
   "source": [
    "# 2차원 배열 특정 값에 접근 - 2행의 3번쨰 값 접근 \n",
    "array_2d[1, 2]"
   ]
  },
  {
   "cell_type": "markdown",
   "id": "11c818ec",
   "metadata": {},
   "source": [
    "- 위의 코드는 2차원 배열의 특정 값을 접근하기 위한 방법이다. \n",
    "- 접근하고자 하는 값은 2행의 3번째 값이다. "
   ]
  },
  {
   "cell_type": "code",
   "execution_count": 9,
   "id": "0f48f399",
   "metadata": {},
   "outputs": [
    {
     "data": {
      "text/plain": [
       "array([1, 2, 3, 9])"
      ]
     },
     "execution_count": 9,
     "metadata": {},
     "output_type": "execute_result"
    }
   ],
   "source": [
    "# 2차원 배열 특정 값에 접근 - 첫 번째 행 전체 값 접근 \n",
    "array_2d[0, :]"
   ]
  },
  {
   "cell_type": "markdown",
   "id": "81ae5f6f",
   "metadata": {},
   "source": [
    "- 전체 행과 그 행의 모든 값에 접근하려면 파이썬 리스트의 경우와 같이 콜론(:)을 사용한다. \n",
    "- 접근하고자 하는 값은 첫 번쨰 행의 전체 값이다."
   ]
  },
  {
   "cell_type": "markdown",
   "id": "215e3467",
   "metadata": {},
   "source": [
    "#### 3. n차원 배열"
   ]
  },
  {
   "cell_type": "markdown",
   "id": "4696a0ab",
   "metadata": {},
   "source": [
    "- 3차원 또는 그 이상의 배열은 보통 텐서라고 한다. (머신러닝 도구인 텐서플로우가 여기서 이름을 따왔다.)\n",
    "- 텐서는 단순히 n차원 배열을 말한다. "
   ]
  },
  {
   "cell_type": "code",
   "execution_count": 42,
   "id": "796b3c54",
   "metadata": {},
   "outputs": [
    {
     "name": "stdout",
     "output_type": "stream",
     "text": [
      "mystery_array has 3 dimensions\n",
      "Shape is (3, 2, 4)\n",
      "The Last value is \"18\" -> Axis 0: 3rd element. Aixs 1: 2nd Element. Axis 3: 4th element\n",
      "Retrieve all the elements on the 3rd axis that are at: \"[97  0 27 18]\" -> Position 2 on the first axis and position 1 on the second axis\n",
      "All the first elements on axis number 3: \"[[ 0  4]\n",
      " [ 7  5]\n",
      " [ 5 97]]\"\n"
     ]
    }
   ],
   "source": [
    "mystery_array = np.array([[[0, 1, 2, 3],\n",
    "                           [4, 5, 6, 7]],\n",
    "                        \n",
    "                         [[7, 86, 6, 98],\n",
    "                          [5, 1, 0, 4]],\n",
    "                          \n",
    "                          [[5, 36, 32, 48],\n",
    "                           [97, 0, 27, 18]]])\n",
    "\n",
    "print(f'mystery_array has {mystery_array.ndim} dimensions')\n",
    "print(f'Shape is {mystery_array.shape}')\n",
    "print(f'The Last value is \"{mystery_array[2, 1, 3]}\" -> Axis 0: 3rd element. Aixs 1: 2nd Element. Axis 3: 4th element')\n",
    "print(f'Retrieve all the elements on the 3rd axis that are at: \"{mystery_array[2, 1, :]}\" -> Position 2 on the first axis and position 1 on the second axis')\n",
    "print(f'All the first elements on axis number 3: \"{mystery_array[:, :, 0]}\"')"
   ]
  },
  {
   "cell_type": "markdown",
   "id": "3d694e98",
   "metadata": {},
   "source": [
    "- 고차원 배열의 경우 위와 동일하게 \"ndim\"과 \"shape\"속성으로 각각 축의 수와 길이를 볼 수 있다. \n",
    "- \"mystery_array\"의 경우 (3, 2, 4)의 모양을 하고 있으므로, 첫 번째 축에 3개의 원소가, 두 번쨰 축에는 2개, 세 번째 축에 원소가 4개가 있다.\n",
    "- 만약 맨 마지막 값 \"18\"에 접근하려면, 각 축에 하나씩 총 3개의 다른 지수를 제공해야 한다. 첫 번쨰 축은 2에, 두 번째 축은 1에, 마지막 세 번째 축은 3에 위치한다. \n",
    "- \"[97  0 27 18]\" 값은 3번째 축에 존재하며, 첫 번째 축에는 위치 2에, 두 번째 축에는 위치 1에 있다.\n",
    "- 마지막으로, 각각의 첫 번째 요소 전체를 검색하려면 두 차원에 대해 콜론(:) 연산자를 사용하여 세 번째 축의 첫 번째 요소를 검색하면 된다. \n",
    "- 대괄호 가이드로 사용하기 때문에, ndarray는 3차원 이상으로 시각화하기가 매우 어렵다. 따라서 불분명하거나 혼란스러우면 계속해서 코드를 봐야 한다. "
   ]
  },
  {
   "cell_type": "markdown",
   "id": "f7e03871",
   "metadata": {},
   "source": [
    "### 2. ndarray 생성 및 조작하기 \n",
    "- Numpy는 많은 기능들에 대해 정말 많은 문서를 가지고 있다. 히지만 Numpy를 실제로 배우는 가장 좋은 방법은, 목록을 하나씩 살펴보는 것 보다 이를 일련의 작은 문제에 적용시켜보는 것이다. \n",
    "- 이렇게 하면 데이터 사이언스 과정에서도 접할 수 있는 일반적인 용례에 Numpy를 사용하는 방법을 익히게 된다. "
   ]
  },
  {
   "cell_type": "code",
   "execution_count": 44,
   "id": "5d62b6e6",
   "metadata": {},
   "outputs": [
    {
     "name": "stdout",
     "output_type": "stream",
     "text": [
      "[10 11 12 13 14 15 16 17 18 19 20 21 22 23 24 25 26 27 28]\n"
     ]
    }
   ],
   "source": [
    "# 과제1 - arange()를 이용하여 10~29인 벡터 생성 \n",
    "a = np.arange(10, 29)\n",
    "print(a)"
   ]
  },
  {
   "cell_type": "markdown",
   "id": "2e8aff56",
   "metadata": {},
   "source": [
    "- 이전에는 NumPy 배열을 \"np.array([1.1, 9.2, 8.1, 4.7])\"와 같이 수동으로 생성했으나, .arange()와 같은 내장 함수를 통해 NumPy 배열을 만들 수도 있다. \n",
    "- 이 경우 시작값과 최종값만 전달하면 일정 간격으로 값의 배열을 만들 수 있다."
   ]
  },
  {
   "cell_type": "code",
   "execution_count": 53,
   "id": "dc26b0a4",
   "metadata": {},
   "outputs": [
    {
     "data": {
      "text/plain": [
       "array([26, 27, 28])"
      ]
     },
     "execution_count": 53,
     "metadata": {},
     "output_type": "execute_result"
    }
   ],
   "source": [
    "# 과제 2-1 - 마지막 3개 값 출력 \n",
    "a[-3:]"
   ]
  },
  {
   "cell_type": "code",
   "execution_count": 54,
   "id": "d897dfeb",
   "metadata": {},
   "outputs": [
    {
     "data": {
      "text/plain": [
       "array([13, 14, 15])"
      ]
     },
     "execution_count": 54,
     "metadata": {},
     "output_type": "execute_result"
    }
   ],
   "source": [
    "# 과제 2-2 - 4, 5, 6번째 값만 사용하여 하위 집합 만들기\n",
    "a[3:6]"
   ]
  },
  {
   "cell_type": "code",
   "execution_count": 65,
   "id": "30875468",
   "metadata": {},
   "outputs": [
    {
     "data": {
      "text/plain": [
       "array([22, 23, 24, 25, 26, 27, 28])"
      ]
     },
     "execution_count": 65,
     "metadata": {},
     "output_type": "execute_result"
    }
   ],
   "source": [
    "# 과제 2-3 - 처음 12를 제외한 나머지 모두를 포함하는 하위 집단 만들기\n",
    "a[12:]"
   ]
  },
  {
   "cell_type": "code",
   "execution_count": 57,
   "id": "83620558",
   "metadata": {},
   "outputs": [
    {
     "data": {
      "text/plain": [
       "array([10, 12, 14, 16, 18, 20, 22, 24, 26, 28])"
      ]
     },
     "execution_count": 57,
     "metadata": {},
     "output_type": "execute_result"
    }
   ],
   "source": [
    "# 과제 2-4 - 짝수만 포함하는 부분 집합 만들기 \n",
    "# a[::2]\n",
    "a[a % 2 == 0]"
   ]
  },
  {
   "cell_type": "markdown",
   "id": "17226359",
   "metadata": {},
   "source": [
    "- 위의 세 가지 과제는 콜론(:) 연산자를 사용하여, 배열에서 범위나 간격을 선택하는데 이번에는 약간의 수정이 필요했다."
   ]
  },
  {
   "cell_type": "code",
   "execution_count": 52,
   "id": "9c9a731a",
   "metadata": {},
   "outputs": [
    {
     "data": {
      "text/plain": [
       "array([28, 27, 26, 25, 24, 23, 22, 21, 20, 19, 18, 17, 16, 15, 14, 13, 12,\n",
       "       11, 10])"
      ]
     },
     "execution_count": 52,
     "metadata": {},
     "output_type": "execute_result"
    }
   ],
   "source": [
    "# 과제 3 - a값 순서 반대로 출력 \n",
    "np.flip(a)"
   ]
  },
  {
   "cell_type": "markdown",
   "id": "6ab32087",
   "metadata": {},
   "source": [
    "- 순서를 바꾸려면, 클론 연사자를 사용하여 내장된 함수를 사용할 수 있다. "
   ]
  },
  {
   "cell_type": "code",
   "execution_count": 69,
   "id": "f22d2174",
   "metadata": {},
   "outputs": [
    {
     "data": {
      "text/plain": [
       "(array([0, 2, 5]),)"
      ]
     },
     "execution_count": 69,
     "metadata": {},
     "output_type": "execute_result"
    }
   ],
   "source": [
    "# 과제 4 - 0이 아닌 요소의 인덱스를 전부 출력 \n",
    "b = np.array([6, 0, 9, 0, 0, 5, 0])\n",
    "nz_indices = np.nonzero(b)\n",
    "nz_indices"
   ]
  },
  {
   "cell_type": "code",
   "execution_count": 62,
   "id": "dbd40ca9",
   "metadata": {},
   "outputs": [
    {
     "data": {
      "text/plain": [
       "array([[[2.55720449e-03, 4.40249204e-01, 7.54394690e-01],\n",
       "        [3.53754906e-01, 9.96995122e-01, 8.91208024e-02],\n",
       "        [5.32301030e-01, 5.57676233e-01, 8.57114093e-01]],\n",
       "\n",
       "       [[2.00626839e-02, 1.27900449e-02, 8.84509178e-02],\n",
       "        [2.16799704e-01, 8.22577181e-01, 2.51523834e-01],\n",
       "        [8.71872797e-01, 2.87884223e-05, 5.04594686e-01]],\n",
       "\n",
       "       [[6.31061293e-01, 2.10096075e-01, 8.25582172e-01],\n",
       "        [9.19043821e-01, 1.82581411e-01, 4.46977636e-01],\n",
       "        [2.02850826e-01, 5.83433740e-02, 3.89708454e-01]]])"
      ]
     },
     "execution_count": 62,
     "metadata": {},
     "output_type": "execute_result"
    }
   ],
   "source": [
    "# 과제 5 - 3x3x3 배열 생성 - random 함수 사용 \n",
    "random_array = np.random.random((3, 3, 3))\n",
    "random_array"
   ]
  },
  {
   "cell_type": "code",
   "execution_count": null,
   "id": "69cbd669",
   "metadata": {},
   "outputs": [],
   "source": []
  }
 ],
 "metadata": {
  "kernelspec": {
   "display_name": "Python 3 (ipykernel)",
   "language": "python",
   "name": "python3"
  },
  "language_info": {
   "codemirror_mode": {
    "name": "ipython",
    "version": 3
   },
   "file_extension": ".py",
   "mimetype": "text/x-python",
   "name": "python",
   "nbconvert_exporter": "python",
   "pygments_lexer": "ipython3",
   "version": "3.8.12"
  }
 },
 "nbformat": 4,
 "nbformat_minor": 5
}
