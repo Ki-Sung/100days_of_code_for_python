{
 "cells": [
  {
   "cell_type": "markdown",
   "id": "13dc1f75",
   "metadata": {},
   "source": [
    "## 보스턴 집값 예측\n",
    "\n",
    "<img src=\"assets/boston.png\">\n",
    "\n",
    "- 1970년대 매사추세츠주 보스턴에서 우리가 부동산 개발 회사에서 일하고 있다고 기장헤보자. 주거지 프로젝트를 시작하기 전에 평가해 보려고 한다. 우리는 아래와 같이 집의 특성에 따라 가격 견적서를 제공하는 모델을 만들어야 한다.\n",
    "    - 방의 개수\n",
    "    - 고용 센터까지의 거리\n",
    "    - 지역의 경제력 수준\n",
    "    - 지역 학교의 교사당 학생 수 등"
   ]
  },
  {
   "cell_type": "markdown",
   "id": "aad06eef",
   "metadata": {},
   "source": [
    "- 우리가 이번 시간을 통해 배우거나 작업할 사항은 아래와 같다. \n",
    "    1. 보스턴 집의 가격 데이터를 분석, 연구\n",
    "    2. 데이터를 훈련용과 테스트용으로 나누기\n",
    "    3. 다변수 회귀 분석을 수행\n",
    "    4. 모델의 계수와 잔차 평가\n",
    "    5. 모델 성능을 개선하기 위해 데이터 변환 사용\n",
    "    6. 모델을 이용해 부동산 가격을 감정\n",
    "    \n",
    "<img src=\"assets/model.png\">"
   ]
  },
  {
   "cell_type": "code",
   "execution_count": null,
   "id": "bc056d07",
   "metadata": {},
   "outputs": [],
   "source": []
  }
 ],
 "metadata": {
  "kernelspec": {
   "display_name": "Python 3 (ipykernel)",
   "language": "python",
   "name": "python3"
  },
  "language_info": {
   "codemirror_mode": {
    "name": "ipython",
    "version": 3
   },
   "file_extension": ".py",
   "mimetype": "text/x-python",
   "name": "python",
   "nbconvert_exporter": "python",
   "pygments_lexer": "ipython3",
   "version": "3.8.12"
  }
 },
 "nbformat": 4,
 "nbformat_minor": 5
}
