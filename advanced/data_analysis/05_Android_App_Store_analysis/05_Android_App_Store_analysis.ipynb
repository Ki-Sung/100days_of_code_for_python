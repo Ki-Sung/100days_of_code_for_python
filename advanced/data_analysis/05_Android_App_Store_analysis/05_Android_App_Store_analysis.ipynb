{
 "cells": [
  {
   "cell_type": "markdown",
   "id": "f75fb710",
   "metadata": {},
   "source": [
    "## 구글 안드로이드 앱 스토어 분석 \n",
    "- Plotly를 통해, 안드로이드 앱스토어 데이터의 데이터 시각화를 고급지게 꾸며보자! \n",
    "\n",
    "<img src=\"data/app_store.png\">\n",
    "\n",
    "- 자기만의 iOS나 안드로이드 앱을 만드는 것을 생각해본적이 있는가? 만약 그렇다면 앱스토어에서 이것들이 어떻게 작동하는지에 대해서도 궁금해 했을 것이다.\n",
    "- 이번 시간에는 \"**Annie**\" 나 \"**Sensor Tower**\"와 같은 회사에서 제공하는 앱스토어 분석 중 일부를 가져와, 많은 회사에서 사용하는 개발이나 앱 마케팅 전략에 대해 살펴보고자 한다. \n",
    "- 이번 시간에서는, 구글 플레이 스토어의 수천 개의 앱을 비교하여 아래와 같은 통찰을 얻을 수 있다.\n",
    "    - 다양한 앱 범주(게임, 라이프스타일, 날씨 등)가 얼마나 경쟁력이 있는가?\n",
    "    - 어떤 앱 범주가 인기에 따라 흥미있는 기회를 제공하는가?\n",
    "    - 무료 앱에 비해 유료앱은 얼마나 많은 다운로드 횟수를 포기해야 하는가?\n",
    "    - 유료 앱에 합리적인 금액은 얼마인가?\n",
    "    - 가장 높은 매출을 올린 유로앱은 무엇인가?\n",
    "    - 판매 수익에 기반하여, 개발 비용을 회수하는 유료 앱의 수는 얼마나 되는가? \n",
    "\n",
    "- 또한 위의 통찰을 얻음과 동시에 아래의 사항을 배울 수 있다. \n",
    "    - 중복 항목을 빠르게 제거하는 방법 \n",
    "    - 원하지 않는 기호를 제거하고, 데이터를 숫자 형식으로 변경하는 방법 \n",
    "    - Pandas를 통해, 중첩된 데이터가 있는 열을 처리하는 방법 \n",
    "    - Plotly 라이브러리로 매력적인 데이터 시각화 만드는 방법\n",
    "    - 수직, 수평, 그룹화된 막대 차트 생성\n",
    "    - 범주형 데이터 대한 파이 차트, 도넛 차트 생성 \n",
    "    - 색상 눈금을 이용해 보기 좋은 산점도 생성"
   ]
  },
  {
   "cell_type": "code",
   "execution_count": null,
   "id": "26956e31",
   "metadata": {},
   "outputs": [],
   "source": []
  }
 ],
 "metadata": {
  "kernelspec": {
   "display_name": "Python 3 (ipykernel)",
   "language": "python",
   "name": "python3"
  },
  "language_info": {
   "codemirror_mode": {
    "name": "ipython",
    "version": 3
   },
   "file_extension": ".py",
   "mimetype": "text/x-python",
   "name": "python",
   "nbconvert_exporter": "python",
   "pygments_lexer": "ipython3",
   "version": "3.8.12"
  }
 },
 "nbformat": 4,
 "nbformat_minor": 5
}
