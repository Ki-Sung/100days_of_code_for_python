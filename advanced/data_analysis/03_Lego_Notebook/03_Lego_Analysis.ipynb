{
 "cells": [
  {
   "cell_type": "markdown",
   "id": "f795e88f",
   "metadata": {},
   "source": [
    "## 레고 분석 \n",
    "- 레고의 데이터셋을 분석하면서 판다스에서 데이터를 집계하고 병합하는 방법을 알아본다. \n",
    "- 레고 데이터셋은 회사의 역사, 출시 제품, 어떤 레고 세트가 제일 잘 나가는지에 대한 여러 흥미로운 질문에 답하는데 도움이 될 것이다. \n",
    "    - 지금까지 만들어진 가장 거대한 레고 세트는 무엇이며 몇 개의 부품으로 구성되어 있을까? \n",
    "    - 최초의 레고 세트가 출시된 연도와 처음 출시되었을 때 회사에서 판매한 세트 수는 몇 개일까? \n",
    "    - 레고에서 가장 많은 세트를 보유한 테마는 어떤 것일까? 해리포터, 닌자고, 프렌즈 아니면 다른 것일까?\n",
    "    - 레고 회사는 살제로 언제 출시 제품을 기반으로 도약했을까? 매년 몇 개의 테마와 세트가 출시될까? \n",
    "    - 레고 세트는 해가 갈수록 크기와 복잡도가 늘어날까? 예전 레고 세트는 요즘 세트와 비교했을 때 부품이 더 적을까?"
   ]
  },
  {
   "cell_type": "markdown",
   "id": "32a7882a",
   "metadata": {},
   "source": [
    "#### 금일 Study할 목록 \n",
    "- (주피터, 혹은 코랩)노트북과 HTML 마크업을 결합하는 법\n",
    "- 판다스 데이터프레임에 파이썬 목록 슬라이싱 기술 적용\n",
    "- `.agg()` 함수를 사용하여 데이터를 집계하는 법 \n",
    "- 맷플롯립에서 두 개의 축이 있는 산점도, 막대 차트, 꺾은선형 차트를 만드는 법 \n",
    "- 기본키와 외래키로 구성된 데이터베이스 스키마 이해 \n",
    "- 공통의 키를 공유하는 데이터프레임 병합하는 법 "
   ]
  },
  {
   "cell_type": "markdown",
   "id": "e88525c8",
   "metadata": {},
   "source": [
    "### 1. 노트북을 보기 좋게 만드는 HTML 마크다운 사용 \n",
    "- (주피터 혹은 코랩)노트북 안에 있는 셀에는 파이썬 코드의 코드 셀 또는 텍스트(마크다운) 셀이 있다. 스타터 노트북에는 섹션 제목과 도전 문제 텍스트가 있는 이러한 텍스트 셀이 몇 개 포함되어 있다. 하지만 HTML을 사용하면 셀 스타일을 훨씬 더 많이 지정할 수 있다. "
   ]
  },
  {
   "cell_type": "markdown",
   "id": "25517286",
   "metadata": {},
   "source": [
    "#### 1-1. 마크다운 셀 삽입하기 \n",
    "- 코램의 경우 \"+Text\"를 클륵하거나 \"ESC 키 + B 버튼(선택한 셀 기준 아래로 추가) 혹은 A(선택한 셀 기준 위로 추가)버튼\"을 누른 후 \" M 버튼\"을 누르면 마크다운 셀이 생성된다.\n",
    "- 주피터 노트북의 경우 \"ESC 키 + B 버튼(선택한 셀 기준 아래로 추가) 혹은 A(선택한 셀 기준 위로 추가)버튼\"을 누른 후 \" M 버튼\"을 누르면 마크다운 셀이 생성된다."
   ]
  },
  {
   "cell_type": "markdown",
   "id": "0424d47b",
   "metadata": {},
   "source": [
    "#### 1-2. 이미지 추가하기 \n",
    "- 텍스트 셀 안에 이미지를 표시하고, 이미지의 URL로 HTML `<img>` tag를 사용한다.\n",
    "    - 예시 -> `<img src=\"https://i.imgur.com/49FNOHJ.jpg\">`"
   ]
  },
  {
   "cell_type": "markdown",
   "id": "228678f7",
   "metadata": {},
   "source": [
    "- 주피터 노트북의 경우 일반 이미지 파일을 연결하면 된다. \n",
    "    - `<img src=\"assets/bricks.jpg>`\n",
    "<img src=\"assets/bricks.jpg\">"
   ]
  },
  {
   "cell_type": "markdown",
   "id": "9c41bf0f",
   "metadata": {},
   "source": [
    "#### 1-3. 세션 제목 \n",
    "- `<h1>` 혹은 `<h2>`와 같은 태그를 사용해서 섹션 제목을 추가할 수 있다. 그러나 노트북에는 공통 HTML 태그에 대한 자체 약어도 존재한다. 예를 들어 `#`기호를 바로가기로 사용할 수 있다. \n",
    "- 제목 크기는 최소 `<h5>`까지 확대 가능하다. 아래는 예시이다."
   ]
  },
  {
   "cell_type": "markdown",
   "id": "06bc5a56",
   "metadata": {},
   "source": [
    "# H1 \n",
    "## H2\n",
    "### H3 \n",
    "#### H4\n",
    "##### H5"
   ]
  },
  {
   "cell_type": "markdown",
   "id": "967dc57b",
   "metadata": {},
   "source": [
    "### 2. 레고 블록 색상 탐색하기"
   ]
  },
  {
   "cell_type": "markdown",
   "id": "fc36050d",
   "metadata": {},
   "source": [
    "#### 2-1. 판다스 및 필요한 모듈 가져오기 "
   ]
  },
  {
   "cell_type": "code",
   "execution_count": 1,
   "id": "8dd623e1",
   "metadata": {},
   "outputs": [],
   "source": [
    "import pandas as pd \n",
    "\n",
    "import warnings\n",
    "warnings.filterwarnings('ignore')"
   ]
  },
  {
   "cell_type": "markdown",
   "id": "e114c4f5",
   "metadata": {},
   "source": [
    "#### 2-2. 구조 확인하기 "
   ]
  },
  {
   "cell_type": "code",
   "execution_count": 2,
   "id": "f368c361",
   "metadata": {},
   "outputs": [
    {
     "data": {
      "text/html": [
       "<div>\n",
       "<style scoped>\n",
       "    .dataframe tbody tr th:only-of-type {\n",
       "        vertical-align: middle;\n",
       "    }\n",
       "\n",
       "    .dataframe tbody tr th {\n",
       "        vertical-align: top;\n",
       "    }\n",
       "\n",
       "    .dataframe thead th {\n",
       "        text-align: right;\n",
       "    }\n",
       "</style>\n",
       "<table border=\"1\" class=\"dataframe\">\n",
       "  <thead>\n",
       "    <tr style=\"text-align: right;\">\n",
       "      <th></th>\n",
       "      <th>id</th>\n",
       "      <th>name</th>\n",
       "      <th>rgb</th>\n",
       "      <th>is_trans</th>\n",
       "    </tr>\n",
       "  </thead>\n",
       "  <tbody>\n",
       "    <tr>\n",
       "      <th>0</th>\n",
       "      <td>-1</td>\n",
       "      <td>Unknown</td>\n",
       "      <td>0033B2</td>\n",
       "      <td>f</td>\n",
       "    </tr>\n",
       "    <tr>\n",
       "      <th>1</th>\n",
       "      <td>0</td>\n",
       "      <td>Black</td>\n",
       "      <td>05131D</td>\n",
       "      <td>f</td>\n",
       "    </tr>\n",
       "    <tr>\n",
       "      <th>2</th>\n",
       "      <td>1</td>\n",
       "      <td>Blue</td>\n",
       "      <td>0055BF</td>\n",
       "      <td>f</td>\n",
       "    </tr>\n",
       "    <tr>\n",
       "      <th>3</th>\n",
       "      <td>2</td>\n",
       "      <td>Green</td>\n",
       "      <td>237841</td>\n",
       "      <td>f</td>\n",
       "    </tr>\n",
       "    <tr>\n",
       "      <th>4</th>\n",
       "      <td>3</td>\n",
       "      <td>Dark Turquoise</td>\n",
       "      <td>008F9B</td>\n",
       "      <td>f</td>\n",
       "    </tr>\n",
       "  </tbody>\n",
       "</table>\n",
       "</div>"
      ],
      "text/plain": [
       "   id            name     rgb is_trans\n",
       "0  -1         Unknown  0033B2        f\n",
       "1   0           Black  05131D        f\n",
       "2   1            Blue  0055BF        f\n",
       "3   2           Green  237841        f\n",
       "4   3  Dark Turquoise  008F9B        f"
      ]
     },
     "execution_count": 2,
     "metadata": {},
     "output_type": "execute_result"
    }
   ],
   "source": [
    "# 레고 블록 색상 데이터 불러오기\n",
    "colors = pd.read_csv(\"data/colors.csv\")\n",
    "colors.head()"
   ]
  },
  {
   "cell_type": "markdown",
   "id": "2dd92c88",
   "metadata": {},
   "source": [
    "- 색상의 이름과 해당 RGB 값이 있는 다섯개의 컬럼이 있음을 알 수 있다. \n",
    "    - id: 해당 데이터의 id 값\n",
    "    - name: 레고 블록 컬러명\n",
    "    - rgb: 레고 블록 컬러 RGB 값\n",
    "    - is_trans: 투명도 (f:불투명/t:투명)"
   ]
  },
  {
   "cell_type": "code",
   "execution_count": 17,
   "id": "5519f884",
   "metadata": {},
   "outputs": [
    {
     "data": {
      "text/plain": [
       "135"
      ]
     },
     "execution_count": 17,
     "metadata": {},
     "output_type": "execute_result"
    }
   ],
   "source": [
    "# 색상의 수 체크 \n",
    "colors['name'].nunique()"
   ]
  },
  {
   "cell_type": "markdown",
   "id": "ff2b4fb8",
   "metadata": {},
   "source": [
    "- 색상의 수를 찾으려면 \"name\" 컬럼의 모든 항목이 고유한지 여부를 확인하면 된다. ('nunique()'메소드 사용)\n",
    "- 탐색 결과 레고 블록에 135개의 고유한 색상이 있다는 것이 확인 되었다."
   ]
  },
  {
   "cell_type": "markdown",
   "id": "7bafd665",
   "metadata": {},
   "source": [
    "#### 2-3. 투명한 색상의 개수 구하기 "
   ]
  },
  {
   "cell_type": "code",
   "execution_count": 18,
   "id": "f00574f6",
   "metadata": {},
   "outputs": [
    {
     "data": {
      "text/html": [
       "<div>\n",
       "<style scoped>\n",
       "    .dataframe tbody tr th:only-of-type {\n",
       "        vertical-align: middle;\n",
       "    }\n",
       "\n",
       "    .dataframe tbody tr th {\n",
       "        vertical-align: top;\n",
       "    }\n",
       "\n",
       "    .dataframe thead th {\n",
       "        text-align: right;\n",
       "    }\n",
       "</style>\n",
       "<table border=\"1\" class=\"dataframe\">\n",
       "  <thead>\n",
       "    <tr style=\"text-align: right;\">\n",
       "      <th></th>\n",
       "      <th>id</th>\n",
       "      <th>name</th>\n",
       "      <th>rgb</th>\n",
       "    </tr>\n",
       "    <tr>\n",
       "      <th>is_trans</th>\n",
       "      <th></th>\n",
       "      <th></th>\n",
       "      <th></th>\n",
       "    </tr>\n",
       "  </thead>\n",
       "  <tbody>\n",
       "    <tr>\n",
       "      <th>f</th>\n",
       "      <td>107</td>\n",
       "      <td>107</td>\n",
       "      <td>107</td>\n",
       "    </tr>\n",
       "    <tr>\n",
       "      <th>t</th>\n",
       "      <td>28</td>\n",
       "      <td>28</td>\n",
       "      <td>28</td>\n",
       "    </tr>\n",
       "  </tbody>\n",
       "</table>\n",
       "</div>"
      ],
      "text/plain": [
       "           id  name  rgb\n",
       "is_trans                \n",
       "f         107   107  107\n",
       "t          28    28   28"
      ]
     },
     "execution_count": 18,
     "metadata": {},
     "output_type": "execute_result"
    }
   ],
   "source": [
    "# 투명한 색상의 개수 구하기 - group by \n",
    "colors.groupby('is_trans').count()"
   ]
  },
  {
   "cell_type": "code",
   "execution_count": 20,
   "id": "fcc143d2",
   "metadata": {},
   "outputs": [
    {
     "data": {
      "text/plain": [
       "f    107\n",
       "t     28\n",
       "Name: is_trans, dtype: int64"
      ]
     },
     "execution_count": 20,
     "metadata": {},
     "output_type": "execute_result"
    }
   ],
   "source": [
    "# 투명한 색상의 개수 구하기 - value_count\n",
    "colors['is_trans'].value_counts()"
   ]
  },
  {
   "cell_type": "markdown",
   "id": "bf2873db",
   "metadata": {},
   "source": [
    "- 투명한 색상의 개수를 구하는 방법은 두 가지가 있다. \n",
    "    - groupby() 메소드 + count() 메소드 \n",
    "    - value_count() 메소드 \n",
    "- 확인 결과 불투명한 색상은 107건 투명한 색상은 28건으로 조회 되었다."
   ]
  },
  {
   "cell_type": "code",
   "execution_count": 7,
   "id": "15f6953d",
   "metadata": {},
   "outputs": [],
   "source": [
    "# 투명도 색상 개수 체크 \n",
    "transparency_counts = colors['is_trans'].value_counts()"
   ]
  },
  {
   "cell_type": "code",
   "execution_count": 15,
   "id": "2fe134bd",
   "metadata": {},
   "outputs": [],
   "source": [
    "# 투명도 비율 계산 위해 숫자 추출 \n",
    "transparent_count = transparency_counts.get('t', 0)\n",
    "opaque_count = transparency_counts.get('f', 0)\n",
    "\n",
    "# 비율 계산\n",
    "transparency_ratio = (transparent_count / (transparent_count + opaque_count)) * 100"
   ]
  },
  {
   "cell_type": "code",
   "execution_count": 16,
   "id": "8f74a0e5",
   "metadata": {},
   "outputs": [
    {
     "name": "stdout",
     "output_type": "stream",
     "text": [
      "Transparent Count: 28\n",
      "Opaque Count: 107\n",
      "Transparency Ratio: 20.74074074074074\n"
     ]
    }
   ],
   "source": [
    "# 결과 출력 \n",
    "print(\"Transparent Count:\", transparent_count)\n",
    "print(\"Opaque Count:\", opaque_count)\n",
    "print(\"Transparency Ratio:\", transparency_ratio)"
   ]
  },
  {
   "cell_type": "markdown",
   "id": "23414613",
   "metadata": {},
   "source": [
    "- 그럼 여기서 한걸음 더 나아가서 전체 컬러대비 투명한 컬러 비율은 어떻게 계산할까? \n",
    "- 우선 색상 체크 후 투명한 색상, 불투명한 색상의 개수 값을 추출해준다.  \n",
    "- 그런 다음 아래의 공식을 대입해준다. \n",
    "    - (투명한 색상의 수 / (투명한 색상의 수 + 불투면한 색상의 수)) * 100\n",
    "- 확인해본 결과 투명한 색상의 블록은 전체 색상 대비 비율은 21% 이다."
   ]
  },
  {
   "cell_type": "markdown",
   "id": "57d9b212",
   "metadata": {},
   "source": [
    "### 3. 레고에 대한 이해 \n",
    "- 이제 레고에 대해 이해해보고자 한다. (아래의 내용을 참고)"
   ]
  },
  {
   "cell_type": "markdown",
   "id": "bb27c07f",
   "metadata": {},
   "source": [
    "#### Lego Themes와 Lego Sets에 대한 이해 \n",
    "\n",
    "레고 매장에 들어가면 테마별로 구성된 제품을 볼 수 있다. 각각 스타워즈, 배트맨, 해리포터 시리즈 그리고 더 많은 것들이 포함되어 있다. \n",
    "<img src=\"assets/lego_themes.png\">"
   ]
  },
  {
   "cell_type": "markdown",
   "id": "b0a77d67",
   "metadata": {},
   "source": [
    "레고 세트는 레고나 제품의 특정한 상자이므로, 일반적으로 하나의 테마에는 다양한 세트가 존재한다.\n",
    "<img src=\"assets/lego_sets.png\">"
   ]
  },
  {
   "cell_type": "markdown",
   "id": "94e4aa73",
   "metadata": {},
   "source": [
    "### 4. 가장 오래되고 가장 큰 레고 세트 찾기 "
   ]
  },
  {
   "cell_type": "markdown",
   "id": "6bc82f8b",
   "metadata": {},
   "source": [
    "#### 4-1. sets.csv 탐색하기\n",
    "- sets.csv에 레고 세트 목록이 있다. 해당 파일은 각 세트가 몇 년에 출시되었는지 세트당 부품수가 나온다.\n",
    "- 그럼 해당 데이터를 살펴보고 아래의 질문 답해보자 \n",
    "    - 최초의 레고 세트가 출시된 연도와 이 세트의 이름은?\n",
    "    - 레고는 운영 첫해에 얼마나 많은 제품을 팔았나? \n",
    "    - 부품 수가 가장 많은 상위 5개의 레고 세트는? "
   ]
  },
  {
   "cell_type": "code",
   "execution_count": 23,
   "id": "d68efaeb",
   "metadata": {},
   "outputs": [
    {
     "data": {
      "text/html": [
       "<div>\n",
       "<style scoped>\n",
       "    .dataframe tbody tr th:only-of-type {\n",
       "        vertical-align: middle;\n",
       "    }\n",
       "\n",
       "    .dataframe tbody tr th {\n",
       "        vertical-align: top;\n",
       "    }\n",
       "\n",
       "    .dataframe thead th {\n",
       "        text-align: right;\n",
       "    }\n",
       "</style>\n",
       "<table border=\"1\" class=\"dataframe\">\n",
       "  <thead>\n",
       "    <tr style=\"text-align: right;\">\n",
       "      <th></th>\n",
       "      <th>set_num</th>\n",
       "      <th>name</th>\n",
       "      <th>year</th>\n",
       "      <th>theme_id</th>\n",
       "      <th>num_parts</th>\n",
       "    </tr>\n",
       "  </thead>\n",
       "  <tbody>\n",
       "    <tr>\n",
       "      <th>0</th>\n",
       "      <td>001-1</td>\n",
       "      <td>Gears</td>\n",
       "      <td>1965</td>\n",
       "      <td>1</td>\n",
       "      <td>43</td>\n",
       "    </tr>\n",
       "    <tr>\n",
       "      <th>1</th>\n",
       "      <td>0011-2</td>\n",
       "      <td>Town Mini-Figures</td>\n",
       "      <td>1978</td>\n",
       "      <td>84</td>\n",
       "      <td>12</td>\n",
       "    </tr>\n",
       "    <tr>\n",
       "      <th>2</th>\n",
       "      <td>0011-3</td>\n",
       "      <td>Castle 2 for 1 Bonus Offer</td>\n",
       "      <td>1987</td>\n",
       "      <td>199</td>\n",
       "      <td>0</td>\n",
       "    </tr>\n",
       "    <tr>\n",
       "      <th>3</th>\n",
       "      <td>0012-1</td>\n",
       "      <td>Space Mini-Figures</td>\n",
       "      <td>1979</td>\n",
       "      <td>143</td>\n",
       "      <td>12</td>\n",
       "    </tr>\n",
       "    <tr>\n",
       "      <th>4</th>\n",
       "      <td>0013-1</td>\n",
       "      <td>Space Mini-Figures</td>\n",
       "      <td>1979</td>\n",
       "      <td>143</td>\n",
       "      <td>12</td>\n",
       "    </tr>\n",
       "  </tbody>\n",
       "</table>\n",
       "</div>"
      ],
      "text/plain": [
       "  set_num                        name  year  theme_id  num_parts\n",
       "0   001-1                       Gears  1965         1         43\n",
       "1  0011-2           Town Mini-Figures  1978        84         12\n",
       "2  0011-3  Castle 2 for 1 Bonus Offer  1987       199          0\n",
       "3  0012-1          Space Mini-Figures  1979       143         12\n",
       "4  0013-1          Space Mini-Figures  1979       143         12"
      ]
     },
     "execution_count": 23,
     "metadata": {},
     "output_type": "execute_result"
    }
   ],
   "source": [
    "# 레고 세트 목록 데이터 불러오기 \n",
    "sets = pd.read_csv('data/sets.csv')\n",
    "sets.head()"
   ]
  },
  {
   "cell_type": "code",
   "execution_count": 27,
   "id": "58ba4a16",
   "metadata": {},
   "outputs": [
    {
     "data": {
      "text/plain": [
       "1949"
      ]
     },
     "execution_count": 27,
     "metadata": {},
     "output_type": "execute_result"
    }
   ],
   "source": [
    "# 최초의 레고 출시년도 탐색 \n",
    "sets['year'].min()"
   ]
  },
  {
   "cell_type": "code",
   "execution_count": 35,
   "id": "d4376d7e",
   "metadata": {},
   "outputs": [
    {
     "data": {
      "text/plain": [
       "9521"
      ]
     },
     "execution_count": 35,
     "metadata": {},
     "output_type": "execute_result"
    }
   ],
   "source": [
    "# 최초의 레고 출시년도 탐색의 인덱스 값 추출\n",
    "sets['year'].idxmin()"
   ]
  },
  {
   "cell_type": "code",
   "execution_count": 33,
   "id": "d784e646",
   "metadata": {},
   "outputs": [
    {
     "data": {
      "text/plain": [
       "set_num                         700.1-1\n",
       "name         Extra-Large Gift Set (ABB)\n",
       "year                               1949\n",
       "theme_id                            365\n",
       "num_parts                           142\n",
       "Name: 9521, dtype: object"
      ]
     },
     "execution_count": 33,
     "metadata": {},
     "output_type": "execute_result"
    }
   ],
   "source": [
    "# 최초의 레고 세트가 출시된 연도와 세트 이름\n",
    "sets.loc[9521]"
   ]
  },
  {
   "cell_type": "code",
   "execution_count": 40,
   "id": "0d2f7632",
   "metadata": {},
   "outputs": [
    {
     "data": {
      "text/html": [
       "<div>\n",
       "<style scoped>\n",
       "    .dataframe tbody tr th:only-of-type {\n",
       "        vertical-align: middle;\n",
       "    }\n",
       "\n",
       "    .dataframe tbody tr th {\n",
       "        vertical-align: top;\n",
       "    }\n",
       "\n",
       "    .dataframe thead th {\n",
       "        text-align: right;\n",
       "    }\n",
       "</style>\n",
       "<table border=\"1\" class=\"dataframe\">\n",
       "  <thead>\n",
       "    <tr style=\"text-align: right;\">\n",
       "      <th></th>\n",
       "      <th>set_num</th>\n",
       "      <th>name</th>\n",
       "      <th>year</th>\n",
       "      <th>theme_id</th>\n",
       "      <th>num_parts</th>\n",
       "    </tr>\n",
       "  </thead>\n",
       "  <tbody>\n",
       "    <tr>\n",
       "      <th>9521</th>\n",
       "      <td>700.1-1</td>\n",
       "      <td>Extra-Large Gift Set (ABB)</td>\n",
       "      <td>1949</td>\n",
       "      <td>365</td>\n",
       "      <td>142</td>\n",
       "    </tr>\n",
       "    <tr>\n",
       "      <th>9534</th>\n",
       "      <td>700.2-1</td>\n",
       "      <td>Large Gift Set (ABB)</td>\n",
       "      <td>1949</td>\n",
       "      <td>365</td>\n",
       "      <td>178</td>\n",
       "    </tr>\n",
       "    <tr>\n",
       "      <th>9539</th>\n",
       "      <td>700.3-1</td>\n",
       "      <td>Medium Gift Set (ABB)</td>\n",
       "      <td>1949</td>\n",
       "      <td>365</td>\n",
       "      <td>142</td>\n",
       "    </tr>\n",
       "    <tr>\n",
       "      <th>9544</th>\n",
       "      <td>700.A-1</td>\n",
       "      <td>Small Brick Set (ABB)</td>\n",
       "      <td>1949</td>\n",
       "      <td>371</td>\n",
       "      <td>24</td>\n",
       "    </tr>\n",
       "    <tr>\n",
       "      <th>9545</th>\n",
       "      <td>700.B-1</td>\n",
       "      <td>Small Doors and Windows Set (ABB)</td>\n",
       "      <td>1949</td>\n",
       "      <td>371</td>\n",
       "      <td>12</td>\n",
       "    </tr>\n",
       "  </tbody>\n",
       "</table>\n",
       "</div>"
      ],
      "text/plain": [
       "      set_num                               name  year  theme_id  num_parts\n",
       "9521  700.1-1         Extra-Large Gift Set (ABB)  1949       365        142\n",
       "9534  700.2-1               Large Gift Set (ABB)  1949       365        178\n",
       "9539  700.3-1              Medium Gift Set (ABB)  1949       365        142\n",
       "9544  700.A-1              Small Brick Set (ABB)  1949       371         24\n",
       "9545  700.B-1  Small Doors and Windows Set (ABB)  1949       371         12"
      ]
     },
     "execution_count": 40,
     "metadata": {},
     "output_type": "execute_result"
    }
   ],
   "source": [
    "# 최초의 레고 세트가 출시된 연도와 세트 이름 - 또다른 방법\n",
    "sets.sort_values('year').head()"
   ]
  },
  {
   "cell_type": "markdown",
   "id": "a1b50456",
   "metadata": {},
   "source": [
    "- 첫 번째, 최초의 레고 세트가 출시된 연도와 이 세트의 이름은 \n",
    "    - \"1949년도\"에 최초로 출시한 \"Extra-Large Gift Set (ABB)\" 이다."
   ]
  },
  {
   "cell_type": "code",
   "execution_count": 39,
   "id": "ba0b86f8",
   "metadata": {},
   "outputs": [
    {
     "data": {
      "text/html": [
       "<div>\n",
       "<style scoped>\n",
       "    .dataframe tbody tr th:only-of-type {\n",
       "        vertical-align: middle;\n",
       "    }\n",
       "\n",
       "    .dataframe tbody tr th {\n",
       "        vertical-align: top;\n",
       "    }\n",
       "\n",
       "    .dataframe thead th {\n",
       "        text-align: right;\n",
       "    }\n",
       "</style>\n",
       "<table border=\"1\" class=\"dataframe\">\n",
       "  <thead>\n",
       "    <tr style=\"text-align: right;\">\n",
       "      <th></th>\n",
       "      <th>set_num</th>\n",
       "      <th>name</th>\n",
       "      <th>year</th>\n",
       "      <th>theme_id</th>\n",
       "      <th>num_parts</th>\n",
       "    </tr>\n",
       "  </thead>\n",
       "  <tbody>\n",
       "    <tr>\n",
       "      <th>9521</th>\n",
       "      <td>700.1-1</td>\n",
       "      <td>Extra-Large Gift Set (ABB)</td>\n",
       "      <td>1949</td>\n",
       "      <td>365</td>\n",
       "      <td>142</td>\n",
       "    </tr>\n",
       "    <tr>\n",
       "      <th>9534</th>\n",
       "      <td>700.2-1</td>\n",
       "      <td>Large Gift Set (ABB)</td>\n",
       "      <td>1949</td>\n",
       "      <td>365</td>\n",
       "      <td>178</td>\n",
       "    </tr>\n",
       "    <tr>\n",
       "      <th>9539</th>\n",
       "      <td>700.3-1</td>\n",
       "      <td>Medium Gift Set (ABB)</td>\n",
       "      <td>1949</td>\n",
       "      <td>365</td>\n",
       "      <td>142</td>\n",
       "    </tr>\n",
       "    <tr>\n",
       "      <th>9544</th>\n",
       "      <td>700.A-1</td>\n",
       "      <td>Small Brick Set (ABB)</td>\n",
       "      <td>1949</td>\n",
       "      <td>371</td>\n",
       "      <td>24</td>\n",
       "    </tr>\n",
       "    <tr>\n",
       "      <th>9545</th>\n",
       "      <td>700.B-1</td>\n",
       "      <td>Small Doors and Windows Set (ABB)</td>\n",
       "      <td>1949</td>\n",
       "      <td>371</td>\n",
       "      <td>12</td>\n",
       "    </tr>\n",
       "  </tbody>\n",
       "</table>\n",
       "</div>"
      ],
      "text/plain": [
       "      set_num                               name  year  theme_id  num_parts\n",
       "9521  700.1-1         Extra-Large Gift Set (ABB)  1949       365        142\n",
       "9534  700.2-1               Large Gift Set (ABB)  1949       365        178\n",
       "9539  700.3-1              Medium Gift Set (ABB)  1949       365        142\n",
       "9544  700.A-1              Small Brick Set (ABB)  1949       371         24\n",
       "9545  700.B-1  Small Doors and Windows Set (ABB)  1949       371         12"
      ]
     },
     "execution_count": 39,
     "metadata": {},
     "output_type": "execute_result"
    }
   ],
   "source": [
    "# 레고는 운영 첫해에 얼마나 많은 제품을 팔았는지 계산\n",
    "sets[sets['year'] == 1949]"
   ]
  },
  {
   "cell_type": "markdown",
   "id": "a5031998",
   "metadata": {},
   "source": [
    "- 두 번째, 레고는 운영 첫해에 5가지 세트만 판매하였다."
   ]
  },
  {
   "cell_type": "code",
   "execution_count": 41,
   "id": "3b1eef73",
   "metadata": {},
   "outputs": [
    {
     "data": {
      "text/html": [
       "<div>\n",
       "<style scoped>\n",
       "    .dataframe tbody tr th:only-of-type {\n",
       "        vertical-align: middle;\n",
       "    }\n",
       "\n",
       "    .dataframe tbody tr th {\n",
       "        vertical-align: top;\n",
       "    }\n",
       "\n",
       "    .dataframe thead th {\n",
       "        text-align: right;\n",
       "    }\n",
       "</style>\n",
       "<table border=\"1\" class=\"dataframe\">\n",
       "  <thead>\n",
       "    <tr style=\"text-align: right;\">\n",
       "      <th></th>\n",
       "      <th>set_num</th>\n",
       "      <th>name</th>\n",
       "      <th>year</th>\n",
       "      <th>theme_id</th>\n",
       "      <th>num_parts</th>\n",
       "    </tr>\n",
       "  </thead>\n",
       "  <tbody>\n",
       "    <tr>\n",
       "      <th>15004</th>\n",
       "      <td>BIGBOX-1</td>\n",
       "      <td>The Ultimate Battle for Chima</td>\n",
       "      <td>2015</td>\n",
       "      <td>571</td>\n",
       "      <td>9987</td>\n",
       "    </tr>\n",
       "    <tr>\n",
       "      <th>11183</th>\n",
       "      <td>75192-1</td>\n",
       "      <td>UCS Millennium Falcon</td>\n",
       "      <td>2017</td>\n",
       "      <td>171</td>\n",
       "      <td>7541</td>\n",
       "    </tr>\n",
       "    <tr>\n",
       "      <th>10551</th>\n",
       "      <td>71043-1</td>\n",
       "      <td>Hogwarts Castle</td>\n",
       "      <td>2018</td>\n",
       "      <td>246</td>\n",
       "      <td>6020</td>\n",
       "    </tr>\n",
       "    <tr>\n",
       "      <th>295</th>\n",
       "      <td>10256-1</td>\n",
       "      <td>Taj Mahal</td>\n",
       "      <td>2017</td>\n",
       "      <td>673</td>\n",
       "      <td>5923</td>\n",
       "    </tr>\n",
       "    <tr>\n",
       "      <th>221</th>\n",
       "      <td>10189-1</td>\n",
       "      <td>Taj Mahal</td>\n",
       "      <td>2008</td>\n",
       "      <td>673</td>\n",
       "      <td>5922</td>\n",
       "    </tr>\n",
       "  </tbody>\n",
       "</table>\n",
       "</div>"
      ],
      "text/plain": [
       "        set_num                           name  year  theme_id  num_parts\n",
       "15004  BIGBOX-1  The Ultimate Battle for Chima  2015       571       9987\n",
       "11183   75192-1          UCS Millennium Falcon  2017       171       7541\n",
       "10551   71043-1                Hogwarts Castle  2018       246       6020\n",
       "295     10256-1                      Taj Mahal  2017       673       5923\n",
       "221     10189-1                      Taj Mahal  2008       673       5922"
      ]
     },
     "execution_count": 41,
     "metadata": {},
     "output_type": "execute_result"
    }
   ],
   "source": [
    "# 부품 수가 가장 많은 상위 5개 레고 세트는 \n",
    "sets.sort_values('num_parts', ascending=False).head()"
   ]
  },
  {
   "cell_type": "markdown",
   "id": "1f800f44",
   "metadata": {},
   "source": [
    "- 세 번째, 부품 수가 가장 많은 상위 5개 레고 세트는 아래와 같다. \n",
    "    - The Ultimate Battle for Chima, 부품수 9,987개\n",
    "    - UCS Millennium Falcon, 부품수 7,541개\n",
    "    - Hogwarts Castle, 부품수 6,020개\n",
    "    - Taj Mahal(2017), 부품수 5,923개\n",
    "    - Taj Mahal(2008), 부품수 5,922개"
   ]
  },
  {
   "cell_type": "markdown",
   "id": "1c71b434",
   "metadata": {},
   "source": [
    "### 5. 시간 변화에 따른 출시 세트 수를 시각화 하기 \n",
    "- 이제 레고 회사가 매해 전년 대비 얼마나 많은 세트를 더 출시해왔는지 살펴보자. "
   ]
  },
  {
   "cell_type": "code",
   "execution_count": 42,
   "id": "b0181782",
   "metadata": {},
   "outputs": [],
   "source": [
    "# 맷플롯칩 임포트 \n",
    "import matplotlib.pyplot as plt"
   ]
  },
  {
   "cell_type": "code",
   "execution_count": 60,
   "id": "c055d95e",
   "metadata": {},
   "outputs": [
    {
     "data": {
      "text/plain": [
       "1949     5\n",
       "1950     6\n",
       "1953     4\n",
       "1954    14\n",
       "1955    28\n",
       "Name: year, dtype: int64"
      ]
     },
     "execution_count": 60,
     "metadata": {},
     "output_type": "execute_result"
    }
   ],
   "source": [
    "# 그래프를 그리기 위해 value_count를 년도 별로 정렬\n",
    "sets_by_year = sets['year'].value_counts().sort_index()\n",
    "sets_by_year.head()"
   ]
  },
  {
   "cell_type": "code",
   "execution_count": 59,
   "id": "b2409eb8",
   "metadata": {},
   "outputs": [
    {
     "data": {
      "text/plain": [
       "year\n",
       "1949     5\n",
       "1950     6\n",
       "1953     4\n",
       "1954    14\n",
       "1955    28\n",
       "Name: set_num, dtype: int64"
      ]
     },
     "execution_count": 59,
     "metadata": {},
     "output_type": "execute_result"
    }
   ],
   "source": [
    "# 그래프를 그리기 위해 value_count를 년도 별로 정렬 - 또 다른 방법 \n",
    "sets_by_year = sets.groupby('year').count()\n",
    "sets_by_year['set_num'].head()"
   ]
  },
  {
   "cell_type": "code",
   "execution_count": 61,
   "id": "cb5cc2a4",
   "metadata": {},
   "outputs": [
    {
     "data": {
      "text/plain": [
       "2017    786\n",
       "2018    816\n",
       "2019    840\n",
       "2020    674\n",
       "2021      3\n",
       "Name: year, dtype: int64"
      ]
     },
     "execution_count": 61,
     "metadata": {},
     "output_type": "execute_result"
    }
   ],
   "source": [
    "# 맨 끝 데이터 살펴보기 \n",
    "sets_by_year.tail()"
   ]
  },
  {
   "cell_type": "markdown",
   "id": "681e0208",
   "metadata": {},
   "source": [
    "- 레고가 운영 초반 몇 년 동안은 10가지 미만의 서로 다른 세트를 출시했다는 점을 알 수 있다. 하지만 2019년부터 회사가 놀랄 정도로 성장하여 해당 한해 동안 840 세트나 출시 하였다.\n",
    "- 데이터에는 2021년 데이터도 있다. 해당 데이터는 2020년 후반 데이터 이므로, 미래 지향적 기준으로 일부 세트가 이미 포함된 것으로 보여진다. 해당 데이터는 차트를 그릴 때 고려해야할 점 이다."
   ]
  },
  {
   "cell_type": "code",
   "execution_count": 57,
   "id": "f884fe74",
   "metadata": {},
   "outputs": [
    {
     "data": {
      "text/plain": [
       "[<matplotlib.lines.Line2D at 0x1508397f0>]"
      ]
     },
     "execution_count": 57,
     "metadata": {},
     "output_type": "execute_result"
    },
    {
     "data": {
      "image/png": "[encoded data removed]",
      "text/plain": [
       "<Figure size 1152x720 with 1 Axes>"
      ]
     },
     "metadata": {
      "needs_background": "light"
     },
     "output_type": "display_data"
    }
   ],
   "source": [
    "# 년도별 출시 세트수 꺾은선 그래프로 나타내기\n",
    "plt.figure(figsize=(16,10))\n",
    "plt.xticks(fontsize=14)\n",
    "plt.yticks(fontsize=14)\n",
    "plt.plot(sets_by_year.index, sets_by_year)    # 만약 groupby를 사용했다면, plt.plot(sets_by_year.index, sets_by_year.set_num)"
   ]
  },
  {
   "cell_type": "markdown",
   "id": "6023f94f",
   "metadata": {},
   "source": [
    "- 만약 해당 2년을 제외 하지 않으면 위와 같이 차트 끝에 극적인 하락이 보여진다. 레고에 큰 문제라도 난 것 처럼 오해의 소지가 있다.\n",
    "- 또한 2021년 데이터 셋에 모든 달이 들어가지 않았다는 점을 고려할 때, 더 나은 그림을 출력하려면 2020년, 2021년의 컬럼을 제외시키는 것이 최선이겠다."
   ]
  },
  {
   "cell_type": "code",
   "execution_count": 58,
   "id": "46dc9743",
   "metadata": {},
   "outputs": [
    {
     "data": {
      "text/plain": [
       "[<matplotlib.lines.Line2D at 0x15088ec40>]"
      ]
     },
     "execution_count": 58,
     "metadata": {},
     "output_type": "execute_result"
    },
    {
     "data": {
      "image/png": "[encoded data removed]",
      "text/plain": [
       "<Figure size 1152x720 with 1 Axes>"
      ]
     },
     "metadata": {
      "needs_background": "light"
     },
     "output_type": "display_data"
    }
   ],
   "source": [
    "# 2020년 후반 데이터 삭제 후 다시 그래프 그리기\n",
    "plt.figure(figsize=(16,10))\n",
    "plt.xticks(fontsize=14)\n",
    "plt.yticks(fontsize=14)\n",
    "plt.plot(sets_by_year.index[:-2], sets_by_year[:-2])     #  # 만약 groupby를 사용했다면, plt.plot(sets_by_year.index[:-2], sets_by_year.set_num[:-2])"
   ]
  },
  {
   "cell_type": "markdown",
   "id": "5228179b",
   "metadata": {},
   "source": [
    "- 레고는 처음 45여 년간 제공하는 제품을 꾸준히 증가시켰지만, 실제로 회사에서 생상한 세트 수가 급격히 증가한 것은 1990년대 중반 이었다. \n",
    "- 또한 차트에서 2000년대 초반에 잠시 하락했고, 2005년경 강한 회복을 보여주다. 2008년도 글로벌 금융 위기로 다시 하락한다. \n",
    "- 그러다 2010년 경에 폭발적인 회복세를 보여주는 양상을 보인다."
   ]
  },
  {
   "cell_type": "markdown",
   "id": "075a8c67",
   "metadata": {},
   "source": [
    "### 6. 판다스 .agg() 함수 사용법 \n",
    "- 데이터를 요약해야 하는 경우가 종종 있다. 이 경우 \".groupby()\" 함수가 굉장이 유용하다. 하지만 특정 데이터프레임 컬럼에 기반하여 더 많은 작업을 실행하고자 할 때가 있다.\n",
    "- 이 때 바로 사용하는 것이 \".agg()\" 메소드 이다. \".agg()\"는 사용자에게 다중집계작업을 간결하게 나타낼 수 있도록 한다."
   ]
  },
  {
   "cell_type": "markdown",
   "id": "fa5b0559",
   "metadata": {},
   "source": [
    "#### 6-1. 연도별 테마 수 \n",
    "- 지금 모든 달이 들어간 연도를 가지고 연도별 테마의 수를 계산하고자 한다. 따라서 연도별로 데이터를 그룹화한 다음, 해당 연도 고유 theme_ids의 수를 계산해야 한다. \n",
    "- \".groupby()\"와 \".agg()\" 함수를 연결하여 해당 문제를 해결할 수 있다. "
   ]
  },
  {
   "cell_type": "code",
   "execution_count": 62,
   "id": "4a9799f0",
   "metadata": {},
   "outputs": [
    {
     "data": {
      "text/html": [
       "<div>\n",
       "<style scoped>\n",
       "    .dataframe tbody tr th:only-of-type {\n",
       "        vertical-align: middle;\n",
       "    }\n",
       "\n",
       "    .dataframe tbody tr th {\n",
       "        vertical-align: top;\n",
       "    }\n",
       "\n",
       "    .dataframe thead th {\n",
       "        text-align: right;\n",
       "    }\n",
       "</style>\n",
       "<table border=\"1\" class=\"dataframe\">\n",
       "  <thead>\n",
       "    <tr style=\"text-align: right;\">\n",
       "      <th></th>\n",
       "      <th>theme_id</th>\n",
       "    </tr>\n",
       "    <tr>\n",
       "      <th>year</th>\n",
       "      <th></th>\n",
       "    </tr>\n",
       "  </thead>\n",
       "  <tbody>\n",
       "    <tr>\n",
       "      <th>1949</th>\n",
       "      <td>2</td>\n",
       "    </tr>\n",
       "    <tr>\n",
       "      <th>1950</th>\n",
       "      <td>1</td>\n",
       "    </tr>\n",
       "    <tr>\n",
       "      <th>1953</th>\n",
       "      <td>2</td>\n",
       "    </tr>\n",
       "    <tr>\n",
       "      <th>1954</th>\n",
       "      <td>2</td>\n",
       "    </tr>\n",
       "    <tr>\n",
       "      <th>1955</th>\n",
       "      <td>4</td>\n",
       "    </tr>\n",
       "    <tr>\n",
       "      <th>...</th>\n",
       "      <td>...</td>\n",
       "    </tr>\n",
       "    <tr>\n",
       "      <th>2017</th>\n",
       "      <td>89</td>\n",
       "    </tr>\n",
       "    <tr>\n",
       "      <th>2018</th>\n",
       "      <td>93</td>\n",
       "    </tr>\n",
       "    <tr>\n",
       "      <th>2019</th>\n",
       "      <td>78</td>\n",
       "    </tr>\n",
       "    <tr>\n",
       "      <th>2020</th>\n",
       "      <td>82</td>\n",
       "    </tr>\n",
       "    <tr>\n",
       "      <th>2021</th>\n",
       "      <td>1</td>\n",
       "    </tr>\n",
       "  </tbody>\n",
       "</table>\n",
       "<p>71 rows × 1 columns</p>\n",
       "</div>"
      ],
      "text/plain": [
       "      theme_id\n",
       "year          \n",
       "1949         2\n",
       "1950         1\n",
       "1953         2\n",
       "1954         2\n",
       "1955         4\n",
       "...        ...\n",
       "2017        89\n",
       "2018        93\n",
       "2019        78\n",
       "2020        82\n",
       "2021         1\n",
       "\n",
       "[71 rows x 1 columns]"
      ]
     },
     "execution_count": 62,
     "metadata": {},
     "output_type": "execute_result"
    }
   ],
   "source": [
    "# 연도별 테마 수 추출 \n",
    "themes_by_year = sets.groupby('year').agg({'theme_id': pd.Series.nunique})\n",
    "themes_by_year"
   ]
  },
  {
   "cell_type": "markdown",
   "id": "371147ab",
   "metadata": {},
   "source": [
    "- 기억할 것은 \".agg()\" 메소드가 인자에서 딕셔너리 역할을 수행한다는 점이다. 이 딕셔너리에서 각 열에 어떤 작업을 적용할지 구체화하게 된다.\n",
    "- 이떄 \".nunique()\" 메소드를 사용하여 theme_id 컬럼에 있는 고유 항목 수를 계산해주기만 하면 된다."
   ]
  },
  {
   "cell_type": "code",
   "execution_count": 63,
   "id": "2a1d249d",
   "metadata": {},
   "outputs": [
    {
     "data": {
      "text/html": [
       "<div>\n",
       "<style scoped>\n",
       "    .dataframe tbody tr th:only-of-type {\n",
       "        vertical-align: middle;\n",
       "    }\n",
       "\n",
       "    .dataframe tbody tr th {\n",
       "        vertical-align: top;\n",
       "    }\n",
       "\n",
       "    .dataframe thead th {\n",
       "        text-align: right;\n",
       "    }\n",
       "</style>\n",
       "<table border=\"1\" class=\"dataframe\">\n",
       "  <thead>\n",
       "    <tr style=\"text-align: right;\">\n",
       "      <th></th>\n",
       "      <th>nr_themes</th>\n",
       "    </tr>\n",
       "    <tr>\n",
       "      <th>year</th>\n",
       "      <th></th>\n",
       "    </tr>\n",
       "  </thead>\n",
       "  <tbody>\n",
       "    <tr>\n",
       "      <th>1949</th>\n",
       "      <td>2</td>\n",
       "    </tr>\n",
       "    <tr>\n",
       "      <th>1950</th>\n",
       "      <td>1</td>\n",
       "    </tr>\n",
       "    <tr>\n",
       "      <th>1953</th>\n",
       "      <td>2</td>\n",
       "    </tr>\n",
       "    <tr>\n",
       "      <th>1954</th>\n",
       "      <td>2</td>\n",
       "    </tr>\n",
       "    <tr>\n",
       "      <th>1955</th>\n",
       "      <td>4</td>\n",
       "    </tr>\n",
       "  </tbody>\n",
       "</table>\n",
       "</div>"
      ],
      "text/plain": [
       "      nr_themes\n",
       "year           \n",
       "1949          2\n",
       "1950          1\n",
       "1953          2\n",
       "1954          2\n",
       "1955          4"
      ]
     },
     "execution_count": 63,
     "metadata": {},
     "output_type": "execute_result"
    }
   ],
   "source": [
    "# themes_by_year 컬럼명 변경 \n",
    "themes_by_year.rename(columns={'theme_id':'nr_themes'}, inplace=True)\n",
    "themes_by_year.head()"
   ]
  },
  {
   "cell_type": "markdown",
   "id": "80b7dc4a",
   "metadata": {},
   "source": [
    "- themes_by_year에 있는 컬럼에 더 적절한 이름으로 변경 했다. nr_themes으로 컬럼명을 변경 후 변경 사항이 DataFrame에 바로 적용된디."
   ]
  },
  {
   "cell_type": "code",
   "execution_count": 64,
   "id": "6805a4fe",
   "metadata": {},
   "outputs": [
    {
     "data": {
      "text/html": [
       "<div>\n",
       "<style scoped>\n",
       "    .dataframe tbody tr th:only-of-type {\n",
       "        vertical-align: middle;\n",
       "    }\n",
       "\n",
       "    .dataframe tbody tr th {\n",
       "        vertical-align: top;\n",
       "    }\n",
       "\n",
       "    .dataframe thead th {\n",
       "        text-align: right;\n",
       "    }\n",
       "</style>\n",
       "<table border=\"1\" class=\"dataframe\">\n",
       "  <thead>\n",
       "    <tr style=\"text-align: right;\">\n",
       "      <th></th>\n",
       "      <th>nr_themes</th>\n",
       "    </tr>\n",
       "    <tr>\n",
       "      <th>year</th>\n",
       "      <th></th>\n",
       "    </tr>\n",
       "  </thead>\n",
       "  <tbody>\n",
       "    <tr>\n",
       "      <th>2017</th>\n",
       "      <td>89</td>\n",
       "    </tr>\n",
       "    <tr>\n",
       "      <th>2018</th>\n",
       "      <td>93</td>\n",
       "    </tr>\n",
       "    <tr>\n",
       "      <th>2019</th>\n",
       "      <td>78</td>\n",
       "    </tr>\n",
       "    <tr>\n",
       "      <th>2020</th>\n",
       "      <td>82</td>\n",
       "    </tr>\n",
       "    <tr>\n",
       "      <th>2021</th>\n",
       "      <td>1</td>\n",
       "    </tr>\n",
       "  </tbody>\n",
       "</table>\n",
       "</div>"
      ],
      "text/plain": [
       "      nr_themes\n",
       "year           \n",
       "2017         89\n",
       "2018         93\n",
       "2019         78\n",
       "2020         82\n",
       "2021          1"
      ]
     },
     "execution_count": 64,
     "metadata": {},
     "output_type": "execute_result"
    }
   ],
   "source": [
    "# 맨 아래 데이터 출력 \n",
    "themes_by_year.tail()"
   ]
  },
  {
   "cell_type": "markdown",
   "id": "3cded373",
   "metadata": {},
   "source": [
    "- 여기서 레고가 처음 몇 년 동안 2개의 테마만 가지고 있었지만 세트수와 마찬가지로 테마의 수도 수년에 걸쳐 다양하게 확장했음을 알 수 있다."
   ]
  },
  {
   "cell_type": "markdown",
   "id": "d39b892a",
   "metadata": {},
   "source": [
    "#### 6-2. 연도별로 출시된 테마 수 추세 그래프로 나타내기"
   ]
  },
  {
   "cell_type": "code",
   "execution_count": 75,
   "id": "648be398",
   "metadata": {},
   "outputs": [
    {
     "data": {
      "text/plain": [
       "[<matplotlib.lines.Line2D at 0x155b67880>]"
      ]
     },
     "execution_count": 75,
     "metadata": {},
     "output_type": "execute_result"
    },
    {
     "data": {
      "image/png": "[encoded data removed]",
      "text/plain": [
       "<Figure size 1152x720 with 1 Axes>"
      ]
     },
     "metadata": {
      "needs_background": "light"
     },
     "output_type": "display_data"
    }
   ],
   "source": [
    "# 연도별로 출시된 테마수 추세 그래프 \n",
    "plt.figure(figsize=(16,10))\n",
    "plt.xticks(fontsize=14)\n",
    "plt.yticks(fontsize=14)\n",
    "plt.plot(themes_by_year.index[:-2], themes_by_year.nr_themes[:-2])"
   ]
  },
  {
   "cell_type": "markdown",
   "id": "f44cbb49",
   "metadata": {},
   "source": [
    "- 차트에서 레고가 1990년대 중반까지 꽤 일관되게 점점 더 많은 테마를 추가했음을 알 수 있다.\n",
    "- 그리고 2010년대 초반까지 약 10년 동안 테마의 수는 정체되었다."
   ]
  },
  {
   "cell_type": "markdown",
   "id": "9bdaf5a1",
   "metadata": {},
   "source": [
    "### 7. 축이 다른 선형 차트를 중첩하기 "
   ]
  },
  {
   "cell_type": "code",
   "execution_count": 77,
   "id": "dbf57674",
   "metadata": {},
   "outputs": [
    {
     "data": {
      "text/plain": [
       "[<matplotlib.lines.Line2D at 0x155c47e50>]"
      ]
     },
     "execution_count": 77,
     "metadata": {},
     "output_type": "execute_result"
    },
    {
     "data": {
      "image/png": "[encoded data removed]",
      "text/plain": [
       "<Figure size 1152x720 with 1 Axes>"
      ]
     },
     "metadata": {
      "needs_background": "light"
     },
     "output_type": "display_data"
    }
   ],
   "source": [
    "# 같은 차트에 축이 다른 차트 그리기 \n",
    "plt.figure(figsize=(16,10))\n",
    "plt.xticks(fontsize=14)\n",
    "plt.yticks(fontsize=14)\n",
    "plt.plot(themes_by_year.index[:-2], themes_by_year.nr_themes[:-2])\n",
    "plt.plot(sets_by_year.index[:-2], sets_by_year[:-2])"
   ]
  },
  {
   "cell_type": "markdown",
   "id": "6b7ff5cc",
   "metadata": {},
   "source": [
    "- 일반적으로 그냥 다른 축의 두 그래프를 그리게 된다면 위와 같이 나온다. \n",
    "- 여기서 문제는 \"테마의 수\"와 \"세트의 수\"의 단위가 다르난 것이다. \"테마의 수\"는 0에서 90 사이의 범위 \"세트의 수\"는 0에서 900 사이의 범위에 있다."
   ]
  },
  {
   "cell_type": "markdown",
   "id": "9ee3a098",
   "metadata": {},
   "source": [
    "#### 7-1. 두 개의 별도 축\n",
    "- 그럼 어떻게 해야 의미있는 그래프가 완성될까? 동일한 차트에서 두 개의 개별 축을 세워 데이터를 구성하고 표시할 수 있도락 해야 한다.\n",
    "- 이를 위해 맷플롯립에서 축 개체를 가져와야 한다."
   ]
  },
  {
   "cell_type": "code",
   "execution_count": 78,
   "id": "471d4e30",
   "metadata": {},
   "outputs": [
    {
     "data": {
      "image/png": "[encoded data removed]",
      "text/plain": [
       "<Figure size 432x288 with 2 Axes>"
      ]
     },
     "metadata": {
      "needs_background": "light"
     },
     "output_type": "display_data"
    }
   ],
   "source": [
    "# 축 개체 가져오기 \n",
    "ax1 = plt.gca()      # 현재 축을 얻고 \n",
    "ax2 = ax1.twinx()    # 동일한 x축을 공유하는 다른 축 생성"
   ]
  },
  {
   "cell_type": "markdown",
   "id": "1985355b",
   "metadata": {},
   "source": [
    "- 그런 다음 또다른 축 개체 \"ax2\"를 생성해준다. 핵심이 되는 것은 \".twinx()\" 메소드를 이용해서 \"ax1\"과 \"ax2\"가 동일한 x축을 사용하도록 하는 것이다."
   ]
  },
  {
   "cell_type": "code",
   "execution_count": 79,
   "id": "fe87f768",
   "metadata": {},
   "outputs": [
    {
     "data": {
      "text/plain": [
       "[<matplotlib.lines.Line2D at 0x156458be0>]"
      ]
     },
     "execution_count": 79,
     "metadata": {},
     "output_type": "execute_result"
    },
    {
     "data": {
      "image/png": "[encoded data removed]",
      "text/plain": [
       "<Figure size 432x288 with 2 Axes>"
      ]
     },
     "metadata": {
      "needs_background": "light"
     },
     "output_type": "display_data"
    }
   ],
   "source": [
    "# 축 개체에 또 다른 개체를 생성 후 그래프 그리기 \n",
    "ax1 = plt.gca()      # 현재 축을 얻고 \n",
    "ax2 = ax1.twinx()    # 동일한 x축을 공유하는 다른 축 생성\n",
    "\n",
    "# 그래프 그리기 \n",
    "ax1.plot(themes_by_year.index[:-2], themes_by_year.nr_themes[:-2])\n",
    "ax2.plot(sets_by_year.index[:-2], sets_by_year[:-2])"
   ]
  },
  {
   "cell_type": "markdown",
   "id": "6cb86ef0",
   "metadata": {},
   "source": [
    "- 그래프가 정상적으로 출력되었다. 여기서 색상이 같아 구분이 안되므로, 스탈일(선의 색, 축의 색, 레이블) 추가해서 구분 짓는다. "
   ]
  },
  {
   "cell_type": "code",
   "execution_count": 87,
   "id": "dc62a048",
   "metadata": {},
   "outputs": [
    {
     "data": {
      "text/plain": [
       "Text(0, 0.5, 'Number of Sets')"
      ]
     },
     "execution_count": 87,
     "metadata": {},
     "output_type": "execute_result"
    },
    {
     "data": {
      "image/png": "[encoded data removed]",
      "text/plain": [
       "<Figure size 432x288 with 2 Axes>"
      ]
     },
     "metadata": {
      "needs_background": "light"
     },
     "output_type": "display_data"
    }
   ],
   "source": [
    "# 축 개체에 또 다른 개체를 생성 후 그래프 그리기 - 스타일 추가 \n",
    "ax1 = plt.gca()      # 현재 축을 얻고 \n",
    "ax2 = ax1.twinx()    # 동일한 x축을 공유하는 다른 축 생성\n",
    "\n",
    "# 스타일 추가 \n",
    "ax1.plot(themes_by_year.index[:-2], themes_by_year.nr_themes[:-2], color='g')    # 테마의 수 - green\n",
    "ax2.plot(sets_by_year.index[:-2], sets_by_year[:-2], color='b')                  # 세트의 수 - blue \n",
    "\n",
    "# 레이블 추가 \n",
    "ax1.set_xlabel('year')                           # x축 레이블 추가 \n",
    "ax1.set_ylabel('Number of Themes', color='green')  # y축 첫 번째 레이블 추가 - 색상 설정: green\n",
    "ax2.set_ylabel('Number of Sets', color='blue')   #y축 두 번째 레이블 추가 - 색상 설정: blue"
   ]
  },
  {
   "cell_type": "markdown",
   "id": "094014dc",
   "metadata": {},
   "source": [
    "### 8. 산점도: 레고 세트당 평균 부품 개수 "
   ]
  },
  {
   "cell_type": "markdown",
   "id": "7b10fd91",
   "metadata": {},
   "source": [
    "#### 8-1. 시간 흐름에 따른 복잡도 \n",
    "- 시간이 흐르면서 레고 세트가 더 커지고 복잡해지고 있다. 레고 세트당 평균 부품 개수를 계산해 보자 (\".agg()\" 함수 사용)"
   ]
  },
  {
   "cell_type": "code",
   "execution_count": 85,
   "id": "a6b62bb3",
   "metadata": {},
   "outputs": [
    {
     "data": {
      "text/html": [
       "<div>\n",
       "<style scoped>\n",
       "    .dataframe tbody tr th:only-of-type {\n",
       "        vertical-align: middle;\n",
       "    }\n",
       "\n",
       "    .dataframe tbody tr th {\n",
       "        vertical-align: top;\n",
       "    }\n",
       "\n",
       "    .dataframe thead th {\n",
       "        text-align: right;\n",
       "    }\n",
       "</style>\n",
       "<table border=\"1\" class=\"dataframe\">\n",
       "  <thead>\n",
       "    <tr style=\"text-align: right;\">\n",
       "      <th></th>\n",
       "      <th>average_num_parts</th>\n",
       "    </tr>\n",
       "    <tr>\n",
       "      <th>year</th>\n",
       "      <th></th>\n",
       "    </tr>\n",
       "  </thead>\n",
       "  <tbody>\n",
       "    <tr>\n",
       "      <th>1949</th>\n",
       "      <td>99.600000</td>\n",
       "    </tr>\n",
       "    <tr>\n",
       "      <th>1950</th>\n",
       "      <td>1.000000</td>\n",
       "    </tr>\n",
       "    <tr>\n",
       "      <th>1953</th>\n",
       "      <td>13.500000</td>\n",
       "    </tr>\n",
       "    <tr>\n",
       "      <th>1954</th>\n",
       "      <td>12.357143</td>\n",
       "    </tr>\n",
       "    <tr>\n",
       "      <th>1955</th>\n",
       "      <td>36.607143</td>\n",
       "    </tr>\n",
       "    <tr>\n",
       "      <th>...</th>\n",
       "      <td>...</td>\n",
       "    </tr>\n",
       "    <tr>\n",
       "      <th>2017</th>\n",
       "      <td>221.840967</td>\n",
       "    </tr>\n",
       "    <tr>\n",
       "      <th>2018</th>\n",
       "      <td>213.618873</td>\n",
       "    </tr>\n",
       "    <tr>\n",
       "      <th>2019</th>\n",
       "      <td>207.510714</td>\n",
       "    </tr>\n",
       "    <tr>\n",
       "      <th>2020</th>\n",
       "      <td>259.732938</td>\n",
       "    </tr>\n",
       "    <tr>\n",
       "      <th>2021</th>\n",
       "      <td>0.000000</td>\n",
       "    </tr>\n",
       "  </tbody>\n",
       "</table>\n",
       "<p>71 rows × 1 columns</p>\n",
       "</div>"
      ],
      "text/plain": [
       "      average_num_parts\n",
       "year                   \n",
       "1949          99.600000\n",
       "1950           1.000000\n",
       "1953          13.500000\n",
       "1954          12.357143\n",
       "1955          36.607143\n",
       "...                 ...\n",
       "2017         221.840967\n",
       "2018         213.618873\n",
       "2019         207.510714\n",
       "2020         259.732938\n",
       "2021           0.000000\n",
       "\n",
       "[71 rows x 1 columns]"
      ]
     },
     "execution_count": 85,
     "metadata": {},
     "output_type": "execute_result"
    }
   ],
   "source": [
    "# 연도별 세트당 부품수 \n",
    "parts_per_set = sets.groupby('year').agg({'num_parts': pd.Series.mean})           # 레고 세트당 평균 부품 개\n",
    "parts_per_set.rename(columns={'num_parts':'average_num_parts'}, inplace=True)     # 컬럼명 변경\n",
    "parts_per_set"
   ]
  },
  {
   "cell_type": "markdown",
   "id": "ef3817f7",
   "metadata": {},
   "source": [
    "- 위의 문제를 해결하려면 \".groupby()\"와 \".agg()\" 함수를 함께 사용해야한다. 여기서 \".agg()\" 함수에 딕셔너리를 적용하여 \"mean()\" 함수를 써서 num_parts 열을 작업하면 된다. "
   ]
  },
  {
   "cell_type": "markdown",
   "id": "d79de7b1",
   "metadata": {},
   "source": [
    "#### 8-2. 산점도 생성 "
   ]
  },
  {
   "cell_type": "code",
   "execution_count": 86,
   "id": "820f6ba8",
   "metadata": {},
   "outputs": [
    {
     "data": {
      "text/plain": [
       "<matplotlib.collections.PathCollection at 0x156d0a9a0>"
      ]
     },
     "execution_count": 86,
     "metadata": {},
     "output_type": "execute_result"
    },
    {
     "data": {
      "image/png": "[encoded data removed]",
      "text/plain": [
       "<Figure size 432x288 with 1 Axes>"
      ]
     },
     "metadata": {
      "needs_background": "light"
     },
     "output_type": "display_data"
    }
   ],
   "source": [
    "# 산점도 그래프\n",
    "x = parts_per_set.index[:-2]\n",
    "y = parts_per_set.average_num_parts[:-2]\n",
    "\n",
    "plt.scatter(x, y) \n",
    "# plt.scatter(parts_per_set.index[:-2], parts_per_set.average_num_parts[:-2]) "
   ]
  },
  {
   "cell_type": "markdown",
   "id": "62477012",
   "metadata": {},
   "source": [
    "- 차트를 보면 평균 부품수를 기준으로 레고 세트의 크기와 복잡도가 증가하는 흐름을 확실히 파악할 수 있다.\n",
    "- 2010년대에는 평균 세트에 약 200개 이상의 개별 부품이 들어있었는데, 이는 1960년대 레고 세트에 들어 있던 개별 부품수의 약 두 배 정도이다."
   ]
  },
  {
   "cell_type": "markdown",
   "id": "9c8316b4",
   "metadata": {},
   "source": [
    "### 9. 연관 데이터베이스 스키마: 기본키와 외래키 \n",
    "- 레고는 해리포터, 마블 수퍼 히어로 등 수많은 히트작을 이용한 제품의 판매권을 가지고 있다. 그런데 어느 테마가 가장 많은 개별 세트를 보유하고 있을까? "
   ]
  },
  {
   "cell_type": "markdown",
   "id": "4d2851ae",
   "metadata": {},
   "source": [
    "#### 9-1. 레고 테마당 세트의 수 "
   ]
  },
  {
   "cell_type": "code",
   "execution_count": 90,
   "id": "d54b4029",
   "metadata": {},
   "outputs": [
    {
     "data": {
      "text/plain": [
       "158    753\n",
       "501    656\n",
       "494    398\n",
       "435    356\n",
       "503    329\n",
       "Name: theme_id, dtype: int64"
      ]
     },
     "execution_count": 90,
     "metadata": {},
     "output_type": "execute_result"
    }
   ],
   "source": [
    "# 레고 테마당 세트 개수 \n",
    "set_theme_count = sets['theme_id'].value_counts()\n",
    "set_theme_count[:5]"
   ]
  },
  {
   "cell_type": "markdown",
   "id": "271d3af6",
   "metadata": {},
   "source": [
    "- 테마당 세트수를 계싼하기 위해 \"theme_id\"열에 \".value_counts()\" 메소드를 사용하였다. 그런데 문제가 하나있는데, 바로 테마의 실제 이름을 알 수 없어서, 데이터 구분이 잘 가지 않는다.\n",
    "- 이럴 경우 theme_id별 테마 이름을 알아볼 필요가 있다."
   ]
  },
  {
   "cell_type": "markdown",
   "id": "a1b40945",
   "metadata": {},
   "source": [
    "#### 9-2. 연관 데이터베이스를 이용한 작업 \n",
    "- 그전에 데이터베이스 스키마에 대해서 알아보자. 데이터베이스의 스키마란 데이터베이스가 운영되는 방식이다.\n",
    "- 여기서는 레고 데이터와 같은 많은 관련 데이터베이스는 개별 테이블로 쪼개져있다. 여기에는 색상, 세트, 테마에 대한 각각의 테이블이 있다. 관계형 데이터베이스를 이용하면, 테이블이 키를 통해 서료 연결된다. (프라이머리 키, 외래키)\n",
    "\n",
    "\n",
    "<img src=\"assets/rebrickable_schema.png\">"
   ]
  },
  {
   "cell_type": "markdown",
   "id": "dbd5748e",
   "metadata": {},
   "source": [
    "#### 9-3. themes.csv 파일의 이해 \n",
    "- themes.csv 파일에는 실제 테마 이름이 나와 있다. 테이블은 다른 테이블과 어떻게 연결되어 있을까? \n",
    "- sets.csv에는 theme_ids가 있고, 이는 themes.csv에서 id 컬럼과 연결된다. 따라서 theme_id는 sets.csv 안에서 외래키를 의미한다. 서로 다른 세트가 같은 테마의 일부를 이룰 수 있다.\n",
    "- 그러나 themes.csv 안에 각각의 theme_id가 id로 불리고 있는데 이것은 고유한 값이다. 이 고유성으로 인해 id 열이 themes.csv안에서 기본키가 된다."
   ]
  },
  {
   "cell_type": "code",
   "execution_count": 92,
   "id": "1c17d3ca",
   "metadata": {},
   "outputs": [
    {
     "data": {
      "text/html": [
       "<div>\n",
       "<style scoped>\n",
       "    .dataframe tbody tr th:only-of-type {\n",
       "        vertical-align: middle;\n",
       "    }\n",
       "\n",
       "    .dataframe tbody tr th {\n",
       "        vertical-align: top;\n",
       "    }\n",
       "\n",
       "    .dataframe thead th {\n",
       "        text-align: right;\n",
       "    }\n",
       "</style>\n",
       "<table border=\"1\" class=\"dataframe\">\n",
       "  <thead>\n",
       "    <tr style=\"text-align: right;\">\n",
       "      <th></th>\n",
       "      <th>id</th>\n",
       "      <th>name</th>\n",
       "      <th>parent_id</th>\n",
       "    </tr>\n",
       "  </thead>\n",
       "  <tbody>\n",
       "    <tr>\n",
       "      <th>0</th>\n",
       "      <td>1</td>\n",
       "      <td>Technic</td>\n",
       "      <td>NaN</td>\n",
       "    </tr>\n",
       "    <tr>\n",
       "      <th>1</th>\n",
       "      <td>2</td>\n",
       "      <td>Arctic Technic</td>\n",
       "      <td>1.0</td>\n",
       "    </tr>\n",
       "    <tr>\n",
       "      <th>2</th>\n",
       "      <td>3</td>\n",
       "      <td>Competition</td>\n",
       "      <td>1.0</td>\n",
       "    </tr>\n",
       "    <tr>\n",
       "      <th>3</th>\n",
       "      <td>4</td>\n",
       "      <td>Expert Builder</td>\n",
       "      <td>1.0</td>\n",
       "    </tr>\n",
       "    <tr>\n",
       "      <th>4</th>\n",
       "      <td>5</td>\n",
       "      <td>Model</td>\n",
       "      <td>1.0</td>\n",
       "    </tr>\n",
       "    <tr>\n",
       "      <th>...</th>\n",
       "      <td>...</td>\n",
       "      <td>...</td>\n",
       "      <td>...</td>\n",
       "    </tr>\n",
       "    <tr>\n",
       "      <th>591</th>\n",
       "      <td>705</td>\n",
       "      <td>Iron Man</td>\n",
       "      <td>696.0</td>\n",
       "    </tr>\n",
       "    <tr>\n",
       "      <th>592</th>\n",
       "      <td>706</td>\n",
       "      <td>Spider-Man</td>\n",
       "      <td>696.0</td>\n",
       "    </tr>\n",
       "    <tr>\n",
       "      <th>593</th>\n",
       "      <td>707</td>\n",
       "      <td>X-Men</td>\n",
       "      <td>696.0</td>\n",
       "    </tr>\n",
       "    <tr>\n",
       "      <th>594</th>\n",
       "      <td>708</td>\n",
       "      <td>The LEGO Batman Movie</td>\n",
       "      <td>697.0</td>\n",
       "    </tr>\n",
       "    <tr>\n",
       "      <th>595</th>\n",
       "      <td>709</td>\n",
       "      <td>LEGO Art</td>\n",
       "      <td>NaN</td>\n",
       "    </tr>\n",
       "  </tbody>\n",
       "</table>\n",
       "<p>596 rows × 3 columns</p>\n",
       "</div>"
      ],
      "text/plain": [
       "      id                   name  parent_id\n",
       "0      1                Technic        NaN\n",
       "1      2         Arctic Technic        1.0\n",
       "2      3            Competition        1.0\n",
       "3      4         Expert Builder        1.0\n",
       "4      5                  Model        1.0\n",
       "..   ...                    ...        ...\n",
       "591  705               Iron Man      696.0\n",
       "592  706             Spider-Man      696.0\n",
       "593  707                  X-Men      696.0\n",
       "594  708  The LEGO Batman Movie      697.0\n",
       "595  709               LEGO Art        NaN\n",
       "\n",
       "[596 rows x 3 columns]"
      ]
     },
     "execution_count": 92,
     "metadata": {},
     "output_type": "execute_result"
    }
   ],
   "source": [
    "# themes.csv 파일 열기 \n",
    "themes = pd.read_csv('data/themes.csv')\n",
    "themes"
   ]
  },
  {
   "cell_type": "markdown",
   "id": "a3875f59",
   "metadata": {},
   "source": [
    "- themes.csv를 불러오고 데이터를 살펴보면, \"id\"열의 각각의 값은 고유값으로 파악된다(이는 themes 테이블에서 기본키(프라이머리 키)이다). 테마의 이름은 고유하지 않다."
   ]
  },
  {
   "cell_type": "code",
   "execution_count": 96,
   "id": "77cf42a5",
   "metadata": {},
   "outputs": [
    {
     "data": {
      "text/html": [
       "<div>\n",
       "<style scoped>\n",
       "    .dataframe tbody tr th:only-of-type {\n",
       "        vertical-align: middle;\n",
       "    }\n",
       "\n",
       "    .dataframe tbody tr th {\n",
       "        vertical-align: top;\n",
       "    }\n",
       "\n",
       "    .dataframe thead th {\n",
       "        text-align: right;\n",
       "    }\n",
       "</style>\n",
       "<table border=\"1\" class=\"dataframe\">\n",
       "  <thead>\n",
       "    <tr style=\"text-align: right;\">\n",
       "      <th></th>\n",
       "      <th>id</th>\n",
       "      <th>name</th>\n",
       "      <th>parent_id</th>\n",
       "    </tr>\n",
       "  </thead>\n",
       "  <tbody>\n",
       "    <tr>\n",
       "      <th>17</th>\n",
       "      <td>18</td>\n",
       "      <td>Star Wars</td>\n",
       "      <td>1.0</td>\n",
       "    </tr>\n",
       "    <tr>\n",
       "      <th>150</th>\n",
       "      <td>158</td>\n",
       "      <td>Star Wars</td>\n",
       "      <td>NaN</td>\n",
       "    </tr>\n",
       "    <tr>\n",
       "      <th>174</th>\n",
       "      <td>209</td>\n",
       "      <td>Star Wars</td>\n",
       "      <td>207.0</td>\n",
       "    </tr>\n",
       "    <tr>\n",
       "      <th>211</th>\n",
       "      <td>261</td>\n",
       "      <td>Star Wars</td>\n",
       "      <td>258.0</td>\n",
       "    </tr>\n",
       "  </tbody>\n",
       "</table>\n",
       "</div>"
      ],
      "text/plain": [
       "      id       name  parent_id\n",
       "17    18  Star Wars        1.0\n",
       "150  158  Star Wars        NaN\n",
       "174  209  Star Wars      207.0\n",
       "211  261  Star Wars      258.0"
      ]
     },
     "execution_count": 96,
     "metadata": {},
     "output_type": "execute_result"
    }
   ],
   "source": [
    "# 테마 안에 \"Star Wars\"는 몇 건 있는지 필터링\n",
    "# themes[themes.name == 'Star Wars']\n",
    "star_wars_themes = themes[themes['name'].str.contains('Star Wars', case=False)]\n",
    "star_wars_themes"
   ]
  },
  {
   "cell_type": "markdown",
   "id": "63cc9c97",
   "metadata": {},
   "source": [
    "- 스타워즈를 검색해보면 검색돈은 4개의 다른 id가 이 이름에 해당되고 있다는 것을 알 수 있다."
   ]
  },
  {
   "cell_type": "code",
   "execution_count": 97,
   "id": "e6681504",
   "metadata": {},
   "outputs": [
    {
     "data": {
      "text/plain": [
       "[18, 158, 209, 261]"
      ]
     },
     "execution_count": 97,
     "metadata": {},
     "output_type": "execute_result"
    }
   ],
   "source": [
    "# \"Star Wars\" 아이디 리스트로 출력\n",
    "star_wars_theme_ids = star_wars_themes['id'].tolist()\n",
    "star_wars_theme_ids"
   ]
  },
  {
   "cell_type": "code",
   "execution_count": 99,
   "id": "9f120e8b",
   "metadata": {},
   "outputs": [
    {
     "data": {
      "text/html": [
       "<div>\n",
       "<style scoped>\n",
       "    .dataframe tbody tr th:only-of-type {\n",
       "        vertical-align: middle;\n",
       "    }\n",
       "\n",
       "    .dataframe tbody tr th {\n",
       "        vertical-align: top;\n",
       "    }\n",
       "\n",
       "    .dataframe thead th {\n",
       "        text-align: right;\n",
       "    }\n",
       "</style>\n",
       "<table border=\"1\" class=\"dataframe\">\n",
       "  <thead>\n",
       "    <tr style=\"text-align: right;\">\n",
       "      <th></th>\n",
       "      <th>set_num</th>\n",
       "      <th>name</th>\n",
       "      <th>year</th>\n",
       "      <th>theme_id</th>\n",
       "      <th>num_parts</th>\n",
       "    </tr>\n",
       "  </thead>\n",
       "  <tbody>\n",
       "    <tr>\n",
       "      <th>850</th>\n",
       "      <td>11912-1</td>\n",
       "      <td>Star Wars: Build Your Own Adventure</td>\n",
       "      <td>2016</td>\n",
       "      <td>158</td>\n",
       "      <td>73</td>\n",
       "    </tr>\n",
       "    <tr>\n",
       "      <th>855</th>\n",
       "      <td>11920-1</td>\n",
       "      <td>Parts for Star Wars Build Your Own Adventure: ...</td>\n",
       "      <td>2019</td>\n",
       "      <td>158</td>\n",
       "      <td>70</td>\n",
       "    </tr>\n",
       "    <tr>\n",
       "      <th>1717</th>\n",
       "      <td>20006-1</td>\n",
       "      <td>Clone Turbo Tank - Mini</td>\n",
       "      <td>2008</td>\n",
       "      <td>158</td>\n",
       "      <td>64</td>\n",
       "    </tr>\n",
       "    <tr>\n",
       "      <th>1728</th>\n",
       "      <td>20007-1</td>\n",
       "      <td>Republic Attack Cruiser - Mini</td>\n",
       "      <td>2009</td>\n",
       "      <td>158</td>\n",
       "      <td>84</td>\n",
       "    </tr>\n",
       "    <tr>\n",
       "      <th>1738</th>\n",
       "      <td>20009-1</td>\n",
       "      <td>AT-TE Walker - Mini</td>\n",
       "      <td>2009</td>\n",
       "      <td>158</td>\n",
       "      <td>94</td>\n",
       "    </tr>\n",
       "    <tr>\n",
       "      <th>...</th>\n",
       "      <td>...</td>\n",
       "      <td>...</td>\n",
       "      <td>...</td>\n",
       "      <td>...</td>\n",
       "      <td>...</td>\n",
       "    </tr>\n",
       "    <tr>\n",
       "      <th>15686</th>\n",
       "      <td>VP-4</td>\n",
       "      <td>Star Wars Co-Pack of 7101 7111 and 7171</td>\n",
       "      <td>2000</td>\n",
       "      <td>158</td>\n",
       "      <td>0</td>\n",
       "    </tr>\n",
       "    <tr>\n",
       "      <th>15689</th>\n",
       "      <td>VP-8</td>\n",
       "      <td>Star Wars Co-Pack of 7130 and 7150</td>\n",
       "      <td>2000</td>\n",
       "      <td>158</td>\n",
       "      <td>0</td>\n",
       "    </tr>\n",
       "    <tr>\n",
       "      <th>15707</th>\n",
       "      <td>XWING-1</td>\n",
       "      <td>Mini X-Wing Fighter</td>\n",
       "      <td>2019</td>\n",
       "      <td>158</td>\n",
       "      <td>60</td>\n",
       "    </tr>\n",
       "    <tr>\n",
       "      <th>15708</th>\n",
       "      <td>XWING-2</td>\n",
       "      <td>X-Wing Trench Run</td>\n",
       "      <td>2019</td>\n",
       "      <td>158</td>\n",
       "      <td>52</td>\n",
       "    </tr>\n",
       "    <tr>\n",
       "      <th>15709</th>\n",
       "      <td>YODACHRON-1</td>\n",
       "      <td>Yoda Chronicles Promotional Set</td>\n",
       "      <td>2013</td>\n",
       "      <td>158</td>\n",
       "      <td>413</td>\n",
       "    </tr>\n",
       "  </tbody>\n",
       "</table>\n",
       "<p>776 rows × 5 columns</p>\n",
       "</div>"
      ],
      "text/plain": [
       "           set_num                                               name  year  \\\n",
       "850        11912-1                Star Wars: Build Your Own Adventure  2016   \n",
       "855        11920-1  Parts for Star Wars Build Your Own Adventure: ...  2019   \n",
       "1717       20006-1                            Clone Turbo Tank - Mini  2008   \n",
       "1728       20007-1                     Republic Attack Cruiser - Mini  2009   \n",
       "1738       20009-1                                AT-TE Walker - Mini  2009   \n",
       "...            ...                                                ...   ...   \n",
       "15686         VP-4            Star Wars Co-Pack of 7101 7111 and 7171  2000   \n",
       "15689         VP-8                 Star Wars Co-Pack of 7130 and 7150  2000   \n",
       "15707      XWING-1                                Mini X-Wing Fighter  2019   \n",
       "15708      XWING-2                                  X-Wing Trench Run  2019   \n",
       "15709  YODACHRON-1                    Yoda Chronicles Promotional Set  2013   \n",
       "\n",
       "       theme_id  num_parts  \n",
       "850         158         73  \n",
       "855         158         70  \n",
       "1717        158         64  \n",
       "1728        158         84  \n",
       "1738        158         94  \n",
       "...         ...        ...  \n",
       "15686       158          0  \n",
       "15689       158          0  \n",
       "15707       158         60  \n",
       "15708       158         52  \n",
       "15709       158        413  \n",
       "\n",
       "[776 rows x 5 columns]"
      ]
     },
     "execution_count": 99,
     "metadata": {},
     "output_type": "execute_result"
    }
   ],
   "source": [
    "# themes에서 찾은 Star Wars Id 값을 sets와 연결 - 전체 \n",
    "matching_sets = sets[sets['theme_id'].isin(star_wars_theme_ids)]\n",
    "matching_sets"
   ]
  },
  {
   "cell_type": "markdown",
   "id": "6406ac66",
   "metadata": {},
   "source": [
    "- 스타워즈는 왜 이렇게 다양한 테마를 보유하고 있는 것 일까? 검색된 위 id 값을 하나 하나 살펴보면 그 답은 의외로 간단하다."
   ]
  },
  {
   "cell_type": "code",
   "execution_count": 100,
   "id": "b210cd70",
   "metadata": {},
   "outputs": [
    {
     "data": {
      "text/html": [
       "<div>\n",
       "<style scoped>\n",
       "    .dataframe tbody tr th:only-of-type {\n",
       "        vertical-align: middle;\n",
       "    }\n",
       "\n",
       "    .dataframe tbody tr th {\n",
       "        vertical-align: top;\n",
       "    }\n",
       "\n",
       "    .dataframe thead th {\n",
       "        text-align: right;\n",
       "    }\n",
       "</style>\n",
       "<table border=\"1\" class=\"dataframe\">\n",
       "  <thead>\n",
       "    <tr style=\"text-align: right;\">\n",
       "      <th></th>\n",
       "      <th>set_num</th>\n",
       "      <th>name</th>\n",
       "      <th>year</th>\n",
       "      <th>theme_id</th>\n",
       "      <th>num_parts</th>\n",
       "    </tr>\n",
       "  </thead>\n",
       "  <tbody>\n",
       "    <tr>\n",
       "      <th>8786</th>\n",
       "      <td>65081-1</td>\n",
       "      <td>R2-D2 / C-3PO Droid Collectors Set</td>\n",
       "      <td>2002</td>\n",
       "      <td>18</td>\n",
       "      <td>1</td>\n",
       "    </tr>\n",
       "    <tr>\n",
       "      <th>12051</th>\n",
       "      <td>8000-1</td>\n",
       "      <td>Pit Droid</td>\n",
       "      <td>2000</td>\n",
       "      <td>18</td>\n",
       "      <td>223</td>\n",
       "    </tr>\n",
       "    <tr>\n",
       "      <th>12058</th>\n",
       "      <td>8001-1</td>\n",
       "      <td>Battle Droid</td>\n",
       "      <td>2000</td>\n",
       "      <td>18</td>\n",
       "      <td>336</td>\n",
       "    </tr>\n",
       "    <tr>\n",
       "      <th>12066</th>\n",
       "      <td>8002-1</td>\n",
       "      <td>Destroyer Droid</td>\n",
       "      <td>2000</td>\n",
       "      <td>18</td>\n",
       "      <td>567</td>\n",
       "    </tr>\n",
       "    <tr>\n",
       "      <th>12071</th>\n",
       "      <td>8007-1</td>\n",
       "      <td>C-3PO</td>\n",
       "      <td>2001</td>\n",
       "      <td>18</td>\n",
       "      <td>339</td>\n",
       "    </tr>\n",
       "    <tr>\n",
       "      <th>12072</th>\n",
       "      <td>8008-1</td>\n",
       "      <td>Stormtrooper</td>\n",
       "      <td>2001</td>\n",
       "      <td>18</td>\n",
       "      <td>360</td>\n",
       "    </tr>\n",
       "    <tr>\n",
       "      <th>12073</th>\n",
       "      <td>8009-1</td>\n",
       "      <td>R2-D2</td>\n",
       "      <td>2002</td>\n",
       "      <td>18</td>\n",
       "      <td>239</td>\n",
       "    </tr>\n",
       "    <tr>\n",
       "      <th>12074</th>\n",
       "      <td>8010-1</td>\n",
       "      <td>Darth Vader</td>\n",
       "      <td>2002</td>\n",
       "      <td>18</td>\n",
       "      <td>388</td>\n",
       "    </tr>\n",
       "    <tr>\n",
       "      <th>12081</th>\n",
       "      <td>8011-1</td>\n",
       "      <td>Jango Fett</td>\n",
       "      <td>2002</td>\n",
       "      <td>18</td>\n",
       "      <td>425</td>\n",
       "    </tr>\n",
       "    <tr>\n",
       "      <th>12083</th>\n",
       "      <td>8012-1</td>\n",
       "      <td>Super Battle Droid</td>\n",
       "      <td>2002</td>\n",
       "      <td>18</td>\n",
       "      <td>378</td>\n",
       "    </tr>\n",
       "    <tr>\n",
       "      <th>15273</th>\n",
       "      <td>K8008-1</td>\n",
       "      <td>Darth Vader / Stormtrooper Kit</td>\n",
       "      <td>2002</td>\n",
       "      <td>18</td>\n",
       "      <td>0</td>\n",
       "    </tr>\n",
       "  </tbody>\n",
       "</table>\n",
       "</div>"
      ],
      "text/plain": [
       "       set_num                                name  year  theme_id  num_parts\n",
       "8786   65081-1  R2-D2 / C-3PO Droid Collectors Set  2002        18          1\n",
       "12051   8000-1                           Pit Droid  2000        18        223\n",
       "12058   8001-1                        Battle Droid  2000        18        336\n",
       "12066   8002-1                     Destroyer Droid  2000        18        567\n",
       "12071   8007-1                               C-3PO  2001        18        339\n",
       "12072   8008-1                        Stormtrooper  2001        18        360\n",
       "12073   8009-1                               R2-D2  2002        18        239\n",
       "12074   8010-1                         Darth Vader  2002        18        388\n",
       "12081   8011-1                          Jango Fett  2002        18        425\n",
       "12083   8012-1                  Super Battle Droid  2002        18        378\n",
       "15273  K8008-1      Darth Vader / Stormtrooper Kit  2002        18          0"
      ]
     },
     "execution_count": 100,
     "metadata": {},
     "output_type": "execute_result"
    }
   ],
   "source": [
    "# 스타워즈 18번 테마\n",
    "sets[sets.theme_id == 18]"
   ]
  },
  {
   "cell_type": "markdown",
   "id": "bce46c08",
   "metadata": {},
   "source": [
    "- 18번 테마는 데이터 기준 2000년 부터 2002년 까지 운영되었고, 이 시리즈의 몇몇 캐릭터로 구성된 것으로 보여진다. 그리고 브릭수도 많은 제품들로 구성되어 있다."
   ]
  },
  {
   "cell_type": "code",
   "execution_count": 101,
   "id": "c711cf9d",
   "metadata": {},
   "outputs": [
    {
     "data": {
      "text/html": [
       "<div>\n",
       "<style scoped>\n",
       "    .dataframe tbody tr th:only-of-type {\n",
       "        vertical-align: middle;\n",
       "    }\n",
       "\n",
       "    .dataframe tbody tr th {\n",
       "        vertical-align: top;\n",
       "    }\n",
       "\n",
       "    .dataframe thead th {\n",
       "        text-align: right;\n",
       "    }\n",
       "</style>\n",
       "<table border=\"1\" class=\"dataframe\">\n",
       "  <thead>\n",
       "    <tr style=\"text-align: right;\">\n",
       "      <th></th>\n",
       "      <th>set_num</th>\n",
       "      <th>name</th>\n",
       "      <th>year</th>\n",
       "      <th>theme_id</th>\n",
       "      <th>num_parts</th>\n",
       "    </tr>\n",
       "  </thead>\n",
       "  <tbody>\n",
       "    <tr>\n",
       "      <th>850</th>\n",
       "      <td>11912-1</td>\n",
       "      <td>Star Wars: Build Your Own Adventure</td>\n",
       "      <td>2016</td>\n",
       "      <td>158</td>\n",
       "      <td>73</td>\n",
       "    </tr>\n",
       "    <tr>\n",
       "      <th>855</th>\n",
       "      <td>11920-1</td>\n",
       "      <td>Parts for Star Wars Build Your Own Adventure: ...</td>\n",
       "      <td>2019</td>\n",
       "      <td>158</td>\n",
       "      <td>70</td>\n",
       "    </tr>\n",
       "    <tr>\n",
       "      <th>1717</th>\n",
       "      <td>20006-1</td>\n",
       "      <td>Clone Turbo Tank - Mini</td>\n",
       "      <td>2008</td>\n",
       "      <td>158</td>\n",
       "      <td>64</td>\n",
       "    </tr>\n",
       "    <tr>\n",
       "      <th>1728</th>\n",
       "      <td>20007-1</td>\n",
       "      <td>Republic Attack Cruiser - Mini</td>\n",
       "      <td>2009</td>\n",
       "      <td>158</td>\n",
       "      <td>84</td>\n",
       "    </tr>\n",
       "    <tr>\n",
       "      <th>1738</th>\n",
       "      <td>20009-1</td>\n",
       "      <td>AT-TE Walker - Mini</td>\n",
       "      <td>2009</td>\n",
       "      <td>158</td>\n",
       "      <td>94</td>\n",
       "    </tr>\n",
       "    <tr>\n",
       "      <th>...</th>\n",
       "      <td>...</td>\n",
       "      <td>...</td>\n",
       "      <td>...</td>\n",
       "      <td>...</td>\n",
       "      <td>...</td>\n",
       "    </tr>\n",
       "    <tr>\n",
       "      <th>15686</th>\n",
       "      <td>VP-4</td>\n",
       "      <td>Star Wars Co-Pack of 7101 7111 and 7171</td>\n",
       "      <td>2000</td>\n",
       "      <td>158</td>\n",
       "      <td>0</td>\n",
       "    </tr>\n",
       "    <tr>\n",
       "      <th>15689</th>\n",
       "      <td>VP-8</td>\n",
       "      <td>Star Wars Co-Pack of 7130 and 7150</td>\n",
       "      <td>2000</td>\n",
       "      <td>158</td>\n",
       "      <td>0</td>\n",
       "    </tr>\n",
       "    <tr>\n",
       "      <th>15707</th>\n",
       "      <td>XWING-1</td>\n",
       "      <td>Mini X-Wing Fighter</td>\n",
       "      <td>2019</td>\n",
       "      <td>158</td>\n",
       "      <td>60</td>\n",
       "    </tr>\n",
       "    <tr>\n",
       "      <th>15708</th>\n",
       "      <td>XWING-2</td>\n",
       "      <td>X-Wing Trench Run</td>\n",
       "      <td>2019</td>\n",
       "      <td>158</td>\n",
       "      <td>52</td>\n",
       "    </tr>\n",
       "    <tr>\n",
       "      <th>15709</th>\n",
       "      <td>YODACHRON-1</td>\n",
       "      <td>Yoda Chronicles Promotional Set</td>\n",
       "      <td>2013</td>\n",
       "      <td>158</td>\n",
       "      <td>413</td>\n",
       "    </tr>\n",
       "  </tbody>\n",
       "</table>\n",
       "<p>753 rows × 5 columns</p>\n",
       "</div>"
      ],
      "text/plain": [
       "           set_num                                               name  year  \\\n",
       "850        11912-1                Star Wars: Build Your Own Adventure  2016   \n",
       "855        11920-1  Parts for Star Wars Build Your Own Adventure: ...  2019   \n",
       "1717       20006-1                            Clone Turbo Tank - Mini  2008   \n",
       "1728       20007-1                     Republic Attack Cruiser - Mini  2009   \n",
       "1738       20009-1                                AT-TE Walker - Mini  2009   \n",
       "...            ...                                                ...   ...   \n",
       "15686         VP-4            Star Wars Co-Pack of 7101 7111 and 7171  2000   \n",
       "15689         VP-8                 Star Wars Co-Pack of 7130 and 7150  2000   \n",
       "15707      XWING-1                                Mini X-Wing Fighter  2019   \n",
       "15708      XWING-2                                  X-Wing Trench Run  2019   \n",
       "15709  YODACHRON-1                    Yoda Chronicles Promotional Set  2013   \n",
       "\n",
       "       theme_id  num_parts  \n",
       "850         158         73  \n",
       "855         158         70  \n",
       "1717        158         64  \n",
       "1728        158         84  \n",
       "1738        158         94  \n",
       "...         ...        ...  \n",
       "15686       158          0  \n",
       "15689       158          0  \n",
       "15707       158         60  \n",
       "15708       158         52  \n",
       "15709       158        413  \n",
       "\n",
       "[753 rows x 5 columns]"
      ]
     },
     "execution_count": 101,
     "metadata": {},
     "output_type": "execute_result"
    }
   ],
   "source": [
    "# 스타워즈 158번 테마\n",
    "sets[sets.theme_id == 158]"
   ]
  },
  {
   "cell_type": "markdown",
   "id": "bf8ff357",
   "metadata": {},
   "source": [
    "- 158번 테마는 운영된 년도도 다양하고, 시리즈, 브릭수 등 다양한 제품군들로 구성되어 있다. (그런데 브릭수가 0으로 되어 있는 데이터들이 간혹 있다.)"
   ]
  },
  {
   "cell_type": "code",
   "execution_count": 102,
   "id": "d483b7e8",
   "metadata": {},
   "outputs": [
    {
     "data": {
      "text/html": [
       "<div>\n",
       "<style scoped>\n",
       "    .dataframe tbody tr th:only-of-type {\n",
       "        vertical-align: middle;\n",
       "    }\n",
       "\n",
       "    .dataframe tbody tr th {\n",
       "        vertical-align: top;\n",
       "    }\n",
       "\n",
       "    .dataframe thead th {\n",
       "        text-align: right;\n",
       "    }\n",
       "</style>\n",
       "<table border=\"1\" class=\"dataframe\">\n",
       "  <thead>\n",
       "    <tr style=\"text-align: right;\">\n",
       "      <th></th>\n",
       "      <th>set_num</th>\n",
       "      <th>name</th>\n",
       "      <th>year</th>\n",
       "      <th>theme_id</th>\n",
       "      <th>num_parts</th>\n",
       "    </tr>\n",
       "  </thead>\n",
       "  <tbody>\n",
       "    <tr>\n",
       "      <th>11013</th>\n",
       "      <td>75023-1</td>\n",
       "      <td>Star Wars Advent Calendar 2013</td>\n",
       "      <td>2013</td>\n",
       "      <td>209</td>\n",
       "      <td>254</td>\n",
       "    </tr>\n",
       "    <tr>\n",
       "      <th>11046</th>\n",
       "      <td>75056-1</td>\n",
       "      <td>Star Wars Advent Calendar 2014</td>\n",
       "      <td>2014</td>\n",
       "      <td>209</td>\n",
       "      <td>273</td>\n",
       "    </tr>\n",
       "    <tr>\n",
       "      <th>11080</th>\n",
       "      <td>75097-1</td>\n",
       "      <td>Star Wars Advent Calendar 2015</td>\n",
       "      <td>2015</td>\n",
       "      <td>209</td>\n",
       "      <td>291</td>\n",
       "    </tr>\n",
       "    <tr>\n",
       "      <th>11131</th>\n",
       "      <td>75146-1</td>\n",
       "      <td>Star Wars Advent Calendar 2016</td>\n",
       "      <td>2016</td>\n",
       "      <td>209</td>\n",
       "      <td>282</td>\n",
       "    </tr>\n",
       "    <tr>\n",
       "      <th>11173</th>\n",
       "      <td>75184-1</td>\n",
       "      <td>Star Wars Advent Calendar 2017</td>\n",
       "      <td>2017</td>\n",
       "      <td>209</td>\n",
       "      <td>309</td>\n",
       "    </tr>\n",
       "    <tr>\n",
       "      <th>11206</th>\n",
       "      <td>75213-1</td>\n",
       "      <td>Star Wars Advent Calendar 2018</td>\n",
       "      <td>2018</td>\n",
       "      <td>209</td>\n",
       "      <td>307</td>\n",
       "    </tr>\n",
       "    <tr>\n",
       "      <th>11245</th>\n",
       "      <td>75245-1</td>\n",
       "      <td>Star Wars Advent Calendar 2019</td>\n",
       "      <td>2019</td>\n",
       "      <td>209</td>\n",
       "      <td>280</td>\n",
       "    </tr>\n",
       "    <tr>\n",
       "      <th>11281</th>\n",
       "      <td>75279-1</td>\n",
       "      <td>Star Wars Advent Calendar 2020</td>\n",
       "      <td>2020</td>\n",
       "      <td>209</td>\n",
       "      <td>312</td>\n",
       "    </tr>\n",
       "    <tr>\n",
       "      <th>12019</th>\n",
       "      <td>7958-1</td>\n",
       "      <td>Star Wars Advent Calendar 2011</td>\n",
       "      <td>2011</td>\n",
       "      <td>209</td>\n",
       "      <td>267</td>\n",
       "    </tr>\n",
       "    <tr>\n",
       "      <th>14352</th>\n",
       "      <td>9509-1</td>\n",
       "      <td>Star Wars Advent Calendar 2012</td>\n",
       "      <td>2012</td>\n",
       "      <td>209</td>\n",
       "      <td>235</td>\n",
       "    </tr>\n",
       "  </tbody>\n",
       "</table>\n",
       "</div>"
      ],
      "text/plain": [
       "       set_num                            name  year  theme_id  num_parts\n",
       "11013  75023-1  Star Wars Advent Calendar 2013  2013       209        254\n",
       "11046  75056-1  Star Wars Advent Calendar 2014  2014       209        273\n",
       "11080  75097-1  Star Wars Advent Calendar 2015  2015       209        291\n",
       "11131  75146-1  Star Wars Advent Calendar 2016  2016       209        282\n",
       "11173  75184-1  Star Wars Advent Calendar 2017  2017       209        309\n",
       "11206  75213-1  Star Wars Advent Calendar 2018  2018       209        307\n",
       "11245  75245-1  Star Wars Advent Calendar 2019  2019       209        280\n",
       "11281  75279-1  Star Wars Advent Calendar 2020  2020       209        312\n",
       "12019   7958-1  Star Wars Advent Calendar 2011  2011       209        267\n",
       "14352   9509-1  Star Wars Advent Calendar 2012  2012       209        235"
      ]
     },
     "execution_count": 102,
     "metadata": {},
     "output_type": "execute_result"
    }
   ],
   "source": [
    "# 스타워즈 209번 테마\n",
    "sets[sets.theme_id == 209]"
   ]
  },
  {
   "cell_type": "markdown",
   "id": "da1186b2",
   "metadata": {},
   "source": [
    "- 209번 테마는 Star Wars Advent Calendar 전부가 동일한 theme_id를 가지고 있다. 아마 년도 별로 새해를 맞아 준비한 제품군으로 파악된다."
   ]
  },
  {
   "cell_type": "code",
   "execution_count": 106,
   "id": "ccf70543",
   "metadata": {},
   "outputs": [
    {
     "data": {
      "text/html": [
       "<div>\n",
       "<style scoped>\n",
       "    .dataframe tbody tr th:only-of-type {\n",
       "        vertical-align: middle;\n",
       "    }\n",
       "\n",
       "    .dataframe tbody tr th {\n",
       "        vertical-align: top;\n",
       "    }\n",
       "\n",
       "    .dataframe thead th {\n",
       "        text-align: right;\n",
       "    }\n",
       "</style>\n",
       "<table border=\"1\" class=\"dataframe\">\n",
       "  <thead>\n",
       "    <tr style=\"text-align: right;\">\n",
       "      <th></th>\n",
       "      <th>set_num</th>\n",
       "      <th>name</th>\n",
       "      <th>year</th>\n",
       "      <th>theme_id</th>\n",
       "      <th>num_parts</th>\n",
       "    </tr>\n",
       "  </thead>\n",
       "  <tbody>\n",
       "    <tr>\n",
       "      <th>14630</th>\n",
       "      <td>9748-1</td>\n",
       "      <td>Droid Developer Kit</td>\n",
       "      <td>1999</td>\n",
       "      <td>261</td>\n",
       "      <td>658</td>\n",
       "    </tr>\n",
       "    <tr>\n",
       "      <th>14636</th>\n",
       "      <td>9754-1</td>\n",
       "      <td>Dark Side Developers Kit</td>\n",
       "      <td>2000</td>\n",
       "      <td>261</td>\n",
       "      <td>578</td>\n",
       "    </tr>\n",
       "  </tbody>\n",
       "</table>\n",
       "</div>"
      ],
      "text/plain": [
       "      set_num                      name  year  theme_id  num_parts\n",
       "14630  9748-1       Droid Developer Kit  1999       261        658\n",
       "14636  9754-1  Dark Side Developers Kit  2000       261        578"
      ]
     },
     "execution_count": 106,
     "metadata": {},
     "output_type": "execute_result"
    }
   ],
   "source": [
    "# 스타워즈 158번 테마\n",
    "sets[sets.theme_id == 261]"
   ]
  },
  {
   "cell_type": "markdown",
   "id": "f29725ee",
   "metadata": {},
   "source": [
    "- 261번 테마는 단 두 가지 제품 군으로 탐색되는데, 레고 Developers 기트들로 구성되어 있다."
   ]
  },
  {
   "cell_type": "markdown",
   "id": "915f2aed",
   "metadata": {},
   "source": [
    "### 10. 데이터프레임을 병합하여 막대 차트를 만드는 방법 \n",
    "- 여기서 테마당 세트 수와 테마명 데이터를 결합하면 더 좋지 않을까? \n",
    "- \".merge()\" 메소드를 이용하 별개의 두 데이터프레임을 하나로 결합 할 수 있다. \n",
    "- \".merge()\" 메소드는 양쪽의 데이터프레임에서 같은 이름을 가진 열에 적용된다."
   ]
  },
  {
   "cell_type": "code",
   "execution_count": 107,
   "id": "b6f1788b",
   "metadata": {},
   "outputs": [
    {
     "data": {
      "text/plain": [
       "158    753\n",
       "501    656\n",
       "494    398\n",
       "435    356\n",
       "503    329\n",
       "Name: theme_id, dtype: int64"
      ]
     },
     "execution_count": 107,
     "metadata": {},
     "output_type": "execute_result"
    }
   ],
   "source": [
    "# 레고 테마당 세트 개수 \n",
    "set_theme_count = sets['theme_id'].value_counts()\n",
    "set_theme_count[:5]"
   ]
  },
  {
   "cell_type": "markdown",
   "id": "4e12fd2b",
   "metadata": {},
   "source": [
    "- 지금은 \"theme_id\"와 테마별 세트 수가 \"set_theme_count\"라고 불리는 시리즈 안에 있다."
   ]
  },
  {
   "cell_type": "code",
   "execution_count": 108,
   "id": "49a1d7f1",
   "metadata": {},
   "outputs": [
    {
     "data": {
      "text/html": [
       "<div>\n",
       "<style scoped>\n",
       "    .dataframe tbody tr th:only-of-type {\n",
       "        vertical-align: middle;\n",
       "    }\n",
       "\n",
       "    .dataframe tbody tr th {\n",
       "        vertical-align: top;\n",
       "    }\n",
       "\n",
       "    .dataframe thead th {\n",
       "        text-align: right;\n",
       "    }\n",
       "</style>\n",
       "<table border=\"1\" class=\"dataframe\">\n",
       "  <thead>\n",
       "    <tr style=\"text-align: right;\">\n",
       "      <th></th>\n",
       "      <th>id</th>\n",
       "      <th>set_count</th>\n",
       "    </tr>\n",
       "  </thead>\n",
       "  <tbody>\n",
       "    <tr>\n",
       "      <th>0</th>\n",
       "      <td>158</td>\n",
       "      <td>753</td>\n",
       "    </tr>\n",
       "    <tr>\n",
       "      <th>1</th>\n",
       "      <td>501</td>\n",
       "      <td>656</td>\n",
       "    </tr>\n",
       "    <tr>\n",
       "      <th>2</th>\n",
       "      <td>494</td>\n",
       "      <td>398</td>\n",
       "    </tr>\n",
       "    <tr>\n",
       "      <th>3</th>\n",
       "      <td>435</td>\n",
       "      <td>356</td>\n",
       "    </tr>\n",
       "    <tr>\n",
       "      <th>4</th>\n",
       "      <td>503</td>\n",
       "      <td>329</td>\n",
       "    </tr>\n",
       "  </tbody>\n",
       "</table>\n",
       "</div>"
      ],
      "text/plain": [
       "    id  set_count\n",
       "0  158        753\n",
       "1  501        656\n",
       "2  494        398\n",
       "3  435        356\n",
       "4  503        329"
      ]
     },
     "execution_count": 108,
     "metadata": {},
     "output_type": "execute_result"
    }
   ],
   "source": [
    "# 레고 테마당 세트 개수 시리즈를 데이터프레임으로 변환 \n",
    "set_theme_count = pd.DataFrame({'id': set_theme_count.index,\n",
    "                               'set_count': set_theme_count.values})\n",
    "set_theme_count.head()"
   ]
  },
  {
   "cell_type": "markdown",
   "id": "2b35c969",
   "metadata": {},
   "source": [
    "- 이제 id 라는 이름의 열이 있다는 것을 확인하기 위해 판다스 시리즈를 데이터프레임으로 변환해보았다.(데이터프레임을 생성하기 위해 딕셔너리를 사용했는데, 여기서 키 값이 열 이름이다.)"
   ]
  },
  {
   "cell_type": "markdown",
   "id": "bfd6b681",
   "metadata": {},
   "source": [
    "#### 10-1.  Pandas.merge() 기능"
   ]
  },
  {
   "cell_type": "code",
   "execution_count": 109,
   "id": "5217c0af",
   "metadata": {},
   "outputs": [
    {
     "data": {
      "text/html": [
       "<div>\n",
       "<style scoped>\n",
       "    .dataframe tbody tr th:only-of-type {\n",
       "        vertical-align: middle;\n",
       "    }\n",
       "\n",
       "    .dataframe tbody tr th {\n",
       "        vertical-align: top;\n",
       "    }\n",
       "\n",
       "    .dataframe thead th {\n",
       "        text-align: right;\n",
       "    }\n",
       "</style>\n",
       "<table border=\"1\" class=\"dataframe\">\n",
       "  <thead>\n",
       "    <tr style=\"text-align: right;\">\n",
       "      <th></th>\n",
       "      <th>id</th>\n",
       "      <th>set_count</th>\n",
       "      <th>name</th>\n",
       "      <th>parent_id</th>\n",
       "    </tr>\n",
       "  </thead>\n",
       "  <tbody>\n",
       "    <tr>\n",
       "      <th>0</th>\n",
       "      <td>158</td>\n",
       "      <td>753</td>\n",
       "      <td>Star Wars</td>\n",
       "      <td>NaN</td>\n",
       "    </tr>\n",
       "    <tr>\n",
       "      <th>1</th>\n",
       "      <td>501</td>\n",
       "      <td>656</td>\n",
       "      <td>Gear</td>\n",
       "      <td>NaN</td>\n",
       "    </tr>\n",
       "    <tr>\n",
       "      <th>2</th>\n",
       "      <td>494</td>\n",
       "      <td>398</td>\n",
       "      <td>Friends</td>\n",
       "      <td>NaN</td>\n",
       "    </tr>\n",
       "    <tr>\n",
       "      <th>3</th>\n",
       "      <td>435</td>\n",
       "      <td>356</td>\n",
       "      <td>Ninjago</td>\n",
       "      <td>NaN</td>\n",
       "    </tr>\n",
       "    <tr>\n",
       "      <th>4</th>\n",
       "      <td>503</td>\n",
       "      <td>329</td>\n",
       "      <td>Key Chain</td>\n",
       "      <td>501.0</td>\n",
       "    </tr>\n",
       "  </tbody>\n",
       "</table>\n",
       "</div>"
      ],
      "text/plain": [
       "    id  set_count       name  parent_id\n",
       "0  158        753  Star Wars        NaN\n",
       "1  501        656       Gear        NaN\n",
       "2  494        398    Friends        NaN\n",
       "3  435        356    Ninjago        NaN\n",
       "4  503        329  Key Chain      501.0"
      ]
     },
     "execution_count": 109,
     "metadata": {},
     "output_type": "execute_result"
    }
   ],
   "source": [
    "# 두 데이터프레임(set_theme_count, themes) merge 하기 \n",
    "merge_df = pd.merge(set_theme_count, themes, on='id')\n",
    "merge_df.head()"
   ]
  },
  {
   "cell_type": "markdown",
   "id": "169f4d3f",
   "metadata": {},
   "source": [
    "- 두 개의 데이터프레임을 하나의 특정 열에 \".merge()\"하기 위해서는 해당 두 데이터프레임 및 병합한 열 이름을 알려줘야 한다. 그래서 \"on='id'\"를 설정한 것이다. \n",
    "- set_theme_count와 themes 데이터프레임 둘 다 \"id\"라는 열 이름이 있다. \n",
    "- 병합한 데이터프레임을 확인해보니 스타워즈는 진정 가장 많은 레고 세트를 낸 테마라는걸 세삼 느낀다."
   ]
  },
  {
   "cell_type": "markdown",
   "id": "2f3fee2f",
   "metadata": {},
   "source": [
    "#### 10-2. 막대 차트 만들기 "
   ]
  },
  {
   "cell_type": "code",
   "execution_count": 112,
   "id": "1d2a0cb9",
   "metadata": {},
   "outputs": [
    {
     "data": {
      "text/plain": [
       "<BarContainer object of 10 artists>"
      ]
     },
     "execution_count": 112,
     "metadata": {},
     "output_type": "execute_result"
    },
    {
     "data": {
      "image/png": "[encoded data removed]",
      "text/plain": [
       "<Figure size 1008x576 with 1 Axes>"
      ]
     },
     "metadata": {
      "needs_background": "light"
     },
     "output_type": "display_data"
    }
   ],
   "source": [
    "# 병합한 데이터프레임을 바탕으로 상위 10개 테마를 표시하는 막대 차트 그리기 \n",
    "plt.figure(figsize=(14, 8))                       # 차트 사이즈 설정 \n",
    "plt.xticks(fontsize=14, rotation=45)              # x축 폰트 사이즈 및 폰트 회전 각도 조절 \n",
    "plt.yticks(fontsize=14)                           # y축 폰트 사이즈 조절\n",
    "plt.ylabel(\"Number of Sets\", fontsize=14)         # y축 label 설정  \n",
    "plt.xlabel(\"Theme Name\", fontsize=14)             # x축 label 설정 \n",
    "\n",
    "plt.bar(merge_df.name[:10], merge_df.set_count[:10])   # 막대 차트 설정 (x축, y축 데이터 설정)"
   ]
  },
  {
   "cell_type": "markdown",
   "id": "eca3d6f1",
   "metadata": {},
   "source": [
    "- 막대 차트의 경우 \".bar()\"를 사용해서 테마 이름과 세트 수를 넣으면 차트가 완성된다. \n",
    "- 만약 차트를 작게 만들 경우 x축의 label이 겹쳐서 나올 수 있으므로 크기 조절을 해서 잘 그려주면 된다."
   ]
  },
  {
   "cell_type": "markdown",
   "id": "215bf831",
   "metadata": {},
   "source": [
    "- 막대 차트를 보면서 알수 있는 점은 레고 블록 뿐만 아니라 다양한 제품 라인업이 있다는 점이다.\n",
    "- 스타워즈 테마 다음로 높은 테마가 바로 'Gear' 범주 이다. 'Gear' 라인에는 가방, 필통 등이 들어가있다. \n",
    "- 레고가 핵심사업에서 이탈한 것인지, 성공적인 사업 다각화를 하고 있는지 해당 데이터 셋에서는 알 수가 없다. 이는 다른 더 많은 자료들을 살펴보고 분석해야 알 수 있는 부분이다."
   ]
  },
  {
   "cell_type": "markdown",
   "id": "e1fe2828",
   "metadata": {},
   "source": [
    "### Study 핵심 요약 \n",
    "- 금일 Study 사항 정리 \n",
    "    - 노트북에서 HTML 마크다운을 사용하여, 섹션 제목 `#` 및 `<img>` 태그로 이미지를 임베딩\n",
    "    - `groupby()` 및 `count()` 함수를 결합하여 데이터 집계\n",
    "    - `.value_counts()` 함수 사용\n",
    "    - `[]` 표기를 사용하여 데이터프레임 슬라이스 하기 (예 `df[:-2]` or `df[:10]`)\n",
    "    - `.agg()` 함수를 사용하여 특정 열에 대한 작업 실행\n",
    "    - `rename()` 데이터프레임 열 이름 바꾸기 \n",
    "    - 단위가 다른 데이터를 시각화하기 위해 두 개의 개별 축이 있는 선형 차트를 만들기\n",
    "    - 맷플롯립에서 산점도 만들기\n",
    "    - 기본키와 외래키를 사용하여 연관 데이터베이스에서 표 작업하기\n",
    "    - 특정 열을 따라 데이터프레임 `.merge()`하기\n",
    "    - 맷플롯립으로 막대 차트 만들기"
   ]
  }
 ],
 "metadata": {
  "kernelspec": {
   "display_name": "Python 3 (ipykernel)",
   "language": "python",
   "name": "python3"
  },
  "language_info": {
   "codemirror_mode": {
    "name": "ipython",
    "version": 3
   },
   "file_extension": ".py",
   "mimetype": "text/x-python",
   "name": "python",
   "nbconvert_exporter": "python",
   "pygments_lexer": "ipython3",
   "version": "3.8.12"
  }
 },
 "nbformat": 4,
 "nbformat_minor": 5
}
