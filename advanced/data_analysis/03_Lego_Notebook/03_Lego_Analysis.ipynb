{
 "cells": [
  {
   "cell_type": "markdown",
   "id": "ba202884",
   "metadata": {},
   "source": [
    "## 레고 분석 \n",
    "- 레고의 데이터셋을 분석하면서 판다스에서 데이터를 집계하고 병합하는 방법을 알아본다. \n",
    "- 레고 데이터셋은 회사의 역사, 출시 제품, 어떤 레고 세트가 제일 잘 나가는지에 대한 여러 흥미로운 질문에 답하는데 도움이 될 것이다. \n",
    "    - 지금까지 만들어진 가장 거대한 레고 세트는 무엇이며 몇 개의 부품으로 구성되어 있을까? \n",
    "    - 최초의 레고 세트가 출시된 연도와 처음 출시되었을 때 회사에서 판매한 세트 수는 몇 개일까? \n",
    "    - 레고에서 가장 많은 세트를 보유한 테마는 어떤 것일까? 해리포터, 닌자고, 프렌즈 아니면 다른 것일까?\n",
    "    - 레고 회사는 살제로 언제 출시 제품을 기반으로 도약했을까? 매년 몇 개의 테마와 세트가 출시될까? \n",
    "    - 레고 세트는 해가 갈수록 크기와 복잡도가 늘어날까? 예전 레고 세트는 요즘 세트와 비교했을 때 부품이 더 적을까?"
   ]
  },
  {
   "cell_type": "markdown",
   "id": "270d871f",
   "metadata": {},
   "source": [
    "#### 금일 Study할 목록 \n",
    "- (주피터, 혹은 코랩)노트북과 HTML 마크업을 결합하는 법\n",
    "- 판다스 데이터프레임에 파이썬 목록 슬라이싱 기술 적용\n",
    "- `.agg()` 함수를 사용하여 데이터를 집계하는 법 \n",
    "- 맷플롯립에서 두 개의 축이 있는 산점도, 막대 차트, 꺾은선형 차트를 만드는 법 \n",
    "- 기본키와 외래키로 구성된 데이터베이스 스키마 이해 \n",
    "- 공통의 키를 공유하는 데이터프레임 병합하는 법 "
   ]
  },
  {
   "cell_type": "markdown",
   "id": "d050c0e2",
   "metadata": {},
   "source": [
    "### 1. 노트북을 보기 좋게 만드는 HTML 마크다운 사용 \n",
    "- (주피터 혹은 코랩)노트북 안에 있는 셀에는 파이썬 코드의 코드 셀 또는 텍스트(마크다운) 셀이 있다. 스타터 노트북에는 섹션 제목과 도전 문제 텍스트가 있는 이러한 텍스트 셀이 몇 개 포함되어 있다. 하지만 HTML을 사용하면 셀 스타일을 훨씬 더 많이 지정할 수 있다. "
   ]
  },
  {
   "cell_type": "markdown",
   "id": "4baf492b",
   "metadata": {},
   "source": [
    "#### 1-1. 마크다운 셀 삽입하기 \n",
    "- 코램의 경우 \"+Text\"를 클륵하거나 \"ESC 키 + B 버튼(선택한 셀 기준 아래로 추가) 혹은 A(선택한 셀 기준 위로 추가)버튼\"을 누른 후 \" M 버튼\"을 누르면 마크다운 셀이 생성된다.\n",
    "- 주피터 노트북의 경우 \"ESC 키 + B 버튼(선택한 셀 기준 아래로 추가) 혹은 A(선택한 셀 기준 위로 추가)버튼\"을 누른 후 \" M 버튼\"을 누르면 마크다운 셀이 생성된다."
   ]
  },
  {
   "cell_type": "markdown",
   "id": "d478ba18",
   "metadata": {},
   "source": [
    "#### 1-2. 이미지 추가하기 \n",
    "- 텍스트 셀 안에 이미지를 표시하고, 이미지의 URL로 HTML `<img>` tag를 사용한다.\n",
    "    - 예시 -> `<img src=\"https://i.imgur.com/49FNOHJ.jpg\">`"
   ]
  },
  {
   "cell_type": "markdown",
   "id": "3313eb5d",
   "metadata": {},
   "source": [
    "- 주피터 노트북의 경우 일반 이미지 파일을 연결하면 된다. \n",
    "    - `<img src=\"assets/bricks.jpg>`\n",
    "<img src=\"assets/bricks.jpg\">"
   ]
  },
  {
   "cell_type": "markdown",
   "id": "f4e0bcd1",
   "metadata": {},
   "source": [
    "#### 1-3. 세션 제목 \n",
    "- `<h1>` 혹은 `<h2>`와 같은 태그를 사용해서 섹션 제목을 추가할 수 있다. 그러나 노트북에는 공통 HTML 태그에 대한 자체 약어도 존재한다. 예를 들어 `#`기호를 바로가기로 사용할 수 있다. \n",
    "- 제목 크기는 최소 `<h5>`까지 확대 가능하다. 아래는 예시이다."
   ]
  },
  {
   "cell_type": "markdown",
   "id": "77986972",
   "metadata": {},
   "source": [
    "# H1 \n",
    "## H2\n",
    "### H3 \n",
    "#### H4\n",
    "##### H5"
   ]
  },
  {
   "cell_type": "markdown",
   "id": "588ae310",
   "metadata": {},
   "source": [
    "### 2. 레고 블록 색상 탐색하기"
   ]
  },
  {
   "cell_type": "markdown",
   "id": "4fcf1411",
   "metadata": {},
   "source": [
    "#### 2-1. 판다스 및 필요한 모듈 가져오기 "
   ]
  },
  {
   "cell_type": "code",
   "execution_count": 1,
   "id": "1d71419d",
   "metadata": {},
   "outputs": [],
   "source": [
    "import pandas as pd \n",
    "\n",
    "import warnings\n",
    "warnings.filterwarnings('ignore')"
   ]
  },
  {
   "cell_type": "markdown",
   "id": "23e7b67f",
   "metadata": {},
   "source": [
    "#### 2-2. 구조 확인하기 "
   ]
  },
  {
   "cell_type": "code",
   "execution_count": 2,
   "id": "9ee8e714",
   "metadata": {},
   "outputs": [
    {
     "data": {
      "text/html": [
       "<div>\n",
       "<style scoped>\n",
       "    .dataframe tbody tr th:only-of-type {\n",
       "        vertical-align: middle;\n",
       "    }\n",
       "\n",
       "    .dataframe tbody tr th {\n",
       "        vertical-align: top;\n",
       "    }\n",
       "\n",
       "    .dataframe thead th {\n",
       "        text-align: right;\n",
       "    }\n",
       "</style>\n",
       "<table border=\"1\" class=\"dataframe\">\n",
       "  <thead>\n",
       "    <tr style=\"text-align: right;\">\n",
       "      <th></th>\n",
       "      <th>id</th>\n",
       "      <th>name</th>\n",
       "      <th>rgb</th>\n",
       "      <th>is_trans</th>\n",
       "    </tr>\n",
       "  </thead>\n",
       "  <tbody>\n",
       "    <tr>\n",
       "      <th>0</th>\n",
       "      <td>-1</td>\n",
       "      <td>Unknown</td>\n",
       "      <td>0033B2</td>\n",
       "      <td>f</td>\n",
       "    </tr>\n",
       "    <tr>\n",
       "      <th>1</th>\n",
       "      <td>0</td>\n",
       "      <td>Black</td>\n",
       "      <td>05131D</td>\n",
       "      <td>f</td>\n",
       "    </tr>\n",
       "    <tr>\n",
       "      <th>2</th>\n",
       "      <td>1</td>\n",
       "      <td>Blue</td>\n",
       "      <td>0055BF</td>\n",
       "      <td>f</td>\n",
       "    </tr>\n",
       "    <tr>\n",
       "      <th>3</th>\n",
       "      <td>2</td>\n",
       "      <td>Green</td>\n",
       "      <td>237841</td>\n",
       "      <td>f</td>\n",
       "    </tr>\n",
       "    <tr>\n",
       "      <th>4</th>\n",
       "      <td>3</td>\n",
       "      <td>Dark Turquoise</td>\n",
       "      <td>008F9B</td>\n",
       "      <td>f</td>\n",
       "    </tr>\n",
       "  </tbody>\n",
       "</table>\n",
       "</div>"
      ],
      "text/plain": [
       "   id            name     rgb is_trans\n",
       "0  -1         Unknown  0033B2        f\n",
       "1   0           Black  05131D        f\n",
       "2   1            Blue  0055BF        f\n",
       "3   2           Green  237841        f\n",
       "4   3  Dark Turquoise  008F9B        f"
      ]
     },
     "execution_count": 2,
     "metadata": {},
     "output_type": "execute_result"
    }
   ],
   "source": [
    "# 레고 블록 색상 데이터 불러오기\n",
    "colors = pd.read_csv(\"data/colors.csv\")\n",
    "colors.head()"
   ]
  },
  {
   "cell_type": "markdown",
   "id": "b6d745fd",
   "metadata": {},
   "source": [
    "- 색상의 이름과 해당 RGB 값이 있는 다섯개의 컬럼이 있음을 알 수 있다. "
   ]
  },
  {
   "cell_type": "code",
   "execution_count": 17,
   "id": "fe28bde5",
   "metadata": {},
   "outputs": [
    {
     "data": {
      "text/plain": [
       "135"
      ]
     },
     "execution_count": 17,
     "metadata": {},
     "output_type": "execute_result"
    }
   ],
   "source": [
    "# 색상의 수 체크 \n",
    "colors['name'].nunique()"
   ]
  },
  {
   "cell_type": "markdown",
   "id": "86607655",
   "metadata": {},
   "source": [
    "- 색상의 수를 찾으려면 \"name\" 컬럼의 모든 항목이 고유한지 여부를 확인하면 된다. ('nunique()'메소드 사용)\n",
    "- 탐색 결과 레고 블록에 135개의 고유한 색상이 있다는 것이 확인 되었다."
   ]
  },
  {
   "cell_type": "markdown",
   "id": "9078cebe",
   "metadata": {},
   "source": [
    "#### 2-3. 투명한 색상의 개수 구하기 "
   ]
  },
  {
   "cell_type": "code",
   "execution_count": 18,
   "id": "9bd48d55",
   "metadata": {},
   "outputs": [
    {
     "data": {
      "text/html": [
       "<div>\n",
       "<style scoped>\n",
       "    .dataframe tbody tr th:only-of-type {\n",
       "        vertical-align: middle;\n",
       "    }\n",
       "\n",
       "    .dataframe tbody tr th {\n",
       "        vertical-align: top;\n",
       "    }\n",
       "\n",
       "    .dataframe thead th {\n",
       "        text-align: right;\n",
       "    }\n",
       "</style>\n",
       "<table border=\"1\" class=\"dataframe\">\n",
       "  <thead>\n",
       "    <tr style=\"text-align: right;\">\n",
       "      <th></th>\n",
       "      <th>id</th>\n",
       "      <th>name</th>\n",
       "      <th>rgb</th>\n",
       "    </tr>\n",
       "    <tr>\n",
       "      <th>is_trans</th>\n",
       "      <th></th>\n",
       "      <th></th>\n",
       "      <th></th>\n",
       "    </tr>\n",
       "  </thead>\n",
       "  <tbody>\n",
       "    <tr>\n",
       "      <th>f</th>\n",
       "      <td>107</td>\n",
       "      <td>107</td>\n",
       "      <td>107</td>\n",
       "    </tr>\n",
       "    <tr>\n",
       "      <th>t</th>\n",
       "      <td>28</td>\n",
       "      <td>28</td>\n",
       "      <td>28</td>\n",
       "    </tr>\n",
       "  </tbody>\n",
       "</table>\n",
       "</div>"
      ],
      "text/plain": [
       "           id  name  rgb\n",
       "is_trans                \n",
       "f         107   107  107\n",
       "t          28    28   28"
      ]
     },
     "execution_count": 18,
     "metadata": {},
     "output_type": "execute_result"
    }
   ],
   "source": [
    "# 투명한 색상의 개수 구하기 - group by \n",
    "colors.groupby('is_trans').count()"
   ]
  },
  {
   "cell_type": "code",
   "execution_count": 20,
   "id": "5e1dbd30",
   "metadata": {},
   "outputs": [
    {
     "data": {
      "text/plain": [
       "f    107\n",
       "t     28\n",
       "Name: is_trans, dtype: int64"
      ]
     },
     "execution_count": 20,
     "metadata": {},
     "output_type": "execute_result"
    }
   ],
   "source": [
    "# 투명한 색상의 개수 구하기 - value_count\n",
    "colors['is_trans'].value_counts()"
   ]
  },
  {
   "cell_type": "markdown",
   "id": "33b3fbe3",
   "metadata": {},
   "source": [
    "- 투명한 색상의 개수를 구하는 방법은 두 가지가 있다. \n",
    "    - groupby() 메소드 + count() 메소드 \n",
    "    - value_count() 메소드 \n",
    "- 확인 결과 불투명한 색상은 107건 투명한 색상은 28건으로 조회 되었다."
   ]
  },
  {
   "cell_type": "code",
   "execution_count": 7,
   "id": "538edc04",
   "metadata": {},
   "outputs": [],
   "source": [
    "# 투명도 색상 개수 체크 \n",
    "transparency_counts = colors['is_trans'].value_counts()"
   ]
  },
  {
   "cell_type": "code",
   "execution_count": 15,
   "id": "4dddabc0",
   "metadata": {},
   "outputs": [],
   "source": [
    "# 투명도 비율 계산 위해 숫자 추출 \n",
    "transparent_count = transparency_counts.get('t', 0)\n",
    "opaque_count = transparency_counts.get('f', 0)\n",
    "\n",
    "# 비율 계산\n",
    "transparency_ratio = (transparent_count / (transparent_count + opaque_count)) * 100"
   ]
  },
  {
   "cell_type": "code",
   "execution_count": 16,
   "id": "b360a1c6",
   "metadata": {},
   "outputs": [
    {
     "name": "stdout",
     "output_type": "stream",
     "text": [
      "Transparent Count: 28\n",
      "Opaque Count: 107\n",
      "Transparency Ratio: 20.74074074074074\n"
     ]
    }
   ],
   "source": [
    "# 결과 출력 \n",
    "print(\"Transparent Count:\", transparent_count)\n",
    "print(\"Opaque Count:\", opaque_count)\n",
    "print(\"Transparency Ratio:\", transparency_ratio)"
   ]
  },
  {
   "cell_type": "markdown",
   "id": "7a770495",
   "metadata": {},
   "source": [
    "- 그럼 여기서 한걸음 더 나아가서 전체 컬러대비 투명한 컬러 비율은 어떻게 계산할까? \n",
    "- 우선 색상 체크 후 투명한 색상, 불투명한 색상의 개수 값을 추출해준다.  \n",
    "- 그런 다음 아래의 공식을 대입해준다. \n",
    "    - (투명한 색상의 수 / (투명한 색상의 수 + 불투면한 색상의 수)) * 100\n",
    "- 확인해본 결과 투명한 색상의 블록은 전체 색상 대비 비율은 21% 이다."
   ]
  },
  {
   "cell_type": "markdown",
   "id": "f98062bf",
   "metadata": {},
   "source": [
    "### 3. 레고에 대한 이해 \n",
    "- 이제 레고에 대해 이해해보고자 한다. (아래의 내용을 참고)"
   ]
  },
  {
   "cell_type": "markdown",
   "id": "2a9b2b3f",
   "metadata": {},
   "source": [
    "#### Lego Themes와 Lego Sets에 대한 이해 \n",
    "\n",
    "레고 매장에 들어가면 테마별로 구성된 제품을 볼 수 있다. 각각 스타워즈, 배트맨, 해리포터 시리즈 그리고 더 많은 것들이 포함되어 있다. \n",
    "<img src=\"assets/lego_themes.png\">"
   ]
  },
  {
   "cell_type": "markdown",
   "id": "b7735c37",
   "metadata": {},
   "source": [
    "레고 세트는 레고나 제품의 특정한 상자이므로, 일반적으로 하나의 테마에는 다양한 세트가 존재한다.\n",
    "<img src=\"assets/lego_sets.png\">"
   ]
  },
  {
   "cell_type": "code",
   "execution_count": null,
   "id": "bd571e33",
   "metadata": {},
   "outputs": [],
   "source": []
  }
 ],
 "metadata": {
  "kernelspec": {
   "display_name": "Python 3 (ipykernel)",
   "language": "python",
   "name": "python3"
  },
  "language_info": {
   "codemirror_mode": {
    "name": "ipython",
    "version": 3
   },
   "file_extension": ".py",
   "mimetype": "text/x-python",
   "name": "python",
   "nbconvert_exporter": "python",
   "pygments_lexer": "ipython3",
   "version": "3.8.12"
  }
 },
 "nbformat": 4,
 "nbformat_minor": 5
}
