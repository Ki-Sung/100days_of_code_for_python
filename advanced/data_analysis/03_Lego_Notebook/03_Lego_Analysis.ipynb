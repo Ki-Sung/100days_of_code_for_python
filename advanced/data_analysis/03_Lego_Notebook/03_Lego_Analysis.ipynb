{
 "cells": [
  {
   "cell_type": "markdown",
   "id": "00cbe101",
   "metadata": {},
   "source": [
    "## 레고 분석 \n",
    "- 레고의 데이터셋을 분석하면서 판다스에서 데이터를 집계하고 병합하는 방법을 알아본다. \n",
    "- 레고 데이터셋은 회사의 역사, 출시 제품, 어떤 레고 세트가 제일 잘 나가는지에 대한 여러 흥미로운 질문에 답하는데 도움이 될 것이다. \n",
    "    - 지금까지 만들어진 가장 거대한 레고 세트는 무엇이며 몇 개의 부품으로 구성되어 있을까? \n",
    "    - 최초의 레고 세트가 출시된 연도와 처음 출시되었을 때 회사에서 판매한 세트 수는 몇 개일까? \n",
    "    - 레고에서 가장 많은 세트를 보유한 테마는 어떤 것일까? 해리포터, 닌자고, 프렌즈 아니면 다른 것일까?\n",
    "    - 레고 회사는 살제로 언제 출시 제품을 기반으로 도약했을까? 매년 몇 개의 테마와 세트가 출시될까? \n",
    "    - 레고 세트는 해가 갈수록 크기와 복잡도가 늘어날까? 예전 레고 세트는 요즘 세트와 비교했을 때 부품이 더 적을까?"
   ]
  },
  {
   "cell_type": "markdown",
   "id": "c200a121",
   "metadata": {},
   "source": [
    "#### 금일 Study할 목록 \n",
    "- (주피터, 혹은 코랩)노트북과 HTML 마크업을 결합하는 법\n",
    "- 판다스 데이터프레임에 파이썬 목록 슬라이싱 기술 적용\n",
    "- `.agg()` 함수를 사용하여 데이터를 집계하는 법 \n",
    "- 맷플롯립에서 두 개의 축이 있는 산점도, 막대 차트, 꺾은선형 차트를 만드는 법 \n",
    "- 기본키와 외래키로 구성된 데이터베이스 스키마 이해 \n",
    "- 공통의 키를 공유하는 데이터프레임 병합하는 법 "
   ]
  },
  {
   "cell_type": "markdown",
   "id": "c387513f",
   "metadata": {},
   "source": [
    "### 1. 노트북을 보기 좋게 만드는 HTML 마크다운 사용 \n",
    "- (주피터 혹은 코랩)노트북 안에 있는 셀에는 파이썬 코드의 코드 셀 또는 텍스트(마크다운) 셀이 있다. 스타터 노트북에는 섹션 제목과 도전 문제 텍스트가 있는 이러한 텍스트 셀이 몇 개 포함되어 있다. 하지만 HTML을 사용하면 셀 스타일을 훨씬 더 많이 지정할 수 있다. "
   ]
  },
  {
   "cell_type": "markdown",
   "id": "00e9cffc",
   "metadata": {},
   "source": [
    "#### 1-1. 마크다운 셀 삽입하기 \n",
    "- 코램의 경우 \"+Text\"를 클륵하거나 \"ESC 키 + B 버튼(선택한 셀 기준 아래로 추가) 혹은 A(선택한 셀 기준 위로 추가)버튼\"을 누른 후 \" M 버튼\"을 누르면 마크다운 셀이 생성된다.\n",
    "- 주피터 노트북의 경우 \"ESC 키 + B 버튼(선택한 셀 기준 아래로 추가) 혹은 A(선택한 셀 기준 위로 추가)버튼\"을 누른 후 \" M 버튼\"을 누르면 마크다운 셀이 생성된다."
   ]
  },
  {
   "cell_type": "markdown",
   "id": "c47e53b3",
   "metadata": {},
   "source": [
    "#### 1-2. 이미지 추가하기 \n",
    "- 텍스트 셀 안에 이미지를 표시하고, 이미지의 URL로 HTML `<img>` tag를 사용한다.\n",
    "    - 예시 -> `<img src=\"https://i.imgur.com/49FNOHJ.jpg\">`"
   ]
  },
  {
   "cell_type": "markdown",
   "id": "8262c056",
   "metadata": {},
   "source": [
    "- 주피터 노트북의 경우 일반 이미지 파일을 연결하면 된다. \n",
    "    - `<img src=\"assets/bricks.jpg>`\n",
    "<img src=\"assets/bricks.jpg\">"
   ]
  },
  {
   "cell_type": "markdown",
   "id": "87248e3e",
   "metadata": {},
   "source": [
    "#### 1-3. 세션 제목 \n",
    "- `<h1>` 혹은 `<h2>`와 같은 태그를 사용해서 섹션 제목을 추가할 수 있다. 그러나 노트북에는 공통 HTML 태그에 대한 자체 약어도 존재한다. 예를 들어 `#`기호를 바로가기로 사용할 수 있다. \n",
    "- 제목 크기는 최소 `<h5>`까지 확대 가능하다. 아래는 예시이다."
   ]
  },
  {
   "cell_type": "markdown",
   "id": "62777fb1",
   "metadata": {},
   "source": [
    "# H1 \n",
    "## H2\n",
    "### H3 \n",
    "#### H4\n",
    "##### H5"
   ]
  },
  {
   "cell_type": "markdown",
   "id": "7827a95c",
   "metadata": {},
   "source": [
    "### 2. 레고 블록 색상 탐색하기"
   ]
  },
  {
   "cell_type": "markdown",
   "id": "38fa6bb4",
   "metadata": {},
   "source": [
    "#### 2-1. 판다스 및 필요한 모듈 가져오기 "
   ]
  },
  {
   "cell_type": "code",
   "execution_count": 1,
   "id": "5cdcfc2b",
   "metadata": {},
   "outputs": [],
   "source": [
    "import pandas as pd \n",
    "\n",
    "import warnings\n",
    "warnings.filterwarnings('ignore')"
   ]
  },
  {
   "cell_type": "markdown",
   "id": "5497c2f0",
   "metadata": {},
   "source": [
    "#### 2-2. 구조 확인하기 "
   ]
  },
  {
   "cell_type": "code",
   "execution_count": 2,
   "id": "48376d99",
   "metadata": {},
   "outputs": [
    {
     "data": {
      "text/html": [
       "<div>\n",
       "<style scoped>\n",
       "    .dataframe tbody tr th:only-of-type {\n",
       "        vertical-align: middle;\n",
       "    }\n",
       "\n",
       "    .dataframe tbody tr th {\n",
       "        vertical-align: top;\n",
       "    }\n",
       "\n",
       "    .dataframe thead th {\n",
       "        text-align: right;\n",
       "    }\n",
       "</style>\n",
       "<table border=\"1\" class=\"dataframe\">\n",
       "  <thead>\n",
       "    <tr style=\"text-align: right;\">\n",
       "      <th></th>\n",
       "      <th>id</th>\n",
       "      <th>name</th>\n",
       "      <th>rgb</th>\n",
       "      <th>is_trans</th>\n",
       "    </tr>\n",
       "  </thead>\n",
       "  <tbody>\n",
       "    <tr>\n",
       "      <th>0</th>\n",
       "      <td>-1</td>\n",
       "      <td>Unknown</td>\n",
       "      <td>0033B2</td>\n",
       "      <td>f</td>\n",
       "    </tr>\n",
       "    <tr>\n",
       "      <th>1</th>\n",
       "      <td>0</td>\n",
       "      <td>Black</td>\n",
       "      <td>05131D</td>\n",
       "      <td>f</td>\n",
       "    </tr>\n",
       "    <tr>\n",
       "      <th>2</th>\n",
       "      <td>1</td>\n",
       "      <td>Blue</td>\n",
       "      <td>0055BF</td>\n",
       "      <td>f</td>\n",
       "    </tr>\n",
       "    <tr>\n",
       "      <th>3</th>\n",
       "      <td>2</td>\n",
       "      <td>Green</td>\n",
       "      <td>237841</td>\n",
       "      <td>f</td>\n",
       "    </tr>\n",
       "    <tr>\n",
       "      <th>4</th>\n",
       "      <td>3</td>\n",
       "      <td>Dark Turquoise</td>\n",
       "      <td>008F9B</td>\n",
       "      <td>f</td>\n",
       "    </tr>\n",
       "  </tbody>\n",
       "</table>\n",
       "</div>"
      ],
      "text/plain": [
       "   id            name     rgb is_trans\n",
       "0  -1         Unknown  0033B2        f\n",
       "1   0           Black  05131D        f\n",
       "2   1            Blue  0055BF        f\n",
       "3   2           Green  237841        f\n",
       "4   3  Dark Turquoise  008F9B        f"
      ]
     },
     "execution_count": 2,
     "metadata": {},
     "output_type": "execute_result"
    }
   ],
   "source": [
    "# 레고 블록 색상 데이터 불러오기\n",
    "colors = pd.read_csv(\"data/colors.csv\")\n",
    "colors.head()"
   ]
  },
  {
   "cell_type": "markdown",
   "id": "6414dee0",
   "metadata": {},
   "source": [
    "- 색상의 이름과 해당 RGB 값이 있는 다섯개의 컬럼이 있음을 알 수 있다. \n",
    "    - id: 해당 데이터의 id 값\n",
    "    - name: 레고 블록 컬러명\n",
    "    - rgb: 레고 블록 컬러 RGB 값\n",
    "    - is_trans: 투명도 (f:불투명/t:투명)"
   ]
  },
  {
   "cell_type": "code",
   "execution_count": 17,
   "id": "d1ad78ea",
   "metadata": {},
   "outputs": [
    {
     "data": {
      "text/plain": [
       "135"
      ]
     },
     "execution_count": 17,
     "metadata": {},
     "output_type": "execute_result"
    }
   ],
   "source": [
    "# 색상의 수 체크 \n",
    "colors['name'].nunique()"
   ]
  },
  {
   "cell_type": "markdown",
   "id": "0358ef66",
   "metadata": {},
   "source": [
    "- 색상의 수를 찾으려면 \"name\" 컬럼의 모든 항목이 고유한지 여부를 확인하면 된다. ('nunique()'메소드 사용)\n",
    "- 탐색 결과 레고 블록에 135개의 고유한 색상이 있다는 것이 확인 되었다."
   ]
  },
  {
   "cell_type": "markdown",
   "id": "e947f6b8",
   "metadata": {},
   "source": [
    "#### 2-3. 투명한 색상의 개수 구하기 "
   ]
  },
  {
   "cell_type": "code",
   "execution_count": 18,
   "id": "df3f0cd5",
   "metadata": {},
   "outputs": [
    {
     "data": {
      "text/html": [
       "<div>\n",
       "<style scoped>\n",
       "    .dataframe tbody tr th:only-of-type {\n",
       "        vertical-align: middle;\n",
       "    }\n",
       "\n",
       "    .dataframe tbody tr th {\n",
       "        vertical-align: top;\n",
       "    }\n",
       "\n",
       "    .dataframe thead th {\n",
       "        text-align: right;\n",
       "    }\n",
       "</style>\n",
       "<table border=\"1\" class=\"dataframe\">\n",
       "  <thead>\n",
       "    <tr style=\"text-align: right;\">\n",
       "      <th></th>\n",
       "      <th>id</th>\n",
       "      <th>name</th>\n",
       "      <th>rgb</th>\n",
       "    </tr>\n",
       "    <tr>\n",
       "      <th>is_trans</th>\n",
       "      <th></th>\n",
       "      <th></th>\n",
       "      <th></th>\n",
       "    </tr>\n",
       "  </thead>\n",
       "  <tbody>\n",
       "    <tr>\n",
       "      <th>f</th>\n",
       "      <td>107</td>\n",
       "      <td>107</td>\n",
       "      <td>107</td>\n",
       "    </tr>\n",
       "    <tr>\n",
       "      <th>t</th>\n",
       "      <td>28</td>\n",
       "      <td>28</td>\n",
       "      <td>28</td>\n",
       "    </tr>\n",
       "  </tbody>\n",
       "</table>\n",
       "</div>"
      ],
      "text/plain": [
       "           id  name  rgb\n",
       "is_trans                \n",
       "f         107   107  107\n",
       "t          28    28   28"
      ]
     },
     "execution_count": 18,
     "metadata": {},
     "output_type": "execute_result"
    }
   ],
   "source": [
    "# 투명한 색상의 개수 구하기 - group by \n",
    "colors.groupby('is_trans').count()"
   ]
  },
  {
   "cell_type": "code",
   "execution_count": 20,
   "id": "458214d4",
   "metadata": {},
   "outputs": [
    {
     "data": {
      "text/plain": [
       "f    107\n",
       "t     28\n",
       "Name: is_trans, dtype: int64"
      ]
     },
     "execution_count": 20,
     "metadata": {},
     "output_type": "execute_result"
    }
   ],
   "source": [
    "# 투명한 색상의 개수 구하기 - value_count\n",
    "colors['is_trans'].value_counts()"
   ]
  },
  {
   "cell_type": "markdown",
   "id": "9fcbf548",
   "metadata": {},
   "source": [
    "- 투명한 색상의 개수를 구하는 방법은 두 가지가 있다. \n",
    "    - groupby() 메소드 + count() 메소드 \n",
    "    - value_count() 메소드 \n",
    "- 확인 결과 불투명한 색상은 107건 투명한 색상은 28건으로 조회 되었다."
   ]
  },
  {
   "cell_type": "code",
   "execution_count": 7,
   "id": "0cfe3471",
   "metadata": {},
   "outputs": [],
   "source": [
    "# 투명도 색상 개수 체크 \n",
    "transparency_counts = colors['is_trans'].value_counts()"
   ]
  },
  {
   "cell_type": "code",
   "execution_count": 15,
   "id": "10f5d1aa",
   "metadata": {},
   "outputs": [],
   "source": [
    "# 투명도 비율 계산 위해 숫자 추출 \n",
    "transparent_count = transparency_counts.get('t', 0)\n",
    "opaque_count = transparency_counts.get('f', 0)\n",
    "\n",
    "# 비율 계산\n",
    "transparency_ratio = (transparent_count / (transparent_count + opaque_count)) * 100"
   ]
  },
  {
   "cell_type": "code",
   "execution_count": 16,
   "id": "be2cd5f2",
   "metadata": {},
   "outputs": [
    {
     "name": "stdout",
     "output_type": "stream",
     "text": [
      "Transparent Count: 28\n",
      "Opaque Count: 107\n",
      "Transparency Ratio: 20.74074074074074\n"
     ]
    }
   ],
   "source": [
    "# 결과 출력 \n",
    "print(\"Transparent Count:\", transparent_count)\n",
    "print(\"Opaque Count:\", opaque_count)\n",
    "print(\"Transparency Ratio:\", transparency_ratio)"
   ]
  },
  {
   "cell_type": "markdown",
   "id": "3e7306c9",
   "metadata": {},
   "source": [
    "- 그럼 여기서 한걸음 더 나아가서 전체 컬러대비 투명한 컬러 비율은 어떻게 계산할까? \n",
    "- 우선 색상 체크 후 투명한 색상, 불투명한 색상의 개수 값을 추출해준다.  \n",
    "- 그런 다음 아래의 공식을 대입해준다. \n",
    "    - (투명한 색상의 수 / (투명한 색상의 수 + 불투면한 색상의 수)) * 100\n",
    "- 확인해본 결과 투명한 색상의 블록은 전체 색상 대비 비율은 21% 이다."
   ]
  },
  {
   "cell_type": "markdown",
   "id": "75a4fb25",
   "metadata": {},
   "source": [
    "### 3. 레고에 대한 이해 \n",
    "- 이제 레고에 대해 이해해보고자 한다. (아래의 내용을 참고)"
   ]
  },
  {
   "cell_type": "markdown",
   "id": "2e96f88e",
   "metadata": {},
   "source": [
    "#### Lego Themes와 Lego Sets에 대한 이해 \n",
    "\n",
    "레고 매장에 들어가면 테마별로 구성된 제품을 볼 수 있다. 각각 스타워즈, 배트맨, 해리포터 시리즈 그리고 더 많은 것들이 포함되어 있다. \n",
    "<img src=\"assets/lego_themes.png\">"
   ]
  },
  {
   "cell_type": "markdown",
   "id": "f6739efd",
   "metadata": {},
   "source": [
    "레고 세트는 레고나 제품의 특정한 상자이므로, 일반적으로 하나의 테마에는 다양한 세트가 존재한다.\n",
    "<img src=\"assets/lego_sets.png\">"
   ]
  },
  {
   "cell_type": "markdown",
   "id": "72866a74",
   "metadata": {},
   "source": [
    "### 4. 가장 오래되고 가장 큰 레고 세트 찾기 "
   ]
  },
  {
   "cell_type": "markdown",
   "id": "18fb626d",
   "metadata": {},
   "source": [
    "#### 4-1. sets.csv 탐색하기\n",
    "- sets.csv에 레고 세트 목록이 있다. 해당 파일은 각 세트가 몇 년에 출시되었는지 세트당 부품수가 나온다.\n",
    "- 그럼 해당 데이터를 살펴보고 아래의 질문 답해보자 \n",
    "    - 최초의 레고 세트가 출시된 연도와 이 세트의 이름은?\n",
    "    - 레고는 운영 첫해에 얼마나 많은 제품을 팔았나? \n",
    "    - 부품 수가 가장 많은 상위 5개의 레고 세트는? "
   ]
  },
  {
   "cell_type": "code",
   "execution_count": 23,
   "id": "2945a74f",
   "metadata": {},
   "outputs": [
    {
     "data": {
      "text/html": [
       "<div>\n",
       "<style scoped>\n",
       "    .dataframe tbody tr th:only-of-type {\n",
       "        vertical-align: middle;\n",
       "    }\n",
       "\n",
       "    .dataframe tbody tr th {\n",
       "        vertical-align: top;\n",
       "    }\n",
       "\n",
       "    .dataframe thead th {\n",
       "        text-align: right;\n",
       "    }\n",
       "</style>\n",
       "<table border=\"1\" class=\"dataframe\">\n",
       "  <thead>\n",
       "    <tr style=\"text-align: right;\">\n",
       "      <th></th>\n",
       "      <th>set_num</th>\n",
       "      <th>name</th>\n",
       "      <th>year</th>\n",
       "      <th>theme_id</th>\n",
       "      <th>num_parts</th>\n",
       "    </tr>\n",
       "  </thead>\n",
       "  <tbody>\n",
       "    <tr>\n",
       "      <th>0</th>\n",
       "      <td>001-1</td>\n",
       "      <td>Gears</td>\n",
       "      <td>1965</td>\n",
       "      <td>1</td>\n",
       "      <td>43</td>\n",
       "    </tr>\n",
       "    <tr>\n",
       "      <th>1</th>\n",
       "      <td>0011-2</td>\n",
       "      <td>Town Mini-Figures</td>\n",
       "      <td>1978</td>\n",
       "      <td>84</td>\n",
       "      <td>12</td>\n",
       "    </tr>\n",
       "    <tr>\n",
       "      <th>2</th>\n",
       "      <td>0011-3</td>\n",
       "      <td>Castle 2 for 1 Bonus Offer</td>\n",
       "      <td>1987</td>\n",
       "      <td>199</td>\n",
       "      <td>0</td>\n",
       "    </tr>\n",
       "    <tr>\n",
       "      <th>3</th>\n",
       "      <td>0012-1</td>\n",
       "      <td>Space Mini-Figures</td>\n",
       "      <td>1979</td>\n",
       "      <td>143</td>\n",
       "      <td>12</td>\n",
       "    </tr>\n",
       "    <tr>\n",
       "      <th>4</th>\n",
       "      <td>0013-1</td>\n",
       "      <td>Space Mini-Figures</td>\n",
       "      <td>1979</td>\n",
       "      <td>143</td>\n",
       "      <td>12</td>\n",
       "    </tr>\n",
       "  </tbody>\n",
       "</table>\n",
       "</div>"
      ],
      "text/plain": [
       "  set_num                        name  year  theme_id  num_parts\n",
       "0   001-1                       Gears  1965         1         43\n",
       "1  0011-2           Town Mini-Figures  1978        84         12\n",
       "2  0011-3  Castle 2 for 1 Bonus Offer  1987       199          0\n",
       "3  0012-1          Space Mini-Figures  1979       143         12\n",
       "4  0013-1          Space Mini-Figures  1979       143         12"
      ]
     },
     "execution_count": 23,
     "metadata": {},
     "output_type": "execute_result"
    }
   ],
   "source": [
    "# 레고 세트 목록 데이터 불러오기 \n",
    "sets = pd.read_csv('data/sets.csv')\n",
    "sets.head()"
   ]
  },
  {
   "cell_type": "code",
   "execution_count": 27,
   "id": "431128d4",
   "metadata": {},
   "outputs": [
    {
     "data": {
      "text/plain": [
       "1949"
      ]
     },
     "execution_count": 27,
     "metadata": {},
     "output_type": "execute_result"
    }
   ],
   "source": [
    "# 최초의 레고 출시년도 탐색 \n",
    "sets['year'].min()"
   ]
  },
  {
   "cell_type": "code",
   "execution_count": 35,
   "id": "d1130928",
   "metadata": {},
   "outputs": [
    {
     "data": {
      "text/plain": [
       "9521"
      ]
     },
     "execution_count": 35,
     "metadata": {},
     "output_type": "execute_result"
    }
   ],
   "source": [
    "# 최초의 레고 출시년도 탐색의 인덱스 값 추출\n",
    "sets['year'].idxmin()"
   ]
  },
  {
   "cell_type": "code",
   "execution_count": 33,
   "id": "2560cf6c",
   "metadata": {},
   "outputs": [
    {
     "data": {
      "text/plain": [
       "set_num                         700.1-1\n",
       "name         Extra-Large Gift Set (ABB)\n",
       "year                               1949\n",
       "theme_id                            365\n",
       "num_parts                           142\n",
       "Name: 9521, dtype: object"
      ]
     },
     "execution_count": 33,
     "metadata": {},
     "output_type": "execute_result"
    }
   ],
   "source": [
    "# 최초의 레고 세트가 출시된 연도와 세트 이름\n",
    "sets.loc[9521]"
   ]
  },
  {
   "cell_type": "code",
   "execution_count": 40,
   "id": "29aa489a",
   "metadata": {},
   "outputs": [
    {
     "data": {
      "text/html": [
       "<div>\n",
       "<style scoped>\n",
       "    .dataframe tbody tr th:only-of-type {\n",
       "        vertical-align: middle;\n",
       "    }\n",
       "\n",
       "    .dataframe tbody tr th {\n",
       "        vertical-align: top;\n",
       "    }\n",
       "\n",
       "    .dataframe thead th {\n",
       "        text-align: right;\n",
       "    }\n",
       "</style>\n",
       "<table border=\"1\" class=\"dataframe\">\n",
       "  <thead>\n",
       "    <tr style=\"text-align: right;\">\n",
       "      <th></th>\n",
       "      <th>set_num</th>\n",
       "      <th>name</th>\n",
       "      <th>year</th>\n",
       "      <th>theme_id</th>\n",
       "      <th>num_parts</th>\n",
       "    </tr>\n",
       "  </thead>\n",
       "  <tbody>\n",
       "    <tr>\n",
       "      <th>9521</th>\n",
       "      <td>700.1-1</td>\n",
       "      <td>Extra-Large Gift Set (ABB)</td>\n",
       "      <td>1949</td>\n",
       "      <td>365</td>\n",
       "      <td>142</td>\n",
       "    </tr>\n",
       "    <tr>\n",
       "      <th>9534</th>\n",
       "      <td>700.2-1</td>\n",
       "      <td>Large Gift Set (ABB)</td>\n",
       "      <td>1949</td>\n",
       "      <td>365</td>\n",
       "      <td>178</td>\n",
       "    </tr>\n",
       "    <tr>\n",
       "      <th>9539</th>\n",
       "      <td>700.3-1</td>\n",
       "      <td>Medium Gift Set (ABB)</td>\n",
       "      <td>1949</td>\n",
       "      <td>365</td>\n",
       "      <td>142</td>\n",
       "    </tr>\n",
       "    <tr>\n",
       "      <th>9544</th>\n",
       "      <td>700.A-1</td>\n",
       "      <td>Small Brick Set (ABB)</td>\n",
       "      <td>1949</td>\n",
       "      <td>371</td>\n",
       "      <td>24</td>\n",
       "    </tr>\n",
       "    <tr>\n",
       "      <th>9545</th>\n",
       "      <td>700.B-1</td>\n",
       "      <td>Small Doors and Windows Set (ABB)</td>\n",
       "      <td>1949</td>\n",
       "      <td>371</td>\n",
       "      <td>12</td>\n",
       "    </tr>\n",
       "  </tbody>\n",
       "</table>\n",
       "</div>"
      ],
      "text/plain": [
       "      set_num                               name  year  theme_id  num_parts\n",
       "9521  700.1-1         Extra-Large Gift Set (ABB)  1949       365        142\n",
       "9534  700.2-1               Large Gift Set (ABB)  1949       365        178\n",
       "9539  700.3-1              Medium Gift Set (ABB)  1949       365        142\n",
       "9544  700.A-1              Small Brick Set (ABB)  1949       371         24\n",
       "9545  700.B-1  Small Doors and Windows Set (ABB)  1949       371         12"
      ]
     },
     "execution_count": 40,
     "metadata": {},
     "output_type": "execute_result"
    }
   ],
   "source": [
    "# 최초의 레고 세트가 출시된 연도와 세트 이름 - 또다른 방법\n",
    "sets.sort_values('year').head()"
   ]
  },
  {
   "cell_type": "markdown",
   "id": "5f06fd57",
   "metadata": {},
   "source": [
    "- 첫 번째, 최초의 레고 세트가 출시된 연도와 이 세트의 이름은 \n",
    "    - \"1949년도\"에 최초로 출시한 \"Extra-Large Gift Set (ABB)\" 이다."
   ]
  },
  {
   "cell_type": "code",
   "execution_count": 39,
   "id": "3e8fa233",
   "metadata": {},
   "outputs": [
    {
     "data": {
      "text/html": [
       "<div>\n",
       "<style scoped>\n",
       "    .dataframe tbody tr th:only-of-type {\n",
       "        vertical-align: middle;\n",
       "    }\n",
       "\n",
       "    .dataframe tbody tr th {\n",
       "        vertical-align: top;\n",
       "    }\n",
       "\n",
       "    .dataframe thead th {\n",
       "        text-align: right;\n",
       "    }\n",
       "</style>\n",
       "<table border=\"1\" class=\"dataframe\">\n",
       "  <thead>\n",
       "    <tr style=\"text-align: right;\">\n",
       "      <th></th>\n",
       "      <th>set_num</th>\n",
       "      <th>name</th>\n",
       "      <th>year</th>\n",
       "      <th>theme_id</th>\n",
       "      <th>num_parts</th>\n",
       "    </tr>\n",
       "  </thead>\n",
       "  <tbody>\n",
       "    <tr>\n",
       "      <th>9521</th>\n",
       "      <td>700.1-1</td>\n",
       "      <td>Extra-Large Gift Set (ABB)</td>\n",
       "      <td>1949</td>\n",
       "      <td>365</td>\n",
       "      <td>142</td>\n",
       "    </tr>\n",
       "    <tr>\n",
       "      <th>9534</th>\n",
       "      <td>700.2-1</td>\n",
       "      <td>Large Gift Set (ABB)</td>\n",
       "      <td>1949</td>\n",
       "      <td>365</td>\n",
       "      <td>178</td>\n",
       "    </tr>\n",
       "    <tr>\n",
       "      <th>9539</th>\n",
       "      <td>700.3-1</td>\n",
       "      <td>Medium Gift Set (ABB)</td>\n",
       "      <td>1949</td>\n",
       "      <td>365</td>\n",
       "      <td>142</td>\n",
       "    </tr>\n",
       "    <tr>\n",
       "      <th>9544</th>\n",
       "      <td>700.A-1</td>\n",
       "      <td>Small Brick Set (ABB)</td>\n",
       "      <td>1949</td>\n",
       "      <td>371</td>\n",
       "      <td>24</td>\n",
       "    </tr>\n",
       "    <tr>\n",
       "      <th>9545</th>\n",
       "      <td>700.B-1</td>\n",
       "      <td>Small Doors and Windows Set (ABB)</td>\n",
       "      <td>1949</td>\n",
       "      <td>371</td>\n",
       "      <td>12</td>\n",
       "    </tr>\n",
       "  </tbody>\n",
       "</table>\n",
       "</div>"
      ],
      "text/plain": [
       "      set_num                               name  year  theme_id  num_parts\n",
       "9521  700.1-1         Extra-Large Gift Set (ABB)  1949       365        142\n",
       "9534  700.2-1               Large Gift Set (ABB)  1949       365        178\n",
       "9539  700.3-1              Medium Gift Set (ABB)  1949       365        142\n",
       "9544  700.A-1              Small Brick Set (ABB)  1949       371         24\n",
       "9545  700.B-1  Small Doors and Windows Set (ABB)  1949       371         12"
      ]
     },
     "execution_count": 39,
     "metadata": {},
     "output_type": "execute_result"
    }
   ],
   "source": [
    "# 레고는 운영 첫해에 얼마나 많은 제품을 팔았는지 계산\n",
    "sets[sets['year'] == 1949]"
   ]
  },
  {
   "cell_type": "markdown",
   "id": "4fb8afba",
   "metadata": {},
   "source": [
    "- 두 번째, 레고는 운영 첫해에 5가지 세트만 판매하였다."
   ]
  },
  {
   "cell_type": "code",
   "execution_count": 41,
   "id": "3a09e8fe",
   "metadata": {},
   "outputs": [
    {
     "data": {
      "text/html": [
       "<div>\n",
       "<style scoped>\n",
       "    .dataframe tbody tr th:only-of-type {\n",
       "        vertical-align: middle;\n",
       "    }\n",
       "\n",
       "    .dataframe tbody tr th {\n",
       "        vertical-align: top;\n",
       "    }\n",
       "\n",
       "    .dataframe thead th {\n",
       "        text-align: right;\n",
       "    }\n",
       "</style>\n",
       "<table border=\"1\" class=\"dataframe\">\n",
       "  <thead>\n",
       "    <tr style=\"text-align: right;\">\n",
       "      <th></th>\n",
       "      <th>set_num</th>\n",
       "      <th>name</th>\n",
       "      <th>year</th>\n",
       "      <th>theme_id</th>\n",
       "      <th>num_parts</th>\n",
       "    </tr>\n",
       "  </thead>\n",
       "  <tbody>\n",
       "    <tr>\n",
       "      <th>15004</th>\n",
       "      <td>BIGBOX-1</td>\n",
       "      <td>The Ultimate Battle for Chima</td>\n",
       "      <td>2015</td>\n",
       "      <td>571</td>\n",
       "      <td>9987</td>\n",
       "    </tr>\n",
       "    <tr>\n",
       "      <th>11183</th>\n",
       "      <td>75192-1</td>\n",
       "      <td>UCS Millennium Falcon</td>\n",
       "      <td>2017</td>\n",
       "      <td>171</td>\n",
       "      <td>7541</td>\n",
       "    </tr>\n",
       "    <tr>\n",
       "      <th>10551</th>\n",
       "      <td>71043-1</td>\n",
       "      <td>Hogwarts Castle</td>\n",
       "      <td>2018</td>\n",
       "      <td>246</td>\n",
       "      <td>6020</td>\n",
       "    </tr>\n",
       "    <tr>\n",
       "      <th>295</th>\n",
       "      <td>10256-1</td>\n",
       "      <td>Taj Mahal</td>\n",
       "      <td>2017</td>\n",
       "      <td>673</td>\n",
       "      <td>5923</td>\n",
       "    </tr>\n",
       "    <tr>\n",
       "      <th>221</th>\n",
       "      <td>10189-1</td>\n",
       "      <td>Taj Mahal</td>\n",
       "      <td>2008</td>\n",
       "      <td>673</td>\n",
       "      <td>5922</td>\n",
       "    </tr>\n",
       "  </tbody>\n",
       "</table>\n",
       "</div>"
      ],
      "text/plain": [
       "        set_num                           name  year  theme_id  num_parts\n",
       "15004  BIGBOX-1  The Ultimate Battle for Chima  2015       571       9987\n",
       "11183   75192-1          UCS Millennium Falcon  2017       171       7541\n",
       "10551   71043-1                Hogwarts Castle  2018       246       6020\n",
       "295     10256-1                      Taj Mahal  2017       673       5923\n",
       "221     10189-1                      Taj Mahal  2008       673       5922"
      ]
     },
     "execution_count": 41,
     "metadata": {},
     "output_type": "execute_result"
    }
   ],
   "source": [
    "# 부품 수가 가장 많은 상위 5개 레고 세트는 \n",
    "sets.sort_values('num_parts', ascending=False).head()"
   ]
  },
  {
   "cell_type": "markdown",
   "id": "f7791861",
   "metadata": {},
   "source": [
    "- 세 번째, 부품 수가 가장 많은 상위 5개 레고 세트는 아래와 같다. \n",
    "    - The Ultimate Battle for Chima, 부품수 9,987개\n",
    "    - UCS Millennium Falcon, 부품수 7,541개\n",
    "    - Hogwarts Castle, 부품수 6,020개\n",
    "    - Taj Mahal(2017), 부품수 5,923개\n",
    "    - Taj Mahal(2008), 부품수 5,922개"
   ]
  },
  {
   "cell_type": "markdown",
   "id": "9132af94",
   "metadata": {},
   "source": [
    "### 5. 시간 변화에 따른 출시 세트 수를 시각화 하기 \n",
    "- 이제 레고 회사가 매해 전년 대비 얼마나 많은 세트를 더 출시해왔는지 살펴보자. "
   ]
  },
  {
   "cell_type": "code",
   "execution_count": 42,
   "id": "5af11e67",
   "metadata": {},
   "outputs": [],
   "source": [
    "# 맷플롯칩 임포트 \n",
    "import matplotlib.pyplot as plt"
   ]
  },
  {
   "cell_type": "code",
   "execution_count": 60,
   "id": "b29beef8",
   "metadata": {},
   "outputs": [
    {
     "data": {
      "text/plain": [
       "1949     5\n",
       "1950     6\n",
       "1953     4\n",
       "1954    14\n",
       "1955    28\n",
       "Name: year, dtype: int64"
      ]
     },
     "execution_count": 60,
     "metadata": {},
     "output_type": "execute_result"
    }
   ],
   "source": [
    "# 그래프를 그리기 위해 value_count를 년도 별로 정렬\n",
    "sets_by_year = sets['year'].value_counts().sort_index()\n",
    "sets_by_year.head()"
   ]
  },
  {
   "cell_type": "code",
   "execution_count": 59,
   "id": "5a18a687",
   "metadata": {},
   "outputs": [
    {
     "data": {
      "text/plain": [
       "year\n",
       "1949     5\n",
       "1950     6\n",
       "1953     4\n",
       "1954    14\n",
       "1955    28\n",
       "Name: set_num, dtype: int64"
      ]
     },
     "execution_count": 59,
     "metadata": {},
     "output_type": "execute_result"
    }
   ],
   "source": [
    "# 그래프를 그리기 위해 value_count를 년도 별로 정렬 - 또 다른 방법 \n",
    "sets_by_year = sets.groupby('year').count()\n",
    "sets_by_year['set_num'].head()"
   ]
  },
  {
   "cell_type": "code",
   "execution_count": 61,
   "id": "d9b0205b",
   "metadata": {},
   "outputs": [
    {
     "data": {
      "text/plain": [
       "2017    786\n",
       "2018    816\n",
       "2019    840\n",
       "2020    674\n",
       "2021      3\n",
       "Name: year, dtype: int64"
      ]
     },
     "execution_count": 61,
     "metadata": {},
     "output_type": "execute_result"
    }
   ],
   "source": [
    "# 맨 끝 데이터 살펴보기 \n",
    "sets_by_year.tail()"
   ]
  },
  {
   "cell_type": "markdown",
   "id": "99da571d",
   "metadata": {},
   "source": [
    "- 레고가 운영 초반 몇 년 동안은 10가지 미만의 서로 다른 세트를 출시했다는 점을 알 수 있다. 하지만 2019년부터 회사가 놀랄 정도로 성장하여 해당 한해 동안 840 세트나 출시 하였다.\n",
    "- 데이터에는 2021년 데이터도 있다. 해당 데이터는 2020년 후반 데이터 이므로, 미래 지향적 기준으로 일부 세트가 이미 포함된 것으로 보여진다. 해당 데이터는 차트를 그릴 때 고려해야할 점 이다."
   ]
  },
  {
   "cell_type": "code",
   "execution_count": 57,
   "id": "85855ed7",
   "metadata": {},
   "outputs": [
    {
     "data": {
      "text/plain": [
       "[<matplotlib.lines.Line2D at 0x1508397f0>]"
      ]
     },
     "execution_count": 57,
     "metadata": {},
     "output_type": "execute_result"
    },
    {
     "data": {
      "image/png": "[encoded data removed]",
      "text/plain": [
       "<Figure size 1152x720 with 1 Axes>"
      ]
     },
     "metadata": {
      "needs_background": "light"
     },
     "output_type": "display_data"
    }
   ],
   "source": [
    "# 년도별 출시 세트수 꺾은선 그래프로 나타내기\n",
    "plt.figure(figsize=(16,10))\n",
    "plt.xticks(fontsize=14)\n",
    "plt.yticks(fontsize=14)\n",
    "plt.plot(sets_by_year.index, sets_by_year)    # 만약 groupby를 사용했다면, plt.plot(sets_by_year.index, sets_by_year.set_num)"
   ]
  },
  {
   "cell_type": "markdown",
   "id": "a3b32476",
   "metadata": {},
   "source": [
    "- 만약 해당 2년을 제외 하지 않으면 위와 같이 차트 끝에 극적인 하락이 보여진다. 레고에 큰 문제라도 난 것 처럼 오해의 소지가 있다.\n",
    "- 또한 2021년 데이터 셋에 모든 달이 들어가지 않았다는 점을 고려할 때, 더 나은 그림을 출력하려면 2020년, 2021년의 컬럼을 제외시키는 것이 최선이겠다."
   ]
  },
  {
   "cell_type": "code",
   "execution_count": 58,
   "id": "9ec20565",
   "metadata": {},
   "outputs": [
    {
     "data": {
      "text/plain": [
       "[<matplotlib.lines.Line2D at 0x15088ec40>]"
      ]
     },
     "execution_count": 58,
     "metadata": {},
     "output_type": "execute_result"
    },
    {
     "data": {
      "image/png": "[encoded data removed]",
      "text/plain": [
       "<Figure size 1152x720 with 1 Axes>"
      ]
     },
     "metadata": {
      "needs_background": "light"
     },
     "output_type": "display_data"
    }
   ],
   "source": [
    "# 2020년 후반 데이터 삭제 후 다시 그래프 그리기\n",
    "plt.figure(figsize=(16,10))\n",
    "plt.xticks(fontsize=14)\n",
    "plt.yticks(fontsize=14)\n",
    "plt.plot(sets_by_year.index[:-2], sets_by_year[:-2])     #  # 만약 groupby를 사용했다면, plt.plot(sets_by_year.index[:-2], sets_by_year.set_num[:-2])"
   ]
  },
  {
   "cell_type": "markdown",
   "id": "497bf13d",
   "metadata": {},
   "source": [
    "- 레고는 처음 45여 년간 제공하는 제품을 꾸준히 증가시켰지만, 실제로 회사에서 생상한 세트 수가 급격히 증가한 것은 1990년대 중반 이었다. \n",
    "- 또한 차트에서 2000년대 초반에 잠시 하락했고, 2005년경 강한 회복을 보여주다. 2008년도 글로벌 금융 위기로 다시 하락한다. \n",
    "- 그러다 2010년 경에 폭발적인 회복세를 보여주는 양상을 보인다."
   ]
  },
  {
   "cell_type": "code",
   "execution_count": null,
   "id": "da2b0b3e",
   "metadata": {},
   "outputs": [],
   "source": []
  }
 ],
 "metadata": {
  "kernelspec": {
   "display_name": "Python 3 (ipykernel)",
   "language": "python",
   "name": "python3"
  },
  "language_info": {
   "codemirror_mode": {
    "name": "ipython",
    "version": 3
   },
   "file_extension": ".py",
   "mimetype": "text/x-python",
   "name": "python",
   "nbconvert_exporter": "python",
   "pygments_lexer": "ipython3",
   "version": "3.8.12"
  }
 },
 "nbformat": 4,
 "nbformat_minor": 5
}
