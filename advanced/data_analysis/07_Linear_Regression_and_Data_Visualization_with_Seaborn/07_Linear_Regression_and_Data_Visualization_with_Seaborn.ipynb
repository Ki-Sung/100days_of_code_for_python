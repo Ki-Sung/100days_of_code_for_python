{
 "cells": [
  {
   "cell_type": "markdown",
   "id": "8bceaa9d",
   "metadata": {},
   "source": [
    "## Seaborn을 이용한 선형 회귀 및 데이터 시각화\n",
    "- 이번 시간에는 영화 예산과 수익에 대한 자료를 들여다 본다. 이런 DataSet는 \"Scikit-Learn\"과 같은 툴을 통해 선형 회귀 분석을 실행하고, \"Matplotlib\"을 기반으로 구축된 데이터 시각화 라이브러리인 \"Seaborn\"을 사용하기에 매우 적합하다.\n",
    "\n",
    "<img src=\"asset/movies.png\">\n",
    "\n",
    "- 이번 시간에 우리가 답할 질문은, 더 많은 영화 예산은 박스 오피스에서 더 많은 수익으로 이어지는지에 대한 것이다.\n",
    "- 다른 말로, \"영화 스튜디오는 더 많은 영화 제작을 위해 영화에 더 많은 돈을 써야하는 것인가?\" 이다."
   ]
  },
  {
   "cell_type": "markdown",
   "id": "77480e3e",
   "metadata": {},
   "source": [
    "### 이번 시간 Study 내용 \n",
    "1. \"Seaborn\"이라는, 유명한 데이터 시각화 라이브러리 사용 방법\n",
    "\n",
    "<img src=\"asset/seaborn.png\">\n",
    "\n",
    "2. \"Scikit-Learn\"을 이용해 선형 회귀 분석을 실행하고 해석\n",
    "\n",
    "<img src=\"asset/sklearn.png\">\n",
    "\n",
    "3. 데이터간의 관계를 시각화하는 산점도를 통해, 회귀 분석을 표시하는 방법\n",
    "\n",
    "3. 산점도에 세 번째 차원을 추가하여 거품 차트를 만드는 방법\n",
    "\n",
    "3. 내림 나눗셈(//)을 영리하게 사용해, 데이터를 변환하는 방법"
   ]
  },
  {
   "cell_type": "markdown",
   "id": "22fc9ed5",
   "metadata": {},
   "source": [
    "### 1. 데이터 탐색 및 정리하기 "
   ]
  },
  {
   "cell_type": "code",
   "execution_count": 1,
   "id": "7bb09161",
   "metadata": {},
   "outputs": [],
   "source": [
    "# 필요한 패키지 임포트 \n",
    "import pandas as pd"
   ]
  },
  {
   "cell_type": "code",
   "execution_count": 2,
   "id": "efd4972f",
   "metadata": {},
   "outputs": [
    {
     "name": "stdout",
     "output_type": "stream",
     "text": [
      "Data shape is (5391, 6)\n"
     ]
    },
    {
     "data": {
      "text/html": [
       "<div>\n",
       "<style scoped>\n",
       "    .dataframe tbody tr th:only-of-type {\n",
       "        vertical-align: middle;\n",
       "    }\n",
       "\n",
       "    .dataframe tbody tr th {\n",
       "        vertical-align: top;\n",
       "    }\n",
       "\n",
       "    .dataframe thead th {\n",
       "        text-align: right;\n",
       "    }\n",
       "</style>\n",
       "<table border=\"1\" class=\"dataframe\">\n",
       "  <thead>\n",
       "    <tr style=\"text-align: right;\">\n",
       "      <th></th>\n",
       "      <th>Rank</th>\n",
       "      <th>Release_Date</th>\n",
       "      <th>Movie_Title</th>\n",
       "      <th>USD_Production_Budget</th>\n",
       "      <th>USD_Worldwide_Gross</th>\n",
       "      <th>USD_Domestic_Gross</th>\n",
       "    </tr>\n",
       "  </thead>\n",
       "  <tbody>\n",
       "    <tr>\n",
       "      <th>0</th>\n",
       "      <td>5293</td>\n",
       "      <td>8/2/1915</td>\n",
       "      <td>The Birth of a Nation</td>\n",
       "      <td>$110,000</td>\n",
       "      <td>$11,000,000</td>\n",
       "      <td>$10,000,000</td>\n",
       "    </tr>\n",
       "    <tr>\n",
       "      <th>1</th>\n",
       "      <td>5140</td>\n",
       "      <td>5/9/1916</td>\n",
       "      <td>Intolerance</td>\n",
       "      <td>$385,907</td>\n",
       "      <td>$0</td>\n",
       "      <td>$0</td>\n",
       "    </tr>\n",
       "    <tr>\n",
       "      <th>2</th>\n",
       "      <td>5230</td>\n",
       "      <td>12/24/1916</td>\n",
       "      <td>20,000 Leagues Under the Sea</td>\n",
       "      <td>$200,000</td>\n",
       "      <td>$8,000,000</td>\n",
       "      <td>$8,000,000</td>\n",
       "    </tr>\n",
       "    <tr>\n",
       "      <th>3</th>\n",
       "      <td>5299</td>\n",
       "      <td>9/17/1920</td>\n",
       "      <td>Over the Hill to the Poorhouse</td>\n",
       "      <td>$100,000</td>\n",
       "      <td>$3,000,000</td>\n",
       "      <td>$3,000,000</td>\n",
       "    </tr>\n",
       "    <tr>\n",
       "      <th>4</th>\n",
       "      <td>5222</td>\n",
       "      <td>1/1/1925</td>\n",
       "      <td>The Big Parade</td>\n",
       "      <td>$245,000</td>\n",
       "      <td>$22,000,000</td>\n",
       "      <td>$11,000,000</td>\n",
       "    </tr>\n",
       "    <tr>\n",
       "      <th>...</th>\n",
       "      <td>...</td>\n",
       "      <td>...</td>\n",
       "      <td>...</td>\n",
       "      <td>...</td>\n",
       "      <td>...</td>\n",
       "      <td>...</td>\n",
       "    </tr>\n",
       "    <tr>\n",
       "      <th>5386</th>\n",
       "      <td>2950</td>\n",
       "      <td>10/8/2018</td>\n",
       "      <td>Meg</td>\n",
       "      <td>$15,000,000</td>\n",
       "      <td>$0</td>\n",
       "      <td>$0</td>\n",
       "    </tr>\n",
       "    <tr>\n",
       "      <th>5387</th>\n",
       "      <td>126</td>\n",
       "      <td>12/18/2018</td>\n",
       "      <td>Aquaman</td>\n",
       "      <td>$160,000,000</td>\n",
       "      <td>$0</td>\n",
       "      <td>$0</td>\n",
       "    </tr>\n",
       "    <tr>\n",
       "      <th>5388</th>\n",
       "      <td>96</td>\n",
       "      <td>12/31/2020</td>\n",
       "      <td>Singularity</td>\n",
       "      <td>$175,000,000</td>\n",
       "      <td>$0</td>\n",
       "      <td>$0</td>\n",
       "    </tr>\n",
       "    <tr>\n",
       "      <th>5389</th>\n",
       "      <td>1119</td>\n",
       "      <td>12/31/2020</td>\n",
       "      <td>Hannibal the Conqueror</td>\n",
       "      <td>$50,000,000</td>\n",
       "      <td>$0</td>\n",
       "      <td>$0</td>\n",
       "    </tr>\n",
       "    <tr>\n",
       "      <th>5390</th>\n",
       "      <td>2517</td>\n",
       "      <td>12/31/2020</td>\n",
       "      <td>Story of Bonnie and Clyde, The</td>\n",
       "      <td>$20,000,000</td>\n",
       "      <td>$0</td>\n",
       "      <td>$0</td>\n",
       "    </tr>\n",
       "  </tbody>\n",
       "</table>\n",
       "<p>5391 rows × 6 columns</p>\n",
       "</div>"
      ],
      "text/plain": [
       "      Rank Release_Date                     Movie_Title USD_Production_Budget  \\\n",
       "0     5293     8/2/1915           The Birth of a Nation              $110,000   \n",
       "1     5140     5/9/1916                     Intolerance              $385,907   \n",
       "2     5230   12/24/1916    20,000 Leagues Under the Sea              $200,000   \n",
       "3     5299    9/17/1920  Over the Hill to the Poorhouse              $100,000   \n",
       "4     5222     1/1/1925                  The Big Parade              $245,000   \n",
       "...    ...          ...                             ...                   ...   \n",
       "5386  2950    10/8/2018                             Meg           $15,000,000   \n",
       "5387   126   12/18/2018                         Aquaman          $160,000,000   \n",
       "5388    96   12/31/2020                     Singularity          $175,000,000   \n",
       "5389  1119   12/31/2020          Hannibal the Conqueror           $50,000,000   \n",
       "5390  2517   12/31/2020  Story of Bonnie and Clyde, The           $20,000,000   \n",
       "\n",
       "     USD_Worldwide_Gross USD_Domestic_Gross  \n",
       "0            $11,000,000        $10,000,000  \n",
       "1                     $0                 $0  \n",
       "2             $8,000,000         $8,000,000  \n",
       "3             $3,000,000         $3,000,000  \n",
       "4            $22,000,000        $11,000,000  \n",
       "...                  ...                ...  \n",
       "5386                  $0                 $0  \n",
       "5387                  $0                 $0  \n",
       "5388                  $0                 $0  \n",
       "5389                  $0                 $0  \n",
       "5390                  $0                 $0  \n",
       "\n",
       "[5391 rows x 6 columns]"
      ]
     },
     "execution_count": 2,
     "metadata": {},
     "output_type": "execute_result"
    }
   ],
   "source": [
    "# 데이터 불러오기 \n",
    "df = pd.read_csv('data/cost_revenue_dirty.csv')\n",
    "print(f'Data shape is {df.shape}')\n",
    "df"
   ]
  },
  {
   "cell_type": "code",
   "execution_count": 3,
   "id": "d7c472e6",
   "metadata": {},
   "outputs": [
    {
     "data": {
      "text/plain": [
       "Rank                     0\n",
       "Release_Date             0\n",
       "Movie_Title              0\n",
       "USD_Production_Budget    0\n",
       "USD_Worldwide_Gross      0\n",
       "USD_Domestic_Gross       0\n",
       "dtype: int64"
      ]
     },
     "execution_count": 3,
     "metadata": {},
     "output_type": "execute_result"
    }
   ],
   "source": [
    "# NaN값 확인\n",
    "df.isnull().sum()\n",
    "# or df.isna().values.any()"
   ]
  },
  {
   "cell_type": "code",
   "execution_count": 4,
   "id": "d9889773",
   "metadata": {},
   "outputs": [
    {
     "name": "stdout",
     "output_type": "stream",
     "text": [
      "0\n"
     ]
    }
   ],
   "source": [
    "# 중복값 확인 \n",
    "print(df.duplicated(keep=False).sum())\n",
    "# or data.duplicated().values.any()"
   ]
  },
  {
   "cell_type": "code",
   "execution_count": 5,
   "id": "8ed19ffb",
   "metadata": {},
   "outputs": [
    {
     "data": {
      "text/plain": [
       "0"
      ]
     },
     "execution_count": 5,
     "metadata": {},
     "output_type": "execute_result"
    }
   ],
   "source": [
    "# 부분 집합을 만들고 집합의 길이 확인 - 중복 수 확인\n",
    "duplicated_rows = df[df.duplicated()]\n",
    "len(duplicated_rows)"
   ]
  },
  {
   "cell_type": "code",
   "execution_count": 6,
   "id": "de893682",
   "metadata": {},
   "outputs": [
    {
     "name": "stdout",
     "output_type": "stream",
     "text": [
      "<class 'pandas.core.frame.DataFrame'>\n",
      "RangeIndex: 5391 entries, 0 to 5390\n",
      "Data columns (total 6 columns):\n",
      " #   Column                 Non-Null Count  Dtype \n",
      "---  ------                 --------------  ----- \n",
      " 0   Rank                   5391 non-null   int64 \n",
      " 1   Release_Date           5391 non-null   object\n",
      " 2   Movie_Title            5391 non-null   object\n",
      " 3   USD_Production_Budget  5391 non-null   object\n",
      " 4   USD_Worldwide_Gross    5391 non-null   object\n",
      " 5   USD_Domestic_Gross     5391 non-null   object\n",
      "dtypes: int64(1), object(5)\n",
      "memory usage: 252.8+ KB\n"
     ]
    }
   ],
   "source": [
    "# 각 열의 데이터 유형 확인 \n",
    "df.info()"
   ]
  },
  {
   "cell_type": "code",
   "execution_count": 7,
   "id": "761822a2",
   "metadata": {},
   "outputs": [],
   "source": [
    "# 예산 및 총 수익 데이터 각종 특수문자 제거 및 정수형으로 데이터 변환 \n",
    "df['USD_Production_Budget'] = df['USD_Production_Budget'].replace('[\\$,]', '', regex=True).astype(int)\n",
    "df['USD_Worldwide_Gross'] = df['USD_Worldwide_Gross'].replace('[\\$,]', '', regex=True).astype(int)\n",
    "df['USD_Domestic_Gross'] = df['USD_Domestic_Gross'].replace('[\\$,]', '', regex=True).astype(int)"
   ]
  },
  {
   "cell_type": "code",
   "execution_count": 8,
   "id": "a97e04b0",
   "metadata": {},
   "outputs": [],
   "source": [
    "# Release_Date, datetime type으로 변환 \n",
    "df['Release_Date'] = pd.to_datetime(df['Release_Date'])"
   ]
  },
  {
   "cell_type": "code",
   "execution_count": 9,
   "id": "cfefdda0",
   "metadata": {},
   "outputs": [
    {
     "name": "stderr",
     "output_type": "stream",
     "text": [
      "/var/folders/6t/12w79lnx68sczzc5f6xs76z80000gn/T/ipykernel_83757/3239217400.py:10: FutureWarning: The default value of regex will change from True to False in a future version. In addition, single character regular expressions will *not* be treated as literal strings when regex=True.\n",
      "  df[col] = df[col].astype(str).str.replace(char, \"\")\n"
     ]
    }
   ],
   "source": [
    "# 위를 한번에 처리하기 위한 코드\n",
    "chars_to_remove = [',', '$']\n",
    "columns_to_clean = ['USD_Production_Budget', \n",
    "                    'USD_Worldwide_Gross',\n",
    "                    'USD_Domestic_Gross']\n",
    " \n",
    "for col in columns_to_clean:\n",
    "    for char in chars_to_remove:\n",
    "        # Replace each character with an empty string\n",
    "        df[col] = df[col].astype(str).str.replace(char, \"\")\n",
    "    # Convert column to a numeric data type\n",
    "    df[col] = pd.to_numeric(df[col])"
   ]
  },
  {
   "cell_type": "code",
   "execution_count": 10,
   "id": "2cad3819",
   "metadata": {},
   "outputs": [
    {
     "data": {
      "text/html": [
       "<div>\n",
       "<style scoped>\n",
       "    .dataframe tbody tr th:only-of-type {\n",
       "        vertical-align: middle;\n",
       "    }\n",
       "\n",
       "    .dataframe tbody tr th {\n",
       "        vertical-align: top;\n",
       "    }\n",
       "\n",
       "    .dataframe thead th {\n",
       "        text-align: right;\n",
       "    }\n",
       "</style>\n",
       "<table border=\"1\" class=\"dataframe\">\n",
       "  <thead>\n",
       "    <tr style=\"text-align: right;\">\n",
       "      <th></th>\n",
       "      <th>Rank</th>\n",
       "      <th>Release_Date</th>\n",
       "      <th>Movie_Title</th>\n",
       "      <th>USD_Production_Budget</th>\n",
       "      <th>USD_Worldwide_Gross</th>\n",
       "      <th>USD_Domestic_Gross</th>\n",
       "    </tr>\n",
       "  </thead>\n",
       "  <tbody>\n",
       "    <tr>\n",
       "      <th>0</th>\n",
       "      <td>5293</td>\n",
       "      <td>1915-08-02</td>\n",
       "      <td>The Birth of a Nation</td>\n",
       "      <td>110000</td>\n",
       "      <td>11000000</td>\n",
       "      <td>10000000</td>\n",
       "    </tr>\n",
       "    <tr>\n",
       "      <th>1</th>\n",
       "      <td>5140</td>\n",
       "      <td>1916-05-09</td>\n",
       "      <td>Intolerance</td>\n",
       "      <td>385907</td>\n",
       "      <td>0</td>\n",
       "      <td>0</td>\n",
       "    </tr>\n",
       "    <tr>\n",
       "      <th>2</th>\n",
       "      <td>5230</td>\n",
       "      <td>1916-12-24</td>\n",
       "      <td>20,000 Leagues Under the Sea</td>\n",
       "      <td>200000</td>\n",
       "      <td>8000000</td>\n",
       "      <td>8000000</td>\n",
       "    </tr>\n",
       "    <tr>\n",
       "      <th>3</th>\n",
       "      <td>5299</td>\n",
       "      <td>1920-09-17</td>\n",
       "      <td>Over the Hill to the Poorhouse</td>\n",
       "      <td>100000</td>\n",
       "      <td>3000000</td>\n",
       "      <td>3000000</td>\n",
       "    </tr>\n",
       "    <tr>\n",
       "      <th>4</th>\n",
       "      <td>5222</td>\n",
       "      <td>1925-01-01</td>\n",
       "      <td>The Big Parade</td>\n",
       "      <td>245000</td>\n",
       "      <td>22000000</td>\n",
       "      <td>11000000</td>\n",
       "    </tr>\n",
       "    <tr>\n",
       "      <th>...</th>\n",
       "      <td>...</td>\n",
       "      <td>...</td>\n",
       "      <td>...</td>\n",
       "      <td>...</td>\n",
       "      <td>...</td>\n",
       "      <td>...</td>\n",
       "    </tr>\n",
       "    <tr>\n",
       "      <th>5386</th>\n",
       "      <td>2950</td>\n",
       "      <td>2018-10-08</td>\n",
       "      <td>Meg</td>\n",
       "      <td>15000000</td>\n",
       "      <td>0</td>\n",
       "      <td>0</td>\n",
       "    </tr>\n",
       "    <tr>\n",
       "      <th>5387</th>\n",
       "      <td>126</td>\n",
       "      <td>2018-12-18</td>\n",
       "      <td>Aquaman</td>\n",
       "      <td>160000000</td>\n",
       "      <td>0</td>\n",
       "      <td>0</td>\n",
       "    </tr>\n",
       "    <tr>\n",
       "      <th>5388</th>\n",
       "      <td>96</td>\n",
       "      <td>2020-12-31</td>\n",
       "      <td>Singularity</td>\n",
       "      <td>175000000</td>\n",
       "      <td>0</td>\n",
       "      <td>0</td>\n",
       "    </tr>\n",
       "    <tr>\n",
       "      <th>5389</th>\n",
       "      <td>1119</td>\n",
       "      <td>2020-12-31</td>\n",
       "      <td>Hannibal the Conqueror</td>\n",
       "      <td>50000000</td>\n",
       "      <td>0</td>\n",
       "      <td>0</td>\n",
       "    </tr>\n",
       "    <tr>\n",
       "      <th>5390</th>\n",
       "      <td>2517</td>\n",
       "      <td>2020-12-31</td>\n",
       "      <td>Story of Bonnie and Clyde, The</td>\n",
       "      <td>20000000</td>\n",
       "      <td>0</td>\n",
       "      <td>0</td>\n",
       "    </tr>\n",
       "  </tbody>\n",
       "</table>\n",
       "<p>5391 rows × 6 columns</p>\n",
       "</div>"
      ],
      "text/plain": [
       "      Rank Release_Date                     Movie_Title  \\\n",
       "0     5293   1915-08-02           The Birth of a Nation   \n",
       "1     5140   1916-05-09                     Intolerance   \n",
       "2     5230   1916-12-24    20,000 Leagues Under the Sea   \n",
       "3     5299   1920-09-17  Over the Hill to the Poorhouse   \n",
       "4     5222   1925-01-01                  The Big Parade   \n",
       "...    ...          ...                             ...   \n",
       "5386  2950   2018-10-08                             Meg   \n",
       "5387   126   2018-12-18                         Aquaman   \n",
       "5388    96   2020-12-31                     Singularity   \n",
       "5389  1119   2020-12-31          Hannibal the Conqueror   \n",
       "5390  2517   2020-12-31  Story of Bonnie and Clyde, The   \n",
       "\n",
       "      USD_Production_Budget  USD_Worldwide_Gross  USD_Domestic_Gross  \n",
       "0                    110000             11000000            10000000  \n",
       "1                    385907                    0                   0  \n",
       "2                    200000              8000000             8000000  \n",
       "3                    100000              3000000             3000000  \n",
       "4                    245000             22000000            11000000  \n",
       "...                     ...                  ...                 ...  \n",
       "5386               15000000                    0                   0  \n",
       "5387              160000000                    0                   0  \n",
       "5388              175000000                    0                   0  \n",
       "5389               50000000                    0                   0  \n",
       "5390               20000000                    0                   0  \n",
       "\n",
       "[5391 rows x 6 columns]"
      ]
     },
     "execution_count": 10,
     "metadata": {},
     "output_type": "execute_result"
    }
   ],
   "source": [
    "df"
   ]
  },
  {
   "cell_type": "code",
   "execution_count": 11,
   "id": "21238a4d",
   "metadata": {},
   "outputs": [
    {
     "name": "stdout",
     "output_type": "stream",
     "text": [
      "<class 'pandas.core.frame.DataFrame'>\n",
      "RangeIndex: 5391 entries, 0 to 5390\n",
      "Data columns (total 6 columns):\n",
      " #   Column                 Non-Null Count  Dtype         \n",
      "---  ------                 --------------  -----         \n",
      " 0   Rank                   5391 non-null   int64         \n",
      " 1   Release_Date           5391 non-null   datetime64[ns]\n",
      " 2   Movie_Title            5391 non-null   object        \n",
      " 3   USD_Production_Budget  5391 non-null   int64         \n",
      " 4   USD_Worldwide_Gross    5391 non-null   int64         \n",
      " 5   USD_Domestic_Gross     5391 non-null   int64         \n",
      "dtypes: datetime64[ns](1), int64(4), object(1)\n",
      "memory usage: 252.8+ KB\n"
     ]
    }
   ],
   "source": [
    "# 데이터 전처리 후 데이터 타입 확인 \n",
    "df.info()"
   ]
  },
  {
   "cell_type": "markdown",
   "id": "caee5667",
   "metadata": {},
   "source": [
    "- 데이터들을 분석에 맞게 전처리 작업을 진행하였다.\n",
    "- 여기까지 확인 결과 데이터는 총 행 5,391개, 열 6개로 조회 되었다.\n",
    "- NaN과 중복값은 확인되지 않았다. \n",
    "- 각 열의 정보와 데이터 유형은 아래와 같다. \n",
    "    - Rank(int): 영화 순위\n",
    "    - Release_Date(datetime): 영화 개봉 날짜 \n",
    "    - Movie_Title(str): 영화 제목 \n",
    "    - USD_Production_Budget(int): 영화 예산 (USD 달러)\n",
    "    - USD_Worldwide_Gross(int): 전세계 수입 총액 (USD 달러)\n",
    "    - USD_Domestic_Gross(int): 국내 수입 총액 (USD 달러)"
   ]
  },
  {
   "cell_type": "markdown",
   "id": "373f68de",
   "metadata": {},
   "source": [
    "### 2. 수익이 \"0\"인 영화 조사하기 "
   ]
  },
  {
   "cell_type": "code",
   "execution_count": 17,
   "id": "78e80758",
   "metadata": {},
   "outputs": [
    {
     "data": {
      "text/html": [
       "<div>\n",
       "<style scoped>\n",
       "    .dataframe tbody tr th:only-of-type {\n",
       "        vertical-align: middle;\n",
       "    }\n",
       "\n",
       "    .dataframe tbody tr th {\n",
       "        vertical-align: top;\n",
       "    }\n",
       "\n",
       "    .dataframe thead th {\n",
       "        text-align: right;\n",
       "    }\n",
       "</style>\n",
       "<table border=\"1\" class=\"dataframe\">\n",
       "  <thead>\n",
       "    <tr style=\"text-align: right;\">\n",
       "      <th></th>\n",
       "      <th>Rank</th>\n",
       "      <th>USD_Production_Budget</th>\n",
       "      <th>USD_Worldwide_Gross</th>\n",
       "      <th>USD_Domestic_Gross</th>\n",
       "    </tr>\n",
       "  </thead>\n",
       "  <tbody>\n",
       "    <tr>\n",
       "      <th>count</th>\n",
       "      <td>5391.000000</td>\n",
       "      <td>5.391000e+03</td>\n",
       "      <td>5.391000e+03</td>\n",
       "      <td>5.391000e+03</td>\n",
       "    </tr>\n",
       "    <tr>\n",
       "      <th>mean</th>\n",
       "      <td>2696.000000</td>\n",
       "      <td>3.111374e+07</td>\n",
       "      <td>8.885542e+07</td>\n",
       "      <td>4.123552e+07</td>\n",
       "    </tr>\n",
       "    <tr>\n",
       "      <th>std</th>\n",
       "      <td>1556.391981</td>\n",
       "      <td>4.052380e+07</td>\n",
       "      <td>1.684578e+08</td>\n",
       "      <td>6.602935e+07</td>\n",
       "    </tr>\n",
       "    <tr>\n",
       "      <th>min</th>\n",
       "      <td>1.000000</td>\n",
       "      <td>1.100000e+03</td>\n",
       "      <td>0.000000e+00</td>\n",
       "      <td>0.000000e+00</td>\n",
       "    </tr>\n",
       "    <tr>\n",
       "      <th>25%</th>\n",
       "      <td>1348.500000</td>\n",
       "      <td>5.000000e+06</td>\n",
       "      <td>3.865206e+06</td>\n",
       "      <td>1.330902e+06</td>\n",
       "    </tr>\n",
       "    <tr>\n",
       "      <th>50%</th>\n",
       "      <td>2696.000000</td>\n",
       "      <td>1.700000e+07</td>\n",
       "      <td>2.745045e+07</td>\n",
       "      <td>1.719220e+07</td>\n",
       "    </tr>\n",
       "    <tr>\n",
       "      <th>75%</th>\n",
       "      <td>4043.500000</td>\n",
       "      <td>4.000000e+07</td>\n",
       "      <td>9.645446e+07</td>\n",
       "      <td>5.234369e+07</td>\n",
       "    </tr>\n",
       "    <tr>\n",
       "      <th>max</th>\n",
       "      <td>5391.000000</td>\n",
       "      <td>4.250000e+08</td>\n",
       "      <td>2.783919e+09</td>\n",
       "      <td>9.366622e+08</td>\n",
       "    </tr>\n",
       "  </tbody>\n",
       "</table>\n",
       "</div>"
      ],
      "text/plain": [
       "              Rank  USD_Production_Budget  USD_Worldwide_Gross  \\\n",
       "count  5391.000000           5.391000e+03         5.391000e+03   \n",
       "mean   2696.000000           3.111374e+07         8.885542e+07   \n",
       "std    1556.391981           4.052380e+07         1.684578e+08   \n",
       "min       1.000000           1.100000e+03         0.000000e+00   \n",
       "25%    1348.500000           5.000000e+06         3.865206e+06   \n",
       "50%    2696.000000           1.700000e+07         2.745045e+07   \n",
       "75%    4043.500000           4.000000e+07         9.645446e+07   \n",
       "max    5391.000000           4.250000e+08         2.783919e+09   \n",
       "\n",
       "       USD_Domestic_Gross  \n",
       "count        5.391000e+03  \n",
       "mean         4.123552e+07  \n",
       "std          6.602935e+07  \n",
       "min          0.000000e+00  \n",
       "25%          1.330902e+06  \n",
       "50%          1.719220e+07  \n",
       "75%          5.234369e+07  \n",
       "max          9.366622e+08  "
      ]
     },
     "execution_count": 17,
     "metadata": {},
     "output_type": "execute_result"
    }
   ],
   "source": [
    "# 데이터 통계 내역 확인\n",
    "df.describe()"
   ]
  },
  {
   "cell_type": "code",
   "execution_count": 24,
   "id": "a3227261",
   "metadata": {},
   "outputs": [
    {
     "name": "stdout",
     "output_type": "stream",
     "text": [
      "The average production budget of films: $31113737.58\n"
     ]
    }
   ],
   "source": [
    "# 영화들의 평균 제작 예산 \n",
    "production_budget_films = round(df['USD_Production_Budget'].mean(), 2)\n",
    "print(f'The average production budget of films: ${production_budget_films}')"
   ]
  },
  {
   "cell_type": "code",
   "execution_count": 27,
   "id": "f607308e",
   "metadata": {},
   "outputs": [
    {
     "name": "stdout",
     "output_type": "stream",
     "text": [
      "Minimum worldwide sales is $0\n",
      "Minimum Domestic sales is $0\n"
     ]
    }
   ],
   "source": [
    "# 전세계 최소 매출 \n",
    "min_world_gross = df['USD_Worldwide_Gross'].min()\n",
    "# 국내 최소 매출\n",
    "min_domestic_gross = df['USD_Domestic_Gross'].min()\n",
    "\n",
    "print(f'Minimum worldwide sales is ${min_world_gross}')\n",
    "print(f'Minimum Domestic sales is ${min_domestic_gross}')"
   ]
  },
  {
   "cell_type": "code",
   "execution_count": 29,
   "id": "54edea5a",
   "metadata": {},
   "outputs": [
    {
     "name": "stdout",
     "output_type": "stream",
     "text": [
      "Maximum worldwide sales is $2783918982\n",
      "Maximum minimum sales is $936662225\n"
     ]
    }
   ],
   "source": [
    "# 전세계 최대 매출 \n",
    "max_world_gross = round(df['USD_Worldwide_Gross'].max(), 2)\n",
    "# 국내 최대 매출\n",
    "max_domestic_gross = round(df['USD_Domestic_Gross'].max(), 2)\n",
    "\n",
    "print(f'Maximum worldwide sales is ${max_world_gross}')\n",
    "print(f'Maximum minimum sales is ${max_domestic_gross}')"
   ]
  },
  {
   "cell_type": "markdown",
   "id": "8d745ff5",
   "metadata": {},
   "source": [
    "- 평균적인 영화 제작비는 약 \"3,100만 달러\"이며 전 세계 수익의 3배(또는 약 8,900만 달러)를 벌어들인다.\n",
    "- 하지만 많은 영화들이 돈을 날리기도 한다. 하위 4분위에 있는 모든 영화들은 평균 예산(비용)이 5백만 달러지만 전 세계적으로 380만 달러의 수입만을 올리기 때문에 손해를 본다. \n",
    "- 국내 및 전 세계 최소 수익은 \"0 달러\" 이다.\n",
    "- 반면, 최고 생산 예산은 \"4억 2,500만 달러\"였고, 전 세계적으로 가장 높은 수익은 \"27억 달러\"였다."
   ]
  },
  {
   "cell_type": "code",
   "execution_count": 30,
   "id": "f1af7779",
   "metadata": {},
   "outputs": [
    {
     "data": {
      "text/html": [
       "<div>\n",
       "<style scoped>\n",
       "    .dataframe tbody tr th:only-of-type {\n",
       "        vertical-align: middle;\n",
       "    }\n",
       "\n",
       "    .dataframe tbody tr th {\n",
       "        vertical-align: top;\n",
       "    }\n",
       "\n",
       "    .dataframe thead th {\n",
       "        text-align: right;\n",
       "    }\n",
       "</style>\n",
       "<table border=\"1\" class=\"dataframe\">\n",
       "  <thead>\n",
       "    <tr style=\"text-align: right;\">\n",
       "      <th></th>\n",
       "      <th>Rank</th>\n",
       "      <th>Release_Date</th>\n",
       "      <th>Movie_Title</th>\n",
       "      <th>USD_Production_Budget</th>\n",
       "      <th>USD_Worldwide_Gross</th>\n",
       "      <th>USD_Domestic_Gross</th>\n",
       "    </tr>\n",
       "  </thead>\n",
       "  <tbody>\n",
       "    <tr>\n",
       "      <th>2427</th>\n",
       "      <td>5391</td>\n",
       "      <td>2005-05-08</td>\n",
       "      <td>My Date With Drew</td>\n",
       "      <td>1100</td>\n",
       "      <td>181041</td>\n",
       "      <td>181041</td>\n",
       "    </tr>\n",
       "  </tbody>\n",
       "</table>\n",
       "</div>"
      ],
      "text/plain": [
       "      Rank Release_Date        Movie_Title  USD_Production_Budget  \\\n",
       "2427  5391   2005-05-08  My Date With Drew                   1100   \n",
       "\n",
       "      USD_Worldwide_Gross  USD_Domestic_Gross  \n",
       "2427               181041              181041  "
      ]
     },
     "execution_count": 30,
     "metadata": {},
     "output_type": "execute_result"
    }
   ],
   "source": [
    "# 예산이 적게 드는 영화 조회 \n",
    "df[df.USD_Production_Budget == 1100]"
   ]
  },
  {
   "cell_type": "markdown",
   "id": "b1ff3af2",
   "metadata": {},
   "source": [
    "- 예산이 적게드는 영화는 \"My Date With Drew\"이다. 하지만 전세계 수익 및 국내 수익 금액일 보니 예산 대비 돈을 많이 버는 것으로 나타났다."
   ]
  },
  {
   "cell_type": "code",
   "execution_count": null,
   "id": "52aa32f7",
   "metadata": {},
   "outputs": [],
   "source": []
  }
 ],
 "metadata": {
  "kernelspec": {
   "display_name": "Python 3 (ipykernel)",
   "language": "python",
   "name": "python3"
  },
  "language_info": {
   "codemirror_mode": {
    "name": "ipython",
    "version": 3
   },
   "file_extension": ".py",
   "mimetype": "text/x-python",
   "name": "python",
   "nbconvert_exporter": "python",
   "pygments_lexer": "ipython3",
   "version": "3.8.12"
  }
 },
 "nbformat": 4,
 "nbformat_minor": 5
}
