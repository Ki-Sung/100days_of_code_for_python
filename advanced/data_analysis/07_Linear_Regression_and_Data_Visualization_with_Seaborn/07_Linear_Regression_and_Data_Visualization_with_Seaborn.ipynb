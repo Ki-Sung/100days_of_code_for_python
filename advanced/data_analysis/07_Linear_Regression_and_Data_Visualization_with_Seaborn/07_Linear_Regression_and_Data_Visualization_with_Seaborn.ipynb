{
 "cells": [
  {
   "cell_type": "markdown",
   "id": "0a4b1c6b",
   "metadata": {},
   "source": [
    "## Seaborn을 이용한 선형 회귀 및 데이터 시각화\n",
    "- 이번 시간에는 영화 예산과 수익에 대한 자료를 들여다 본다. 이런 DataSet는 \"Scikit-Learn\"과 같은 툴을 통해 선형 회귀 분석을 실행하고, \"Matplotlib\"을 기반으로 구축된 데이터 시각화 라이브러리인 \"Seaborn\"을 사용하기에 매우 적합하다.\n",
    "\n",
    "<img src=\"asset/movies.png\">\n",
    "\n",
    "- 이번 시간에 우리가 답할 질문은, 더 많은 영화 예산은 박스 오피스에서 더 많은 수익으로 이어지는지에 대한 것이다.\n",
    "- 다른 말로, \"영화 스튜디오는 더 많은 영화 제작을 위해 영화에 더 많은 돈을 써야하는 것인가?\" 이다."
   ]
  },
  {
   "cell_type": "markdown",
   "id": "fe62c683",
   "metadata": {},
   "source": [
    "### 이번 시간 Study 내용 \n",
    "1. \"Seaborn\"이라는, 유명한 데이터 시각화 라이브러리 사용 방법\n",
    "\n",
    "<img src=\"asset/seaborn.png\">\n",
    "\n",
    "2. \"Scikit-Learn\"을 이용해 선형 회귀 분석을 실행하고 해석\n",
    "\n",
    "<img src=\"asset/sklearn.png\">\n",
    "\n",
    "3. 데이터간의 관계를 시각화하는 산점도를 통해, 회귀 분석을 표시하는 방법\n",
    "\n",
    "3. 산점도에 세 번째 차원을 추가하여 거품 차트를 만드는 방법\n",
    "\n",
    "3. 내림 나눗셈(//)을 영리하게 사용해, 데이터를 변환하는 방법"
   ]
  },
  {
   "cell_type": "code",
   "execution_count": null,
   "id": "96dad411",
   "metadata": {},
   "outputs": [],
   "source": []
  }
 ],
 "metadata": {
  "kernelspec": {
   "display_name": "Python 3 (ipykernel)",
   "language": "python",
   "name": "python3"
  },
  "language_info": {
   "codemirror_mode": {
    "name": "ipython",
    "version": 3
   },
   "file_extension": ".py",
   "mimetype": "text/x-python",
   "name": "python",
   "nbconvert_exporter": "python",
   "pygments_lexer": "ipython3",
   "version": "3.8.12"
  }
 },
 "nbformat": 4,
 "nbformat_minor": 5
}
