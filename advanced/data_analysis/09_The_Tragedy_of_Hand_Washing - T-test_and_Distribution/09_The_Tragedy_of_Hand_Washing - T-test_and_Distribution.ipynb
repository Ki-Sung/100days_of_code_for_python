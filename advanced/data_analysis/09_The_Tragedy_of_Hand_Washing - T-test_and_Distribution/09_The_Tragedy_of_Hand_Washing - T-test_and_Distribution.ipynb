{
 "cells": [
  {
   "cell_type": "markdown",
   "id": "2cc47e90",
   "metadata": {},
   "source": [
    "## 손씻기의 비극 - t-test 및 분포 \n",
    "\n",
    "- 오늘 우리는  1818년에 태어나 빈 종합병원에서 일했던 헝가리 의사 \"이그나츠 젬멜와이스\"가 된다. \n",
    "\n",
    "<img src=\"assets/ignaz.png\">\n",
    "\n",
    "- 과거에 사람들은 박테리아, 세균, 바이러스에 대해 몰랐다. 사람들은 \"나쁜 공기\" 또는 악령 때문에 병에 걸린 것이라고 생각했다. 하지만 1800년대 의사들은 인체를 해부하고 부검한 데이터를 기반으로 주장하기 시작했다. \n",
    "- 젬멜와이스는 빈 종합병원의 수술에서 뭔가가 잘못되었다고 의심하기 시작했다. 젬말와이스는 왜 그렇게 많은 여성들이 분만실에서 산욕열(산후열이라고도 하며, 산모가 출산 후 첫 24간을 제외한 10일 이내에 이틀 동한 측정한 체온이 38도 이상인 것을 말함)로 목숨을 잃는지 알고 싶어했다. "
   ]
  },
  {
   "cell_type": "markdown",
   "id": "acb2d7ff",
   "metadata": {},
   "source": [
    "### 이번 시간에 Study 할 사항 \n",
    "- 데이터를 이용해 설득력 있는 주장을 하는 법\n",
    "- 히스토그램을 첨부해 분포의 차이를 보여주는 방법\n",
    "- 커널 밀도 추정(KDE)을 이용해 분포 추정치를 그래픽으로 보여주는 방법\n",
    "- SciPy를 사용하고 p-value를 확인함으로써 통계적 유의성을 시험하는 방법\n",
    "- Matplotlib에서 시계열 차트의 다른 부분들을 강조하는 방법\n",
    "- Matplotlib에서 범례를 추가하고 설정하는 방법\n",
    "- NumPy의 .where() 함수를 사용해 조건에 따라 요소 처리하기"
   ]
  },
  {
   "cell_type": "code",
   "execution_count": null,
   "id": "9afad514",
   "metadata": {},
   "outputs": [],
   "source": []
  }
 ],
 "metadata": {
  "kernelspec": {
   "display_name": "Python 3 (ipykernel)",
   "language": "python",
   "name": "python3"
  },
  "language_info": {
   "codemirror_mode": {
    "name": "ipython",
    "version": 3
   },
   "file_extension": ".py",
   "mimetype": "text/x-python",
   "name": "python",
   "nbconvert_exporter": "python",
   "pygments_lexer": "ipython3",
   "version": "3.8.12"
  }
 },
 "nbformat": 4,
 "nbformat_minor": 5
}
