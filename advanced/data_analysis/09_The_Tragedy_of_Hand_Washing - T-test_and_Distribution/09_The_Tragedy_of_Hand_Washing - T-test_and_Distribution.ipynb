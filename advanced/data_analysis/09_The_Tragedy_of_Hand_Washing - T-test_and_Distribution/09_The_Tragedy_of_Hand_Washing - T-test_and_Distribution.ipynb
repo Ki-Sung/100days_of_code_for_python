{
 "cells": [
  {
   "cell_type": "markdown",
   "id": "2cc47e90",
   "metadata": {},
   "source": [
    "## 손씻기의 비극 - t-test 및 분포 \n",
    "\n",
    "- 오늘 우리는  1818년에 태어나 비엔나 종합병원에서 일했던 헝가리 의사 \"이그나츠 젬멜와이스\"가 된다. \n",
    "\n",
    "<img src=\"assets/ignaz.png\">\n",
    "\n",
    "- 과거에 사람들은 박테리아, 세균, 바이러스에 대해 몰랐다. 사람들은 \"나쁜 공기\" 또는 악령 때문에 병에 걸린 것이라고 생각했다. 하지만 1800년대 의사들은 인체를 해부하고 부검한 데이터를 기반으로 주장하기 시작했다. \n",
    "- 젬멜와이스는 비엔나 종합병원의 수술에서 뭔가가 잘못되었다고 의심하기 시작했다. 젬말와이스는 왜 그렇게 많은 여성들이 분만실에서 산욕열(산후열이라고도 하며, 산모가 출산 후 첫 24간을 제외한 10일 이내에 이틀 동한 측정한 체온이 38도 이상인 것을 말함)로 목숨을 잃는지 알고 싶어했다. "
   ]
  },
  {
   "cell_type": "markdown",
   "id": "acb2d7ff",
   "metadata": {},
   "source": [
    "### 이번 시간에 Study 할 사항 \n",
    "- 데이터를 이용해 설득력 있는 주장을 하는 법\n",
    "- 히스토그램을 첨부해 분포의 차이를 보여주는 방법\n",
    "- 커널 밀도 추정(KDE)을 이용해 분포 추정치를 그래픽으로 보여주는 방법\n",
    "- SciPy를 사용하고 p-value를 확인함으로써 통계적 유의성을 시험하는 방법\n",
    "- Matplotlib에서 시계열 차트의 다른 부분들을 강조하는 방법\n",
    "- Matplotlib에서 범례를 추가하고 설정하는 방법\n",
    "- NumPy의 .where() 함수를 사용해 조건에 따라 요소 처리하기"
   ]
  },
  {
   "cell_type": "markdown",
   "id": "16111bb7",
   "metadata": {},
   "source": [
    "### 1. 데이터 사전 탐구와 비엔나 병원의 출생자, 사망자 수 시각화하기\n",
    "\n",
    "- 우리(젬멜와이스)는 비엔나 종합병원에서 일하고 있다. 1840년대에 걸쳐 출산 및 산모 사망 횟수에 관해 우리가 수집해 온 데이터를 자세히 살펴보자\n",
    "\n",
    "<img src=\"assets/hp_history.png\">"
   ]
  },
  {
   "cell_type": "code",
   "execution_count": 1,
   "id": "983233ac",
   "metadata": {},
   "outputs": [],
   "source": [
    "# 필요한 패키지 불러오기 \n",
    "import pandas as pd \n",
    "import numpy as np \n",
    "import matplotlib.pyplot as plt\n",
    "import plotly.graph_objects as go \n",
    "import plotly.express as px \n",
    "import seaborn as sns\n",
    "\n",
    "import warnings\n",
    "warnings.filterwarnings('ignore')"
   ]
  },
  {
   "cell_type": "code",
   "execution_count": 3,
   "id": "996994c0",
   "metadata": {},
   "outputs": [],
   "source": [
    "# 데이터 불러오기 \n",
    "df_year = pd.read_csv('data/annual_deaths_by_clinic.csv')\n",
    "df_monthly = pd.read_csv('data/monthly_deaths.csv')"
   ]
  },
  {
   "cell_type": "code",
   "execution_count": 8,
   "id": "4ffa27a5",
   "metadata": {},
   "outputs": [
    {
     "name": "stdout",
     "output_type": "stream",
     "text": [
      "Year data shape is (12, 4)\n",
      "Monthly data shape is (98, 3)\n"
     ]
    }
   ],
   "source": [
    "# 데이터 수 확인\n",
    "print(f'Year data shape is {df_year.shape}')\n",
    "print(f'Monthly data shape is {df_monthly.shape}')"
   ]
  },
  {
   "cell_type": "code",
   "execution_count": 9,
   "id": "3dc1c6bc",
   "metadata": {},
   "outputs": [
    {
     "name": "stdout",
     "output_type": "stream",
     "text": [
      "<class 'pandas.core.frame.DataFrame'>\n",
      "RangeIndex: 12 entries, 0 to 11\n",
      "Data columns (total 4 columns):\n",
      " #   Column  Non-Null Count  Dtype \n",
      "---  ------  --------------  ----- \n",
      " 0   year    12 non-null     int64 \n",
      " 1   births  12 non-null     int64 \n",
      " 2   deaths  12 non-null     int64 \n",
      " 3   clinic  12 non-null     object\n",
      "dtypes: int64(3), object(1)\n",
      "memory usage: 512.0+ bytes\n"
     ]
    }
   ],
   "source": [
    "# 데이터 정보 1 - Year Data\n",
    "df_year.info()"
   ]
  },
  {
   "cell_type": "code",
   "execution_count": 10,
   "id": "49b62292",
   "metadata": {},
   "outputs": [
    {
     "name": "stdout",
     "output_type": "stream",
     "text": [
      "<class 'pandas.core.frame.DataFrame'>\n",
      "RangeIndex: 98 entries, 0 to 97\n",
      "Data columns (total 3 columns):\n",
      " #   Column  Non-Null Count  Dtype \n",
      "---  ------  --------------  ----- \n",
      " 0   date    98 non-null     object\n",
      " 1   births  98 non-null     int64 \n",
      " 2   deaths  98 non-null     int64 \n",
      "dtypes: int64(2), object(1)\n",
      "memory usage: 2.4+ KB\n"
     ]
    }
   ],
   "source": [
    "# 데이터 정보 2 - Monthly\n",
    "df_monthly.info()"
   ]
  },
  {
   "cell_type": "code",
   "execution_count": null,
   "id": "7b365ba5",
   "metadata": {},
   "outputs": [],
   "source": []
  }
 ],
 "metadata": {
  "kernelspec": {
   "display_name": "Python 3 (ipykernel)",
   "language": "python",
   "name": "python3"
  },
  "language_info": {
   "codemirror_mode": {
    "name": "ipython",
    "version": 3
   },
   "file_extension": ".py",
   "mimetype": "text/x-python",
   "name": "python",
   "nbconvert_exporter": "python",
   "pygments_lexer": "ipython3",
   "version": "3.8.12"
  }
 },
 "nbformat": 4,
 "nbformat_minor": 5
}
