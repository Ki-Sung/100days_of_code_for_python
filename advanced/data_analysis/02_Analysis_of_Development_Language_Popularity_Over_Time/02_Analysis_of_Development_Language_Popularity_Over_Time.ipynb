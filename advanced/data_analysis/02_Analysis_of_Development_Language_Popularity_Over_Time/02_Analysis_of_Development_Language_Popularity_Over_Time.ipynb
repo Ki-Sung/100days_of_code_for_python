{
 "cells": [
  {
   "cell_type": "markdown",
   "id": "574c7028",
   "metadata": {},
   "source": [
    "## 시간 흐름에 따른 개발 언어 인기도 분석 "
   ]
  },
  {
   "cell_type": "markdown",
   "id": "4c18e2c3",
   "metadata": {},
   "source": [
    "- 오늘날 여전히 사용되는 가장 오랜된 개발 언어는 1957년에 개발된 포트란(FORTRAN)이다. 이후로 많은 개발 언어가 발전해왔다. 그런데 가장 인기 있는 개발 언어는 무엇일까? \n",
    "- 이 뜨거운 질문에 대한 대한 답은 스택 오버플로우(Stack Overflow)에서 도움을 받을 수 있다. 스택 오버플로우의 각 게시물은 태그가 함께 제공되며, 개발 언어 이름이 태그가 될 수 있다. \n",
    "- 어떤 언어가 가장 인기 있는지 알아내려면 스택 오버플로우에서 각 언어로 태그가 지정된 게시물 수를 계산하면 된다.(가장 많은 게시물을 가진 언어가 바로 인기가 많은 개발 언어라고 할 수 있다.)"
   ]
  },
  {
   "cell_type": "markdown",
   "id": "b7f057be",
   "metadata": {},
   "source": [
    "### 여기서 배울 내용 \n",
    "1. 맷플롯립(Matplotlib)으로 데이터를 시각화 하고 차트를 만드는 법\n",
    "2. 판다스로 데이터를 피벗, 그룹화 및 조작하여 원하는 형식으로 가져오는 방법 \n",
    "3. 타임스템프 및 시계열 데이터로 작업하는 방법\n",
    "4. 원하는 대로 꺾은선형 차트의 스타일을 사용자 지정하는 방법"
   ]
  },
  {
   "cell_type": "code",
   "execution_count": null,
   "id": "3fcfd158",
   "metadata": {},
   "outputs": [],
   "source": []
  }
 ],
 "metadata": {
  "kernelspec": {
   "display_name": "Python 3 (ipykernel)",
   "language": "python",
   "name": "python3"
  },
  "language_info": {
   "codemirror_mode": {
    "name": "ipython",
    "version": 3
   },
   "file_extension": ".py",
   "mimetype": "text/x-python",
   "name": "python",
   "nbconvert_exporter": "python",
   "pygments_lexer": "ipython3",
   "version": "3.8.12"
  }
 },
 "nbformat": 4,
 "nbformat_minor": 5
}
