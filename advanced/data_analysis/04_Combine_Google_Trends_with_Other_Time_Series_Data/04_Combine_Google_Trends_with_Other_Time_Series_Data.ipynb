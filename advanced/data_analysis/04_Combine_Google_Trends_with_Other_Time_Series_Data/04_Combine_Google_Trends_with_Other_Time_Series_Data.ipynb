{
 "cells": [
  {
   "cell_type": "markdown",
   "id": "0c7a5009",
   "metadata": {},
   "source": [
    "## 구글 트렌드를 다른 시계열 데이터와 결합 \n",
    "\n",
    "<img src=\"data/google_trend.png\">\n",
    "\n",
    "- 검색어 인기도가 이 세상에 의미하는 것은 무엇일까? 구글 트렌드를 통해 구글 검색어의 인기도에 대해 접근이 가능하다.\n",
    "- 이번 시간을 통해 알아볼 사항은 아래와 같다 \n",
    "    - '비트코인' 검색량과 비트코인 가격의 관련성 \n",
    "    - 테슬라와 같은 인기 주식 검색량과 해당 주식 가격의 관련성 \n",
    "    - '실업 수당'에 대한 검색이 미국의 실제 실업률과 어떤 차이를 보이는지 확인\n",
    "\n",
    "- 이번 시간에서 배울 내용은 아래와 같다.\n",
    "    - 동일한 주기로 다시 샘플링하고 반환하여 비교 가능한 시계열데이터를 만드는 방법(예를 들어 일별 데이터에서 월별 데이터로)\n",
    "    - 범위 설정, 레이블, 선 스타일, 마커, 색상, 차트 해상도를 이용하여 맷플롯립 차트의 스타일 미세 조정\n",
    "    - 시계열의 계절성을 시각적으로 알아볼 수 있도록 그리드를 사용해보기\n",
    "    - 누락된 NaN인 값의 개수를 찾고 데이터프레임에서 NaN 값을 어떻게 찾는지\n",
    "    - 차트 시간축의 스타일 지정을 더 잘 하기 위해 로케이터로 작업하는 방법"
   ]
  },
  {
   "cell_type": "markdown",
   "id": "f30b3c36",
   "metadata": {},
   "source": [
    "### 1. 데이터 탐색 - 구글 검색 데이터 이해하기 "
   ]
  },
  {
   "cell_type": "code",
   "execution_count": 1,
   "id": "ca4d92d2",
   "metadata": {},
   "outputs": [],
   "source": [
    "# 필요한 모듈 임포트 \n",
    "import pandas as pd \n",
    "import matplotlib.pyplot as plt \n",
    "\n",
    "import warnings\n",
    "warnings.filterwarnings('ignore')"
   ]
  },
  {
   "cell_type": "markdown",
   "id": "7ccce1e8",
   "metadata": {},
   "source": [
    "#### 1-1. 테슬라 트렌드 데이터 "
   ]
  },
  {
   "cell_type": "code",
   "execution_count": 16,
   "id": "dabaeb60",
   "metadata": {},
   "outputs": [
    {
     "name": "stdout",
     "output_type": "stream",
     "text": [
      "(124, 3)\n"
     ]
    },
    {
     "data": {
      "text/html": [
       "<div>\n",
       "<style scoped>\n",
       "    .dataframe tbody tr th:only-of-type {\n",
       "        vertical-align: middle;\n",
       "    }\n",
       "\n",
       "    .dataframe tbody tr th {\n",
       "        vertical-align: top;\n",
       "    }\n",
       "\n",
       "    .dataframe thead th {\n",
       "        text-align: right;\n",
       "    }\n",
       "</style>\n",
       "<table border=\"1\" class=\"dataframe\">\n",
       "  <thead>\n",
       "    <tr style=\"text-align: right;\">\n",
       "      <th></th>\n",
       "      <th>MONTH</th>\n",
       "      <th>TSLA_WEB_SEARCH</th>\n",
       "      <th>TSLA_USD_CLOSE</th>\n",
       "    </tr>\n",
       "  </thead>\n",
       "  <tbody>\n",
       "    <tr>\n",
       "      <th>0</th>\n",
       "      <td>2010-06-01</td>\n",
       "      <td>3</td>\n",
       "      <td>4.766</td>\n",
       "    </tr>\n",
       "    <tr>\n",
       "      <th>1</th>\n",
       "      <td>2010-07-01</td>\n",
       "      <td>3</td>\n",
       "      <td>3.988</td>\n",
       "    </tr>\n",
       "    <tr>\n",
       "      <th>2</th>\n",
       "      <td>2010-08-01</td>\n",
       "      <td>2</td>\n",
       "      <td>3.896</td>\n",
       "    </tr>\n",
       "    <tr>\n",
       "      <th>3</th>\n",
       "      <td>2010-09-01</td>\n",
       "      <td>2</td>\n",
       "      <td>4.082</td>\n",
       "    </tr>\n",
       "    <tr>\n",
       "      <th>4</th>\n",
       "      <td>2010-10-01</td>\n",
       "      <td>2</td>\n",
       "      <td>4.368</td>\n",
       "    </tr>\n",
       "  </tbody>\n",
       "</table>\n",
       "</div>"
      ],
      "text/plain": [
       "        MONTH  TSLA_WEB_SEARCH  TSLA_USD_CLOSE\n",
       "0  2010-06-01                3           4.766\n",
       "1  2010-07-01                3           3.988\n",
       "2  2010-08-01                2           3.896\n",
       "3  2010-09-01                2           4.082\n",
       "4  2010-10-01                2           4.368"
      ]
     },
     "execution_count": 16,
     "metadata": {},
     "output_type": "execute_result"
    }
   ],
   "source": [
    "# 데이터 불러오기 1 - 테슬라 트렌드 데이터\n",
    "df_tesla = pd.read_csv('data/TESLA Search Trend vs Price.csv')\n",
    "print(df_tesla.shape)\n",
    "df_tesla.head()"
   ]
  },
  {
   "cell_type": "markdown",
   "id": "5a7181e2",
   "metadata": {},
   "source": [
    "- 테슬라 데이터의 경우 124 행과 3 열로 구성 되어 있다. \n",
    "- 테슬라 데이터의 컬럼 정보는 아래와 같다 \n",
    "    - **MONTH**: 월별 날짜 \n",
    "    - **TSLA_WEB_SEARCH**: 테슬라 웹 서치 결과(인기도)\n",
    "    - **TSLA_USD_CLOSE**: 테슬라 주가 종가기준 가격"
   ]
  },
  {
   "cell_type": "code",
   "execution_count": 17,
   "id": "b4cd9305",
   "metadata": {},
   "outputs": [
    {
     "data": {
      "text/html": [
       "<div>\n",
       "<style scoped>\n",
       "    .dataframe tbody tr th:only-of-type {\n",
       "        vertical-align: middle;\n",
       "    }\n",
       "\n",
       "    .dataframe tbody tr th {\n",
       "        vertical-align: top;\n",
       "    }\n",
       "\n",
       "    .dataframe thead th {\n",
       "        text-align: right;\n",
       "    }\n",
       "</style>\n",
       "<table border=\"1\" class=\"dataframe\">\n",
       "  <thead>\n",
       "    <tr style=\"text-align: right;\">\n",
       "      <th></th>\n",
       "      <th>TSLA_WEB_SEARCH</th>\n",
       "      <th>TSLA_USD_CLOSE</th>\n",
       "    </tr>\n",
       "  </thead>\n",
       "  <tbody>\n",
       "    <tr>\n",
       "      <th>count</th>\n",
       "      <td>124.000000</td>\n",
       "      <td>124.000000</td>\n",
       "    </tr>\n",
       "    <tr>\n",
       "      <th>mean</th>\n",
       "      <td>8.725806</td>\n",
       "      <td>50.962145</td>\n",
       "    </tr>\n",
       "    <tr>\n",
       "      <th>std</th>\n",
       "      <td>5.870332</td>\n",
       "      <td>65.908389</td>\n",
       "    </tr>\n",
       "    <tr>\n",
       "      <th>min</th>\n",
       "      <td>2.000000</td>\n",
       "      <td>3.896000</td>\n",
       "    </tr>\n",
       "    <tr>\n",
       "      <th>25%</th>\n",
       "      <td>3.750000</td>\n",
       "      <td>7.352500</td>\n",
       "    </tr>\n",
       "    <tr>\n",
       "      <th>50%</th>\n",
       "      <td>8.000000</td>\n",
       "      <td>44.653000</td>\n",
       "    </tr>\n",
       "    <tr>\n",
       "      <th>75%</th>\n",
       "      <td>12.000000</td>\n",
       "      <td>58.991999</td>\n",
       "    </tr>\n",
       "    <tr>\n",
       "      <th>max</th>\n",
       "      <td>31.000000</td>\n",
       "      <td>498.320007</td>\n",
       "    </tr>\n",
       "  </tbody>\n",
       "</table>\n",
       "</div>"
      ],
      "text/plain": [
       "       TSLA_WEB_SEARCH  TSLA_USD_CLOSE\n",
       "count       124.000000      124.000000\n",
       "mean          8.725806       50.962145\n",
       "std           5.870332       65.908389\n",
       "min           2.000000        3.896000\n",
       "25%           3.750000        7.352500\n",
       "50%           8.000000       44.653000\n",
       "75%          12.000000       58.991999\n",
       "max          31.000000      498.320007"
      ]
     },
     "execution_count": 17,
     "metadata": {},
     "output_type": "execute_result"
    }
   ],
   "source": [
    "# 테슬라 데이터의 통계 설명 추출 \n",
    "df_tesla.describe()"
   ]
  },
  {
   "cell_type": "code",
   "execution_count": 18,
   "id": "7b040329",
   "metadata": {},
   "outputs": [
    {
     "name": "stdout",
     "output_type": "stream",
     "text": [
      "Largest value for Tesla in Web Search: 31\n",
      "Smallest value for Tesla in Web Search: 2\n"
     ]
    }
   ],
   "source": [
    "# 테슬라 트렌드 검색량 최대, 최소값 추출\n",
    "print(f'Largest value for Tesla in Web Search: {df_tesla.TSLA_WEB_SEARCH.max()}')\n",
    "print(f'Smallest value for Tesla in Web Search: {df_tesla.TSLA_WEB_SEARCH.min()}')"
   ]
  },
  {
   "cell_type": "markdown",
   "id": "d07444dc",
   "metadata": {},
   "source": [
    "- 데이터프레임에서 \".describe()\" 함수를 사용하면 많은 통계 설명을 볼 수 있다.\n",
    "    - count: 컬럼별 총 데이터 수\n",
    "    - mean /std: 컬럼별 데이터 평균 / 표준편차 \n",
    "    - min / max: 컬럼별 데이터 최소값 / 최대값\n",
    "    - 25% / 50% / 75%: 백분위수의 각 지점으로, 분포를 반영해 평균을 보완하는 목적으로 사용.\n",
    "- 테슬라의 최대 검색량은 \"31\"건, 최소 검색량은 \"2\"건으로 확인된다. "
   ]
  },
  {
   "cell_type": "markdown",
   "id": "a3ea981e",
   "metadata": {},
   "source": [
    "#### 1-2. 실업률 트렌드 데이터"
   ]
  },
  {
   "cell_type": "code",
   "execution_count": 19,
   "id": "3cbfc6a3",
   "metadata": {},
   "outputs": [
    {
     "name": "stdout",
     "output_type": "stream",
     "text": [
      "(181, 3)\n"
     ]
    },
    {
     "data": {
      "text/html": [
       "<div>\n",
       "<style scoped>\n",
       "    .dataframe tbody tr th:only-of-type {\n",
       "        vertical-align: middle;\n",
       "    }\n",
       "\n",
       "    .dataframe tbody tr th {\n",
       "        vertical-align: top;\n",
       "    }\n",
       "\n",
       "    .dataframe thead th {\n",
       "        text-align: right;\n",
       "    }\n",
       "</style>\n",
       "<table border=\"1\" class=\"dataframe\">\n",
       "  <thead>\n",
       "    <tr style=\"text-align: right;\">\n",
       "      <th></th>\n",
       "      <th>MONTH</th>\n",
       "      <th>UE_BENEFITS_WEB_SEARCH</th>\n",
       "      <th>UNRATE</th>\n",
       "    </tr>\n",
       "  </thead>\n",
       "  <tbody>\n",
       "    <tr>\n",
       "      <th>0</th>\n",
       "      <td>2004-01</td>\n",
       "      <td>34</td>\n",
       "      <td>5.7</td>\n",
       "    </tr>\n",
       "    <tr>\n",
       "      <th>1</th>\n",
       "      <td>2004-02</td>\n",
       "      <td>33</td>\n",
       "      <td>5.6</td>\n",
       "    </tr>\n",
       "    <tr>\n",
       "      <th>2</th>\n",
       "      <td>2004-03</td>\n",
       "      <td>25</td>\n",
       "      <td>5.8</td>\n",
       "    </tr>\n",
       "    <tr>\n",
       "      <th>3</th>\n",
       "      <td>2004-04</td>\n",
       "      <td>29</td>\n",
       "      <td>5.6</td>\n",
       "    </tr>\n",
       "    <tr>\n",
       "      <th>4</th>\n",
       "      <td>2004-05</td>\n",
       "      <td>23</td>\n",
       "      <td>5.6</td>\n",
       "    </tr>\n",
       "  </tbody>\n",
       "</table>\n",
       "</div>"
      ],
      "text/plain": [
       "     MONTH  UE_BENEFITS_WEB_SEARCH  UNRATE\n",
       "0  2004-01                      34     5.7\n",
       "1  2004-02                      33     5.6\n",
       "2  2004-03                      25     5.8\n",
       "3  2004-04                      29     5.6\n",
       "4  2004-05                      23     5.6"
      ]
     },
     "execution_count": 19,
     "metadata": {},
     "output_type": "execute_result"
    }
   ],
   "source": [
    "# 데이터 불러오기 - 실업률 트렌드 데이터 \n",
    "df_unemployment = pd.read_csv('data/UE Benefits Search vs UE Rate 2004-19.csv')\n",
    "print(df_unemployment.shape)\n",
    "df_unemployment.head()"
   ]
  },
  {
   "cell_type": "code",
   "execution_count": 14,
   "id": "93bbde47",
   "metadata": {},
   "outputs": [
    {
     "data": {
      "text/html": [
       "<div>\n",
       "<style scoped>\n",
       "    .dataframe tbody tr th:only-of-type {\n",
       "        vertical-align: middle;\n",
       "    }\n",
       "\n",
       "    .dataframe tbody tr th {\n",
       "        vertical-align: top;\n",
       "    }\n",
       "\n",
       "    .dataframe thead th {\n",
       "        text-align: right;\n",
       "    }\n",
       "</style>\n",
       "<table border=\"1\" class=\"dataframe\">\n",
       "  <thead>\n",
       "    <tr style=\"text-align: right;\">\n",
       "      <th></th>\n",
       "      <th>UE_BENEFITS_WEB_SEARCH</th>\n",
       "      <th>UNRATE</th>\n",
       "    </tr>\n",
       "  </thead>\n",
       "  <tbody>\n",
       "    <tr>\n",
       "      <th>count</th>\n",
       "      <td>181.000000</td>\n",
       "      <td>181.000000</td>\n",
       "    </tr>\n",
       "    <tr>\n",
       "      <th>mean</th>\n",
       "      <td>35.110497</td>\n",
       "      <td>6.217680</td>\n",
       "    </tr>\n",
       "    <tr>\n",
       "      <th>std</th>\n",
       "      <td>20.484925</td>\n",
       "      <td>1.891859</td>\n",
       "    </tr>\n",
       "    <tr>\n",
       "      <th>min</th>\n",
       "      <td>14.000000</td>\n",
       "      <td>3.700000</td>\n",
       "    </tr>\n",
       "    <tr>\n",
       "      <th>25%</th>\n",
       "      <td>21.000000</td>\n",
       "      <td>4.700000</td>\n",
       "    </tr>\n",
       "    <tr>\n",
       "      <th>50%</th>\n",
       "      <td>26.000000</td>\n",
       "      <td>5.400000</td>\n",
       "    </tr>\n",
       "    <tr>\n",
       "      <th>75%</th>\n",
       "      <td>45.000000</td>\n",
       "      <td>7.800000</td>\n",
       "    </tr>\n",
       "    <tr>\n",
       "      <th>max</th>\n",
       "      <td>100.000000</td>\n",
       "      <td>10.000000</td>\n",
       "    </tr>\n",
       "  </tbody>\n",
       "</table>\n",
       "</div>"
      ],
      "text/plain": [
       "       UE_BENEFITS_WEB_SEARCH      UNRATE\n",
       "count              181.000000  181.000000\n",
       "mean                35.110497    6.217680\n",
       "std                 20.484925    1.891859\n",
       "min                 14.000000    3.700000\n",
       "25%                 21.000000    4.700000\n",
       "50%                 26.000000    5.400000\n",
       "75%                 45.000000    7.800000\n",
       "max                100.000000   10.000000"
      ]
     },
     "execution_count": 14,
     "metadata": {},
     "output_type": "execute_result"
    }
   ],
   "source": [
    "# 실업률 트렌드 데이터 통계 설명\n",
    "df_unemployment.describe()"
   ]
  },
  {
   "cell_type": "code",
   "execution_count": 27,
   "id": "87a5bf48",
   "metadata": {},
   "outputs": [
    {
     "name": "stdout",
     "output_type": "stream",
     "text": [
      "Largest value for UE Benefits in Web Search: 100\n",
      "Smallest value for UE Benefits in Web Search: 14\n"
     ]
    }
   ],
   "source": [
    "# 실업률 트렌드 검색량 최대, 최소값 추출\n",
    "print(f'Largest value for UE Benefits in Web Search: {df_unemployment.UE_BENEFITS_WEB_SEARCH.max()}')\n",
    "print(f'Smallest value for UE Benefits in Web Search: {df_unemployment.UE_BENEFITS_WEB_SEARCH.min()}')"
   ]
  },
  {
   "cell_type": "markdown",
   "id": "90111de9",
   "metadata": {},
   "source": [
    "- 실업률 데이터의 경우 181 행과 3 열로 구성 되어 있다.\n",
    "- 실업률 데이터의 컬럼 정보는 아래와 같다.\n",
    "    - MONTH: 월별 날짜\n",
    "    - UE_BENEFITS_WEB_SEARCH: 실업률 웹 서치 결과(인기도)\n",
    "    - UNRATE: 실재 실업률 \n",
    "- 실업률의 최대 검색량은 \"100\"건, 최소 검색량은 \"14\"건으로 확인된다."
   ]
  },
  {
   "cell_type": "markdown",
   "id": "bd7af6e6",
   "metadata": {},
   "source": [
    "#### 1-3 .비트코인 트렌드 데이터"
   ]
  },
  {
   "cell_type": "code",
   "execution_count": 23,
   "id": "8d8aea40",
   "metadata": {},
   "outputs": [
    {
     "name": "stdout",
     "output_type": "stream",
     "text": [
      "(2204, 3)\n"
     ]
    },
    {
     "data": {
      "text/html": [
       "<div>\n",
       "<style scoped>\n",
       "    .dataframe tbody tr th:only-of-type {\n",
       "        vertical-align: middle;\n",
       "    }\n",
       "\n",
       "    .dataframe tbody tr th {\n",
       "        vertical-align: top;\n",
       "    }\n",
       "\n",
       "    .dataframe thead th {\n",
       "        text-align: right;\n",
       "    }\n",
       "</style>\n",
       "<table border=\"1\" class=\"dataframe\">\n",
       "  <thead>\n",
       "    <tr style=\"text-align: right;\">\n",
       "      <th></th>\n",
       "      <th>DATE</th>\n",
       "      <th>CLOSE</th>\n",
       "      <th>VOLUME</th>\n",
       "    </tr>\n",
       "  </thead>\n",
       "  <tbody>\n",
       "    <tr>\n",
       "      <th>0</th>\n",
       "      <td>2014-09-17</td>\n",
       "      <td>457.334015</td>\n",
       "      <td>21056800.0</td>\n",
       "    </tr>\n",
       "    <tr>\n",
       "      <th>1</th>\n",
       "      <td>2014-09-18</td>\n",
       "      <td>424.440002</td>\n",
       "      <td>34483200.0</td>\n",
       "    </tr>\n",
       "    <tr>\n",
       "      <th>2</th>\n",
       "      <td>2014-09-19</td>\n",
       "      <td>394.795990</td>\n",
       "      <td>37919700.0</td>\n",
       "    </tr>\n",
       "    <tr>\n",
       "      <th>3</th>\n",
       "      <td>2014-09-20</td>\n",
       "      <td>408.903992</td>\n",
       "      <td>36863600.0</td>\n",
       "    </tr>\n",
       "    <tr>\n",
       "      <th>4</th>\n",
       "      <td>2014-09-21</td>\n",
       "      <td>398.821014</td>\n",
       "      <td>26580100.0</td>\n",
       "    </tr>\n",
       "  </tbody>\n",
       "</table>\n",
       "</div>"
      ],
      "text/plain": [
       "         DATE       CLOSE      VOLUME\n",
       "0  2014-09-17  457.334015  21056800.0\n",
       "1  2014-09-18  424.440002  34483200.0\n",
       "2  2014-09-19  394.795990  37919700.0\n",
       "3  2014-09-20  408.903992  36863600.0\n",
       "4  2014-09-21  398.821014  26580100.0"
      ]
     },
     "execution_count": 23,
     "metadata": {},
     "output_type": "execute_result"
    }
   ],
   "source": [
    "# 데이터 불러오기 3 - 비트코인 가격 데이터\n",
    "df_btc_price = pd.read_csv('data/Daily Bitcoin Price.csv')\n",
    "print(df_btc_price.shape)\n",
    "df_btc_price.head()"
   ]
  },
  {
   "cell_type": "code",
   "execution_count": 24,
   "id": "140b44cf",
   "metadata": {},
   "outputs": [
    {
     "name": "stdout",
     "output_type": "stream",
     "text": [
      "(73, 2)\n"
     ]
    },
    {
     "data": {
      "text/html": [
       "<div>\n",
       "<style scoped>\n",
       "    .dataframe tbody tr th:only-of-type {\n",
       "        vertical-align: middle;\n",
       "    }\n",
       "\n",
       "    .dataframe tbody tr th {\n",
       "        vertical-align: top;\n",
       "    }\n",
       "\n",
       "    .dataframe thead th {\n",
       "        text-align: right;\n",
       "    }\n",
       "</style>\n",
       "<table border=\"1\" class=\"dataframe\">\n",
       "  <thead>\n",
       "    <tr style=\"text-align: right;\">\n",
       "      <th></th>\n",
       "      <th>MONTH</th>\n",
       "      <th>BTC_NEWS_SEARCH</th>\n",
       "    </tr>\n",
       "  </thead>\n",
       "  <tbody>\n",
       "    <tr>\n",
       "      <th>0</th>\n",
       "      <td>2014-09</td>\n",
       "      <td>5</td>\n",
       "    </tr>\n",
       "    <tr>\n",
       "      <th>1</th>\n",
       "      <td>2014-10</td>\n",
       "      <td>4</td>\n",
       "    </tr>\n",
       "    <tr>\n",
       "      <th>2</th>\n",
       "      <td>2014-11</td>\n",
       "      <td>4</td>\n",
       "    </tr>\n",
       "    <tr>\n",
       "      <th>3</th>\n",
       "      <td>2014-12</td>\n",
       "      <td>4</td>\n",
       "    </tr>\n",
       "    <tr>\n",
       "      <th>4</th>\n",
       "      <td>2015-01</td>\n",
       "      <td>5</td>\n",
       "    </tr>\n",
       "  </tbody>\n",
       "</table>\n",
       "</div>"
      ],
      "text/plain": [
       "     MONTH  BTC_NEWS_SEARCH\n",
       "0  2014-09                5\n",
       "1  2014-10                4\n",
       "2  2014-11                4\n",
       "3  2014-12                4\n",
       "4  2015-01                5"
      ]
     },
     "execution_count": 24,
     "metadata": {},
     "output_type": "execute_result"
    }
   ],
   "source": [
    "# 데이터 불러오기 4 - 비트코인 트렌드 데이터 \n",
    "df_btc_search = pd.read_csv('data/Bitcoin Search Trend.csv')\n",
    "print(df_btc_search.shape)\n",
    "df_btc_search.head()"
   ]
  },
  {
   "cell_type": "code",
   "execution_count": 25,
   "id": "80e68d30",
   "metadata": {},
   "outputs": [
    {
     "data": {
      "text/html": [
       "<div>\n",
       "<style scoped>\n",
       "    .dataframe tbody tr th:only-of-type {\n",
       "        vertical-align: middle;\n",
       "    }\n",
       "\n",
       "    .dataframe tbody tr th {\n",
       "        vertical-align: top;\n",
       "    }\n",
       "\n",
       "    .dataframe thead th {\n",
       "        text-align: right;\n",
       "    }\n",
       "</style>\n",
       "<table border=\"1\" class=\"dataframe\">\n",
       "  <thead>\n",
       "    <tr style=\"text-align: right;\">\n",
       "      <th></th>\n",
       "      <th>CLOSE</th>\n",
       "      <th>VOLUME</th>\n",
       "    </tr>\n",
       "  </thead>\n",
       "  <tbody>\n",
       "    <tr>\n",
       "      <th>count</th>\n",
       "      <td>2203.000000</td>\n",
       "      <td>2.203000e+03</td>\n",
       "    </tr>\n",
       "    <tr>\n",
       "      <th>mean</th>\n",
       "      <td>4429.421245</td>\n",
       "      <td>8.043622e+09</td>\n",
       "    </tr>\n",
       "    <tr>\n",
       "      <th>std</th>\n",
       "      <td>4148.150071</td>\n",
       "      <td>1.176529e+10</td>\n",
       "    </tr>\n",
       "    <tr>\n",
       "      <th>min</th>\n",
       "      <td>178.102997</td>\n",
       "      <td>5.914570e+06</td>\n",
       "    </tr>\n",
       "    <tr>\n",
       "      <th>25%</th>\n",
       "      <td>433.629502</td>\n",
       "      <td>6.029915e+07</td>\n",
       "    </tr>\n",
       "    <tr>\n",
       "      <th>50%</th>\n",
       "      <td>3637.520020</td>\n",
       "      <td>2.018890e+09</td>\n",
       "    </tr>\n",
       "    <tr>\n",
       "      <th>75%</th>\n",
       "      <td>7997.372803</td>\n",
       "      <td>1.322478e+10</td>\n",
       "    </tr>\n",
       "    <tr>\n",
       "      <th>max</th>\n",
       "      <td>19497.400391</td>\n",
       "      <td>7.415677e+10</td>\n",
       "    </tr>\n",
       "  </tbody>\n",
       "</table>\n",
       "</div>"
      ],
      "text/plain": [
       "              CLOSE        VOLUME\n",
       "count   2203.000000  2.203000e+03\n",
       "mean    4429.421245  8.043622e+09\n",
       "std     4148.150071  1.176529e+10\n",
       "min      178.102997  5.914570e+06\n",
       "25%      433.629502  6.029915e+07\n",
       "50%     3637.520020  2.018890e+09\n",
       "75%     7997.372803  1.322478e+10\n",
       "max    19497.400391  7.415677e+10"
      ]
     },
     "execution_count": 25,
     "metadata": {},
     "output_type": "execute_result"
    }
   ],
   "source": [
    "# 비트코인 가격 데이터 통계 설명\n",
    "df_btc_price.describe()"
   ]
  },
  {
   "cell_type": "code",
   "execution_count": 26,
   "id": "3e150b9f",
   "metadata": {},
   "outputs": [
    {
     "data": {
      "text/html": [
       "<div>\n",
       "<style scoped>\n",
       "    .dataframe tbody tr th:only-of-type {\n",
       "        vertical-align: middle;\n",
       "    }\n",
       "\n",
       "    .dataframe tbody tr th {\n",
       "        vertical-align: top;\n",
       "    }\n",
       "\n",
       "    .dataframe thead th {\n",
       "        text-align: right;\n",
       "    }\n",
       "</style>\n",
       "<table border=\"1\" class=\"dataframe\">\n",
       "  <thead>\n",
       "    <tr style=\"text-align: right;\">\n",
       "      <th></th>\n",
       "      <th>BTC_NEWS_SEARCH</th>\n",
       "    </tr>\n",
       "  </thead>\n",
       "  <tbody>\n",
       "    <tr>\n",
       "      <th>count</th>\n",
       "      <td>73.000000</td>\n",
       "    </tr>\n",
       "    <tr>\n",
       "      <th>mean</th>\n",
       "      <td>15.013699</td>\n",
       "    </tr>\n",
       "    <tr>\n",
       "      <th>std</th>\n",
       "      <td>15.146959</td>\n",
       "    </tr>\n",
       "    <tr>\n",
       "      <th>min</th>\n",
       "      <td>3.000000</td>\n",
       "    </tr>\n",
       "    <tr>\n",
       "      <th>25%</th>\n",
       "      <td>5.000000</td>\n",
       "    </tr>\n",
       "    <tr>\n",
       "      <th>50%</th>\n",
       "      <td>14.000000</td>\n",
       "    </tr>\n",
       "    <tr>\n",
       "      <th>75%</th>\n",
       "      <td>18.000000</td>\n",
       "    </tr>\n",
       "    <tr>\n",
       "      <th>max</th>\n",
       "      <td>100.000000</td>\n",
       "    </tr>\n",
       "  </tbody>\n",
       "</table>\n",
       "</div>"
      ],
      "text/plain": [
       "       BTC_NEWS_SEARCH\n",
       "count        73.000000\n",
       "mean         15.013699\n",
       "std          15.146959\n",
       "min           3.000000\n",
       "25%           5.000000\n",
       "50%          14.000000\n",
       "75%          18.000000\n",
       "max         100.000000"
      ]
     },
     "execution_count": 26,
     "metadata": {},
     "output_type": "execute_result"
    }
   ],
   "source": [
    "# 비트코인 트렌드 데이터 통계 설명\n",
    "df_btc_search.describe()"
   ]
  },
  {
   "cell_type": "code",
   "execution_count": 29,
   "id": "dc1d4888",
   "metadata": {},
   "outputs": [
    {
     "name": "stdout",
     "output_type": "stream",
     "text": [
      "Largest value for BTC News Search in Web Search: 100\n",
      "Smallest value for BTC News Searc in Web Search: 3\n"
     ]
    }
   ],
   "source": [
    "# 비트코인 트렌드 검색량 최대, 최소값 추출\n",
    "print(f'Largest value for BTC News Search in Web Search: {df_btc_search.BTC_NEWS_SEARCH.max()}')\n",
    "print(f'Smallest value for BTC News Searc in Web Search: {df_btc_search.BTC_NEWS_SEARCH.min()}')"
   ]
  },
  {
   "cell_type": "markdown",
   "id": "0882c6f0",
   "metadata": {},
   "source": [
    "- 비트코인 데이터는 총 2개의 데이터가 존재한다. 일별 비트코인의 종가와 거래량을 알 수 있는 \"Daily Bitcoin Price.csv\"와 비트코인의 구글 트렌드에서 나온 \"Bitcoin Search Trend.csv\" 이다.\n",
    "- 먼저 일별 비트코인 종가 및 거래량 데이터의 컬럼의 의미는 아래와 같다.\n",
    "    - DATE: 일별 날짜\n",
    "    - CLOSE: 일별 비트코인의 종가\n",
    "    - VOLUME: 일별 비트코인 거래량\n",
    "- 비트코인 구글 트렌드 데이트의 컬럼의 의미는 아래와 같다.\n",
    "    - MONTH: 월별 날짜\n",
    "    - BTC_NEWS_SEARCH: 비트코인 뉴스 검색량 \n",
    "- 비트코인 뉴스의 최대 검색량은 \"100\"건, 최소 검색량은 \"3\"건으로 확인된다."
   ]
  },
  {
   "cell_type": "markdown",
   "id": "e0ea31a2",
   "metadata": {},
   "source": [
    "#### 1-4. 검색 숫자가 의미하는 것은 무엇일까? \n",
    "- 데이터프레임에서 구글의 검색 관심도 범위는 0에서 100 사이라는 점을 알 수 있다. 그런데 이것이 의미하는 것은 무엇일까? 구글이 검색 관심도 값을 정의하는 법은 아래와 같다. \n",
    "    - 검색 관심도 값은 주어진 지역 및 시간에 대한 차트상의 최대치에 대한 상대적 검색 관심도를 나타낸다. \n",
    "    - 100의 값은 용어의 관심도가 가질 수 있는 최고치이다. \n",
    "    - 50의 값은 중간 정도 인기가 있음을 의미힌다. \n",
    "    - 0 점은 해당 용어에 대한 충분한 데이터가 없음을 의미힌다. \n",
    "- 기본적으로 실제 검색량은 공개된 정보가 아니며, 구글은 조정된 수치만을 제공한다. \n",
    "- 각각의 데이터 수치는 상대적 인기도를 비교하기 위해 해당 검색 지역 및 시간 범위 별로 나눠진다. \n",
    "- 검색어 각각에 대해 구글은 각 지역과 기간별 총 검색량과 우리가 검색한 검색어 간의 관련성을 찾아준다. 그 다음 이 모든 측정값을 단일 인기도 측정값으로 결합해주고 주제 전체에 걸쳐 값을 조정한다. \n",
    "- 즉, 구글 트렌드는 해당 주제와 관련된 검색이 몇 건 되었는지 정확한 수를 알려주기보다 보기 좋게 가공한 결과를 제시한다. \n",
    "- 다음은 해당 csv 데이터를 생성하기 위해 사용했던 구글 트렌드 검색 매개변수 이다. \n",
    "    -  \"Tesla\", 전세계, 웹 검색\n",
    "    - \"Bitcoin\", 전세계, 뉴스 검색\n",
    "    - \"Unemployment Benefits\", 미국, 웹 검색\n",
    "    \n",
    "<img src=\"data/google_parameter.png\">"
   ]
  },
  {
   "cell_type": "markdown",
   "id": "cede0375",
   "metadata": {},
   "source": [
    "### 2. 데이터 정리 - 시계열 데이터를 다시 샘플링 하기 "
   ]
  },
  {
   "cell_type": "markdown",
   "id": "a1be1fb1",
   "metadata": {},
   "source": [
    "#### 2-1. 누락된 값 찾기 \n",
    "- 첫째로, 데이터프레임에 누락된 값 혹은 가비지 값은 없는지 확인해야 한다."
   ]
  },
  {
   "cell_type": "code",
   "execution_count": 32,
   "id": "9b423807",
   "metadata": {},
   "outputs": [
    {
     "data": {
      "text/plain": [
       "MONTH              0\n",
       "TSLA_WEB_SEARCH    0\n",
       "TSLA_USD_CLOSE     0\n",
       "dtype: int64"
      ]
     },
     "execution_count": 32,
     "metadata": {},
     "output_type": "execute_result"
    }
   ],
   "source": [
    "# 테슬라 데이터 결측치 확인 \n",
    "df_tesla.isna().sum()"
   ]
  },
  {
   "cell_type": "code",
   "execution_count": 33,
   "id": "eee15aa8",
   "metadata": {},
   "outputs": [
    {
     "data": {
      "text/plain": [
       "MONTH                     0\n",
       "UE_BENEFITS_WEB_SEARCH    0\n",
       "UNRATE                    0\n",
       "dtype: int64"
      ]
     },
     "execution_count": 33,
     "metadata": {},
     "output_type": "execute_result"
    }
   ],
   "source": [
    "# 실업률 데이이터 결측치 확인\n",
    "df_unemployment.isna().sum()"
   ]
  },
  {
   "cell_type": "code",
   "execution_count": 36,
   "id": "bd6be0f4",
   "metadata": {},
   "outputs": [
    {
     "data": {
      "text/plain": [
       "DATE      0\n",
       "CLOSE     1\n",
       "VOLUME    1\n",
       "dtype: int64"
      ]
     },
     "execution_count": 36,
     "metadata": {},
     "output_type": "execute_result"
    }
   ],
   "source": [
    "# 비트코인 가격 데이터 결측치 확인\n",
    "df_btc_price.isna().sum()"
   ]
  },
  {
   "cell_type": "code",
   "execution_count": 34,
   "id": "de718e6b",
   "metadata": {},
   "outputs": [
    {
     "data": {
      "text/plain": [
       "MONTH              0\n",
       "BTC_NEWS_SEARCH    0\n",
       "dtype: int64"
      ]
     },
     "execution_count": 34,
     "metadata": {},
     "output_type": "execute_result"
    }
   ],
   "source": [
    "# 비트코인 트렌드 결측치 확인\n",
    "df_btc_search.isna().sum()"
   ]
  },
  {
   "cell_type": "code",
   "execution_count": 45,
   "id": "1a1f0b29",
   "metadata": {},
   "outputs": [
    {
     "name": "stdout",
     "output_type": "stream",
     "text": [
      "Missing values? for BTC price?: True\n",
      "Number of missing values?: 2\n"
     ]
    },
    {
     "data": {
      "text/html": [
       "<div>\n",
       "<style scoped>\n",
       "    .dataframe tbody tr th:only-of-type {\n",
       "        vertical-align: middle;\n",
       "    }\n",
       "\n",
       "    .dataframe tbody tr th {\n",
       "        vertical-align: top;\n",
       "    }\n",
       "\n",
       "    .dataframe thead th {\n",
       "        text-align: right;\n",
       "    }\n",
       "</style>\n",
       "<table border=\"1\" class=\"dataframe\">\n",
       "  <thead>\n",
       "    <tr style=\"text-align: right;\">\n",
       "      <th></th>\n",
       "      <th>DATE</th>\n",
       "      <th>CLOSE</th>\n",
       "      <th>VOLUME</th>\n",
       "    </tr>\n",
       "  </thead>\n",
       "  <tbody>\n",
       "    <tr>\n",
       "      <th>2148</th>\n",
       "      <td>2020-08-04</td>\n",
       "      <td>NaN</td>\n",
       "      <td>NaN</td>\n",
       "    </tr>\n",
       "  </tbody>\n",
       "</table>\n",
       "</div>"
      ],
      "text/plain": [
       "            DATE  CLOSE  VOLUME\n",
       "2148  2020-08-04    NaN     NaN"
      ]
     },
     "execution_count": 45,
     "metadata": {},
     "output_type": "execute_result"
    }
   ],
   "source": [
    "# 결측치 및 결측값, 결측치 컬럼 정리 \n",
    "print(f\"Missing values? for BTC price?: {df_btc_price.isna().values.any()}\")\n",
    "print(f'Number of missing values?: {df_btc_price.isna().values.sum()}')\n",
    "df_btc_price[df_btc_price.CLOSE.isna()]"
   ]
  },
  {
   "cell_type": "markdown",
   "id": "731eaeee",
   "metadata": {},
   "source": [
    "- 데이터프레임 모두 살펴본 결과 \"비트코인 가격 데이터\"에서 누락된 값이 발견 되었다.\n",
    "- 여기서 결측치는 증명할 수 있는 방법은 \".isna()\" 메소드를 이용하는 것이다. 이는 불리언 값 전체를 반환하지만 \".values.any()\"를 연결해서 시리즈의 값이 \"True\"라는 것을 알 수 있다.\n",
    "- 누락된 값의 개수는 \".sum()\"을 사용하여 시리즈 내 \"True\" 발생 건수의 총 합을 구한다.\n",
    "- 누락된 값이 발생하는 행을 찾기 위해서는 \".isna()\"를 한번 더 사용하여 데이터프레임의 서브셋을 생성할 수 있다. "
   ]
  },
  {
   "cell_type": "code",
   "execution_count": 46,
   "id": "991260e6",
   "metadata": {},
   "outputs": [],
   "source": [
    "# 결측치 제거 \n",
    "df_btc_price.dropna(inplace=True)"
   ]
  },
  {
   "cell_type": "markdown",
   "id": "94737a99",
   "metadata": {},
   "source": [
    "- 누락된 값을 제거하기 위해서 \".dropna()\"를 사용하면 된다. inplace 인수를 사용하면 데이터프레임을 덮어쓰기 할 수 있다. "
   ]
  },
  {
   "cell_type": "markdown",
   "id": "2b4e694a",
   "metadata": {},
   "source": [
    "#### 2-2. 문자열을 DateTime 객체로 변환"
   ]
  },
  {
   "cell_type": "code",
   "execution_count": 48,
   "id": "0a874423",
   "metadata": {},
   "outputs": [
    {
     "name": "stdout",
     "output_type": "stream",
     "text": [
      "<class 'pandas.core.frame.DataFrame'>\n",
      "RangeIndex: 124 entries, 0 to 123\n",
      "Data columns (total 3 columns):\n",
      " #   Column           Non-Null Count  Dtype  \n",
      "---  ------           --------------  -----  \n",
      " 0   MONTH            124 non-null    object \n",
      " 1   TSLA_WEB_SEARCH  124 non-null    int64  \n",
      " 2   TSLA_USD_CLOSE   124 non-null    float64\n",
      "dtypes: float64(1), int64(1), object(1)\n",
      "memory usage: 3.0+ KB\n"
     ]
    }
   ],
   "source": [
    "# 테슬라 데이터 정보 확인\n",
    "df_tesla.info()"
   ]
  },
  {
   "cell_type": "code",
   "execution_count": 49,
   "id": "b967365d",
   "metadata": {},
   "outputs": [
    {
     "name": "stdout",
     "output_type": "stream",
     "text": [
      "<class 'pandas.core.frame.DataFrame'>\n",
      "RangeIndex: 181 entries, 0 to 180\n",
      "Data columns (total 3 columns):\n",
      " #   Column                  Non-Null Count  Dtype  \n",
      "---  ------                  --------------  -----  \n",
      " 0   MONTH                   181 non-null    object \n",
      " 1   UE_BENEFITS_WEB_SEARCH  181 non-null    int64  \n",
      " 2   UNRATE                  181 non-null    float64\n",
      "dtypes: float64(1), int64(1), object(1)\n",
      "memory usage: 4.4+ KB\n"
     ]
    }
   ],
   "source": [
    "# 실업률 데이터 정보 확인\n",
    "df_unemployment.info()"
   ]
  },
  {
   "cell_type": "code",
   "execution_count": 50,
   "id": "68211d0d",
   "metadata": {},
   "outputs": [
    {
     "name": "stdout",
     "output_type": "stream",
     "text": [
      "<class 'pandas.core.frame.DataFrame'>\n",
      "Int64Index: 2203 entries, 0 to 2203\n",
      "Data columns (total 3 columns):\n",
      " #   Column  Non-Null Count  Dtype  \n",
      "---  ------  --------------  -----  \n",
      " 0   DATE    2203 non-null   object \n",
      " 1   CLOSE   2203 non-null   float64\n",
      " 2   VOLUME  2203 non-null   float64\n",
      "dtypes: float64(2), object(1)\n",
      "memory usage: 68.8+ KB\n"
     ]
    }
   ],
   "source": [
    "# 비트코인 가격 데이터 정보 확인\n",
    "df_btc_price.info()"
   ]
  },
  {
   "cell_type": "code",
   "execution_count": 51,
   "id": "61c29012",
   "metadata": {},
   "outputs": [
    {
     "name": "stdout",
     "output_type": "stream",
     "text": [
      "<class 'pandas.core.frame.DataFrame'>\n",
      "RangeIndex: 73 entries, 0 to 72\n",
      "Data columns (total 2 columns):\n",
      " #   Column           Non-Null Count  Dtype \n",
      "---  ------           --------------  ----- \n",
      " 0   MONTH            73 non-null     object\n",
      " 1   BTC_NEWS_SEARCH  73 non-null     int64 \n",
      "dtypes: int64(1), object(1)\n",
      "memory usage: 1.3+ KB\n"
     ]
    }
   ],
   "source": [
    "# 비트코인 트렌드 데이터 정보 확인\n",
    "df_btc_search.info()"
   ]
  },
  {
   "cell_type": "code",
   "execution_count": 57,
   "id": "645d59cd",
   "metadata": {},
   "outputs": [],
   "source": [
    "# 시간 데이터 타입 변경 (str -> datetime) \n",
    "df_tesla.MONTH = pd.to_datetime(df_tesla.MONTH)                # 테슬라 데이터 \n",
    "df_unemployment.MONTH = pd.to_datetime(df_unemployment.MONTH)  # 실업률 데이터 \n",
    "df_btc_price.DATE = pd.to_datetime(df_btc_price.DATE)          # 비트코인 가격 데이터 \n",
    "df_btc_search.MONTH = pd.to_datetime(df_btc_search.MONTH)      # 비트코인 트렌드 데이터 "
   ]
  },
  {
   "cell_type": "markdown",
   "id": "32fe47af",
   "metadata": {},
   "source": [
    "- 열의 모든 날짜 데이터는 문자열 형식이다. 이를 Datetime 객체로 변환하기 위해 \".to_datetime()\" 함수를 사용했다."
   ]
  },
  {
   "cell_type": "markdown",
   "id": "408ed970",
   "metadata": {},
   "source": [
    "#### 2-3. 시계열 데이터를 다시 샘플링하기 \n",
    "- 다음으로, 비트코인 가격과 비트코인 검색량 비교를 어떻게 할지에 대해 생각해볼 차례이다. 비트코인 가격은 일별 데이터지만 비트코인 검색 인기도는 월별 데이터이다. \n",
    "- 일별 데이터를 월별 데이터로 전환하기 위해 \".resample()\" 함수를 사용하면 된다. \n",
    "- 여기서 정해줄 것은 어떤 열을 사용할지(예를들면 DATE열)와 원하는 샘플 빈도(예를들면 rule)이다. \n",
    "- 우리는 월별 빈도를 원하므로 \"M\"을 사용한다. 시계열을 다른 빈도로 다시 샘플링 해야하는 경우 [판다스 문서](https://pandas.pydata.org/pandas-docs/stable/user_guide/timeseries.html#dateoffset-objects) 목록에서 다른 선택사항을 찾압로 수 있다(예를 들어, 연단위는 \"Y\", 분단위는 \"T\") \n",
    "- 샘플링이 끝나면 데이터를 어떻게 처리할지 파악해야 한다."
   ]
  },
  {
   "cell_type": "code",
   "execution_count": 61,
   "id": "bd0a4f54",
   "metadata": {},
   "outputs": [
    {
     "data": {
      "text/html": [
       "<div>\n",
       "<style scoped>\n",
       "    .dataframe tbody tr th:only-of-type {\n",
       "        vertical-align: middle;\n",
       "    }\n",
       "\n",
       "    .dataframe tbody tr th {\n",
       "        vertical-align: top;\n",
       "    }\n",
       "\n",
       "    .dataframe thead th {\n",
       "        text-align: right;\n",
       "    }\n",
       "</style>\n",
       "<table border=\"1\" class=\"dataframe\">\n",
       "  <thead>\n",
       "    <tr style=\"text-align: right;\">\n",
       "      <th></th>\n",
       "      <th>CLOSE</th>\n",
       "      <th>VOLUME</th>\n",
       "    </tr>\n",
       "    <tr>\n",
       "      <th>DATE</th>\n",
       "      <th></th>\n",
       "      <th></th>\n",
       "    </tr>\n",
       "  </thead>\n",
       "  <tbody>\n",
       "    <tr>\n",
       "      <th>2014-09-30</th>\n",
       "      <td>386.944000</td>\n",
       "      <td>34707300.0</td>\n",
       "    </tr>\n",
       "    <tr>\n",
       "      <th>2014-10-31</th>\n",
       "      <td>338.321014</td>\n",
       "      <td>12545400.0</td>\n",
       "    </tr>\n",
       "    <tr>\n",
       "      <th>2014-11-30</th>\n",
       "      <td>378.046997</td>\n",
       "      <td>9194440.0</td>\n",
       "    </tr>\n",
       "    <tr>\n",
       "      <th>2014-12-31</th>\n",
       "      <td>320.192993</td>\n",
       "      <td>13942900.0</td>\n",
       "    </tr>\n",
       "    <tr>\n",
       "      <th>2015-01-31</th>\n",
       "      <td>217.464005</td>\n",
       "      <td>23348200.0</td>\n",
       "    </tr>\n",
       "  </tbody>\n",
       "</table>\n",
       "</div>"
      ],
      "text/plain": [
       "                 CLOSE      VOLUME\n",
       "DATE                              \n",
       "2014-09-30  386.944000  34707300.0\n",
       "2014-10-31  338.321014  12545400.0\n",
       "2014-11-30  378.046997   9194440.0\n",
       "2014-12-31  320.192993  13942900.0\n",
       "2015-01-31  217.464005  23348200.0"
      ]
     },
     "execution_count": 61,
     "metadata": {},
     "output_type": "execute_result"
    }
   ],
   "source": [
    "# 해당 월말 가격 \n",
    "df_btc_monthly = df_btc_price.resample('M', on='DATE').last()\n",
    "df_btc_monthly.head()"
   ]
  },
  {
   "cell_type": "markdown",
   "id": "1fdaa7a4",
   "metadata": {},
   "source": [
    "- 이 경우, 매월 마지막으로 이용 가능한 가격, 즉 해당 월말의 가격이 필요하다."
   ]
  },
  {
   "cell_type": "code",
   "execution_count": 60,
   "id": "d378a100",
   "metadata": {},
   "outputs": [
    {
     "data": {
      "text/html": [
       "<div>\n",
       "<style scoped>\n",
       "    .dataframe tbody tr th:only-of-type {\n",
       "        vertical-align: middle;\n",
       "    }\n",
       "\n",
       "    .dataframe tbody tr th {\n",
       "        vertical-align: top;\n",
       "    }\n",
       "\n",
       "    .dataframe thead th {\n",
       "        text-align: right;\n",
       "    }\n",
       "</style>\n",
       "<table border=\"1\" class=\"dataframe\">\n",
       "  <thead>\n",
       "    <tr style=\"text-align: right;\">\n",
       "      <th></th>\n",
       "      <th>CLOSE</th>\n",
       "      <th>VOLUME</th>\n",
       "    </tr>\n",
       "    <tr>\n",
       "      <th>DATE</th>\n",
       "      <th></th>\n",
       "      <th></th>\n",
       "    </tr>\n",
       "  </thead>\n",
       "  <tbody>\n",
       "    <tr>\n",
       "      <th>2014-09-30</th>\n",
       "      <td>407.182428</td>\n",
       "      <td>2.934864e+07</td>\n",
       "    </tr>\n",
       "    <tr>\n",
       "      <th>2014-10-31</th>\n",
       "      <td>364.148873</td>\n",
       "      <td>2.912885e+07</td>\n",
       "    </tr>\n",
       "    <tr>\n",
       "      <th>2014-11-30</th>\n",
       "      <td>366.099799</td>\n",
       "      <td>2.199111e+07</td>\n",
       "    </tr>\n",
       "    <tr>\n",
       "      <th>2014-12-31</th>\n",
       "      <td>341.267871</td>\n",
       "      <td>1.784201e+07</td>\n",
       "    </tr>\n",
       "    <tr>\n",
       "      <th>2015-01-31</th>\n",
       "      <td>248.782547</td>\n",
       "      <td>3.544555e+07</td>\n",
       "    </tr>\n",
       "  </tbody>\n",
       "</table>\n",
       "</div>"
      ],
      "text/plain": [
       "                 CLOSE        VOLUME\n",
       "DATE                                \n",
       "2014-09-30  407.182428  2.934864e+07\n",
       "2014-10-31  364.148873  2.912885e+07\n",
       "2014-11-30  366.099799  2.199111e+07\n",
       "2014-12-31  341.267871  1.784201e+07\n",
       "2015-01-31  248.782547  3.544555e+07"
      ]
     },
     "execution_count": 60,
     "metadata": {},
     "output_type": "execute_result"
    }
   ],
   "source": [
    "# 한 달 동안 평균 가격을 원할 시 \n",
    "df_btc_monthly = df_btc_price.resample('M', on='DATE').mean()\n",
    "df_btc_monthly.head()"
   ]
  },
  {
   "cell_type": "markdown",
   "id": "56c01564",
   "metadata": {},
   "source": [
    "- 만약 한 달 동안의 평균 가격을 원한다면 위와 같이 처리할 수 있다."
   ]
  },
  {
   "cell_type": "code",
   "execution_count": 62,
   "id": "e88334b2",
   "metadata": {},
   "outputs": [
    {
     "name": "stdout",
     "output_type": "stream",
     "text": [
      "(73, 2)\n"
     ]
    },
    {
     "data": {
      "text/html": [
       "<div>\n",
       "<style scoped>\n",
       "    .dataframe tbody tr th:only-of-type {\n",
       "        vertical-align: middle;\n",
       "    }\n",
       "\n",
       "    .dataframe tbody tr th {\n",
       "        vertical-align: top;\n",
       "    }\n",
       "\n",
       "    .dataframe thead th {\n",
       "        text-align: right;\n",
       "    }\n",
       "</style>\n",
       "<table border=\"1\" class=\"dataframe\">\n",
       "  <thead>\n",
       "    <tr style=\"text-align: right;\">\n",
       "      <th></th>\n",
       "      <th>CLOSE</th>\n",
       "      <th>VOLUME</th>\n",
       "    </tr>\n",
       "    <tr>\n",
       "      <th>DATE</th>\n",
       "      <th></th>\n",
       "      <th></th>\n",
       "    </tr>\n",
       "  </thead>\n",
       "  <tbody>\n",
       "    <tr>\n",
       "      <th>2014-09-30</th>\n",
       "      <td>386.944000</td>\n",
       "      <td>34707300.0</td>\n",
       "    </tr>\n",
       "    <tr>\n",
       "      <th>2014-10-31</th>\n",
       "      <td>338.321014</td>\n",
       "      <td>12545400.0</td>\n",
       "    </tr>\n",
       "    <tr>\n",
       "      <th>2014-11-30</th>\n",
       "      <td>378.046997</td>\n",
       "      <td>9194440.0</td>\n",
       "    </tr>\n",
       "    <tr>\n",
       "      <th>2014-12-31</th>\n",
       "      <td>320.192993</td>\n",
       "      <td>13942900.0</td>\n",
       "    </tr>\n",
       "    <tr>\n",
       "      <th>2015-01-31</th>\n",
       "      <td>217.464005</td>\n",
       "      <td>23348200.0</td>\n",
       "    </tr>\n",
       "  </tbody>\n",
       "</table>\n",
       "</div>"
      ],
      "text/plain": [
       "                 CLOSE      VOLUME\n",
       "DATE                              \n",
       "2014-09-30  386.944000  34707300.0\n",
       "2014-10-31  338.321014  12545400.0\n",
       "2014-11-30  378.046997   9194440.0\n",
       "2014-12-31  320.192993  13942900.0\n",
       "2015-01-31  217.464005  23348200.0"
      ]
     },
     "execution_count": 62,
     "metadata": {},
     "output_type": "execute_result"
    }
   ],
   "source": [
    "# 최종 샘플링 데이터 추출\n",
    "print(df_btc_monthly.shape)\n",
    "df_btc_monthly.head()"
   ]
  },
  {
   "cell_type": "markdown",
   "id": "e7447800",
   "metadata": {},
   "source": [
    "- 가격 데이터에는 73행이 있다. 이는 검색 데이터와 동일한 결과이다."
   ]
  },
  {
   "cell_type": "code",
   "execution_count": null,
   "id": "b946f5e2",
   "metadata": {},
   "outputs": [],
   "source": []
  }
 ],
 "metadata": {
  "kernelspec": {
   "display_name": "Python 3 (ipykernel)",
   "language": "python",
   "name": "python3"
  },
  "language_info": {
   "codemirror_mode": {
    "name": "ipython",
    "version": 3
   },
   "file_extension": ".py",
   "mimetype": "text/x-python",
   "name": "python",
   "nbconvert_exporter": "python",
   "pygments_lexer": "ipython3",
   "version": "3.8.12"
  }
 },
 "nbformat": 4,
 "nbformat_minor": 5
}
